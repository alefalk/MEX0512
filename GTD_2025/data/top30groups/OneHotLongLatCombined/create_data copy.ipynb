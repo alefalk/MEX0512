{
 "cells": [
  {
   "cell_type": "code",
   "execution_count": 5,
   "id": "d100f1c3",
   "metadata": {},
   "outputs": [],
   "source": [
    "import pandas as pd\n",
    "import numpy as np\n",
    "import os\n",
    "from sklearn.preprocessing import StandardScaler\n"
   ]
  },
  {
   "cell_type": "code",
   "execution_count": 6,
   "id": "279e7a02",
   "metadata": {},
   "outputs": [],
   "source": [
    "from sklearn.preprocessing import StandardScaler\n",
    "import pandas as pd\n",
    "\n",
    "def preprocess_data(traindata, testdata):\n",
    "    y_train = traindata['gname']\n",
    "    y_test = testdata['gname']\n",
    "\n",
    "    train_features = traindata.drop(columns=['gname'])\n",
    "    test_features = testdata.drop(columns=['gname'])\n",
    "\n",
    "    geodata = ['longitude', 'latitude']\n",
    "    numeric_cols = [col for col in train_features.columns if col not in geodata]\n",
    "\n",
    "    # Create longlat tuple feature and one-hot encode it\n",
    "    combined_geo = pd.concat([train_features[geodata], test_features[geodata]])\n",
    "    combined_geo['longlat'] = list(zip(combined_geo['longitude'], combined_geo['latitude']))\n",
    "    combined_geo = combined_geo.drop(columns=geodata)\n",
    "    geo_onehot = pd.get_dummies(combined_geo, columns=['longlat'])\n",
    "\n",
    "    train_geo = geo_onehot.iloc[:len(train_features)]\n",
    "    test_geo = geo_onehot.iloc[len(train_features):]\n",
    "\n",
    "    # Keep unscaled numeric features\n",
    "    train_num_unscaled = train_features[numeric_cols]\n",
    "    test_num_unscaled = test_features[numeric_cols]\n",
    "\n",
    "    # Scale numeric features\n",
    "    scaler = StandardScaler()\n",
    "    train_num_scaled = pd.DataFrame(scaler.fit_transform(train_num_unscaled), columns=numeric_cols, index=train_features.index)\n",
    "    test_num_scaled = pd.DataFrame(scaler.transform(test_num_unscaled), columns=numeric_cols, index=test_features.index)\n",
    "\n",
    "    # Combine scaled features with geo one-hot features\n",
    "    X_train_scaled = pd.concat([train_num_scaled, train_geo], axis=1)\n",
    "    X_test_scaled = pd.concat([test_num_scaled, test_geo], axis=1)\n",
    "\n",
    "    # Combine unscaled features with geo one-hot features\n",
    "    X_train_unscaled = pd.concat([train_num_unscaled, train_geo], axis=1)\n",
    "    X_test_unscaled = pd.concat([test_num_unscaled, test_geo], axis=1)\n",
    "\n",
    "    # Add target column back\n",
    "    scaled_train = pd.concat([X_train_scaled, y_train], axis=1)\n",
    "    scaled_test = pd.concat([X_test_scaled, y_test], axis=1)\n",
    "\n",
    "    unscaled_train = pd.concat([X_train_unscaled, y_train], axis=1)\n",
    "    unscaled_test = pd.concat([X_test_unscaled, y_test], axis=1)\n",
    "\n",
    "    return unscaled_train, unscaled_test, scaled_train, scaled_test\n",
    "\n"
   ]
  },
  {
   "cell_type": "code",
   "execution_count": 7,
   "id": "4523e56b",
   "metadata": {},
   "outputs": [],
   "source": [
    "if not os.path.isdir(\"scaledtrain1\"):\n",
    "    os.mkdir(\"scaledtrain1\")\n",
    "if not os.path.isdir(\"scaledtest1\"):\n",
    "    os.mkdir(\"scaledtest1\")\n",
    "if not os.path.isdir(\"train1\"):\n",
    "    os.mkdir(\"train1\")\n",
    "if not os.path.isdir(\"test1\"):\n",
    "    os.mkdir(\"test1\")\n",
    "if not os.path.isdir(\"combined\"):\n",
    "    os.mkdir(\"combined\")"
   ]
  },
  {
   "cell_type": "code",
   "execution_count": 8,
   "id": "0b17068d",
   "metadata": {},
   "outputs": [
    {
     "name": "stdout",
     "output_type": "stream",
     "text": [
      "Size train: 2100, Shape train: (2100, 1804)\n",
      "Size test: 900, Shape test: (900, 1804)\n",
      "Size train: 4200, Shape train: (4200, 3174)\n",
      "Size test: 1800, Shape test: (1800, 3174)\n",
      "Size train: 6300, Shape train: (6300, 4393)\n",
      "Size test: 2700, Shape test: (2700, 4393)\n",
      "Size train: 10020, Shape train: (10020, 6310)\n",
      "Size test: 4320, Shape test: (4320, 6310)\n"
     ]
    }
   ],
   "source": [
    "trainpath = '../traindata'\n",
    "testpath = '../testdata'\n",
    "\n",
    "partitions = [100, 200, 300, 478]\n",
    "\n",
    "\n",
    "for partition in partitions:\n",
    "    traindata = pd.read_csv(f'{trainpath}/train{partition}.csv', encoding='ISO-8859-1')\n",
    "    testdata = pd.read_csv(f'{testpath}/test{partition}.csv', encoding='ISO-8859-1')\n",
    "\n",
    "    # Drop irrelevant columns\n",
    "    cols_to_drop = ['Unnamed: 0', 'country', 'city', 'region', 'provstate', 'natlty1', 'specificity', 'iyear', 'imonth', 'iday']\n",
    "    traindata = traindata.drop(columns=cols_to_drop)\n",
    "    testdata = testdata.drop(columns=cols_to_drop)\n",
    "\n",
    "    # Preprocess features\n",
    "    traindata, testdata, scaledtrain, scaledtest = preprocess_data(traindata, testdata)\n",
    "\n",
    "    combined = pd.concat([traindata, testdata])\n",
    "\n",
    "    print(f'Size train: {len(traindata)}, Shape train: {traindata.shape}')\n",
    "    print(f'Size test: {len(testdata)}, Shape test: {testdata.shape}')\n",
    "    \n",
    "    traindata.to_csv(f'train1/train{partition}.csv', index=False)\n",
    "    testdata.to_csv(f'test1/test{partition}.csv', index=False)\n",
    "    combined.to_csv(f'combined/combined{partition}.csv', index=False)\n",
    "    scaledtrain.to_csv(f'scaledtrain1/train{partition}.csv', index=False)\n",
    "    scaledtest.to_csv(f'scaledtest1/test{partition}.csv', index=False)"
   ]
  }
 ],
 "metadata": {
  "kernelspec": {
   "display_name": "base",
   "language": "python",
   "name": "python3"
  },
  "language_info": {
   "codemirror_mode": {
    "name": "ipython",
    "version": 3
   },
   "file_extension": ".py",
   "mimetype": "text/x-python",
   "name": "python",
   "nbconvert_exporter": "python",
   "pygments_lexer": "ipython3",
   "version": "3.11.9"
  }
 },
 "nbformat": 4,
 "nbformat_minor": 5
}
