{
 "cells": [
  {
   "cell_type": "code",
   "execution_count": 1,
   "id": "d100f1c3",
   "metadata": {},
   "outputs": [],
   "source": [
    "import pandas as pd\n",
    "import numpy as np\n",
    "import os\n",
    "from sklearn.preprocessing import StandardScaler\n"
   ]
  },
  {
   "cell_type": "code",
   "execution_count": 2,
   "id": "279e7a02",
   "metadata": {},
   "outputs": [],
   "source": [
    "# One hot encode and normalize\n",
    "def preprocess_data(traindata, testdata):\n",
    "    y_train = traindata['gname']\n",
    "    y_test = testdata['gname']\n",
    "\n",
    "    train_features = traindata.drop(columns=['gname'])\n",
    "    test_features = testdata.drop(columns=['gname'])\n",
    "\n",
    "    geodata = ['longitude', 'latitude']\n",
    "    numeric_cols = [col for col in train_features.columns if col not in geodata]\n",
    "\n",
    "    combined_geo = pd.concat([train_features[geodata], test_features[geodata]])\n",
    "    geo_onehot = pd.get_dummies(combined_geo, columns=geodata)\n",
    "\n",
    "    train_geo = geo_onehot.iloc[:len(train_features)]\n",
    "    test_geo = geo_onehot.iloc[len(train_features):]\n",
    "\n",
    "    scaler = StandardScaler()\n",
    "    train_num = pd.DataFrame(scaler.fit_transform(train_features[numeric_cols]), columns=numeric_cols, index=train_features.index)\n",
    "    test_num = pd.DataFrame(scaler.transform(test_features[numeric_cols]), columns=numeric_cols, index=test_features.index)\n",
    "\n",
    "    X_train = pd.concat([train_num, train_geo], axis=1)\n",
    "    X_test = pd.concat([test_num, test_geo], axis=1)\n",
    "\n",
    "    traindata = pd.concat([X_train, y_train], axis=1)\n",
    "    testdata = pd.concat([X_test, y_test], axis=1)\n",
    "\n",
    "    return traindata, testdata\n"
   ]
  },
  {
   "cell_type": "code",
   "execution_count": 3,
   "id": "4523e56b",
   "metadata": {},
   "outputs": [],
   "source": [
    "if not os.path.isdir(\"train\"):\n",
    "    os.mkdir(\"train\")\n",
    "if not os.path.isdir(\"test\"):\n",
    "    os.mkdir(\"test\")"
   ]
  },
  {
   "cell_type": "code",
   "execution_count": 4,
   "id": "0b17068d",
   "metadata": {},
   "outputs": [
    {
     "name": "stdout",
     "output_type": "stream",
     "text": [
      "Size train: 2100, Shape train: (2100, 3583)\n",
      "Size test: 900, Shape test: (900, 3583)\n",
      "Size train: 4200, Shape train: (4200, 6306)\n",
      "Size test: 1800, Shape test: (1800, 6306)\n",
      "Size train: 6300, Shape train: (6300, 8725)\n",
      "Size test: 2700, Shape test: (2700, 8725)\n",
      "Size train: 10020, Shape train: (10020, 12512)\n",
      "Size test: 4320, Shape test: (4320, 12512)\n"
     ]
    }
   ],
   "source": [
    "trainpath = '../traindata'\n",
    "testpath = '../testdata'\n",
    "\n",
    "partitions = [100, 200, 300, 478]\n",
    "\n",
    "for partition in partitions:\n",
    "    traindata = pd.read_csv(f'{trainpath}/train{partition}.csv', encoding='ISO-8859-1')\n",
    "    testdata = pd.read_csv(f'{testpath}/test{partition}.csv', encoding='ISO-8859-1')\n",
    "\n",
    "    # Drop irrelevant columns\n",
    "    cols_to_drop = ['Unnamed: 0', 'country', 'city', 'region', 'provstate', 'natlty1', 'specificity', 'iyear', 'imonth', 'iday']\n",
    "    traindata = traindata.drop(columns=cols_to_drop)\n",
    "    testdata = testdata.drop(columns=cols_to_drop)\n",
    "\n",
    "    # Preprocess features\n",
    "    traindata, testdata = preprocess_data(traindata, testdata)\n",
    "\n",
    "    print(f'Size train: {len(traindata)}, Shape train: {traindata.shape}')\n",
    "    print(f'Size test: {len(testdata)}, Shape test: {testdata.shape}')\n",
    "\n",
    "    traindata.to_csv(f'train/train{partition}.csv', index=False)\n",
    "    testdata.to_csv(f'test/test{partition}.csv', index=False)\n"
   ]
  }
 ],
 "metadata": {
  "kernelspec": {
   "display_name": "base",
   "language": "python",
   "name": "python3"
  },
  "language_info": {
   "codemirror_mode": {
    "name": "ipython",
    "version": 3
   },
   "file_extension": ".py",
   "mimetype": "text/x-python",
   "name": "python",
   "nbconvert_exporter": "python",
   "pygments_lexer": "ipython3",
   "version": "3.11.9"
  }
 },
 "nbformat": 4,
 "nbformat_minor": 5
}
