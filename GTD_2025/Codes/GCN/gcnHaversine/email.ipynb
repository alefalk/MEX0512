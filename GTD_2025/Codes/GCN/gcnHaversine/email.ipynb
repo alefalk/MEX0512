{
 "cells": [
  {
   "cell_type": "code",
   "execution_count": 1,
   "id": "ec8b7c2e",
   "metadata": {},
   "outputs": [
    {
     "name": "stderr",
     "output_type": "stream",
     "text": [
      "/opt/conda/lib/python3.11/site-packages/transformers/utils/hub.py:127: FutureWarning: Using `TRANSFORMERS_CACHE` is deprecated and will be removed in v5 of Transformers. Use `HF_HOME` instead.\n",
      "  warnings.warn(\n"
     ]
    }
   ],
   "source": [
    "import torch\n",
    "import numpy as np\n",
    "import pandas as pd\n",
    "from haversine import haversine, Unit\n",
    "from torch_geometric.data import Data\n",
    "from torch_geometric.loader import DataLoader\n",
    "from torch_geometric.nn import GCNConv, global_mean_pool\n",
    "import torch.nn.functional as F\n",
    "from sklearn.preprocessing import LabelEncoder, StandardScaler\n"
   ]
  },
  {
   "cell_type": "code",
   "execution_count": 2,
   "id": "0152b694",
   "metadata": {},
   "outputs": [],
   "source": [
    "partition = 100"
   ]
  },
  {
   "cell_type": "markdown",
   "id": "ec6bac11",
   "metadata": {},
   "source": [
    "# 1. Load Dataset"
   ]
  },
  {
   "cell_type": "code",
   "execution_count": 3,
   "id": "0a56371a",
   "metadata": {},
   "outputs": [],
   "source": [
    "trainpath = f'../../../data/top30groups/LongLatCombined/train1/train{partition}.csv'\n",
    "testpath = f'../../../data/top30groups/LongLatCombined/test1/test{partition}.csv'\n",
    "traindata = pd.read_csv(trainpath, encoding='ISO-8859-1')\n",
    "testdata = pd.read_csv(testpath, encoding='ISO-8859-1')"
   ]
  },
  {
   "cell_type": "code",
   "execution_count": 4,
   "id": "3c53a076",
   "metadata": {},
   "outputs": [],
   "source": [
    "combined = pd.concat([traindata, testdata], axis = 0)"
   ]
  },
  {
   "cell_type": "code",
   "execution_count": 5,
   "id": "1636c2ea",
   "metadata": {},
   "outputs": [],
   "source": [
    "# Assume 'combined' has 3000 attacks with 'longitude', 'latitude', 'gname'\n",
    "combined['location'] = list(zip(combined['longitude'], combined['latitude']))\n",
    "unique_locations = combined['location'].drop_duplicates().reset_index(drop=True)\n",
    "\n",
    "location2id = {loc: idx for idx, loc in enumerate(unique_locations)}\n",
    "combined['location_id'] = combined['location'].map(location2id)\n",
    "\n",
    "# Encode labels\n",
    "le = LabelEncoder()\n",
    "combined['label'] = le.fit_transform(combined['gname'])\n",
    "\n",
    "# Get global node features\n",
    "coords = np.array([list(loc) for loc in unique_locations])  # [1790, 2]\n",
    "scaler = StandardScaler()\n",
    "x_global = scaler.fit_transform(coords)  # standardized features\n",
    "\n",
    "# Build global edge list using 1km Haversine\n",
    "edges = []\n",
    "coords_latlon = [(lat, lon) for lon, lat in unique_locations]\n",
    "for i in range(len(coords_latlon)):\n",
    "    for j in range(i + 1, len(coords_latlon)):\n",
    "        if haversine(coords_latlon[i], coords_latlon[j], Unit.KILOMETERS) <= 1.0:\n",
    "            edges.append((i, j))\n",
    "            edges.append((j, i))\n",
    "\n",
    "global_edge_index = torch.tensor(edges, dtype=torch.long).T  # shape [2, num_edges]\n"
   ]
  },
  {
   "cell_type": "code",
   "execution_count": 6,
   "id": "131e134f",
   "metadata": {},
   "outputs": [],
   "source": [
    "def get_subgraph(loc_id, x_global, edge_index_global):\n",
    "    # Get neighbors of loc_id\n",
    "    neighbors = edge_index_global[1][edge_index_global[0] == loc_id].tolist()\n",
    "    if loc_id not in neighbors:\n",
    "        neighbors.append(loc_id)\n",
    "\n",
    "    neighbors = list(set(neighbors))\n",
    "    idx_map = {old: new for new, old in enumerate(neighbors)}\n",
    "    sub_edge_list = []\n",
    "\n",
    "    for i, j in zip(*edge_index_global.numpy()):\n",
    "        if i in neighbors and j in neighbors:\n",
    "            sub_edge_list.append((idx_map[i], idx_map[j]))\n",
    "\n",
    "    if not sub_edge_list:\n",
    "        sub_edge_list = [(0, 0)]  # self-loop on center node\n",
    "\n",
    "\n",
    "    edge_index = torch.tensor(sub_edge_list, dtype=torch.long).T\n",
    "    x = torch.tensor(x_global[neighbors], dtype=torch.float)\n",
    "    center_idx = idx_map[loc_id]\n",
    "\n",
    "    return x, edge_index, center_idx\n"
   ]
  },
  {
   "cell_type": "code",
   "execution_count": 7,
   "id": "34a6d34b",
   "metadata": {},
   "outputs": [],
   "source": [
    "data_list = []\n",
    "\n",
    "for _, row in combined.iterrows():\n",
    "    loc_id = row['location_id']\n",
    "    label = row['label']\n",
    "    x, edge_index, center_idx = get_subgraph(loc_id, x_global, global_edge_index)\n",
    "    data = Data(x=x, edge_index=edge_index, y=torch.tensor(label), center=center_idx)\n",
    "    data_list.append(data)\n"
   ]
  },
  {
   "cell_type": "code",
   "execution_count": 8,
   "id": "debca5d6",
   "metadata": {},
   "outputs": [],
   "source": [
    "# After you build `data_list`, we now split based on original splits\n",
    "\n",
    "# Step 1: Recreate location tuple for matching\n",
    "traindata['location'] = list(zip(traindata['longitude'], traindata['latitude']))\n",
    "testdata['location'] = list(zip(testdata['longitude'], testdata['latitude']))\n",
    "\n",
    "# Step 2: Build a set of locations in train/test\n",
    "train_locs = set(traindata['location'])\n",
    "test_locs = set(testdata['location'])\n",
    "\n",
    "# Step 3: Split data_list based on attack's location\n",
    "train_data = []\n",
    "test_data = []\n",
    "\n",
    "for data, row in zip(data_list, combined.itertuples()):\n",
    "    loc = row.location  # (longitude, latitude)\n",
    "    if loc in train_locs:\n",
    "        train_data.append(data)\n",
    "    elif loc in test_locs:\n",
    "        test_data.append(data)\n",
    "    # else: skip (e.g., malformed entry)\n",
    "\n",
    "# Step 4: Create DataLoaders\n",
    "train_loader = DataLoader(train_data, batch_size=32, shuffle=True)\n",
    "test_loader = DataLoader(test_data, batch_size=32)\n"
   ]
  },
  {
   "cell_type": "code",
   "execution_count": 9,
   "id": "0cbfb38c",
   "metadata": {},
   "outputs": [],
   "source": [
    "import torch.nn as nn\n",
    "\n",
    "class GCN(nn.Module):\n",
    "    def __init__(self, in_channels, hidden_channels, out_channels):\n",
    "        super().__init__()\n",
    "        self.conv1 = GCNConv(in_channels, hidden_channels)\n",
    "        self.conv2 = GCNConv(hidden_channels, hidden_channels)\n",
    "        self.classifier = nn.Linear(hidden_channels, out_channels)\n",
    "\n",
    "    def forward(self, x, edge_index, batch, center_indices):\n",
    "        x = self.conv1(x, edge_index)\n",
    "        x = F.relu(x)\n",
    "        x = self.conv2(x, edge_index)\n",
    "\n",
    "        # Extract central node embeddings per graph\n",
    "        out = x[center_indices]\n",
    "        return F.log_softmax(self.classifier(out), dim=1)\n"
   ]
  },
  {
   "cell_type": "code",
   "execution_count": 18,
   "id": "7e47318b",
   "metadata": {},
   "outputs": [
    {
     "data": {
      "text/plain": [
       "latitude            -11.967368\n",
       "longitude           -76.978462\n",
       "gname        Shining Path (SL)\n",
       "Name: 0, dtype: object"
      ]
     },
     "execution_count": 18,
     "metadata": {},
     "output_type": "execute_result"
    }
   ],
   "source": [
    "traindata[['latitude', 'longitude', 'gname']].iloc[0]"
   ]
  },
  {
   "cell_type": "code",
   "execution_count": 20,
   "id": "74be6904",
   "metadata": {},
   "outputs": [
    {
     "data": {
      "text/plain": [
       "array(['Shining Path (SL)'], dtype=object)"
      ]
     },
     "execution_count": 20,
     "metadata": {},
     "output_type": "execute_result"
    }
   ],
   "source": [
    "le.inverse_transform([25])"
   ]
  },
  {
   "cell_type": "code",
   "execution_count": 16,
   "id": "979e9da3",
   "metadata": {},
   "outputs": [
    {
     "name": "stdout",
     "output_type": "stream",
     "text": [
      "-76.978462 -11.967368 Shining Path (SL)\n",
      "Data(x=[1, 2], edge_index=[2, 1], y=25, center=0)\n"
     ]
    }
   ],
   "source": [
    "print(traindata.iloc[0]['longitude'], traindata.iloc[0]['latitude'], traindata.iloc[0]['gname'])\n",
    "print(train_data[0])\n"
   ]
  },
  {
   "cell_type": "code",
   "execution_count": 14,
   "id": "b499f492",
   "metadata": {},
   "outputs": [],
   "source": [
    "device = torch.device('cuda' if torch.cuda.is_available() else 'cpu')\n",
    "model = GCN(in_channels=2, hidden_channels=32, out_channels=len(le.classes_)).to(device)\n",
    "optimizer = torch.optim.Adam(model.parameters(), lr=0.01)\n",
    "criterion = nn.CrossEntropyLoss()\n",
    "\n",
    "def train():\n",
    "    model.train()\n",
    "    total_loss = 0\n",
    "    for batch in train_loader:\n",
    "        print(\"Batch.x shape:\", batch.x.shape)                  # [total_nodes_in_batch, num_features]\n",
    "        print(\"Batch.edge_index shape:\", batch.edge_index.shape)  # [2, num_edges]\n",
    "        print(\"Batch.y shape:\", batch.y.shape)                  # [batch_size]\n",
    "        print(\"Batch.batch shape:\", batch.batch.shape)          # [total_nodes_in_batch]\n",
    "        print(\"Center indices:\", batch.center)                  # [batch_size]\n",
    "        print()\n",
    "        print(\"Center node features:\")\n",
    "        print(batch.x[batch.center])\n",
    "        print()\n",
    "        for i in range(len(batch.y)):\n",
    "            graph_idx = (batch.batch == i).nonzero(as_tuple=True)[0]\n",
    "            assert batch.center[i].item() in graph_idx, f\"Center index {batch.center[i]} not in graph {i}\"\n",
    "        break  # only one batch to inspect\n",
    "        batch = batch.to(device)\n",
    "        optimizer.zero_grad()\n",
    "        out = model(batch.x, batch.edge_index, batch.batch, batch.center)\n",
    "        loss = criterion(out, batch.y)\n",
    "        loss.backward()\n",
    "        optimizer.step()\n",
    "        total_loss += loss.item()\n",
    "    return total_loss / len(train_loader)\n",
    "\n",
    "@torch.no_grad()\n",
    "def evaluate(loader):\n",
    "    model.eval()\n",
    "    correct = 0\n",
    "    total = 0\n",
    "    for batch in loader:\n",
    "        batch = batch.to(device)\n",
    "        out = model(batch.x, batch.edge_index, batch.batch, batch.center)\n",
    "        pred = out.argmax(dim=1)\n",
    "        correct += (pred == batch.y).sum().item()\n",
    "        total += batch.y.size(0)\n",
    "    return correct / total\n"
   ]
  },
  {
   "cell_type": "code",
   "execution_count": 15,
   "id": "a0e5c48d",
   "metadata": {},
   "outputs": [
    {
     "name": "stdout",
     "output_type": "stream",
     "text": [
      "Batch.x shape: torch.Size([32, 2])\n",
      "Batch.edge_index shape: torch.Size([2, 32])\n",
      "Batch.y shape: torch.Size([32])\n",
      "Batch.batch shape: torch.Size([32])\n",
      "Center indices: tensor([0, 0, 0, 0, 0, 0, 0, 0, 0, 0, 0, 0, 0, 0, 0, 0, 0, 0, 0, 0, 0, 0, 0, 0,\n",
      "        0, 0, 0, 0, 0, 0, 0, 0])\n",
      "\n",
      "Center node features:\n",
      "tensor([[0.1770, 0.8962],\n",
      "        [0.1770, 0.8962],\n",
      "        [0.1770, 0.8962],\n",
      "        [0.1770, 0.8962],\n",
      "        [0.1770, 0.8962],\n",
      "        [0.1770, 0.8962],\n",
      "        [0.1770, 0.8962],\n",
      "        [0.1770, 0.8962],\n",
      "        [0.1770, 0.8962],\n",
      "        [0.1770, 0.8962],\n",
      "        [0.1770, 0.8962],\n",
      "        [0.1770, 0.8962],\n",
      "        [0.1770, 0.8962],\n",
      "        [0.1770, 0.8962],\n",
      "        [0.1770, 0.8962],\n",
      "        [0.1770, 0.8962],\n",
      "        [0.1770, 0.8962],\n",
      "        [0.1770, 0.8962],\n",
      "        [0.1770, 0.8962],\n",
      "        [0.1770, 0.8962],\n",
      "        [0.1770, 0.8962],\n",
      "        [0.1770, 0.8962],\n",
      "        [0.1770, 0.8962],\n",
      "        [0.1770, 0.8962],\n",
      "        [0.1770, 0.8962],\n",
      "        [0.1770, 0.8962],\n",
      "        [0.1770, 0.8962],\n",
      "        [0.1770, 0.8962],\n",
      "        [0.1770, 0.8962],\n",
      "        [0.1770, 0.8962],\n",
      "        [0.1770, 0.8962],\n",
      "        [0.1770, 0.8962]])\n",
      "\n"
     ]
    },
    {
     "ename": "AssertionError",
     "evalue": "Center index 0 not in graph 1",
     "output_type": "error",
     "traceback": [
      "\u001b[0;31m---------------------------------------------------------------------------\u001b[0m",
      "\u001b[0;31mAssertionError\u001b[0m                            Traceback (most recent call last)",
      "Cell \u001b[0;32mIn[15], line 2\u001b[0m\n\u001b[1;32m      1\u001b[0m \u001b[38;5;28;01mfor\u001b[39;00m epoch \u001b[38;5;129;01min\u001b[39;00m \u001b[38;5;28mrange\u001b[39m(\u001b[38;5;241m1\u001b[39m, \u001b[38;5;241m2\u001b[39m):\n\u001b[0;32m----> 2\u001b[0m     loss \u001b[38;5;241m=\u001b[39m \u001b[43mtrain\u001b[49m\u001b[43m(\u001b[49m\u001b[43m)\u001b[49m\n\u001b[1;32m      3\u001b[0m     train_acc \u001b[38;5;241m=\u001b[39m evaluate(train_loader)\n\u001b[1;32m      4\u001b[0m     test_acc \u001b[38;5;241m=\u001b[39m evaluate(test_loader)\n",
      "Cell \u001b[0;32mIn[14], line 21\u001b[0m, in \u001b[0;36mtrain\u001b[0;34m()\u001b[0m\n\u001b[1;32m     19\u001b[0m \u001b[38;5;28;01mfor\u001b[39;00m i \u001b[38;5;129;01min\u001b[39;00m \u001b[38;5;28mrange\u001b[39m(\u001b[38;5;28mlen\u001b[39m(batch\u001b[38;5;241m.\u001b[39my)):\n\u001b[1;32m     20\u001b[0m     graph_idx \u001b[38;5;241m=\u001b[39m (batch\u001b[38;5;241m.\u001b[39mbatch \u001b[38;5;241m==\u001b[39m i)\u001b[38;5;241m.\u001b[39mnonzero(as_tuple\u001b[38;5;241m=\u001b[39m\u001b[38;5;28;01mTrue\u001b[39;00m)[\u001b[38;5;241m0\u001b[39m]\n\u001b[0;32m---> 21\u001b[0m     \u001b[38;5;28;01massert\u001b[39;00m batch\u001b[38;5;241m.\u001b[39mcenter[i]\u001b[38;5;241m.\u001b[39mitem() \u001b[38;5;129;01min\u001b[39;00m graph_idx, \u001b[38;5;124mf\u001b[39m\u001b[38;5;124m\"\u001b[39m\u001b[38;5;124mCenter index \u001b[39m\u001b[38;5;132;01m{\u001b[39;00mbatch\u001b[38;5;241m.\u001b[39mcenter[i]\u001b[38;5;132;01m}\u001b[39;00m\u001b[38;5;124m not in graph \u001b[39m\u001b[38;5;132;01m{\u001b[39;00mi\u001b[38;5;132;01m}\u001b[39;00m\u001b[38;5;124m\"\u001b[39m\n\u001b[1;32m     22\u001b[0m \u001b[38;5;28;01mbreak\u001b[39;00m  \u001b[38;5;66;03m# only one batch to inspect\u001b[39;00m\n\u001b[1;32m     23\u001b[0m batch \u001b[38;5;241m=\u001b[39m batch\u001b[38;5;241m.\u001b[39mto(device)\n",
      "\u001b[0;31mAssertionError\u001b[0m: Center index 0 not in graph 1"
     ]
    }
   ],
   "source": [
    "for epoch in range(1, 2):\n",
    "    loss = train()\n",
    "    train_acc = evaluate(train_loader)\n",
    "    test_acc = evaluate(test_loader)\n",
    "    print(f\"Epoch {epoch:02d}, Loss: {loss:.4f}, Train Acc: {train_acc:.4f}, Test Acc: {test_acc:.4f}\")\n"
   ]
  }
 ],
 "metadata": {
  "kernelspec": {
   "display_name": "Python 3",
   "language": "python",
   "name": "python3"
  },
  "language_info": {
   "codemirror_mode": {
    "name": "ipython",
    "version": 3
   },
   "file_extension": ".py",
   "mimetype": "text/x-python",
   "name": "python",
   "nbconvert_exporter": "python",
   "pygments_lexer": "ipython3",
   "version": "3.11.9"
  }
 },
 "nbformat": 4,
 "nbformat_minor": 5
}
