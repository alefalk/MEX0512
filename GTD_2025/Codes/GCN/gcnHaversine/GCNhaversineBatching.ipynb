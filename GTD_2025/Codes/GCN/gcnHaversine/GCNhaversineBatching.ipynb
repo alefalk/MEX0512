{
 "cells": [
  {
   "cell_type": "code",
   "execution_count": 1,
   "id": "ec8b7c2e",
   "metadata": {},
   "outputs": [
    {
     "name": "stderr",
     "output_type": "stream",
     "text": [
      "/opt/conda/lib/python3.11/site-packages/transformers/utils/hub.py:127: FutureWarning: Using `TRANSFORMERS_CACHE` is deprecated and will be removed in v5 of Transformers. Use `HF_HOME` instead.\n",
      "  warnings.warn(\n"
     ]
    }
   ],
   "source": [
    "import torch\n",
    "import numpy as np\n",
    "import pandas as pd\n",
    "from haversine import haversine, Unit\n",
    "from torch_geometric.data import Data\n",
    "from torch_geometric.loader import DataLoader\n",
    "from torch_geometric.nn import GCNConv, global_mean_pool\n",
    "import torch.nn.functional as F\n",
    "from sklearn.preprocessing import LabelEncoder, StandardScaler\n"
   ]
  },
  {
   "cell_type": "code",
   "execution_count": 2,
   "id": "0152b694",
   "metadata": {},
   "outputs": [],
   "source": [
    "partition = 100"
   ]
  },
  {
   "cell_type": "markdown",
   "id": "ec6bac11",
   "metadata": {},
   "source": [
    "# 1. Load Dataset"
   ]
  },
  {
   "cell_type": "code",
   "execution_count": 3,
   "id": "0a56371a",
   "metadata": {},
   "outputs": [],
   "source": [
    "trainpath = f'../../../data/top30groups/LongLatCombined/train1/train{partition}.csv'\n",
    "testpath = f'../../../data/top30groups/LongLatCombined/test1/test{partition}.csv'\n",
    "traindata = pd.read_csv(trainpath, encoding='ISO-8859-1')\n",
    "testdata = pd.read_csv(testpath, encoding='ISO-8859-1')"
   ]
  },
  {
   "cell_type": "code",
   "execution_count": 4,
   "id": "3c53a076",
   "metadata": {},
   "outputs": [],
   "source": [
    "combined = pd.concat([traindata, testdata], axis = 0)"
   ]
  },
  {
   "cell_type": "markdown",
   "id": "c1bdd499",
   "metadata": {},
   "source": [
    "### Find unique locations and construct global graph"
   ]
  },
  {
   "cell_type": "code",
   "execution_count": 5,
   "id": "1636c2ea",
   "metadata": {},
   "outputs": [
    {
     "name": "stdout",
     "output_type": "stream",
     "text": [
      "Feature Matrix shape:  (1790, 2)\n"
     ]
    }
   ],
   "source": [
    "# Extract unique locations for node creation\n",
    "combined['location'] = list(zip(combined['longitude'], combined['latitude']))\n",
    "unique_locations = combined['location'].drop_duplicates().reset_index(drop=True)\n",
    "\n",
    "# Map locations to an identity\n",
    "location2id = {loc: idx for idx, loc in enumerate(unique_locations)}\n",
    "combined['location_id'] = combined['location'].map(location2id)\n",
    "\n",
    "# Encode labels\n",
    "le = LabelEncoder()\n",
    "combined['label'] = le.fit_transform(combined['gname'])\n",
    "\n",
    "# Get global node features\n",
    "coords = np.array([list(loc) for loc in unique_locations])  # [1790, 2]\n",
    "print(\"Feature Matrix shape: \", coords.shape)\n",
    "\n",
    "# Standardize features\n",
    "scaler = StandardScaler()\n",
    "x_global = scaler.fit_transform(coords)  # standardized features\n",
    "\n",
    "# Build global edge list using 1km Haversine\n",
    "edges = []\n",
    "coords_latlon = [(lat, lon) for lon, lat in unique_locations]\n",
    "for i in range(len(coords_latlon)):\n",
    "    for j in range(i + 1, len(coords_latlon)):\n",
    "        if haversine(coords_latlon[i], coords_latlon[j], Unit.KILOMETERS) <= 1.0:\n",
    "            edges.append((i, j))\n",
    "            edges.append((j, i))\n",
    "\n",
    "global_edge_index = torch.tensor(edges, dtype=torch.long).T  # shape [2, num_edges]\n"
   ]
  },
  {
   "cell_type": "code",
   "execution_count": 6,
   "id": "1d434af1",
   "metadata": {},
   "outputs": [
    {
     "data": {
      "text/plain": [
       "torch.Size([2, 242])"
      ]
     },
     "execution_count": 6,
     "metadata": {},
     "output_type": "execute_result"
    }
   ],
   "source": [
    "global_edge_index.shape"
   ]
  },
  {
   "cell_type": "code",
   "execution_count": 7,
   "id": "94844555",
   "metadata": {},
   "outputs": [
    {
     "name": "stdout",
     "output_type": "stream",
     "text": [
      "Nodes with at least one neighbor:  161\n"
     ]
    }
   ],
   "source": [
    "unique_nodes = torch.unique(global_edge_index)\n",
    "print(\"Nodes with at least one neighbor: \", len(unique_nodes))"
   ]
  },
  {
   "cell_type": "markdown",
   "id": "32d27f3f",
   "metadata": {},
   "source": [
    "### Creating subgraphs for each node depending on its neighbors"
   ]
  },
  {
   "cell_type": "code",
   "execution_count": 8,
   "id": "b5d04f14",
   "metadata": {},
   "outputs": [],
   "source": [
    "def get_subgraph(center_id, edge_index, x_global):\n",
    "    # Get neighbors (indices) of center node\n",
    "    neighbors = edge_index[1][edge_index[0] == center_id]\n",
    "    node_ids = torch.cat([torch.tensor([center_id]), neighbors]).unique()\n",
    "\n",
    "    # Remap node indices locally\n",
    "    id_map = {old_id.item(): i for i, old_id in enumerate(node_ids)}\n",
    "    new_edges = []\n",
    "    for source, destination in zip(*edge_index):\n",
    "        if source in node_ids and destination in node_ids:\n",
    "            new_edges.append((id_map[source.item()], id_map[destination.item()]))\n",
    "\n",
    "    # If no edges exist, add a self-loop\n",
    "    if len(new_edges) == 0:\n",
    "        center_local_idx = 0  # only node in subgraph\n",
    "        new_edges = [(0, 0)]\n",
    "    else:\n",
    "        center_local_idx = id_map[center_id.item()]\n",
    "\n",
    "    sub_x = x_global[node_ids]\n",
    "    sub_edge_index = torch.tensor(new_edges).T\n",
    "\n",
    "    return sub_x, sub_edge_index, center_local_idx\n"
   ]
  },
  {
   "cell_type": "markdown",
   "id": "1f9e67ff",
   "metadata": {},
   "source": [
    "### Subgraphs for train"
   ]
  },
  {
   "cell_type": "code",
   "execution_count": 9,
   "id": "464950c9",
   "metadata": {},
   "outputs": [],
   "source": [
    "from torch_geometric.data import Data\n",
    "\n",
    "traindata_list = []\n",
    "for _, row in traindata.iterrows():\n",
    "    center_id = location2id[(row['longitude'], row['latitude'])]\n",
    "    label = le.transform([row['gname']])[0]\n",
    "    \n",
    "    x, edge_index, center_idx = get_subgraph(torch.tensor(center_id), global_edge_index, torch.tensor(x_global, dtype=torch.float))\n",
    "    \n",
    "    traindata_obj = Data(x=x, edge_index=edge_index, y=torch.tensor(label), center=center_idx)\n",
    "    traindata_list.append(traindata_obj)\n"
   ]
  },
  {
   "cell_type": "markdown",
   "id": "b30c3ae9",
   "metadata": {},
   "source": [
    "### Subgraphs for test"
   ]
  },
  {
   "cell_type": "code",
   "execution_count": 10,
   "id": "4ad3eb3c",
   "metadata": {},
   "outputs": [],
   "source": [
    "test_data_list = []\n",
    "for _, row in testdata.iterrows():\n",
    "    loc = (row['longitude'], row['latitude'])\n",
    "    \n",
    "    # Skip if location not in mapping (just in case)\n",
    "    if loc not in location2id:\n",
    "        continue\n",
    "    \n",
    "    center_id = location2id[loc]\n",
    "    label = le.transform([row['gname']])[0]\n",
    "    \n",
    "    x, edge_index, center_idx = get_subgraph(\n",
    "        torch.tensor(center_id),\n",
    "        global_edge_index,\n",
    "        torch.tensor(x_global, dtype=torch.float)\n",
    "    )\n",
    "\n",
    "    testdata_obj = Data(x=x, edge_index=edge_index, y=torch.tensor(label), center=center_idx)\n",
    "    test_data_list.append(testdata_obj)"
   ]
  },
  {
   "cell_type": "markdown",
   "id": "ace2e847",
   "metadata": {},
   "source": [
    "### GCN Model"
   ]
  },
  {
   "cell_type": "code",
   "execution_count": 12,
   "id": "f10d1394",
   "metadata": {},
   "outputs": [],
   "source": [
    "import torch.nn as nn\n",
    "\n",
    "\n",
    "class GCN(nn.Module):\n",
    "    def __init__(self, in_channels, hidden_channels, out_channels):\n",
    "        super().__init__()\n",
    "        self.conv1 = GCNConv(in_channels, hidden_channels)\n",
    "        self.conv2 = GCNConv(hidden_channels, hidden_channels)\n",
    "        self.classifier = nn.Linear(hidden_channels, out_channels)\n",
    "\n",
    "    def forward(self, batch):\n",
    "        x, edge_index = batch.x, batch.edge_index\n",
    "        x = self.conv1(x, edge_index)\n",
    "        x = F.relu(x)\n",
    "        x = self.conv2(x, edge_index)\n",
    "\n",
    "        # batch.ptr[:-1] extracts central node index\n",
    "        center_embeddings = x[batch.ptr[:-1]]\n",
    "        out = self.classifier(center_embeddings)\n",
    "        return F.log_softmax(out, dim=1)\n"
   ]
  },
  {
   "cell_type": "markdown",
   "id": "7bfea568",
   "metadata": {},
   "source": [
    "### Training and Testing"
   ]
  },
  {
   "cell_type": "code",
   "execution_count": 13,
   "id": "b63f432b",
   "metadata": {},
   "outputs": [
    {
     "name": "stdout",
     "output_type": "stream",
     "text": [
      "30\n"
     ]
    }
   ],
   "source": [
    "print(len(le.classes_))\n",
    "\n",
    "import torch\n",
    "\n",
    "device = torch.device('cuda' if torch.cuda.is_available() else 'cpu')\n",
    "\n",
    "model = GCN(in_channels=2, hidden_channels=64, out_channels=len(le.classes_)).to(device)\n",
    "optimizer = torch.optim.Adam(model.parameters(), lr=0.01, weight_decay=5e-4)\n",
    "criterion = torch.nn.CrossEntropyLoss()"
   ]
  },
  {
   "cell_type": "code",
   "execution_count": 14,
   "id": "7e83d5c8",
   "metadata": {},
   "outputs": [],
   "source": [
    "from sklearn.model_selection import train_test_split\n",
    "\n",
    "train_set, val_set = train_test_split(traindata_list, test_size=0.2, random_state=42)\n"
   ]
  },
  {
   "cell_type": "markdown",
   "id": "cc52e705",
   "metadata": {},
   "source": [
    "### Define batches"
   ]
  },
  {
   "cell_type": "code",
   "execution_count": 15,
   "id": "823ac07f",
   "metadata": {},
   "outputs": [],
   "source": [
    "train_loader = DataLoader(train_set, batch_size=32, shuffle=True)\n",
    "val_loader = DataLoader(val_set, batch_size=32)\n",
    "test_loader = DataLoader(test_data_list, batch_size=32)\n"
   ]
  },
  {
   "cell_type": "code",
   "execution_count": 16,
   "id": "ba08de31",
   "metadata": {},
   "outputs": [],
   "source": [
    "def train():\n",
    "    model.train()\n",
    "    total_loss = 0\n",
    "    for batch in train_loader:\n",
    "        batch = batch.to(device)\n",
    "        optimizer.zero_grad()\n",
    "        out = model(batch)\n",
    "        loss = criterion(out, batch.y)\n",
    "        loss.backward()\n",
    "        optimizer.step()\n",
    "        total_loss += loss.item()\n",
    "    return total_loss / len(train_loader)\n",
    "\n",
    "\n",
    "@torch.no_grad()\n",
    "def evaluate(loader):\n",
    "    model.eval()\n",
    "    correct = 0\n",
    "    total = 0\n",
    "    for batch in loader:\n",
    "        batch = batch.to(device)\n",
    "        out = model(batch)\n",
    "        pred = out.argmax(dim=1)\n",
    "        correct += (pred == batch.y).sum().item()\n",
    "        total += batch.y.size(0)\n",
    "    return correct / total\n"
   ]
  },
  {
   "cell_type": "code",
   "execution_count": 18,
   "id": "db678686",
   "metadata": {},
   "outputs": [
    {
     "name": "stdout",
     "output_type": "stream",
     "text": [
      "Epoch 001 | Loss: 2.0449 | Train Acc: 0.5030 | Val Acc: 0.4738\n",
      "Epoch 002 | Loss: 1.2386 | Train Acc: 0.5577 | Val Acc: 0.5452\n",
      "Epoch 003 | Loss: 0.9962 | Train Acc: 0.6018 | Val Acc: 0.6405\n",
      "Epoch 004 | Loss: 0.9104 | Train Acc: 0.6512 | Val Acc: 0.6429\n",
      "Epoch 005 | Loss: 0.8994 | Train Acc: 0.6220 | Val Acc: 0.6286\n",
      "Epoch 006 | Loss: 0.8879 | Train Acc: 0.6220 | Val Acc: 0.6524\n",
      "Epoch 007 | Loss: 0.8122 | Train Acc: 0.6893 | Val Acc: 0.7357\n",
      "Epoch 008 | Loss: 0.7918 | Train Acc: 0.7030 | Val Acc: 0.7405\n",
      "Epoch 009 | Loss: 0.7910 | Train Acc: 0.6821 | Val Acc: 0.6952\n",
      "Epoch 010 | Loss: 0.7492 | Train Acc: 0.6821 | Val Acc: 0.6857\n",
      "Epoch 011 | Loss: 0.8190 | Train Acc: 0.6542 | Val Acc: 0.6381\n",
      "Epoch 012 | Loss: 0.7856 | Train Acc: 0.7310 | Val Acc: 0.7548\n",
      "Epoch 013 | Loss: 0.7429 | Train Acc: 0.6946 | Val Acc: 0.6881\n",
      "Epoch 014 | Loss: 0.7305 | Train Acc: 0.6935 | Val Acc: 0.6881\n",
      "Epoch 015 | Loss: 0.7613 | Train Acc: 0.7137 | Val Acc: 0.7167\n",
      "Epoch 016 | Loss: 0.7318 | Train Acc: 0.6804 | Val Acc: 0.6571\n",
      "Epoch 017 | Loss: 0.7308 | Train Acc: 0.7107 | Val Acc: 0.7310\n",
      "Epoch 018 | Loss: 0.7363 | Train Acc: 0.6369 | Val Acc: 0.6452\n",
      "Epoch 019 | Loss: 0.7156 | Train Acc: 0.7411 | Val Acc: 0.7738\n",
      "Epoch 020 | Loss: 0.7125 | Train Acc: 0.7268 | Val Acc: 0.7452\n",
      "Epoch 021 | Loss: 0.6832 | Train Acc: 0.6839 | Val Acc: 0.7167\n",
      "Epoch 022 | Loss: 0.6736 | Train Acc: 0.7262 | Val Acc: 0.7548\n",
      "Epoch 023 | Loss: 0.6865 | Train Acc: 0.7143 | Val Acc: 0.7024\n",
      "Epoch 024 | Loss: 0.6939 | Train Acc: 0.7220 | Val Acc: 0.7405\n",
      "Epoch 025 | Loss: 0.6754 | Train Acc: 0.7268 | Val Acc: 0.7095\n",
      "Epoch 026 | Loss: 0.6512 | Train Acc: 0.7119 | Val Acc: 0.7381\n",
      "Epoch 027 | Loss: 0.6825 | Train Acc: 0.7274 | Val Acc: 0.7500\n",
      "Epoch 028 | Loss: 0.6779 | Train Acc: 0.7179 | Val Acc: 0.7405\n",
      "Epoch 029 | Loss: 0.6838 | Train Acc: 0.7292 | Val Acc: 0.7381\n",
      "Epoch 030 | Loss: 0.6890 | Train Acc: 0.6643 | Val Acc: 0.7071\n",
      "Epoch 031 | Loss: 0.7990 | Train Acc: 0.7238 | Val Acc: 0.7833\n",
      "Epoch 032 | Loss: 0.6887 | Train Acc: 0.7292 | Val Acc: 0.7381\n",
      "Epoch 033 | Loss: 0.6669 | Train Acc: 0.7262 | Val Acc: 0.7524\n",
      "Epoch 034 | Loss: 0.6689 | Train Acc: 0.7673 | Val Acc: 0.7857\n",
      "Epoch 035 | Loss: 0.6586 | Train Acc: 0.7732 | Val Acc: 0.7976\n",
      "Epoch 036 | Loss: 0.6321 | Train Acc: 0.7077 | Val Acc: 0.7238\n",
      "Epoch 037 | Loss: 0.6578 | Train Acc: 0.7423 | Val Acc: 0.7310\n",
      "Epoch 038 | Loss: 0.6269 | Train Acc: 0.7560 | Val Acc: 0.7690\n",
      "Epoch 039 | Loss: 0.6073 | Train Acc: 0.7464 | Val Acc: 0.7762\n",
      "Epoch 040 | Loss: 0.6284 | Train Acc: 0.7310 | Val Acc: 0.7762\n",
      "Epoch 041 | Loss: 0.6596 | Train Acc: 0.7435 | Val Acc: 0.7476\n",
      "Epoch 042 | Loss: 0.6324 | Train Acc: 0.6952 | Val Acc: 0.7548\n",
      "Epoch 043 | Loss: 0.6760 | Train Acc: 0.7702 | Val Acc: 0.8310\n",
      "Epoch 044 | Loss: 0.6469 | Train Acc: 0.7119 | Val Acc: 0.7286\n",
      "Epoch 045 | Loss: 0.6188 | Train Acc: 0.7637 | Val Acc: 0.7929\n",
      "Epoch 046 | Loss: 0.6388 | Train Acc: 0.7946 | Val Acc: 0.8310\n",
      "Epoch 047 | Loss: 0.6173 | Train Acc: 0.7548 | Val Acc: 0.7738\n",
      "Epoch 048 | Loss: 0.6143 | Train Acc: 0.7482 | Val Acc: 0.7738\n",
      "Epoch 049 | Loss: 0.5910 | Train Acc: 0.7744 | Val Acc: 0.7976\n",
      "Epoch 050 | Loss: 0.6275 | Train Acc: 0.7006 | Val Acc: 0.7381\n",
      "Epoch 051 | Loss: 0.6454 | Train Acc: 0.7655 | Val Acc: 0.7738\n",
      "Epoch 052 | Loss: 0.6251 | Train Acc: 0.7548 | Val Acc: 0.7810\n",
      "Epoch 053 | Loss: 0.6000 | Train Acc: 0.7506 | Val Acc: 0.7833\n",
      "Epoch 054 | Loss: 0.6136 | Train Acc: 0.7536 | Val Acc: 0.7690\n",
      "Epoch 055 | Loss: 0.6074 | Train Acc: 0.7185 | Val Acc: 0.7500\n",
      "Epoch 056 | Loss: 0.6219 | Train Acc: 0.7565 | Val Acc: 0.7714\n",
      "Epoch 057 | Loss: 0.6030 | Train Acc: 0.7637 | Val Acc: 0.8024\n",
      "Epoch 058 | Loss: 0.6079 | Train Acc: 0.7536 | Val Acc: 0.7524\n",
      "Epoch 059 | Loss: 0.6087 | Train Acc: 0.7595 | Val Acc: 0.7833\n",
      "Epoch 060 | Loss: 0.6022 | Train Acc: 0.7673 | Val Acc: 0.7929\n",
      "Epoch 061 | Loss: 0.5679 | Train Acc: 0.7792 | Val Acc: 0.7952\n",
      "Epoch 062 | Loss: 0.6046 | Train Acc: 0.7083 | Val Acc: 0.7595\n",
      "Epoch 063 | Loss: 0.6161 | Train Acc: 0.7560 | Val Acc: 0.7690\n",
      "Epoch 064 | Loss: 0.5999 | Train Acc: 0.7714 | Val Acc: 0.7810\n",
      "Epoch 065 | Loss: 0.5931 | Train Acc: 0.7893 | Val Acc: 0.8000\n",
      "Epoch 066 | Loss: 0.6005 | Train Acc: 0.7768 | Val Acc: 0.8048\n",
      "Epoch 067 | Loss: 0.5657 | Train Acc: 0.7631 | Val Acc: 0.7714\n",
      "Epoch 068 | Loss: 0.5894 | Train Acc: 0.7524 | Val Acc: 0.7595\n",
      "Epoch 069 | Loss: 0.5883 | Train Acc: 0.7720 | Val Acc: 0.7976\n",
      "Epoch 070 | Loss: 0.5880 | Train Acc: 0.7601 | Val Acc: 0.8000\n",
      "Epoch 071 | Loss: 0.5982 | Train Acc: 0.7542 | Val Acc: 0.7548\n",
      "Epoch 072 | Loss: 0.5529 | Train Acc: 0.7696 | Val Acc: 0.7786\n",
      "Epoch 073 | Loss: 0.5731 | Train Acc: 0.7839 | Val Acc: 0.7952\n",
      "Early stopping at epoch 73\n",
      "\n",
      "Final Test Accuracy after early stopping: 0.7778\n"
     ]
    }
   ],
   "source": [
    "best_model_state = model.state_dict()\n",
    "best_val_acc = 0.0\n",
    "patience = 30\n",
    "patience_counter = 0\n",
    "\n",
    "for epoch in range(1, 201):\n",
    "    model.train()\n",
    "    total_loss = 0\n",
    "\n",
    "    for batch in train_loader:\n",
    "        batch = batch.to(device)\n",
    "        optimizer.zero_grad()\n",
    "        out = model(batch)\n",
    "        loss = criterion(out, batch.y)\n",
    "        loss.backward()\n",
    "        optimizer.step()\n",
    "        total_loss += loss.item()\n",
    "\n",
    "    avg_loss = total_loss / len(train_loader)\n",
    "\n",
    "    train_acc = evaluate(train_loader)\n",
    "    val_acc = evaluate(val_loader)\n",
    "\n",
    "    print(f\"Epoch {epoch:03d} | Loss: {avg_loss:.4f} | Train Acc: {train_acc:.4f} | Val Acc: {val_acc:.4f}\")\n",
    "\n",
    "    if val_acc > best_val_acc:\n",
    "        best_val_acc = val_acc\n",
    "        patience_counter = 0\n",
    "        best_model_state = model.state_dict()\n",
    "    else:\n",
    "        patience_counter += 1\n",
    "        if patience_counter >= patience:\n",
    "            print(f\"Early stopping at epoch {epoch}\")\n",
    "            break\n",
    "\n",
    "# Final test evaluation\n",
    "model.load_state_dict(best_model_state)\n",
    "test_acc = evaluate(test_loader)\n",
    "print(f\"\\nFinal Test Accuracy after early stopping: {test_acc:.4f}\")\n"
   ]
  }
 ],
 "metadata": {
  "kernelspec": {
   "display_name": "Python 3",
   "language": "python",
   "name": "python3"
  },
  "language_info": {
   "codemirror_mode": {
    "name": "ipython",
    "version": 3
   },
   "file_extension": ".py",
   "mimetype": "text/x-python",
   "name": "python",
   "nbconvert_exporter": "python",
   "pygments_lexer": "ipython3",
   "version": "3.11.9"
  }
 },
 "nbformat": 4,
 "nbformat_minor": 5
}
