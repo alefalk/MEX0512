{
 "cells": [
  {
   "cell_type": "code",
   "execution_count": 1,
   "id": "ec8b7c2e",
   "metadata": {},
   "outputs": [],
   "source": [
    "import numpy as np\n",
    "import pandas as pd\n",
    "import os\n",
    "import networkx as nx\n",
    "from sklearn.preprocessing import LabelEncoder\n",
    "from sklearn.utils import shuffle\n",
    "from sklearn.metrics import classification_report\n",
    "from build_graph_data import *\n",
    "from collections import Counter\n",
    "from sklearn.manifold import TSNE\n",
    "import matplotlib.pyplot as plt\n",
    "from sklearn.neighbors import NearestNeighbors\n",
    "import torch\n"
   ]
  },
  {
   "cell_type": "code",
   "execution_count": 2,
   "id": "0152b694",
   "metadata": {},
   "outputs": [],
   "source": [
    "partition = 100"
   ]
  },
  {
   "cell_type": "markdown",
   "id": "ec6bac11",
   "metadata": {},
   "source": [
    "# 1. Load Dataset"
   ]
  },
  {
   "cell_type": "code",
   "execution_count": 3,
   "id": "0a56371a",
   "metadata": {},
   "outputs": [],
   "source": [
    "trainpath = f'../../../data/top30groups/LongLatCombined/train1/train{partition}.csv'\n",
    "testpath = f'../../../data/top30groups/LongLatCombined/test1/test{partition}.csv'\n",
    "traindata = pd.read_csv(trainpath, encoding='ISO-8859-1')\n",
    "testdata = pd.read_csv(testpath, encoding='ISO-8859-1')"
   ]
  },
  {
   "cell_type": "code",
   "execution_count": 4,
   "id": "3c53a076",
   "metadata": {},
   "outputs": [],
   "source": [
    "combined = pd.concat([traindata, testdata], axis = 0)\n"
   ]
  },
  {
   "cell_type": "code",
   "execution_count": 5,
   "id": "09706312",
   "metadata": {},
   "outputs": [
    {
     "data": {
      "text/plain": [
       "1790"
      ]
     },
     "execution_count": 5,
     "metadata": {},
     "output_type": "execute_result"
    }
   ],
   "source": [
    "combined['location'] = list(zip(combined['longitude'], combined['latitude']))\n",
    "unique_locations = combined['location'].drop_duplicates().reset_index(drop=True)\n",
    "location2id = {loc: idx for idx, loc in enumerate(unique_locations)}\n",
    "num_nodes = len(location2id)\n",
    "num_nodes"
   ]
  },
  {
   "cell_type": "markdown",
   "id": "c0e28570",
   "metadata": {},
   "source": [
    "## 2. Preprocess the Data"
   ]
  },
  {
   "cell_type": "code",
   "execution_count": 6,
   "id": "1c198d96",
   "metadata": {},
   "outputs": [],
   "source": [
    "from sklearn.preprocessing import StandardScaler\n",
    "coords = np.array(unique_locations.tolist())  # shape [num_nodes, 2]\n",
    "scaler = StandardScaler()\n",
    "features = scaler.fit_transform(coords)  # shape [num_nodes, 2]\n",
    "\n",
    "from sklearn.preprocessing import LabelEncoder\n",
    "\n",
    "le = LabelEncoder()\n",
    "combined['gname_encoded'] = le.fit_transform(combined['gname'])"
   ]
  },
  {
   "cell_type": "markdown",
   "id": "def3cf30",
   "metadata": {},
   "source": [
    "## 3. Construct the Graph using Haversine Distance"
   ]
  },
  {
   "cell_type": "code",
   "execution_count": 7,
   "id": "8600d01f",
   "metadata": {},
   "outputs": [],
   "source": [
    "from haversine import haversine, Unit\n",
    "\n",
    "# Haversine expects (latitude, longitude), not (longitude, latitude))\n",
    "coords = [(lat, lon) for lon, lat in unique_locations]\n",
    "\n",
    "distance_threshold_km = 1\n",
    "edges = []\n",
    "\n",
    "num_nodes = len(coords)\n",
    "for i in range(num_nodes):\n",
    "    for j in range(i + 1, num_nodes):\n",
    "        dist = haversine(coords[i], coords[j], unit=Unit.KILOMETERS)\n",
    "        if dist <= distance_threshold_km:\n",
    "            edges.append((i, j))\n",
    "            edges.append((j, i))  # undirected graph\n"
   ]
  },
  {
   "cell_type": "markdown",
   "id": "8a2cd2fc",
   "metadata": {},
   "source": [
    "## 4. Plot the graph"
   ]
  },
  {
   "cell_type": "code",
   "execution_count": 8,
   "id": "921c7928",
   "metadata": {},
   "outputs": [
    {
     "data": {
      "image/png": "[encoded data removed]",
      "text/plain": [
       "<Figure size 1200x800 with 1 Axes>"
      ]
     },
     "metadata": {},
     "output_type": "display_data"
    }
   ],
   "source": [
    "import networkx as nx\n",
    "import matplotlib.pyplot as plt\n",
    "\n",
    "G = nx.Graph()\n",
    "G.add_edges_from(edges)\n",
    "\n",
    "# Use longitude for x-axis and latitude for y-axis\n",
    "pos = {i: (coords[i][1], coords[i][0]) for i in range(num_nodes)}\n",
    "\n",
    "plt.figure(figsize=(12, 8))\n",
    "nx.draw(G, pos=pos, node_size=20, node_color='blue', with_labels=False)\n",
    "plt.title(\"Geographical Locations Graph\")\n",
    "plt.show()\n"
   ]
  },
  {
   "cell_type": "markdown",
   "id": "d84ba6e2",
   "metadata": {},
   "source": [
    "## Build train and test masks"
   ]
  },
  {
   "cell_type": "code",
   "execution_count": 9,
   "id": "12c1fc45",
   "metadata": {},
   "outputs": [],
   "source": [
    "y = np.full(num_nodes, -1)\n",
    "train_mask = np.zeros(num_nodes, dtype=bool)\n",
    "test_mask = np.zeros(num_nodes, dtype=bool)\n",
    "\n",
    "# Get set of test locations\n",
    "test_locs = set(zip(testdata['longitude'], testdata['latitude']))\n",
    "\n",
    "# Build train_mask excluding any node that's also in the test set\n",
    "for _, row in traindata.iterrows():\n",
    "    loc = (row['longitude'], row['latitude'])\n",
    "    if loc not in test_locs and loc in location2id:\n",
    "        loc_id = location2id[loc]\n",
    "        y[loc_id] = le.transform([row['gname']])[0]\n",
    "        train_mask[loc_id] = True\n",
    "\n",
    "for _, row in testdata.iterrows():\n",
    "    loc = (row['longitude'], row['latitude'])\n",
    "    loc_id = location2id[loc]\n",
    "    y[loc_id] = le.transform([row['gname']])[0]\n",
    "    test_mask[loc_id] = True"
   ]
  },
  {
   "cell_type": "markdown",
   "id": "433e5891",
   "metadata": {},
   "source": [
    "## Prepare Data for PyTorch Geometric"
   ]
  },
  {
   "cell_type": "code",
   "execution_count": 10,
   "id": "37b84165",
   "metadata": {},
   "outputs": [
    {
     "name": "stderr",
     "output_type": "stream",
     "text": [
      "/opt/conda/lib/python3.11/site-packages/transformers/utils/hub.py:127: FutureWarning: Using `TRANSFORMERS_CACHE` is deprecated and will be removed in v5 of Transformers. Use `HF_HOME` instead.\n",
      "  warnings.warn(\n"
     ]
    },
    {
     "name": "stdout",
     "output_type": "stream",
     "text": [
      "cuda\n"
     ]
    }
   ],
   "source": [
    "from torch_geometric.data import Data\n",
    "\n",
    "device = torch.device('cuda' if torch.cuda.is_available() else 'cpu')\n",
    "print(device)\n",
    "\n",
    "x = torch.tensor(features, dtype=torch.float)\n",
    "y = torch.tensor(y, dtype=torch.long)\n",
    "edge_index = torch.tensor(np.array(edges).T, dtype=torch.long)\n",
    "train_mask = torch.tensor(train_mask, dtype=torch.long)\n",
    "test_mask = torch.tensor(test_mask, dtype=torch.long)\n",
    "\n",
    "data = Data(x=x, edge_index=edge_index, y=y)\n",
    "data = data.to(device)"
   ]
  },
  {
   "cell_type": "markdown",
   "id": "60bfe49e",
   "metadata": {},
   "source": [
    "## 5. Define the GCN Model"
   ]
  },
  {
   "cell_type": "code",
   "execution_count": 11,
   "id": "62842972",
   "metadata": {},
   "outputs": [],
   "source": [
    "import torch\n",
    "import torch.nn.functional as F\n",
    "from torch_geometric.nn import GCNConv\n",
    "\n",
    "class GCN(torch.nn.Module):\n",
    "    def __init__(self, in_channels, hidden_channels, out_channels):\n",
    "        super(GCN, self).__init__()\n",
    "        self.conv1 = GCNConv(in_channels, hidden_channels)\n",
    "        self.conv2 = GCNConv(hidden_channels, out_channels)\n",
    "\n",
    "    def forward(self, data):\n",
    "        x, edge_index = data.x, data.edge_index\n",
    "        x = self.conv1(x, edge_index)\n",
    "        x = F.relu(x)\n",
    "        x = self.conv2(x, edge_index)\n",
    "        return F.log_softmax(x, dim=1)\n",
    "\n",
    "\n",
    "model = GCN(\n",
    "    in_channels=x.shape[1],\n",
    "    hidden_channels=64,\n",
    "    out_channels=30\n",
    ").to(device)\n",
    "\n",
    "optimizer = torch.optim.AdamW(model.parameters(), lr=0.01, weight_decay=5e-4)\n",
    "criterion = torch.nn.CrossEntropyLoss()"
   ]
  },
  {
   "cell_type": "markdown",
   "id": "589ccf16",
   "metadata": {},
   "source": [
    "## 6. Train the model"
   ]
  },
  {
   "cell_type": "code",
   "execution_count": 12,
   "id": "044738ac",
   "metadata": {},
   "outputs": [
    {
     "name": "stdout",
     "output_type": "stream",
     "text": [
      "Epoch 000, Loss: 3.3471, Train Acc: 0.6274, Test Acc: 0.3726\n",
      "Epoch 010, Loss: 0.4500, Train Acc: 1.0000, Test Acc: 1.0000\n",
      "Epoch 020, Loss: 0.0083, Train Acc: 1.0000, Test Acc: 1.0000\n",
      "Epoch 030, Loss: 0.0008, Train Acc: 1.0000, Test Acc: 1.0000\n",
      "Epoch 040, Loss: 0.0003, Train Acc: 1.0000, Test Acc: 1.0000\n",
      "Epoch 050, Loss: 0.0002, Train Acc: 1.0000, Test Acc: 1.0000\n",
      "Epoch 060, Loss: 0.0002, Train Acc: 1.0000, Test Acc: 1.0000\n",
      "Epoch 070, Loss: 0.0002, Train Acc: 1.0000, Test Acc: 1.0000\n",
      "Epoch 080, Loss: 0.0002, Train Acc: 1.0000, Test Acc: 1.0000\n",
      "Epoch 090, Loss: 0.0002, Train Acc: 1.0000, Test Acc: 1.0000\n",
      "Epoch 100, Loss: 0.0001, Train Acc: 1.0000, Test Acc: 1.0000\n",
      "Epoch 110, Loss: 0.0001, Train Acc: 1.0000, Test Acc: 1.0000\n",
      "Epoch 120, Loss: 0.0001, Train Acc: 1.0000, Test Acc: 1.0000\n",
      "Epoch 130, Loss: 0.0001, Train Acc: 1.0000, Test Acc: 1.0000\n",
      "Epoch 140, Loss: 0.0001, Train Acc: 1.0000, Test Acc: 1.0000\n",
      "Epoch 150, Loss: 0.0001, Train Acc: 1.0000, Test Acc: 1.0000\n",
      "Epoch 160, Loss: 0.0001, Train Acc: 1.0000, Test Acc: 1.0000\n",
      "Epoch 170, Loss: 0.0001, Train Acc: 1.0000, Test Acc: 1.0000\n",
      "Epoch 180, Loss: 0.0001, Train Acc: 1.0000, Test Acc: 1.0000\n",
      "Epoch 190, Loss: 0.0001, Train Acc: 1.0000, Test Acc: 1.0000\n",
      "Final Test Accuracy: 1.0000\n"
     ]
    }
   ],
   "source": [
    "# Training function\n",
    "def train():\n",
    "    model.train()\n",
    "    optimizer.zero_grad()\n",
    "    out = model(data)\n",
    "    loss = criterion(out[train_mask], data.y[train_mask])\n",
    "    loss.backward()\n",
    "    optimizer.step()\n",
    "    return loss.item()\n",
    "\n",
    "# Evaluation function\n",
    "def test(mask):\n",
    "    model.eval()\n",
    "    with torch.no_grad():\n",
    "        out = model(data)\n",
    "        pred = out[mask].max(dim=1)[1]\n",
    "        correct = pred.eq(data.y[mask]).sum().item()\n",
    "        return correct / mask.size(0)\n",
    "\n",
    "# Training loop\n",
    "for epoch in range(200):\n",
    "    loss = train()\n",
    "    if epoch % 10 == 0:\n",
    "        train_acc = test(train_mask)\n",
    "        test_acc = test(test_mask)\n",
    "        print(f\"Epoch {epoch:03d}, Loss: {loss:.4f}, Train Acc: {train_acc:.4f}, Test Acc: {test_acc:.4f}\")\n",
    "\n",
    "# Final accuracy\n",
    "print(f\"Final Test Accuracy: {test(test_mask):.4f}\")"
   ]
  },
  {
   "cell_type": "markdown",
   "id": "f6a8771b",
   "metadata": {},
   "source": [
    "## perfect score, check label leakage"
   ]
  },
  {
   "cell_type": "code",
   "execution_count": 14,
   "id": "14b2e0e7",
   "metadata": {},
   "outputs": [
    {
     "name": "stdout",
     "output_type": "stream",
     "text": [
      "Number of overlapping nodes between train and test: 0\n"
     ]
    }
   ],
   "source": [
    "\n",
    "train_node_ids = set(torch.where(train_mask)[0].tolist())\n",
    "test_node_ids = set(torch.where(test_mask)[0].tolist())\n",
    "\n",
    "\n",
    "overlap_nodes = train_node_ids & test_node_ids\n",
    "print(f\"Number of overlapping nodes between train and test: {len(overlap_nodes)}\")\n"
   ]
  }
 ],
 "metadata": {
  "kernelspec": {
   "display_name": "Python 3",
   "language": "python",
   "name": "python3"
  },
  "language_info": {
   "codemirror_mode": {
    "name": "ipython",
    "version": 3
   },
   "file_extension": ".py",
   "mimetype": "text/x-python",
   "name": "python",
   "nbconvert_exporter": "python",
   "pygments_lexer": "ipython3",
   "version": "3.11.9"
  }
 },
 "nbformat": 4,
 "nbformat_minor": 5
}
