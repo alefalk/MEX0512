{
 "cells": [
  {
   "cell_type": "code",
   "execution_count": 1,
   "id": "ec8b7c2e",
   "metadata": {},
   "outputs": [
    {
     "name": "stderr",
     "output_type": "stream",
     "text": [
      "/opt/conda/lib/python3.11/site-packages/transformers/utils/hub.py:127: FutureWarning: Using `TRANSFORMERS_CACHE` is deprecated and will be removed in v5 of Transformers. Use `HF_HOME` instead.\n",
      "  warnings.warn(\n"
     ]
    }
   ],
   "source": [
    "import torch\n",
    "import numpy as np\n",
    "import pandas as pd\n",
    "from haversine import haversine, Unit\n",
    "from torch_geometric.data import Data\n",
    "from torch_geometric.loader import DataLoader\n",
    "from torch_geometric.nn import GCNConv, global_mean_pool\n",
    "import torch.nn.functional as F\n",
    "from sklearn.preprocessing import LabelEncoder, StandardScaler\n"
   ]
  },
  {
   "cell_type": "code",
   "execution_count": 2,
   "id": "0152b694",
   "metadata": {},
   "outputs": [],
   "source": [
    "partition = 100"
   ]
  },
  {
   "cell_type": "markdown",
   "id": "ec6bac11",
   "metadata": {},
   "source": [
    "# 1. Load Dataset"
   ]
  },
  {
   "cell_type": "code",
   "execution_count": 3,
   "id": "0a56371a",
   "metadata": {},
   "outputs": [],
   "source": [
    "trainpath = f'../../../data/top30groups/LongLatCombined/train1/train{partition}.csv'\n",
    "testpath = f'../../../data/top30groups/LongLatCombined/test1/test{partition}.csv'\n",
    "traindata = pd.read_csv(trainpath, encoding='ISO-8859-1')\n",
    "testdata = pd.read_csv(testpath, encoding='ISO-8859-1')"
   ]
  },
  {
   "cell_type": "code",
   "execution_count": 4,
   "id": "3c53a076",
   "metadata": {},
   "outputs": [],
   "source": [
    "combined = pd.concat([traindata, testdata], axis = 0)"
   ]
  },
  {
   "cell_type": "markdown",
   "id": "c1bdd499",
   "metadata": {},
   "source": [
    "### Find unique locations and construct global graph"
   ]
  },
  {
   "cell_type": "code",
   "execution_count": 5,
   "id": "1636c2ea",
   "metadata": {},
   "outputs": [
    {
     "name": "stdout",
     "output_type": "stream",
     "text": [
      "Feature Matrix shape:  (1790, 2)\n"
     ]
    }
   ],
   "source": [
    "# Extract unique locations for node creation\n",
    "combined['location'] = list(zip(combined['longitude'], combined['latitude']))\n",
    "unique_locations = combined['location'].drop_duplicates().reset_index(drop=True)\n",
    "\n",
    "# Map locations to an identity\n",
    "location2id = {loc: idx for idx, loc in enumerate(unique_locations)}\n",
    "combined['location_id'] = combined['location'].map(location2id)\n",
    "\n",
    "# Encode labels\n",
    "le = LabelEncoder()\n",
    "combined['label'] = le.fit_transform(combined['gname'])\n",
    "\n",
    "# Get global node features\n",
    "coords = np.array([list(loc) for loc in unique_locations])  # [1790, 2]\n",
    "print(\"Feature Matrix shape: \", coords.shape)\n",
    "\n",
    "# Standardize features\n",
    "scaler = StandardScaler()\n",
    "x_global = scaler.fit_transform(coords)  # standardized features\n",
    "\n",
    "# Build global edge list using 1km Haversine\n",
    "edges = []\n",
    "coords_latlon = [(lat, lon) for lon, lat in unique_locations]\n",
    "for i in range(len(coords_latlon)):\n",
    "    for j in range(i + 1, len(coords_latlon)):\n",
    "        if haversine(coords_latlon[i], coords_latlon[j], Unit.KILOMETERS) <= 1.0:\n",
    "            edges.append((i, j))\n",
    "            edges.append((j, i))\n",
    "\n",
    "global_edge_index = torch.tensor(edges, dtype=torch.long).T  # shape [2, num_edges]\n"
   ]
  },
  {
   "cell_type": "code",
   "execution_count": 6,
   "id": "1d434af1",
   "metadata": {},
   "outputs": [
    {
     "data": {
      "text/plain": [
       "torch.Size([2, 242])"
      ]
     },
     "execution_count": 6,
     "metadata": {},
     "output_type": "execute_result"
    }
   ],
   "source": [
    "global_edge_index.shape"
   ]
  },
  {
   "cell_type": "code",
   "execution_count": 7,
   "id": "94844555",
   "metadata": {},
   "outputs": [
    {
     "name": "stdout",
     "output_type": "stream",
     "text": [
      "Nodes with at least one neighbor:  161\n"
     ]
    }
   ],
   "source": [
    "unique_nodes = torch.unique(global_edge_index)\n",
    "print(\"Nodes with at least one neighbor: \", len(unique_nodes))"
   ]
  },
  {
   "cell_type": "markdown",
   "id": "32d27f3f",
   "metadata": {},
   "source": [
    "### Creating subgraphs for each node depending on its neighbors"
   ]
  },
  {
   "cell_type": "code",
   "execution_count": 8,
   "id": "b5d04f14",
   "metadata": {},
   "outputs": [],
   "source": [
    "def get_subgraph(center_id, edge_index, x_global):\n",
    "    # Get neighbors (indices) of center node\n",
    "    neighbors = edge_index[1][edge_index[0] == center_id]\n",
    "    node_ids = torch.cat([torch.tensor([center_id]), neighbors]).unique()\n",
    "\n",
    "    # Remap node indices locally\n",
    "    id_map = {old_id.item(): i for i, old_id in enumerate(node_ids)}\n",
    "    new_edges = []\n",
    "    for source, destination in zip(*edge_index):\n",
    "        if source in node_ids and destination in node_ids:\n",
    "            new_edges.append((id_map[source.item()], id_map[destination.item()]))\n",
    "\n",
    "    # If no edges exist, add a self-loop\n",
    "    if len(new_edges) == 0:\n",
    "        center_local_idx = 0  # only node in subgraph\n",
    "        new_edges = [(0, 0)]\n",
    "    else:\n",
    "        center_local_idx = id_map[center_id.item()]\n",
    "\n",
    "    sub_x = x_global[node_ids]\n",
    "    sub_edge_index = torch.tensor(new_edges).T\n",
    "\n",
    "    return sub_x, sub_edge_index, center_local_idx\n"
   ]
  },
  {
   "cell_type": "code",
   "execution_count": 9,
   "id": "464950c9",
   "metadata": {},
   "outputs": [],
   "source": [
    "from torch_geometric.data import Data\n",
    "\n",
    "traindata_list = []\n",
    "for _, row in traindata.iterrows():\n",
    "    center_id = location2id[(row['longitude'], row['latitude'])]\n",
    "    label = le.transform([row['gname']])[0]\n",
    "    \n",
    "    x, edge_index, center_idx = get_subgraph(torch.tensor(center_id), global_edge_index, torch.tensor(x_global, dtype=torch.float))\n",
    "    \n",
    "    traindata_obj = Data(x=x, edge_index=edge_index, y=torch.tensor(label), center=center_idx)\n",
    "    traindata_list.append(traindata_obj)\n"
   ]
  },
  {
   "cell_type": "code",
   "execution_count": 10,
   "id": "4ad3eb3c",
   "metadata": {},
   "outputs": [],
   "source": [
    "test_data_list = []\n",
    "for _, row in testdata.iterrows():\n",
    "    loc = (row['longitude'], row['latitude'])\n",
    "    \n",
    "    # Skip if location not in mapping (just in case)\n",
    "    if loc not in location2id:\n",
    "        continue\n",
    "    \n",
    "    center_id = location2id[loc]\n",
    "    label = le.transform([row['gname']])[0]\n",
    "    \n",
    "    x, edge_index, center_idx = get_subgraph(\n",
    "        torch.tensor(center_id),\n",
    "        global_edge_index,\n",
    "        torch.tensor(x_global, dtype=torch.float)\n",
    "    )\n",
    "\n",
    "    testdata_obj = Data(x=x, edge_index=edge_index, y=torch.tensor(label), center=center_idx)\n",
    "    test_data_list.append(testdata_obj)"
   ]
  },
  {
   "cell_type": "markdown",
   "id": "ace2e847",
   "metadata": {},
   "source": [
    "### GCN Model"
   ]
  },
  {
   "cell_type": "code",
   "execution_count": 11,
   "id": "f10d1394",
   "metadata": {},
   "outputs": [],
   "source": [
    "import torch\n",
    "import torch.nn as nn\n",
    "import torch.nn.functional as F\n",
    "from torch_geometric.nn import GCNConv\n",
    "\n",
    "class GCN(nn.Module):\n",
    "    def __init__(self, in_channels, hidden_channels, out_channels):\n",
    "        super().__init__()\n",
    "        self.conv1 = GCNConv(in_channels, hidden_channels)\n",
    "        self.conv2 = GCNConv(hidden_channels, hidden_channels)\n",
    "        self.classifier = nn.Linear(hidden_channels, out_channels)\n",
    "\n",
    "    def forward(self, x, edge_index, batch=None, center_indices=None):\n",
    "        \"\"\"\n",
    "        x: [num_nodes_in_subgraph, in_channels]\n",
    "        edge_index: [2, num_edges] — edges for this subgraph\n",
    "        center_indices: indices of center nodes (usually len=1), used to extract prediction\n",
    "        \"\"\"\n",
    "        #print(f\"Node {center_indices}: edges for this subgraph, {edge_index.shape[1]}\")\n",
    "        x = self.conv1(x, edge_index)\n",
    "        x = F.relu(x)\n",
    "        x = self.conv2(x, edge_index)\n",
    "        \n",
    "        # Pick only the embeddings of the center nodes\n",
    "        center_embeddings = x[center_indices]  # shape: [1, hidden_dim]\n",
    "        \n",
    "        out = self.classifier(center_embeddings)  # shape: [1, out_channels]\n",
    "        return F.log_softmax(out, dim=1)\n"
   ]
  },
  {
   "cell_type": "markdown",
   "id": "7bfea568",
   "metadata": {},
   "source": [
    "### Training and Testing"
   ]
  },
  {
   "cell_type": "code",
   "execution_count": 12,
   "id": "b63f432b",
   "metadata": {},
   "outputs": [
    {
     "name": "stdout",
     "output_type": "stream",
     "text": [
      "30\n"
     ]
    }
   ],
   "source": [
    "print(len(le.classes_))\n",
    "\n",
    "import torch\n",
    "\n",
    "device = torch.device('cuda' if torch.cuda.is_available() else 'cpu')\n",
    "\n",
    "model = GCN(in_channels=2, hidden_channels=64, out_channels=len(le.classes_)).to(device)\n",
    "optimizer = torch.optim.Adam(model.parameters(), lr=0.01, weight_decay=5e-4)\n",
    "criterion = torch.nn.CrossEntropyLoss()"
   ]
  },
  {
   "cell_type": "code",
   "execution_count": 13,
   "id": "7e83d5c8",
   "metadata": {},
   "outputs": [],
   "source": [
    "from sklearn.model_selection import train_test_split\n",
    "\n",
    "train_set, val_set = train_test_split(traindata_list, test_size=0.2, random_state=42)\n"
   ]
  },
  {
   "cell_type": "code",
   "execution_count": 14,
   "id": "ba08de31",
   "metadata": {},
   "outputs": [],
   "source": [
    "def train():\n",
    "    model.train()\n",
    "    total_loss = 0\n",
    "    for data in train_set:\n",
    "        data = data.to(device)\n",
    "        optimizer.zero_grad()\n",
    "        out = model(data.x, data.edge_index, center_indices=torch.tensor([data.center], device=device))\n",
    "        loss = criterion(out, data.y.unsqueeze(0))\n",
    "        loss.backward()\n",
    "        optimizer.step()\n",
    "        total_loss += loss.item()\n",
    "    return total_loss / len(train_set)\n",
    "\n",
    "@torch.no_grad()\n",
    "def evaluate(dataset):\n",
    "    model.eval()\n",
    "    correct = 0\n",
    "    for data in dataset:\n",
    "        data = data.to(device)\n",
    "        out = model(data.x, data.edge_index, center_indices=torch.tensor([data.center], device=device))\n",
    "        pred = out.argmax(dim=1)\n",
    "        correct += (pred == data.y).item()\n",
    "    return correct / len(dataset)\n"
   ]
  },
  {
   "cell_type": "code",
   "execution_count": 15,
   "id": "db678686",
   "metadata": {},
   "outputs": [
    {
     "name": "stdout",
     "output_type": "stream",
     "text": [
      "Epoch 001 | Loss: 1.7513 | Train Acc: 0.4661 | Val Acc: 0.4452\n",
      "Epoch 002 | Loss: 1.2956 | Train Acc: 0.5976 | Val Acc: 0.5714\n",
      "Epoch 003 | Loss: 1.1636 | Train Acc: 0.5976 | Val Acc: 0.5690\n",
      "Epoch 004 | Loss: 1.1069 | Train Acc: 0.6113 | Val Acc: 0.5929\n",
      "Epoch 005 | Loss: 1.0845 | Train Acc: 0.6119 | Val Acc: 0.5881\n",
      "Epoch 006 | Loss: 1.0577 | Train Acc: 0.6339 | Val Acc: 0.6167\n",
      "Epoch 007 | Loss: 1.0108 | Train Acc: 0.6113 | Val Acc: 0.5857\n",
      "Epoch 008 | Loss: 1.0121 | Train Acc: 0.6458 | Val Acc: 0.6286\n",
      "Epoch 009 | Loss: 0.9933 | Train Acc: 0.6321 | Val Acc: 0.6214\n",
      "Epoch 010 | Loss: 0.9779 | Train Acc: 0.6274 | Val Acc: 0.6214\n",
      "Epoch 011 | Loss: 0.9498 | Train Acc: 0.6292 | Val Acc: 0.6333\n",
      "Epoch 012 | Loss: 0.9461 | Train Acc: 0.6327 | Val Acc: 0.6476\n",
      "Epoch 013 | Loss: 0.9523 | Train Acc: 0.6190 | Val Acc: 0.6333\n",
      "Epoch 014 | Loss: 0.9433 | Train Acc: 0.6476 | Val Acc: 0.6738\n",
      "Epoch 015 | Loss: 0.9049 | Train Acc: 0.6631 | Val Acc: 0.6857\n",
      "Epoch 016 | Loss: 0.8978 | Train Acc: 0.6536 | Val Acc: 0.6810\n",
      "Epoch 017 | Loss: 0.9280 | Train Acc: 0.6649 | Val Acc: 0.6738\n",
      "Epoch 018 | Loss: 0.9054 | Train Acc: 0.6637 | Val Acc: 0.6810\n",
      "Epoch 019 | Loss: 0.8927 | Train Acc: 0.6607 | Val Acc: 0.6881\n",
      "Epoch 020 | Loss: 0.8959 | Train Acc: 0.6857 | Val Acc: 0.7071\n",
      "Epoch 021 | Loss: 0.9033 | Train Acc: 0.6685 | Val Acc: 0.6857\n",
      "Epoch 022 | Loss: 0.8734 | Train Acc: 0.6815 | Val Acc: 0.6857\n",
      "Epoch 023 | Loss: 0.8819 | Train Acc: 0.6345 | Val Acc: 0.6714\n",
      "Epoch 024 | Loss: 0.8989 | Train Acc: 0.7173 | Val Acc: 0.7333\n",
      "Epoch 025 | Loss: 0.8907 | Train Acc: 0.6881 | Val Acc: 0.6976\n",
      "Epoch 026 | Loss: 0.8582 | Train Acc: 0.6702 | Val Acc: 0.6857\n",
      "Epoch 027 | Loss: 0.8750 | Train Acc: 0.6583 | Val Acc: 0.6881\n",
      "Epoch 028 | Loss: 0.8652 | Train Acc: 0.6774 | Val Acc: 0.6976\n",
      "Epoch 029 | Loss: 0.8582 | Train Acc: 0.6720 | Val Acc: 0.6881\n",
      "Epoch 030 | Loss: 0.8815 | Train Acc: 0.6786 | Val Acc: 0.6905\n",
      "Epoch 031 | Loss: 0.8812 | Train Acc: 0.6851 | Val Acc: 0.6857\n",
      "Epoch 032 | Loss: 0.8578 | Train Acc: 0.7030 | Val Acc: 0.7119\n",
      "Epoch 033 | Loss: 0.8597 | Train Acc: 0.6673 | Val Acc: 0.6786\n",
      "Epoch 034 | Loss: 0.8352 | Train Acc: 0.6750 | Val Acc: 0.6833\n",
      "Epoch 035 | Loss: 0.8440 | Train Acc: 0.6506 | Val Acc: 0.6643\n",
      "Epoch 036 | Loss: 0.8767 | Train Acc: 0.6792 | Val Acc: 0.6905\n",
      "Epoch 037 | Loss: 0.8284 | Train Acc: 0.6542 | Val Acc: 0.6619\n",
      "Epoch 038 | Loss: 0.8592 | Train Acc: 0.7292 | Val Acc: 0.7333\n",
      "Epoch 039 | Loss: 0.8476 | Train Acc: 0.6869 | Val Acc: 0.7024\n",
      "Epoch 040 | Loss: 0.8758 | Train Acc: 0.7036 | Val Acc: 0.7238\n",
      "Epoch 041 | Loss: 0.8364 | Train Acc: 0.6875 | Val Acc: 0.6929\n",
      "Epoch 042 | Loss: 0.9114 | Train Acc: 0.7065 | Val Acc: 0.7214\n",
      "Epoch 043 | Loss: 0.8085 | Train Acc: 0.7220 | Val Acc: 0.7238\n",
      "Epoch 044 | Loss: 0.8663 | Train Acc: 0.6905 | Val Acc: 0.7167\n",
      "Epoch 045 | Loss: 0.8479 | Train Acc: 0.6952 | Val Acc: 0.6929\n",
      "Epoch 046 | Loss: 0.8447 | Train Acc: 0.6750 | Val Acc: 0.6857\n",
      "Epoch 047 | Loss: 0.8827 | Train Acc: 0.6881 | Val Acc: 0.6905\n",
      "Epoch 048 | Loss: 0.8307 | Train Acc: 0.6994 | Val Acc: 0.6952\n",
      "Epoch 049 | Loss: 0.8560 | Train Acc: 0.7006 | Val Acc: 0.7048\n",
      "Epoch 050 | Loss: 0.8253 | Train Acc: 0.7054 | Val Acc: 0.7381\n",
      "Epoch 051 | Loss: 0.8445 | Train Acc: 0.6893 | Val Acc: 0.7095\n",
      "Epoch 052 | Loss: 0.8660 | Train Acc: 0.7262 | Val Acc: 0.7238\n",
      "Epoch 053 | Loss: 0.8077 | Train Acc: 0.6887 | Val Acc: 0.6952\n",
      "Epoch 054 | Loss: 0.9232 | Train Acc: 0.6887 | Val Acc: 0.7024\n",
      "Epoch 055 | Loss: 0.8065 | Train Acc: 0.7155 | Val Acc: 0.7619\n",
      "Epoch 056 | Loss: 0.8534 | Train Acc: 0.7089 | Val Acc: 0.7262\n",
      "Epoch 057 | Loss: 0.8530 | Train Acc: 0.6863 | Val Acc: 0.6810\n",
      "Epoch 058 | Loss: 0.8224 | Train Acc: 0.6976 | Val Acc: 0.6976\n",
      "Epoch 059 | Loss: 0.8776 | Train Acc: 0.7244 | Val Acc: 0.7500\n",
      "Epoch 060 | Loss: 0.8261 | Train Acc: 0.7310 | Val Acc: 0.7643\n",
      "Epoch 061 | Loss: 0.8168 | Train Acc: 0.6673 | Val Acc: 0.7262\n",
      "Epoch 062 | Loss: 0.8498 | Train Acc: 0.7190 | Val Acc: 0.7571\n",
      "Epoch 063 | Loss: 0.8106 | Train Acc: 0.6905 | Val Acc: 0.7286\n",
      "Epoch 064 | Loss: 0.9128 | Train Acc: 0.6994 | Val Acc: 0.7095\n",
      "Epoch 065 | Loss: 0.8375 | Train Acc: 0.7024 | Val Acc: 0.7310\n",
      "Epoch 066 | Loss: 0.8085 | Train Acc: 0.7048 | Val Acc: 0.7262\n",
      "Epoch 067 | Loss: 0.9020 | Train Acc: 0.6887 | Val Acc: 0.7000\n",
      "Epoch 068 | Loss: 0.8289 | Train Acc: 0.6952 | Val Acc: 0.7548\n",
      "Epoch 069 | Loss: 0.8234 | Train Acc: 0.6958 | Val Acc: 0.6905\n",
      "Epoch 070 | Loss: 0.8475 | Train Acc: 0.7167 | Val Acc: 0.7357\n",
      "Epoch 071 | Loss: 0.8300 | Train Acc: 0.7190 | Val Acc: 0.7571\n",
      "Epoch 072 | Loss: 0.8983 | Train Acc: 0.7167 | Val Acc: 0.7381\n",
      "Epoch 073 | Loss: 0.8032 | Train Acc: 0.7077 | Val Acc: 0.7357\n",
      "Epoch 074 | Loss: 0.8309 | Train Acc: 0.7167 | Val Acc: 0.7452\n",
      "Epoch 075 | Loss: 0.8956 | Train Acc: 0.7125 | Val Acc: 0.7143\n",
      "Epoch 076 | Loss: 0.7978 | Train Acc: 0.6923 | Val Acc: 0.7048\n",
      "Epoch 077 | Loss: 0.8307 | Train Acc: 0.6929 | Val Acc: 0.6976\n",
      "Epoch 078 | Loss: 0.8673 | Train Acc: 0.6887 | Val Acc: 0.7357\n",
      "Epoch 079 | Loss: 0.8119 | Train Acc: 0.6952 | Val Acc: 0.7214\n",
      "Epoch 080 | Loss: 0.8306 | Train Acc: 0.7214 | Val Acc: 0.7667\n",
      "Epoch 081 | Loss: 0.8300 | Train Acc: 0.6869 | Val Acc: 0.7071\n",
      "Epoch 082 | Loss: 0.8227 | Train Acc: 0.7173 | Val Acc: 0.7262\n",
      "Epoch 083 | Loss: 0.8465 | Train Acc: 0.7083 | Val Acc: 0.7476\n",
      "Epoch 084 | Loss: 0.8375 | Train Acc: 0.7006 | Val Acc: 0.6976\n",
      "Epoch 085 | Loss: 0.8177 | Train Acc: 0.7077 | Val Acc: 0.7095\n",
      "Epoch 086 | Loss: 0.8278 | Train Acc: 0.7095 | Val Acc: 0.7381\n",
      "Epoch 087 | Loss: 0.8399 | Train Acc: 0.7268 | Val Acc: 0.7476\n",
      "Epoch 088 | Loss: 0.8290 | Train Acc: 0.7155 | Val Acc: 0.7071\n",
      "Epoch 089 | Loss: 0.8525 | Train Acc: 0.7048 | Val Acc: 0.7048\n",
      "Epoch 090 | Loss: 0.8128 | Train Acc: 0.6845 | Val Acc: 0.6976\n",
      "Epoch 091 | Loss: 0.8439 | Train Acc: 0.7369 | Val Acc: 0.7452\n",
      "Epoch 092 | Loss: 0.8132 | Train Acc: 0.7089 | Val Acc: 0.7095\n",
      "Epoch 093 | Loss: 0.8388 | Train Acc: 0.6964 | Val Acc: 0.7095\n",
      "Epoch 094 | Loss: 0.8142 | Train Acc: 0.7089 | Val Acc: 0.7167\n",
      "Epoch 095 | Loss: 0.8522 | Train Acc: 0.7155 | Val Acc: 0.7238\n",
      "Epoch 096 | Loss: 0.8698 | Train Acc: 0.6923 | Val Acc: 0.7000\n",
      "Epoch 097 | Loss: 0.8122 | Train Acc: 0.7113 | Val Acc: 0.7167\n",
      "Epoch 098 | Loss: 0.8085 | Train Acc: 0.7321 | Val Acc: 0.7381\n",
      "Epoch 099 | Loss: 0.8443 | Train Acc: 0.7232 | Val Acc: 0.7786\n",
      "Epoch 100 | Loss: 0.8215 | Train Acc: 0.7000 | Val Acc: 0.6976\n",
      "Epoch 101 | Loss: 0.8390 | Train Acc: 0.6958 | Val Acc: 0.7238\n",
      "Epoch 102 | Loss: 0.8238 | Train Acc: 0.7101 | Val Acc: 0.7548\n",
      "Epoch 103 | Loss: 0.8591 | Train Acc: 0.7000 | Val Acc: 0.7024\n",
      "Epoch 104 | Loss: 0.8092 | Train Acc: 0.7131 | Val Acc: 0.7143\n",
      "Epoch 105 | Loss: 0.8552 | Train Acc: 0.6964 | Val Acc: 0.7524\n",
      "Epoch 106 | Loss: 0.7992 | Train Acc: 0.6982 | Val Acc: 0.7048\n",
      "Epoch 107 | Loss: 0.8335 | Train Acc: 0.6893 | Val Acc: 0.6881\n",
      "Epoch 108 | Loss: 0.8844 | Train Acc: 0.7042 | Val Acc: 0.7143\n",
      "Epoch 109 | Loss: 0.8114 | Train Acc: 0.6798 | Val Acc: 0.6762\n",
      "Epoch 110 | Loss: 0.8033 | Train Acc: 0.6857 | Val Acc: 0.6929\n",
      "Epoch 111 | Loss: 0.8396 | Train Acc: 0.7310 | Val Acc: 0.7381\n",
      "Epoch 112 | Loss: 0.8327 | Train Acc: 0.7089 | Val Acc: 0.7167\n",
      "Epoch 113 | Loss: 0.8170 | Train Acc: 0.7089 | Val Acc: 0.7190\n",
      "Epoch 114 | Loss: 0.8213 | Train Acc: 0.6786 | Val Acc: 0.6905\n",
      "Epoch 115 | Loss: 0.8378 | Train Acc: 0.7083 | Val Acc: 0.7214\n",
      "Epoch 116 | Loss: 0.8166 | Train Acc: 0.7024 | Val Acc: 0.7119\n",
      "Epoch 117 | Loss: 0.8316 | Train Acc: 0.6887 | Val Acc: 0.6881\n",
      "Epoch 118 | Loss: 0.8298 | Train Acc: 0.7095 | Val Acc: 0.7143\n",
      "Epoch 119 | Loss: 0.8302 | Train Acc: 0.7196 | Val Acc: 0.7500\n",
      "Epoch 120 | Loss: 0.8302 | Train Acc: 0.7054 | Val Acc: 0.7214\n",
      "Epoch 121 | Loss: 0.8274 | Train Acc: 0.7452 | Val Acc: 0.7762\n",
      "Epoch 122 | Loss: 0.8466 | Train Acc: 0.6833 | Val Acc: 0.7095\n",
      "Epoch 123 | Loss: 0.8118 | Train Acc: 0.6839 | Val Acc: 0.6833\n",
      "Epoch 124 | Loss: 0.8287 | Train Acc: 0.6786 | Val Acc: 0.6619\n",
      "Epoch 125 | Loss: 0.8356 | Train Acc: 0.7095 | Val Acc: 0.7214\n",
      "Epoch 126 | Loss: 0.8238 | Train Acc: 0.6940 | Val Acc: 0.7048\n",
      "Epoch 127 | Loss: 0.8632 | Train Acc: 0.6911 | Val Acc: 0.7000\n",
      "Epoch 128 | Loss: 0.8049 | Train Acc: 0.7131 | Val Acc: 0.7357\n",
      "Epoch 129 | Loss: 0.8150 | Train Acc: 0.7077 | Val Acc: 0.7000\n",
      "Early stopping at epoch 129\n",
      "\n",
      "Final Test Accuracy after early stopping: 0.7222\n"
     ]
    }
   ],
   "source": [
    "best_model_state = model.state_dict()\n",
    "best_val_acc = 0.0\n",
    "patience = 30\n",
    "patience_counter = 0\n",
    "\n",
    "for epoch in range(1, 201):\n",
    "    loss = train()\n",
    "    train_acc = evaluate(train_set)\n",
    "    val_acc = evaluate(val_set)\n",
    "\n",
    "    print(f\"Epoch {epoch:03d} | Loss: {loss:.4f} | Train Acc: {train_acc:.4f} | Val Acc: {val_acc:.4f}\")\n",
    "\n",
    "    if val_acc > best_val_acc:\n",
    "        best_val_acc = val_acc\n",
    "        patience_counter = 0\n",
    "        best_model_state = model.state_dict()\n",
    "    else:\n",
    "        patience_counter += 1\n",
    "        if patience_counter >= patience:\n",
    "            print(f\"Early stopping at epoch {epoch}\")\n",
    "            break\n",
    "\n",
    "# Final test evaluation\n",
    "model.load_state_dict(best_model_state)\n",
    "test_acc = evaluate(test_data_list)\n",
    "print(f\"\\nFinal Test Accuracy after early stopping: {test_acc:.4f}\")\n"
   ]
  }
 ],
 "metadata": {
  "kernelspec": {
   "display_name": "Python 3",
   "language": "python",
   "name": "python3"
  },
  "language_info": {
   "codemirror_mode": {
    "name": "ipython",
    "version": 3
   },
   "file_extension": ".py",
   "mimetype": "text/x-python",
   "name": "python",
   "nbconvert_exporter": "python",
   "pygments_lexer": "ipython3",
   "version": "3.11.9"
  }
 },
 "nbformat": 4,
 "nbformat_minor": 5
}
