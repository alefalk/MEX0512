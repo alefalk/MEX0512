{
 "cells": [
  {
   "cell_type": "code",
   "execution_count": 17,
   "id": "ec8b7c2e",
   "metadata": {},
   "outputs": [],
   "source": [
    "import torch\n",
    "import numpy as np\n",
    "import pandas as pd\n",
    "from haversine import haversine, Unit\n",
    "from torch_geometric.data import Data\n",
    "from torch_geometric.loader import DataLoader\n",
    "from torch_geometric.nn import GCNConv, global_mean_pool\n",
    "import torch.nn.functional as F\n",
    "from sklearn.preprocessing import LabelEncoder, StandardScaler\n"
   ]
  },
  {
   "cell_type": "code",
   "execution_count": 18,
   "id": "0152b694",
   "metadata": {},
   "outputs": [],
   "source": [
    "partition = 100"
   ]
  },
  {
   "cell_type": "markdown",
   "id": "ec6bac11",
   "metadata": {},
   "source": [
    "# 1. Load Dataset"
   ]
  },
  {
   "cell_type": "code",
   "execution_count": 19,
   "id": "0a56371a",
   "metadata": {},
   "outputs": [],
   "source": [
    "trainpath = f'../../../data/top30groups/LongLatCombined/train1/train{partition}.csv'\n",
    "testpath = f'../../../data/top30groups/LongLatCombined/test1/test{partition}.csv'\n",
    "traindata = pd.read_csv(trainpath, encoding='ISO-8859-1')\n",
    "testdata = pd.read_csv(testpath, encoding='ISO-8859-1')"
   ]
  },
  {
   "cell_type": "code",
   "execution_count": 20,
   "id": "3c53a076",
   "metadata": {},
   "outputs": [],
   "source": [
    "combined = pd.concat([traindata, testdata], axis = 0)"
   ]
  },
  {
   "cell_type": "markdown",
   "id": "c1bdd499",
   "metadata": {},
   "source": [
    "### Find unique locations and construct global graph"
   ]
  },
  {
   "cell_type": "code",
   "execution_count": 21,
   "id": "1636c2ea",
   "metadata": {},
   "outputs": [
    {
     "name": "stdout",
     "output_type": "stream",
     "text": [
      "Feature Matrix shape:  (1790, 2)\n"
     ]
    }
   ],
   "source": [
    "# Extract unique locations for node creation\n",
    "combined['location'] = list(zip(combined['longitude'], combined['latitude']))\n",
    "unique_locations = combined['location'].drop_duplicates().reset_index(drop=True)\n",
    "\n",
    "# Map locations to an identity\n",
    "location2id = {loc: idx for idx, loc in enumerate(unique_locations)}\n",
    "combined['location_id'] = combined['location'].map(location2id)\n",
    "\n",
    "# Encode labels\n",
    "le = LabelEncoder()\n",
    "combined['label'] = le.fit_transform(combined['gname'])\n",
    "\n",
    "# Get global node features\n",
    "coords = np.array([list(loc) for loc in unique_locations])  # [1790, 2]\n",
    "print(\"Feature Matrix shape: \", coords.shape)\n",
    "\n",
    "# Standardize features\n",
    "scaler = StandardScaler()\n",
    "x_global = scaler.fit_transform(coords)  # standardized features\n",
    "\n",
    "# Build global edge list using 1km Haversine\n",
    "edges = []\n",
    "coords_latlon = [(lat, lon) for lon, lat in unique_locations]\n",
    "for i in range(len(coords_latlon)):\n",
    "    for j in range(i + 1, len(coords_latlon)):\n",
    "        if haversine(coords_latlon[i], coords_latlon[j], Unit.KILOMETERS) <= 1.0:\n",
    "            edges.append((i, j))\n",
    "            edges.append((j, i))\n",
    "\n",
    "global_edge_index = torch.tensor(edges, dtype=torch.long).T  # shape [2, num_edges]\n"
   ]
  },
  {
   "cell_type": "code",
   "execution_count": 22,
   "id": "1d434af1",
   "metadata": {},
   "outputs": [
    {
     "data": {
      "text/plain": [
       "torch.Size([2, 242])"
      ]
     },
     "execution_count": 22,
     "metadata": {},
     "output_type": "execute_result"
    }
   ],
   "source": [
    "global_edge_index.shape"
   ]
  },
  {
   "cell_type": "code",
   "execution_count": 23,
   "id": "94844555",
   "metadata": {},
   "outputs": [
    {
     "name": "stdout",
     "output_type": "stream",
     "text": [
      "Nodes with at least one neighbor:  161\n"
     ]
    }
   ],
   "source": [
    "unique_nodes = torch.unique(global_edge_index)\n",
    "print(\"Nodes with at least one neighbor: \", len(unique_nodes))"
   ]
  },
  {
   "cell_type": "markdown",
   "id": "32d27f3f",
   "metadata": {},
   "source": [
    "### Creating subgraphs for each node depending on its neighbors"
   ]
  },
  {
   "cell_type": "code",
   "execution_count": 24,
   "id": "b5d04f14",
   "metadata": {},
   "outputs": [],
   "source": [
    "def get_subgraph(center_id, edge_index, x_global):\n",
    "    # Get neighbors (indices) of center node\n",
    "    neighbors = edge_index[1][edge_index[0] == center_id]\n",
    "    node_ids = torch.cat([torch.tensor([center_id]), neighbors]).unique()\n",
    "\n",
    "    # Remap node indices locally\n",
    "    id_map = {old_id.item(): i for i, old_id in enumerate(node_ids)}\n",
    "    new_edges = []\n",
    "    for source, destination in zip(*edge_index):\n",
    "        if source in node_ids and destination in node_ids:\n",
    "            new_edges.append((id_map[source.item()], id_map[destination.item()]))\n",
    "\n",
    "    # If no edges exist, add a self-loop\n",
    "    if len(new_edges) == 0:\n",
    "        center_local_idx = 0  # only node in subgraph\n",
    "        new_edges = [(0, 0)]\n",
    "    else:\n",
    "        center_local_idx = id_map[center_id.item()]\n",
    "\n",
    "    sub_x = x_global[node_ids]\n",
    "    sub_edge_index = torch.tensor(new_edges).T\n",
    "\n",
    "    return sub_x, sub_edge_index, center_local_idx\n"
   ]
  },
  {
   "cell_type": "markdown",
   "id": "1f9e67ff",
   "metadata": {},
   "source": [
    "### Subgraphs for train"
   ]
  },
  {
   "cell_type": "code",
   "execution_count": 25,
   "id": "464950c9",
   "metadata": {},
   "outputs": [],
   "source": [
    "from torch_geometric.data import Data\n",
    "\n",
    "traindata_list = []\n",
    "for _, row in traindata.iterrows():\n",
    "    center_id = location2id[(row['longitude'], row['latitude'])]\n",
    "    label = le.transform([row['gname']])[0]\n",
    "    \n",
    "    x, edge_index, center_idx = get_subgraph(torch.tensor(center_id), global_edge_index, torch.tensor(x_global, dtype=torch.float))\n",
    "    \n",
    "    traindata_obj = Data(x=x, edge_index=edge_index, y=torch.tensor(label), center=center_idx)\n",
    "    traindata_list.append(traindata_obj)\n"
   ]
  },
  {
   "cell_type": "markdown",
   "id": "b30c3ae9",
   "metadata": {},
   "source": [
    "### Subgraphs for test"
   ]
  },
  {
   "cell_type": "code",
   "execution_count": 26,
   "id": "4ad3eb3c",
   "metadata": {},
   "outputs": [],
   "source": [
    "test_data_list = []\n",
    "for _, row in testdata.iterrows():\n",
    "    loc = (row['longitude'], row['latitude'])\n",
    "    \n",
    "    # Skip if location not in mapping (just in case)\n",
    "    if loc not in location2id:\n",
    "        continue\n",
    "    \n",
    "    center_id = location2id[loc]\n",
    "    label = le.transform([row['gname']])[0]\n",
    "    \n",
    "    x, edge_index, center_idx = get_subgraph(\n",
    "        torch.tensor(center_id),\n",
    "        global_edge_index,\n",
    "        torch.tensor(x_global, dtype=torch.float)\n",
    "    )\n",
    "\n",
    "    testdata_obj = Data(x=x, edge_index=edge_index, y=torch.tensor(label), center=center_idx)\n",
    "    test_data_list.append(testdata_obj)"
   ]
  },
  {
   "cell_type": "markdown",
   "id": "ace2e847",
   "metadata": {},
   "source": [
    "### GCN Model"
   ]
  },
  {
   "cell_type": "code",
   "execution_count": 27,
   "id": "f10d1394",
   "metadata": {},
   "outputs": [],
   "source": [
    "import torch.nn as nn\n",
    "\n",
    "\n",
    "class GCN(nn.Module):\n",
    "    def __init__(self, in_channels, hidden_channels, out_channels):\n",
    "        super().__init__()\n",
    "        self.conv1 = GCNConv(in_channels, hidden_channels)\n",
    "        self.conv2 = GCNConv(hidden_channels, hidden_channels)\n",
    "        self.classifier = nn.Linear(hidden_channels, out_channels)\n",
    "\n",
    "    def forward(self, data):\n",
    "        x, edge_index = data.x, data.edge_index\n",
    "        center_indices = data.center\n",
    "\n",
    "        x = self.conv1(x, edge_index)\n",
    "        x = F.relu(x)\n",
    "        x = self.conv2(x, edge_index)\n",
    "\n",
    "        center_embeddings = x[center_indices]\n",
    "        out = self.classifier(center_embeddings)\n",
    "        return F.log_softmax(out, dim=1)\n",
    "\n"
   ]
  },
  {
   "cell_type": "markdown",
   "id": "7bfea568",
   "metadata": {},
   "source": [
    "### Training and Testing"
   ]
  },
  {
   "cell_type": "code",
   "execution_count": 28,
   "id": "b63f432b",
   "metadata": {},
   "outputs": [
    {
     "name": "stdout",
     "output_type": "stream",
     "text": [
      "30\n"
     ]
    }
   ],
   "source": [
    "print(len(le.classes_))\n",
    "\n",
    "import torch\n",
    "\n",
    "device = torch.device('cuda' if torch.cuda.is_available() else 'cpu')\n",
    "\n",
    "model = GCN(in_channels=2, hidden_channels=64, out_channels=len(le.classes_)).to(device)\n",
    "optimizer = torch.optim.Adam(model.parameters(), lr=0.01, weight_decay=5e-4)\n",
    "criterion = torch.nn.CrossEntropyLoss()"
   ]
  },
  {
   "cell_type": "code",
   "execution_count": 29,
   "id": "7e83d5c8",
   "metadata": {},
   "outputs": [],
   "source": [
    "from sklearn.model_selection import train_test_split\n",
    "\n",
    "train_set, val_set = train_test_split(traindata_list, test_size=0.2, random_state=42)\n"
   ]
  },
  {
   "cell_type": "markdown",
   "id": "cc52e705",
   "metadata": {},
   "source": [
    "### Define batches"
   ]
  },
  {
   "cell_type": "code",
   "execution_count": 30,
   "id": "823ac07f",
   "metadata": {},
   "outputs": [],
   "source": [
    "train_loader = DataLoader(train_set, batch_size=32, shuffle=True)\n",
    "val_loader = DataLoader(val_set, batch_size=32)\n",
    "test_loader = DataLoader(test_data_list, batch_size=32)\n"
   ]
  },
  {
   "cell_type": "code",
   "execution_count": 31,
   "id": "ba08de31",
   "metadata": {},
   "outputs": [],
   "source": [
    "def train():\n",
    "    model.train()\n",
    "    total_loss = 0\n",
    "    for batch in train_loader:\n",
    "        batch = batch.to(device)\n",
    "        optimizer.zero_grad()\n",
    "        out = model(batch)\n",
    "        loss = criterion(out, batch.y)\n",
    "        loss.backward()\n",
    "        optimizer.step()\n",
    "        total_loss += loss.item()\n",
    "    return total_loss / len(train_loader)\n",
    "\n",
    "\n",
    "@torch.no_grad()\n",
    "def evaluate(loader):\n",
    "    model.eval()\n",
    "    correct = 0\n",
    "    total = 0\n",
    "    for batch in loader:\n",
    "        batch = batch.to(device)\n",
    "        out = model(batch)\n",
    "        pred = out.argmax(dim=1)\n",
    "        correct += (pred == batch.y).sum().item()\n",
    "        total += batch.y.size(0)\n",
    "    return correct / total\n"
   ]
  },
  {
   "cell_type": "code",
   "execution_count": 32,
   "id": "db678686",
   "metadata": {},
   "outputs": [
    {
     "name": "stdout",
     "output_type": "stream",
     "text": [
      "Epoch 001 | Loss: 3.4247 | Train Acc: 0.0399 | Val Acc: 0.0381\n",
      "Epoch 002 | Loss: 3.4102 | Train Acc: 0.0363 | Val Acc: 0.0262\n",
      "Epoch 003 | Loss: 3.4088 | Train Acc: 0.0357 | Val Acc: 0.0214\n",
      "Epoch 004 | Loss: 3.4057 | Train Acc: 0.0339 | Val Acc: 0.0238\n",
      "Epoch 005 | Loss: 3.4072 | Train Acc: 0.0387 | Val Acc: 0.0214\n",
      "Epoch 006 | Loss: 3.4061 | Train Acc: 0.0381 | Val Acc: 0.0214\n",
      "Epoch 007 | Loss: 3.4056 | Train Acc: 0.0387 | Val Acc: 0.0143\n",
      "Epoch 008 | Loss: 3.4046 | Train Acc: 0.0357 | Val Acc: 0.0238\n",
      "Epoch 009 | Loss: 3.4048 | Train Acc: 0.0375 | Val Acc: 0.0167\n",
      "Epoch 010 | Loss: 3.4030 | Train Acc: 0.0369 | Val Acc: 0.0238\n",
      "Epoch 011 | Loss: 3.4043 | Train Acc: 0.0357 | Val Acc: 0.0238\n",
      "Epoch 012 | Loss: 3.4045 | Train Acc: 0.0351 | Val Acc: 0.0262\n",
      "Epoch 013 | Loss: 3.4064 | Train Acc: 0.0351 | Val Acc: 0.0262\n",
      "Epoch 014 | Loss: 3.4032 | Train Acc: 0.0357 | Val Acc: 0.0238\n",
      "Epoch 015 | Loss: 3.4016 | Train Acc: 0.0333 | Val Acc: 0.0333\n",
      "Epoch 016 | Loss: 3.4065 | Train Acc: 0.0333 | Val Acc: 0.0333\n",
      "Epoch 017 | Loss: 3.4043 | Train Acc: 0.0375 | Val Acc: 0.0167\n",
      "Epoch 018 | Loss: 3.4011 | Train Acc: 0.0339 | Val Acc: 0.0310\n",
      "Epoch 019 | Loss: 3.4074 | Train Acc: 0.0321 | Val Acc: 0.0381\n",
      "Epoch 020 | Loss: 3.4062 | Train Acc: 0.0363 | Val Acc: 0.0143\n",
      "Epoch 021 | Loss: 3.4051 | Train Acc: 0.0375 | Val Acc: 0.0167\n",
      "Epoch 022 | Loss: 3.4026 | Train Acc: 0.0375 | Val Acc: 0.0167\n",
      "Epoch 023 | Loss: 3.4120 | Train Acc: 0.0375 | Val Acc: 0.0167\n",
      "Epoch 024 | Loss: 3.4059 | Train Acc: 0.0351 | Val Acc: 0.0262\n",
      "Epoch 025 | Loss: 3.4041 | Train Acc: 0.0357 | Val Acc: 0.0238\n",
      "Epoch 026 | Loss: 3.4075 | Train Acc: 0.0399 | Val Acc: 0.0238\n",
      "Epoch 027 | Loss: 3.4054 | Train Acc: 0.0315 | Val Acc: 0.0333\n",
      "Epoch 028 | Loss: 3.4041 | Train Acc: 0.0357 | Val Acc: 0.0238\n",
      "Epoch 029 | Loss: 3.4075 | Train Acc: 0.0351 | Val Acc: 0.0310\n",
      "Epoch 030 | Loss: 3.4064 | Train Acc: 0.0363 | Val Acc: 0.0238\n",
      "Epoch 031 | Loss: 3.4035 | Train Acc: 0.0339 | Val Acc: 0.0238\n",
      "Early stopping at epoch 31\n",
      "\n",
      "Final Test Accuracy after early stopping: 0.0356\n"
     ]
    }
   ],
   "source": [
    "best_model_state = model.state_dict()\n",
    "best_val_acc = 0.0\n",
    "patience = 30\n",
    "patience_counter = 0\n",
    "\n",
    "for epoch in range(1, 201):\n",
    "    model.train()\n",
    "    total_loss = 0\n",
    "\n",
    "    for batch in train_loader:\n",
    "        batch = batch.to(device)\n",
    "        optimizer.zero_grad()\n",
    "        out = model(batch)\n",
    "        loss = criterion(out, batch.y)\n",
    "        loss.backward()\n",
    "        optimizer.step()\n",
    "        total_loss += loss.item()\n",
    "\n",
    "    avg_loss = total_loss / len(train_loader)\n",
    "\n",
    "    train_acc = evaluate(train_loader)\n",
    "    val_acc = evaluate(val_loader)\n",
    "\n",
    "    print(f\"Epoch {epoch:03d} | Loss: {avg_loss:.4f} | Train Acc: {train_acc:.4f} | Val Acc: {val_acc:.4f}\")\n",
    "\n",
    "    if val_acc > best_val_acc:\n",
    "        best_val_acc = val_acc\n",
    "        patience_counter = 0\n",
    "        best_model_state = model.state_dict()\n",
    "    else:\n",
    "        patience_counter += 1\n",
    "        if patience_counter >= patience:\n",
    "            print(f\"Early stopping at epoch {epoch}\")\n",
    "            break\n",
    "\n",
    "# Final test evaluation\n",
    "model.load_state_dict(best_model_state)\n",
    "test_acc = evaluate(test_loader)\n",
    "print(f\"\\nFinal Test Accuracy after early stopping: {test_acc:.4f}\")\n"
   ]
  }
 ],
 "metadata": {
  "kernelspec": {
   "display_name": "Python 3",
   "language": "python",
   "name": "python3"
  },
  "language_info": {
   "codemirror_mode": {
    "name": "ipython",
    "version": 3
   },
   "file_extension": ".py",
   "mimetype": "text/x-python",
   "name": "python",
   "nbconvert_exporter": "python",
   "pygments_lexer": "ipython3",
   "version": "3.11.9"
  }
 },
 "nbformat": 4,
 "nbformat_minor": 5
}
