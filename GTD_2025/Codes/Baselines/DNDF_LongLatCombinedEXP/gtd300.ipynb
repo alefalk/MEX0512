{
 "cells": [
  {
   "cell_type": "code",
   "execution_count": 4,
   "metadata": {},
   "outputs": [],
   "source": [
    "partition = 300"
   ]
  },
  {
   "cell_type": "code",
   "execution_count": 5,
   "metadata": {},
   "outputs": [],
   "source": [
    "import sys\n",
    "from train import main\n",
    "from itertools import product  \n",
    "from sklearn.metrics import confusion_matrix\n",
    "import seaborn as sns\n",
    "import matplotlib.pyplot as plt\n"
   ]
  },
  {
   "cell_type": "code",
   "execution_count": 6,
   "metadata": {},
   "outputs": [
    {
     "name": "stdout",
     "output_type": "stream",
     "text": [
      "\n",
      "Running: n_tree=5, tree_depth=3, batch_size=256\n",
      "Use gtd300 dataset\n"
     ]
    },
    {
     "name": "stderr",
     "output_type": "stream",
     "text": [
      "Training Epochs:   0%|          | 1/200 [00:01<03:38,  1.10s/it]"
     ]
    },
    {
     "name": "stderr",
     "output_type": "stream",
     "text": [
      "Training Epochs:  30%|██▉       | 59/200 [01:10<02:47,  1.19s/it]"
     ]
    },
    {
     "name": "stdout",
     "output_type": "stream",
     "text": [
      "Early stopping at epoch 60\n",
      "\n",
      "Running: n_tree=5, tree_depth=3, batch_size=512\n",
      "Use gtd300 dataset\n"
     ]
    },
    {
     "name": "stderr",
     "output_type": "stream",
     "text": [
      "\n",
      "Training Epochs:  12%|█▎        | 25/200 [00:17<02:02,  1.42it/s]"
     ]
    },
    {
     "name": "stdout",
     "output_type": "stream",
     "text": [
      "Early stopping at epoch 26\n"
     ]
    },
    {
     "name": "stderr",
     "output_type": "stream",
     "text": [
      "\n"
     ]
    },
    {
     "name": "stdout",
     "output_type": "stream",
     "text": [
      "\n",
      "Running: n_tree=5, tree_depth=3, batch_size=1000\n",
      "Use gtd300 dataset\n"
     ]
    },
    {
     "name": "stderr",
     "output_type": "stream",
     "text": [
      "Training Epochs:  68%|██████▊   | 137/200 [00:55<00:25,  2.46it/s]"
     ]
    },
    {
     "name": "stdout",
     "output_type": "stream",
     "text": [
      "Early stopping at epoch 138\n",
      "\n",
      "Running: n_tree=5, tree_depth=5, batch_size=256\n",
      "Use gtd300 dataset\n"
     ]
    },
    {
     "name": "stderr",
     "output_type": "stream",
     "text": [
      "\n",
      "Training Epochs:  22%|██▏       | 44/200 [00:57<03:23,  1.31s/it]"
     ]
    },
    {
     "name": "stdout",
     "output_type": "stream",
     "text": [
      "Early stopping at epoch 45\n",
      "\n",
      "Running: n_tree=5, tree_depth=5, batch_size=512\n",
      "Use gtd300 dataset\n"
     ]
    },
    {
     "name": "stderr",
     "output_type": "stream",
     "text": [
      "\n",
      "Training Epochs:  36%|███▌      | 71/200 [00:54<01:38,  1.31it/s]"
     ]
    },
    {
     "name": "stdout",
     "output_type": "stream",
     "text": [
      "Early stopping at epoch 72\n"
     ]
    },
    {
     "name": "stderr",
     "output_type": "stream",
     "text": [
      "\n"
     ]
    },
    {
     "name": "stdout",
     "output_type": "stream",
     "text": [
      "\n",
      "Running: n_tree=5, tree_depth=5, batch_size=1000\n",
      "Use gtd300 dataset\n"
     ]
    },
    {
     "name": "stderr",
     "output_type": "stream",
     "text": [
      "Training Epochs:  50%|████▉     | 99/200 [00:48<00:49,  2.04it/s]"
     ]
    },
    {
     "name": "stdout",
     "output_type": "stream",
     "text": [
      "Early stopping at epoch 100\n"
     ]
    },
    {
     "name": "stderr",
     "output_type": "stream",
     "text": [
      "\n"
     ]
    },
    {
     "name": "stdout",
     "output_type": "stream",
     "text": [
      "\n",
      "Running: n_tree=5, tree_depth=10, batch_size=256\n",
      "Use gtd300 dataset\n"
     ]
    },
    {
     "name": "stderr",
     "output_type": "stream",
     "text": [
      "Training Epochs:  24%|██▍       | 48/200 [01:43<05:28,  2.16s/it]"
     ]
    },
    {
     "name": "stdout",
     "output_type": "stream",
     "text": [
      "Early stopping at epoch 49\n",
      "\n",
      "Running: n_tree=5, tree_depth=10, batch_size=512\n",
      "Use gtd300 dataset\n"
     ]
    },
    {
     "name": "stderr",
     "output_type": "stream",
     "text": [
      "\n",
      "Training Epochs:  14%|█▍        | 29/200 [00:33<03:14,  1.14s/it]"
     ]
    },
    {
     "name": "stdout",
     "output_type": "stream",
     "text": [
      "Early stopping at epoch 30\n",
      "\n",
      "Running: n_tree=5, tree_depth=10, batch_size=1000\n",
      "Use gtd300 dataset\n"
     ]
    },
    {
     "name": "stderr",
     "output_type": "stream",
     "text": [
      "\n",
      "Training Epochs:  22%|██▏       | 43/200 [00:30<01:49,  1.43it/s]"
     ]
    },
    {
     "name": "stdout",
     "output_type": "stream",
     "text": [
      "Early stopping at epoch 44\n",
      "\n",
      "Running: n_tree=10, tree_depth=3, batch_size=256\n",
      "Use gtd300 dataset\n"
     ]
    },
    {
     "name": "stderr",
     "output_type": "stream",
     "text": [
      "\n",
      "Training Epochs:  20%|██        | 40/200 [01:18<05:12,  1.95s/it]"
     ]
    },
    {
     "name": "stdout",
     "output_type": "stream",
     "text": [
      "Early stopping at epoch 41\n"
     ]
    },
    {
     "name": "stderr",
     "output_type": "stream",
     "text": [
      "\n"
     ]
    },
    {
     "name": "stdout",
     "output_type": "stream",
     "text": [
      "\n",
      "Running: n_tree=10, tree_depth=3, batch_size=512\n",
      "Use gtd300 dataset\n"
     ]
    },
    {
     "name": "stderr",
     "output_type": "stream",
     "text": [
      "Training Epochs:  20%|██        | 41/200 [00:43<02:49,  1.06s/it]"
     ]
    },
    {
     "name": "stdout",
     "output_type": "stream",
     "text": [
      "Early stopping at epoch 42\n"
     ]
    },
    {
     "name": "stderr",
     "output_type": "stream",
     "text": [
      "\n"
     ]
    },
    {
     "name": "stdout",
     "output_type": "stream",
     "text": [
      "\n",
      "Running: n_tree=10, tree_depth=3, batch_size=1000\n",
      "Use gtd300 dataset\n"
     ]
    },
    {
     "name": "stderr",
     "output_type": "stream",
     "text": [
      "Training Epochs:  68%|██████▊   | 137/200 [01:26<00:39,  1.58it/s]"
     ]
    },
    {
     "name": "stdout",
     "output_type": "stream",
     "text": [
      "Early stopping at epoch 138\n"
     ]
    },
    {
     "name": "stderr",
     "output_type": "stream",
     "text": [
      "\n"
     ]
    },
    {
     "name": "stdout",
     "output_type": "stream",
     "text": [
      "\n",
      "Running: n_tree=10, tree_depth=5, batch_size=256\n",
      "Use gtd300 dataset\n"
     ]
    },
    {
     "name": "stderr",
     "output_type": "stream",
     "text": [
      "Training Epochs:  16%|█▋        | 33/200 [01:11<06:00,  2.16s/it]"
     ]
    },
    {
     "name": "stdout",
     "output_type": "stream",
     "text": [
      "Early stopping at epoch 34\n"
     ]
    },
    {
     "name": "stderr",
     "output_type": "stream",
     "text": [
      "\n"
     ]
    },
    {
     "name": "stdout",
     "output_type": "stream",
     "text": [
      "\n",
      "Running: n_tree=10, tree_depth=5, batch_size=512\n",
      "Use gtd300 dataset\n"
     ]
    },
    {
     "name": "stderr",
     "output_type": "stream",
     "text": [
      "Training Epochs:  74%|███████▍  | 149/200 [02:58<01:01,  1.20s/it]"
     ]
    },
    {
     "name": "stdout",
     "output_type": "stream",
     "text": [
      "Early stopping at epoch 150\n"
     ]
    },
    {
     "name": "stderr",
     "output_type": "stream",
     "text": [
      "\n"
     ]
    },
    {
     "name": "stdout",
     "output_type": "stream",
     "text": [
      "\n",
      "Running: n_tree=10, tree_depth=5, batch_size=1000\n",
      "Use gtd300 dataset\n"
     ]
    },
    {
     "name": "stderr",
     "output_type": "stream",
     "text": [
      "Training Epochs:  66%|██████▌   | 131/200 [01:33<00:49,  1.40it/s]"
     ]
    },
    {
     "name": "stdout",
     "output_type": "stream",
     "text": [
      "Early stopping at epoch 132\n"
     ]
    },
    {
     "name": "stderr",
     "output_type": "stream",
     "text": [
      "\n"
     ]
    },
    {
     "name": "stdout",
     "output_type": "stream",
     "text": [
      "\n",
      "Running: n_tree=10, tree_depth=10, batch_size=256\n",
      "Use gtd300 dataset\n"
     ]
    },
    {
     "name": "stderr",
     "output_type": "stream",
     "text": [
      "Training Epochs:  40%|████      | 80/200 [03:45<05:37,  2.82s/it]"
     ]
    },
    {
     "name": "stdout",
     "output_type": "stream",
     "text": [
      "Early stopping at epoch 81\n"
     ]
    },
    {
     "name": "stderr",
     "output_type": "stream",
     "text": [
      "\n"
     ]
    },
    {
     "name": "stdout",
     "output_type": "stream",
     "text": [
      "\n",
      "Running: n_tree=10, tree_depth=10, batch_size=512\n",
      "Use gtd300 dataset\n"
     ]
    },
    {
     "name": "stderr",
     "output_type": "stream",
     "text": [
      "Training Epochs:  14%|█▍        | 29/200 [00:48<04:43,  1.66s/it]"
     ]
    },
    {
     "name": "stdout",
     "output_type": "stream",
     "text": [
      "Early stopping at epoch 30\n",
      "\n",
      "Running: n_tree=10, tree_depth=10, batch_size=1000\n",
      "Use gtd300 dataset\n"
     ]
    },
    {
     "name": "stderr",
     "output_type": "stream",
     "text": [
      "\n",
      "Training Epochs:  26%|██▋       | 53/200 [00:53<02:27,  1.00s/it]"
     ]
    },
    {
     "name": "stdout",
     "output_type": "stream",
     "text": [
      "Early stopping at epoch 54\n"
     ]
    },
    {
     "name": "stderr",
     "output_type": "stream",
     "text": [
      "\n"
     ]
    },
    {
     "name": "stdout",
     "output_type": "stream",
     "text": [
      "\n",
      "Running: n_tree=15, tree_depth=3, batch_size=256\n",
      "Use gtd300 dataset\n"
     ]
    },
    {
     "name": "stderr",
     "output_type": "stream",
     "text": [
      "Training Epochs:  34%|███▍      | 68/200 [02:43<05:17,  2.40s/it]"
     ]
    },
    {
     "name": "stdout",
     "output_type": "stream",
     "text": [
      "Early stopping at epoch 69\n"
     ]
    },
    {
     "name": "stderr",
     "output_type": "stream",
     "text": [
      "\n"
     ]
    },
    {
     "name": "stdout",
     "output_type": "stream",
     "text": [
      "\n",
      "Running: n_tree=15, tree_depth=3, batch_size=512\n",
      "Use gtd300 dataset\n"
     ]
    },
    {
     "name": "stderr",
     "output_type": "stream",
     "text": [
      "Training Epochs:  42%|████▏     | 83/200 [01:48<02:32,  1.30s/it]"
     ]
    },
    {
     "name": "stdout",
     "output_type": "stream",
     "text": [
      "Early stopping at epoch 84\n"
     ]
    },
    {
     "name": "stderr",
     "output_type": "stream",
     "text": [
      "\n"
     ]
    },
    {
     "name": "stdout",
     "output_type": "stream",
     "text": [
      "\n",
      "Running: n_tree=15, tree_depth=3, batch_size=1000\n",
      "Use gtd300 dataset\n"
     ]
    },
    {
     "name": "stderr",
     "output_type": "stream",
     "text": [
      "Training Epochs:  58%|█████▊    | 116/200 [01:23<01:00,  1.38it/s]"
     ]
    },
    {
     "name": "stdout",
     "output_type": "stream",
     "text": [
      "Early stopping at epoch 117\n"
     ]
    },
    {
     "name": "stderr",
     "output_type": "stream",
     "text": [
      "\n"
     ]
    },
    {
     "name": "stdout",
     "output_type": "stream",
     "text": [
      "\n",
      "Running: n_tree=15, tree_depth=5, batch_size=256\n",
      "Use gtd300 dataset\n"
     ]
    },
    {
     "name": "stderr",
     "output_type": "stream",
     "text": [
      "Training Epochs:  52%|█████▎    | 105/200 [04:04<03:41,  2.33s/it]"
     ]
    },
    {
     "name": "stdout",
     "output_type": "stream",
     "text": [
      "Early stopping at epoch 106\n"
     ]
    },
    {
     "name": "stderr",
     "output_type": "stream",
     "text": [
      "\n"
     ]
    },
    {
     "name": "stdout",
     "output_type": "stream",
     "text": [
      "\n",
      "Running: n_tree=15, tree_depth=5, batch_size=512\n",
      "Use gtd300 dataset\n"
     ]
    },
    {
     "name": "stderr",
     "output_type": "stream",
     "text": [
      "Training Epochs:  28%|██▊       | 57/200 [01:26<03:35,  1.51s/it]"
     ]
    },
    {
     "name": "stdout",
     "output_type": "stream",
     "text": [
      "Early stopping at epoch 58\n"
     ]
    },
    {
     "name": "stderr",
     "output_type": "stream",
     "text": [
      "\n"
     ]
    },
    {
     "name": "stdout",
     "output_type": "stream",
     "text": [
      "\n",
      "Running: n_tree=15, tree_depth=5, batch_size=1000\n",
      "Use gtd300 dataset\n"
     ]
    },
    {
     "name": "stderr",
     "output_type": "stream",
     "text": [
      "Training Epochs:  76%|███████▌  | 152/200 [01:59<00:37,  1.27it/s]"
     ]
    },
    {
     "name": "stdout",
     "output_type": "stream",
     "text": [
      "Early stopping at epoch 153\n"
     ]
    },
    {
     "name": "stderr",
     "output_type": "stream",
     "text": [
      "\n"
     ]
    },
    {
     "name": "stdout",
     "output_type": "stream",
     "text": [
      "\n",
      "Running: n_tree=15, tree_depth=10, batch_size=256\n",
      "Use gtd300 dataset\n"
     ]
    },
    {
     "name": "stderr",
     "output_type": "stream",
     "text": [
      "Training Epochs:  34%|███▎      | 67/200 [03:08<06:14,  2.82s/it]"
     ]
    },
    {
     "name": "stdout",
     "output_type": "stream",
     "text": [
      "Early stopping at epoch 68\n"
     ]
    },
    {
     "name": "stderr",
     "output_type": "stream",
     "text": [
      "\n"
     ]
    },
    {
     "name": "stdout",
     "output_type": "stream",
     "text": [
      "\n",
      "Running: n_tree=15, tree_depth=10, batch_size=512\n",
      "Use gtd300 dataset\n"
     ]
    },
    {
     "name": "stderr",
     "output_type": "stream",
     "text": [
      "Training Epochs:  68%|██████▊   | 136/200 [04:05<01:55,  1.80s/it]"
     ]
    },
    {
     "name": "stdout",
     "output_type": "stream",
     "text": [
      "Early stopping at epoch 137\n"
     ]
    },
    {
     "name": "stderr",
     "output_type": "stream",
     "text": [
      "\n"
     ]
    },
    {
     "name": "stdout",
     "output_type": "stream",
     "text": [
      "\n",
      "Running: n_tree=15, tree_depth=10, batch_size=1000\n",
      "Use gtd300 dataset\n"
     ]
    },
    {
     "name": "stderr",
     "output_type": "stream",
     "text": [
      "Training Epochs:  58%|█████▊    | 116/200 [02:12<01:36,  1.14s/it]"
     ]
    },
    {
     "name": "stdout",
     "output_type": "stream",
     "text": [
      "Early stopping at epoch 117\n"
     ]
    },
    {
     "name": "stderr",
     "output_type": "stream",
     "text": [
      "\n"
     ]
    },
    {
     "name": "stdout",
     "output_type": "stream",
     "text": [
      "\n",
      "Running: n_tree=20, tree_depth=3, batch_size=256\n",
      "Use gtd300 dataset\n"
     ]
    },
    {
     "name": "stderr",
     "output_type": "stream",
     "text": [
      "Training Epochs:  38%|███▊      | 76/200 [03:05<05:02,  2.44s/it]"
     ]
    },
    {
     "name": "stdout",
     "output_type": "stream",
     "text": [
      "Early stopping at epoch 77\n"
     ]
    },
    {
     "name": "stderr",
     "output_type": "stream",
     "text": [
      "\n"
     ]
    },
    {
     "name": "stdout",
     "output_type": "stream",
     "text": [
      "\n",
      "Running: n_tree=20, tree_depth=3, batch_size=512\n",
      "Use gtd300 dataset\n"
     ]
    },
    {
     "name": "stderr",
     "output_type": "stream",
     "text": [
      "Training Epochs:  48%|████▊     | 96/200 [02:26<02:38,  1.52s/it]"
     ]
    },
    {
     "name": "stdout",
     "output_type": "stream",
     "text": [
      "Early stopping at epoch 97\n"
     ]
    },
    {
     "name": "stderr",
     "output_type": "stream",
     "text": [
      "\n"
     ]
    },
    {
     "name": "stdout",
     "output_type": "stream",
     "text": [
      "\n",
      "Running: n_tree=20, tree_depth=3, batch_size=1000\n",
      "Use gtd300 dataset\n"
     ]
    },
    {
     "name": "stderr",
     "output_type": "stream",
     "text": [
      "Training Epochs:  52%|█████▎    | 105/200 [01:29<01:20,  1.18it/s]"
     ]
    },
    {
     "name": "stdout",
     "output_type": "stream",
     "text": [
      "Early stopping at epoch 106\n"
     ]
    },
    {
     "name": "stderr",
     "output_type": "stream",
     "text": [
      "\n"
     ]
    },
    {
     "name": "stdout",
     "output_type": "stream",
     "text": [
      "\n",
      "Running: n_tree=20, tree_depth=5, batch_size=256\n",
      "Use gtd300 dataset\n"
     ]
    },
    {
     "name": "stderr",
     "output_type": "stream",
     "text": [
      "Training Epochs:  38%|███▊      | 75/200 [03:47<06:18,  3.03s/it]"
     ]
    },
    {
     "name": "stdout",
     "output_type": "stream",
     "text": [
      "Early stopping at epoch 76\n"
     ]
    },
    {
     "name": "stderr",
     "output_type": "stream",
     "text": [
      "\n"
     ]
    },
    {
     "name": "stdout",
     "output_type": "stream",
     "text": [
      "\n",
      "Running: n_tree=20, tree_depth=5, batch_size=512\n",
      "Use gtd300 dataset\n"
     ]
    },
    {
     "name": "stderr",
     "output_type": "stream",
     "text": [
      "Training Epochs:  61%|██████    | 122/200 [03:23<02:09,  1.66s/it]"
     ]
    },
    {
     "name": "stdout",
     "output_type": "stream",
     "text": [
      "Early stopping at epoch 123\n"
     ]
    },
    {
     "name": "stderr",
     "output_type": "stream",
     "text": [
      "\n"
     ]
    },
    {
     "name": "stdout",
     "output_type": "stream",
     "text": [
      "\n",
      "Running: n_tree=20, tree_depth=5, batch_size=1000\n",
      "Use gtd300 dataset\n"
     ]
    },
    {
     "name": "stderr",
     "output_type": "stream",
     "text": [
      "Training Epochs:  67%|██████▋   | 134/200 [02:11<01:04,  1.02it/s]"
     ]
    },
    {
     "name": "stdout",
     "output_type": "stream",
     "text": [
      "Early stopping at epoch 135\n"
     ]
    },
    {
     "name": "stderr",
     "output_type": "stream",
     "text": [
      "\n"
     ]
    },
    {
     "name": "stdout",
     "output_type": "stream",
     "text": [
      "\n",
      "Running: n_tree=20, tree_depth=10, batch_size=256\n",
      "Use gtd300 dataset\n"
     ]
    },
    {
     "name": "stderr",
     "output_type": "stream",
     "text": [
      "Training Epochs:  44%|████▍     | 88/200 [05:12<06:38,  3.56s/it]"
     ]
    },
    {
     "name": "stdout",
     "output_type": "stream",
     "text": [
      "Early stopping at epoch 89\n"
     ]
    },
    {
     "name": "stderr",
     "output_type": "stream",
     "text": [
      "\n"
     ]
    },
    {
     "name": "stdout",
     "output_type": "stream",
     "text": [
      "\n",
      "Running: n_tree=20, tree_depth=10, batch_size=512\n",
      "Use gtd300 dataset\n"
     ]
    },
    {
     "name": "stderr",
     "output_type": "stream",
     "text": [
      "Training Epochs:  27%|██▋       | 54/200 [02:00<05:24,  2.23s/it]"
     ]
    },
    {
     "name": "stdout",
     "output_type": "stream",
     "text": [
      "Early stopping at epoch 55\n"
     ]
    },
    {
     "name": "stderr",
     "output_type": "stream",
     "text": [
      "\n"
     ]
    },
    {
     "name": "stdout",
     "output_type": "stream",
     "text": [
      "\n",
      "Running: n_tree=20, tree_depth=10, batch_size=1000\n",
      "Use gtd300 dataset\n"
     ]
    },
    {
     "name": "stderr",
     "output_type": "stream",
     "text": [
      "Training Epochs:  48%|████▊     | 96/200 [02:04<02:15,  1.30s/it]"
     ]
    },
    {
     "name": "stdout",
     "output_type": "stream",
     "text": [
      "Early stopping at epoch 97\n"
     ]
    },
    {
     "name": "stderr",
     "output_type": "stream",
     "text": [
      "\n"
     ]
    },
    {
     "name": "stdout",
     "output_type": "stream",
     "text": [
      "\n",
      "Best hyperparameter configuration:\n",
      "{'n_tree': 20, 'tree_depth': 10, 'batch_size': 256}\n",
      "Best accuracy: 0.863704\n"
     ]
    }
   ],
   "source": [
    "\n",
    "n_tree_values = [5, 10, 15, 20]\n",
    "tree_depth_values = [3, 5, 10]\n",
    "batch_size_values = [256, 512, 1000]\n",
    "\n",
    "best_score = 0\n",
    "best_config = {}\n",
    "\n",
    "for n_tree, tree_depth, batch_size in product(n_tree_values, tree_depth_values, batch_size_values):\n",
    "    print(f\"\\nRunning: n_tree={n_tree}, tree_depth={tree_depth}, batch_size={batch_size}\")\n",
    "    sys.argv = [\n",
    "        'train.py',\n",
    "        '-dataset', f'gtd{partition}',\n",
    "        '-n_class', '30',\n",
    "        '-gpuid', '0',\n",
    "        '-n_tree', str(n_tree),\n",
    "        '-tree_depth', str(tree_depth),\n",
    "        '-batch_size', str(batch_size),\n",
    "        '-epochs', '200',\n",
    "        '-verbose', '0',\n",
    "        '-jointly_training'\n",
    "    ]\n",
    "    \n",
    "    _, _, _, _, _ = main()\n",
    "\n",
    "    # Read best score from file (assumes one run per file)\n",
    "    result_file = f\"results/result_gtd{partition}\"\n",
    "    with open(result_file, \"r\") as f:\n",
    "        lines = f.readlines()\n",
    "        for line in lines:\n",
    "            if \"Best Accuracy\" in line:\n",
    "                acc = float(line.split()[2])\n",
    "                if acc > best_score:\n",
    "                    best_score = acc\n",
    "                    best_config = {\n",
    "                        'n_tree': n_tree,\n",
    "                        'tree_depth': tree_depth,\n",
    "                        'batch_size': batch_size\n",
    "                    }\n",
    "print(\"\\nBest hyperparameter configuration:\")\n",
    "print(best_config)\n",
    "print(f\"Best accuracy: {best_score}\")\n"
   ]
  },
  {
   "cell_type": "code",
   "execution_count": 7,
   "metadata": {},
   "outputs": [
    {
     "name": "stdout",
     "output_type": "stream",
     "text": [
      "Use gtd300 dataset\n"
     ]
    },
    {
     "name": "stderr",
     "output_type": "stream",
     "text": [
      "Training Epochs:   0%|          | 0/1000 [00:00<?, ?it/s]"
     ]
    },
    {
     "name": "stdout",
     "output_type": "stream",
     "text": [
      "Train Epoch: 1 [0/6300 (0%)]\tLoss: 3.401137\n",
      "Train Epoch: 1 [2560/6300 (40%)]\tLoss: 3.346066\n",
      "Train Epoch: 1 [5120/6300 (80%)]\tLoss: 3.288476\n"
     ]
    },
    {
     "name": "stderr",
     "output_type": "stream",
     "text": [
      "Training Epochs:   0%|          | 1/1000 [00:04<1:07:22,  4.05s/it]"
     ]
    },
    {
     "name": "stdout",
     "output_type": "stream",
     "text": [
      "Train Epoch: 2 [0/6300 (0%)]\tLoss: 3.246083\n",
      "Train Epoch: 2 [2560/6300 (40%)]\tLoss: 3.194604\n",
      "Train Epoch: 2 [5120/6300 (80%)]\tLoss: 3.150393\n"
     ]
    },
    {
     "name": "stderr",
     "output_type": "stream",
     "text": [
      "Training Epochs:   0%|          | 2/1000 [00:07<1:04:31,  3.88s/it]"
     ]
    },
    {
     "name": "stdout",
     "output_type": "stream",
     "text": [
      "Train Epoch: 3 [0/6300 (0%)]\tLoss: 3.115084\n",
      "Train Epoch: 3 [2560/6300 (40%)]\tLoss: 3.102452\n",
      "Train Epoch: 3 [5120/6300 (80%)]\tLoss: 3.047308\n"
     ]
    },
    {
     "name": "stderr",
     "output_type": "stream",
     "text": [
      "Training Epochs:   0%|          | 3/1000 [00:10<58:50,  3.54s/it]  "
     ]
    },
    {
     "name": "stdout",
     "output_type": "stream",
     "text": [
      "Train Epoch: 4 [0/6300 (0%)]\tLoss: 3.024724\n",
      "Train Epoch: 4 [2560/6300 (40%)]\tLoss: 2.989623\n",
      "Train Epoch: 4 [5120/6300 (80%)]\tLoss: 2.971147\n"
     ]
    },
    {
     "name": "stderr",
     "output_type": "stream",
     "text": [
      "Training Epochs:   0%|          | 4/1000 [00:14<59:08,  3.56s/it]"
     ]
    },
    {
     "name": "stdout",
     "output_type": "stream",
     "text": [
      "Train Epoch: 5 [0/6300 (0%)]\tLoss: 2.958842\n",
      "Train Epoch: 5 [2560/6300 (40%)]\tLoss: 2.935025\n",
      "Train Epoch: 5 [5120/6300 (80%)]\tLoss: 2.901304\n"
     ]
    },
    {
     "name": "stderr",
     "output_type": "stream",
     "text": [
      "Training Epochs:   0%|          | 5/1000 [00:18<58:47,  3.55s/it]"
     ]
    },
    {
     "name": "stdout",
     "output_type": "stream",
     "text": [
      "Train Epoch: 6 [0/6300 (0%)]\tLoss: 2.892397\n",
      "Train Epoch: 6 [2560/6300 (40%)]\tLoss: 2.863629\n",
      "Train Epoch: 6 [5120/6300 (80%)]\tLoss: 2.831950\n"
     ]
    },
    {
     "name": "stderr",
     "output_type": "stream",
     "text": [
      "Training Epochs:   1%|          | 6/1000 [00:21<58:50,  3.55s/it]"
     ]
    },
    {
     "name": "stdout",
     "output_type": "stream",
     "text": [
      "Train Epoch: 7 [0/6300 (0%)]\tLoss: 2.836167\n",
      "Train Epoch: 7 [2560/6300 (40%)]\tLoss: 2.805604\n",
      "Train Epoch: 7 [5120/6300 (80%)]\tLoss: 2.777189\n"
     ]
    },
    {
     "name": "stderr",
     "output_type": "stream",
     "text": [
      "Training Epochs:   1%|          | 7/1000 [00:24<57:30,  3.47s/it]"
     ]
    },
    {
     "name": "stdout",
     "output_type": "stream",
     "text": [
      "Train Epoch: 8 [0/6300 (0%)]\tLoss: 2.778740\n",
      "Train Epoch: 8 [2560/6300 (40%)]\tLoss: 2.741825\n",
      "Train Epoch: 8 [5120/6300 (80%)]\tLoss: 2.718636\n"
     ]
    },
    {
     "name": "stderr",
     "output_type": "stream",
     "text": [
      "Training Epochs:   1%|          | 8/1000 [00:28<57:44,  3.49s/it]"
     ]
    },
    {
     "name": "stdout",
     "output_type": "stream",
     "text": [
      "Train Epoch: 9 [0/6300 (0%)]\tLoss: 2.722493\n",
      "Train Epoch: 9 [2560/6300 (40%)]\tLoss: 2.709577\n",
      "Train Epoch: 9 [5120/6300 (80%)]\tLoss: 2.673652\n"
     ]
    },
    {
     "name": "stderr",
     "output_type": "stream",
     "text": [
      "Training Epochs:   1%|          | 9/1000 [00:32<58:27,  3.54s/it]"
     ]
    },
    {
     "name": "stdout",
     "output_type": "stream",
     "text": [
      "Train Epoch: 10 [0/6300 (0%)]\tLoss: 2.674764\n",
      "Train Epoch: 10 [2560/6300 (40%)]\tLoss: 2.637930\n",
      "Train Epoch: 10 [5120/6300 (80%)]\tLoss: 2.628017\n"
     ]
    },
    {
     "name": "stderr",
     "output_type": "stream",
     "text": [
      "Training Epochs:   1%|          | 10/1000 [00:35<58:18,  3.53s/it]"
     ]
    },
    {
     "name": "stdout",
     "output_type": "stream",
     "text": [
      "Train Epoch: 11 [0/6300 (0%)]\tLoss: 2.622501\n",
      "Train Epoch: 11 [2560/6300 (40%)]\tLoss: 2.598698\n",
      "Train Epoch: 11 [5120/6300 (80%)]\tLoss: 2.560522\n"
     ]
    },
    {
     "name": "stderr",
     "output_type": "stream",
     "text": [
      "Training Epochs:   1%|          | 11/1000 [00:39<58:30,  3.55s/it]"
     ]
    },
    {
     "name": "stdout",
     "output_type": "stream",
     "text": [
      "Train Epoch: 12 [0/6300 (0%)]\tLoss: 2.562790\n",
      "Train Epoch: 12 [2560/6300 (40%)]\tLoss: 2.567283\n",
      "Train Epoch: 12 [5120/6300 (80%)]\tLoss: 2.522085\n"
     ]
    },
    {
     "name": "stderr",
     "output_type": "stream",
     "text": [
      "Training Epochs:   1%|          | 12/1000 [00:42<59:02,  3.59s/it]"
     ]
    },
    {
     "name": "stdout",
     "output_type": "stream",
     "text": [
      "Train Epoch: 13 [0/6300 (0%)]\tLoss: 2.521761\n",
      "Train Epoch: 13 [2560/6300 (40%)]\tLoss: 2.488380\n",
      "Train Epoch: 13 [5120/6300 (80%)]\tLoss: 2.473486\n"
     ]
    },
    {
     "name": "stderr",
     "output_type": "stream",
     "text": [
      "Training Epochs:   1%|▏         | 13/1000 [00:46<58:49,  3.58s/it]"
     ]
    },
    {
     "name": "stdout",
     "output_type": "stream",
     "text": [
      "Train Epoch: 14 [0/6300 (0%)]\tLoss: 2.484883\n",
      "Train Epoch: 14 [2560/6300 (40%)]\tLoss: 2.457278\n",
      "Train Epoch: 14 [5120/6300 (80%)]\tLoss: 2.441571\n"
     ]
    },
    {
     "name": "stderr",
     "output_type": "stream",
     "text": [
      "Training Epochs:   1%|▏         | 14/1000 [00:49<58:37,  3.57s/it]"
     ]
    },
    {
     "name": "stdout",
     "output_type": "stream",
     "text": [
      "Train Epoch: 15 [0/6300 (0%)]\tLoss: 2.440866\n",
      "Train Epoch: 15 [2560/6300 (40%)]\tLoss: 2.416328\n",
      "Train Epoch: 15 [5120/6300 (80%)]\tLoss: 2.416678\n"
     ]
    },
    {
     "name": "stderr",
     "output_type": "stream",
     "text": [
      "Training Epochs:   2%|▏         | 15/1000 [00:53<58:49,  3.58s/it]"
     ]
    },
    {
     "name": "stdout",
     "output_type": "stream",
     "text": [
      "Train Epoch: 16 [0/6300 (0%)]\tLoss: 2.394102\n",
      "Train Epoch: 16 [2560/6300 (40%)]\tLoss: 2.381848\n",
      "Train Epoch: 16 [5120/6300 (80%)]\tLoss: 2.366777\n"
     ]
    },
    {
     "name": "stderr",
     "output_type": "stream",
     "text": [
      "Training Epochs:   2%|▏         | 16/1000 [00:57<59:56,  3.66s/it]"
     ]
    },
    {
     "name": "stdout",
     "output_type": "stream",
     "text": [
      "Train Epoch: 17 [0/6300 (0%)]\tLoss: 2.351836\n",
      "Train Epoch: 17 [2560/6300 (40%)]\tLoss: 2.351811\n",
      "Train Epoch: 17 [5120/6300 (80%)]\tLoss: 2.302935\n"
     ]
    },
    {
     "name": "stderr",
     "output_type": "stream",
     "text": [
      "Training Epochs:   2%|▏         | 17/1000 [01:01<1:00:44,  3.71s/it]"
     ]
    },
    {
     "name": "stdout",
     "output_type": "stream",
     "text": [
      "Train Epoch: 18 [0/6300 (0%)]\tLoss: 2.311919\n",
      "Train Epoch: 18 [2560/6300 (40%)]\tLoss: 2.290402\n",
      "Train Epoch: 18 [5120/6300 (80%)]\tLoss: 2.269457\n"
     ]
    },
    {
     "name": "stderr",
     "output_type": "stream",
     "text": [
      "Training Epochs:   2%|▏         | 18/1000 [01:04<56:50,  3.47s/it]  "
     ]
    },
    {
     "name": "stdout",
     "output_type": "stream",
     "text": [
      "Train Epoch: 19 [0/6300 (0%)]\tLoss: 2.269469\n",
      "Train Epoch: 19 [2560/6300 (40%)]\tLoss: 2.249636\n",
      "Train Epoch: 19 [5120/6300 (80%)]\tLoss: 2.225148\n"
     ]
    },
    {
     "name": "stderr",
     "output_type": "stream",
     "text": [
      "Training Epochs:   2%|▏         | 19/1000 [01:07<58:08,  3.56s/it]"
     ]
    },
    {
     "name": "stdout",
     "output_type": "stream",
     "text": [
      "Train Epoch: 20 [0/6300 (0%)]\tLoss: 2.240166\n",
      "Train Epoch: 20 [2560/6300 (40%)]\tLoss: 2.222283\n",
      "Train Epoch: 20 [5120/6300 (80%)]\tLoss: 2.198957\n"
     ]
    },
    {
     "name": "stderr",
     "output_type": "stream",
     "text": [
      "Training Epochs:   2%|▏         | 20/1000 [01:11<57:56,  3.55s/it]"
     ]
    },
    {
     "name": "stdout",
     "output_type": "stream",
     "text": [
      "Train Epoch: 21 [0/6300 (0%)]\tLoss: 2.209367\n",
      "Train Epoch: 21 [2560/6300 (40%)]\tLoss: 2.156028\n",
      "Train Epoch: 21 [5120/6300 (80%)]\tLoss: 2.165249\n"
     ]
    },
    {
     "name": "stderr",
     "output_type": "stream",
     "text": [
      "Training Epochs:   2%|▏         | 21/1000 [01:15<59:16,  3.63s/it]"
     ]
    },
    {
     "name": "stdout",
     "output_type": "stream",
     "text": [
      "Train Epoch: 22 [0/6300 (0%)]\tLoss: 2.153017\n",
      "Train Epoch: 22 [2560/6300 (40%)]\tLoss: 2.138777\n",
      "Train Epoch: 22 [5120/6300 (80%)]\tLoss: 2.127226\n"
     ]
    },
    {
     "name": "stderr",
     "output_type": "stream",
     "text": [
      "Training Epochs:   2%|▏         | 22/1000 [01:18<57:30,  3.53s/it]"
     ]
    },
    {
     "name": "stdout",
     "output_type": "stream",
     "text": [
      "Train Epoch: 23 [0/6300 (0%)]\tLoss: 2.130141\n",
      "Train Epoch: 23 [2560/6300 (40%)]\tLoss: 2.110285\n",
      "Train Epoch: 23 [5120/6300 (80%)]\tLoss: 2.106384\n"
     ]
    },
    {
     "name": "stderr",
     "output_type": "stream",
     "text": [
      "Training Epochs:   2%|▏         | 23/1000 [01:21<56:47,  3.49s/it]"
     ]
    },
    {
     "name": "stdout",
     "output_type": "stream",
     "text": [
      "Train Epoch: 24 [0/6300 (0%)]\tLoss: 2.093350\n",
      "Train Epoch: 24 [2560/6300 (40%)]\tLoss: 2.065852\n",
      "Train Epoch: 24 [5120/6300 (80%)]\tLoss: 2.089077\n"
     ]
    },
    {
     "name": "stderr",
     "output_type": "stream",
     "text": [
      "Training Epochs:   2%|▏         | 24/1000 [01:25<55:49,  3.43s/it]"
     ]
    },
    {
     "name": "stdout",
     "output_type": "stream",
     "text": [
      "Train Epoch: 25 [0/6300 (0%)]\tLoss: 2.061235\n",
      "Train Epoch: 25 [2560/6300 (40%)]\tLoss: 2.038082\n",
      "Train Epoch: 25 [5120/6300 (80%)]\tLoss: 2.051525\n"
     ]
    },
    {
     "name": "stderr",
     "output_type": "stream",
     "text": [
      "Training Epochs:   2%|▎         | 25/1000 [01:28<55:00,  3.39s/it]"
     ]
    },
    {
     "name": "stdout",
     "output_type": "stream",
     "text": [
      "Train Epoch: 26 [0/6300 (0%)]\tLoss: 2.032051\n",
      "Train Epoch: 26 [2560/6300 (40%)]\tLoss: 2.017778\n",
      "Train Epoch: 26 [5120/6300 (80%)]\tLoss: 1.994080\n"
     ]
    },
    {
     "name": "stderr",
     "output_type": "stream",
     "text": [
      "Training Epochs:   3%|▎         | 26/1000 [01:31<54:44,  3.37s/it]"
     ]
    },
    {
     "name": "stdout",
     "output_type": "stream",
     "text": [
      "Train Epoch: 27 [0/6300 (0%)]\tLoss: 1.986382\n",
      "Train Epoch: 27 [2560/6300 (40%)]\tLoss: 1.970452\n",
      "Train Epoch: 27 [5120/6300 (80%)]\tLoss: 1.971375\n"
     ]
    },
    {
     "name": "stderr",
     "output_type": "stream",
     "text": [
      "Training Epochs:   3%|▎         | 27/1000 [01:35<56:15,  3.47s/it]"
     ]
    },
    {
     "name": "stdout",
     "output_type": "stream",
     "text": [
      "Train Epoch: 28 [0/6300 (0%)]\tLoss: 1.973398\n",
      "Train Epoch: 28 [2560/6300 (40%)]\tLoss: 1.963159\n",
      "Train Epoch: 28 [5120/6300 (80%)]\tLoss: 1.947313\n"
     ]
    },
    {
     "name": "stderr",
     "output_type": "stream",
     "text": [
      "Training Epochs:   3%|▎         | 28/1000 [01:38<53:57,  3.33s/it]"
     ]
    },
    {
     "name": "stdout",
     "output_type": "stream",
     "text": [
      "Train Epoch: 29 [0/6300 (0%)]\tLoss: 1.932129\n",
      "Train Epoch: 29 [2560/6300 (40%)]\tLoss: 1.949665\n",
      "Train Epoch: 29 [5120/6300 (80%)]\tLoss: 1.931397\n"
     ]
    },
    {
     "name": "stderr",
     "output_type": "stream",
     "text": [
      "Training Epochs:   3%|▎         | 29/1000 [01:42<54:18,  3.36s/it]"
     ]
    },
    {
     "name": "stdout",
     "output_type": "stream",
     "text": [
      "Train Epoch: 30 [0/6300 (0%)]\tLoss: 1.906454\n",
      "Train Epoch: 30 [2560/6300 (40%)]\tLoss: 1.897217\n",
      "Train Epoch: 30 [5120/6300 (80%)]\tLoss: 1.917966\n"
     ]
    },
    {
     "name": "stderr",
     "output_type": "stream",
     "text": [
      "Training Epochs:   3%|▎         | 30/1000 [01:45<53:49,  3.33s/it]"
     ]
    },
    {
     "name": "stdout",
     "output_type": "stream",
     "text": [
      "Train Epoch: 31 [0/6300 (0%)]\tLoss: 1.887561\n",
      "Train Epoch: 31 [2560/6300 (40%)]\tLoss: 1.879001\n",
      "Train Epoch: 31 [5120/6300 (80%)]\tLoss: 1.877064\n"
     ]
    },
    {
     "name": "stderr",
     "output_type": "stream",
     "text": [
      "Training Epochs:   3%|▎         | 31/1000 [01:48<53:17,  3.30s/it]"
     ]
    },
    {
     "name": "stdout",
     "output_type": "stream",
     "text": [
      "Train Epoch: 32 [0/6300 (0%)]\tLoss: 1.855775\n",
      "Train Epoch: 32 [2560/6300 (40%)]\tLoss: 1.833519\n",
      "Train Epoch: 32 [5120/6300 (80%)]\tLoss: 1.834966\n"
     ]
    },
    {
     "name": "stderr",
     "output_type": "stream",
     "text": [
      "Training Epochs:   3%|▎         | 32/1000 [01:51<53:12,  3.30s/it]"
     ]
    },
    {
     "name": "stdout",
     "output_type": "stream",
     "text": [
      "Train Epoch: 33 [0/6300 (0%)]\tLoss: 1.829160\n",
      "Train Epoch: 33 [2560/6300 (40%)]\tLoss: 1.823002\n",
      "Train Epoch: 33 [5120/6300 (80%)]\tLoss: 1.831085\n"
     ]
    },
    {
     "name": "stderr",
     "output_type": "stream",
     "text": [
      "Training Epochs:   3%|▎         | 33/1000 [01:55<55:05,  3.42s/it]"
     ]
    },
    {
     "name": "stdout",
     "output_type": "stream",
     "text": [
      "Train Epoch: 34 [0/6300 (0%)]\tLoss: 1.781238\n",
      "Train Epoch: 34 [2560/6300 (40%)]\tLoss: 1.796840\n",
      "Train Epoch: 34 [5120/6300 (80%)]\tLoss: 1.786859\n"
     ]
    },
    {
     "name": "stderr",
     "output_type": "stream",
     "text": [
      "Training Epochs:   3%|▎         | 34/1000 [01:58<54:02,  3.36s/it]"
     ]
    },
    {
     "name": "stdout",
     "output_type": "stream",
     "text": [
      "Train Epoch: 35 [0/6300 (0%)]\tLoss: 1.757639\n",
      "Train Epoch: 35 [2560/6300 (40%)]\tLoss: 1.790872\n",
      "Train Epoch: 35 [5120/6300 (80%)]\tLoss: 1.766018\n"
     ]
    },
    {
     "name": "stderr",
     "output_type": "stream",
     "text": [
      "Training Epochs:   4%|▎         | 35/1000 [02:02<54:11,  3.37s/it]"
     ]
    },
    {
     "name": "stdout",
     "output_type": "stream",
     "text": [
      "Train Epoch: 36 [0/6300 (0%)]\tLoss: 1.773512\n",
      "Train Epoch: 36 [2560/6300 (40%)]\tLoss: 1.765112\n",
      "Train Epoch: 36 [5120/6300 (80%)]\tLoss: 1.719664\n"
     ]
    },
    {
     "name": "stderr",
     "output_type": "stream",
     "text": [
      "Training Epochs:   4%|▎         | 36/1000 [02:05<56:08,  3.49s/it]"
     ]
    },
    {
     "name": "stdout",
     "output_type": "stream",
     "text": [
      "Train Epoch: 37 [0/6300 (0%)]\tLoss: 1.734082\n",
      "Train Epoch: 37 [2560/6300 (40%)]\tLoss: 1.717212\n",
      "Train Epoch: 37 [5120/6300 (80%)]\tLoss: 1.720955\n"
     ]
    },
    {
     "name": "stderr",
     "output_type": "stream",
     "text": [
      "Training Epochs:   4%|▎         | 37/1000 [02:09<55:20,  3.45s/it]"
     ]
    },
    {
     "name": "stdout",
     "output_type": "stream",
     "text": [
      "Train Epoch: 38 [0/6300 (0%)]\tLoss: 1.705306\n",
      "Train Epoch: 38 [2560/6300 (40%)]\tLoss: 1.695418\n",
      "Train Epoch: 38 [5120/6300 (80%)]\tLoss: 1.668714\n"
     ]
    },
    {
     "name": "stderr",
     "output_type": "stream",
     "text": [
      "Training Epochs:   4%|▍         | 38/1000 [02:12<55:25,  3.46s/it]"
     ]
    },
    {
     "name": "stdout",
     "output_type": "stream",
     "text": [
      "Train Epoch: 39 [0/6300 (0%)]\tLoss: 1.699215\n",
      "Train Epoch: 39 [2560/6300 (40%)]\tLoss: 1.673007\n",
      "Train Epoch: 39 [5120/6300 (80%)]\tLoss: 1.646881\n"
     ]
    },
    {
     "name": "stderr",
     "output_type": "stream",
     "text": [
      "Training Epochs:   4%|▍         | 39/1000 [02:16<54:47,  3.42s/it]"
     ]
    },
    {
     "name": "stdout",
     "output_type": "stream",
     "text": [
      "Train Epoch: 40 [0/6300 (0%)]\tLoss: 1.679639\n",
      "Train Epoch: 40 [2560/6300 (40%)]\tLoss: 1.640768\n",
      "Train Epoch: 40 [5120/6300 (80%)]\tLoss: 1.643928\n"
     ]
    },
    {
     "name": "stderr",
     "output_type": "stream",
     "text": [
      "Training Epochs:   4%|▍         | 40/1000 [02:19<55:17,  3.46s/it]"
     ]
    },
    {
     "name": "stdout",
     "output_type": "stream",
     "text": [
      "Train Epoch: 41 [0/6300 (0%)]\tLoss: 1.621935\n",
      "Train Epoch: 41 [2560/6300 (40%)]\tLoss: 1.615845\n",
      "Train Epoch: 41 [5120/6300 (80%)]\tLoss: 1.621553\n"
     ]
    },
    {
     "name": "stderr",
     "output_type": "stream",
     "text": [
      "Training Epochs:   4%|▍         | 41/1000 [02:23<55:31,  3.47s/it]"
     ]
    },
    {
     "name": "stdout",
     "output_type": "stream",
     "text": [
      "Train Epoch: 42 [0/6300 (0%)]\tLoss: 1.626387\n",
      "Train Epoch: 42 [2560/6300 (40%)]\tLoss: 1.590795\n",
      "Train Epoch: 42 [5120/6300 (80%)]\tLoss: 1.595811\n"
     ]
    },
    {
     "name": "stderr",
     "output_type": "stream",
     "text": [
      "Training Epochs:   4%|▍         | 42/1000 [02:26<55:15,  3.46s/it]"
     ]
    },
    {
     "name": "stdout",
     "output_type": "stream",
     "text": [
      "Train Epoch: 43 [0/6300 (0%)]\tLoss: 1.566406\n",
      "Train Epoch: 43 [2560/6300 (40%)]\tLoss: 1.603877\n",
      "Train Epoch: 43 [5120/6300 (80%)]\tLoss: 1.584052\n"
     ]
    },
    {
     "name": "stderr",
     "output_type": "stream",
     "text": [
      "Training Epochs:   4%|▍         | 43/1000 [02:30<55:34,  3.48s/it]"
     ]
    },
    {
     "name": "stdout",
     "output_type": "stream",
     "text": [
      "Train Epoch: 44 [0/6300 (0%)]\tLoss: 1.571212\n",
      "Train Epoch: 44 [2560/6300 (40%)]\tLoss: 1.570893\n",
      "Train Epoch: 44 [5120/6300 (80%)]\tLoss: 1.539485\n"
     ]
    },
    {
     "name": "stderr",
     "output_type": "stream",
     "text": [
      "Training Epochs:   4%|▍         | 44/1000 [02:33<55:14,  3.47s/it]"
     ]
    },
    {
     "name": "stdout",
     "output_type": "stream",
     "text": [
      "Train Epoch: 45 [0/6300 (0%)]\tLoss: 1.543473\n",
      "Train Epoch: 45 [2560/6300 (40%)]\tLoss: 1.549365\n",
      "Train Epoch: 45 [5120/6300 (80%)]\tLoss: 1.574542\n"
     ]
    },
    {
     "name": "stderr",
     "output_type": "stream",
     "text": [
      "Training Epochs:   4%|▍         | 45/1000 [02:36<53:51,  3.38s/it]"
     ]
    },
    {
     "name": "stdout",
     "output_type": "stream",
     "text": [
      "Train Epoch: 46 [0/6300 (0%)]\tLoss: 1.535928\n",
      "Train Epoch: 46 [2560/6300 (40%)]\tLoss: 1.551610\n",
      "Train Epoch: 46 [5120/6300 (80%)]\tLoss: 1.533790\n"
     ]
    },
    {
     "name": "stderr",
     "output_type": "stream",
     "text": [
      "Training Epochs:   5%|▍         | 46/1000 [02:40<55:44,  3.51s/it]"
     ]
    },
    {
     "name": "stdout",
     "output_type": "stream",
     "text": [
      "Train Epoch: 47 [0/6300 (0%)]\tLoss: 1.521046\n",
      "Train Epoch: 47 [2560/6300 (40%)]\tLoss: 1.506136\n",
      "Train Epoch: 47 [5120/6300 (80%)]\tLoss: 1.519002\n"
     ]
    },
    {
     "name": "stderr",
     "output_type": "stream",
     "text": [
      "Training Epochs:   5%|▍         | 47/1000 [02:44<56:58,  3.59s/it]"
     ]
    },
    {
     "name": "stdout",
     "output_type": "stream",
     "text": [
      "Train Epoch: 48 [0/6300 (0%)]\tLoss: 1.518842\n",
      "Train Epoch: 48 [2560/6300 (40%)]\tLoss: 1.483974\n",
      "Train Epoch: 48 [5120/6300 (80%)]\tLoss: 1.525485\n"
     ]
    },
    {
     "name": "stderr",
     "output_type": "stream",
     "text": [
      "Training Epochs:   5%|▍         | 48/1000 [02:48<58:52,  3.71s/it]"
     ]
    },
    {
     "name": "stdout",
     "output_type": "stream",
     "text": [
      "Train Epoch: 49 [0/6300 (0%)]\tLoss: 1.487361\n",
      "Train Epoch: 49 [2560/6300 (40%)]\tLoss: 1.486603\n",
      "Train Epoch: 49 [5120/6300 (80%)]\tLoss: 1.468619\n"
     ]
    },
    {
     "name": "stderr",
     "output_type": "stream",
     "text": [
      "Training Epochs:   5%|▍         | 49/1000 [02:51<58:36,  3.70s/it]"
     ]
    },
    {
     "name": "stdout",
     "output_type": "stream",
     "text": [
      "Train Epoch: 50 [0/6300 (0%)]\tLoss: 1.449241\n",
      "Train Epoch: 50 [2560/6300 (40%)]\tLoss: 1.443881\n",
      "Train Epoch: 50 [5120/6300 (80%)]\tLoss: 1.432176\n"
     ]
    },
    {
     "name": "stderr",
     "output_type": "stream",
     "text": [
      "Training Epochs:   5%|▌         | 50/1000 [02:55<59:38,  3.77s/it]"
     ]
    },
    {
     "name": "stdout",
     "output_type": "stream",
     "text": [
      "Train Epoch: 51 [0/6300 (0%)]\tLoss: 1.458462\n",
      "Train Epoch: 51 [2560/6300 (40%)]\tLoss: 1.508235\n",
      "Train Epoch: 51 [5120/6300 (80%)]\tLoss: 1.422908\n"
     ]
    },
    {
     "name": "stderr",
     "output_type": "stream",
     "text": [
      "Training Epochs:   5%|▌         | 51/1000 [02:59<58:24,  3.69s/it]"
     ]
    },
    {
     "name": "stdout",
     "output_type": "stream",
     "text": [
      "Train Epoch: 52 [0/6300 (0%)]\tLoss: 1.395010\n",
      "Train Epoch: 52 [2560/6300 (40%)]\tLoss: 1.430280\n",
      "Train Epoch: 52 [5120/6300 (80%)]\tLoss: 1.411718\n"
     ]
    },
    {
     "name": "stderr",
     "output_type": "stream",
     "text": [
      "Training Epochs:   5%|▌         | 52/1000 [03:02<57:24,  3.63s/it]"
     ]
    },
    {
     "name": "stdout",
     "output_type": "stream",
     "text": [
      "Train Epoch: 53 [0/6300 (0%)]\tLoss: 1.418809\n",
      "Train Epoch: 53 [2560/6300 (40%)]\tLoss: 1.421712\n",
      "Train Epoch: 53 [5120/6300 (80%)]\tLoss: 1.390493\n"
     ]
    },
    {
     "name": "stderr",
     "output_type": "stream",
     "text": [
      "Training Epochs:   5%|▌         | 53/1000 [03:06<58:33,  3.71s/it]"
     ]
    },
    {
     "name": "stdout",
     "output_type": "stream",
     "text": [
      "Train Epoch: 54 [0/6300 (0%)]\tLoss: 1.404017\n",
      "Train Epoch: 54 [2560/6300 (40%)]\tLoss: 1.363877\n",
      "Train Epoch: 54 [5120/6300 (80%)]\tLoss: 1.380282\n"
     ]
    },
    {
     "name": "stderr",
     "output_type": "stream",
     "text": [
      "Training Epochs:   5%|▌         | 54/1000 [03:10<57:40,  3.66s/it]"
     ]
    },
    {
     "name": "stdout",
     "output_type": "stream",
     "text": [
      "Train Epoch: 55 [0/6300 (0%)]\tLoss: 1.382089\n",
      "Train Epoch: 55 [2560/6300 (40%)]\tLoss: 1.404543\n",
      "Train Epoch: 55 [5120/6300 (80%)]\tLoss: 1.387319\n"
     ]
    },
    {
     "name": "stderr",
     "output_type": "stream",
     "text": [
      "Training Epochs:   6%|▌         | 55/1000 [03:13<57:05,  3.62s/it]"
     ]
    },
    {
     "name": "stdout",
     "output_type": "stream",
     "text": [
      "Train Epoch: 56 [0/6300 (0%)]\tLoss: 1.366167\n",
      "Train Epoch: 56 [2560/6300 (40%)]\tLoss: 1.353101\n",
      "Train Epoch: 56 [5120/6300 (80%)]\tLoss: 1.349662\n"
     ]
    },
    {
     "name": "stderr",
     "output_type": "stream",
     "text": [
      "Training Epochs:   6%|▌         | 56/1000 [03:17<55:08,  3.50s/it]"
     ]
    },
    {
     "name": "stdout",
     "output_type": "stream",
     "text": [
      "Train Epoch: 57 [0/6300 (0%)]\tLoss: 1.349678\n",
      "Train Epoch: 57 [2560/6300 (40%)]\tLoss: 1.345422\n",
      "Train Epoch: 57 [5120/6300 (80%)]\tLoss: 1.331503\n"
     ]
    },
    {
     "name": "stderr",
     "output_type": "stream",
     "text": [
      "Training Epochs:   6%|▌         | 57/1000 [03:20<54:29,  3.47s/it]"
     ]
    },
    {
     "name": "stdout",
     "output_type": "stream",
     "text": [
      "Train Epoch: 58 [0/6300 (0%)]\tLoss: 1.327511\n",
      "Train Epoch: 58 [2560/6300 (40%)]\tLoss: 1.350857\n",
      "Train Epoch: 58 [5120/6300 (80%)]\tLoss: 1.352174\n"
     ]
    },
    {
     "name": "stderr",
     "output_type": "stream",
     "text": [
      "Training Epochs:   6%|▌         | 58/1000 [03:23<54:31,  3.47s/it]"
     ]
    },
    {
     "name": "stdout",
     "output_type": "stream",
     "text": [
      "Train Epoch: 59 [0/6300 (0%)]\tLoss: 1.296859\n",
      "Train Epoch: 59 [2560/6300 (40%)]\tLoss: 1.339498\n",
      "Train Epoch: 59 [5120/6300 (80%)]\tLoss: 1.327937\n"
     ]
    },
    {
     "name": "stderr",
     "output_type": "stream",
     "text": [
      "Training Epochs:   6%|▌         | 59/1000 [03:27<54:28,  3.47s/it]"
     ]
    },
    {
     "name": "stdout",
     "output_type": "stream",
     "text": [
      "Train Epoch: 60 [0/6300 (0%)]\tLoss: 1.316477\n",
      "Train Epoch: 60 [2560/6300 (40%)]\tLoss: 1.322545\n",
      "Train Epoch: 60 [5120/6300 (80%)]\tLoss: 1.341851\n"
     ]
    },
    {
     "name": "stderr",
     "output_type": "stream",
     "text": [
      "Training Epochs:   6%|▌         | 60/1000 [03:30<54:00,  3.45s/it]"
     ]
    },
    {
     "name": "stdout",
     "output_type": "stream",
     "text": [
      "Train Epoch: 61 [0/6300 (0%)]\tLoss: 1.291060\n",
      "Train Epoch: 61 [2560/6300 (40%)]\tLoss: 1.356044\n",
      "Train Epoch: 61 [5120/6300 (80%)]\tLoss: 1.308833\n"
     ]
    },
    {
     "name": "stderr",
     "output_type": "stream",
     "text": [
      "Training Epochs:   6%|▌         | 61/1000 [03:34<54:18,  3.47s/it]"
     ]
    },
    {
     "name": "stdout",
     "output_type": "stream",
     "text": [
      "Train Epoch: 62 [0/6300 (0%)]\tLoss: 1.286466\n",
      "Train Epoch: 62 [2560/6300 (40%)]\tLoss: 1.304024\n",
      "Train Epoch: 62 [5120/6300 (80%)]\tLoss: 1.284041\n"
     ]
    },
    {
     "name": "stderr",
     "output_type": "stream",
     "text": [
      "Training Epochs:   6%|▌         | 62/1000 [03:37<53:26,  3.42s/it]"
     ]
    },
    {
     "name": "stdout",
     "output_type": "stream",
     "text": [
      "Train Epoch: 63 [0/6300 (0%)]\tLoss: 1.286060\n",
      "Train Epoch: 63 [2560/6300 (40%)]\tLoss: 1.290313\n",
      "Train Epoch: 63 [5120/6300 (80%)]\tLoss: 1.251459\n"
     ]
    },
    {
     "name": "stderr",
     "output_type": "stream",
     "text": [
      "Training Epochs:   6%|▋         | 63/1000 [03:40<53:07,  3.40s/it]"
     ]
    },
    {
     "name": "stdout",
     "output_type": "stream",
     "text": [
      "Train Epoch: 64 [0/6300 (0%)]\tLoss: 1.273031\n",
      "Train Epoch: 64 [2560/6300 (40%)]\tLoss: 1.294419\n",
      "Train Epoch: 64 [5120/6300 (80%)]\tLoss: 1.259102\n"
     ]
    },
    {
     "name": "stderr",
     "output_type": "stream",
     "text": [
      "Training Epochs:   6%|▋         | 64/1000 [03:44<52:46,  3.38s/it]"
     ]
    },
    {
     "name": "stdout",
     "output_type": "stream",
     "text": [
      "Train Epoch: 65 [0/6300 (0%)]\tLoss: 1.255469\n",
      "Train Epoch: 65 [2560/6300 (40%)]\tLoss: 1.274245\n",
      "Train Epoch: 65 [5120/6300 (80%)]\tLoss: 1.255716\n"
     ]
    },
    {
     "name": "stderr",
     "output_type": "stream",
     "text": [
      "Training Epochs:   6%|▋         | 65/1000 [03:47<53:52,  3.46s/it]"
     ]
    },
    {
     "name": "stdout",
     "output_type": "stream",
     "text": [
      "Train Epoch: 66 [0/6300 (0%)]\tLoss: 1.284367\n",
      "Train Epoch: 66 [2560/6300 (40%)]\tLoss: 1.258476\n",
      "Train Epoch: 66 [5120/6300 (80%)]\tLoss: 1.223264\n"
     ]
    },
    {
     "name": "stderr",
     "output_type": "stream",
     "text": [
      "Training Epochs:   7%|▋         | 66/1000 [03:51<53:10,  3.42s/it]"
     ]
    },
    {
     "name": "stdout",
     "output_type": "stream",
     "text": [
      "Train Epoch: 67 [0/6300 (0%)]\tLoss: 1.215259\n",
      "Train Epoch: 67 [2560/6300 (40%)]\tLoss: 1.220644\n",
      "Train Epoch: 67 [5120/6300 (80%)]\tLoss: 1.242009\n"
     ]
    },
    {
     "name": "stderr",
     "output_type": "stream",
     "text": [
      "Training Epochs:   7%|▋         | 67/1000 [03:54<53:00,  3.41s/it]"
     ]
    },
    {
     "name": "stdout",
     "output_type": "stream",
     "text": [
      "Train Epoch: 68 [0/6300 (0%)]\tLoss: 1.239591\n",
      "Train Epoch: 68 [2560/6300 (40%)]\tLoss: 1.194870\n",
      "Train Epoch: 68 [5120/6300 (80%)]\tLoss: 1.253080\n"
     ]
    },
    {
     "name": "stderr",
     "output_type": "stream",
     "text": [
      "Training Epochs:   7%|▋         | 68/1000 [03:58<53:15,  3.43s/it]"
     ]
    },
    {
     "name": "stdout",
     "output_type": "stream",
     "text": [
      "Train Epoch: 69 [0/6300 (0%)]\tLoss: 1.223122\n",
      "Train Epoch: 69 [2560/6300 (40%)]\tLoss: 1.215694\n",
      "Train Epoch: 69 [5120/6300 (80%)]\tLoss: 1.216170\n"
     ]
    },
    {
     "name": "stderr",
     "output_type": "stream",
     "text": [
      "Training Epochs:   7%|▋         | 69/1000 [04:01<51:34,  3.32s/it]"
     ]
    },
    {
     "name": "stdout",
     "output_type": "stream",
     "text": [
      "Train Epoch: 70 [0/6300 (0%)]\tLoss: 1.215919\n",
      "Train Epoch: 70 [2560/6300 (40%)]\tLoss: 1.217005\n",
      "Train Epoch: 70 [5120/6300 (80%)]\tLoss: 1.230467\n"
     ]
    },
    {
     "name": "stderr",
     "output_type": "stream",
     "text": [
      "Training Epochs:   7%|▋         | 70/1000 [04:04<49:42,  3.21s/it]"
     ]
    },
    {
     "name": "stdout",
     "output_type": "stream",
     "text": [
      "Train Epoch: 71 [0/6300 (0%)]\tLoss: 1.181620\n",
      "Train Epoch: 71 [2560/6300 (40%)]\tLoss: 1.189647\n",
      "Train Epoch: 71 [5120/6300 (80%)]\tLoss: 1.165640\n"
     ]
    },
    {
     "name": "stderr",
     "output_type": "stream",
     "text": [
      "Training Epochs:   7%|▋         | 71/1000 [04:07<48:11,  3.11s/it]"
     ]
    },
    {
     "name": "stdout",
     "output_type": "stream",
     "text": [
      "Train Epoch: 72 [0/6300 (0%)]\tLoss: 1.178401\n",
      "Train Epoch: 72 [2560/6300 (40%)]\tLoss: 1.139770\n",
      "Train Epoch: 72 [5120/6300 (80%)]\tLoss: 1.178800\n"
     ]
    },
    {
     "name": "stderr",
     "output_type": "stream",
     "text": [
      "Training Epochs:   7%|▋         | 72/1000 [04:10<48:09,  3.11s/it]"
     ]
    },
    {
     "name": "stdout",
     "output_type": "stream",
     "text": [
      "Train Epoch: 73 [0/6300 (0%)]\tLoss: 1.173053\n",
      "Train Epoch: 73 [2560/6300 (40%)]\tLoss: 1.165562\n",
      "Train Epoch: 73 [5120/6300 (80%)]\tLoss: 1.189814\n"
     ]
    },
    {
     "name": "stderr",
     "output_type": "stream",
     "text": [
      "Training Epochs:   7%|▋         | 73/1000 [04:13<47:43,  3.09s/it]"
     ]
    },
    {
     "name": "stdout",
     "output_type": "stream",
     "text": [
      "Train Epoch: 74 [0/6300 (0%)]\tLoss: 1.175741\n",
      "Train Epoch: 74 [2560/6300 (40%)]\tLoss: 1.178099\n",
      "Train Epoch: 74 [5120/6300 (80%)]\tLoss: 1.154386\n"
     ]
    },
    {
     "name": "stderr",
     "output_type": "stream",
     "text": [
      "Training Epochs:   7%|▋         | 74/1000 [04:16<48:17,  3.13s/it]"
     ]
    },
    {
     "name": "stdout",
     "output_type": "stream",
     "text": [
      "Train Epoch: 75 [0/6300 (0%)]\tLoss: 1.160105\n",
      "Train Epoch: 75 [2560/6300 (40%)]\tLoss: 1.153776\n",
      "Train Epoch: 75 [5120/6300 (80%)]\tLoss: 1.154300\n"
     ]
    },
    {
     "name": "stderr",
     "output_type": "stream",
     "text": [
      "Training Epochs:   8%|▊         | 75/1000 [04:19<49:04,  3.18s/it]"
     ]
    },
    {
     "name": "stdout",
     "output_type": "stream",
     "text": [
      "Train Epoch: 76 [0/6300 (0%)]\tLoss: 1.155799\n",
      "Train Epoch: 76 [2560/6300 (40%)]\tLoss: 1.135679\n",
      "Train Epoch: 76 [5120/6300 (80%)]\tLoss: 1.163185\n"
     ]
    },
    {
     "name": "stderr",
     "output_type": "stream",
     "text": [
      "Training Epochs:   8%|▊         | 76/1000 [04:23<49:57,  3.24s/it]"
     ]
    },
    {
     "name": "stdout",
     "output_type": "stream",
     "text": [
      "Train Epoch: 77 [0/6300 (0%)]\tLoss: 1.150715\n",
      "Train Epoch: 77 [2560/6300 (40%)]\tLoss: 1.127906\n",
      "Train Epoch: 77 [5120/6300 (80%)]\tLoss: 1.127575\n"
     ]
    },
    {
     "name": "stderr",
     "output_type": "stream",
     "text": [
      "Training Epochs:   8%|▊         | 77/1000 [04:26<51:06,  3.32s/it]"
     ]
    },
    {
     "name": "stdout",
     "output_type": "stream",
     "text": [
      "Train Epoch: 78 [0/6300 (0%)]\tLoss: 1.136766\n",
      "Train Epoch: 78 [2560/6300 (40%)]\tLoss: 1.129194\n",
      "Train Epoch: 78 [5120/6300 (80%)]\tLoss: 1.118330\n"
     ]
    },
    {
     "name": "stderr",
     "output_type": "stream",
     "text": [
      "Training Epochs:   8%|▊         | 78/1000 [04:30<52:54,  3.44s/it]"
     ]
    },
    {
     "name": "stdout",
     "output_type": "stream",
     "text": [
      "Train Epoch: 79 [0/6300 (0%)]\tLoss: 1.129794\n",
      "Train Epoch: 79 [2560/6300 (40%)]\tLoss: 1.102371\n",
      "Train Epoch: 79 [5120/6300 (80%)]\tLoss: 1.135382\n"
     ]
    },
    {
     "name": "stderr",
     "output_type": "stream",
     "text": [
      "Training Epochs:   8%|▊         | 79/1000 [04:33<53:42,  3.50s/it]"
     ]
    },
    {
     "name": "stdout",
     "output_type": "stream",
     "text": [
      "Train Epoch: 80 [0/6300 (0%)]\tLoss: 1.105835\n",
      "Train Epoch: 80 [2560/6300 (40%)]\tLoss: 1.101608\n",
      "Train Epoch: 80 [5120/6300 (80%)]\tLoss: 1.097138\n"
     ]
    },
    {
     "name": "stderr",
     "output_type": "stream",
     "text": [
      "Training Epochs:   8%|▊         | 80/1000 [04:37<52:49,  3.45s/it]"
     ]
    },
    {
     "name": "stdout",
     "output_type": "stream",
     "text": [
      "Train Epoch: 81 [0/6300 (0%)]\tLoss: 1.140443\n",
      "Train Epoch: 81 [2560/6300 (40%)]\tLoss: 1.110499\n",
      "Train Epoch: 81 [5120/6300 (80%)]\tLoss: 1.115808\n"
     ]
    },
    {
     "name": "stderr",
     "output_type": "stream",
     "text": [
      "Training Epochs:   8%|▊         | 81/1000 [04:40<51:42,  3.38s/it]"
     ]
    },
    {
     "name": "stdout",
     "output_type": "stream",
     "text": [
      "Train Epoch: 82 [0/6300 (0%)]\tLoss: 1.139214\n",
      "Train Epoch: 82 [2560/6300 (40%)]\tLoss: 1.093924\n",
      "Train Epoch: 82 [5120/6300 (80%)]\tLoss: 1.112558\n"
     ]
    },
    {
     "name": "stderr",
     "output_type": "stream",
     "text": [
      "Training Epochs:   8%|▊         | 82/1000 [04:43<51:06,  3.34s/it]"
     ]
    },
    {
     "name": "stdout",
     "output_type": "stream",
     "text": [
      "Train Epoch: 83 [0/6300 (0%)]\tLoss: 1.109261\n",
      "Train Epoch: 83 [2560/6300 (40%)]\tLoss: 1.111983\n",
      "Train Epoch: 83 [5120/6300 (80%)]\tLoss: 1.077524\n"
     ]
    },
    {
     "name": "stderr",
     "output_type": "stream",
     "text": [
      "Training Epochs:   8%|▊         | 83/1000 [04:47<51:27,  3.37s/it]"
     ]
    },
    {
     "name": "stdout",
     "output_type": "stream",
     "text": [
      "Train Epoch: 84 [0/6300 (0%)]\tLoss: 1.077011\n",
      "Train Epoch: 84 [2560/6300 (40%)]\tLoss: 1.082875\n",
      "Train Epoch: 84 [5120/6300 (80%)]\tLoss: 1.079308\n"
     ]
    },
    {
     "name": "stderr",
     "output_type": "stream",
     "text": [
      "Training Epochs:   8%|▊         | 84/1000 [04:50<52:55,  3.47s/it]"
     ]
    },
    {
     "name": "stdout",
     "output_type": "stream",
     "text": [
      "Train Epoch: 85 [0/6300 (0%)]\tLoss: 1.057247\n",
      "Train Epoch: 85 [2560/6300 (40%)]\tLoss: 1.062069\n",
      "Train Epoch: 85 [5120/6300 (80%)]\tLoss: 1.095792\n"
     ]
    },
    {
     "name": "stderr",
     "output_type": "stream",
     "text": [
      "Training Epochs:   8%|▊         | 85/1000 [04:54<53:36,  3.52s/it]"
     ]
    },
    {
     "name": "stdout",
     "output_type": "stream",
     "text": [
      "Train Epoch: 86 [0/6300 (0%)]\tLoss: 1.088465\n",
      "Train Epoch: 86 [2560/6300 (40%)]\tLoss: 1.100525\n",
      "Train Epoch: 86 [5120/6300 (80%)]\tLoss: 1.079482\n"
     ]
    },
    {
     "name": "stderr",
     "output_type": "stream",
     "text": [
      "Training Epochs:   9%|▊         | 86/1000 [04:58<54:31,  3.58s/it]"
     ]
    },
    {
     "name": "stdout",
     "output_type": "stream",
     "text": [
      "Train Epoch: 87 [0/6300 (0%)]\tLoss: 1.072477\n",
      "Train Epoch: 87 [2560/6300 (40%)]\tLoss: 1.083933\n",
      "Train Epoch: 87 [5120/6300 (80%)]\tLoss: 1.082465\n"
     ]
    },
    {
     "name": "stderr",
     "output_type": "stream",
     "text": [
      "Training Epochs:   9%|▊         | 87/1000 [05:02<57:35,  3.78s/it]"
     ]
    },
    {
     "name": "stdout",
     "output_type": "stream",
     "text": [
      "Train Epoch: 88 [0/6300 (0%)]\tLoss: 1.078608\n",
      "Train Epoch: 88 [2560/6300 (40%)]\tLoss: 1.079730\n",
      "Train Epoch: 88 [5120/6300 (80%)]\tLoss: 1.018595\n"
     ]
    },
    {
     "name": "stderr",
     "output_type": "stream",
     "text": [
      "Training Epochs:   9%|▉         | 88/1000 [05:05<55:23,  3.64s/it]"
     ]
    },
    {
     "name": "stdout",
     "output_type": "stream",
     "text": [
      "Train Epoch: 89 [0/6300 (0%)]\tLoss: 1.044048\n",
      "Train Epoch: 89 [2560/6300 (40%)]\tLoss: 1.057629\n",
      "Train Epoch: 89 [5120/6300 (80%)]\tLoss: 1.071681\n"
     ]
    },
    {
     "name": "stderr",
     "output_type": "stream",
     "text": [
      "Training Epochs:   9%|▉         | 89/1000 [05:09<54:55,  3.62s/it]"
     ]
    },
    {
     "name": "stdout",
     "output_type": "stream",
     "text": [
      "Train Epoch: 90 [0/6300 (0%)]\tLoss: 1.045086\n",
      "Train Epoch: 90 [2560/6300 (40%)]\tLoss: 1.052628\n",
      "Train Epoch: 90 [5120/6300 (80%)]\tLoss: 1.074808\n"
     ]
    },
    {
     "name": "stderr",
     "output_type": "stream",
     "text": [
      "Training Epochs:   9%|▉         | 90/1000 [05:13<56:01,  3.69s/it]"
     ]
    },
    {
     "name": "stdout",
     "output_type": "stream",
     "text": [
      "Train Epoch: 91 [0/6300 (0%)]\tLoss: 1.020738\n",
      "Train Epoch: 91 [2560/6300 (40%)]\tLoss: 1.067931\n",
      "Train Epoch: 91 [5120/6300 (80%)]\tLoss: 1.041966\n"
     ]
    },
    {
     "name": "stderr",
     "output_type": "stream",
     "text": [
      "Training Epochs:   9%|▉         | 91/1000 [05:16<54:16,  3.58s/it]"
     ]
    },
    {
     "name": "stdout",
     "output_type": "stream",
     "text": [
      "Train Epoch: 92 [0/6300 (0%)]\tLoss: 1.057163\n",
      "Train Epoch: 92 [2560/6300 (40%)]\tLoss: 1.041033\n",
      "Train Epoch: 92 [5120/6300 (80%)]\tLoss: 1.026403\n"
     ]
    },
    {
     "name": "stderr",
     "output_type": "stream",
     "text": [
      "Training Epochs:   9%|▉         | 92/1000 [05:20<56:22,  3.73s/it]"
     ]
    },
    {
     "name": "stdout",
     "output_type": "stream",
     "text": [
      "Train Epoch: 93 [0/6300 (0%)]\tLoss: 1.018281\n",
      "Train Epoch: 93 [2560/6300 (40%)]\tLoss: 1.067431\n",
      "Train Epoch: 93 [5120/6300 (80%)]\tLoss: 1.039570\n"
     ]
    },
    {
     "name": "stderr",
     "output_type": "stream",
     "text": [
      "Training Epochs:   9%|▉         | 93/1000 [05:23<54:30,  3.61s/it]"
     ]
    },
    {
     "name": "stdout",
     "output_type": "stream",
     "text": [
      "Train Epoch: 94 [0/6300 (0%)]\tLoss: 0.997827\n",
      "Train Epoch: 94 [2560/6300 (40%)]\tLoss: 1.022809\n",
      "Train Epoch: 94 [5120/6300 (80%)]\tLoss: 1.051201\n"
     ]
    },
    {
     "name": "stderr",
     "output_type": "stream",
     "text": [
      "Training Epochs:   9%|▉         | 94/1000 [05:27<51:57,  3.44s/it]"
     ]
    },
    {
     "name": "stdout",
     "output_type": "stream",
     "text": [
      "Train Epoch: 95 [0/6300 (0%)]\tLoss: 1.029373\n",
      "Train Epoch: 95 [2560/6300 (40%)]\tLoss: 1.006319\n",
      "Train Epoch: 95 [5120/6300 (80%)]\tLoss: 1.018958\n"
     ]
    },
    {
     "name": "stderr",
     "output_type": "stream",
     "text": [
      "Training Epochs:  10%|▉         | 95/1000 [05:30<51:23,  3.41s/it]"
     ]
    },
    {
     "name": "stdout",
     "output_type": "stream",
     "text": [
      "Train Epoch: 96 [0/6300 (0%)]\tLoss: 1.023450\n",
      "Train Epoch: 96 [2560/6300 (40%)]\tLoss: 1.066370\n",
      "Train Epoch: 96 [5120/6300 (80%)]\tLoss: 1.015088\n"
     ]
    },
    {
     "name": "stderr",
     "output_type": "stream",
     "text": [
      "Training Epochs:  10%|▉         | 96/1000 [05:33<51:36,  3.43s/it]"
     ]
    },
    {
     "name": "stdout",
     "output_type": "stream",
     "text": [
      "Train Epoch: 97 [0/6300 (0%)]\tLoss: 1.037489\n",
      "Train Epoch: 97 [2560/6300 (40%)]\tLoss: 1.043402\n",
      "Train Epoch: 97 [5120/6300 (80%)]\tLoss: 1.019272\n"
     ]
    },
    {
     "name": "stderr",
     "output_type": "stream",
     "text": [
      "Training Epochs:  10%|▉         | 97/1000 [05:37<52:26,  3.48s/it]"
     ]
    },
    {
     "name": "stdout",
     "output_type": "stream",
     "text": [
      "Train Epoch: 98 [0/6300 (0%)]\tLoss: 1.014716\n",
      "Train Epoch: 98 [2560/6300 (40%)]\tLoss: 1.041079\n",
      "Train Epoch: 98 [5120/6300 (80%)]\tLoss: 0.983521\n"
     ]
    },
    {
     "name": "stderr",
     "output_type": "stream",
     "text": [
      "Training Epochs:  10%|▉         | 98/1000 [05:40<52:06,  3.47s/it]"
     ]
    },
    {
     "name": "stdout",
     "output_type": "stream",
     "text": [
      "Train Epoch: 99 [0/6300 (0%)]\tLoss: 0.994131\n",
      "Train Epoch: 99 [2560/6300 (40%)]\tLoss: 1.000730\n",
      "Train Epoch: 99 [5120/6300 (80%)]\tLoss: 0.974352\n"
     ]
    },
    {
     "name": "stderr",
     "output_type": "stream",
     "text": [
      "Training Epochs:  10%|▉         | 99/1000 [05:44<51:32,  3.43s/it]"
     ]
    },
    {
     "name": "stdout",
     "output_type": "stream",
     "text": [
      "Train Epoch: 100 [0/6300 (0%)]\tLoss: 0.979127\n",
      "Train Epoch: 100 [2560/6300 (40%)]\tLoss: 0.999583\n",
      "Train Epoch: 100 [5120/6300 (80%)]\tLoss: 1.018016\n"
     ]
    },
    {
     "name": "stderr",
     "output_type": "stream",
     "text": [
      "Training Epochs:  10%|█         | 100/1000 [05:47<49:30,  3.30s/it]"
     ]
    },
    {
     "name": "stdout",
     "output_type": "stream",
     "text": [
      "Train Epoch: 101 [0/6300 (0%)]\tLoss: 0.979069\n",
      "Train Epoch: 101 [2560/6300 (40%)]\tLoss: 1.016232\n",
      "Train Epoch: 101 [5120/6300 (80%)]\tLoss: 0.966721\n"
     ]
    },
    {
     "name": "stderr",
     "output_type": "stream",
     "text": [
      "Training Epochs:  10%|█         | 101/1000 [05:50<48:25,  3.23s/it]"
     ]
    },
    {
     "name": "stdout",
     "output_type": "stream",
     "text": [
      "Train Epoch: 102 [0/6300 (0%)]\tLoss: 1.006577\n",
      "Train Epoch: 102 [2560/6300 (40%)]\tLoss: 0.987099\n",
      "Train Epoch: 102 [5120/6300 (80%)]\tLoss: 1.011060\n"
     ]
    },
    {
     "name": "stderr",
     "output_type": "stream",
     "text": [
      "Training Epochs:  10%|█         | 102/1000 [05:53<48:32,  3.24s/it]"
     ]
    },
    {
     "name": "stdout",
     "output_type": "stream",
     "text": [
      "Train Epoch: 103 [0/6300 (0%)]\tLoss: 1.020311\n",
      "Train Epoch: 103 [2560/6300 (40%)]\tLoss: 1.010915\n",
      "Train Epoch: 103 [5120/6300 (80%)]\tLoss: 0.943675\n"
     ]
    },
    {
     "name": "stderr",
     "output_type": "stream",
     "text": [
      "Training Epochs:  10%|█         | 103/1000 [05:56<47:46,  3.20s/it]"
     ]
    },
    {
     "name": "stdout",
     "output_type": "stream",
     "text": [
      "Train Epoch: 104 [0/6300 (0%)]\tLoss: 0.975288\n",
      "Train Epoch: 104 [2560/6300 (40%)]\tLoss: 0.983438\n",
      "Train Epoch: 104 [5120/6300 (80%)]\tLoss: 0.955021\n"
     ]
    },
    {
     "name": "stderr",
     "output_type": "stream",
     "text": [
      "Training Epochs:  10%|█         | 104/1000 [06:00<49:19,  3.30s/it]"
     ]
    },
    {
     "name": "stdout",
     "output_type": "stream",
     "text": [
      "Train Epoch: 105 [0/6300 (0%)]\tLoss: 0.993491\n",
      "Train Epoch: 105 [2560/6300 (40%)]\tLoss: 0.948565\n",
      "Train Epoch: 105 [5120/6300 (80%)]\tLoss: 1.027604\n"
     ]
    },
    {
     "name": "stderr",
     "output_type": "stream",
     "text": [
      "Training Epochs:  10%|█         | 105/1000 [06:03<50:17,  3.37s/it]"
     ]
    },
    {
     "name": "stdout",
     "output_type": "stream",
     "text": [
      "Train Epoch: 106 [0/6300 (0%)]\tLoss: 0.968309\n",
      "Train Epoch: 106 [2560/6300 (40%)]\tLoss: 0.989970\n",
      "Train Epoch: 106 [5120/6300 (80%)]\tLoss: 1.001803\n"
     ]
    },
    {
     "name": "stderr",
     "output_type": "stream",
     "text": [
      "Training Epochs:  11%|█         | 106/1000 [06:07<51:12,  3.44s/it]"
     ]
    },
    {
     "name": "stdout",
     "output_type": "stream",
     "text": [
      "Train Epoch: 107 [0/6300 (0%)]\tLoss: 0.969923\n",
      "Train Epoch: 107 [2560/6300 (40%)]\tLoss: 0.961197\n",
      "Train Epoch: 107 [5120/6300 (80%)]\tLoss: 0.977956\n"
     ]
    },
    {
     "name": "stderr",
     "output_type": "stream",
     "text": [
      "Training Epochs:  11%|█         | 107/1000 [06:10<48:59,  3.29s/it]"
     ]
    },
    {
     "name": "stdout",
     "output_type": "stream",
     "text": [
      "Train Epoch: 108 [0/6300 (0%)]\tLoss: 0.975072\n",
      "Train Epoch: 108 [2560/6300 (40%)]\tLoss: 0.989480\n",
      "Train Epoch: 108 [5120/6300 (80%)]\tLoss: 0.941310\n"
     ]
    },
    {
     "name": "stderr",
     "output_type": "stream",
     "text": [
      "Training Epochs:  11%|█         | 108/1000 [06:13<48:03,  3.23s/it]"
     ]
    },
    {
     "name": "stdout",
     "output_type": "stream",
     "text": [
      "Train Epoch: 109 [0/6300 (0%)]\tLoss: 1.001149\n",
      "Train Epoch: 109 [2560/6300 (40%)]\tLoss: 0.998070\n",
      "Train Epoch: 109 [5120/6300 (80%)]\tLoss: 0.960577\n"
     ]
    },
    {
     "name": "stderr",
     "output_type": "stream",
     "text": [
      "Training Epochs:  11%|█         | 109/1000 [06:16<48:09,  3.24s/it]"
     ]
    },
    {
     "name": "stdout",
     "output_type": "stream",
     "text": [
      "Train Epoch: 110 [0/6300 (0%)]\tLoss: 0.981828\n",
      "Train Epoch: 110 [2560/6300 (40%)]\tLoss: 0.975422\n",
      "Train Epoch: 110 [5120/6300 (80%)]\tLoss: 0.934942\n"
     ]
    },
    {
     "name": "stderr",
     "output_type": "stream",
     "text": [
      "Training Epochs:  11%|█         | 110/1000 [06:19<46:20,  3.12s/it]"
     ]
    },
    {
     "name": "stdout",
     "output_type": "stream",
     "text": [
      "Train Epoch: 111 [0/6300 (0%)]\tLoss: 0.983587\n",
      "Train Epoch: 111 [2560/6300 (40%)]\tLoss: 0.974487\n",
      "Train Epoch: 111 [5120/6300 (80%)]\tLoss: 0.958872\n"
     ]
    },
    {
     "name": "stderr",
     "output_type": "stream",
     "text": [
      "Training Epochs:  11%|█         | 111/1000 [06:22<47:55,  3.23s/it]"
     ]
    },
    {
     "name": "stdout",
     "output_type": "stream",
     "text": [
      "Train Epoch: 112 [0/6300 (0%)]\tLoss: 0.947447\n",
      "Train Epoch: 112 [2560/6300 (40%)]\tLoss: 0.970896\n",
      "Train Epoch: 112 [5120/6300 (80%)]\tLoss: 0.989387\n"
     ]
    },
    {
     "name": "stderr",
     "output_type": "stream",
     "text": [
      "Training Epochs:  11%|█         | 112/1000 [06:26<47:48,  3.23s/it]"
     ]
    },
    {
     "name": "stdout",
     "output_type": "stream",
     "text": [
      "Train Epoch: 113 [0/6300 (0%)]\tLoss: 0.913715\n",
      "Train Epoch: 113 [2560/6300 (40%)]\tLoss: 0.944312\n",
      "Train Epoch: 113 [5120/6300 (80%)]\tLoss: 0.957568\n"
     ]
    },
    {
     "name": "stderr",
     "output_type": "stream",
     "text": [
      "Training Epochs:  11%|█▏        | 113/1000 [06:29<47:18,  3.20s/it]"
     ]
    },
    {
     "name": "stdout",
     "output_type": "stream",
     "text": [
      "Train Epoch: 114 [0/6300 (0%)]\tLoss: 0.914124\n",
      "Train Epoch: 114 [2560/6300 (40%)]\tLoss: 0.944880\n",
      "Train Epoch: 114 [5120/6300 (80%)]\tLoss: 0.957418\n"
     ]
    },
    {
     "name": "stderr",
     "output_type": "stream",
     "text": [
      "Training Epochs:  11%|█▏        | 114/1000 [06:32<47:09,  3.19s/it]"
     ]
    },
    {
     "name": "stdout",
     "output_type": "stream",
     "text": [
      "Train Epoch: 115 [0/6300 (0%)]\tLoss: 0.911937\n",
      "Train Epoch: 115 [2560/6300 (40%)]\tLoss: 0.934216\n",
      "Train Epoch: 115 [5120/6300 (80%)]\tLoss: 0.915655\n"
     ]
    },
    {
     "name": "stderr",
     "output_type": "stream",
     "text": [
      "Training Epochs:  12%|█▏        | 115/1000 [06:35<45:56,  3.11s/it]"
     ]
    },
    {
     "name": "stdout",
     "output_type": "stream",
     "text": [
      "Train Epoch: 116 [0/6300 (0%)]\tLoss: 0.956668\n",
      "Train Epoch: 116 [2560/6300 (40%)]\tLoss: 0.942638\n",
      "Train Epoch: 116 [5120/6300 (80%)]\tLoss: 0.975019\n"
     ]
    },
    {
     "name": "stderr",
     "output_type": "stream",
     "text": [
      "Training Epochs:  12%|█▏        | 116/1000 [06:38<45:36,  3.10s/it]"
     ]
    },
    {
     "name": "stdout",
     "output_type": "stream",
     "text": [
      "Train Epoch: 117 [0/6300 (0%)]\tLoss: 0.946734\n",
      "Train Epoch: 117 [2560/6300 (40%)]\tLoss: 0.935509\n",
      "Train Epoch: 117 [5120/6300 (80%)]\tLoss: 0.965759\n"
     ]
    },
    {
     "name": "stderr",
     "output_type": "stream",
     "text": [
      "Training Epochs:  12%|█▏        | 117/1000 [06:41<46:46,  3.18s/it]"
     ]
    },
    {
     "name": "stdout",
     "output_type": "stream",
     "text": [
      "Train Epoch: 118 [0/6300 (0%)]\tLoss: 0.941201\n",
      "Train Epoch: 118 [2560/6300 (40%)]\tLoss: 0.917634\n",
      "Train Epoch: 118 [5120/6300 (80%)]\tLoss: 0.921038\n"
     ]
    },
    {
     "name": "stderr",
     "output_type": "stream",
     "text": [
      "Training Epochs:  12%|█▏        | 118/1000 [06:45<46:55,  3.19s/it]"
     ]
    },
    {
     "name": "stdout",
     "output_type": "stream",
     "text": [
      "Train Epoch: 119 [0/6300 (0%)]\tLoss: 0.908192\n",
      "Train Epoch: 119 [2560/6300 (40%)]\tLoss: 0.929585\n",
      "Train Epoch: 119 [5120/6300 (80%)]\tLoss: 0.947034\n"
     ]
    },
    {
     "name": "stderr",
     "output_type": "stream",
     "text": [
      "Training Epochs:  12%|█▏        | 119/1000 [06:48<48:58,  3.34s/it]"
     ]
    },
    {
     "name": "stdout",
     "output_type": "stream",
     "text": [
      "Train Epoch: 120 [0/6300 (0%)]\tLoss: 0.936809\n",
      "Train Epoch: 120 [2560/6300 (40%)]\tLoss: 0.947949\n",
      "Train Epoch: 120 [5120/6300 (80%)]\tLoss: 0.945963\n"
     ]
    },
    {
     "name": "stderr",
     "output_type": "stream",
     "text": [
      "Training Epochs:  12%|█▏        | 120/1000 [06:52<50:36,  3.45s/it]"
     ]
    },
    {
     "name": "stdout",
     "output_type": "stream",
     "text": [
      "Train Epoch: 121 [0/6300 (0%)]\tLoss: 0.907898\n",
      "Train Epoch: 121 [2560/6300 (40%)]\tLoss: 0.954317\n",
      "Train Epoch: 121 [5120/6300 (80%)]\tLoss: 0.971871\n"
     ]
    },
    {
     "name": "stderr",
     "output_type": "stream",
     "text": [
      "Training Epochs:  12%|█▏        | 121/1000 [06:56<52:12,  3.56s/it]"
     ]
    },
    {
     "name": "stdout",
     "output_type": "stream",
     "text": [
      "Train Epoch: 122 [0/6300 (0%)]\tLoss: 0.918058\n",
      "Train Epoch: 122 [2560/6300 (40%)]\tLoss: 0.912073\n",
      "Train Epoch: 122 [5120/6300 (80%)]\tLoss: 0.924806\n"
     ]
    },
    {
     "name": "stderr",
     "output_type": "stream",
     "text": [
      "Training Epochs:  12%|█▏        | 122/1000 [06:59<52:46,  3.61s/it]"
     ]
    },
    {
     "name": "stdout",
     "output_type": "stream",
     "text": [
      "Train Epoch: 123 [0/6300 (0%)]\tLoss: 0.894675\n",
      "Train Epoch: 123 [2560/6300 (40%)]\tLoss: 0.932221\n",
      "Train Epoch: 123 [5120/6300 (80%)]\tLoss: 0.951175\n"
     ]
    },
    {
     "name": "stderr",
     "output_type": "stream",
     "text": [
      "Training Epochs:  12%|█▏        | 123/1000 [07:03<51:29,  3.52s/it]"
     ]
    },
    {
     "name": "stdout",
     "output_type": "stream",
     "text": [
      "Train Epoch: 124 [0/6300 (0%)]\tLoss: 0.935476\n",
      "Train Epoch: 124 [2560/6300 (40%)]\tLoss: 0.938827\n",
      "Train Epoch: 124 [5120/6300 (80%)]\tLoss: 0.890611\n"
     ]
    },
    {
     "name": "stderr",
     "output_type": "stream",
     "text": [
      "Training Epochs:  12%|█▏        | 124/1000 [07:07<52:57,  3.63s/it]"
     ]
    },
    {
     "name": "stdout",
     "output_type": "stream",
     "text": [
      "Train Epoch: 125 [0/6300 (0%)]\tLoss: 0.927185\n",
      "Train Epoch: 125 [2560/6300 (40%)]\tLoss: 0.926613\n",
      "Train Epoch: 125 [5120/6300 (80%)]\tLoss: 0.917284\n"
     ]
    },
    {
     "name": "stderr",
     "output_type": "stream",
     "text": [
      "Training Epochs:  12%|█▎        | 125/1000 [07:10<52:17,  3.59s/it]"
     ]
    },
    {
     "name": "stdout",
     "output_type": "stream",
     "text": [
      "Train Epoch: 126 [0/6300 (0%)]\tLoss: 0.892972\n",
      "Train Epoch: 126 [2560/6300 (40%)]\tLoss: 0.917681\n",
      "Train Epoch: 126 [5120/6300 (80%)]\tLoss: 0.888099\n"
     ]
    },
    {
     "name": "stderr",
     "output_type": "stream",
     "text": [
      "Training Epochs:  13%|█▎        | 126/1000 [07:14<53:10,  3.65s/it]"
     ]
    },
    {
     "name": "stdout",
     "output_type": "stream",
     "text": [
      "Train Epoch: 127 [0/6300 (0%)]\tLoss: 0.943283\n",
      "Train Epoch: 127 [2560/6300 (40%)]\tLoss: 0.916214\n",
      "Train Epoch: 127 [5120/6300 (80%)]\tLoss: 0.944444\n"
     ]
    },
    {
     "name": "stderr",
     "output_type": "stream",
     "text": [
      "Training Epochs:  13%|█▎        | 127/1000 [07:18<53:03,  3.65s/it]"
     ]
    },
    {
     "name": "stdout",
     "output_type": "stream",
     "text": [
      "Train Epoch: 128 [0/6300 (0%)]\tLoss: 0.940005\n",
      "Train Epoch: 128 [2560/6300 (40%)]\tLoss: 0.885128\n",
      "Train Epoch: 128 [5120/6300 (80%)]\tLoss: 0.897680\n"
     ]
    },
    {
     "name": "stderr",
     "output_type": "stream",
     "text": [
      "Training Epochs:  13%|█▎        | 128/1000 [07:21<52:31,  3.61s/it]"
     ]
    },
    {
     "name": "stdout",
     "output_type": "stream",
     "text": [
      "Train Epoch: 129 [0/6300 (0%)]\tLoss: 0.898954\n",
      "Train Epoch: 129 [2560/6300 (40%)]\tLoss: 0.924036\n",
      "Train Epoch: 129 [5120/6300 (80%)]\tLoss: 0.896556\n"
     ]
    },
    {
     "name": "stderr",
     "output_type": "stream",
     "text": [
      "Training Epochs:  13%|█▎        | 129/1000 [07:25<52:39,  3.63s/it]"
     ]
    },
    {
     "name": "stdout",
     "output_type": "stream",
     "text": [
      "Train Epoch: 130 [0/6300 (0%)]\tLoss: 0.897685\n",
      "Train Epoch: 130 [2560/6300 (40%)]\tLoss: 0.887009\n",
      "Train Epoch: 130 [5120/6300 (80%)]\tLoss: 0.901258\n"
     ]
    },
    {
     "name": "stderr",
     "output_type": "stream",
     "text": [
      "Training Epochs:  13%|█▎        | 130/1000 [07:29<54:13,  3.74s/it]"
     ]
    },
    {
     "name": "stdout",
     "output_type": "stream",
     "text": [
      "Train Epoch: 131 [0/6300 (0%)]\tLoss: 0.879339\n",
      "Train Epoch: 131 [2560/6300 (40%)]\tLoss: 0.876527\n",
      "Train Epoch: 131 [5120/6300 (80%)]\tLoss: 0.884490\n"
     ]
    },
    {
     "name": "stderr",
     "output_type": "stream",
     "text": [
      "Training Epochs:  13%|█▎        | 130/1000 [07:33<50:33,  3.49s/it]"
     ]
    },
    {
     "name": "stdout",
     "output_type": "stream",
     "text": [
      "Early stopping at epoch 131\n"
     ]
    },
    {
     "name": "stderr",
     "output_type": "stream",
     "text": [
      "\n"
     ]
    }
   ],
   "source": [
    "sys.argv = [\n",
    "    'train.py',\n",
    "    '-dataset', f'gtd{partition}',\n",
    "    '-n_class', '30',\n",
    "    '-gpuid', '0',\n",
    "    '-n_tree', str(best_config['n_tree']),\n",
    "    '-tree_depth', str(best_config['tree_depth']),\n",
    "    '-batch_size', str(best_config['batch_size']),\n",
    "    '-epochs', '1000',\n",
    "    '-verbose', '1',\n",
    "    '-jointly_training'\n",
    "]\n",
    "\n",
    "best_model, preds, targets, labels, epoch_logs = main()\n"
   ]
  },
  {
   "cell_type": "code",
   "execution_count": 8,
   "metadata": {},
   "outputs": [
    {
     "name": "stdout",
     "output_type": "stream",
     "text": [
      "              precision    recall  f1-score   support\n",
      "\n",
      "           0       0.89      1.00      0.94        90\n",
      "           1       0.98      1.00      0.99        90\n",
      "           2       0.65      0.90      0.76        90\n",
      "           3       0.75      0.88      0.81        90\n",
      "           4       0.99      0.97      0.98        90\n",
      "           5       1.00      1.00      1.00        90\n",
      "           6       0.94      0.80      0.86        90\n",
      "           7       0.91      0.94      0.93        90\n",
      "           8       1.00      1.00      1.00        90\n",
      "           9       1.00      1.00      1.00        90\n",
      "          10       0.62      0.98      0.76        90\n",
      "          11       0.82      0.94      0.88        90\n",
      "          12       0.84      0.73      0.78        90\n",
      "          13       0.99      1.00      0.99        90\n",
      "          14       0.79      0.41      0.54        90\n",
      "          15       0.82      0.96      0.88        90\n",
      "          16       0.93      1.00      0.96        90\n",
      "          17       1.00      0.99      0.99        90\n",
      "          18       0.92      0.91      0.92        90\n",
      "          19       0.83      0.63      0.72        90\n",
      "          20       0.88      0.81      0.84        90\n",
      "          21       0.99      0.90      0.94        90\n",
      "          22       0.93      0.41      0.57        90\n",
      "          23       0.95      0.84      0.89        90\n",
      "          24       0.82      0.89      0.86        90\n",
      "          25       0.79      0.98      0.87        90\n",
      "          26       0.94      0.69      0.79        90\n",
      "          27       0.50      0.57      0.53        90\n",
      "          28       0.56      0.66      0.60        90\n",
      "          29       0.99      0.74      0.85        90\n",
      "\n",
      "    accuracy                           0.85      2700\n",
      "   macro avg       0.87      0.85      0.85      2700\n",
      "weighted avg       0.87      0.85      0.85      2700\n",
      "\n"
     ]
    }
   ],
   "source": [
    "from sklearn.metrics import classification_report\n",
    "\n",
    "print(classification_report(targets, preds))"
   ]
  },
  {
   "cell_type": "code",
   "execution_count": 9,
   "metadata": {},
   "outputs": [],
   "source": [
    "def plot_confusion_matrix(y_true, y_pred, labels, partition):\n",
    "    cm = confusion_matrix(y_true, y_pred, labels=range(len(labels)))\n",
    "    cm_normalized = cm.astype('float') / cm.sum(axis=1, keepdims=True)\n",
    "\n",
    "    plt.figure(figsize=(18, 16))\n",
    "    sns.heatmap(cm_normalized,\n",
    "                annot=True,\n",
    "                fmt=\".2f\",\n",
    "                xticklabels=labels,\n",
    "                yticklabels=labels,\n",
    "                cmap=\"viridis\",\n",
    "                square=True,\n",
    "                linewidths=0.5,\n",
    "                cbar_kws={\"shrink\": 0.8})\n",
    "\n",
    "    plt.title(f\"Normalized Confusion Matrix (Partition gtd{partition})\", fontsize=18)\n",
    "    plt.xlabel(\"Predicted Label\", fontsize=14)\n",
    "    plt.ylabel(\"True Label\", fontsize=14)\n",
    "    plt.xticks(rotation=90)\n",
    "    plt.yticks(rotation=0)\n",
    "    plt.tight_layout()\n",
    "\n",
    "    save_path = f\"results/confusion_matrix_partition_gtd{partition}.png\"\n",
    "    plt.savefig(save_path, dpi=300)\n",
    "    plt.close()\n",
    "\n",
    "    print(f\"Saved confusion matrix for partition gtd{partition} to {save_path}\")\n",
    "\n"
   ]
  },
  {
   "cell_type": "code",
   "execution_count": 10,
   "metadata": {},
   "outputs": [
    {
     "name": "stdout",
     "output_type": "stream",
     "text": [
      "Saved confusion matrix for partition gtd300 to results/confusion_matrix_partition_gtd300.png\n"
     ]
    }
   ],
   "source": [
    "plot_confusion_matrix(targets, preds, labels, partition)"
   ]
  }
 ],
 "metadata": {
  "kernelspec": {
   "display_name": "base",
   "language": "python",
   "name": "python3"
  },
  "language_info": {
   "codemirror_mode": {
    "name": "ipython",
    "version": 3
   },
   "file_extension": ".py",
   "mimetype": "text/x-python",
   "name": "python",
   "nbconvert_exporter": "python",
   "pygments_lexer": "ipython3",
   "version": "3.11.9"
  }
 },
 "nbformat": 4,
 "nbformat_minor": 2
}
