{
 "cells": [
  {
   "cell_type": "code",
   "execution_count": 1,
   "metadata": {},
   "outputs": [],
   "source": [
    "partition = 100"
   ]
  },
  {
   "cell_type": "code",
   "execution_count": 2,
   "metadata": {},
   "outputs": [],
   "source": [
    "import sys\n",
    "from train import main\n",
    "from itertools import product  \n",
    "from sklearn.metrics import confusion_matrix\n",
    "import seaborn as sns\n",
    "import matplotlib.pyplot as plt\n"
   ]
  },
  {
   "cell_type": "code",
   "execution_count": 3,
   "metadata": {},
   "outputs": [
    {
     "name": "stdout",
     "output_type": "stream",
     "text": [
      "\n",
      "Running: n_tree=5, tree_depth=3, batch_size=512\n",
      "Use gtd100 dataset\n"
     ]
    },
    {
     "name": "stderr",
     "output_type": "stream",
     "text": [
      "Training Epochs:  80%|███████▉  | 398/500 [00:45<00:11,  8.72it/s]\n"
     ]
    },
    {
     "name": "stdout",
     "output_type": "stream",
     "text": [
      "Early stopping at epoch 399\n",
      "\n",
      "Running: n_tree=5, tree_depth=5, batch_size=512\n",
      "Use gtd100 dataset\n"
     ]
    },
    {
     "name": "stderr",
     "output_type": "stream",
     "text": [
      "Training Epochs:  82%|████████▏ | 410/500 [00:48<00:10,  8.44it/s]\n"
     ]
    },
    {
     "name": "stdout",
     "output_type": "stream",
     "text": [
      "Early stopping at epoch 411\n",
      "\n",
      "Running: n_tree=5, tree_depth=10, batch_size=512\n",
      "Use gtd100 dataset\n"
     ]
    },
    {
     "name": "stderr",
     "output_type": "stream",
     "text": [
      "Training Epochs: 100%|██████████| 500/500 [01:07<00:00,  7.38it/s]\n"
     ]
    },
    {
     "name": "stdout",
     "output_type": "stream",
     "text": [
      "\n",
      "Running: n_tree=5, tree_depth=7, batch_size=512\n",
      "Use gtd100 dataset\n"
     ]
    },
    {
     "name": "stderr",
     "output_type": "stream",
     "text": [
      "Training Epochs: 100%|██████████| 500/500 [01:04<00:00,  7.74it/s]\n"
     ]
    },
    {
     "name": "stdout",
     "output_type": "stream",
     "text": [
      "\n",
      "Running: n_tree=10, tree_depth=3, batch_size=512\n",
      "Use gtd100 dataset\n"
     ]
    },
    {
     "name": "stderr",
     "output_type": "stream",
     "text": [
      "Training Epochs: 100%|██████████| 500/500 [01:06<00:00,  7.53it/s]\n"
     ]
    },
    {
     "name": "stdout",
     "output_type": "stream",
     "text": [
      "\n",
      "Running: n_tree=10, tree_depth=5, batch_size=512\n",
      "Use gtd100 dataset\n"
     ]
    },
    {
     "name": "stderr",
     "output_type": "stream",
     "text": [
      "Training Epochs: 100%|██████████| 500/500 [01:10<00:00,  7.10it/s]\n"
     ]
    },
    {
     "name": "stdout",
     "output_type": "stream",
     "text": [
      "\n",
      "Running: n_tree=10, tree_depth=10, batch_size=512\n",
      "Use gtd100 dataset\n"
     ]
    },
    {
     "name": "stderr",
     "output_type": "stream",
     "text": [
      "Training Epochs: 100%|██████████| 500/500 [01:27<00:00,  5.74it/s]\n"
     ]
    },
    {
     "name": "stdout",
     "output_type": "stream",
     "text": [
      "\n",
      "Running: n_tree=10, tree_depth=7, batch_size=512\n",
      "Use gtd100 dataset\n"
     ]
    },
    {
     "name": "stderr",
     "output_type": "stream",
     "text": [
      "Training Epochs:  52%|█████▏    | 262/500 [00:40<00:36,  6.44it/s]\n"
     ]
    },
    {
     "name": "stdout",
     "output_type": "stream",
     "text": [
      "Early stopping at epoch 263\n",
      "\n",
      "Running: n_tree=15, tree_depth=3, batch_size=512\n",
      "Use gtd100 dataset\n"
     ]
    },
    {
     "name": "stderr",
     "output_type": "stream",
     "text": [
      "Training Epochs:  99%|█████████▉| 494/500 [01:13<00:00,  6.68it/s]\n"
     ]
    },
    {
     "name": "stdout",
     "output_type": "stream",
     "text": [
      "Early stopping at epoch 495\n",
      "\n",
      "Running: n_tree=15, tree_depth=5, batch_size=512\n",
      "Use gtd100 dataset\n"
     ]
    },
    {
     "name": "stderr",
     "output_type": "stream",
     "text": [
      "Training Epochs: 100%|██████████| 500/500 [01:22<00:00,  6.05it/s]\n"
     ]
    },
    {
     "name": "stdout",
     "output_type": "stream",
     "text": [
      "\n",
      "Running: n_tree=15, tree_depth=10, batch_size=512\n",
      "Use gtd100 dataset\n"
     ]
    },
    {
     "name": "stderr",
     "output_type": "stream",
     "text": [
      "Training Epochs: 100%|██████████| 500/500 [01:44<00:00,  4.77it/s]\n"
     ]
    },
    {
     "name": "stdout",
     "output_type": "stream",
     "text": [
      "\n",
      "Running: n_tree=15, tree_depth=7, batch_size=512\n",
      "Use gtd100 dataset\n"
     ]
    },
    {
     "name": "stderr",
     "output_type": "stream",
     "text": [
      "Training Epochs:  75%|███████▍  | 374/500 [01:07<00:22,  5.53it/s]\n"
     ]
    },
    {
     "name": "stdout",
     "output_type": "stream",
     "text": [
      "Early stopping at epoch 375\n",
      "\n",
      "Running: n_tree=20, tree_depth=3, batch_size=512\n",
      "Use gtd100 dataset\n"
     ]
    },
    {
     "name": "stderr",
     "output_type": "stream",
     "text": [
      "Training Epochs: 100%|██████████| 500/500 [01:23<00:00,  6.02it/s]\n"
     ]
    },
    {
     "name": "stdout",
     "output_type": "stream",
     "text": [
      "\n",
      "Running: n_tree=20, tree_depth=5, batch_size=512\n",
      "Use gtd100 dataset\n"
     ]
    },
    {
     "name": "stderr",
     "output_type": "stream",
     "text": [
      "Training Epochs:  99%|█████████▊| 493/500 [01:31<00:01,  5.40it/s]\n"
     ]
    },
    {
     "name": "stdout",
     "output_type": "stream",
     "text": [
      "Early stopping at epoch 494\n",
      "\n",
      "Running: n_tree=20, tree_depth=10, batch_size=512\n",
      "Use gtd100 dataset\n"
     ]
    },
    {
     "name": "stderr",
     "output_type": "stream",
     "text": [
      "Training Epochs:  84%|████████▍ | 420/500 [01:56<00:22,  3.61it/s]"
     ]
    },
    {
     "name": "stdout",
     "output_type": "stream",
     "text": [
      "Early stopping at epoch 421\n",
      "\n",
      "Running: n_tree=20, tree_depth=7, batch_size=512\n",
      "Use gtd100 dataset\n"
     ]
    },
    {
     "name": "stderr",
     "output_type": "stream",
     "text": [
      "\n",
      "Training Epochs: 100%|██████████| 500/500 [02:00<00:00,  4.16it/s]\n"
     ]
    },
    {
     "name": "stdout",
     "output_type": "stream",
     "text": [
      "\n",
      "Running: n_tree=30, tree_depth=3, batch_size=512\n",
      "Use gtd100 dataset\n"
     ]
    },
    {
     "name": "stderr",
     "output_type": "stream",
     "text": [
      "Training Epochs: 100%|██████████| 500/500 [01:58<00:00,  4.21it/s]\n"
     ]
    },
    {
     "name": "stdout",
     "output_type": "stream",
     "text": [
      "\n",
      "Running: n_tree=30, tree_depth=5, batch_size=512\n",
      "Use gtd100 dataset\n"
     ]
    },
    {
     "name": "stderr",
     "output_type": "stream",
     "text": [
      "Training Epochs:  79%|███████▉  | 395/500 [01:46<00:28,  3.70it/s]"
     ]
    },
    {
     "name": "stdout",
     "output_type": "stream",
     "text": [
      "Early stopping at epoch 396\n"
     ]
    },
    {
     "name": "stderr",
     "output_type": "stream",
     "text": [
      "\n"
     ]
    },
    {
     "name": "stdout",
     "output_type": "stream",
     "text": [
      "\n",
      "Running: n_tree=30, tree_depth=10, batch_size=512\n",
      "Use gtd100 dataset\n"
     ]
    },
    {
     "name": "stderr",
     "output_type": "stream",
     "text": [
      "Training Epochs:  79%|███████▉  | 397/500 [02:20<00:36,  2.82it/s]"
     ]
    },
    {
     "name": "stdout",
     "output_type": "stream",
     "text": [
      "Early stopping at epoch 398\n",
      "\n",
      "Running: n_tree=30, tree_depth=7, batch_size=512\n",
      "Use gtd100 dataset\n"
     ]
    },
    {
     "name": "stderr",
     "output_type": "stream",
     "text": [
      "\n",
      "Training Epochs: 100%|██████████| 500/500 [02:28<00:00,  3.37it/s]"
     ]
    },
    {
     "name": "stdout",
     "output_type": "stream",
     "text": [
      "\n",
      "Best hyperparameter configuration:\n",
      "{'n_tree': 10, 'tree_depth': 10, 'batch_size': 512}\n",
      "Best accuracy: 0.862222\n"
     ]
    },
    {
     "name": "stderr",
     "output_type": "stream",
     "text": [
      "\n"
     ]
    }
   ],
   "source": [
    "\n",
    "n_tree_values = [5, 10, 15, 20, 30]\n",
    "tree_depth_values = [3, 5, 10, 7]\n",
    "batch_size_values = [512]\n",
    "\n",
    "best_score = 0\n",
    "best_config = {}\n",
    "\n",
    "for n_tree, tree_depth, batch_size in product(n_tree_values, tree_depth_values, batch_size_values):\n",
    "    print(f\"\\nRunning: n_tree={n_tree}, tree_depth={tree_depth}, batch_size={batch_size}\")\n",
    "    sys.argv = [\n",
    "        'train.py',\n",
    "        '-dataset', f'gtd{partition}',\n",
    "        '-n_class', '30',\n",
    "        '-gpuid', '0',\n",
    "        '-n_tree', str(n_tree),\n",
    "        '-tree_depth', str(tree_depth),\n",
    "        '-batch_size', str(batch_size),\n",
    "        '-epochs', '500',\n",
    "        '-verbose', '0',\n",
    "        '-jointly_training'\n",
    "    ]\n",
    "    \n",
    "    _, _, _, _, _ = main()\n",
    "\n",
    "    # Read best score from file (assumes one run per file)\n",
    "    result_file = f\"results/result_gtd{partition}\"\n",
    "    with open(result_file, \"r\") as f:\n",
    "        lines = f.readlines()\n",
    "        for line in lines:\n",
    "            if \"Best Accuracy\" in line:\n",
    "                acc = float(line.split()[2])\n",
    "                if acc > best_score:\n",
    "                    best_score = acc\n",
    "                    best_config = {\n",
    "                        'n_tree': n_tree,\n",
    "                        'tree_depth': tree_depth,\n",
    "                        'batch_size': batch_size\n",
    "                    }\n",
    "print(\"\\nBest hyperparameter configuration:\")\n",
    "print(best_config)\n",
    "print(f\"Best accuracy: {best_score}\")\n"
   ]
  },
  {
   "cell_type": "code",
   "execution_count": 4,
   "metadata": {},
   "outputs": [
    {
     "name": "stdout",
     "output_type": "stream",
     "text": [
      "Use gtd100 dataset\n"
     ]
    },
    {
     "name": "stderr",
     "output_type": "stream",
     "text": [
      "Training Epochs:   0%|          | 0/1000 [00:00<?, ?it/s]"
     ]
    },
    {
     "name": "stdout",
     "output_type": "stream",
     "text": [
      "Train Epoch: 1 [0/2100 (0%)]\tLoss: 3.401087\n"
     ]
    },
    {
     "name": "stderr",
     "output_type": "stream",
     "text": [
      "Training Epochs:   0%|          | 2/1000 [00:00<03:40,  4.52it/s]"
     ]
    },
    {
     "name": "stdout",
     "output_type": "stream",
     "text": [
      "Train Epoch: 2 [0/2100 (0%)]\tLoss: 3.375343\n"
     ]
    },
    {
     "name": "stderr",
     "output_type": "stream",
     "text": [
      "Training Epochs:   0%|          | 3/1000 [00:00<03:23,  4.89it/s]"
     ]
    },
    {
     "name": "stdout",
     "output_type": "stream",
     "text": [
      "Train Epoch: 3 [0/2100 (0%)]\tLoss: 3.348491\n",
      "Train Epoch: 4 [0/2100 (0%)]\tLoss: 3.320677\n"
     ]
    },
    {
     "name": "stderr",
     "output_type": "stream",
     "text": [
      "Training Epochs:   0%|          | 5/1000 [00:01<03:36,  4.60it/s]"
     ]
    },
    {
     "name": "stdout",
     "output_type": "stream",
     "text": [
      "Train Epoch: 5 [0/2100 (0%)]\tLoss: 3.293590\n",
      "Train Epoch: 6 [0/2100 (0%)]\tLoss: 3.262262\n"
     ]
    },
    {
     "name": "stderr",
     "output_type": "stream",
     "text": [
      "Training Epochs:   1%|          | 6/1000 [00:01<03:39,  4.53it/s]"
     ]
    },
    {
     "name": "stdout",
     "output_type": "stream",
     "text": [
      "Train Epoch: 7 [0/2100 (0%)]\tLoss: 3.224975\n"
     ]
    },
    {
     "name": "stderr",
     "output_type": "stream",
     "text": [
      "Training Epochs:   1%|          | 8/1000 [00:01<03:41,  4.48it/s]"
     ]
    },
    {
     "name": "stdout",
     "output_type": "stream",
     "text": [
      "Train Epoch: 8 [0/2100 (0%)]\tLoss: 3.206029\n"
     ]
    },
    {
     "name": "stderr",
     "output_type": "stream",
     "text": [
      "Training Epochs:   1%|          | 9/1000 [00:01<03:42,  4.45it/s]"
     ]
    },
    {
     "name": "stdout",
     "output_type": "stream",
     "text": [
      "Train Epoch: 9 [0/2100 (0%)]\tLoss: 3.166110\n"
     ]
    },
    {
     "name": "stderr",
     "output_type": "stream",
     "text": [
      "Training Epochs:   1%|          | 10/1000 [00:02<03:39,  4.51it/s]"
     ]
    },
    {
     "name": "stdout",
     "output_type": "stream",
     "text": [
      "Train Epoch: 10 [0/2100 (0%)]\tLoss: 3.145202\n",
      "Train Epoch: 11 [0/2100 (0%)]\tLoss: 3.109689\n"
     ]
    },
    {
     "name": "stderr",
     "output_type": "stream",
     "text": [
      "Training Epochs:   1%|          | 12/1000 [00:02<03:30,  4.69it/s]"
     ]
    },
    {
     "name": "stdout",
     "output_type": "stream",
     "text": [
      "Train Epoch: 12 [0/2100 (0%)]\tLoss: 3.098922\n",
      "Train Epoch: 13 [0/2100 (0%)]\tLoss: 3.080662\n"
     ]
    },
    {
     "name": "stderr",
     "output_type": "stream",
     "text": [
      "Training Epochs:   1%|▏         | 13/1000 [00:02<03:32,  4.64it/s]"
     ]
    },
    {
     "name": "stdout",
     "output_type": "stream",
     "text": [
      "Train Epoch: 14 [0/2100 (0%)]\tLoss: 3.054370\n"
     ]
    },
    {
     "name": "stderr",
     "output_type": "stream",
     "text": [
      "Training Epochs:   1%|▏         | 14/1000 [00:03<03:38,  4.52it/s]"
     ]
    },
    {
     "name": "stdout",
     "output_type": "stream",
     "text": [
      "Train Epoch: 15 [0/2100 (0%)]\tLoss: 3.047441\n"
     ]
    },
    {
     "name": "stderr",
     "output_type": "stream",
     "text": [
      "Training Epochs:   2%|▏         | 16/1000 [00:03<03:42,  4.41it/s]"
     ]
    },
    {
     "name": "stdout",
     "output_type": "stream",
     "text": [
      "Train Epoch: 16 [0/2100 (0%)]\tLoss: 3.028863\n"
     ]
    },
    {
     "name": "stderr",
     "output_type": "stream",
     "text": [
      "Training Epochs:   2%|▏         | 17/1000 [00:03<03:35,  4.57it/s]"
     ]
    },
    {
     "name": "stdout",
     "output_type": "stream",
     "text": [
      "Train Epoch: 17 [0/2100 (0%)]\tLoss: 3.002080\n",
      "Train Epoch: 18 [0/2100 (0%)]\tLoss: 2.996266\n"
     ]
    },
    {
     "name": "stderr",
     "output_type": "stream",
     "text": [
      "Training Epochs:   2%|▏         | 19/1000 [00:04<03:24,  4.80it/s]"
     ]
    },
    {
     "name": "stdout",
     "output_type": "stream",
     "text": [
      "Train Epoch: 19 [0/2100 (0%)]\tLoss: 2.961735\n"
     ]
    },
    {
     "name": "stderr",
     "output_type": "stream",
     "text": [
      "Training Epochs:   2%|▏         | 20/1000 [00:04<03:21,  4.85it/s]"
     ]
    },
    {
     "name": "stdout",
     "output_type": "stream",
     "text": [
      "Train Epoch: 20 [0/2100 (0%)]\tLoss: 2.954178\n",
      "Train Epoch: 21 [0/2100 (0%)]\tLoss: 2.945956\n"
     ]
    },
    {
     "name": "stderr",
     "output_type": "stream",
     "text": [
      "Training Epochs:   2%|▏         | 22/1000 [00:04<03:15,  5.01it/s]"
     ]
    },
    {
     "name": "stdout",
     "output_type": "stream",
     "text": [
      "Train Epoch: 22 [0/2100 (0%)]\tLoss: 2.933087\n"
     ]
    },
    {
     "name": "stderr",
     "output_type": "stream",
     "text": [
      "Training Epochs:   2%|▏         | 23/1000 [00:04<03:17,  4.94it/s]"
     ]
    },
    {
     "name": "stdout",
     "output_type": "stream",
     "text": [
      "Train Epoch: 23 [0/2100 (0%)]\tLoss: 2.912653\n"
     ]
    },
    {
     "name": "stderr",
     "output_type": "stream",
     "text": [
      "Training Epochs:   2%|▏         | 24/1000 [00:05<03:19,  4.89it/s]"
     ]
    },
    {
     "name": "stdout",
     "output_type": "stream",
     "text": [
      "Train Epoch: 24 [0/2100 (0%)]\tLoss: 2.893152\n"
     ]
    },
    {
     "name": "stderr",
     "output_type": "stream",
     "text": [
      "Training Epochs:   2%|▎         | 25/1000 [00:05<03:21,  4.84it/s]"
     ]
    },
    {
     "name": "stdout",
     "output_type": "stream",
     "text": [
      "Train Epoch: 25 [0/2100 (0%)]\tLoss: 2.889239\n",
      "Train Epoch: 26 [0/2100 (0%)]\tLoss: 2.871035\n"
     ]
    },
    {
     "name": "stderr",
     "output_type": "stream",
     "text": [
      "Training Epochs:   3%|▎         | 26/1000 [00:05<03:28,  4.67it/s]"
     ]
    },
    {
     "name": "stdout",
     "output_type": "stream",
     "text": [
      "Train Epoch: 27 [0/2100 (0%)]\tLoss: 2.860895\n"
     ]
    },
    {
     "name": "stderr",
     "output_type": "stream",
     "text": [
      "Training Epochs:   3%|▎         | 27/1000 [00:05<03:31,  4.60it/s]"
     ]
    },
    {
     "name": "stdout",
     "output_type": "stream",
     "text": [
      "Train Epoch: 28 [0/2100 (0%)]\tLoss: 2.835333\n"
     ]
    },
    {
     "name": "stderr",
     "output_type": "stream",
     "text": [
      "Training Epochs:   3%|▎         | 28/1000 [00:06<03:33,  4.55it/s]"
     ]
    },
    {
     "name": "stdout",
     "output_type": "stream",
     "text": [
      "Train Epoch: 29 [0/2100 (0%)]\tLoss: 2.837399\n"
     ]
    },
    {
     "name": "stderr",
     "output_type": "stream",
     "text": [
      "Training Epochs:   3%|▎         | 30/1000 [00:06<03:37,  4.47it/s]"
     ]
    },
    {
     "name": "stdout",
     "output_type": "stream",
     "text": [
      "Train Epoch: 30 [0/2100 (0%)]\tLoss: 2.824159\n",
      "Train Epoch: 31 [0/2100 (0%)]\tLoss: 2.806145\n"
     ]
    },
    {
     "name": "stderr",
     "output_type": "stream",
     "text": [
      "Training Epochs:   3%|▎         | 32/1000 [00:07<04:11,  3.85it/s]"
     ]
    },
    {
     "name": "stdout",
     "output_type": "stream",
     "text": [
      "Train Epoch: 32 [0/2100 (0%)]\tLoss: 2.793902\n"
     ]
    },
    {
     "name": "stderr",
     "output_type": "stream",
     "text": [
      "Training Epochs:   3%|▎         | 33/1000 [00:07<03:57,  4.07it/s]"
     ]
    },
    {
     "name": "stdout",
     "output_type": "stream",
     "text": [
      "Train Epoch: 33 [0/2100 (0%)]\tLoss: 2.775255\n"
     ]
    },
    {
     "name": "stderr",
     "output_type": "stream",
     "text": [
      "Training Epochs:   3%|▎         | 34/1000 [00:07<03:36,  4.46it/s]"
     ]
    },
    {
     "name": "stdout",
     "output_type": "stream",
     "text": [
      "Train Epoch: 34 [0/2100 (0%)]\tLoss: 2.770121\n",
      "Train Epoch: 35 [0/2100 (0%)]\tLoss: 2.760567\n"
     ]
    },
    {
     "name": "stderr",
     "output_type": "stream",
     "text": [
      "Training Epochs:   4%|▎         | 36/1000 [00:07<03:30,  4.57it/s]"
     ]
    },
    {
     "name": "stdout",
     "output_type": "stream",
     "text": [
      "Train Epoch: 36 [0/2100 (0%)]\tLoss: 2.742316\n"
     ]
    },
    {
     "name": "stderr",
     "output_type": "stream",
     "text": [
      "Training Epochs:   4%|▎         | 37/1000 [00:08<03:31,  4.56it/s]"
     ]
    },
    {
     "name": "stdout",
     "output_type": "stream",
     "text": [
      "Train Epoch: 37 [0/2100 (0%)]\tLoss: 2.736658\n"
     ]
    },
    {
     "name": "stderr",
     "output_type": "stream",
     "text": [
      "Training Epochs:   4%|▍         | 38/1000 [00:08<03:30,  4.57it/s]"
     ]
    },
    {
     "name": "stdout",
     "output_type": "stream",
     "text": [
      "Train Epoch: 38 [0/2100 (0%)]\tLoss: 2.719156\n"
     ]
    },
    {
     "name": "stderr",
     "output_type": "stream",
     "text": [
      "Training Epochs:   4%|▍         | 39/1000 [00:08<03:30,  4.56it/s]"
     ]
    },
    {
     "name": "stdout",
     "output_type": "stream",
     "text": [
      "Train Epoch: 39 [0/2100 (0%)]\tLoss: 2.701568\n"
     ]
    },
    {
     "name": "stderr",
     "output_type": "stream",
     "text": [
      "Training Epochs:   4%|▍         | 40/1000 [00:08<03:29,  4.58it/s]"
     ]
    },
    {
     "name": "stdout",
     "output_type": "stream",
     "text": [
      "Train Epoch: 40 [0/2100 (0%)]\tLoss: 2.682290\n"
     ]
    },
    {
     "name": "stderr",
     "output_type": "stream",
     "text": [
      "Training Epochs:   4%|▍         | 41/1000 [00:09<03:29,  4.57it/s]"
     ]
    },
    {
     "name": "stdout",
     "output_type": "stream",
     "text": [
      "Train Epoch: 41 [0/2100 (0%)]\tLoss: 2.685941\n"
     ]
    },
    {
     "name": "stderr",
     "output_type": "stream",
     "text": [
      "Training Epochs:   4%|▍         | 42/1000 [00:09<03:20,  4.79it/s]"
     ]
    },
    {
     "name": "stdout",
     "output_type": "stream",
     "text": [
      "Train Epoch: 42 [0/2100 (0%)]\tLoss: 2.675008\n",
      "Train Epoch: 43 [0/2100 (0%)]\tLoss: 2.655626\n"
     ]
    },
    {
     "name": "stderr",
     "output_type": "stream",
     "text": [
      "Training Epochs:   4%|▍         | 44/1000 [00:09<03:23,  4.71it/s]"
     ]
    },
    {
     "name": "stdout",
     "output_type": "stream",
     "text": [
      "Train Epoch: 44 [0/2100 (0%)]\tLoss: 2.654567\n"
     ]
    },
    {
     "name": "stderr",
     "output_type": "stream",
     "text": [
      "Training Epochs:   4%|▍         | 45/1000 [00:09<03:26,  4.63it/s]"
     ]
    },
    {
     "name": "stdout",
     "output_type": "stream",
     "text": [
      "Train Epoch: 45 [0/2100 (0%)]\tLoss: 2.632481\n"
     ]
    },
    {
     "name": "stderr",
     "output_type": "stream",
     "text": [
      "Training Epochs:   5%|▍         | 46/1000 [00:10<03:27,  4.60it/s]"
     ]
    },
    {
     "name": "stdout",
     "output_type": "stream",
     "text": [
      "Train Epoch: 46 [0/2100 (0%)]\tLoss: 2.628773\n"
     ]
    },
    {
     "name": "stderr",
     "output_type": "stream",
     "text": [
      "Training Epochs:   5%|▍         | 47/1000 [00:10<03:27,  4.59it/s]"
     ]
    },
    {
     "name": "stdout",
     "output_type": "stream",
     "text": [
      "Train Epoch: 47 [0/2100 (0%)]\tLoss: 2.620843\n"
     ]
    },
    {
     "name": "stderr",
     "output_type": "stream",
     "text": [
      "Training Epochs:   5%|▍         | 48/1000 [00:10<03:18,  4.80it/s]"
     ]
    },
    {
     "name": "stdout",
     "output_type": "stream",
     "text": [
      "Train Epoch: 48 [0/2100 (0%)]\tLoss: 2.603829\n",
      "Train Epoch: 49 [0/2100 (0%)]\tLoss: 2.584853\n"
     ]
    },
    {
     "name": "stderr",
     "output_type": "stream",
     "text": [
      "Training Epochs:   5%|▌         | 50/1000 [00:10<02:59,  5.30it/s]"
     ]
    },
    {
     "name": "stdout",
     "output_type": "stream",
     "text": [
      "Train Epoch: 50 [0/2100 (0%)]\tLoss: 2.591048\n",
      "Train Epoch: 51 [0/2100 (0%)]\tLoss: 2.566187\n"
     ]
    },
    {
     "name": "stderr",
     "output_type": "stream",
     "text": [
      "Training Epochs:   5%|▌         | 52/1000 [00:11<02:55,  5.39it/s]"
     ]
    },
    {
     "name": "stdout",
     "output_type": "stream",
     "text": [
      "Train Epoch: 52 [0/2100 (0%)]\tLoss: 2.555511\n",
      "Train Epoch: 53 [0/2100 (0%)]\tLoss: 2.543333\n"
     ]
    },
    {
     "name": "stderr",
     "output_type": "stream",
     "text": [
      "Training Epochs:   5%|▌         | 53/1000 [00:11<03:01,  5.21it/s]"
     ]
    },
    {
     "name": "stdout",
     "output_type": "stream",
     "text": [
      "Train Epoch: 54 [0/2100 (0%)]\tLoss: 2.527670\n"
     ]
    },
    {
     "name": "stderr",
     "output_type": "stream",
     "text": [
      "Training Epochs:   6%|▌         | 55/1000 [00:11<03:15,  4.84it/s]"
     ]
    },
    {
     "name": "stdout",
     "output_type": "stream",
     "text": [
      "Train Epoch: 55 [0/2100 (0%)]\tLoss: 2.525321\n"
     ]
    },
    {
     "name": "stderr",
     "output_type": "stream",
     "text": [
      "Training Epochs:   6%|▌         | 56/1000 [00:12<03:13,  4.88it/s]"
     ]
    },
    {
     "name": "stdout",
     "output_type": "stream",
     "text": [
      "Train Epoch: 56 [0/2100 (0%)]\tLoss: 2.509866\n",
      "Train Epoch: 57 [0/2100 (0%)]\tLoss: 2.496769\n"
     ]
    },
    {
     "name": "stderr",
     "output_type": "stream",
     "text": [
      "Training Epochs:   6%|▌         | 58/1000 [00:12<03:13,  4.88it/s]"
     ]
    },
    {
     "name": "stdout",
     "output_type": "stream",
     "text": [
      "Train Epoch: 58 [0/2100 (0%)]\tLoss: 2.501684\n",
      "Train Epoch: 59 [0/2100 (0%)]\tLoss: 2.486932\n"
     ]
    },
    {
     "name": "stderr",
     "output_type": "stream",
     "text": [
      "Training Epochs:   6%|▌         | 60/1000 [00:12<03:22,  4.65it/s]"
     ]
    },
    {
     "name": "stdout",
     "output_type": "stream",
     "text": [
      "Train Epoch: 60 [0/2100 (0%)]\tLoss: 2.479722\n"
     ]
    },
    {
     "name": "stderr",
     "output_type": "stream",
     "text": [
      "Training Epochs:   6%|▌         | 61/1000 [00:13<03:21,  4.67it/s]"
     ]
    },
    {
     "name": "stdout",
     "output_type": "stream",
     "text": [
      "Train Epoch: 61 [0/2100 (0%)]\tLoss: 2.482451\n"
     ]
    },
    {
     "name": "stderr",
     "output_type": "stream",
     "text": [
      "Training Epochs:   6%|▌         | 62/1000 [00:13<03:22,  4.64it/s]"
     ]
    },
    {
     "name": "stdout",
     "output_type": "stream",
     "text": [
      "Train Epoch: 62 [0/2100 (0%)]\tLoss: 2.447114\n",
      "Train Epoch: 63 [0/2100 (0%)]\tLoss: 2.444095\n"
     ]
    },
    {
     "name": "stderr",
     "output_type": "stream",
     "text": [
      "Training Epochs:   6%|▋         | 64/1000 [00:13<03:19,  4.68it/s]"
     ]
    },
    {
     "name": "stdout",
     "output_type": "stream",
     "text": [
      "Train Epoch: 64 [0/2100 (0%)]\tLoss: 2.441324\n",
      "Train Epoch: 65 [0/2100 (0%)]\tLoss: 2.404935\n"
     ]
    },
    {
     "name": "stderr",
     "output_type": "stream",
     "text": [
      "Training Epochs:   7%|▋         | 66/1000 [00:14<03:03,  5.08it/s]"
     ]
    },
    {
     "name": "stdout",
     "output_type": "stream",
     "text": [
      "Train Epoch: 66 [0/2100 (0%)]\tLoss: 2.406793\n",
      "Train Epoch: 67 [0/2100 (0%)]\tLoss: 2.404371\n"
     ]
    },
    {
     "name": "stderr",
     "output_type": "stream",
     "text": [
      "Training Epochs:   7%|▋         | 67/1000 [00:14<03:02,  5.10it/s]"
     ]
    },
    {
     "name": "stdout",
     "output_type": "stream",
     "text": [
      "Train Epoch: 68 [0/2100 (0%)]\tLoss: 2.386660\n"
     ]
    },
    {
     "name": "stderr",
     "output_type": "stream",
     "text": [
      "Training Epochs:   7%|▋         | 69/1000 [00:14<03:20,  4.64it/s]"
     ]
    },
    {
     "name": "stdout",
     "output_type": "stream",
     "text": [
      "Train Epoch: 69 [0/2100 (0%)]\tLoss: 2.377743\n"
     ]
    },
    {
     "name": "stderr",
     "output_type": "stream",
     "text": [
      "Training Epochs:   7%|▋         | 70/1000 [00:15<03:14,  4.78it/s]"
     ]
    },
    {
     "name": "stdout",
     "output_type": "stream",
     "text": [
      "Train Epoch: 70 [0/2100 (0%)]\tLoss: 2.359418\n",
      "Train Epoch: 71 [0/2100 (0%)]\tLoss: 2.353084\n"
     ]
    },
    {
     "name": "stderr",
     "output_type": "stream",
     "text": [
      "Training Epochs:   7%|▋         | 72/1000 [00:15<03:03,  5.05it/s]"
     ]
    },
    {
     "name": "stdout",
     "output_type": "stream",
     "text": [
      "Train Epoch: 72 [0/2100 (0%)]\tLoss: 2.343342\n",
      "Train Epoch: 73 [0/2100 (0%)]\tLoss: 2.339920\n"
     ]
    },
    {
     "name": "stderr",
     "output_type": "stream",
     "text": [
      "Training Epochs:   7%|▋         | 74/1000 [00:15<03:05,  5.00it/s]"
     ]
    },
    {
     "name": "stdout",
     "output_type": "stream",
     "text": [
      "Train Epoch: 74 [0/2100 (0%)]\tLoss: 2.331523\n",
      "Train Epoch: 75 [0/2100 (0%)]\tLoss: 2.334163\n"
     ]
    },
    {
     "name": "stderr",
     "output_type": "stream",
     "text": [
      "Training Epochs:   8%|▊         | 76/1000 [00:16<03:06,  4.96it/s]"
     ]
    },
    {
     "name": "stdout",
     "output_type": "stream",
     "text": [
      "Train Epoch: 76 [0/2100 (0%)]\tLoss: 2.305941\n",
      "Train Epoch: 77 [0/2100 (0%)]\tLoss: 2.318628\n"
     ]
    },
    {
     "name": "stderr",
     "output_type": "stream",
     "text": [
      "Training Epochs:   8%|▊         | 78/1000 [00:16<03:04,  5.00it/s]"
     ]
    },
    {
     "name": "stdout",
     "output_type": "stream",
     "text": [
      "Train Epoch: 78 [0/2100 (0%)]\tLoss: 2.293469\n",
      "Train Epoch: 79 [0/2100 (0%)]\tLoss: 2.283203\n"
     ]
    },
    {
     "name": "stderr",
     "output_type": "stream",
     "text": [
      "Training Epochs:   8%|▊         | 80/1000 [00:17<03:05,  4.95it/s]"
     ]
    },
    {
     "name": "stdout",
     "output_type": "stream",
     "text": [
      "Train Epoch: 80 [0/2100 (0%)]\tLoss: 2.273074\n",
      "Train Epoch: 81 [0/2100 (0%)]\tLoss: 2.268315\n"
     ]
    },
    {
     "name": "stderr",
     "output_type": "stream",
     "text": [
      "Training Epochs:   8%|▊         | 82/1000 [00:17<02:57,  5.17it/s]"
     ]
    },
    {
     "name": "stdout",
     "output_type": "stream",
     "text": [
      "Train Epoch: 82 [0/2100 (0%)]\tLoss: 2.263173\n",
      "Train Epoch: 83 [0/2100 (0%)]\tLoss: 2.255471\n"
     ]
    },
    {
     "name": "stderr",
     "output_type": "stream",
     "text": [
      "Training Epochs:   8%|▊         | 84/1000 [00:17<02:58,  5.13it/s]"
     ]
    },
    {
     "name": "stdout",
     "output_type": "stream",
     "text": [
      "Train Epoch: 84 [0/2100 (0%)]\tLoss: 2.229546\n",
      "Train Epoch: 85 [0/2100 (0%)]\tLoss: 2.237766\n"
     ]
    },
    {
     "name": "stderr",
     "output_type": "stream",
     "text": [
      "Training Epochs:   8%|▊         | 85/1000 [00:17<02:53,  5.28it/s]"
     ]
    },
    {
     "name": "stdout",
     "output_type": "stream",
     "text": [
      "Train Epoch: 86 [0/2100 (0%)]\tLoss: 2.223610\n"
     ]
    },
    {
     "name": "stderr",
     "output_type": "stream",
     "text": [
      "Training Epochs:   9%|▊         | 87/1000 [00:18<03:08,  4.83it/s]"
     ]
    },
    {
     "name": "stdout",
     "output_type": "stream",
     "text": [
      "Train Epoch: 87 [0/2100 (0%)]\tLoss: 2.211718\n"
     ]
    },
    {
     "name": "stderr",
     "output_type": "stream",
     "text": [
      "Training Epochs:   9%|▉         | 88/1000 [00:18<03:09,  4.81it/s]"
     ]
    },
    {
     "name": "stdout",
     "output_type": "stream",
     "text": [
      "Train Epoch: 88 [0/2100 (0%)]\tLoss: 2.207599\n"
     ]
    },
    {
     "name": "stderr",
     "output_type": "stream",
     "text": [
      "Training Epochs:   9%|▉         | 89/1000 [00:18<03:02,  5.00it/s]"
     ]
    },
    {
     "name": "stdout",
     "output_type": "stream",
     "text": [
      "Train Epoch: 89 [0/2100 (0%)]\tLoss: 2.203162\n",
      "Train Epoch: 90 [0/2100 (0%)]\tLoss: 2.172063\n"
     ]
    },
    {
     "name": "stderr",
     "output_type": "stream",
     "text": [
      "Training Epochs:   9%|▉         | 91/1000 [00:19<02:51,  5.30it/s]"
     ]
    },
    {
     "name": "stdout",
     "output_type": "stream",
     "text": [
      "Train Epoch: 91 [0/2100 (0%)]\tLoss: 2.181471\n",
      "Train Epoch: 92 [0/2100 (0%)]\tLoss: 2.158615\n"
     ]
    },
    {
     "name": "stderr",
     "output_type": "stream",
     "text": [
      "Training Epochs:   9%|▉         | 93/1000 [00:19<02:44,  5.52it/s]"
     ]
    },
    {
     "name": "stdout",
     "output_type": "stream",
     "text": [
      "Train Epoch: 93 [0/2100 (0%)]\tLoss: 2.159115\n",
      "Train Epoch: 94 [0/2100 (0%)]\tLoss: 2.162007\n"
     ]
    },
    {
     "name": "stderr",
     "output_type": "stream",
     "text": [
      "Training Epochs:  10%|▉         | 95/1000 [00:19<02:42,  5.58it/s]"
     ]
    },
    {
     "name": "stdout",
     "output_type": "stream",
     "text": [
      "Train Epoch: 95 [0/2100 (0%)]\tLoss: 2.149613\n",
      "Train Epoch: 96 [0/2100 (0%)]\tLoss: 2.141177\n"
     ]
    },
    {
     "name": "stderr",
     "output_type": "stream",
     "text": [
      "Training Epochs:  10%|▉         | 97/1000 [00:20<02:43,  5.54it/s]"
     ]
    },
    {
     "name": "stdout",
     "output_type": "stream",
     "text": [
      "Train Epoch: 97 [0/2100 (0%)]\tLoss: 2.139773\n",
      "Train Epoch: 98 [0/2100 (0%)]\tLoss: 2.118665\n"
     ]
    },
    {
     "name": "stderr",
     "output_type": "stream",
     "text": [
      "Training Epochs:  10%|▉         | 99/1000 [00:20<03:20,  4.49it/s]"
     ]
    },
    {
     "name": "stdout",
     "output_type": "stream",
     "text": [
      "Train Epoch: 99 [0/2100 (0%)]\tLoss: 2.116752\n",
      "Train Epoch: 100 [0/2100 (0%)]\tLoss: 2.110666\n"
     ]
    },
    {
     "name": "stderr",
     "output_type": "stream",
     "text": [
      "Training Epochs:  10%|█         | 101/1000 [00:21<03:01,  4.94it/s]"
     ]
    },
    {
     "name": "stdout",
     "output_type": "stream",
     "text": [
      "Train Epoch: 101 [0/2100 (0%)]\tLoss: 2.091711\n",
      "Train Epoch: 102 [0/2100 (0%)]\tLoss: 2.102036\n"
     ]
    },
    {
     "name": "stderr",
     "output_type": "stream",
     "text": [
      "Training Epochs:  10%|█         | 103/1000 [00:21<03:08,  4.75it/s]"
     ]
    },
    {
     "name": "stdout",
     "output_type": "stream",
     "text": [
      "Train Epoch: 103 [0/2100 (0%)]\tLoss: 2.076061\n"
     ]
    },
    {
     "name": "stderr",
     "output_type": "stream",
     "text": [
      "Training Epochs:  10%|█         | 104/1000 [00:21<03:02,  4.90it/s]"
     ]
    },
    {
     "name": "stdout",
     "output_type": "stream",
     "text": [
      "Train Epoch: 104 [0/2100 (0%)]\tLoss: 2.065160\n",
      "Train Epoch: 105 [0/2100 (0%)]\tLoss: 2.049036\n"
     ]
    },
    {
     "name": "stderr",
     "output_type": "stream",
     "text": [
      "Training Epochs:  11%|█         | 106/1000 [00:22<02:56,  5.06it/s]"
     ]
    },
    {
     "name": "stdout",
     "output_type": "stream",
     "text": [
      "Train Epoch: 106 [0/2100 (0%)]\tLoss: 2.049152\n",
      "Train Epoch: 107 [0/2100 (0%)]\tLoss: 2.045935\n"
     ]
    },
    {
     "name": "stderr",
     "output_type": "stream",
     "text": [
      "Training Epochs:  11%|█         | 108/1000 [00:22<02:58,  5.01it/s]"
     ]
    },
    {
     "name": "stdout",
     "output_type": "stream",
     "text": [
      "Train Epoch: 108 [0/2100 (0%)]\tLoss: 2.029319\n",
      "Train Epoch: 109 [0/2100 (0%)]\tLoss: 2.033956\n"
     ]
    },
    {
     "name": "stderr",
     "output_type": "stream",
     "text": [
      "Training Epochs:  11%|█         | 110/1000 [00:22<02:49,  5.25it/s]"
     ]
    },
    {
     "name": "stdout",
     "output_type": "stream",
     "text": [
      "Train Epoch: 110 [0/2100 (0%)]\tLoss: 2.027439\n",
      "Train Epoch: 111 [0/2100 (0%)]\tLoss: 2.017670\n"
     ]
    },
    {
     "name": "stderr",
     "output_type": "stream",
     "text": [
      "Training Epochs:  11%|█         | 112/1000 [00:23<02:38,  5.59it/s]"
     ]
    },
    {
     "name": "stdout",
     "output_type": "stream",
     "text": [
      "Train Epoch: 112 [0/2100 (0%)]\tLoss: 2.001654\n",
      "Train Epoch: 113 [0/2100 (0%)]\tLoss: 1.999289\n"
     ]
    },
    {
     "name": "stderr",
     "output_type": "stream",
     "text": [
      "Training Epochs:  11%|█▏        | 114/1000 [00:23<02:46,  5.33it/s]"
     ]
    },
    {
     "name": "stdout",
     "output_type": "stream",
     "text": [
      "Train Epoch: 114 [0/2100 (0%)]\tLoss: 1.992935\n"
     ]
    },
    {
     "name": "stderr",
     "output_type": "stream",
     "text": [
      "Training Epochs:  12%|█▏        | 115/1000 [00:23<02:45,  5.35it/s]"
     ]
    },
    {
     "name": "stdout",
     "output_type": "stream",
     "text": [
      "Train Epoch: 115 [0/2100 (0%)]\tLoss: 1.988866\n",
      "Train Epoch: 116 [0/2100 (0%)]\tLoss: 1.963801\n"
     ]
    },
    {
     "name": "stderr",
     "output_type": "stream",
     "text": [
      "Training Epochs:  12%|█▏        | 117/1000 [00:24<02:44,  5.37it/s]"
     ]
    },
    {
     "name": "stdout",
     "output_type": "stream",
     "text": [
      "Train Epoch: 117 [0/2100 (0%)]\tLoss: 1.966576\n",
      "Train Epoch: 118 [0/2100 (0%)]\tLoss: 1.967423\n"
     ]
    },
    {
     "name": "stderr",
     "output_type": "stream",
     "text": [
      "Training Epochs:  12%|█▏        | 119/1000 [00:24<02:36,  5.64it/s]"
     ]
    },
    {
     "name": "stdout",
     "output_type": "stream",
     "text": [
      "Train Epoch: 119 [0/2100 (0%)]\tLoss: 1.958711\n",
      "Train Epoch: 120 [0/2100 (0%)]\tLoss: 1.958300\n"
     ]
    },
    {
     "name": "stderr",
     "output_type": "stream",
     "text": [
      "Training Epochs:  12%|█▏        | 121/1000 [00:24<02:47,  5.23it/s]"
     ]
    },
    {
     "name": "stdout",
     "output_type": "stream",
     "text": [
      "Train Epoch: 121 [0/2100 (0%)]\tLoss: 1.947687\n"
     ]
    },
    {
     "name": "stderr",
     "output_type": "stream",
     "text": [
      "Training Epochs:  12%|█▏        | 122/1000 [00:25<02:42,  5.41it/s]"
     ]
    },
    {
     "name": "stdout",
     "output_type": "stream",
     "text": [
      "Train Epoch: 122 [0/2100 (0%)]\tLoss: 1.932232\n",
      "Train Epoch: 123 [0/2100 (0%)]\tLoss: 1.914606\n"
     ]
    },
    {
     "name": "stderr",
     "output_type": "stream",
     "text": [
      "Training Epochs:  12%|█▏        | 124/1000 [00:25<02:43,  5.34it/s]"
     ]
    },
    {
     "name": "stdout",
     "output_type": "stream",
     "text": [
      "Train Epoch: 124 [0/2100 (0%)]\tLoss: 1.923647\n",
      "Train Epoch: 125 [0/2100 (0%)]\tLoss: 1.895379\n"
     ]
    },
    {
     "name": "stderr",
     "output_type": "stream",
     "text": [
      "Training Epochs:  13%|█▎        | 126/1000 [00:25<02:34,  5.67it/s]"
     ]
    },
    {
     "name": "stdout",
     "output_type": "stream",
     "text": [
      "Train Epoch: 126 [0/2100 (0%)]\tLoss: 1.894488\n",
      "Train Epoch: 127 [0/2100 (0%)]\tLoss: 1.909106\n"
     ]
    },
    {
     "name": "stderr",
     "output_type": "stream",
     "text": [
      "Training Epochs:  13%|█▎        | 128/1000 [00:26<02:36,  5.56it/s]"
     ]
    },
    {
     "name": "stdout",
     "output_type": "stream",
     "text": [
      "Train Epoch: 128 [0/2100 (0%)]\tLoss: 1.883256\n",
      "Train Epoch: 129 [0/2100 (0%)]\tLoss: 1.886906\n"
     ]
    },
    {
     "name": "stderr",
     "output_type": "stream",
     "text": [
      "Training Epochs:  13%|█▎        | 130/1000 [00:26<02:34,  5.63it/s]"
     ]
    },
    {
     "name": "stdout",
     "output_type": "stream",
     "text": [
      "Train Epoch: 130 [0/2100 (0%)]\tLoss: 1.876122\n",
      "Train Epoch: 131 [0/2100 (0%)]\tLoss: 1.872754\n"
     ]
    },
    {
     "name": "stderr",
     "output_type": "stream",
     "text": [
      "Training Epochs:  13%|█▎        | 132/1000 [00:26<02:39,  5.45it/s]"
     ]
    },
    {
     "name": "stdout",
     "output_type": "stream",
     "text": [
      "Train Epoch: 132 [0/2100 (0%)]\tLoss: 1.868228\n",
      "Train Epoch: 133 [0/2100 (0%)]\tLoss: 1.850386\n"
     ]
    },
    {
     "name": "stderr",
     "output_type": "stream",
     "text": [
      "Training Epochs:  13%|█▎        | 134/1000 [00:27<02:33,  5.64it/s]"
     ]
    },
    {
     "name": "stdout",
     "output_type": "stream",
     "text": [
      "Train Epoch: 134 [0/2100 (0%)]\tLoss: 1.843820\n",
      "Train Epoch: 135 [0/2100 (0%)]\tLoss: 1.846967\n"
     ]
    },
    {
     "name": "stderr",
     "output_type": "stream",
     "text": [
      "Training Epochs:  14%|█▎        | 136/1000 [00:27<02:35,  5.56it/s]"
     ]
    },
    {
     "name": "stdout",
     "output_type": "stream",
     "text": [
      "Train Epoch: 136 [0/2100 (0%)]\tLoss: 1.832405\n",
      "Train Epoch: 137 [0/2100 (0%)]\tLoss: 1.820600\n"
     ]
    },
    {
     "name": "stderr",
     "output_type": "stream",
     "text": [
      "Training Epochs:  14%|█▍        | 138/1000 [00:27<02:32,  5.64it/s]"
     ]
    },
    {
     "name": "stdout",
     "output_type": "stream",
     "text": [
      "Train Epoch: 138 [0/2100 (0%)]\tLoss: 1.820385\n",
      "Train Epoch: 139 [0/2100 (0%)]\tLoss: 1.804947\n"
     ]
    },
    {
     "name": "stderr",
     "output_type": "stream",
     "text": [
      "Training Epochs:  14%|█▍        | 140/1000 [00:28<02:32,  5.64it/s]"
     ]
    },
    {
     "name": "stdout",
     "output_type": "stream",
     "text": [
      "Train Epoch: 140 [0/2100 (0%)]\tLoss: 1.793613\n",
      "Train Epoch: 141 [0/2100 (0%)]\tLoss: 1.796230\n"
     ]
    },
    {
     "name": "stderr",
     "output_type": "stream",
     "text": [
      "Training Epochs:  14%|█▍        | 142/1000 [00:28<02:35,  5.52it/s]"
     ]
    },
    {
     "name": "stdout",
     "output_type": "stream",
     "text": [
      "Train Epoch: 142 [0/2100 (0%)]\tLoss: 1.807928\n",
      "Train Epoch: 143 [0/2100 (0%)]\tLoss: 1.788112\n"
     ]
    },
    {
     "name": "stderr",
     "output_type": "stream",
     "text": [
      "Training Epochs:  14%|█▍        | 144/1000 [00:29<02:33,  5.58it/s]"
     ]
    },
    {
     "name": "stdout",
     "output_type": "stream",
     "text": [
      "Train Epoch: 144 [0/2100 (0%)]\tLoss: 1.781155\n",
      "Train Epoch: 145 [0/2100 (0%)]\tLoss: 1.775148\n"
     ]
    },
    {
     "name": "stderr",
     "output_type": "stream",
     "text": [
      "Training Epochs:  15%|█▍        | 146/1000 [00:29<02:36,  5.46it/s]"
     ]
    },
    {
     "name": "stdout",
     "output_type": "stream",
     "text": [
      "Train Epoch: 146 [0/2100 (0%)]\tLoss: 1.769364\n",
      "Train Epoch: 147 [0/2100 (0%)]\tLoss: 1.766625\n"
     ]
    },
    {
     "name": "stderr",
     "output_type": "stream",
     "text": [
      "Training Epochs:  15%|█▍        | 148/1000 [00:29<02:39,  5.35it/s]"
     ]
    },
    {
     "name": "stdout",
     "output_type": "stream",
     "text": [
      "Train Epoch: 148 [0/2100 (0%)]\tLoss: 1.762711\n",
      "Train Epoch: 149 [0/2100 (0%)]\tLoss: 1.754725\n"
     ]
    },
    {
     "name": "stderr",
     "output_type": "stream",
     "text": [
      "Training Epochs:  15%|█▌        | 150/1000 [00:30<02:44,  5.15it/s]"
     ]
    },
    {
     "name": "stdout",
     "output_type": "stream",
     "text": [
      "Train Epoch: 150 [0/2100 (0%)]\tLoss: 1.740496\n",
      "Train Epoch: 151 [0/2100 (0%)]\tLoss: 1.747415\n"
     ]
    },
    {
     "name": "stderr",
     "output_type": "stream",
     "text": [
      "Training Epochs:  15%|█▌        | 152/1000 [00:30<02:35,  5.44it/s]"
     ]
    },
    {
     "name": "stdout",
     "output_type": "stream",
     "text": [
      "Train Epoch: 152 [0/2100 (0%)]\tLoss: 1.749311\n",
      "Train Epoch: 153 [0/2100 (0%)]\tLoss: 1.715277\n"
     ]
    },
    {
     "name": "stderr",
     "output_type": "stream",
     "text": [
      "Training Epochs:  15%|█▌        | 154/1000 [00:30<02:34,  5.49it/s]"
     ]
    },
    {
     "name": "stdout",
     "output_type": "stream",
     "text": [
      "Train Epoch: 154 [0/2100 (0%)]\tLoss: 1.726017\n",
      "Train Epoch: 155 [0/2100 (0%)]\tLoss: 1.709393\n"
     ]
    },
    {
     "name": "stderr",
     "output_type": "stream",
     "text": [
      "Training Epochs:  16%|█▌        | 156/1000 [00:31<02:44,  5.14it/s]"
     ]
    },
    {
     "name": "stdout",
     "output_type": "stream",
     "text": [
      "Train Epoch: 156 [0/2100 (0%)]\tLoss: 1.698887\n"
     ]
    },
    {
     "name": "stderr",
     "output_type": "stream",
     "text": [
      "Training Epochs:  16%|█▌        | 157/1000 [00:31<02:49,  4.97it/s]"
     ]
    },
    {
     "name": "stdout",
     "output_type": "stream",
     "text": [
      "Train Epoch: 157 [0/2100 (0%)]\tLoss: 1.689403\n"
     ]
    },
    {
     "name": "stderr",
     "output_type": "stream",
     "text": [
      "Training Epochs:  16%|█▌        | 158/1000 [00:31<02:44,  5.12it/s]"
     ]
    },
    {
     "name": "stdout",
     "output_type": "stream",
     "text": [
      "Train Epoch: 158 [0/2100 (0%)]\tLoss: 1.682736\n",
      "Train Epoch: 159 [0/2100 (0%)]\tLoss: 1.697922\n"
     ]
    },
    {
     "name": "stderr",
     "output_type": "stream",
     "text": [
      "Training Epochs:  16%|█▌        | 160/1000 [00:32<02:49,  4.96it/s]"
     ]
    },
    {
     "name": "stdout",
     "output_type": "stream",
     "text": [
      "Train Epoch: 160 [0/2100 (0%)]\tLoss: 1.695769\n"
     ]
    },
    {
     "name": "stderr",
     "output_type": "stream",
     "text": [
      "Training Epochs:  16%|█▌        | 161/1000 [00:32<02:45,  5.07it/s]"
     ]
    },
    {
     "name": "stdout",
     "output_type": "stream",
     "text": [
      "Train Epoch: 161 [0/2100 (0%)]\tLoss: 1.676933\n",
      "Train Epoch: 162 [0/2100 (0%)]\tLoss: 1.677055\n"
     ]
    },
    {
     "name": "stderr",
     "output_type": "stream",
     "text": [
      "Training Epochs:  16%|█▋        | 163/1000 [00:32<02:43,  5.13it/s]"
     ]
    },
    {
     "name": "stdout",
     "output_type": "stream",
     "text": [
      "Train Epoch: 163 [0/2100 (0%)]\tLoss: 1.685006\n",
      "Train Epoch: 164 [0/2100 (0%)]\tLoss: 1.660914\n"
     ]
    },
    {
     "name": "stderr",
     "output_type": "stream",
     "text": [
      "Training Epochs:  16%|█▋        | 165/1000 [00:33<02:38,  5.28it/s]"
     ]
    },
    {
     "name": "stdout",
     "output_type": "stream",
     "text": [
      "Train Epoch: 165 [0/2100 (0%)]\tLoss: 1.639278\n",
      "Train Epoch: 166 [0/2100 (0%)]\tLoss: 1.657949\n"
     ]
    },
    {
     "name": "stderr",
     "output_type": "stream",
     "text": [
      "Training Epochs:  17%|█▋        | 167/1000 [00:33<03:03,  4.54it/s]"
     ]
    },
    {
     "name": "stdout",
     "output_type": "stream",
     "text": [
      "Train Epoch: 167 [0/2100 (0%)]\tLoss: 1.654659\n",
      "Train Epoch: 168 [0/2100 (0%)]\tLoss: 1.644117\n"
     ]
    },
    {
     "name": "stderr",
     "output_type": "stream",
     "text": [
      "Training Epochs:  17%|█▋        | 169/1000 [00:33<02:57,  4.68it/s]"
     ]
    },
    {
     "name": "stdout",
     "output_type": "stream",
     "text": [
      "Train Epoch: 169 [0/2100 (0%)]\tLoss: 1.647711\n"
     ]
    },
    {
     "name": "stderr",
     "output_type": "stream",
     "text": [
      "Training Epochs:  17%|█▋        | 170/1000 [00:34<02:52,  4.81it/s]"
     ]
    },
    {
     "name": "stdout",
     "output_type": "stream",
     "text": [
      "Train Epoch: 170 [0/2100 (0%)]\tLoss: 1.631265\n",
      "Train Epoch: 171 [0/2100 (0%)]\tLoss: 1.608568\n"
     ]
    },
    {
     "name": "stderr",
     "output_type": "stream",
     "text": [
      "Training Epochs:  17%|█▋        | 172/1000 [00:34<02:42,  5.09it/s]"
     ]
    },
    {
     "name": "stdout",
     "output_type": "stream",
     "text": [
      "Train Epoch: 172 [0/2100 (0%)]\tLoss: 1.623307\n",
      "Train Epoch: 173 [0/2100 (0%)]\tLoss: 1.609171\n"
     ]
    },
    {
     "name": "stderr",
     "output_type": "stream",
     "text": [
      "Training Epochs:  17%|█▋        | 174/1000 [00:34<02:32,  5.42it/s]"
     ]
    },
    {
     "name": "stdout",
     "output_type": "stream",
     "text": [
      "Train Epoch: 174 [0/2100 (0%)]\tLoss: 1.605332\n",
      "Train Epoch: 175 [0/2100 (0%)]\tLoss: 1.591724\n"
     ]
    },
    {
     "name": "stderr",
     "output_type": "stream",
     "text": [
      "Training Epochs:  18%|█▊        | 176/1000 [00:35<02:26,  5.64it/s]"
     ]
    },
    {
     "name": "stdout",
     "output_type": "stream",
     "text": [
      "Train Epoch: 176 [0/2100 (0%)]\tLoss: 1.602383\n",
      "Train Epoch: 177 [0/2100 (0%)]\tLoss: 1.591067\n"
     ]
    },
    {
     "name": "stderr",
     "output_type": "stream",
     "text": [
      "Training Epochs:  18%|█▊        | 178/1000 [00:35<02:19,  5.90it/s]"
     ]
    },
    {
     "name": "stdout",
     "output_type": "stream",
     "text": [
      "Train Epoch: 178 [0/2100 (0%)]\tLoss: 1.585671\n",
      "Train Epoch: 179 [0/2100 (0%)]\tLoss: 1.588767\n"
     ]
    },
    {
     "name": "stderr",
     "output_type": "stream",
     "text": [
      "Training Epochs:  18%|█▊        | 180/1000 [00:35<02:18,  5.94it/s]"
     ]
    },
    {
     "name": "stdout",
     "output_type": "stream",
     "text": [
      "Train Epoch: 180 [0/2100 (0%)]\tLoss: 1.577145\n",
      "Train Epoch: 181 [0/2100 (0%)]\tLoss: 1.578571\n"
     ]
    },
    {
     "name": "stderr",
     "output_type": "stream",
     "text": [
      "Training Epochs:  18%|█▊        | 182/1000 [00:36<02:22,  5.73it/s]"
     ]
    },
    {
     "name": "stdout",
     "output_type": "stream",
     "text": [
      "Train Epoch: 182 [0/2100 (0%)]\tLoss: 1.565281\n",
      "Train Epoch: 183 [0/2100 (0%)]\tLoss: 1.567496\n"
     ]
    },
    {
     "name": "stderr",
     "output_type": "stream",
     "text": [
      "Training Epochs:  18%|█▊        | 184/1000 [00:36<02:26,  5.58it/s]"
     ]
    },
    {
     "name": "stdout",
     "output_type": "stream",
     "text": [
      "Train Epoch: 184 [0/2100 (0%)]\tLoss: 1.540874\n",
      "Train Epoch: 185 [0/2100 (0%)]\tLoss: 1.544178\n"
     ]
    },
    {
     "name": "stderr",
     "output_type": "stream",
     "text": [
      "Training Epochs:  19%|█▊        | 186/1000 [00:37<02:34,  5.26it/s]"
     ]
    },
    {
     "name": "stdout",
     "output_type": "stream",
     "text": [
      "Train Epoch: 186 [0/2100 (0%)]\tLoss: 1.550676\n"
     ]
    },
    {
     "name": "stderr",
     "output_type": "stream",
     "text": [
      "Training Epochs:  19%|█▊        | 187/1000 [00:37<02:31,  5.37it/s]"
     ]
    },
    {
     "name": "stdout",
     "output_type": "stream",
     "text": [
      "Train Epoch: 187 [0/2100 (0%)]\tLoss: 1.537842\n",
      "Train Epoch: 188 [0/2100 (0%)]\tLoss: 1.529851\n"
     ]
    },
    {
     "name": "stderr",
     "output_type": "stream",
     "text": [
      "Training Epochs:  19%|█▉        | 189/1000 [00:37<02:26,  5.53it/s]"
     ]
    },
    {
     "name": "stdout",
     "output_type": "stream",
     "text": [
      "Train Epoch: 189 [0/2100 (0%)]\tLoss: 1.520087\n",
      "Train Epoch: 190 [0/2100 (0%)]\tLoss: 1.548144\n"
     ]
    },
    {
     "name": "stderr",
     "output_type": "stream",
     "text": [
      "Training Epochs:  19%|█▉        | 191/1000 [00:37<02:20,  5.76it/s]"
     ]
    },
    {
     "name": "stdout",
     "output_type": "stream",
     "text": [
      "Train Epoch: 191 [0/2100 (0%)]\tLoss: 1.539485\n",
      "Train Epoch: 192 [0/2100 (0%)]\tLoss: 1.513138\n"
     ]
    },
    {
     "name": "stderr",
     "output_type": "stream",
     "text": [
      "Training Epochs:  19%|█▉        | 193/1000 [00:38<02:16,  5.90it/s]"
     ]
    },
    {
     "name": "stdout",
     "output_type": "stream",
     "text": [
      "Train Epoch: 193 [0/2100 (0%)]\tLoss: 1.523514\n",
      "Train Epoch: 194 [0/2100 (0%)]\tLoss: 1.517540\n"
     ]
    },
    {
     "name": "stderr",
     "output_type": "stream",
     "text": [
      "Training Epochs:  20%|█▉        | 195/1000 [00:38<02:16,  5.89it/s]"
     ]
    },
    {
     "name": "stdout",
     "output_type": "stream",
     "text": [
      "Train Epoch: 195 [0/2100 (0%)]\tLoss: 1.481293\n",
      "Train Epoch: 196 [0/2100 (0%)]\tLoss: 1.482840\n"
     ]
    },
    {
     "name": "stderr",
     "output_type": "stream",
     "text": [
      "Training Epochs:  20%|█▉        | 197/1000 [00:38<02:14,  5.97it/s]"
     ]
    },
    {
     "name": "stdout",
     "output_type": "stream",
     "text": [
      "Train Epoch: 197 [0/2100 (0%)]\tLoss: 1.494098\n",
      "Train Epoch: 198 [0/2100 (0%)]\tLoss: 1.466505\n"
     ]
    },
    {
     "name": "stderr",
     "output_type": "stream",
     "text": [
      "Training Epochs:  20%|█▉        | 199/1000 [00:39<02:13,  6.02it/s]"
     ]
    },
    {
     "name": "stdout",
     "output_type": "stream",
     "text": [
      "Train Epoch: 199 [0/2100 (0%)]\tLoss: 1.489658\n",
      "Train Epoch: 200 [0/2100 (0%)]\tLoss: 1.479948\n"
     ]
    },
    {
     "name": "stderr",
     "output_type": "stream",
     "text": [
      "Training Epochs:  20%|██        | 201/1000 [00:39<02:20,  5.69it/s]"
     ]
    },
    {
     "name": "stdout",
     "output_type": "stream",
     "text": [
      "Train Epoch: 201 [0/2100 (0%)]\tLoss: 1.470799\n",
      "Train Epoch: 202 [0/2100 (0%)]\tLoss: 1.452771\n"
     ]
    },
    {
     "name": "stderr",
     "output_type": "stream",
     "text": [
      "Training Epochs:  20%|██        | 203/1000 [00:39<02:18,  5.76it/s]"
     ]
    },
    {
     "name": "stdout",
     "output_type": "stream",
     "text": [
      "Train Epoch: 203 [0/2100 (0%)]\tLoss: 1.476284\n",
      "Train Epoch: 204 [0/2100 (0%)]\tLoss: 1.457357\n"
     ]
    },
    {
     "name": "stderr",
     "output_type": "stream",
     "text": [
      "Training Epochs:  20%|██        | 205/1000 [00:40<02:19,  5.70it/s]"
     ]
    },
    {
     "name": "stdout",
     "output_type": "stream",
     "text": [
      "Train Epoch: 205 [0/2100 (0%)]\tLoss: 1.470274\n",
      "Train Epoch: 206 [0/2100 (0%)]\tLoss: 1.440355\n"
     ]
    },
    {
     "name": "stderr",
     "output_type": "stream",
     "text": [
      "Training Epochs:  21%|██        | 207/1000 [00:40<02:25,  5.47it/s]"
     ]
    },
    {
     "name": "stdout",
     "output_type": "stream",
     "text": [
      "Train Epoch: 207 [0/2100 (0%)]\tLoss: 1.445016\n",
      "Train Epoch: 208 [0/2100 (0%)]\tLoss: 1.433809\n"
     ]
    },
    {
     "name": "stderr",
     "output_type": "stream",
     "text": [
      "Training Epochs:  21%|██        | 209/1000 [00:41<02:22,  5.56it/s]"
     ]
    },
    {
     "name": "stdout",
     "output_type": "stream",
     "text": [
      "Train Epoch: 209 [0/2100 (0%)]\tLoss: 1.434852\n",
      "Train Epoch: 210 [0/2100 (0%)]\tLoss: 1.415761\n"
     ]
    },
    {
     "name": "stderr",
     "output_type": "stream",
     "text": [
      "Training Epochs:  21%|██        | 211/1000 [00:41<02:21,  5.59it/s]"
     ]
    },
    {
     "name": "stdout",
     "output_type": "stream",
     "text": [
      "Train Epoch: 211 [0/2100 (0%)]\tLoss: 1.423254\n",
      "Train Epoch: 212 [0/2100 (0%)]\tLoss: 1.402725\n"
     ]
    },
    {
     "name": "stderr",
     "output_type": "stream",
     "text": [
      "Training Epochs:  21%|██▏       | 213/1000 [00:41<02:17,  5.71it/s]"
     ]
    },
    {
     "name": "stdout",
     "output_type": "stream",
     "text": [
      "Train Epoch: 213 [0/2100 (0%)]\tLoss: 1.418759\n",
      "Train Epoch: 214 [0/2100 (0%)]\tLoss: 1.419059\n"
     ]
    },
    {
     "name": "stderr",
     "output_type": "stream",
     "text": [
      "Training Epochs:  22%|██▏       | 215/1000 [00:42<02:22,  5.49it/s]"
     ]
    },
    {
     "name": "stdout",
     "output_type": "stream",
     "text": [
      "Train Epoch: 215 [0/2100 (0%)]\tLoss: 1.411185\n",
      "Train Epoch: 216 [0/2100 (0%)]\tLoss: 1.408675\n"
     ]
    },
    {
     "name": "stderr",
     "output_type": "stream",
     "text": [
      "Training Epochs:  22%|██▏       | 217/1000 [00:42<02:20,  5.56it/s]"
     ]
    },
    {
     "name": "stdout",
     "output_type": "stream",
     "text": [
      "Train Epoch: 217 [0/2100 (0%)]\tLoss: 1.396686\n",
      "Train Epoch: 218 [0/2100 (0%)]\tLoss: 1.394340\n"
     ]
    },
    {
     "name": "stderr",
     "output_type": "stream",
     "text": [
      "Training Epochs:  22%|██▏       | 219/1000 [00:42<02:16,  5.73it/s]"
     ]
    },
    {
     "name": "stdout",
     "output_type": "stream",
     "text": [
      "Train Epoch: 219 [0/2100 (0%)]\tLoss: 1.381374\n",
      "Train Epoch: 220 [0/2100 (0%)]\tLoss: 1.387538\n"
     ]
    },
    {
     "name": "stderr",
     "output_type": "stream",
     "text": [
      "Training Epochs:  22%|██▏       | 221/1000 [00:43<02:16,  5.70it/s]"
     ]
    },
    {
     "name": "stdout",
     "output_type": "stream",
     "text": [
      "Train Epoch: 221 [0/2100 (0%)]\tLoss: 1.393067\n",
      "Train Epoch: 222 [0/2100 (0%)]\tLoss: 1.387282\n"
     ]
    },
    {
     "name": "stderr",
     "output_type": "stream",
     "text": [
      "Training Epochs:  22%|██▏       | 223/1000 [00:43<02:33,  5.08it/s]"
     ]
    },
    {
     "name": "stdout",
     "output_type": "stream",
     "text": [
      "Train Epoch: 223 [0/2100 (0%)]\tLoss: 1.380066\n"
     ]
    },
    {
     "name": "stderr",
     "output_type": "stream",
     "text": [
      "Training Epochs:  22%|██▏       | 224/1000 [00:43<02:35,  5.00it/s]"
     ]
    },
    {
     "name": "stdout",
     "output_type": "stream",
     "text": [
      "Train Epoch: 224 [0/2100 (0%)]\tLoss: 1.354804\n"
     ]
    },
    {
     "name": "stderr",
     "output_type": "stream",
     "text": [
      "Training Epochs:  22%|██▎       | 225/1000 [00:43<02:29,  5.18it/s]"
     ]
    },
    {
     "name": "stdout",
     "output_type": "stream",
     "text": [
      "Train Epoch: 225 [0/2100 (0%)]\tLoss: 1.366650\n",
      "Train Epoch: 226 [0/2100 (0%)]\tLoss: 1.362630\n"
     ]
    },
    {
     "name": "stderr",
     "output_type": "stream",
     "text": [
      "Training Epochs:  23%|██▎       | 227/1000 [00:44<02:24,  5.34it/s]"
     ]
    },
    {
     "name": "stdout",
     "output_type": "stream",
     "text": [
      "Train Epoch: 227 [0/2100 (0%)]\tLoss: 1.341931\n",
      "Train Epoch: 228 [0/2100 (0%)]\tLoss: 1.345992\n"
     ]
    },
    {
     "name": "stderr",
     "output_type": "stream",
     "text": [
      "Training Epochs:  23%|██▎       | 229/1000 [00:44<02:20,  5.48it/s]"
     ]
    },
    {
     "name": "stdout",
     "output_type": "stream",
     "text": [
      "Train Epoch: 229 [0/2100 (0%)]\tLoss: 1.345503\n",
      "Train Epoch: 230 [0/2100 (0%)]\tLoss: 1.360409\n"
     ]
    },
    {
     "name": "stderr",
     "output_type": "stream",
     "text": [
      "Training Epochs:  23%|██▎       | 231/1000 [00:45<02:18,  5.56it/s]"
     ]
    },
    {
     "name": "stdout",
     "output_type": "stream",
     "text": [
      "Train Epoch: 231 [0/2100 (0%)]\tLoss: 1.300716\n",
      "Train Epoch: 232 [0/2100 (0%)]\tLoss: 1.319460\n"
     ]
    },
    {
     "name": "stderr",
     "output_type": "stream",
     "text": [
      "Training Epochs:  23%|██▎       | 233/1000 [00:45<02:22,  5.38it/s]"
     ]
    },
    {
     "name": "stdout",
     "output_type": "stream",
     "text": [
      "Train Epoch: 233 [0/2100 (0%)]\tLoss: 1.329996\n",
      "Train Epoch: 234 [0/2100 (0%)]\tLoss: 1.334224\n"
     ]
    },
    {
     "name": "stderr",
     "output_type": "stream",
     "text": [
      "Training Epochs:  24%|██▎       | 235/1000 [00:45<02:39,  4.80it/s]"
     ]
    },
    {
     "name": "stdout",
     "output_type": "stream",
     "text": [
      "Train Epoch: 235 [0/2100 (0%)]\tLoss: 1.332295\n",
      "Train Epoch: 236 [0/2100 (0%)]\tLoss: 1.325957\n"
     ]
    },
    {
     "name": "stderr",
     "output_type": "stream",
     "text": [
      "Training Epochs:  24%|██▎       | 237/1000 [00:46<02:28,  5.15it/s]"
     ]
    },
    {
     "name": "stdout",
     "output_type": "stream",
     "text": [
      "Train Epoch: 237 [0/2100 (0%)]\tLoss: 1.310242\n",
      "Train Epoch: 238 [0/2100 (0%)]\tLoss: 1.294175\n"
     ]
    },
    {
     "name": "stderr",
     "output_type": "stream",
     "text": [
      "Training Epochs:  24%|██▍       | 239/1000 [00:46<02:14,  5.65it/s]"
     ]
    },
    {
     "name": "stdout",
     "output_type": "stream",
     "text": [
      "Train Epoch: 239 [0/2100 (0%)]\tLoss: 1.298338\n",
      "Train Epoch: 240 [0/2100 (0%)]\tLoss: 1.327574\n"
     ]
    },
    {
     "name": "stderr",
     "output_type": "stream",
     "text": [
      "Training Epochs:  24%|██▍       | 241/1000 [00:46<02:06,  5.98it/s]"
     ]
    },
    {
     "name": "stdout",
     "output_type": "stream",
     "text": [
      "Train Epoch: 241 [0/2100 (0%)]\tLoss: 1.304307\n",
      "Train Epoch: 242 [0/2100 (0%)]\tLoss: 1.293207\n"
     ]
    },
    {
     "name": "stderr",
     "output_type": "stream",
     "text": [
      "Training Epochs:  24%|██▍       | 243/1000 [00:47<02:16,  5.54it/s]"
     ]
    },
    {
     "name": "stdout",
     "output_type": "stream",
     "text": [
      "Train Epoch: 243 [0/2100 (0%)]\tLoss: 1.281505\n",
      "Train Epoch: 244 [0/2100 (0%)]\tLoss: 1.294462\n"
     ]
    },
    {
     "name": "stderr",
     "output_type": "stream",
     "text": [
      "Training Epochs:  24%|██▍       | 245/1000 [00:47<02:13,  5.67it/s]"
     ]
    },
    {
     "name": "stdout",
     "output_type": "stream",
     "text": [
      "Train Epoch: 245 [0/2100 (0%)]\tLoss: 1.287661\n",
      "Train Epoch: 246 [0/2100 (0%)]\tLoss: 1.276536\n"
     ]
    },
    {
     "name": "stderr",
     "output_type": "stream",
     "text": [
      "Training Epochs:  25%|██▍       | 247/1000 [00:48<02:12,  5.69it/s]"
     ]
    },
    {
     "name": "stdout",
     "output_type": "stream",
     "text": [
      "Train Epoch: 247 [0/2100 (0%)]\tLoss: 1.288864\n",
      "Train Epoch: 248 [0/2100 (0%)]\tLoss: 1.279029\n"
     ]
    },
    {
     "name": "stderr",
     "output_type": "stream",
     "text": [
      "Training Epochs:  25%|██▍       | 249/1000 [00:48<02:15,  5.52it/s]"
     ]
    },
    {
     "name": "stdout",
     "output_type": "stream",
     "text": [
      "Train Epoch: 249 [0/2100 (0%)]\tLoss: 1.279219\n",
      "Train Epoch: 250 [0/2100 (0%)]\tLoss: 1.278388\n"
     ]
    },
    {
     "name": "stderr",
     "output_type": "stream",
     "text": [
      "Training Epochs:  25%|██▌       | 251/1000 [00:48<02:12,  5.63it/s]"
     ]
    },
    {
     "name": "stdout",
     "output_type": "stream",
     "text": [
      "Train Epoch: 251 [0/2100 (0%)]\tLoss: 1.249719\n",
      "Train Epoch: 252 [0/2100 (0%)]\tLoss: 1.270572\n"
     ]
    },
    {
     "name": "stderr",
     "output_type": "stream",
     "text": [
      "Training Epochs:  25%|██▌       | 253/1000 [00:49<02:12,  5.65it/s]"
     ]
    },
    {
     "name": "stdout",
     "output_type": "stream",
     "text": [
      "Train Epoch: 253 [0/2100 (0%)]\tLoss: 1.258868\n",
      "Train Epoch: 254 [0/2100 (0%)]\tLoss: 1.226523\n"
     ]
    },
    {
     "name": "stderr",
     "output_type": "stream",
     "text": [
      "Training Epochs:  26%|██▌       | 255/1000 [00:49<02:09,  5.74it/s]"
     ]
    },
    {
     "name": "stdout",
     "output_type": "stream",
     "text": [
      "Train Epoch: 255 [0/2100 (0%)]\tLoss: 1.253294\n",
      "Train Epoch: 256 [0/2100 (0%)]\tLoss: 1.259842\n"
     ]
    },
    {
     "name": "stderr",
     "output_type": "stream",
     "text": [
      "Training Epochs:  26%|██▌       | 257/1000 [00:49<02:09,  5.72it/s]"
     ]
    },
    {
     "name": "stdout",
     "output_type": "stream",
     "text": [
      "Train Epoch: 257 [0/2100 (0%)]\tLoss: 1.253524\n",
      "Train Epoch: 258 [0/2100 (0%)]\tLoss: 1.231454\n"
     ]
    },
    {
     "name": "stderr",
     "output_type": "stream",
     "text": [
      "Training Epochs:  26%|██▌       | 259/1000 [00:50<02:11,  5.64it/s]"
     ]
    },
    {
     "name": "stdout",
     "output_type": "stream",
     "text": [
      "Train Epoch: 259 [0/2100 (0%)]\tLoss: 1.240216\n",
      "Train Epoch: 260 [0/2100 (0%)]\tLoss: 1.214175\n"
     ]
    },
    {
     "name": "stderr",
     "output_type": "stream",
     "text": [
      "Training Epochs:  26%|██▌       | 261/1000 [00:50<02:10,  5.65it/s]"
     ]
    },
    {
     "name": "stdout",
     "output_type": "stream",
     "text": [
      "Train Epoch: 261 [0/2100 (0%)]\tLoss: 1.226170\n",
      "Train Epoch: 262 [0/2100 (0%)]\tLoss: 1.228356\n"
     ]
    },
    {
     "name": "stderr",
     "output_type": "stream",
     "text": [
      "Training Epochs:  26%|██▋       | 263/1000 [00:50<02:10,  5.63it/s]"
     ]
    },
    {
     "name": "stdout",
     "output_type": "stream",
     "text": [
      "Train Epoch: 263 [0/2100 (0%)]\tLoss: 1.222069\n",
      "Train Epoch: 264 [0/2100 (0%)]\tLoss: 1.214381\n"
     ]
    },
    {
     "name": "stderr",
     "output_type": "stream",
     "text": [
      "Training Epochs:  26%|██▋       | 265/1000 [00:51<02:11,  5.59it/s]"
     ]
    },
    {
     "name": "stdout",
     "output_type": "stream",
     "text": [
      "Train Epoch: 265 [0/2100 (0%)]\tLoss: 1.200837\n",
      "Train Epoch: 266 [0/2100 (0%)]\tLoss: 1.209770\n"
     ]
    },
    {
     "name": "stderr",
     "output_type": "stream",
     "text": [
      "Training Epochs:  27%|██▋       | 267/1000 [00:51<02:10,  5.63it/s]"
     ]
    },
    {
     "name": "stdout",
     "output_type": "stream",
     "text": [
      "Train Epoch: 267 [0/2100 (0%)]\tLoss: 1.210617\n",
      "Train Epoch: 268 [0/2100 (0%)]\tLoss: 1.195182\n"
     ]
    },
    {
     "name": "stderr",
     "output_type": "stream",
     "text": [
      "Training Epochs:  27%|██▋       | 269/1000 [00:51<02:16,  5.35it/s]"
     ]
    },
    {
     "name": "stdout",
     "output_type": "stream",
     "text": [
      "Train Epoch: 269 [0/2100 (0%)]\tLoss: 1.180171\n"
     ]
    },
    {
     "name": "stderr",
     "output_type": "stream",
     "text": [
      "Training Epochs:  27%|██▋       | 270/1000 [00:52<02:17,  5.31it/s]"
     ]
    },
    {
     "name": "stdout",
     "output_type": "stream",
     "text": [
      "Train Epoch: 270 [0/2100 (0%)]\tLoss: 1.186932\n",
      "Train Epoch: 271 [0/2100 (0%)]\tLoss: 1.179288\n"
     ]
    },
    {
     "name": "stderr",
     "output_type": "stream",
     "text": [
      "Training Epochs:  27%|██▋       | 272/1000 [00:52<02:14,  5.43it/s]"
     ]
    },
    {
     "name": "stdout",
     "output_type": "stream",
     "text": [
      "Train Epoch: 272 [0/2100 (0%)]\tLoss: 1.197643\n",
      "Train Epoch: 273 [0/2100 (0%)]\tLoss: 1.213640\n"
     ]
    },
    {
     "name": "stderr",
     "output_type": "stream",
     "text": [
      "Training Epochs:  27%|██▋       | 274/1000 [00:52<02:12,  5.48it/s]"
     ]
    },
    {
     "name": "stdout",
     "output_type": "stream",
     "text": [
      "Train Epoch: 274 [0/2100 (0%)]\tLoss: 1.188209\n",
      "Train Epoch: 275 [0/2100 (0%)]\tLoss: 1.201631\n"
     ]
    },
    {
     "name": "stderr",
     "output_type": "stream",
     "text": [
      "Training Epochs:  28%|██▊       | 276/1000 [00:53<02:08,  5.64it/s]"
     ]
    },
    {
     "name": "stdout",
     "output_type": "stream",
     "text": [
      "Train Epoch: 276 [0/2100 (0%)]\tLoss: 1.182014\n",
      "Train Epoch: 277 [0/2100 (0%)]\tLoss: 1.179471\n"
     ]
    },
    {
     "name": "stderr",
     "output_type": "stream",
     "text": [
      "Training Epochs:  28%|██▊       | 278/1000 [00:53<02:08,  5.62it/s]"
     ]
    },
    {
     "name": "stdout",
     "output_type": "stream",
     "text": [
      "Train Epoch: 278 [0/2100 (0%)]\tLoss: 1.161072\n",
      "Train Epoch: 279 [0/2100 (0%)]\tLoss: 1.156825\n"
     ]
    },
    {
     "name": "stderr",
     "output_type": "stream",
     "text": [
      "Training Epochs:  28%|██▊       | 280/1000 [00:53<02:06,  5.71it/s]"
     ]
    },
    {
     "name": "stdout",
     "output_type": "stream",
     "text": [
      "Train Epoch: 280 [0/2100 (0%)]\tLoss: 1.170019\n",
      "Train Epoch: 281 [0/2100 (0%)]\tLoss: 1.157220\n"
     ]
    },
    {
     "name": "stderr",
     "output_type": "stream",
     "text": [
      "Training Epochs:  28%|██▊       | 282/1000 [00:54<02:05,  5.72it/s]"
     ]
    },
    {
     "name": "stdout",
     "output_type": "stream",
     "text": [
      "Train Epoch: 282 [0/2100 (0%)]\tLoss: 1.164399\n",
      "Train Epoch: 283 [0/2100 (0%)]\tLoss: 1.154964\n"
     ]
    },
    {
     "name": "stderr",
     "output_type": "stream",
     "text": [
      "Training Epochs:  28%|██▊       | 284/1000 [00:54<02:03,  5.80it/s]"
     ]
    },
    {
     "name": "stdout",
     "output_type": "stream",
     "text": [
      "Train Epoch: 284 [0/2100 (0%)]\tLoss: 1.145992\n",
      "Train Epoch: 285 [0/2100 (0%)]\tLoss: 1.159046\n"
     ]
    },
    {
     "name": "stderr",
     "output_type": "stream",
     "text": [
      "Training Epochs:  29%|██▊       | 286/1000 [00:54<02:06,  5.66it/s]"
     ]
    },
    {
     "name": "stdout",
     "output_type": "stream",
     "text": [
      "Train Epoch: 286 [0/2100 (0%)]\tLoss: 1.165868\n",
      "Train Epoch: 287 [0/2100 (0%)]\tLoss: 1.121653\n"
     ]
    },
    {
     "name": "stderr",
     "output_type": "stream",
     "text": [
      "Training Epochs:  29%|██▉       | 288/1000 [00:55<02:09,  5.48it/s]"
     ]
    },
    {
     "name": "stdout",
     "output_type": "stream",
     "text": [
      "Train Epoch: 288 [0/2100 (0%)]\tLoss: 1.153596\n",
      "Train Epoch: 289 [0/2100 (0%)]\tLoss: 1.151630\n"
     ]
    },
    {
     "name": "stderr",
     "output_type": "stream",
     "text": [
      "Training Epochs:  29%|██▉       | 290/1000 [00:55<02:07,  5.55it/s]"
     ]
    },
    {
     "name": "stdout",
     "output_type": "stream",
     "text": [
      "Train Epoch: 290 [0/2100 (0%)]\tLoss: 1.119851\n",
      "Train Epoch: 291 [0/2100 (0%)]\tLoss: 1.121073\n"
     ]
    },
    {
     "name": "stderr",
     "output_type": "stream",
     "text": [
      "Training Epochs:  29%|██▉       | 292/1000 [00:56<02:14,  5.26it/s]"
     ]
    },
    {
     "name": "stdout",
     "output_type": "stream",
     "text": [
      "Train Epoch: 292 [0/2100 (0%)]\tLoss: 1.103989\n"
     ]
    },
    {
     "name": "stderr",
     "output_type": "stream",
     "text": [
      "Training Epochs:  29%|██▉       | 293/1000 [00:56<02:12,  5.32it/s]"
     ]
    },
    {
     "name": "stdout",
     "output_type": "stream",
     "text": [
      "Train Epoch: 293 [0/2100 (0%)]\tLoss: 1.140829\n",
      "Train Epoch: 294 [0/2100 (0%)]\tLoss: 1.109527\n"
     ]
    },
    {
     "name": "stderr",
     "output_type": "stream",
     "text": [
      "Training Epochs:  30%|██▉       | 295/1000 [00:56<02:05,  5.63it/s]"
     ]
    },
    {
     "name": "stdout",
     "output_type": "stream",
     "text": [
      "Train Epoch: 295 [0/2100 (0%)]\tLoss: 1.108633\n",
      "Train Epoch: 296 [0/2100 (0%)]\tLoss: 1.106678\n"
     ]
    },
    {
     "name": "stderr",
     "output_type": "stream",
     "text": [
      "Training Epochs:  30%|██▉       | 297/1000 [00:56<02:02,  5.74it/s]"
     ]
    },
    {
     "name": "stdout",
     "output_type": "stream",
     "text": [
      "Train Epoch: 297 [0/2100 (0%)]\tLoss: 1.129050\n",
      "Train Epoch: 298 [0/2100 (0%)]\tLoss: 1.134562\n"
     ]
    },
    {
     "name": "stderr",
     "output_type": "stream",
     "text": [
      "Training Epochs:  30%|██▉       | 299/1000 [00:57<01:59,  5.87it/s]"
     ]
    },
    {
     "name": "stdout",
     "output_type": "stream",
     "text": [
      "Train Epoch: 299 [0/2100 (0%)]\tLoss: 1.086743\n",
      "Train Epoch: 300 [0/2100 (0%)]\tLoss: 1.117215\n"
     ]
    },
    {
     "name": "stderr",
     "output_type": "stream",
     "text": [
      "Training Epochs:  30%|███       | 301/1000 [00:57<02:08,  5.45it/s]"
     ]
    },
    {
     "name": "stdout",
     "output_type": "stream",
     "text": [
      "Train Epoch: 301 [0/2100 (0%)]\tLoss: 1.107066\n",
      "Train Epoch: 302 [0/2100 (0%)]\tLoss: 1.095082\n"
     ]
    },
    {
     "name": "stderr",
     "output_type": "stream",
     "text": [
      "Training Epochs:  30%|███       | 303/1000 [00:58<02:26,  4.76it/s]"
     ]
    },
    {
     "name": "stdout",
     "output_type": "stream",
     "text": [
      "Train Epoch: 303 [0/2100 (0%)]\tLoss: 1.098458\n",
      "Train Epoch: 304 [0/2100 (0%)]\tLoss: 1.094932\n"
     ]
    },
    {
     "name": "stderr",
     "output_type": "stream",
     "text": [
      "Training Epochs:  30%|███       | 305/1000 [00:58<02:22,  4.88it/s]"
     ]
    },
    {
     "name": "stdout",
     "output_type": "stream",
     "text": [
      "Train Epoch: 305 [0/2100 (0%)]\tLoss: 1.074436\n"
     ]
    },
    {
     "name": "stderr",
     "output_type": "stream",
     "text": [
      "Training Epochs:  31%|███       | 306/1000 [00:58<02:13,  5.20it/s]"
     ]
    },
    {
     "name": "stdout",
     "output_type": "stream",
     "text": [
      "Train Epoch: 306 [0/2100 (0%)]\tLoss: 1.089654\n",
      "Train Epoch: 307 [0/2100 (0%)]\tLoss: 1.057696\n"
     ]
    },
    {
     "name": "stderr",
     "output_type": "stream",
     "text": [
      "Training Epochs:  31%|███       | 308/1000 [00:59<02:05,  5.51it/s]"
     ]
    },
    {
     "name": "stdout",
     "output_type": "stream",
     "text": [
      "Train Epoch: 308 [0/2100 (0%)]\tLoss: 1.067574\n",
      "Train Epoch: 309 [0/2100 (0%)]\tLoss: 1.053437\n"
     ]
    },
    {
     "name": "stderr",
     "output_type": "stream",
     "text": [
      "Training Epochs:  31%|███       | 310/1000 [00:59<02:00,  5.74it/s]"
     ]
    },
    {
     "name": "stdout",
     "output_type": "stream",
     "text": [
      "Train Epoch: 310 [0/2100 (0%)]\tLoss: 1.072322\n",
      "Train Epoch: 311 [0/2100 (0%)]\tLoss: 1.083218\n"
     ]
    },
    {
     "name": "stderr",
     "output_type": "stream",
     "text": [
      "Training Epochs:  31%|███       | 312/1000 [00:59<01:58,  5.81it/s]"
     ]
    },
    {
     "name": "stdout",
     "output_type": "stream",
     "text": [
      "Train Epoch: 312 [0/2100 (0%)]\tLoss: 1.089465\n",
      "Train Epoch: 313 [0/2100 (0%)]\tLoss: 1.072571\n"
     ]
    },
    {
     "name": "stderr",
     "output_type": "stream",
     "text": [
      "Training Epochs:  31%|███▏      | 314/1000 [01:00<01:58,  5.77it/s]"
     ]
    },
    {
     "name": "stdout",
     "output_type": "stream",
     "text": [
      "Train Epoch: 314 [0/2100 (0%)]\tLoss: 1.062672\n",
      "Train Epoch: 315 [0/2100 (0%)]\tLoss: 1.066158\n"
     ]
    },
    {
     "name": "stderr",
     "output_type": "stream",
     "text": [
      "Training Epochs:  32%|███▏      | 316/1000 [01:00<01:57,  5.80it/s]"
     ]
    },
    {
     "name": "stdout",
     "output_type": "stream",
     "text": [
      "Train Epoch: 316 [0/2100 (0%)]\tLoss: 1.085617\n",
      "Train Epoch: 317 [0/2100 (0%)]\tLoss: 1.067765\n"
     ]
    },
    {
     "name": "stderr",
     "output_type": "stream",
     "text": [
      "Training Epochs:  32%|███▏      | 318/1000 [01:00<01:57,  5.83it/s]"
     ]
    },
    {
     "name": "stdout",
     "output_type": "stream",
     "text": [
      "Train Epoch: 318 [0/2100 (0%)]\tLoss: 1.053454\n",
      "Train Epoch: 319 [0/2100 (0%)]\tLoss: 1.044008\n"
     ]
    },
    {
     "name": "stderr",
     "output_type": "stream",
     "text": [
      "Training Epochs:  32%|███▏      | 320/1000 [01:01<01:55,  5.90it/s]"
     ]
    },
    {
     "name": "stdout",
     "output_type": "stream",
     "text": [
      "Train Epoch: 320 [0/2100 (0%)]\tLoss: 1.049965\n",
      "Train Epoch: 321 [0/2100 (0%)]\tLoss: 1.019409\n"
     ]
    },
    {
     "name": "stderr",
     "output_type": "stream",
     "text": [
      "Training Epochs:  32%|███▏      | 322/1000 [01:01<01:57,  5.79it/s]"
     ]
    },
    {
     "name": "stdout",
     "output_type": "stream",
     "text": [
      "Train Epoch: 322 [0/2100 (0%)]\tLoss: 1.034889\n",
      "Train Epoch: 323 [0/2100 (0%)]\tLoss: 1.021283\n"
     ]
    },
    {
     "name": "stderr",
     "output_type": "stream",
     "text": [
      "Training Epochs:  32%|███▏      | 324/1000 [01:01<02:01,  5.56it/s]"
     ]
    },
    {
     "name": "stdout",
     "output_type": "stream",
     "text": [
      "Train Epoch: 324 [0/2100 (0%)]\tLoss: 1.034023\n",
      "Train Epoch: 325 [0/2100 (0%)]\tLoss: 1.031184\n"
     ]
    },
    {
     "name": "stderr",
     "output_type": "stream",
     "text": [
      "Training Epochs:  33%|███▎      | 326/1000 [01:02<02:00,  5.58it/s]"
     ]
    },
    {
     "name": "stdout",
     "output_type": "stream",
     "text": [
      "Train Epoch: 326 [0/2100 (0%)]\tLoss: 1.050321\n",
      "Train Epoch: 327 [0/2100 (0%)]\tLoss: 1.037295\n"
     ]
    },
    {
     "name": "stderr",
     "output_type": "stream",
     "text": [
      "Training Epochs:  33%|███▎      | 328/1000 [01:02<01:59,  5.62it/s]"
     ]
    },
    {
     "name": "stdout",
     "output_type": "stream",
     "text": [
      "Train Epoch: 328 [0/2100 (0%)]\tLoss: 1.023600\n",
      "Train Epoch: 329 [0/2100 (0%)]\tLoss: 1.019707\n"
     ]
    },
    {
     "name": "stderr",
     "output_type": "stream",
     "text": [
      "Training Epochs:  33%|███▎      | 330/1000 [01:02<02:01,  5.51it/s]"
     ]
    },
    {
     "name": "stdout",
     "output_type": "stream",
     "text": [
      "Train Epoch: 330 [0/2100 (0%)]\tLoss: 1.031618\n",
      "Train Epoch: 331 [0/2100 (0%)]\tLoss: 1.017336\n"
     ]
    },
    {
     "name": "stderr",
     "output_type": "stream",
     "text": [
      "Training Epochs:  33%|███▎      | 332/1000 [01:03<02:02,  5.44it/s]"
     ]
    },
    {
     "name": "stdout",
     "output_type": "stream",
     "text": [
      "Train Epoch: 332 [0/2100 (0%)]\tLoss: 1.015774\n",
      "Train Epoch: 333 [0/2100 (0%)]\tLoss: 1.021365\n"
     ]
    },
    {
     "name": "stderr",
     "output_type": "stream",
     "text": [
      "Training Epochs:  33%|███▎      | 334/1000 [01:03<02:00,  5.50it/s]"
     ]
    },
    {
     "name": "stdout",
     "output_type": "stream",
     "text": [
      "Train Epoch: 334 [0/2100 (0%)]\tLoss: 1.024929\n",
      "Train Epoch: 335 [0/2100 (0%)]\tLoss: 1.038287\n"
     ]
    },
    {
     "name": "stderr",
     "output_type": "stream",
     "text": [
      "Training Epochs:  34%|███▎      | 336/1000 [01:04<01:59,  5.54it/s]"
     ]
    },
    {
     "name": "stdout",
     "output_type": "stream",
     "text": [
      "Train Epoch: 336 [0/2100 (0%)]\tLoss: 0.987269\n",
      "Train Epoch: 337 [0/2100 (0%)]\tLoss: 1.005456\n"
     ]
    },
    {
     "name": "stderr",
     "output_type": "stream",
     "text": [
      "Training Epochs:  34%|███▍      | 338/1000 [01:04<01:59,  5.54it/s]"
     ]
    },
    {
     "name": "stdout",
     "output_type": "stream",
     "text": [
      "Train Epoch: 338 [0/2100 (0%)]\tLoss: 1.006819\n",
      "Train Epoch: 339 [0/2100 (0%)]\tLoss: 0.982861\n"
     ]
    },
    {
     "name": "stderr",
     "output_type": "stream",
     "text": [
      "Training Epochs:  34%|███▍      | 340/1000 [01:04<01:54,  5.75it/s]"
     ]
    },
    {
     "name": "stdout",
     "output_type": "stream",
     "text": [
      "Train Epoch: 340 [0/2100 (0%)]\tLoss: 0.997416\n",
      "Train Epoch: 341 [0/2100 (0%)]\tLoss: 1.014221\n"
     ]
    },
    {
     "name": "stderr",
     "output_type": "stream",
     "text": [
      "Training Epochs:  34%|███▍      | 342/1000 [01:05<01:57,  5.62it/s]"
     ]
    },
    {
     "name": "stdout",
     "output_type": "stream",
     "text": [
      "Train Epoch: 342 [0/2100 (0%)]\tLoss: 0.997961\n",
      "Train Epoch: 343 [0/2100 (0%)]\tLoss: 0.969860\n"
     ]
    },
    {
     "name": "stderr",
     "output_type": "stream",
     "text": [
      "Training Epochs:  34%|███▍      | 344/1000 [01:05<01:57,  5.60it/s]"
     ]
    },
    {
     "name": "stdout",
     "output_type": "stream",
     "text": [
      "Train Epoch: 344 [0/2100 (0%)]\tLoss: 0.972867\n",
      "Train Epoch: 345 [0/2100 (0%)]\tLoss: 0.984487\n"
     ]
    },
    {
     "name": "stderr",
     "output_type": "stream",
     "text": [
      "Training Epochs:  35%|███▍      | 346/1000 [01:05<01:56,  5.62it/s]"
     ]
    },
    {
     "name": "stdout",
     "output_type": "stream",
     "text": [
      "Train Epoch: 346 [0/2100 (0%)]\tLoss: 0.989314\n",
      "Train Epoch: 347 [0/2100 (0%)]\tLoss: 0.987503\n"
     ]
    },
    {
     "name": "stderr",
     "output_type": "stream",
     "text": [
      "Training Epochs:  35%|███▍      | 348/1000 [01:06<01:55,  5.66it/s]"
     ]
    },
    {
     "name": "stdout",
     "output_type": "stream",
     "text": [
      "Train Epoch: 348 [0/2100 (0%)]\tLoss: 0.969322\n",
      "Train Epoch: 349 [0/2100 (0%)]\tLoss: 0.948084\n"
     ]
    },
    {
     "name": "stderr",
     "output_type": "stream",
     "text": [
      "Training Epochs:  35%|███▌      | 350/1000 [01:06<01:55,  5.60it/s]"
     ]
    },
    {
     "name": "stdout",
     "output_type": "stream",
     "text": [
      "Train Epoch: 350 [0/2100 (0%)]\tLoss: 0.985134\n",
      "Train Epoch: 351 [0/2100 (0%)]\tLoss: 0.981107\n"
     ]
    },
    {
     "name": "stderr",
     "output_type": "stream",
     "text": [
      "Training Epochs:  35%|███▌      | 352/1000 [01:06<01:55,  5.59it/s]"
     ]
    },
    {
     "name": "stdout",
     "output_type": "stream",
     "text": [
      "Train Epoch: 352 [0/2100 (0%)]\tLoss: 0.981173\n",
      "Train Epoch: 353 [0/2100 (0%)]\tLoss: 0.973428\n"
     ]
    },
    {
     "name": "stderr",
     "output_type": "stream",
     "text": [
      "Training Epochs:  35%|███▌      | 354/1000 [01:07<01:56,  5.55it/s]"
     ]
    },
    {
     "name": "stdout",
     "output_type": "stream",
     "text": [
      "Train Epoch: 354 [0/2100 (0%)]\tLoss: 0.958522\n",
      "Train Epoch: 355 [0/2100 (0%)]\tLoss: 0.941611\n"
     ]
    },
    {
     "name": "stderr",
     "output_type": "stream",
     "text": [
      "Training Epochs:  36%|███▌      | 356/1000 [01:07<01:52,  5.74it/s]"
     ]
    },
    {
     "name": "stdout",
     "output_type": "stream",
     "text": [
      "Train Epoch: 356 [0/2100 (0%)]\tLoss: 0.967206\n",
      "Train Epoch: 357 [0/2100 (0%)]\tLoss: 0.972242\n"
     ]
    },
    {
     "name": "stderr",
     "output_type": "stream",
     "text": [
      "Training Epochs:  36%|███▌      | 358/1000 [01:07<01:54,  5.62it/s]"
     ]
    },
    {
     "name": "stdout",
     "output_type": "stream",
     "text": [
      "Train Epoch: 358 [0/2100 (0%)]\tLoss: 0.950721\n",
      "Train Epoch: 359 [0/2100 (0%)]\tLoss: 0.960009\n"
     ]
    },
    {
     "name": "stderr",
     "output_type": "stream",
     "text": [
      "Training Epochs:  36%|███▌      | 360/1000 [01:08<01:53,  5.64it/s]"
     ]
    },
    {
     "name": "stdout",
     "output_type": "stream",
     "text": [
      "Train Epoch: 360 [0/2100 (0%)]\tLoss: 0.938991\n",
      "Train Epoch: 361 [0/2100 (0%)]\tLoss: 0.933828\n"
     ]
    },
    {
     "name": "stderr",
     "output_type": "stream",
     "text": [
      "Training Epochs:  36%|███▌      | 362/1000 [01:08<01:51,  5.73it/s]"
     ]
    },
    {
     "name": "stdout",
     "output_type": "stream",
     "text": [
      "Train Epoch: 362 [0/2100 (0%)]\tLoss: 0.943759\n",
      "Train Epoch: 363 [0/2100 (0%)]\tLoss: 0.935946\n"
     ]
    },
    {
     "name": "stderr",
     "output_type": "stream",
     "text": [
      "Training Epochs:  36%|███▋      | 364/1000 [01:08<01:52,  5.65it/s]"
     ]
    },
    {
     "name": "stdout",
     "output_type": "stream",
     "text": [
      "Train Epoch: 364 [0/2100 (0%)]\tLoss: 0.942407\n",
      "Train Epoch: 365 [0/2100 (0%)]\tLoss: 0.925128\n"
     ]
    },
    {
     "name": "stderr",
     "output_type": "stream",
     "text": [
      "Training Epochs:  37%|███▋      | 366/1000 [01:09<01:51,  5.71it/s]"
     ]
    },
    {
     "name": "stdout",
     "output_type": "stream",
     "text": [
      "Train Epoch: 366 [0/2100 (0%)]\tLoss: 0.944368\n",
      "Train Epoch: 367 [0/2100 (0%)]\tLoss: 0.916361\n"
     ]
    },
    {
     "name": "stderr",
     "output_type": "stream",
     "text": [
      "Training Epochs:  37%|███▋      | 368/1000 [01:09<01:56,  5.42it/s]"
     ]
    },
    {
     "name": "stdout",
     "output_type": "stream",
     "text": [
      "Train Epoch: 368 [0/2100 (0%)]\tLoss: 0.919551\n",
      "Train Epoch: 369 [0/2100 (0%)]\tLoss: 0.922837\n"
     ]
    },
    {
     "name": "stderr",
     "output_type": "stream",
     "text": [
      "Training Epochs:  37%|███▋      | 370/1000 [01:10<02:13,  4.72it/s]"
     ]
    },
    {
     "name": "stdout",
     "output_type": "stream",
     "text": [
      "Train Epoch: 370 [0/2100 (0%)]\tLoss: 0.934554\n",
      "Train Epoch: 371 [0/2100 (0%)]\tLoss: 0.919175\n"
     ]
    },
    {
     "name": "stderr",
     "output_type": "stream",
     "text": [
      "Training Epochs:  37%|███▋      | 372/1000 [01:10<02:03,  5.07it/s]"
     ]
    },
    {
     "name": "stdout",
     "output_type": "stream",
     "text": [
      "Train Epoch: 372 [0/2100 (0%)]\tLoss: 0.919464\n",
      "Train Epoch: 373 [0/2100 (0%)]\tLoss: 0.928186\n"
     ]
    },
    {
     "name": "stderr",
     "output_type": "stream",
     "text": [
      "Training Epochs:  37%|███▋      | 374/1000 [01:10<01:56,  5.39it/s]"
     ]
    },
    {
     "name": "stdout",
     "output_type": "stream",
     "text": [
      "Train Epoch: 374 [0/2100 (0%)]\tLoss: 0.900099\n",
      "Train Epoch: 375 [0/2100 (0%)]\tLoss: 0.924800\n"
     ]
    },
    {
     "name": "stderr",
     "output_type": "stream",
     "text": [
      "Training Epochs:  38%|███▊      | 376/1000 [01:11<01:53,  5.52it/s]"
     ]
    },
    {
     "name": "stdout",
     "output_type": "stream",
     "text": [
      "Train Epoch: 376 [0/2100 (0%)]\tLoss: 0.922557\n",
      "Train Epoch: 377 [0/2100 (0%)]\tLoss: 0.877235\n"
     ]
    },
    {
     "name": "stderr",
     "output_type": "stream",
     "text": [
      "Training Epochs:  38%|███▊      | 378/1000 [01:11<01:48,  5.71it/s]"
     ]
    },
    {
     "name": "stdout",
     "output_type": "stream",
     "text": [
      "Train Epoch: 378 [0/2100 (0%)]\tLoss: 0.916878\n",
      "Train Epoch: 379 [0/2100 (0%)]\tLoss: 0.901452\n"
     ]
    },
    {
     "name": "stderr",
     "output_type": "stream",
     "text": [
      "Training Epochs:  38%|███▊      | 380/1000 [01:12<01:57,  5.27it/s]"
     ]
    },
    {
     "name": "stdout",
     "output_type": "stream",
     "text": [
      "Train Epoch: 380 [0/2100 (0%)]\tLoss: 0.909612\n"
     ]
    },
    {
     "name": "stderr",
     "output_type": "stream",
     "text": [
      "Training Epochs:  38%|███▊      | 381/1000 [01:12<01:54,  5.40it/s]"
     ]
    },
    {
     "name": "stdout",
     "output_type": "stream",
     "text": [
      "Train Epoch: 381 [0/2100 (0%)]\tLoss: 0.897054\n",
      "Train Epoch: 382 [0/2100 (0%)]\tLoss: 0.891516\n"
     ]
    },
    {
     "name": "stderr",
     "output_type": "stream",
     "text": [
      "Training Epochs:  38%|███▊      | 383/1000 [01:12<01:55,  5.35it/s]"
     ]
    },
    {
     "name": "stdout",
     "output_type": "stream",
     "text": [
      "Train Epoch: 383 [0/2100 (0%)]\tLoss: 0.888115\n",
      "Train Epoch: 384 [0/2100 (0%)]\tLoss: 0.912137\n"
     ]
    },
    {
     "name": "stderr",
     "output_type": "stream",
     "text": [
      "Training Epochs:  38%|███▊      | 385/1000 [01:12<01:53,  5.40it/s]"
     ]
    },
    {
     "name": "stdout",
     "output_type": "stream",
     "text": [
      "Train Epoch: 385 [0/2100 (0%)]\tLoss: 0.895145\n",
      "Train Epoch: 386 [0/2100 (0%)]\tLoss: 0.900178\n"
     ]
    },
    {
     "name": "stderr",
     "output_type": "stream",
     "text": [
      "Training Epochs:  39%|███▊      | 387/1000 [01:13<01:52,  5.46it/s]"
     ]
    },
    {
     "name": "stdout",
     "output_type": "stream",
     "text": [
      "Train Epoch: 387 [0/2100 (0%)]\tLoss: 0.890294\n",
      "Train Epoch: 388 [0/2100 (0%)]\tLoss: 0.906066\n"
     ]
    },
    {
     "name": "stderr",
     "output_type": "stream",
     "text": [
      "Training Epochs:  39%|███▉      | 389/1000 [01:13<01:50,  5.53it/s]"
     ]
    },
    {
     "name": "stdout",
     "output_type": "stream",
     "text": [
      "Train Epoch: 389 [0/2100 (0%)]\tLoss: 0.894754\n",
      "Train Epoch: 390 [0/2100 (0%)]\tLoss: 0.898105\n"
     ]
    },
    {
     "name": "stderr",
     "output_type": "stream",
     "text": [
      "Training Epochs:  39%|███▉      | 391/1000 [01:14<01:51,  5.46it/s]"
     ]
    },
    {
     "name": "stdout",
     "output_type": "stream",
     "text": [
      "Train Epoch: 391 [0/2100 (0%)]\tLoss: 0.876864\n",
      "Train Epoch: 392 [0/2100 (0%)]\tLoss: 0.897465\n"
     ]
    },
    {
     "name": "stderr",
     "output_type": "stream",
     "text": [
      "Training Epochs:  39%|███▉      | 393/1000 [01:14<01:53,  5.34it/s]"
     ]
    },
    {
     "name": "stdout",
     "output_type": "stream",
     "text": [
      "Train Epoch: 393 [0/2100 (0%)]\tLoss: 0.884289\n",
      "Train Epoch: 394 [0/2100 (0%)]\tLoss: 0.874930\n"
     ]
    },
    {
     "name": "stderr",
     "output_type": "stream",
     "text": [
      "Training Epochs:  40%|███▉      | 395/1000 [01:14<01:50,  5.45it/s]"
     ]
    },
    {
     "name": "stdout",
     "output_type": "stream",
     "text": [
      "Train Epoch: 395 [0/2100 (0%)]\tLoss: 0.889218\n",
      "Train Epoch: 396 [0/2100 (0%)]\tLoss: 0.860473\n"
     ]
    },
    {
     "name": "stderr",
     "output_type": "stream",
     "text": [
      "Training Epochs:  40%|███▉      | 397/1000 [01:15<01:51,  5.42it/s]"
     ]
    },
    {
     "name": "stdout",
     "output_type": "stream",
     "text": [
      "Train Epoch: 397 [0/2100 (0%)]\tLoss: 0.878890\n",
      "Train Epoch: 398 [0/2100 (0%)]\tLoss: 0.894390\n"
     ]
    },
    {
     "name": "stderr",
     "output_type": "stream",
     "text": [
      "Training Epochs:  40%|███▉      | 399/1000 [01:15<01:48,  5.52it/s]"
     ]
    },
    {
     "name": "stdout",
     "output_type": "stream",
     "text": [
      "Train Epoch: 399 [0/2100 (0%)]\tLoss: 0.876567\n",
      "Train Epoch: 400 [0/2100 (0%)]\tLoss: 0.849271\n"
     ]
    },
    {
     "name": "stderr",
     "output_type": "stream",
     "text": [
      "Training Epochs:  40%|████      | 401/1000 [01:15<01:56,  5.13it/s]"
     ]
    },
    {
     "name": "stdout",
     "output_type": "stream",
     "text": [
      "Train Epoch: 401 [0/2100 (0%)]\tLoss: 0.869191\n"
     ]
    },
    {
     "name": "stderr",
     "output_type": "stream",
     "text": [
      "Training Epochs:  40%|████      | 402/1000 [01:16<01:56,  5.13it/s]"
     ]
    },
    {
     "name": "stdout",
     "output_type": "stream",
     "text": [
      "Train Epoch: 402 [0/2100 (0%)]\tLoss: 0.856356\n",
      "Train Epoch: 403 [0/2100 (0%)]\tLoss: 0.877123\n"
     ]
    },
    {
     "name": "stderr",
     "output_type": "stream",
     "text": [
      "Training Epochs:  40%|████      | 404/1000 [01:16<01:49,  5.43it/s]"
     ]
    },
    {
     "name": "stdout",
     "output_type": "stream",
     "text": [
      "Train Epoch: 404 [0/2100 (0%)]\tLoss: 0.857834\n",
      "Train Epoch: 405 [0/2100 (0%)]\tLoss: 0.858665\n"
     ]
    },
    {
     "name": "stderr",
     "output_type": "stream",
     "text": [
      "Training Epochs:  41%|████      | 406/1000 [01:16<01:58,  5.03it/s]"
     ]
    },
    {
     "name": "stdout",
     "output_type": "stream",
     "text": [
      "Train Epoch: 406 [0/2100 (0%)]\tLoss: 0.855782\n"
     ]
    },
    {
     "name": "stderr",
     "output_type": "stream",
     "text": [
      "Training Epochs:  41%|████      | 407/1000 [01:17<01:54,  5.18it/s]"
     ]
    },
    {
     "name": "stdout",
     "output_type": "stream",
     "text": [
      "Train Epoch: 407 [0/2100 (0%)]\tLoss: 0.861078\n",
      "Train Epoch: 408 [0/2100 (0%)]\tLoss: 0.850708\n"
     ]
    },
    {
     "name": "stderr",
     "output_type": "stream",
     "text": [
      "Training Epochs:  41%|████      | 409/1000 [01:17<01:47,  5.50it/s]"
     ]
    },
    {
     "name": "stdout",
     "output_type": "stream",
     "text": [
      "Train Epoch: 409 [0/2100 (0%)]\tLoss: 0.847887\n",
      "Train Epoch: 410 [0/2100 (0%)]\tLoss: 0.856040\n"
     ]
    },
    {
     "name": "stderr",
     "output_type": "stream",
     "text": [
      "Training Epochs:  41%|████      | 411/1000 [01:17<01:49,  5.35it/s]"
     ]
    },
    {
     "name": "stdout",
     "output_type": "stream",
     "text": [
      "Train Epoch: 411 [0/2100 (0%)]\tLoss: 0.840042\n"
     ]
    },
    {
     "name": "stderr",
     "output_type": "stream",
     "text": [
      "Training Epochs:  41%|████      | 412/1000 [01:17<01:53,  5.18it/s]"
     ]
    },
    {
     "name": "stdout",
     "output_type": "stream",
     "text": [
      "Train Epoch: 412 [0/2100 (0%)]\tLoss: 0.853982\n"
     ]
    },
    {
     "name": "stderr",
     "output_type": "stream",
     "text": [
      "Training Epochs:  41%|████▏     | 413/1000 [01:18<01:49,  5.36it/s]"
     ]
    },
    {
     "name": "stdout",
     "output_type": "stream",
     "text": [
      "Train Epoch: 413 [0/2100 (0%)]\tLoss: 0.890236\n",
      "Train Epoch: 414 [0/2100 (0%)]\tLoss: 0.834833\n"
     ]
    },
    {
     "name": "stderr",
     "output_type": "stream",
     "text": [
      "Training Epochs:  42%|████▏     | 415/1000 [01:18<01:47,  5.46it/s]"
     ]
    },
    {
     "name": "stdout",
     "output_type": "stream",
     "text": [
      "Train Epoch: 415 [0/2100 (0%)]\tLoss: 0.854669\n",
      "Train Epoch: 416 [0/2100 (0%)]\tLoss: 0.840121\n"
     ]
    },
    {
     "name": "stderr",
     "output_type": "stream",
     "text": [
      "Training Epochs:  42%|████▏     | 417/1000 [01:18<01:42,  5.70it/s]"
     ]
    },
    {
     "name": "stdout",
     "output_type": "stream",
     "text": [
      "Train Epoch: 417 [0/2100 (0%)]\tLoss: 0.850918\n",
      "Train Epoch: 418 [0/2100 (0%)]\tLoss: 0.849050\n"
     ]
    },
    {
     "name": "stderr",
     "output_type": "stream",
     "text": [
      "Training Epochs:  42%|████▏     | 419/1000 [01:19<01:37,  5.95it/s]"
     ]
    },
    {
     "name": "stdout",
     "output_type": "stream",
     "text": [
      "Train Epoch: 419 [0/2100 (0%)]\tLoss: 0.839236\n",
      "Train Epoch: 420 [0/2100 (0%)]\tLoss: 0.836259\n"
     ]
    },
    {
     "name": "stderr",
     "output_type": "stream",
     "text": [
      "Training Epochs:  42%|████▏     | 421/1000 [01:19<01:38,  5.91it/s]"
     ]
    },
    {
     "name": "stdout",
     "output_type": "stream",
     "text": [
      "Train Epoch: 421 [0/2100 (0%)]\tLoss: 0.852224\n",
      "Train Epoch: 422 [0/2100 (0%)]\tLoss: 0.836766\n"
     ]
    },
    {
     "name": "stderr",
     "output_type": "stream",
     "text": [
      "Training Epochs:  42%|████▏     | 423/1000 [01:19<01:36,  5.95it/s]"
     ]
    },
    {
     "name": "stdout",
     "output_type": "stream",
     "text": [
      "Train Epoch: 423 [0/2100 (0%)]\tLoss: 0.813933\n",
      "Train Epoch: 424 [0/2100 (0%)]\tLoss: 0.834453\n"
     ]
    },
    {
     "name": "stderr",
     "output_type": "stream",
     "text": [
      "Training Epochs:  42%|████▎     | 425/1000 [01:20<01:39,  5.75it/s]"
     ]
    },
    {
     "name": "stdout",
     "output_type": "stream",
     "text": [
      "Train Epoch: 425 [0/2100 (0%)]\tLoss: 0.812905\n",
      "Train Epoch: 426 [0/2100 (0%)]\tLoss: 0.833475\n"
     ]
    },
    {
     "name": "stderr",
     "output_type": "stream",
     "text": [
      "Training Epochs:  43%|████▎     | 427/1000 [01:20<01:38,  5.83it/s]"
     ]
    },
    {
     "name": "stdout",
     "output_type": "stream",
     "text": [
      "Train Epoch: 427 [0/2100 (0%)]\tLoss: 0.835653\n",
      "Train Epoch: 428 [0/2100 (0%)]\tLoss: 0.826551\n"
     ]
    },
    {
     "name": "stderr",
     "output_type": "stream",
     "text": [
      "Training Epochs:  43%|████▎     | 429/1000 [01:20<01:36,  5.90it/s]"
     ]
    },
    {
     "name": "stdout",
     "output_type": "stream",
     "text": [
      "Train Epoch: 429 [0/2100 (0%)]\tLoss: 0.821763\n",
      "Train Epoch: 430 [0/2100 (0%)]\tLoss: 0.812639\n"
     ]
    },
    {
     "name": "stderr",
     "output_type": "stream",
     "text": [
      "Training Epochs:  43%|████▎     | 431/1000 [01:21<01:35,  5.95it/s]"
     ]
    },
    {
     "name": "stdout",
     "output_type": "stream",
     "text": [
      "Train Epoch: 431 [0/2100 (0%)]\tLoss: 0.813903\n",
      "Train Epoch: 432 [0/2100 (0%)]\tLoss: 0.810735\n"
     ]
    },
    {
     "name": "stderr",
     "output_type": "stream",
     "text": [
      "Training Epochs:  43%|████▎     | 433/1000 [01:21<01:34,  6.01it/s]"
     ]
    },
    {
     "name": "stdout",
     "output_type": "stream",
     "text": [
      "Train Epoch: 433 [0/2100 (0%)]\tLoss: 0.823287\n",
      "Train Epoch: 434 [0/2100 (0%)]\tLoss: 0.837723\n"
     ]
    },
    {
     "name": "stderr",
     "output_type": "stream",
     "text": [
      "Training Epochs:  44%|████▎     | 435/1000 [01:21<01:36,  5.86it/s]"
     ]
    },
    {
     "name": "stdout",
     "output_type": "stream",
     "text": [
      "Train Epoch: 435 [0/2100 (0%)]\tLoss: 0.802966\n",
      "Train Epoch: 436 [0/2100 (0%)]\tLoss: 0.840978\n"
     ]
    },
    {
     "name": "stderr",
     "output_type": "stream",
     "text": [
      "Training Epochs:  44%|████▎     | 436/1000 [01:22<01:38,  5.74it/s]"
     ]
    },
    {
     "name": "stdout",
     "output_type": "stream",
     "text": [
      "Train Epoch: 437 [0/2100 (0%)]\tLoss: 0.824991\n"
     ]
    },
    {
     "name": "stderr",
     "output_type": "stream",
     "text": [
      "Training Epochs:  44%|████▍     | 438/1000 [01:22<02:01,  4.64it/s]"
     ]
    },
    {
     "name": "stdout",
     "output_type": "stream",
     "text": [
      "Train Epoch: 438 [0/2100 (0%)]\tLoss: 0.814888\n"
     ]
    },
    {
     "name": "stderr",
     "output_type": "stream",
     "text": [
      "Training Epochs:  44%|████▍     | 439/1000 [01:22<02:00,  4.67it/s]"
     ]
    },
    {
     "name": "stdout",
     "output_type": "stream",
     "text": [
      "Train Epoch: 439 [0/2100 (0%)]\tLoss: 0.815897\n"
     ]
    },
    {
     "name": "stderr",
     "output_type": "stream",
     "text": [
      "Training Epochs:  44%|████▍     | 440/1000 [01:23<01:59,  4.69it/s]"
     ]
    },
    {
     "name": "stdout",
     "output_type": "stream",
     "text": [
      "Train Epoch: 440 [0/2100 (0%)]\tLoss: 0.782844\n"
     ]
    },
    {
     "name": "stderr",
     "output_type": "stream",
     "text": [
      "Training Epochs:  44%|████▍     | 441/1000 [01:23<01:54,  4.88it/s]"
     ]
    },
    {
     "name": "stdout",
     "output_type": "stream",
     "text": [
      "Train Epoch: 441 [0/2100 (0%)]\tLoss: 0.810782\n",
      "Train Epoch: 442 [0/2100 (0%)]\tLoss: 0.807399\n"
     ]
    },
    {
     "name": "stderr",
     "output_type": "stream",
     "text": [
      "Training Epochs:  44%|████▍     | 443/1000 [01:23<01:50,  5.02it/s]"
     ]
    },
    {
     "name": "stdout",
     "output_type": "stream",
     "text": [
      "Train Epoch: 443 [0/2100 (0%)]\tLoss: 0.812066\n",
      "Train Epoch: 444 [0/2100 (0%)]\tLoss: 0.806458\n"
     ]
    },
    {
     "name": "stderr",
     "output_type": "stream",
     "text": [
      "Training Epochs:  44%|████▍     | 445/1000 [01:23<01:52,  4.95it/s]"
     ]
    },
    {
     "name": "stdout",
     "output_type": "stream",
     "text": [
      "Train Epoch: 445 [0/2100 (0%)]\tLoss: 0.811803\n"
     ]
    },
    {
     "name": "stderr",
     "output_type": "stream",
     "text": [
      "Training Epochs:  45%|████▍     | 446/1000 [01:24<01:47,  5.17it/s]"
     ]
    },
    {
     "name": "stdout",
     "output_type": "stream",
     "text": [
      "Train Epoch: 446 [0/2100 (0%)]\tLoss: 0.779537\n",
      "Train Epoch: 447 [0/2100 (0%)]\tLoss: 0.789118\n"
     ]
    },
    {
     "name": "stderr",
     "output_type": "stream",
     "text": [
      "Training Epochs:  45%|████▍     | 448/1000 [01:24<01:41,  5.43it/s]"
     ]
    },
    {
     "name": "stdout",
     "output_type": "stream",
     "text": [
      "Train Epoch: 448 [0/2100 (0%)]\tLoss: 0.781924\n",
      "Train Epoch: 449 [0/2100 (0%)]\tLoss: 0.796718\n"
     ]
    },
    {
     "name": "stderr",
     "output_type": "stream",
     "text": [
      "Training Epochs:  45%|████▌     | 450/1000 [01:24<01:39,  5.52it/s]"
     ]
    },
    {
     "name": "stdout",
     "output_type": "stream",
     "text": [
      "Train Epoch: 450 [0/2100 (0%)]\tLoss: 0.811792\n",
      "Train Epoch: 451 [0/2100 (0%)]\tLoss: 0.811605\n"
     ]
    },
    {
     "name": "stderr",
     "output_type": "stream",
     "text": [
      "Training Epochs:  45%|████▌     | 452/1000 [01:25<01:39,  5.52it/s]"
     ]
    },
    {
     "name": "stdout",
     "output_type": "stream",
     "text": [
      "Train Epoch: 452 [0/2100 (0%)]\tLoss: 0.797474\n",
      "Train Epoch: 453 [0/2100 (0%)]\tLoss: 0.813768\n"
     ]
    },
    {
     "name": "stderr",
     "output_type": "stream",
     "text": [
      "Training Epochs:  45%|████▌     | 454/1000 [01:25<01:39,  5.49it/s]"
     ]
    },
    {
     "name": "stdout",
     "output_type": "stream",
     "text": [
      "Train Epoch: 454 [0/2100 (0%)]\tLoss: 0.783013\n",
      "Train Epoch: 455 [0/2100 (0%)]\tLoss: 0.801394\n"
     ]
    },
    {
     "name": "stderr",
     "output_type": "stream",
     "text": [
      "Training Epochs:  46%|████▌     | 456/1000 [01:25<01:36,  5.63it/s]"
     ]
    },
    {
     "name": "stdout",
     "output_type": "stream",
     "text": [
      "Train Epoch: 456 [0/2100 (0%)]\tLoss: 0.791288\n",
      "Train Epoch: 457 [0/2100 (0%)]\tLoss: 0.795511\n"
     ]
    },
    {
     "name": "stderr",
     "output_type": "stream",
     "text": [
      "Training Epochs:  46%|████▌     | 458/1000 [01:26<01:38,  5.49it/s]"
     ]
    },
    {
     "name": "stdout",
     "output_type": "stream",
     "text": [
      "Train Epoch: 458 [0/2100 (0%)]\tLoss: 0.762106\n",
      "Train Epoch: 459 [0/2100 (0%)]\tLoss: 0.774002\n"
     ]
    },
    {
     "name": "stderr",
     "output_type": "stream",
     "text": [
      "Training Epochs:  46%|████▌     | 460/1000 [01:26<01:37,  5.56it/s]"
     ]
    },
    {
     "name": "stdout",
     "output_type": "stream",
     "text": [
      "Train Epoch: 460 [0/2100 (0%)]\tLoss: 0.790856\n",
      "Train Epoch: 461 [0/2100 (0%)]\tLoss: 0.791276\n"
     ]
    },
    {
     "name": "stderr",
     "output_type": "stream",
     "text": [
      "Training Epochs:  46%|████▌     | 462/1000 [01:27<01:34,  5.67it/s]"
     ]
    },
    {
     "name": "stdout",
     "output_type": "stream",
     "text": [
      "Train Epoch: 462 [0/2100 (0%)]\tLoss: 0.768560\n",
      "Train Epoch: 463 [0/2100 (0%)]\tLoss: 0.764523\n"
     ]
    },
    {
     "name": "stderr",
     "output_type": "stream",
     "text": [
      "Training Epochs:  46%|████▋     | 464/1000 [01:27<01:35,  5.62it/s]"
     ]
    },
    {
     "name": "stdout",
     "output_type": "stream",
     "text": [
      "Train Epoch: 464 [0/2100 (0%)]\tLoss: 0.778925\n",
      "Train Epoch: 465 [0/2100 (0%)]\tLoss: 0.759534\n"
     ]
    },
    {
     "name": "stderr",
     "output_type": "stream",
     "text": [
      "Training Epochs:  47%|████▋     | 466/1000 [01:27<01:33,  5.73it/s]"
     ]
    },
    {
     "name": "stdout",
     "output_type": "stream",
     "text": [
      "Train Epoch: 466 [0/2100 (0%)]\tLoss: 0.806434\n",
      "Train Epoch: 467 [0/2100 (0%)]\tLoss: 0.784964\n"
     ]
    },
    {
     "name": "stderr",
     "output_type": "stream",
     "text": [
      "Training Epochs:  47%|████▋     | 468/1000 [01:28<01:33,  5.71it/s]"
     ]
    },
    {
     "name": "stdout",
     "output_type": "stream",
     "text": [
      "Train Epoch: 468 [0/2100 (0%)]\tLoss: 0.758001\n",
      "Train Epoch: 469 [0/2100 (0%)]\tLoss: 0.783506\n"
     ]
    },
    {
     "name": "stderr",
     "output_type": "stream",
     "text": [
      "Training Epochs:  47%|████▋     | 470/1000 [01:28<01:35,  5.57it/s]"
     ]
    },
    {
     "name": "stdout",
     "output_type": "stream",
     "text": [
      "Train Epoch: 470 [0/2100 (0%)]\tLoss: 0.765007\n",
      "Train Epoch: 471 [0/2100 (0%)]\tLoss: 0.761625\n"
     ]
    },
    {
     "name": "stderr",
     "output_type": "stream",
     "text": [
      "Training Epochs:  47%|████▋     | 472/1000 [01:28<01:36,  5.45it/s]"
     ]
    },
    {
     "name": "stdout",
     "output_type": "stream",
     "text": [
      "Train Epoch: 472 [0/2100 (0%)]\tLoss: 0.785731\n",
      "Train Epoch: 473 [0/2100 (0%)]\tLoss: 0.738163\n"
     ]
    },
    {
     "name": "stderr",
     "output_type": "stream",
     "text": [
      "Training Epochs:  47%|████▋     | 474/1000 [01:29<01:35,  5.51it/s]"
     ]
    },
    {
     "name": "stdout",
     "output_type": "stream",
     "text": [
      "Train Epoch: 474 [0/2100 (0%)]\tLoss: 0.778718\n",
      "Train Epoch: 475 [0/2100 (0%)]\tLoss: 0.764342\n"
     ]
    },
    {
     "name": "stderr",
     "output_type": "stream",
     "text": [
      "Training Epochs:  48%|████▊     | 476/1000 [01:29<01:31,  5.71it/s]"
     ]
    },
    {
     "name": "stdout",
     "output_type": "stream",
     "text": [
      "Train Epoch: 476 [0/2100 (0%)]\tLoss: 0.767120\n",
      "Train Epoch: 477 [0/2100 (0%)]\tLoss: 0.763663\n"
     ]
    },
    {
     "name": "stderr",
     "output_type": "stream",
     "text": [
      "Training Epochs:  48%|████▊     | 478/1000 [01:29<01:32,  5.63it/s]"
     ]
    },
    {
     "name": "stdout",
     "output_type": "stream",
     "text": [
      "Train Epoch: 478 [0/2100 (0%)]\tLoss: 0.778938\n",
      "Train Epoch: 479 [0/2100 (0%)]\tLoss: 0.762405\n"
     ]
    },
    {
     "name": "stderr",
     "output_type": "stream",
     "text": [
      "Training Epochs:  48%|████▊     | 480/1000 [01:30<01:33,  5.57it/s]"
     ]
    },
    {
     "name": "stdout",
     "output_type": "stream",
     "text": [
      "Train Epoch: 480 [0/2100 (0%)]\tLoss: 0.740295\n",
      "Train Epoch: 481 [0/2100 (0%)]\tLoss: 0.770745\n"
     ]
    },
    {
     "name": "stderr",
     "output_type": "stream",
     "text": [
      "Training Epochs:  48%|████▊     | 482/1000 [01:30<01:34,  5.46it/s]"
     ]
    },
    {
     "name": "stdout",
     "output_type": "stream",
     "text": [
      "Train Epoch: 482 [0/2100 (0%)]\tLoss: 0.741781\n",
      "Train Epoch: 483 [0/2100 (0%)]\tLoss: 0.745434\n"
     ]
    },
    {
     "name": "stderr",
     "output_type": "stream",
     "text": [
      "Training Epochs:  48%|████▊     | 484/1000 [01:30<01:34,  5.43it/s]"
     ]
    },
    {
     "name": "stdout",
     "output_type": "stream",
     "text": [
      "Train Epoch: 484 [0/2100 (0%)]\tLoss: 0.743764\n",
      "Train Epoch: 485 [0/2100 (0%)]\tLoss: 0.754547\n"
     ]
    },
    {
     "name": "stderr",
     "output_type": "stream",
     "text": [
      "Training Epochs:  48%|████▊     | 485/1000 [01:31<01:32,  5.55it/s]"
     ]
    },
    {
     "name": "stdout",
     "output_type": "stream",
     "text": [
      "Train Epoch: 486 [0/2100 (0%)]\tLoss: 0.736184\n"
     ]
    },
    {
     "name": "stderr",
     "output_type": "stream",
     "text": [
      "Training Epochs:  49%|████▊     | 487/1000 [01:31<01:37,  5.29it/s]"
     ]
    },
    {
     "name": "stdout",
     "output_type": "stream",
     "text": [
      "Train Epoch: 487 [0/2100 (0%)]\tLoss: 0.752056\n",
      "Train Epoch: 488 [0/2100 (0%)]\tLoss: 0.752386\n"
     ]
    },
    {
     "name": "stderr",
     "output_type": "stream",
     "text": [
      "Training Epochs:  49%|████▉     | 489/1000 [01:31<01:31,  5.56it/s]"
     ]
    },
    {
     "name": "stdout",
     "output_type": "stream",
     "text": [
      "Train Epoch: 489 [0/2100 (0%)]\tLoss: 0.725645\n",
      "Train Epoch: 490 [0/2100 (0%)]\tLoss: 0.736982\n"
     ]
    },
    {
     "name": "stderr",
     "output_type": "stream",
     "text": [
      "Training Epochs:  49%|████▉     | 491/1000 [01:32<01:35,  5.32it/s]"
     ]
    },
    {
     "name": "stdout",
     "output_type": "stream",
     "text": [
      "Train Epoch: 491 [0/2100 (0%)]\tLoss: 0.759700\n",
      "Train Epoch: 492 [0/2100 (0%)]\tLoss: 0.756218\n"
     ]
    },
    {
     "name": "stderr",
     "output_type": "stream",
     "text": [
      "Training Epochs:  49%|████▉     | 493/1000 [01:32<01:31,  5.56it/s]"
     ]
    },
    {
     "name": "stdout",
     "output_type": "stream",
     "text": [
      "Train Epoch: 493 [0/2100 (0%)]\tLoss: 0.736170\n",
      "Train Epoch: 494 [0/2100 (0%)]\tLoss: 0.738137\n"
     ]
    },
    {
     "name": "stderr",
     "output_type": "stream",
     "text": [
      "Training Epochs:  50%|████▉     | 495/1000 [01:32<01:29,  5.63it/s]"
     ]
    },
    {
     "name": "stdout",
     "output_type": "stream",
     "text": [
      "Train Epoch: 495 [0/2100 (0%)]\tLoss: 0.736436\n",
      "Train Epoch: 496 [0/2100 (0%)]\tLoss: 0.729301\n"
     ]
    },
    {
     "name": "stderr",
     "output_type": "stream",
     "text": [
      "Training Epochs:  50%|████▉     | 497/1000 [01:33<01:31,  5.52it/s]"
     ]
    },
    {
     "name": "stdout",
     "output_type": "stream",
     "text": [
      "Train Epoch: 497 [0/2100 (0%)]\tLoss: 0.760929\n",
      "Train Epoch: 498 [0/2100 (0%)]\tLoss: 0.726635\n"
     ]
    },
    {
     "name": "stderr",
     "output_type": "stream",
     "text": [
      "Training Epochs:  50%|████▉     | 499/1000 [01:33<01:30,  5.56it/s]"
     ]
    },
    {
     "name": "stdout",
     "output_type": "stream",
     "text": [
      "Train Epoch: 499 [0/2100 (0%)]\tLoss: 0.721145\n",
      "Train Epoch: 500 [0/2100 (0%)]\tLoss: 0.734611\n"
     ]
    },
    {
     "name": "stderr",
     "output_type": "stream",
     "text": [
      "Training Epochs:  50%|█████     | 501/1000 [01:34<01:27,  5.67it/s]"
     ]
    },
    {
     "name": "stdout",
     "output_type": "stream",
     "text": [
      "Train Epoch: 501 [0/2100 (0%)]\tLoss: 0.716147\n",
      "Train Epoch: 502 [0/2100 (0%)]\tLoss: 0.735930\n"
     ]
    },
    {
     "name": "stderr",
     "output_type": "stream",
     "text": [
      "Training Epochs:  50%|█████     | 503/1000 [01:34<01:25,  5.79it/s]"
     ]
    },
    {
     "name": "stdout",
     "output_type": "stream",
     "text": [
      "Train Epoch: 503 [0/2100 (0%)]\tLoss: 0.744342\n",
      "Train Epoch: 504 [0/2100 (0%)]\tLoss: 0.754798\n"
     ]
    },
    {
     "name": "stderr",
     "output_type": "stream",
     "text": [
      "Training Epochs:  50%|█████     | 504/1000 [01:34<01:26,  5.74it/s]"
     ]
    },
    {
     "name": "stdout",
     "output_type": "stream",
     "text": [
      "Train Epoch: 505 [0/2100 (0%)]\tLoss: 0.724702\n"
     ]
    },
    {
     "name": "stderr",
     "output_type": "stream",
     "text": [
      "Training Epochs:  51%|█████     | 506/1000 [01:35<01:44,  4.73it/s]"
     ]
    },
    {
     "name": "stdout",
     "output_type": "stream",
     "text": [
      "Train Epoch: 506 [0/2100 (0%)]\tLoss: 0.734470\n"
     ]
    },
    {
     "name": "stderr",
     "output_type": "stream",
     "text": [
      "Training Epochs:  51%|█████     | 507/1000 [01:35<01:39,  4.95it/s]"
     ]
    },
    {
     "name": "stdout",
     "output_type": "stream",
     "text": [
      "Train Epoch: 507 [0/2100 (0%)]\tLoss: 0.713291\n",
      "Train Epoch: 508 [0/2100 (0%)]\tLoss: 0.714205\n"
     ]
    },
    {
     "name": "stderr",
     "output_type": "stream",
     "text": [
      "Training Epochs:  51%|█████     | 509/1000 [01:35<01:33,  5.23it/s]"
     ]
    },
    {
     "name": "stdout",
     "output_type": "stream",
     "text": [
      "Train Epoch: 509 [0/2100 (0%)]\tLoss: 0.731615\n",
      "Train Epoch: 510 [0/2100 (0%)]\tLoss: 0.710842\n"
     ]
    },
    {
     "name": "stderr",
     "output_type": "stream",
     "text": [
      "Training Epochs:  51%|█████     | 511/1000 [01:35<01:30,  5.39it/s]"
     ]
    },
    {
     "name": "stdout",
     "output_type": "stream",
     "text": [
      "Train Epoch: 511 [0/2100 (0%)]\tLoss: 0.708452\n",
      "Train Epoch: 512 [0/2100 (0%)]\tLoss: 0.701368\n"
     ]
    },
    {
     "name": "stderr",
     "output_type": "stream",
     "text": [
      "Training Epochs:  51%|█████▏    | 513/1000 [01:36<01:28,  5.50it/s]"
     ]
    },
    {
     "name": "stdout",
     "output_type": "stream",
     "text": [
      "Train Epoch: 513 [0/2100 (0%)]\tLoss: 0.694916\n",
      "Train Epoch: 514 [0/2100 (0%)]\tLoss: 0.741164\n"
     ]
    },
    {
     "name": "stderr",
     "output_type": "stream",
     "text": [
      "Training Epochs:  52%|█████▏    | 515/1000 [01:36<01:27,  5.53it/s]"
     ]
    },
    {
     "name": "stdout",
     "output_type": "stream",
     "text": [
      "Train Epoch: 515 [0/2100 (0%)]\tLoss: 0.723314\n",
      "Train Epoch: 516 [0/2100 (0%)]\tLoss: 0.735148\n"
     ]
    },
    {
     "name": "stderr",
     "output_type": "stream",
     "text": [
      "Training Epochs:  52%|█████▏    | 517/1000 [01:37<01:32,  5.25it/s]"
     ]
    },
    {
     "name": "stdout",
     "output_type": "stream",
     "text": [
      "Train Epoch: 517 [0/2100 (0%)]\tLoss: 0.729908\n",
      "Train Epoch: 518 [0/2100 (0%)]\tLoss: 0.701767\n"
     ]
    },
    {
     "name": "stderr",
     "output_type": "stream",
     "text": [
      "Training Epochs:  52%|█████▏    | 519/1000 [01:37<01:28,  5.44it/s]"
     ]
    },
    {
     "name": "stdout",
     "output_type": "stream",
     "text": [
      "Train Epoch: 519 [0/2100 (0%)]\tLoss: 0.711226\n",
      "Train Epoch: 520 [0/2100 (0%)]\tLoss: 0.713830\n"
     ]
    },
    {
     "name": "stderr",
     "output_type": "stream",
     "text": [
      "Training Epochs:  52%|█████▏    | 521/1000 [01:37<01:24,  5.70it/s]"
     ]
    },
    {
     "name": "stdout",
     "output_type": "stream",
     "text": [
      "Train Epoch: 521 [0/2100 (0%)]\tLoss: 0.701690\n",
      "Train Epoch: 522 [0/2100 (0%)]\tLoss: 0.710643\n"
     ]
    },
    {
     "name": "stderr",
     "output_type": "stream",
     "text": [
      "Training Epochs:  52%|█████▏    | 523/1000 [01:38<01:29,  5.31it/s]"
     ]
    },
    {
     "name": "stdout",
     "output_type": "stream",
     "text": [
      "Train Epoch: 523 [0/2100 (0%)]\tLoss: 0.723782\n",
      "Train Epoch: 524 [0/2100 (0%)]\tLoss: 0.706929\n"
     ]
    },
    {
     "name": "stderr",
     "output_type": "stream",
     "text": [
      "Training Epochs:  52%|█████▎    | 525/1000 [01:38<01:27,  5.44it/s]"
     ]
    },
    {
     "name": "stdout",
     "output_type": "stream",
     "text": [
      "Train Epoch: 525 [0/2100 (0%)]\tLoss: 0.712343\n",
      "Train Epoch: 526 [0/2100 (0%)]\tLoss: 0.703291\n"
     ]
    },
    {
     "name": "stderr",
     "output_type": "stream",
     "text": [
      "Training Epochs:  53%|█████▎    | 527/1000 [01:38<01:23,  5.69it/s]"
     ]
    },
    {
     "name": "stdout",
     "output_type": "stream",
     "text": [
      "Train Epoch: 527 [0/2100 (0%)]\tLoss: 0.695891\n",
      "Train Epoch: 528 [0/2100 (0%)]\tLoss: 0.706931\n"
     ]
    },
    {
     "name": "stderr",
     "output_type": "stream",
     "text": [
      "Training Epochs:  53%|█████▎    | 529/1000 [01:39<01:25,  5.50it/s]"
     ]
    },
    {
     "name": "stdout",
     "output_type": "stream",
     "text": [
      "Train Epoch: 529 [0/2100 (0%)]\tLoss: 0.724242\n",
      "Train Epoch: 530 [0/2100 (0%)]\tLoss: 0.683368\n"
     ]
    },
    {
     "name": "stderr",
     "output_type": "stream",
     "text": [
      "Training Epochs:  53%|█████▎    | 531/1000 [01:39<01:23,  5.64it/s]"
     ]
    },
    {
     "name": "stdout",
     "output_type": "stream",
     "text": [
      "Train Epoch: 531 [0/2100 (0%)]\tLoss: 0.699611\n",
      "Train Epoch: 532 [0/2100 (0%)]\tLoss: 0.682420\n"
     ]
    },
    {
     "name": "stderr",
     "output_type": "stream",
     "text": [
      "Training Epochs:  53%|█████▎    | 533/1000 [01:39<01:22,  5.63it/s]"
     ]
    },
    {
     "name": "stdout",
     "output_type": "stream",
     "text": [
      "Train Epoch: 533 [0/2100 (0%)]\tLoss: 0.689596\n",
      "Train Epoch: 534 [0/2100 (0%)]\tLoss: 0.690566\n"
     ]
    },
    {
     "name": "stderr",
     "output_type": "stream",
     "text": [
      "Training Epochs:  54%|█████▎    | 535/1000 [01:40<01:21,  5.72it/s]"
     ]
    },
    {
     "name": "stdout",
     "output_type": "stream",
     "text": [
      "Train Epoch: 535 [0/2100 (0%)]\tLoss: 0.687687\n",
      "Train Epoch: 536 [0/2100 (0%)]\tLoss: 0.680008\n"
     ]
    },
    {
     "name": "stderr",
     "output_type": "stream",
     "text": [
      "Training Epochs:  54%|█████▎    | 537/1000 [01:40<01:21,  5.70it/s]"
     ]
    },
    {
     "name": "stdout",
     "output_type": "stream",
     "text": [
      "Train Epoch: 537 [0/2100 (0%)]\tLoss: 0.700371\n",
      "Train Epoch: 538 [0/2100 (0%)]\tLoss: 0.703784\n"
     ]
    },
    {
     "name": "stderr",
     "output_type": "stream",
     "text": [
      "Training Epochs:  54%|█████▍    | 539/1000 [01:41<01:19,  5.82it/s]"
     ]
    },
    {
     "name": "stdout",
     "output_type": "stream",
     "text": [
      "Train Epoch: 539 [0/2100 (0%)]\tLoss: 0.694244\n",
      "Train Epoch: 540 [0/2100 (0%)]\tLoss: 0.694754\n"
     ]
    },
    {
     "name": "stderr",
     "output_type": "stream",
     "text": [
      "Training Epochs:  54%|█████▍    | 541/1000 [01:41<01:20,  5.71it/s]"
     ]
    },
    {
     "name": "stdout",
     "output_type": "stream",
     "text": [
      "Train Epoch: 541 [0/2100 (0%)]\tLoss: 0.676219\n",
      "Train Epoch: 542 [0/2100 (0%)]\tLoss: 0.683312\n"
     ]
    },
    {
     "name": "stderr",
     "output_type": "stream",
     "text": [
      "Training Epochs:  54%|█████▍    | 543/1000 [01:41<01:19,  5.75it/s]"
     ]
    },
    {
     "name": "stdout",
     "output_type": "stream",
     "text": [
      "Train Epoch: 543 [0/2100 (0%)]\tLoss: 0.695568\n",
      "Train Epoch: 544 [0/2100 (0%)]\tLoss: 0.679137\n"
     ]
    },
    {
     "name": "stderr",
     "output_type": "stream",
     "text": [
      "Training Epochs:  55%|█████▍    | 545/1000 [01:42<01:20,  5.68it/s]"
     ]
    },
    {
     "name": "stdout",
     "output_type": "stream",
     "text": [
      "Train Epoch: 545 [0/2100 (0%)]\tLoss: 0.679015\n",
      "Train Epoch: 546 [0/2100 (0%)]\tLoss: 0.693819\n"
     ]
    },
    {
     "name": "stderr",
     "output_type": "stream",
     "text": [
      "Training Epochs:  55%|█████▍    | 547/1000 [01:42<01:19,  5.70it/s]"
     ]
    },
    {
     "name": "stdout",
     "output_type": "stream",
     "text": [
      "Train Epoch: 547 [0/2100 (0%)]\tLoss: 0.689943\n",
      "Train Epoch: 548 [0/2100 (0%)]\tLoss: 0.653688\n"
     ]
    },
    {
     "name": "stderr",
     "output_type": "stream",
     "text": [
      "Training Epochs:  55%|█████▍    | 549/1000 [01:42<01:20,  5.64it/s]"
     ]
    },
    {
     "name": "stdout",
     "output_type": "stream",
     "text": [
      "Train Epoch: 549 [0/2100 (0%)]\tLoss: 0.682850\n",
      "Train Epoch: 550 [0/2100 (0%)]\tLoss: 0.667830\n"
     ]
    },
    {
     "name": "stderr",
     "output_type": "stream",
     "text": [
      "Training Epochs:  55%|█████▌    | 551/1000 [01:43<01:20,  5.61it/s]"
     ]
    },
    {
     "name": "stdout",
     "output_type": "stream",
     "text": [
      "Train Epoch: 551 [0/2100 (0%)]\tLoss: 0.664198\n",
      "Train Epoch: 552 [0/2100 (0%)]\tLoss: 0.668805\n"
     ]
    },
    {
     "name": "stderr",
     "output_type": "stream",
     "text": [
      "Training Epochs:  55%|█████▌    | 553/1000 [01:43<01:18,  5.70it/s]"
     ]
    },
    {
     "name": "stdout",
     "output_type": "stream",
     "text": [
      "Train Epoch: 553 [0/2100 (0%)]\tLoss: 0.683603\n",
      "Train Epoch: 554 [0/2100 (0%)]\tLoss: 0.692812\n"
     ]
    },
    {
     "name": "stderr",
     "output_type": "stream",
     "text": [
      "Training Epochs:  55%|█████▌    | 554/1000 [01:43<01:23,  5.33it/s]"
     ]
    },
    {
     "name": "stdout",
     "output_type": "stream",
     "text": [
      "Train Epoch: 555 [0/2100 (0%)]\tLoss: 0.688606\n"
     ]
    },
    {
     "name": "stderr",
     "output_type": "stream",
     "text": [
      "Training Epochs:  56%|█████▌    | 556/1000 [01:44<01:26,  5.13it/s]"
     ]
    },
    {
     "name": "stdout",
     "output_type": "stream",
     "text": [
      "Train Epoch: 556 [0/2100 (0%)]\tLoss: 0.677345\n",
      "Train Epoch: 557 [0/2100 (0%)]\tLoss: 0.669067\n"
     ]
    },
    {
     "name": "stderr",
     "output_type": "stream",
     "text": [
      "Training Epochs:  56%|█████▌    | 558/1000 [01:44<01:21,  5.42it/s]"
     ]
    },
    {
     "name": "stdout",
     "output_type": "stream",
     "text": [
      "Train Epoch: 558 [0/2100 (0%)]\tLoss: 0.672372\n",
      "Train Epoch: 559 [0/2100 (0%)]\tLoss: 0.647901\n"
     ]
    },
    {
     "name": "stderr",
     "output_type": "stream",
     "text": [
      "Training Epochs:  56%|█████▌    | 560/1000 [01:44<01:18,  5.64it/s]"
     ]
    },
    {
     "name": "stdout",
     "output_type": "stream",
     "text": [
      "Train Epoch: 560 [0/2100 (0%)]\tLoss: 0.678101\n",
      "Train Epoch: 561 [0/2100 (0%)]\tLoss: 0.687088\n"
     ]
    },
    {
     "name": "stderr",
     "output_type": "stream",
     "text": [
      "Training Epochs:  56%|█████▌    | 562/1000 [01:45<01:21,  5.37it/s]"
     ]
    },
    {
     "name": "stdout",
     "output_type": "stream",
     "text": [
      "Train Epoch: 562 [0/2100 (0%)]\tLoss: 0.667745\n",
      "Train Epoch: 563 [0/2100 (0%)]\tLoss: 0.657284\n"
     ]
    },
    {
     "name": "stderr",
     "output_type": "stream",
     "text": [
      "Training Epochs:  56%|█████▋    | 564/1000 [01:45<01:20,  5.41it/s]"
     ]
    },
    {
     "name": "stdout",
     "output_type": "stream",
     "text": [
      "Train Epoch: 564 [0/2100 (0%)]\tLoss: 0.661651\n",
      "Train Epoch: 565 [0/2100 (0%)]\tLoss: 0.669848\n"
     ]
    },
    {
     "name": "stderr",
     "output_type": "stream",
     "text": [
      "Training Epochs:  57%|█████▋    | 566/1000 [01:45<01:17,  5.61it/s]"
     ]
    },
    {
     "name": "stdout",
     "output_type": "stream",
     "text": [
      "Train Epoch: 566 [0/2100 (0%)]\tLoss: 0.676158\n",
      "Train Epoch: 567 [0/2100 (0%)]\tLoss: 0.676232\n"
     ]
    },
    {
     "name": "stderr",
     "output_type": "stream",
     "text": [
      "Training Epochs:  57%|█████▋    | 568/1000 [01:46<01:16,  5.65it/s]"
     ]
    },
    {
     "name": "stdout",
     "output_type": "stream",
     "text": [
      "Train Epoch: 568 [0/2100 (0%)]\tLoss: 0.657481\n",
      "Train Epoch: 569 [0/2100 (0%)]\tLoss: 0.647044\n"
     ]
    },
    {
     "name": "stderr",
     "output_type": "stream",
     "text": [
      "Training Epochs:  57%|█████▋    | 570/1000 [01:46<01:14,  5.75it/s]"
     ]
    },
    {
     "name": "stdout",
     "output_type": "stream",
     "text": [
      "Train Epoch: 570 [0/2100 (0%)]\tLoss: 0.666496\n",
      "Train Epoch: 571 [0/2100 (0%)]\tLoss: 0.652508\n"
     ]
    },
    {
     "name": "stderr",
     "output_type": "stream",
     "text": [
      "Training Epochs:  57%|█████▋    | 572/1000 [01:46<01:14,  5.72it/s]"
     ]
    },
    {
     "name": "stdout",
     "output_type": "stream",
     "text": [
      "Train Epoch: 572 [0/2100 (0%)]\tLoss: 0.652899\n"
     ]
    },
    {
     "name": "stderr",
     "output_type": "stream",
     "text": [
      "Training Epochs:  57%|█████▋    | 573/1000 [01:47<01:35,  4.49it/s]"
     ]
    },
    {
     "name": "stdout",
     "output_type": "stream",
     "text": [
      "Train Epoch: 573 [0/2100 (0%)]\tLoss: 0.663760\n",
      "Train Epoch: 574 [0/2100 (0%)]\tLoss: 0.643787\n"
     ]
    },
    {
     "name": "stderr",
     "output_type": "stream",
     "text": [
      "Training Epochs:  57%|█████▊    | 575/1000 [01:47<01:24,  5.00it/s]"
     ]
    },
    {
     "name": "stdout",
     "output_type": "stream",
     "text": [
      "Train Epoch: 575 [0/2100 (0%)]\tLoss: 0.647280\n",
      "Train Epoch: 576 [0/2100 (0%)]\tLoss: 0.659821\n"
     ]
    },
    {
     "name": "stderr",
     "output_type": "stream",
     "text": [
      "Training Epochs:  58%|█████▊    | 577/1000 [01:48<01:19,  5.33it/s]"
     ]
    },
    {
     "name": "stdout",
     "output_type": "stream",
     "text": [
      "Train Epoch: 577 [0/2100 (0%)]\tLoss: 0.641774\n",
      "Train Epoch: 578 [0/2100 (0%)]\tLoss: 0.685246\n"
     ]
    },
    {
     "name": "stderr",
     "output_type": "stream",
     "text": [
      "Training Epochs:  58%|█████▊    | 579/1000 [01:48<01:16,  5.47it/s]"
     ]
    },
    {
     "name": "stdout",
     "output_type": "stream",
     "text": [
      "Train Epoch: 579 [0/2100 (0%)]\tLoss: 0.635014\n",
      "Train Epoch: 580 [0/2100 (0%)]\tLoss: 0.666918\n"
     ]
    },
    {
     "name": "stderr",
     "output_type": "stream",
     "text": [
      "Training Epochs:  58%|█████▊    | 581/1000 [01:48<01:13,  5.72it/s]"
     ]
    },
    {
     "name": "stdout",
     "output_type": "stream",
     "text": [
      "Train Epoch: 581 [0/2100 (0%)]\tLoss: 0.660694\n",
      "Train Epoch: 582 [0/2100 (0%)]\tLoss: 0.637273\n"
     ]
    },
    {
     "name": "stderr",
     "output_type": "stream",
     "text": [
      "Training Epochs:  58%|█████▊    | 583/1000 [01:49<01:11,  5.81it/s]"
     ]
    },
    {
     "name": "stdout",
     "output_type": "stream",
     "text": [
      "Train Epoch: 583 [0/2100 (0%)]\tLoss: 0.652186\n",
      "Train Epoch: 584 [0/2100 (0%)]\tLoss: 0.634102\n"
     ]
    },
    {
     "name": "stderr",
     "output_type": "stream",
     "text": [
      "Training Epochs:  58%|█████▊    | 585/1000 [01:49<01:12,  5.74it/s]"
     ]
    },
    {
     "name": "stdout",
     "output_type": "stream",
     "text": [
      "Train Epoch: 585 [0/2100 (0%)]\tLoss: 0.663149\n",
      "Train Epoch: 586 [0/2100 (0%)]\tLoss: 0.639235\n"
     ]
    },
    {
     "name": "stderr",
     "output_type": "stream",
     "text": [
      "Training Epochs:  59%|█████▊    | 587/1000 [01:49<01:13,  5.62it/s]"
     ]
    },
    {
     "name": "stdout",
     "output_type": "stream",
     "text": [
      "Train Epoch: 587 [0/2100 (0%)]\tLoss: 0.643804\n",
      "Train Epoch: 588 [0/2100 (0%)]\tLoss: 0.660076\n"
     ]
    },
    {
     "name": "stderr",
     "output_type": "stream",
     "text": [
      "Training Epochs:  59%|█████▉    | 589/1000 [01:50<01:18,  5.26it/s]"
     ]
    },
    {
     "name": "stdout",
     "output_type": "stream",
     "text": [
      "Train Epoch: 589 [0/2100 (0%)]\tLoss: 0.688371\n"
     ]
    },
    {
     "name": "stderr",
     "output_type": "stream",
     "text": [
      "Training Epochs:  59%|█████▉    | 590/1000 [01:50<01:15,  5.45it/s]"
     ]
    },
    {
     "name": "stdout",
     "output_type": "stream",
     "text": [
      "Train Epoch: 590 [0/2100 (0%)]\tLoss: 0.641007\n",
      "Train Epoch: 591 [0/2100 (0%)]\tLoss: 0.640665\n"
     ]
    },
    {
     "name": "stderr",
     "output_type": "stream",
     "text": [
      "Training Epochs:  59%|█████▉    | 592/1000 [01:50<01:13,  5.53it/s]"
     ]
    },
    {
     "name": "stdout",
     "output_type": "stream",
     "text": [
      "Train Epoch: 592 [0/2100 (0%)]\tLoss: 0.652057\n",
      "Train Epoch: 593 [0/2100 (0%)]\tLoss: 0.665671\n"
     ]
    },
    {
     "name": "stderr",
     "output_type": "stream",
     "text": [
      "Training Epochs:  59%|█████▉    | 594/1000 [01:51<01:11,  5.65it/s]"
     ]
    },
    {
     "name": "stdout",
     "output_type": "stream",
     "text": [
      "Train Epoch: 594 [0/2100 (0%)]\tLoss: 0.640319\n",
      "Train Epoch: 595 [0/2100 (0%)]\tLoss: 0.658597\n"
     ]
    },
    {
     "name": "stderr",
     "output_type": "stream",
     "text": [
      "Training Epochs:  60%|█████▉    | 596/1000 [01:51<01:09,  5.81it/s]"
     ]
    },
    {
     "name": "stdout",
     "output_type": "stream",
     "text": [
      "Train Epoch: 596 [0/2100 (0%)]\tLoss: 0.645053\n",
      "Train Epoch: 597 [0/2100 (0%)]\tLoss: 0.645090\n"
     ]
    },
    {
     "name": "stderr",
     "output_type": "stream",
     "text": [
      "Training Epochs:  60%|█████▉    | 598/1000 [01:51<01:09,  5.82it/s]"
     ]
    },
    {
     "name": "stdout",
     "output_type": "stream",
     "text": [
      "Train Epoch: 598 [0/2100 (0%)]\tLoss: 0.614782\n",
      "Train Epoch: 599 [0/2100 (0%)]\tLoss: 0.631463\n"
     ]
    },
    {
     "name": "stderr",
     "output_type": "stream",
     "text": [
      "Training Epochs:  60%|██████    | 600/1000 [01:52<01:07,  5.91it/s]"
     ]
    },
    {
     "name": "stdout",
     "output_type": "stream",
     "text": [
      "Train Epoch: 600 [0/2100 (0%)]\tLoss: 0.645056\n",
      "Train Epoch: 601 [0/2100 (0%)]\tLoss: 0.637089\n"
     ]
    },
    {
     "name": "stderr",
     "output_type": "stream",
     "text": [
      "Training Epochs:  60%|██████    | 602/1000 [01:52<01:09,  5.76it/s]"
     ]
    },
    {
     "name": "stdout",
     "output_type": "stream",
     "text": [
      "Train Epoch: 602 [0/2100 (0%)]\tLoss: 0.646912\n",
      "Train Epoch: 603 [0/2100 (0%)]\tLoss: 0.635342\n"
     ]
    },
    {
     "name": "stderr",
     "output_type": "stream",
     "text": [
      "Training Epochs:  60%|██████    | 604/1000 [01:52<01:10,  5.64it/s]"
     ]
    },
    {
     "name": "stdout",
     "output_type": "stream",
     "text": [
      "Train Epoch: 604 [0/2100 (0%)]\tLoss: 0.631847\n",
      "Train Epoch: 605 [0/2100 (0%)]\tLoss: 0.630314\n"
     ]
    },
    {
     "name": "stderr",
     "output_type": "stream",
     "text": [
      "Training Epochs:  61%|██████    | 606/1000 [01:53<01:09,  5.69it/s]"
     ]
    },
    {
     "name": "stdout",
     "output_type": "stream",
     "text": [
      "Train Epoch: 606 [0/2100 (0%)]\tLoss: 0.647975\n",
      "Train Epoch: 607 [0/2100 (0%)]\tLoss: 0.630225\n"
     ]
    },
    {
     "name": "stderr",
     "output_type": "stream",
     "text": [
      "Training Epochs:  61%|██████    | 608/1000 [01:53<01:10,  5.56it/s]"
     ]
    },
    {
     "name": "stdout",
     "output_type": "stream",
     "text": [
      "Train Epoch: 608 [0/2100 (0%)]\tLoss: 0.633018\n",
      "Train Epoch: 609 [0/2100 (0%)]\tLoss: 0.631757\n"
     ]
    },
    {
     "name": "stderr",
     "output_type": "stream",
     "text": [
      "Training Epochs:  61%|██████    | 610/1000 [01:53<01:09,  5.64it/s]"
     ]
    },
    {
     "name": "stdout",
     "output_type": "stream",
     "text": [
      "Train Epoch: 610 [0/2100 (0%)]\tLoss: 0.653078\n",
      "Train Epoch: 611 [0/2100 (0%)]\tLoss: 0.623969\n"
     ]
    },
    {
     "name": "stderr",
     "output_type": "stream",
     "text": [
      "Training Epochs:  61%|██████    | 612/1000 [01:54<01:10,  5.53it/s]"
     ]
    },
    {
     "name": "stdout",
     "output_type": "stream",
     "text": [
      "Train Epoch: 612 [0/2100 (0%)]\tLoss: 0.625359\n",
      "Train Epoch: 613 [0/2100 (0%)]\tLoss: 0.653440\n"
     ]
    },
    {
     "name": "stderr",
     "output_type": "stream",
     "text": [
      "Training Epochs:  61%|██████▏   | 614/1000 [01:54<01:07,  5.71it/s]"
     ]
    },
    {
     "name": "stdout",
     "output_type": "stream",
     "text": [
      "Train Epoch: 614 [0/2100 (0%)]\tLoss: 0.643176\n",
      "Train Epoch: 615 [0/2100 (0%)]\tLoss: 0.621351\n"
     ]
    },
    {
     "name": "stderr",
     "output_type": "stream",
     "text": [
      "Training Epochs:  62%|██████▏   | 616/1000 [01:54<01:08,  5.64it/s]"
     ]
    },
    {
     "name": "stdout",
     "output_type": "stream",
     "text": [
      "Train Epoch: 616 [0/2100 (0%)]\tLoss: 0.608731\n",
      "Train Epoch: 617 [0/2100 (0%)]\tLoss: 0.625119\n"
     ]
    },
    {
     "name": "stderr",
     "output_type": "stream",
     "text": [
      "Training Epochs:  62%|██████▏   | 618/1000 [01:55<01:07,  5.69it/s]"
     ]
    },
    {
     "name": "stdout",
     "output_type": "stream",
     "text": [
      "Train Epoch: 618 [0/2100 (0%)]\tLoss: 0.637759\n",
      "Train Epoch: 619 [0/2100 (0%)]\tLoss: 0.606880\n"
     ]
    },
    {
     "name": "stderr",
     "output_type": "stream",
     "text": [
      "Training Epochs:  62%|██████▏   | 620/1000 [01:55<01:06,  5.71it/s]"
     ]
    },
    {
     "name": "stdout",
     "output_type": "stream",
     "text": [
      "Train Epoch: 620 [0/2100 (0%)]\tLoss: 0.601101\n",
      "Train Epoch: 621 [0/2100 (0%)]\tLoss: 0.598948\n"
     ]
    },
    {
     "name": "stderr",
     "output_type": "stream",
     "text": [
      "Training Epochs:  62%|██████▏   | 622/1000 [01:55<01:10,  5.33it/s]"
     ]
    },
    {
     "name": "stdout",
     "output_type": "stream",
     "text": [
      "Train Epoch: 622 [0/2100 (0%)]\tLoss: 0.623614\n"
     ]
    },
    {
     "name": "stderr",
     "output_type": "stream",
     "text": [
      "Training Epochs:  62%|██████▏   | 623/1000 [01:56<01:09,  5.40it/s]"
     ]
    },
    {
     "name": "stdout",
     "output_type": "stream",
     "text": [
      "Train Epoch: 623 [0/2100 (0%)]\tLoss: 0.624881\n",
      "Train Epoch: 624 [0/2100 (0%)]\tLoss: 0.630270\n"
     ]
    },
    {
     "name": "stderr",
     "output_type": "stream",
     "text": [
      "Training Epochs:  62%|██████▎   | 625/1000 [01:56<01:10,  5.31it/s]"
     ]
    },
    {
     "name": "stdout",
     "output_type": "stream",
     "text": [
      "Train Epoch: 625 [0/2100 (0%)]\tLoss: 0.605408\n",
      "Train Epoch: 626 [0/2100 (0%)]\tLoss: 0.620024\n"
     ]
    },
    {
     "name": "stderr",
     "output_type": "stream",
     "text": [
      "Training Epochs:  63%|██████▎   | 627/1000 [01:56<01:08,  5.46it/s]"
     ]
    },
    {
     "name": "stdout",
     "output_type": "stream",
     "text": [
      "Train Epoch: 627 [0/2100 (0%)]\tLoss: 0.641291\n",
      "Train Epoch: 628 [0/2100 (0%)]\tLoss: 0.596422\n"
     ]
    },
    {
     "name": "stderr",
     "output_type": "stream",
     "text": [
      "Training Epochs:  63%|██████▎   | 629/1000 [01:57<01:08,  5.41it/s]"
     ]
    },
    {
     "name": "stdout",
     "output_type": "stream",
     "text": [
      "Train Epoch: 629 [0/2100 (0%)]\tLoss: 0.620095\n",
      "Train Epoch: 630 [0/2100 (0%)]\tLoss: 0.590325\n"
     ]
    },
    {
     "name": "stderr",
     "output_type": "stream",
     "text": [
      "Training Epochs:  63%|██████▎   | 631/1000 [01:57<01:06,  5.51it/s]"
     ]
    },
    {
     "name": "stdout",
     "output_type": "stream",
     "text": [
      "Train Epoch: 631 [0/2100 (0%)]\tLoss: 0.635475\n",
      "Train Epoch: 632 [0/2100 (0%)]\tLoss: 0.631562\n"
     ]
    },
    {
     "name": "stderr",
     "output_type": "stream",
     "text": [
      "Training Epochs:  63%|██████▎   | 633/1000 [01:57<01:04,  5.65it/s]"
     ]
    },
    {
     "name": "stdout",
     "output_type": "stream",
     "text": [
      "Train Epoch: 633 [0/2100 (0%)]\tLoss: 0.603063\n",
      "Train Epoch: 634 [0/2100 (0%)]\tLoss: 0.608482\n"
     ]
    },
    {
     "name": "stderr",
     "output_type": "stream",
     "text": [
      "Training Epochs:  64%|██████▎   | 635/1000 [01:58<01:03,  5.74it/s]"
     ]
    },
    {
     "name": "stdout",
     "output_type": "stream",
     "text": [
      "Train Epoch: 635 [0/2100 (0%)]\tLoss: 0.603236\n",
      "Train Epoch: 636 [0/2100 (0%)]\tLoss: 0.615197\n"
     ]
    },
    {
     "name": "stderr",
     "output_type": "stream",
     "text": [
      "Training Epochs:  64%|██████▎   | 637/1000 [01:58<01:05,  5.51it/s]"
     ]
    },
    {
     "name": "stdout",
     "output_type": "stream",
     "text": [
      "Train Epoch: 637 [0/2100 (0%)]\tLoss: 0.600909\n",
      "Train Epoch: 638 [0/2100 (0%)]\tLoss: 0.613510\n"
     ]
    },
    {
     "name": "stderr",
     "output_type": "stream",
     "text": [
      "Training Epochs:  64%|██████▍   | 639/1000 [01:59<01:07,  5.37it/s]"
     ]
    },
    {
     "name": "stdout",
     "output_type": "stream",
     "text": [
      "Train Epoch: 639 [0/2100 (0%)]\tLoss: 0.606989\n",
      "Train Epoch: 640 [0/2100 (0%)]\tLoss: 0.614180\n"
     ]
    },
    {
     "name": "stderr",
     "output_type": "stream",
     "text": [
      "Training Epochs:  64%|██████▍   | 641/1000 [01:59<01:19,  4.53it/s]"
     ]
    },
    {
     "name": "stdout",
     "output_type": "stream",
     "text": [
      "Train Epoch: 641 [0/2100 (0%)]\tLoss: 0.635181\n",
      "Train Epoch: 642 [0/2100 (0%)]\tLoss: 0.610789\n"
     ]
    },
    {
     "name": "stderr",
     "output_type": "stream",
     "text": [
      "Training Epochs:  64%|██████▍   | 643/1000 [02:00<01:15,  4.70it/s]"
     ]
    },
    {
     "name": "stdout",
     "output_type": "stream",
     "text": [
      "Train Epoch: 643 [0/2100 (0%)]\tLoss: 0.611188\n"
     ]
    },
    {
     "name": "stderr",
     "output_type": "stream",
     "text": [
      "Training Epochs:  64%|██████▍   | 644/1000 [02:00<01:15,  4.69it/s]"
     ]
    },
    {
     "name": "stdout",
     "output_type": "stream",
     "text": [
      "Train Epoch: 644 [0/2100 (0%)]\tLoss: 0.616671\n"
     ]
    },
    {
     "name": "stderr",
     "output_type": "stream",
     "text": [
      "Training Epochs:  64%|██████▍   | 645/1000 [02:00<01:15,  4.68it/s]"
     ]
    },
    {
     "name": "stdout",
     "output_type": "stream",
     "text": [
      "Train Epoch: 645 [0/2100 (0%)]\tLoss: 0.631169\n"
     ]
    },
    {
     "name": "stderr",
     "output_type": "stream",
     "text": [
      "Training Epochs:  65%|██████▍   | 646/1000 [02:00<01:13,  4.84it/s]"
     ]
    },
    {
     "name": "stdout",
     "output_type": "stream",
     "text": [
      "Train Epoch: 646 [0/2100 (0%)]\tLoss: 0.617147\n",
      "Train Epoch: 647 [0/2100 (0%)]\tLoss: 0.626358\n"
     ]
    },
    {
     "name": "stderr",
     "output_type": "stream",
     "text": [
      "Training Epochs:  65%|██████▍   | 648/1000 [02:01<01:07,  5.18it/s]"
     ]
    },
    {
     "name": "stdout",
     "output_type": "stream",
     "text": [
      "Train Epoch: 648 [0/2100 (0%)]\tLoss: 0.632618\n",
      "Train Epoch: 649 [0/2100 (0%)]\tLoss: 0.585802\n"
     ]
    },
    {
     "name": "stderr",
     "output_type": "stream",
     "text": [
      "Training Epochs:  65%|██████▌   | 650/1000 [02:01<01:05,  5.35it/s]"
     ]
    },
    {
     "name": "stdout",
     "output_type": "stream",
     "text": [
      "Train Epoch: 650 [0/2100 (0%)]\tLoss: 0.599697\n",
      "Train Epoch: 651 [0/2100 (0%)]\tLoss: 0.589330\n"
     ]
    },
    {
     "name": "stderr",
     "output_type": "stream",
     "text": [
      "Training Epochs:  65%|██████▌   | 652/1000 [02:01<01:04,  5.38it/s]"
     ]
    },
    {
     "name": "stdout",
     "output_type": "stream",
     "text": [
      "Train Epoch: 652 [0/2100 (0%)]\tLoss: 0.614301\n",
      "Train Epoch: 653 [0/2100 (0%)]\tLoss: 0.639025\n"
     ]
    },
    {
     "name": "stderr",
     "output_type": "stream",
     "text": [
      "Training Epochs:  65%|██████▌   | 654/1000 [02:02<01:02,  5.54it/s]"
     ]
    },
    {
     "name": "stdout",
     "output_type": "stream",
     "text": [
      "Train Epoch: 654 [0/2100 (0%)]\tLoss: 0.594839\n",
      "Train Epoch: 655 [0/2100 (0%)]\tLoss: 0.603428\n"
     ]
    },
    {
     "name": "stderr",
     "output_type": "stream",
     "text": [
      "Training Epochs:  65%|██████▌   | 654/1000 [02:02<01:04,  5.35it/s]\n"
     ]
    },
    {
     "name": "stdout",
     "output_type": "stream",
     "text": [
      "Early stopping at epoch 655\n"
     ]
    }
   ],
   "source": [
    "sys.argv = [\n",
    "    'train.py',\n",
    "    '-dataset', f'gtd{partition}',\n",
    "    '-n_class', '30',\n",
    "    '-gpuid', '0',\n",
    "    '-n_tree', str(best_config['n_tree']),\n",
    "    '-tree_depth', str(best_config['tree_depth']),\n",
    "    '-batch_size', str(best_config['batch_size']),\n",
    "    '-epochs', '1000',\n",
    "    '-verbose', '1',\n",
    "    '-jointly_training'\n",
    "]\n",
    "\n",
    "best_model, preds, targets, labels, epoch_logs = main()\n"
   ]
  },
  {
   "cell_type": "code",
   "execution_count": 5,
   "metadata": {},
   "outputs": [
    {
     "name": "stdout",
     "output_type": "stream",
     "text": [
      "              precision    recall  f1-score   support\n",
      "\n",
      "           0       0.94      0.97      0.95        30\n",
      "           1       1.00      1.00      1.00        30\n",
      "           2       0.64      0.93      0.76        30\n",
      "           3       0.91      0.97      0.94        30\n",
      "           4       0.97      0.97      0.97        30\n",
      "           5       0.86      1.00      0.92        30\n",
      "           6       0.94      0.97      0.95        30\n",
      "           7       0.88      0.97      0.92        30\n",
      "           8       0.91      0.97      0.94        30\n",
      "           9       0.88      1.00      0.94        30\n",
      "          10       0.77      1.00      0.87        30\n",
      "          11       0.97      0.97      0.97        30\n",
      "          12       0.93      0.93      0.93        30\n",
      "          13       1.00      0.83      0.91        30\n",
      "          14       0.62      0.43      0.51        30\n",
      "          15       0.76      0.73      0.75        30\n",
      "          16       0.97      0.97      0.97        30\n",
      "          17       1.00      0.97      0.98        30\n",
      "          18       0.93      0.83      0.88        30\n",
      "          19       0.74      0.47      0.57        30\n",
      "          20       0.88      0.97      0.92        30\n",
      "          21       0.97      0.93      0.95        30\n",
      "          22       1.00      0.77      0.87        30\n",
      "          23       0.96      0.80      0.87        30\n",
      "          24       0.93      0.87      0.90        30\n",
      "          25       0.45      0.63      0.53        30\n",
      "          26       0.88      0.93      0.90        30\n",
      "          27       0.74      0.57      0.64        30\n",
      "          28       0.64      0.77      0.70        30\n",
      "          29       0.33      0.20      0.25        30\n",
      "\n",
      "    accuracy                           0.84       900\n",
      "   macro avg       0.85      0.84      0.84       900\n",
      "weighted avg       0.85      0.84      0.84       900\n",
      "\n"
     ]
    }
   ],
   "source": [
    "from sklearn.metrics import classification_report\n",
    "\n",
    "print(classification_report(targets, preds))"
   ]
  },
  {
   "cell_type": "code",
   "execution_count": 6,
   "metadata": {},
   "outputs": [],
   "source": [
    "def plot_confusion_matrix(y_true, y_pred, labels, partition):\n",
    "    cm = confusion_matrix(y_true, y_pred, labels=range(len(labels)))\n",
    "    cm_normalized = cm.astype('float') / cm.sum(axis=1, keepdims=True)\n",
    "\n",
    "    plt.figure(figsize=(18, 16))\n",
    "    sns.heatmap(cm_normalized,\n",
    "                annot=True,\n",
    "                fmt=\".2f\",\n",
    "                xticklabels=labels,\n",
    "                yticklabels=labels,\n",
    "                cmap=\"viridis\",\n",
    "                square=True,\n",
    "                linewidths=0.5,\n",
    "                cbar_kws={\"shrink\": 0.8})\n",
    "\n",
    "    plt.title(f\"Normalized Confusion Matrix (Partition gtd{partition})\", fontsize=18)\n",
    "    plt.xlabel(\"Predicted Label\", fontsize=14)\n",
    "    plt.ylabel(\"True Label\", fontsize=14)\n",
    "    plt.xticks(rotation=90)\n",
    "    plt.yticks(rotation=0)\n",
    "    plt.tight_layout()\n",
    "\n",
    "    save_path = f\"results/confusion_matrix_partition_gtd{partition}.png\"\n",
    "    plt.savefig(save_path, dpi=300)\n",
    "    plt.close()\n",
    "\n",
    "    print(f\"Saved confusion matrix for partition gtd{partition} to {save_path}\")\n",
    "\n"
   ]
  },
  {
   "cell_type": "code",
   "execution_count": 7,
   "metadata": {},
   "outputs": [
    {
     "name": "stdout",
     "output_type": "stream",
     "text": [
      "Saved confusion matrix for partition gtd100 to results/confusion_matrix_partition_gtd100.png\n"
     ]
    }
   ],
   "source": [
    "plot_confusion_matrix(targets, preds, labels, partition)"
   ]
  }
 ],
 "metadata": {
  "kernelspec": {
   "display_name": "base",
   "language": "python",
   "name": "python3"
  },
  "language_info": {
   "codemirror_mode": {
    "name": "ipython",
    "version": 3
   },
   "file_extension": ".py",
   "mimetype": "text/x-python",
   "name": "python",
   "nbconvert_exporter": "python",
   "pygments_lexer": "ipython3",
   "version": "3.11.9"
  }
 },
 "nbformat": 4,
 "nbformat_minor": 2
}
