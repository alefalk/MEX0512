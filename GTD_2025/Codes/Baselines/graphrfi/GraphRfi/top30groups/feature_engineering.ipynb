{
 "cells": [
  {
   "cell_type": "code",
   "execution_count": 1,
   "metadata": {},
   "outputs": [],
   "source": [
    "import warnings\n",
    "warnings.filterwarnings( 'ignore' )\n",
    "import pandas as pd\n",
    "import numpy as np\n",
    "import matplotlib.pyplot as plt\n",
    "import seaborn as sns\n",
    "from sklearn.metrics import accuracy_score, classification_report, confusion_matrix\n",
    "from sklearn.model_selection import RandomizedSearchCV, GridSearchCV\n",
    "from sklearn.ensemble import GradientBoostingClassifier, RandomForestClassifier\n",
    "from sklearn.model_selection import train_test_split\n"
   ]
  },
  {
   "cell_type": "code",
   "execution_count": null,
   "metadata": {},
   "outputs": [],
   "source": [
    "data_cleaned = pd.read_csv('../cleaned_gtd.csv', encoding='ISO-8859-1')\n",
    "data_cleaned['attack_date'] = pd.to_datetime({'year': data_cleaned['iyear'], 'month': data_cleaned['imonth'], 'day': data_cleaned['iday']})\n"
   ]
  },
  {
   "cell_type": "code",
   "execution_count": 3,
   "metadata": {},
   "outputs": [
    {
     "name": "stdout",
     "output_type": "stream",
     "text": [
      "gname\n",
      "Abu Sayyaf Group (ASG)                              478\n",
      "African National Congress (South Africa)            478\n",
      "Tehrik-i-Taliban Pakistan (TTP)                     478\n",
      "Taliban                                             478\n",
      "Sikh Extremists                                     478\n",
      "Shining Path (SL)                                   478\n",
      "Revolutionary Armed Forces of Colombia (FARC)       478\n",
      "Palestinians                                        478\n",
      "Nicaraguan Democratic Force (FDN)                   478\n",
      "New People's Army (NPA)                             478\n",
      "National Liberation Army of Colombia (ELN)          478\n",
      "Muslim extremists                                   478\n",
      "Maoists                                             478\n",
      "Manuel Rodriguez Patriotic Front (FPMR)             478\n",
      "Liberation Tigers of Tamil Eelam (LTTE)             478\n",
      "Kurdistan Workers' Party (PKK)                      478\n",
      "Islamic State of Iraq and the Levant (ISIL)         478\n",
      "Irish Republican Army (IRA)                         478\n",
      "Houthi extremists (Ansar Allah)                     478\n",
      "Fulani extremists                                   478\n",
      "Farabundo Marti National Liberation Front (FMLN)    478\n",
      "Donetsk People's Republic                           478\n",
      "Corsican National Liberation Front (FLNC)           478\n",
      "Communist Party of India - Maoist (CPI-Maoist)      478\n",
      "Boko Haram                                          478\n",
      "Basque Fatherland and Freedom (ETA)                 478\n",
      "Al-Shabaab                                          478\n",
      "Al-Qaida in the Arabian Peninsula (AQAP)            478\n",
      "Al-Qaida in Iraq                                    478\n",
      "Tupac Amaru Revolutionary Movement (MRTA)           478\n",
      "Name: count, dtype: int64\n"
     ]
    }
   ],
   "source": [
    "# Step 1: Get the top 30 class labels\n",
    "top_30_classes = data_cleaned['gname'].value_counts().head(30).index\n",
    "\n",
    "# Step 2: Filter the DataFrame to only include rows with those class labels\n",
    "top_30_df = data_cleaned[data_cleaned['gname'].isin(top_30_classes)]\n",
    "\n",
    "top_30_df = top_30_df.groupby('gname').sample(n=478, random_state=42)\n",
    "print(top_30_df['gname'].value_counts())\n"
   ]
  },
  {
   "cell_type": "code",
   "execution_count": 4,
   "metadata": {},
   "outputs": [],
   "source": [
    "train = top_30_df.drop(columns=['gname'])\n",
    "for col in train.select_dtypes(include='object').columns:\n",
    "    train[col], _ = pd.factorize(train[col])\n",
    "\n",
    "top_30_df = pd.concat([train, top_30_df['gname']], axis=1)\n"
   ]
  },
  {
   "cell_type": "code",
   "execution_count": 5,
   "metadata": {},
   "outputs": [],
   "source": [
    "top_30_df.to_csv('top30groups/df_top30_478.csv')"
   ]
  }
 ],
 "metadata": {
  "kernelspec": {
   "display_name": "base",
   "language": "python",
   "name": "python3"
  },
  "language_info": {
   "codemirror_mode": {
    "name": "ipython",
    "version": 3
   },
   "file_extension": ".py",
   "mimetype": "text/x-python",
   "name": "python",
   "nbconvert_exporter": "python",
   "pygments_lexer": "ipython3",
   "version": "3.11.0"
  }
 },
 "nbformat": 4,
 "nbformat_minor": 2
}
