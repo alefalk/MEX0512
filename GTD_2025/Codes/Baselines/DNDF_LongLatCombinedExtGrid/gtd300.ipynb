{
 "cells": [
  {
   "cell_type": "code",
   "execution_count": 1,
   "metadata": {},
   "outputs": [],
   "source": [
    "partition = 300"
   ]
  },
  {
   "cell_type": "code",
   "execution_count": 2,
   "metadata": {},
   "outputs": [],
   "source": [
    "import sys\n",
    "from train import main\n",
    "from itertools import product  \n",
    "from sklearn.metrics import confusion_matrix\n",
    "import seaborn as sns\n",
    "import matplotlib.pyplot as plt\n"
   ]
  },
  {
   "cell_type": "code",
   "execution_count": 3,
   "metadata": {},
   "outputs": [
    {
     "name": "stdout",
     "output_type": "stream",
     "text": [
      "\n",
      "Running: feature_rate=0.1, dropout=0.0, lr=0.0001\n",
      "Use gtd300 dataset\n"
     ]
    },
    {
     "name": "stderr",
     "output_type": "stream",
     "text": [
      "Training Epochs: 100%|██████████| 300/300 [03:56<00:00,  1.27it/s]\n"
     ]
    },
    {
     "name": "stdout",
     "output_type": "stream",
     "text": [
      "\n",
      "Running: feature_rate=0.1, dropout=0.0, lr=0.001\n",
      "Use gtd300 dataset\n"
     ]
    },
    {
     "name": "stderr",
     "output_type": "stream",
     "text": [
      "Training Epochs: 100%|██████████| 300/300 [03:59<00:00,  1.26it/s]\n"
     ]
    },
    {
     "name": "stdout",
     "output_type": "stream",
     "text": [
      "\n",
      "Running: feature_rate=0.1, dropout=0.0, lr=0.01\n",
      "Use gtd300 dataset\n"
     ]
    },
    {
     "name": "stderr",
     "output_type": "stream",
     "text": [
      "Training Epochs: 100%|██████████| 300/300 [03:51<00:00,  1.29it/s]\n"
     ]
    },
    {
     "name": "stdout",
     "output_type": "stream",
     "text": [
      "\n",
      "Running: feature_rate=0.1, dropout=0.1, lr=0.0001\n",
      "Use gtd300 dataset\n"
     ]
    },
    {
     "name": "stderr",
     "output_type": "stream",
     "text": [
      "Training Epochs: 100%|██████████| 300/300 [03:56<00:00,  1.27it/s]\n"
     ]
    },
    {
     "name": "stdout",
     "output_type": "stream",
     "text": [
      "\n",
      "Running: feature_rate=0.1, dropout=0.1, lr=0.001\n",
      "Use gtd300 dataset\n"
     ]
    },
    {
     "name": "stderr",
     "output_type": "stream",
     "text": [
      "Training Epochs: 100%|██████████| 300/300 [03:53<00:00,  1.29it/s]\n"
     ]
    },
    {
     "name": "stdout",
     "output_type": "stream",
     "text": [
      "\n",
      "Running: feature_rate=0.1, dropout=0.1, lr=0.01\n",
      "Use gtd300 dataset\n"
     ]
    },
    {
     "name": "stderr",
     "output_type": "stream",
     "text": [
      "Training Epochs: 100%|██████████| 300/300 [03:52<00:00,  1.29it/s]\n"
     ]
    },
    {
     "name": "stdout",
     "output_type": "stream",
     "text": [
      "\n",
      "Running: feature_rate=0.1, dropout=0.2, lr=0.0001\n",
      "Use gtd300 dataset\n"
     ]
    },
    {
     "name": "stderr",
     "output_type": "stream",
     "text": [
      "Training Epochs: 100%|██████████| 300/300 [03:56<00:00,  1.27it/s]\n"
     ]
    },
    {
     "name": "stdout",
     "output_type": "stream",
     "text": [
      "\n",
      "Running: feature_rate=0.1, dropout=0.2, lr=0.001\n",
      "Use gtd300 dataset\n"
     ]
    },
    {
     "name": "stderr",
     "output_type": "stream",
     "text": [
      "Training Epochs: 100%|██████████| 300/300 [03:53<00:00,  1.28it/s]\n"
     ]
    },
    {
     "name": "stdout",
     "output_type": "stream",
     "text": [
      "\n",
      "Running: feature_rate=0.1, dropout=0.2, lr=0.01\n",
      "Use gtd300 dataset\n"
     ]
    },
    {
     "name": "stderr",
     "output_type": "stream",
     "text": [
      "Training Epochs: 100%|██████████| 300/300 [03:51<00:00,  1.29it/s]\n"
     ]
    },
    {
     "name": "stdout",
     "output_type": "stream",
     "text": [
      "\n",
      "Running: feature_rate=0.2, dropout=0.0, lr=0.0001\n",
      "Use gtd300 dataset\n"
     ]
    },
    {
     "name": "stderr",
     "output_type": "stream",
     "text": [
      "Training Epochs: 100%|██████████| 300/300 [04:02<00:00,  1.24it/s]\n"
     ]
    },
    {
     "name": "stdout",
     "output_type": "stream",
     "text": [
      "\n",
      "Running: feature_rate=0.2, dropout=0.0, lr=0.001\n",
      "Use gtd300 dataset\n"
     ]
    },
    {
     "name": "stderr",
     "output_type": "stream",
     "text": [
      "Training Epochs: 100%|██████████| 300/300 [03:57<00:00,  1.27it/s]\n"
     ]
    },
    {
     "name": "stdout",
     "output_type": "stream",
     "text": [
      "\n",
      "Running: feature_rate=0.2, dropout=0.0, lr=0.01\n",
      "Use gtd300 dataset\n"
     ]
    },
    {
     "name": "stderr",
     "output_type": "stream",
     "text": [
      "Training Epochs:  96%|█████████▋| 289/300 [03:45<00:08,  1.28it/s]"
     ]
    },
    {
     "name": "stdout",
     "output_type": "stream",
     "text": [
      "Early stopping at epoch 290\n",
      "\n",
      "Running: feature_rate=0.2, dropout=0.1, lr=0.0001\n",
      "Use gtd300 dataset\n"
     ]
    },
    {
     "name": "stderr",
     "output_type": "stream",
     "text": [
      "\n",
      "Training Epochs: 100%|██████████| 300/300 [04:00<00:00,  1.25it/s]\n"
     ]
    },
    {
     "name": "stdout",
     "output_type": "stream",
     "text": [
      "\n",
      "Running: feature_rate=0.2, dropout=0.1, lr=0.001\n",
      "Use gtd300 dataset\n"
     ]
    },
    {
     "name": "stderr",
     "output_type": "stream",
     "text": [
      "Training Epochs: 100%|██████████| 300/300 [03:57<00:00,  1.26it/s]\n"
     ]
    },
    {
     "name": "stdout",
     "output_type": "stream",
     "text": [
      "\n",
      "Running: feature_rate=0.2, dropout=0.1, lr=0.01\n",
      "Use gtd300 dataset\n"
     ]
    },
    {
     "name": "stderr",
     "output_type": "stream",
     "text": [
      "Training Epochs:  75%|███████▌  | 225/300 [02:55<00:58,  1.28it/s]"
     ]
    },
    {
     "name": "stdout",
     "output_type": "stream",
     "text": [
      "Early stopping at epoch 226\n",
      "\n",
      "Running: feature_rate=0.2, dropout=0.2, lr=0.0001\n",
      "Use gtd300 dataset\n"
     ]
    },
    {
     "name": "stderr",
     "output_type": "stream",
     "text": [
      "\n",
      "Training Epochs: 100%|██████████| 300/300 [04:02<00:00,  1.24it/s]\n"
     ]
    },
    {
     "name": "stdout",
     "output_type": "stream",
     "text": [
      "\n",
      "Running: feature_rate=0.2, dropout=0.2, lr=0.001\n",
      "Use gtd300 dataset\n"
     ]
    },
    {
     "name": "stderr",
     "output_type": "stream",
     "text": [
      "Training Epochs: 100%|██████████| 300/300 [03:58<00:00,  1.26it/s]\n"
     ]
    },
    {
     "name": "stdout",
     "output_type": "stream",
     "text": [
      "\n",
      "Running: feature_rate=0.2, dropout=0.2, lr=0.01\n",
      "Use gtd300 dataset\n"
     ]
    },
    {
     "name": "stderr",
     "output_type": "stream",
     "text": [
      "Training Epochs:  61%|██████▏   | 184/300 [02:24<01:31,  1.27it/s]"
     ]
    },
    {
     "name": "stdout",
     "output_type": "stream",
     "text": [
      "Early stopping at epoch 185\n",
      "\n",
      "Running: feature_rate=0.3, dropout=0.0, lr=0.0001\n",
      "Use gtd300 dataset\n"
     ]
    },
    {
     "name": "stderr",
     "output_type": "stream",
     "text": [
      "\n",
      "Training Epochs: 100%|██████████| 300/300 [04:03<00:00,  1.23it/s]\n"
     ]
    },
    {
     "name": "stdout",
     "output_type": "stream",
     "text": [
      "\n",
      "Running: feature_rate=0.3, dropout=0.0, lr=0.001\n",
      "Use gtd300 dataset\n"
     ]
    },
    {
     "name": "stderr",
     "output_type": "stream",
     "text": [
      "Training Epochs: 100%|██████████| 300/300 [04:00<00:00,  1.25it/s]\n"
     ]
    },
    {
     "name": "stdout",
     "output_type": "stream",
     "text": [
      "\n",
      "Running: feature_rate=0.3, dropout=0.0, lr=0.01\n",
      "Use gtd300 dataset\n"
     ]
    },
    {
     "name": "stderr",
     "output_type": "stream",
     "text": [
      "Training Epochs:  52%|█████▏    | 156/300 [02:06<01:56,  1.23it/s]"
     ]
    },
    {
     "name": "stdout",
     "output_type": "stream",
     "text": [
      "Early stopping at epoch 157\n",
      "\n",
      "Running: feature_rate=0.3, dropout=0.1, lr=0.0001\n",
      "Use gtd300 dataset\n"
     ]
    },
    {
     "name": "stderr",
     "output_type": "stream",
     "text": [
      "\n",
      "Training Epochs: 100%|██████████| 300/300 [04:04<00:00,  1.23it/s]\n"
     ]
    },
    {
     "name": "stdout",
     "output_type": "stream",
     "text": [
      "\n",
      "Running: feature_rate=0.3, dropout=0.1, lr=0.001\n",
      "Use gtd300 dataset\n"
     ]
    },
    {
     "name": "stderr",
     "output_type": "stream",
     "text": [
      "Training Epochs: 100%|██████████| 300/300 [03:57<00:00,  1.26it/s]\n"
     ]
    },
    {
     "name": "stdout",
     "output_type": "stream",
     "text": [
      "\n",
      "Running: feature_rate=0.3, dropout=0.1, lr=0.01\n",
      "Use gtd300 dataset\n"
     ]
    },
    {
     "name": "stderr",
     "output_type": "stream",
     "text": [
      "Training Epochs:  65%|██████▍   | 194/300 [02:33<01:23,  1.27it/s]"
     ]
    },
    {
     "name": "stdout",
     "output_type": "stream",
     "text": [
      "Early stopping at epoch 195\n",
      "\n",
      "Running: feature_rate=0.3, dropout=0.2, lr=0.0001\n",
      "Use gtd300 dataset\n"
     ]
    },
    {
     "name": "stderr",
     "output_type": "stream",
     "text": [
      "\n",
      "Training Epochs: 100%|██████████| 300/300 [04:04<00:00,  1.23it/s]\n"
     ]
    },
    {
     "name": "stdout",
     "output_type": "stream",
     "text": [
      "\n",
      "Running: feature_rate=0.3, dropout=0.2, lr=0.001\n",
      "Use gtd300 dataset\n"
     ]
    },
    {
     "name": "stderr",
     "output_type": "stream",
     "text": [
      "Training Epochs: 100%|██████████| 300/300 [04:02<00:00,  1.24it/s]\n"
     ]
    },
    {
     "name": "stdout",
     "output_type": "stream",
     "text": [
      "\n",
      "Running: feature_rate=0.3, dropout=0.2, lr=0.01\n",
      "Use gtd300 dataset\n"
     ]
    },
    {
     "name": "stderr",
     "output_type": "stream",
     "text": [
      "Training Epochs:  80%|████████  | 241/300 [03:11<00:46,  1.26it/s]"
     ]
    },
    {
     "name": "stdout",
     "output_type": "stream",
     "text": [
      "Early stopping at epoch 242\n",
      "\n",
      "Best hyperparameter configuration:\n",
      "{'n_tree': 20, 'tree_depth': 10, 'batch_size': 256, 'tree_feature_rate': 0.1, 'feat_dropout': 0.2, 'lr': 0.01}\n",
      "Best accuracy: 0.91\n"
     ]
    },
    {
     "name": "stderr",
     "output_type": "stream",
     "text": [
      "\n"
     ]
    }
   ],
   "source": [
    "\n",
    "#n_tree_values = [5, 10, 15, 20]\n",
    "#tree_depth_values = [3, 5, 10]\n",
    "#batch_size_values = [256, 512, 1000]\n",
    "tree_feature_rates = [0.1, 0.2, 0.3]\n",
    "feat_dropouts = [0.0, 0.1, 0.2]\n",
    "lrs = [0.0001, 0.001, 0.01]\n",
    "\n",
    "best_score = 0\n",
    "best_config = {}\n",
    "\n",
    "for feature_rate, dropout, lr in product(tree_feature_rates, feat_dropouts, lrs):\n",
    "    print(f\"\\nRunning: feature_rate={feature_rate}, dropout={dropout}, lr={lr}\")\n",
    "    sys.argv = [\n",
    "        'train.py',\n",
    "        '-dataset', f'gtd{partition}',\n",
    "        '-n_class', '30',\n",
    "        '-gpuid', '0',\n",
    "        '-n_tree', '20',\n",
    "        '-tree_depth', '10',\n",
    "        '-batch_size', '256',\n",
    "        '-epochs', '300',\n",
    "        '-verbose', '0',\n",
    "        '-tree_feature_rate', str(feature_rate),\n",
    "        '-feat_dropout', str(dropout),\n",
    "        '-lr', str(lr),\n",
    "        '-jointly_training'\n",
    "    ]\n",
    "    \n",
    "    _, _, _, _, _ = main()\n",
    "\n",
    "    # Read best score from file (assumes one run per file)\n",
    "    result_file = f\"results/result_gtd{partition}\"\n",
    "    with open(result_file, \"r\") as f:\n",
    "        lines = f.readlines()\n",
    "        for line in lines:\n",
    "            if \"Best Accuracy\" in line:\n",
    "                acc = float(line.split()[2])\n",
    "                if acc > best_score:\n",
    "                    best_score = acc\n",
    "                    best_config = {\n",
    "                        'n_tree': 20,\n",
    "                        'tree_depth': 10,\n",
    "                        'batch_size': 256,\n",
    "                        'tree_feature_rate': feature_rate,\n",
    "                        'feat_dropout': dropout,\n",
    "                        'lr': lr\n",
    "                    }\n",
    "print(\"\\nBest hyperparameter configuration:\")\n",
    "print(best_config)\n",
    "print(f\"Best accuracy: {best_score}\")\n"
   ]
  },
  {
   "cell_type": "code",
   "execution_count": 4,
   "metadata": {},
   "outputs": [
    {
     "name": "stdout",
     "output_type": "stream",
     "text": [
      "Use gtd300 dataset\n"
     ]
    },
    {
     "name": "stderr",
     "output_type": "stream",
     "text": [
      "Training Epochs:  13%|█▎        | 202/1500 [02:37<16:53,  1.28it/s]"
     ]
    },
    {
     "name": "stdout",
     "output_type": "stream",
     "text": [
      "Early stopping at epoch 203\n"
     ]
    },
    {
     "name": "stderr",
     "output_type": "stream",
     "text": [
      "\n"
     ]
    }
   ],
   "source": [
    "\"\"\"sys.argv = [\n",
    "    'train.py',\n",
    "    '-dataset', f'gtd{partition}',\n",
    "    '-n_class', '30',\n",
    "    '-gpuid', '0',\n",
    "    '-n_tree', str(best_config['n_tree']),\n",
    "    '-tree_depth', str(best_config['tree_depth']),\n",
    "    '-batch_size', str(best_config['batch_size']),\n",
    "    '-epochs', '1000',\n",
    "    '-verbose', '1',\n",
    "    '-jointly_training'\n",
    "]\"\"\"\n",
    "\n",
    "sys.argv = [\n",
    "        'train.py',\n",
    "        '-dataset', f'gtd{partition}',\n",
    "        '-n_class', '30',\n",
    "        '-gpuid', '0',\n",
    "        '-n_tree', '20',\n",
    "        '-tree_depth', '10',\n",
    "        '-batch_size', '256',\n",
    "        '-epochs', '1500',\n",
    "        '-verbose', '0',\n",
    "        '-tree_feature_rate', str(best_config['tree_feature_rate']),\n",
    "        '-feat_dropout', str(best_config['feat_dropout']),\n",
    "        '-lr', str(best_config['lr']),\n",
    "        '-jointly_training'\n",
    "    ]\n",
    "\n",
    "best_model, preds, targets, labels, epoch_logs = main()\n"
   ]
  },
  {
   "cell_type": "code",
   "execution_count": 5,
   "metadata": {},
   "outputs": [
    {
     "name": "stdout",
     "output_type": "stream",
     "text": [
      "              precision    recall  f1-score   support\n",
      "\n",
      "           0       0.92      0.99      0.95        90\n",
      "           1       0.99      1.00      0.99        90\n",
      "           2       0.73      0.98      0.83        90\n",
      "           3       0.88      0.86      0.87        90\n",
      "           4       1.00      0.99      0.99        90\n",
      "           5       1.00      1.00      1.00        90\n",
      "           6       0.96      0.97      0.96        90\n",
      "           7       0.96      0.89      0.92        90\n",
      "           8       0.94      1.00      0.97        90\n",
      "           9       1.00      1.00      1.00        90\n",
      "          10       0.76      1.00      0.86        90\n",
      "          11       0.96      0.96      0.96        90\n",
      "          12       0.85      0.89      0.87        90\n",
      "          13       1.00      0.94      0.97        90\n",
      "          14       0.86      0.49      0.62        90\n",
      "          15       0.87      0.96      0.91        90\n",
      "          16       0.96      1.00      0.98        90\n",
      "          17       1.00      0.99      0.99        90\n",
      "          18       0.87      0.96      0.91        90\n",
      "          19       0.94      0.81      0.87        90\n",
      "          20       0.89      0.74      0.81        90\n",
      "          21       0.97      0.93      0.95        90\n",
      "          22       0.98      0.68      0.80        90\n",
      "          23       0.99      0.94      0.97        90\n",
      "          24       0.78      0.91      0.84        90\n",
      "          25       0.86      0.89      0.87        90\n",
      "          26       0.92      0.93      0.93        90\n",
      "          27       0.74      0.86      0.79        90\n",
      "          28       0.83      0.69      0.75        90\n",
      "          29       0.89      0.87      0.88        90\n",
      "\n",
      "    accuracy                           0.90      2700\n",
      "   macro avg       0.91      0.90      0.90      2700\n",
      "weighted avg       0.91      0.90      0.90      2700\n",
      "\n"
     ]
    }
   ],
   "source": [
    "from sklearn.metrics import classification_report\n",
    "\n",
    "print(classification_report(targets, preds))"
   ]
  },
  {
   "cell_type": "code",
   "execution_count": 6,
   "metadata": {},
   "outputs": [],
   "source": [
    "def plot_confusion_matrix(y_true, y_pred, labels, partition):\n",
    "    cm = confusion_matrix(y_true, y_pred, labels=range(len(labels)))\n",
    "    cm_normalized = cm.astype('float') / cm.sum(axis=1, keepdims=True)\n",
    "\n",
    "    plt.figure(figsize=(18, 16))\n",
    "    sns.heatmap(cm_normalized,\n",
    "                annot=True,\n",
    "                fmt=\".2f\",\n",
    "                xticklabels=labels,\n",
    "                yticklabels=labels,\n",
    "                cmap=\"viridis\",\n",
    "                square=True,\n",
    "                linewidths=0.5,\n",
    "                cbar_kws={\"shrink\": 0.8})\n",
    "\n",
    "    plt.title(f\"Normalized Confusion Matrix (Partition gtd{partition})\", fontsize=18)\n",
    "    plt.xlabel(\"Predicted Label\", fontsize=14)\n",
    "    plt.ylabel(\"True Label\", fontsize=14)\n",
    "    plt.xticks(rotation=90)\n",
    "    plt.yticks(rotation=0)\n",
    "    plt.tight_layout()\n",
    "\n",
    "    save_path = f\"results/confusion_matrix_partition_gtd{partition}.png\"\n",
    "    plt.savefig(save_path, dpi=300)\n",
    "    plt.close()\n",
    "\n",
    "    print(f\"Saved confusion matrix for partition gtd{partition} to {save_path}\")\n",
    "\n"
   ]
  },
  {
   "cell_type": "code",
   "execution_count": 7,
   "metadata": {},
   "outputs": [
    {
     "name": "stdout",
     "output_type": "stream",
     "text": [
      "Saved confusion matrix for partition gtd300 to results/confusion_matrix_partition_gtd300.png\n"
     ]
    }
   ],
   "source": [
    "plot_confusion_matrix(targets, preds, labels, partition)"
   ]
  }
 ],
 "metadata": {
  "kernelspec": {
   "display_name": "base",
   "language": "python",
   "name": "python3"
  },
  "language_info": {
   "codemirror_mode": {
    "name": "ipython",
    "version": 3
   },
   "file_extension": ".py",
   "mimetype": "text/x-python",
   "name": "python",
   "nbconvert_exporter": "python",
   "pygments_lexer": "ipython3",
   "version": "3.11.9"
  }
 },
 "nbformat": 4,
 "nbformat_minor": 2
}
