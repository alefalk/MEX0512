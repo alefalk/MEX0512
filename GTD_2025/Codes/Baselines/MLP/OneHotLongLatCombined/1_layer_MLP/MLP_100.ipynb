{
 "cells": [
  {
   "cell_type": "code",
   "execution_count": 1,
   "metadata": {},
   "outputs": [],
   "source": [
    "import warnings\n",
    "warnings.filterwarnings( 'ignore' )\n",
    "import pandas as pd\n",
    "import numpy as np\n",
    "import matplotlib.pyplot as plt\n",
    "import seaborn as sns\n",
    "from sklearn.metrics import accuracy_score, classification_report, confusion_matrix\n",
    "from sklearn.model_selection import RandomizedSearchCV, GridSearchCV, TimeSeriesSplit\n",
    "from sklearn.ensemble import GradientBoostingClassifier, RandomForestClassifier\n",
    "from sklearn.neural_network import MLPClassifier\n",
    "from sklearn.impute import SimpleImputer"
   ]
  },
  {
   "cell_type": "code",
   "execution_count": 2,
   "metadata": {},
   "outputs": [],
   "source": [
    "partition = 100"
   ]
  },
  {
   "cell_type": "code",
   "execution_count": 3,
   "metadata": {},
   "outputs": [],
   "source": [
    "trainpath = f'../../../../../data/top30groups/DNDF_OneHotLongLatCombined/train/train{partition}.csv'\n",
    "testpath = f'../../../../../data/top30groups/DNDF_OneHotLongLatCombined/test/test{partition}.csv'\n",
    "\n",
    "traindata = pd.read_csv(trainpath, encoding='ISO-8859-1')\n",
    "testdata = pd.read_csv(testpath, encoding='ISO-8859-1')\n",
    "\n",
    "if 'attack_date' in traindata.columns:\n",
    "    traindata = traindata.drop(columns=['attack_date'])\n",
    "\n",
    "if 'attack_date' in testdata.columns:\n",
    "    testdata = testdata.drop(columns=['attack_date'])\n",
    "\n",
    "    print(f'shape train data: ', traindata.shape)\n",
    "    print(f'shape test data: ', testdata.shape)"
   ]
  },
  {
   "cell_type": "code",
   "execution_count": 4,
   "metadata": {},
   "outputs": [
    {
     "data": {
      "text/plain": [
       "(900, 3583)"
      ]
     },
     "execution_count": 4,
     "metadata": {},
     "output_type": "execute_result"
    }
   ],
   "source": [
    "testdata.shape"
   ]
  },
  {
   "cell_type": "code",
   "execution_count": 5,
   "metadata": {},
   "outputs": [
    {
     "data": {
      "text/plain": [
       "(2100, 3583)"
      ]
     },
     "execution_count": 5,
     "metadata": {},
     "output_type": "execute_result"
    }
   ],
   "source": [
    "traindata.shape"
   ]
  },
  {
   "cell_type": "code",
   "execution_count": 6,
   "metadata": {},
   "outputs": [],
   "source": [
    "import torch\n",
    "from sklearn.preprocessing import LabelEncoder\n",
    "from sklearn.model_selection import train_test_split\n",
    "\n",
    "def split_data(dftrain, dftest):\n",
    "    Xtrain = dftrain.drop(columns=['gname']).values\n",
    "    Ytrain = dftrain['gname'].values\n",
    "    Xtest = dftest.drop(columns=['gname']).values\n",
    "    Ytest = dftest['gname'].values\n",
    "\n",
    "    # Encode labels as integers\n",
    "    le = LabelEncoder()\n",
    "    Ytrain = le.fit_transform(Ytrain)\n",
    "    Ytest = le.transform(Ytest)\n",
    "\n",
    "    Xtrain = Xtrain.astype(float)\n",
    "    Xtest = Xtest.astype(float)\n",
    "\n",
    "    # Convert to torch tensors and move to GPU\n",
    "    Xtrain = torch.tensor(Xtrain, dtype=torch.float32).to(\"cuda\")\n",
    "    Ytrain = torch.tensor(Ytrain, dtype=torch.long).to(\"cuda\")\n",
    "    Xtest = torch.tensor(Xtest, dtype=torch.float32).to(\"cuda\")\n",
    "    Ytest = torch.tensor(Ytest, dtype=torch.long).to(\"cuda\")\n",
    "\n",
<<<<<<< HEAD
    "    return Xtrain, Ytrain, Xtest, Ytest, le\n"
=======
    "    return Xtrain, Ytrain, Xtest, Ytest, len(le.classes_)\n"
>>>>>>> f63e82328f0834a7e5a9edc1b09f0142d6c5bb20
   ]
  },
  {
   "cell_type": "code",
   "execution_count": 7,
   "metadata": {},
   "outputs": [],
   "source": [
    "from sklearn.model_selection import ParameterSampler\n",
    "import torch.nn as nn\n",
    "import torch.optim as optim\n",
    "import random\n",
    "\n",
    "class SimpleMLP(nn.Module):\n",
    "    def __init__(self, input_dim, hidden_dim, output_dim, activation='relu'):\n",
    "        super().__init__()\n",
    "        act_fn = nn.ReLU() if activation == 'relu' else nn.Tanh()\n",
    "        self.model = nn.Sequential(\n",
    "            nn.Linear(input_dim, hidden_dim),\n",
    "            act_fn,\n",
    "            nn.Linear(hidden_dim, output_dim)\n",
    "        )\n",
    "\n",
    "    def forward(self, x):\n",
    "        return self.model(x)\n",
    "\n",
    "def train_model(model, Xtrain, Ytrain, lr, alpha, max_epochs=100):\n",
    "    criterion = nn.CrossEntropyLoss()\n",
    "    optimizer = optim.Adam(model.parameters(), lr=lr, weight_decay=alpha)\n",
    "\n",
    "    for epoch in range(max_epochs):\n",
    "        model.train()\n",
    "        optimizer.zero_grad()\n",
    "        output = model(Xtrain)\n",
    "        loss = criterion(output, Ytrain)\n",
    "        loss.backward()\n",
    "        optimizer.step()\n",
    "\n",
    "def evaluate_model(model, Xval, Yval):\n",
    "    model.eval()\n",
    "    with torch.no_grad():\n",
    "        pred = model(Xval).argmax(dim=1)\n",
    "        acc = (pred == Yval).float().mean().item()\n",
    "    return acc\n",
    "\n",
    "def find_best_mlp(Xtrain, Ytrain, num_classes, n_iter=20, max_epochs=100):\n",
    "    input_dim = Xtrain.shape[1]\n",
    "\n",
    "    param_dist = {\n",
    "        'hidden_dim': [10, 50, 100, 150, 200, 300],\n",
    "        'activation': ['relu', 'tanh'],\n",
    "        'lr': [0.0001, 0.001, 0.01],\n",
    "        'alpha': [1e-5, 1e-4, 1e-3, 1e-2]\n",
    "    }\n",
    "\n",
    "    best_acc = -1\n",
    "    best_params = None\n",
    "\n",
    "    for params in list(ParameterSampler(param_dist, n_iter=n_iter, random_state=42)):\n",
    "        # Random 80/20 split for validation\n",
    "        indices = torch.randperm(Xtrain.size(0))\n",
    "        split = int(0.8 * len(indices))\n",
    "        train_idx, val_idx = indices[:split], indices[split:]\n",
    "\n",
    "        model = SimpleMLP(input_dim, params['hidden_dim'], num_classes, params['activation']).to(\"cuda\")\n",
    "        train_model(model, Xtrain[train_idx], Ytrain[train_idx],\n",
    "                    lr=params['lr'], alpha=params['alpha'], max_epochs=max_epochs)\n",
    "\n",
    "        acc = evaluate_model(model, Xtrain[val_idx], Ytrain[val_idx])\n",
    "        if acc > best_acc:\n",
    "            best_acc = acc\n",
    "            best_params = params\n",
    "\n",
    "    # ✅ Retrain best model on the full training set\n",
    "    final_model = SimpleMLP(input_dim, best_params['hidden_dim'], num_classes, best_params['activation']).to(\"cuda\")\n",
    "    train_model(final_model, Xtrain, Ytrain, lr=best_params['lr'], alpha=best_params['alpha'], max_epochs=max_epochs)\n",
    "\n",
    "    print(f\"Best accuracy on validation split: {best_acc * 100:.2f}%\")\n",
    "    print(\"Best hyperparameters:\", best_params)\n",
    "\n",
    "    return final_model\n"
   ]
  },
  {
   "cell_type": "code",
   "execution_count": 8,
   "metadata": {},
   "outputs": [
    {
     "data": {
      "text/plain": [
       "extended              float64\n",
       "vicinity              float64\n",
       "multiple              float64\n",
       "success               float64\n",
       "suicide               float64\n",
       "                       ...   \n",
       "latitude_54.951082       bool\n",
       "latitude_55.011562       bool\n",
       "latitude_55.199105       bool\n",
       "latitude_59.913869       bool\n",
       "gname                  object\n",
       "Length: 3583, dtype: object"
      ]
     },
     "execution_count": 8,
     "metadata": {},
     "output_type": "execute_result"
    }
   ],
   "source": [
    "traindata.dtypes"
   ]
  },
  {
   "cell_type": "code",
   "execution_count": 9,
   "metadata": {},
   "outputs": [
    {
     "name": "stdout",
     "output_type": "stream",
     "text": [
<<<<<<< HEAD
      "Best accuracy on validation split: 54.29%\n",
      "Best hyperparameters: {'lr': 0.01, 'hidden_dim': 300, 'alpha': 0.001, 'activation': 'tanh'}\n",
      "Accuracy: 52.89%\n"
=======
      "Best accuracy on validation split: 56.43%\n",
      "Best hyperparameters: {'lr': 0.01, 'hidden_dim': 300, 'alpha': 0.001, 'activation': 'tanh'}\n",
      "Accuracy: 52.22%\n"
>>>>>>> f63e82328f0834a7e5a9edc1b09f0142d6c5bb20
     ]
    }
   ],
   "source": [
<<<<<<< HEAD
    "Xtrain, Ytrain, Xtest, Ytest, le = split_data(traindata, testdata)\n",
    "best_mlp = find_best_mlp(Xtrain, Ytrain, 30)\n",
=======
    "Xtrain, Ytrain, Xtest, Ytest, num_classes = split_data(traindata, testdata)\n",
    "best_mlp = find_best_mlp(Xtrain, Ytrain, num_classes)\n",
>>>>>>> f63e82328f0834a7e5a9edc1b09f0142d6c5bb20
    "\n",
    "best_mlp.eval()\n",
    "with torch.no_grad():\n",
    "    y_pred = best_mlp(Xtest).argmax(dim=1)\n",
    "    acc = (y_pred == Ytest).float().mean().item()\n",
    "    print(f\"Accuracy: {acc * 100:.2f}%\")\n"
   ]
  },
  {
   "cell_type": "code",
   "execution_count": 10,
   "metadata": {},
   "outputs": [],
   "source": [
    "import os\n",
    "file_path = os.path.join(\"results\", f\"gtd{partition}.txt\")\n",
    "\n",
    "# Make sure the directory exists\n",
    "os.makedirs(\"results\", exist_ok=True)\n",
    "\n",
    "# Write a string to the file\n",
    "with open(file_path, \"w\") as file:\n",
    "    file.write(str(acc))"
   ]
  },
  {
   "cell_type": "code",
   "execution_count": 11,
   "metadata": {},
<<<<<<< HEAD
   "outputs": [],
   "source": [
    "y_true_decoded = le.inverse_transform(Ytest.cpu().numpy())\n",
    "y_pred_decoded = le.inverse_transform(y_pred.cpu().numpy())"
   ]
  },
  {
   "cell_type": "code",
   "execution_count": 12,
   "metadata": {},
   "outputs": [
    {
     "name": "stdout",
     "output_type": "stream",
     "text": [
      "                                                  precision    recall  f1-score   support\n",
      "\n",
      "                          Abu Sayyaf Group (ASG)       0.50      0.67      0.57        30\n",
      "        African National Congress (South Africa)       0.49      0.90      0.64        30\n",
      "                                Al-Qaida in Iraq       0.64      0.60      0.62        30\n",
      "        Al-Qaida in the Arabian Peninsula (AQAP)       0.65      0.57      0.61        30\n",
      "                                      Al-Shabaab       0.89      0.53      0.67        30\n",
      "             Basque Fatherland and Freedom (ETA)       0.63      0.80      0.71        30\n",
      "                                      Boko Haram       0.62      0.50      0.56        30\n",
      "  Communist Party of India - Maoist (CPI-Maoist)       0.32      0.27      0.29        30\n",
      "       Corsican National Liberation Front (FLNC)       0.90      0.87      0.88        30\n",
      "                       Donetsk People's Republic       0.75      0.80      0.77        30\n",
      "Farabundo Marti National Liberation Front (FMLN)       0.60      0.30      0.40        30\n",
      "                               Fulani extremists       0.40      0.77      0.53        30\n",
      "                 Houthi extremists (Ansar Allah)       0.78      0.60      0.68        30\n",
      "                     Irish Republican Army (IRA)       0.95      0.67      0.78        30\n",
      "     Islamic State of Iraq and the Levant (ISIL)       0.59      0.33      0.43        30\n",
      "                  Kurdistan Workers' Party (PKK)       0.27      0.23      0.25        30\n",
      "         Liberation Tigers of Tamil Eelam (LTTE)       0.75      0.50      0.60        30\n",
      "         Manuel Rodriguez Patriotic Front (FPMR)       1.00      0.87      0.93        30\n",
      "                                         Maoists       0.32      0.20      0.24        30\n",
      "                               Muslim extremists       0.70      0.23      0.35        30\n",
      "      National Liberation Army of Colombia (ELN)       0.44      0.53      0.48        30\n",
      "                         New People's Army (NPA)       0.11      0.13      0.12        30\n",
      "               Nicaraguan Democratic Force (FDN)       0.28      0.70      0.40        30\n",
      "                                    Palestinians       0.77      0.80      0.79        30\n",
      "   Revolutionary Armed Forces of Colombia (FARC)       0.22      0.43      0.29        30\n",
      "                               Shining Path (SL)       0.37      0.23      0.29        30\n",
      "                                 Sikh Extremists       0.53      0.57      0.55        30\n",
      "                                         Taliban       0.32      0.23      0.27        30\n",
      "                 Tehrik-i-Taliban Pakistan (TTP)       0.60      0.40      0.48        30\n",
      "       Tupac Amaru Revolutionary Movement (MRTA)       0.86      0.63      0.73        30\n",
      "\n",
      "                                        accuracy                           0.53       900\n",
      "                                       macro avg       0.58      0.53      0.53       900\n",
      "                                    weighted avg       0.58      0.53      0.53       900\n",
      "\n"
     ]
    }
   ],
   "source": [
    "print(classification_report(y_true_decoded, y_pred_decoded))"
   ]
  },
  {
   "cell_type": "code",
   "execution_count": 13,
   "metadata": {},
=======
>>>>>>> f63e82328f0834a7e5a9edc1b09f0142d6c5bb20
   "outputs": [
    {
     "name": "stdout",
     "output_type": "stream",
     "text": [
      "SimpleMLP(\n",
      "  (model): Sequential(\n",
      "    (0): Linear(in_features=3582, out_features=300, bias=True)\n",
      "    (1): Tanh()\n",
      "    (2): Linear(in_features=300, out_features=30, bias=True)\n",
      "  )\n",
      ")\n"
     ]
    }
   ],
   "source": [
    "print(best_mlp)"
   ]
<<<<<<< HEAD
  },
  {
   "cell_type": "code",
   "execution_count": 14,
   "metadata": {},
   "outputs": [],
   "source": [
    "def plot_confusion_matrix(y_true, y_pred, labels):\n",
    "    from sklearn.metrics import confusion_matrix\n",
    "    import matplotlib.pyplot as plt\n",
    "    import seaborn as sns\n",
    "    import numpy as np\n",
    "\n",
    "    cm = confusion_matrix(y_true, y_pred, labels=labels)\n",
    "    cm_normalized = cm.astype('float') / cm.sum(axis=1, keepdims=True)\n",
    "\n",
    "    plt.figure(figsize=(18, 16))\n",
    "    sns.heatmap(cm_normalized,\n",
    "                annot=True,\n",
    "                fmt=\".2f\",\n",
    "                xticklabels=labels,\n",
    "                yticklabels=labels,\n",
    "                cmap=\"viridis\",\n",
    "                square=True,\n",
    "                linewidths=0.5,\n",
    "                cbar_kws={\"shrink\": 0.8})\n",
    "\n",
    "    plt.title(f\"Normalized Confusion Matrix (Partition {partition})\", fontsize=18)\n",
    "    plt.xlabel(\"Predicted Label\", fontsize=14)\n",
    "    plt.ylabel(\"True Label\", fontsize=14)\n",
    "    plt.xticks(rotation=90)\n",
    "    plt.yticks(rotation=0)\n",
    "    plt.tight_layout()\n",
    "\n",
    "    # Save the figure\n",
    "    save_path = f\"results/confusion_matrix_partition_{partition}.png\"\n",
    "    plt.savefig(save_path, dpi=300)\n",
    "    plt.close()\n",
    "\n",
    "    print(f\"Saved confusion matrix for partition {partition} to {save_path}\")\n"
   ]
  },
  {
   "cell_type": "code",
   "execution_count": 15,
   "metadata": {},
   "outputs": [
    {
     "name": "stdout",
     "output_type": "stream",
     "text": [
      "Saved confusion matrix for partition 100 to results/confusion_matrix_partition_100.png\n"
     ]
    }
   ],
   "source": [
    "\n",
    "# Get all unique class labels from the truths\n",
    "class_labels = np.unique(y_true_decoded)\n",
    "\n",
    "plot_confusion_matrix(y_true_decoded, y_pred_decoded, labels=class_labels)\n",
    "\n"
   ]
=======
>>>>>>> f63e82328f0834a7e5a9edc1b09f0142d6c5bb20
  }
 ],
 "metadata": {
  "kernelspec": {
   "display_name": "base",
   "language": "python",
   "name": "python3"
  },
  "language_info": {
   "codemirror_mode": {
    "name": "ipython",
    "version": 3
   },
   "file_extension": ".py",
   "mimetype": "text/x-python",
   "name": "python",
   "nbconvert_exporter": "python",
   "pygments_lexer": "ipython3",
   "version": "3.11.9"
  }
 },
 "nbformat": 4,
 "nbformat_minor": 2
}
