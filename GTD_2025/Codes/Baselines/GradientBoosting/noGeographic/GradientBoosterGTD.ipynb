{
 "cells": [
  {
   "cell_type": "markdown",
   "metadata": {
    "id": "VqQU75b6sEP-"
   },
   "source": [
    "# Global Terrorism Data"
   ]
  },
  {
   "cell_type": "code",
   "execution_count": 1,
   "metadata": {},
   "outputs": [
    {
     "name": "stdout",
     "output_type": "stream",
     "text": [
      "Requirement already satisfied: xgboost in /opt/conda/lib/python3.11/site-packages (3.0.0)\n",
      "Requirement already satisfied: numpy in /opt/conda/lib/python3.11/site-packages (from xgboost) (1.26.4)\n",
      "Requirement already satisfied: nvidia-nccl-cu12 in /opt/conda/lib/python3.11/site-packages (from xgboost) (2.20.5)\n",
      "Requirement already satisfied: scipy in /opt/conda/lib/python3.11/site-packages (from xgboost) (1.14.0)\n",
      "\n",
      "\u001b[1m[\u001b[0m\u001b[34;49mnotice\u001b[0m\u001b[1;39;49m]\u001b[0m\u001b[39;49m A new release of pip is available: \u001b[0m\u001b[31;49m24.1.2\u001b[0m\u001b[39;49m -> \u001b[0m\u001b[32;49m25.1.1\u001b[0m\n",
      "\u001b[1m[\u001b[0m\u001b[34;49mnotice\u001b[0m\u001b[1;39;49m]\u001b[0m\u001b[39;49m To update, run: \u001b[0m\u001b[32;49mpip install --upgrade pip\u001b[0m\n"
     ]
    }
   ],
   "source": [
    "import sys \n",
    "!{sys.executable} -m pip install xgboost"
   ]
  },
  {
   "cell_type": "code",
   "execution_count": 2,
   "metadata": {
    "colab": {
     "base_uri": "https://localhost:8080/"
    },
    "id": "_pI-vjLmvyI5",
    "outputId": "3699e615-7ab3-4355-c4c2-21b04f1cf8b4"
   },
   "outputs": [],
   "source": [
    "import warnings\n",
    "import os\n",
    "warnings.filterwarnings( 'ignore' )\n",
    "import pandas as pd\n",
    "import numpy as np\n",
    "import matplotlib.pyplot as plt\n",
    "import seaborn as sns\n",
    "from sklearn.metrics import accuracy_score, classification_report, confusion_matrix, precision_score, recall_score, f1_score\n",
    "from sklearn.model_selection import RandomizedSearchCV, GridSearchCV, train_test_split\n",
    "from sklearn.ensemble import GradientBoostingClassifier, RandomForestClassifier\n",
    "from GradientBoosterGTD import *"
   ]
  },
  {
   "cell_type": "code",
   "execution_count": 3,
   "metadata": {
    "id": "QjOYUqnfwLOw"
   },
   "outputs": [],
   "source": [
    "import warnings\n",
    "warnings.filterwarnings( 'ignore' )\n",
    "import pandas as pd\n",
    "import numpy as np\n",
    "import seaborn as sns\n",
    "import matplotlib.pyplot as plt\n",
    "from sklearn.metrics import accuracy_score, classification_report, confusion_matrix\n"
   ]
  },
  {
   "cell_type": "code",
   "execution_count": 4,
   "metadata": {},
   "outputs": [
    {
     "name": "stdout",
     "output_type": "stream",
     "text": [
      "True\n"
     ]
    }
   ],
   "source": [
    "import torch\n",
    "print(torch.cuda.is_available())"
   ]
  },
  {
   "cell_type": "code",
   "execution_count": 5,
   "metadata": {},
   "outputs": [],
   "source": [
    "trains = ['train100', 'train200', 'train300', 'train478']\n",
    "tests = ['test100', 'test200', 'test300', 'test478', ]\n",
    "traindir = '../../../../data/top30groups/noGeographic/train1'\n",
    "testdir = '../../../../data/top30groups/noGeographic/test1'\n",
    "\n",
    "trainpaths = []\n",
    "testpaths = []\n",
    "for i, partition in enumerate(trains):\n",
    "    trainpaths.append(f'{traindir}/{partition}.csv')\n",
    "    testpaths.append(f'{testdir}/{tests[i]}.csv')"
   ]
  },
  {
   "cell_type": "code",
   "execution_count": 6,
   "metadata": {},
   "outputs": [
    {
     "name": "stdout",
     "output_type": "stream",
     "text": [
      "Computing for partition 1, balanced classes with 100 entries for each class and one hot encoded geodata\n",
      "Finding optimal hyperparameters...\n",
      "Fitting 5 folds for each of 10 candidates, totalling 50 fits\n"
     ]
    },
    {
     "name": "stderr",
     "output_type": "stream",
     "text": [
      "/opt/conda/lib/python3.11/site-packages/xgboost/core.py:729: UserWarning: [21:16:09] WARNING: /workspace/src/common/error_msg.cc:58: Falling back to prediction using DMatrix due to mismatched devices. This might lead to higher memory usage and slower performance. XGBoost is running on: cuda:0, while the input data is on: cpu.\n",
      "Potential solutions:\n",
      "- Use a data structure that matches the device ordinal in the booster.\n",
      "- Set the device for booster before call to inplace_predict.\n",
      "\n",
      "This warning will only be shown once.\n",
      "\n",
      "  return func(**kwargs)\n",
      "/opt/conda/lib/python3.11/site-packages/xgboost/core.py:729: UserWarning: [21:16:09] WARNING: /workspace/src/common/error_msg.cc:58: Falling back to prediction using DMatrix due to mismatched devices. This might lead to higher memory usage and slower performance. XGBoost is running on: cuda:0, while the input data is on: cpu.\n",
      "Potential solutions:\n",
      "- Use a data structure that matches the device ordinal in the booster.\n",
      "- Set the device for booster before call to inplace_predict.\n",
      "\n",
      "This warning will only be shown once.\n",
      "\n",
      "  return func(**kwargs)\n"
     ]
    },
    {
     "name": "stdout",
     "output_type": "stream",
     "text": [
      "[CV] END colsample_bytree=0.8, gamma=0.3, learning_rate=0.01, max_depth=3, n_estimators=5, subsample=1.0; total time=  34.6s\n",
      "[CV] END colsample_bytree=0.8, gamma=0.3, learning_rate=0.01, max_depth=3, n_estimators=5, subsample=1.0; total time=  34.7s\n",
      "[CV] END colsample_bytree=0.8, gamma=0.3, learning_rate=0.01, max_depth=3, n_estimators=5, subsample=1.0; total time=  15.2s\n",
      "[CV] END colsample_bytree=0.8, gamma=0.3, learning_rate=0.01, max_depth=3, n_estimators=5, subsample=1.0; total time=  15.2s\n"
     ]
    },
    {
     "name": "stderr",
     "output_type": "stream",
     "text": [
      "/opt/conda/lib/python3.11/site-packages/xgboost/core.py:729: UserWarning: [21:16:34] WARNING: /workspace/src/common/error_msg.cc:58: Falling back to prediction using DMatrix due to mismatched devices. This might lead to higher memory usage and slower performance. XGBoost is running on: cuda:0, while the input data is on: cpu.\n",
      "Potential solutions:\n",
      "- Use a data structure that matches the device ordinal in the booster.\n",
      "- Set the device for booster before call to inplace_predict.\n",
      "\n",
      "This warning will only be shown once.\n",
      "\n",
      "  return func(**kwargs)\n",
      "/opt/conda/lib/python3.11/site-packages/xgboost/core.py:729: UserWarning: [21:16:34] WARNING: /workspace/src/common/error_msg.cc:58: Falling back to prediction using DMatrix due to mismatched devices. This might lead to higher memory usage and slower performance. XGBoost is running on: cuda:0, while the input data is on: cpu.\n",
      "Potential solutions:\n",
      "- Use a data structure that matches the device ordinal in the booster.\n",
      "- Set the device for booster before call to inplace_predict.\n",
      "\n",
      "This warning will only be shown once.\n",
      "\n",
      "  return func(**kwargs)\n",
      "/opt/conda/lib/python3.11/site-packages/xgboost/core.py:729: UserWarning: [21:16:34] WARNING: /workspace/src/common/error_msg.cc:58: Falling back to prediction using DMatrix due to mismatched devices. This might lead to higher memory usage and slower performance. XGBoost is running on: cuda:0, while the input data is on: cpu.\n",
      "Potential solutions:\n",
      "- Use a data structure that matches the device ordinal in the booster.\n",
      "- Set the device for booster before call to inplace_predict.\n",
      "\n",
      "This warning will only be shown once.\n",
      "\n",
      "  return func(**kwargs)\n",
      "/opt/conda/lib/python3.11/site-packages/xgboost/core.py:729: UserWarning: [21:16:34] WARNING: /workspace/src/common/error_msg.cc:58: Falling back to prediction using DMatrix due to mismatched devices. This might lead to higher memory usage and slower performance. XGBoost is running on: cuda:0, while the input data is on: cpu.\n",
      "Potential solutions:\n",
      "- Use a data structure that matches the device ordinal in the booster.\n",
      "- Set the device for booster before call to inplace_predict.\n",
      "\n",
      "This warning will only be shown once.\n",
      "\n",
      "  return func(**kwargs)\n",
      "/opt/conda/lib/python3.11/site-packages/xgboost/core.py:729: UserWarning: [21:16:34] WARNING: /workspace/src/common/error_msg.cc:58: Falling back to prediction using DMatrix due to mismatched devices. This might lead to higher memory usage and slower performance. XGBoost is running on: cuda:0, while the input data is on: cpu.\n",
      "Potential solutions:\n",
      "- Use a data structure that matches the device ordinal in the booster.\n",
      "- Set the device for booster before call to inplace_predict.\n",
      "\n",
      "This warning will only be shown once.\n",
      "\n",
      "  return func(**kwargs)\n"
     ]
    },
    {
     "name": "stdout",
     "output_type": "stream",
     "text": [
      "[CV] END colsample_bytree=0.6, gamma=0.3, learning_rate=0.01, max_depth=1, n_estimators=20, subsample=0.8; total time=  59.6s\n",
      "[CV] END colsample_bytree=0.6, gamma=0.3, learning_rate=0.01, max_depth=1, n_estimators=20, subsample=0.8; total time=  59.7s\n",
      "[CV] END colsample_bytree=0.6, gamma=0.3, learning_rate=0.01, max_depth=1, n_estimators=20, subsample=0.8; total time=  59.8s\n",
      "[CV] END colsample_bytree=0.6, gamma=0.3, learning_rate=0.01, max_depth=1, n_estimators=20, subsample=0.8; total time=  59.7s\n",
      "[CV] END colsample_bytree=0.6, gamma=0.3, learning_rate=0.01, max_depth=1, n_estimators=20, subsample=0.8; total time=  59.9s\n",
      "[CV] END colsample_bytree=0.8, gamma=0.3, learning_rate=0.01, max_depth=3, n_estimators=5, subsample=1.0; total time=  15.3s\n"
     ]
    },
    {
     "name": "stderr",
     "output_type": "stream",
     "text": [
      "/opt/conda/lib/python3.11/site-packages/xgboost/core.py:729: UserWarning: [21:16:46] WARNING: /workspace/src/common/error_msg.cc:58: Falling back to prediction using DMatrix due to mismatched devices. This might lead to higher memory usage and slower performance. XGBoost is running on: cuda:0, while the input data is on: cpu.\n",
      "Potential solutions:\n",
      "- Use a data structure that matches the device ordinal in the booster.\n",
      "- Set the device for booster before call to inplace_predict.\n",
      "\n",
      "This warning will only be shown once.\n",
      "\n",
      "  return func(**kwargs)\n"
     ]
    },
    {
     "name": "stdout",
     "output_type": "stream",
     "text": [
      "[CV] END colsample_bytree=0.8, gamma=0.3, learning_rate=0.1, max_depth=1, n_estimators=150, subsample=0.8; total time= 1.2min\n"
     ]
    },
    {
     "name": "stderr",
     "output_type": "stream",
     "text": [
      "/opt/conda/lib/python3.11/site-packages/xgboost/core.py:729: UserWarning: [21:19:19] WARNING: /workspace/src/common/error_msg.cc:58: Falling back to prediction using DMatrix due to mismatched devices. This might lead to higher memory usage and slower performance. XGBoost is running on: cuda:0, while the input data is on: cpu.\n",
      "Potential solutions:\n",
      "- Use a data structure that matches the device ordinal in the booster.\n",
      "- Set the device for booster before call to inplace_predict.\n",
      "\n",
      "This warning will only be shown once.\n",
      "\n",
      "  return func(**kwargs)\n"
     ]
    },
    {
     "name": "stdout",
     "output_type": "stream",
     "text": [
      "[CV] END colsample_bytree=1.0, gamma=0.1, learning_rate=0.01, max_depth=7, n_estimators=50, subsample=1.0; total time= 3.8min\n"
     ]
    },
    {
     "name": "stderr",
     "output_type": "stream",
     "text": [
      "/opt/conda/lib/python3.11/site-packages/xgboost/core.py:729: UserWarning: [21:19:20] WARNING: /workspace/src/common/error_msg.cc:58: Falling back to prediction using DMatrix due to mismatched devices. This might lead to higher memory usage and slower performance. XGBoost is running on: cuda:0, while the input data is on: cpu.\n",
      "Potential solutions:\n",
      "- Use a data structure that matches the device ordinal in the booster.\n",
      "- Set the device for booster before call to inplace_predict.\n",
      "\n",
      "This warning will only be shown once.\n",
      "\n",
      "  return func(**kwargs)\n"
     ]
    },
    {
     "name": "stdout",
     "output_type": "stream",
     "text": [
      "[CV] END colsample_bytree=1.0, gamma=0.1, learning_rate=0.01, max_depth=7, n_estimators=50, subsample=1.0; total time= 3.8min\n"
     ]
    },
    {
     "name": "stderr",
     "output_type": "stream",
     "text": [
      "/opt/conda/lib/python3.11/site-packages/xgboost/core.py:729: UserWarning: [21:19:21] WARNING: /workspace/src/common/error_msg.cc:58: Falling back to prediction using DMatrix due to mismatched devices. This might lead to higher memory usage and slower performance. XGBoost is running on: cuda:0, while the input data is on: cpu.\n",
      "Potential solutions:\n",
      "- Use a data structure that matches the device ordinal in the booster.\n",
      "- Set the device for booster before call to inplace_predict.\n",
      "\n",
      "This warning will only be shown once.\n",
      "\n",
      "  return func(**kwargs)\n"
     ]
    },
    {
     "name": "stdout",
     "output_type": "stream",
     "text": [
      "[CV] END colsample_bytree=1.0, gamma=0.1, learning_rate=0.01, max_depth=7, n_estimators=50, subsample=1.0; total time= 3.8min\n"
     ]
    },
    {
     "name": "stderr",
     "output_type": "stream",
     "text": [
      "/opt/conda/lib/python3.11/site-packages/xgboost/core.py:729: UserWarning: [21:19:21] WARNING: /workspace/src/common/error_msg.cc:58: Falling back to prediction using DMatrix due to mismatched devices. This might lead to higher memory usage and slower performance. XGBoost is running on: cuda:0, while the input data is on: cpu.\n",
      "Potential solutions:\n",
      "- Use a data structure that matches the device ordinal in the booster.\n",
      "- Set the device for booster before call to inplace_predict.\n",
      "\n",
      "This warning will only be shown once.\n",
      "\n",
      "  return func(**kwargs)\n"
     ]
    },
    {
     "name": "stdout",
     "output_type": "stream",
     "text": [
      "[CV] END colsample_bytree=1.0, gamma=0.1, learning_rate=0.01, max_depth=7, n_estimators=50, subsample=1.0; total time= 3.8min\n"
     ]
    },
    {
     "name": "stderr",
     "output_type": "stream",
     "text": [
      "/opt/conda/lib/python3.11/site-packages/xgboost/core.py:729: UserWarning: [21:19:23] WARNING: /workspace/src/common/error_msg.cc:58: Falling back to prediction using DMatrix due to mismatched devices. This might lead to higher memory usage and slower performance. XGBoost is running on: cuda:0, while the input data is on: cpu.\n",
      "Potential solutions:\n",
      "- Use a data structure that matches the device ordinal in the booster.\n",
      "- Set the device for booster before call to inplace_predict.\n",
      "\n",
      "This warning will only be shown once.\n",
      "\n",
      "  return func(**kwargs)\n"
     ]
    },
    {
     "name": "stdout",
     "output_type": "stream",
     "text": [
      "[CV] END colsample_bytree=1.0, gamma=0.1, learning_rate=0.01, max_depth=7, n_estimators=50, subsample=1.0; total time= 3.8min\n"
     ]
    },
    {
     "name": "stderr",
     "output_type": "stream",
     "text": [
      "/opt/conda/lib/python3.11/site-packages/xgboost/core.py:729: UserWarning: [21:20:55] WARNING: /workspace/src/common/error_msg.cc:58: Falling back to prediction using DMatrix due to mismatched devices. This might lead to higher memory usage and slower performance. XGBoost is running on: cuda:0, while the input data is on: cpu.\n",
      "Potential solutions:\n",
      "- Use a data structure that matches the device ordinal in the booster.\n",
      "- Set the device for booster before call to inplace_predict.\n",
      "\n",
      "This warning will only be shown once.\n",
      "\n",
      "  return func(**kwargs)\n"
     ]
    },
    {
     "name": "stdout",
     "output_type": "stream",
     "text": [
      "[CV] END colsample_bytree=0.8, gamma=0.3, learning_rate=0.1, max_depth=1, n_estimators=150, subsample=0.8; total time= 5.4min\n"
     ]
    },
    {
     "name": "stderr",
     "output_type": "stream",
     "text": [
      "/opt/conda/lib/python3.11/site-packages/xgboost/core.py:729: UserWarning: [21:20:57] WARNING: /workspace/src/common/error_msg.cc:58: Falling back to prediction using DMatrix due to mismatched devices. This might lead to higher memory usage and slower performance. XGBoost is running on: cuda:0, while the input data is on: cpu.\n",
      "Potential solutions:\n",
      "- Use a data structure that matches the device ordinal in the booster.\n",
      "- Set the device for booster before call to inplace_predict.\n",
      "\n",
      "This warning will only be shown once.\n",
      "\n",
      "  return func(**kwargs)\n",
      "/opt/conda/lib/python3.11/site-packages/xgboost/core.py:729: UserWarning: [21:20:57] WARNING: /workspace/src/common/error_msg.cc:58: Falling back to prediction using DMatrix due to mismatched devices. This might lead to higher memory usage and slower performance. XGBoost is running on: cuda:0, while the input data is on: cpu.\n",
      "Potential solutions:\n",
      "- Use a data structure that matches the device ordinal in the booster.\n",
      "- Set the device for booster before call to inplace_predict.\n",
      "\n",
      "This warning will only be shown once.\n",
      "\n",
      "  return func(**kwargs)\n",
      "/opt/conda/lib/python3.11/site-packages/xgboost/core.py:729: UserWarning: [21:20:57] WARNING: /workspace/src/common/error_msg.cc:58: Falling back to prediction using DMatrix due to mismatched devices. This might lead to higher memory usage and slower performance. XGBoost is running on: cuda:0, while the input data is on: cpu.\n",
      "Potential solutions:\n",
      "- Use a data structure that matches the device ordinal in the booster.\n",
      "- Set the device for booster before call to inplace_predict.\n",
      "\n",
      "This warning will only be shown once.\n",
      "\n",
      "  return func(**kwargs)\n"
     ]
    },
    {
     "name": "stdout",
     "output_type": "stream",
     "text": [
      "[CV] END colsample_bytree=0.8, gamma=0.3, learning_rate=0.1, max_depth=1, n_estimators=150, subsample=0.8; total time= 5.4min\n",
      "[CV] END colsample_bytree=0.8, gamma=0.3, learning_rate=0.1, max_depth=1, n_estimators=150, subsample=0.8; total time= 5.4min\n",
      "[CV] END colsample_bytree=0.8, gamma=0.3, learning_rate=0.1, max_depth=1, n_estimators=150, subsample=0.8; total time= 5.4min\n",
      "[CV] END colsample_bytree=0.8, gamma=0, learning_rate=0.1, max_depth=12, n_estimators=20, subsample=1.0; total time= 1.9min\n",
      "[CV] END colsample_bytree=0.8, gamma=0, learning_rate=0.1, max_depth=12, n_estimators=20, subsample=1.0; total time= 1.9min\n",
      "[CV] END colsample_bytree=0.8, gamma=0, learning_rate=0.1, max_depth=12, n_estimators=20, subsample=1.0; total time= 1.9min\n",
      "[CV] END colsample_bytree=1.0, gamma=0.1, learning_rate=0.1, max_depth=4, n_estimators=100, subsample=0.6; total time= 5.0min\n",
      "[CV] END colsample_bytree=1.0, gamma=0.1, learning_rate=0.1, max_depth=4, n_estimators=100, subsample=0.6; total time= 5.0min\n",
      "[CV] END colsample_bytree=1.0, gamma=0.1, learning_rate=0.1, max_depth=4, n_estimators=100, subsample=0.6; total time= 5.0min\n",
      "[CV] END colsample_bytree=1.0, gamma=0.1, learning_rate=0.1, max_depth=4, n_estimators=100, subsample=0.6; total time= 5.0min\n",
      "[CV] END colsample_bytree=1.0, gamma=0.1, learning_rate=0.1, max_depth=4, n_estimators=100, subsample=0.6; total time= 5.0min\n"
     ]
    },
    {
     "name": "stderr",
     "output_type": "stream",
     "text": [
      "/opt/conda/lib/python3.11/site-packages/xgboost/core.py:729: UserWarning: [21:21:33] WARNING: /workspace/src/common/error_msg.cc:58: Falling back to prediction using DMatrix due to mismatched devices. This might lead to higher memory usage and slower performance. XGBoost is running on: cuda:0, while the input data is on: cpu.\n",
      "Potential solutions:\n",
      "- Use a data structure that matches the device ordinal in the booster.\n",
      "- Set the device for booster before call to inplace_predict.\n",
      "\n",
      "This warning will only be shown once.\n",
      "\n",
      "  return func(**kwargs)\n"
     ]
    },
    {
     "name": "stdout",
     "output_type": "stream",
     "text": [
      "[CV] END colsample_bytree=0.8, gamma=0.1, learning_rate=0.1, max_depth=4, n_estimators=100, subsample=1.0; total time= 6.0min\n"
     ]
    },
    {
     "name": "stderr",
     "output_type": "stream",
     "text": [
      "/opt/conda/lib/python3.11/site-packages/xgboost/core.py:729: UserWarning: [21:21:34] WARNING: /workspace/src/common/error_msg.cc:58: Falling back to prediction using DMatrix due to mismatched devices. This might lead to higher memory usage and slower performance. XGBoost is running on: cuda:0, while the input data is on: cpu.\n",
      "Potential solutions:\n",
      "- Use a data structure that matches the device ordinal in the booster.\n",
      "- Set the device for booster before call to inplace_predict.\n",
      "\n",
      "This warning will only be shown once.\n",
      "\n",
      "  return func(**kwargs)\n",
      "/opt/conda/lib/python3.11/site-packages/xgboost/core.py:729: UserWarning: [21:21:34] WARNING: /workspace/src/common/error_msg.cc:58: Falling back to prediction using DMatrix due to mismatched devices. This might lead to higher memory usage and slower performance. XGBoost is running on: cuda:0, while the input data is on: cpu.\n",
      "Potential solutions:\n",
      "- Use a data structure that matches the device ordinal in the booster.\n",
      "- Set the device for booster before call to inplace_predict.\n",
      "\n",
      "This warning will only be shown once.\n",
      "\n",
      "  return func(**kwargs)\n"
     ]
    },
    {
     "name": "stdout",
     "output_type": "stream",
     "text": [
      "[CV] END colsample_bytree=0.8, gamma=0.1, learning_rate=0.1, max_depth=4, n_estimators=100, subsample=1.0; total time= 6.0min\n",
      "[CV] END colsample_bytree=0.8, gamma=0.1, learning_rate=0.1, max_depth=4, n_estimators=100, subsample=1.0; total time= 6.0min\n"
     ]
    },
    {
     "name": "stderr",
     "output_type": "stream",
     "text": [
      "/opt/conda/lib/python3.11/site-packages/xgboost/core.py:729: UserWarning: [21:21:34] WARNING: /workspace/src/common/error_msg.cc:58: Falling back to prediction using DMatrix due to mismatched devices. This might lead to higher memory usage and slower performance. XGBoost is running on: cuda:0, while the input data is on: cpu.\n",
      "Potential solutions:\n",
      "- Use a data structure that matches the device ordinal in the booster.\n",
      "- Set the device for booster before call to inplace_predict.\n",
      "\n",
      "This warning will only be shown once.\n",
      "\n",
      "  return func(**kwargs)\n",
      "/opt/conda/lib/python3.11/site-packages/xgboost/core.py:729: UserWarning: [21:21:34] WARNING: /workspace/src/common/error_msg.cc:58: Falling back to prediction using DMatrix due to mismatched devices. This might lead to higher memory usage and slower performance. XGBoost is running on: cuda:0, while the input data is on: cpu.\n",
      "Potential solutions:\n",
      "- Use a data structure that matches the device ordinal in the booster.\n",
      "- Set the device for booster before call to inplace_predict.\n",
      "\n",
      "This warning will only be shown once.\n",
      "\n",
      "  return func(**kwargs)\n"
     ]
    },
    {
     "name": "stdout",
     "output_type": "stream",
     "text": [
      "[CV] END colsample_bytree=0.8, gamma=0.1, learning_rate=0.1, max_depth=4, n_estimators=100, subsample=1.0; total time= 6.0min\n",
      "[CV] END colsample_bytree=0.8, gamma=0.1, learning_rate=0.1, max_depth=4, n_estimators=100, subsample=1.0; total time= 6.0min\n",
      "[CV] END colsample_bytree=0.8, gamma=0, learning_rate=0.1, max_depth=12, n_estimators=20, subsample=1.0; total time= 1.2min\n",
      "[CV] END colsample_bytree=0.8, gamma=0, learning_rate=0.1, max_depth=12, n_estimators=20, subsample=1.0; total time= 1.2min\n"
     ]
    },
    {
     "name": "stderr",
     "output_type": "stream",
     "text": [
      "/opt/conda/lib/python3.11/site-packages/xgboost/core.py:729: UserWarning: [21:23:14] WARNING: /workspace/src/common/error_msg.cc:58: Falling back to prediction using DMatrix due to mismatched devices. This might lead to higher memory usage and slower performance. XGBoost is running on: cuda:0, while the input data is on: cpu.\n",
      "Potential solutions:\n",
      "- Use a data structure that matches the device ordinal in the booster.\n",
      "- Set the device for booster before call to inplace_predict.\n",
      "\n",
      "This warning will only be shown once.\n",
      "\n",
      "  return func(**kwargs)\n",
      "/opt/conda/lib/python3.11/site-packages/xgboost/core.py:729: UserWarning: [21:23:14] WARNING: /workspace/src/common/error_msg.cc:58: Falling back to prediction using DMatrix due to mismatched devices. This might lead to higher memory usage and slower performance. XGBoost is running on: cuda:0, while the input data is on: cpu.\n",
      "Potential solutions:\n",
      "- Use a data structure that matches the device ordinal in the booster.\n",
      "- Set the device for booster before call to inplace_predict.\n",
      "\n",
      "This warning will only be shown once.\n",
      "\n",
      "  return func(**kwargs)\n"
     ]
    },
    {
     "name": "stdout",
     "output_type": "stream",
     "text": [
      "[CV] END colsample_bytree=0.8, gamma=0.3, learning_rate=0.2, max_depth=8, n_estimators=200, subsample=0.8; total time= 7.7min\n",
      "[CV] END colsample_bytree=0.8, gamma=0.3, learning_rate=0.2, max_depth=8, n_estimators=200, subsample=0.8; total time= 7.7min\n"
     ]
    },
    {
     "name": "stderr",
     "output_type": "stream",
     "text": [
      "/opt/conda/lib/python3.11/site-packages/xgboost/core.py:729: UserWarning: [21:23:15] WARNING: /workspace/src/common/error_msg.cc:58: Falling back to prediction using DMatrix due to mismatched devices. This might lead to higher memory usage and slower performance. XGBoost is running on: cuda:0, while the input data is on: cpu.\n",
      "Potential solutions:\n",
      "- Use a data structure that matches the device ordinal in the booster.\n",
      "- Set the device for booster before call to inplace_predict.\n",
      "\n",
      "This warning will only be shown once.\n",
      "\n",
      "  return func(**kwargs)\n"
     ]
    },
    {
     "name": "stdout",
     "output_type": "stream",
     "text": [
      "[CV] END colsample_bytree=0.8, gamma=0.3, learning_rate=0.2, max_depth=8, n_estimators=200, subsample=0.8; total time= 7.7min\n"
     ]
    },
    {
     "name": "stderr",
     "output_type": "stream",
     "text": [
      "/opt/conda/lib/python3.11/site-packages/xgboost/core.py:729: UserWarning: [21:23:15] WARNING: /workspace/src/common/error_msg.cc:58: Falling back to prediction using DMatrix due to mismatched devices. This might lead to higher memory usage and slower performance. XGBoost is running on: cuda:0, while the input data is on: cpu.\n",
      "Potential solutions:\n",
      "- Use a data structure that matches the device ordinal in the booster.\n",
      "- Set the device for booster before call to inplace_predict.\n",
      "\n",
      "This warning will only be shown once.\n",
      "\n",
      "  return func(**kwargs)\n"
     ]
    },
    {
     "name": "stdout",
     "output_type": "stream",
     "text": [
      "[CV] END colsample_bytree=0.8, gamma=0.3, learning_rate=0.2, max_depth=8, n_estimators=200, subsample=0.8; total time= 7.7min\n"
     ]
    },
    {
     "name": "stderr",
     "output_type": "stream",
     "text": [
      "/opt/conda/lib/python3.11/site-packages/xgboost/core.py:729: UserWarning: [21:23:16] WARNING: /workspace/src/common/error_msg.cc:58: Falling back to prediction using DMatrix due to mismatched devices. This might lead to higher memory usage and slower performance. XGBoost is running on: cuda:0, while the input data is on: cpu.\n",
      "Potential solutions:\n",
      "- Use a data structure that matches the device ordinal in the booster.\n",
      "- Set the device for booster before call to inplace_predict.\n",
      "\n",
      "This warning will only be shown once.\n",
      "\n",
      "  return func(**kwargs)\n"
     ]
    },
    {
     "name": "stdout",
     "output_type": "stream",
     "text": [
      "[CV] END colsample_bytree=0.8, gamma=0.3, learning_rate=0.2, max_depth=8, n_estimators=200, subsample=0.8; total time= 7.7min\n"
     ]
    },
    {
     "name": "stderr",
     "output_type": "stream",
     "text": [
      "/opt/conda/lib/python3.11/site-packages/xgboost/core.py:729: UserWarning: [21:23:51] WARNING: /workspace/src/common/error_msg.cc:58: Falling back to prediction using DMatrix due to mismatched devices. This might lead to higher memory usage and slower performance. XGBoost is running on: cuda:0, while the input data is on: cpu.\n",
      "Potential solutions:\n",
      "- Use a data structure that matches the device ordinal in the booster.\n",
      "- Set the device for booster before call to inplace_predict.\n",
      "\n",
      "This warning will only be shown once.\n",
      "\n",
      "  return func(**kwargs)\n"
     ]
    },
    {
     "name": "stdout",
     "output_type": "stream",
     "text": [
      "[CV] END colsample_bytree=0.6, gamma=0.3, learning_rate=0.01, max_depth=8, n_estimators=150, subsample=0.8; total time= 8.3min\n"
     ]
    },
    {
     "name": "stderr",
     "output_type": "stream",
     "text": [
      "/opt/conda/lib/python3.11/site-packages/xgboost/core.py:729: UserWarning: [21:23:51] WARNING: /workspace/src/common/error_msg.cc:58: Falling back to prediction using DMatrix due to mismatched devices. This might lead to higher memory usage and slower performance. XGBoost is running on: cuda:0, while the input data is on: cpu.\n",
      "Potential solutions:\n",
      "- Use a data structure that matches the device ordinal in the booster.\n",
      "- Set the device for booster before call to inplace_predict.\n",
      "\n",
      "This warning will only be shown once.\n",
      "\n",
      "  return func(**kwargs)\n"
     ]
    },
    {
     "name": "stdout",
     "output_type": "stream",
     "text": [
      "[CV] END colsample_bytree=0.6, gamma=0.3, learning_rate=0.01, max_depth=8, n_estimators=150, subsample=0.8; total time= 8.3min\n"
     ]
    },
    {
     "name": "stderr",
     "output_type": "stream",
     "text": [
      "/opt/conda/lib/python3.11/site-packages/xgboost/core.py:729: UserWarning: [21:23:52] WARNING: /workspace/src/common/error_msg.cc:58: Falling back to prediction using DMatrix due to mismatched devices. This might lead to higher memory usage and slower performance. XGBoost is running on: cuda:0, while the input data is on: cpu.\n",
      "Potential solutions:\n",
      "- Use a data structure that matches the device ordinal in the booster.\n",
      "- Set the device for booster before call to inplace_predict.\n",
      "\n",
      "This warning will only be shown once.\n",
      "\n",
      "  return func(**kwargs)\n"
     ]
    },
    {
     "name": "stdout",
     "output_type": "stream",
     "text": [
      "[CV] END colsample_bytree=0.6, gamma=0.3, learning_rate=0.01, max_depth=8, n_estimators=150, subsample=0.8; total time= 8.3min\n"
     ]
    },
    {
     "name": "stderr",
     "output_type": "stream",
     "text": [
      "/opt/conda/lib/python3.11/site-packages/xgboost/core.py:729: UserWarning: [21:23:53] WARNING: /workspace/src/common/error_msg.cc:58: Falling back to prediction using DMatrix due to mismatched devices. This might lead to higher memory usage and slower performance. XGBoost is running on: cuda:0, while the input data is on: cpu.\n",
      "Potential solutions:\n",
      "- Use a data structure that matches the device ordinal in the booster.\n",
      "- Set the device for booster before call to inplace_predict.\n",
      "\n",
      "This warning will only be shown once.\n",
      "\n",
      "  return func(**kwargs)\n"
     ]
    },
    {
     "name": "stdout",
     "output_type": "stream",
     "text": [
      "[CV] END colsample_bytree=0.6, gamma=0.3, learning_rate=0.01, max_depth=8, n_estimators=150, subsample=0.8; total time= 8.3min\n"
     ]
    },
    {
     "name": "stderr",
     "output_type": "stream",
     "text": [
      "/opt/conda/lib/python3.11/site-packages/xgboost/core.py:729: UserWarning: [21:23:53] WARNING: /workspace/src/common/error_msg.cc:58: Falling back to prediction using DMatrix due to mismatched devices. This might lead to higher memory usage and slower performance. XGBoost is running on: cuda:0, while the input data is on: cpu.\n",
      "Potential solutions:\n",
      "- Use a data structure that matches the device ordinal in the booster.\n",
      "- Set the device for booster before call to inplace_predict.\n",
      "\n",
      "This warning will only be shown once.\n",
      "\n",
      "  return func(**kwargs)\n"
     ]
    },
    {
     "name": "stdout",
     "output_type": "stream",
     "text": [
      "[CV] END colsample_bytree=0.6, gamma=0.3, learning_rate=0.01, max_depth=8, n_estimators=150, subsample=0.8; total time= 8.3min\n",
      "[CV] END colsample_bytree=1.0, gamma=0.1, learning_rate=0.1, max_depth=12, n_estimators=200, subsample=0.8; total time= 7.6min\n",
      "[CV] END colsample_bytree=1.0, gamma=0.1, learning_rate=0.1, max_depth=12, n_estimators=200, subsample=0.8; total time= 7.5min\n",
      "[CV] END colsample_bytree=1.0, gamma=0.1, learning_rate=0.1, max_depth=12, n_estimators=200, subsample=0.8; total time= 7.4min\n",
      "[CV] END colsample_bytree=1.0, gamma=0.1, learning_rate=0.1, max_depth=12, n_estimators=200, subsample=0.8; total time= 5.0min\n",
      "[CV] END colsample_bytree=1.0, gamma=0.1, learning_rate=0.1, max_depth=12, n_estimators=200, subsample=0.8; total time= 5.0min\n",
      "Training best XGBoost classifier...\n",
      "Making predictions...\n",
      "Accuracy: 57.78%\n",
      "---------------------------------------------------\n",
      "Computing for partition 2, balanced classes with 200 entries for each class and one hot encoded geodata\n",
      "Finding optimal hyperparameters...\n",
      "Fitting 5 folds for each of 10 candidates, totalling 50 fits\n",
      "[CV] END colsample_bytree=0.8, gamma=0.1, learning_rate=0.001, max_depth=7, n_estimators=10, subsample=1.0; total time=  48.3s\n",
      "[CV] END colsample_bytree=0.8, gamma=0.1, learning_rate=0.001, max_depth=7, n_estimators=10, subsample=1.0; total time=  48.6s\n",
      "[CV] END colsample_bytree=0.8, gamma=0.1, learning_rate=0.001, max_depth=7, n_estimators=10, subsample=1.0; total time=  48.7s\n",
      "[CV] END colsample_bytree=0.8, gamma=0.1, learning_rate=0.001, max_depth=7, n_estimators=10, subsample=1.0; total time=  48.7s\n",
      "[CV] END colsample_bytree=0.8, gamma=0.1, learning_rate=0.001, max_depth=7, n_estimators=10, subsample=1.0; total time=  48.8s\n",
      "[CV] END colsample_bytree=1.0, gamma=0.1, learning_rate=0.2, max_depth=11, n_estimators=20, subsample=0.6; total time= 1.8min\n",
      "[CV] END colsample_bytree=1.0, gamma=0.1, learning_rate=0.2, max_depth=11, n_estimators=20, subsample=0.6; total time= 1.8min\n",
      "[CV] END colsample_bytree=1.0, gamma=0.1, learning_rate=0.2, max_depth=11, n_estimators=20, subsample=0.6; total time= 1.9min\n",
      "[CV] END colsample_bytree=1.0, gamma=0.1, learning_rate=0.2, max_depth=11, n_estimators=20, subsample=0.6; total time= 1.9min\n",
      "[CV] END colsample_bytree=1.0, gamma=0.1, learning_rate=0.2, max_depth=11, n_estimators=20, subsample=0.6; total time= 1.9min\n",
      "[CV] END colsample_bytree=0.6, gamma=0.1, learning_rate=0.2, max_depth=7, n_estimators=50, subsample=0.6; total time= 4.0min\n",
      "[CV] END colsample_bytree=0.6, gamma=0.1, learning_rate=0.2, max_depth=7, n_estimators=50, subsample=0.6; total time= 4.0min\n",
      "[CV] END colsample_bytree=0.6, gamma=0.1, learning_rate=0.2, max_depth=7, n_estimators=50, subsample=0.6; total time= 4.1min\n",
      "[CV] END colsample_bytree=0.6, gamma=0.1, learning_rate=0.2, max_depth=7, n_estimators=50, subsample=0.6; total time= 4.1min\n",
      "[CV] END colsample_bytree=0.6, gamma=0.1, learning_rate=0.2, max_depth=7, n_estimators=50, subsample=0.6; total time= 4.1min\n",
      "[CV] END colsample_bytree=1.0, gamma=0.3, learning_rate=0.001, max_depth=9, n_estimators=20, subsample=0.8; total time= 1.7min\n",
      "[CV] END colsample_bytree=1.0, gamma=0.3, learning_rate=0.001, max_depth=9, n_estimators=20, subsample=0.8; total time= 1.7min\n",
      "[CV] END colsample_bytree=1.0, gamma=0.3, learning_rate=0.001, max_depth=9, n_estimators=20, subsample=0.8; total time= 1.7min\n",
      "[CV] END colsample_bytree=1.0, gamma=0.3, learning_rate=0.001, max_depth=9, n_estimators=20, subsample=0.8; total time= 1.7min\n",
      "[CV] END colsample_bytree=1.0, gamma=0.3, learning_rate=0.001, max_depth=9, n_estimators=20, subsample=0.8; total time= 1.6min\n",
      "[CV] END colsample_bytree=0.6, gamma=0, learning_rate=0.05, max_depth=12, n_estimators=150, subsample=1.0; total time=16.1min\n",
      "[CV] END colsample_bytree=0.6, gamma=0, learning_rate=0.05, max_depth=12, n_estimators=150, subsample=1.0; total time=16.2min\n",
      "[CV] END colsample_bytree=0.6, gamma=0, learning_rate=0.05, max_depth=12, n_estimators=150, subsample=1.0; total time=16.2min\n",
      "[CV] END colsample_bytree=0.6, gamma=0, learning_rate=0.05, max_depth=12, n_estimators=150, subsample=1.0; total time=16.2min\n",
      "[CV] END colsample_bytree=0.6, gamma=0, learning_rate=0.05, max_depth=12, n_estimators=150, subsample=1.0; total time=16.2min\n",
      "[CV] END colsample_bytree=0.6, gamma=0, learning_rate=0.2, max_depth=10, n_estimators=200, subsample=1.0; total time=17.6min\n",
      "[CV] END colsample_bytree=0.6, gamma=0, learning_rate=0.2, max_depth=10, n_estimators=200, subsample=1.0; total time=17.6min\n",
      "[CV] END colsample_bytree=0.6, gamma=0, learning_rate=0.2, max_depth=10, n_estimators=200, subsample=1.0; total time=17.7min\n",
      "[CV] END colsample_bytree=0.6, gamma=0, learning_rate=0.2, max_depth=10, n_estimators=200, subsample=1.0; total time=17.7min\n",
      "[CV] END colsample_bytree=0.6, gamma=0, learning_rate=0.2, max_depth=10, n_estimators=200, subsample=1.0; total time=17.7min\n",
      "[CV] END colsample_bytree=0.6, gamma=0.1, learning_rate=0.01, max_depth=5, n_estimators=300, subsample=0.6; total time=19.0min\n",
      "[CV] END colsample_bytree=0.6, gamma=0.1, learning_rate=0.01, max_depth=5, n_estimators=300, subsample=0.6; total time=19.0min\n",
      "[CV] END colsample_bytree=0.6, gamma=0.1, learning_rate=0.01, max_depth=5, n_estimators=300, subsample=0.6; total time=18.6min\n",
      "[CV] END colsample_bytree=0.6, gamma=0.1, learning_rate=0.01, max_depth=5, n_estimators=300, subsample=0.6; total time=18.6min\n",
      "[CV] END colsample_bytree=0.6, gamma=0.1, learning_rate=0.01, max_depth=5, n_estimators=300, subsample=0.6; total time=18.6min\n",
      "[CV] END colsample_bytree=1.0, gamma=0.1, learning_rate=0.001, max_depth=11, n_estimators=300, subsample=1.0; total time=23.1min\n",
      "[CV] END colsample_bytree=1.0, gamma=0.1, learning_rate=0.001, max_depth=11, n_estimators=300, subsample=1.0; total time=23.2min\n",
      "[CV] END colsample_bytree=1.0, gamma=0.1, learning_rate=0.001, max_depth=11, n_estimators=300, subsample=1.0; total time=23.2min\n",
      "[CV] END colsample_bytree=1.0, gamma=0.1, learning_rate=0.001, max_depth=11, n_estimators=300, subsample=1.0; total time=23.3min\n",
      "[CV] END colsample_bytree=1.0, gamma=0.1, learning_rate=0.001, max_depth=11, n_estimators=300, subsample=1.0; total time=23.3min\n",
      "[CV] END colsample_bytree=1.0, gamma=0.3, learning_rate=0.05, max_depth=12, n_estimators=500, subsample=0.6; total time=23.9min\n",
      "[CV] END colsample_bytree=1.0, gamma=0.3, learning_rate=0.05, max_depth=12, n_estimators=500, subsample=0.6; total time=23.9min\n",
      "[CV] END colsample_bytree=1.0, gamma=0.3, learning_rate=0.05, max_depth=12, n_estimators=500, subsample=0.6; total time=24.0min\n",
      "[CV] END colsample_bytree=1.0, gamma=0.3, learning_rate=0.05, max_depth=12, n_estimators=500, subsample=0.6; total time=24.0min\n",
      "[CV] END colsample_bytree=1.0, gamma=0.3, learning_rate=0.05, max_depth=12, n_estimators=500, subsample=0.6; total time=24.0min\n",
      "[CV] END colsample_bytree=0.8, gamma=0, learning_rate=0.05, max_depth=7, n_estimators=500, subsample=0.6; total time=23.7min\n",
      "[CV] END colsample_bytree=0.8, gamma=0, learning_rate=0.05, max_depth=7, n_estimators=500, subsample=0.6; total time=23.8min\n",
      "[CV] END colsample_bytree=0.8, gamma=0, learning_rate=0.05, max_depth=7, n_estimators=500, subsample=0.6; total time=21.0min\n",
      "[CV] END colsample_bytree=0.8, gamma=0, learning_rate=0.05, max_depth=7, n_estimators=500, subsample=0.6; total time=21.0min\n",
      "[CV] END colsample_bytree=0.8, gamma=0, learning_rate=0.05, max_depth=7, n_estimators=500, subsample=0.6; total time=20.0min\n",
      "Training best XGBoost classifier...\n",
      "Making predictions...\n",
      "Accuracy: 50.28%\n",
      "---------------------------------------------------\n",
      "Computing for partition 3, balanced classes with 300 entries for each class and one hot encoded geodata\n",
      "Finding optimal hyperparameters...\n",
      "Fitting 5 folds for each of 10 candidates, totalling 50 fits\n",
      "[CV] END colsample_bytree=0.8, gamma=0.1, learning_rate=0.05, max_depth=3, n_estimators=5, subsample=1.0; total time=   7.9s\n",
      "[CV] END colsample_bytree=0.8, gamma=0.1, learning_rate=0.05, max_depth=3, n_estimators=5, subsample=1.0; total time=   7.9s\n",
      "[CV] END colsample_bytree=0.8, gamma=0.1, learning_rate=0.05, max_depth=3, n_estimators=5, subsample=1.0; total time=   8.0s\n",
      "[CV] END colsample_bytree=0.8, gamma=0.1, learning_rate=0.05, max_depth=3, n_estimators=5, subsample=1.0; total time=   8.1s\n",
      "[CV] END colsample_bytree=0.8, gamma=0.1, learning_rate=0.05, max_depth=3, n_estimators=5, subsample=1.0; total time=   8.1s\n",
      "[CV] END colsample_bytree=0.8, gamma=0.1, learning_rate=0.1, max_depth=9, n_estimators=5, subsample=0.8; total time=  18.7s\n",
      "[CV] END colsample_bytree=0.8, gamma=0.1, learning_rate=0.1, max_depth=9, n_estimators=5, subsample=0.8; total time=  18.7s\n"
     ]
    },
    {
     "name": "stderr",
     "output_type": "stream",
     "text": [
      "/opt/conda/lib/python3.11/site-packages/xgboost/core.py:729: UserWarning: [21:51:00] WARNING: /workspace/src/common/error_msg.cc:58: Falling back to prediction using DMatrix due to mismatched devices. This might lead to higher memory usage and slower performance. XGBoost is running on: cuda:0, while the input data is on: cpu.\n",
      "Potential solutions:\n",
      "- Use a data structure that matches the device ordinal in the booster.\n",
      "- Set the device for booster before call to inplace_predict.\n",
      "\n",
      "This warning will only be shown once.\n",
      "\n",
      "  return func(**kwargs)\n",
      "/opt/conda/lib/python3.11/site-packages/xgboost/core.py:729: UserWarning: [21:51:01] WARNING: /workspace/src/common/error_msg.cc:58: Falling back to prediction using DMatrix due to mismatched devices. This might lead to higher memory usage and slower performance. XGBoost is running on: cuda:0, while the input data is on: cpu.\n",
      "Potential solutions:\n",
      "- Use a data structure that matches the device ordinal in the booster.\n",
      "- Set the device for booster before call to inplace_predict.\n",
      "\n",
      "This warning will only be shown once.\n",
      "\n",
      "  return func(**kwargs)\n"
     ]
    },
    {
     "name": "stdout",
     "output_type": "stream",
     "text": [
      "[CV] END colsample_bytree=0.8, gamma=0.1, learning_rate=0.01, max_depth=5, n_estimators=5, subsample=1.0; total time=  38.6s\n",
      "[CV] END colsample_bytree=0.8, gamma=0.1, learning_rate=0.01, max_depth=5, n_estimators=5, subsample=1.0; total time=  38.6s\n"
     ]
    },
    {
     "name": "stderr",
     "output_type": "stream",
     "text": [
      "/opt/conda/lib/python3.11/site-packages/xgboost/core.py:729: UserWarning: [21:51:01] WARNING: /workspace/src/common/error_msg.cc:58: Falling back to prediction using DMatrix due to mismatched devices. This might lead to higher memory usage and slower performance. XGBoost is running on: cuda:0, while the input data is on: cpu.\n",
      "Potential solutions:\n",
      "- Use a data structure that matches the device ordinal in the booster.\n",
      "- Set the device for booster before call to inplace_predict.\n",
      "\n",
      "This warning will only be shown once.\n",
      "\n",
      "  return func(**kwargs)\n",
      "/opt/conda/lib/python3.11/site-packages/xgboost/core.py:729: UserWarning: [21:51:01] WARNING: /workspace/src/common/error_msg.cc:58: Falling back to prediction using DMatrix due to mismatched devices. This might lead to higher memory usage and slower performance. XGBoost is running on: cuda:0, while the input data is on: cpu.\n",
      "Potential solutions:\n",
      "- Use a data structure that matches the device ordinal in the booster.\n",
      "- Set the device for booster before call to inplace_predict.\n",
      "\n",
      "This warning will only be shown once.\n",
      "\n",
      "  return func(**kwargs)\n"
     ]
    },
    {
     "name": "stdout",
     "output_type": "stream",
     "text": [
      "[CV] END colsample_bytree=0.8, gamma=0.1, learning_rate=0.01, max_depth=5, n_estimators=5, subsample=1.0; total time=  38.8s\n",
      "[CV] END colsample_bytree=0.8, gamma=0.1, learning_rate=0.01, max_depth=5, n_estimators=5, subsample=1.0; total time=  38.9s\n"
     ]
    },
    {
     "name": "stderr",
     "output_type": "stream",
     "text": [
      "/opt/conda/lib/python3.11/site-packages/xgboost/core.py:729: UserWarning: [21:51:01] WARNING: /workspace/src/common/error_msg.cc:58: Falling back to prediction using DMatrix due to mismatched devices. This might lead to higher memory usage and slower performance. XGBoost is running on: cuda:0, while the input data is on: cpu.\n",
      "Potential solutions:\n",
      "- Use a data structure that matches the device ordinal in the booster.\n",
      "- Set the device for booster before call to inplace_predict.\n",
      "\n",
      "This warning will only be shown once.\n",
      "\n",
      "  return func(**kwargs)\n"
     ]
    },
    {
     "name": "stdout",
     "output_type": "stream",
     "text": [
      "[CV] END colsample_bytree=0.8, gamma=0.1, learning_rate=0.01, max_depth=5, n_estimators=5, subsample=1.0; total time=  39.0s\n",
      "[CV] END colsample_bytree=0.8, gamma=0.1, learning_rate=0.1, max_depth=9, n_estimators=5, subsample=0.8; total time=  28.3s\n",
      "[CV] END colsample_bytree=0.8, gamma=0.1, learning_rate=0.1, max_depth=9, n_estimators=5, subsample=0.8; total time=  28.3s\n"
     ]
    },
    {
     "name": "stderr",
     "output_type": "stream",
     "text": [
      "/opt/conda/lib/python3.11/site-packages/xgboost/core.py:729: UserWarning: [21:51:25] WARNING: /workspace/src/common/error_msg.cc:58: Falling back to prediction using DMatrix due to mismatched devices. This might lead to higher memory usage and slower performance. XGBoost is running on: cuda:0, while the input data is on: cpu.\n",
      "Potential solutions:\n",
      "- Use a data structure that matches the device ordinal in the booster.\n",
      "- Set the device for booster before call to inplace_predict.\n",
      "\n",
      "This warning will only be shown once.\n",
      "\n",
      "  return func(**kwargs)\n"
     ]
    },
    {
     "name": "stdout",
     "output_type": "stream",
     "text": [
      "[CV] END colsample_bytree=1.0, gamma=0.1, learning_rate=0.01, max_depth=2, n_estimators=20, subsample=0.8; total time= 1.0min\n"
     ]
    },
    {
     "name": "stderr",
     "output_type": "stream",
     "text": [
      "/opt/conda/lib/python3.11/site-packages/xgboost/core.py:729: UserWarning: [21:51:25] WARNING: /workspace/src/common/error_msg.cc:58: Falling back to prediction using DMatrix due to mismatched devices. This might lead to higher memory usage and slower performance. XGBoost is running on: cuda:0, while the input data is on: cpu.\n",
      "Potential solutions:\n",
      "- Use a data structure that matches the device ordinal in the booster.\n",
      "- Set the device for booster before call to inplace_predict.\n",
      "\n",
      "This warning will only be shown once.\n",
      "\n",
      "  return func(**kwargs)\n"
     ]
    },
    {
     "name": "stdout",
     "output_type": "stream",
     "text": [
      "[CV] END colsample_bytree=1.0, gamma=0.1, learning_rate=0.01, max_depth=2, n_estimators=20, subsample=0.8; total time= 1.0min\n"
     ]
    },
    {
     "name": "stderr",
     "output_type": "stream",
     "text": [
      "/opt/conda/lib/python3.11/site-packages/xgboost/core.py:729: UserWarning: [21:51:25] WARNING: /workspace/src/common/error_msg.cc:58: Falling back to prediction using DMatrix due to mismatched devices. This might lead to higher memory usage and slower performance. XGBoost is running on: cuda:0, while the input data is on: cpu.\n",
      "Potential solutions:\n",
      "- Use a data structure that matches the device ordinal in the booster.\n",
      "- Set the device for booster before call to inplace_predict.\n",
      "\n",
      "This warning will only be shown once.\n",
      "\n",
      "  return func(**kwargs)\n",
      "/opt/conda/lib/python3.11/site-packages/xgboost/core.py:729: UserWarning: [21:51:25] WARNING: /workspace/src/common/error_msg.cc:58: Falling back to prediction using DMatrix due to mismatched devices. This might lead to higher memory usage and slower performance. XGBoost is running on: cuda:0, while the input data is on: cpu.\n",
      "Potential solutions:\n",
      "- Use a data structure that matches the device ordinal in the booster.\n",
      "- Set the device for booster before call to inplace_predict.\n",
      "\n",
      "This warning will only be shown once.\n",
      "\n",
      "  return func(**kwargs)\n",
      "/opt/conda/lib/python3.11/site-packages/xgboost/core.py:729: UserWarning: [21:51:25] WARNING: /workspace/src/common/error_msg.cc:58: Falling back to prediction using DMatrix due to mismatched devices. This might lead to higher memory usage and slower performance. XGBoost is running on: cuda:0, while the input data is on: cpu.\n",
      "Potential solutions:\n",
      "- Use a data structure that matches the device ordinal in the booster.\n",
      "- Set the device for booster before call to inplace_predict.\n",
      "\n",
      "This warning will only be shown once.\n",
      "\n",
      "  return func(**kwargs)\n"
     ]
    },
    {
     "name": "stdout",
     "output_type": "stream",
     "text": [
      "[CV] END colsample_bytree=1.0, gamma=0.1, learning_rate=0.01, max_depth=2, n_estimators=20, subsample=0.8; total time= 1.1min\n",
      "[CV] END colsample_bytree=1.0, gamma=0.1, learning_rate=0.01, max_depth=2, n_estimators=20, subsample=0.8; total time= 1.1min\n",
      "[CV] END colsample_bytree=1.0, gamma=0.1, learning_rate=0.01, max_depth=2, n_estimators=20, subsample=0.8; total time= 1.1min\n",
      "[CV] END colsample_bytree=0.8, gamma=0.1, learning_rate=0.1, max_depth=9, n_estimators=5, subsample=0.8; total time=  28.3s\n",
      "[CV] END colsample_bytree=1.0, gamma=0.3, learning_rate=0.05, max_depth=3, n_estimators=100, subsample=0.8; total time= 4.2min\n",
      "[CV] END colsample_bytree=0.6, gamma=0, learning_rate=0.1, max_depth=9, n_estimators=50, subsample=0.6; total time= 4.5min\n",
      "[CV] END colsample_bytree=0.6, gamma=0, learning_rate=0.1, max_depth=9, n_estimators=50, subsample=0.6; total time= 4.5min\n",
      "[CV] END colsample_bytree=0.6, gamma=0, learning_rate=0.1, max_depth=9, n_estimators=50, subsample=0.6; total time= 4.5min\n",
      "[CV] END colsample_bytree=0.6, gamma=0, learning_rate=0.1, max_depth=9, n_estimators=50, subsample=0.6; total time= 4.5min\n",
      "[CV] END colsample_bytree=1.0, gamma=0.3, learning_rate=0.05, max_depth=3, n_estimators=100, subsample=0.8; total time= 4.2min\n",
      "[CV] END colsample_bytree=1.0, gamma=0.3, learning_rate=0.05, max_depth=3, n_estimators=100, subsample=0.8; total time= 4.2min\n",
      "[CV] END colsample_bytree=1.0, gamma=0.3, learning_rate=0.05, max_depth=3, n_estimators=100, subsample=0.8; total time= 4.2min\n",
      "[CV] END colsample_bytree=1.0, gamma=0.3, learning_rate=0.05, max_depth=3, n_estimators=100, subsample=0.8; total time= 4.2min\n",
      "[CV] END colsample_bytree=0.6, gamma=0, learning_rate=0.1, max_depth=9, n_estimators=50, subsample=0.6; total time= 4.4min\n",
      "[CV] END colsample_bytree=0.6, gamma=0, learning_rate=0.001, max_depth=8, n_estimators=100, subsample=0.8; total time= 7.1min\n",
      "[CV] END colsample_bytree=0.6, gamma=0, learning_rate=0.001, max_depth=8, n_estimators=100, subsample=0.8; total time= 7.1min\n",
      "[CV] END colsample_bytree=0.6, gamma=0, learning_rate=0.001, max_depth=8, n_estimators=100, subsample=0.8; total time= 7.1min\n"
     ]
    },
    {
     "name": "stderr",
     "output_type": "stream",
     "text": [
      "/opt/conda/lib/python3.11/site-packages/xgboost/core.py:729: UserWarning: [21:57:47] WARNING: /workspace/src/common/error_msg.cc:58: Falling back to prediction using DMatrix due to mismatched devices. This might lead to higher memory usage and slower performance. XGBoost is running on: cuda:0, while the input data is on: cpu.\n",
      "Potential solutions:\n",
      "- Use a data structure that matches the device ordinal in the booster.\n",
      "- Set the device for booster before call to inplace_predict.\n",
      "\n",
      "This warning will only be shown once.\n",
      "\n",
      "  return func(**kwargs)\n"
     ]
    },
    {
     "name": "stdout",
     "output_type": "stream",
     "text": [
      "[CV] END colsample_bytree=0.6, gamma=0, learning_rate=0.001, max_depth=8, n_estimators=100, subsample=0.8; total time= 7.4min\n"
     ]
    },
    {
     "name": "stderr",
     "output_type": "stream",
     "text": [
      "/opt/conda/lib/python3.11/site-packages/xgboost/core.py:729: UserWarning: [21:57:47] WARNING: /workspace/src/common/error_msg.cc:58: Falling back to prediction using DMatrix due to mismatched devices. This might lead to higher memory usage and slower performance. XGBoost is running on: cuda:0, while the input data is on: cpu.\n",
      "Potential solutions:\n",
      "- Use a data structure that matches the device ordinal in the booster.\n",
      "- Set the device for booster before call to inplace_predict.\n",
      "\n",
      "This warning will only be shown once.\n",
      "\n",
      "  return func(**kwargs)\n"
     ]
    },
    {
     "name": "stdout",
     "output_type": "stream",
     "text": [
      "[CV] END colsample_bytree=0.6, gamma=0, learning_rate=0.001, max_depth=8, n_estimators=100, subsample=0.8; total time= 7.4min\n"
     ]
    },
    {
     "name": "stderr",
     "output_type": "stream",
     "text": [
      "/opt/conda/lib/python3.11/site-packages/xgboost/core.py:729: UserWarning: [22:01:42] WARNING: /workspace/src/common/error_msg.cc:58: Falling back to prediction using DMatrix due to mismatched devices. This might lead to higher memory usage and slower performance. XGBoost is running on: cuda:0, while the input data is on: cpu.\n",
      "Potential solutions:\n",
      "- Use a data structure that matches the device ordinal in the booster.\n",
      "- Set the device for booster before call to inplace_predict.\n",
      "\n",
      "This warning will only be shown once.\n",
      "\n",
      "  return func(**kwargs)\n",
      "/opt/conda/lib/python3.11/site-packages/xgboost/core.py:729: UserWarning: [22:01:42] WARNING: /workspace/src/common/error_msg.cc:58: Falling back to prediction using DMatrix due to mismatched devices. This might lead to higher memory usage and slower performance. XGBoost is running on: cuda:0, while the input data is on: cpu.\n",
      "Potential solutions:\n",
      "- Use a data structure that matches the device ordinal in the booster.\n",
      "- Set the device for booster before call to inplace_predict.\n",
      "\n",
      "This warning will only be shown once.\n",
      "\n",
      "  return func(**kwargs)\n",
      "/opt/conda/lib/python3.11/site-packages/xgboost/core.py:729: UserWarning: [22:01:42] WARNING: /workspace/src/common/error_msg.cc:58: Falling back to prediction using DMatrix due to mismatched devices. This might lead to higher memory usage and slower performance. XGBoost is running on: cuda:0, while the input data is on: cpu.\n",
      "Potential solutions:\n",
      "- Use a data structure that matches the device ordinal in the booster.\n",
      "- Set the device for booster before call to inplace_predict.\n",
      "\n",
      "This warning will only be shown once.\n",
      "\n",
      "  return func(**kwargs)\n",
      "/opt/conda/lib/python3.11/site-packages/xgboost/core.py:729: UserWarning: [22:01:42] WARNING: /workspace/src/common/error_msg.cc:58: Falling back to prediction using DMatrix due to mismatched devices. This might lead to higher memory usage and slower performance. XGBoost is running on: cuda:0, while the input data is on: cpu.\n",
      "Potential solutions:\n",
      "- Use a data structure that matches the device ordinal in the booster.\n",
      "- Set the device for booster before call to inplace_predict.\n",
      "\n",
      "This warning will only be shown once.\n",
      "\n",
      "  return func(**kwargs)\n",
      "/opt/conda/lib/python3.11/site-packages/xgboost/core.py:729: UserWarning: [22:01:42] WARNING: /workspace/src/common/error_msg.cc:58: Falling back to prediction using DMatrix due to mismatched devices. This might lead to higher memory usage and slower performance. XGBoost is running on: cuda:0, while the input data is on: cpu.\n",
      "Potential solutions:\n",
      "- Use a data structure that matches the device ordinal in the booster.\n",
      "- Set the device for booster before call to inplace_predict.\n",
      "\n",
      "This warning will only be shown once.\n",
      "\n",
      "  return func(**kwargs)\n"
     ]
    },
    {
     "name": "stdout",
     "output_type": "stream",
     "text": [
      "[CV] END colsample_bytree=0.8, gamma=0, learning_rate=0.2, max_depth=1, n_estimators=500, subsample=0.8; total time=11.3min\n",
      "[CV] END colsample_bytree=0.8, gamma=0, learning_rate=0.2, max_depth=1, n_estimators=500, subsample=0.8; total time=11.3min\n",
      "[CV] END colsample_bytree=0.8, gamma=0, learning_rate=0.2, max_depth=1, n_estimators=500, subsample=0.8; total time=11.3min\n",
      "[CV] END colsample_bytree=0.8, gamma=0, learning_rate=0.2, max_depth=1, n_estimators=500, subsample=0.8; total time=11.3min\n",
      "[CV] END colsample_bytree=0.8, gamma=0, learning_rate=0.2, max_depth=1, n_estimators=500, subsample=0.8; total time=11.3min\n",
      "[CV] END colsample_bytree=0.8, gamma=0.3, learning_rate=0.2, max_depth=12, n_estimators=500, subsample=0.6; total time=14.4min\n",
      "[CV] END colsample_bytree=0.8, gamma=0.3, learning_rate=0.2, max_depth=12, n_estimators=500, subsample=0.6; total time=14.5min\n",
      "[CV] END colsample_bytree=0.8, gamma=0.3, learning_rate=0.2, max_depth=12, n_estimators=500, subsample=0.6; total time=14.6min\n",
      "[CV] END colsample_bytree=0.8, gamma=0.3, learning_rate=0.2, max_depth=12, n_estimators=500, subsample=0.6; total time=14.6min\n",
      "[CV] END colsample_bytree=0.8, gamma=0.3, learning_rate=0.2, max_depth=12, n_estimators=500, subsample=0.6; total time=14.6min\n",
      "[CV] END colsample_bytree=1.0, gamma=0.1, learning_rate=0.05, max_depth=7, n_estimators=500, subsample=0.8; total time=15.6min\n",
      "[CV] END colsample_bytree=1.0, gamma=0.1, learning_rate=0.05, max_depth=7, n_estimators=500, subsample=0.8; total time=15.6min\n",
      "[CV] END colsample_bytree=1.0, gamma=0.1, learning_rate=0.05, max_depth=7, n_estimators=500, subsample=0.8; total time=15.6min\n",
      "[CV] END colsample_bytree=1.0, gamma=0.1, learning_rate=0.05, max_depth=7, n_estimators=500, subsample=0.8; total time=15.6min\n",
      "[CV] END colsample_bytree=1.0, gamma=0.1, learning_rate=0.05, max_depth=7, n_estimators=500, subsample=0.8; total time=15.6min\n",
      "Training best XGBoost classifier...\n",
      "Making predictions...\n",
      "Accuracy: 50.78%\n",
      "---------------------------------------------------\n",
      "Computing for partition 4, balanced classes with 478 entries for each class and one hot encoded geodata\n",
      "Finding optimal hyperparameters...\n",
      "Fitting 5 folds for each of 10 candidates, totalling 50 fits\n"
     ]
    },
    {
     "name": "stderr",
     "output_type": "stream",
     "text": [
      "/opt/conda/lib/python3.11/site-packages/xgboost/core.py:729: UserWarning: [22:06:41] WARNING: /workspace/src/common/error_msg.cc:58: Falling back to prediction using DMatrix due to mismatched devices. This might lead to higher memory usage and slower performance. XGBoost is running on: cuda:0, while the input data is on: cpu.\n",
      "Potential solutions:\n",
      "- Use a data structure that matches the device ordinal in the booster.\n",
      "- Set the device for booster before call to inplace_predict.\n",
      "\n",
      "This warning will only be shown once.\n",
      "\n",
      "  return func(**kwargs)\n"
     ]
    },
    {
     "name": "stdout",
     "output_type": "stream",
     "text": [
      "[CV] END colsample_bytree=0.6, gamma=0, learning_rate=0.001, max_depth=4, n_estimators=5, subsample=0.6; total time=  38.3s\n"
     ]
    },
    {
     "name": "stderr",
     "output_type": "stream",
     "text": [
      "/opt/conda/lib/python3.11/site-packages/xgboost/core.py:729: UserWarning: [22:06:41] WARNING: /workspace/src/common/error_msg.cc:58: Falling back to prediction using DMatrix due to mismatched devices. This might lead to higher memory usage and slower performance. XGBoost is running on: cuda:0, while the input data is on: cpu.\n",
      "Potential solutions:\n",
      "- Use a data structure that matches the device ordinal in the booster.\n",
      "- Set the device for booster before call to inplace_predict.\n",
      "\n",
      "This warning will only be shown once.\n",
      "\n",
      "  return func(**kwargs)\n",
      "/opt/conda/lib/python3.11/site-packages/xgboost/core.py:729: UserWarning: [22:06:41] WARNING: /workspace/src/common/error_msg.cc:58: Falling back to prediction using DMatrix due to mismatched devices. This might lead to higher memory usage and slower performance. XGBoost is running on: cuda:0, while the input data is on: cpu.\n",
      "Potential solutions:\n",
      "- Use a data structure that matches the device ordinal in the booster.\n",
      "- Set the device for booster before call to inplace_predict.\n",
      "\n",
      "This warning will only be shown once.\n",
      "\n",
      "  return func(**kwargs)\n"
     ]
    },
    {
     "name": "stdout",
     "output_type": "stream",
     "text": [
      "[CV] END colsample_bytree=0.6, gamma=0, learning_rate=0.001, max_depth=4, n_estimators=5, subsample=0.6; total time=  38.8s\n",
      "[CV] END colsample_bytree=0.6, gamma=0, learning_rate=0.001, max_depth=4, n_estimators=5, subsample=0.6; total time=  38.9s\n"
     ]
    },
    {
     "name": "stderr",
     "output_type": "stream",
     "text": [
      "/opt/conda/lib/python3.11/site-packages/xgboost/core.py:729: UserWarning: [22:06:42] WARNING: /workspace/src/common/error_msg.cc:58: Falling back to prediction using DMatrix due to mismatched devices. This might lead to higher memory usage and slower performance. XGBoost is running on: cuda:0, while the input data is on: cpu.\n",
      "Potential solutions:\n",
      "- Use a data structure that matches the device ordinal in the booster.\n",
      "- Set the device for booster before call to inplace_predict.\n",
      "\n",
      "This warning will only be shown once.\n",
      "\n",
      "  return func(**kwargs)\n",
      "/opt/conda/lib/python3.11/site-packages/xgboost/core.py:729: UserWarning: [22:06:42] WARNING: /workspace/src/common/error_msg.cc:58: Falling back to prediction using DMatrix due to mismatched devices. This might lead to higher memory usage and slower performance. XGBoost is running on: cuda:0, while the input data is on: cpu.\n",
      "Potential solutions:\n",
      "- Use a data structure that matches the device ordinal in the booster.\n",
      "- Set the device for booster before call to inplace_predict.\n",
      "\n",
      "This warning will only be shown once.\n",
      "\n",
      "  return func(**kwargs)\n"
     ]
    },
    {
     "name": "stdout",
     "output_type": "stream",
     "text": [
      "[CV] END colsample_bytree=0.6, gamma=0, learning_rate=0.001, max_depth=4, n_estimators=5, subsample=0.6; total time=  39.1s\n",
      "[CV] END colsample_bytree=0.6, gamma=0, learning_rate=0.001, max_depth=4, n_estimators=5, subsample=0.6; total time=  39.2s\n",
      "[CV] END colsample_bytree=1.0, gamma=0, learning_rate=0.1, max_depth=4, n_estimators=20, subsample=1.0; total time=  42.5s\n",
      "[CV] END colsample_bytree=1.0, gamma=0, learning_rate=0.1, max_depth=4, n_estimators=20, subsample=1.0; total time=  42.5s\n",
      "[CV] END colsample_bytree=1.0, gamma=0, learning_rate=0.1, max_depth=4, n_estimators=20, subsample=1.0; total time=  42.6s\n",
      "[CV] END colsample_bytree=1.0, gamma=0, learning_rate=0.1, max_depth=4, n_estimators=20, subsample=1.0; total time=  42.6s\n",
      "[CV] END colsample_bytree=1.0, gamma=0, learning_rate=0.1, max_depth=4, n_estimators=20, subsample=1.0; total time=  42.6s\n"
     ]
    },
    {
     "name": "stderr",
     "output_type": "stream",
     "text": [
      "/opt/conda/lib/python3.11/site-packages/xgboost/core.py:729: UserWarning: [22:07:09] WARNING: /workspace/src/common/error_msg.cc:58: Falling back to prediction using DMatrix due to mismatched devices. This might lead to higher memory usage and slower performance. XGBoost is running on: cuda:0, while the input data is on: cpu.\n",
      "Potential solutions:\n",
      "- Use a data structure that matches the device ordinal in the booster.\n",
      "- Set the device for booster before call to inplace_predict.\n",
      "\n",
      "This warning will only be shown once.\n",
      "\n",
      "  return func(**kwargs)\n",
      "/opt/conda/lib/python3.11/site-packages/xgboost/core.py:729: UserWarning: [22:07:09] WARNING: /workspace/src/common/error_msg.cc:58: Falling back to prediction using DMatrix due to mismatched devices. This might lead to higher memory usage and slower performance. XGBoost is running on: cuda:0, while the input data is on: cpu.\n",
      "Potential solutions:\n",
      "- Use a data structure that matches the device ordinal in the booster.\n",
      "- Set the device for booster before call to inplace_predict.\n",
      "\n",
      "This warning will only be shown once.\n",
      "\n",
      "  return func(**kwargs)\n"
     ]
    },
    {
     "name": "stdout",
     "output_type": "stream",
     "text": [
      "[CV] END colsample_bytree=0.8, gamma=0.1, learning_rate=0.001, max_depth=6, n_estimators=10, subsample=1.0; total time= 1.1min\n",
      "[CV] END colsample_bytree=0.8, gamma=0.1, learning_rate=0.001, max_depth=6, n_estimators=10, subsample=1.0; total time= 1.1min\n"
     ]
    },
    {
     "name": "stderr",
     "output_type": "stream",
     "text": [
      "/opt/conda/lib/python3.11/site-packages/xgboost/core.py:729: UserWarning: [22:07:09] WARNING: /workspace/src/common/error_msg.cc:58: Falling back to prediction using DMatrix due to mismatched devices. This might lead to higher memory usage and slower performance. XGBoost is running on: cuda:0, while the input data is on: cpu.\n",
      "Potential solutions:\n",
      "- Use a data structure that matches the device ordinal in the booster.\n",
      "- Set the device for booster before call to inplace_predict.\n",
      "\n",
      "This warning will only be shown once.\n",
      "\n",
      "  return func(**kwargs)\n",
      "/opt/conda/lib/python3.11/site-packages/xgboost/core.py:729: UserWarning: [22:07:09] WARNING: /workspace/src/common/error_msg.cc:58: Falling back to prediction using DMatrix due to mismatched devices. This might lead to higher memory usage and slower performance. XGBoost is running on: cuda:0, while the input data is on: cpu.\n",
      "Potential solutions:\n",
      "- Use a data structure that matches the device ordinal in the booster.\n",
      "- Set the device for booster before call to inplace_predict.\n",
      "\n",
      "This warning will only be shown once.\n",
      "\n",
      "  return func(**kwargs)\n",
      "/opt/conda/lib/python3.11/site-packages/xgboost/core.py:729: UserWarning: [22:07:09] WARNING: /workspace/src/common/error_msg.cc:58: Falling back to prediction using DMatrix due to mismatched devices. This might lead to higher memory usage and slower performance. XGBoost is running on: cuda:0, while the input data is on: cpu.\n",
      "Potential solutions:\n",
      "- Use a data structure that matches the device ordinal in the booster.\n",
      "- Set the device for booster before call to inplace_predict.\n",
      "\n",
      "This warning will only be shown once.\n",
      "\n",
      "  return func(**kwargs)\n"
     ]
    },
    {
     "name": "stdout",
     "output_type": "stream",
     "text": [
      "[CV] END colsample_bytree=0.8, gamma=0.1, learning_rate=0.001, max_depth=6, n_estimators=10, subsample=1.0; total time= 1.1min\n",
      "[CV] END colsample_bytree=0.8, gamma=0.1, learning_rate=0.001, max_depth=6, n_estimators=10, subsample=1.0; total time= 1.1min\n",
      "[CV] END colsample_bytree=0.8, gamma=0.1, learning_rate=0.001, max_depth=6, n_estimators=10, subsample=1.0; total time= 1.1min\n",
      "[CV] END colsample_bytree=0.6, gamma=0.3, learning_rate=0.1, max_depth=9, n_estimators=50, subsample=1.0; total time= 4.9min\n",
      "[CV] END colsample_bytree=0.6, gamma=0.3, learning_rate=0.1, max_depth=9, n_estimators=50, subsample=1.0; total time= 4.9min\n",
      "[CV] END colsample_bytree=1.0, gamma=0.3, learning_rate=0.2, max_depth=11, n_estimators=100, subsample=0.6; total time= 8.8min\n",
      "[CV] END colsample_bytree=1.0, gamma=0.3, learning_rate=0.2, max_depth=11, n_estimators=100, subsample=0.6; total time= 8.8min\n",
      "[CV] END colsample_bytree=1.0, gamma=0.3, learning_rate=0.2, max_depth=11, n_estimators=100, subsample=0.6; total time= 8.7min\n",
      "[CV] END colsample_bytree=1.0, gamma=0.3, learning_rate=0.2, max_depth=11, n_estimators=100, subsample=0.6; total time= 8.8min\n",
      "[CV] END colsample_bytree=1.0, gamma=0.3, learning_rate=0.2, max_depth=11, n_estimators=100, subsample=0.6; total time= 8.8min\n",
      "[CV] END colsample_bytree=0.6, gamma=0.3, learning_rate=0.2, max_depth=8, n_estimators=150, subsample=0.8; total time= 9.6min\n",
      "[CV] END colsample_bytree=0.6, gamma=0.3, learning_rate=0.2, max_depth=8, n_estimators=150, subsample=0.8; total time= 9.7min\n",
      "[CV] END colsample_bytree=0.6, gamma=0.3, learning_rate=0.2, max_depth=8, n_estimators=150, subsample=0.8; total time= 9.7min\n",
      "[CV] END colsample_bytree=0.6, gamma=0.3, learning_rate=0.2, max_depth=8, n_estimators=150, subsample=0.8; total time= 9.7min\n",
      "[CV] END colsample_bytree=0.6, gamma=0.3, learning_rate=0.2, max_depth=8, n_estimators=150, subsample=0.8; total time= 9.7min\n",
      "[CV] END colsample_bytree=0.6, gamma=0.3, learning_rate=0.1, max_depth=9, n_estimators=50, subsample=1.0; total time= 4.5min\n",
      "[CV] END colsample_bytree=0.6, gamma=0.3, learning_rate=0.1, max_depth=9, n_estimators=50, subsample=1.0; total time= 4.5min\n",
      "[CV] END colsample_bytree=0.6, gamma=0.3, learning_rate=0.1, max_depth=9, n_estimators=50, subsample=1.0; total time= 3.3min\n"
     ]
    },
    {
     "name": "stderr",
     "output_type": "stream",
     "text": [
      "/opt/conda/lib/python3.11/site-packages/xgboost/core.py:729: UserWarning: [22:22:16] WARNING: /workspace/src/common/error_msg.cc:58: Falling back to prediction using DMatrix due to mismatched devices. This might lead to higher memory usage and slower performance. XGBoost is running on: cuda:0, while the input data is on: cpu.\n",
      "Potential solutions:\n",
      "- Use a data structure that matches the device ordinal in the booster.\n",
      "- Set the device for booster before call to inplace_predict.\n",
      "\n",
      "This warning will only be shown once.\n",
      "\n",
      "  return func(**kwargs)\n",
      "/opt/conda/lib/python3.11/site-packages/xgboost/core.py:729: UserWarning: [22:22:16] WARNING: /workspace/src/common/error_msg.cc:58: Falling back to prediction using DMatrix due to mismatched devices. This might lead to higher memory usage and slower performance. XGBoost is running on: cuda:0, while the input data is on: cpu.\n",
      "Potential solutions:\n",
      "- Use a data structure that matches the device ordinal in the booster.\n",
      "- Set the device for booster before call to inplace_predict.\n",
      "\n",
      "This warning will only be shown once.\n",
      "\n",
      "  return func(**kwargs)\n"
     ]
    },
    {
     "name": "stdout",
     "output_type": "stream",
     "text": [
      "[CV] END colsample_bytree=0.6, gamma=0.1, learning_rate=0.1, max_depth=10, n_estimators=200, subsample=0.8; total time=16.2min\n",
      "[CV] END colsample_bytree=0.6, gamma=0.1, learning_rate=0.1, max_depth=10, n_estimators=200, subsample=0.8; total time=16.2min\n"
     ]
    },
    {
     "name": "stderr",
     "output_type": "stream",
     "text": [
      "/opt/conda/lib/python3.11/site-packages/xgboost/core.py:729: UserWarning: [22:22:17] WARNING: /workspace/src/common/error_msg.cc:58: Falling back to prediction using DMatrix due to mismatched devices. This might lead to higher memory usage and slower performance. XGBoost is running on: cuda:0, while the input data is on: cpu.\n",
      "Potential solutions:\n",
      "- Use a data structure that matches the device ordinal in the booster.\n",
      "- Set the device for booster before call to inplace_predict.\n",
      "\n",
      "This warning will only be shown once.\n",
      "\n",
      "  return func(**kwargs)\n"
     ]
    },
    {
     "name": "stdout",
     "output_type": "stream",
     "text": [
      "[CV] END colsample_bytree=0.6, gamma=0.1, learning_rate=0.1, max_depth=10, n_estimators=200, subsample=0.8; total time=16.2min\n"
     ]
    },
    {
     "name": "stderr",
     "output_type": "stream",
     "text": [
      "/opt/conda/lib/python3.11/site-packages/xgboost/core.py:729: UserWarning: [22:22:17] WARNING: /workspace/src/common/error_msg.cc:58: Falling back to prediction using DMatrix due to mismatched devices. This might lead to higher memory usage and slower performance. XGBoost is running on: cuda:0, while the input data is on: cpu.\n",
      "Potential solutions:\n",
      "- Use a data structure that matches the device ordinal in the booster.\n",
      "- Set the device for booster before call to inplace_predict.\n",
      "\n",
      "This warning will only be shown once.\n",
      "\n",
      "  return func(**kwargs)\n"
     ]
    },
    {
     "name": "stdout",
     "output_type": "stream",
     "text": [
      "[CV] END colsample_bytree=0.6, gamma=0.1, learning_rate=0.1, max_depth=10, n_estimators=200, subsample=0.8; total time=16.3min\n"
     ]
    },
    {
     "name": "stderr",
     "output_type": "stream",
     "text": [
      "/opt/conda/lib/python3.11/site-packages/xgboost/core.py:729: UserWarning: [22:22:18] WARNING: /workspace/src/common/error_msg.cc:58: Falling back to prediction using DMatrix due to mismatched devices. This might lead to higher memory usage and slower performance. XGBoost is running on: cuda:0, while the input data is on: cpu.\n",
      "Potential solutions:\n",
      "- Use a data structure that matches the device ordinal in the booster.\n",
      "- Set the device for booster before call to inplace_predict.\n",
      "\n",
      "This warning will only be shown once.\n",
      "\n",
      "  return func(**kwargs)\n"
     ]
    },
    {
     "name": "stdout",
     "output_type": "stream",
     "text": [
      "[CV] END colsample_bytree=0.6, gamma=0.1, learning_rate=0.1, max_depth=10, n_estimators=200, subsample=0.8; total time=16.3min\n"
     ]
    },
    {
     "name": "stderr",
     "output_type": "stream",
     "text": [
      "/opt/conda/lib/python3.11/site-packages/xgboost/core.py:729: UserWarning: [22:24:09] WARNING: /workspace/src/common/error_msg.cc:58: Falling back to prediction using DMatrix due to mismatched devices. This might lead to higher memory usage and slower performance. XGBoost is running on: cuda:0, while the input data is on: cpu.\n",
      "Potential solutions:\n",
      "- Use a data structure that matches the device ordinal in the booster.\n",
      "- Set the device for booster before call to inplace_predict.\n",
      "\n",
      "This warning will only be shown once.\n",
      "\n",
      "  return func(**kwargs)\n",
      "/opt/conda/lib/python3.11/site-packages/xgboost/core.py:729: UserWarning: [22:24:09] WARNING: /workspace/src/common/error_msg.cc:58: Falling back to prediction using DMatrix due to mismatched devices. This might lead to higher memory usage and slower performance. XGBoost is running on: cuda:0, while the input data is on: cpu.\n",
      "Potential solutions:\n",
      "- Use a data structure that matches the device ordinal in the booster.\n",
      "- Set the device for booster before call to inplace_predict.\n",
      "\n",
      "This warning will only be shown once.\n",
      "\n",
      "  return func(**kwargs)\n"
     ]
    },
    {
     "name": "stdout",
     "output_type": "stream",
     "text": [
      "[CV] END colsample_bytree=0.8, gamma=0.3, learning_rate=0.01, max_depth=6, n_estimators=300, subsample=1.0; total time=18.1min\n",
      "[CV] END colsample_bytree=0.8, gamma=0.3, learning_rate=0.01, max_depth=6, n_estimators=300, subsample=1.0; total time=18.1min\n",
      "[CV] END colsample_bytree=0.8, gamma=0.3, learning_rate=0.01, max_depth=6, n_estimators=300, subsample=1.0; total time=17.6min\n",
      "[CV] END colsample_bytree=0.8, gamma=0.3, learning_rate=0.01, max_depth=6, n_estimators=300, subsample=1.0; total time=17.6min\n",
      "[CV] END colsample_bytree=0.8, gamma=0.3, learning_rate=0.01, max_depth=6, n_estimators=300, subsample=1.0; total time=17.6min\n",
      "[CV] END colsample_bytree=1.0, gamma=0, learning_rate=0.1, max_depth=8, n_estimators=300, subsample=0.6; total time=18.3min\n",
      "[CV] END colsample_bytree=1.0, gamma=0, learning_rate=0.1, max_depth=8, n_estimators=300, subsample=0.6; total time=18.3min\n",
      "[CV] END colsample_bytree=1.0, gamma=0, learning_rate=0.1, max_depth=8, n_estimators=300, subsample=0.6; total time=18.0min\n",
      "[CV] END colsample_bytree=1.0, gamma=0, learning_rate=0.1, max_depth=8, n_estimators=300, subsample=0.6; total time=18.0min\n",
      "[CV] END colsample_bytree=1.0, gamma=0, learning_rate=0.1, max_depth=8, n_estimators=300, subsample=0.6; total time=18.0min\n",
      "[CV] END colsample_bytree=0.8, gamma=0, learning_rate=0.01, max_depth=8, n_estimators=500, subsample=1.0; total time=22.3min\n",
      "[CV] END colsample_bytree=0.8, gamma=0, learning_rate=0.01, max_depth=8, n_estimators=500, subsample=1.0; total time=22.4min\n",
      "[CV] END colsample_bytree=0.8, gamma=0, learning_rate=0.01, max_depth=8, n_estimators=500, subsample=1.0; total time=22.4min\n",
      "[CV] END colsample_bytree=0.8, gamma=0, learning_rate=0.01, max_depth=8, n_estimators=500, subsample=1.0; total time=22.4min\n",
      "[CV] END colsample_bytree=0.8, gamma=0, learning_rate=0.01, max_depth=8, n_estimators=500, subsample=1.0; total time=22.4min\n",
      "Training best XGBoost classifier...\n",
      "Making predictions...\n",
      "Accuracy: 57.25%\n",
      "---------------------------------------------------\n"
     ]
    }
   ],
   "source": [
    "models = []\n",
    "accuracies = []\n",
    "predictions = []\n",
    "truths = []\n",
    "n = [100, 200, 300, 478]\n",
    "for i, path in enumerate(trainpaths):\n",
    "    print(f'Computing for partition {i+1}, balanced classes with {n[i]} entries for each class and one hot encoded geodata')\n",
    "\n",
    "    # run classifier on data\n",
    "    rfc, accuracy, y_pred_rfc, labels = main(trainpaths[i], testpaths[i])\n",
    "\n",
    "    #  saving models, accuracies, predictions, and truths in case we need it for statistics later\n",
    "    models.append(rfc)\n",
    "    accuracies.append(accuracy)\n",
    "    predictions.append(y_pred_rfc)\n",
    "    truths.append(labels)\n",
    "\n",
    "    print(\"---------------------------------------------------\")"
   ]
  },
  {
   "cell_type": "code",
   "execution_count": null,
   "metadata": {},
   "outputs": [],
   "source": []
  },
  {
   "cell_type": "code",
   "execution_count": 7,
   "metadata": {},
   "outputs": [
    {
     "name": "stdout",
     "output_type": "stream",
     "text": [
      "Partition 1 decoded: 900 predictions\n",
      "Partition 2 decoded: 1800 predictions\n",
      "Partition 3 decoded: 2700 predictions\n",
      "Partition 4 decoded: 4320 predictions\n"
     ]
    }
   ],
   "source": [
    "from sklearn.preprocessing import LabelEncoder\n",
    "\n",
    "tests = ['test100', 'test200', 'test300', 'test478']\n",
    "testdir = '../../../../data/top30groups/noGeographic/test1'\n",
    "testpaths = [f'{testdir}/{t}.csv' for t in tests]\n",
    "\n",
    "decoded_preds_all = []\n",
    "decoded_truths_all = []\n",
    "label_encoders = []\n",
    "\n",
    "for i in range(len(testpaths)):\n",
    "    # Read test file\n",
    "    df_test = pd.read_csv(testpaths[i], encoding=\"ISO-8859-1\")\n",
    "\n",
    "    # Fit label encoder on true labels\n",
    "    le = LabelEncoder()\n",
    "    le.fit(df_test[\"gname\"])\n",
    "    label_encoders.append(le)\n",
    "\n",
    "    # Decode y_pred and y_test for this partition\n",
    "    decoded_preds = le.inverse_transform(predictions[i])\n",
    "    decoded_truths = le.inverse_transform(truths[i])\n",
    "\n",
    "    # Store decoded labels\n",
    "    decoded_preds_all.append(decoded_preds)\n",
    "    decoded_truths_all.append(decoded_truths)\n",
    "\n",
    "    print(f\"Partition {i+1} decoded: {len(decoded_preds)} predictions\")\n",
    "\n",
    "# Now you can use decoded_preds_all[i] and decoded_truths_all[i] for confusion matrix etc.\n"
   ]
  },
  {
   "cell_type": "code",
   "execution_count": 8,
   "metadata": {},
   "outputs": [],
   "source": [
    "import os\n",
    "\n",
    "# Make sure the directory exists\n",
    "os.makedirs(\"Results\", exist_ok=True)\n",
    "\n",
    "with open(\"Results/gb_top30_noGeographic.txt\", \"w\") as f:\n",
    "    for i in range(len(trainpaths)):\n",
    "        f.write(f\"Partition {i+1} - {n[i]} samples per class, without geograpgical data\\n\")\n",
    "        f.write(f\"Precision: {precision_score(decoded_truths_all[i], decoded_preds_all[i], average='weighted'):.4f}\\n\")\n",
    "        f.write(f\"Recall: {recall_score(decoded_truths_all[i], decoded_preds_all[i], average='weighted'):.4f}\\n\")\n",
    "        f.write(f\"F1 Score: {f1_score(decoded_truths_all[i], decoded_preds_all[i], average='weighted'):.4f}\\n\")\n",
    "        f.write(\"---------------------------------------------------\\n\")"
   ]
  },
  {
   "cell_type": "code",
   "execution_count": 9,
   "metadata": {},
   "outputs": [
    {
     "name": "stdout",
     "output_type": "stream",
     "text": [
      "              precision    recall  f1-score   support\n",
      "\n",
      "           0       0.68      0.63      0.66        30\n",
      "           1       0.77      0.57      0.65        30\n",
      "           2       0.43      0.33      0.38        30\n",
      "           3       0.31      0.33      0.32        30\n",
      "           4       0.41      0.47      0.44        30\n",
      "           5       0.92      0.37      0.52        30\n",
      "           6       0.44      0.53      0.48        30\n",
      "           7       0.76      0.93      0.84        30\n",
      "           8       0.76      0.63      0.69        30\n",
      "           9       0.67      0.60      0.63        30\n",
      "          10       0.59      0.57      0.58        30\n",
      "          11       0.64      0.77      0.70        30\n",
      "          12       0.55      0.53      0.54        30\n",
      "          13       0.57      0.40      0.47        30\n",
      "          14       0.30      0.27      0.28        30\n",
      "          15       0.45      0.47      0.46        30\n",
      "          16       0.53      0.53      0.53        30\n",
      "          17       0.35      0.57      0.44        30\n",
      "          18       0.60      0.40      0.48        30\n",
      "          19       0.35      0.40      0.38        30\n",
      "          20       0.60      0.50      0.55        30\n",
      "          21       0.44      0.67      0.53        30\n",
      "          22       0.65      0.73      0.69        30\n",
      "          23       0.68      0.70      0.69        30\n",
      "          24       0.79      0.77      0.78        30\n",
      "          25       0.65      0.57      0.61        30\n",
      "          26       0.72      0.93      0.81        30\n",
      "          27       0.58      0.50      0.54        30\n",
      "          28       0.86      0.80      0.83        30\n",
      "          29       0.72      0.87      0.79        30\n",
      "\n",
      "    accuracy                           0.58       900\n",
      "   macro avg       0.59      0.58      0.58       900\n",
      "weighted avg       0.59      0.58      0.58       900\n",
      "\n"
     ]
    }
   ],
   "source": [
    "print(classification_report(truths[0], predictions[0]))"
   ]
  },
  {
   "cell_type": "code",
   "execution_count": 10,
   "metadata": {},
   "outputs": [
    {
     "name": "stdout",
     "output_type": "stream",
     "text": [
      "              precision    recall  f1-score   support\n",
      "\n",
      "           0       0.78      0.53      0.63        60\n",
      "           1       0.84      0.80      0.82        60\n",
      "           2       0.31      0.28      0.30        60\n",
      "           3       0.33      0.13      0.19        60\n",
      "           4       0.21      0.25      0.23        60\n",
      "           5       0.28      0.23      0.25        60\n",
      "           6       0.47      0.50      0.48        60\n",
      "           7       0.55      0.18      0.28        60\n",
      "           8       0.49      0.68      0.57        60\n",
      "           9       0.55      0.67      0.60        60\n",
      "          10       0.65      0.73      0.69        60\n",
      "          11       0.73      0.93      0.82        60\n",
      "          12       0.66      0.55      0.60        60\n",
      "          13       0.70      0.50      0.58        60\n",
      "          14       0.38      0.48      0.42        60\n",
      "          15       0.18      0.08      0.11        60\n",
      "          16       0.38      0.50      0.43        60\n",
      "          17       0.43      0.33      0.38        60\n",
      "          18       0.23      0.28      0.25        60\n",
      "          19       0.33      0.60      0.43        60\n",
      "          20       0.60      0.52      0.55        60\n",
      "          21       0.40      0.48      0.44        60\n",
      "          22       0.67      0.85      0.75        60\n",
      "          23       0.82      0.85      0.84        60\n",
      "          24       0.76      0.52      0.61        60\n",
      "          25       0.56      0.63      0.59        60\n",
      "          26       0.79      0.38      0.52        60\n",
      "          27       0.28      0.35      0.31        60\n",
      "          28       0.60      0.45      0.51        60\n",
      "          29       0.53      0.78      0.64        60\n",
      "\n",
      "    accuracy                           0.50      1800\n",
      "   macro avg       0.52      0.50      0.49      1800\n",
      "weighted avg       0.52      0.50      0.49      1800\n",
      "\n"
     ]
    }
   ],
   "source": [
    "print(classification_report(truths[1], predictions[1]))"
   ]
  },
  {
   "cell_type": "code",
   "execution_count": 11,
   "metadata": {},
   "outputs": [
    {
     "name": "stdout",
     "output_type": "stream",
     "text": [
      "              precision    recall  f1-score   support\n",
      "\n",
      "           0       0.41      0.21      0.28        90\n",
      "           1       0.70      0.87      0.78        90\n",
      "           2       0.63      0.62      0.63        90\n",
      "           3       0.20      0.20      0.20        90\n",
      "           4       0.40      0.36      0.38        90\n",
      "           5       0.32      0.13      0.19        90\n",
      "           6       0.49      0.37      0.42        90\n",
      "           7       0.79      0.59      0.68        90\n",
      "           8       0.53      0.79      0.63        90\n",
      "           9       0.59      0.70      0.64        90\n",
      "          10       0.50      0.30      0.38        90\n",
      "          11       0.61      0.68      0.64        90\n",
      "          12       0.46      0.60      0.52        90\n",
      "          13       0.82      0.71      0.76        90\n",
      "          14       0.35      0.38      0.36        90\n",
      "          15       0.43      0.52      0.47        90\n",
      "          16       0.57      0.48      0.52        90\n",
      "          17       0.32      0.30      0.31        90\n",
      "          18       0.30      0.26      0.28        90\n",
      "          19       0.36      0.51      0.42        90\n",
      "          20       0.75      0.61      0.67        90\n",
      "          21       0.64      0.68      0.66        90\n",
      "          22       0.68      0.78      0.73        90\n",
      "          23       0.59      0.70      0.64        90\n",
      "          24       0.46      0.36      0.40        90\n",
      "          25       0.28      0.32      0.30        90\n",
      "          26       0.39      0.44      0.42        90\n",
      "          27       0.33      0.38      0.35        90\n",
      "          28       0.57      0.57      0.57        90\n",
      "          29       0.71      0.83      0.77        90\n",
      "\n",
      "    accuracy                           0.51      2700\n",
      "   macro avg       0.51      0.51      0.50      2700\n",
      "weighted avg       0.51      0.51      0.50      2700\n",
      "\n"
     ]
    }
   ],
   "source": [
    "print(classification_report(truths[2], predictions[2]))"
   ]
  },
  {
   "cell_type": "code",
   "execution_count": 12,
   "metadata": {},
   "outputs": [
    {
     "name": "stdout",
     "output_type": "stream",
     "text": [
      "              precision    recall  f1-score   support\n",
      "\n",
      "           0       0.37      0.18      0.24       144\n",
      "           1       0.75      0.60      0.67       144\n",
      "           2       0.52      0.44      0.48       144\n",
      "           3       0.30      0.27      0.29       144\n",
      "           4       0.39      0.35      0.37       144\n",
      "           5       0.66      0.76      0.71       144\n",
      "           6       0.35      0.31      0.33       144\n",
      "           7       0.68      0.80      0.74       144\n",
      "           8       0.73      0.84      0.78       144\n",
      "           9       0.56      0.80      0.66       144\n",
      "          10       0.63      0.61      0.62       144\n",
      "          11       0.72      0.77      0.74       144\n",
      "          12       0.56      0.65      0.60       144\n",
      "          13       0.79      0.58      0.67       144\n",
      "          14       0.34      0.44      0.38       144\n",
      "          15       0.48      0.57      0.52       144\n",
      "          16       0.73      0.49      0.58       144\n",
      "          17       0.56      0.77      0.65       144\n",
      "          18       0.31      0.25      0.28       144\n",
      "          19       0.32      0.45      0.37       144\n",
      "          20       0.69      0.41      0.51       144\n",
      "          21       0.52      0.64      0.57       144\n",
      "          22       0.67      0.73      0.70       144\n",
      "          23       0.78      0.79      0.79       144\n",
      "          24       0.80      0.69      0.74       144\n",
      "          25       0.47      0.38      0.42       144\n",
      "          26       0.69      0.78      0.73       144\n",
      "          27       0.53      0.33      0.41       144\n",
      "          28       0.60      0.72      0.65       144\n",
      "          29       0.71      0.76      0.74       144\n",
      "\n",
      "    accuracy                           0.57      4320\n",
      "   macro avg       0.57      0.57      0.57      4320\n",
      "weighted avg       0.57      0.57      0.57      4320\n",
      "\n"
     ]
    }
   ],
   "source": [
    "print(classification_report(truths[3], predictions[3]))"
   ]
  },
  {
   "cell_type": "code",
   "execution_count": 13,
   "metadata": {},
   "outputs": [],
   "source": [
    "def plot_confusion_matrix(y_true, y_pred, labels, partition_id):\n",
    "    from sklearn.metrics import confusion_matrix\n",
    "    import matplotlib.pyplot as plt\n",
    "    import seaborn as sns\n",
    "    import numpy as np\n",
    "\n",
    "    cm = confusion_matrix(y_true, y_pred, labels=labels)\n",
    "    cm_normalized = cm.astype('float') / cm.sum(axis=1, keepdims=True)\n",
    "    mask = np.triu(np.ones_like(cm_normalized, dtype=bool))\n",
    "\n",
    "    plt.figure(figsize=(18, 16))\n",
    "    sns.heatmap(cm_normalized,\n",
    "                mask=mask,\n",
    "                annot=True,\n",
    "                fmt=\".2f\",\n",
    "                xticklabels=labels,\n",
    "                yticklabels=labels,\n",
    "                cmap=\"viridis\",\n",
    "                square=True,\n",
    "                linewidths=0.5,\n",
    "                cbar_kws={\"shrink\": 0.8})\n",
    "\n",
    "    plt.title(f\"Normalized Confusion Matrix (Partition {partition_id})\", fontsize=18)\n",
    "    plt.xlabel(\"Predicted Label\", fontsize=14)\n",
    "    plt.ylabel(\"True Label\", fontsize=14)\n",
    "    plt.xticks(rotation=90)\n",
    "    plt.yticks(rotation=0)\n",
    "    plt.tight_layout()\n",
    "\n",
    "    # Save the figure\n",
    "    save_path = f\"Results/confusion_matrix_partition_{partition_id}.png\"\n",
    "    plt.savefig(save_path, dpi=300)\n",
    "    plt.close()\n",
    "\n",
    "    print(f\"Saved confusion matrix for partition {partition_id} to {save_path}\")\n"
   ]
  },
  {
   "cell_type": "code",
   "execution_count": 14,
   "metadata": {},
   "outputs": [
    {
     "name": "stdout",
     "output_type": "stream",
     "text": [
      "Saved confusion matrix for partition 1 to Results/confusion_matrix_partition_1.png\n",
      "Saved confusion matrix for partition 2 to Results/confusion_matrix_partition_2.png\n",
      "Saved confusion matrix for partition 3 to Results/confusion_matrix_partition_3.png\n",
      "Saved confusion matrix for partition 4 to Results/confusion_matrix_partition_4.png\n",
      "Saved confusion matrix for partition All to Results/confusion_matrix_partition_All.png\n"
     ]
    }
   ],
   "source": [
    "# Plot and save confusion matrices per partition\n",
    "for i in range(len(decoded_preds_all)):\n",
    "    y_true = decoded_truths_all[i]\n",
    "    y_pred = decoded_preds_all[i]\n",
    "    class_labels = label_encoders[i].classes_\n",
    "\n",
    "    plot_confusion_matrix(y_true, y_pred, labels=class_labels, partition_id=i + 1)\n",
    "\n",
    "# Combined (aggregated) matrix\n",
    "all_true = np.concatenate(decoded_truths_all)\n",
    "all_pred = np.concatenate(decoded_preds_all)\n",
    "all_labels = label_encoders[0].classes_\n",
    "\n",
    "plot_confusion_matrix(all_true, all_pred, labels=all_labels, partition_id=\"All\")\n"
   ]
  }
 ],
 "metadata": {
  "colab": {
   "provenance": []
  },
  "kernelspec": {
   "display_name": "base",
   "language": "python",
   "name": "python3"
  },
  "language_info": {
   "codemirror_mode": {
    "name": "ipython",
    "version": 3
   },
   "file_extension": ".py",
   "mimetype": "text/x-python",
   "name": "python",
   "nbconvert_exporter": "python",
   "pygments_lexer": "ipython3",
   "version": "3.11.9"
  }
 },
 "nbformat": 4,
 "nbformat_minor": 0
}
