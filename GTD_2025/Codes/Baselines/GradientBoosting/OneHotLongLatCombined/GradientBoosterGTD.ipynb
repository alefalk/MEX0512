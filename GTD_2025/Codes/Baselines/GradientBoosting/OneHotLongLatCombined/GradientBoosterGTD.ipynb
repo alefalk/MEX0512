{
 "cells": [
  {
   "cell_type": "markdown",
   "metadata": {
    "id": "VqQU75b6sEP-"
   },
   "source": [
    "# Global Terrorism Data"
   ]
  },
  {
   "cell_type": "code",
   "execution_count": 1,
   "metadata": {},
   "outputs": [
    {
     "name": "stdout",
     "output_type": "stream",
     "text": [
      "Requirement already satisfied: xgboost in /opt/conda/lib/python3.11/site-packages (3.0.2)\n",
      "Requirement already satisfied: numpy in /opt/conda/lib/python3.11/site-packages (from xgboost) (1.26.4)\n",
      "Requirement already satisfied: nvidia-nccl-cu12 in /opt/conda/lib/python3.11/site-packages (from xgboost) (2.20.5)\n",
      "Requirement already satisfied: scipy in /opt/conda/lib/python3.11/site-packages (from xgboost) (1.14.0)\n",
      "\n",
      "\u001b[1m[\u001b[0m\u001b[34;49mnotice\u001b[0m\u001b[1;39;49m]\u001b[0m\u001b[39;49m A new release of pip is available: \u001b[0m\u001b[31;49m24.1.2\u001b[0m\u001b[39;49m -> \u001b[0m\u001b[32;49m25.1.1\u001b[0m\n",
      "\u001b[1m[\u001b[0m\u001b[34;49mnotice\u001b[0m\u001b[1;39;49m]\u001b[0m\u001b[39;49m To update, run: \u001b[0m\u001b[32;49mpip install --upgrade pip\u001b[0m\n",
      "Note: you may need to restart the kernel to use updated packages.\n"
     ]
    }
   ],
   "source": [
    "import sys \n",
    "%pip install xgboost\n"
   ]
  },
  {
   "cell_type": "code",
   "execution_count": 2,
   "metadata": {
    "colab": {
     "base_uri": "https://localhost:8080/"
    },
    "id": "_pI-vjLmvyI5",
    "outputId": "3699e615-7ab3-4355-c4c2-21b04f1cf8b4"
   },
   "outputs": [],
   "source": [
    "import warnings\n",
    "import os\n",
    "warnings.filterwarnings( 'ignore' )\n",
    "import pandas as pd\n",
    "import numpy as np\n",
    "import matplotlib.pyplot as plt\n",
    "import seaborn as sns\n",
    "from sklearn.metrics import accuracy_score, classification_report, confusion_matrix, precision_score, recall_score, f1_score\n",
    "from sklearn.model_selection import RandomizedSearchCV, GridSearchCV, train_test_split\n",
    "from sklearn.ensemble import GradientBoostingClassifier, RandomForestClassifier\n",
    "from GradientBoosterGTD import *"
   ]
  },
  {
   "cell_type": "code",
   "execution_count": 3,
   "metadata": {
    "id": "QjOYUqnfwLOw"
   },
   "outputs": [],
   "source": [
    "import warnings\n",
    "warnings.filterwarnings( 'ignore' )\n",
    "import pandas as pd\n",
    "import numpy as np\n",
    "import seaborn as sns\n",
    "import matplotlib.pyplot as plt\n",
    "from sklearn.metrics import accuracy_score, classification_report, confusion_matrix\n"
   ]
  },
  {
   "cell_type": "code",
   "execution_count": 4,
   "metadata": {},
   "outputs": [
    {
     "name": "stdout",
     "output_type": "stream",
     "text": [
      "True\n"
     ]
    }
   ],
   "source": [
    "import torch\n",
    "print(torch.cuda.is_available())"
   ]
  },
  {
   "cell_type": "code",
   "execution_count": 5,
   "metadata": {},
   "outputs": [],
   "source": [
    "datatype = 'OneHotLongLatCombined'\n",
    "trains = ['train100', 'train200', 'train300', 'train478']\n",
    "tests = ['test100', 'test200', 'test300', 'test478', ]\n",
    "traindir = f'../../../../data/top30groups/{datatype}/train1'\n",
    "testdir = f'../../../../data/top30groups/{datatype}/test1'\n",
    "\n",
    "trainpaths = []\n",
    "testpaths = []\n",
    "for i, partition in enumerate(trains):\n",
    "    trainpaths.append(f'{traindir}/{partition}.csv')\n",
    "    testpaths.append(f'{testdir}/{tests[i]}.csv')"
   ]
  },
  {
   "cell_type": "code",
   "execution_count": 6,
   "metadata": {},
   "outputs": [
    {
     "name": "stdout",
     "output_type": "stream",
     "text": [
      "Computing for partition 1, balanced classes with 100 entries for each class and geodata\n",
      "Finding optimal hyperparameters...\n",
      "3.0.2\n",
      "<class 'xgboost.sklearn.XGBClassifier'>\n",
      "Fitting 5 folds for each of 10 candidates, totalling 50 fits\n"
     ]
    },
    {
     "name": "stderr",
     "output_type": "stream",
     "text": [
      "/opt/conda/lib/python3.11/site-packages/xgboost/core.py:729: UserWarning: [19:13:14] WARNING: /workspace/src/common/error_msg.cc:58: Falling back to prediction using DMatrix due to mismatched devices. This might lead to higher memory usage and slower performance. XGBoost is running on: cuda:0, while the input data is on: cpu.\n",
      "Potential solutions:\n",
      "- Use a data structure that matches the device ordinal in the booster.\n",
      "- Set the device for booster before call to inplace_predict.\n",
      "\n",
      "This warning will only be shown once.\n",
      "\n",
      "  return func(**kwargs)\n",
      "/opt/conda/lib/python3.11/site-packages/xgboost/core.py:729: UserWarning: [19:13:14] WARNING: /workspace/src/common/error_msg.cc:58: Falling back to prediction using DMatrix due to mismatched devices. This might lead to higher memory usage and slower performance. XGBoost is running on: cuda:0, while the input data is on: cpu.\n",
      "Potential solutions:\n",
      "- Use a data structure that matches the device ordinal in the booster.\n",
      "- Set the device for booster before call to inplace_predict.\n",
      "\n",
      "This warning will only be shown once.\n",
      "\n",
      "  return func(**kwargs)\n",
      "/opt/conda/lib/python3.11/site-packages/xgboost/core.py:729: UserWarning: [19:13:14] WARNING: /workspace/src/common/error_msg.cc:58: Falling back to prediction using DMatrix due to mismatched devices. This might lead to higher memory usage and slower performance. XGBoost is running on: cuda:0, while the input data is on: cpu.\n",
      "Potential solutions:\n",
      "- Use a data structure that matches the device ordinal in the booster.\n",
      "- Set the device for booster before call to inplace_predict.\n",
      "\n",
      "This warning will only be shown once.\n",
      "\n",
      "  return func(**kwargs)\n",
      "/opt/conda/lib/python3.11/site-packages/xgboost/core.py:729: UserWarning: [19:13:14] WARNING: /workspace/src/common/error_msg.cc:58: Falling back to prediction using DMatrix due to mismatched devices. This might lead to higher memory usage and slower performance. XGBoost is running on: cuda:0, while the input data is on: cpu.\n",
      "Potential solutions:\n",
      "- Use a data structure that matches the device ordinal in the booster.\n",
      "- Set the device for booster before call to inplace_predict.\n",
      "\n",
      "This warning will only be shown once.\n",
      "\n",
      "  return func(**kwargs)\n"
     ]
    },
    {
     "name": "stdout",
     "output_type": "stream",
     "text": [
      "[CV] END colsample_bytree=0.6, gamma=0.3, learning_rate=0.001, max_depth=6, n_estimators=5, subsample=0.8; total time=  36.4s\n",
      "[CV] END colsample_bytree=0.6, gamma=0.3, learning_rate=0.001, max_depth=6, n_estimators=5, subsample=0.8; total time=  36.5s\n",
      "[CV] END colsample_bytree=0.6, gamma=0.3, learning_rate=0.001, max_depth=6, n_estimators=5, subsample=0.8; total time=  36.5s\n",
      "[CV] END colsample_bytree=0.6, gamma=0.3, learning_rate=0.001, max_depth=6, n_estimators=5, subsample=0.8; total time=  36.6s\n"
     ]
    },
    {
     "name": "stderr",
     "output_type": "stream",
     "text": [
      "/opt/conda/lib/python3.11/site-packages/xgboost/core.py:729: UserWarning: [19:13:15] WARNING: /workspace/src/common/error_msg.cc:58: Falling back to prediction using DMatrix due to mismatched devices. This might lead to higher memory usage and slower performance. XGBoost is running on: cuda:0, while the input data is on: cpu.\n",
      "Potential solutions:\n",
      "- Use a data structure that matches the device ordinal in the booster.\n",
      "- Set the device for booster before call to inplace_predict.\n",
      "\n",
      "This warning will only be shown once.\n",
      "\n",
      "  return func(**kwargs)\n"
     ]
    },
    {
     "name": "stdout",
     "output_type": "stream",
     "text": [
      "[CV] END colsample_bytree=0.6, gamma=0.3, learning_rate=0.001, max_depth=6, n_estimators=5, subsample=0.8; total time=  36.8s\n"
     ]
    },
    {
     "name": "stderr",
     "output_type": "stream",
     "text": [
      "/opt/conda/lib/python3.11/site-packages/xgboost/core.py:729: UserWarning: [19:14:13] WARNING: /workspace/src/common/error_msg.cc:58: Falling back to prediction using DMatrix due to mismatched devices. This might lead to higher memory usage and slower performance. XGBoost is running on: cuda:0, while the input data is on: cpu.\n",
      "Potential solutions:\n",
      "- Use a data structure that matches the device ordinal in the booster.\n",
      "- Set the device for booster before call to inplace_predict.\n",
      "\n",
      "This warning will only be shown once.\n",
      "\n",
      "  return func(**kwargs)\n",
      "/opt/conda/lib/python3.11/site-packages/xgboost/core.py:729: UserWarning: [19:14:13] WARNING: /workspace/src/common/error_msg.cc:58: Falling back to prediction using DMatrix due to mismatched devices. This might lead to higher memory usage and slower performance. XGBoost is running on: cuda:0, while the input data is on: cpu.\n",
      "Potential solutions:\n",
      "- Use a data structure that matches the device ordinal in the booster.\n",
      "- Set the device for booster before call to inplace_predict.\n",
      "\n",
      "This warning will only be shown once.\n",
      "\n",
      "  return func(**kwargs)\n"
     ]
    },
    {
     "name": "stdout",
     "output_type": "stream",
     "text": [
      "[CV] END colsample_bytree=1.0, gamma=0, learning_rate=0.001, max_depth=6, n_estimators=20, subsample=1.0; total time= 1.6min\n",
      "[CV] END colsample_bytree=1.0, gamma=0, learning_rate=0.001, max_depth=6, n_estimators=20, subsample=1.0; total time= 1.6min\n"
     ]
    },
    {
     "name": "stderr",
     "output_type": "stream",
     "text": [
      "/opt/conda/lib/python3.11/site-packages/xgboost/core.py:729: UserWarning: [19:14:14] WARNING: /workspace/src/common/error_msg.cc:58: Falling back to prediction using DMatrix due to mismatched devices. This might lead to higher memory usage and slower performance. XGBoost is running on: cuda:0, while the input data is on: cpu.\n",
      "Potential solutions:\n",
      "- Use a data structure that matches the device ordinal in the booster.\n",
      "- Set the device for booster before call to inplace_predict.\n",
      "\n",
      "This warning will only be shown once.\n",
      "\n",
      "  return func(**kwargs)\n",
      "/opt/conda/lib/python3.11/site-packages/xgboost/core.py:729: UserWarning: [19:14:14] WARNING: /workspace/src/common/error_msg.cc:58: Falling back to prediction using DMatrix due to mismatched devices. This might lead to higher memory usage and slower performance. XGBoost is running on: cuda:0, while the input data is on: cpu.\n",
      "Potential solutions:\n",
      "- Use a data structure that matches the device ordinal in the booster.\n",
      "- Set the device for booster before call to inplace_predict.\n",
      "\n",
      "This warning will only be shown once.\n",
      "\n",
      "  return func(**kwargs)\n"
     ]
    },
    {
     "name": "stdout",
     "output_type": "stream",
     "text": [
      "[CV] END colsample_bytree=1.0, gamma=0, learning_rate=0.001, max_depth=6, n_estimators=20, subsample=1.0; total time= 1.6min\n",
      "[CV] END colsample_bytree=1.0, gamma=0, learning_rate=0.001, max_depth=6, n_estimators=20, subsample=1.0; total time= 1.6min\n"
     ]
    },
    {
     "name": "stderr",
     "output_type": "stream",
     "text": [
      "/opt/conda/lib/python3.11/site-packages/xgboost/core.py:729: UserWarning: [19:14:14] WARNING: /workspace/src/common/error_msg.cc:58: Falling back to prediction using DMatrix due to mismatched devices. This might lead to higher memory usage and slower performance. XGBoost is running on: cuda:0, while the input data is on: cpu.\n",
      "Potential solutions:\n",
      "- Use a data structure that matches the device ordinal in the booster.\n",
      "- Set the device for booster before call to inplace_predict.\n",
      "\n",
      "This warning will only be shown once.\n",
      "\n",
      "  return func(**kwargs)\n"
     ]
    },
    {
     "name": "stdout",
     "output_type": "stream",
     "text": [
      "[CV] END colsample_bytree=1.0, gamma=0, learning_rate=0.001, max_depth=6, n_estimators=20, subsample=1.0; total time= 1.6min\n"
     ]
    },
    {
     "name": "stderr",
     "output_type": "stream",
     "text": [
      "/opt/conda/lib/python3.11/site-packages/xgboost/core.py:729: UserWarning: [19:14:47] WARNING: /workspace/src/common/error_msg.cc:58: Falling back to prediction using DMatrix due to mismatched devices. This might lead to higher memory usage and slower performance. XGBoost is running on: cuda:0, while the input data is on: cpu.\n",
      "Potential solutions:\n",
      "- Use a data structure that matches the device ordinal in the booster.\n",
      "- Set the device for booster before call to inplace_predict.\n",
      "\n",
      "This warning will only be shown once.\n",
      "\n",
      "  return func(**kwargs)\n",
      "/opt/conda/lib/python3.11/site-packages/xgboost/core.py:729: UserWarning: [19:14:47] WARNING: /workspace/src/common/error_msg.cc:58: Falling back to prediction using DMatrix due to mismatched devices. This might lead to higher memory usage and slower performance. XGBoost is running on: cuda:0, while the input data is on: cpu.\n",
      "Potential solutions:\n",
      "- Use a data structure that matches the device ordinal in the booster.\n",
      "- Set the device for booster before call to inplace_predict.\n",
      "\n",
      "This warning will only be shown once.\n",
      "\n",
      "  return func(**kwargs)\n",
      "/opt/conda/lib/python3.11/site-packages/xgboost/core.py:729: UserWarning: [19:14:47] WARNING: /workspace/src/common/error_msg.cc:58: Falling back to prediction using DMatrix due to mismatched devices. This might lead to higher memory usage and slower performance. XGBoost is running on: cuda:0, while the input data is on: cpu.\n",
      "Potential solutions:\n",
      "- Use a data structure that matches the device ordinal in the booster.\n",
      "- Set the device for booster before call to inplace_predict.\n",
      "\n",
      "This warning will only be shown once.\n",
      "\n",
      "  return func(**kwargs)\n",
      "/opt/conda/lib/python3.11/site-packages/xgboost/core.py:729: UserWarning: [19:14:47] WARNING: /workspace/src/common/error_msg.cc:58: Falling back to prediction using DMatrix due to mismatched devices. This might lead to higher memory usage and slower performance. XGBoost is running on: cuda:0, while the input data is on: cpu.\n",
      "Potential solutions:\n",
      "- Use a data structure that matches the device ordinal in the booster.\n",
      "- Set the device for booster before call to inplace_predict.\n",
      "\n",
      "This warning will only be shown once.\n",
      "\n",
      "  return func(**kwargs)\n",
      "/opt/conda/lib/python3.11/site-packages/xgboost/core.py:729: UserWarning: [19:14:47] WARNING: /workspace/src/common/error_msg.cc:58: Falling back to prediction using DMatrix due to mismatched devices. This might lead to higher memory usage and slower performance. XGBoost is running on: cuda:0, while the input data is on: cpu.\n",
      "Potential solutions:\n",
      "- Use a data structure that matches the device ordinal in the booster.\n",
      "- Set the device for booster before call to inplace_predict.\n",
      "\n",
      "This warning will only be shown once.\n",
      "\n",
      "  return func(**kwargs)\n"
     ]
    },
    {
     "name": "stdout",
     "output_type": "stream",
     "text": [
      "[CV] END colsample_bytree=1.0, gamma=0.3, learning_rate=0.01, max_depth=2, n_estimators=50, subsample=1.0; total time= 2.1min\n",
      "[CV] END colsample_bytree=1.0, gamma=0.3, learning_rate=0.01, max_depth=2, n_estimators=50, subsample=1.0; total time= 2.1min\n",
      "[CV] END colsample_bytree=1.0, gamma=0.3, learning_rate=0.01, max_depth=2, n_estimators=50, subsample=1.0; total time= 2.2min\n",
      "[CV] END colsample_bytree=1.0, gamma=0.3, learning_rate=0.01, max_depth=2, n_estimators=50, subsample=1.0; total time= 2.2min\n",
      "[CV] END colsample_bytree=1.0, gamma=0.3, learning_rate=0.01, max_depth=2, n_estimators=50, subsample=1.0; total time= 2.2min\n",
      "[CV] END colsample_bytree=1.0, gamma=0.3, learning_rate=0.01, max_depth=6, n_estimators=5, subsample=1.0; total time=  20.2s\n",
      "[CV] END colsample_bytree=1.0, gamma=0.3, learning_rate=0.01, max_depth=6, n_estimators=5, subsample=1.0; total time=  20.3s\n"
     ]
    },
    {
     "name": "stderr",
     "output_type": "stream",
     "text": [
      "/opt/conda/lib/python3.11/site-packages/xgboost/core.py:729: UserWarning: [19:15:11] WARNING: /workspace/src/common/error_msg.cc:58: Falling back to prediction using DMatrix due to mismatched devices. This might lead to higher memory usage and slower performance. XGBoost is running on: cuda:0, while the input data is on: cpu.\n",
      "Potential solutions:\n",
      "- Use a data structure that matches the device ordinal in the booster.\n",
      "- Set the device for booster before call to inplace_predict.\n",
      "\n",
      "This warning will only be shown once.\n",
      "\n",
      "  return func(**kwargs)\n"
     ]
    },
    {
     "name": "stdout",
     "output_type": "stream",
     "text": [
      "[CV] END colsample_bytree=0.8, gamma=0.3, learning_rate=0.1, max_depth=1, n_estimators=200, subsample=0.8; total time= 2.5min\n",
      "[CV] END colsample_bytree=1.0, gamma=0.3, learning_rate=0.01, max_depth=6, n_estimators=5, subsample=1.0; total time=  20.1s\n",
      "[CV] END colsample_bytree=1.0, gamma=0.3, learning_rate=0.01, max_depth=6, n_estimators=5, subsample=1.0; total time=  20.4s\n",
      "[CV] END colsample_bytree=1.0, gamma=0.3, learning_rate=0.01, max_depth=6, n_estimators=5, subsample=1.0; total time=  20.1s\n"
     ]
    },
    {
     "name": "stderr",
     "output_type": "stream",
     "text": [
      "/opt/conda/lib/python3.11/site-packages/xgboost/core.py:729: UserWarning: [19:19:32] WARNING: /workspace/src/common/error_msg.cc:58: Falling back to prediction using DMatrix due to mismatched devices. This might lead to higher memory usage and slower performance. XGBoost is running on: cuda:0, while the input data is on: cpu.\n",
      "Potential solutions:\n",
      "- Use a data structure that matches the device ordinal in the booster.\n",
      "- Set the device for booster before call to inplace_predict.\n",
      "\n",
      "This warning will only be shown once.\n",
      "\n",
      "  return func(**kwargs)\n"
     ]
    },
    {
     "name": "stdout",
     "output_type": "stream",
     "text": [
      "[CV] END colsample_bytree=0.8, gamma=0.3, learning_rate=0.1, max_depth=1, n_estimators=200, subsample=0.8; total time= 6.9min\n"
     ]
    },
    {
     "name": "stderr",
     "output_type": "stream",
     "text": [
      "/opt/conda/lib/python3.11/site-packages/xgboost/core.py:729: UserWarning: [19:19:34] WARNING: /workspace/src/common/error_msg.cc:58: Falling back to prediction using DMatrix due to mismatched devices. This might lead to higher memory usage and slower performance. XGBoost is running on: cuda:0, while the input data is on: cpu.\n",
      "Potential solutions:\n",
      "- Use a data structure that matches the device ordinal in the booster.\n",
      "- Set the device for booster before call to inplace_predict.\n",
      "\n",
      "This warning will only be shown once.\n",
      "\n",
      "  return func(**kwargs)\n",
      "/opt/conda/lib/python3.11/site-packages/xgboost/core.py:729: UserWarning: [19:19:34] WARNING: /workspace/src/common/error_msg.cc:58: Falling back to prediction using DMatrix due to mismatched devices. This might lead to higher memory usage and slower performance. XGBoost is running on: cuda:0, while the input data is on: cpu.\n",
      "Potential solutions:\n",
      "- Use a data structure that matches the device ordinal in the booster.\n",
      "- Set the device for booster before call to inplace_predict.\n",
      "\n",
      "This warning will only be shown once.\n",
      "\n",
      "  return func(**kwargs)\n",
      "/opt/conda/lib/python3.11/site-packages/xgboost/core.py:729: UserWarning: [19:19:34] WARNING: /workspace/src/common/error_msg.cc:58: Falling back to prediction using DMatrix due to mismatched devices. This might lead to higher memory usage and slower performance. XGBoost is running on: cuda:0, while the input data is on: cpu.\n",
      "Potential solutions:\n",
      "- Use a data structure that matches the device ordinal in the booster.\n",
      "- Set the device for booster before call to inplace_predict.\n",
      "\n",
      "This warning will only be shown once.\n",
      "\n",
      "  return func(**kwargs)\n"
     ]
    },
    {
     "name": "stdout",
     "output_type": "stream",
     "text": [
      "[CV] END colsample_bytree=0.8, gamma=0.3, learning_rate=0.1, max_depth=1, n_estimators=200, subsample=0.8; total time= 6.9min\n",
      "[CV] END colsample_bytree=0.8, gamma=0.3, learning_rate=0.1, max_depth=1, n_estimators=200, subsample=0.8; total time= 6.9min\n",
      "[CV] END colsample_bytree=0.8, gamma=0.3, learning_rate=0.1, max_depth=1, n_estimators=200, subsample=0.8; total time= 6.9min\n"
     ]
    },
    {
     "name": "stderr",
     "output_type": "stream",
     "text": [
      "/opt/conda/lib/python3.11/site-packages/xgboost/core.py:729: UserWarning: [19:22:28] WARNING: /workspace/src/common/error_msg.cc:58: Falling back to prediction using DMatrix due to mismatched devices. This might lead to higher memory usage and slower performance. XGBoost is running on: cuda:0, while the input data is on: cpu.\n",
      "Potential solutions:\n",
      "- Use a data structure that matches the device ordinal in the booster.\n",
      "- Set the device for booster before call to inplace_predict.\n",
      "\n",
      "This warning will only be shown once.\n",
      "\n",
      "  return func(**kwargs)\n"
     ]
    },
    {
     "name": "stdout",
     "output_type": "stream",
     "text": [
      "[CV] END colsample_bytree=1.0, gamma=0.1, learning_rate=0.2, max_depth=11, n_estimators=200, subsample=0.6; total time= 9.8min\n"
     ]
    },
    {
     "name": "stderr",
     "output_type": "stream",
     "text": [
      "/opt/conda/lib/python3.11/site-packages/xgboost/core.py:729: UserWarning: [19:22:29] WARNING: /workspace/src/common/error_msg.cc:58: Falling back to prediction using DMatrix due to mismatched devices. This might lead to higher memory usage and slower performance. XGBoost is running on: cuda:0, while the input data is on: cpu.\n",
      "Potential solutions:\n",
      "- Use a data structure that matches the device ordinal in the booster.\n",
      "- Set the device for booster before call to inplace_predict.\n",
      "\n",
      "This warning will only be shown once.\n",
      "\n",
      "  return func(**kwargs)\n"
     ]
    },
    {
     "name": "stdout",
     "output_type": "stream",
     "text": [
      "[CV] END colsample_bytree=1.0, gamma=0.1, learning_rate=0.2, max_depth=11, n_estimators=200, subsample=0.6; total time= 9.9min\n",
      "[CV] END colsample_bytree=1.0, gamma=0.1, learning_rate=0.2, max_depth=11, n_estimators=200, subsample=0.6; total time= 9.4min\n",
      "[CV] END colsample_bytree=1.0, gamma=0.1, learning_rate=0.2, max_depth=11, n_estimators=200, subsample=0.6; total time= 9.6min\n",
      "[CV] END colsample_bytree=1.0, gamma=0.1, learning_rate=0.2, max_depth=11, n_estimators=200, subsample=0.6; total time= 9.6min\n",
      "[CV] END colsample_bytree=0.6, gamma=0.3, learning_rate=0.05, max_depth=6, n_estimators=200, subsample=0.6; total time=10.8min\n",
      "[CV] END colsample_bytree=0.6, gamma=0.3, learning_rate=0.05, max_depth=6, n_estimators=200, subsample=0.6; total time=10.8min\n",
      "[CV] END colsample_bytree=0.6, gamma=0.3, learning_rate=0.05, max_depth=6, n_estimators=200, subsample=0.6; total time=10.4min\n",
      "[CV] END colsample_bytree=0.6, gamma=0.3, learning_rate=0.05, max_depth=6, n_estimators=200, subsample=0.6; total time=10.4min\n",
      "[CV] END colsample_bytree=0.6, gamma=0.3, learning_rate=0.05, max_depth=6, n_estimators=200, subsample=0.6; total time=10.4min\n",
      "[CV] END colsample_bytree=1.0, gamma=0.3, learning_rate=0.05, max_depth=12, n_estimators=500, subsample=1.0; total time=13.7min\n",
      "[CV] END colsample_bytree=1.0, gamma=0.3, learning_rate=0.05, max_depth=12, n_estimators=500, subsample=1.0; total time=13.7min\n",
      "[CV] END colsample_bytree=1.0, gamma=0.3, learning_rate=0.05, max_depth=12, n_estimators=500, subsample=1.0; total time=13.3min\n",
      "[CV] END colsample_bytree=1.0, gamma=0.3, learning_rate=0.05, max_depth=12, n_estimators=500, subsample=1.0; total time=13.4min\n",
      "[CV] END colsample_bytree=1.0, gamma=0.3, learning_rate=0.05, max_depth=12, n_estimators=500, subsample=1.0; total time=13.4min\n"
     ]
    },
    {
     "name": "stderr",
     "output_type": "stream",
     "text": [
      "/opt/conda/lib/python3.11/site-packages/xgboost/core.py:729: UserWarning: [19:28:44] WARNING: /workspace/src/common/error_msg.cc:58: Falling back to prediction using DMatrix due to mismatched devices. This might lead to higher memory usage and slower performance. XGBoost is running on: cuda:0, while the input data is on: cpu.\n",
      "Potential solutions:\n",
      "- Use a data structure that matches the device ordinal in the booster.\n",
      "- Set the device for booster before call to inplace_predict.\n",
      "\n",
      "This warning will only be shown once.\n",
      "\n",
      "  return func(**kwargs)\n"
     ]
    },
    {
     "name": "stdout",
     "output_type": "stream",
     "text": [
      "[CV] END colsample_bytree=0.8, gamma=0.1, learning_rate=0.001, max_depth=8, n_estimators=300, subsample=0.6; total time=16.1min\n"
     ]
    },
    {
     "name": "stderr",
     "output_type": "stream",
     "text": [
      "/opt/conda/lib/python3.11/site-packages/xgboost/core.py:729: UserWarning: [19:28:44] WARNING: /workspace/src/common/error_msg.cc:58: Falling back to prediction using DMatrix due to mismatched devices. This might lead to higher memory usage and slower performance. XGBoost is running on: cuda:0, while the input data is on: cpu.\n",
      "Potential solutions:\n",
      "- Use a data structure that matches the device ordinal in the booster.\n",
      "- Set the device for booster before call to inplace_predict.\n",
      "\n",
      "This warning will only be shown once.\n",
      "\n",
      "  return func(**kwargs)\n"
     ]
    },
    {
     "name": "stdout",
     "output_type": "stream",
     "text": [
      "[CV] END colsample_bytree=0.8, gamma=0.1, learning_rate=0.001, max_depth=8, n_estimators=300, subsample=0.6; total time=16.1min\n"
     ]
    },
    {
     "name": "stderr",
     "output_type": "stream",
     "text": [
      "/opt/conda/lib/python3.11/site-packages/xgboost/core.py:729: UserWarning: [19:28:46] WARNING: /workspace/src/common/error_msg.cc:58: Falling back to prediction using DMatrix due to mismatched devices. This might lead to higher memory usage and slower performance. XGBoost is running on: cuda:0, while the input data is on: cpu.\n",
      "Potential solutions:\n",
      "- Use a data structure that matches the device ordinal in the booster.\n",
      "- Set the device for booster before call to inplace_predict.\n",
      "\n",
      "This warning will only be shown once.\n",
      "\n",
      "  return func(**kwargs)\n"
     ]
    },
    {
     "name": "stdout",
     "output_type": "stream",
     "text": [
      "[CV] END colsample_bytree=0.8, gamma=0.1, learning_rate=0.001, max_depth=8, n_estimators=300, subsample=0.6; total time=16.1min\n"
     ]
    },
    {
     "name": "stderr",
     "output_type": "stream",
     "text": [
      "/opt/conda/lib/python3.11/site-packages/xgboost/core.py:729: UserWarning: [19:28:47] WARNING: /workspace/src/common/error_msg.cc:58: Falling back to prediction using DMatrix due to mismatched devices. This might lead to higher memory usage and slower performance. XGBoost is running on: cuda:0, while the input data is on: cpu.\n",
      "Potential solutions:\n",
      "- Use a data structure that matches the device ordinal in the booster.\n",
      "- Set the device for booster before call to inplace_predict.\n",
      "\n",
      "This warning will only be shown once.\n",
      "\n",
      "  return func(**kwargs)\n"
     ]
    },
    {
     "name": "stdout",
     "output_type": "stream",
     "text": [
      "[CV] END colsample_bytree=0.8, gamma=0.1, learning_rate=0.001, max_depth=8, n_estimators=300, subsample=0.6; total time=16.2min\n"
     ]
    },
    {
     "name": "stderr",
     "output_type": "stream",
     "text": [
      "/opt/conda/lib/python3.11/site-packages/xgboost/core.py:729: UserWarning: [19:28:47] WARNING: /workspace/src/common/error_msg.cc:58: Falling back to prediction using DMatrix due to mismatched devices. This might lead to higher memory usage and slower performance. XGBoost is running on: cuda:0, while the input data is on: cpu.\n",
      "Potential solutions:\n",
      "- Use a data structure that matches the device ordinal in the booster.\n",
      "- Set the device for booster before call to inplace_predict.\n",
      "\n",
      "This warning will only be shown once.\n",
      "\n",
      "  return func(**kwargs)\n"
     ]
    },
    {
     "name": "stdout",
     "output_type": "stream",
     "text": [
      "[CV] END colsample_bytree=0.8, gamma=0.1, learning_rate=0.001, max_depth=8, n_estimators=300, subsample=0.6; total time=16.2min\n"
     ]
    },
    {
     "name": "stderr",
     "output_type": "stream",
     "text": [
      "/opt/conda/lib/python3.11/site-packages/xgboost/core.py:729: UserWarning: [19:31:34] WARNING: /workspace/src/common/error_msg.cc:58: Falling back to prediction using DMatrix due to mismatched devices. This might lead to higher memory usage and slower performance. XGBoost is running on: cuda:0, while the input data is on: cpu.\n",
      "Potential solutions:\n",
      "- Use a data structure that matches the device ordinal in the booster.\n",
      "- Set the device for booster before call to inplace_predict.\n",
      "\n",
      "This warning will only be shown once.\n",
      "\n",
      "  return func(**kwargs)\n"
     ]
    },
    {
     "name": "stdout",
     "output_type": "stream",
     "text": [
      "[CV] END colsample_bytree=1.0, gamma=0, learning_rate=0.01, max_depth=10, n_estimators=500, subsample=0.8; total time=18.9min\n"
     ]
    },
    {
     "name": "stderr",
     "output_type": "stream",
     "text": [
      "/opt/conda/lib/python3.11/site-packages/xgboost/core.py:729: UserWarning: [19:31:38] WARNING: /workspace/src/common/error_msg.cc:58: Falling back to prediction using DMatrix due to mismatched devices. This might lead to higher memory usage and slower performance. XGBoost is running on: cuda:0, while the input data is on: cpu.\n",
      "Potential solutions:\n",
      "- Use a data structure that matches the device ordinal in the booster.\n",
      "- Set the device for booster before call to inplace_predict.\n",
      "\n",
      "This warning will only be shown once.\n",
      "\n",
      "  return func(**kwargs)\n"
     ]
    },
    {
     "name": "stdout",
     "output_type": "stream",
     "text": [
      "[CV] END colsample_bytree=1.0, gamma=0, learning_rate=0.01, max_depth=10, n_estimators=500, subsample=0.8; total time=19.0min\n"
     ]
    },
    {
     "name": "stderr",
     "output_type": "stream",
     "text": [
      "/opt/conda/lib/python3.11/site-packages/xgboost/core.py:729: UserWarning: [19:31:39] WARNING: /workspace/src/common/error_msg.cc:58: Falling back to prediction using DMatrix due to mismatched devices. This might lead to higher memory usage and slower performance. XGBoost is running on: cuda:0, while the input data is on: cpu.\n",
      "Potential solutions:\n",
      "- Use a data structure that matches the device ordinal in the booster.\n",
      "- Set the device for booster before call to inplace_predict.\n",
      "\n",
      "This warning will only be shown once.\n",
      "\n",
      "  return func(**kwargs)\n"
     ]
    },
    {
     "name": "stdout",
     "output_type": "stream",
     "text": [
      "[CV] END colsample_bytree=1.0, gamma=0, learning_rate=0.01, max_depth=10, n_estimators=500, subsample=0.8; total time=19.0min\n"
     ]
    },
    {
     "name": "stderr",
     "output_type": "stream",
     "text": [
      "/opt/conda/lib/python3.11/site-packages/xgboost/core.py:729: UserWarning: [19:31:40] WARNING: /workspace/src/common/error_msg.cc:58: Falling back to prediction using DMatrix due to mismatched devices. This might lead to higher memory usage and slower performance. XGBoost is running on: cuda:0, while the input data is on: cpu.\n",
      "Potential solutions:\n",
      "- Use a data structure that matches the device ordinal in the booster.\n",
      "- Set the device for booster before call to inplace_predict.\n",
      "\n",
      "This warning will only be shown once.\n",
      "\n",
      "  return func(**kwargs)\n",
      "/opt/conda/lib/python3.11/site-packages/xgboost/core.py:729: UserWarning: [19:31:40] WARNING: /workspace/src/common/error_msg.cc:58: Falling back to prediction using DMatrix due to mismatched devices. This might lead to higher memory usage and slower performance. XGBoost is running on: cuda:0, while the input data is on: cpu.\n",
      "Potential solutions:\n",
      "- Use a data structure that matches the device ordinal in the booster.\n",
      "- Set the device for booster before call to inplace_predict.\n",
      "\n",
      "This warning will only be shown once.\n",
      "\n",
      "  return func(**kwargs)\n"
     ]
    },
    {
     "name": "stdout",
     "output_type": "stream",
     "text": [
      "[CV] END colsample_bytree=1.0, gamma=0, learning_rate=0.01, max_depth=10, n_estimators=500, subsample=0.8; total time=19.0min\n",
      "[CV] END colsample_bytree=1.0, gamma=0, learning_rate=0.01, max_depth=10, n_estimators=500, subsample=0.8; total time=19.0min\n",
      "Training best XGBoost classifier...\n",
      "Best params:  {'subsample': 0.6, 'n_estimators': 200, 'max_depth': 6, 'learning_rate': 0.05, 'gamma': 0.3, 'colsample_bytree': 0.6}\n",
      "Making predictions...\n",
      "Accuracy: 62.56%\n",
      "---------------------------------------------------\n",
      "Computing for partition 2, balanced classes with 200 entries for each class and geodata\n",
      "Finding optimal hyperparameters...\n",
      "3.0.2\n",
      "<class 'xgboost.sklearn.XGBClassifier'>\n",
      "Fitting 5 folds for each of 10 candidates, totalling 50 fits\n"
     ]
    },
    {
     "name": "stderr",
     "output_type": "stream",
     "text": [
      "/opt/conda/lib/python3.11/site-packages/xgboost/core.py:729: UserWarning: [19:32:41] WARNING: /workspace/src/common/error_msg.cc:58: Falling back to prediction using DMatrix due to mismatched devices. This might lead to higher memory usage and slower performance. XGBoost is running on: cuda:0, while the input data is on: cpu.\n",
      "Potential solutions:\n",
      "- Use a data structure that matches the device ordinal in the booster.\n",
      "- Set the device for booster before call to inplace_predict.\n",
      "\n",
      "This warning will only be shown once.\n",
      "\n",
      "  return func(**kwargs)\n"
     ]
    },
    {
     "name": "stdout",
     "output_type": "stream",
     "text": [
      "[CV] END colsample_bytree=0.6, gamma=0, learning_rate=0.05, max_depth=12, n_estimators=5, subsample=0.6; total time=  49.2s\n"
     ]
    },
    {
     "name": "stderr",
     "output_type": "stream",
     "text": [
      "/opt/conda/lib/python3.11/site-packages/xgboost/core.py:729: UserWarning: [19:32:42] WARNING: /workspace/src/common/error_msg.cc:58: Falling back to prediction using DMatrix due to mismatched devices. This might lead to higher memory usage and slower performance. XGBoost is running on: cuda:0, while the input data is on: cpu.\n",
      "Potential solutions:\n",
      "- Use a data structure that matches the device ordinal in the booster.\n",
      "- Set the device for booster before call to inplace_predict.\n",
      "\n",
      "This warning will only be shown once.\n",
      "\n",
      "  return func(**kwargs)\n"
     ]
    },
    {
     "name": "stdout",
     "output_type": "stream",
     "text": [
      "[CV] END colsample_bytree=0.6, gamma=0, learning_rate=0.05, max_depth=12, n_estimators=5, subsample=0.6; total time=  49.7s\n"
     ]
    },
    {
     "name": "stderr",
     "output_type": "stream",
     "text": [
      "/opt/conda/lib/python3.11/site-packages/xgboost/core.py:729: UserWarning: [19:32:45] WARNING: /workspace/src/common/error_msg.cc:58: Falling back to prediction using DMatrix due to mismatched devices. This might lead to higher memory usage and slower performance. XGBoost is running on: cuda:0, while the input data is on: cpu.\n",
      "Potential solutions:\n",
      "- Use a data structure that matches the device ordinal in the booster.\n",
      "- Set the device for booster before call to inplace_predict.\n",
      "\n",
      "This warning will only be shown once.\n",
      "\n",
      "  return func(**kwargs)\n",
      "/opt/conda/lib/python3.11/site-packages/xgboost/core.py:729: UserWarning: [19:32:45] WARNING: /workspace/src/common/error_msg.cc:58: Falling back to prediction using DMatrix due to mismatched devices. This might lead to higher memory usage and slower performance. XGBoost is running on: cuda:0, while the input data is on: cpu.\n",
      "Potential solutions:\n",
      "- Use a data structure that matches the device ordinal in the booster.\n",
      "- Set the device for booster before call to inplace_predict.\n",
      "\n",
      "This warning will only be shown once.\n",
      "\n",
      "  return func(**kwargs)\n",
      "/opt/conda/lib/python3.11/site-packages/xgboost/core.py:729: UserWarning: [19:32:45] WARNING: /workspace/src/common/error_msg.cc:58: Falling back to prediction using DMatrix due to mismatched devices. This might lead to higher memory usage and slower performance. XGBoost is running on: cuda:0, while the input data is on: cpu.\n",
      "Potential solutions:\n",
      "- Use a data structure that matches the device ordinal in the booster.\n",
      "- Set the device for booster before call to inplace_predict.\n",
      "\n",
      "This warning will only be shown once.\n",
      "\n",
      "  return func(**kwargs)\n",
      "/opt/conda/lib/python3.11/site-packages/xgboost/core.py:729: UserWarning: [19:32:45] WARNING: /workspace/src/common/error_msg.cc:58: Falling back to prediction using DMatrix due to mismatched devices. This might lead to higher memory usage and slower performance. XGBoost is running on: cuda:0, while the input data is on: cpu.\n",
      "Potential solutions:\n",
      "- Use a data structure that matches the device ordinal in the booster.\n",
      "- Set the device for booster before call to inplace_predict.\n",
      "\n",
      "This warning will only be shown once.\n",
      "\n",
      "  return func(**kwargs)\n",
      "/opt/conda/lib/python3.11/site-packages/xgboost/core.py:729: UserWarning: [19:32:45] WARNING: /workspace/src/common/error_msg.cc:58: Falling back to prediction using DMatrix due to mismatched devices. This might lead to higher memory usage and slower performance. XGBoost is running on: cuda:0, while the input data is on: cpu.\n",
      "Potential solutions:\n",
      "- Use a data structure that matches the device ordinal in the booster.\n",
      "- Set the device for booster before call to inplace_predict.\n",
      "\n",
      "This warning will only be shown once.\n",
      "\n",
      "  return func(**kwargs)\n"
     ]
    },
    {
     "name": "stdout",
     "output_type": "stream",
     "text": [
      "[CV] END colsample_bytree=1.0, gamma=0.3, learning_rate=0.01, max_depth=1, n_estimators=20, subsample=0.6; total time=  53.0s\n",
      "[CV] END colsample_bytree=1.0, gamma=0.3, learning_rate=0.01, max_depth=1, n_estimators=20, subsample=0.6; total time=  52.9s\n",
      "[CV] END colsample_bytree=1.0, gamma=0.3, learning_rate=0.01, max_depth=1, n_estimators=20, subsample=0.6; total time=  53.2s\n",
      "[CV] END colsample_bytree=1.0, gamma=0.3, learning_rate=0.01, max_depth=1, n_estimators=20, subsample=0.6; total time=  53.1s\n",
      "[CV] END colsample_bytree=1.0, gamma=0.3, learning_rate=0.01, max_depth=1, n_estimators=20, subsample=0.6; total time=  53.1s\n",
      "[CV] END colsample_bytree=0.6, gamma=0, learning_rate=0.05, max_depth=12, n_estimators=5, subsample=0.6; total time=  33.1s\n",
      "[CV] END colsample_bytree=0.6, gamma=0, learning_rate=0.05, max_depth=12, n_estimators=5, subsample=0.6; total time=  32.7s\n",
      "[CV] END colsample_bytree=0.6, gamma=0, learning_rate=0.05, max_depth=12, n_estimators=5, subsample=0.6; total time=  33.1s\n",
      "[CV] END colsample_bytree=1.0, gamma=0, learning_rate=0.2, max_depth=6, n_estimators=10, subsample=1.0; total time=  44.5s\n",
      "[CV] END colsample_bytree=1.0, gamma=0, learning_rate=0.2, max_depth=6, n_estimators=10, subsample=1.0; total time=  44.4s\n",
      "[CV] END colsample_bytree=1.0, gamma=0, learning_rate=0.2, max_depth=6, n_estimators=10, subsample=1.0; total time=  44.5s\n",
      "[CV] END colsample_bytree=1.0, gamma=0, learning_rate=0.2, max_depth=6, n_estimators=10, subsample=1.0; total time=  44.5s\n",
      "[CV] END colsample_bytree=1.0, gamma=0, learning_rate=0.2, max_depth=6, n_estimators=10, subsample=1.0; total time=  44.4s\n",
      "[CV] END colsample_bytree=0.8, gamma=0, learning_rate=0.05, max_depth=12, n_estimators=5, subsample=1.0; total time=  36.1s\n",
      "[CV] END colsample_bytree=0.8, gamma=0, learning_rate=0.05, max_depth=12, n_estimators=5, subsample=1.0; total time=  35.7s\n",
      "[CV] END colsample_bytree=0.8, gamma=0, learning_rate=0.05, max_depth=12, n_estimators=5, subsample=1.0; total time=  35.9s\n",
      "[CV] END colsample_bytree=0.8, gamma=0, learning_rate=0.05, max_depth=12, n_estimators=5, subsample=1.0; total time=  35.8s\n",
      "[CV] END colsample_bytree=0.8, gamma=0, learning_rate=0.05, max_depth=12, n_estimators=5, subsample=1.0; total time=  35.6s\n",
      "[CV] END colsample_bytree=1.0, gamma=0, learning_rate=0.1, max_depth=6, n_estimators=100, subsample=0.8; total time= 6.9min\n",
      "[CV] END colsample_bytree=1.0, gamma=0, learning_rate=0.1, max_depth=6, n_estimators=100, subsample=0.8; total time= 6.9min\n",
      "[CV] END colsample_bytree=1.0, gamma=0, learning_rate=0.1, max_depth=6, n_estimators=100, subsample=0.8; total time= 6.9min\n",
      "[CV] END colsample_bytree=1.0, gamma=0, learning_rate=0.1, max_depth=6, n_estimators=100, subsample=0.8; total time= 6.9min\n",
      "[CV] END colsample_bytree=1.0, gamma=0, learning_rate=0.1, max_depth=6, n_estimators=100, subsample=0.8; total time= 6.9min\n"
     ]
    },
    {
     "name": "stderr",
     "output_type": "stream",
     "text": [
      "/opt/conda/lib/python3.11/site-packages/xgboost/core.py:729: UserWarning: [19:40:51] WARNING: /workspace/src/common/error_msg.cc:58: Falling back to prediction using DMatrix due to mismatched devices. This might lead to higher memory usage and slower performance. XGBoost is running on: cuda:0, while the input data is on: cpu.\n",
      "Potential solutions:\n",
      "- Use a data structure that matches the device ordinal in the booster.\n",
      "- Set the device for booster before call to inplace_predict.\n",
      "\n",
      "This warning will only be shown once.\n",
      "\n",
      "  return func(**kwargs)\n"
     ]
    },
    {
     "name": "stdout",
     "output_type": "stream",
     "text": [
      "[CV] END colsample_bytree=1.0, gamma=0, learning_rate=0.001, max_depth=9, n_estimators=100, subsample=0.8; total time= 9.0min\n"
     ]
    },
    {
     "name": "stderr",
     "output_type": "stream",
     "text": [
      "/opt/conda/lib/python3.11/site-packages/xgboost/core.py:729: UserWarning: [19:40:53] WARNING: /workspace/src/common/error_msg.cc:58: Falling back to prediction using DMatrix due to mismatched devices. This might lead to higher memory usage and slower performance. XGBoost is running on: cuda:0, while the input data is on: cpu.\n",
      "Potential solutions:\n",
      "- Use a data structure that matches the device ordinal in the booster.\n",
      "- Set the device for booster before call to inplace_predict.\n",
      "\n",
      "This warning will only be shown once.\n",
      "\n",
      "  return func(**kwargs)\n"
     ]
    },
    {
     "name": "stdout",
     "output_type": "stream",
     "text": [
      "[CV] END colsample_bytree=1.0, gamma=0, learning_rate=0.001, max_depth=9, n_estimators=100, subsample=0.8; total time= 9.0min\n"
     ]
    },
    {
     "name": "stderr",
     "output_type": "stream",
     "text": [
      "/opt/conda/lib/python3.11/site-packages/xgboost/core.py:729: UserWarning: [19:40:54] WARNING: /workspace/src/common/error_msg.cc:58: Falling back to prediction using DMatrix due to mismatched devices. This might lead to higher memory usage and slower performance. XGBoost is running on: cuda:0, while the input data is on: cpu.\n",
      "Potential solutions:\n",
      "- Use a data structure that matches the device ordinal in the booster.\n",
      "- Set the device for booster before call to inplace_predict.\n",
      "\n",
      "This warning will only be shown once.\n",
      "\n",
      "  return func(**kwargs)\n",
      "/opt/conda/lib/python3.11/site-packages/xgboost/core.py:729: UserWarning: [19:40:54] WARNING: /workspace/src/common/error_msg.cc:58: Falling back to prediction using DMatrix due to mismatched devices. This might lead to higher memory usage and slower performance. XGBoost is running on: cuda:0, while the input data is on: cpu.\n",
      "Potential solutions:\n",
      "- Use a data structure that matches the device ordinal in the booster.\n",
      "- Set the device for booster before call to inplace_predict.\n",
      "\n",
      "This warning will only be shown once.\n",
      "\n",
      "  return func(**kwargs)\n"
     ]
    },
    {
     "name": "stdout",
     "output_type": "stream",
     "text": [
      "[CV] END colsample_bytree=1.0, gamma=0, learning_rate=0.001, max_depth=9, n_estimators=100, subsample=0.8; total time= 9.0min\n",
      "[CV] END colsample_bytree=1.0, gamma=0, learning_rate=0.001, max_depth=9, n_estimators=100, subsample=0.8; total time= 9.0min\n"
     ]
    },
    {
     "name": "stderr",
     "output_type": "stream",
     "text": [
      "/opt/conda/lib/python3.11/site-packages/xgboost/core.py:729: UserWarning: [19:40:55] WARNING: /workspace/src/common/error_msg.cc:58: Falling back to prediction using DMatrix due to mismatched devices. This might lead to higher memory usage and slower performance. XGBoost is running on: cuda:0, while the input data is on: cpu.\n",
      "Potential solutions:\n",
      "- Use a data structure that matches the device ordinal in the booster.\n",
      "- Set the device for booster before call to inplace_predict.\n",
      "\n",
      "This warning will only be shown once.\n",
      "\n",
      "  return func(**kwargs)\n"
     ]
    },
    {
     "name": "stdout",
     "output_type": "stream",
     "text": [
      "[CV] END colsample_bytree=1.0, gamma=0, learning_rate=0.001, max_depth=9, n_estimators=100, subsample=0.8; total time= 9.1min\n",
      "[CV] END colsample_bytree=0.6, gamma=0.1, learning_rate=0.2, max_depth=6, n_estimators=300, subsample=1.0; total time=11.4min\n",
      "[CV] END colsample_bytree=0.6, gamma=0.1, learning_rate=0.2, max_depth=6, n_estimators=300, subsample=1.0; total time=11.6min\n",
      "[CV] END colsample_bytree=0.6, gamma=0.1, learning_rate=0.2, max_depth=6, n_estimators=300, subsample=1.0; total time=11.6min\n",
      "[CV] END colsample_bytree=0.6, gamma=0.1, learning_rate=0.2, max_depth=6, n_estimators=300, subsample=1.0; total time=11.6min\n",
      "[CV] END colsample_bytree=0.6, gamma=0.1, learning_rate=0.2, max_depth=6, n_estimators=300, subsample=1.0; total time=11.6min\n",
      "[CV] END colsample_bytree=0.8, gamma=0.1, learning_rate=0.1, max_depth=6, n_estimators=300, subsample=1.0; total time=12.6min\n",
      "[CV] END colsample_bytree=0.8, gamma=0.1, learning_rate=0.1, max_depth=6, n_estimators=300, subsample=1.0; total time=12.6min\n",
      "[CV] END colsample_bytree=0.8, gamma=0.1, learning_rate=0.1, max_depth=6, n_estimators=300, subsample=1.0; total time=12.6min\n",
      "[CV] END colsample_bytree=0.8, gamma=0.1, learning_rate=0.1, max_depth=6, n_estimators=300, subsample=1.0; total time=12.6min\n",
      "[CV] END colsample_bytree=0.8, gamma=0.1, learning_rate=0.1, max_depth=6, n_estimators=300, subsample=1.0; total time=12.7min\n",
      "[CV] END colsample_bytree=0.8, gamma=0.3, learning_rate=0.001, max_depth=3, n_estimators=500, subsample=0.8; total time=16.1min\n",
      "[CV] END colsample_bytree=0.8, gamma=0.3, learning_rate=0.001, max_depth=3, n_estimators=500, subsample=0.8; total time=16.1min\n",
      "[CV] END colsample_bytree=0.8, gamma=0.3, learning_rate=0.001, max_depth=3, n_estimators=500, subsample=0.8; total time=16.1min\n",
      "[CV] END colsample_bytree=0.8, gamma=0.3, learning_rate=0.001, max_depth=3, n_estimators=500, subsample=0.8; total time=16.1min\n",
      "[CV] END colsample_bytree=0.8, gamma=0.3, learning_rate=0.001, max_depth=3, n_estimators=500, subsample=0.8; total time=16.1min\n"
     ]
    },
    {
     "name": "stderr",
     "output_type": "stream",
     "text": [
      "/opt/conda/lib/python3.11/site-packages/xgboost/core.py:729: UserWarning: [19:50:22] WARNING: /workspace/src/common/error_msg.cc:58: Falling back to prediction using DMatrix due to mismatched devices. This might lead to higher memory usage and slower performance. XGBoost is running on: cuda:0, while the input data is on: cpu.\n",
      "Potential solutions:\n",
      "- Use a data structure that matches the device ordinal in the booster.\n",
      "- Set the device for booster before call to inplace_predict.\n",
      "\n",
      "This warning will only be shown once.\n",
      "\n",
      "  return func(**kwargs)\n",
      "/opt/conda/lib/python3.11/site-packages/xgboost/core.py:729: UserWarning: [19:50:22] WARNING: /workspace/src/common/error_msg.cc:58: Falling back to prediction using DMatrix due to mismatched devices. This might lead to higher memory usage and slower performance. XGBoost is running on: cuda:0, while the input data is on: cpu.\n",
      "Potential solutions:\n",
      "- Use a data structure that matches the device ordinal in the booster.\n",
      "- Set the device for booster before call to inplace_predict.\n",
      "\n",
      "This warning will only be shown once.\n",
      "\n",
      "  return func(**kwargs)\n",
      "/opt/conda/lib/python3.11/site-packages/xgboost/core.py:729: UserWarning: [19:50:22] WARNING: /workspace/src/common/error_msg.cc:58: Falling back to prediction using DMatrix due to mismatched devices. This might lead to higher memory usage and slower performance. XGBoost is running on: cuda:0, while the input data is on: cpu.\n",
      "Potential solutions:\n",
      "- Use a data structure that matches the device ordinal in the booster.\n",
      "- Set the device for booster before call to inplace_predict.\n",
      "\n",
      "This warning will only be shown once.\n",
      "\n",
      "  return func(**kwargs)\n",
      "/opt/conda/lib/python3.11/site-packages/xgboost/core.py:729: UserWarning: [19:50:22] WARNING: /workspace/src/common/error_msg.cc:58: Falling back to prediction using DMatrix due to mismatched devices. This might lead to higher memory usage and slower performance. XGBoost is running on: cuda:0, while the input data is on: cpu.\n",
      "Potential solutions:\n",
      "- Use a data structure that matches the device ordinal in the booster.\n",
      "- Set the device for booster before call to inplace_predict.\n",
      "\n",
      "This warning will only be shown once.\n",
      "\n",
      "  return func(**kwargs)\n",
      "/opt/conda/lib/python3.11/site-packages/xgboost/core.py:729: UserWarning: [19:50:22] WARNING: /workspace/src/common/error_msg.cc:58: Falling back to prediction using DMatrix due to mismatched devices. This might lead to higher memory usage and slower performance. XGBoost is running on: cuda:0, while the input data is on: cpu.\n",
      "Potential solutions:\n",
      "- Use a data structure that matches the device ordinal in the booster.\n",
      "- Set the device for booster before call to inplace_predict.\n",
      "\n",
      "This warning will only be shown once.\n",
      "\n",
      "  return func(**kwargs)\n"
     ]
    },
    {
     "name": "stdout",
     "output_type": "stream",
     "text": [
      "[CV] END colsample_bytree=0.6, gamma=0.1, learning_rate=0.001, max_depth=7, n_estimators=500, subsample=0.8; total time=18.5min\n",
      "[CV] END colsample_bytree=0.6, gamma=0.1, learning_rate=0.001, max_depth=7, n_estimators=500, subsample=0.8; total time=18.5min\n",
      "[CV] END colsample_bytree=0.6, gamma=0.1, learning_rate=0.001, max_depth=7, n_estimators=500, subsample=0.8; total time=18.5min\n",
      "[CV] END colsample_bytree=0.6, gamma=0.1, learning_rate=0.001, max_depth=7, n_estimators=500, subsample=0.8; total time=18.5min\n",
      "[CV] END colsample_bytree=0.6, gamma=0.1, learning_rate=0.001, max_depth=7, n_estimators=500, subsample=0.8; total time=18.5min\n",
      "Training best XGBoost classifier...\n",
      "Best params:  {'subsample': 1.0, 'n_estimators': 300, 'max_depth': 6, 'learning_rate': 0.1, 'gamma': 0.1, 'colsample_bytree': 0.8}\n",
      "Making predictions...\n",
      "Accuracy: 61.06%\n",
      "---------------------------------------------------\n",
      "Computing for partition 3, balanced classes with 300 entries for each class and geodata\n",
      "Finding optimal hyperparameters...\n",
      "3.0.2\n",
      "<class 'xgboost.sklearn.XGBClassifier'>\n",
      "Fitting 5 folds for each of 10 candidates, totalling 50 fits\n"
     ]
    },
    {
     "name": "stderr",
     "output_type": "stream",
     "text": [
      "/opt/conda/lib/python3.11/site-packages/xgboost/core.py:729: UserWarning: [19:52:13] WARNING: /workspace/src/common/error_msg.cc:58: Falling back to prediction using DMatrix due to mismatched devices. This might lead to higher memory usage and slower performance. XGBoost is running on: cuda:0, while the input data is on: cpu.\n",
      "Potential solutions:\n",
      "- Use a data structure that matches the device ordinal in the booster.\n",
      "- Set the device for booster before call to inplace_predict.\n",
      "\n",
      "This warning will only be shown once.\n",
      "\n",
      "  return func(**kwargs)\n",
      "/opt/conda/lib/python3.11/site-packages/xgboost/core.py:729: UserWarning: [19:52:14] WARNING: /workspace/src/common/error_msg.cc:58: Falling back to prediction using DMatrix due to mismatched devices. This might lead to higher memory usage and slower performance. XGBoost is running on: cuda:0, while the input data is on: cpu.\n",
      "Potential solutions:\n",
      "- Use a data structure that matches the device ordinal in the booster.\n",
      "- Set the device for booster before call to inplace_predict.\n",
      "\n",
      "This warning will only be shown once.\n",
      "\n",
      "  return func(**kwargs)\n",
      "/opt/conda/lib/python3.11/site-packages/xgboost/core.py:729: UserWarning: [19:52:14] WARNING: /workspace/src/common/error_msg.cc:58: Falling back to prediction using DMatrix due to mismatched devices. This might lead to higher memory usage and slower performance. XGBoost is running on: cuda:0, while the input data is on: cpu.\n",
      "Potential solutions:\n",
      "- Use a data structure that matches the device ordinal in the booster.\n",
      "- Set the device for booster before call to inplace_predict.\n",
      "\n",
      "This warning will only be shown once.\n",
      "\n",
      "  return func(**kwargs)\n",
      "/opt/conda/lib/python3.11/site-packages/xgboost/core.py:729: UserWarning: [19:52:14] WARNING: /workspace/src/common/error_msg.cc:58: Falling back to prediction using DMatrix due to mismatched devices. This might lead to higher memory usage and slower performance. XGBoost is running on: cuda:0, while the input data is on: cpu.\n",
      "Potential solutions:\n",
      "- Use a data structure that matches the device ordinal in the booster.\n",
      "- Set the device for booster before call to inplace_predict.\n",
      "\n",
      "This warning will only be shown once.\n",
      "\n",
      "  return func(**kwargs)\n"
     ]
    },
    {
     "name": "stdout",
     "output_type": "stream",
     "text": [
      "[CV] END colsample_bytree=0.8, gamma=0.3, learning_rate=0.1, max_depth=11, n_estimators=10, subsample=1.0; total time= 1.6min\n"
     ]
    },
    {
     "name": "stderr",
     "output_type": "stream",
     "text": [
      "/opt/conda/lib/python3.11/site-packages/xgboost/core.py:729: UserWarning: [19:52:14] WARNING: /workspace/src/common/error_msg.cc:58: Falling back to prediction using DMatrix due to mismatched devices. This might lead to higher memory usage and slower performance. XGBoost is running on: cuda:0, while the input data is on: cpu.\n",
      "Potential solutions:\n",
      "- Use a data structure that matches the device ordinal in the booster.\n",
      "- Set the device for booster before call to inplace_predict.\n",
      "\n",
      "This warning will only be shown once.\n",
      "\n",
      "  return func(**kwargs)\n"
     ]
    },
    {
     "name": "stdout",
     "output_type": "stream",
     "text": [
      "[CV] END colsample_bytree=0.8, gamma=0.3, learning_rate=0.1, max_depth=11, n_estimators=10, subsample=1.0; total time= 1.6min\n",
      "[CV] END colsample_bytree=0.8, gamma=0.3, learning_rate=0.1, max_depth=11, n_estimators=10, subsample=1.0; total time= 1.6min\n",
      "[CV] END colsample_bytree=0.8, gamma=0.3, learning_rate=0.1, max_depth=11, n_estimators=10, subsample=1.0; total time= 1.6min\n",
      "[CV] END colsample_bytree=0.8, gamma=0.3, learning_rate=0.1, max_depth=11, n_estimators=10, subsample=1.0; total time= 1.6min\n",
      "[CV] END colsample_bytree=0.8, gamma=0.3, learning_rate=0.01, max_depth=3, n_estimators=10, subsample=0.6; total time=  36.6s\n",
      "[CV] END colsample_bytree=0.8, gamma=0.3, learning_rate=0.01, max_depth=3, n_estimators=10, subsample=0.6; total time=  36.6s\n",
      "[CV] END colsample_bytree=0.8, gamma=0.3, learning_rate=0.01, max_depth=3, n_estimators=10, subsample=0.6; total time=  36.5s\n",
      "[CV] END colsample_bytree=0.8, gamma=0.3, learning_rate=0.01, max_depth=3, n_estimators=10, subsample=0.6; total time=  36.5s\n",
      "[CV] END colsample_bytree=0.8, gamma=0.3, learning_rate=0.01, max_depth=3, n_estimators=10, subsample=0.6; total time=  36.5s\n",
      "[CV] END colsample_bytree=0.8, gamma=0, learning_rate=0.2, max_depth=10, n_estimators=50, subsample=1.0; total time= 5.2min\n"
     ]
    },
    {
     "name": "stderr",
     "output_type": "stream",
     "text": [
      "/opt/conda/lib/python3.11/site-packages/xgboost/core.py:729: UserWarning: [19:56:05] WARNING: /workspace/src/common/error_msg.cc:58: Falling back to prediction using DMatrix due to mismatched devices. This might lead to higher memory usage and slower performance. XGBoost is running on: cuda:0, while the input data is on: cpu.\n",
      "Potential solutions:\n",
      "- Use a data structure that matches the device ordinal in the booster.\n",
      "- Set the device for booster before call to inplace_predict.\n",
      "\n",
      "This warning will only be shown once.\n",
      "\n",
      "  return func(**kwargs)\n",
      "/opt/conda/lib/python3.11/site-packages/xgboost/core.py:729: UserWarning: [19:56:05] WARNING: /workspace/src/common/error_msg.cc:58: Falling back to prediction using DMatrix due to mismatched devices. This might lead to higher memory usage and slower performance. XGBoost is running on: cuda:0, while the input data is on: cpu.\n",
      "Potential solutions:\n",
      "- Use a data structure that matches the device ordinal in the booster.\n",
      "- Set the device for booster before call to inplace_predict.\n",
      "\n",
      "This warning will only be shown once.\n",
      "\n",
      "  return func(**kwargs)\n"
     ]
    },
    {
     "name": "stdout",
     "output_type": "stream",
     "text": [
      "[CV] END colsample_bytree=1.0, gamma=0.1, learning_rate=0.01, max_depth=3, n_estimators=100, subsample=0.6; total time= 5.4min\n",
      "[CV] END colsample_bytree=1.0, gamma=0.1, learning_rate=0.01, max_depth=3, n_estimators=100, subsample=0.6; total time= 5.4min\n"
     ]
    },
    {
     "name": "stderr",
     "output_type": "stream",
     "text": [
      "/opt/conda/lib/python3.11/site-packages/xgboost/core.py:729: UserWarning: [19:56:25] WARNING: /workspace/src/common/error_msg.cc:58: Falling back to prediction using DMatrix due to mismatched devices. This might lead to higher memory usage and slower performance. XGBoost is running on: cuda:0, while the input data is on: cpu.\n",
      "Potential solutions:\n",
      "- Use a data structure that matches the device ordinal in the booster.\n",
      "- Set the device for booster before call to inplace_predict.\n",
      "\n",
      "This warning will only be shown once.\n",
      "\n",
      "  return func(**kwargs)\n"
     ]
    },
    {
     "name": "stdout",
     "output_type": "stream",
     "text": [
      "[CV] END colsample_bytree=1.0, gamma=0, learning_rate=0.01, max_depth=11, n_estimators=50, subsample=0.6; total time= 5.8min\n"
     ]
    },
    {
     "name": "stderr",
     "output_type": "stream",
     "text": [
      "/opt/conda/lib/python3.11/site-packages/xgboost/core.py:729: UserWarning: [19:56:28] WARNING: /workspace/src/common/error_msg.cc:58: Falling back to prediction using DMatrix due to mismatched devices. This might lead to higher memory usage and slower performance. XGBoost is running on: cuda:0, while the input data is on: cpu.\n",
      "Potential solutions:\n",
      "- Use a data structure that matches the device ordinal in the booster.\n",
      "- Set the device for booster before call to inplace_predict.\n",
      "\n",
      "This warning will only be shown once.\n",
      "\n",
      "  return func(**kwargs)\n",
      "/opt/conda/lib/python3.11/site-packages/xgboost/core.py:729: UserWarning: [19:56:28] WARNING: /workspace/src/common/error_msg.cc:58: Falling back to prediction using DMatrix due to mismatched devices. This might lead to higher memory usage and slower performance. XGBoost is running on: cuda:0, while the input data is on: cpu.\n",
      "Potential solutions:\n",
      "- Use a data structure that matches the device ordinal in the booster.\n",
      "- Set the device for booster before call to inplace_predict.\n",
      "\n",
      "This warning will only be shown once.\n",
      "\n",
      "  return func(**kwargs)\n"
     ]
    },
    {
     "name": "stdout",
     "output_type": "stream",
     "text": [
      "[CV] END colsample_bytree=1.0, gamma=0, learning_rate=0.01, max_depth=11, n_estimators=50, subsample=0.6; total time= 5.8min\n"
     ]
    },
    {
     "name": "stderr",
     "output_type": "stream",
     "text": [
      "/opt/conda/lib/python3.11/site-packages/xgboost/core.py:729: UserWarning: [19:56:29] WARNING: /workspace/src/common/error_msg.cc:58: Falling back to prediction using DMatrix due to mismatched devices. This might lead to higher memory usage and slower performance. XGBoost is running on: cuda:0, while the input data is on: cpu.\n",
      "Potential solutions:\n",
      "- Use a data structure that matches the device ordinal in the booster.\n",
      "- Set the device for booster before call to inplace_predict.\n",
      "\n",
      "This warning will only be shown once.\n",
      "\n",
      "  return func(**kwargs)\n"
     ]
    },
    {
     "name": "stdout",
     "output_type": "stream",
     "text": [
      "[CV] END colsample_bytree=1.0, gamma=0, learning_rate=0.01, max_depth=11, n_estimators=50, subsample=0.6; total time= 5.8min\n"
     ]
    },
    {
     "name": "stderr",
     "output_type": "stream",
     "text": [
      "/opt/conda/lib/python3.11/site-packages/xgboost/core.py:729: UserWarning: [19:56:29] WARNING: /workspace/src/common/error_msg.cc:58: Falling back to prediction using DMatrix due to mismatched devices. This might lead to higher memory usage and slower performance. XGBoost is running on: cuda:0, while the input data is on: cpu.\n",
      "Potential solutions:\n",
      "- Use a data structure that matches the device ordinal in the booster.\n",
      "- Set the device for booster before call to inplace_predict.\n",
      "\n",
      "This warning will only be shown once.\n",
      "\n",
      "  return func(**kwargs)\n"
     ]
    },
    {
     "name": "stdout",
     "output_type": "stream",
     "text": [
      "[CV] END colsample_bytree=1.0, gamma=0, learning_rate=0.01, max_depth=11, n_estimators=50, subsample=0.6; total time= 5.8min\n",
      "[CV] END colsample_bytree=1.0, gamma=0, learning_rate=0.01, max_depth=11, n_estimators=50, subsample=0.6; total time= 5.8min\n"
     ]
    },
    {
     "name": "stderr",
     "output_type": "stream",
     "text": [
      "/opt/conda/lib/python3.11/site-packages/xgboost/core.py:729: UserWarning: [19:56:50] WARNING: /workspace/src/common/error_msg.cc:58: Falling back to prediction using DMatrix due to mismatched devices. This might lead to higher memory usage and slower performance. XGBoost is running on: cuda:0, while the input data is on: cpu.\n",
      "Potential solutions:\n",
      "- Use a data structure that matches the device ordinal in the booster.\n",
      "- Set the device for booster before call to inplace_predict.\n",
      "\n",
      "This warning will only be shown once.\n",
      "\n",
      "  return func(**kwargs)\n"
     ]
    },
    {
     "name": "stdout",
     "output_type": "stream",
     "text": [
      "[CV] END colsample_bytree=0.8, gamma=0, learning_rate=0.2, max_depth=10, n_estimators=50, subsample=1.0; total time= 6.2min\n"
     ]
    },
    {
     "name": "stderr",
     "output_type": "stream",
     "text": [
      "/opt/conda/lib/python3.11/site-packages/xgboost/core.py:729: UserWarning: [19:56:52] WARNING: /workspace/src/common/error_msg.cc:58: Falling back to prediction using DMatrix due to mismatched devices. This might lead to higher memory usage and slower performance. XGBoost is running on: cuda:0, while the input data is on: cpu.\n",
      "Potential solutions:\n",
      "- Use a data structure that matches the device ordinal in the booster.\n",
      "- Set the device for booster before call to inplace_predict.\n",
      "\n",
      "This warning will only be shown once.\n",
      "\n",
      "  return func(**kwargs)\n",
      "/opt/conda/lib/python3.11/site-packages/xgboost/core.py:729: UserWarning: [19:56:53] WARNING: /workspace/src/common/error_msg.cc:58: Falling back to prediction using DMatrix due to mismatched devices. This might lead to higher memory usage and slower performance. XGBoost is running on: cuda:0, while the input data is on: cpu.\n",
      "Potential solutions:\n",
      "- Use a data structure that matches the device ordinal in the booster.\n",
      "- Set the device for booster before call to inplace_predict.\n",
      "\n",
      "This warning will only be shown once.\n",
      "\n",
      "  return func(**kwargs)\n",
      "/opt/conda/lib/python3.11/site-packages/xgboost/core.py:729: UserWarning: [19:56:53] WARNING: /workspace/src/common/error_msg.cc:58: Falling back to prediction using DMatrix due to mismatched devices. This might lead to higher memory usage and slower performance. XGBoost is running on: cuda:0, while the input data is on: cpu.\n",
      "Potential solutions:\n",
      "- Use a data structure that matches the device ordinal in the booster.\n",
      "- Set the device for booster before call to inplace_predict.\n",
      "\n",
      "This warning will only be shown once.\n",
      "\n",
      "  return func(**kwargs)\n"
     ]
    },
    {
     "name": "stdout",
     "output_type": "stream",
     "text": [
      "[CV] END colsample_bytree=0.8, gamma=0, learning_rate=0.2, max_depth=10, n_estimators=50, subsample=1.0; total time= 6.2min\n",
      "[CV] END colsample_bytree=0.8, gamma=0, learning_rate=0.2, max_depth=10, n_estimators=50, subsample=1.0; total time= 6.2min\n",
      "[CV] END colsample_bytree=0.8, gamma=0, learning_rate=0.2, max_depth=10, n_estimators=50, subsample=1.0; total time= 6.2min\n"
     ]
    },
    {
     "name": "stderr",
     "output_type": "stream",
     "text": [
      "/opt/conda/lib/python3.11/site-packages/xgboost/core.py:729: UserWarning: [19:57:04] WARNING: /workspace/src/common/error_msg.cc:58: Falling back to prediction using DMatrix due to mismatched devices. This might lead to higher memory usage and slower performance. XGBoost is running on: cuda:0, while the input data is on: cpu.\n",
      "Potential solutions:\n",
      "- Use a data structure that matches the device ordinal in the booster.\n",
      "- Set the device for booster before call to inplace_predict.\n",
      "\n",
      "This warning will only be shown once.\n",
      "\n",
      "  return func(**kwargs)\n"
     ]
    },
    {
     "name": "stdout",
     "output_type": "stream",
     "text": [
      "[CV] END colsample_bytree=0.6, gamma=0, learning_rate=0.1, max_depth=11, n_estimators=50, subsample=0.8; total time= 6.4min\n"
     ]
    },
    {
     "name": "stderr",
     "output_type": "stream",
     "text": [
      "/opt/conda/lib/python3.11/site-packages/xgboost/core.py:729: UserWarning: [19:57:06] WARNING: /workspace/src/common/error_msg.cc:58: Falling back to prediction using DMatrix due to mismatched devices. This might lead to higher memory usage and slower performance. XGBoost is running on: cuda:0, while the input data is on: cpu.\n",
      "Potential solutions:\n",
      "- Use a data structure that matches the device ordinal in the booster.\n",
      "- Set the device for booster before call to inplace_predict.\n",
      "\n",
      "This warning will only be shown once.\n",
      "\n",
      "  return func(**kwargs)\n",
      "/opt/conda/lib/python3.11/site-packages/xgboost/core.py:729: UserWarning: [19:57:06] WARNING: /workspace/src/common/error_msg.cc:58: Falling back to prediction using DMatrix due to mismatched devices. This might lead to higher memory usage and slower performance. XGBoost is running on: cuda:0, while the input data is on: cpu.\n",
      "Potential solutions:\n",
      "- Use a data structure that matches the device ordinal in the booster.\n",
      "- Set the device for booster before call to inplace_predict.\n",
      "\n",
      "This warning will only be shown once.\n",
      "\n",
      "  return func(**kwargs)\n"
     ]
    },
    {
     "name": "stdout",
     "output_type": "stream",
     "text": [
      "[CV] END colsample_bytree=0.6, gamma=0, learning_rate=0.1, max_depth=11, n_estimators=50, subsample=0.8; total time= 6.4min\n",
      "[CV] END colsample_bytree=0.6, gamma=0, learning_rate=0.1, max_depth=11, n_estimators=50, subsample=0.8; total time= 6.4min\n"
     ]
    },
    {
     "name": "stderr",
     "output_type": "stream",
     "text": [
      "/opt/conda/lib/python3.11/site-packages/xgboost/core.py:729: UserWarning: [19:57:07] WARNING: /workspace/src/common/error_msg.cc:58: Falling back to prediction using DMatrix due to mismatched devices. This might lead to higher memory usage and slower performance. XGBoost is running on: cuda:0, while the input data is on: cpu.\n",
      "Potential solutions:\n",
      "- Use a data structure that matches the device ordinal in the booster.\n",
      "- Set the device for booster before call to inplace_predict.\n",
      "\n",
      "This warning will only be shown once.\n",
      "\n",
      "  return func(**kwargs)\n"
     ]
    },
    {
     "name": "stdout",
     "output_type": "stream",
     "text": [
      "[CV] END colsample_bytree=0.6, gamma=0, learning_rate=0.1, max_depth=11, n_estimators=50, subsample=0.8; total time= 6.5min\n"
     ]
    },
    {
     "name": "stderr",
     "output_type": "stream",
     "text": [
      "/opt/conda/lib/python3.11/site-packages/xgboost/core.py:729: UserWarning: [19:57:07] WARNING: /workspace/src/common/error_msg.cc:58: Falling back to prediction using DMatrix due to mismatched devices. This might lead to higher memory usage and slower performance. XGBoost is running on: cuda:0, while the input data is on: cpu.\n",
      "Potential solutions:\n",
      "- Use a data structure that matches the device ordinal in the booster.\n",
      "- Set the device for booster before call to inplace_predict.\n",
      "\n",
      "This warning will only be shown once.\n",
      "\n",
      "  return func(**kwargs)\n"
     ]
    },
    {
     "name": "stdout",
     "output_type": "stream",
     "text": [
      "[CV] END colsample_bytree=0.6, gamma=0, learning_rate=0.1, max_depth=11, n_estimators=50, subsample=0.8; total time= 6.5min\n",
      "[CV] END colsample_bytree=1.0, gamma=0.1, learning_rate=0.01, max_depth=3, n_estimators=100, subsample=0.6; total time= 5.0min\n",
      "[CV] END colsample_bytree=1.0, gamma=0.1, learning_rate=0.01, max_depth=3, n_estimators=100, subsample=0.6; total time= 5.0min\n",
      "[CV] END colsample_bytree=1.0, gamma=0.1, learning_rate=0.01, max_depth=3, n_estimators=100, subsample=0.6; total time= 5.0min\n",
      "[CV] END colsample_bytree=0.6, gamma=0.1, learning_rate=0.01, max_depth=2, n_estimators=200, subsample=0.8; total time= 8.2min\n",
      "[CV] END colsample_bytree=0.6, gamma=0.1, learning_rate=0.01, max_depth=2, n_estimators=200, subsample=0.8; total time= 8.2min\n",
      "[CV] END colsample_bytree=0.6, gamma=0.1, learning_rate=0.01, max_depth=2, n_estimators=200, subsample=0.8; total time= 8.3min\n",
      "[CV] END colsample_bytree=0.6, gamma=0.1, learning_rate=0.01, max_depth=2, n_estimators=200, subsample=0.8; total time= 8.3min\n",
      "[CV] END colsample_bytree=1.0, gamma=0.3, learning_rate=0.001, max_depth=6, n_estimators=100, subsample=0.8; total time= 5.9min\n"
     ]
    },
    {
     "name": "stderr",
     "output_type": "stream",
     "text": [
      "/opt/conda/lib/python3.11/site-packages/xgboost/core.py:729: UserWarning: [19:59:25] WARNING: /workspace/src/common/error_msg.cc:58: Falling back to prediction using DMatrix due to mismatched devices. This might lead to higher memory usage and slower performance. XGBoost is running on: cuda:0, while the input data is on: cpu.\n",
      "Potential solutions:\n",
      "- Use a data structure that matches the device ordinal in the booster.\n",
      "- Set the device for booster before call to inplace_predict.\n",
      "\n",
      "This warning will only be shown once.\n",
      "\n",
      "  return func(**kwargs)\n"
     ]
    },
    {
     "name": "stdout",
     "output_type": "stream",
     "text": [
      "[CV] END colsample_bytree=0.6, gamma=0.1, learning_rate=0.01, max_depth=2, n_estimators=200, subsample=0.8; total time= 8.8min\n",
      "[CV] END colsample_bytree=1.0, gamma=0.3, learning_rate=0.001, max_depth=6, n_estimators=100, subsample=0.8; total time= 5.6min\n",
      "[CV] END colsample_bytree=1.0, gamma=0.3, learning_rate=0.001, max_depth=6, n_estimators=100, subsample=0.8; total time= 4.5min\n",
      "[CV] END colsample_bytree=1.0, gamma=0.3, learning_rate=0.001, max_depth=6, n_estimators=100, subsample=0.8; total time= 4.3min\n",
      "[CV] END colsample_bytree=1.0, gamma=0.3, learning_rate=0.001, max_depth=6, n_estimators=100, subsample=0.8; total time= 4.3min\n",
      "[CV] END colsample_bytree=0.6, gamma=0.1, learning_rate=0.05, max_depth=4, n_estimators=300, subsample=1.0; total time=11.5min\n",
      "[CV] END colsample_bytree=0.6, gamma=0.1, learning_rate=0.05, max_depth=4, n_estimators=300, subsample=1.0; total time=11.7min\n",
      "[CV] END colsample_bytree=0.6, gamma=0.1, learning_rate=0.05, max_depth=4, n_estimators=300, subsample=1.0; total time=11.7min\n",
      "[CV] END colsample_bytree=0.6, gamma=0.1, learning_rate=0.05, max_depth=4, n_estimators=300, subsample=1.0; total time=11.7min\n",
      "[CV] END colsample_bytree=0.6, gamma=0.1, learning_rate=0.05, max_depth=4, n_estimators=300, subsample=1.0; total time=11.7min\n",
      "[CV] END colsample_bytree=0.8, gamma=0, learning_rate=0.05, max_depth=7, n_estimators=150, subsample=0.8; total time= 6.0min\n",
      "[CV] END colsample_bytree=0.8, gamma=0, learning_rate=0.05, max_depth=7, n_estimators=150, subsample=0.8; total time= 5.9min\n",
      "[CV] END colsample_bytree=0.8, gamma=0, learning_rate=0.05, max_depth=7, n_estimators=150, subsample=0.8; total time= 5.9min\n",
      "[CV] END colsample_bytree=0.8, gamma=0, learning_rate=0.05, max_depth=7, n_estimators=150, subsample=0.8; total time= 5.9min\n",
      "[CV] END colsample_bytree=0.8, gamma=0, learning_rate=0.05, max_depth=7, n_estimators=150, subsample=0.8; total time= 5.9min\n",
      "Training best XGBoost classifier...\n",
      "Best params:  {'subsample': 1.0, 'n_estimators': 300, 'max_depth': 4, 'learning_rate': 0.05, 'gamma': 0.1, 'colsample_bytree': 0.6}\n",
      "Making predictions...\n",
      "Accuracy: 64.41%\n",
      "---------------------------------------------------\n",
      "Computing for partition 4, balanced classes with 478 entries for each class and geodata\n",
      "Finding optimal hyperparameters...\n",
      "3.0.2\n",
      "<class 'xgboost.sklearn.XGBClassifier'>\n",
      "Fitting 5 folds for each of 10 candidates, totalling 50 fits\n",
      "[CV] END colsample_bytree=0.6, gamma=0.1, learning_rate=0.001, max_depth=1, n_estimators=5, subsample=0.8; total time=  10.5s\n"
     ]
    },
    {
     "name": "stderr",
     "output_type": "stream",
     "text": [
      "/opt/conda/lib/python3.11/site-packages/xgboost/core.py:729: UserWarning: [20:03:19] WARNING: /workspace/src/common/error_msg.cc:58: Falling back to prediction using DMatrix due to mismatched devices. This might lead to higher memory usage and slower performance. XGBoost is running on: cuda:0, while the input data is on: cpu.\n",
      "Potential solutions:\n",
      "- Use a data structure that matches the device ordinal in the booster.\n",
      "- Set the device for booster before call to inplace_predict.\n",
      "\n",
      "This warning will only be shown once.\n",
      "\n",
      "  return func(**kwargs)\n",
      "/opt/conda/lib/python3.11/site-packages/xgboost/core.py:729: UserWarning: [20:03:19] WARNING: /workspace/src/common/error_msg.cc:58: Falling back to prediction using DMatrix due to mismatched devices. This might lead to higher memory usage and slower performance. XGBoost is running on: cuda:0, while the input data is on: cpu.\n",
      "Potential solutions:\n",
      "- Use a data structure that matches the device ordinal in the booster.\n",
      "- Set the device for booster before call to inplace_predict.\n",
      "\n",
      "This warning will only be shown once.\n",
      "\n",
      "  return func(**kwargs)\n"
     ]
    },
    {
     "name": "stdout",
     "output_type": "stream",
     "text": [
      "[CV] END colsample_bytree=0.6, gamma=0.1, learning_rate=0.001, max_depth=1, n_estimators=5, subsample=0.8; total time=  29.0s\n",
      "[CV] END colsample_bytree=0.6, gamma=0.1, learning_rate=0.001, max_depth=1, n_estimators=5, subsample=0.8; total time=  29.3s\n"
     ]
    },
    {
     "name": "stderr",
     "output_type": "stream",
     "text": [
      "/opt/conda/lib/python3.11/site-packages/xgboost/core.py:729: UserWarning: [20:03:21] WARNING: /workspace/src/common/error_msg.cc:58: Falling back to prediction using DMatrix due to mismatched devices. This might lead to higher memory usage and slower performance. XGBoost is running on: cuda:0, while the input data is on: cpu.\n",
      "Potential solutions:\n",
      "- Use a data structure that matches the device ordinal in the booster.\n",
      "- Set the device for booster before call to inplace_predict.\n",
      "\n",
      "This warning will only be shown once.\n",
      "\n",
      "  return func(**kwargs)\n",
      "/opt/conda/lib/python3.11/site-packages/xgboost/core.py:729: UserWarning: [20:03:21] WARNING: /workspace/src/common/error_msg.cc:58: Falling back to prediction using DMatrix due to mismatched devices. This might lead to higher memory usage and slower performance. XGBoost is running on: cuda:0, while the input data is on: cpu.\n",
      "Potential solutions:\n",
      "- Use a data structure that matches the device ordinal in the booster.\n",
      "- Set the device for booster before call to inplace_predict.\n",
      "\n",
      "This warning will only be shown once.\n",
      "\n",
      "  return func(**kwargs)\n"
     ]
    },
    {
     "name": "stdout",
     "output_type": "stream",
     "text": [
      "[CV] END colsample_bytree=0.6, gamma=0.1, learning_rate=0.001, max_depth=1, n_estimators=5, subsample=0.8; total time=  31.2s\n",
      "[CV] END colsample_bytree=0.6, gamma=0.1, learning_rate=0.001, max_depth=1, n_estimators=5, subsample=0.8; total time=  31.5s\n",
      "[CV] END colsample_bytree=1.0, gamma=0.1, learning_rate=0.2, max_depth=2, n_estimators=20, subsample=0.8; total time=  56.7s\n"
     ]
    },
    {
     "name": "stderr",
     "output_type": "stream",
     "text": [
      "/opt/conda/lib/python3.11/site-packages/xgboost/core.py:729: UserWarning: [20:04:04] WARNING: /workspace/src/common/error_msg.cc:58: Falling back to prediction using DMatrix due to mismatched devices. This might lead to higher memory usage and slower performance. XGBoost is running on: cuda:0, while the input data is on: cpu.\n",
      "Potential solutions:\n",
      "- Use a data structure that matches the device ordinal in the booster.\n",
      "- Set the device for booster before call to inplace_predict.\n",
      "\n",
      "This warning will only be shown once.\n",
      "\n",
      "  return func(**kwargs)\n",
      "/opt/conda/lib/python3.11/site-packages/xgboost/core.py:729: UserWarning: [20:04:04] WARNING: /workspace/src/common/error_msg.cc:58: Falling back to prediction using DMatrix due to mismatched devices. This might lead to higher memory usage and slower performance. XGBoost is running on: cuda:0, while the input data is on: cpu.\n",
      "Potential solutions:\n",
      "- Use a data structure that matches the device ordinal in the booster.\n",
      "- Set the device for booster before call to inplace_predict.\n",
      "\n",
      "This warning will only be shown once.\n",
      "\n",
      "  return func(**kwargs)\n"
     ]
    },
    {
     "name": "stdout",
     "output_type": "stream",
     "text": [
      "[CV] END colsample_bytree=1.0, gamma=0.1, learning_rate=0.2, max_depth=2, n_estimators=20, subsample=0.8; total time= 1.2min\n",
      "[CV] END colsample_bytree=1.0, gamma=0.1, learning_rate=0.2, max_depth=2, n_estimators=20, subsample=0.8; total time= 1.2min\n",
      "[CV] END colsample_bytree=1.0, gamma=0.1, learning_rate=0.2, max_depth=2, n_estimators=20, subsample=0.8; total time=  58.2s\n",
      "[CV] END colsample_bytree=1.0, gamma=0.1, learning_rate=0.2, max_depth=2, n_estimators=20, subsample=0.8; total time=  58.2s\n"
     ]
    },
    {
     "name": "stderr",
     "output_type": "stream",
     "text": [
      "/opt/conda/lib/python3.11/site-packages/xgboost/core.py:729: UserWarning: [20:05:50] WARNING: /workspace/src/common/error_msg.cc:58: Falling back to prediction using DMatrix due to mismatched devices. This might lead to higher memory usage and slower performance. XGBoost is running on: cuda:0, while the input data is on: cpu.\n",
      "Potential solutions:\n",
      "- Use a data structure that matches the device ordinal in the booster.\n",
      "- Set the device for booster before call to inplace_predict.\n",
      "\n",
      "This warning will only be shown once.\n",
      "\n",
      "  return func(**kwargs)\n"
     ]
    },
    {
     "name": "stdout",
     "output_type": "stream",
     "text": [
      "[CV] END colsample_bytree=0.8, gamma=0.1, learning_rate=0.01, max_depth=11, n_estimators=20, subsample=1.0; total time= 3.0min\n"
     ]
    },
    {
     "name": "stderr",
     "output_type": "stream",
     "text": [
      "/opt/conda/lib/python3.11/site-packages/xgboost/core.py:729: UserWarning: [20:05:52] WARNING: /workspace/src/common/error_msg.cc:58: Falling back to prediction using DMatrix due to mismatched devices. This might lead to higher memory usage and slower performance. XGBoost is running on: cuda:0, while the input data is on: cpu.\n",
      "Potential solutions:\n",
      "- Use a data structure that matches the device ordinal in the booster.\n",
      "- Set the device for booster before call to inplace_predict.\n",
      "\n",
      "This warning will only be shown once.\n",
      "\n",
      "  return func(**kwargs)\n",
      "/opt/conda/lib/python3.11/site-packages/xgboost/core.py:729: UserWarning: [20:05:52] WARNING: /workspace/src/common/error_msg.cc:58: Falling back to prediction using DMatrix due to mismatched devices. This might lead to higher memory usage and slower performance. XGBoost is running on: cuda:0, while the input data is on: cpu.\n",
      "Potential solutions:\n",
      "- Use a data structure that matches the device ordinal in the booster.\n",
      "- Set the device for booster before call to inplace_predict.\n",
      "\n",
      "This warning will only be shown once.\n",
      "\n",
      "  return func(**kwargs)\n"
     ]
    },
    {
     "name": "stdout",
     "output_type": "stream",
     "text": [
      "[CV] END colsample_bytree=0.8, gamma=0.1, learning_rate=0.01, max_depth=11, n_estimators=20, subsample=1.0; total time= 3.0min\n"
     ]
    },
    {
     "name": "stderr",
     "output_type": "stream",
     "text": [
      "/opt/conda/lib/python3.11/site-packages/xgboost/core.py:729: UserWarning: [20:05:53] WARNING: /workspace/src/common/error_msg.cc:58: Falling back to prediction using DMatrix due to mismatched devices. This might lead to higher memory usage and slower performance. XGBoost is running on: cuda:0, while the input data is on: cpu.\n",
      "Potential solutions:\n",
      "- Use a data structure that matches the device ordinal in the booster.\n",
      "- Set the device for booster before call to inplace_predict.\n",
      "\n",
      "This warning will only be shown once.\n",
      "\n",
      "  return func(**kwargs)\n",
      "/opt/conda/lib/python3.11/site-packages/xgboost/core.py:729: UserWarning: [20:05:53] WARNING: /workspace/src/common/error_msg.cc:58: Falling back to prediction using DMatrix due to mismatched devices. This might lead to higher memory usage and slower performance. XGBoost is running on: cuda:0, while the input data is on: cpu.\n",
      "Potential solutions:\n",
      "- Use a data structure that matches the device ordinal in the booster.\n",
      "- Set the device for booster before call to inplace_predict.\n",
      "\n",
      "This warning will only be shown once.\n",
      "\n",
      "  return func(**kwargs)\n"
     ]
    },
    {
     "name": "stdout",
     "output_type": "stream",
     "text": [
      "[CV] END colsample_bytree=0.8, gamma=0.1, learning_rate=0.01, max_depth=11, n_estimators=20, subsample=1.0; total time= 3.0min\n",
      "[CV] END colsample_bytree=0.8, gamma=0.1, learning_rate=0.01, max_depth=11, n_estimators=20, subsample=1.0; total time= 3.0min\n",
      "[CV] END colsample_bytree=0.8, gamma=0.1, learning_rate=0.01, max_depth=11, n_estimators=20, subsample=1.0; total time= 3.0min\n",
      "[CV] END colsample_bytree=0.8, gamma=0, learning_rate=0.01, max_depth=3, n_estimators=20, subsample=0.8; total time= 1.3min\n",
      "[CV] END colsample_bytree=0.8, gamma=0, learning_rate=0.01, max_depth=3, n_estimators=20, subsample=0.8; total time= 1.3min\n",
      "[CV] END colsample_bytree=0.8, gamma=0, learning_rate=0.01, max_depth=3, n_estimators=20, subsample=0.8; total time= 1.3min\n"
     ]
    },
    {
     "name": "stderr",
     "output_type": "stream",
     "text": [
      "/opt/conda/lib/python3.11/site-packages/xgboost/core.py:729: UserWarning: [20:08:34] WARNING: /workspace/src/common/error_msg.cc:58: Falling back to prediction using DMatrix due to mismatched devices. This might lead to higher memory usage and slower performance. XGBoost is running on: cuda:0, while the input data is on: cpu.\n",
      "Potential solutions:\n",
      "- Use a data structure that matches the device ordinal in the booster.\n",
      "- Set the device for booster before call to inplace_predict.\n",
      "\n",
      "This warning will only be shown once.\n",
      "\n",
      "  return func(**kwargs)\n"
     ]
    },
    {
     "name": "stdout",
     "output_type": "stream",
     "text": [
      "[CV] END colsample_bytree=0.8, gamma=0, learning_rate=0.01, max_depth=3, n_estimators=20, subsample=0.8; total time= 1.3min\n",
      "[CV] END colsample_bytree=0.8, gamma=0, learning_rate=0.01, max_depth=3, n_estimators=20, subsample=0.8; total time= 1.3min\n",
      "[CV] END colsample_bytree=1.0, gamma=0, learning_rate=0.1, max_depth=5, n_estimators=150, subsample=0.6; total time=10.5min\n",
      "[CV] END colsample_bytree=1.0, gamma=0, learning_rate=0.1, max_depth=5, n_estimators=150, subsample=0.6; total time=10.5min\n",
      "[CV] END colsample_bytree=1.0, gamma=0, learning_rate=0.1, max_depth=5, n_estimators=150, subsample=0.6; total time=10.5min\n",
      "[CV] END colsample_bytree=1.0, gamma=0, learning_rate=0.1, max_depth=5, n_estimators=150, subsample=0.6; total time=10.5min\n",
      "[CV] END colsample_bytree=1.0, gamma=0, learning_rate=0.1, max_depth=5, n_estimators=150, subsample=0.6; total time=10.5min\n",
      "[CV] END colsample_bytree=0.8, gamma=0.1, learning_rate=0.2, max_depth=2, n_estimators=500, subsample=1.0; total time=21.5min\n"
     ]
    },
    {
     "name": "stderr",
     "output_type": "stream",
     "text": [
      "/opt/conda/lib/python3.11/site-packages/xgboost/core.py:729: UserWarning: [20:25:53] WARNING: /workspace/src/common/error_msg.cc:58: Falling back to prediction using DMatrix due to mismatched devices. This might lead to higher memory usage and slower performance. XGBoost is running on: cuda:0, while the input data is on: cpu.\n",
      "Potential solutions:\n",
      "- Use a data structure that matches the device ordinal in the booster.\n",
      "- Set the device for booster before call to inplace_predict.\n",
      "\n",
      "This warning will only be shown once.\n",
      "\n",
      "  return func(**kwargs)\n"
     ]
    },
    {
     "name": "stdout",
     "output_type": "stream",
     "text": [
      "[CV] END colsample_bytree=0.8, gamma=0.1, learning_rate=0.2, max_depth=2, n_estimators=500, subsample=1.0; total time=21.6min\n",
      "[CV] END colsample_bytree=0.8, gamma=0.1, learning_rate=0.2, max_depth=2, n_estimators=500, subsample=1.0; total time=21.0min\n",
      "[CV] END colsample_bytree=0.8, gamma=0.1, learning_rate=0.2, max_depth=2, n_estimators=500, subsample=1.0; total time=21.1min\n",
      "[CV] END colsample_bytree=0.8, gamma=0.1, learning_rate=0.2, max_depth=2, n_estimators=500, subsample=1.0; total time=21.1min\n",
      "[CV] END colsample_bytree=1.0, gamma=0, learning_rate=0.2, max_depth=8, n_estimators=300, subsample=0.8; total time=24.7min\n"
     ]
    },
    {
     "name": "stderr",
     "output_type": "stream",
     "text": [
      "/opt/conda/lib/python3.11/site-packages/xgboost/core.py:729: UserWarning: [20:27:45] WARNING: /workspace/src/common/error_msg.cc:58: Falling back to prediction using DMatrix due to mismatched devices. This might lead to higher memory usage and slower performance. XGBoost is running on: cuda:0, while the input data is on: cpu.\n",
      "Potential solutions:\n",
      "- Use a data structure that matches the device ordinal in the booster.\n",
      "- Set the device for booster before call to inplace_predict.\n",
      "\n",
      "This warning will only be shown once.\n",
      "\n",
      "  return func(**kwargs)\n"
     ]
    },
    {
     "name": "stdout",
     "output_type": "stream",
     "text": [
      "[CV] END colsample_bytree=1.0, gamma=0, learning_rate=0.2, max_depth=8, n_estimators=300, subsample=0.8; total time=24.9min\n"
     ]
    },
    {
     "name": "stderr",
     "output_type": "stream",
     "text": [
      "/opt/conda/lib/python3.11/site-packages/xgboost/core.py:729: UserWarning: [20:27:47] WARNING: /workspace/src/common/error_msg.cc:58: Falling back to prediction using DMatrix due to mismatched devices. This might lead to higher memory usage and slower performance. XGBoost is running on: cuda:0, while the input data is on: cpu.\n",
      "Potential solutions:\n",
      "- Use a data structure that matches the device ordinal in the booster.\n",
      "- Set the device for booster before call to inplace_predict.\n",
      "\n",
      "This warning will only be shown once.\n",
      "\n",
      "  return func(**kwargs)\n"
     ]
    },
    {
     "name": "stdout",
     "output_type": "stream",
     "text": [
      "[CV] END colsample_bytree=1.0, gamma=0, learning_rate=0.2, max_depth=8, n_estimators=300, subsample=0.8; total time=24.9min\n"
     ]
    },
    {
     "name": "stderr",
     "output_type": "stream",
     "text": [
      "/opt/conda/lib/python3.11/site-packages/xgboost/core.py:729: UserWarning: [20:27:49] WARNING: /workspace/src/common/error_msg.cc:58: Falling back to prediction using DMatrix due to mismatched devices. This might lead to higher memory usage and slower performance. XGBoost is running on: cuda:0, while the input data is on: cpu.\n",
      "Potential solutions:\n",
      "- Use a data structure that matches the device ordinal in the booster.\n",
      "- Set the device for booster before call to inplace_predict.\n",
      "\n",
      "This warning will only be shown once.\n",
      "\n",
      "  return func(**kwargs)\n"
     ]
    },
    {
     "name": "stdout",
     "output_type": "stream",
     "text": [
      "[CV] END colsample_bytree=1.0, gamma=0, learning_rate=0.2, max_depth=8, n_estimators=300, subsample=0.8; total time=25.0min\n"
     ]
    },
    {
     "name": "stderr",
     "output_type": "stream",
     "text": [
      "/opt/conda/lib/python3.11/site-packages/xgboost/core.py:729: UserWarning: [20:27:51] WARNING: /workspace/src/common/error_msg.cc:58: Falling back to prediction using DMatrix due to mismatched devices. This might lead to higher memory usage and slower performance. XGBoost is running on: cuda:0, while the input data is on: cpu.\n",
      "Potential solutions:\n",
      "- Use a data structure that matches the device ordinal in the booster.\n",
      "- Set the device for booster before call to inplace_predict.\n",
      "\n",
      "This warning will only be shown once.\n",
      "\n",
      "  return func(**kwargs)\n"
     ]
    },
    {
     "name": "stdout",
     "output_type": "stream",
     "text": [
      "[CV] END colsample_bytree=1.0, gamma=0, learning_rate=0.2, max_depth=8, n_estimators=300, subsample=0.8; total time=25.0min\n",
      "[CV] END colsample_bytree=0.8, gamma=0.3, learning_rate=0.05, max_depth=3, n_estimators=500, subsample=0.8; total time=25.6min\n",
      "[CV] END colsample_bytree=0.8, gamma=0.3, learning_rate=0.05, max_depth=3, n_estimators=500, subsample=0.8; total time=25.6min\n",
      "[CV] END colsample_bytree=0.8, gamma=0.3, learning_rate=0.05, max_depth=3, n_estimators=500, subsample=0.8; total time=25.2min\n",
      "[CV] END colsample_bytree=0.8, gamma=0.3, learning_rate=0.05, max_depth=3, n_estimators=500, subsample=0.8; total time=25.2min\n",
      "[CV] END colsample_bytree=0.8, gamma=0.3, learning_rate=0.05, max_depth=3, n_estimators=500, subsample=0.8; total time=25.2min\n",
      "[CV] END colsample_bytree=0.6, gamma=0.1, learning_rate=0.2, max_depth=5, n_estimators=500, subsample=0.8; total time=27.1min\n",
      "[CV] END colsample_bytree=0.6, gamma=0.1, learning_rate=0.2, max_depth=5, n_estimators=500, subsample=0.8; total time=27.2min\n",
      "[CV] END colsample_bytree=0.6, gamma=0.1, learning_rate=0.2, max_depth=5, n_estimators=500, subsample=0.8; total time=27.2min\n",
      "[CV] END colsample_bytree=0.6, gamma=0.1, learning_rate=0.2, max_depth=5, n_estimators=500, subsample=0.8; total time=27.3min\n",
      "[CV] END colsample_bytree=0.6, gamma=0.1, learning_rate=0.2, max_depth=5, n_estimators=500, subsample=0.8; total time=27.3min\n",
      "[CV] END colsample_bytree=0.6, gamma=0.1, learning_rate=0.001, max_depth=5, n_estimators=500, subsample=0.8; total time=28.0min\n",
      "[CV] END colsample_bytree=0.6, gamma=0.1, learning_rate=0.001, max_depth=5, n_estimators=500, subsample=0.8; total time=28.0min\n",
      "[CV] END colsample_bytree=0.6, gamma=0.1, learning_rate=0.001, max_depth=5, n_estimators=500, subsample=0.8; total time=28.0min\n",
      "[CV] END colsample_bytree=0.6, gamma=0.1, learning_rate=0.001, max_depth=5, n_estimators=500, subsample=0.8; total time=28.0min\n",
      "[CV] END colsample_bytree=0.6, gamma=0.1, learning_rate=0.001, max_depth=5, n_estimators=500, subsample=0.8; total time=28.0min\n",
      "Training best XGBoost classifier...\n",
      "Best params:  {'subsample': 1.0, 'n_estimators': 500, 'max_depth': 2, 'learning_rate': 0.2, 'gamma': 0.1, 'colsample_bytree': 0.8}\n",
      "Making predictions...\n",
      "Accuracy: 68.33%\n",
      "---------------------------------------------------\n"
     ]
    }
   ],
   "source": [
    "models = []\n",
    "accuracies = []\n",
    "predictions = []\n",
    "truths = []\n",
    "probas = []\n",
    "times_partition = []\n",
    "n = [100, 200, 300, 478]\n",
    "for i, path in enumerate(trainpaths):\n",
    "    print(f'Computing for partition {i+1}, balanced classes with {n[i]} entries for each class and geodata')\n",
    "\n",
    "    # run classifier on data\n",
    "    rfc, accuracy, y_pred_rfc, labels, proba, le= main(trainpaths[i], testpaths[i])\n",
    "\n",
    "    #  saving models, accuracies, predictions, and truths in case we need it for statistics later\n",
    "    models.append(rfc)\n",
    "    accuracies.append(accuracy)\n",
    "    predictions.append(y_pred_rfc)\n",
    "    truths.append(labels)\n",
    "    probas.append(proba)\n",
    "\n",
    "    print(\"---------------------------------------------------\")"
   ]
  },
  {
   "cell_type": "code",
   "execution_count": 7,
   "metadata": {},
   "outputs": [
    {
     "name": "stdout",
     "output_type": "stream",
     "text": [
      "Partition 1 decoded: 900 predictions\n",
      "Partition 2 decoded: 1800 predictions\n",
      "Partition 3 decoded: 2700 predictions\n",
      "Partition 4 decoded: 4320 predictions\n"
     ]
    }
   ],
   "source": [
    "decoded_preds_all = []\n",
    "decoded_truths_all = []\n",
    "label_encoders = []\n",
    "\n",
    "for i in range(len(testpaths)):\n",
    "    # Decode y_pred and y_test for this partition\n",
    "    decoded_preds = le.inverse_transform(predictions[i])\n",
    "    decoded_truths = le.inverse_transform(truths[i].astype(int))\n",
    "\n",
    "    # Store decoded labels\n",
    "    decoded_preds_all.append(decoded_preds)\n",
    "    decoded_truths_all.append(decoded_truths)\n",
    "\n",
    "    print(f\"Partition {i+1} decoded: {len(decoded_preds)} predictions\")\n",
    "\n",
    "# Now you can use decoded_preds_all[i] and decoded_truths_all[i] for confusion matrix etc.\n"
   ]
  },
  {
   "cell_type": "code",
   "execution_count": 8,
   "metadata": {},
   "outputs": [],
   "source": [
    "import os\n",
    "from sklearn.metrics import roc_auc_score\n",
    "# Make sure the directory exists\n",
    "output_dir = \"Results\"\n",
    "os.makedirs(\"output_dir\", exist_ok=True)\n",
    "\n",
    "with open(f\"{output_dir}/gb_top30_{datatype}.txt\", \"w\") as f:\n",
    "    for i in range(len(trainpaths)):\n",
    "        f.write(f\"Partition {i+1} - {n[i]} samples per class, without geograpgical data except long/lat\\n\")\n",
    "        f.write(f\"Precision weighted: {precision_score(decoded_truths_all[i], decoded_preds_all[i], average='weighted'):.4f}\\n\")\n",
    "        f.write(f\"Precision macro: {precision_score(decoded_truths_all[i], decoded_preds_all[i], average='macro'):.4f}\\n\")\n",
    "        f.write(f\"Precision micro: {precision_score(decoded_truths_all[i], decoded_preds_all[i], average='micro'):.4f}\\n\")\n",
    "        f.write(f\"Recall weighted: {recall_score(decoded_truths_all[i], decoded_preds_all[i], average='weighted'):.4f}\\n\")\n",
    "        f.write(f\"Recall macro: {recall_score(decoded_truths_all[i], decoded_preds_all[i], average='macro'):.4f}\\n\")\n",
    "        f.write(f\"Recall micro: {recall_score(decoded_truths_all[i], decoded_preds_all[i], average='micro'):.4f}\\n\")\n",
    "        f.write(f\"F1 Score weighted: {f1_score(decoded_truths_all[i], decoded_preds_all[i], average='weighted'):.4f}\\n\")\n",
    "        f.write(f\"F1 Score macro: {f1_score(decoded_truths_all[i], decoded_preds_all[i], average='macro'):.4f}\\n\")\n",
    "        f.write(f\"F1 Score micro: {f1_score(decoded_truths_all[i], decoded_preds_all[i], average='micro'):.4f}\\n\")\n",
    "        f.write(f\"roc auc weighted: {roc_auc_score(decoded_truths_all[i], probas[i], multi_class='ovr', average='weighted'):.4f}\\n\")\n",
    "        f.write(f\"roc auc macro: {roc_auc_score(decoded_truths_all[i], probas[i], multi_class='ovr', average='macro'):.4f}\\n\")\n",
    "        f.write(f\"roc auc micro: {roc_auc_score(decoded_truths_all[i], probas[i],multi_class='ovr', average='micro'):.4f}\\n\")\n",
    "        f.write(\"---------------------------------------------------\\n\")\n"
   ]
  },
  {
   "cell_type": "code",
   "execution_count": 9,
   "metadata": {},
   "outputs": [
    {
     "name": "stdout",
     "output_type": "stream",
     "text": [
      "                                                  precision    recall  f1-score   support\n",
      "\n",
      "                          Abu Sayyaf Group (ASG)       0.50      0.63      0.56        30\n",
      "        African National Congress (South Africa)       0.81      0.57      0.67        30\n",
      "                                Al-Qaida in Iraq       0.33      0.43      0.37        30\n",
      "        Al-Qaida in the Arabian Peninsula (AQAP)       0.27      0.33      0.30        30\n",
      "                                      Al-Shabaab       0.56      0.50      0.53        30\n",
      "             Basque Fatherland and Freedom (ETA)       0.73      0.37      0.49        30\n",
      "                                      Boko Haram       0.43      0.53      0.48        30\n",
      "  Communist Party of India - Maoist (CPI-Maoist)       0.97      0.93      0.95        30\n",
      "       Corsican National Liberation Front (FLNC)       0.69      0.83      0.76        30\n",
      "                       Donetsk People's Republic       0.61      0.67      0.63        30\n",
      "Farabundo Marti National Liberation Front (FMLN)       0.60      0.60      0.60        30\n",
      "                               Fulani extremists       0.59      0.80      0.68        30\n",
      "                 Houthi extremists (Ansar Allah)       0.59      0.63      0.61        30\n",
      "                     Irish Republican Army (IRA)       0.85      0.57      0.68        30\n",
      "     Islamic State of Iraq and the Levant (ISIL)       0.40      0.33      0.36        30\n",
      "                  Kurdistan Workers' Party (PKK)       0.35      0.30      0.32        30\n",
      "         Liberation Tigers of Tamil Eelam (LTTE)       0.58      0.73      0.65        30\n",
      "         Manuel Rodriguez Patriotic Front (FPMR)       0.84      0.87      0.85        30\n",
      "                                         Maoists       0.68      0.50      0.58        30\n",
      "                               Muslim extremists       0.38      0.50      0.43        30\n",
      "      National Liberation Army of Colombia (ELN)       0.78      0.47      0.58        30\n",
      "                         New People's Army (NPA)       0.46      0.77      0.57        30\n",
      "               Nicaraguan Democratic Force (FDN)       0.70      0.77      0.73        30\n",
      "                                    Palestinians       0.79      0.77      0.78        30\n",
      "   Revolutionary Armed Forces of Colombia (FARC)       0.88      0.77      0.82        30\n",
      "                               Shining Path (SL)       0.89      0.57      0.69        30\n",
      "                                 Sikh Extremists       0.79      0.87      0.83        30\n",
      "                                         Taliban       0.58      0.47      0.52        30\n",
      "                 Tehrik-i-Taliban Pakistan (TTP)       1.00      0.77      0.87        30\n",
      "       Tupac Amaru Revolutionary Movement (MRTA)       1.00      0.93      0.97        30\n",
      "\n",
      "                                        accuracy                           0.63       900\n",
      "                                       macro avg       0.65      0.63      0.63       900\n",
      "                                    weighted avg       0.65      0.63      0.63       900\n",
      "\n"
     ]
    }
   ],
   "source": [
    "print(classification_report(decoded_truths_all[0], decoded_preds_all[0]))"
   ]
  },
  {
   "cell_type": "code",
   "execution_count": 10,
   "metadata": {},
   "outputs": [
    {
     "name": "stdout",
     "output_type": "stream",
     "text": [
      "                                                  precision    recall  f1-score   support\n",
      "\n",
      "                          Abu Sayyaf Group (ASG)       0.82      0.60      0.69        60\n",
      "        African National Congress (South Africa)       0.93      0.90      0.92        60\n",
      "                                Al-Qaida in Iraq       0.39      0.33      0.36        60\n",
      "        Al-Qaida in the Arabian Peninsula (AQAP)       0.39      0.22      0.28        60\n",
      "                                      Al-Shabaab       0.36      0.45      0.40        60\n",
      "             Basque Fatherland and Freedom (ETA)       0.47      0.42      0.44        60\n",
      "                                      Boko Haram       0.57      0.52      0.54        60\n",
      "  Communist Party of India - Maoist (CPI-Maoist)       0.72      0.38      0.50        60\n",
      "       Corsican National Liberation Front (FLNC)       0.63      0.90      0.74        60\n",
      "                       Donetsk People's Republic       0.75      0.72      0.74        60\n",
      "Farabundo Marti National Liberation Front (FMLN)       0.78      0.75      0.76        60\n",
      "                               Fulani extremists       0.69      0.95      0.80        60\n",
      "                 Houthi extremists (Ansar Allah)       0.74      0.75      0.74        60\n",
      "                     Irish Republican Army (IRA)       0.84      0.72      0.77        60\n",
      "     Islamic State of Iraq and the Levant (ISIL)       0.45      0.47      0.46        60\n",
      "                  Kurdistan Workers' Party (PKK)       0.24      0.15      0.18        60\n",
      "         Liberation Tigers of Tamil Eelam (LTTE)       0.51      0.70      0.59        60\n",
      "         Manuel Rodriguez Patriotic Front (FPMR)       0.89      0.80      0.84        60\n",
      "                                         Maoists       0.34      0.37      0.35        60\n",
      "                               Muslim extremists       0.40      0.65      0.50        60\n",
      "      National Liberation Army of Colombia (ELN)       0.61      0.47      0.53        60\n",
      "                         New People's Army (NPA)       0.39      0.53      0.45        60\n",
      "               Nicaraguan Democratic Force (FDN)       0.63      0.88      0.74        60\n",
      "                                    Palestinians       0.98      0.93      0.96        60\n",
      "   Revolutionary Armed Forces of Colombia (FARC)       0.78      0.67      0.72        60\n",
      "                               Shining Path (SL)       0.73      0.73      0.73        60\n",
      "                                 Sikh Extremists       0.69      0.37      0.48        60\n",
      "                                         Taliban       0.30      0.37      0.33        60\n",
      "                 Tehrik-i-Taliban Pakistan (TTP)       0.80      0.75      0.78        60\n",
      "       Tupac Amaru Revolutionary Movement (MRTA)       0.84      0.88      0.86        60\n",
      "\n",
      "                                        accuracy                           0.61      1800\n",
      "                                       macro avg       0.62      0.61      0.61      1800\n",
      "                                    weighted avg       0.62      0.61      0.61      1800\n",
      "\n"
     ]
    }
   ],
   "source": [
    "print(classification_report(decoded_truths_all[1], decoded_preds_all[1]))"
   ]
  },
  {
   "cell_type": "code",
   "execution_count": 11,
   "metadata": {},
   "outputs": [
    {
     "name": "stdout",
     "output_type": "stream",
     "text": [
      "                                                  precision    recall  f1-score   support\n",
      "\n",
      "                          Abu Sayyaf Group (ASG)       0.30      0.23      0.26        90\n",
      "        African National Congress (South Africa)       0.65      0.97      0.78        90\n",
      "                                Al-Qaida in Iraq       0.70      0.79      0.74        90\n",
      "        Al-Qaida in the Arabian Peninsula (AQAP)       0.47      0.30      0.37        90\n",
      "                                      Al-Shabaab       0.52      0.52      0.52        90\n",
      "             Basque Fatherland and Freedom (ETA)       0.69      0.68      0.69        90\n",
      "                                      Boko Haram       0.51      0.43      0.47        90\n",
      "  Communist Party of India - Maoist (CPI-Maoist)       0.90      0.79      0.84        90\n",
      "       Corsican National Liberation Front (FLNC)       0.77      0.94      0.85        90\n",
      "                       Donetsk People's Republic       0.80      0.83      0.82        90\n",
      "Farabundo Marti National Liberation Front (FMLN)       0.68      0.50      0.58        90\n",
      "                               Fulani extremists       0.61      0.80      0.69        90\n",
      "                 Houthi extremists (Ansar Allah)       0.56      0.63      0.60        90\n",
      "                     Irish Republican Army (IRA)       0.84      0.88      0.86        90\n",
      "     Islamic State of Iraq and the Levant (ISIL)       0.40      0.48      0.43        90\n",
      "                  Kurdistan Workers' Party (PKK)       0.46      0.57      0.50        90\n",
      "         Liberation Tigers of Tamil Eelam (LTTE)       0.80      0.74      0.77        90\n",
      "         Manuel Rodriguez Patriotic Front (FPMR)       0.85      0.73      0.79        90\n",
      "                                         Maoists       0.28      0.24      0.26        90\n",
      "                               Muslim extremists       0.43      0.58      0.50        90\n",
      "      National Liberation Army of Colombia (ELN)       0.97      0.63      0.77        90\n",
      "                         New People's Army (NPA)       0.64      0.74      0.69        90\n",
      "               Nicaraguan Democratic Force (FDN)       0.67      0.84      0.75        90\n",
      "                                    Palestinians       0.92      0.77      0.84        90\n",
      "   Revolutionary Armed Forces of Colombia (FARC)       0.72      0.60      0.65        90\n",
      "                               Shining Path (SL)       0.64      0.42      0.51        90\n",
      "                                 Sikh Extremists       0.72      0.64      0.68        90\n",
      "                                         Taliban       0.38      0.41      0.40        90\n",
      "                 Tehrik-i-Taliban Pakistan (TTP)       0.81      0.73      0.77        90\n",
      "       Tupac Amaru Revolutionary Movement (MRTA)       0.83      0.88      0.85        90\n",
      "\n",
      "                                        accuracy                           0.64      2700\n",
      "                                       macro avg       0.65      0.64      0.64      2700\n",
      "                                    weighted avg       0.65      0.64      0.64      2700\n",
      "\n"
     ]
    }
   ],
   "source": [
    "print(classification_report(decoded_truths_all[2], decoded_preds_all[2]))"
   ]
  },
  {
   "cell_type": "code",
   "execution_count": 12,
   "metadata": {},
   "outputs": [
    {
     "name": "stdout",
     "output_type": "stream",
     "text": [
      "                                                  precision    recall  f1-score   support\n",
      "\n",
      "                          Abu Sayyaf Group (ASG)       0.32      0.21      0.25       144\n",
      "        African National Congress (South Africa)       0.81      0.71      0.76       144\n",
      "                                Al-Qaida in Iraq       0.60      0.49      0.54       144\n",
      "        Al-Qaida in the Arabian Peninsula (AQAP)       0.70      0.69      0.69       144\n",
      "                                      Al-Shabaab       0.74      0.69      0.71       144\n",
      "             Basque Fatherland and Freedom (ETA)       0.69      0.93      0.79       144\n",
      "                                      Boko Haram       0.52      0.44      0.48       144\n",
      "  Communist Party of India - Maoist (CPI-Maoist)       0.71      0.85      0.77       144\n",
      "       Corsican National Liberation Front (FLNC)       0.95      0.96      0.96       144\n",
      "                       Donetsk People's Republic       0.82      0.89      0.85       144\n",
      "Farabundo Marti National Liberation Front (FMLN)       0.76      0.69      0.72       144\n",
      "                               Fulani extremists       0.71      0.87      0.78       144\n",
      "                 Houthi extremists (Ansar Allah)       0.66      0.77      0.71       144\n",
      "                     Irish Republican Army (IRA)       0.93      0.78      0.85       144\n",
      "     Islamic State of Iraq and the Levant (ISIL)       0.41      0.51      0.45       144\n",
      "                  Kurdistan Workers' Party (PKK)       0.46      0.59      0.52       144\n",
      "         Liberation Tigers of Tamil Eelam (LTTE)       0.95      0.78      0.85       144\n",
      "         Manuel Rodriguez Patriotic Front (FPMR)       0.86      0.88      0.87       144\n",
      "                                         Maoists       0.27      0.26      0.27       144\n",
      "                               Muslim extremists       0.43      0.59      0.50       144\n",
      "      National Liberation Army of Colombia (ELN)       0.87      0.42      0.57       144\n",
      "                         New People's Army (NPA)       0.56      0.69      0.62       144\n",
      "               Nicaraguan Democratic Force (FDN)       0.67      0.79      0.73       144\n",
      "                                    Palestinians       0.87      0.89      0.88       144\n",
      "   Revolutionary Armed Forces of Colombia (FARC)       0.82      0.72      0.77       144\n",
      "                               Shining Path (SL)       0.83      0.53      0.65       144\n",
      "                                 Sikh Extremists       0.80      0.84      0.82       144\n",
      "                                         Taliban       0.50      0.44      0.46       144\n",
      "                 Tehrik-i-Taliban Pakistan (TTP)       0.75      0.73      0.74       144\n",
      "       Tupac Amaru Revolutionary Movement (MRTA)       0.79      0.88      0.83       144\n",
      "\n",
      "                                        accuracy                           0.68      4320\n",
      "                                       macro avg       0.69      0.68      0.68      4320\n",
      "                                    weighted avg       0.69      0.68      0.68      4320\n",
      "\n"
     ]
    }
   ],
   "source": [
    "print(classification_report(decoded_truths_all[3], decoded_preds_all[3]))"
   ]
  },
  {
   "cell_type": "code",
   "execution_count": 13,
   "metadata": {},
   "outputs": [],
   "source": [
    "def plot_confusion_matrix(y_true, y_pred, labels, partition_id):\n",
    "    from sklearn.metrics import confusion_matrix\n",
    "    import matplotlib.pyplot as plt\n",
    "    import seaborn as sns\n",
    "    import numpy as np\n",
    "\n",
    "    cm = confusion_matrix(y_true, y_pred, labels=labels)\n",
    "    cm_normalized = cm.astype('float') / cm.sum(axis=1, keepdims=True)\n",
    "    mask = np.triu(np.ones_like(cm_normalized, dtype=bool))\n",
    "\n",
    "    plt.figure(figsize=(18, 16))\n",
    "    sns.heatmap(cm_normalized,\n",
    "                mask=mask,\n",
    "                annot=True,\n",
    "                fmt=\".2f\",\n",
    "                xticklabels=labels,\n",
    "                yticklabels=labels,\n",
    "                cmap=\"viridis\",\n",
    "                square=True,\n",
    "                linewidths=0.5,\n",
    "                cbar_kws={\"shrink\": 0.8})\n",
    "\n",
    "    plt.title(f\"Normalized Confusion Matrix (Partition {partition_id})\", fontsize=18)\n",
    "    plt.xlabel(\"Predicted Label\", fontsize=14)\n",
    "    plt.ylabel(\"True Label\", fontsize=14)\n",
    "    plt.xticks(rotation=90)\n",
    "    plt.yticks(rotation=0)\n",
    "    plt.tight_layout()\n",
    "\n",
    "    # Save the figure\n",
    "    save_path = f\"Results/confusion_matrix_partition_{partition_id}.png\"\n",
    "    plt.savefig(save_path, dpi=300)\n",
    "    plt.close()\n",
    "\n",
    "    print(f\"Saved confusion matrix for partition {partition_id} to {save_path}\")\n"
   ]
  },
  {
   "cell_type": "code",
   "execution_count": 14,
   "metadata": {},
   "outputs": [
    {
     "name": "stdout",
     "output_type": "stream",
     "text": [
      "Saved confusion matrix for partition 1 to Results/confusion_matrix_partition_1.png\n",
      "Saved confusion matrix for partition 2 to Results/confusion_matrix_partition_2.png\n",
      "Saved confusion matrix for partition 3 to Results/confusion_matrix_partition_3.png\n",
      "Saved confusion matrix for partition 4 to Results/confusion_matrix_partition_4.png\n",
      "Saved confusion matrix for partition All to Results/confusion_matrix_partition_All.png\n"
     ]
    }
   ],
   "source": [
    "# Plot and save confusion matrices per partition\n",
    "for i in range(len(decoded_preds_all)):\n",
    "    y_true = decoded_truths_all[i]\n",
    "    y_pred = decoded_preds_all[i]\n",
    "    class_labels = le.classes_\n",
    "\n",
    "    plot_confusion_matrix(y_true, y_pred, labels=class_labels, partition_id=i + 1)\n",
    "\n",
    "# Combined (aggregated) matrix\n",
    "all_true = np.concatenate(decoded_truths_all)\n",
    "all_pred = np.concatenate(decoded_preds_all)\n",
    "all_labels = le.classes_\n",
    "\n",
    "plot_confusion_matrix(all_true, all_pred, labels=all_labels, partition_id=\"All\")\n"
   ]
  }
 ],
 "metadata": {
  "colab": {
   "provenance": []
  },
  "kernelspec": {
   "display_name": "base",
   "language": "python",
   "name": "python3"
  },
  "language_info": {
   "codemirror_mode": {
    "name": "ipython",
    "version": 3
   },
   "file_extension": ".py",
   "mimetype": "text/x-python",
   "name": "python",
   "nbconvert_exporter": "python",
   "pygments_lexer": "ipython3",
   "version": "3.11.9"
  }
 },
 "nbformat": 4,
 "nbformat_minor": 0
}
