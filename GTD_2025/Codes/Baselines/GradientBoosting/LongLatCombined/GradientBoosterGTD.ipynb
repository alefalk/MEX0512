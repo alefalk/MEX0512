{
 "cells": [
  {
   "cell_type": "markdown",
   "metadata": {
    "id": "VqQU75b6sEP-"
   },
   "source": [
    "# Global Terrorism Data"
   ]
  },
  {
   "cell_type": "code",
   "execution_count": 1,
   "metadata": {},
   "outputs": [
    {
     "name": "stdout",
     "output_type": "stream",
     "text": [
      "Requirement already satisfied: xgboost in /opt/conda/lib/python3.11/site-packages (3.0.0)\n",
      "Requirement already satisfied: numpy in /opt/conda/lib/python3.11/site-packages (from xgboost) (1.26.4)\n",
      "Requirement already satisfied: nvidia-nccl-cu12 in /opt/conda/lib/python3.11/site-packages (from xgboost) (2.20.5)\n",
      "Requirement already satisfied: scipy in /opt/conda/lib/python3.11/site-packages (from xgboost) (1.14.0)\n",
      "\n",
      "\u001b[1m[\u001b[0m\u001b[34;49mnotice\u001b[0m\u001b[1;39;49m]\u001b[0m\u001b[39;49m A new release of pip is available: \u001b[0m\u001b[31;49m24.1.2\u001b[0m\u001b[39;49m -> \u001b[0m\u001b[32;49m25.1.1\u001b[0m\n",
      "\u001b[1m[\u001b[0m\u001b[34;49mnotice\u001b[0m\u001b[1;39;49m]\u001b[0m\u001b[39;49m To update, run: \u001b[0m\u001b[32;49mpip install --upgrade pip\u001b[0m\n"
     ]
    }
   ],
   "source": [
    "import sys \n",
    "!{sys.executable} -m pip install xgboost"
   ]
  },
  {
   "cell_type": "code",
   "execution_count": 2,
   "metadata": {
    "colab": {
     "base_uri": "https://localhost:8080/"
    },
    "id": "_pI-vjLmvyI5",
    "outputId": "3699e615-7ab3-4355-c4c2-21b04f1cf8b4"
   },
   "outputs": [],
   "source": [
    "import warnings\n",
    "import os\n",
    "warnings.filterwarnings( 'ignore' )\n",
    "import pandas as pd\n",
    "import numpy as np\n",
    "import matplotlib.pyplot as plt\n",
    "import seaborn as sns\n",
    "from sklearn.metrics import accuracy_score, classification_report, confusion_matrix, precision_score, recall_score, f1_score\n",
    "from sklearn.model_selection import RandomizedSearchCV, GridSearchCV, train_test_split\n",
    "from sklearn.ensemble import GradientBoostingClassifier, RandomForestClassifier\n",
    "from GradientBoosterGTD import *"
   ]
  },
  {
   "cell_type": "code",
   "execution_count": 3,
   "metadata": {
    "id": "QjOYUqnfwLOw"
   },
   "outputs": [],
   "source": [
    "import warnings\n",
    "warnings.filterwarnings( 'ignore' )\n",
    "import pandas as pd\n",
    "import numpy as np\n",
    "import seaborn as sns\n",
    "import matplotlib.pyplot as plt\n",
    "from sklearn.metrics import accuracy_score, classification_report, confusion_matrix\n"
   ]
  },
  {
   "cell_type": "code",
   "execution_count": 4,
   "metadata": {},
   "outputs": [
    {
     "name": "stdout",
     "output_type": "stream",
     "text": [
      "True\n"
     ]
    }
   ],
   "source": [
    "import torch\n",
    "print(torch.cuda.is_available())"
   ]
  },
  {
   "cell_type": "code",
   "execution_count": 5,
   "metadata": {},
   "outputs": [],
   "source": [
    "trains = ['train100', 'train200', 'train300', 'train478']\n",
    "tests = ['test100', 'test200', 'test300', 'test478', ]\n",
    "traindir = '../../../../data/top30groups/LongLatCombined/train1'\n",
    "testdir = '../../../../data/top30groups/LongLatCombined/test1'\n",
    "\n",
    "trainpaths = []\n",
    "testpaths = []\n",
    "for i, partition in enumerate(trains):\n",
    "    trainpaths.append(f'{traindir}/{partition}.csv')\n",
    "    testpaths.append(f'{testdir}/{tests[i]}.csv')"
   ]
  },
  {
   "cell_type": "code",
   "execution_count": 6,
   "metadata": {},
   "outputs": [
    {
     "name": "stdout",
     "output_type": "stream",
     "text": [
      "Computing for partition 1, balanced classes with 100 entries for each class and one hot encoded geodata\n",
      "Finding optimal hyperparameters...\n",
      "Fitting 5 folds for each of 10 candidates, totalling 50 fits\n"
     ]
    },
    {
     "name": "stderr",
     "output_type": "stream",
     "text": [
      "/opt/conda/lib/python3.11/site-packages/xgboost/core.py:729: UserWarning: [19:24:16] WARNING: /workspace/src/common/error_msg.cc:58: Falling back to prediction using DMatrix due to mismatched devices. This might lead to higher memory usage and slower performance. XGBoost is running on: cuda:0, while the input data is on: cpu.\n",
      "Potential solutions:\n",
      "- Use a data structure that matches the device ordinal in the booster.\n",
      "- Set the device for booster before call to inplace_predict.\n",
      "\n",
      "This warning will only be shown once.\n",
      "\n",
      "  return func(**kwargs)\n"
     ]
    },
    {
     "name": "stdout",
     "output_type": "stream",
     "text": [
      "[CV] END colsample_bytree=0.6, gamma=0.1, learning_rate=0.001, max_depth=9, n_estimators=5, subsample=1.0; total time=  36.5s\n"
     ]
    },
    {
     "name": "stderr",
     "output_type": "stream",
     "text": [
      "/opt/conda/lib/python3.11/site-packages/xgboost/core.py:729: UserWarning: [19:24:17] WARNING: /workspace/src/common/error_msg.cc:58: Falling back to prediction using DMatrix due to mismatched devices. This might lead to higher memory usage and slower performance. XGBoost is running on: cuda:0, while the input data is on: cpu.\n",
      "Potential solutions:\n",
      "- Use a data structure that matches the device ordinal in the booster.\n",
      "- Set the device for booster before call to inplace_predict.\n",
      "\n",
      "This warning will only be shown once.\n",
      "\n",
      "  return func(**kwargs)\n"
     ]
    },
    {
     "name": "stdout",
     "output_type": "stream",
     "text": [
      "[CV] END colsample_bytree=0.6, gamma=0.1, learning_rate=0.001, max_depth=9, n_estimators=5, subsample=1.0; total time=  37.4s\n"
     ]
    },
    {
     "name": "stderr",
     "output_type": "stream",
     "text": [
      "/opt/conda/lib/python3.11/site-packages/xgboost/core.py:729: UserWarning: [19:24:18] WARNING: /workspace/src/common/error_msg.cc:58: Falling back to prediction using DMatrix due to mismatched devices. This might lead to higher memory usage and slower performance. XGBoost is running on: cuda:0, while the input data is on: cpu.\n",
      "Potential solutions:\n",
      "- Use a data structure that matches the device ordinal in the booster.\n",
      "- Set the device for booster before call to inplace_predict.\n",
      "\n",
      "This warning will only be shown once.\n",
      "\n",
      "  return func(**kwargs)\n",
      "/opt/conda/lib/python3.11/site-packages/xgboost/core.py:729: UserWarning: [19:24:18] WARNING: /workspace/src/common/error_msg.cc:58: Falling back to prediction using DMatrix due to mismatched devices. This might lead to higher memory usage and slower performance. XGBoost is running on: cuda:0, while the input data is on: cpu.\n",
      "Potential solutions:\n",
      "- Use a data structure that matches the device ordinal in the booster.\n",
      "- Set the device for booster before call to inplace_predict.\n",
      "\n",
      "This warning will only be shown once.\n",
      "\n",
      "  return func(**kwargs)\n",
      "/opt/conda/lib/python3.11/site-packages/xgboost/core.py:729: UserWarning: [19:24:19] WARNING: /workspace/src/common/error_msg.cc:58: Falling back to prediction using DMatrix due to mismatched devices. This might lead to higher memory usage and slower performance. XGBoost is running on: cuda:0, while the input data is on: cpu.\n",
      "Potential solutions:\n",
      "- Use a data structure that matches the device ordinal in the booster.\n",
      "- Set the device for booster before call to inplace_predict.\n",
      "\n",
      "This warning will only be shown once.\n",
      "\n",
      "  return func(**kwargs)\n"
     ]
    },
    {
     "name": "stdout",
     "output_type": "stream",
     "text": [
      "[CV] END colsample_bytree=0.6, gamma=0.1, learning_rate=0.001, max_depth=9, n_estimators=5, subsample=1.0; total time=  38.8s\n",
      "[CV] END colsample_bytree=0.6, gamma=0.1, learning_rate=0.001, max_depth=9, n_estimators=5, subsample=1.0; total time=  38.8s\n",
      "[CV] END colsample_bytree=0.6, gamma=0.1, learning_rate=0.001, max_depth=9, n_estimators=5, subsample=1.0; total time=  38.9s\n"
     ]
    },
    {
     "name": "stderr",
     "output_type": "stream",
     "text": [
      "/opt/conda/lib/python3.11/site-packages/xgboost/core.py:729: UserWarning: [19:25:45] WARNING: /workspace/src/common/error_msg.cc:58: Falling back to prediction using DMatrix due to mismatched devices. This might lead to higher memory usage and slower performance. XGBoost is running on: cuda:0, while the input data is on: cpu.\n",
      "Potential solutions:\n",
      "- Use a data structure that matches the device ordinal in the booster.\n",
      "- Set the device for booster before call to inplace_predict.\n",
      "\n",
      "This warning will only be shown once.\n",
      "\n",
      "  return func(**kwargs)\n",
      "/opt/conda/lib/python3.11/site-packages/xgboost/core.py:729: UserWarning: [19:25:45] WARNING: /workspace/src/common/error_msg.cc:58: Falling back to prediction using DMatrix due to mismatched devices. This might lead to higher memory usage and slower performance. XGBoost is running on: cuda:0, while the input data is on: cpu.\n",
      "Potential solutions:\n",
      "- Use a data structure that matches the device ordinal in the booster.\n",
      "- Set the device for booster before call to inplace_predict.\n",
      "\n",
      "This warning will only be shown once.\n",
      "\n",
      "  return func(**kwargs)\n"
     ]
    },
    {
     "name": "stdout",
     "output_type": "stream",
     "text": [
      "[CV] END colsample_bytree=1.0, gamma=0.1, learning_rate=0.01, max_depth=2, n_estimators=50, subsample=0.6; total time= 2.1min\n",
      "[CV] END colsample_bytree=1.0, gamma=0.1, learning_rate=0.01, max_depth=2, n_estimators=50, subsample=0.6; total time= 2.1min\n",
      "[CV] END colsample_bytree=1.0, gamma=0.1, learning_rate=0.01, max_depth=2, n_estimators=50, subsample=0.6; total time= 1.8min\n",
      "[CV] END colsample_bytree=1.0, gamma=0.1, learning_rate=0.01, max_depth=2, n_estimators=50, subsample=0.6; total time= 1.8min\n",
      "[CV] END colsample_bytree=1.0, gamma=0.1, learning_rate=0.01, max_depth=2, n_estimators=50, subsample=0.6; total time= 1.8min\n",
      "[CV] END colsample_bytree=1.0, gamma=0.3, learning_rate=0.2, max_depth=11, n_estimators=150, subsample=0.8; total time= 6.0min\n",
      "[CV] END colsample_bytree=1.0, gamma=0.3, learning_rate=0.2, max_depth=11, n_estimators=150, subsample=0.8; total time= 6.0min\n",
      "[CV] END colsample_bytree=1.0, gamma=0.1, learning_rate=0.1, max_depth=9, n_estimators=200, subsample=0.8; total time= 9.4min\n",
      "[CV] END colsample_bytree=1.0, gamma=0.1, learning_rate=0.1, max_depth=9, n_estimators=200, subsample=0.8; total time= 9.4min\n",
      "[CV] END colsample_bytree=1.0, gamma=0.1, learning_rate=0.1, max_depth=9, n_estimators=200, subsample=0.8; total time= 9.9min\n",
      "[CV] END colsample_bytree=1.0, gamma=0.1, learning_rate=0.1, max_depth=9, n_estimators=200, subsample=0.8; total time= 9.9min\n"
     ]
    },
    {
     "name": "stderr",
     "output_type": "stream",
     "text": [
      "/opt/conda/lib/python3.11/site-packages/xgboost/core.py:729: UserWarning: [19:35:55] WARNING: /workspace/src/common/error_msg.cc:58: Falling back to prediction using DMatrix due to mismatched devices. This might lead to higher memory usage and slower performance. XGBoost is running on: cuda:0, while the input data is on: cpu.\n",
      "Potential solutions:\n",
      "- Use a data structure that matches the device ordinal in the booster.\n",
      "- Set the device for booster before call to inplace_predict.\n",
      "\n",
      "This warning will only be shown once.\n",
      "\n",
      "  return func(**kwargs)\n"
     ]
    },
    {
     "name": "stdout",
     "output_type": "stream",
     "text": [
      "[CV] END colsample_bytree=0.8, gamma=0.3, learning_rate=0.05, max_depth=5, n_estimators=200, subsample=0.8; total time=12.3min\n"
     ]
    },
    {
     "name": "stderr",
     "output_type": "stream",
     "text": [
      "/opt/conda/lib/python3.11/site-packages/xgboost/core.py:729: UserWarning: [19:36:01] WARNING: /workspace/src/common/error_msg.cc:58: Falling back to prediction using DMatrix due to mismatched devices. This might lead to higher memory usage and slower performance. XGBoost is running on: cuda:0, while the input data is on: cpu.\n",
      "Potential solutions:\n",
      "- Use a data structure that matches the device ordinal in the booster.\n",
      "- Set the device for booster before call to inplace_predict.\n",
      "\n",
      "This warning will only be shown once.\n",
      "\n",
      "  return func(**kwargs)\n"
     ]
    },
    {
     "name": "stdout",
     "output_type": "stream",
     "text": [
      "[CV] END colsample_bytree=0.8, gamma=0.3, learning_rate=0.05, max_depth=5, n_estimators=200, subsample=0.8; total time=12.4min\n"
     ]
    },
    {
     "name": "stderr",
     "output_type": "stream",
     "text": [
      "/opt/conda/lib/python3.11/site-packages/xgboost/core.py:729: UserWarning: [19:36:02] WARNING: /workspace/src/common/error_msg.cc:58: Falling back to prediction using DMatrix due to mismatched devices. This might lead to higher memory usage and slower performance. XGBoost is running on: cuda:0, while the input data is on: cpu.\n",
      "Potential solutions:\n",
      "- Use a data structure that matches the device ordinal in the booster.\n",
      "- Set the device for booster before call to inplace_predict.\n",
      "\n",
      "This warning will only be shown once.\n",
      "\n",
      "  return func(**kwargs)\n"
     ]
    },
    {
     "name": "stdout",
     "output_type": "stream",
     "text": [
      "[CV] END colsample_bytree=0.8, gamma=0.3, learning_rate=0.05, max_depth=5, n_estimators=200, subsample=0.8; total time=12.4min\n"
     ]
    },
    {
     "name": "stderr",
     "output_type": "stream",
     "text": [
      "/opt/conda/lib/python3.11/site-packages/xgboost/core.py:729: UserWarning: [19:36:04] WARNING: /workspace/src/common/error_msg.cc:58: Falling back to prediction using DMatrix due to mismatched devices. This might lead to higher memory usage and slower performance. XGBoost is running on: cuda:0, while the input data is on: cpu.\n",
      "Potential solutions:\n",
      "- Use a data structure that matches the device ordinal in the booster.\n",
      "- Set the device for booster before call to inplace_predict.\n",
      "\n",
      "This warning will only be shown once.\n",
      "\n",
      "  return func(**kwargs)\n"
     ]
    },
    {
     "name": "stdout",
     "output_type": "stream",
     "text": [
      "[CV] END colsample_bytree=0.8, gamma=0.3, learning_rate=0.05, max_depth=5, n_estimators=200, subsample=0.8; total time=12.4min\n"
     ]
    },
    {
     "name": "stderr",
     "output_type": "stream",
     "text": [
      "/opt/conda/lib/python3.11/site-packages/xgboost/core.py:729: UserWarning: [19:36:05] WARNING: /workspace/src/common/error_msg.cc:58: Falling back to prediction using DMatrix due to mismatched devices. This might lead to higher memory usage and slower performance. XGBoost is running on: cuda:0, while the input data is on: cpu.\n",
      "Potential solutions:\n",
      "- Use a data structure that matches the device ordinal in the booster.\n",
      "- Set the device for booster before call to inplace_predict.\n",
      "\n",
      "This warning will only be shown once.\n",
      "\n",
      "  return func(**kwargs)\n"
     ]
    },
    {
     "name": "stdout",
     "output_type": "stream",
     "text": [
      "[CV] END colsample_bytree=0.8, gamma=0.3, learning_rate=0.05, max_depth=5, n_estimators=200, subsample=0.8; total time=12.4min\n",
      "[CV] END colsample_bytree=1.0, gamma=0.1, learning_rate=0.1, max_depth=9, n_estimators=200, subsample=0.8; total time=10.0min\n"
     ]
    },
    {
     "name": "stderr",
     "output_type": "stream",
     "text": [
      "/opt/conda/lib/python3.11/site-packages/xgboost/core.py:729: UserWarning: [19:37:18] WARNING: /workspace/src/common/error_msg.cc:58: Falling back to prediction using DMatrix due to mismatched devices. This might lead to higher memory usage and slower performance. XGBoost is running on: cuda:0, while the input data is on: cpu.\n",
      "Potential solutions:\n",
      "- Use a data structure that matches the device ordinal in the booster.\n",
      "- Set the device for booster before call to inplace_predict.\n",
      "\n",
      "This warning will only be shown once.\n",
      "\n",
      "  return func(**kwargs)\n"
     ]
    },
    {
     "name": "stdout",
     "output_type": "stream",
     "text": [
      "[CV] END colsample_bytree=0.6, gamma=0.1, learning_rate=0.05, max_depth=8, n_estimators=200, subsample=0.6; total time=13.6min\n"
     ]
    },
    {
     "name": "stderr",
     "output_type": "stream",
     "text": [
      "/opt/conda/lib/python3.11/site-packages/xgboost/core.py:729: UserWarning: [19:37:19] WARNING: /workspace/src/common/error_msg.cc:58: Falling back to prediction using DMatrix due to mismatched devices. This might lead to higher memory usage and slower performance. XGBoost is running on: cuda:0, while the input data is on: cpu.\n",
      "Potential solutions:\n",
      "- Use a data structure that matches the device ordinal in the booster.\n",
      "- Set the device for booster before call to inplace_predict.\n",
      "\n",
      "This warning will only be shown once.\n",
      "\n",
      "  return func(**kwargs)\n"
     ]
    },
    {
     "name": "stdout",
     "output_type": "stream",
     "text": [
      "[CV] END colsample_bytree=0.6, gamma=0.1, learning_rate=0.05, max_depth=8, n_estimators=200, subsample=0.6; total time=13.7min\n"
     ]
    },
    {
     "name": "stderr",
     "output_type": "stream",
     "text": [
      "/opt/conda/lib/python3.11/site-packages/xgboost/core.py:729: UserWarning: [19:37:20] WARNING: /workspace/src/common/error_msg.cc:58: Falling back to prediction using DMatrix due to mismatched devices. This might lead to higher memory usage and slower performance. XGBoost is running on: cuda:0, while the input data is on: cpu.\n",
      "Potential solutions:\n",
      "- Use a data structure that matches the device ordinal in the booster.\n",
      "- Set the device for booster before call to inplace_predict.\n",
      "\n",
      "This warning will only be shown once.\n",
      "\n",
      "  return func(**kwargs)\n"
     ]
    },
    {
     "name": "stdout",
     "output_type": "stream",
     "text": [
      "[CV] END colsample_bytree=0.6, gamma=0.1, learning_rate=0.05, max_depth=8, n_estimators=200, subsample=0.6; total time=13.7min\n"
     ]
    },
    {
     "name": "stderr",
     "output_type": "stream",
     "text": [
      "/opt/conda/lib/python3.11/site-packages/xgboost/core.py:729: UserWarning: [19:37:20] WARNING: /workspace/src/common/error_msg.cc:58: Falling back to prediction using DMatrix due to mismatched devices. This might lead to higher memory usage and slower performance. XGBoost is running on: cuda:0, while the input data is on: cpu.\n",
      "Potential solutions:\n",
      "- Use a data structure that matches the device ordinal in the booster.\n",
      "- Set the device for booster before call to inplace_predict.\n",
      "\n",
      "This warning will only be shown once.\n",
      "\n",
      "  return func(**kwargs)\n"
     ]
    },
    {
     "name": "stdout",
     "output_type": "stream",
     "text": [
      "[CV] END colsample_bytree=0.6, gamma=0.1, learning_rate=0.05, max_depth=8, n_estimators=200, subsample=0.6; total time=13.7min\n"
     ]
    },
    {
     "name": "stderr",
     "output_type": "stream",
     "text": [
      "/opt/conda/lib/python3.11/site-packages/xgboost/core.py:729: UserWarning: [19:37:21] WARNING: /workspace/src/common/error_msg.cc:58: Falling back to prediction using DMatrix due to mismatched devices. This might lead to higher memory usage and slower performance. XGBoost is running on: cuda:0, while the input data is on: cpu.\n",
      "Potential solutions:\n",
      "- Use a data structure that matches the device ordinal in the booster.\n",
      "- Set the device for booster before call to inplace_predict.\n",
      "\n",
      "This warning will only be shown once.\n",
      "\n",
      "  return func(**kwargs)\n"
     ]
    },
    {
     "name": "stdout",
     "output_type": "stream",
     "text": [
      "[CV] END colsample_bytree=0.6, gamma=0.1, learning_rate=0.05, max_depth=8, n_estimators=200, subsample=0.6; total time=13.7min\n",
      "[CV] END colsample_bytree=1.0, gamma=0.3, learning_rate=0.2, max_depth=11, n_estimators=150, subsample=0.8; total time= 5.7min\n",
      "[CV] END colsample_bytree=1.0, gamma=0.3, learning_rate=0.2, max_depth=11, n_estimators=150, subsample=0.8; total time= 5.7min\n",
      "[CV] END colsample_bytree=1.0, gamma=0.3, learning_rate=0.2, max_depth=11, n_estimators=150, subsample=0.8; total time= 4.9min\n"
     ]
    },
    {
     "name": "stderr",
     "output_type": "stream",
     "text": [
      "/opt/conda/lib/python3.11/site-packages/xgboost/core.py:729: UserWarning: [19:40:47] WARNING: /workspace/src/common/error_msg.cc:58: Falling back to prediction using DMatrix due to mismatched devices. This might lead to higher memory usage and slower performance. XGBoost is running on: cuda:0, while the input data is on: cpu.\n",
      "Potential solutions:\n",
      "- Use a data structure that matches the device ordinal in the booster.\n",
      "- Set the device for booster before call to inplace_predict.\n",
      "\n",
      "This warning will only be shown once.\n",
      "\n",
      "  return func(**kwargs)\n",
      "/opt/conda/lib/python3.11/site-packages/xgboost/core.py:729: UserWarning: [19:40:47] WARNING: /workspace/src/common/error_msg.cc:58: Falling back to prediction using DMatrix due to mismatched devices. This might lead to higher memory usage and slower performance. XGBoost is running on: cuda:0, while the input data is on: cpu.\n",
      "Potential solutions:\n",
      "- Use a data structure that matches the device ordinal in the booster.\n",
      "- Set the device for booster before call to inplace_predict.\n",
      "\n",
      "This warning will only be shown once.\n",
      "\n",
      "  return func(**kwargs)\n",
      "/opt/conda/lib/python3.11/site-packages/xgboost/core.py:729: UserWarning: [19:40:47] WARNING: /workspace/src/common/error_msg.cc:58: Falling back to prediction using DMatrix due to mismatched devices. This might lead to higher memory usage and slower performance. XGBoost is running on: cuda:0, while the input data is on: cpu.\n",
      "Potential solutions:\n",
      "- Use a data structure that matches the device ordinal in the booster.\n",
      "- Set the device for booster before call to inplace_predict.\n",
      "\n",
      "This warning will only be shown once.\n",
      "\n",
      "  return func(**kwargs)\n",
      "/opt/conda/lib/python3.11/site-packages/xgboost/core.py:729: UserWarning: [19:40:47] WARNING: /workspace/src/common/error_msg.cc:58: Falling back to prediction using DMatrix due to mismatched devices. This might lead to higher memory usage and slower performance. XGBoost is running on: cuda:0, while the input data is on: cpu.\n",
      "Potential solutions:\n",
      "- Use a data structure that matches the device ordinal in the booster.\n",
      "- Set the device for booster before call to inplace_predict.\n",
      "\n",
      "This warning will only be shown once.\n",
      "\n",
      "  return func(**kwargs)\n",
      "/opt/conda/lib/python3.11/site-packages/xgboost/core.py:729: UserWarning: [19:40:47] WARNING: /workspace/src/common/error_msg.cc:58: Falling back to prediction using DMatrix due to mismatched devices. This might lead to higher memory usage and slower performance. XGBoost is running on: cuda:0, while the input data is on: cpu.\n",
      "Potential solutions:\n",
      "- Use a data structure that matches the device ordinal in the booster.\n",
      "- Set the device for booster before call to inplace_predict.\n",
      "\n",
      "This warning will only be shown once.\n",
      "\n",
      "  return func(**kwargs)\n"
     ]
    },
    {
     "name": "stdout",
     "output_type": "stream",
     "text": [
      "[CV] END colsample_bytree=0.8, gamma=0, learning_rate=0.001, max_depth=1, n_estimators=500, subsample=0.8; total time=17.1min\n",
      "[CV] END colsample_bytree=0.8, gamma=0, learning_rate=0.001, max_depth=1, n_estimators=500, subsample=0.8; total time=17.1min\n",
      "[CV] END colsample_bytree=0.8, gamma=0, learning_rate=0.001, max_depth=1, n_estimators=500, subsample=0.8; total time=17.1min\n",
      "[CV] END colsample_bytree=0.8, gamma=0, learning_rate=0.001, max_depth=1, n_estimators=500, subsample=0.8; total time=17.1min\n",
      "[CV] END colsample_bytree=0.8, gamma=0, learning_rate=0.001, max_depth=1, n_estimators=500, subsample=0.8; total time=17.1min\n"
     ]
    },
    {
     "name": "stderr",
     "output_type": "stream",
     "text": [
      "/opt/conda/lib/python3.11/site-packages/xgboost/core.py:729: UserWarning: [19:42:30] WARNING: /workspace/src/common/error_msg.cc:58: Falling back to prediction using DMatrix due to mismatched devices. This might lead to higher memory usage and slower performance. XGBoost is running on: cuda:0, while the input data is on: cpu.\n",
      "Potential solutions:\n",
      "- Use a data structure that matches the device ordinal in the booster.\n",
      "- Set the device for booster before call to inplace_predict.\n",
      "\n",
      "This warning will only be shown once.\n",
      "\n",
      "  return func(**kwargs)\n"
     ]
    },
    {
     "name": "stdout",
     "output_type": "stream",
     "text": [
      "[CV] END colsample_bytree=0.8, gamma=0, learning_rate=0.2, max_depth=3, n_estimators=500, subsample=0.6; total time=18.8min\n"
     ]
    },
    {
     "name": "stderr",
     "output_type": "stream",
     "text": [
      "/opt/conda/lib/python3.11/site-packages/xgboost/core.py:729: UserWarning: [19:42:32] WARNING: /workspace/src/common/error_msg.cc:58: Falling back to prediction using DMatrix due to mismatched devices. This might lead to higher memory usage and slower performance. XGBoost is running on: cuda:0, while the input data is on: cpu.\n",
      "Potential solutions:\n",
      "- Use a data structure that matches the device ordinal in the booster.\n",
      "- Set the device for booster before call to inplace_predict.\n",
      "\n",
      "This warning will only be shown once.\n",
      "\n",
      "  return func(**kwargs)\n",
      "/opt/conda/lib/python3.11/site-packages/xgboost/core.py:729: UserWarning: [19:42:32] WARNING: /workspace/src/common/error_msg.cc:58: Falling back to prediction using DMatrix due to mismatched devices. This might lead to higher memory usage and slower performance. XGBoost is running on: cuda:0, while the input data is on: cpu.\n",
      "Potential solutions:\n",
      "- Use a data structure that matches the device ordinal in the booster.\n",
      "- Set the device for booster before call to inplace_predict.\n",
      "\n",
      "This warning will only be shown once.\n",
      "\n",
      "  return func(**kwargs)\n"
     ]
    },
    {
     "name": "stdout",
     "output_type": "stream",
     "text": [
      "[CV] END colsample_bytree=0.8, gamma=0, learning_rate=0.2, max_depth=3, n_estimators=500, subsample=0.6; total time=18.9min\n",
      "[CV] END colsample_bytree=0.8, gamma=0, learning_rate=0.2, max_depth=3, n_estimators=500, subsample=0.6; total time=18.9min\n"
     ]
    },
    {
     "name": "stderr",
     "output_type": "stream",
     "text": [
      "/opt/conda/lib/python3.11/site-packages/xgboost/core.py:729: UserWarning: [19:42:33] WARNING: /workspace/src/common/error_msg.cc:58: Falling back to prediction using DMatrix due to mismatched devices. This might lead to higher memory usage and slower performance. XGBoost is running on: cuda:0, while the input data is on: cpu.\n",
      "Potential solutions:\n",
      "- Use a data structure that matches the device ordinal in the booster.\n",
      "- Set the device for booster before call to inplace_predict.\n",
      "\n",
      "This warning will only be shown once.\n",
      "\n",
      "  return func(**kwargs)\n"
     ]
    },
    {
     "name": "stdout",
     "output_type": "stream",
     "text": [
      "[CV] END colsample_bytree=0.8, gamma=0, learning_rate=0.2, max_depth=3, n_estimators=500, subsample=0.6; total time=18.9min\n"
     ]
    },
    {
     "name": "stderr",
     "output_type": "stream",
     "text": [
      "/opt/conda/lib/python3.11/site-packages/xgboost/core.py:729: UserWarning: [19:42:34] WARNING: /workspace/src/common/error_msg.cc:58: Falling back to prediction using DMatrix due to mismatched devices. This might lead to higher memory usage and slower performance. XGBoost is running on: cuda:0, while the input data is on: cpu.\n",
      "Potential solutions:\n",
      "- Use a data structure that matches the device ordinal in the booster.\n",
      "- Set the device for booster before call to inplace_predict.\n",
      "\n",
      "This warning will only be shown once.\n",
      "\n",
      "  return func(**kwargs)\n"
     ]
    },
    {
     "name": "stdout",
     "output_type": "stream",
     "text": [
      "[CV] END colsample_bytree=0.8, gamma=0, learning_rate=0.2, max_depth=3, n_estimators=500, subsample=0.6; total time=18.9min\n"
     ]
    },
    {
     "name": "stderr",
     "output_type": "stream",
     "text": [
      "/opt/conda/lib/python3.11/site-packages/xgboost/core.py:729: UserWarning: [19:42:57] WARNING: /workspace/src/common/error_msg.cc:58: Falling back to prediction using DMatrix due to mismatched devices. This might lead to higher memory usage and slower performance. XGBoost is running on: cuda:0, while the input data is on: cpu.\n",
      "Potential solutions:\n",
      "- Use a data structure that matches the device ordinal in the booster.\n",
      "- Set the device for booster before call to inplace_predict.\n",
      "\n",
      "This warning will only be shown once.\n",
      "\n",
      "  return func(**kwargs)\n"
     ]
    },
    {
     "name": "stdout",
     "output_type": "stream",
     "text": [
      "[CV] END colsample_bytree=1.0, gamma=0, learning_rate=0.05, max_depth=10, n_estimators=500, subsample=0.8; total time=19.3min\n"
     ]
    },
    {
     "name": "stderr",
     "output_type": "stream",
     "text": [
      "/opt/conda/lib/python3.11/site-packages/xgboost/core.py:729: UserWarning: [19:42:59] WARNING: /workspace/src/common/error_msg.cc:58: Falling back to prediction using DMatrix due to mismatched devices. This might lead to higher memory usage and slower performance. XGBoost is running on: cuda:0, while the input data is on: cpu.\n",
      "Potential solutions:\n",
      "- Use a data structure that matches the device ordinal in the booster.\n",
      "- Set the device for booster before call to inplace_predict.\n",
      "\n",
      "This warning will only be shown once.\n",
      "\n",
      "  return func(**kwargs)\n"
     ]
    },
    {
     "name": "stdout",
     "output_type": "stream",
     "text": [
      "[CV] END colsample_bytree=1.0, gamma=0, learning_rate=0.05, max_depth=10, n_estimators=500, subsample=0.8; total time=19.3min\n"
     ]
    },
    {
     "name": "stderr",
     "output_type": "stream",
     "text": [
      "/opt/conda/lib/python3.11/site-packages/xgboost/core.py:729: UserWarning: [19:42:59] WARNING: /workspace/src/common/error_msg.cc:58: Falling back to prediction using DMatrix due to mismatched devices. This might lead to higher memory usage and slower performance. XGBoost is running on: cuda:0, while the input data is on: cpu.\n",
      "Potential solutions:\n",
      "- Use a data structure that matches the device ordinal in the booster.\n",
      "- Set the device for booster before call to inplace_predict.\n",
      "\n",
      "This warning will only be shown once.\n",
      "\n",
      "  return func(**kwargs)\n"
     ]
    },
    {
     "name": "stdout",
     "output_type": "stream",
     "text": [
      "[CV] END colsample_bytree=1.0, gamma=0, learning_rate=0.05, max_depth=10, n_estimators=500, subsample=0.8; total time=19.3min\n"
     ]
    },
    {
     "name": "stderr",
     "output_type": "stream",
     "text": [
      "/opt/conda/lib/python3.11/site-packages/xgboost/core.py:729: UserWarning: [19:43:01] WARNING: /workspace/src/common/error_msg.cc:58: Falling back to prediction using DMatrix due to mismatched devices. This might lead to higher memory usage and slower performance. XGBoost is running on: cuda:0, while the input data is on: cpu.\n",
      "Potential solutions:\n",
      "- Use a data structure that matches the device ordinal in the booster.\n",
      "- Set the device for booster before call to inplace_predict.\n",
      "\n",
      "This warning will only be shown once.\n",
      "\n",
      "  return func(**kwargs)\n"
     ]
    },
    {
     "name": "stdout",
     "output_type": "stream",
     "text": [
      "[CV] END colsample_bytree=1.0, gamma=0, learning_rate=0.05, max_depth=10, n_estimators=500, subsample=0.8; total time=19.3min\n"
     ]
    },
    {
     "name": "stderr",
     "output_type": "stream",
     "text": [
      "/opt/conda/lib/python3.11/site-packages/xgboost/core.py:729: UserWarning: [19:43:02] WARNING: /workspace/src/common/error_msg.cc:58: Falling back to prediction using DMatrix due to mismatched devices. This might lead to higher memory usage and slower performance. XGBoost is running on: cuda:0, while the input data is on: cpu.\n",
      "Potential solutions:\n",
      "- Use a data structure that matches the device ordinal in the booster.\n",
      "- Set the device for booster before call to inplace_predict.\n",
      "\n",
      "This warning will only be shown once.\n",
      "\n",
      "  return func(**kwargs)\n"
     ]
    },
    {
     "name": "stdout",
     "output_type": "stream",
     "text": [
      "[CV] END colsample_bytree=1.0, gamma=0, learning_rate=0.05, max_depth=10, n_estimators=500, subsample=0.8; total time=19.4min\n",
      "[CV] END colsample_bytree=1.0, gamma=0.3, learning_rate=0.01, max_depth=4, n_estimators=500, subsample=0.8; total time=10.8min\n",
      "[CV] END colsample_bytree=1.0, gamma=0.3, learning_rate=0.01, max_depth=4, n_estimators=500, subsample=0.8; total time= 9.0min\n",
      "[CV] END colsample_bytree=1.0, gamma=0.3, learning_rate=0.01, max_depth=4, n_estimators=500, subsample=0.8; total time= 9.1min\n",
      "[CV] END colsample_bytree=1.0, gamma=0.3, learning_rate=0.01, max_depth=4, n_estimators=500, subsample=0.8; total time= 8.7min\n",
      "[CV] END colsample_bytree=1.0, gamma=0.3, learning_rate=0.01, max_depth=4, n_estimators=500, subsample=0.8; total time= 8.8min\n",
      "Training best XGBoost classifier...\n",
      "Making predictions...\n",
      "Accuracy: 90.22%\n",
      "---------------------------------------------------\n",
      "Computing for partition 2, balanced classes with 200 entries for each class and one hot encoded geodata\n",
      "Finding optimal hyperparameters...\n",
      "Fitting 5 folds for each of 10 candidates, totalling 50 fits\n",
      "[CV] END colsample_bytree=1.0, gamma=0.1, learning_rate=0.1, max_depth=9, n_estimators=10, subsample=0.8; total time=  31.4s\n",
      "[CV] END colsample_bytree=1.0, gamma=0.1, learning_rate=0.1, max_depth=9, n_estimators=10, subsample=0.8; total time=  31.4s\n",
      "[CV] END colsample_bytree=1.0, gamma=0.1, learning_rate=0.1, max_depth=9, n_estimators=10, subsample=0.8; total time=  31.8s\n",
      "[CV] END colsample_bytree=1.0, gamma=0.1, learning_rate=0.1, max_depth=9, n_estimators=10, subsample=0.8; total time=  32.2s\n",
      "[CV] END colsample_bytree=1.0, gamma=0.1, learning_rate=0.1, max_depth=9, n_estimators=10, subsample=0.8; total time=  32.2s\n"
     ]
    },
    {
     "name": "stderr",
     "output_type": "stream",
     "text": [
      "/opt/conda/lib/python3.11/site-packages/xgboost/core.py:729: UserWarning: [19:45:38] WARNING: /workspace/src/common/error_msg.cc:58: Falling back to prediction using DMatrix due to mismatched devices. This might lead to higher memory usage and slower performance. XGBoost is running on: cuda:0, while the input data is on: cpu.\n",
      "Potential solutions:\n",
      "- Use a data structure that matches the device ordinal in the booster.\n",
      "- Set the device for booster before call to inplace_predict.\n",
      "\n",
      "This warning will only be shown once.\n",
      "\n",
      "  return func(**kwargs)\n",
      "/opt/conda/lib/python3.11/site-packages/xgboost/core.py:729: UserWarning: [19:45:38] WARNING: /workspace/src/common/error_msg.cc:58: Falling back to prediction using DMatrix due to mismatched devices. This might lead to higher memory usage and slower performance. XGBoost is running on: cuda:0, while the input data is on: cpu.\n",
      "Potential solutions:\n",
      "- Use a data structure that matches the device ordinal in the booster.\n",
      "- Set the device for booster before call to inplace_predict.\n",
      "\n",
      "This warning will only be shown once.\n",
      "\n",
      "  return func(**kwargs)\n",
      "/opt/conda/lib/python3.11/site-packages/xgboost/core.py:729: UserWarning: [19:45:38] WARNING: /workspace/src/common/error_msg.cc:58: Falling back to prediction using DMatrix due to mismatched devices. This might lead to higher memory usage and slower performance. XGBoost is running on: cuda:0, while the input data is on: cpu.\n",
      "Potential solutions:\n",
      "- Use a data structure that matches the device ordinal in the booster.\n",
      "- Set the device for booster before call to inplace_predict.\n",
      "\n",
      "This warning will only be shown once.\n",
      "\n",
      "  return func(**kwargs)\n"
     ]
    },
    {
     "name": "stdout",
     "output_type": "stream",
     "text": [
      "[CV] END colsample_bytree=1.0, gamma=0.3, learning_rate=0.1, max_depth=6, n_estimators=10, subsample=0.8; total time=  48.7s\n",
      "[CV] END colsample_bytree=1.0, gamma=0.3, learning_rate=0.1, max_depth=6, n_estimators=10, subsample=0.8; total time=  48.7s\n",
      "[CV] END colsample_bytree=1.0, gamma=0.3, learning_rate=0.1, max_depth=6, n_estimators=10, subsample=0.8; total time=  48.8s\n"
     ]
    },
    {
     "name": "stderr",
     "output_type": "stream",
     "text": [
      "/opt/conda/lib/python3.11/site-packages/xgboost/core.py:729: UserWarning: [19:45:38] WARNING: /workspace/src/common/error_msg.cc:58: Falling back to prediction using DMatrix due to mismatched devices. This might lead to higher memory usage and slower performance. XGBoost is running on: cuda:0, while the input data is on: cpu.\n",
      "Potential solutions:\n",
      "- Use a data structure that matches the device ordinal in the booster.\n",
      "- Set the device for booster before call to inplace_predict.\n",
      "\n",
      "This warning will only be shown once.\n",
      "\n",
      "  return func(**kwargs)\n"
     ]
    },
    {
     "name": "stdout",
     "output_type": "stream",
     "text": [
      "[CV] END colsample_bytree=1.0, gamma=0.3, learning_rate=0.1, max_depth=6, n_estimators=10, subsample=0.8; total time=  48.9s\n"
     ]
    },
    {
     "name": "stderr",
     "output_type": "stream",
     "text": [
      "/opt/conda/lib/python3.11/site-packages/xgboost/core.py:729: UserWarning: [19:45:39] WARNING: /workspace/src/common/error_msg.cc:58: Falling back to prediction using DMatrix due to mismatched devices. This might lead to higher memory usage and slower performance. XGBoost is running on: cuda:0, while the input data is on: cpu.\n",
      "Potential solutions:\n",
      "- Use a data structure that matches the device ordinal in the booster.\n",
      "- Set the device for booster before call to inplace_predict.\n",
      "\n",
      "This warning will only be shown once.\n",
      "\n",
      "  return func(**kwargs)\n"
     ]
    },
    {
     "name": "stdout",
     "output_type": "stream",
     "text": [
      "[CV] END colsample_bytree=1.0, gamma=0.3, learning_rate=0.1, max_depth=6, n_estimators=10, subsample=0.8; total time=  49.4s\n",
      "[CV] END colsample_bytree=1.0, gamma=0.3, learning_rate=0.001, max_depth=8, n_estimators=20, subsample=0.6; total time= 1.0min\n",
      "[CV] END colsample_bytree=1.0, gamma=0.3, learning_rate=0.001, max_depth=8, n_estimators=20, subsample=0.6; total time= 1.0min\n",
      "[CV] END colsample_bytree=1.0, gamma=0.3, learning_rate=0.001, max_depth=8, n_estimators=20, subsample=0.6; total time= 1.0min\n",
      "[CV] END colsample_bytree=1.0, gamma=0.3, learning_rate=0.001, max_depth=8, n_estimators=20, subsample=0.6; total time= 1.0min\n",
      "[CV] END colsample_bytree=1.0, gamma=0.3, learning_rate=0.001, max_depth=8, n_estimators=20, subsample=0.6; total time= 1.0min\n",
      "[CV] END colsample_bytree=0.8, gamma=0, learning_rate=0.1, max_depth=7, n_estimators=50, subsample=1.0; total time= 3.2min\n",
      "[CV] END colsample_bytree=0.8, gamma=0, learning_rate=0.1, max_depth=7, n_estimators=50, subsample=1.0; total time= 3.5min\n",
      "[CV] END colsample_bytree=0.8, gamma=0, learning_rate=0.1, max_depth=7, n_estimators=50, subsample=1.0; total time= 3.5min\n",
      "[CV] END colsample_bytree=0.8, gamma=0, learning_rate=0.1, max_depth=7, n_estimators=50, subsample=1.0; total time= 3.6min\n",
      "[CV] END colsample_bytree=0.8, gamma=0, learning_rate=0.1, max_depth=7, n_estimators=50, subsample=1.0; total time= 3.6min\n"
     ]
    },
    {
     "name": "stderr",
     "output_type": "stream",
     "text": [
      "/opt/conda/lib/python3.11/site-packages/xgboost/core.py:729: UserWarning: [19:49:34] WARNING: /workspace/src/common/error_msg.cc:58: Falling back to prediction using DMatrix due to mismatched devices. This might lead to higher memory usage and slower performance. XGBoost is running on: cuda:0, while the input data is on: cpu.\n",
      "Potential solutions:\n",
      "- Use a data structure that matches the device ordinal in the booster.\n",
      "- Set the device for booster before call to inplace_predict.\n",
      "\n",
      "This warning will only be shown once.\n",
      "\n",
      "  return func(**kwargs)\n",
      "/opt/conda/lib/python3.11/site-packages/xgboost/core.py:729: UserWarning: [19:49:34] WARNING: /workspace/src/common/error_msg.cc:58: Falling back to prediction using DMatrix due to mismatched devices. This might lead to higher memory usage and slower performance. XGBoost is running on: cuda:0, while the input data is on: cpu.\n",
      "Potential solutions:\n",
      "- Use a data structure that matches the device ordinal in the booster.\n",
      "- Set the device for booster before call to inplace_predict.\n",
      "\n",
      "This warning will only be shown once.\n",
      "\n",
      "  return func(**kwargs)\n"
     ]
    },
    {
     "name": "stdout",
     "output_type": "stream",
     "text": [
      "[CV] END colsample_bytree=1.0, gamma=0.3, learning_rate=0.05, max_depth=3, n_estimators=100, subsample=0.6; total time= 4.7min\n",
      "[CV] END colsample_bytree=1.0, gamma=0.3, learning_rate=0.05, max_depth=3, n_estimators=100, subsample=0.6; total time= 4.7min\n"
     ]
    },
    {
     "name": "stderr",
     "output_type": "stream",
     "text": [
      "/opt/conda/lib/python3.11/site-packages/xgboost/core.py:729: UserWarning: [19:49:34] WARNING: /workspace/src/common/error_msg.cc:58: Falling back to prediction using DMatrix due to mismatched devices. This might lead to higher memory usage and slower performance. XGBoost is running on: cuda:0, while the input data is on: cpu.\n",
      "Potential solutions:\n",
      "- Use a data structure that matches the device ordinal in the booster.\n",
      "- Set the device for booster before call to inplace_predict.\n",
      "\n",
      "This warning will only be shown once.\n",
      "\n",
      "  return func(**kwargs)\n"
     ]
    },
    {
     "name": "stdout",
     "output_type": "stream",
     "text": [
      "[CV] END colsample_bytree=1.0, gamma=0.3, learning_rate=0.05, max_depth=3, n_estimators=100, subsample=0.6; total time= 4.7min\n"
     ]
    },
    {
     "name": "stderr",
     "output_type": "stream",
     "text": [
      "/opt/conda/lib/python3.11/site-packages/xgboost/core.py:729: UserWarning: [19:49:34] WARNING: /workspace/src/common/error_msg.cc:58: Falling back to prediction using DMatrix due to mismatched devices. This might lead to higher memory usage and slower performance. XGBoost is running on: cuda:0, while the input data is on: cpu.\n",
      "Potential solutions:\n",
      "- Use a data structure that matches the device ordinal in the booster.\n",
      "- Set the device for booster before call to inplace_predict.\n",
      "\n",
      "This warning will only be shown once.\n",
      "\n",
      "  return func(**kwargs)\n"
     ]
    },
    {
     "name": "stdout",
     "output_type": "stream",
     "text": [
      "[CV] END colsample_bytree=1.0, gamma=0.3, learning_rate=0.05, max_depth=3, n_estimators=100, subsample=0.6; total time= 4.8min\n"
     ]
    },
    {
     "name": "stderr",
     "output_type": "stream",
     "text": [
      "/opt/conda/lib/python3.11/site-packages/xgboost/core.py:729: UserWarning: [19:49:35] WARNING: /workspace/src/common/error_msg.cc:58: Falling back to prediction using DMatrix due to mismatched devices. This might lead to higher memory usage and slower performance. XGBoost is running on: cuda:0, while the input data is on: cpu.\n",
      "Potential solutions:\n",
      "- Use a data structure that matches the device ordinal in the booster.\n",
      "- Set the device for booster before call to inplace_predict.\n",
      "\n",
      "This warning will only be shown once.\n",
      "\n",
      "  return func(**kwargs)\n"
     ]
    },
    {
     "name": "stdout",
     "output_type": "stream",
     "text": [
      "[CV] END colsample_bytree=1.0, gamma=0.3, learning_rate=0.05, max_depth=3, n_estimators=100, subsample=0.6; total time= 4.8min\n",
      "[CV] END colsample_bytree=0.6, gamma=0.3, learning_rate=0.05, max_depth=5, n_estimators=100, subsample=0.8; total time= 6.6min\n",
      "[CV] END colsample_bytree=0.6, gamma=0.3, learning_rate=0.05, max_depth=5, n_estimators=100, subsample=0.8; total time= 6.7min\n",
      "[CV] END colsample_bytree=0.6, gamma=0.3, learning_rate=0.05, max_depth=5, n_estimators=100, subsample=0.8; total time= 6.7min\n",
      "[CV] END colsample_bytree=0.6, gamma=0.3, learning_rate=0.05, max_depth=5, n_estimators=100, subsample=0.8; total time= 6.7min\n",
      "[CV] END colsample_bytree=0.6, gamma=0.3, learning_rate=0.05, max_depth=5, n_estimators=100, subsample=0.8; total time= 6.7min\n",
      "[CV] END colsample_bytree=0.8, gamma=0.1, learning_rate=0.01, max_depth=2, n_estimators=200, subsample=0.6; total time= 9.4min\n",
      "[CV] END colsample_bytree=0.8, gamma=0.1, learning_rate=0.01, max_depth=2, n_estimators=200, subsample=0.6; total time= 9.4min\n",
      "[CV] END colsample_bytree=0.8, gamma=0.1, learning_rate=0.01, max_depth=2, n_estimators=200, subsample=0.6; total time= 9.4min\n",
      "[CV] END colsample_bytree=0.8, gamma=0.1, learning_rate=0.01, max_depth=2, n_estimators=200, subsample=0.6; total time= 9.4min\n",
      "[CV] END colsample_bytree=0.8, gamma=0.1, learning_rate=0.01, max_depth=2, n_estimators=200, subsample=0.6; total time= 9.4min\n",
      "[CV] END colsample_bytree=0.8, gamma=0, learning_rate=0.01, max_depth=8, n_estimators=150, subsample=0.8; total time=11.3min\n",
      "[CV] END colsample_bytree=0.8, gamma=0, learning_rate=0.01, max_depth=8, n_estimators=150, subsample=0.8; total time=11.3min\n",
      "[CV] END colsample_bytree=0.8, gamma=0, learning_rate=0.01, max_depth=8, n_estimators=150, subsample=0.8; total time=11.4min\n",
      "[CV] END colsample_bytree=0.8, gamma=0, learning_rate=0.01, max_depth=8, n_estimators=150, subsample=0.8; total time=11.4min\n",
      "[CV] END colsample_bytree=0.8, gamma=0, learning_rate=0.01, max_depth=8, n_estimators=150, subsample=0.8; total time=11.4min\n",
      "[CV] END colsample_bytree=0.6, gamma=0.3, learning_rate=0.2, max_depth=8, n_estimators=500, subsample=1.0; total time=14.4min\n",
      "[CV] END colsample_bytree=0.6, gamma=0.3, learning_rate=0.2, max_depth=8, n_estimators=500, subsample=1.0; total time=14.4min\n",
      "[CV] END colsample_bytree=0.6, gamma=0.3, learning_rate=0.2, max_depth=8, n_estimators=500, subsample=1.0; total time=12.7min\n",
      "[CV] END colsample_bytree=0.6, gamma=0.3, learning_rate=0.2, max_depth=8, n_estimators=500, subsample=1.0; total time=12.5min\n",
      "[CV] END colsample_bytree=0.6, gamma=0.3, learning_rate=0.2, max_depth=8, n_estimators=500, subsample=1.0; total time=12.4min\n"
     ]
    },
    {
     "name": "stderr",
     "output_type": "stream",
     "text": [
      "/opt/conda/lib/python3.11/site-packages/xgboost/core.py:729: UserWarning: [20:01:04] WARNING: /workspace/src/common/error_msg.cc:58: Falling back to prediction using DMatrix due to mismatched devices. This might lead to higher memory usage and slower performance. XGBoost is running on: cuda:0, while the input data is on: cpu.\n",
      "Potential solutions:\n",
      "- Use a data structure that matches the device ordinal in the booster.\n",
      "- Set the device for booster before call to inplace_predict.\n",
      "\n",
      "This warning will only be shown once.\n",
      "\n",
      "  return func(**kwargs)\n"
     ]
    },
    {
     "name": "stdout",
     "output_type": "stream",
     "text": [
      "[CV] END colsample_bytree=0.8, gamma=0, learning_rate=0.2, max_depth=8, n_estimators=500, subsample=0.8; total time=16.3min\n"
     ]
    },
    {
     "name": "stderr",
     "output_type": "stream",
     "text": [
      "/opt/conda/lib/python3.11/site-packages/xgboost/core.py:729: UserWarning: [20:01:05] WARNING: /workspace/src/common/error_msg.cc:58: Falling back to prediction using DMatrix due to mismatched devices. This might lead to higher memory usage and slower performance. XGBoost is running on: cuda:0, while the input data is on: cpu.\n",
      "Potential solutions:\n",
      "- Use a data structure that matches the device ordinal in the booster.\n",
      "- Set the device for booster before call to inplace_predict.\n",
      "\n",
      "This warning will only be shown once.\n",
      "\n",
      "  return func(**kwargs)\n"
     ]
    },
    {
     "name": "stdout",
     "output_type": "stream",
     "text": [
      "[CV] END colsample_bytree=0.8, gamma=0, learning_rate=0.2, max_depth=8, n_estimators=500, subsample=0.8; total time=16.3min\n",
      "[CV] END colsample_bytree=0.8, gamma=0, learning_rate=0.2, max_depth=8, n_estimators=500, subsample=0.8; total time=15.8min\n",
      "[CV] END colsample_bytree=0.8, gamma=0, learning_rate=0.2, max_depth=8, n_estimators=500, subsample=0.8; total time=15.8min\n",
      "[CV] END colsample_bytree=0.8, gamma=0, learning_rate=0.2, max_depth=8, n_estimators=500, subsample=0.8; total time=15.8min\n",
      "Training best XGBoost classifier...\n",
      "Making predictions...\n",
      "Accuracy: 90.28%\n",
      "---------------------------------------------------\n",
      "Computing for partition 3, balanced classes with 300 entries for each class and one hot encoded geodata\n",
      "Finding optimal hyperparameters...\n",
      "Fitting 5 folds for each of 10 candidates, totalling 50 fits\n",
      "[CV] END colsample_bytree=0.8, gamma=0.1, learning_rate=0.001, max_depth=11, n_estimators=10, subsample=0.8; total time=  14.8s\n",
      "[CV] END colsample_bytree=0.8, gamma=0.1, learning_rate=0.001, max_depth=11, n_estimators=10, subsample=0.8; total time=  14.9s\n",
      "[CV] END colsample_bytree=0.8, gamma=0.1, learning_rate=0.001, max_depth=11, n_estimators=10, subsample=0.8; total time=  15.1s\n",
      "[CV] END colsample_bytree=0.8, gamma=0.1, learning_rate=0.001, max_depth=11, n_estimators=10, subsample=0.8; total time=  15.1s\n",
      "[CV] END colsample_bytree=0.8, gamma=0.1, learning_rate=0.001, max_depth=11, n_estimators=10, subsample=0.8; total time=  15.1s\n"
     ]
    },
    {
     "name": "stderr",
     "output_type": "stream",
     "text": [
      "/opt/conda/lib/python3.11/site-packages/xgboost/core.py:729: UserWarning: [20:01:54] WARNING: /workspace/src/common/error_msg.cc:58: Falling back to prediction using DMatrix due to mismatched devices. This might lead to higher memory usage and slower performance. XGBoost is running on: cuda:0, while the input data is on: cpu.\n",
      "Potential solutions:\n",
      "- Use a data structure that matches the device ordinal in the booster.\n",
      "- Set the device for booster before call to inplace_predict.\n",
      "\n",
      "This warning will only be shown once.\n",
      "\n",
      "  return func(**kwargs)\n"
     ]
    },
    {
     "name": "stdout",
     "output_type": "stream",
     "text": [
      "[CV] END colsample_bytree=1.0, gamma=0.3, learning_rate=0.001, max_depth=11, n_estimators=5, subsample=0.6; total time=  37.4s\n"
     ]
    },
    {
     "name": "stderr",
     "output_type": "stream",
     "text": [
      "/opt/conda/lib/python3.11/site-packages/xgboost/core.py:729: UserWarning: [20:01:54] WARNING: /workspace/src/common/error_msg.cc:58: Falling back to prediction using DMatrix due to mismatched devices. This might lead to higher memory usage and slower performance. XGBoost is running on: cuda:0, while the input data is on: cpu.\n",
      "Potential solutions:\n",
      "- Use a data structure that matches the device ordinal in the booster.\n",
      "- Set the device for booster before call to inplace_predict.\n",
      "\n",
      "This warning will only be shown once.\n",
      "\n",
      "  return func(**kwargs)\n"
     ]
    },
    {
     "name": "stdout",
     "output_type": "stream",
     "text": [
      "[CV] END colsample_bytree=1.0, gamma=0.3, learning_rate=0.001, max_depth=11, n_estimators=5, subsample=0.6; total time=  38.1s\n"
     ]
    },
    {
     "name": "stderr",
     "output_type": "stream",
     "text": [
      "/opt/conda/lib/python3.11/site-packages/xgboost/core.py:729: UserWarning: [20:01:55] WARNING: /workspace/src/common/error_msg.cc:58: Falling back to prediction using DMatrix due to mismatched devices. This might lead to higher memory usage and slower performance. XGBoost is running on: cuda:0, while the input data is on: cpu.\n",
      "Potential solutions:\n",
      "- Use a data structure that matches the device ordinal in the booster.\n",
      "- Set the device for booster before call to inplace_predict.\n",
      "\n",
      "This warning will only be shown once.\n",
      "\n",
      "  return func(**kwargs)\n",
      "/opt/conda/lib/python3.11/site-packages/xgboost/core.py:729: UserWarning: [20:01:55] WARNING: /workspace/src/common/error_msg.cc:58: Falling back to prediction using DMatrix due to mismatched devices. This might lead to higher memory usage and slower performance. XGBoost is running on: cuda:0, while the input data is on: cpu.\n",
      "Potential solutions:\n",
      "- Use a data structure that matches the device ordinal in the booster.\n",
      "- Set the device for booster before call to inplace_predict.\n",
      "\n",
      "This warning will only be shown once.\n",
      "\n",
      "  return func(**kwargs)\n",
      "/opt/conda/lib/python3.11/site-packages/xgboost/core.py:729: UserWarning: [20:01:55] WARNING: /workspace/src/common/error_msg.cc:58: Falling back to prediction using DMatrix due to mismatched devices. This might lead to higher memory usage and slower performance. XGBoost is running on: cuda:0, while the input data is on: cpu.\n",
      "Potential solutions:\n",
      "- Use a data structure that matches the device ordinal in the booster.\n",
      "- Set the device for booster before call to inplace_predict.\n",
      "\n",
      "This warning will only be shown once.\n",
      "\n",
      "  return func(**kwargs)\n"
     ]
    },
    {
     "name": "stdout",
     "output_type": "stream",
     "text": [
      "[CV] END colsample_bytree=1.0, gamma=0.3, learning_rate=0.001, max_depth=11, n_estimators=5, subsample=0.6; total time=  38.4s\n",
      "[CV] END colsample_bytree=1.0, gamma=0.3, learning_rate=0.001, max_depth=11, n_estimators=5, subsample=0.6; total time=  38.4s\n",
      "[CV] END colsample_bytree=1.0, gamma=0.3, learning_rate=0.001, max_depth=11, n_estimators=5, subsample=0.6; total time=  38.4s\n"
     ]
    },
    {
     "name": "stderr",
     "output_type": "stream",
     "text": [
      "/opt/conda/lib/python3.11/site-packages/xgboost/core.py:729: UserWarning: [20:06:01] WARNING: /workspace/src/common/error_msg.cc:58: Falling back to prediction using DMatrix due to mismatched devices. This might lead to higher memory usage and slower performance. XGBoost is running on: cuda:0, while the input data is on: cpu.\n",
      "Potential solutions:\n",
      "- Use a data structure that matches the device ordinal in the booster.\n",
      "- Set the device for booster before call to inplace_predict.\n",
      "\n",
      "This warning will only be shown once.\n",
      "\n",
      "  return func(**kwargs)\n",
      "/opt/conda/lib/python3.11/site-packages/xgboost/core.py:729: UserWarning: [20:06:02] WARNING: /workspace/src/common/error_msg.cc:58: Falling back to prediction using DMatrix due to mismatched devices. This might lead to higher memory usage and slower performance. XGBoost is running on: cuda:0, while the input data is on: cpu.\n",
      "Potential solutions:\n",
      "- Use a data structure that matches the device ordinal in the booster.\n",
      "- Set the device for booster before call to inplace_predict.\n",
      "\n",
      "This warning will only be shown once.\n",
      "\n",
      "  return func(**kwargs)\n"
     ]
    },
    {
     "name": "stdout",
     "output_type": "stream",
     "text": [
      "[CV] END colsample_bytree=0.6, gamma=0, learning_rate=0.05, max_depth=12, n_estimators=50, subsample=0.8; total time= 4.8min\n",
      "[CV] END colsample_bytree=0.6, gamma=0, learning_rate=0.05, max_depth=12, n_estimators=50, subsample=0.8; total time= 4.8min\n"
     ]
    },
    {
     "name": "stderr",
     "output_type": "stream",
     "text": [
      "/opt/conda/lib/python3.11/site-packages/xgboost/core.py:729: UserWarning: [20:06:02] WARNING: /workspace/src/common/error_msg.cc:58: Falling back to prediction using DMatrix due to mismatched devices. This might lead to higher memory usage and slower performance. XGBoost is running on: cuda:0, while the input data is on: cpu.\n",
      "Potential solutions:\n",
      "- Use a data structure that matches the device ordinal in the booster.\n",
      "- Set the device for booster before call to inplace_predict.\n",
      "\n",
      "This warning will only be shown once.\n",
      "\n",
      "  return func(**kwargs)\n"
     ]
    },
    {
     "name": "stdout",
     "output_type": "stream",
     "text": [
      "[CV] END colsample_bytree=0.6, gamma=0, learning_rate=0.05, max_depth=12, n_estimators=50, subsample=0.8; total time= 4.8min\n"
     ]
    },
    {
     "name": "stderr",
     "output_type": "stream",
     "text": [
      "/opt/conda/lib/python3.11/site-packages/xgboost/core.py:729: UserWarning: [20:06:03] WARNING: /workspace/src/common/error_msg.cc:58: Falling back to prediction using DMatrix due to mismatched devices. This might lead to higher memory usage and slower performance. XGBoost is running on: cuda:0, while the input data is on: cpu.\n",
      "Potential solutions:\n",
      "- Use a data structure that matches the device ordinal in the booster.\n",
      "- Set the device for booster before call to inplace_predict.\n",
      "\n",
      "This warning will only be shown once.\n",
      "\n",
      "  return func(**kwargs)\n"
     ]
    },
    {
     "name": "stdout",
     "output_type": "stream",
     "text": [
      "[CV] END colsample_bytree=0.6, gamma=0, learning_rate=0.05, max_depth=12, n_estimators=50, subsample=0.8; total time= 4.8min\n"
     ]
    },
    {
     "name": "stderr",
     "output_type": "stream",
     "text": [
      "/opt/conda/lib/python3.11/site-packages/xgboost/core.py:729: UserWarning: [20:06:04] WARNING: /workspace/src/common/error_msg.cc:58: Falling back to prediction using DMatrix due to mismatched devices. This might lead to higher memory usage and slower performance. XGBoost is running on: cuda:0, while the input data is on: cpu.\n",
      "Potential solutions:\n",
      "- Use a data structure that matches the device ordinal in the booster.\n",
      "- Set the device for booster before call to inplace_predict.\n",
      "\n",
      "This warning will only be shown once.\n",
      "\n",
      "  return func(**kwargs)\n"
     ]
    },
    {
     "name": "stdout",
     "output_type": "stream",
     "text": [
      "[CV] END colsample_bytree=0.6, gamma=0, learning_rate=0.05, max_depth=12, n_estimators=50, subsample=0.8; total time= 4.8min\n"
     ]
    },
    {
     "name": "stderr",
     "output_type": "stream",
     "text": [
      "/opt/conda/lib/python3.11/site-packages/xgboost/core.py:729: UserWarning: [20:07:06] WARNING: /workspace/src/common/error_msg.cc:58: Falling back to prediction using DMatrix due to mismatched devices. This might lead to higher memory usage and slower performance. XGBoost is running on: cuda:0, while the input data is on: cpu.\n",
      "Potential solutions:\n",
      "- Use a data structure that matches the device ordinal in the booster.\n",
      "- Set the device for booster before call to inplace_predict.\n",
      "\n",
      "This warning will only be shown once.\n",
      "\n",
      "  return func(**kwargs)\n"
     ]
    },
    {
     "name": "stdout",
     "output_type": "stream",
     "text": [
      "[CV] END colsample_bytree=1.0, gamma=0.3, learning_rate=0.1, max_depth=9, n_estimators=100, subsample=0.6; total time= 5.8min\n"
     ]
    },
    {
     "name": "stderr",
     "output_type": "stream",
     "text": [
      "/opt/conda/lib/python3.11/site-packages/xgboost/core.py:729: UserWarning: [20:07:08] WARNING: /workspace/src/common/error_msg.cc:58: Falling back to prediction using DMatrix due to mismatched devices. This might lead to higher memory usage and slower performance. XGBoost is running on: cuda:0, while the input data is on: cpu.\n",
      "Potential solutions:\n",
      "- Use a data structure that matches the device ordinal in the booster.\n",
      "- Set the device for booster before call to inplace_predict.\n",
      "\n",
      "This warning will only be shown once.\n",
      "\n",
      "  return func(**kwargs)\n"
     ]
    },
    {
     "name": "stdout",
     "output_type": "stream",
     "text": [
      "[CV] END colsample_bytree=1.0, gamma=0.3, learning_rate=0.1, max_depth=9, n_estimators=100, subsample=0.6; total time= 5.9min\n"
     ]
    },
    {
     "name": "stderr",
     "output_type": "stream",
     "text": [
      "/opt/conda/lib/python3.11/site-packages/xgboost/core.py:729: UserWarning: [20:07:09] WARNING: /workspace/src/common/error_msg.cc:58: Falling back to prediction using DMatrix due to mismatched devices. This might lead to higher memory usage and slower performance. XGBoost is running on: cuda:0, while the input data is on: cpu.\n",
      "Potential solutions:\n",
      "- Use a data structure that matches the device ordinal in the booster.\n",
      "- Set the device for booster before call to inplace_predict.\n",
      "\n",
      "This warning will only be shown once.\n",
      "\n",
      "  return func(**kwargs)\n"
     ]
    },
    {
     "name": "stdout",
     "output_type": "stream",
     "text": [
      "[CV] END colsample_bytree=1.0, gamma=0.3, learning_rate=0.1, max_depth=9, n_estimators=100, subsample=0.6; total time= 5.9min\n"
     ]
    },
    {
     "name": "stderr",
     "output_type": "stream",
     "text": [
      "/opt/conda/lib/python3.11/site-packages/xgboost/core.py:729: UserWarning: [20:07:10] WARNING: /workspace/src/common/error_msg.cc:58: Falling back to prediction using DMatrix due to mismatched devices. This might lead to higher memory usage and slower performance. XGBoost is running on: cuda:0, while the input data is on: cpu.\n",
      "Potential solutions:\n",
      "- Use a data structure that matches the device ordinal in the booster.\n",
      "- Set the device for booster before call to inplace_predict.\n",
      "\n",
      "This warning will only be shown once.\n",
      "\n",
      "  return func(**kwargs)\n"
     ]
    },
    {
     "name": "stdout",
     "output_type": "stream",
     "text": [
      "[CV] END colsample_bytree=1.0, gamma=0.3, learning_rate=0.1, max_depth=9, n_estimators=100, subsample=0.6; total time= 5.9min\n"
     ]
    },
    {
     "name": "stderr",
     "output_type": "stream",
     "text": [
      "/opt/conda/lib/python3.11/site-packages/xgboost/core.py:729: UserWarning: [20:07:11] WARNING: /workspace/src/common/error_msg.cc:58: Falling back to prediction using DMatrix due to mismatched devices. This might lead to higher memory usage and slower performance. XGBoost is running on: cuda:0, while the input data is on: cpu.\n",
      "Potential solutions:\n",
      "- Use a data structure that matches the device ordinal in the booster.\n",
      "- Set the device for booster before call to inplace_predict.\n",
      "\n",
      "This warning will only be shown once.\n",
      "\n",
      "  return func(**kwargs)\n"
     ]
    },
    {
     "name": "stdout",
     "output_type": "stream",
     "text": [
      "[CV] END colsample_bytree=1.0, gamma=0.3, learning_rate=0.1, max_depth=9, n_estimators=100, subsample=0.6; total time= 5.9min\n",
      "[CV] END colsample_bytree=0.8, gamma=0.3, learning_rate=0.1, max_depth=7, n_estimators=100, subsample=1.0; total time= 5.6min\n",
      "[CV] END colsample_bytree=0.8, gamma=0.3, learning_rate=0.1, max_depth=7, n_estimators=100, subsample=1.0; total time= 5.6min\n",
      "[CV] END colsample_bytree=0.8, gamma=0.1, learning_rate=0.001, max_depth=5, n_estimators=200, subsample=0.8; total time=10.7min\n",
      "[CV] END colsample_bytree=0.8, gamma=0.3, learning_rate=0.1, max_depth=7, n_estimators=100, subsample=1.0; total time= 5.4min\n",
      "[CV] END colsample_bytree=0.8, gamma=0.3, learning_rate=0.1, max_depth=7, n_estimators=100, subsample=1.0; total time= 5.5min\n",
      "[CV] END colsample_bytree=0.8, gamma=0.3, learning_rate=0.1, max_depth=7, n_estimators=100, subsample=1.0; total time= 5.4min\n",
      "[CV] END colsample_bytree=0.8, gamma=0.1, learning_rate=0.001, max_depth=5, n_estimators=200, subsample=0.8; total time=11.4min\n",
      "[CV] END colsample_bytree=0.8, gamma=0.1, learning_rate=0.001, max_depth=5, n_estimators=200, subsample=0.8; total time=11.5min\n",
      "[CV] END colsample_bytree=0.8, gamma=0.1, learning_rate=0.001, max_depth=5, n_estimators=200, subsample=0.8; total time=11.5min\n",
      "[CV] END colsample_bytree=0.8, gamma=0.1, learning_rate=0.001, max_depth=5, n_estimators=200, subsample=0.8; total time=11.5min\n",
      "[CV] END colsample_bytree=0.6, gamma=0.3, learning_rate=0.05, max_depth=8, n_estimators=200, subsample=0.6; total time=11.7min\n"
     ]
    },
    {
     "name": "stderr",
     "output_type": "stream",
     "text": [
      "/opt/conda/lib/python3.11/site-packages/xgboost/core.py:729: UserWarning: [20:13:12] WARNING: /workspace/src/common/error_msg.cc:58: Falling back to prediction using DMatrix due to mismatched devices. This might lead to higher memory usage and slower performance. XGBoost is running on: cuda:0, while the input data is on: cpu.\n",
      "Potential solutions:\n",
      "- Use a data structure that matches the device ordinal in the booster.\n",
      "- Set the device for booster before call to inplace_predict.\n",
      "\n",
      "This warning will only be shown once.\n",
      "\n",
      "  return func(**kwargs)\n"
     ]
    },
    {
     "name": "stdout",
     "output_type": "stream",
     "text": [
      "[CV] END colsample_bytree=0.6, gamma=0, learning_rate=0.01, max_depth=9, n_estimators=150, subsample=1.0; total time=11.9min\n",
      "[CV] END colsample_bytree=0.6, gamma=0.3, learning_rate=0.05, max_depth=8, n_estimators=200, subsample=0.6; total time=11.7min\n",
      "[CV] END colsample_bytree=0.6, gamma=0.3, learning_rate=0.05, max_depth=8, n_estimators=200, subsample=0.6; total time=11.7min\n"
     ]
    },
    {
     "name": "stderr",
     "output_type": "stream",
     "text": [
      "/opt/conda/lib/python3.11/site-packages/xgboost/core.py:729: UserWarning: [20:13:15] WARNING: /workspace/src/common/error_msg.cc:58: Falling back to prediction using DMatrix due to mismatched devices. This might lead to higher memory usage and slower performance. XGBoost is running on: cuda:0, while the input data is on: cpu.\n",
      "Potential solutions:\n",
      "- Use a data structure that matches the device ordinal in the booster.\n",
      "- Set the device for booster before call to inplace_predict.\n",
      "\n",
      "This warning will only be shown once.\n",
      "\n",
      "  return func(**kwargs)\n"
     ]
    },
    {
     "name": "stdout",
     "output_type": "stream",
     "text": [
      "[CV] END colsample_bytree=0.6, gamma=0, learning_rate=0.01, max_depth=9, n_estimators=150, subsample=1.0; total time=12.0min\n"
     ]
    },
    {
     "name": "stderr",
     "output_type": "stream",
     "text": [
      "/opt/conda/lib/python3.11/site-packages/xgboost/core.py:729: UserWarning: [20:13:15] WARNING: /workspace/src/common/error_msg.cc:58: Falling back to prediction using DMatrix due to mismatched devices. This might lead to higher memory usage and slower performance. XGBoost is running on: cuda:0, while the input data is on: cpu.\n",
      "Potential solutions:\n",
      "- Use a data structure that matches the device ordinal in the booster.\n",
      "- Set the device for booster before call to inplace_predict.\n",
      "\n",
      "This warning will only be shown once.\n",
      "\n",
      "  return func(**kwargs)\n"
     ]
    },
    {
     "name": "stdout",
     "output_type": "stream",
     "text": [
      "[CV] END colsample_bytree=0.6, gamma=0, learning_rate=0.01, max_depth=9, n_estimators=150, subsample=1.0; total time=12.0min\n"
     ]
    },
    {
     "name": "stderr",
     "output_type": "stream",
     "text": [
      "/opt/conda/lib/python3.11/site-packages/xgboost/core.py:729: UserWarning: [20:13:16] WARNING: /workspace/src/common/error_msg.cc:58: Falling back to prediction using DMatrix due to mismatched devices. This might lead to higher memory usage and slower performance. XGBoost is running on: cuda:0, while the input data is on: cpu.\n",
      "Potential solutions:\n",
      "- Use a data structure that matches the device ordinal in the booster.\n",
      "- Set the device for booster before call to inplace_predict.\n",
      "\n",
      "This warning will only be shown once.\n",
      "\n",
      "  return func(**kwargs)\n"
     ]
    },
    {
     "name": "stdout",
     "output_type": "stream",
     "text": [
      "[CV] END colsample_bytree=0.6, gamma=0, learning_rate=0.01, max_depth=9, n_estimators=150, subsample=1.0; total time=12.0min\n"
     ]
    },
    {
     "name": "stderr",
     "output_type": "stream",
     "text": [
      "/opt/conda/lib/python3.11/site-packages/xgboost/core.py:729: UserWarning: [20:13:17] WARNING: /workspace/src/common/error_msg.cc:58: Falling back to prediction using DMatrix due to mismatched devices. This might lead to higher memory usage and slower performance. XGBoost is running on: cuda:0, while the input data is on: cpu.\n",
      "Potential solutions:\n",
      "- Use a data structure that matches the device ordinal in the booster.\n",
      "- Set the device for booster before call to inplace_predict.\n",
      "\n",
      "This warning will only be shown once.\n",
      "\n",
      "  return func(**kwargs)\n"
     ]
    },
    {
     "name": "stdout",
     "output_type": "stream",
     "text": [
      "[CV] END colsample_bytree=0.6, gamma=0, learning_rate=0.01, max_depth=9, n_estimators=150, subsample=1.0; total time=12.0min\n"
     ]
    },
    {
     "name": "stderr",
     "output_type": "stream",
     "text": [
      "/opt/conda/lib/python3.11/site-packages/xgboost/core.py:729: UserWarning: [20:13:18] WARNING: /workspace/src/common/error_msg.cc:58: Falling back to prediction using DMatrix due to mismatched devices. This might lead to higher memory usage and slower performance. XGBoost is running on: cuda:0, while the input data is on: cpu.\n",
      "Potential solutions:\n",
      "- Use a data structure that matches the device ordinal in the booster.\n",
      "- Set the device for booster before call to inplace_predict.\n",
      "\n",
      "This warning will only be shown once.\n",
      "\n",
      "  return func(**kwargs)\n"
     ]
    },
    {
     "name": "stdout",
     "output_type": "stream",
     "text": [
      "[CV] END colsample_bytree=0.6, gamma=0.3, learning_rate=0.05, max_depth=8, n_estimators=200, subsample=0.6; total time=12.0min\n"
     ]
    },
    {
     "name": "stderr",
     "output_type": "stream",
     "text": [
      "/opt/conda/lib/python3.11/site-packages/xgboost/core.py:729: UserWarning: [20:13:19] WARNING: /workspace/src/common/error_msg.cc:58: Falling back to prediction using DMatrix due to mismatched devices. This might lead to higher memory usage and slower performance. XGBoost is running on: cuda:0, while the input data is on: cpu.\n",
      "Potential solutions:\n",
      "- Use a data structure that matches the device ordinal in the booster.\n",
      "- Set the device for booster before call to inplace_predict.\n",
      "\n",
      "This warning will only be shown once.\n",
      "\n",
      "  return func(**kwargs)\n"
     ]
    },
    {
     "name": "stdout",
     "output_type": "stream",
     "text": [
      "[CV] END colsample_bytree=0.6, gamma=0.3, learning_rate=0.05, max_depth=8, n_estimators=200, subsample=0.6; total time=12.0min\n",
      "[CV] END colsample_bytree=1.0, gamma=0.1, learning_rate=0.1, max_depth=4, n_estimators=300, subsample=0.6; total time=11.5min\n",
      "[CV] END colsample_bytree=1.0, gamma=0.1, learning_rate=0.1, max_depth=4, n_estimators=300, subsample=0.6; total time=11.5min\n",
      "[CV] END colsample_bytree=1.0, gamma=0.1, learning_rate=0.1, max_depth=4, n_estimators=300, subsample=0.6; total time= 8.3min\n",
      "[CV] END colsample_bytree=1.0, gamma=0.1, learning_rate=0.1, max_depth=4, n_estimators=300, subsample=0.6; total time= 8.3min\n",
      "[CV] END colsample_bytree=1.0, gamma=0.1, learning_rate=0.1, max_depth=4, n_estimators=300, subsample=0.6; total time= 8.3min\n",
      "[CV] END colsample_bytree=1.0, gamma=0, learning_rate=0.01, max_depth=7, n_estimators=300, subsample=0.8; total time=13.3min\n",
      "[CV] END colsample_bytree=1.0, gamma=0, learning_rate=0.01, max_depth=7, n_estimators=300, subsample=0.8; total time=13.3min\n",
      "[CV] END colsample_bytree=1.0, gamma=0, learning_rate=0.01, max_depth=7, n_estimators=300, subsample=0.8; total time=12.9min\n",
      "[CV] END colsample_bytree=1.0, gamma=0, learning_rate=0.01, max_depth=7, n_estimators=300, subsample=0.8; total time=12.9min\n",
      "[CV] END colsample_bytree=1.0, gamma=0, learning_rate=0.01, max_depth=7, n_estimators=300, subsample=0.8; total time=12.9min\n",
      "Training best XGBoost classifier...\n",
      "Making predictions...\n",
      "Accuracy: 92.78%\n",
      "---------------------------------------------------\n",
      "Computing for partition 4, balanced classes with 478 entries for each class and one hot encoded geodata\n",
      "Finding optimal hyperparameters...\n",
      "Fitting 5 folds for each of 10 candidates, totalling 50 fits\n",
      "[CV] END colsample_bytree=0.6, gamma=0.3, learning_rate=0.01, max_depth=4, n_estimators=20, subsample=0.6; total time= 1.2min\n",
      "[CV] END colsample_bytree=0.6, gamma=0.3, learning_rate=0.01, max_depth=4, n_estimators=20, subsample=0.6; total time= 1.2min\n",
      "[CV] END colsample_bytree=0.6, gamma=0.3, learning_rate=0.01, max_depth=4, n_estimators=20, subsample=0.6; total time= 1.2min\n",
      "[CV] END colsample_bytree=0.6, gamma=0.3, learning_rate=0.01, max_depth=4, n_estimators=20, subsample=0.6; total time= 1.2min\n",
      "[CV] END colsample_bytree=0.6, gamma=0.3, learning_rate=0.01, max_depth=4, n_estimators=20, subsample=0.6; total time= 1.2min\n",
      "[CV] END colsample_bytree=1.0, gamma=0, learning_rate=0.1, max_depth=6, n_estimators=100, subsample=1.0; total time= 6.3min\n",
      "[CV] END colsample_bytree=1.0, gamma=0, learning_rate=0.1, max_depth=6, n_estimators=100, subsample=1.0; total time= 6.3min\n",
      "[CV] END colsample_bytree=1.0, gamma=0, learning_rate=0.1, max_depth=6, n_estimators=100, subsample=1.0; total time= 6.3min\n",
      "[CV] END colsample_bytree=1.0, gamma=0, learning_rate=0.1, max_depth=6, n_estimators=100, subsample=1.0; total time= 6.3min\n",
      "[CV] END colsample_bytree=1.0, gamma=0, learning_rate=0.1, max_depth=6, n_estimators=100, subsample=1.0; total time= 6.3min\n",
      "[CV] END colsample_bytree=0.6, gamma=0.3, learning_rate=0.1, max_depth=9, n_estimators=100, subsample=1.0; total time= 6.7min\n",
      "[CV] END colsample_bytree=0.6, gamma=0.3, learning_rate=0.1, max_depth=9, n_estimators=100, subsample=1.0; total time= 6.7min\n",
      "[CV] END colsample_bytree=0.6, gamma=0.3, learning_rate=0.1, max_depth=9, n_estimators=100, subsample=1.0; total time= 6.7min\n",
      "[CV] END colsample_bytree=0.6, gamma=0.3, learning_rate=0.1, max_depth=9, n_estimators=100, subsample=1.0; total time= 6.7min\n",
      "[CV] END colsample_bytree=0.6, gamma=0.3, learning_rate=0.1, max_depth=9, n_estimators=100, subsample=1.0; total time= 6.8min\n",
      "[CV] END colsample_bytree=0.6, gamma=0.3, learning_rate=0.2, max_depth=12, n_estimators=5, subsample=0.6; total time=  26.5s\n",
      "[CV] END colsample_bytree=0.6, gamma=0.3, learning_rate=0.2, max_depth=12, n_estimators=5, subsample=0.6; total time=  26.3s\n",
      "[CV] END colsample_bytree=0.6, gamma=0.3, learning_rate=0.2, max_depth=12, n_estimators=5, subsample=0.6; total time=  26.3s\n",
      "[CV] END colsample_bytree=0.6, gamma=0.3, learning_rate=0.2, max_depth=12, n_estimators=5, subsample=0.6; total time=  26.3s\n",
      "[CV] END colsample_bytree=0.6, gamma=0.3, learning_rate=0.2, max_depth=12, n_estimators=5, subsample=0.6; total time=  25.8s\n",
      "[CV] END colsample_bytree=0.8, gamma=0.3, learning_rate=0.2, max_depth=1, n_estimators=200, subsample=1.0; total time= 6.9min\n",
      "[CV] END colsample_bytree=0.8, gamma=0.3, learning_rate=0.2, max_depth=1, n_estimators=200, subsample=1.0; total time= 6.9min\n",
      "[CV] END colsample_bytree=0.6, gamma=0, learning_rate=0.01, max_depth=11, n_estimators=100, subsample=0.8; total time= 8.8min\n",
      "[CV] END colsample_bytree=0.6, gamma=0, learning_rate=0.01, max_depth=11, n_estimators=100, subsample=0.8; total time= 8.9min\n",
      "[CV] END colsample_bytree=0.6, gamma=0, learning_rate=0.01, max_depth=11, n_estimators=100, subsample=0.8; total time= 8.9min\n",
      "[CV] END colsample_bytree=0.6, gamma=0, learning_rate=0.01, max_depth=11, n_estimators=100, subsample=0.8; total time= 8.9min\n",
      "[CV] END colsample_bytree=0.6, gamma=0, learning_rate=0.01, max_depth=11, n_estimators=100, subsample=0.8; total time= 8.9min\n",
      "[CV] END colsample_bytree=0.8, gamma=0, learning_rate=0.1, max_depth=6, n_estimators=150, subsample=0.6; total time= 9.4min\n",
      "[CV] END colsample_bytree=0.8, gamma=0, learning_rate=0.1, max_depth=6, n_estimators=150, subsample=0.6; total time= 9.5min\n",
      "[CV] END colsample_bytree=0.8, gamma=0, learning_rate=0.1, max_depth=6, n_estimators=150, subsample=0.6; total time= 9.5min\n",
      "[CV] END colsample_bytree=0.8, gamma=0, learning_rate=0.1, max_depth=6, n_estimators=150, subsample=0.6; total time= 9.5min\n",
      "[CV] END colsample_bytree=0.8, gamma=0, learning_rate=0.1, max_depth=6, n_estimators=150, subsample=0.6; total time= 9.5min\n",
      "[CV] END colsample_bytree=0.8, gamma=0, learning_rate=0.05, max_depth=9, n_estimators=150, subsample=1.0; total time=11.0min\n",
      "[CV] END colsample_bytree=0.8, gamma=0, learning_rate=0.05, max_depth=9, n_estimators=150, subsample=1.0; total time=11.0min\n",
      "[CV] END colsample_bytree=0.8, gamma=0, learning_rate=0.05, max_depth=9, n_estimators=150, subsample=1.0; total time=11.0min\n",
      "[CV] END colsample_bytree=0.8, gamma=0, learning_rate=0.05, max_depth=9, n_estimators=150, subsample=1.0; total time=11.0min\n",
      "[CV] END colsample_bytree=0.8, gamma=0, learning_rate=0.05, max_depth=9, n_estimators=150, subsample=1.0; total time=11.0min\n",
      "[CV] END colsample_bytree=0.8, gamma=0.3, learning_rate=0.2, max_depth=1, n_estimators=200, subsample=1.0; total time= 4.9min\n",
      "[CV] END colsample_bytree=0.8, gamma=0.3, learning_rate=0.2, max_depth=1, n_estimators=200, subsample=1.0; total time= 4.9min\n",
      "[CV] END colsample_bytree=0.8, gamma=0.3, learning_rate=0.2, max_depth=1, n_estimators=200, subsample=1.0; total time= 4.9min\n"
     ]
    },
    {
     "name": "stderr",
     "output_type": "stream",
     "text": [
      "/opt/conda/lib/python3.11/site-packages/xgboost/core.py:729: UserWarning: [20:26:16] WARNING: /workspace/src/common/error_msg.cc:58: Falling back to prediction using DMatrix due to mismatched devices. This might lead to higher memory usage and slower performance. XGBoost is running on: cuda:0, while the input data is on: cpu.\n",
      "Potential solutions:\n",
      "- Use a data structure that matches the device ordinal in the booster.\n",
      "- Set the device for booster before call to inplace_predict.\n",
      "\n",
      "This warning will only be shown once.\n",
      "\n",
      "  return func(**kwargs)\n"
     ]
    },
    {
     "name": "stdout",
     "output_type": "stream",
     "text": [
      "[CV] END colsample_bytree=0.8, gamma=0.1, learning_rate=0.05, max_depth=6, n_estimators=200, subsample=0.6; total time=11.3min\n"
     ]
    },
    {
     "name": "stderr",
     "output_type": "stream",
     "text": [
      "/opt/conda/lib/python3.11/site-packages/xgboost/core.py:729: UserWarning: [20:26:17] WARNING: /workspace/src/common/error_msg.cc:58: Falling back to prediction using DMatrix due to mismatched devices. This might lead to higher memory usage and slower performance. XGBoost is running on: cuda:0, while the input data is on: cpu.\n",
      "Potential solutions:\n",
      "- Use a data structure that matches the device ordinal in the booster.\n",
      "- Set the device for booster before call to inplace_predict.\n",
      "\n",
      "This warning will only be shown once.\n",
      "\n",
      "  return func(**kwargs)\n"
     ]
    },
    {
     "name": "stdout",
     "output_type": "stream",
     "text": [
      "[CV] END colsample_bytree=0.8, gamma=0.1, learning_rate=0.05, max_depth=6, n_estimators=200, subsample=0.6; total time=11.3min\n",
      "[CV] END colsample_bytree=0.8, gamma=0.1, learning_rate=0.05, max_depth=6, n_estimators=200, subsample=0.6; total time=10.4min\n",
      "[CV] END colsample_bytree=0.8, gamma=0.1, learning_rate=0.05, max_depth=6, n_estimators=200, subsample=0.6; total time=10.4min\n",
      "[CV] END colsample_bytree=0.8, gamma=0.1, learning_rate=0.05, max_depth=6, n_estimators=200, subsample=0.6; total time=10.4min\n",
      "[CV] END colsample_bytree=0.6, gamma=0, learning_rate=0.1, max_depth=2, n_estimators=200, subsample=0.8; total time= 5.3min\n",
      "[CV] END colsample_bytree=0.6, gamma=0, learning_rate=0.1, max_depth=2, n_estimators=200, subsample=0.8; total time= 5.3min\n",
      "[CV] END colsample_bytree=0.6, gamma=0, learning_rate=0.1, max_depth=2, n_estimators=200, subsample=0.8; total time= 5.0min\n",
      "[CV] END colsample_bytree=0.6, gamma=0, learning_rate=0.1, max_depth=2, n_estimators=200, subsample=0.8; total time= 5.0min\n",
      "[CV] END colsample_bytree=0.6, gamma=0, learning_rate=0.1, max_depth=2, n_estimators=200, subsample=0.8; total time= 5.0min\n",
      "Training best XGBoost classifier...\n",
      "Making predictions...\n",
      "Accuracy: 92.78%\n",
      "---------------------------------------------------\n"
     ]
    }
   ],
   "source": [
    "models = []\n",
    "accuracies = []\n",
    "predictions = []\n",
    "truths = []\n",
    "probas = []\n",
    "times_partition = []\n",
    "n = [100, 200, 300, 478]\n",
    "for i, path in enumerate(trainpaths):\n",
    "    print(f'Computing for partition {i+1}, balanced classes with {n[i]} entries for each class and geodata')\n",
    "\n",
    "    # run classifier on data\n",
    "    rfc, accuracy, y_pred_rfc, labels, proba, times = main(trainpaths[i], testpaths[i])\n",
    "\n",
    "    #  saving models, accuracies, predictions, and truths in case we need it for statistics later\n",
    "    models.append(rfc)\n",
    "    accuracies.append(accuracy)\n",
    "    predictions.append(y_pred_rfc)\n",
    "    truths.append(labels)\n",
    "    probas.append(proba)\n",
    "    times_partition.append(times)\n",
    "\n",
    "    print(\"---------------------------------------------------\")"
   ]
  },
  {
   "cell_type": "code",
   "execution_count": 7,
   "metadata": {},
   "outputs": [
    {
     "name": "stdout",
     "output_type": "stream",
     "text": [
      "Partition 1 decoded: 900 predictions\n",
      "Partition 2 decoded: 1800 predictions\n",
      "Partition 3 decoded: 2700 predictions\n",
      "Partition 4 decoded: 4320 predictions\n"
     ]
    }
   ],
   "source": [
    "from sklearn.preprocessing import LabelEncoder\n",
    "\n",
    "tests = ['test100', 'test200', 'test300', 'test478']\n",
    "testdir = '../../../../data/top30groups/LongLatCombined/test1'\n",
    "testpaths = [f'{testdir}/{t}.csv' for t in tests]\n",
    "\n",
    "decoded_preds_all = []\n",
    "decoded_truths_all = []\n",
    "label_encoders = []\n",
    "\n",
    "for i in range(len(testpaths)):\n",
    "    # Read test file\n",
    "    df_test = pd.read_csv(testpaths[i], encoding=\"ISO-8859-1\")\n",
    "\n",
    "    # Fit label encoder on true labels\n",
    "    le = LabelEncoder()\n",
    "    le.fit(df_test[\"gname\"])\n",
    "    label_encoders.append(le)\n",
    "\n",
    "    # Decode y_pred and y_test for this partition\n",
    "    decoded_preds = le.inverse_transform(predictions[i])\n",
    "    decoded_truths = le.inverse_transform(truths[i])\n",
    "\n",
    "    # Store decoded labels\n",
    "    decoded_preds_all.append(decoded_preds)\n",
    "    decoded_truths_all.append(decoded_truths)\n",
    "\n",
    "    print(f\"Partition {i+1} decoded: {len(decoded_preds)} predictions\")\n",
    "\n",
    "# Now you can use decoded_preds_all[i] and decoded_truths_all[i] for confusion matrix etc.\n"
   ]
  },
  {
   "cell_type": "code",
   "execution_count": 8,
   "metadata": {},
   "outputs": [],
   "source": [
    "import os\n",
    "from sklearn.metrics import roc_auc_score\n",
    "# Make sure the directory exists\n",
    "os.makedirs(\"Results\", exist_ok=True)\n",
    "\n",
    "with open(\"Results/gb_top30_LongLatCombined.txt\", \"w\") as f:\n",
    "    for i in range(len(trainpaths)):\n",
    "        f.write(f\"Partition {i+1} - {n[i]} samples per class, without geograpgical data except long/lat\\n\")\n",
    "        f.write(f\"Precision weighted: {precision_score(decoded_truths_all[i], decoded_preds_all[i], average='weighted'):.4f}\\n\")\n",
    "        f.write(f\"Precision macro: {precision_score(decoded_truths_all[i], decoded_preds_all[i], average='macro'):.4f}\\n\")\n",
    "        f.write(f\"Precision micro: {precision_score(decoded_truths_all[i], decoded_preds_all[i], average='micro'):.4f}\\n\")\n",
    "        f.write(f\"Recall weighted: {recall_score(decoded_truths_all[i], decoded_preds_all[i], average='weighted'):.4f}\\n\")\n",
    "        f.write(f\"Recall macro: {recall_score(decoded_truths_all[i], decoded_preds_all[i], average='macro'):.4f}\\n\")\n",
    "        f.write(f\"Recall micro: {recall_score(decoded_truths_all[i], decoded_preds_all[i], average='micro'):.4f}\\n\")\n",
    "        f.write(f\"F1 Score weighted: {f1_score(decoded_truths_all[i], decoded_preds_all[i], average='weighted'):.4f}\\n\")\n",
    "        f.write(f\"F1 Score macro: {f1_score(decoded_truths_all[i], decoded_preds_all[i], average='macro'):.4f}\\n\")\n",
    "        f.write(f\"F1 Score micro: {f1_score(decoded_truths_all[i], decoded_preds_all[i], average='micro'):.4f}\\n\")\n",
    "        f.write(f\"roc auc weighted: {roc_auc_score(decoded_truths_all[i], multi_class='ovr', probas[i], average='weighted'):.4f}\\n\")\n",
    "        f.write(f\"roc auc macro: {roc_auc_score(decoded_truths_all[i], multi_class='ovr', probas[i], average='macro'):.4f}\\n\")\n",
    "        f.write(f\"roc auc micro: {roc_auc_score(decoded_truths_all[i], multi_class='ovr', probas[i], average='micro'):.4f}\\n\")\n",
    "        f.write(\"---------------------------------------------------\\n\")"
   ]
  },
  {
   "cell_type": "code",
   "execution_count": 9,
   "metadata": {},
   "outputs": [
    {
     "name": "stdout",
     "output_type": "stream",
     "text": [
      "              precision    recall  f1-score   support\n",
      "\n",
      "           0       1.00      0.90      0.95        30\n",
      "           1       1.00      1.00      1.00        30\n",
      "           2       0.65      0.50      0.57        30\n",
      "           3       0.70      0.53      0.60        30\n",
      "           4       1.00      0.97      0.98        30\n",
      "           5       0.96      0.90      0.93        30\n",
      "           6       0.94      0.97      0.95        30\n",
      "           7       0.91      0.97      0.94        30\n",
      "           8       0.94      0.97      0.95        30\n",
      "           9       1.00      1.00      1.00        30\n",
      "          10       0.97      1.00      0.98        30\n",
      "          11       0.97      0.97      0.97        30\n",
      "          12       0.70      1.00      0.82        30\n",
      "          13       1.00      1.00      1.00        30\n",
      "          14       0.62      0.60      0.61        30\n",
      "          15       0.91      1.00      0.95        30\n",
      "          16       1.00      0.97      0.98        30\n",
      "          17       1.00      0.97      0.98        30\n",
      "          18       0.92      0.77      0.84        30\n",
      "          19       0.82      0.77      0.79        30\n",
      "          20       0.86      1.00      0.92        30\n",
      "          21       0.88      1.00      0.94        30\n",
      "          22       0.94      1.00      0.97        30\n",
      "          23       1.00      1.00      1.00        30\n",
      "          24       0.89      0.80      0.84        30\n",
      "          25       0.86      0.80      0.83        30\n",
      "          26       1.00      0.93      0.97        30\n",
      "          27       0.88      1.00      0.94        30\n",
      "          28       0.93      0.93      0.93        30\n",
      "          29       0.84      0.87      0.85        30\n",
      "\n",
      "    accuracy                           0.90       900\n",
      "   macro avg       0.90      0.90      0.90       900\n",
      "weighted avg       0.90      0.90      0.90       900\n",
      "\n"
     ]
    }
   ],
   "source": [
    "print(classification_report(truths[0], predictions[0]))"
   ]
  },
  {
   "cell_type": "code",
   "execution_count": 10,
   "metadata": {},
   "outputs": [
    {
     "name": "stdout",
     "output_type": "stream",
     "text": [
      "              precision    recall  f1-score   support\n",
      "\n",
      "           0       0.98      0.77      0.86        60\n",
      "           1       1.00      1.00      1.00        60\n",
      "           2       0.60      0.30      0.40        60\n",
      "           3       0.82      0.52      0.63        60\n",
      "           4       1.00      1.00      1.00        60\n",
      "           5       0.98      0.97      0.97        60\n",
      "           6       0.97      0.95      0.96        60\n",
      "           7       0.93      0.72      0.81        60\n",
      "           8       0.95      0.98      0.97        60\n",
      "           9       1.00      1.00      1.00        60\n",
      "          10       0.97      1.00      0.98        60\n",
      "          11       0.97      0.97      0.97        60\n",
      "          12       0.65      0.92      0.76        60\n",
      "          13       0.98      1.00      0.99        60\n",
      "          14       0.52      0.77      0.62        60\n",
      "          15       0.98      0.97      0.97        60\n",
      "          16       1.00      1.00      1.00        60\n",
      "          17       1.00      1.00      1.00        60\n",
      "          18       0.79      0.93      0.85        60\n",
      "          19       0.85      0.87      0.86        60\n",
      "          20       0.91      0.98      0.94        60\n",
      "          21       0.80      0.95      0.87        60\n",
      "          22       1.00      0.97      0.98        60\n",
      "          23       1.00      0.98      0.99        60\n",
      "          24       0.98      0.90      0.94        60\n",
      "          25       0.92      0.82      0.87        60\n",
      "          26       0.97      0.97      0.97        60\n",
      "          27       0.95      0.97      0.96        60\n",
      "          28       0.95      0.98      0.97        60\n",
      "          29       0.84      0.95      0.89        60\n",
      "\n",
      "    accuracy                           0.90      1800\n",
      "   macro avg       0.91      0.90      0.90      1800\n",
      "weighted avg       0.91      0.90      0.90      1800\n",
      "\n"
     ]
    }
   ],
   "source": [
    "print(classification_report(truths[1], predictions[1]))"
   ]
  },
  {
   "cell_type": "code",
   "execution_count": 11,
   "metadata": {},
   "outputs": [
    {
     "name": "stdout",
     "output_type": "stream",
     "text": [
      "              precision    recall  f1-score   support\n",
      "\n",
      "           0       0.95      0.82      0.88        90\n",
      "           1       0.99      0.98      0.98        90\n",
      "           2       0.83      0.89      0.86        90\n",
      "           3       0.94      0.66      0.77        90\n",
      "           4       0.95      1.00      0.97        90\n",
      "           5       1.00      0.99      0.99        90\n",
      "           6       0.99      0.94      0.97        90\n",
      "           7       0.90      0.86      0.88        90\n",
      "           8       0.98      1.00      0.99        90\n",
      "           9       1.00      1.00      1.00        90\n",
      "          10       0.99      0.99      0.99        90\n",
      "          11       0.95      1.00      0.97        90\n",
      "          12       0.79      0.96      0.86        90\n",
      "          13       1.00      1.00      1.00        90\n",
      "          14       0.81      0.79      0.80        90\n",
      "          15       0.99      0.99      0.99        90\n",
      "          16       1.00      1.00      1.00        90\n",
      "          17       1.00      1.00      1.00        90\n",
      "          18       0.87      0.89      0.88        90\n",
      "          19       0.88      0.83      0.86        90\n",
      "          20       0.88      0.90      0.89        90\n",
      "          21       0.88      0.99      0.93        90\n",
      "          22       0.98      1.00      0.99        90\n",
      "          23       0.97      0.98      0.97        90\n",
      "          24       0.90      0.88      0.89        90\n",
      "          25       0.88      0.79      0.83        90\n",
      "          26       0.98      0.96      0.97        90\n",
      "          27       0.92      0.96      0.94        90\n",
      "          28       0.92      0.92      0.92        90\n",
      "          29       0.79      0.89      0.84        90\n",
      "\n",
      "    accuracy                           0.93      2700\n",
      "   macro avg       0.93      0.93      0.93      2700\n",
      "weighted avg       0.93      0.93      0.93      2700\n",
      "\n"
     ]
    }
   ],
   "source": [
    "print(classification_report(truths[2], predictions[2]))"
   ]
  },
  {
   "cell_type": "code",
   "execution_count": 12,
   "metadata": {},
   "outputs": [
    {
     "name": "stdout",
     "output_type": "stream",
     "text": [
      "              precision    recall  f1-score   support\n",
      "\n",
      "           0       0.98      0.70      0.82       144\n",
      "           1       1.00      1.00      1.00       144\n",
      "           2       0.78      0.54      0.64       144\n",
      "           3       0.94      0.94      0.94       144\n",
      "           4       0.97      1.00      0.99       144\n",
      "           5       0.99      1.00      1.00       144\n",
      "           6       0.97      0.97      0.97       144\n",
      "           7       0.87      0.90      0.89       144\n",
      "           8       0.99      1.00      1.00       144\n",
      "           9       1.00      1.00      1.00       144\n",
      "          10       1.00      0.99      1.00       144\n",
      "          11       0.97      0.96      0.96       144\n",
      "          12       0.93      0.94      0.94       144\n",
      "          13       1.00      1.00      1.00       144\n",
      "          14       0.63      0.83      0.72       144\n",
      "          15       0.98      0.99      0.98       144\n",
      "          16       1.00      1.00      1.00       144\n",
      "          17       0.99      1.00      0.99       144\n",
      "          18       0.90      0.88      0.89       144\n",
      "          19       0.80      0.82      0.81       144\n",
      "          20       0.90      0.91      0.91       144\n",
      "          21       0.83      0.98      0.90       144\n",
      "          22       0.99      0.99      0.99       144\n",
      "          23       0.99      0.98      0.99       144\n",
      "          24       0.90      0.90      0.90       144\n",
      "          25       0.89      0.80      0.84       144\n",
      "          26       0.97      0.97      0.97       144\n",
      "          27       0.96      0.98      0.97       144\n",
      "          28       0.97      0.96      0.97       144\n",
      "          29       0.83      0.90      0.86       144\n",
      "\n",
      "    accuracy                           0.93      4320\n",
      "   macro avg       0.93      0.93      0.93      4320\n",
      "weighted avg       0.93      0.93      0.93      4320\n",
      "\n"
     ]
    }
   ],
   "source": [
    "print(classification_report(truths[3], predictions[3]))"
   ]
  },
  {
   "cell_type": "code",
   "execution_count": 13,
   "metadata": {},
   "outputs": [],
   "source": [
    "def plot_confusion_matrix(y_true, y_pred, labels, partition_id):\n",
    "    from sklearn.metrics import confusion_matrix\n",
    "    import matplotlib.pyplot as plt\n",
    "    import seaborn as sns\n",
    "    import numpy as np\n",
    "\n",
    "    cm = confusion_matrix(y_true, y_pred, labels=labels)\n",
    "    cm_normalized = cm.astype('float') / cm.sum(axis=1, keepdims=True)\n",
    "    mask = np.triu(np.ones_like(cm_normalized, dtype=bool))\n",
    "\n",
    "    plt.figure(figsize=(18, 16))\n",
    "    sns.heatmap(cm_normalized,\n",
    "                mask=mask,\n",
    "                annot=True,\n",
    "                fmt=\".2f\",\n",
    "                xticklabels=labels,\n",
    "                yticklabels=labels,\n",
    "                cmap=\"viridis\",\n",
    "                square=True,\n",
    "                linewidths=0.5,\n",
    "                cbar_kws={\"shrink\": 0.8})\n",
    "\n",
    "    plt.title(f\"Normalized Confusion Matrix (Partition {partition_id})\", fontsize=18)\n",
    "    plt.xlabel(\"Predicted Label\", fontsize=14)\n",
    "    plt.ylabel(\"True Label\", fontsize=14)\n",
    "    plt.xticks(rotation=90)\n",
    "    plt.yticks(rotation=0)\n",
    "    plt.tight_layout()\n",
    "\n",
    "    # Save the figure\n",
    "    save_path = f\"Results/confusion_matrix_partition_{partition_id}.png\"\n",
    "    plt.savefig(save_path, dpi=300)\n",
    "    plt.close()\n",
    "\n",
    "    print(f\"Saved confusion matrix for partition {partition_id} to {save_path}\")\n"
   ]
  },
  {
   "cell_type": "code",
   "execution_count": 14,
   "metadata": {},
   "outputs": [
    {
     "name": "stdout",
     "output_type": "stream",
     "text": [
      "Saved confusion matrix for partition 1 to Results/confusion_matrix_partition_1.png\n",
      "Saved confusion matrix for partition 2 to Results/confusion_matrix_partition_2.png\n",
      "Saved confusion matrix for partition 3 to Results/confusion_matrix_partition_3.png\n",
      "Saved confusion matrix for partition 4 to Results/confusion_matrix_partition_4.png\n",
      "Saved confusion matrix for partition All to Results/confusion_matrix_partition_All.png\n"
     ]
    }
   ],
   "source": [
    "# Plot and save confusion matrices per partition\n",
    "for i in range(len(decoded_preds_all)):\n",
    "    y_true = decoded_truths_all[i]\n",
    "    y_pred = decoded_preds_all[i]\n",
    "    class_labels = label_encoders[i].classes_\n",
    "\n",
    "    plot_confusion_matrix(y_true, y_pred, labels=class_labels, partition_id=i + 1)\n",
    "\n",
    "# Combined (aggregated) matrix\n",
    "all_true = np.concatenate(decoded_truths_all)\n",
    "all_pred = np.concatenate(decoded_preds_all)\n",
    "all_labels = label_encoders[0].classes_\n",
    "\n",
    "plot_confusion_matrix(all_true, all_pred, labels=all_labels, partition_id=\"All\")\n"
   ]
  }
 ],
 "metadata": {
  "colab": {
   "provenance": []
  },
  "kernelspec": {
   "display_name": "base",
   "language": "python",
   "name": "python3"
  },
  "language_info": {
   "codemirror_mode": {
    "name": "ipython",
    "version": 3
   },
   "file_extension": ".py",
   "mimetype": "text/x-python",
   "name": "python",
   "nbconvert_exporter": "python",
   "pygments_lexer": "ipython3",
   "version": "3.11.9"
  }
 },
 "nbformat": 4,
 "nbformat_minor": 0
}
