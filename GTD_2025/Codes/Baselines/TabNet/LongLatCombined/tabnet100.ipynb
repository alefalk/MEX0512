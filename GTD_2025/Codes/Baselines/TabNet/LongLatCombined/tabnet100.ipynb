{
 "cells": [
  {
   "cell_type": "code",
   "execution_count": 1,
   "metadata": {},
   "outputs": [],
   "source": [
    "import warnings\n",
    "warnings.filterwarnings( 'ignore' )\n",
    "import pandas as pd\n",
    "import numpy as np\n",
    "import matplotlib.pyplot as plt\n",
    "import seaborn as sns\n",
    "from sklearn.metrics import accuracy_score, classification_report, confusion_matrix\n",
    "from sklearn.model_selection import RandomizedSearchCV, GridSearchCV, TimeSeriesSplit\n",
    "from sklearn.ensemble import GradientBoostingClassifier, RandomForestClassifier\n",
    "from sklearn.neural_network import MLPClassifier\n",
    "from sklearn.impute import SimpleImputer\n",
    "import sys"
   ]
  },
  {
   "cell_type": "code",
   "execution_count": 2,
   "metadata": {},
   "outputs": [],
   "source": [
    "partition = 100"
   ]
  },
  {
   "cell_type": "code",
   "execution_count": 3,
   "metadata": {},
   "outputs": [
    {
     "name": "stdout",
     "output_type": "stream",
     "text": [
      "Requirement already satisfied: pytorch-tabnet in /opt/conda/lib/python3.11/site-packages (4.1.0)\n",
      "Requirement already satisfied: numpy>=1.17 in /opt/conda/lib/python3.11/site-packages (from pytorch-tabnet) (1.26.4)\n",
      "Requirement already satisfied: scikit_learn>0.21 in /opt/conda/lib/python3.11/site-packages (from pytorch-tabnet) (1.5.0)\n",
      "Requirement already satisfied: scipy>1.4 in /opt/conda/lib/python3.11/site-packages (from pytorch-tabnet) (1.14.0)\n",
      "Requirement already satisfied: torch>=1.3 in /opt/conda/lib/python3.11/site-packages (from pytorch-tabnet) (2.3.1)\n",
      "Requirement already satisfied: tqdm>=4.36 in /opt/conda/lib/python3.11/site-packages (from pytorch-tabnet) (4.66.4)\n",
      "Requirement already satisfied: joblib>=1.2.0 in /opt/conda/lib/python3.11/site-packages (from scikit_learn>0.21->pytorch-tabnet) (1.4.2)\n",
      "Requirement already satisfied: threadpoolctl>=3.1.0 in /opt/conda/lib/python3.11/site-packages (from scikit_learn>0.21->pytorch-tabnet) (3.5.0)\n",
      "Requirement already satisfied: filelock in /opt/conda/lib/python3.11/site-packages (from torch>=1.3->pytorch-tabnet) (3.15.4)\n",
      "Requirement already satisfied: typing-extensions>=4.8.0 in /opt/conda/lib/python3.11/site-packages (from torch>=1.3->pytorch-tabnet) (4.12.2)\n",
      "Requirement already satisfied: sympy in /opt/conda/lib/python3.11/site-packages (from torch>=1.3->pytorch-tabnet) (1.12.1)\n",
      "Requirement already satisfied: networkx in /opt/conda/lib/python3.11/site-packages (from torch>=1.3->pytorch-tabnet) (3.3)\n",
      "Requirement already satisfied: jinja2 in /opt/conda/lib/python3.11/site-packages (from torch>=1.3->pytorch-tabnet) (3.1.4)\n",
      "Requirement already satisfied: fsspec in /opt/conda/lib/python3.11/site-packages (from torch>=1.3->pytorch-tabnet) (2024.5.0)\n",
      "Requirement already satisfied: nvidia-cuda-nvrtc-cu12==12.1.105 in /opt/conda/lib/python3.11/site-packages (from torch>=1.3->pytorch-tabnet) (12.1.105)\n",
      "Requirement already satisfied: nvidia-cuda-runtime-cu12==12.1.105 in /opt/conda/lib/python3.11/site-packages (from torch>=1.3->pytorch-tabnet) (12.1.105)\n",
      "Requirement already satisfied: nvidia-cuda-cupti-cu12==12.1.105 in /opt/conda/lib/python3.11/site-packages (from torch>=1.3->pytorch-tabnet) (12.1.105)\n",
      "Requirement already satisfied: nvidia-cudnn-cu12==8.9.2.26 in /opt/conda/lib/python3.11/site-packages (from torch>=1.3->pytorch-tabnet) (8.9.2.26)\n",
      "Requirement already satisfied: nvidia-cublas-cu12==12.1.3.1 in /opt/conda/lib/python3.11/site-packages (from torch>=1.3->pytorch-tabnet) (12.1.3.1)\n",
      "Requirement already satisfied: nvidia-cufft-cu12==11.0.2.54 in /opt/conda/lib/python3.11/site-packages (from torch>=1.3->pytorch-tabnet) (11.0.2.54)\n",
      "Requirement already satisfied: nvidia-curand-cu12==10.3.2.106 in /opt/conda/lib/python3.11/site-packages (from torch>=1.3->pytorch-tabnet) (10.3.2.106)\n",
      "Requirement already satisfied: nvidia-cusolver-cu12==11.4.5.107 in /opt/conda/lib/python3.11/site-packages (from torch>=1.3->pytorch-tabnet) (11.4.5.107)\n",
      "Requirement already satisfied: nvidia-cusparse-cu12==12.1.0.106 in /opt/conda/lib/python3.11/site-packages (from torch>=1.3->pytorch-tabnet) (12.1.0.106)\n",
      "Requirement already satisfied: nvidia-nccl-cu12==2.20.5 in /opt/conda/lib/python3.11/site-packages (from torch>=1.3->pytorch-tabnet) (2.20.5)\n",
      "Requirement already satisfied: nvidia-nvtx-cu12==12.1.105 in /opt/conda/lib/python3.11/site-packages (from torch>=1.3->pytorch-tabnet) (12.1.105)\n",
      "Requirement already satisfied: triton==2.3.1 in /opt/conda/lib/python3.11/site-packages (from torch>=1.3->pytorch-tabnet) (2.3.1)\n",
      "Requirement already satisfied: nvidia-nvjitlink-cu12 in /opt/conda/lib/python3.11/site-packages (from nvidia-cusolver-cu12==11.4.5.107->torch>=1.3->pytorch-tabnet) (12.3.101)\n",
      "Requirement already satisfied: MarkupSafe>=2.0 in /opt/conda/lib/python3.11/site-packages (from jinja2->torch>=1.3->pytorch-tabnet) (2.1.5)\n",
      "Requirement already satisfied: mpmath<1.4.0,>=1.1.0 in /opt/conda/lib/python3.11/site-packages (from sympy->torch>=1.3->pytorch-tabnet) (1.3.0)\n",
      "\n",
      "\u001b[1m[\u001b[0m\u001b[34;49mnotice\u001b[0m\u001b[1;39;49m]\u001b[0m\u001b[39;49m A new release of pip is available: \u001b[0m\u001b[31;49m24.1.2\u001b[0m\u001b[39;49m -> \u001b[0m\u001b[32;49m25.1.1\u001b[0m\n",
      "\u001b[1m[\u001b[0m\u001b[34;49mnotice\u001b[0m\u001b[1;39;49m]\u001b[0m\u001b[39;49m To update, run: \u001b[0m\u001b[32;49mpip install --upgrade pip\u001b[0m\n"
     ]
    }
   ],
   "source": [
    "!{sys.executable} -m pip install pytorch-tabnet --upgrade"
   ]
  },
  {
   "cell_type": "code",
   "execution_count": 4,
   "metadata": {},
   "outputs": [],
   "source": [
    "trainpath = f'../../../../data/top30groups/LongLatCombined/train1/train{partition}.csv'\n",
    "testpath = f'../../../../data/top30groups/LongLatCombined/test1/test{partition}.csv'\n",
    "\n",
    "traindata = pd.read_csv(trainpath, encoding='ISO-8859-1')\n",
    "testdata = pd.read_csv(testpath, encoding='ISO-8859-1')"
   ]
  },
  {
   "cell_type": "code",
   "execution_count": 5,
   "metadata": {},
   "outputs": [
    {
     "name": "stdout",
     "output_type": "stream",
     "text": [
      "True\n"
     ]
    }
   ],
   "source": [
    "import torch\n",
    "print(torch.cuda.is_available())"
   ]
  },
  {
   "cell_type": "code",
   "execution_count": 6,
   "metadata": {},
   "outputs": [],
   "source": [
    "torch.cuda.empty_cache()"
   ]
  },
  {
   "cell_type": "code",
   "execution_count": 7,
   "metadata": {},
   "outputs": [],
   "source": [
    "import torch\n",
    "from sklearn.preprocessing import LabelEncoder\n",
    "from sklearn.model_selection import train_test_split\n",
    "\n",
    "from sklearn.preprocessing import LabelEncoder\n",
    "\n",
    "def split_data(dftrain, dftest):\n",
    "    Xtrain = dftrain.drop(columns=['gname']).values.astype(float)\n",
    "    Ytrain = dftrain['gname'].values\n",
    "    Xtest = dftest.drop(columns=['gname']).values.astype(float)\n",
    "    Ytest = dftest['gname'].values\n",
    "\n",
    "    le = LabelEncoder()\n",
    "    Ytrain = le.fit_transform(Ytrain)\n",
    "    Ytest = le.transform(Ytest)\n",
    "\n",
    "    #y_pred_decoded = model.label_encoder.inverse_transform(y_pred)\n",
    "    y_true_decoded = le.inverse_transform(Ytest)\n",
    "\n",
    "    return Xtrain, Ytrain, Xtest, Ytest, y_true_decoded, le\n",
    "\n"
   ]
  },
  {
   "cell_type": "code",
   "execution_count": 8,
   "metadata": {},
   "outputs": [],
   "source": [
    "from sklearn.base import BaseEstimator, ClassifierMixin\n",
    "import numpy as np\n",
    "from pytorch_tabnet.tab_model import TabNetClassifier\n",
    "\n",
    "class TabNetClassifierWrapper(BaseEstimator, ClassifierMixin):\n",
    "    def __init__(self, n_d=8, n_a=8, n_steps=3, gamma=1.3, lambda_sparse=1e-3, optimizer_params=None):\n",
    "        self.n_d = n_d\n",
    "        self.n_a = n_a\n",
    "        self.n_steps = n_steps\n",
    "        self.gamma = gamma\n",
    "        self.lambda_sparse = lambda_sparse\n",
    "        self.optimizer_params = optimizer_params or {'lr': 0.01}\n",
    "        self.model = None\n",
    "\n",
    "    def fit(self, X, y):\n",
    "        self.model = TabNetClassifier(\n",
    "            n_d=self.n_d,\n",
    "            n_a=self.n_a,\n",
    "            n_steps=self.n_steps,\n",
    "            gamma=self.gamma,\n",
    "            lambda_sparse=self.lambda_sparse,\n",
    "            optimizer_params=self.optimizer_params,\n",
    "            seed=42,\n",
    "            verbose=0\n",
    "        )\n",
    "\n",
    "        self.model.fit(\n",
    "            X, y,\n",
    "            eval_set=[(X, y)],\n",
    "            max_epochs=500,\n",
    "            patience=120,\n",
    "            batch_size=1024,\n",
    "            virtual_batch_size=128,\n",
    "            eval_metric=['accuracy']\n",
    "        )\n",
    "\n",
    "        self.classes_ = np.unique(y)  \n",
    "        return self\n",
    "\n",
    "    def predict(self, X):\n",
    "        return self.model.predict(X)\n",
    "\n",
    "    def score(self, X, y):\n",
    "        preds = self.predict(X)\n",
    "        return (preds == y).mean()\n"
   ]
  },
  {
   "cell_type": "code",
   "execution_count": 9,
   "metadata": {},
   "outputs": [],
   "source": [
    "#from pytorch_tabnet.sklearn import TabNetClassifier\n",
    "from sklearn.model_selection import GridSearchCV\n",
    "from sklearn.preprocessing import LabelEncoder\n",
    "from sklearn.pipeline import Pipeline\n",
    "from sklearn.model_selection import StratifiedKFold\n",
    "from pytorch_tabnet.tab_model import TabNetClassifier, TabNetRegressor\n",
    "\n",
    "def find_best_tabnet(Xtrain, Ytrain, n_iter=20):\n",
    "    print(\"Starting TabNet grid search\")\n",
    "    print(\"CUDA available:\", torch.cuda.is_available())\n",
    "\n",
    "    param_dist = {\n",
    "        'n_d': [8, 16, 24],\n",
    "        'n_a': [8, 16, 24],\n",
    "        'n_steps': [3, 4, 5],\n",
    "        'gamma': [1.0, 1.3, 1.5],\n",
    "        'lambda_sparse': [1e-4, 1e-3, 1e-2],\n",
    "        'optimizer_params': [{'lr': 0.01}]\n",
    "    }\n",
    "\n",
    "    random_search = RandomizedSearchCV(\n",
    "        estimator=TabNetClassifierWrapper(),\n",
    "        param_distributions=param_dist,\n",
    "        n_iter=n_iter,\n",
    "        cv=StratifiedKFold(n_splits=5, shuffle=True, random_state=42),\n",
    "        scoring='accuracy',\n",
    "        verbose=1,\n",
    "        n_jobs=-1,\n",
    "        random_state=42\n",
    "    )\n",
    "\n",
    "    random_search.fit(Xtrain, Ytrain)\n",
    "    print(\"Best parameters:\", random_search.best_params_)\n",
    "    print(\"Best accuracy:\", random_search.best_score_)\n",
    "\n",
    "    return random_search.best_params_\n",
    "\n"
   ]
  },
  {
   "cell_type": "code",
   "execution_count": 10,
   "metadata": {},
   "outputs": [],
   "source": [
    "from pytorch_tabnet.callbacks import Callback\n",
    "import time\n",
    "\n",
    "class EpochTimer(Callback):\n",
    "    def __init__(self):\n",
    "        self.epoch_times = []\n",
    "\n",
    "    def on_epoch_begin(self, epoch_idx, logs=None):\n",
    "        self.start_time = time.time()\n",
    "\n",
    "    def on_epoch_end(self, epoch_idx, logs=None):\n",
    "        duration = time.time() - self.start_time\n",
    "        self.epoch_times.append(duration)\n",
    "        print(f\"⏱️ Epoch {epoch_idx + 1} took {duration:.2f} seconds\")\n"
   ]
  },
  {
   "cell_type": "code",
   "execution_count": 11,
   "metadata": {},
   "outputs": [
    {
     "name": "stdout",
     "output_type": "stream",
     "text": [
      "Starting TabNet grid search\n",
      "CUDA available: True\n",
      "Fitting 5 folds for each of 20 candidates, totalling 100 fits\n"
     ]
    },
    {
     "name": "stdout",
     "output_type": "stream",
     "text": [
      "Stop training because you reached max_epochs = 500 with best_epoch = 494 and best_val_0_accuracy = 0.97262\n"
     ]
    },
    {
     "name": "stderr",
     "output_type": "stream",
     "text": [
      "/opt/conda/lib/python3.11/site-packages/pytorch_tabnet/callbacks.py:172: UserWarning: Best weights from best epoch are automatically used!\n",
      "  warnings.warn(wrn_msg)\n"
     ]
    },
    {
     "name": "stdout",
     "output_type": "stream",
     "text": [
      "Stop training because you reached max_epochs = 500 with best_epoch = 489 and best_val_0_accuracy = 0.9756\n"
     ]
    },
    {
     "name": "stderr",
     "output_type": "stream",
     "text": [
      "/opt/conda/lib/python3.11/site-packages/pytorch_tabnet/callbacks.py:172: UserWarning: Best weights from best epoch are automatically used!\n",
      "  warnings.warn(wrn_msg)\n"
     ]
    },
    {
     "name": "stdout",
     "output_type": "stream",
     "text": [
      "Stop training because you reached max_epochs = 500 with best_epoch = 489 and best_val_0_accuracy = 0.96488\n"
     ]
    },
    {
     "name": "stderr",
     "output_type": "stream",
     "text": [
      "/opt/conda/lib/python3.11/site-packages/pytorch_tabnet/callbacks.py:172: UserWarning: Best weights from best epoch are automatically used!\n",
      "  warnings.warn(wrn_msg)\n"
     ]
    },
    {
     "name": "stdout",
     "output_type": "stream",
     "text": [
      "Stop training because you reached max_epochs = 500 with best_epoch = 489 and best_val_0_accuracy = 0.97381\n"
     ]
    },
    {
     "name": "stderr",
     "output_type": "stream",
     "text": [
      "/opt/conda/lib/python3.11/site-packages/pytorch_tabnet/callbacks.py:172: UserWarning: Best weights from best epoch are automatically used!\n",
      "  warnings.warn(wrn_msg)\n"
     ]
    },
    {
     "name": "stdout",
     "output_type": "stream",
     "text": [
      "Stop training because you reached max_epochs = 500 with best_epoch = 444 and best_val_0_accuracy = 0.97083\n"
     ]
    },
    {
     "name": "stderr",
     "output_type": "stream",
     "text": [
      "/opt/conda/lib/python3.11/site-packages/pytorch_tabnet/callbacks.py:172: UserWarning: Best weights from best epoch are automatically used!\n",
      "  warnings.warn(wrn_msg)\n"
     ]
    },
    {
     "name": "stdout",
     "output_type": "stream",
     "text": [
      "Stop training because you reached max_epochs = 500 with best_epoch = 453 and best_val_0_accuracy = 0.96845\n",
      "Stop training because you reached max_epochs = 500 with best_epoch = 436 and best_val_0_accuracy = 0.97857\n"
     ]
    },
    {
     "name": "stderr",
     "output_type": "stream",
     "text": [
      "/opt/conda/lib/python3.11/site-packages/pytorch_tabnet/callbacks.py:172: UserWarning: Best weights from best epoch are automatically used!\n",
      "  warnings.warn(wrn_msg)\n",
      "/opt/conda/lib/python3.11/site-packages/pytorch_tabnet/callbacks.py:172: UserWarning: Best weights from best epoch are automatically used!\n",
      "  warnings.warn(wrn_msg)\n"
     ]
    },
    {
     "name": "stdout",
     "output_type": "stream",
     "text": [
      "Stop training because you reached max_epochs = 500 with best_epoch = 459 and best_val_0_accuracy = 0.96845\n",
      "Stop training because you reached max_epochs = 500 with best_epoch = 440 and best_val_0_accuracy = 0.97798\n",
      "Stop training because you reached max_epochs = 500 with best_epoch = 434 and best_val_0_accuracy = 0.97262\n"
     ]
    },
    {
     "name": "stderr",
     "output_type": "stream",
     "text": [
      "/opt/conda/lib/python3.11/site-packages/pytorch_tabnet/callbacks.py:172: UserWarning: Best weights from best epoch are automatically used!\n",
      "  warnings.warn(wrn_msg)\n",
      "/opt/conda/lib/python3.11/site-packages/pytorch_tabnet/callbacks.py:172: UserWarning: Best weights from best epoch are automatically used!\n",
      "  warnings.warn(wrn_msg)\n",
      "/opt/conda/lib/python3.11/site-packages/pytorch_tabnet/callbacks.py:172: UserWarning: Best weights from best epoch are automatically used!\n",
      "  warnings.warn(wrn_msg)\n"
     ]
    },
    {
     "name": "stdout",
     "output_type": "stream",
     "text": [
      "Stop training because you reached max_epochs = 500 with best_epoch = 491 and best_val_0_accuracy = 0.95833\n"
     ]
    },
    {
     "name": "stderr",
     "output_type": "stream",
     "text": [
      "/opt/conda/lib/python3.11/site-packages/pytorch_tabnet/callbacks.py:172: UserWarning: Best weights from best epoch are automatically used!\n",
      "  warnings.warn(wrn_msg)\n"
     ]
    },
    {
     "name": "stdout",
     "output_type": "stream",
     "text": [
      "Stop training because you reached max_epochs = 500 with best_epoch = 486 and best_val_0_accuracy = 0.96548\n",
      "Stop training because you reached max_epochs = 500 with best_epoch = 492 and best_val_0_accuracy = 0.93988\n"
     ]
    },
    {
     "name": "stderr",
     "output_type": "stream",
     "text": [
      "/opt/conda/lib/python3.11/site-packages/pytorch_tabnet/callbacks.py:172: UserWarning: Best weights from best epoch are automatically used!\n",
      "  warnings.warn(wrn_msg)\n",
      "/opt/conda/lib/python3.11/site-packages/pytorch_tabnet/callbacks.py:172: UserWarning: Best weights from best epoch are automatically used!\n",
      "  warnings.warn(wrn_msg)\n"
     ]
    },
    {
     "name": "stdout",
     "output_type": "stream",
     "text": [
      "Stop training because you reached max_epochs = 500 with best_epoch = 494 and best_val_0_accuracy = 0.9625\n"
     ]
    },
    {
     "name": "stderr",
     "output_type": "stream",
     "text": [
      "/opt/conda/lib/python3.11/site-packages/pytorch_tabnet/callbacks.py:172: UserWarning: Best weights from best epoch are automatically used!\n",
      "  warnings.warn(wrn_msg)\n"
     ]
    },
    {
     "name": "stdout",
     "output_type": "stream",
     "text": [
      "Stop training because you reached max_epochs = 500 with best_epoch = 486 and best_val_0_accuracy = 0.93095\n"
     ]
    },
    {
     "name": "stderr",
     "output_type": "stream",
     "text": [
      "/opt/conda/lib/python3.11/site-packages/pytorch_tabnet/callbacks.py:172: UserWarning: Best weights from best epoch are automatically used!\n",
      "  warnings.warn(wrn_msg)\n"
     ]
    },
    {
     "name": "stdout",
     "output_type": "stream",
     "text": [
      "Stop training because you reached max_epochs = 500 with best_epoch = 483 and best_val_0_accuracy = 0.95774\n"
     ]
    },
    {
     "name": "stderr",
     "output_type": "stream",
     "text": [
      "/opt/conda/lib/python3.11/site-packages/pytorch_tabnet/callbacks.py:172: UserWarning: Best weights from best epoch are automatically used!\n",
      "  warnings.warn(wrn_msg)\n"
     ]
    },
    {
     "name": "stdout",
     "output_type": "stream",
     "text": [
      "Stop training because you reached max_epochs = 500 with best_epoch = 478 and best_val_0_accuracy = 0.94583\n",
      "Stop training because you reached max_epochs = 500 with best_epoch = 483 and best_val_0_accuracy = 0.96786\n"
     ]
    },
    {
     "name": "stderr",
     "output_type": "stream",
     "text": [
      "/opt/conda/lib/python3.11/site-packages/pytorch_tabnet/callbacks.py:172: UserWarning: Best weights from best epoch are automatically used!\n",
      "  warnings.warn(wrn_msg)\n",
      "/opt/conda/lib/python3.11/site-packages/pytorch_tabnet/callbacks.py:172: UserWarning: Best weights from best epoch are automatically used!\n",
      "  warnings.warn(wrn_msg)\n"
     ]
    },
    {
     "name": "stdout",
     "output_type": "stream",
     "text": [
      "Stop training because you reached max_epochs = 500 with best_epoch = 476 and best_val_0_accuracy = 0.94405\n",
      "Stop training because you reached max_epochs = 500 with best_epoch = 499 and best_val_0_accuracy = 0.95417\n"
     ]
    },
    {
     "name": "stderr",
     "output_type": "stream",
     "text": [
      "/opt/conda/lib/python3.11/site-packages/pytorch_tabnet/callbacks.py:172: UserWarning: Best weights from best epoch are automatically used!\n",
      "  warnings.warn(wrn_msg)\n",
      "/opt/conda/lib/python3.11/site-packages/pytorch_tabnet/callbacks.py:172: UserWarning: Best weights from best epoch are automatically used!\n",
      "  warnings.warn(wrn_msg)\n"
     ]
    },
    {
     "name": "stdout",
     "output_type": "stream",
     "text": [
      "Stop training because you reached max_epochs = 500 with best_epoch = 459 and best_val_0_accuracy = 0.95357\n"
     ]
    },
    {
     "name": "stderr",
     "output_type": "stream",
     "text": [
      "/opt/conda/lib/python3.11/site-packages/pytorch_tabnet/callbacks.py:172: UserWarning: Best weights from best epoch are automatically used!\n",
      "  warnings.warn(wrn_msg)\n"
     ]
    },
    {
     "name": "stdout",
     "output_type": "stream",
     "text": [
      "Stop training because you reached max_epochs = 500 with best_epoch = 455 and best_val_0_accuracy = 0.93631\n",
      "Stop training because you reached max_epochs = 500 with best_epoch = 440 and best_val_0_accuracy = 0.96131\n",
      "Stop training because you reached max_epochs = 500 with best_epoch = 449 and best_val_0_accuracy = 0.95893\n",
      "Stop training because you reached max_epochs = 500 with best_epoch = 484 and best_val_0_accuracy = 0.94464\n"
     ]
    },
    {
     "name": "stderr",
     "output_type": "stream",
     "text": [
      "/opt/conda/lib/python3.11/site-packages/pytorch_tabnet/callbacks.py:172: UserWarning: Best weights from best epoch are automatically used!\n",
      "  warnings.warn(wrn_msg)\n",
      "/opt/conda/lib/python3.11/site-packages/pytorch_tabnet/callbacks.py:172: UserWarning: Best weights from best epoch are automatically used!\n",
      "  warnings.warn(wrn_msg)\n",
      "/opt/conda/lib/python3.11/site-packages/pytorch_tabnet/callbacks.py:172: UserWarning: Best weights from best epoch are automatically used!\n",
      "  warnings.warn(wrn_msg)\n",
      "/opt/conda/lib/python3.11/site-packages/pytorch_tabnet/callbacks.py:172: UserWarning: Best weights from best epoch are automatically used!\n",
      "  warnings.warn(wrn_msg)\n"
     ]
    },
    {
     "name": "stdout",
     "output_type": "stream",
     "text": [
      "Stop training because you reached max_epochs = 500 with best_epoch = 441 and best_val_0_accuracy = 0.96726\n"
     ]
    },
    {
     "name": "stderr",
     "output_type": "stream",
     "text": [
      "/opt/conda/lib/python3.11/site-packages/pytorch_tabnet/callbacks.py:172: UserWarning: Best weights from best epoch are automatically used!\n",
      "  warnings.warn(wrn_msg)\n"
     ]
    },
    {
     "name": "stdout",
     "output_type": "stream",
     "text": [
      "Stop training because you reached max_epochs = 500 with best_epoch = 479 and best_val_0_accuracy = 0.96012\n"
     ]
    },
    {
     "name": "stderr",
     "output_type": "stream",
     "text": [
      "/opt/conda/lib/python3.11/site-packages/pytorch_tabnet/callbacks.py:172: UserWarning: Best weights from best epoch are automatically used!\n",
      "  warnings.warn(wrn_msg)\n"
     ]
    },
    {
     "name": "stdout",
     "output_type": "stream",
     "text": [
      "Stop training because you reached max_epochs = 500 with best_epoch = 446 and best_val_0_accuracy = 0.96667\n"
     ]
    },
    {
     "name": "stderr",
     "output_type": "stream",
     "text": [
      "/opt/conda/lib/python3.11/site-packages/pytorch_tabnet/callbacks.py:172: UserWarning: Best weights from best epoch are automatically used!\n",
      "  warnings.warn(wrn_msg)\n"
     ]
    },
    {
     "name": "stdout",
     "output_type": "stream",
     "text": [
      "Stop training because you reached max_epochs = 500 with best_epoch = 489 and best_val_0_accuracy = 0.93393\n"
     ]
    },
    {
     "name": "stderr",
     "output_type": "stream",
     "text": [
      "/opt/conda/lib/python3.11/site-packages/pytorch_tabnet/callbacks.py:172: UserWarning: Best weights from best epoch are automatically used!\n",
      "  warnings.warn(wrn_msg)\n"
     ]
    },
    {
     "name": "stdout",
     "output_type": "stream",
     "text": [
      "Stop training because you reached max_epochs = 500 with best_epoch = 477 and best_val_0_accuracy = 0.96726\n"
     ]
    },
    {
     "name": "stderr",
     "output_type": "stream",
     "text": [
      "/opt/conda/lib/python3.11/site-packages/pytorch_tabnet/callbacks.py:172: UserWarning: Best weights from best epoch are automatically used!\n",
      "  warnings.warn(wrn_msg)\n"
     ]
    },
    {
     "name": "stdout",
     "output_type": "stream",
     "text": [
      "Stop training because you reached max_epochs = 500 with best_epoch = 479 and best_val_0_accuracy = 0.94226\n"
     ]
    },
    {
     "name": "stderr",
     "output_type": "stream",
     "text": [
      "/opt/conda/lib/python3.11/site-packages/pytorch_tabnet/callbacks.py:172: UserWarning: Best weights from best epoch are automatically used!\n",
      "  warnings.warn(wrn_msg)\n"
     ]
    },
    {
     "name": "stdout",
     "output_type": "stream",
     "text": [
      "Stop training because you reached max_epochs = 500 with best_epoch = 475 and best_val_0_accuracy = 0.93929\n"
     ]
    },
    {
     "name": "stderr",
     "output_type": "stream",
     "text": [
      "/opt/conda/lib/python3.11/site-packages/pytorch_tabnet/callbacks.py:172: UserWarning: Best weights from best epoch are automatically used!\n",
      "  warnings.warn(wrn_msg)\n"
     ]
    },
    {
     "name": "stdout",
     "output_type": "stream",
     "text": [
      "Stop training because you reached max_epochs = 500 with best_epoch = 477 and best_val_0_accuracy = 0.97738\n"
     ]
    },
    {
     "name": "stderr",
     "output_type": "stream",
     "text": [
      "/opt/conda/lib/python3.11/site-packages/pytorch_tabnet/callbacks.py:172: UserWarning: Best weights from best epoch are automatically used!\n",
      "  warnings.warn(wrn_msg)\n"
     ]
    },
    {
     "name": "stdout",
     "output_type": "stream",
     "text": [
      "Stop training because you reached max_epochs = 500 with best_epoch = 474 and best_val_0_accuracy = 0.95595\n",
      "Stop training because you reached max_epochs = 500 with best_epoch = 495 and best_val_0_accuracy = 0.95893\n"
     ]
    },
    {
     "name": "stderr",
     "output_type": "stream",
     "text": [
      "/opt/conda/lib/python3.11/site-packages/pytorch_tabnet/callbacks.py:172: UserWarning: Best weights from best epoch are automatically used!\n",
      "  warnings.warn(wrn_msg)\n",
      "/opt/conda/lib/python3.11/site-packages/pytorch_tabnet/callbacks.py:172: UserWarning: Best weights from best epoch are automatically used!\n",
      "  warnings.warn(wrn_msg)\n"
     ]
    },
    {
     "name": "stdout",
     "output_type": "stream",
     "text": [
      "Stop training because you reached max_epochs = 500 with best_epoch = 439 and best_val_0_accuracy = 0.97202\n"
     ]
    },
    {
     "name": "stderr",
     "output_type": "stream",
     "text": [
      "/opt/conda/lib/python3.11/site-packages/pytorch_tabnet/callbacks.py:172: UserWarning: Best weights from best epoch are automatically used!\n",
      "  warnings.warn(wrn_msg)\n"
     ]
    },
    {
     "name": "stdout",
     "output_type": "stream",
     "text": [
      "Stop training because you reached max_epochs = 500 with best_epoch = 495 and best_val_0_accuracy = 0.96488\n",
      "Stop training because you reached max_epochs = 500 with best_epoch = 485 and best_val_0_accuracy = 0.94167\n"
     ]
    },
    {
     "name": "stderr",
     "output_type": "stream",
     "text": [
      "/opt/conda/lib/python3.11/site-packages/pytorch_tabnet/callbacks.py:172: UserWarning: Best weights from best epoch are automatically used!\n",
      "  warnings.warn(wrn_msg)\n",
      "/opt/conda/lib/python3.11/site-packages/pytorch_tabnet/callbacks.py:172: UserWarning: Best weights from best epoch are automatically used!\n",
      "  warnings.warn(wrn_msg)\n"
     ]
    },
    {
     "name": "stdout",
     "output_type": "stream",
     "text": [
      "Stop training because you reached max_epochs = 500 with best_epoch = 465 and best_val_0_accuracy = 0.95655\n"
     ]
    },
    {
     "name": "stderr",
     "output_type": "stream",
     "text": [
      "/opt/conda/lib/python3.11/site-packages/pytorch_tabnet/callbacks.py:172: UserWarning: Best weights from best epoch are automatically used!\n",
      "  warnings.warn(wrn_msg)\n"
     ]
    },
    {
     "name": "stdout",
     "output_type": "stream",
     "text": [
      "Stop training because you reached max_epochs = 500 with best_epoch = 489 and best_val_0_accuracy = 0.95\n"
     ]
    },
    {
     "name": "stderr",
     "output_type": "stream",
     "text": [
      "/opt/conda/lib/python3.11/site-packages/pytorch_tabnet/callbacks.py:172: UserWarning: Best weights from best epoch are automatically used!\n",
      "  warnings.warn(wrn_msg)\n",
      "/opt/conda/lib/python3.11/site-packages/pytorch_tabnet/callbacks.py:172: UserWarning: Best weights from best epoch are automatically used!\n",
      "  warnings.warn(wrn_msg)\n",
      "/opt/conda/lib/python3.11/site-packages/pytorch_tabnet/callbacks.py:172: UserWarning: Best weights from best epoch are automatically used!\n",
      "  warnings.warn(wrn_msg)\n"
     ]
    },
    {
     "name": "stdout",
     "output_type": "stream",
     "text": [
      "Stop training because you reached max_epochs = 500 with best_epoch = 496 and best_val_0_accuracy = 0.95833\n",
      "Stop training because you reached max_epochs = 500 with best_epoch = 499 and best_val_0_accuracy = 0.96131\n",
      "Stop training because you reached max_epochs = 500 with best_epoch = 481 and best_val_0_accuracy = 0.95298\n"
     ]
    },
    {
     "name": "stderr",
     "output_type": "stream",
     "text": [
      "/opt/conda/lib/python3.11/site-packages/pytorch_tabnet/callbacks.py:172: UserWarning: Best weights from best epoch are automatically used!\n",
      "  warnings.warn(wrn_msg)\n"
     ]
    },
    {
     "name": "stdout",
     "output_type": "stream",
     "text": [
      "Stop training because you reached max_epochs = 500 with best_epoch = 492 and best_val_0_accuracy = 0.95893\n"
     ]
    },
    {
     "name": "stderr",
     "output_type": "stream",
     "text": [
      "/opt/conda/lib/python3.11/site-packages/pytorch_tabnet/callbacks.py:172: UserWarning: Best weights from best epoch are automatically used!\n",
      "  warnings.warn(wrn_msg)\n"
     ]
    },
    {
     "name": "stdout",
     "output_type": "stream",
     "text": [
      "Stop training because you reached max_epochs = 500 with best_epoch = 468 and best_val_0_accuracy = 0.94702\n"
     ]
    },
    {
     "name": "stderr",
     "output_type": "stream",
     "text": [
      "/opt/conda/lib/python3.11/site-packages/pytorch_tabnet/callbacks.py:172: UserWarning: Best weights from best epoch are automatically used!\n",
      "  warnings.warn(wrn_msg)\n"
     ]
    },
    {
     "name": "stdout",
     "output_type": "stream",
     "text": [
      "Stop training because you reached max_epochs = 500 with best_epoch = 494 and best_val_0_accuracy = 0.95476\n"
     ]
    },
    {
     "name": "stderr",
     "output_type": "stream",
     "text": [
      "/opt/conda/lib/python3.11/site-packages/pytorch_tabnet/callbacks.py:172: UserWarning: Best weights from best epoch are automatically used!\n",
      "  warnings.warn(wrn_msg)\n"
     ]
    },
    {
     "name": "stdout",
     "output_type": "stream",
     "text": [
      "Stop training because you reached max_epochs = 500 with best_epoch = 478 and best_val_0_accuracy = 0.94881\n"
     ]
    },
    {
     "name": "stderr",
     "output_type": "stream",
     "text": [
      "/opt/conda/lib/python3.11/site-packages/pytorch_tabnet/callbacks.py:172: UserWarning: Best weights from best epoch are automatically used!\n",
      "  warnings.warn(wrn_msg)\n"
     ]
    },
    {
     "name": "stdout",
     "output_type": "stream",
     "text": [
      "Stop training because you reached max_epochs = 500 with best_epoch = 491 and best_val_0_accuracy = 0.93869\n",
      "Stop training because you reached max_epochs = 500 with best_epoch = 450 and best_val_0_accuracy = 0.94226\n"
     ]
    },
    {
     "name": "stderr",
     "output_type": "stream",
     "text": [
      "/opt/conda/lib/python3.11/site-packages/pytorch_tabnet/callbacks.py:172: UserWarning: Best weights from best epoch are automatically used!\n",
      "  warnings.warn(wrn_msg)\n",
      "/opt/conda/lib/python3.11/site-packages/pytorch_tabnet/callbacks.py:172: UserWarning: Best weights from best epoch are automatically used!\n",
      "  warnings.warn(wrn_msg)\n"
     ]
    },
    {
     "name": "stdout",
     "output_type": "stream",
     "text": [
      "Stop training because you reached max_epochs = 500 with best_epoch = 491 and best_val_0_accuracy = 0.95357\n"
     ]
    },
    {
     "name": "stderr",
     "output_type": "stream",
     "text": [
      "/opt/conda/lib/python3.11/site-packages/pytorch_tabnet/callbacks.py:172: UserWarning: Best weights from best epoch are automatically used!\n",
      "  warnings.warn(wrn_msg)\n"
     ]
    },
    {
     "name": "stdout",
     "output_type": "stream",
     "text": [
      "Stop training because you reached max_epochs = 500 with best_epoch = 481 and best_val_0_accuracy = 0.95119\n"
     ]
    },
    {
     "name": "stderr",
     "output_type": "stream",
     "text": [
      "/opt/conda/lib/python3.11/site-packages/pytorch_tabnet/callbacks.py:172: UserWarning: Best weights from best epoch are automatically used!\n",
      "  warnings.warn(wrn_msg)\n"
     ]
    },
    {
     "name": "stdout",
     "output_type": "stream",
     "text": [
      "Stop training because you reached max_epochs = 500 with best_epoch = 474 and best_val_0_accuracy = 0.94107\n"
     ]
    },
    {
     "name": "stderr",
     "output_type": "stream",
     "text": [
      "/opt/conda/lib/python3.11/site-packages/pytorch_tabnet/callbacks.py:172: UserWarning: Best weights from best epoch are automatically used!\n",
      "  warnings.warn(wrn_msg)\n"
     ]
    },
    {
     "name": "stdout",
     "output_type": "stream",
     "text": [
      "Stop training because you reached max_epochs = 500 with best_epoch = 452 and best_val_0_accuracy = 0.93095\n"
     ]
    },
    {
     "name": "stderr",
     "output_type": "stream",
     "text": [
      "/opt/conda/lib/python3.11/site-packages/pytorch_tabnet/callbacks.py:172: UserWarning: Best weights from best epoch are automatically used!\n",
      "  warnings.warn(wrn_msg)\n",
      "/opt/conda/lib/python3.11/site-packages/pytorch_tabnet/callbacks.py:172: UserWarning: Best weights from best epoch are automatically used!\n",
      "  warnings.warn(wrn_msg)\n"
     ]
    },
    {
     "name": "stdout",
     "output_type": "stream",
     "text": [
      "Stop training because you reached max_epochs = 500 with best_epoch = 416 and best_val_0_accuracy = 0.95893\n",
      "Stop training because you reached max_epochs = 500 with best_epoch = 410 and best_val_0_accuracy = 0.9375\n"
     ]
    },
    {
     "name": "stderr",
     "output_type": "stream",
     "text": [
      "/opt/conda/lib/python3.11/site-packages/pytorch_tabnet/callbacks.py:172: UserWarning: Best weights from best epoch are automatically used!\n",
      "  warnings.warn(wrn_msg)\n"
     ]
    },
    {
     "name": "stdout",
     "output_type": "stream",
     "text": [
      "Stop training because you reached max_epochs = 500 with best_epoch = 496 and best_val_0_accuracy = 0.91786\n",
      "Stop training because you reached max_epochs = 500 with best_epoch = 479 and best_val_0_accuracy = 0.92321\n"
     ]
    },
    {
     "name": "stderr",
     "output_type": "stream",
     "text": [
      "/opt/conda/lib/python3.11/site-packages/pytorch_tabnet/callbacks.py:172: UserWarning: Best weights from best epoch are automatically used!\n",
      "  warnings.warn(wrn_msg)\n",
      "/opt/conda/lib/python3.11/site-packages/pytorch_tabnet/callbacks.py:172: UserWarning: Best weights from best epoch are automatically used!\n",
      "  warnings.warn(wrn_msg)\n"
     ]
    },
    {
     "name": "stdout",
     "output_type": "stream",
     "text": [
      "Stop training because you reached max_epochs = 500 with best_epoch = 495 and best_val_0_accuracy = 0.88155\n"
     ]
    },
    {
     "name": "stderr",
     "output_type": "stream",
     "text": [
      "/opt/conda/lib/python3.11/site-packages/pytorch_tabnet/callbacks.py:172: UserWarning: Best weights from best epoch are automatically used!\n",
      "  warnings.warn(wrn_msg)\n"
     ]
    },
    {
     "name": "stdout",
     "output_type": "stream",
     "text": [
      "Stop training because you reached max_epochs = 500 with best_epoch = 493 and best_val_0_accuracy = 0.9006\n"
     ]
    },
    {
     "name": "stderr",
     "output_type": "stream",
     "text": [
      "/opt/conda/lib/python3.11/site-packages/pytorch_tabnet/callbacks.py:172: UserWarning: Best weights from best epoch are automatically used!\n",
      "  warnings.warn(wrn_msg)\n"
     ]
    },
    {
     "name": "stdout",
     "output_type": "stream",
     "text": [
      "Stop training because you reached max_epochs = 500 with best_epoch = 499 and best_val_0_accuracy = 0.9125\n"
     ]
    },
    {
     "name": "stderr",
     "output_type": "stream",
     "text": [
      "/opt/conda/lib/python3.11/site-packages/pytorch_tabnet/callbacks.py:172: UserWarning: Best weights from best epoch are automatically used!\n",
      "  warnings.warn(wrn_msg)\n",
      "/opt/conda/lib/python3.11/site-packages/pytorch_tabnet/callbacks.py:172: UserWarning: Best weights from best epoch are automatically used!\n",
      "  warnings.warn(wrn_msg)\n",
      "/opt/conda/lib/python3.11/site-packages/pytorch_tabnet/callbacks.py:172: UserWarning: Best weights from best epoch are automatically used!\n",
      "  warnings.warn(wrn_msg)\n"
     ]
    },
    {
     "name": "stdout",
     "output_type": "stream",
     "text": [
      "Stop training because you reached max_epochs = 500 with best_epoch = 497 and best_val_0_accuracy = 0.89524\n",
      "Stop training because you reached max_epochs = 500 with best_epoch = 499 and best_val_0_accuracy = 0.92083\n",
      "Stop training because you reached max_epochs = 500 with best_epoch = 460 and best_val_0_accuracy = 0.90952\n"
     ]
    },
    {
     "name": "stderr",
     "output_type": "stream",
     "text": [
      "/opt/conda/lib/python3.11/site-packages/pytorch_tabnet/callbacks.py:172: UserWarning: Best weights from best epoch are automatically used!\n",
      "  warnings.warn(wrn_msg)\n"
     ]
    },
    {
     "name": "stdout",
     "output_type": "stream",
     "text": [
      "Stop training because you reached max_epochs = 500 with best_epoch = 472 and best_val_0_accuracy = 0.87976\n"
     ]
    },
    {
     "name": "stderr",
     "output_type": "stream",
     "text": [
      "/opt/conda/lib/python3.11/site-packages/pytorch_tabnet/callbacks.py:172: UserWarning: Best weights from best epoch are automatically used!\n",
      "  warnings.warn(wrn_msg)\n",
      "/opt/conda/lib/python3.11/site-packages/pytorch_tabnet/callbacks.py:172: UserWarning: Best weights from best epoch are automatically used!\n",
      "  warnings.warn(wrn_msg)\n"
     ]
    },
    {
     "name": "stdout",
     "output_type": "stream",
     "text": [
      "Stop training because you reached max_epochs = 500 with best_epoch = 494 and best_val_0_accuracy = 0.89524\n",
      "Stop training because you reached max_epochs = 500 with best_epoch = 484 and best_val_0_accuracy = 0.8994\n"
     ]
    },
    {
     "name": "stderr",
     "output_type": "stream",
     "text": [
      "/opt/conda/lib/python3.11/site-packages/pytorch_tabnet/callbacks.py:172: UserWarning: Best weights from best epoch are automatically used!\n",
      "  warnings.warn(wrn_msg)\n"
     ]
    },
    {
     "name": "stdout",
     "output_type": "stream",
     "text": [
      "Stop training because you reached max_epochs = 500 with best_epoch = 490 and best_val_0_accuracy = 0.95179\n",
      "Stop training because you reached max_epochs = 500 with best_epoch = 463 and best_val_0_accuracy = 0.92857\n"
     ]
    },
    {
     "name": "stderr",
     "output_type": "stream",
     "text": [
      "/opt/conda/lib/python3.11/site-packages/pytorch_tabnet/callbacks.py:172: UserWarning: Best weights from best epoch are automatically used!\n",
      "  warnings.warn(wrn_msg)\n",
      "/opt/conda/lib/python3.11/site-packages/pytorch_tabnet/callbacks.py:172: UserWarning: Best weights from best epoch are automatically used!\n",
      "  warnings.warn(wrn_msg)\n"
     ]
    },
    {
     "name": "stdout",
     "output_type": "stream",
     "text": [
      "Stop training because you reached max_epochs = 500 with best_epoch = 471 and best_val_0_accuracy = 0.95238\n",
      "Stop training because you reached max_epochs = 500 with best_epoch = 483 and best_val_0_accuracy = 0.91548\n"
     ]
    },
    {
     "name": "stderr",
     "output_type": "stream",
     "text": [
      "/opt/conda/lib/python3.11/site-packages/pytorch_tabnet/callbacks.py:172: UserWarning: Best weights from best epoch are automatically used!\n",
      "  warnings.warn(wrn_msg)\n",
      "/opt/conda/lib/python3.11/site-packages/pytorch_tabnet/callbacks.py:172: UserWarning: Best weights from best epoch are automatically used!\n",
      "  warnings.warn(wrn_msg)\n"
     ]
    },
    {
     "name": "stdout",
     "output_type": "stream",
     "text": [
      "Stop training because you reached max_epochs = 500 with best_epoch = 478 and best_val_0_accuracy = 0.95238\n"
     ]
    },
    {
     "name": "stderr",
     "output_type": "stream",
     "text": [
      "/opt/conda/lib/python3.11/site-packages/pytorch_tabnet/callbacks.py:172: UserWarning: Best weights from best epoch are automatically used!\n",
      "  warnings.warn(wrn_msg)\n"
     ]
    },
    {
     "name": "stdout",
     "output_type": "stream",
     "text": [
      "Stop training because you reached max_epochs = 500 with best_epoch = 496 and best_val_0_accuracy = 0.9125\n"
     ]
    },
    {
     "name": "stderr",
     "output_type": "stream",
     "text": [
      "/opt/conda/lib/python3.11/site-packages/pytorch_tabnet/callbacks.py:172: UserWarning: Best weights from best epoch are automatically used!\n",
      "  warnings.warn(wrn_msg)\n"
     ]
    },
    {
     "name": "stdout",
     "output_type": "stream",
     "text": [
      "Stop training because you reached max_epochs = 500 with best_epoch = 472 and best_val_0_accuracy = 0.90833\n"
     ]
    },
    {
     "name": "stderr",
     "output_type": "stream",
     "text": [
      "/opt/conda/lib/python3.11/site-packages/pytorch_tabnet/callbacks.py:172: UserWarning: Best weights from best epoch are automatically used!\n",
      "  warnings.warn(wrn_msg)\n"
     ]
    },
    {
     "name": "stdout",
     "output_type": "stream",
     "text": [
      "Stop training because you reached max_epochs = 500 with best_epoch = 494 and best_val_0_accuracy = 0.90595\n"
     ]
    },
    {
     "name": "stderr",
     "output_type": "stream",
     "text": [
      "/opt/conda/lib/python3.11/site-packages/pytorch_tabnet/callbacks.py:172: UserWarning: Best weights from best epoch are automatically used!\n",
      "  warnings.warn(wrn_msg)\n"
     ]
    },
    {
     "name": "stdout",
     "output_type": "stream",
     "text": [
      "Stop training because you reached max_epochs = 500 with best_epoch = 492 and best_val_0_accuracy = 0.90476\n"
     ]
    },
    {
     "name": "stderr",
     "output_type": "stream",
     "text": [
      "/opt/conda/lib/python3.11/site-packages/pytorch_tabnet/callbacks.py:172: UserWarning: Best weights from best epoch are automatically used!\n",
      "  warnings.warn(wrn_msg)\n"
     ]
    },
    {
     "name": "stdout",
     "output_type": "stream",
     "text": [
      "Stop training because you reached max_epochs = 500 with best_epoch = 471 and best_val_0_accuracy = 0.97738\n",
      "Stop training because you reached max_epochs = 500 with best_epoch = 490 and best_val_0_accuracy = 0.94762\n"
     ]
    },
    {
     "name": "stderr",
     "output_type": "stream",
     "text": [
      "/opt/conda/lib/python3.11/site-packages/pytorch_tabnet/callbacks.py:172: UserWarning: Best weights from best epoch are automatically used!\n",
      "  warnings.warn(wrn_msg)\n",
      "/opt/conda/lib/python3.11/site-packages/pytorch_tabnet/callbacks.py:172: UserWarning: Best weights from best epoch are automatically used!\n",
      "  warnings.warn(wrn_msg)\n"
     ]
    },
    {
     "name": "stdout",
     "output_type": "stream",
     "text": [
      "Stop training because you reached max_epochs = 500 with best_epoch = 459 and best_val_0_accuracy = 0.96845\n"
     ]
    },
    {
     "name": "stderr",
     "output_type": "stream",
     "text": [
      "/opt/conda/lib/python3.11/site-packages/pytorch_tabnet/callbacks.py:172: UserWarning: Best weights from best epoch are automatically used!\n",
      "  warnings.warn(wrn_msg)\n"
     ]
    },
    {
     "name": "stdout",
     "output_type": "stream",
     "text": [
      "Stop training because you reached max_epochs = 500 with best_epoch = 498 and best_val_0_accuracy = 0.9619\n",
      "Stop training because you reached max_epochs = 500 with best_epoch = 491 and best_val_0_accuracy = 0.94762\n"
     ]
    },
    {
     "name": "stderr",
     "output_type": "stream",
     "text": [
      "/opt/conda/lib/python3.11/site-packages/pytorch_tabnet/callbacks.py:172: UserWarning: Best weights from best epoch are automatically used!\n",
      "  warnings.warn(wrn_msg)\n",
      "/opt/conda/lib/python3.11/site-packages/pytorch_tabnet/callbacks.py:172: UserWarning: Best weights from best epoch are automatically used!\n",
      "  warnings.warn(wrn_msg)\n"
     ]
    },
    {
     "name": "stdout",
     "output_type": "stream",
     "text": [
      "Stop training because you reached max_epochs = 500 with best_epoch = 494 and best_val_0_accuracy = 0.94881\n",
      "Stop training because you reached max_epochs = 500 with best_epoch = 476 and best_val_0_accuracy = 0.96786\n"
     ]
    },
    {
     "name": "stderr",
     "output_type": "stream",
     "text": [
      "/opt/conda/lib/python3.11/site-packages/pytorch_tabnet/callbacks.py:172: UserWarning: Best weights from best epoch are automatically used!\n",
      "  warnings.warn(wrn_msg)\n",
      "/opt/conda/lib/python3.11/site-packages/pytorch_tabnet/callbacks.py:172: UserWarning: Best weights from best epoch are automatically used!\n",
      "  warnings.warn(wrn_msg)\n"
     ]
    },
    {
     "name": "stdout",
     "output_type": "stream",
     "text": [
      "Stop training because you reached max_epochs = 500 with best_epoch = 493 and best_val_0_accuracy = 0.97202\n"
     ]
    },
    {
     "name": "stderr",
     "output_type": "stream",
     "text": [
      "/opt/conda/lib/python3.11/site-packages/pytorch_tabnet/callbacks.py:172: UserWarning: Best weights from best epoch are automatically used!\n",
      "  warnings.warn(wrn_msg)\n",
      "/opt/conda/lib/python3.11/site-packages/pytorch_tabnet/callbacks.py:172: UserWarning: Best weights from best epoch are automatically used!\n",
      "  warnings.warn(wrn_msg)\n"
     ]
    },
    {
     "name": "stdout",
     "output_type": "stream",
     "text": [
      "Stop training because you reached max_epochs = 500 with best_epoch = 482 and best_val_0_accuracy = 0.98393\n",
      "Stop training because you reached max_epochs = 500 with best_epoch = 473 and best_val_0_accuracy = 0.97321\n"
     ]
    },
    {
     "name": "stderr",
     "output_type": "stream",
     "text": [
      "/opt/conda/lib/python3.11/site-packages/pytorch_tabnet/callbacks.py:172: UserWarning: Best weights from best epoch are automatically used!\n",
      "  warnings.warn(wrn_msg)\n"
     ]
    },
    {
     "name": "stdout",
     "output_type": "stream",
     "text": [
      "Stop training because you reached max_epochs = 500 with best_epoch = 491 and best_val_0_accuracy = 0.97679\n"
     ]
    },
    {
     "name": "stderr",
     "output_type": "stream",
     "text": [
      "/opt/conda/lib/python3.11/site-packages/pytorch_tabnet/callbacks.py:172: UserWarning: Best weights from best epoch are automatically used!\n",
      "  warnings.warn(wrn_msg)\n"
     ]
    },
    {
     "name": "stdout",
     "output_type": "stream",
     "text": [
      "Stop training because you reached max_epochs = 500 with best_epoch = 495 and best_val_0_accuracy = 0.88333\n",
      "Stop training because you reached max_epochs = 500 with best_epoch = 496 and best_val_0_accuracy = 0.94583\n"
     ]
    },
    {
     "name": "stderr",
     "output_type": "stream",
     "text": [
      "/opt/conda/lib/python3.11/site-packages/pytorch_tabnet/callbacks.py:172: UserWarning: Best weights from best epoch are automatically used!\n",
      "  warnings.warn(wrn_msg)\n",
      "/opt/conda/lib/python3.11/site-packages/pytorch_tabnet/callbacks.py:172: UserWarning: Best weights from best epoch are automatically used!\n",
      "  warnings.warn(wrn_msg)\n"
     ]
    },
    {
     "name": "stdout",
     "output_type": "stream",
     "text": [
      "Stop training because you reached max_epochs = 500 with best_epoch = 454 and best_val_0_accuracy = 0.87798\n",
      "Stop training because you reached max_epochs = 500 with best_epoch = 454 and best_val_0_accuracy = 0.96726\n"
     ]
    },
    {
     "name": "stderr",
     "output_type": "stream",
     "text": [
      "/opt/conda/lib/python3.11/site-packages/pytorch_tabnet/callbacks.py:172: UserWarning: Best weights from best epoch are automatically used!\n",
      "  warnings.warn(wrn_msg)\n",
      "/opt/conda/lib/python3.11/site-packages/pytorch_tabnet/callbacks.py:172: UserWarning: Best weights from best epoch are automatically used!\n",
      "  warnings.warn(wrn_msg)\n"
     ]
    },
    {
     "name": "stdout",
     "output_type": "stream",
     "text": [
      "Stop training because you reached max_epochs = 500 with best_epoch = 471 and best_val_0_accuracy = 0.97083\n"
     ]
    },
    {
     "name": "stderr",
     "output_type": "stream",
     "text": [
      "/opt/conda/lib/python3.11/site-packages/pytorch_tabnet/callbacks.py:172: UserWarning: Best weights from best epoch are automatically used!\n",
      "  warnings.warn(wrn_msg)\n"
     ]
    },
    {
     "name": "stdout",
     "output_type": "stream",
     "text": [
      "Stop training because you reached max_epochs = 500 with best_epoch = 487 and best_val_0_accuracy = 0.95536\n"
     ]
    },
    {
     "name": "stderr",
     "output_type": "stream",
     "text": [
      "/opt/conda/lib/python3.11/site-packages/pytorch_tabnet/callbacks.py:172: UserWarning: Best weights from best epoch are automatically used!\n",
      "  warnings.warn(wrn_msg)\n",
      "/opt/conda/lib/python3.11/site-packages/pytorch_tabnet/callbacks.py:172: UserWarning: Best weights from best epoch are automatically used!\n",
      "  warnings.warn(wrn_msg)\n",
      "/opt/conda/lib/python3.11/site-packages/pytorch_tabnet/callbacks.py:172: UserWarning: Best weights from best epoch are automatically used!\n",
      "  warnings.warn(wrn_msg)\n"
     ]
    },
    {
     "name": "stdout",
     "output_type": "stream",
     "text": [
      "Stop training because you reached max_epochs = 500 with best_epoch = 492 and best_val_0_accuracy = 0.90714\n",
      "Stop training because you reached max_epochs = 500 with best_epoch = 459 and best_val_0_accuracy = 0.91607\n",
      "Stop training because you reached max_epochs = 500 with best_epoch = 472 and best_val_0_accuracy = 0.90774\n"
     ]
    },
    {
     "name": "stderr",
     "output_type": "stream",
     "text": [
      "/opt/conda/lib/python3.11/site-packages/pytorch_tabnet/callbacks.py:172: UserWarning: Best weights from best epoch are automatically used!\n",
      "  warnings.warn(wrn_msg)\n"
     ]
    },
    {
     "name": "stdout",
     "output_type": "stream",
     "text": [
      "Stop training because you reached max_epochs = 500 with best_epoch = 485 and best_val_0_accuracy = 0.93929\n"
     ]
    },
    {
     "name": "stderr",
     "output_type": "stream",
     "text": [
      "/opt/conda/lib/python3.11/site-packages/pytorch_tabnet/callbacks.py:172: UserWarning: Best weights from best epoch are automatically used!\n",
      "  warnings.warn(wrn_msg)\n"
     ]
    },
    {
     "name": "stdout",
     "output_type": "stream",
     "text": [
      "Stop training because you reached max_epochs = 500 with best_epoch = 444 and best_val_0_accuracy = 0.93274\n"
     ]
    },
    {
     "name": "stderr",
     "output_type": "stream",
     "text": [
      "/opt/conda/lib/python3.11/site-packages/pytorch_tabnet/callbacks.py:172: UserWarning: Best weights from best epoch are automatically used!\n",
      "  warnings.warn(wrn_msg)\n"
     ]
    },
    {
     "name": "stdout",
     "output_type": "stream",
     "text": [
      "Stop training because you reached max_epochs = 500 with best_epoch = 477 and best_val_0_accuracy = 0.92619\n",
      "Stop training because you reached max_epochs = 500 with best_epoch = 489 and best_val_0_accuracy = 0.9\n"
     ]
    },
    {
     "name": "stderr",
     "output_type": "stream",
     "text": [
      "/opt/conda/lib/python3.11/site-packages/pytorch_tabnet/callbacks.py:172: UserWarning: Best weights from best epoch are automatically used!\n",
      "  warnings.warn(wrn_msg)\n",
      "/opt/conda/lib/python3.11/site-packages/pytorch_tabnet/callbacks.py:172: UserWarning: Best weights from best epoch are automatically used!\n",
      "  warnings.warn(wrn_msg)\n"
     ]
    },
    {
     "name": "stdout",
     "output_type": "stream",
     "text": [
      "Stop training because you reached max_epochs = 500 with best_epoch = 475 and best_val_0_accuracy = 0.94048\n"
     ]
    },
    {
     "name": "stderr",
     "output_type": "stream",
     "text": [
      "/opt/conda/lib/python3.11/site-packages/pytorch_tabnet/callbacks.py:172: UserWarning: Best weights from best epoch are automatically used!\n",
      "  warnings.warn(wrn_msg)\n"
     ]
    },
    {
     "name": "stdout",
     "output_type": "stream",
     "text": [
      "Stop training because you reached max_epochs = 500 with best_epoch = 490 and best_val_0_accuracy = 0.98952\n",
      "Best parameters: {'optimizer_params': {'lr': 0.01}, 'n_steps': 3, 'n_d': 24, 'n_a': 16, 'lambda_sparse': 0.01, 'gamma': 1.3}\n",
      "Best accuracy: 0.8876190476190476\n",
      "epoch 0  | loss: 4.65738 | val_0_accuracy: 0.0119  |  0:00:00s\n",
      "⏱️ Epoch 1 took 0.04 seconds\n",
      "epoch 1  | loss: 4.23261 | val_0_accuracy: 0.02619 |  0:00:00s\n",
      "⏱️ Epoch 2 took 0.04 seconds\n",
      "epoch 2  | loss: 3.98694 | val_0_accuracy: 0.02143 |  0:00:00s\n",
      "⏱️ Epoch 3 took 0.03 seconds\n",
      "epoch 3  | loss: 3.82039 | val_0_accuracy: 0.03571 |  0:00:00s\n",
      "⏱️ Epoch 4 took 0.04 seconds\n",
      "epoch 4  | loss: 3.56047 | val_0_accuracy: 0.05476 |  0:00:00s\n",
      "⏱️ Epoch 5 took 0.04 seconds\n",
      "epoch 5  | loss: 3.50614 | val_0_accuracy: 0.04524 |  0:00:00s\n",
      "⏱️ Epoch 6 took 0.04 seconds\n",
      "epoch 6  | loss: 3.38215 | val_0_accuracy: 0.05476 |  0:00:00s\n",
      "⏱️ Epoch 7 took 0.03 seconds\n",
      "epoch 7  | loss: 3.2897  | val_0_accuracy: 0.04524 |  0:00:00s\n",
      "⏱️ Epoch 8 took 0.04 seconds\n",
      "epoch 8  | loss: 3.18887 | val_0_accuracy: 0.0619  |  0:00:00s\n",
      "⏱️ Epoch 9 took 0.04 seconds\n",
      "epoch 9  | loss: 3.09605 | val_0_accuracy: 0.06667 |  0:00:00s\n",
      "⏱️ Epoch 10 took 0.04 seconds\n",
      "epoch 10 | loss: 3.00443 | val_0_accuracy: 0.09286 |  0:00:00s\n",
      "⏱️ Epoch 11 took 0.04 seconds\n",
      "epoch 11 | loss: 2.98973 | val_0_accuracy: 0.1119  |  0:00:00s\n",
      "⏱️ Epoch 12 took 0.04 seconds\n",
      "epoch 12 | loss: 2.90045 | val_0_accuracy: 0.12619 |  0:00:00s\n",
      "⏱️ Epoch 13 took 0.04 seconds\n",
      "epoch 13 | loss: 2.84721 | val_0_accuracy: 0.13571 |  0:00:00s\n",
      "⏱️ Epoch 14 took 0.04 seconds\n",
      "epoch 14 | loss: 2.68711 | val_0_accuracy: 0.17381 |  0:00:00s\n",
      "⏱️ Epoch 15 took 0.04 seconds\n",
      "epoch 15 | loss: 2.67588 | val_0_accuracy: 0.15714 |  0:00:00s\n",
      "⏱️ Epoch 16 took 0.04 seconds\n",
      "epoch 16 | loss: 2.57904 | val_0_accuracy: 0.17857 |  0:00:00s\n",
      "⏱️ Epoch 17 took 0.04 seconds\n",
      "epoch 17 | loss: 2.52225 | val_0_accuracy: 0.18571 |  0:00:00s\n",
      "⏱️ Epoch 18 took 0.04 seconds\n",
      "epoch 18 | loss: 2.42045 | val_0_accuracy: 0.1619  |  0:00:00s\n",
      "⏱️ Epoch 19 took 0.04 seconds\n",
      "epoch 19 | loss: 2.43381 | val_0_accuracy: 0.14524 |  0:00:00s\n",
      "⏱️ Epoch 20 took 0.04 seconds\n",
      "epoch 20 | loss: 2.32354 | val_0_accuracy: 0.12381 |  0:00:00s\n",
      "⏱️ Epoch 21 took 0.04 seconds\n",
      "epoch 21 | loss: 2.26547 | val_0_accuracy: 0.13571 |  0:00:00s\n",
      "⏱️ Epoch 22 took 0.04 seconds\n",
      "epoch 22 | loss: 2.19457 | val_0_accuracy: 0.13333 |  0:00:00s\n",
      "⏱️ Epoch 23 took 0.04 seconds\n",
      "epoch 23 | loss: 2.13276 | val_0_accuracy: 0.14048 |  0:00:00s\n",
      "⏱️ Epoch 24 took 0.04 seconds\n",
      "epoch 24 | loss: 2.13544 | val_0_accuracy: 0.14286 |  0:00:00s\n",
      "⏱️ Epoch 25 took 0.04 seconds\n",
      "epoch 25 | loss: 2.05895 | val_0_accuracy: 0.14286 |  0:00:01s\n",
      "⏱️ Epoch 26 took 0.04 seconds\n",
      "epoch 26 | loss: 2.02879 | val_0_accuracy: 0.12381 |  0:00:01s\n",
      "⏱️ Epoch 27 took 0.04 seconds\n",
      "epoch 27 | loss: 1.95072 | val_0_accuracy: 0.12143 |  0:00:01s\n",
      "⏱️ Epoch 28 took 0.04 seconds\n",
      "epoch 28 | loss: 1.90869 | val_0_accuracy: 0.15    |  0:00:01s\n",
      "⏱️ Epoch 29 took 0.04 seconds\n",
      "epoch 29 | loss: 1.76945 | val_0_accuracy: 0.14286 |  0:00:01s\n",
      "⏱️ Epoch 30 took 0.04 seconds\n",
      "epoch 30 | loss: 1.81669 | val_0_accuracy: 0.14048 |  0:00:01s\n",
      "⏱️ Epoch 31 took 0.04 seconds\n",
      "epoch 31 | loss: 1.72816 | val_0_accuracy: 0.13333 |  0:00:01s\n",
      "⏱️ Epoch 32 took 0.04 seconds\n",
      "epoch 32 | loss: 1.72711 | val_0_accuracy: 0.15952 |  0:00:01s\n",
      "⏱️ Epoch 33 took 0.04 seconds\n",
      "epoch 33 | loss: 1.69064 | val_0_accuracy: 0.13571 |  0:00:01s\n",
      "⏱️ Epoch 34 took 0.04 seconds\n",
      "epoch 34 | loss: 1.643   | val_0_accuracy: 0.13571 |  0:00:01s\n",
      "⏱️ Epoch 35 took 0.04 seconds\n",
      "epoch 35 | loss: 1.59625 | val_0_accuracy: 0.14762 |  0:00:01s\n",
      "⏱️ Epoch 36 took 0.04 seconds\n",
      "epoch 36 | loss: 1.58954 | val_0_accuracy: 0.16667 |  0:00:01s\n",
      "⏱️ Epoch 37 took 0.04 seconds\n",
      "epoch 37 | loss: 1.53816 | val_0_accuracy: 0.1881  |  0:00:01s\n",
      "⏱️ Epoch 38 took 0.04 seconds\n",
      "epoch 38 | loss: 1.46115 | val_0_accuracy: 0.21667 |  0:00:01s\n",
      "⏱️ Epoch 39 took 0.04 seconds\n",
      "epoch 39 | loss: 1.43702 | val_0_accuracy: 0.22143 |  0:00:01s\n",
      "⏱️ Epoch 40 took 0.04 seconds\n",
      "epoch 40 | loss: 1.43148 | val_0_accuracy: 0.21667 |  0:00:01s\n",
      "⏱️ Epoch 41 took 0.04 seconds\n",
      "epoch 41 | loss: 1.38782 | val_0_accuracy: 0.21905 |  0:00:01s\n",
      "⏱️ Epoch 42 took 0.04 seconds\n",
      "epoch 42 | loss: 1.39521 | val_0_accuracy: 0.20238 |  0:00:01s\n",
      "⏱️ Epoch 43 took 0.04 seconds\n",
      "epoch 43 | loss: 1.37618 | val_0_accuracy: 0.22857 |  0:00:01s\n",
      "⏱️ Epoch 44 took 0.04 seconds\n",
      "epoch 44 | loss: 1.31022 | val_0_accuracy: 0.20952 |  0:00:01s\n",
      "⏱️ Epoch 45 took 0.04 seconds\n",
      "epoch 45 | loss: 1.30425 | val_0_accuracy: 0.21905 |  0:00:01s\n",
      "⏱️ Epoch 46 took 0.04 seconds\n",
      "epoch 46 | loss: 1.246   | val_0_accuracy: 0.22143 |  0:00:01s\n",
      "⏱️ Epoch 47 took 0.04 seconds\n",
      "epoch 47 | loss: 1.25503 | val_0_accuracy: 0.23095 |  0:00:01s\n",
      "⏱️ Epoch 48 took 0.04 seconds\n",
      "epoch 48 | loss: 1.19612 | val_0_accuracy: 0.23333 |  0:00:01s\n",
      "⏱️ Epoch 49 took 0.04 seconds\n",
      "epoch 49 | loss: 1.16225 | val_0_accuracy: 0.23333 |  0:00:01s\n",
      "⏱️ Epoch 50 took 0.04 seconds\n",
      "epoch 50 | loss: 1.1519  | val_0_accuracy: 0.23571 |  0:00:01s\n",
      "⏱️ Epoch 51 took 0.04 seconds\n",
      "epoch 51 | loss: 1.14457 | val_0_accuracy: 0.24524 |  0:00:01s\n",
      "⏱️ Epoch 52 took 0.04 seconds\n",
      "epoch 52 | loss: 1.10839 | val_0_accuracy: 0.2619  |  0:00:02s\n",
      "⏱️ Epoch 53 took 0.04 seconds\n",
      "epoch 53 | loss: 1.1078  | val_0_accuracy: 0.25714 |  0:00:02s\n",
      "⏱️ Epoch 54 took 0.04 seconds\n",
      "epoch 54 | loss: 1.10209 | val_0_accuracy: 0.25476 |  0:00:02s\n",
      "⏱️ Epoch 55 took 0.04 seconds\n",
      "epoch 55 | loss: 1.18102 | val_0_accuracy: 0.24524 |  0:00:02s\n",
      "⏱️ Epoch 56 took 0.04 seconds\n",
      "epoch 56 | loss: 1.00991 | val_0_accuracy: 0.24524 |  0:00:02s\n",
      "⏱️ Epoch 57 took 0.04 seconds\n",
      "epoch 57 | loss: 1.08315 | val_0_accuracy: 0.24286 |  0:00:02s\n",
      "⏱️ Epoch 58 took 0.04 seconds\n",
      "epoch 58 | loss: 1.01173 | val_0_accuracy: 0.24762 |  0:00:02s\n",
      "⏱️ Epoch 59 took 0.04 seconds\n",
      "epoch 59 | loss: 1.00638 | val_0_accuracy: 0.24286 |  0:00:02s\n",
      "⏱️ Epoch 60 took 0.04 seconds\n",
      "epoch 60 | loss: 1.01157 | val_0_accuracy: 0.22857 |  0:00:02s\n",
      "⏱️ Epoch 61 took 0.04 seconds\n",
      "epoch 61 | loss: 0.95883 | val_0_accuracy: 0.23095 |  0:00:02s\n",
      "⏱️ Epoch 62 took 0.04 seconds\n",
      "epoch 62 | loss: 1.0232  | val_0_accuracy: 0.23571 |  0:00:02s\n",
      "⏱️ Epoch 63 took 0.04 seconds\n",
      "epoch 63 | loss: 0.94949 | val_0_accuracy: 0.24286 |  0:00:02s\n",
      "⏱️ Epoch 64 took 0.04 seconds\n",
      "epoch 64 | loss: 0.89768 | val_0_accuracy: 0.23333 |  0:00:02s\n",
      "⏱️ Epoch 65 took 0.04 seconds\n",
      "epoch 65 | loss: 0.89377 | val_0_accuracy: 0.24286 |  0:00:02s\n",
      "⏱️ Epoch 66 took 0.04 seconds\n",
      "epoch 66 | loss: 0.90976 | val_0_accuracy: 0.2381  |  0:00:02s\n",
      "⏱️ Epoch 67 took 0.03 seconds\n",
      "epoch 67 | loss: 0.8657  | val_0_accuracy: 0.2381  |  0:00:02s\n",
      "⏱️ Epoch 68 took 0.04 seconds\n",
      "epoch 68 | loss: 0.84784 | val_0_accuracy: 0.23095 |  0:00:02s\n",
      "⏱️ Epoch 69 took 0.04 seconds\n",
      "epoch 69 | loss: 0.8568  | val_0_accuracy: 0.23333 |  0:00:02s\n",
      "⏱️ Epoch 70 took 0.04 seconds\n",
      "epoch 70 | loss: 0.85303 | val_0_accuracy: 0.2381  |  0:00:02s\n",
      "⏱️ Epoch 71 took 0.04 seconds\n",
      "epoch 71 | loss: 0.82629 | val_0_accuracy: 0.25238 |  0:00:02s\n",
      "⏱️ Epoch 72 took 0.04 seconds\n",
      "epoch 72 | loss: 0.8185  | val_0_accuracy: 0.2619  |  0:00:02s\n",
      "⏱️ Epoch 73 took 0.03 seconds\n",
      "epoch 73 | loss: 0.82011 | val_0_accuracy: 0.25476 |  0:00:02s\n",
      "⏱️ Epoch 74 took 0.04 seconds\n",
      "epoch 74 | loss: 0.81526 | val_0_accuracy: 0.25952 |  0:00:02s\n",
      "⏱️ Epoch 75 took 0.04 seconds\n",
      "epoch 75 | loss: 0.79804 | val_0_accuracy: 0.25    |  0:00:02s\n",
      "⏱️ Epoch 76 took 0.04 seconds\n",
      "epoch 76 | loss: 0.75664 | val_0_accuracy: 0.25952 |  0:00:02s\n",
      "⏱️ Epoch 77 took 0.04 seconds\n",
      "epoch 77 | loss: 0.76368 | val_0_accuracy: 0.26429 |  0:00:02s\n",
      "⏱️ Epoch 78 took 0.04 seconds\n",
      "epoch 78 | loss: 0.76761 | val_0_accuracy: 0.2619  |  0:00:03s\n",
      "⏱️ Epoch 79 took 0.04 seconds\n",
      "epoch 79 | loss: 0.74942 | val_0_accuracy: 0.25714 |  0:00:03s\n",
      "⏱️ Epoch 80 took 0.04 seconds\n",
      "epoch 80 | loss: 0.75389 | val_0_accuracy: 0.2619  |  0:00:03s\n",
      "⏱️ Epoch 81 took 0.04 seconds\n",
      "epoch 81 | loss: 0.77426 | val_0_accuracy: 0.25952 |  0:00:03s\n",
      "⏱️ Epoch 82 took 0.04 seconds\n",
      "epoch 82 | loss: 0.70495 | val_0_accuracy: 0.26667 |  0:00:03s\n",
      "⏱️ Epoch 83 took 0.04 seconds\n",
      "epoch 83 | loss: 0.731   | val_0_accuracy: 0.25714 |  0:00:03s\n",
      "⏱️ Epoch 84 took 0.04 seconds\n",
      "epoch 84 | loss: 0.67439 | val_0_accuracy: 0.25476 |  0:00:03s\n",
      "⏱️ Epoch 85 took 0.04 seconds\n",
      "epoch 85 | loss: 0.70653 | val_0_accuracy: 0.23095 |  0:00:03s\n",
      "⏱️ Epoch 86 took 0.04 seconds\n",
      "epoch 86 | loss: 0.74454 | val_0_accuracy: 0.23333 |  0:00:03s\n",
      "⏱️ Epoch 87 took 0.04 seconds\n",
      "epoch 87 | loss: 0.71664 | val_0_accuracy: 0.28571 |  0:00:03s\n",
      "⏱️ Epoch 88 took 0.04 seconds\n",
      "epoch 88 | loss: 0.65217 | val_0_accuracy: 0.3119  |  0:00:03s\n",
      "⏱️ Epoch 89 took 0.04 seconds\n",
      "epoch 89 | loss: 0.69594 | val_0_accuracy: 0.32619 |  0:00:03s\n",
      "⏱️ Epoch 90 took 0.04 seconds\n",
      "epoch 90 | loss: 0.71692 | val_0_accuracy: 0.32619 |  0:00:03s\n",
      "⏱️ Epoch 91 took 0.03 seconds\n",
      "epoch 91 | loss: 0.66906 | val_0_accuracy: 0.32857 |  0:00:03s\n",
      "⏱️ Epoch 92 took 0.04 seconds\n",
      "epoch 92 | loss: 0.64054 | val_0_accuracy: 0.34524 |  0:00:03s\n",
      "⏱️ Epoch 93 took 0.04 seconds\n",
      "epoch 93 | loss: 0.65401 | val_0_accuracy: 0.34048 |  0:00:03s\n",
      "⏱️ Epoch 94 took 0.04 seconds\n",
      "epoch 94 | loss: 0.6248  | val_0_accuracy: 0.33571 |  0:00:03s\n",
      "⏱️ Epoch 95 took 0.04 seconds\n",
      "epoch 95 | loss: 0.62872 | val_0_accuracy: 0.32143 |  0:00:03s\n",
      "⏱️ Epoch 96 took 0.03 seconds\n",
      "epoch 96 | loss: 0.6367  | val_0_accuracy: 0.32381 |  0:00:03s\n",
      "⏱️ Epoch 97 took 0.03 seconds\n",
      "epoch 97 | loss: 0.58435 | val_0_accuracy: 0.30238 |  0:00:03s\n",
      "⏱️ Epoch 98 took 0.04 seconds\n",
      "epoch 98 | loss: 0.62007 | val_0_accuracy: 0.30476 |  0:00:03s\n",
      "⏱️ Epoch 99 took 0.03 seconds\n",
      "epoch 99 | loss: 0.63377 | val_0_accuracy: 0.32143 |  0:00:03s\n",
      "⏱️ Epoch 100 took 0.04 seconds\n",
      "epoch 100| loss: 0.64107 | val_0_accuracy: 0.34048 |  0:00:03s\n",
      "⏱️ Epoch 101 took 0.04 seconds\n",
      "epoch 101| loss: 0.5762  | val_0_accuracy: 0.35952 |  0:00:03s\n",
      "⏱️ Epoch 102 took 0.04 seconds\n",
      "epoch 102| loss: 0.55506 | val_0_accuracy: 0.36429 |  0:00:03s\n",
      "⏱️ Epoch 103 took 0.04 seconds\n",
      "epoch 103| loss: 0.54148 | val_0_accuracy: 0.35714 |  0:00:03s\n",
      "⏱️ Epoch 104 took 0.04 seconds\n",
      "epoch 104| loss: 0.56613 | val_0_accuracy: 0.37381 |  0:00:03s\n",
      "⏱️ Epoch 105 took 0.04 seconds\n",
      "epoch 105| loss: 0.57095 | val_0_accuracy: 0.3881  |  0:00:04s\n",
      "⏱️ Epoch 106 took 0.04 seconds\n",
      "epoch 106| loss: 0.54389 | val_0_accuracy: 0.40476 |  0:00:04s\n",
      "⏱️ Epoch 107 took 0.04 seconds\n",
      "epoch 107| loss: 0.57049 | val_0_accuracy: 0.40238 |  0:00:04s\n",
      "⏱️ Epoch 108 took 0.04 seconds\n",
      "epoch 108| loss: 0.53484 | val_0_accuracy: 0.41667 |  0:00:04s\n",
      "⏱️ Epoch 109 took 0.04 seconds\n",
      "epoch 109| loss: 0.54979 | val_0_accuracy: 0.42143 |  0:00:04s\n",
      "⏱️ Epoch 110 took 0.04 seconds\n",
      "epoch 110| loss: 0.58616 | val_0_accuracy: 0.41667 |  0:00:04s\n",
      "⏱️ Epoch 111 took 0.04 seconds\n",
      "epoch 111| loss: 0.53813 | val_0_accuracy: 0.42381 |  0:00:04s\n",
      "⏱️ Epoch 112 took 0.04 seconds\n",
      "epoch 112| loss: 0.51477 | val_0_accuracy: 0.4381  |  0:00:04s\n",
      "⏱️ Epoch 113 took 0.04 seconds\n",
      "epoch 113| loss: 0.50854 | val_0_accuracy: 0.44524 |  0:00:04s\n",
      "⏱️ Epoch 114 took 0.04 seconds\n",
      "epoch 114| loss: 0.54297 | val_0_accuracy: 0.44524 |  0:00:04s\n",
      "⏱️ Epoch 115 took 0.04 seconds\n",
      "epoch 115| loss: 0.53941 | val_0_accuracy: 0.46429 |  0:00:04s\n",
      "⏱️ Epoch 116 took 0.04 seconds\n",
      "epoch 116| loss: 0.52534 | val_0_accuracy: 0.46905 |  0:00:04s\n",
      "⏱️ Epoch 117 took 0.04 seconds\n",
      "epoch 117| loss: 0.496   | val_0_accuracy: 0.47381 |  0:00:04s\n",
      "⏱️ Epoch 118 took 0.04 seconds\n",
      "epoch 118| loss: 0.50558 | val_0_accuracy: 0.47381 |  0:00:04s\n",
      "⏱️ Epoch 119 took 0.04 seconds\n",
      "epoch 119| loss: 0.48828 | val_0_accuracy: 0.49048 |  0:00:04s\n",
      "⏱️ Epoch 120 took 0.04 seconds\n",
      "epoch 120| loss: 0.48504 | val_0_accuracy: 0.49048 |  0:00:04s\n",
      "⏱️ Epoch 121 took 0.04 seconds\n",
      "epoch 121| loss: 0.5133  | val_0_accuracy: 0.47619 |  0:00:04s\n",
      "⏱️ Epoch 122 took 0.04 seconds\n",
      "epoch 122| loss: 0.51608 | val_0_accuracy: 0.46905 |  0:00:04s\n",
      "⏱️ Epoch 123 took 0.04 seconds\n",
      "epoch 123| loss: 0.48743 | val_0_accuracy: 0.46667 |  0:00:04s\n",
      "⏱️ Epoch 124 took 0.04 seconds\n",
      "epoch 124| loss: 0.47716 | val_0_accuracy: 0.46667 |  0:00:04s\n",
      "⏱️ Epoch 125 took 0.04 seconds\n",
      "epoch 125| loss: 0.48567 | val_0_accuracy: 0.47381 |  0:00:04s\n",
      "⏱️ Epoch 126 took 0.04 seconds\n",
      "epoch 126| loss: 0.50386 | val_0_accuracy: 0.46429 |  0:00:04s\n",
      "⏱️ Epoch 127 took 0.04 seconds\n",
      "epoch 127| loss: 0.48145 | val_0_accuracy: 0.4619  |  0:00:04s\n",
      "⏱️ Epoch 128 took 0.04 seconds\n",
      "epoch 128| loss: 0.47437 | val_0_accuracy: 0.46905 |  0:00:04s\n",
      "⏱️ Epoch 129 took 0.04 seconds\n",
      "epoch 129| loss: 0.48294 | val_0_accuracy: 0.48333 |  0:00:04s\n",
      "⏱️ Epoch 130 took 0.04 seconds\n",
      "epoch 130| loss: 0.46989 | val_0_accuracy: 0.5     |  0:00:04s\n",
      "⏱️ Epoch 131 took 0.04 seconds\n",
      "epoch 131| loss: 0.47738 | val_0_accuracy: 0.49762 |  0:00:05s\n",
      "⏱️ Epoch 132 took 0.04 seconds\n",
      "epoch 132| loss: 0.496   | val_0_accuracy: 0.49762 |  0:00:05s\n",
      "⏱️ Epoch 133 took 0.04 seconds\n",
      "epoch 133| loss: 0.5131  | val_0_accuracy: 0.50238 |  0:00:05s\n",
      "⏱️ Epoch 134 took 0.04 seconds\n",
      "epoch 134| loss: 0.48359 | val_0_accuracy: 0.50714 |  0:00:05s\n",
      "⏱️ Epoch 135 took 0.04 seconds\n",
      "epoch 135| loss: 0.4323  | val_0_accuracy: 0.50238 |  0:00:05s\n",
      "⏱️ Epoch 136 took 0.04 seconds\n",
      "epoch 136| loss: 0.43733 | val_0_accuracy: 0.49524 |  0:00:05s\n",
      "⏱️ Epoch 137 took 0.04 seconds\n",
      "epoch 137| loss: 0.49303 | val_0_accuracy: 0.50238 |  0:00:05s\n",
      "⏱️ Epoch 138 took 0.04 seconds\n",
      "epoch 138| loss: 0.52387 | val_0_accuracy: 0.50238 |  0:00:05s\n",
      "⏱️ Epoch 139 took 0.04 seconds\n",
      "epoch 139| loss: 0.43334 | val_0_accuracy: 0.49286 |  0:00:05s\n",
      "⏱️ Epoch 140 took 0.04 seconds\n",
      "epoch 140| loss: 0.44176 | val_0_accuracy: 0.51429 |  0:00:05s\n",
      "⏱️ Epoch 141 took 0.05 seconds\n",
      "epoch 141| loss: 0.41933 | val_0_accuracy: 0.52143 |  0:00:05s\n",
      "⏱️ Epoch 142 took 0.06 seconds\n",
      "epoch 142| loss: 0.40445 | val_0_accuracy: 0.52143 |  0:00:05s\n",
      "⏱️ Epoch 143 took 0.05 seconds\n",
      "epoch 143| loss: 0.42317 | val_0_accuracy: 0.52143 |  0:00:05s\n",
      "⏱️ Epoch 144 took 0.05 seconds\n",
      "epoch 144| loss: 0.4433  | val_0_accuracy: 0.50952 |  0:00:05s\n",
      "⏱️ Epoch 145 took 0.04 seconds\n",
      "epoch 145| loss: 0.43587 | val_0_accuracy: 0.49286 |  0:00:05s\n",
      "⏱️ Epoch 146 took 0.04 seconds\n",
      "epoch 146| loss: 0.45566 | val_0_accuracy: 0.49048 |  0:00:05s\n",
      "⏱️ Epoch 147 took 0.04 seconds\n",
      "epoch 147| loss: 0.40785 | val_0_accuracy: 0.49286 |  0:00:05s\n",
      "⏱️ Epoch 148 took 0.04 seconds\n",
      "epoch 148| loss: 0.41866 | val_0_accuracy: 0.51905 |  0:00:05s\n",
      "⏱️ Epoch 149 took 0.04 seconds\n",
      "epoch 149| loss: 0.46477 | val_0_accuracy: 0.5119  |  0:00:05s\n",
      "⏱️ Epoch 150 took 0.04 seconds\n",
      "epoch 150| loss: 0.42614 | val_0_accuracy: 0.48571 |  0:00:05s\n",
      "⏱️ Epoch 151 took 0.04 seconds\n",
      "epoch 151| loss: 0.39025 | val_0_accuracy: 0.49524 |  0:00:05s\n",
      "⏱️ Epoch 152 took 0.04 seconds\n",
      "epoch 152| loss: 0.44312 | val_0_accuracy: 0.49048 |  0:00:05s\n",
      "⏱️ Epoch 153 took 0.04 seconds\n",
      "epoch 153| loss: 0.46682 | val_0_accuracy: 0.50714 |  0:00:05s\n",
      "⏱️ Epoch 154 took 0.04 seconds\n",
      "epoch 154| loss: 0.45697 | val_0_accuracy: 0.56667 |  0:00:06s\n",
      "⏱️ Epoch 155 took 0.21 seconds\n",
      "epoch 155| loss: 0.46518 | val_0_accuracy: 0.59762 |  0:00:06s\n",
      "⏱️ Epoch 156 took 0.04 seconds\n",
      "epoch 156| loss: 0.40913 | val_0_accuracy: 0.61667 |  0:00:06s\n",
      "⏱️ Epoch 157 took 0.04 seconds\n",
      "epoch 157| loss: 0.40186 | val_0_accuracy: 0.61905 |  0:00:06s\n",
      "⏱️ Epoch 158 took 0.04 seconds\n",
      "epoch 158| loss: 0.42909 | val_0_accuracy: 0.61429 |  0:00:06s\n",
      "⏱️ Epoch 159 took 0.04 seconds\n",
      "epoch 159| loss: 0.42544 | val_0_accuracy: 0.5881  |  0:00:06s\n",
      "⏱️ Epoch 160 took 0.04 seconds\n",
      "epoch 160| loss: 0.45116 | val_0_accuracy: 0.55238 |  0:00:06s\n",
      "⏱️ Epoch 161 took 0.04 seconds\n",
      "epoch 161| loss: 0.42623 | val_0_accuracy: 0.54762 |  0:00:06s\n",
      "⏱️ Epoch 162 took 0.04 seconds\n",
      "epoch 162| loss: 0.40863 | val_0_accuracy: 0.53571 |  0:00:06s\n",
      "⏱️ Epoch 163 took 0.04 seconds\n",
      "epoch 163| loss: 0.41215 | val_0_accuracy: 0.55238 |  0:00:06s\n",
      "⏱️ Epoch 164 took 0.04 seconds\n",
      "epoch 164| loss: 0.4076  | val_0_accuracy: 0.60476 |  0:00:06s\n",
      "⏱️ Epoch 165 took 0.04 seconds\n",
      "epoch 165| loss: 0.43152 | val_0_accuracy: 0.63333 |  0:00:06s\n",
      "⏱️ Epoch 166 took 0.04 seconds\n",
      "epoch 166| loss: 0.42301 | val_0_accuracy: 0.67619 |  0:00:06s\n",
      "⏱️ Epoch 167 took 0.04 seconds\n",
      "epoch 167| loss: 0.41132 | val_0_accuracy: 0.69286 |  0:00:06s\n",
      "⏱️ Epoch 168 took 0.04 seconds\n",
      "epoch 168| loss: 0.3949  | val_0_accuracy: 0.7119  |  0:00:06s\n",
      "⏱️ Epoch 169 took 0.04 seconds\n",
      "epoch 169| loss: 0.39216 | val_0_accuracy: 0.64762 |  0:00:06s\n",
      "⏱️ Epoch 170 took 0.04 seconds\n",
      "epoch 170| loss: 0.37615 | val_0_accuracy: 0.63571 |  0:00:06s\n",
      "⏱️ Epoch 171 took 0.04 seconds\n",
      "epoch 171| loss: 0.39668 | val_0_accuracy: 0.62381 |  0:00:06s\n",
      "⏱️ Epoch 172 took 0.04 seconds\n",
      "epoch 172| loss: 0.36684 | val_0_accuracy: 0.6119  |  0:00:06s\n",
      "⏱️ Epoch 173 took 0.04 seconds\n",
      "epoch 173| loss: 0.40862 | val_0_accuracy: 0.61667 |  0:00:06s\n",
      "⏱️ Epoch 174 took 0.04 seconds\n",
      "epoch 174| loss: 0.38391 | val_0_accuracy: 0.62619 |  0:00:06s\n",
      "⏱️ Epoch 175 took 0.04 seconds\n",
      "epoch 175| loss: 0.37369 | val_0_accuracy: 0.63571 |  0:00:06s\n",
      "⏱️ Epoch 176 took 0.04 seconds\n",
      "epoch 176| loss: 0.36358 | val_0_accuracy: 0.64286 |  0:00:07s\n",
      "⏱️ Epoch 177 took 0.04 seconds\n",
      "epoch 177| loss: 0.40004 | val_0_accuracy: 0.64762 |  0:00:07s\n",
      "⏱️ Epoch 178 took 0.03 seconds\n",
      "epoch 178| loss: 0.37145 | val_0_accuracy: 0.6881  |  0:00:07s\n",
      "⏱️ Epoch 179 took 0.04 seconds\n",
      "epoch 179| loss: 0.37524 | val_0_accuracy: 0.7119  |  0:00:07s\n",
      "⏱️ Epoch 180 took 0.04 seconds\n",
      "epoch 180| loss: 0.36903 | val_0_accuracy: 0.69286 |  0:00:07s\n",
      "⏱️ Epoch 181 took 0.04 seconds\n",
      "epoch 181| loss: 0.34858 | val_0_accuracy: 0.69762 |  0:00:07s\n",
      "⏱️ Epoch 182 took 0.04 seconds\n",
      "epoch 182| loss: 0.37356 | val_0_accuracy: 0.70952 |  0:00:07s\n",
      "⏱️ Epoch 183 took 0.04 seconds\n",
      "epoch 183| loss: 0.38798 | val_0_accuracy: 0.68571 |  0:00:07s\n",
      "⏱️ Epoch 184 took 0.04 seconds\n",
      "epoch 184| loss: 0.35634 | val_0_accuracy: 0.70714 |  0:00:07s\n",
      "⏱️ Epoch 185 took 0.04 seconds\n",
      "epoch 185| loss: 0.33669 | val_0_accuracy: 0.70476 |  0:00:07s\n",
      "⏱️ Epoch 186 took 0.04 seconds\n",
      "epoch 186| loss: 0.34468 | val_0_accuracy: 0.67381 |  0:00:07s\n",
      "⏱️ Epoch 187 took 0.04 seconds\n",
      "epoch 187| loss: 0.39028 | val_0_accuracy: 0.6619  |  0:00:07s\n",
      "⏱️ Epoch 188 took 0.04 seconds\n",
      "epoch 188| loss: 0.38118 | val_0_accuracy: 0.67143 |  0:00:07s\n",
      "⏱️ Epoch 189 took 0.04 seconds\n",
      "epoch 189| loss: 0.3574  | val_0_accuracy: 0.67857 |  0:00:07s\n",
      "⏱️ Epoch 190 took 0.04 seconds\n",
      "epoch 190| loss: 0.35677 | val_0_accuracy: 0.67619 |  0:00:07s\n",
      "⏱️ Epoch 191 took 0.04 seconds\n",
      "epoch 191| loss: 0.31725 | val_0_accuracy: 0.69286 |  0:00:07s\n",
      "⏱️ Epoch 192 took 0.04 seconds\n",
      "epoch 192| loss: 0.34701 | val_0_accuracy: 0.69048 |  0:00:07s\n",
      "⏱️ Epoch 193 took 0.04 seconds\n",
      "epoch 193| loss: 0.32722 | val_0_accuracy: 0.6881  |  0:00:07s\n",
      "⏱️ Epoch 194 took 0.04 seconds\n",
      "epoch 194| loss: 0.33889 | val_0_accuracy: 0.6619  |  0:00:07s\n",
      "⏱️ Epoch 195 took 0.04 seconds\n",
      "epoch 195| loss: 0.34068 | val_0_accuracy: 0.65714 |  0:00:07s\n",
      "⏱️ Epoch 196 took 0.04 seconds\n",
      "epoch 196| loss: 0.32234 | val_0_accuracy: 0.67143 |  0:00:07s\n",
      "⏱️ Epoch 197 took 0.03 seconds\n",
      "epoch 197| loss: 0.37936 | val_0_accuracy: 0.6881  |  0:00:07s\n",
      "⏱️ Epoch 198 took 0.04 seconds\n",
      "epoch 198| loss: 0.35899 | val_0_accuracy: 0.70476 |  0:00:07s\n",
      "⏱️ Epoch 199 took 0.04 seconds\n",
      "epoch 199| loss: 0.37218 | val_0_accuracy: 0.74048 |  0:00:07s\n",
      "⏱️ Epoch 200 took 0.04 seconds\n",
      "epoch 200| loss: 0.33689 | val_0_accuracy: 0.73571 |  0:00:07s\n",
      "⏱️ Epoch 201 took 0.04 seconds\n",
      "epoch 201| loss: 0.32401 | val_0_accuracy: 0.73095 |  0:00:07s\n",
      "⏱️ Epoch 202 took 0.04 seconds\n",
      "epoch 202| loss: 0.34098 | val_0_accuracy: 0.71667 |  0:00:07s\n",
      "⏱️ Epoch 203 took 0.04 seconds\n",
      "epoch 203| loss: 0.33967 | val_0_accuracy: 0.70476 |  0:00:07s\n",
      "⏱️ Epoch 204 took 0.04 seconds\n",
      "epoch 204| loss: 0.32262 | val_0_accuracy: 0.6881  |  0:00:08s\n",
      "⏱️ Epoch 205 took 0.04 seconds\n",
      "epoch 205| loss: 0.32878 | val_0_accuracy: 0.68095 |  0:00:08s\n",
      "⏱️ Epoch 206 took 0.04 seconds\n",
      "epoch 206| loss: 0.33048 | val_0_accuracy: 0.7     |  0:00:08s\n",
      "⏱️ Epoch 207 took 0.04 seconds\n",
      "epoch 207| loss: 0.35762 | val_0_accuracy: 0.72143 |  0:00:08s\n",
      "⏱️ Epoch 208 took 0.04 seconds\n",
      "epoch 208| loss: 0.40325 | val_0_accuracy: 0.74762 |  0:00:08s\n",
      "⏱️ Epoch 209 took 0.04 seconds\n",
      "epoch 209| loss: 0.33274 | val_0_accuracy: 0.76429 |  0:00:08s\n",
      "⏱️ Epoch 210 took 0.04 seconds\n",
      "epoch 210| loss: 0.33366 | val_0_accuracy: 0.76905 |  0:00:08s\n",
      "⏱️ Epoch 211 took 0.04 seconds\n",
      "epoch 211| loss: 0.35694 | val_0_accuracy: 0.77143 |  0:00:08s\n",
      "⏱️ Epoch 212 took 0.04 seconds\n",
      "epoch 212| loss: 0.34095 | val_0_accuracy: 0.75952 |  0:00:08s\n",
      "⏱️ Epoch 213 took 0.04 seconds\n",
      "epoch 213| loss: 0.30076 | val_0_accuracy: 0.75    |  0:00:08s\n",
      "⏱️ Epoch 214 took 0.04 seconds\n",
      "epoch 214| loss: 0.31457 | val_0_accuracy: 0.74524 |  0:00:08s\n",
      "⏱️ Epoch 215 took 0.04 seconds\n",
      "epoch 215| loss: 0.34144 | val_0_accuracy: 0.75476 |  0:00:08s\n",
      "⏱️ Epoch 216 took 0.04 seconds\n",
      "epoch 216| loss: 0.34262 | val_0_accuracy: 0.77381 |  0:00:08s\n",
      "⏱️ Epoch 217 took 0.04 seconds\n",
      "epoch 217| loss: 0.36004 | val_0_accuracy: 0.79286 |  0:00:08s\n",
      "⏱️ Epoch 218 took 0.04 seconds\n",
      "epoch 218| loss: 0.32078 | val_0_accuracy: 0.81667 |  0:00:08s\n",
      "⏱️ Epoch 219 took 0.04 seconds\n",
      "epoch 219| loss: 0.36503 | val_0_accuracy: 0.80238 |  0:00:08s\n",
      "⏱️ Epoch 220 took 0.04 seconds\n",
      "epoch 220| loss: 0.34421 | val_0_accuracy: 0.8     |  0:00:08s\n",
      "⏱️ Epoch 221 took 0.04 seconds\n",
      "epoch 221| loss: 0.3543  | val_0_accuracy: 0.7881  |  0:00:08s\n",
      "⏱️ Epoch 222 took 0.04 seconds\n",
      "epoch 222| loss: 0.30171 | val_0_accuracy: 0.78333 |  0:00:08s\n",
      "⏱️ Epoch 223 took 0.04 seconds\n",
      "epoch 223| loss: 0.32104 | val_0_accuracy: 0.74762 |  0:00:08s\n",
      "⏱️ Epoch 224 took 0.04 seconds\n",
      "epoch 224| loss: 0.30427 | val_0_accuracy: 0.74286 |  0:00:08s\n",
      "⏱️ Epoch 225 took 0.04 seconds\n",
      "epoch 225| loss: 0.32159 | val_0_accuracy: 0.7619  |  0:00:08s\n",
      "⏱️ Epoch 226 took 0.04 seconds\n",
      "epoch 226| loss: 0.40279 | val_0_accuracy: 0.77381 |  0:00:08s\n",
      "⏱️ Epoch 227 took 0.04 seconds\n",
      "epoch 227| loss: 0.34171 | val_0_accuracy: 0.78095 |  0:00:08s\n",
      "⏱️ Epoch 228 took 0.04 seconds\n",
      "epoch 228| loss: 0.3246  | val_0_accuracy: 0.78333 |  0:00:08s\n",
      "⏱️ Epoch 229 took 0.05 seconds\n",
      "epoch 229| loss: 0.31866 | val_0_accuracy: 0.77143 |  0:00:09s\n",
      "⏱️ Epoch 230 took 0.05 seconds\n",
      "epoch 230| loss: 0.32522 | val_0_accuracy: 0.75476 |  0:00:09s\n",
      "⏱️ Epoch 231 took 0.04 seconds\n",
      "epoch 231| loss: 0.30907 | val_0_accuracy: 0.76667 |  0:00:09s\n",
      "⏱️ Epoch 232 took 0.04 seconds\n",
      "epoch 232| loss: 0.32344 | val_0_accuracy: 0.78333 |  0:00:09s\n",
      "⏱️ Epoch 233 took 0.04 seconds\n",
      "epoch 233| loss: 0.31984 | val_0_accuracy: 0.77619 |  0:00:09s\n",
      "⏱️ Epoch 234 took 0.04 seconds\n",
      "epoch 234| loss: 0.30696 | val_0_accuracy: 0.79524 |  0:00:09s\n",
      "⏱️ Epoch 235 took 0.04 seconds\n",
      "epoch 235| loss: 0.30091 | val_0_accuracy: 0.78095 |  0:00:09s\n",
      "⏱️ Epoch 236 took 0.04 seconds\n",
      "epoch 236| loss: 0.293   | val_0_accuracy: 0.78333 |  0:00:09s\n",
      "⏱️ Epoch 237 took 0.04 seconds\n",
      "epoch 237| loss: 0.31274 | val_0_accuracy: 0.79286 |  0:00:09s\n",
      "⏱️ Epoch 238 took 0.04 seconds\n",
      "epoch 238| loss: 0.30533 | val_0_accuracy: 0.78571 |  0:00:09s\n",
      "⏱️ Epoch 239 took 0.04 seconds\n",
      "epoch 239| loss: 0.30627 | val_0_accuracy: 0.77857 |  0:00:09s\n",
      "⏱️ Epoch 240 took 0.04 seconds\n",
      "epoch 240| loss: 0.28521 | val_0_accuracy: 0.79048 |  0:00:09s\n",
      "⏱️ Epoch 241 took 0.04 seconds\n",
      "epoch 241| loss: 0.32703 | val_0_accuracy: 0.77143 |  0:00:09s\n",
      "⏱️ Epoch 242 took 0.04 seconds\n",
      "epoch 242| loss: 0.2959  | val_0_accuracy: 0.79286 |  0:00:09s\n",
      "⏱️ Epoch 243 took 0.04 seconds\n",
      "epoch 243| loss: 0.29852 | val_0_accuracy: 0.8119  |  0:00:09s\n",
      "⏱️ Epoch 244 took 0.04 seconds\n",
      "epoch 244| loss: 0.30939 | val_0_accuracy: 0.83571 |  0:00:09s\n",
      "⏱️ Epoch 245 took 0.04 seconds\n",
      "epoch 245| loss: 0.30614 | val_0_accuracy: 0.8381  |  0:00:09s\n",
      "⏱️ Epoch 246 took 0.04 seconds\n",
      "epoch 246| loss: 0.29661 | val_0_accuracy: 0.80952 |  0:00:09s\n",
      "⏱️ Epoch 247 took 0.03 seconds\n",
      "epoch 247| loss: 0.3222  | val_0_accuracy: 0.8119  |  0:00:09s\n",
      "⏱️ Epoch 248 took 0.04 seconds\n",
      "epoch 248| loss: 0.24632 | val_0_accuracy: 0.82619 |  0:00:09s\n",
      "⏱️ Epoch 249 took 0.04 seconds\n",
      "epoch 249| loss: 0.29622 | val_0_accuracy: 0.83333 |  0:00:09s\n",
      "⏱️ Epoch 250 took 0.04 seconds\n",
      "epoch 250| loss: 0.31331 | val_0_accuracy: 0.84762 |  0:00:09s\n",
      "⏱️ Epoch 251 took 0.04 seconds\n",
      "epoch 251| loss: 0.31377 | val_0_accuracy: 0.8619  |  0:00:09s\n",
      "⏱️ Epoch 252 took 0.04 seconds\n",
      "epoch 252| loss: 0.26319 | val_0_accuracy: 0.87381 |  0:00:09s\n",
      "⏱️ Epoch 253 took 0.04 seconds\n",
      "epoch 253| loss: 0.28332 | val_0_accuracy: 0.84048 |  0:00:09s\n",
      "⏱️ Epoch 254 took 0.04 seconds\n",
      "epoch 254| loss: 0.29353 | val_0_accuracy: 0.83333 |  0:00:09s\n",
      "⏱️ Epoch 255 took 0.04 seconds\n",
      "epoch 255| loss: 0.28518 | val_0_accuracy: 0.82381 |  0:00:10s\n",
      "⏱️ Epoch 256 took 0.04 seconds\n",
      "epoch 256| loss: 0.27791 | val_0_accuracy: 0.81667 |  0:00:10s\n",
      "⏱️ Epoch 257 took 0.04 seconds\n",
      "epoch 257| loss: 0.29286 | val_0_accuracy: 0.8     |  0:00:10s\n",
      "⏱️ Epoch 258 took 0.04 seconds\n",
      "epoch 258| loss: 0.26934 | val_0_accuracy: 0.78571 |  0:00:10s\n",
      "⏱️ Epoch 259 took 0.04 seconds\n",
      "epoch 259| loss: 0.29968 | val_0_accuracy: 0.79286 |  0:00:10s\n",
      "⏱️ Epoch 260 took 0.04 seconds\n",
      "epoch 260| loss: 0.28883 | val_0_accuracy: 0.81667 |  0:00:10s\n",
      "⏱️ Epoch 261 took 0.04 seconds\n",
      "epoch 261| loss: 0.2854  | val_0_accuracy: 0.86667 |  0:00:10s\n",
      "⏱️ Epoch 262 took 0.04 seconds\n",
      "epoch 262| loss: 0.28235 | val_0_accuracy: 0.87143 |  0:00:10s\n",
      "⏱️ Epoch 263 took 0.04 seconds\n",
      "epoch 263| loss: 0.32595 | val_0_accuracy: 0.87143 |  0:00:10s\n",
      "⏱️ Epoch 264 took 0.04 seconds\n",
      "epoch 264| loss: 0.2953  | val_0_accuracy: 0.85476 |  0:00:10s\n",
      "⏱️ Epoch 265 took 0.04 seconds\n",
      "epoch 265| loss: 0.2805  | val_0_accuracy: 0.85238 |  0:00:10s\n",
      "⏱️ Epoch 266 took 0.04 seconds\n",
      "epoch 266| loss: 0.2682  | val_0_accuracy: 0.83571 |  0:00:10s\n",
      "⏱️ Epoch 267 took 0.04 seconds\n",
      "epoch 267| loss: 0.27683 | val_0_accuracy: 0.83333 |  0:00:10s\n",
      "⏱️ Epoch 268 took 0.04 seconds\n",
      "epoch 268| loss: 0.26045 | val_0_accuracy: 0.80952 |  0:00:10s\n",
      "⏱️ Epoch 269 took 0.04 seconds\n",
      "epoch 269| loss: 0.27224 | val_0_accuracy: 0.82381 |  0:00:10s\n",
      "⏱️ Epoch 270 took 0.04 seconds\n",
      "epoch 270| loss: 0.23828 | val_0_accuracy: 0.85    |  0:00:10s\n",
      "⏱️ Epoch 271 took 0.04 seconds\n",
      "epoch 271| loss: 0.26868 | val_0_accuracy: 0.85952 |  0:00:10s\n",
      "⏱️ Epoch 272 took 0.04 seconds\n",
      "epoch 272| loss: 0.2539  | val_0_accuracy: 0.83571 |  0:00:10s\n",
      "⏱️ Epoch 273 took 0.04 seconds\n",
      "epoch 273| loss: 0.26452 | val_0_accuracy: 0.84286 |  0:00:10s\n",
      "⏱️ Epoch 274 took 0.04 seconds\n",
      "epoch 274| loss: 0.28883 | val_0_accuracy: 0.85952 |  0:00:10s\n",
      "⏱️ Epoch 275 took 0.04 seconds\n",
      "epoch 275| loss: 0.28795 | val_0_accuracy: 0.82857 |  0:00:10s\n",
      "⏱️ Epoch 276 took 0.04 seconds\n",
      "epoch 276| loss: 0.29892 | val_0_accuracy: 0.81429 |  0:00:10s\n",
      "⏱️ Epoch 277 took 0.04 seconds\n",
      "epoch 277| loss: 0.31202 | val_0_accuracy: 0.80952 |  0:00:10s\n",
      "⏱️ Epoch 278 took 0.04 seconds\n",
      "epoch 278| loss: 0.26968 | val_0_accuracy: 0.82381 |  0:00:10s\n",
      "⏱️ Epoch 279 took 0.04 seconds\n",
      "epoch 279| loss: 0.23902 | val_0_accuracy: 0.83571 |  0:00:10s\n",
      "⏱️ Epoch 280 took 0.04 seconds\n",
      "epoch 280| loss: 0.29808 | val_0_accuracy: 0.85238 |  0:00:10s\n",
      "⏱️ Epoch 281 took 0.04 seconds\n",
      "epoch 281| loss: 0.29821 | val_0_accuracy: 0.86667 |  0:00:10s\n",
      "⏱️ Epoch 282 took 0.04 seconds\n",
      "epoch 282| loss: 0.2424  | val_0_accuracy: 0.87619 |  0:00:11s\n",
      "⏱️ Epoch 283 took 0.04 seconds\n",
      "epoch 283| loss: 0.23611 | val_0_accuracy: 0.86667 |  0:00:11s\n",
      "⏱️ Epoch 284 took 0.04 seconds\n",
      "epoch 284| loss: 0.27774 | val_0_accuracy: 0.82619 |  0:00:11s\n",
      "⏱️ Epoch 285 took 0.04 seconds\n",
      "epoch 285| loss: 0.27109 | val_0_accuracy: 0.83095 |  0:00:11s\n",
      "⏱️ Epoch 286 took 0.04 seconds\n",
      "epoch 286| loss: 0.2693  | val_0_accuracy: 0.84524 |  0:00:11s\n",
      "⏱️ Epoch 287 took 0.04 seconds\n",
      "epoch 287| loss: 0.23945 | val_0_accuracy: 0.86905 |  0:00:11s\n",
      "⏱️ Epoch 288 took 0.04 seconds\n",
      "epoch 288| loss: 0.30533 | val_0_accuracy: 0.89048 |  0:00:11s\n",
      "⏱️ Epoch 289 took 0.04 seconds\n",
      "epoch 289| loss: 0.28764 | val_0_accuracy: 0.89048 |  0:00:11s\n",
      "⏱️ Epoch 290 took 0.04 seconds\n",
      "epoch 290| loss: 0.24018 | val_0_accuracy: 0.85714 |  0:00:11s\n",
      "⏱️ Epoch 291 took 0.04 seconds\n",
      "epoch 291| loss: 0.25866 | val_0_accuracy: 0.83095 |  0:00:11s\n",
      "⏱️ Epoch 292 took 0.04 seconds\n",
      "epoch 292| loss: 0.29534 | val_0_accuracy: 0.83333 |  0:00:11s\n",
      "⏱️ Epoch 293 took 0.04 seconds\n",
      "epoch 293| loss: 0.2555  | val_0_accuracy: 0.85714 |  0:00:11s\n",
      "⏱️ Epoch 294 took 0.04 seconds\n",
      "epoch 294| loss: 0.27869 | val_0_accuracy: 0.85952 |  0:00:11s\n",
      "⏱️ Epoch 295 took 0.03 seconds\n",
      "epoch 295| loss: 0.2719  | val_0_accuracy: 0.8619  |  0:00:11s\n",
      "⏱️ Epoch 296 took 0.04 seconds\n",
      "epoch 296| loss: 0.2665  | val_0_accuracy: 0.86667 |  0:00:11s\n",
      "⏱️ Epoch 297 took 0.04 seconds\n",
      "epoch 297| loss: 0.24624 | val_0_accuracy: 0.87381 |  0:00:11s\n",
      "⏱️ Epoch 298 took 0.03 seconds\n",
      "epoch 298| loss: 0.27848 | val_0_accuracy: 0.86429 |  0:00:11s\n",
      "⏱️ Epoch 299 took 0.04 seconds\n",
      "epoch 299| loss: 0.25155 | val_0_accuracy: 0.86905 |  0:00:11s\n",
      "⏱️ Epoch 300 took 0.04 seconds\n",
      "epoch 300| loss: 0.27131 | val_0_accuracy: 0.85    |  0:00:11s\n",
      "⏱️ Epoch 301 took 0.04 seconds\n",
      "epoch 301| loss: 0.27106 | val_0_accuracy: 0.8381  |  0:00:11s\n",
      "⏱️ Epoch 302 took 0.04 seconds\n",
      "epoch 302| loss: 0.27645 | val_0_accuracy: 0.84524 |  0:00:11s\n",
      "⏱️ Epoch 303 took 0.04 seconds\n",
      "epoch 303| loss: 0.24173 | val_0_accuracy: 0.84286 |  0:00:11s\n",
      "⏱️ Epoch 304 took 0.04 seconds\n",
      "epoch 304| loss: 0.26858 | val_0_accuracy: 0.87619 |  0:00:11s\n",
      "⏱️ Epoch 305 took 0.04 seconds\n",
      "epoch 305| loss: 0.27389 | val_0_accuracy: 0.87857 |  0:00:11s\n",
      "⏱️ Epoch 306 took 0.03 seconds\n",
      "epoch 306| loss: 0.24872 | val_0_accuracy: 0.89286 |  0:00:11s\n",
      "⏱️ Epoch 307 took 0.04 seconds\n",
      "epoch 307| loss: 0.35623 | val_0_accuracy: 0.89048 |  0:00:11s\n",
      "⏱️ Epoch 308 took 0.04 seconds\n",
      "epoch 308| loss: 0.27865 | val_0_accuracy: 0.87619 |  0:00:11s\n",
      "⏱️ Epoch 309 took 0.04 seconds\n",
      "epoch 309| loss: 0.25618 | val_0_accuracy: 0.87143 |  0:00:12s\n",
      "⏱️ Epoch 310 took 0.04 seconds\n",
      "epoch 310| loss: 0.2668  | val_0_accuracy: 0.84286 |  0:00:12s\n",
      "⏱️ Epoch 311 took 0.03 seconds\n",
      "epoch 311| loss: 0.23995 | val_0_accuracy: 0.8119  |  0:00:12s\n",
      "⏱️ Epoch 312 took 0.04 seconds\n",
      "epoch 312| loss: 0.30304 | val_0_accuracy: 0.81905 |  0:00:12s\n",
      "⏱️ Epoch 313 took 0.04 seconds\n",
      "epoch 313| loss: 0.25569 | val_0_accuracy: 0.85714 |  0:00:12s\n",
      "⏱️ Epoch 314 took 0.04 seconds\n",
      "epoch 314| loss: 0.27835 | val_0_accuracy: 0.89286 |  0:00:12s\n",
      "⏱️ Epoch 315 took 0.04 seconds\n",
      "epoch 315| loss: 0.22562 | val_0_accuracy: 0.87857 |  0:00:12s\n",
      "⏱️ Epoch 316 took 0.04 seconds\n",
      "epoch 316| loss: 0.26421 | val_0_accuracy: 0.88571 |  0:00:12s\n",
      "⏱️ Epoch 317 took 0.03 seconds\n",
      "epoch 317| loss: 0.25632 | val_0_accuracy: 0.89286 |  0:00:12s\n",
      "⏱️ Epoch 318 took 0.04 seconds\n",
      "epoch 318| loss: 0.24358 | val_0_accuracy: 0.89048 |  0:00:12s\n",
      "⏱️ Epoch 319 took 0.04 seconds\n",
      "epoch 319| loss: 0.23314 | val_0_accuracy: 0.87143 |  0:00:12s\n",
      "⏱️ Epoch 320 took 0.04 seconds\n",
      "epoch 320| loss: 0.22974 | val_0_accuracy: 0.8619  |  0:00:12s\n",
      "⏱️ Epoch 321 took 0.04 seconds\n",
      "epoch 321| loss: 0.2943  | val_0_accuracy: 0.88571 |  0:00:12s\n",
      "⏱️ Epoch 322 took 0.04 seconds\n",
      "epoch 322| loss: 0.22961 | val_0_accuracy: 0.89524 |  0:00:12s\n",
      "⏱️ Epoch 323 took 0.04 seconds\n",
      "epoch 323| loss: 0.2202  | val_0_accuracy: 0.90714 |  0:00:12s\n",
      "⏱️ Epoch 324 took 0.04 seconds\n",
      "epoch 324| loss: 0.24221 | val_0_accuracy: 0.90238 |  0:00:12s\n",
      "⏱️ Epoch 325 took 0.04 seconds\n",
      "epoch 325| loss: 0.21497 | val_0_accuracy: 0.89762 |  0:00:12s\n",
      "⏱️ Epoch 326 took 0.04 seconds\n",
      "epoch 326| loss: 0.22364 | val_0_accuracy: 0.89524 |  0:00:12s\n",
      "⏱️ Epoch 327 took 0.04 seconds\n",
      "epoch 327| loss: 0.24063 | val_0_accuracy: 0.87381 |  0:00:12s\n",
      "⏱️ Epoch 328 took 0.04 seconds\n",
      "epoch 328| loss: 0.22401 | val_0_accuracy: 0.87143 |  0:00:12s\n",
      "⏱️ Epoch 329 took 0.04 seconds\n",
      "epoch 329| loss: 0.25041 | val_0_accuracy: 0.8881  |  0:00:12s\n",
      "⏱️ Epoch 330 took 0.04 seconds\n",
      "epoch 330| loss: 0.27435 | val_0_accuracy: 0.88571 |  0:00:12s\n",
      "⏱️ Epoch 331 took 0.04 seconds\n",
      "epoch 331| loss: 0.25077 | val_0_accuracy: 0.89762 |  0:00:12s\n",
      "⏱️ Epoch 332 took 0.04 seconds\n",
      "epoch 332| loss: 0.24633 | val_0_accuracy: 0.9119  |  0:00:12s\n",
      "⏱️ Epoch 333 took 0.04 seconds\n",
      "epoch 333| loss: 0.23548 | val_0_accuracy: 0.91429 |  0:00:12s\n",
      "⏱️ Epoch 334 took 0.04 seconds\n",
      "epoch 334| loss: 0.25334 | val_0_accuracy: 0.9     |  0:00:12s\n",
      "⏱️ Epoch 335 took 0.04 seconds\n",
      "epoch 335| loss: 0.23418 | val_0_accuracy: 0.88333 |  0:00:12s\n",
      "⏱️ Epoch 336 took 0.04 seconds\n",
      "epoch 336| loss: 0.2906  | val_0_accuracy: 0.88095 |  0:00:13s\n",
      "⏱️ Epoch 337 took 0.04 seconds\n",
      "epoch 337| loss: 0.22615 | val_0_accuracy: 0.88571 |  0:00:13s\n",
      "⏱️ Epoch 338 took 0.04 seconds\n",
      "epoch 338| loss: 0.25763 | val_0_accuracy: 0.90714 |  0:00:13s\n",
      "⏱️ Epoch 339 took 0.04 seconds\n",
      "epoch 339| loss: 0.26304 | val_0_accuracy: 0.90952 |  0:00:13s\n",
      "⏱️ Epoch 340 took 0.04 seconds\n",
      "epoch 340| loss: 0.26361 | val_0_accuracy: 0.91429 |  0:00:13s\n",
      "⏱️ Epoch 341 took 0.04 seconds\n",
      "epoch 341| loss: 0.20556 | val_0_accuracy: 0.9     |  0:00:13s\n",
      "⏱️ Epoch 342 took 0.04 seconds\n",
      "epoch 342| loss: 0.24096 | val_0_accuracy: 0.87143 |  0:00:13s\n",
      "⏱️ Epoch 343 took 0.04 seconds\n",
      "epoch 343| loss: 0.23157 | val_0_accuracy: 0.85476 |  0:00:13s\n",
      "⏱️ Epoch 344 took 0.04 seconds\n",
      "epoch 344| loss: 0.26483 | val_0_accuracy: 0.84286 |  0:00:13s\n",
      "⏱️ Epoch 345 took 0.04 seconds\n",
      "epoch 345| loss: 0.24761 | val_0_accuracy: 0.8619  |  0:00:13s\n",
      "⏱️ Epoch 346 took 0.03 seconds\n",
      "epoch 346| loss: 0.25405 | val_0_accuracy: 0.8881  |  0:00:13s\n",
      "⏱️ Epoch 347 took 0.04 seconds\n",
      "epoch 347| loss: 0.24987 | val_0_accuracy: 0.90952 |  0:00:13s\n",
      "⏱️ Epoch 348 took 0.03 seconds\n",
      "epoch 348| loss: 0.24026 | val_0_accuracy: 0.90714 |  0:00:13s\n",
      "⏱️ Epoch 349 took 0.04 seconds\n",
      "epoch 349| loss: 0.24379 | val_0_accuracy: 0.89762 |  0:00:13s\n",
      "⏱️ Epoch 350 took 0.03 seconds\n",
      "epoch 350| loss: 0.21645 | val_0_accuracy: 0.89286 |  0:00:13s\n",
      "⏱️ Epoch 351 took 0.04 seconds\n",
      "epoch 351| loss: 0.21297 | val_0_accuracy: 0.89524 |  0:00:13s\n",
      "⏱️ Epoch 352 took 0.04 seconds\n",
      "epoch 352| loss: 0.26131 | val_0_accuracy: 0.89286 |  0:00:13s\n",
      "⏱️ Epoch 353 took 0.04 seconds\n",
      "epoch 353| loss: 0.24165 | val_0_accuracy: 0.89762 |  0:00:13s\n",
      "⏱️ Epoch 354 took 0.04 seconds\n",
      "epoch 354| loss: 0.2431  | val_0_accuracy: 0.8881  |  0:00:13s\n",
      "⏱️ Epoch 355 took 0.04 seconds\n",
      "epoch 355| loss: 0.25377 | val_0_accuracy: 0.87619 |  0:00:13s\n",
      "⏱️ Epoch 356 took 0.04 seconds\n",
      "epoch 356| loss: 0.26767 | val_0_accuracy: 0.87381 |  0:00:13s\n",
      "⏱️ Epoch 357 took 0.04 seconds\n",
      "epoch 357| loss: 0.23724 | val_0_accuracy: 0.87619 |  0:00:13s\n",
      "⏱️ Epoch 358 took 0.04 seconds\n",
      "epoch 358| loss: 0.25939 | val_0_accuracy: 0.8881  |  0:00:13s\n",
      "⏱️ Epoch 359 took 0.04 seconds\n",
      "epoch 359| loss: 0.26231 | val_0_accuracy: 0.88571 |  0:00:13s\n",
      "⏱️ Epoch 360 took 0.04 seconds\n",
      "epoch 360| loss: 0.25886 | val_0_accuracy: 0.8881  |  0:00:13s\n",
      "⏱️ Epoch 361 took 0.04 seconds\n",
      "epoch 361| loss: 0.21711 | val_0_accuracy: 0.88571 |  0:00:13s\n",
      "⏱️ Epoch 362 took 0.04 seconds\n",
      "epoch 362| loss: 0.23683 | val_0_accuracy: 0.87857 |  0:00:13s\n",
      "⏱️ Epoch 363 took 0.04 seconds\n",
      "epoch 363| loss: 0.2296  | val_0_accuracy: 0.88095 |  0:00:14s\n",
      "⏱️ Epoch 364 took 0.03 seconds\n",
      "epoch 364| loss: 0.23384 | val_0_accuracy: 0.8381  |  0:00:14s\n",
      "⏱️ Epoch 365 took 0.04 seconds\n",
      "epoch 365| loss: 0.25472 | val_0_accuracy: 0.86429 |  0:00:14s\n",
      "⏱️ Epoch 366 took 0.04 seconds\n",
      "epoch 366| loss: 0.20223 | val_0_accuracy: 0.86905 |  0:00:14s\n",
      "⏱️ Epoch 367 took 0.04 seconds\n",
      "epoch 367| loss: 0.21378 | val_0_accuracy: 0.87143 |  0:00:14s\n",
      "⏱️ Epoch 368 took 0.04 seconds\n",
      "epoch 368| loss: 0.20145 | val_0_accuracy: 0.88333 |  0:00:14s\n",
      "⏱️ Epoch 369 took 0.04 seconds\n",
      "epoch 369| loss: 0.23128 | val_0_accuracy: 0.88095 |  0:00:14s\n",
      "⏱️ Epoch 370 took 0.04 seconds\n",
      "epoch 370| loss: 0.18771 | val_0_accuracy: 0.88571 |  0:00:14s\n",
      "⏱️ Epoch 371 took 0.04 seconds\n",
      "epoch 371| loss: 0.207   | val_0_accuracy: 0.88095 |  0:00:14s\n",
      "⏱️ Epoch 372 took 0.04 seconds\n",
      "epoch 372| loss: 0.21844 | val_0_accuracy: 0.90714 |  0:00:14s\n",
      "⏱️ Epoch 373 took 0.04 seconds\n",
      "epoch 373| loss: 0.19875 | val_0_accuracy: 0.89524 |  0:00:14s\n",
      "⏱️ Epoch 374 took 0.04 seconds\n",
      "epoch 374| loss: 0.2311  | val_0_accuracy: 0.88571 |  0:00:14s\n",
      "⏱️ Epoch 375 took 0.04 seconds\n",
      "epoch 375| loss: 0.22676 | val_0_accuracy: 0.88095 |  0:00:14s\n",
      "⏱️ Epoch 376 took 0.04 seconds\n",
      "epoch 376| loss: 0.21482 | val_0_accuracy: 0.86905 |  0:00:14s\n",
      "⏱️ Epoch 377 took 0.04 seconds\n",
      "epoch 377| loss: 0.23631 | val_0_accuracy: 0.8881  |  0:00:14s\n",
      "⏱️ Epoch 378 took 0.04 seconds\n",
      "epoch 378| loss: 0.23413 | val_0_accuracy: 0.89286 |  0:00:14s\n",
      "⏱️ Epoch 379 took 0.04 seconds\n",
      "epoch 379| loss: 0.22372 | val_0_accuracy: 0.90714 |  0:00:14s\n",
      "⏱️ Epoch 380 took 0.04 seconds\n",
      "epoch 380| loss: 0.2404  | val_0_accuracy: 0.9     |  0:00:14s\n",
      "⏱️ Epoch 381 took 0.04 seconds\n",
      "epoch 381| loss: 0.21996 | val_0_accuracy: 0.90952 |  0:00:14s\n",
      "⏱️ Epoch 382 took 0.04 seconds\n",
      "epoch 382| loss: 0.239   | val_0_accuracy: 0.90238 |  0:00:14s\n",
      "⏱️ Epoch 383 took 0.04 seconds\n",
      "epoch 383| loss: 0.20053 | val_0_accuracy: 0.90238 |  0:00:14s\n",
      "⏱️ Epoch 384 took 0.04 seconds\n",
      "epoch 384| loss: 0.20605 | val_0_accuracy: 0.89524 |  0:00:14s\n",
      "⏱️ Epoch 385 took 0.04 seconds\n",
      "epoch 385| loss: 0.22252 | val_0_accuracy: 0.90952 |  0:00:14s\n",
      "⏱️ Epoch 386 took 0.04 seconds\n",
      "epoch 386| loss: 0.20265 | val_0_accuracy: 0.91667 |  0:00:14s\n",
      "⏱️ Epoch 387 took 0.04 seconds\n",
      "epoch 387| loss: 0.23017 | val_0_accuracy: 0.90476 |  0:00:14s\n",
      "⏱️ Epoch 388 took 0.04 seconds\n",
      "epoch 388| loss: 0.22027 | val_0_accuracy: 0.89524 |  0:00:14s\n",
      "⏱️ Epoch 389 took 0.04 seconds\n",
      "epoch 389| loss: 0.25268 | val_0_accuracy: 0.89762 |  0:00:14s\n",
      "⏱️ Epoch 390 took 0.04 seconds\n",
      "epoch 390| loss: 0.21612 | val_0_accuracy: 0.9119  |  0:00:15s\n",
      "⏱️ Epoch 391 took 0.04 seconds\n",
      "epoch 391| loss: 0.20903 | val_0_accuracy: 0.91429 |  0:00:15s\n",
      "⏱️ Epoch 392 took 0.04 seconds\n",
      "epoch 392| loss: 0.22235 | val_0_accuracy: 0.90952 |  0:00:15s\n",
      "⏱️ Epoch 393 took 0.04 seconds\n",
      "epoch 393| loss: 0.21099 | val_0_accuracy: 0.90952 |  0:00:15s\n",
      "⏱️ Epoch 394 took 0.04 seconds\n",
      "epoch 394| loss: 0.35867 | val_0_accuracy: 0.88571 |  0:00:15s\n",
      "⏱️ Epoch 395 took 0.04 seconds\n",
      "epoch 395| loss: 0.22532 | val_0_accuracy: 0.87857 |  0:00:15s\n",
      "⏱️ Epoch 396 took 0.04 seconds\n",
      "epoch 396| loss: 0.25466 | val_0_accuracy: 0.89048 |  0:00:15s\n",
      "⏱️ Epoch 397 took 0.04 seconds\n",
      "epoch 397| loss: 0.213   | val_0_accuracy: 0.89048 |  0:00:15s\n",
      "⏱️ Epoch 398 took 0.04 seconds\n",
      "epoch 398| loss: 0.23822 | val_0_accuracy: 0.88333 |  0:00:15s\n",
      "⏱️ Epoch 399 took 0.04 seconds\n",
      "epoch 399| loss: 0.2158  | val_0_accuracy: 0.88095 |  0:00:15s\n",
      "⏱️ Epoch 400 took 0.04 seconds\n",
      "epoch 400| loss: 0.21326 | val_0_accuracy: 0.87619 |  0:00:15s\n",
      "⏱️ Epoch 401 took 0.04 seconds\n",
      "epoch 401| loss: 0.21355 | val_0_accuracy: 0.87857 |  0:00:15s\n",
      "⏱️ Epoch 402 took 0.04 seconds\n",
      "epoch 402| loss: 0.23958 | val_0_accuracy: 0.88095 |  0:00:15s\n",
      "⏱️ Epoch 403 took 0.04 seconds\n",
      "epoch 403| loss: 0.2237  | val_0_accuracy: 0.89286 |  0:00:15s\n",
      "⏱️ Epoch 404 took 0.04 seconds\n",
      "epoch 404| loss: 0.24332 | val_0_accuracy: 0.9     |  0:00:15s\n",
      "⏱️ Epoch 405 took 0.04 seconds\n",
      "epoch 405| loss: 0.26988 | val_0_accuracy: 0.90952 |  0:00:15s\n",
      "⏱️ Epoch 406 took 0.04 seconds\n",
      "epoch 406| loss: 0.25144 | val_0_accuracy: 0.9119  |  0:00:15s\n",
      "⏱️ Epoch 407 took 0.04 seconds\n",
      "epoch 407| loss: 0.23854 | val_0_accuracy: 0.91667 |  0:00:15s\n",
      "⏱️ Epoch 408 took 0.04 seconds\n",
      "epoch 408| loss: 0.24089 | val_0_accuracy: 0.9     |  0:00:15s\n",
      "⏱️ Epoch 409 took 0.04 seconds\n",
      "epoch 409| loss: 0.22773 | val_0_accuracy: 0.88095 |  0:00:15s\n",
      "⏱️ Epoch 410 took 0.04 seconds\n",
      "epoch 410| loss: 0.24704 | val_0_accuracy: 0.86667 |  0:00:15s\n",
      "⏱️ Epoch 411 took 0.04 seconds\n",
      "epoch 411| loss: 0.2172  | val_0_accuracy: 0.86667 |  0:00:15s\n",
      "⏱️ Epoch 412 took 0.04 seconds\n",
      "epoch 412| loss: 0.26198 | val_0_accuracy: 0.87143 |  0:00:15s\n",
      "⏱️ Epoch 413 took 0.04 seconds\n",
      "epoch 413| loss: 0.26405 | val_0_accuracy: 0.86429 |  0:00:15s\n",
      "⏱️ Epoch 414 took 0.04 seconds\n",
      "epoch 414| loss: 0.28583 | val_0_accuracy: 0.85476 |  0:00:15s\n",
      "⏱️ Epoch 415 took 0.04 seconds\n",
      "epoch 415| loss: 0.27858 | val_0_accuracy: 0.87143 |  0:00:15s\n",
      "⏱️ Epoch 416 took 0.04 seconds\n",
      "epoch 416| loss: 0.32075 | val_0_accuracy: 0.86905 |  0:00:15s\n",
      "⏱️ Epoch 417 took 0.04 seconds\n",
      "epoch 417| loss: 0.25339 | val_0_accuracy: 0.88333 |  0:00:16s\n",
      "⏱️ Epoch 418 took 0.04 seconds\n",
      "epoch 418| loss: 0.21901 | val_0_accuracy: 0.87857 |  0:00:16s\n",
      "⏱️ Epoch 419 took 0.04 seconds\n",
      "epoch 419| loss: 0.24732 | val_0_accuracy: 0.86667 |  0:00:16s\n",
      "⏱️ Epoch 420 took 0.04 seconds\n",
      "epoch 420| loss: 0.294   | val_0_accuracy: 0.86667 |  0:00:16s\n",
      "⏱️ Epoch 421 took 0.04 seconds\n",
      "epoch 421| loss: 0.2216  | val_0_accuracy: 0.89048 |  0:00:16s\n",
      "⏱️ Epoch 422 took 0.04 seconds\n",
      "epoch 422| loss: 0.20791 | val_0_accuracy: 0.87619 |  0:00:16s\n",
      "⏱️ Epoch 423 took 0.04 seconds\n",
      "epoch 423| loss: 0.22814 | val_0_accuracy: 0.86905 |  0:00:16s\n",
      "⏱️ Epoch 424 took 0.04 seconds\n",
      "epoch 424| loss: 0.25263 | val_0_accuracy: 0.85238 |  0:00:16s\n",
      "⏱️ Epoch 425 took 0.04 seconds\n",
      "epoch 425| loss: 0.27548 | val_0_accuracy: 0.88571 |  0:00:16s\n",
      "⏱️ Epoch 426 took 0.04 seconds\n",
      "epoch 426| loss: 0.24462 | val_0_accuracy: 0.88333 |  0:00:16s\n",
      "⏱️ Epoch 427 took 0.04 seconds\n",
      "epoch 427| loss: 0.19924 | val_0_accuracy: 0.88333 |  0:00:16s\n",
      "⏱️ Epoch 428 took 0.04 seconds\n",
      "epoch 428| loss: 0.23572 | val_0_accuracy: 0.87857 |  0:00:16s\n",
      "⏱️ Epoch 429 took 0.04 seconds\n",
      "epoch 429| loss: 0.22814 | val_0_accuracy: 0.88095 |  0:00:16s\n",
      "⏱️ Epoch 430 took 0.04 seconds\n",
      "epoch 430| loss: 0.21647 | val_0_accuracy: 0.86905 |  0:00:16s\n",
      "⏱️ Epoch 431 took 0.04 seconds\n",
      "epoch 431| loss: 0.21344 | val_0_accuracy: 0.84524 |  0:00:16s\n",
      "⏱️ Epoch 432 took 0.04 seconds\n",
      "epoch 432| loss: 0.21158 | val_0_accuracy: 0.86905 |  0:00:16s\n",
      "⏱️ Epoch 433 took 0.03 seconds\n",
      "epoch 433| loss: 0.26823 | val_0_accuracy: 0.87381 |  0:00:16s\n",
      "⏱️ Epoch 434 took 0.04 seconds\n",
      "epoch 434| loss: 0.25388 | val_0_accuracy: 0.90952 |  0:00:16s\n",
      "⏱️ Epoch 435 took 0.04 seconds\n",
      "epoch 435| loss: 0.19765 | val_0_accuracy: 0.90476 |  0:00:16s\n",
      "⏱️ Epoch 436 took 0.04 seconds\n",
      "epoch 436| loss: 0.2352  | val_0_accuracy: 0.88571 |  0:00:16s\n",
      "⏱️ Epoch 437 took 0.04 seconds\n",
      "epoch 437| loss: 0.22392 | val_0_accuracy: 0.86667 |  0:00:16s\n",
      "⏱️ Epoch 438 took 0.04 seconds\n",
      "epoch 438| loss: 0.22977 | val_0_accuracy: 0.85952 |  0:00:16s\n",
      "⏱️ Epoch 439 took 0.03 seconds\n",
      "epoch 439| loss: 0.25132 | val_0_accuracy: 0.86667 |  0:00:16s\n",
      "⏱️ Epoch 440 took 0.04 seconds\n",
      "epoch 440| loss: 0.25489 | val_0_accuracy: 0.87143 |  0:00:16s\n",
      "⏱️ Epoch 441 took 0.04 seconds\n",
      "epoch 441| loss: 0.23424 | val_0_accuracy: 0.87143 |  0:00:16s\n",
      "⏱️ Epoch 442 took 0.04 seconds\n",
      "epoch 442| loss: 0.22623 | val_0_accuracy: 0.88333 |  0:00:16s\n",
      "⏱️ Epoch 443 took 0.04 seconds\n",
      "epoch 443| loss: 0.23711 | val_0_accuracy: 0.89048 |  0:00:16s\n",
      "⏱️ Epoch 444 took 0.04 seconds\n",
      "epoch 444| loss: 0.24165 | val_0_accuracy: 0.89286 |  0:00:17s\n",
      "⏱️ Epoch 445 took 0.04 seconds\n",
      "epoch 445| loss: 0.2227  | val_0_accuracy: 0.89762 |  0:00:17s\n",
      "⏱️ Epoch 446 took 0.04 seconds\n",
      "epoch 446| loss: 0.22354 | val_0_accuracy: 0.89048 |  0:00:17s\n",
      "⏱️ Epoch 447 took 0.04 seconds\n",
      "epoch 447| loss: 0.20359 | val_0_accuracy: 0.86905 |  0:00:17s\n",
      "⏱️ Epoch 448 took 0.04 seconds\n",
      "epoch 448| loss: 0.23418 | val_0_accuracy: 0.87619 |  0:00:17s\n",
      "⏱️ Epoch 449 took 0.04 seconds\n",
      "epoch 449| loss: 0.24181 | val_0_accuracy: 0.89048 |  0:00:17s\n",
      "⏱️ Epoch 450 took 0.04 seconds\n",
      "epoch 450| loss: 0.21811 | val_0_accuracy: 0.90476 |  0:00:17s\n",
      "⏱️ Epoch 451 took 0.04 seconds\n",
      "epoch 451| loss: 0.19987 | val_0_accuracy: 0.91429 |  0:00:17s\n",
      "⏱️ Epoch 452 took 0.04 seconds\n",
      "epoch 452| loss: 0.17757 | val_0_accuracy: 0.89762 |  0:00:17s\n",
      "⏱️ Epoch 453 took 0.04 seconds\n",
      "epoch 453| loss: 0.23567 | val_0_accuracy: 0.89762 |  0:00:17s\n",
      "⏱️ Epoch 454 took 0.04 seconds\n",
      "epoch 454| loss: 0.20346 | val_0_accuracy: 0.89286 |  0:00:17s\n",
      "⏱️ Epoch 455 took 0.04 seconds\n",
      "epoch 455| loss: 0.22154 | val_0_accuracy: 0.87381 |  0:00:17s\n",
      "⏱️ Epoch 456 took 0.04 seconds\n",
      "epoch 456| loss: 0.1833  | val_0_accuracy: 0.87381 |  0:00:17s\n",
      "⏱️ Epoch 457 took 0.04 seconds\n",
      "epoch 457| loss: 0.19159 | val_0_accuracy: 0.88333 |  0:00:17s\n",
      "⏱️ Epoch 458 took 0.04 seconds\n",
      "epoch 458| loss: 0.19854 | val_0_accuracy: 0.8881  |  0:00:17s\n",
      "⏱️ Epoch 459 took 0.05 seconds\n",
      "epoch 459| loss: 0.18599 | val_0_accuracy: 0.9     |  0:00:17s\n",
      "⏱️ Epoch 460 took 0.04 seconds\n",
      "epoch 460| loss: 0.22129 | val_0_accuracy: 0.9     |  0:00:17s\n",
      "⏱️ Epoch 461 took 0.04 seconds\n",
      "epoch 461| loss: 0.18189 | val_0_accuracy: 0.88571 |  0:00:17s\n",
      "⏱️ Epoch 462 took 0.04 seconds\n",
      "epoch 462| loss: 0.19824 | val_0_accuracy: 0.89524 |  0:00:17s\n",
      "⏱️ Epoch 463 took 0.04 seconds\n",
      "epoch 463| loss: 0.21453 | val_0_accuracy: 0.8881  |  0:00:17s\n",
      "⏱️ Epoch 464 took 0.04 seconds\n",
      "epoch 464| loss: 0.1898  | val_0_accuracy: 0.89048 |  0:00:17s\n",
      "⏱️ Epoch 465 took 0.04 seconds\n",
      "epoch 465| loss: 0.18048 | val_0_accuracy: 0.89048 |  0:00:17s\n",
      "⏱️ Epoch 466 took 0.04 seconds\n",
      "epoch 466| loss: 0.19195 | val_0_accuracy: 0.8881  |  0:00:17s\n",
      "⏱️ Epoch 467 took 0.04 seconds\n",
      "epoch 467| loss: 0.16852 | val_0_accuracy: 0.90238 |  0:00:17s\n",
      "⏱️ Epoch 468 took 0.04 seconds\n",
      "epoch 468| loss: 0.19846 | val_0_accuracy: 0.9     |  0:00:17s\n",
      "⏱️ Epoch 469 took 0.04 seconds\n",
      "epoch 469| loss: 0.19396 | val_0_accuracy: 0.88095 |  0:00:17s\n",
      "⏱️ Epoch 470 took 0.04 seconds\n",
      "epoch 470| loss: 0.1798  | val_0_accuracy: 0.88333 |  0:00:17s\n",
      "⏱️ Epoch 471 took 0.04 seconds\n",
      "epoch 471| loss: 0.19742 | val_0_accuracy: 0.88095 |  0:00:18s\n",
      "⏱️ Epoch 472 took 0.04 seconds\n",
      "epoch 472| loss: 0.20268 | val_0_accuracy: 0.87381 |  0:00:18s\n",
      "⏱️ Epoch 473 took 0.04 seconds\n",
      "epoch 473| loss: 0.21831 | val_0_accuracy: 0.87857 |  0:00:18s\n",
      "⏱️ Epoch 474 took 0.04 seconds\n",
      "epoch 474| loss: 0.22203 | val_0_accuracy: 0.8881  |  0:00:18s\n",
      "⏱️ Epoch 475 took 0.04 seconds\n",
      "epoch 475| loss: 0.1934  | val_0_accuracy: 0.89048 |  0:00:18s\n",
      "⏱️ Epoch 476 took 0.04 seconds\n",
      "epoch 476| loss: 0.18231 | val_0_accuracy: 0.89286 |  0:00:18s\n",
      "⏱️ Epoch 477 took 0.04 seconds\n",
      "epoch 477| loss: 0.22454 | val_0_accuracy: 0.89524 |  0:00:18s\n",
      "⏱️ Epoch 478 took 0.04 seconds\n",
      "epoch 478| loss: 0.17895 | val_0_accuracy: 0.89286 |  0:00:18s\n",
      "⏱️ Epoch 479 took 0.04 seconds\n",
      "epoch 479| loss: 0.20115 | val_0_accuracy: 0.9     |  0:00:18s\n",
      "⏱️ Epoch 480 took 0.04 seconds\n",
      "epoch 480| loss: 0.21413 | val_0_accuracy: 0.88333 |  0:00:18s\n",
      "⏱️ Epoch 481 took 0.04 seconds\n",
      "epoch 481| loss: 0.1851  | val_0_accuracy: 0.88095 |  0:00:18s\n",
      "⏱️ Epoch 482 took 0.04 seconds\n",
      "epoch 482| loss: 0.23077 | val_0_accuracy: 0.90476 |  0:00:18s\n",
      "⏱️ Epoch 483 took 0.04 seconds\n",
      "epoch 483| loss: 0.22244 | val_0_accuracy: 0.87857 |  0:00:18s\n",
      "⏱️ Epoch 484 took 0.04 seconds\n",
      "epoch 484| loss: 0.17643 | val_0_accuracy: 0.87857 |  0:00:18s\n",
      "⏱️ Epoch 485 took 0.04 seconds\n",
      "epoch 485| loss: 0.22263 | val_0_accuracy: 0.88095 |  0:00:18s\n",
      "⏱️ Epoch 486 took 0.04 seconds\n",
      "epoch 486| loss: 0.20877 | val_0_accuracy: 0.89048 |  0:00:18s\n",
      "⏱️ Epoch 487 took 0.04 seconds\n",
      "epoch 487| loss: 0.17535 | val_0_accuracy: 0.87381 |  0:00:18s\n",
      "⏱️ Epoch 488 took 0.04 seconds\n",
      "epoch 488| loss: 0.18024 | val_0_accuracy: 0.85714 |  0:00:18s\n",
      "⏱️ Epoch 489 took 0.04 seconds\n",
      "epoch 489| loss: 0.19789 | val_0_accuracy: 0.8619  |  0:00:18s\n",
      "⏱️ Epoch 490 took 0.04 seconds\n",
      "epoch 490| loss: 0.18759 | val_0_accuracy: 0.88095 |  0:00:18s\n",
      "⏱️ Epoch 491 took 0.04 seconds\n",
      "epoch 491| loss: 0.18596 | val_0_accuracy: 0.89524 |  0:00:18s\n",
      "⏱️ Epoch 492 took 0.04 seconds\n",
      "epoch 492| loss: 0.16765 | val_0_accuracy: 0.89286 |  0:00:18s\n",
      "⏱️ Epoch 493 took 0.04 seconds\n",
      "epoch 493| loss: 0.19176 | val_0_accuracy: 0.87857 |  0:00:18s\n",
      "⏱️ Epoch 494 took 0.04 seconds\n",
      "epoch 494| loss: 0.19901 | val_0_accuracy: 0.8881  |  0:00:18s\n",
      "⏱️ Epoch 495 took 0.05 seconds\n",
      "epoch 495| loss: 0.19151 | val_0_accuracy: 0.90714 |  0:00:18s\n",
      "⏱️ Epoch 496 took 0.04 seconds\n",
      "epoch 496| loss: 0.20415 | val_0_accuracy: 0.89762 |  0:00:18s\n",
      "⏱️ Epoch 497 took 0.04 seconds\n",
      "epoch 497| loss: 0.19815 | val_0_accuracy: 0.8881  |  0:00:19s\n",
      "⏱️ Epoch 498 took 0.04 seconds\n",
      "epoch 498| loss: 0.17557 | val_0_accuracy: 0.8881  |  0:00:19s\n",
      "⏱️ Epoch 499 took 0.04 seconds\n",
      "epoch 499| loss: 0.20612 | val_0_accuracy: 0.88333 |  0:00:19s\n",
      "⏱️ Epoch 500 took 0.04 seconds\n",
      "epoch 500| loss: 0.18785 | val_0_accuracy: 0.89524 |  0:00:19s\n",
      "⏱️ Epoch 501 took 0.04 seconds\n",
      "epoch 501| loss: 0.20603 | val_0_accuracy: 0.92143 |  0:00:19s\n",
      "⏱️ Epoch 502 took 0.04 seconds\n",
      "epoch 502| loss: 0.1702  | val_0_accuracy: 0.90476 |  0:00:19s\n",
      "⏱️ Epoch 503 took 0.04 seconds\n",
      "epoch 503| loss: 0.19246 | val_0_accuracy: 0.89286 |  0:00:19s\n",
      "⏱️ Epoch 504 took 0.04 seconds\n",
      "epoch 504| loss: 0.17693 | val_0_accuracy: 0.89524 |  0:00:19s\n",
      "⏱️ Epoch 505 took 0.04 seconds\n",
      "epoch 505| loss: 0.18536 | val_0_accuracy: 0.89524 |  0:00:19s\n",
      "⏱️ Epoch 506 took 0.04 seconds\n",
      "epoch 506| loss: 0.1886  | val_0_accuracy: 0.88571 |  0:00:19s\n",
      "⏱️ Epoch 507 took 0.04 seconds\n",
      "epoch 507| loss: 0.18448 | val_0_accuracy: 0.89286 |  0:00:19s\n",
      "⏱️ Epoch 508 took 0.04 seconds\n",
      "epoch 508| loss: 0.21663 | val_0_accuracy: 0.90952 |  0:00:19s\n",
      "⏱️ Epoch 509 took 0.04 seconds\n",
      "epoch 509| loss: 0.18697 | val_0_accuracy: 0.89048 |  0:00:19s\n",
      "⏱️ Epoch 510 took 0.04 seconds\n",
      "epoch 510| loss: 0.23794 | val_0_accuracy: 0.8881  |  0:00:19s\n",
      "⏱️ Epoch 511 took 0.04 seconds\n",
      "epoch 511| loss: 0.18441 | val_0_accuracy: 0.90476 |  0:00:19s\n",
      "⏱️ Epoch 512 took 0.04 seconds\n",
      "epoch 512| loss: 0.17347 | val_0_accuracy: 0.90238 |  0:00:19s\n",
      "⏱️ Epoch 513 took 0.04 seconds\n",
      "epoch 513| loss: 0.16243 | val_0_accuracy: 0.89762 |  0:00:19s\n",
      "⏱️ Epoch 514 took 0.04 seconds\n",
      "epoch 514| loss: 0.17177 | val_0_accuracy: 0.88333 |  0:00:19s\n",
      "⏱️ Epoch 515 took 0.03 seconds\n",
      "epoch 515| loss: 0.17816 | val_0_accuracy: 0.89048 |  0:00:19s\n",
      "⏱️ Epoch 516 took 0.04 seconds\n",
      "epoch 516| loss: 0.18592 | val_0_accuracy: 0.88095 |  0:00:19s\n",
      "⏱️ Epoch 517 took 0.04 seconds\n",
      "epoch 517| loss: 0.17942 | val_0_accuracy: 0.88095 |  0:00:19s\n",
      "⏱️ Epoch 518 took 0.04 seconds\n",
      "epoch 518| loss: 0.20951 | val_0_accuracy: 0.88333 |  0:00:19s\n",
      "⏱️ Epoch 519 took 0.04 seconds\n",
      "epoch 519| loss: 0.21492 | val_0_accuracy: 0.87619 |  0:00:19s\n",
      "⏱️ Epoch 520 took 0.04 seconds\n",
      "epoch 520| loss: 0.18    | val_0_accuracy: 0.88571 |  0:00:19s\n",
      "⏱️ Epoch 521 took 0.04 seconds\n",
      "epoch 521| loss: 0.1748  | val_0_accuracy: 0.87619 |  0:00:19s\n",
      "⏱️ Epoch 522 took 0.04 seconds\n",
      "epoch 522| loss: 0.18565 | val_0_accuracy: 0.87619 |  0:00:19s\n",
      "⏱️ Epoch 523 took 0.04 seconds\n",
      "epoch 523| loss: 0.19098 | val_0_accuracy: 0.89524 |  0:00:19s\n",
      "⏱️ Epoch 524 took 0.04 seconds\n",
      "epoch 524| loss: 0.17717 | val_0_accuracy: 0.90476 |  0:00:20s\n",
      "⏱️ Epoch 525 took 0.04 seconds\n",
      "epoch 525| loss: 0.20044 | val_0_accuracy: 0.87857 |  0:00:20s\n",
      "⏱️ Epoch 526 took 0.04 seconds\n",
      "epoch 526| loss: 0.1968  | val_0_accuracy: 0.88095 |  0:00:20s\n",
      "⏱️ Epoch 527 took 0.04 seconds\n",
      "epoch 527| loss: 0.19487 | val_0_accuracy: 0.89762 |  0:00:20s\n",
      "⏱️ Epoch 528 took 0.04 seconds\n",
      "epoch 528| loss: 0.15263 | val_0_accuracy: 0.89762 |  0:00:20s\n",
      "⏱️ Epoch 529 took 0.04 seconds\n",
      "epoch 529| loss: 0.20661 | val_0_accuracy: 0.89048 |  0:00:20s\n",
      "⏱️ Epoch 530 took 0.04 seconds\n",
      "epoch 530| loss: 0.17491 | val_0_accuracy: 0.88095 |  0:00:20s\n",
      "⏱️ Epoch 531 took 0.04 seconds\n",
      "epoch 531| loss: 0.18065 | val_0_accuracy: 0.89524 |  0:00:20s\n",
      "⏱️ Epoch 532 took 0.04 seconds\n",
      "epoch 532| loss: 0.18535 | val_0_accuracy: 0.87143 |  0:00:20s\n",
      "⏱️ Epoch 533 took 0.04 seconds\n",
      "epoch 533| loss: 0.16171 | val_0_accuracy: 0.8619  |  0:00:20s\n",
      "⏱️ Epoch 534 took 0.04 seconds\n",
      "epoch 534| loss: 0.19456 | val_0_accuracy: 0.87381 |  0:00:20s\n",
      "⏱️ Epoch 535 took 0.04 seconds\n",
      "epoch 535| loss: 0.20543 | val_0_accuracy: 0.89286 |  0:00:20s\n",
      "⏱️ Epoch 536 took 0.03 seconds\n",
      "epoch 536| loss: 0.19178 | val_0_accuracy: 0.88095 |  0:00:20s\n",
      "⏱️ Epoch 537 took 0.04 seconds\n",
      "epoch 537| loss: 0.18332 | val_0_accuracy: 0.88571 |  0:00:20s\n",
      "⏱️ Epoch 538 took 0.04 seconds\n",
      "epoch 538| loss: 0.20369 | val_0_accuracy: 0.88571 |  0:00:20s\n",
      "⏱️ Epoch 539 took 0.04 seconds\n",
      "epoch 539| loss: 0.20383 | val_0_accuracy: 0.8881  |  0:00:20s\n",
      "⏱️ Epoch 540 took 0.04 seconds\n",
      "epoch 540| loss: 0.20635 | val_0_accuracy: 0.89286 |  0:00:20s\n",
      "⏱️ Epoch 541 took 0.04 seconds\n",
      "epoch 541| loss: 0.18979 | val_0_accuracy: 0.89286 |  0:00:20s\n",
      "⏱️ Epoch 542 took 0.04 seconds\n",
      "epoch 542| loss: 0.17906 | val_0_accuracy: 0.89048 |  0:00:20s\n",
      "⏱️ Epoch 543 took 0.04 seconds\n",
      "epoch 543| loss: 0.21909 | val_0_accuracy: 0.87857 |  0:00:20s\n",
      "⏱️ Epoch 544 took 0.04 seconds\n",
      "epoch 544| loss: 0.20731 | val_0_accuracy: 0.90238 |  0:00:20s\n",
      "⏱️ Epoch 545 took 0.04 seconds\n",
      "epoch 545| loss: 0.16469 | val_0_accuracy: 0.89048 |  0:00:20s\n",
      "⏱️ Epoch 546 took 0.04 seconds\n",
      "epoch 546| loss: 0.21487 | val_0_accuracy: 0.88333 |  0:00:20s\n",
      "⏱️ Epoch 547 took 0.04 seconds\n",
      "epoch 547| loss: 0.20913 | val_0_accuracy: 0.89286 |  0:00:20s\n",
      "⏱️ Epoch 548 took 0.04 seconds\n",
      "epoch 548| loss: 0.20026 | val_0_accuracy: 0.89048 |  0:00:20s\n",
      "⏱️ Epoch 549 took 0.04 seconds\n",
      "epoch 549| loss: 0.16697 | val_0_accuracy: 0.90952 |  0:00:20s\n",
      "⏱️ Epoch 550 took 0.04 seconds\n",
      "epoch 550| loss: 0.15573 | val_0_accuracy: 0.9119  |  0:00:20s\n",
      "⏱️ Epoch 551 took 0.04 seconds\n",
      "epoch 551| loss: 0.18179 | val_0_accuracy: 0.90952 |  0:00:21s\n",
      "⏱️ Epoch 552 took 0.04 seconds\n",
      "epoch 552| loss: 0.16564 | val_0_accuracy: 0.9     |  0:00:21s\n",
      "⏱️ Epoch 553 took 0.04 seconds\n",
      "epoch 553| loss: 0.17297 | val_0_accuracy: 0.89524 |  0:00:21s\n",
      "⏱️ Epoch 554 took 0.04 seconds\n",
      "epoch 554| loss: 0.15696 | val_0_accuracy: 0.8881  |  0:00:21s\n",
      "⏱️ Epoch 555 took 0.04 seconds\n",
      "epoch 555| loss: 0.15986 | val_0_accuracy: 0.88095 |  0:00:21s\n",
      "⏱️ Epoch 556 took 0.04 seconds\n",
      "epoch 556| loss: 0.16768 | val_0_accuracy: 0.88333 |  0:00:21s\n",
      "⏱️ Epoch 557 took 0.04 seconds\n",
      "epoch 557| loss: 0.17074 | val_0_accuracy: 0.89048 |  0:00:21s\n",
      "⏱️ Epoch 558 took 0.04 seconds\n",
      "epoch 558| loss: 0.14087 | val_0_accuracy: 0.89762 |  0:00:21s\n",
      "⏱️ Epoch 559 took 0.04 seconds\n",
      "epoch 559| loss: 0.18601 | val_0_accuracy: 0.9119  |  0:00:21s\n",
      "⏱️ Epoch 560 took 0.04 seconds\n",
      "epoch 560| loss: 0.17882 | val_0_accuracy: 0.90238 |  0:00:21s\n",
      "⏱️ Epoch 561 took 0.04 seconds\n",
      "epoch 561| loss: 0.18286 | val_0_accuracy: 0.9     |  0:00:21s\n",
      "⏱️ Epoch 562 took 0.04 seconds\n",
      "epoch 562| loss: 0.14913 | val_0_accuracy: 0.89762 |  0:00:21s\n",
      "⏱️ Epoch 563 took 0.03 seconds\n",
      "epoch 563| loss: 0.18359 | val_0_accuracy: 0.90714 |  0:00:21s\n",
      "⏱️ Epoch 564 took 0.04 seconds\n",
      "epoch 564| loss: 0.14902 | val_0_accuracy: 0.90476 |  0:00:21s\n",
      "⏱️ Epoch 565 took 0.04 seconds\n",
      "epoch 565| loss: 0.16181 | val_0_accuracy: 0.90238 |  0:00:21s\n",
      "⏱️ Epoch 566 took 0.04 seconds\n",
      "epoch 566| loss: 0.18486 | val_0_accuracy: 0.90952 |  0:00:21s\n",
      "⏱️ Epoch 567 took 0.04 seconds\n",
      "epoch 567| loss: 0.1772  | val_0_accuracy: 0.91429 |  0:00:21s\n",
      "⏱️ Epoch 568 took 0.04 seconds\n",
      "epoch 568| loss: 0.1551  | val_0_accuracy: 0.9119  |  0:00:21s\n",
      "⏱️ Epoch 569 took 0.04 seconds\n",
      "epoch 569| loss: 0.17353 | val_0_accuracy: 0.9     |  0:00:21s\n",
      "⏱️ Epoch 570 took 0.03 seconds\n",
      "epoch 570| loss: 0.16259 | val_0_accuracy: 0.89524 |  0:00:21s\n",
      "⏱️ Epoch 571 took 0.03 seconds\n",
      "epoch 571| loss: 0.15302 | val_0_accuracy: 0.89762 |  0:00:21s\n",
      "⏱️ Epoch 572 took 0.04 seconds\n",
      "epoch 572| loss: 0.1444  | val_0_accuracy: 0.89762 |  0:00:21s\n",
      "⏱️ Epoch 573 took 0.04 seconds\n",
      "epoch 573| loss: 0.17103 | val_0_accuracy: 0.9     |  0:00:21s\n",
      "⏱️ Epoch 574 took 0.04 seconds\n",
      "epoch 574| loss: 0.16069 | val_0_accuracy: 0.9     |  0:00:21s\n",
      "⏱️ Epoch 575 took 0.03 seconds\n",
      "epoch 575| loss: 0.17003 | val_0_accuracy: 0.90476 |  0:00:21s\n",
      "⏱️ Epoch 576 took 0.04 seconds\n",
      "epoch 576| loss: 0.16146 | val_0_accuracy: 0.89286 |  0:00:21s\n",
      "⏱️ Epoch 577 took 0.03 seconds\n",
      "epoch 577| loss: 0.14406 | val_0_accuracy: 0.89524 |  0:00:21s\n",
      "⏱️ Epoch 578 took 0.04 seconds\n",
      "epoch 578| loss: 0.16922 | val_0_accuracy: 0.89524 |  0:00:22s\n",
      "⏱️ Epoch 579 took 0.04 seconds\n",
      "epoch 579| loss: 0.15695 | val_0_accuracy: 0.9     |  0:00:22s\n",
      "⏱️ Epoch 580 took 0.04 seconds\n",
      "epoch 580| loss: 0.15367 | val_0_accuracy: 0.89524 |  0:00:22s\n",
      "⏱️ Epoch 581 took 0.04 seconds\n",
      "epoch 581| loss: 0.13666 | val_0_accuracy: 0.89762 |  0:00:22s\n",
      "⏱️ Epoch 582 took 0.04 seconds\n",
      "epoch 582| loss: 0.1852  | val_0_accuracy: 0.88571 |  0:00:22s\n",
      "⏱️ Epoch 583 took 0.04 seconds\n",
      "epoch 583| loss: 0.16662 | val_0_accuracy: 0.89762 |  0:00:22s\n",
      "⏱️ Epoch 584 took 0.04 seconds\n",
      "epoch 584| loss: 0.14619 | val_0_accuracy: 0.8881  |  0:00:22s\n",
      "⏱️ Epoch 585 took 0.04 seconds\n",
      "epoch 585| loss: 0.17551 | val_0_accuracy: 0.87619 |  0:00:22s\n",
      "⏱️ Epoch 586 took 0.04 seconds\n",
      "epoch 586| loss: 0.18422 | val_0_accuracy: 0.87857 |  0:00:22s\n",
      "⏱️ Epoch 587 took 0.04 seconds\n",
      "epoch 587| loss: 0.19303 | val_0_accuracy: 0.89048 |  0:00:22s\n",
      "⏱️ Epoch 588 took 0.04 seconds\n",
      "epoch 588| loss: 0.19139 | val_0_accuracy: 0.89524 |  0:00:22s\n",
      "⏱️ Epoch 589 took 0.04 seconds\n",
      "epoch 589| loss: 0.18574 | val_0_accuracy: 0.88571 |  0:00:22s\n",
      "⏱️ Epoch 590 took 0.04 seconds\n",
      "epoch 590| loss: 0.1496  | val_0_accuracy: 0.88333 |  0:00:22s\n",
      "⏱️ Epoch 591 took 0.04 seconds\n",
      "epoch 591| loss: 0.17193 | val_0_accuracy: 0.89524 |  0:00:22s\n",
      "⏱️ Epoch 592 took 0.04 seconds\n",
      "epoch 592| loss: 0.16399 | val_0_accuracy: 0.89048 |  0:00:22s\n",
      "⏱️ Epoch 593 took 0.04 seconds\n",
      "epoch 593| loss: 0.1564  | val_0_accuracy: 0.8881  |  0:00:22s\n",
      "⏱️ Epoch 594 took 0.03 seconds\n",
      "epoch 594| loss: 0.15848 | val_0_accuracy: 0.91667 |  0:00:22s\n",
      "⏱️ Epoch 595 took 0.04 seconds\n",
      "epoch 595| loss: 0.19369 | val_0_accuracy: 0.89524 |  0:00:22s\n",
      "⏱️ Epoch 596 took 0.04 seconds\n",
      "epoch 596| loss: 0.15337 | val_0_accuracy: 0.87143 |  0:00:22s\n",
      "⏱️ Epoch 597 took 0.04 seconds\n",
      "epoch 597| loss: 0.14666 | val_0_accuracy: 0.86429 |  0:00:22s\n",
      "⏱️ Epoch 598 took 0.04 seconds\n",
      "epoch 598| loss: 0.17483 | val_0_accuracy: 0.86905 |  0:00:22s\n",
      "⏱️ Epoch 599 took 0.04 seconds\n",
      "epoch 599| loss: 0.22223 | val_0_accuracy: 0.85952 |  0:00:22s\n",
      "⏱️ Epoch 600 took 0.04 seconds\n",
      "epoch 600| loss: 0.20118 | val_0_accuracy: 0.88095 |  0:00:22s\n",
      "⏱️ Epoch 601 took 0.04 seconds\n",
      "epoch 601| loss: 0.15987 | val_0_accuracy: 0.89048 |  0:00:22s\n",
      "⏱️ Epoch 602 took 0.04 seconds\n",
      "epoch 602| loss: 0.22112 | val_0_accuracy: 0.88571 |  0:00:22s\n",
      "⏱️ Epoch 603 took 0.04 seconds\n",
      "epoch 603| loss: 0.1625  | val_0_accuracy: 0.87619 |  0:00:22s\n",
      "⏱️ Epoch 604 took 0.04 seconds\n",
      "epoch 604| loss: 0.14827 | val_0_accuracy: 0.87619 |  0:00:22s\n",
      "⏱️ Epoch 605 took 0.04 seconds\n",
      "epoch 605| loss: 0.18146 | val_0_accuracy: 0.8881  |  0:00:23s\n",
      "⏱️ Epoch 606 took 0.04 seconds\n",
      "epoch 606| loss: 0.21019 | val_0_accuracy: 0.89048 |  0:00:23s\n",
      "⏱️ Epoch 607 took 0.04 seconds\n",
      "epoch 607| loss: 0.16125 | val_0_accuracy: 0.88095 |  0:00:23s\n",
      "⏱️ Epoch 608 took 0.04 seconds\n",
      "epoch 608| loss: 0.20026 | val_0_accuracy: 0.87143 |  0:00:23s\n",
      "⏱️ Epoch 609 took 0.04 seconds\n",
      "epoch 609| loss: 0.16903 | val_0_accuracy: 0.88333 |  0:00:23s\n",
      "⏱️ Epoch 610 took 0.04 seconds\n",
      "epoch 610| loss: 0.27043 | val_0_accuracy: 0.89524 |  0:00:23s\n",
      "⏱️ Epoch 611 took 0.03 seconds\n",
      "epoch 611| loss: 0.1626  | val_0_accuracy: 0.87857 |  0:00:23s\n",
      "⏱️ Epoch 612 took 0.03 seconds\n",
      "epoch 612| loss: 0.18662 | val_0_accuracy: 0.85952 |  0:00:23s\n",
      "⏱️ Epoch 613 took 0.04 seconds\n",
      "epoch 613| loss: 0.17745 | val_0_accuracy: 0.86667 |  0:00:23s\n",
      "⏱️ Epoch 614 took 0.04 seconds\n",
      "epoch 614| loss: 0.16212 | val_0_accuracy: 0.8619  |  0:00:23s\n",
      "⏱️ Epoch 615 took 0.04 seconds\n",
      "epoch 615| loss: 0.18997 | val_0_accuracy: 0.87619 |  0:00:23s\n",
      "⏱️ Epoch 616 took 0.04 seconds\n",
      "epoch 616| loss: 0.16825 | val_0_accuracy: 0.90476 |  0:00:23s\n",
      "⏱️ Epoch 617 took 0.04 seconds\n",
      "epoch 617| loss: 0.12996 | val_0_accuracy: 0.9     |  0:00:23s\n",
      "⏱️ Epoch 618 took 0.04 seconds\n",
      "epoch 618| loss: 0.14305 | val_0_accuracy: 0.89048 |  0:00:23s\n",
      "⏱️ Epoch 619 took 0.04 seconds\n",
      "epoch 619| loss: 0.14599 | val_0_accuracy: 0.89762 |  0:00:23s\n",
      "⏱️ Epoch 620 took 0.04 seconds\n",
      "epoch 620| loss: 0.18593 | val_0_accuracy: 0.8881  |  0:00:23s\n",
      "⏱️ Epoch 621 took 0.04 seconds\n",
      "epoch 621| loss: 0.1835  | val_0_accuracy: 0.88333 |  0:00:23s\n",
      "⏱️ Epoch 622 took 0.04 seconds\n",
      "epoch 622| loss: 0.13919 | val_0_accuracy: 0.87857 |  0:00:23s\n",
      "⏱️ Epoch 623 took 0.04 seconds\n",
      "epoch 623| loss: 0.15243 | val_0_accuracy: 0.89286 |  0:00:23s\n",
      "⏱️ Epoch 624 took 0.04 seconds\n",
      "epoch 624| loss: 0.1333  | val_0_accuracy: 0.90476 |  0:00:23s\n",
      "⏱️ Epoch 625 took 0.04 seconds\n",
      "epoch 625| loss: 0.14149 | val_0_accuracy: 0.90714 |  0:00:23s\n",
      "⏱️ Epoch 626 took 0.04 seconds\n",
      "epoch 626| loss: 0.1336  | val_0_accuracy: 0.90476 |  0:00:23s\n",
      "⏱️ Epoch 627 took 0.04 seconds\n",
      "epoch 627| loss: 0.13722 | val_0_accuracy: 0.9     |  0:00:23s\n",
      "⏱️ Epoch 628 took 0.04 seconds\n",
      "epoch 628| loss: 0.185   | val_0_accuracy: 0.89048 |  0:00:23s\n",
      "⏱️ Epoch 629 took 0.04 seconds\n",
      "epoch 629| loss: 0.13523 | val_0_accuracy: 0.88333 |  0:00:23s\n",
      "⏱️ Epoch 630 took 0.04 seconds\n",
      "epoch 630| loss: 0.16538 | val_0_accuracy: 0.89524 |  0:00:23s\n",
      "⏱️ Epoch 631 took 0.04 seconds\n",
      "epoch 631| loss: 0.14258 | val_0_accuracy: 0.89286 |  0:00:23s\n",
      "⏱️ Epoch 632 took 0.04 seconds\n",
      "epoch 632| loss: 0.13501 | val_0_accuracy: 0.8881  |  0:00:24s\n",
      "⏱️ Epoch 633 took 0.04 seconds\n",
      "epoch 633| loss: 0.17739 | val_0_accuracy: 0.8881  |  0:00:24s\n",
      "⏱️ Epoch 634 took 0.04 seconds\n",
      "epoch 634| loss: 0.1456  | val_0_accuracy: 0.88571 |  0:00:24s\n",
      "⏱️ Epoch 635 took 0.04 seconds\n",
      "epoch 635| loss: 0.16773 | val_0_accuracy: 0.90476 |  0:00:24s\n",
      "⏱️ Epoch 636 took 0.04 seconds\n",
      "epoch 636| loss: 0.15888 | val_0_accuracy: 0.9119  |  0:00:24s\n",
      "⏱️ Epoch 637 took 0.04 seconds\n",
      "epoch 637| loss: 0.15406 | val_0_accuracy: 0.90238 |  0:00:24s\n",
      "⏱️ Epoch 638 took 0.04 seconds\n",
      "epoch 638| loss: 0.15597 | val_0_accuracy: 0.88333 |  0:00:24s\n",
      "⏱️ Epoch 639 took 0.04 seconds\n",
      "epoch 639| loss: 0.17927 | val_0_accuracy: 0.87381 |  0:00:24s\n",
      "⏱️ Epoch 640 took 0.04 seconds\n",
      "epoch 640| loss: 0.17419 | val_0_accuracy: 0.86667 |  0:00:24s\n",
      "⏱️ Epoch 641 took 0.04 seconds\n",
      "epoch 641| loss: 0.16291 | val_0_accuracy: 0.87143 |  0:00:24s\n",
      "⏱️ Epoch 642 took 0.04 seconds\n",
      "epoch 642| loss: 0.17262 | val_0_accuracy: 0.89762 |  0:00:24s\n",
      "⏱️ Epoch 643 took 0.04 seconds\n",
      "epoch 643| loss: 0.15891 | val_0_accuracy: 0.90238 |  0:00:24s\n",
      "⏱️ Epoch 644 took 0.04 seconds\n",
      "epoch 644| loss: 0.15614 | val_0_accuracy: 0.90238 |  0:00:24s\n",
      "⏱️ Epoch 645 took 0.04 seconds\n",
      "epoch 645| loss: 0.15899 | val_0_accuracy: 0.90952 |  0:00:24s\n",
      "⏱️ Epoch 646 took 0.04 seconds\n",
      "epoch 646| loss: 0.15077 | val_0_accuracy: 0.89286 |  0:00:24s\n",
      "⏱️ Epoch 647 took 0.04 seconds\n",
      "epoch 647| loss: 0.15414 | val_0_accuracy: 0.89048 |  0:00:24s\n",
      "⏱️ Epoch 648 took 0.04 seconds\n",
      "epoch 648| loss: 0.14943 | val_0_accuracy: 0.88571 |  0:00:24s\n",
      "⏱️ Epoch 649 took 0.04 seconds\n",
      "epoch 649| loss: 0.18398 | val_0_accuracy: 0.89762 |  0:00:24s\n",
      "⏱️ Epoch 650 took 0.04 seconds\n",
      "epoch 650| loss: 0.16077 | val_0_accuracy: 0.90476 |  0:00:24s\n",
      "⏱️ Epoch 651 took 0.04 seconds\n",
      "epoch 651| loss: 0.19096 | val_0_accuracy: 0.90476 |  0:00:24s\n",
      "⏱️ Epoch 652 took 0.04 seconds\n",
      "epoch 652| loss: 0.14671 | val_0_accuracy: 0.89286 |  0:00:24s\n",
      "⏱️ Epoch 653 took 0.04 seconds\n",
      "epoch 653| loss: 0.1441  | val_0_accuracy: 0.89524 |  0:00:24s\n",
      "⏱️ Epoch 654 took 0.04 seconds\n",
      "epoch 654| loss: 0.17505 | val_0_accuracy: 0.90714 |  0:00:24s\n",
      "⏱️ Epoch 655 took 0.04 seconds\n",
      "epoch 655| loss: 0.15285 | val_0_accuracy: 0.90476 |  0:00:24s\n",
      "⏱️ Epoch 656 took 0.04 seconds\n",
      "epoch 656| loss: 0.16916 | val_0_accuracy: 0.89286 |  0:00:24s\n",
      "⏱️ Epoch 657 took 0.04 seconds\n",
      "epoch 657| loss: 0.16318 | val_0_accuracy: 0.88333 |  0:00:24s\n",
      "⏱️ Epoch 658 took 0.04 seconds\n",
      "epoch 658| loss: 0.18961 | val_0_accuracy: 0.89286 |  0:00:25s\n",
      "⏱️ Epoch 659 took 0.04 seconds\n",
      "epoch 659| loss: 0.1383  | val_0_accuracy: 0.90476 |  0:00:25s\n",
      "⏱️ Epoch 660 took 0.04 seconds\n",
      "epoch 660| loss: 0.15065 | val_0_accuracy: 0.9     |  0:00:25s\n",
      "⏱️ Epoch 661 took 0.04 seconds\n",
      "epoch 661| loss: 0.15979 | val_0_accuracy: 0.89762 |  0:00:25s\n",
      "⏱️ Epoch 662 took 0.04 seconds\n",
      "epoch 662| loss: 0.14194 | val_0_accuracy: 0.9     |  0:00:25s\n",
      "⏱️ Epoch 663 took 0.04 seconds\n",
      "epoch 663| loss: 0.15669 | val_0_accuracy: 0.90238 |  0:00:25s\n",
      "⏱️ Epoch 664 took 0.04 seconds\n",
      "epoch 664| loss: 0.14973 | val_0_accuracy: 0.90476 |  0:00:25s\n",
      "⏱️ Epoch 665 took 0.04 seconds\n",
      "epoch 665| loss: 0.15837 | val_0_accuracy: 0.88333 |  0:00:25s\n",
      "⏱️ Epoch 666 took 0.04 seconds\n",
      "epoch 666| loss: 0.14525 | val_0_accuracy: 0.9     |  0:00:25s\n",
      "⏱️ Epoch 667 took 0.04 seconds\n",
      "epoch 667| loss: 0.18826 | val_0_accuracy: 0.89762 |  0:00:25s\n",
      "⏱️ Epoch 668 took 0.04 seconds\n",
      "epoch 668| loss: 0.17354 | val_0_accuracy: 0.89762 |  0:00:25s\n",
      "⏱️ Epoch 669 took 0.04 seconds\n",
      "epoch 669| loss: 0.18795 | val_0_accuracy: 0.89524 |  0:00:25s\n",
      "⏱️ Epoch 670 took 0.04 seconds\n",
      "epoch 670| loss: 0.18386 | val_0_accuracy: 0.89762 |  0:00:25s\n",
      "⏱️ Epoch 671 took 0.04 seconds\n",
      "epoch 671| loss: 0.16226 | val_0_accuracy: 0.89762 |  0:00:25s\n",
      "⏱️ Epoch 672 took 0.04 seconds\n",
      "epoch 672| loss: 0.16135 | val_0_accuracy: 0.88571 |  0:00:25s\n",
      "⏱️ Epoch 673 took 0.04 seconds\n",
      "epoch 673| loss: 0.16572 | val_0_accuracy: 0.88095 |  0:00:25s\n",
      "⏱️ Epoch 674 took 0.04 seconds\n",
      "epoch 674| loss: 0.18372 | val_0_accuracy: 0.89524 |  0:00:25s\n",
      "⏱️ Epoch 675 took 0.04 seconds\n",
      "epoch 675| loss: 0.16303 | val_0_accuracy: 0.90238 |  0:00:25s\n",
      "⏱️ Epoch 676 took 0.04 seconds\n",
      "epoch 676| loss: 0.13374 | val_0_accuracy: 0.9119  |  0:00:25s\n",
      "⏱️ Epoch 677 took 0.03 seconds\n",
      "epoch 677| loss: 0.13736 | val_0_accuracy: 0.9     |  0:00:25s\n",
      "⏱️ Epoch 678 took 0.04 seconds\n",
      "epoch 678| loss: 0.16002 | val_0_accuracy: 0.89524 |  0:00:25s\n",
      "⏱️ Epoch 679 took 0.04 seconds\n",
      "epoch 679| loss: 0.13386 | val_0_accuracy: 0.89762 |  0:00:25s\n",
      "⏱️ Epoch 680 took 0.04 seconds\n",
      "epoch 680| loss: 0.13688 | val_0_accuracy: 0.91429 |  0:00:25s\n",
      "⏱️ Epoch 681 took 0.04 seconds\n",
      "epoch 681| loss: 0.15469 | val_0_accuracy: 0.90952 |  0:00:25s\n",
      "⏱️ Epoch 682 took 0.04 seconds\n",
      "epoch 682| loss: 0.13654 | val_0_accuracy: 0.92143 |  0:00:25s\n",
      "⏱️ Epoch 683 took 0.04 seconds\n",
      "epoch 683| loss: 0.14779 | val_0_accuracy: 0.92143 |  0:00:25s\n",
      "⏱️ Epoch 684 took 0.04 seconds\n",
      "epoch 684| loss: 0.1303  | val_0_accuracy: 0.9     |  0:00:25s\n",
      "⏱️ Epoch 685 took 0.04 seconds\n",
      "epoch 685| loss: 0.13649 | val_0_accuracy: 0.90714 |  0:00:25s\n",
      "⏱️ Epoch 686 took 0.04 seconds\n",
      "epoch 686| loss: 0.1392  | val_0_accuracy: 0.90952 |  0:00:26s\n",
      "⏱️ Epoch 687 took 0.04 seconds\n",
      "epoch 687| loss: 0.13364 | val_0_accuracy: 0.89524 |  0:00:26s\n",
      "⏱️ Epoch 688 took 0.04 seconds\n",
      "epoch 688| loss: 0.16176 | val_0_accuracy: 0.89524 |  0:00:26s\n",
      "⏱️ Epoch 689 took 0.04 seconds\n",
      "epoch 689| loss: 0.15306 | val_0_accuracy: 0.90476 |  0:00:26s\n",
      "⏱️ Epoch 690 took 0.04 seconds\n",
      "epoch 690| loss: 0.13617 | val_0_accuracy: 0.89286 |  0:00:26s\n",
      "⏱️ Epoch 691 took 0.04 seconds\n",
      "epoch 691| loss: 0.16615 | val_0_accuracy: 0.9119  |  0:00:26s\n",
      "⏱️ Epoch 692 took 0.04 seconds\n",
      "epoch 692| loss: 0.14808 | val_0_accuracy: 0.90952 |  0:00:26s\n",
      "⏱️ Epoch 693 took 0.04 seconds\n",
      "epoch 693| loss: 0.16953 | val_0_accuracy: 0.89524 |  0:00:26s\n",
      "⏱️ Epoch 694 took 0.03 seconds\n",
      "epoch 694| loss: 0.16391 | val_0_accuracy: 0.9     |  0:00:26s\n",
      "⏱️ Epoch 695 took 0.04 seconds\n",
      "epoch 695| loss: 0.16437 | val_0_accuracy: 0.91667 |  0:00:26s\n",
      "⏱️ Epoch 696 took 0.03 seconds\n",
      "epoch 696| loss: 0.16836 | val_0_accuracy: 0.90476 |  0:00:26s\n",
      "⏱️ Epoch 697 took 0.04 seconds\n",
      "epoch 697| loss: 0.1452  | val_0_accuracy: 0.9     |  0:00:26s\n",
      "⏱️ Epoch 698 took 0.04 seconds\n",
      "epoch 698| loss: 0.14282 | val_0_accuracy: 0.9     |  0:00:26s\n",
      "⏱️ Epoch 699 took 0.04 seconds\n",
      "epoch 699| loss: 0.13655 | val_0_accuracy: 0.91429 |  0:00:26s\n",
      "⏱️ Epoch 700 took 0.05 seconds\n",
      "epoch 700| loss: 0.13851 | val_0_accuracy: 0.90238 |  0:00:26s\n",
      "⏱️ Epoch 701 took 0.04 seconds\n",
      "epoch 701| loss: 0.13751 | val_0_accuracy: 0.90238 |  0:00:26s\n",
      "⏱️ Epoch 702 took 0.04 seconds\n",
      "\n",
      "Early stopping occurred at epoch 701 with best_epoch = 501 and best_val_0_accuracy = 0.92143\n"
     ]
    }
   ],
   "source": [
    "Xtrain, Ytrain, Xtest, Ytest, Ytest_decoded, le = split_data(traindata, testdata)\n",
    "best_tabnet_params = find_best_tabnet(Xtrain, Ytrain)\n",
    "\n",
    "from sklearn.model_selection import train_test_split\n",
    "\n",
    "# Split 80% train, 20% validation\n",
    "X_tr, X_val, y_tr, y_val = train_test_split(\n",
    "    Xtrain, Ytrain,\n",
    "    test_size=0.2,\n",
    "    random_state=42,\n",
    "    stratify=Ytrain\n",
    ")\n",
    "\n",
    "# Re-initialize TabNet with best params\n",
    "final_model = TabNetClassifier(\n",
    "    **{k: v for k, v in best_tabnet_params.items()},\n",
    "    verbose=1,\n",
    "    seed=42\n",
    ")\n",
    "\n",
    "epoch_timer = EpochTimer()\n",
    "\n",
    "# Retrain on full training data\n",
    "final_model.fit(\n",
    "    X_tr, y_tr,\n",
    "    eval_set=[(X_val, y_val)],\n",
    "    max_epochs=1000,\n",
    "    patience=200,\n",
    "    batch_size=1024,\n",
    "    virtual_batch_size=128,\n",
    "    callbacks=[epoch_timer]\n",
    ")\n",
    "\n"
   ]
  },
  {
   "cell_type": "code",
   "execution_count": 12,
   "metadata": {},
   "outputs": [],
   "source": [
    "import os\n",
    "from sklearn.metrics import accuracy_score, precision_score, recall_score, f1_score, roc_auc_score\n",
    "\n",
    "file_path = os.path.join(\"results\", f\"gtd{partition}.txt\")\n",
    "\n",
    "# Predict class indices for test set\n",
    "y_pred = final_model.predict(Xtest)\n",
    "y_proba = final_model.predict_proba(Xtest)\n",
    "y_pred_decoded = le.inverse_transform(y_pred)\n",
    "y_true_decoded = le.inverse_transform(Ytest)\n",
    "\n",
    "# Make sure the directory exists\n",
    "os.makedirs(\"results\", exist_ok=True)\n",
    "\n",
    "# Compute accuracy from decoded labels\n",
    "acc = accuracy_score(y_true_decoded, y_pred_decoded)\n",
    "\n",
    "# Write metrics to file\n",
    "with open(file_path, \"w\") as file:\n",
    "    file.write(f\"Accuracy: {acc:.4f}\\n\")\n",
    "    file.write(f\"Precision weighted: {precision_score(y_true_decoded, y_pred_decoded, average='weighted'):.4f}\\n\")\n",
    "    file.write(f\"Recall weighted: {recall_score(y_true_decoded, y_pred_decoded, average='weighted'):.4f}\\n\")\n",
    "    file.write(f\"F1 Score weighted: {f1_score(y_true_decoded, y_pred_decoded, average='weighted'):.4f}\\n\")\n",
    "    file.write(f\"Precision micro: {precision_score(y_true_decoded, y_pred_decoded, average='micro'):.4f}\\n\")\n",
    "    file.write(f\"Recall micro: {recall_score(y_true_decoded, y_pred_decoded, average='micro'):.4f}\\n\")\n",
    "    file.write(f\"F1 Score micro: {f1_score(y_true_decoded, y_pred_decoded, average='micro'):.4f}\\n\")\n",
    "    file.write(f\"Precision macro: {precision_score(y_true_decoded, y_pred_decoded, average='macro'):.4f}\\n\")\n",
    "    file.write(f\"Recall macro: {recall_score(y_true_decoded, y_pred_decoded, average='macro'):.4f}\\n\")\n",
    "    file.write(f\"F1 Score macro: {f1_score(y_true_decoded, y_pred_decoded, average='macro'):.4f}\\n\")\n",
    "    file.write(f\"roc auc weighted: {roc_auc_score(y_true_decoded, y_proba, multi_class='ovr', average='weighted'):.4f}\\n\")\n",
    "    file.write(f\"roc auc macro: {roc_auc_score(y_true_decoded, y_proba, multi_class='ovr', average='macro'):.4f}\\n\")\n",
    "    file.write(f\"roc auc micro: {roc_auc_score(y_true_decoded, y_proba, multi_class='ovr', average='micro'):.4f}\\n\")\n",
    "\n",
    "with open(f\"results/epoch_time_gtd{partition}.txt\", \"w\") as f:\n",
    "    f.write('\\n'.join(str(x) for x in epoch_timer.epoch_times))\n",
    "\n"
   ]
  },
  {
   "cell_type": "code",
   "execution_count": 13,
   "metadata": {},
   "outputs": [
    {
     "name": "stdout",
     "output_type": "stream",
     "text": [
      "                                                  precision    recall  f1-score   support\n",
      "\n",
      "                          Abu Sayyaf Group (ASG)       0.96      0.83      0.89        30\n",
      "        African National Congress (South Africa)       0.97      1.00      0.98        30\n",
      "                                Al-Qaida in Iraq       0.68      0.83      0.75        30\n",
      "        Al-Qaida in the Arabian Peninsula (AQAP)       0.84      0.90      0.87        30\n",
      "                                      Al-Shabaab       1.00      0.90      0.95        30\n",
      "             Basque Fatherland and Freedom (ETA)       0.94      1.00      0.97        30\n",
      "                                      Boko Haram       0.79      1.00      0.88        30\n",
      "  Communist Party of India - Maoist (CPI-Maoist)       0.85      0.97      0.91        30\n",
      "       Corsican National Liberation Front (FLNC)       0.97      0.97      0.97        30\n",
      "                       Donetsk People's Republic       0.97      1.00      0.98        30\n",
      "Farabundo Marti National Liberation Front (FMLN)       0.97      0.97      0.97        30\n",
      "                               Fulani extremists       0.96      0.90      0.93        30\n",
      "                 Houthi extremists (Ansar Allah)       0.91      0.97      0.94        30\n",
      "                     Irish Republican Army (IRA)       1.00      0.97      0.98        30\n",
      "     Islamic State of Iraq and the Levant (ISIL)       0.58      0.50      0.54        30\n",
      "                  Kurdistan Workers' Party (PKK)       0.93      0.87      0.90        30\n",
      "         Liberation Tigers of Tamil Eelam (LTTE)       1.00      0.90      0.95        30\n",
      "         Manuel Rodriguez Patriotic Front (FPMR)       0.97      0.97      0.97        30\n",
      "                                         Maoists       0.93      0.83      0.88        30\n",
      "                               Muslim extremists       0.76      0.63      0.69        30\n",
      "      National Liberation Army of Colombia (ELN)       0.83      1.00      0.91        30\n",
      "                         New People's Army (NPA)       0.81      1.00      0.90        30\n",
      "               Nicaraguan Democratic Force (FDN)       0.97      1.00      0.98        30\n",
      "                                    Palestinians       0.96      0.77      0.85        30\n",
      "   Revolutionary Armed Forces of Colombia (FARC)       1.00      0.80      0.89        30\n",
      "                               Shining Path (SL)       0.87      0.87      0.87        30\n",
      "                                 Sikh Extremists       1.00      0.97      0.98        30\n",
      "                                         Taliban       0.78      0.70      0.74        30\n",
      "                 Tehrik-i-Taliban Pakistan (TTP)       0.75      0.80      0.77        30\n",
      "       Tupac Amaru Revolutionary Movement (MRTA)       0.90      0.90      0.90        30\n",
      "\n",
      "                                        accuracy                           0.89       900\n",
      "                                       macro avg       0.89      0.89      0.89       900\n",
      "                                    weighted avg       0.89      0.89      0.89       900\n",
      "\n"
     ]
    }
   ],
   "source": [
    "print(classification_report(Ytest_decoded, y_pred_decoded))"
   ]
  },
  {
   "cell_type": "code",
   "execution_count": 14,
   "metadata": {},
   "outputs": [],
   "source": [
    "def plot_confusion_matrix(y_true, y_pred, labels):\n",
    "    from sklearn.metrics import confusion_matrix\n",
    "    import matplotlib.pyplot as plt\n",
    "    import seaborn as sns\n",
    "    import numpy as np\n",
    "\n",
    "    cm = confusion_matrix(y_true, y_pred, labels=labels)\n",
    "    cm_normalized = cm.astype('float') / cm.sum(axis=1, keepdims=True)\n",
    "\n",
    "    plt.figure(figsize=(18, 16))\n",
    "    sns.heatmap(cm_normalized,\n",
    "                annot=True,\n",
    "                fmt=\".2f\",\n",
    "                xticklabels=labels,\n",
    "                yticklabels=labels,\n",
    "                cmap=\"viridis\",\n",
    "                square=True,\n",
    "                linewidths=0.5,\n",
    "                cbar_kws={\"shrink\": 0.8})\n",
    "\n",
    "    plt.title(f\"Normalized Confusion Matrix\", fontsize=18)\n",
    "    plt.xlabel(\"Predicted Label\", fontsize=14)\n",
    "    plt.ylabel(\"True Label\", fontsize=14)\n",
    "    plt.xticks(rotation=90)\n",
    "    plt.yticks(rotation=0)\n",
    "    plt.tight_layout()\n",
    "\n",
    "    # Save the figure\n",
    "    save_path = f\"results/confusion_matrix_partition_{partition}.png\"\n",
    "    plt.savefig(save_path, dpi=300)\n",
    "    plt.close()\n",
    "\n",
    "    print(f\"Saved confusion matrix for partition {partition} to {save_path}\")\n"
   ]
  },
  {
   "cell_type": "code",
   "execution_count": 15,
   "metadata": {},
   "outputs": [
    {
     "name": "stdout",
     "output_type": "stream",
     "text": [
      "Saved confusion matrix for partition 100 to results/confusion_matrix_partition_100.png\n"
     ]
    }
   ],
   "source": [
    "# Get all unique class labels from the truths\n",
    "class_labels = np.unique(Ytest_decoded)\n",
    "\n",
    "plot_confusion_matrix(Ytest_decoded, y_pred_decoded, labels=class_labels)\n",
    "\n"
   ]
  }
 ],
 "metadata": {
  "kernelspec": {
   "display_name": "Python (TabNet)",
   "language": "python",
   "name": "tabnet-env"
  },
  "language_info": {
   "codemirror_mode": {
    "name": "ipython",
    "version": 3
   },
   "file_extension": ".py",
   "mimetype": "text/x-python",
   "name": "python",
   "nbconvert_exporter": "python",
   "pygments_lexer": "ipython3",
   "version": "3.11.9"
  }
 },
 "nbformat": 4,
 "nbformat_minor": 2
}
