{
 "cells": [
  {
   "cell_type": "code",
   "execution_count": 1,
   "metadata": {},
   "outputs": [],
   "source": [
    "import warnings\n",
    "warnings.filterwarnings( 'ignore' )\n",
    "import pandas as pd\n",
    "import numpy as np\n",
    "import matplotlib.pyplot as plt\n",
    "import seaborn as sns\n",
    "from sklearn.metrics import accuracy_score, classification_report, confusion_matrix\n",
    "from sklearn.model_selection import RandomizedSearchCV, GridSearchCV, TimeSeriesSplit\n",
    "from sklearn.ensemble import GradientBoostingClassifier, RandomForestClassifier\n",
    "from sklearn.neural_network import MLPClassifier\n",
    "from sklearn.impute import SimpleImputer\n",
    "import sys"
   ]
  },
  {
   "cell_type": "code",
   "execution_count": 2,
   "metadata": {},
   "outputs": [],
   "source": [
    "partition = 200"
   ]
  },
  {
   "cell_type": "code",
   "execution_count": 3,
   "metadata": {},
   "outputs": [
    {
     "name": "stdout",
     "output_type": "stream",
     "text": [
      "Requirement already satisfied: pytorch-tabnet in /opt/conda/lib/python3.11/site-packages (4.1.0)\n",
      "Requirement already satisfied: numpy>=1.17 in /opt/conda/lib/python3.11/site-packages (from pytorch-tabnet) (1.26.4)\n",
      "Requirement already satisfied: scikit_learn>0.21 in /opt/conda/lib/python3.11/site-packages (from pytorch-tabnet) (1.5.0)\n",
      "Requirement already satisfied: scipy>1.4 in /opt/conda/lib/python3.11/site-packages (from pytorch-tabnet) (1.14.0)\n",
      "Requirement already satisfied: torch>=1.3 in /opt/conda/lib/python3.11/site-packages (from pytorch-tabnet) (2.3.1)\n",
      "Requirement already satisfied: tqdm>=4.36 in /opt/conda/lib/python3.11/site-packages (from pytorch-tabnet) (4.66.4)\n",
      "Requirement already satisfied: joblib>=1.2.0 in /opt/conda/lib/python3.11/site-packages (from scikit_learn>0.21->pytorch-tabnet) (1.4.2)\n",
      "Requirement already satisfied: threadpoolctl>=3.1.0 in /opt/conda/lib/python3.11/site-packages (from scikit_learn>0.21->pytorch-tabnet) (3.5.0)\n",
      "Requirement already satisfied: filelock in /opt/conda/lib/python3.11/site-packages (from torch>=1.3->pytorch-tabnet) (3.15.4)\n",
      "Requirement already satisfied: typing-extensions>=4.8.0 in /opt/conda/lib/python3.11/site-packages (from torch>=1.3->pytorch-tabnet) (4.12.2)\n",
      "Requirement already satisfied: sympy in /opt/conda/lib/python3.11/site-packages (from torch>=1.3->pytorch-tabnet) (1.12.1)\n",
      "Requirement already satisfied: networkx in /opt/conda/lib/python3.11/site-packages (from torch>=1.3->pytorch-tabnet) (3.3)\n",
      "Requirement already satisfied: jinja2 in /opt/conda/lib/python3.11/site-packages (from torch>=1.3->pytorch-tabnet) (3.1.4)\n",
      "Requirement already satisfied: fsspec in /opt/conda/lib/python3.11/site-packages (from torch>=1.3->pytorch-tabnet) (2024.5.0)\n",
      "Requirement already satisfied: nvidia-cuda-nvrtc-cu12==12.1.105 in /opt/conda/lib/python3.11/site-packages (from torch>=1.3->pytorch-tabnet) (12.1.105)\n",
      "Requirement already satisfied: nvidia-cuda-runtime-cu12==12.1.105 in /opt/conda/lib/python3.11/site-packages (from torch>=1.3->pytorch-tabnet) (12.1.105)\n",
      "Requirement already satisfied: nvidia-cuda-cupti-cu12==12.1.105 in /opt/conda/lib/python3.11/site-packages (from torch>=1.3->pytorch-tabnet) (12.1.105)\n",
      "Requirement already satisfied: nvidia-cudnn-cu12==8.9.2.26 in /opt/conda/lib/python3.11/site-packages (from torch>=1.3->pytorch-tabnet) (8.9.2.26)\n",
      "Requirement already satisfied: nvidia-cublas-cu12==12.1.3.1 in /opt/conda/lib/python3.11/site-packages (from torch>=1.3->pytorch-tabnet) (12.1.3.1)\n",
      "Requirement already satisfied: nvidia-cufft-cu12==11.0.2.54 in /opt/conda/lib/python3.11/site-packages (from torch>=1.3->pytorch-tabnet) (11.0.2.54)\n",
      "Requirement already satisfied: nvidia-curand-cu12==10.3.2.106 in /opt/conda/lib/python3.11/site-packages (from torch>=1.3->pytorch-tabnet) (10.3.2.106)\n",
      "Requirement already satisfied: nvidia-cusolver-cu12==11.4.5.107 in /opt/conda/lib/python3.11/site-packages (from torch>=1.3->pytorch-tabnet) (11.4.5.107)\n",
      "Requirement already satisfied: nvidia-cusparse-cu12==12.1.0.106 in /opt/conda/lib/python3.11/site-packages (from torch>=1.3->pytorch-tabnet) (12.1.0.106)\n",
      "Requirement already satisfied: nvidia-nccl-cu12==2.20.5 in /opt/conda/lib/python3.11/site-packages (from torch>=1.3->pytorch-tabnet) (2.20.5)\n",
      "Requirement already satisfied: nvidia-nvtx-cu12==12.1.105 in /opt/conda/lib/python3.11/site-packages (from torch>=1.3->pytorch-tabnet) (12.1.105)\n",
      "Requirement already satisfied: triton==2.3.1 in /opt/conda/lib/python3.11/site-packages (from torch>=1.3->pytorch-tabnet) (2.3.1)\n",
      "Requirement already satisfied: nvidia-nvjitlink-cu12 in /opt/conda/lib/python3.11/site-packages (from nvidia-cusolver-cu12==11.4.5.107->torch>=1.3->pytorch-tabnet) (12.3.101)\n",
      "Requirement already satisfied: MarkupSafe>=2.0 in /opt/conda/lib/python3.11/site-packages (from jinja2->torch>=1.3->pytorch-tabnet) (2.1.5)\n",
      "Requirement already satisfied: mpmath<1.4.0,>=1.1.0 in /opt/conda/lib/python3.11/site-packages (from sympy->torch>=1.3->pytorch-tabnet) (1.3.0)\n",
      "\n",
      "\u001b[1m[\u001b[0m\u001b[34;49mnotice\u001b[0m\u001b[1;39;49m]\u001b[0m\u001b[39;49m A new release of pip is available: \u001b[0m\u001b[31;49m24.1.2\u001b[0m\u001b[39;49m -> \u001b[0m\u001b[32;49m25.1.1\u001b[0m\n",
      "\u001b[1m[\u001b[0m\u001b[34;49mnotice\u001b[0m\u001b[1;39;49m]\u001b[0m\u001b[39;49m To update, run: \u001b[0m\u001b[32;49mpip install --upgrade pip\u001b[0m\n"
     ]
    }
   ],
   "source": [
    "!{sys.executable} -m pip install pytorch-tabnet --upgrade"
   ]
  },
  {
   "cell_type": "code",
   "execution_count": 4,
   "metadata": {},
   "outputs": [],
   "source": [
    "trainpath = f'../../../../data/top30groups/LongLatCombined/train1/train{partition}.csv'\n",
    "testpath = f'../../../../data/top30groups/LongLatCombined/test1/test{partition}.csv'\n",
    "\n",
    "traindata = pd.read_csv(trainpath, encoding='ISO-8859-1')\n",
    "testdata = pd.read_csv(testpath, encoding='ISO-8859-1')"
   ]
  },
  {
   "cell_type": "code",
   "execution_count": 5,
   "metadata": {},
   "outputs": [
    {
     "name": "stdout",
     "output_type": "stream",
     "text": [
      "True\n"
     ]
    }
   ],
   "source": [
    "import torch\n",
    "print(torch.cuda.is_available())"
   ]
  },
  {
   "cell_type": "code",
   "execution_count": 6,
   "metadata": {},
   "outputs": [],
   "source": [
    "torch.cuda.empty_cache()"
   ]
  },
  {
   "cell_type": "code",
   "execution_count": 7,
   "metadata": {},
   "outputs": [],
   "source": [
    "import torch\n",
    "from sklearn.preprocessing import LabelEncoder\n",
    "from sklearn.model_selection import train_test_split\n",
    "\n",
    "from sklearn.preprocessing import LabelEncoder\n",
    "\n",
    "def split_data(dftrain, dftest):\n",
    "    Xtrain = dftrain.drop(columns=['gname']).values.astype(float)\n",
    "    Ytrain = dftrain['gname'].values\n",
    "    Xtest = dftest.drop(columns=['gname']).values.astype(float)\n",
    "    Ytest = dftest['gname'].values\n",
    "\n",
    "    le = LabelEncoder()\n",
    "    Ytrain = le.fit_transform(Ytrain)\n",
    "    Ytest = le.transform(Ytest)\n",
    "\n",
    "    #y_pred_decoded = model.label_encoder.inverse_transform(y_pred)\n",
    "    y_true_decoded = le.inverse_transform(Ytest)\n",
    "\n",
    "    return Xtrain, Ytrain, Xtest, Ytest, y_true_decoded, le\n",
    "\n"
   ]
  },
  {
   "cell_type": "code",
   "execution_count": 8,
   "metadata": {},
   "outputs": [],
   "source": [
    "from sklearn.base import BaseEstimator, ClassifierMixin\n",
    "import numpy as np\n",
    "from pytorch_tabnet.tab_model import TabNetClassifier\n",
    "\n",
    "class TabNetClassifierWrapper(BaseEstimator, ClassifierMixin):\n",
    "    def __init__(self, n_d=8, n_a=8, n_steps=3, gamma=1.3, lambda_sparse=1e-3, optimizer_params=None):\n",
    "        self.n_d = n_d\n",
    "        self.n_a = n_a\n",
    "        self.n_steps = n_steps\n",
    "        self.gamma = gamma\n",
    "        self.lambda_sparse = lambda_sparse\n",
    "        self.optimizer_params = optimizer_params or {'lr': 0.01}\n",
    "        self.model = None\n",
    "\n",
    "    def fit(self, X, y):\n",
    "        self.model = TabNetClassifier(\n",
    "            n_d=self.n_d,\n",
    "            n_a=self.n_a,\n",
    "            n_steps=self.n_steps,\n",
    "            gamma=self.gamma,\n",
    "            lambda_sparse=self.lambda_sparse,\n",
    "            optimizer_params=self.optimizer_params,\n",
    "            seed=42,\n",
    "            verbose=0\n",
    "        )\n",
    "\n",
    "        self.model.fit(\n",
    "            X, y,\n",
    "            eval_set=[(X, y)],\n",
    "            max_epochs=500,\n",
    "            patience=120,\n",
    "            batch_size=1024,\n",
    "            virtual_batch_size=128,\n",
    "            eval_metric=['accuracy']\n",
    "        )\n",
    "\n",
    "        self.classes_ = np.unique(y)  \n",
    "        return self\n",
    "\n",
    "    def predict(self, X):\n",
    "        return self.model.predict(X)\n",
    "\n",
    "    def score(self, X, y):\n",
    "        preds = self.predict(X)\n",
    "        return (preds == y).mean()\n"
   ]
  },
  {
   "cell_type": "code",
   "execution_count": 9,
   "metadata": {},
   "outputs": [],
   "source": [
    "#from pytorch_tabnet.sklearn import TabNetClassifier\n",
    "from sklearn.model_selection import GridSearchCV\n",
    "from sklearn.preprocessing import LabelEncoder\n",
    "from sklearn.pipeline import Pipeline\n",
    "from sklearn.model_selection import StratifiedKFold\n",
    "from pytorch_tabnet.tab_model import TabNetClassifier, TabNetRegressor\n",
    "\n",
    "def find_best_tabnet(Xtrain, Ytrain, n_iter=20):\n",
    "    print(\"Starting TabNet grid search\")\n",
    "    print(\"CUDA available:\", torch.cuda.is_available())\n",
    "\n",
    "    param_dist = {\n",
    "        'n_d': [8, 16, 24],\n",
    "        'n_a': [8, 16, 24],\n",
    "        'n_steps': [3, 4, 5],\n",
    "        'gamma': [1.0, 1.3, 1.5],\n",
    "        'lambda_sparse': [1e-4, 1e-3, 1e-2],\n",
    "        'optimizer_params': [{'lr': 0.01}]\n",
    "    }\n",
    "\n",
    "    random_search = RandomizedSearchCV(\n",
    "        estimator=TabNetClassifierWrapper(),\n",
    "        param_distributions=param_dist,\n",
    "        n_iter=n_iter,\n",
    "        cv=StratifiedKFold(n_splits=5, shuffle=True, random_state=42),\n",
    "        scoring='accuracy',\n",
    "        verbose=1,\n",
    "        n_jobs=-1,\n",
    "        random_state=42\n",
    "    )\n",
    "\n",
    "    random_search.fit(Xtrain, Ytrain)\n",
    "    print(\"Best parameters:\", random_search.best_params_)\n",
    "    print(\"Best accuracy:\", random_search.best_score_)\n",
    "\n",
    "    return random_search.best_params_\n",
    "\n"
   ]
  },
  {
   "cell_type": "code",
   "execution_count": 10,
   "metadata": {},
   "outputs": [],
   "source": [
    "from pytorch_tabnet.callbacks import Callback\n",
    "import time\n",
    "\n",
    "class EpochTimer(Callback):\n",
    "    def __init__(self):\n",
    "        self.epoch_times = []\n",
    "\n",
    "    def on_epoch_begin(self, epoch_idx, logs=None):\n",
    "        self.start_time = time.time()\n",
    "\n",
    "    def on_epoch_end(self, epoch_idx, logs=None):\n",
    "        duration = time.time() - self.start_time\n",
    "        self.epoch_times.append(duration)\n",
    "        print(f\"⏱️ Epoch {epoch_idx + 1} took {duration:.2f} seconds\")\n"
   ]
  },
  {
   "cell_type": "code",
   "execution_count": 11,
   "metadata": {},
   "outputs": [
    {
     "name": "stdout",
     "output_type": "stream",
     "text": [
      "Starting TabNet grid search\n",
      "CUDA available: True\n",
      "Fitting 5 folds for each of 20 candidates, totalling 100 fits\n",
      "\n",
      "Early stopping occurred at epoch 405 with best_epoch = 285 and best_val_0_accuracy = 0.94702\n"
     ]
    },
    {
     "name": "stderr",
     "output_type": "stream",
     "text": [
      "/opt/conda/lib/python3.11/site-packages/pytorch_tabnet/callbacks.py:172: UserWarning: Best weights from best epoch are automatically used!\n",
      "  warnings.warn(wrn_msg)\n"
     ]
    },
    {
     "name": "stdout",
     "output_type": "stream",
     "text": [
      "Stop training because you reached max_epochs = 500 with best_epoch = 474 and best_val_0_accuracy = 0.9747\n"
     ]
    },
    {
     "name": "stderr",
     "output_type": "stream",
     "text": [
      "/opt/conda/lib/python3.11/site-packages/pytorch_tabnet/callbacks.py:172: UserWarning: Best weights from best epoch are automatically used!\n",
      "  warnings.warn(wrn_msg)\n"
     ]
    },
    {
     "name": "stdout",
     "output_type": "stream",
     "text": [
      "Stop training because you reached max_epochs = 500 with best_epoch = 470 and best_val_0_accuracy = 0.97946\n",
      "Stop training because you reached max_epochs = 500 with best_epoch = 493 and best_val_0_accuracy = 0.97411\n",
      "Stop training because you reached max_epochs = 500 with best_epoch = 479 and best_val_0_accuracy = 0.97649\n",
      "Stop training because you reached max_epochs = 500 with best_epoch = 419 and best_val_0_accuracy = 0.97024\n"
     ]
    },
    {
     "name": "stderr",
     "output_type": "stream",
     "text": [
      "/opt/conda/lib/python3.11/site-packages/pytorch_tabnet/callbacks.py:172: UserWarning: Best weights from best epoch are automatically used!\n",
      "  warnings.warn(wrn_msg)\n",
      "/opt/conda/lib/python3.11/site-packages/pytorch_tabnet/callbacks.py:172: UserWarning: Best weights from best epoch are automatically used!\n",
      "  warnings.warn(wrn_msg)\n",
      "/opt/conda/lib/python3.11/site-packages/pytorch_tabnet/callbacks.py:172: UserWarning: Best weights from best epoch are automatically used!\n",
      "  warnings.warn(wrn_msg)\n",
      "/opt/conda/lib/python3.11/site-packages/pytorch_tabnet/callbacks.py:172: UserWarning: Best weights from best epoch are automatically used!\n",
      "  warnings.warn(wrn_msg)\n"
     ]
    },
    {
     "name": "stdout",
     "output_type": "stream",
     "text": [
      "Stop training because you reached max_epochs = 500 with best_epoch = 458 and best_val_0_accuracy = 0.9756\n",
      "Stop training because you reached max_epochs = 500 with best_epoch = 475 and best_val_0_accuracy = 0.97411\n"
     ]
    },
    {
     "name": "stderr",
     "output_type": "stream",
     "text": [
      "/opt/conda/lib/python3.11/site-packages/pytorch_tabnet/callbacks.py:172: UserWarning: Best weights from best epoch are automatically used!\n",
      "  warnings.warn(wrn_msg)\n",
      "/opt/conda/lib/python3.11/site-packages/pytorch_tabnet/callbacks.py:172: UserWarning: Best weights from best epoch are automatically used!\n",
      "  warnings.warn(wrn_msg)\n"
     ]
    },
    {
     "name": "stdout",
     "output_type": "stream",
     "text": [
      "Stop training because you reached max_epochs = 500 with best_epoch = 451 and best_val_0_accuracy = 0.97262\n"
     ]
    },
    {
     "name": "stderr",
     "output_type": "stream",
     "text": [
      "/opt/conda/lib/python3.11/site-packages/pytorch_tabnet/callbacks.py:172: UserWarning: Best weights from best epoch are automatically used!\n",
      "  warnings.warn(wrn_msg)\n"
     ]
    },
    {
     "name": "stdout",
     "output_type": "stream",
     "text": [
      "Stop training because you reached max_epochs = 500 with best_epoch = 437 and best_val_0_accuracy = 0.97054\n"
     ]
    },
    {
     "name": "stderr",
     "output_type": "stream",
     "text": [
      "/opt/conda/lib/python3.11/site-packages/pytorch_tabnet/callbacks.py:172: UserWarning: Best weights from best epoch are automatically used!\n",
      "  warnings.warn(wrn_msg)\n"
     ]
    },
    {
     "name": "stdout",
     "output_type": "stream",
     "text": [
      "Stop training because you reached max_epochs = 500 with best_epoch = 486 and best_val_0_accuracy = 0.97173\n"
     ]
    },
    {
     "name": "stderr",
     "output_type": "stream",
     "text": [
      "/opt/conda/lib/python3.11/site-packages/pytorch_tabnet/callbacks.py:172: UserWarning: Best weights from best epoch are automatically used!\n",
      "  warnings.warn(wrn_msg)\n"
     ]
    },
    {
     "name": "stdout",
     "output_type": "stream",
     "text": [
      "Stop training because you reached max_epochs = 500 with best_epoch = 456 and best_val_0_accuracy = 0.97054\n",
      "Stop training because you reached max_epochs = 500 with best_epoch = 483 and best_val_0_accuracy = 0.97113\n",
      "Stop training because you reached max_epochs = 500 with best_epoch = 458 and best_val_0_accuracy = 0.9756\n"
     ]
    },
    {
     "name": "stderr",
     "output_type": "stream",
     "text": [
      "/opt/conda/lib/python3.11/site-packages/pytorch_tabnet/callbacks.py:172: UserWarning: Best weights from best epoch are automatically used!\n",
      "  warnings.warn(wrn_msg)\n",
      "/opt/conda/lib/python3.11/site-packages/pytorch_tabnet/callbacks.py:172: UserWarning: Best weights from best epoch are automatically used!\n",
      "  warnings.warn(wrn_msg)\n",
      "/opt/conda/lib/python3.11/site-packages/pytorch_tabnet/callbacks.py:172: UserWarning: Best weights from best epoch are automatically used!\n",
      "  warnings.warn(wrn_msg)\n"
     ]
    },
    {
     "name": "stdout",
     "output_type": "stream",
     "text": [
      "Stop training because you reached max_epochs = 500 with best_epoch = 426 and best_val_0_accuracy = 0.95714\n"
     ]
    },
    {
     "name": "stderr",
     "output_type": "stream",
     "text": [
      "/opt/conda/lib/python3.11/site-packages/pytorch_tabnet/callbacks.py:172: UserWarning: Best weights from best epoch are automatically used!\n",
      "  warnings.warn(wrn_msg)\n"
     ]
    },
    {
     "name": "stdout",
     "output_type": "stream",
     "text": [
      "\n",
      "Early stopping occurred at epoch 492 with best_epoch = 372 and best_val_0_accuracy = 0.94881\n"
     ]
    },
    {
     "name": "stderr",
     "output_type": "stream",
     "text": [
      "/opt/conda/lib/python3.11/site-packages/pytorch_tabnet/callbacks.py:172: UserWarning: Best weights from best epoch are automatically used!\n",
      "  warnings.warn(wrn_msg)\n"
     ]
    },
    {
     "name": "stdout",
     "output_type": "stream",
     "text": [
      "Stop training because you reached max_epochs = 500 with best_epoch = 494 and best_val_0_accuracy = 0.95655\n"
     ]
    },
    {
     "name": "stderr",
     "output_type": "stream",
     "text": [
      "/opt/conda/lib/python3.11/site-packages/pytorch_tabnet/callbacks.py:172: UserWarning: Best weights from best epoch are automatically used!\n",
      "  warnings.warn(wrn_msg)\n"
     ]
    },
    {
     "name": "stdout",
     "output_type": "stream",
     "text": [
      "Stop training because you reached max_epochs = 500 with best_epoch = 492 and best_val_0_accuracy = 0.9622\n"
     ]
    },
    {
     "name": "stderr",
     "output_type": "stream",
     "text": [
      "/opt/conda/lib/python3.11/site-packages/pytorch_tabnet/callbacks.py:172: UserWarning: Best weights from best epoch are automatically used!\n",
      "  warnings.warn(wrn_msg)\n"
     ]
    },
    {
     "name": "stdout",
     "output_type": "stream",
     "text": [
      "Stop training because you reached max_epochs = 500 with best_epoch = 388 and best_val_0_accuracy = 0.95446\n"
     ]
    },
    {
     "name": "stderr",
     "output_type": "stream",
     "text": [
      "/opt/conda/lib/python3.11/site-packages/pytorch_tabnet/callbacks.py:172: UserWarning: Best weights from best epoch are automatically used!\n",
      "  warnings.warn(wrn_msg)\n"
     ]
    },
    {
     "name": "stdout",
     "output_type": "stream",
     "text": [
      "Stop training because you reached max_epochs = 500 with best_epoch = 498 and best_val_0_accuracy = 0.96488\n"
     ]
    },
    {
     "name": "stderr",
     "output_type": "stream",
     "text": [
      "/opt/conda/lib/python3.11/site-packages/pytorch_tabnet/callbacks.py:172: UserWarning: Best weights from best epoch are automatically used!\n",
      "  warnings.warn(wrn_msg)\n"
     ]
    },
    {
     "name": "stdout",
     "output_type": "stream",
     "text": [
      "Stop training because you reached max_epochs = 500 with best_epoch = 478 and best_val_0_accuracy = 0.94583\n"
     ]
    },
    {
     "name": "stderr",
     "output_type": "stream",
     "text": [
      "/opt/conda/lib/python3.11/site-packages/pytorch_tabnet/callbacks.py:172: UserWarning: Best weights from best epoch are automatically used!\n",
      "  warnings.warn(wrn_msg)\n"
     ]
    },
    {
     "name": "stdout",
     "output_type": "stream",
     "text": [
      "Stop training because you reached max_epochs = 500 with best_epoch = 454 and best_val_0_accuracy = 0.96339\n"
     ]
    },
    {
     "name": "stderr",
     "output_type": "stream",
     "text": [
      "/opt/conda/lib/python3.11/site-packages/pytorch_tabnet/callbacks.py:172: UserWarning: Best weights from best epoch are automatically used!\n",
      "  warnings.warn(wrn_msg)\n"
     ]
    },
    {
     "name": "stdout",
     "output_type": "stream",
     "text": [
      "Stop training because you reached max_epochs = 500 with best_epoch = 448 and best_val_0_accuracy = 0.95536\n",
      "Stop training because you reached max_epochs = 500 with best_epoch = 498 and best_val_0_accuracy = 0.96607\n",
      "Stop training because you reached max_epochs = 500 with best_epoch = 456 and best_val_0_accuracy = 0.9625\n"
     ]
    },
    {
     "name": "stderr",
     "output_type": "stream",
     "text": [
      "/opt/conda/lib/python3.11/site-packages/pytorch_tabnet/callbacks.py:172: UserWarning: Best weights from best epoch are automatically used!\n",
      "  warnings.warn(wrn_msg)\n",
      "/opt/conda/lib/python3.11/site-packages/pytorch_tabnet/callbacks.py:172: UserWarning: Best weights from best epoch are automatically used!\n",
      "  warnings.warn(wrn_msg)\n",
      "/opt/conda/lib/python3.11/site-packages/pytorch_tabnet/callbacks.py:172: UserWarning: Best weights from best epoch are automatically used!\n",
      "  warnings.warn(wrn_msg)\n"
     ]
    },
    {
     "name": "stdout",
     "output_type": "stream",
     "text": [
      "Stop training because you reached max_epochs = 500 with best_epoch = 498 and best_val_0_accuracy = 0.94643\n"
     ]
    },
    {
     "name": "stderr",
     "output_type": "stream",
     "text": [
      "/opt/conda/lib/python3.11/site-packages/pytorch_tabnet/callbacks.py:172: UserWarning: Best weights from best epoch are automatically used!\n",
      "  warnings.warn(wrn_msg)\n"
     ]
    },
    {
     "name": "stdout",
     "output_type": "stream",
     "text": [
      "Stop training because you reached max_epochs = 500 with best_epoch = 476 and best_val_0_accuracy = 0.96994\n"
     ]
    },
    {
     "name": "stderr",
     "output_type": "stream",
     "text": [
      "/opt/conda/lib/python3.11/site-packages/pytorch_tabnet/callbacks.py:172: UserWarning: Best weights from best epoch are automatically used!\n",
      "  warnings.warn(wrn_msg)\n"
     ]
    },
    {
     "name": "stdout",
     "output_type": "stream",
     "text": [
      "Stop training because you reached max_epochs = 500 with best_epoch = 490 and best_val_0_accuracy = 0.95923\n"
     ]
    },
    {
     "name": "stderr",
     "output_type": "stream",
     "text": [
      "/opt/conda/lib/python3.11/site-packages/pytorch_tabnet/callbacks.py:172: UserWarning: Best weights from best epoch are automatically used!\n",
      "  warnings.warn(wrn_msg)\n"
     ]
    },
    {
     "name": "stdout",
     "output_type": "stream",
     "text": [
      "Stop training because you reached max_epochs = 500 with best_epoch = 499 and best_val_0_accuracy = 0.95774\n"
     ]
    },
    {
     "name": "stderr",
     "output_type": "stream",
     "text": [
      "/opt/conda/lib/python3.11/site-packages/pytorch_tabnet/callbacks.py:172: UserWarning: Best weights from best epoch are automatically used!\n",
      "  warnings.warn(wrn_msg)\n"
     ]
    },
    {
     "name": "stdout",
     "output_type": "stream",
     "text": [
      "Stop training because you reached max_epochs = 500 with best_epoch = 471 and best_val_0_accuracy = 0.94464\n"
     ]
    },
    {
     "name": "stderr",
     "output_type": "stream",
     "text": [
      "/opt/conda/lib/python3.11/site-packages/pytorch_tabnet/callbacks.py:172: UserWarning: Best weights from best epoch are automatically used!\n",
      "  warnings.warn(wrn_msg)\n"
     ]
    },
    {
     "name": "stdout",
     "output_type": "stream",
     "text": [
      "Stop training because you reached max_epochs = 500 with best_epoch = 479 and best_val_0_accuracy = 0.9622\n"
     ]
    },
    {
     "name": "stderr",
     "output_type": "stream",
     "text": [
      "/opt/conda/lib/python3.11/site-packages/pytorch_tabnet/callbacks.py:172: UserWarning: Best weights from best epoch are automatically used!\n",
      "  warnings.warn(wrn_msg)\n"
     ]
    },
    {
     "name": "stdout",
     "output_type": "stream",
     "text": [
      "Stop training because you reached max_epochs = 500 with best_epoch = 435 and best_val_0_accuracy = 0.9619\n"
     ]
    },
    {
     "name": "stderr",
     "output_type": "stream",
     "text": [
      "/opt/conda/lib/python3.11/site-packages/pytorch_tabnet/callbacks.py:172: UserWarning: Best weights from best epoch are automatically used!\n",
      "  warnings.warn(wrn_msg)\n"
     ]
    },
    {
     "name": "stdout",
     "output_type": "stream",
     "text": [
      "Stop training because you reached max_epochs = 500 with best_epoch = 441 and best_val_0_accuracy = 0.97351\n"
     ]
    },
    {
     "name": "stderr",
     "output_type": "stream",
     "text": [
      "/opt/conda/lib/python3.11/site-packages/pytorch_tabnet/callbacks.py:172: UserWarning: Best weights from best epoch are automatically used!\n",
      "  warnings.warn(wrn_msg)\n"
     ]
    },
    {
     "name": "stdout",
     "output_type": "stream",
     "text": [
      "Stop training because you reached max_epochs = 500 with best_epoch = 474 and best_val_0_accuracy = 0.95476\n"
     ]
    },
    {
     "name": "stderr",
     "output_type": "stream",
     "text": [
      "/opt/conda/lib/python3.11/site-packages/pytorch_tabnet/callbacks.py:172: UserWarning: Best weights from best epoch are automatically used!\n",
      "  warnings.warn(wrn_msg)\n"
     ]
    },
    {
     "name": "stdout",
     "output_type": "stream",
     "text": [
      "Stop training because you reached max_epochs = 500 with best_epoch = 486 and best_val_0_accuracy = 0.96042\n",
      "Stop training because you reached max_epochs = 500 with best_epoch = 479 and best_val_0_accuracy = 0.95952\n"
     ]
    },
    {
     "name": "stderr",
     "output_type": "stream",
     "text": [
      "/opt/conda/lib/python3.11/site-packages/pytorch_tabnet/callbacks.py:172: UserWarning: Best weights from best epoch are automatically used!\n",
      "  warnings.warn(wrn_msg)\n",
      "/opt/conda/lib/python3.11/site-packages/pytorch_tabnet/callbacks.py:172: UserWarning: Best weights from best epoch are automatically used!\n",
      "  warnings.warn(wrn_msg)\n"
     ]
    },
    {
     "name": "stdout",
     "output_type": "stream",
     "text": [
      "Stop training because you reached max_epochs = 500 with best_epoch = 493 and best_val_0_accuracy = 0.96161\n",
      "Stop training because you reached max_epochs = 500 with best_epoch = 458 and best_val_0_accuracy = 0.9622\n"
     ]
    },
    {
     "name": "stderr",
     "output_type": "stream",
     "text": [
      "/opt/conda/lib/python3.11/site-packages/pytorch_tabnet/callbacks.py:172: UserWarning: Best weights from best epoch are automatically used!\n",
      "  warnings.warn(wrn_msg)\n",
      "/opt/conda/lib/python3.11/site-packages/pytorch_tabnet/callbacks.py:172: UserWarning: Best weights from best epoch are automatically used!\n",
      "  warnings.warn(wrn_msg)\n"
     ]
    },
    {
     "name": "stdout",
     "output_type": "stream",
     "text": [
      "Stop training because you reached max_epochs = 500 with best_epoch = 467 and best_val_0_accuracy = 0.9622\n"
     ]
    },
    {
     "name": "stderr",
     "output_type": "stream",
     "text": [
      "/opt/conda/lib/python3.11/site-packages/pytorch_tabnet/callbacks.py:172: UserWarning: Best weights from best epoch are automatically used!\n",
      "  warnings.warn(wrn_msg)\n"
     ]
    },
    {
     "name": "stdout",
     "output_type": "stream",
     "text": [
      "Stop training because you reached max_epochs = 500 with best_epoch = 472 and best_val_0_accuracy = 0.95744\n"
     ]
    },
    {
     "name": "stderr",
     "output_type": "stream",
     "text": [
      "/opt/conda/lib/python3.11/site-packages/pytorch_tabnet/callbacks.py:172: UserWarning: Best weights from best epoch are automatically used!\n",
      "  warnings.warn(wrn_msg)\n"
     ]
    },
    {
     "name": "stdout",
     "output_type": "stream",
     "text": [
      "Stop training because you reached max_epochs = 500 with best_epoch = 455 and best_val_0_accuracy = 0.95298\n"
     ]
    },
    {
     "name": "stderr",
     "output_type": "stream",
     "text": [
      "/opt/conda/lib/python3.11/site-packages/pytorch_tabnet/callbacks.py:172: UserWarning: Best weights from best epoch are automatically used!\n",
      "  warnings.warn(wrn_msg)\n"
     ]
    },
    {
     "name": "stdout",
     "output_type": "stream",
     "text": [
      "Stop training because you reached max_epochs = 500 with best_epoch = 479 and best_val_0_accuracy = 0.96399\n"
     ]
    },
    {
     "name": "stderr",
     "output_type": "stream",
     "text": [
      "/opt/conda/lib/python3.11/site-packages/pytorch_tabnet/callbacks.py:172: UserWarning: Best weights from best epoch are automatically used!\n",
      "  warnings.warn(wrn_msg)\n"
     ]
    },
    {
     "name": "stdout",
     "output_type": "stream",
     "text": [
      "Stop training because you reached max_epochs = 500 with best_epoch = 483 and best_val_0_accuracy = 0.96429\n"
     ]
    },
    {
     "name": "stderr",
     "output_type": "stream",
     "text": [
      "/opt/conda/lib/python3.11/site-packages/pytorch_tabnet/callbacks.py:172: UserWarning: Best weights from best epoch are automatically used!\n",
      "  warnings.warn(wrn_msg)\n",
      "/opt/conda/lib/python3.11/site-packages/pytorch_tabnet/callbacks.py:172: UserWarning: Best weights from best epoch are automatically used!\n",
      "  warnings.warn(wrn_msg)\n",
      "/opt/conda/lib/python3.11/site-packages/pytorch_tabnet/callbacks.py:172: UserWarning: Best weights from best epoch are automatically used!\n",
      "  warnings.warn(wrn_msg)\n"
     ]
    },
    {
     "name": "stdout",
     "output_type": "stream",
     "text": [
      "Stop training because you reached max_epochs = 500 with best_epoch = 482 and best_val_0_accuracy = 0.94762\n",
      "Stop training because you reached max_epochs = 500 with best_epoch = 496 and best_val_0_accuracy = 0.97024\n",
      "Stop training because you reached max_epochs = 500 with best_epoch = 489 and best_val_0_accuracy = 0.9619\n"
     ]
    },
    {
     "name": "stderr",
     "output_type": "stream",
     "text": [
      "/opt/conda/lib/python3.11/site-packages/pytorch_tabnet/callbacks.py:172: UserWarning: Best weights from best epoch are automatically used!\n",
      "  warnings.warn(wrn_msg)\n"
     ]
    },
    {
     "name": "stdout",
     "output_type": "stream",
     "text": [
      "Stop training because you reached max_epochs = 500 with best_epoch = 468 and best_val_0_accuracy = 0.94583\n"
     ]
    },
    {
     "name": "stderr",
     "output_type": "stream",
     "text": [
      "/opt/conda/lib/python3.11/site-packages/pytorch_tabnet/callbacks.py:172: UserWarning: Best weights from best epoch are automatically used!\n",
      "  warnings.warn(wrn_msg)\n"
     ]
    },
    {
     "name": "stdout",
     "output_type": "stream",
     "text": [
      "Stop training because you reached max_epochs = 500 with best_epoch = 493 and best_val_0_accuracy = 0.96071\n"
     ]
    },
    {
     "name": "stderr",
     "output_type": "stream",
     "text": [
      "/opt/conda/lib/python3.11/site-packages/pytorch_tabnet/callbacks.py:172: UserWarning: Best weights from best epoch are automatically used!\n",
      "  warnings.warn(wrn_msg)\n"
     ]
    },
    {
     "name": "stdout",
     "output_type": "stream",
     "text": [
      "Stop training because you reached max_epochs = 500 with best_epoch = 457 and best_val_0_accuracy = 0.93929\n"
     ]
    },
    {
     "name": "stderr",
     "output_type": "stream",
     "text": [
      "/opt/conda/lib/python3.11/site-packages/pytorch_tabnet/callbacks.py:172: UserWarning: Best weights from best epoch are automatically used!\n",
      "  warnings.warn(wrn_msg)\n"
     ]
    },
    {
     "name": "stdout",
     "output_type": "stream",
     "text": [
      "Stop training because you reached max_epochs = 500 with best_epoch = 473 and best_val_0_accuracy = 0.94762\n",
      "Stop training because you reached max_epochs = 500 with best_epoch = 487 and best_val_0_accuracy = 0.93601\n"
     ]
    },
    {
     "name": "stderr",
     "output_type": "stream",
     "text": [
      "/opt/conda/lib/python3.11/site-packages/pytorch_tabnet/callbacks.py:172: UserWarning: Best weights from best epoch are automatically used!\n",
      "  warnings.warn(wrn_msg)\n",
      "/opt/conda/lib/python3.11/site-packages/pytorch_tabnet/callbacks.py:172: UserWarning: Best weights from best epoch are automatically used!\n",
      "  warnings.warn(wrn_msg)\n"
     ]
    },
    {
     "name": "stdout",
     "output_type": "stream",
     "text": [
      "Stop training because you reached max_epochs = 500 with best_epoch = 482 and best_val_0_accuracy = 0.95208\n"
     ]
    },
    {
     "name": "stderr",
     "output_type": "stream",
     "text": [
      "/opt/conda/lib/python3.11/site-packages/pytorch_tabnet/callbacks.py:172: UserWarning: Best weights from best epoch are automatically used!\n",
      "  warnings.warn(wrn_msg)\n"
     ]
    },
    {
     "name": "stdout",
     "output_type": "stream",
     "text": [
      "Stop training because you reached max_epochs = 500 with best_epoch = 455 and best_val_0_accuracy = 0.94286\n"
     ]
    },
    {
     "name": "stderr",
     "output_type": "stream",
     "text": [
      "/opt/conda/lib/python3.11/site-packages/pytorch_tabnet/callbacks.py:172: UserWarning: Best weights from best epoch are automatically used!\n",
      "  warnings.warn(wrn_msg)\n"
     ]
    },
    {
     "name": "stdout",
     "output_type": "stream",
     "text": [
      "Stop training because you reached max_epochs = 500 with best_epoch = 484 and best_val_0_accuracy = 0.93631\n"
     ]
    },
    {
     "name": "stderr",
     "output_type": "stream",
     "text": [
      "/opt/conda/lib/python3.11/site-packages/pytorch_tabnet/callbacks.py:172: UserWarning: Best weights from best epoch are automatically used!\n",
      "  warnings.warn(wrn_msg)\n"
     ]
    },
    {
     "name": "stdout",
     "output_type": "stream",
     "text": [
      "Stop training because you reached max_epochs = 500 with best_epoch = 466 and best_val_0_accuracy = 0.92798\n"
     ]
    },
    {
     "name": "stderr",
     "output_type": "stream",
     "text": [
      "/opt/conda/lib/python3.11/site-packages/pytorch_tabnet/callbacks.py:172: UserWarning: Best weights from best epoch are automatically used!\n",
      "  warnings.warn(wrn_msg)\n"
     ]
    },
    {
     "name": "stdout",
     "output_type": "stream",
     "text": [
      "Stop training because you reached max_epochs = 500 with best_epoch = 497 and best_val_0_accuracy = 0.93185\n",
      "Stop training because you reached max_epochs = 500 with best_epoch = 484 and best_val_0_accuracy = 0.94137\n"
     ]
    },
    {
     "name": "stderr",
     "output_type": "stream",
     "text": [
      "/opt/conda/lib/python3.11/site-packages/pytorch_tabnet/callbacks.py:172: UserWarning: Best weights from best epoch are automatically used!\n",
      "  warnings.warn(wrn_msg)\n",
      "/opt/conda/lib/python3.11/site-packages/pytorch_tabnet/callbacks.py:172: UserWarning: Best weights from best epoch are automatically used!\n",
      "  warnings.warn(wrn_msg)\n"
     ]
    },
    {
     "name": "stdout",
     "output_type": "stream",
     "text": [
      "Stop training because you reached max_epochs = 500 with best_epoch = 456 and best_val_0_accuracy = 0.90833\n"
     ]
    },
    {
     "name": "stderr",
     "output_type": "stream",
     "text": [
      "/opt/conda/lib/python3.11/site-packages/pytorch_tabnet/callbacks.py:172: UserWarning: Best weights from best epoch are automatically used!\n",
      "  warnings.warn(wrn_msg)\n"
     ]
    },
    {
     "name": "stdout",
     "output_type": "stream",
     "text": [
      "Stop training because you reached max_epochs = 500 with best_epoch = 448 and best_val_0_accuracy = 0.95208\n"
     ]
    },
    {
     "name": "stderr",
     "output_type": "stream",
     "text": [
      "/opt/conda/lib/python3.11/site-packages/pytorch_tabnet/callbacks.py:172: UserWarning: Best weights from best epoch are automatically used!\n",
      "  warnings.warn(wrn_msg)\n"
     ]
    },
    {
     "name": "stdout",
     "output_type": "stream",
     "text": [
      "Stop training because you reached max_epochs = 500 with best_epoch = 473 and best_val_0_accuracy = 0.95982\n"
     ]
    },
    {
     "name": "stderr",
     "output_type": "stream",
     "text": [
      "/opt/conda/lib/python3.11/site-packages/pytorch_tabnet/callbacks.py:172: UserWarning: Best weights from best epoch are automatically used!\n",
      "  warnings.warn(wrn_msg)\n"
     ]
    },
    {
     "name": "stdout",
     "output_type": "stream",
     "text": [
      "Stop training because you reached max_epochs = 500 with best_epoch = 499 and best_val_0_accuracy = 0.96458\n"
     ]
    },
    {
     "name": "stderr",
     "output_type": "stream",
     "text": [
      "/opt/conda/lib/python3.11/site-packages/pytorch_tabnet/callbacks.py:172: UserWarning: Best weights from best epoch are automatically used!\n",
      "  warnings.warn(wrn_msg)\n"
     ]
    },
    {
     "name": "stdout",
     "output_type": "stream",
     "text": [
      "Stop training because you reached max_epochs = 500 with best_epoch = 485 and best_val_0_accuracy = 0.96518\n"
     ]
    },
    {
     "name": "stderr",
     "output_type": "stream",
     "text": [
      "/opt/conda/lib/python3.11/site-packages/pytorch_tabnet/callbacks.py:172: UserWarning: Best weights from best epoch are automatically used!\n",
      "  warnings.warn(wrn_msg)\n"
     ]
    },
    {
     "name": "stdout",
     "output_type": "stream",
     "text": [
      "Stop training because you reached max_epochs = 500 with best_epoch = 497 and best_val_0_accuracy = 0.94821\n"
     ]
    },
    {
     "name": "stderr",
     "output_type": "stream",
     "text": [
      "/opt/conda/lib/python3.11/site-packages/pytorch_tabnet/callbacks.py:172: UserWarning: Best weights from best epoch are automatically used!\n",
      "  warnings.warn(wrn_msg)\n"
     ]
    },
    {
     "name": "stdout",
     "output_type": "stream",
     "text": [
      "Stop training because you reached max_epochs = 500 with best_epoch = 496 and best_val_0_accuracy = 0.96845\n"
     ]
    },
    {
     "name": "stderr",
     "output_type": "stream",
     "text": [
      "/opt/conda/lib/python3.11/site-packages/pytorch_tabnet/callbacks.py:172: UserWarning: Best weights from best epoch are automatically used!\n",
      "  warnings.warn(wrn_msg)\n"
     ]
    },
    {
     "name": "stdout",
     "output_type": "stream",
     "text": [
      "Stop training because you reached max_epochs = 500 with best_epoch = 498 and best_val_0_accuracy = 0.94196\n"
     ]
    },
    {
     "name": "stderr",
     "output_type": "stream",
     "text": [
      "/opt/conda/lib/python3.11/site-packages/pytorch_tabnet/callbacks.py:172: UserWarning: Best weights from best epoch are automatically used!\n",
      "  warnings.warn(wrn_msg)\n"
     ]
    },
    {
     "name": "stdout",
     "output_type": "stream",
     "text": [
      "Stop training because you reached max_epochs = 500 with best_epoch = 494 and best_val_0_accuracy = 0.93333\n"
     ]
    },
    {
     "name": "stderr",
     "output_type": "stream",
     "text": [
      "/opt/conda/lib/python3.11/site-packages/pytorch_tabnet/callbacks.py:172: UserWarning: Best weights from best epoch are automatically used!\n",
      "  warnings.warn(wrn_msg)\n",
      "/opt/conda/lib/python3.11/site-packages/pytorch_tabnet/callbacks.py:172: UserWarning: Best weights from best epoch are automatically used!\n",
      "  warnings.warn(wrn_msg)\n",
      "/opt/conda/lib/python3.11/site-packages/pytorch_tabnet/callbacks.py:172: UserWarning: Best weights from best epoch are automatically used!\n",
      "  warnings.warn(wrn_msg)\n"
     ]
    },
    {
     "name": "stdout",
     "output_type": "stream",
     "text": [
      "Stop training because you reached max_epochs = 500 with best_epoch = 485 and best_val_0_accuracy = 0.95357\n",
      "Stop training because you reached max_epochs = 500 with best_epoch = 380 and best_val_0_accuracy = 0.93661\n",
      "\n",
      "Early stopping occurred at epoch 421 with best_epoch = 301 and best_val_0_accuracy = 0.94345\n"
     ]
    },
    {
     "name": "stderr",
     "output_type": "stream",
     "text": [
      "/opt/conda/lib/python3.11/site-packages/pytorch_tabnet/callbacks.py:172: UserWarning: Best weights from best epoch are automatically used!\n",
      "  warnings.warn(wrn_msg)\n"
     ]
    },
    {
     "name": "stdout",
     "output_type": "stream",
     "text": [
      "Stop training because you reached max_epochs = 500 with best_epoch = 394 and best_val_0_accuracy = 0.94881\n",
      "Stop training because you reached max_epochs = 500 with best_epoch = 414 and best_val_0_accuracy = 0.9631\n"
     ]
    },
    {
     "name": "stderr",
     "output_type": "stream",
     "text": [
      "/opt/conda/lib/python3.11/site-packages/pytorch_tabnet/callbacks.py:172: UserWarning: Best weights from best epoch are automatically used!\n",
      "  warnings.warn(wrn_msg)\n",
      "/opt/conda/lib/python3.11/site-packages/pytorch_tabnet/callbacks.py:172: UserWarning: Best weights from best epoch are automatically used!\n",
      "  warnings.warn(wrn_msg)\n"
     ]
    },
    {
     "name": "stdout",
     "output_type": "stream",
     "text": [
      "Stop training because you reached max_epochs = 500 with best_epoch = 488 and best_val_0_accuracy = 0.97411\n"
     ]
    },
    {
     "name": "stderr",
     "output_type": "stream",
     "text": [
      "/opt/conda/lib/python3.11/site-packages/pytorch_tabnet/callbacks.py:172: UserWarning: Best weights from best epoch are automatically used!\n",
      "  warnings.warn(wrn_msg)\n",
      "/opt/conda/lib/python3.11/site-packages/pytorch_tabnet/callbacks.py:172: UserWarning: Best weights from best epoch are automatically used!\n",
      "  warnings.warn(wrn_msg)\n"
     ]
    },
    {
     "name": "stdout",
     "output_type": "stream",
     "text": [
      "Stop training because you reached max_epochs = 500 with best_epoch = 490 and best_val_0_accuracy = 0.9756\n",
      "Stop training because you reached max_epochs = 500 with best_epoch = 469 and best_val_0_accuracy = 0.9622\n"
     ]
    },
    {
     "name": "stderr",
     "output_type": "stream",
     "text": [
      "/opt/conda/lib/python3.11/site-packages/pytorch_tabnet/callbacks.py:172: UserWarning: Best weights from best epoch are automatically used!\n",
      "  warnings.warn(wrn_msg)\n"
     ]
    },
    {
     "name": "stdout",
     "output_type": "stream",
     "text": [
      "Stop training because you reached max_epochs = 500 with best_epoch = 482 and best_val_0_accuracy = 0.95714\n"
     ]
    },
    {
     "name": "stderr",
     "output_type": "stream",
     "text": [
      "/opt/conda/lib/python3.11/site-packages/pytorch_tabnet/callbacks.py:172: UserWarning: Best weights from best epoch are automatically used!\n",
      "  warnings.warn(wrn_msg)\n"
     ]
    },
    {
     "name": "stdout",
     "output_type": "stream",
     "text": [
      "\n",
      "Early stopping occurred at epoch 487 with best_epoch = 367 and best_val_0_accuracy = 0.94196\n"
     ]
    },
    {
     "name": "stderr",
     "output_type": "stream",
     "text": [
      "/opt/conda/lib/python3.11/site-packages/pytorch_tabnet/callbacks.py:172: UserWarning: Best weights from best epoch are automatically used!\n",
      "  warnings.warn(wrn_msg)\n"
     ]
    },
    {
     "name": "stdout",
     "output_type": "stream",
     "text": [
      "Stop training because you reached max_epochs = 500 with best_epoch = 494 and best_val_0_accuracy = 0.95149\n"
     ]
    },
    {
     "name": "stderr",
     "output_type": "stream",
     "text": [
      "/opt/conda/lib/python3.11/site-packages/pytorch_tabnet/callbacks.py:172: UserWarning: Best weights from best epoch are automatically used!\n",
      "  warnings.warn(wrn_msg)\n"
     ]
    },
    {
     "name": "stdout",
     "output_type": "stream",
     "text": [
      "Stop training because you reached max_epochs = 500 with best_epoch = 484 and best_val_0_accuracy = 0.97024\n"
     ]
    },
    {
     "name": "stderr",
     "output_type": "stream",
     "text": [
      "/opt/conda/lib/python3.11/site-packages/pytorch_tabnet/callbacks.py:172: UserWarning: Best weights from best epoch are automatically used!\n",
      "  warnings.warn(wrn_msg)\n",
      "/opt/conda/lib/python3.11/site-packages/pytorch_tabnet/callbacks.py:172: UserWarning: Best weights from best epoch are automatically used!\n",
      "  warnings.warn(wrn_msg)\n",
      "/opt/conda/lib/python3.11/site-packages/pytorch_tabnet/callbacks.py:172: UserWarning: Best weights from best epoch are automatically used!\n",
      "  warnings.warn(wrn_msg)\n"
     ]
    },
    {
     "name": "stdout",
     "output_type": "stream",
     "text": [
      "Stop training because you reached max_epochs = 500 with best_epoch = 443 and best_val_0_accuracy = 0.97649\n",
      "Stop training because you reached max_epochs = 500 with best_epoch = 498 and best_val_0_accuracy = 0.98065\n"
     ]
    },
    {
     "name": "stderr",
     "output_type": "stream",
     "text": [
      "/opt/conda/lib/python3.11/site-packages/pytorch_tabnet/callbacks.py:172: UserWarning: Best weights from best epoch are automatically used!\n",
      "  warnings.warn(wrn_msg)\n"
     ]
    },
    {
     "name": "stdout",
     "output_type": "stream",
     "text": [
      "Stop training because you reached max_epochs = 500 with best_epoch = 491 and best_val_0_accuracy = 0.97321\n",
      "Stop training because you reached max_epochs = 500 with best_epoch = 486 and best_val_0_accuracy = 0.9744\n",
      "Stop training because you reached max_epochs = 500 with best_epoch = 485 and best_val_0_accuracy = 0.96845\n"
     ]
    },
    {
     "name": "stderr",
     "output_type": "stream",
     "text": [
      "/opt/conda/lib/python3.11/site-packages/pytorch_tabnet/callbacks.py:172: UserWarning: Best weights from best epoch are automatically used!\n",
      "  warnings.warn(wrn_msg)\n",
      "/opt/conda/lib/python3.11/site-packages/pytorch_tabnet/callbacks.py:172: UserWarning: Best weights from best epoch are automatically used!\n",
      "  warnings.warn(wrn_msg)\n"
     ]
    },
    {
     "name": "stdout",
     "output_type": "stream",
     "text": [
      "Stop training because you reached max_epochs = 500 with best_epoch = 497 and best_val_0_accuracy = 0.96875\n",
      "Stop training because you reached max_epochs = 500 with best_epoch = 495 and best_val_0_accuracy = 0.9619\n"
     ]
    },
    {
     "name": "stderr",
     "output_type": "stream",
     "text": [
      "/opt/conda/lib/python3.11/site-packages/pytorch_tabnet/callbacks.py:172: UserWarning: Best weights from best epoch are automatically used!\n",
      "  warnings.warn(wrn_msg)\n",
      "/opt/conda/lib/python3.11/site-packages/pytorch_tabnet/callbacks.py:172: UserWarning: Best weights from best epoch are automatically used!\n",
      "  warnings.warn(wrn_msg)\n",
      "/opt/conda/lib/python3.11/site-packages/pytorch_tabnet/callbacks.py:172: UserWarning: Best weights from best epoch are automatically used!\n",
      "  warnings.warn(wrn_msg)\n",
      "/opt/conda/lib/python3.11/site-packages/pytorch_tabnet/callbacks.py:172: UserWarning: Best weights from best epoch are automatically used!\n",
      "  warnings.warn(wrn_msg)\n",
      "/opt/conda/lib/python3.11/site-packages/pytorch_tabnet/callbacks.py:172: UserWarning: Best weights from best epoch are automatically used!\n",
      "  warnings.warn(wrn_msg)\n"
     ]
    },
    {
     "name": "stdout",
     "output_type": "stream",
     "text": [
      "Stop training because you reached max_epochs = 500 with best_epoch = 499 and best_val_0_accuracy = 0.95179\n",
      "Stop training because you reached max_epochs = 500 with best_epoch = 499 and best_val_0_accuracy = 0.9497\n",
      "Stop training because you reached max_epochs = 500 with best_epoch = 433 and best_val_0_accuracy = 0.94137\n",
      "Stop training because you reached max_epochs = 500 with best_epoch = 425 and best_val_0_accuracy = 0.95327\n"
     ]
    },
    {
     "name": "stderr",
     "output_type": "stream",
     "text": [
      "/opt/conda/lib/python3.11/site-packages/pytorch_tabnet/callbacks.py:172: UserWarning: Best weights from best epoch are automatically used!\n",
      "  warnings.warn(wrn_msg)\n"
     ]
    },
    {
     "name": "stdout",
     "output_type": "stream",
     "text": [
      "Stop training because you reached max_epochs = 500 with best_epoch = 495 and best_val_0_accuracy = 0.94821\n"
     ]
    },
    {
     "name": "stderr",
     "output_type": "stream",
     "text": [
      "/opt/conda/lib/python3.11/site-packages/pytorch_tabnet/callbacks.py:172: UserWarning: Best weights from best epoch are automatically used!\n",
      "  warnings.warn(wrn_msg)\n"
     ]
    },
    {
     "name": "stdout",
     "output_type": "stream",
     "text": [
      "Stop training because you reached max_epochs = 500 with best_epoch = 494 and best_val_0_accuracy = 0.9503\n"
     ]
    },
    {
     "name": "stderr",
     "output_type": "stream",
     "text": [
      "/opt/conda/lib/python3.11/site-packages/pytorch_tabnet/callbacks.py:172: UserWarning: Best weights from best epoch are automatically used!\n",
      "  warnings.warn(wrn_msg)\n",
      "/opt/conda/lib/python3.11/site-packages/pytorch_tabnet/callbacks.py:172: UserWarning: Best weights from best epoch are automatically used!\n",
      "  warnings.warn(wrn_msg)\n"
     ]
    },
    {
     "name": "stdout",
     "output_type": "stream",
     "text": [
      "Stop training because you reached max_epochs = 500 with best_epoch = 466 and best_val_0_accuracy = 0.95595\n",
      "Stop training because you reached max_epochs = 500 with best_epoch = 498 and best_val_0_accuracy = 0.94494\n"
     ]
    },
    {
     "name": "stderr",
     "output_type": "stream",
     "text": [
      "/opt/conda/lib/python3.11/site-packages/pytorch_tabnet/callbacks.py:172: UserWarning: Best weights from best epoch are automatically used!\n",
      "  warnings.warn(wrn_msg)\n"
     ]
    },
    {
     "name": "stdout",
     "output_type": "stream",
     "text": [
      "Stop training because you reached max_epochs = 500 with best_epoch = 468 and best_val_0_accuracy = 0.97643\n",
      "Best parameters: {'optimizer_params': {'lr': 0.01}, 'n_steps': 3, 'n_d': 24, 'n_a': 16, 'lambda_sparse': 0.0001, 'gamma': 1.0}\n",
      "Best accuracy: 0.9102380952380953\n",
      "epoch 0  | loss: 4.24696 | val_0_accuracy: 0.025   |  0:00:00s\n",
      "⏱️ Epoch 1 took 0.10 seconds\n",
      "epoch 1  | loss: 3.58474 | val_0_accuracy: 0.02262 |  0:00:00s\n",
      "⏱️ Epoch 2 took 0.09 seconds\n",
      "epoch 2  | loss: 3.24541 | val_0_accuracy: 0.06429 |  0:00:00s\n",
      "⏱️ Epoch 3 took 0.10 seconds\n",
      "epoch 3  | loss: 2.94287 | val_0_accuracy: 0.09881 |  0:00:00s\n",
      "⏱️ Epoch 4 took 0.10 seconds\n",
      "epoch 4  | loss: 2.68792 | val_0_accuracy: 0.10476 |  0:00:00s\n",
      "⏱️ Epoch 5 took 0.09 seconds\n",
      "epoch 5  | loss: 2.4735  | val_0_accuracy: 0.1131  |  0:00:00s\n",
      "⏱️ Epoch 6 took 0.10 seconds\n",
      "epoch 6  | loss: 2.27984 | val_0_accuracy: 0.15714 |  0:00:00s\n",
      "⏱️ Epoch 7 took 0.10 seconds\n",
      "epoch 7  | loss: 2.10934 | val_0_accuracy: 0.1619  |  0:00:00s\n",
      "⏱️ Epoch 8 took 0.10 seconds\n",
      "epoch 8  | loss: 1.95166 | val_0_accuracy: 0.14286 |  0:00:00s\n",
      "⏱️ Epoch 9 took 0.09 seconds\n",
      "epoch 9  | loss: 1.78755 | val_0_accuracy: 0.14762 |  0:00:00s\n",
      "⏱️ Epoch 10 took 0.10 seconds\n",
      "epoch 10 | loss: 1.661   | val_0_accuracy: 0.19286 |  0:00:01s\n",
      "⏱️ Epoch 11 took 0.10 seconds\n",
      "epoch 11 | loss: 1.56607 | val_0_accuracy: 0.19048 |  0:00:01s\n",
      "⏱️ Epoch 12 took 0.09 seconds\n",
      "epoch 12 | loss: 1.43844 | val_0_accuracy: 0.2119  |  0:00:01s\n",
      "⏱️ Epoch 13 took 0.10 seconds\n",
      "epoch 13 | loss: 1.34678 | val_0_accuracy: 0.19048 |  0:00:01s\n",
      "⏱️ Epoch 14 took 0.09 seconds\n",
      "epoch 14 | loss: 1.24167 | val_0_accuracy: 0.225   |  0:00:01s\n",
      "⏱️ Epoch 15 took 0.10 seconds\n",
      "epoch 15 | loss: 1.16079 | val_0_accuracy: 0.23452 |  0:00:01s\n",
      "⏱️ Epoch 16 took 0.11 seconds\n",
      "epoch 16 | loss: 1.10544 | val_0_accuracy: 0.24286 |  0:00:01s\n",
      "⏱️ Epoch 17 took 0.09 seconds\n",
      "epoch 17 | loss: 1.02712 | val_0_accuracy: 0.2619  |  0:00:01s\n",
      "⏱️ Epoch 18 took 0.09 seconds\n",
      "epoch 18 | loss: 1.00234 | val_0_accuracy: 0.26786 |  0:00:01s\n",
      "⏱️ Epoch 19 took 0.09 seconds\n",
      "epoch 19 | loss: 0.92008 | val_0_accuracy: 0.25952 |  0:00:01s\n",
      "⏱️ Epoch 20 took 0.09 seconds\n",
      "epoch 20 | loss: 0.9172  | val_0_accuracy: 0.27976 |  0:00:01s\n",
      "⏱️ Epoch 21 took 0.10 seconds\n",
      "epoch 21 | loss: 0.83865 | val_0_accuracy: 0.27976 |  0:00:02s\n",
      "⏱️ Epoch 22 took 0.09 seconds\n",
      "epoch 22 | loss: 0.82616 | val_0_accuracy: 0.27143 |  0:00:02s\n",
      "⏱️ Epoch 23 took 0.09 seconds\n",
      "epoch 23 | loss: 0.78116 | val_0_accuracy: 0.27381 |  0:00:02s\n",
      "⏱️ Epoch 24 took 0.09 seconds\n",
      "epoch 24 | loss: 0.73204 | val_0_accuracy: 0.2869  |  0:00:02s\n",
      "⏱️ Epoch 25 took 0.10 seconds\n",
      "epoch 25 | loss: 0.72357 | val_0_accuracy: 0.29762 |  0:00:02s\n",
      "⏱️ Epoch 26 took 0.10 seconds\n",
      "epoch 26 | loss: 0.71434 | val_0_accuracy: 0.28929 |  0:00:02s\n",
      "⏱️ Epoch 27 took 0.09 seconds\n",
      "epoch 27 | loss: 0.68315 | val_0_accuracy: 0.30952 |  0:00:02s\n",
      "⏱️ Epoch 28 took 0.10 seconds\n",
      "epoch 28 | loss: 0.66682 | val_0_accuracy: 0.31548 |  0:00:02s\n",
      "⏱️ Epoch 29 took 0.10 seconds\n",
      "epoch 29 | loss: 0.64639 | val_0_accuracy: 0.30595 |  0:00:02s\n",
      "⏱️ Epoch 30 took 0.09 seconds\n",
      "epoch 30 | loss: 0.62948 | val_0_accuracy: 0.33333 |  0:00:02s\n",
      "⏱️ Epoch 31 took 0.09 seconds\n",
      "epoch 31 | loss: 0.63889 | val_0_accuracy: 0.36786 |  0:00:03s\n",
      "⏱️ Epoch 32 took 0.09 seconds\n",
      "epoch 32 | loss: 0.58404 | val_0_accuracy: 0.38214 |  0:00:03s\n",
      "⏱️ Epoch 33 took 0.09 seconds\n",
      "epoch 33 | loss: 0.59585 | val_0_accuracy: 0.375   |  0:00:03s\n",
      "⏱️ Epoch 34 took 0.09 seconds\n",
      "epoch 34 | loss: 0.59419 | val_0_accuracy: 0.37619 |  0:00:03s\n",
      "⏱️ Epoch 35 took 0.09 seconds\n",
      "epoch 35 | loss: 0.53634 | val_0_accuracy: 0.36429 |  0:00:03s\n",
      "⏱️ Epoch 36 took 0.09 seconds\n",
      "epoch 36 | loss: 0.55791 | val_0_accuracy: 0.38333 |  0:00:03s\n",
      "⏱️ Epoch 37 took 0.09 seconds\n",
      "epoch 37 | loss: 0.57107 | val_0_accuracy: 0.38333 |  0:00:03s\n",
      "⏱️ Epoch 38 took 0.09 seconds\n",
      "epoch 38 | loss: 0.53086 | val_0_accuracy: 0.40357 |  0:00:03s\n",
      "⏱️ Epoch 39 took 0.09 seconds\n",
      "epoch 39 | loss: 0.54289 | val_0_accuracy: 0.40714 |  0:00:03s\n",
      "⏱️ Epoch 40 took 0.10 seconds\n",
      "epoch 40 | loss: 0.52291 | val_0_accuracy: 0.39881 |  0:00:03s\n",
      "⏱️ Epoch 41 took 0.09 seconds\n",
      "epoch 41 | loss: 0.50071 | val_0_accuracy: 0.42619 |  0:00:03s\n",
      "⏱️ Epoch 42 took 0.09 seconds\n",
      "epoch 42 | loss: 0.48239 | val_0_accuracy: 0.45119 |  0:00:04s\n",
      "⏱️ Epoch 43 took 0.10 seconds\n",
      "epoch 43 | loss: 0.48678 | val_0_accuracy: 0.45    |  0:00:04s\n",
      "⏱️ Epoch 44 took 0.09 seconds\n",
      "epoch 44 | loss: 0.47291 | val_0_accuracy: 0.47857 |  0:00:04s\n",
      "⏱️ Epoch 45 took 0.09 seconds\n",
      "epoch 45 | loss: 0.46832 | val_0_accuracy: 0.48214 |  0:00:04s\n",
      "⏱️ Epoch 46 took 0.10 seconds\n",
      "epoch 46 | loss: 0.47842 | val_0_accuracy: 0.48214 |  0:00:04s\n",
      "⏱️ Epoch 47 took 0.09 seconds\n",
      "epoch 47 | loss: 0.44998 | val_0_accuracy: 0.51786 |  0:00:04s\n",
      "⏱️ Epoch 48 took 0.09 seconds\n",
      "epoch 48 | loss: 0.46342 | val_0_accuracy: 0.52024 |  0:00:04s\n",
      "⏱️ Epoch 49 took 0.10 seconds\n",
      "epoch 49 | loss: 0.45147 | val_0_accuracy: 0.51786 |  0:00:04s\n",
      "⏱️ Epoch 50 took 0.09 seconds\n",
      "epoch 50 | loss: 0.43604 | val_0_accuracy: 0.54762 |  0:00:04s\n",
      "⏱️ Epoch 51 took 0.09 seconds\n",
      "epoch 51 | loss: 0.41861 | val_0_accuracy: 0.575   |  0:00:04s\n",
      "⏱️ Epoch 52 took 0.10 seconds\n",
      "epoch 52 | loss: 0.41881 | val_0_accuracy: 0.57857 |  0:00:04s\n",
      "⏱️ Epoch 53 took 0.09 seconds\n",
      "epoch 53 | loss: 0.42945 | val_0_accuracy: 0.57619 |  0:00:05s\n",
      "⏱️ Epoch 54 took 0.10 seconds\n",
      "epoch 54 | loss: 0.42933 | val_0_accuracy: 0.6119  |  0:00:05s\n",
      "⏱️ Epoch 55 took 0.10 seconds\n",
      "epoch 55 | loss: 0.43657 | val_0_accuracy: 0.60952 |  0:00:05s\n",
      "⏱️ Epoch 56 took 0.09 seconds\n",
      "epoch 56 | loss: 0.40738 | val_0_accuracy: 0.64881 |  0:00:05s\n",
      "⏱️ Epoch 57 took 0.10 seconds\n",
      "epoch 57 | loss: 0.41388 | val_0_accuracy: 0.67381 |  0:00:05s\n",
      "⏱️ Epoch 58 took 0.10 seconds\n",
      "epoch 58 | loss: 0.40645 | val_0_accuracy: 0.66667 |  0:00:05s\n",
      "⏱️ Epoch 59 took 0.09 seconds\n",
      "epoch 59 | loss: 0.43692 | val_0_accuracy: 0.6619  |  0:00:05s\n",
      "⏱️ Epoch 60 took 0.09 seconds\n",
      "epoch 60 | loss: 0.39847 | val_0_accuracy: 0.69405 |  0:00:05s\n",
      "⏱️ Epoch 61 took 0.09 seconds\n",
      "epoch 61 | loss: 0.41198 | val_0_accuracy: 0.7     |  0:00:05s\n",
      "⏱️ Epoch 62 took 0.11 seconds\n",
      "epoch 62 | loss: 0.40479 | val_0_accuracy: 0.6631  |  0:00:05s\n",
      "⏱️ Epoch 63 took 0.09 seconds\n",
      "epoch 63 | loss: 0.3862  | val_0_accuracy: 0.71548 |  0:00:06s\n",
      "⏱️ Epoch 64 took 0.10 seconds\n",
      "epoch 64 | loss: 0.38119 | val_0_accuracy: 0.72143 |  0:00:06s\n",
      "⏱️ Epoch 65 took 0.10 seconds\n",
      "epoch 65 | loss: 0.39114 | val_0_accuracy: 0.69762 |  0:00:06s\n",
      "⏱️ Epoch 66 took 0.09 seconds\n",
      "epoch 66 | loss: 0.36943 | val_0_accuracy: 0.7131  |  0:00:06s\n",
      "⏱️ Epoch 67 took 0.09 seconds\n",
      "epoch 67 | loss: 0.40296 | val_0_accuracy: 0.72857 |  0:00:06s\n",
      "⏱️ Epoch 68 took 0.10 seconds\n",
      "epoch 68 | loss: 0.39239 | val_0_accuracy: 0.72262 |  0:00:06s\n",
      "⏱️ Epoch 69 took 0.09 seconds\n",
      "epoch 69 | loss: 0.38774 | val_0_accuracy: 0.76905 |  0:00:06s\n",
      "⏱️ Epoch 70 took 0.09 seconds\n",
      "epoch 70 | loss: 0.3615  | val_0_accuracy: 0.725   |  0:00:06s\n",
      "⏱️ Epoch 71 took 0.23 seconds\n",
      "epoch 71 | loss: 0.40093 | val_0_accuracy: 0.71667 |  0:00:06s\n",
      "⏱️ Epoch 72 took 0.10 seconds\n",
      "epoch 72 | loss: 0.35495 | val_0_accuracy: 0.79762 |  0:00:07s\n",
      "⏱️ Epoch 73 took 0.10 seconds\n",
      "epoch 73 | loss: 0.36656 | val_0_accuracy: 0.78333 |  0:00:07s\n",
      "⏱️ Epoch 74 took 0.09 seconds\n",
      "epoch 74 | loss: 0.34785 | val_0_accuracy: 0.74762 |  0:00:07s\n",
      "⏱️ Epoch 75 took 0.09 seconds\n",
      "epoch 75 | loss: 0.35238 | val_0_accuracy: 0.79048 |  0:00:07s\n",
      "⏱️ Epoch 76 took 0.09 seconds\n",
      "epoch 76 | loss: 0.34706 | val_0_accuracy: 0.78929 |  0:00:07s\n",
      "⏱️ Epoch 77 took 0.09 seconds\n",
      "epoch 77 | loss: 0.34231 | val_0_accuracy: 0.775   |  0:00:07s\n",
      "⏱️ Epoch 78 took 0.09 seconds\n",
      "epoch 78 | loss: 0.33296 | val_0_accuracy: 0.78571 |  0:00:07s\n",
      "⏱️ Epoch 79 took 0.09 seconds\n",
      "epoch 79 | loss: 0.34401 | val_0_accuracy: 0.8     |  0:00:07s\n",
      "⏱️ Epoch 80 took 0.10 seconds\n",
      "epoch 80 | loss: 0.31731 | val_0_accuracy: 0.80476 |  0:00:07s\n",
      "⏱️ Epoch 81 took 0.10 seconds\n",
      "epoch 81 | loss: 0.32957 | val_0_accuracy: 0.8     |  0:00:07s\n",
      "⏱️ Epoch 82 took 0.09 seconds\n",
      "epoch 82 | loss: 0.33118 | val_0_accuracy: 0.79881 |  0:00:07s\n",
      "⏱️ Epoch 83 took 0.09 seconds\n",
      "epoch 83 | loss: 0.32149 | val_0_accuracy: 0.81786 |  0:00:08s\n",
      "⏱️ Epoch 84 took 0.09 seconds\n",
      "epoch 84 | loss: 0.32914 | val_0_accuracy: 0.82976 |  0:00:08s\n",
      "⏱️ Epoch 85 took 0.09 seconds\n",
      "epoch 85 | loss: 0.31508 | val_0_accuracy: 0.79286 |  0:00:08s\n",
      "⏱️ Epoch 86 took 0.09 seconds\n",
      "epoch 86 | loss: 0.3327  | val_0_accuracy: 0.81429 |  0:00:08s\n",
      "⏱️ Epoch 87 took 0.09 seconds\n",
      "epoch 87 | loss: 0.32748 | val_0_accuracy: 0.83571 |  0:00:08s\n",
      "⏱️ Epoch 88 took 0.12 seconds\n",
      "epoch 88 | loss: 0.32998 | val_0_accuracy: 0.8131  |  0:00:08s\n",
      "⏱️ Epoch 89 took 0.09 seconds\n",
      "epoch 89 | loss: 0.32258 | val_0_accuracy: 0.83929 |  0:00:08s\n",
      "⏱️ Epoch 90 took 0.09 seconds\n",
      "epoch 90 | loss: 0.30869 | val_0_accuracy: 0.84167 |  0:00:08s\n",
      "⏱️ Epoch 91 took 0.10 seconds\n",
      "epoch 91 | loss: 0.30224 | val_0_accuracy: 0.83929 |  0:00:08s\n",
      "⏱️ Epoch 92 took 0.09 seconds\n",
      "epoch 92 | loss: 0.29233 | val_0_accuracy: 0.81786 |  0:00:08s\n",
      "⏱️ Epoch 93 took 0.09 seconds\n",
      "epoch 93 | loss: 0.32313 | val_0_accuracy: 0.85357 |  0:00:08s\n",
      "⏱️ Epoch 94 took 0.10 seconds\n",
      "epoch 94 | loss: 0.32726 | val_0_accuracy: 0.83095 |  0:00:09s\n",
      "⏱️ Epoch 95 took 0.09 seconds\n",
      "epoch 95 | loss: 0.31724 | val_0_accuracy: 0.83095 |  0:00:09s\n",
      "⏱️ Epoch 96 took 0.09 seconds\n",
      "epoch 96 | loss: 0.31106 | val_0_accuracy: 0.84286 |  0:00:09s\n",
      "⏱️ Epoch 97 took 0.09 seconds\n",
      "epoch 97 | loss: 0.31518 | val_0_accuracy: 0.82619 |  0:00:09s\n",
      "⏱️ Epoch 98 took 0.09 seconds\n",
      "epoch 98 | loss: 0.32555 | val_0_accuracy: 0.84167 |  0:00:09s\n",
      "⏱️ Epoch 99 took 0.09 seconds\n",
      "epoch 99 | loss: 0.33219 | val_0_accuracy: 0.84048 |  0:00:09s\n",
      "⏱️ Epoch 100 took 0.09 seconds\n",
      "epoch 100| loss: 0.31781 | val_0_accuracy: 0.85119 |  0:00:09s\n",
      "⏱️ Epoch 101 took 0.09 seconds\n",
      "epoch 101| loss: 0.29828 | val_0_accuracy: 0.82976 |  0:00:09s\n",
      "⏱️ Epoch 102 took 0.09 seconds\n",
      "epoch 102| loss: 0.30905 | val_0_accuracy: 0.84643 |  0:00:09s\n",
      "⏱️ Epoch 103 took 0.09 seconds\n",
      "epoch 103| loss: 0.31581 | val_0_accuracy: 0.86071 |  0:00:09s\n",
      "⏱️ Epoch 104 took 0.10 seconds\n",
      "epoch 104| loss: 0.29765 | val_0_accuracy: 0.86667 |  0:00:09s\n",
      "⏱️ Epoch 105 took 0.10 seconds\n",
      "epoch 105| loss: 0.29551 | val_0_accuracy: 0.8619  |  0:00:10s\n",
      "⏱️ Epoch 106 took 0.09 seconds\n",
      "epoch 106| loss: 0.28585 | val_0_accuracy: 0.875   |  0:00:10s\n",
      "⏱️ Epoch 107 took 0.10 seconds\n",
      "epoch 107| loss: 0.27992 | val_0_accuracy: 0.87143 |  0:00:10s\n",
      "⏱️ Epoch 108 took 0.09 seconds\n",
      "epoch 108| loss: 0.29402 | val_0_accuracy: 0.84643 |  0:00:10s\n",
      "⏱️ Epoch 109 took 0.09 seconds\n",
      "epoch 109| loss: 0.30495 | val_0_accuracy: 0.87143 |  0:00:10s\n",
      "⏱️ Epoch 110 took 0.10 seconds\n",
      "epoch 110| loss: 0.32577 | val_0_accuracy: 0.86071 |  0:00:10s\n",
      "⏱️ Epoch 111 took 0.09 seconds\n",
      "epoch 111| loss: 0.30027 | val_0_accuracy: 0.87143 |  0:00:10s\n",
      "⏱️ Epoch 112 took 0.09 seconds\n",
      "epoch 112| loss: 0.31283 | val_0_accuracy: 0.84762 |  0:00:10s\n",
      "⏱️ Epoch 113 took 0.10 seconds\n",
      "epoch 113| loss: 0.32489 | val_0_accuracy: 0.8369  |  0:00:10s\n",
      "⏱️ Epoch 114 took 0.09 seconds\n",
      "epoch 114| loss: 0.28445 | val_0_accuracy: 0.87143 |  0:00:10s\n",
      "⏱️ Epoch 115 took 0.09 seconds\n",
      "epoch 115| loss: 0.29973 | val_0_accuracy: 0.86786 |  0:00:11s\n",
      "⏱️ Epoch 116 took 0.09 seconds\n",
      "epoch 116| loss: 0.30702 | val_0_accuracy: 0.8619  |  0:00:11s\n",
      "⏱️ Epoch 117 took 0.09 seconds\n",
      "epoch 117| loss: 0.28925 | val_0_accuracy: 0.86667 |  0:00:11s\n",
      "⏱️ Epoch 118 took 0.09 seconds\n",
      "epoch 118| loss: 0.27637 | val_0_accuracy: 0.87857 |  0:00:11s\n",
      "⏱️ Epoch 119 took 0.09 seconds\n",
      "epoch 119| loss: 0.29437 | val_0_accuracy: 0.8631  |  0:00:11s\n",
      "⏱️ Epoch 120 took 0.11 seconds\n",
      "epoch 120| loss: 0.276   | val_0_accuracy: 0.85833 |  0:00:11s\n",
      "⏱️ Epoch 121 took 0.12 seconds\n",
      "epoch 121| loss: 0.27206 | val_0_accuracy: 0.88571 |  0:00:11s\n",
      "⏱️ Epoch 122 took 0.09 seconds\n",
      "epoch 122| loss: 0.29218 | val_0_accuracy: 0.86429 |  0:00:11s\n",
      "⏱️ Epoch 123 took 0.09 seconds\n",
      "epoch 123| loss: 0.28228 | val_0_accuracy: 0.86786 |  0:00:11s\n",
      "⏱️ Epoch 124 took 0.09 seconds\n",
      "epoch 124| loss: 0.27757 | val_0_accuracy: 0.88452 |  0:00:11s\n",
      "⏱️ Epoch 125 took 0.09 seconds\n",
      "epoch 125| loss: 0.28425 | val_0_accuracy: 0.86667 |  0:00:11s\n",
      "⏱️ Epoch 126 took 0.09 seconds\n",
      "epoch 126| loss: 0.25538 | val_0_accuracy: 0.87857 |  0:00:12s\n",
      "⏱️ Epoch 127 took 0.09 seconds\n",
      "epoch 127| loss: 0.30314 | val_0_accuracy: 0.89405 |  0:00:12s\n",
      "⏱️ Epoch 128 took 0.09 seconds\n",
      "epoch 128| loss: 0.27779 | val_0_accuracy: 0.88095 |  0:00:12s\n",
      "⏱️ Epoch 129 took 0.09 seconds\n",
      "epoch 129| loss: 0.28477 | val_0_accuracy: 0.85595 |  0:00:12s\n",
      "⏱️ Epoch 130 took 0.09 seconds\n",
      "epoch 130| loss: 0.27671 | val_0_accuracy: 0.87619 |  0:00:12s\n",
      "⏱️ Epoch 131 took 0.09 seconds\n",
      "epoch 131| loss: 0.27243 | val_0_accuracy: 0.88095 |  0:00:12s\n",
      "⏱️ Epoch 132 took 0.09 seconds\n",
      "epoch 132| loss: 0.27381 | val_0_accuracy: 0.87024 |  0:00:12s\n",
      "⏱️ Epoch 133 took 0.09 seconds\n",
      "epoch 133| loss: 0.26595 | val_0_accuracy: 0.8881  |  0:00:12s\n",
      "⏱️ Epoch 134 took 0.09 seconds\n",
      "epoch 134| loss: 0.25586 | val_0_accuracy: 0.89405 |  0:00:12s\n",
      "⏱️ Epoch 135 took 0.09 seconds\n",
      "epoch 135| loss: 0.26061 | val_0_accuracy: 0.8881  |  0:00:12s\n",
      "⏱️ Epoch 136 took 0.09 seconds\n",
      "epoch 136| loss: 0.27277 | val_0_accuracy: 0.89286 |  0:00:12s\n",
      "⏱️ Epoch 137 took 0.09 seconds\n",
      "epoch 137| loss: 0.25729 | val_0_accuracy: 0.88214 |  0:00:13s\n",
      "⏱️ Epoch 138 took 0.09 seconds\n",
      "epoch 138| loss: 0.26169 | val_0_accuracy: 0.88333 |  0:00:13s\n",
      "⏱️ Epoch 139 took 0.09 seconds\n",
      "epoch 139| loss: 0.27728 | val_0_accuracy: 0.8881  |  0:00:13s\n",
      "⏱️ Epoch 140 took 0.09 seconds\n",
      "epoch 140| loss: 0.25966 | val_0_accuracy: 0.87976 |  0:00:13s\n",
      "⏱️ Epoch 141 took 0.09 seconds\n",
      "epoch 141| loss: 0.25869 | val_0_accuracy: 0.88214 |  0:00:13s\n",
      "⏱️ Epoch 142 took 0.09 seconds\n",
      "epoch 142| loss: 0.23713 | val_0_accuracy: 0.85952 |  0:00:13s\n",
      "⏱️ Epoch 143 took 0.09 seconds\n",
      "epoch 143| loss: 0.24785 | val_0_accuracy: 0.88333 |  0:00:13s\n",
      "⏱️ Epoch 144 took 0.09 seconds\n",
      "epoch 144| loss: 0.28393 | val_0_accuracy: 0.88571 |  0:00:13s\n",
      "⏱️ Epoch 145 took 0.09 seconds\n",
      "epoch 145| loss: 0.34078 | val_0_accuracy: 0.84643 |  0:00:13s\n",
      "⏱️ Epoch 146 took 0.09 seconds\n",
      "epoch 146| loss: 0.28037 | val_0_accuracy: 0.86548 |  0:00:13s\n",
      "⏱️ Epoch 147 took 0.09 seconds\n",
      "epoch 147| loss: 0.29293 | val_0_accuracy: 0.875   |  0:00:14s\n",
      "⏱️ Epoch 148 took 0.09 seconds\n",
      "epoch 148| loss: 0.26875 | val_0_accuracy: 0.87976 |  0:00:14s\n",
      "⏱️ Epoch 149 took 0.09 seconds\n",
      "epoch 149| loss: 0.27724 | val_0_accuracy: 0.89048 |  0:00:14s\n",
      "⏱️ Epoch 150 took 0.09 seconds\n",
      "epoch 150| loss: 0.2613  | val_0_accuracy: 0.875   |  0:00:14s\n",
      "⏱️ Epoch 151 took 0.09 seconds\n",
      "epoch 151| loss: 0.24436 | val_0_accuracy: 0.89762 |  0:00:14s\n",
      "⏱️ Epoch 152 took 0.10 seconds\n",
      "epoch 152| loss: 0.25086 | val_0_accuracy: 0.88929 |  0:00:14s\n",
      "⏱️ Epoch 153 took 0.09 seconds\n",
      "epoch 153| loss: 0.23433 | val_0_accuracy: 0.88214 |  0:00:14s\n",
      "⏱️ Epoch 154 took 0.09 seconds\n",
      "epoch 154| loss: 0.23479 | val_0_accuracy: 0.88929 |  0:00:14s\n",
      "⏱️ Epoch 155 took 0.09 seconds\n",
      "epoch 155| loss: 0.22775 | val_0_accuracy: 0.88214 |  0:00:14s\n",
      "⏱️ Epoch 156 took 0.09 seconds\n",
      "epoch 156| loss: 0.25734 | val_0_accuracy: 0.88571 |  0:00:14s\n",
      "⏱️ Epoch 157 took 0.09 seconds\n",
      "epoch 157| loss: 0.22839 | val_0_accuracy: 0.87262 |  0:00:14s\n",
      "⏱️ Epoch 158 took 0.10 seconds\n",
      "epoch 158| loss: 0.24142 | val_0_accuracy: 0.86786 |  0:00:15s\n",
      "⏱️ Epoch 159 took 0.09 seconds\n",
      "epoch 159| loss: 0.25074 | val_0_accuracy: 0.88095 |  0:00:15s\n",
      "⏱️ Epoch 160 took 0.09 seconds\n",
      "epoch 160| loss: 0.23396 | val_0_accuracy: 0.88571 |  0:00:15s\n",
      "⏱️ Epoch 161 took 0.09 seconds\n",
      "epoch 161| loss: 0.25364 | val_0_accuracy: 0.87262 |  0:00:15s\n",
      "⏱️ Epoch 162 took 0.09 seconds\n",
      "epoch 162| loss: 0.24148 | val_0_accuracy: 0.89286 |  0:00:15s\n",
      "⏱️ Epoch 163 took 0.10 seconds\n",
      "epoch 163| loss: 0.23455 | val_0_accuracy: 0.89405 |  0:00:15s\n",
      "⏱️ Epoch 164 took 0.09 seconds\n",
      "epoch 164| loss: 0.24999 | val_0_accuracy: 0.88452 |  0:00:15s\n",
      "⏱️ Epoch 165 took 0.09 seconds\n",
      "epoch 165| loss: 0.23988 | val_0_accuracy: 0.88929 |  0:00:15s\n",
      "⏱️ Epoch 166 took 0.09 seconds\n",
      "epoch 166| loss: 0.22281 | val_0_accuracy: 0.89881 |  0:00:15s\n",
      "⏱️ Epoch 167 took 0.10 seconds\n",
      "epoch 167| loss: 0.26139 | val_0_accuracy: 0.88333 |  0:00:15s\n",
      "⏱️ Epoch 168 took 0.09 seconds\n",
      "epoch 168| loss: 0.23719 | val_0_accuracy: 0.89048 |  0:00:15s\n",
      "⏱️ Epoch 169 took 0.09 seconds\n",
      "epoch 169| loss: 0.23451 | val_0_accuracy: 0.89167 |  0:00:16s\n",
      "⏱️ Epoch 170 took 0.09 seconds\n",
      "epoch 170| loss: 0.22313 | val_0_accuracy: 0.88571 |  0:00:16s\n",
      "⏱️ Epoch 171 took 0.09 seconds\n",
      "epoch 171| loss: 0.24521 | val_0_accuracy: 0.89048 |  0:00:16s\n",
      "⏱️ Epoch 172 took 0.10 seconds\n",
      "epoch 172| loss: 0.22445 | val_0_accuracy: 0.88929 |  0:00:16s\n",
      "⏱️ Epoch 173 took 0.09 seconds\n",
      "epoch 173| loss: 0.23163 | val_0_accuracy: 0.9     |  0:00:16s\n",
      "⏱️ Epoch 174 took 0.09 seconds\n",
      "epoch 174| loss: 0.24041 | val_0_accuracy: 0.8869  |  0:00:16s\n",
      "⏱️ Epoch 175 took 0.09 seconds\n",
      "epoch 175| loss: 0.25068 | val_0_accuracy: 0.89881 |  0:00:16s\n",
      "⏱️ Epoch 176 took 0.09 seconds\n",
      "epoch 176| loss: 0.21859 | val_0_accuracy: 0.89286 |  0:00:16s\n",
      "⏱️ Epoch 177 took 0.09 seconds\n",
      "epoch 177| loss: 0.26501 | val_0_accuracy: 0.89048 |  0:00:16s\n",
      "⏱️ Epoch 178 took 0.09 seconds\n",
      "epoch 178| loss: 0.26279 | val_0_accuracy: 0.88929 |  0:00:16s\n",
      "⏱️ Epoch 179 took 0.09 seconds\n",
      "epoch 179| loss: 0.22315 | val_0_accuracy: 0.875   |  0:00:17s\n",
      "⏱️ Epoch 180 took 0.13 seconds\n",
      "epoch 180| loss: 0.24497 | val_0_accuracy: 0.87381 |  0:00:17s\n",
      "⏱️ Epoch 181 took 0.10 seconds\n",
      "epoch 181| loss: 0.24632 | val_0_accuracy: 0.87619 |  0:00:17s\n",
      "⏱️ Epoch 182 took 0.09 seconds\n",
      "epoch 182| loss: 0.23243 | val_0_accuracy: 0.89762 |  0:00:17s\n",
      "⏱️ Epoch 183 took 0.09 seconds\n",
      "epoch 183| loss: 0.21692 | val_0_accuracy: 0.89524 |  0:00:17s\n",
      "⏱️ Epoch 184 took 0.10 seconds\n",
      "epoch 184| loss: 0.2397  | val_0_accuracy: 0.88333 |  0:00:17s\n",
      "⏱️ Epoch 185 took 0.09 seconds\n",
      "epoch 185| loss: 0.23248 | val_0_accuracy: 0.87857 |  0:00:17s\n",
      "⏱️ Epoch 186 took 0.09 seconds\n",
      "epoch 186| loss: 0.25183 | val_0_accuracy: 0.88452 |  0:00:17s\n",
      "⏱️ Epoch 187 took 0.09 seconds\n",
      "epoch 187| loss: 0.22295 | val_0_accuracy: 0.88333 |  0:00:17s\n",
      "⏱️ Epoch 188 took 0.10 seconds\n",
      "epoch 188| loss: 0.23874 | val_0_accuracy: 0.875   |  0:00:17s\n",
      "⏱️ Epoch 189 took 0.10 seconds\n",
      "epoch 189| loss: 0.21128 | val_0_accuracy: 0.88095 |  0:00:17s\n",
      "⏱️ Epoch 190 took 0.10 seconds\n",
      "epoch 190| loss: 0.20985 | val_0_accuracy: 0.8869  |  0:00:18s\n",
      "⏱️ Epoch 191 took 0.10 seconds\n",
      "epoch 191| loss: 0.22096 | val_0_accuracy: 0.8881  |  0:00:18s\n",
      "⏱️ Epoch 192 took 0.09 seconds\n",
      "epoch 192| loss: 0.2359  | val_0_accuracy: 0.8869  |  0:00:18s\n",
      "⏱️ Epoch 193 took 0.09 seconds\n",
      "epoch 193| loss: 0.20618 | val_0_accuracy: 0.88571 |  0:00:18s\n",
      "⏱️ Epoch 194 took 0.09 seconds\n",
      "epoch 194| loss: 0.21293 | val_0_accuracy: 0.8869  |  0:00:18s\n",
      "⏱️ Epoch 195 took 0.09 seconds\n",
      "epoch 195| loss: 0.21121 | val_0_accuracy: 0.89524 |  0:00:18s\n",
      "⏱️ Epoch 196 took 0.09 seconds\n",
      "epoch 196| loss: 0.20986 | val_0_accuracy: 0.89881 |  0:00:18s\n",
      "⏱️ Epoch 197 took 0.09 seconds\n",
      "epoch 197| loss: 0.20082 | val_0_accuracy: 0.89048 |  0:00:18s\n",
      "⏱️ Epoch 198 took 0.09 seconds\n",
      "epoch 198| loss: 0.23081 | val_0_accuracy: 0.88333 |  0:00:18s\n",
      "⏱️ Epoch 199 took 0.09 seconds\n",
      "epoch 199| loss: 0.20411 | val_0_accuracy: 0.88214 |  0:00:18s\n",
      "⏱️ Epoch 200 took 0.09 seconds\n",
      "epoch 200| loss: 0.19183 | val_0_accuracy: 0.89167 |  0:00:18s\n",
      "⏱️ Epoch 201 took 0.09 seconds\n",
      "epoch 201| loss: 0.21124 | val_0_accuracy: 0.89643 |  0:00:19s\n",
      "⏱️ Epoch 202 took 0.09 seconds\n",
      "epoch 202| loss: 0.20641 | val_0_accuracy: 0.89048 |  0:00:19s\n",
      "⏱️ Epoch 203 took 0.09 seconds\n",
      "epoch 203| loss: 0.22859 | val_0_accuracy: 0.8881  |  0:00:19s\n",
      "⏱️ Epoch 204 took 0.09 seconds\n",
      "epoch 204| loss: 0.20244 | val_0_accuracy: 0.88333 |  0:00:19s\n",
      "⏱️ Epoch 205 took 0.09 seconds\n",
      "epoch 205| loss: 0.20113 | val_0_accuracy: 0.87738 |  0:00:19s\n",
      "⏱️ Epoch 206 took 0.09 seconds\n",
      "epoch 206| loss: 0.19986 | val_0_accuracy: 0.88452 |  0:00:19s\n",
      "⏱️ Epoch 207 took 0.09 seconds\n",
      "epoch 207| loss: 0.19866 | val_0_accuracy: 0.89405 |  0:00:19s\n",
      "⏱️ Epoch 208 took 0.09 seconds\n",
      "epoch 208| loss: 0.20406 | val_0_accuracy: 0.89524 |  0:00:19s\n",
      "⏱️ Epoch 209 took 0.09 seconds\n",
      "epoch 209| loss: 0.19954 | val_0_accuracy: 0.90238 |  0:00:19s\n",
      "⏱️ Epoch 210 took 0.09 seconds\n",
      "epoch 210| loss: 0.21041 | val_0_accuracy: 0.88929 |  0:00:19s\n",
      "⏱️ Epoch 211 took 0.09 seconds\n",
      "epoch 211| loss: 0.19483 | val_0_accuracy: 0.89762 |  0:00:19s\n",
      "⏱️ Epoch 212 took 0.09 seconds\n",
      "epoch 212| loss: 0.2089  | val_0_accuracy: 0.89167 |  0:00:20s\n",
      "⏱️ Epoch 213 took 0.09 seconds\n",
      "epoch 213| loss: 0.20148 | val_0_accuracy: 0.88095 |  0:00:20s\n",
      "⏱️ Epoch 214 took 0.09 seconds\n",
      "epoch 214| loss: 0.217   | val_0_accuracy: 0.89643 |  0:00:20s\n",
      "⏱️ Epoch 215 took 0.09 seconds\n",
      "epoch 215| loss: 0.20528 | val_0_accuracy: 0.89881 |  0:00:20s\n",
      "⏱️ Epoch 216 took 0.10 seconds\n",
      "epoch 216| loss: 0.21932 | val_0_accuracy: 0.88929 |  0:00:20s\n",
      "⏱️ Epoch 217 took 0.09 seconds\n",
      "epoch 217| loss: 0.20278 | val_0_accuracy: 0.89762 |  0:00:20s\n",
      "⏱️ Epoch 218 took 0.09 seconds\n",
      "epoch 218| loss: 0.22154 | val_0_accuracy: 0.89524 |  0:00:20s\n",
      "⏱️ Epoch 219 took 0.10 seconds\n",
      "epoch 219| loss: 0.21417 | val_0_accuracy: 0.89643 |  0:00:20s\n",
      "⏱️ Epoch 220 took 0.10 seconds\n",
      "epoch 220| loss: 0.19701 | val_0_accuracy: 0.87619 |  0:00:20s\n",
      "⏱️ Epoch 221 took 0.09 seconds\n",
      "epoch 221| loss: 0.20513 | val_0_accuracy: 0.89405 |  0:00:20s\n",
      "⏱️ Epoch 222 took 0.09 seconds\n",
      "epoch 222| loss: 0.1875  | val_0_accuracy: 0.87976 |  0:00:21s\n",
      "⏱️ Epoch 223 took 0.09 seconds\n",
      "epoch 223| loss: 0.19852 | val_0_accuracy: 0.89286 |  0:00:21s\n",
      "⏱️ Epoch 224 took 0.09 seconds\n",
      "epoch 224| loss: 0.19941 | val_0_accuracy: 0.89524 |  0:00:21s\n",
      "⏱️ Epoch 225 took 0.09 seconds\n",
      "epoch 225| loss: 0.21169 | val_0_accuracy: 0.88214 |  0:00:21s\n",
      "⏱️ Epoch 226 took 0.09 seconds\n",
      "epoch 226| loss: 0.20632 | val_0_accuracy: 0.89048 |  0:00:21s\n",
      "⏱️ Epoch 227 took 0.09 seconds\n",
      "epoch 227| loss: 0.18639 | val_0_accuracy: 0.87976 |  0:00:21s\n",
      "⏱️ Epoch 228 took 0.10 seconds\n",
      "epoch 228| loss: 0.19334 | val_0_accuracy: 0.89048 |  0:00:21s\n",
      "⏱️ Epoch 229 took 0.09 seconds\n",
      "epoch 229| loss: 0.22424 | val_0_accuracy: 0.89167 |  0:00:21s\n",
      "⏱️ Epoch 230 took 0.09 seconds\n",
      "epoch 230| loss: 0.18759 | val_0_accuracy: 0.89048 |  0:00:21s\n",
      "⏱️ Epoch 231 took 0.10 seconds\n",
      "epoch 231| loss: 0.20173 | val_0_accuracy: 0.88929 |  0:00:21s\n",
      "⏱️ Epoch 232 took 0.09 seconds\n",
      "epoch 232| loss: 0.18754 | val_0_accuracy: 0.89405 |  0:00:21s\n",
      "⏱️ Epoch 233 took 0.09 seconds\n",
      "epoch 233| loss: 0.20764 | val_0_accuracy: 0.89048 |  0:00:22s\n",
      "⏱️ Epoch 234 took 0.09 seconds\n",
      "epoch 234| loss: 0.20625 | val_0_accuracy: 0.88571 |  0:00:22s\n",
      "⏱️ Epoch 235 took 0.09 seconds\n",
      "epoch 235| loss: 0.21093 | val_0_accuracy: 0.89762 |  0:00:22s\n",
      "⏱️ Epoch 236 took 0.09 seconds\n",
      "epoch 236| loss: 0.19981 | val_0_accuracy: 0.89643 |  0:00:22s\n",
      "⏱️ Epoch 237 took 0.09 seconds\n",
      "epoch 237| loss: 0.19327 | val_0_accuracy: 0.90238 |  0:00:22s\n",
      "⏱️ Epoch 238 took 0.09 seconds\n",
      "epoch 238| loss: 0.21163 | val_0_accuracy: 0.88571 |  0:00:22s\n",
      "⏱️ Epoch 239 took 0.09 seconds\n",
      "epoch 239| loss: 0.1883  | val_0_accuracy: 0.88929 |  0:00:22s\n",
      "⏱️ Epoch 240 took 0.09 seconds\n",
      "epoch 240| loss: 0.18817 | val_0_accuracy: 0.89762 |  0:00:22s\n",
      "⏱️ Epoch 241 took 0.09 seconds\n",
      "epoch 241| loss: 0.18809 | val_0_accuracy: 0.89524 |  0:00:22s\n",
      "⏱️ Epoch 242 took 0.09 seconds\n",
      "epoch 242| loss: 0.18626 | val_0_accuracy: 0.89167 |  0:00:23s\n",
      "⏱️ Epoch 243 took 0.25 seconds\n",
      "epoch 243| loss: 0.17397 | val_0_accuracy: 0.89524 |  0:00:23s\n",
      "⏱️ Epoch 244 took 0.09 seconds\n",
      "epoch 244| loss: 0.18582 | val_0_accuracy: 0.89286 |  0:00:23s\n",
      "⏱️ Epoch 245 took 0.09 seconds\n",
      "epoch 245| loss: 0.19701 | val_0_accuracy: 0.90833 |  0:00:23s\n",
      "⏱️ Epoch 246 took 0.10 seconds\n",
      "epoch 246| loss: 0.17856 | val_0_accuracy: 0.90119 |  0:00:23s\n",
      "⏱️ Epoch 247 took 0.09 seconds\n",
      "epoch 247| loss: 0.19444 | val_0_accuracy: 0.90595 |  0:00:23s\n",
      "⏱️ Epoch 248 took 0.09 seconds\n",
      "epoch 248| loss: 0.1859  | val_0_accuracy: 0.90595 |  0:00:23s\n",
      "⏱️ Epoch 249 took 0.09 seconds\n",
      "epoch 249| loss: 0.17497 | val_0_accuracy: 0.90952 |  0:00:23s\n",
      "⏱️ Epoch 250 took 0.10 seconds\n",
      "epoch 250| loss: 0.1953  | val_0_accuracy: 0.90476 |  0:00:23s\n",
      "⏱️ Epoch 251 took 0.09 seconds\n",
      "epoch 251| loss: 0.18245 | val_0_accuracy: 0.90238 |  0:00:23s\n",
      "⏱️ Epoch 252 took 0.09 seconds\n",
      "epoch 252| loss: 0.16963 | val_0_accuracy: 0.9     |  0:00:23s\n",
      "⏱️ Epoch 253 took 0.09 seconds\n",
      "epoch 253| loss: 0.18043 | val_0_accuracy: 0.89643 |  0:00:24s\n",
      "⏱️ Epoch 254 took 0.09 seconds\n",
      "epoch 254| loss: 0.20695 | val_0_accuracy: 0.87619 |  0:00:24s\n",
      "⏱️ Epoch 255 took 0.09 seconds\n",
      "epoch 255| loss: 0.20399 | val_0_accuracy: 0.90119 |  0:00:24s\n",
      "⏱️ Epoch 256 took 0.09 seconds\n",
      "epoch 256| loss: 0.19759 | val_0_accuracy: 0.9     |  0:00:24s\n",
      "⏱️ Epoch 257 took 0.09 seconds\n",
      "epoch 257| loss: 0.17355 | val_0_accuracy: 0.89643 |  0:00:24s\n",
      "⏱️ Epoch 258 took 0.09 seconds\n",
      "epoch 258| loss: 0.19689 | val_0_accuracy: 0.89524 |  0:00:24s\n",
      "⏱️ Epoch 259 took 0.09 seconds\n",
      "epoch 259| loss: 0.20253 | val_0_accuracy: 0.89881 |  0:00:24s\n",
      "⏱️ Epoch 260 took 0.09 seconds\n",
      "epoch 260| loss: 0.18191 | val_0_accuracy: 0.88095 |  0:00:24s\n",
      "⏱️ Epoch 261 took 0.09 seconds\n",
      "epoch 261| loss: 0.20963 | val_0_accuracy: 0.90119 |  0:00:24s\n",
      "⏱️ Epoch 262 took 0.09 seconds\n",
      "epoch 262| loss: 0.17767 | val_0_accuracy: 0.9     |  0:00:24s\n",
      "⏱️ Epoch 263 took 0.09 seconds\n",
      "epoch 263| loss: 0.21763 | val_0_accuracy: 0.9     |  0:00:24s\n",
      "⏱️ Epoch 264 took 0.09 seconds\n",
      "epoch 264| loss: 0.19721 | val_0_accuracy: 0.88929 |  0:00:25s\n",
      "⏱️ Epoch 265 took 0.09 seconds\n",
      "epoch 265| loss: 0.19208 | val_0_accuracy: 0.89762 |  0:00:25s\n",
      "⏱️ Epoch 266 took 0.09 seconds\n",
      "epoch 266| loss: 0.18762 | val_0_accuracy: 0.90238 |  0:00:25s\n",
      "⏱️ Epoch 267 took 0.10 seconds\n",
      "epoch 267| loss: 0.18085 | val_0_accuracy: 0.90357 |  0:00:25s\n",
      "⏱️ Epoch 268 took 0.09 seconds\n",
      "epoch 268| loss: 0.16996 | val_0_accuracy: 0.90238 |  0:00:25s\n",
      "⏱️ Epoch 269 took 0.09 seconds\n",
      "epoch 269| loss: 0.19074 | val_0_accuracy: 0.9     |  0:00:25s\n",
      "⏱️ Epoch 270 took 0.09 seconds\n",
      "epoch 270| loss: 0.1788  | val_0_accuracy: 0.89643 |  0:00:25s\n",
      "⏱️ Epoch 271 took 0.09 seconds\n",
      "epoch 271| loss: 0.1948  | val_0_accuracy: 0.87619 |  0:00:25s\n",
      "⏱️ Epoch 272 took 0.09 seconds\n",
      "epoch 272| loss: 0.17134 | val_0_accuracy: 0.89405 |  0:00:25s\n",
      "⏱️ Epoch 273 took 0.09 seconds\n",
      "epoch 273| loss: 0.17047 | val_0_accuracy: 0.90357 |  0:00:25s\n",
      "⏱️ Epoch 274 took 0.09 seconds\n",
      "epoch 274| loss: 0.17542 | val_0_accuracy: 0.88214 |  0:00:25s\n",
      "⏱️ Epoch 275 took 0.10 seconds\n",
      "epoch 275| loss: 0.17653 | val_0_accuracy: 0.89405 |  0:00:26s\n",
      "⏱️ Epoch 276 took 0.10 seconds\n",
      "epoch 276| loss: 0.17384 | val_0_accuracy: 0.90119 |  0:00:26s\n",
      "⏱️ Epoch 277 took 0.11 seconds\n",
      "epoch 277| loss: 0.18605 | val_0_accuracy: 0.90238 |  0:00:26s\n",
      "⏱️ Epoch 278 took 0.10 seconds\n",
      "epoch 278| loss: 0.16029 | val_0_accuracy: 0.89881 |  0:00:26s\n",
      "⏱️ Epoch 279 took 0.09 seconds\n",
      "epoch 279| loss: 0.17675 | val_0_accuracy: 0.88571 |  0:00:26s\n",
      "⏱️ Epoch 280 took 0.09 seconds\n",
      "epoch 280| loss: 0.20247 | val_0_accuracy: 0.89524 |  0:00:26s\n",
      "⏱️ Epoch 281 took 0.09 seconds\n",
      "epoch 281| loss: 0.16764 | val_0_accuracy: 0.90833 |  0:00:26s\n",
      "⏱️ Epoch 282 took 0.09 seconds\n",
      "epoch 282| loss: 0.18599 | val_0_accuracy: 0.89286 |  0:00:26s\n",
      "⏱️ Epoch 283 took 0.09 seconds\n",
      "epoch 283| loss: 0.17715 | val_0_accuracy: 0.88571 |  0:00:26s\n",
      "⏱️ Epoch 284 took 0.09 seconds\n",
      "epoch 284| loss: 0.19654 | val_0_accuracy: 0.89643 |  0:00:26s\n",
      "⏱️ Epoch 285 took 0.09 seconds\n",
      "epoch 285| loss: 0.18207 | val_0_accuracy: 0.90357 |  0:00:27s\n",
      "⏱️ Epoch 286 took 0.09 seconds\n",
      "epoch 286| loss: 0.16552 | val_0_accuracy: 0.90476 |  0:00:27s\n",
      "⏱️ Epoch 287 took 0.10 seconds\n",
      "epoch 287| loss: 0.18036 | val_0_accuracy: 0.89881 |  0:00:27s\n",
      "⏱️ Epoch 288 took 0.10 seconds\n",
      "epoch 288| loss: 0.17033 | val_0_accuracy: 0.89881 |  0:00:27s\n",
      "⏱️ Epoch 289 took 0.09 seconds\n",
      "epoch 289| loss: 0.18217 | val_0_accuracy: 0.89643 |  0:00:27s\n",
      "⏱️ Epoch 290 took 0.09 seconds\n",
      "epoch 290| loss: 0.17546 | val_0_accuracy: 0.89167 |  0:00:27s\n",
      "⏱️ Epoch 291 took 0.09 seconds\n",
      "epoch 291| loss: 0.17937 | val_0_accuracy: 0.89405 |  0:00:27s\n",
      "⏱️ Epoch 292 took 0.09 seconds\n",
      "epoch 292| loss: 0.18735 | val_0_accuracy: 0.89643 |  0:00:27s\n",
      "⏱️ Epoch 293 took 0.09 seconds\n",
      "epoch 293| loss: 0.1747  | val_0_accuracy: 0.89643 |  0:00:27s\n",
      "⏱️ Epoch 294 took 0.09 seconds\n",
      "epoch 294| loss: 0.19414 | val_0_accuracy: 0.90714 |  0:00:27s\n",
      "⏱️ Epoch 295 took 0.09 seconds\n",
      "epoch 295| loss: 0.18186 | val_0_accuracy: 0.89643 |  0:00:27s\n",
      "⏱️ Epoch 296 took 0.09 seconds\n",
      "epoch 296| loss: 0.15892 | val_0_accuracy: 0.8881  |  0:00:28s\n",
      "⏱️ Epoch 297 took 0.09 seconds\n",
      "epoch 297| loss: 0.1803  | val_0_accuracy: 0.87262 |  0:00:28s\n",
      "⏱️ Epoch 298 took 0.09 seconds\n",
      "epoch 298| loss: 0.18224 | val_0_accuracy: 0.88452 |  0:00:28s\n",
      "⏱️ Epoch 299 took 0.09 seconds\n",
      "epoch 299| loss: 0.1829  | val_0_accuracy: 0.875   |  0:00:28s\n",
      "⏱️ Epoch 300 took 0.09 seconds\n",
      "epoch 300| loss: 0.17445 | val_0_accuracy: 0.88571 |  0:00:28s\n",
      "⏱️ Epoch 301 took 0.09 seconds\n",
      "epoch 301| loss: 0.17036 | val_0_accuracy: 0.89167 |  0:00:28s\n",
      "⏱️ Epoch 302 took 0.09 seconds\n",
      "epoch 302| loss: 0.16366 | val_0_accuracy: 0.89762 |  0:00:28s\n",
      "⏱️ Epoch 303 took 0.09 seconds\n",
      "epoch 303| loss: 0.17858 | val_0_accuracy: 0.90476 |  0:00:28s\n",
      "⏱️ Epoch 304 took 0.09 seconds\n",
      "epoch 304| loss: 0.15596 | val_0_accuracy: 0.89405 |  0:00:28s\n",
      "⏱️ Epoch 305 took 0.09 seconds\n",
      "epoch 305| loss: 0.16344 | val_0_accuracy: 0.88929 |  0:00:28s\n",
      "⏱️ Epoch 306 took 0.09 seconds\n",
      "epoch 306| loss: 0.17291 | val_0_accuracy: 0.89762 |  0:00:28s\n",
      "⏱️ Epoch 307 took 0.09 seconds\n",
      "epoch 307| loss: 0.17261 | val_0_accuracy: 0.89524 |  0:00:29s\n",
      "⏱️ Epoch 308 took 0.09 seconds\n",
      "epoch 308| loss: 0.17244 | val_0_accuracy: 0.87976 |  0:00:29s\n",
      "⏱️ Epoch 309 took 0.09 seconds\n",
      "epoch 309| loss: 0.17481 | val_0_accuracy: 0.9     |  0:00:29s\n",
      "⏱️ Epoch 310 took 0.09 seconds\n",
      "epoch 310| loss: 0.17381 | val_0_accuracy: 0.9     |  0:00:29s\n",
      "⏱️ Epoch 311 took 0.09 seconds\n",
      "epoch 311| loss: 0.18424 | val_0_accuracy: 0.89048 |  0:00:29s\n",
      "⏱️ Epoch 312 took 0.09 seconds\n",
      "epoch 312| loss: 0.1569  | val_0_accuracy: 0.90238 |  0:00:29s\n",
      "⏱️ Epoch 313 took 0.09 seconds\n",
      "epoch 313| loss: 0.17555 | val_0_accuracy: 0.90357 |  0:00:29s\n",
      "⏱️ Epoch 314 took 0.09 seconds\n",
      "epoch 314| loss: 0.17631 | val_0_accuracy: 0.89405 |  0:00:29s\n",
      "⏱️ Epoch 315 took 0.09 seconds\n",
      "epoch 315| loss: 0.17624 | val_0_accuracy: 0.89524 |  0:00:29s\n",
      "⏱️ Epoch 316 took 0.09 seconds\n",
      "epoch 316| loss: 0.17233 | val_0_accuracy: 0.90238 |  0:00:29s\n",
      "⏱️ Epoch 317 took 0.09 seconds\n",
      "epoch 317| loss: 0.21145 | val_0_accuracy: 0.90119 |  0:00:29s\n",
      "⏱️ Epoch 318 took 0.09 seconds\n",
      "epoch 318| loss: 0.17859 | val_0_accuracy: 0.9     |  0:00:30s\n",
      "⏱️ Epoch 319 took 0.09 seconds\n",
      "epoch 319| loss: 0.1647  | val_0_accuracy: 0.90357 |  0:00:30s\n",
      "⏱️ Epoch 320 took 0.09 seconds\n",
      "epoch 320| loss: 0.15942 | val_0_accuracy: 0.90476 |  0:00:30s\n",
      "⏱️ Epoch 321 took 0.10 seconds\n",
      "epoch 321| loss: 0.17842 | val_0_accuracy: 0.90119 |  0:00:30s\n",
      "⏱️ Epoch 322 took 0.10 seconds\n",
      "epoch 322| loss: 0.17329 | val_0_accuracy: 0.89405 |  0:00:30s\n",
      "⏱️ Epoch 323 took 0.09 seconds\n",
      "epoch 323| loss: 0.14915 | val_0_accuracy: 0.89762 |  0:00:30s\n",
      "⏱️ Epoch 324 took 0.09 seconds\n",
      "epoch 324| loss: 0.15952 | val_0_accuracy: 0.89405 |  0:00:30s\n",
      "⏱️ Epoch 325 took 0.09 seconds\n",
      "epoch 325| loss: 0.15232 | val_0_accuracy: 0.89524 |  0:00:30s\n",
      "⏱️ Epoch 326 took 0.09 seconds\n",
      "epoch 326| loss: 0.16899 | val_0_accuracy: 0.89881 |  0:00:30s\n",
      "⏱️ Epoch 327 took 0.09 seconds\n",
      "epoch 327| loss: 0.16399 | val_0_accuracy: 0.9     |  0:00:30s\n",
      "⏱️ Epoch 328 took 0.09 seconds\n",
      "epoch 328| loss: 0.1878  | val_0_accuracy: 0.89881 |  0:00:30s\n",
      "⏱️ Epoch 329 took 0.09 seconds\n",
      "epoch 329| loss: 0.19057 | val_0_accuracy: 0.89286 |  0:00:31s\n",
      "⏱️ Epoch 330 took 0.09 seconds\n",
      "epoch 330| loss: 0.15735 | val_0_accuracy: 0.87976 |  0:00:31s\n",
      "⏱️ Epoch 331 took 0.09 seconds\n",
      "epoch 331| loss: 0.17717 | val_0_accuracy: 0.89643 |  0:00:31s\n",
      "⏱️ Epoch 332 took 0.10 seconds\n",
      "epoch 332| loss: 0.16009 | val_0_accuracy: 0.89405 |  0:00:31s\n",
      "⏱️ Epoch 333 took 0.09 seconds\n",
      "epoch 333| loss: 0.16293 | val_0_accuracy: 0.90595 |  0:00:31s\n",
      "⏱️ Epoch 334 took 0.09 seconds\n",
      "epoch 334| loss: 0.15257 | val_0_accuracy: 0.89881 |  0:00:31s\n",
      "⏱️ Epoch 335 took 0.09 seconds\n",
      "epoch 335| loss: 0.14859 | val_0_accuracy: 0.90595 |  0:00:31s\n",
      "⏱️ Epoch 336 took 0.09 seconds\n",
      "epoch 336| loss: 0.15112 | val_0_accuracy: 0.89524 |  0:00:31s\n",
      "⏱️ Epoch 337 took 0.09 seconds\n",
      "epoch 337| loss: 0.15589 | val_0_accuracy: 0.90357 |  0:00:31s\n",
      "⏱️ Epoch 338 took 0.10 seconds\n",
      "epoch 338| loss: 0.15173 | val_0_accuracy: 0.89643 |  0:00:31s\n",
      "⏱️ Epoch 339 took 0.09 seconds\n",
      "epoch 339| loss: 0.15207 | val_0_accuracy: 0.89048 |  0:00:32s\n",
      "⏱️ Epoch 340 took 0.09 seconds\n",
      "epoch 340| loss: 0.14571 | val_0_accuracy: 0.88571 |  0:00:32s\n",
      "⏱️ Epoch 341 took 0.09 seconds\n",
      "epoch 341| loss: 0.1558  | val_0_accuracy: 0.89286 |  0:00:32s\n",
      "⏱️ Epoch 342 took 0.09 seconds\n",
      "epoch 342| loss: 0.17796 | val_0_accuracy: 0.88929 |  0:00:32s\n",
      "⏱️ Epoch 343 took 0.09 seconds\n",
      "epoch 343| loss: 0.14079 | val_0_accuracy: 0.90476 |  0:00:32s\n",
      "⏱️ Epoch 344 took 0.09 seconds\n",
      "epoch 344| loss: 0.15765 | val_0_accuracy: 0.88452 |  0:00:32s\n",
      "⏱️ Epoch 345 took 0.09 seconds\n",
      "epoch 345| loss: 0.14404 | val_0_accuracy: 0.90357 |  0:00:32s\n",
      "⏱️ Epoch 346 took 0.09 seconds\n",
      "epoch 346| loss: 0.14666 | val_0_accuracy: 0.89881 |  0:00:32s\n",
      "⏱️ Epoch 347 took 0.09 seconds\n",
      "epoch 347| loss: 0.13716 | val_0_accuracy: 0.91071 |  0:00:32s\n",
      "⏱️ Epoch 348 took 0.10 seconds\n",
      "epoch 348| loss: 0.15658 | val_0_accuracy: 0.9131  |  0:00:32s\n",
      "⏱️ Epoch 349 took 0.09 seconds\n",
      "epoch 349| loss: 0.13451 | val_0_accuracy: 0.90119 |  0:00:32s\n",
      "⏱️ Epoch 350 took 0.09 seconds\n",
      "epoch 350| loss: 0.156   | val_0_accuracy: 0.90833 |  0:00:33s\n",
      "⏱️ Epoch 351 took 0.09 seconds\n",
      "epoch 351| loss: 0.15092 | val_0_accuracy: 0.90595 |  0:00:33s\n",
      "⏱️ Epoch 352 took 0.09 seconds\n",
      "epoch 352| loss: 0.1477  | val_0_accuracy: 0.90833 |  0:00:33s\n",
      "⏱️ Epoch 353 took 0.09 seconds\n",
      "epoch 353| loss: 0.14469 | val_0_accuracy: 0.90357 |  0:00:33s\n",
      "⏱️ Epoch 354 took 0.09 seconds\n",
      "epoch 354| loss: 0.14399 | val_0_accuracy: 0.9119  |  0:00:33s\n",
      "⏱️ Epoch 355 took 0.09 seconds\n",
      "epoch 355| loss: 0.13449 | val_0_accuracy: 0.90357 |  0:00:33s\n",
      "⏱️ Epoch 356 took 0.09 seconds\n",
      "epoch 356| loss: 0.14216 | val_0_accuracy: 0.9131  |  0:00:33s\n",
      "⏱️ Epoch 357 took 0.09 seconds\n",
      "epoch 357| loss: 0.15656 | val_0_accuracy: 0.90357 |  0:00:33s\n",
      "⏱️ Epoch 358 took 0.09 seconds\n",
      "epoch 358| loss: 0.1655  | val_0_accuracy: 0.9131  |  0:00:33s\n",
      "⏱️ Epoch 359 took 0.09 seconds\n",
      "epoch 359| loss: 0.16265 | val_0_accuracy: 0.90476 |  0:00:33s\n",
      "⏱️ Epoch 360 took 0.09 seconds\n",
      "epoch 360| loss: 0.17443 | val_0_accuracy: 0.8881  |  0:00:33s\n",
      "⏱️ Epoch 361 took 0.09 seconds\n",
      "epoch 361| loss: 0.16668 | val_0_accuracy: 0.90595 |  0:00:34s\n",
      "⏱️ Epoch 362 took 0.09 seconds\n",
      "epoch 362| loss: 0.13686 | val_0_accuracy: 0.89762 |  0:00:34s\n",
      "⏱️ Epoch 363 took 0.09 seconds\n",
      "epoch 363| loss: 0.14452 | val_0_accuracy: 0.90714 |  0:00:34s\n",
      "⏱️ Epoch 364 took 0.09 seconds\n",
      "epoch 364| loss: 0.15702 | val_0_accuracy: 0.91905 |  0:00:34s\n",
      "⏱️ Epoch 365 took 0.10 seconds\n",
      "epoch 365| loss: 0.16712 | val_0_accuracy: 0.90714 |  0:00:34s\n",
      "⏱️ Epoch 366 took 0.09 seconds\n",
      "epoch 366| loss: 0.17102 | val_0_accuracy: 0.90714 |  0:00:34s\n",
      "⏱️ Epoch 367 took 0.09 seconds\n",
      "epoch 367| loss: 0.15278 | val_0_accuracy: 0.89524 |  0:00:34s\n",
      "⏱️ Epoch 368 took 0.09 seconds\n",
      "epoch 368| loss: 0.15328 | val_0_accuracy: 0.90119 |  0:00:34s\n",
      "⏱️ Epoch 369 took 0.09 seconds\n",
      "epoch 369| loss: 0.15687 | val_0_accuracy: 0.89048 |  0:00:34s\n",
      "⏱️ Epoch 370 took 0.09 seconds\n",
      "epoch 370| loss: 0.15797 | val_0_accuracy: 0.90476 |  0:00:34s\n",
      "⏱️ Epoch 371 took 0.09 seconds\n",
      "epoch 371| loss: 0.15693 | val_0_accuracy: 0.9     |  0:00:34s\n",
      "⏱️ Epoch 372 took 0.09 seconds\n",
      "epoch 372| loss: 0.15814 | val_0_accuracy: 0.90238 |  0:00:35s\n",
      "⏱️ Epoch 373 took 0.09 seconds\n",
      "epoch 373| loss: 0.14927 | val_0_accuracy: 0.89167 |  0:00:35s\n",
      "⏱️ Epoch 374 took 0.09 seconds\n",
      "epoch 374| loss: 0.15125 | val_0_accuracy: 0.89762 |  0:00:35s\n",
      "⏱️ Epoch 375 took 0.09 seconds\n",
      "epoch 375| loss: 0.15401 | val_0_accuracy: 0.90238 |  0:00:35s\n",
      "⏱️ Epoch 376 took 0.09 seconds\n",
      "epoch 376| loss: 0.15108 | val_0_accuracy: 0.89881 |  0:00:35s\n",
      "⏱️ Epoch 377 took 0.10 seconds\n",
      "epoch 377| loss: 0.16283 | val_0_accuracy: 0.89762 |  0:00:35s\n",
      "⏱️ Epoch 378 took 0.10 seconds\n",
      "epoch 378| loss: 0.1618  | val_0_accuracy: 0.90714 |  0:00:35s\n",
      "⏱️ Epoch 379 took 0.09 seconds\n",
      "epoch 379| loss: 0.15984 | val_0_accuracy: 0.88214 |  0:00:35s\n",
      "⏱️ Epoch 380 took 0.09 seconds\n",
      "epoch 380| loss: 0.17386 | val_0_accuracy: 0.90119 |  0:00:35s\n",
      "⏱️ Epoch 381 took 0.09 seconds\n",
      "epoch 381| loss: 0.15208 | val_0_accuracy: 0.90595 |  0:00:35s\n",
      "⏱️ Epoch 382 took 0.11 seconds\n",
      "epoch 382| loss: 0.13359 | val_0_accuracy: 0.9     |  0:00:35s\n",
      "⏱️ Epoch 383 took 0.11 seconds\n",
      "epoch 383| loss: 0.13727 | val_0_accuracy: 0.90714 |  0:00:36s\n",
      "⏱️ Epoch 384 took 0.11 seconds\n",
      "epoch 384| loss: 0.14529 | val_0_accuracy: 0.89524 |  0:00:36s\n",
      "⏱️ Epoch 385 took 0.11 seconds\n",
      "epoch 385| loss: 0.16897 | val_0_accuracy: 0.90714 |  0:00:36s\n",
      "⏱️ Epoch 386 took 0.09 seconds\n",
      "epoch 386| loss: 0.15872 | val_0_accuracy: 0.90952 |  0:00:36s\n",
      "⏱️ Epoch 387 took 0.09 seconds\n",
      "epoch 387| loss: 0.16761 | val_0_accuracy: 0.90595 |  0:00:36s\n",
      "⏱️ Epoch 388 took 0.09 seconds\n",
      "epoch 388| loss: 0.1536  | val_0_accuracy: 0.90952 |  0:00:36s\n",
      "⏱️ Epoch 389 took 0.09 seconds\n",
      "epoch 389| loss: 0.14389 | val_0_accuracy: 0.89762 |  0:00:36s\n",
      "⏱️ Epoch 390 took 0.10 seconds\n",
      "epoch 390| loss: 0.1534  | val_0_accuracy: 0.87738 |  0:00:36s\n",
      "⏱️ Epoch 391 took 0.09 seconds\n",
      "epoch 391| loss: 0.16696 | val_0_accuracy: 0.90119 |  0:00:36s\n",
      "⏱️ Epoch 392 took 0.09 seconds\n",
      "epoch 392| loss: 0.16268 | val_0_accuracy: 0.89524 |  0:00:36s\n",
      "⏱️ Epoch 393 took 0.09 seconds\n",
      "epoch 393| loss: 0.14871 | val_0_accuracy: 0.90714 |  0:00:37s\n",
      "⏱️ Epoch 394 took 0.09 seconds\n",
      "epoch 394| loss: 0.15748 | val_0_accuracy: 0.90833 |  0:00:37s\n",
      "⏱️ Epoch 395 took 0.09 seconds\n",
      "epoch 395| loss: 0.14807 | val_0_accuracy: 0.90357 |  0:00:37s\n",
      "⏱️ Epoch 396 took 0.09 seconds\n",
      "epoch 396| loss: 0.15041 | val_0_accuracy: 0.90238 |  0:00:37s\n",
      "⏱️ Epoch 397 took 0.09 seconds\n",
      "epoch 397| loss: 0.16116 | val_0_accuracy: 0.90476 |  0:00:37s\n",
      "⏱️ Epoch 398 took 0.09 seconds\n",
      "epoch 398| loss: 0.1554  | val_0_accuracy: 0.89524 |  0:00:37s\n",
      "⏱️ Epoch 399 took 0.10 seconds\n",
      "epoch 399| loss: 0.14622 | val_0_accuracy: 0.90238 |  0:00:37s\n",
      "⏱️ Epoch 400 took 0.09 seconds\n",
      "epoch 400| loss: 0.15128 | val_0_accuracy: 0.90238 |  0:00:37s\n",
      "⏱️ Epoch 401 took 0.09 seconds\n",
      "epoch 401| loss: 0.14196 | val_0_accuracy: 0.89762 |  0:00:37s\n",
      "⏱️ Epoch 402 took 0.09 seconds\n",
      "epoch 402| loss: 0.14395 | val_0_accuracy: 0.90714 |  0:00:37s\n",
      "⏱️ Epoch 403 took 0.09 seconds\n",
      "epoch 403| loss: 0.14063 | val_0_accuracy: 0.91071 |  0:00:37s\n",
      "⏱️ Epoch 404 took 0.09 seconds\n",
      "epoch 404| loss: 0.1555  | val_0_accuracy: 0.89524 |  0:00:38s\n",
      "⏱️ Epoch 405 took 0.09 seconds\n",
      "epoch 405| loss: 0.13245 | val_0_accuracy: 0.90357 |  0:00:38s\n",
      "⏱️ Epoch 406 took 0.09 seconds\n",
      "epoch 406| loss: 0.14457 | val_0_accuracy: 0.90119 |  0:00:38s\n",
      "⏱️ Epoch 407 took 0.09 seconds\n",
      "epoch 407| loss: 0.13596 | val_0_accuracy: 0.90595 |  0:00:38s\n",
      "⏱️ Epoch 408 took 0.09 seconds\n",
      "epoch 408| loss: 0.12799 | val_0_accuracy: 0.90357 |  0:00:38s\n",
      "⏱️ Epoch 409 took 0.09 seconds\n",
      "epoch 409| loss: 0.12549 | val_0_accuracy: 0.90238 |  0:00:38s\n",
      "⏱️ Epoch 410 took 0.09 seconds\n",
      "epoch 410| loss: 0.13634 | val_0_accuracy: 0.90952 |  0:00:38s\n",
      "⏱️ Epoch 411 took 0.09 seconds\n",
      "epoch 411| loss: 0.13382 | val_0_accuracy: 0.90714 |  0:00:38s\n",
      "⏱️ Epoch 412 took 0.09 seconds\n",
      "epoch 412| loss: 0.1231  | val_0_accuracy: 0.90833 |  0:00:38s\n",
      "⏱️ Epoch 413 took 0.09 seconds\n",
      "epoch 413| loss: 0.13924 | val_0_accuracy: 0.90595 |  0:00:38s\n",
      "⏱️ Epoch 414 took 0.09 seconds\n",
      "epoch 414| loss: 0.14729 | val_0_accuracy: 0.89881 |  0:00:38s\n",
      "⏱️ Epoch 415 took 0.09 seconds\n",
      "epoch 415| loss: 0.13341 | val_0_accuracy: 0.90119 |  0:00:39s\n",
      "⏱️ Epoch 416 took 0.09 seconds\n",
      "epoch 416| loss: 0.15253 | val_0_accuracy: 0.9119  |  0:00:39s\n",
      "⏱️ Epoch 417 took 0.09 seconds\n",
      "epoch 417| loss: 0.12954 | val_0_accuracy: 0.89524 |  0:00:39s\n",
      "⏱️ Epoch 418 took 0.09 seconds\n",
      "epoch 418| loss: 0.13834 | val_0_accuracy: 0.91071 |  0:00:39s\n",
      "⏱️ Epoch 419 took 0.09 seconds\n",
      "epoch 419| loss: 0.13534 | val_0_accuracy: 0.9131  |  0:00:39s\n",
      "⏱️ Epoch 420 took 0.09 seconds\n",
      "epoch 420| loss: 0.13155 | val_0_accuracy: 0.92262 |  0:00:39s\n",
      "⏱️ Epoch 421 took 0.10 seconds\n",
      "epoch 421| loss: 0.13617 | val_0_accuracy: 0.90595 |  0:00:39s\n",
      "⏱️ Epoch 422 took 0.24 seconds\n",
      "epoch 422| loss: 0.12509 | val_0_accuracy: 0.91071 |  0:00:39s\n",
      "⏱️ Epoch 423 took 0.09 seconds\n",
      "epoch 423| loss: 0.13279 | val_0_accuracy: 0.9119  |  0:00:39s\n",
      "⏱️ Epoch 424 took 0.09 seconds\n",
      "epoch 424| loss: 0.14087 | val_0_accuracy: 0.90714 |  0:00:40s\n",
      "⏱️ Epoch 425 took 0.09 seconds\n",
      "epoch 425| loss: 0.14851 | val_0_accuracy: 0.89167 |  0:00:40s\n",
      "⏱️ Epoch 426 took 0.09 seconds\n",
      "epoch 426| loss: 0.14361 | val_0_accuracy: 0.89405 |  0:00:40s\n",
      "⏱️ Epoch 427 took 0.09 seconds\n",
      "epoch 427| loss: 0.14096 | val_0_accuracy: 0.89286 |  0:00:40s\n",
      "⏱️ Epoch 428 took 0.09 seconds\n",
      "epoch 428| loss: 0.14275 | val_0_accuracy: 0.90119 |  0:00:40s\n",
      "⏱️ Epoch 429 took 0.09 seconds\n",
      "epoch 429| loss: 0.15105 | val_0_accuracy: 0.90833 |  0:00:40s\n",
      "⏱️ Epoch 430 took 0.09 seconds\n",
      "epoch 430| loss: 0.13442 | val_0_accuracy: 0.91071 |  0:00:40s\n",
      "⏱️ Epoch 431 took 0.09 seconds\n",
      "epoch 431| loss: 0.14529 | val_0_accuracy: 0.90119 |  0:00:40s\n",
      "⏱️ Epoch 432 took 0.09 seconds\n",
      "epoch 432| loss: 0.12922 | val_0_accuracy: 0.89762 |  0:00:40s\n",
      "⏱️ Epoch 433 took 0.09 seconds\n",
      "epoch 433| loss: 0.13083 | val_0_accuracy: 0.90476 |  0:00:40s\n",
      "⏱️ Epoch 434 took 0.09 seconds\n",
      "epoch 434| loss: 0.13203 | val_0_accuracy: 0.90833 |  0:00:40s\n",
      "⏱️ Epoch 435 took 0.09 seconds\n",
      "epoch 435| loss: 0.14879 | val_0_accuracy: 0.9     |  0:00:41s\n",
      "⏱️ Epoch 436 took 0.09 seconds\n",
      "epoch 436| loss: 0.14503 | val_0_accuracy: 0.90357 |  0:00:41s\n",
      "⏱️ Epoch 437 took 0.09 seconds\n",
      "epoch 437| loss: 0.13475 | val_0_accuracy: 0.90595 |  0:00:41s\n",
      "⏱️ Epoch 438 took 0.09 seconds\n",
      "epoch 438| loss: 0.13491 | val_0_accuracy: 0.90952 |  0:00:41s\n",
      "⏱️ Epoch 439 took 0.09 seconds\n",
      "epoch 439| loss: 0.14021 | val_0_accuracy: 0.9119  |  0:00:41s\n",
      "⏱️ Epoch 440 took 0.09 seconds\n",
      "epoch 440| loss: 0.12699 | val_0_accuracy: 0.9     |  0:00:41s\n",
      "⏱️ Epoch 441 took 0.09 seconds\n",
      "epoch 441| loss: 0.13385 | val_0_accuracy: 0.9     |  0:00:41s\n",
      "⏱️ Epoch 442 took 0.09 seconds\n",
      "epoch 442| loss: 0.14332 | val_0_accuracy: 0.91667 |  0:00:41s\n",
      "⏱️ Epoch 443 took 0.09 seconds\n",
      "epoch 443| loss: 0.12283 | val_0_accuracy: 0.91071 |  0:00:41s\n",
      "⏱️ Epoch 444 took 0.09 seconds\n",
      "epoch 444| loss: 0.12251 | val_0_accuracy: 0.89643 |  0:00:41s\n",
      "⏱️ Epoch 445 took 0.09 seconds\n",
      "epoch 445| loss: 0.15444 | val_0_accuracy: 0.9     |  0:00:41s\n",
      "⏱️ Epoch 446 took 0.09 seconds\n",
      "epoch 446| loss: 0.13259 | val_0_accuracy: 0.91429 |  0:00:42s\n",
      "⏱️ Epoch 447 took 0.09 seconds\n",
      "epoch 447| loss: 0.13022 | val_0_accuracy: 0.90595 |  0:00:42s\n",
      "⏱️ Epoch 448 took 0.09 seconds\n",
      "epoch 448| loss: 0.15059 | val_0_accuracy: 0.90357 |  0:00:42s\n",
      "⏱️ Epoch 449 took 0.09 seconds\n",
      "epoch 449| loss: 0.12398 | val_0_accuracy: 0.89643 |  0:00:42s\n",
      "⏱️ Epoch 450 took 0.10 seconds\n",
      "epoch 450| loss: 0.12421 | val_0_accuracy: 0.9     |  0:00:42s\n",
      "⏱️ Epoch 451 took 0.09 seconds\n",
      "epoch 451| loss: 0.13658 | val_0_accuracy: 0.90952 |  0:00:42s\n",
      "⏱️ Epoch 452 took 0.09 seconds\n",
      "epoch 452| loss: 0.13613 | val_0_accuracy: 0.90714 |  0:00:42s\n",
      "⏱️ Epoch 453 took 0.09 seconds\n",
      "epoch 453| loss: 0.12659 | val_0_accuracy: 0.90714 |  0:00:42s\n",
      "⏱️ Epoch 454 took 0.09 seconds\n",
      "epoch 454| loss: 0.12652 | val_0_accuracy: 0.90714 |  0:00:42s\n",
      "⏱️ Epoch 455 took 0.09 seconds\n",
      "epoch 455| loss: 0.13106 | val_0_accuracy: 0.90119 |  0:00:42s\n",
      "⏱️ Epoch 456 took 0.09 seconds\n",
      "epoch 456| loss: 0.12512 | val_0_accuracy: 0.9     |  0:00:42s\n",
      "⏱️ Epoch 457 took 0.09 seconds\n",
      "epoch 457| loss: 0.12442 | val_0_accuracy: 0.89048 |  0:00:43s\n",
      "⏱️ Epoch 458 took 0.09 seconds\n",
      "epoch 458| loss: 0.13714 | val_0_accuracy: 0.90238 |  0:00:43s\n",
      "⏱️ Epoch 459 took 0.09 seconds\n",
      "epoch 459| loss: 0.12485 | val_0_accuracy: 0.89405 |  0:00:43s\n",
      "⏱️ Epoch 460 took 0.09 seconds\n",
      "epoch 460| loss: 0.12426 | val_0_accuracy: 0.91429 |  0:00:43s\n",
      "⏱️ Epoch 461 took 0.09 seconds\n",
      "epoch 461| loss: 0.14116 | val_0_accuracy: 0.90238 |  0:00:43s\n",
      "⏱️ Epoch 462 took 0.09 seconds\n",
      "epoch 462| loss: 0.12572 | val_0_accuracy: 0.89881 |  0:00:43s\n",
      "⏱️ Epoch 463 took 0.09 seconds\n",
      "epoch 463| loss: 0.1182  | val_0_accuracy: 0.89643 |  0:00:43s\n",
      "⏱️ Epoch 464 took 0.09 seconds\n",
      "epoch 464| loss: 0.1258  | val_0_accuracy: 0.89286 |  0:00:43s\n",
      "⏱️ Epoch 465 took 0.09 seconds\n",
      "epoch 465| loss: 0.14507 | val_0_accuracy: 0.89286 |  0:00:43s\n",
      "⏱️ Epoch 466 took 0.10 seconds\n",
      "epoch 466| loss: 0.12772 | val_0_accuracy: 0.91548 |  0:00:43s\n",
      "⏱️ Epoch 467 took 0.11 seconds\n",
      "epoch 467| loss: 0.11991 | val_0_accuracy: 0.89286 |  0:00:44s\n",
      "⏱️ Epoch 468 took 0.10 seconds\n",
      "epoch 468| loss: 0.1155  | val_0_accuracy: 0.9     |  0:00:44s\n",
      "⏱️ Epoch 469 took 0.09 seconds\n",
      "epoch 469| loss: 0.12113 | val_0_accuracy: 0.9119  |  0:00:44s\n",
      "⏱️ Epoch 470 took 0.09 seconds\n",
      "epoch 470| loss: 0.12175 | val_0_accuracy: 0.9131  |  0:00:44s\n",
      "⏱️ Epoch 471 took 0.09 seconds\n",
      "epoch 471| loss: 0.12875 | val_0_accuracy: 0.91429 |  0:00:44s\n",
      "⏱️ Epoch 472 took 0.09 seconds\n",
      "epoch 472| loss: 0.12509 | val_0_accuracy: 0.8881  |  0:00:44s\n",
      "⏱️ Epoch 473 took 0.09 seconds\n",
      "epoch 473| loss: 0.15384 | val_0_accuracy: 0.9131  |  0:00:44s\n",
      "⏱️ Epoch 474 took 0.09 seconds\n",
      "epoch 474| loss: 0.13705 | val_0_accuracy: 0.89643 |  0:00:44s\n",
      "⏱️ Epoch 475 took 0.09 seconds\n",
      "epoch 475| loss: 0.13795 | val_0_accuracy: 0.89286 |  0:00:44s\n",
      "⏱️ Epoch 476 took 0.09 seconds\n",
      "epoch 476| loss: 0.15398 | val_0_accuracy: 0.8881  |  0:00:44s\n",
      "⏱️ Epoch 477 took 0.09 seconds\n",
      "epoch 477| loss: 0.12503 | val_0_accuracy: 0.90595 |  0:00:44s\n",
      "⏱️ Epoch 478 took 0.09 seconds\n",
      "epoch 478| loss: 0.13481 | val_0_accuracy: 0.89286 |  0:00:45s\n",
      "⏱️ Epoch 479 took 0.09 seconds\n",
      "epoch 479| loss: 0.1355  | val_0_accuracy: 0.90833 |  0:00:45s\n",
      "⏱️ Epoch 480 took 0.09 seconds\n",
      "epoch 480| loss: 0.11133 | val_0_accuracy: 0.9131  |  0:00:45s\n",
      "⏱️ Epoch 481 took 0.09 seconds\n",
      "epoch 481| loss: 0.12693 | val_0_accuracy: 0.9119  |  0:00:45s\n",
      "⏱️ Epoch 482 took 0.09 seconds\n",
      "epoch 482| loss: 0.12239 | val_0_accuracy: 0.9131  |  0:00:45s\n",
      "⏱️ Epoch 483 took 0.09 seconds\n",
      "epoch 483| loss: 0.15226 | val_0_accuracy: 0.87857 |  0:00:45s\n",
      "⏱️ Epoch 484 took 0.09 seconds\n",
      "epoch 484| loss: 0.18266 | val_0_accuracy: 0.90119 |  0:00:45s\n",
      "⏱️ Epoch 485 took 0.09 seconds\n",
      "epoch 485| loss: 0.1768  | val_0_accuracy: 0.90714 |  0:00:45s\n",
      "⏱️ Epoch 486 took 0.09 seconds\n",
      "epoch 486| loss: 0.16165 | val_0_accuracy: 0.89881 |  0:00:45s\n",
      "⏱️ Epoch 487 took 0.09 seconds\n",
      "epoch 487| loss: 0.16991 | val_0_accuracy: 0.90238 |  0:00:45s\n",
      "⏱️ Epoch 488 took 0.09 seconds\n",
      "epoch 488| loss: 0.16429 | val_0_accuracy: 0.88095 |  0:00:45s\n",
      "⏱️ Epoch 489 took 0.10 seconds\n",
      "epoch 489| loss: 0.17445 | val_0_accuracy: 0.89643 |  0:00:46s\n",
      "⏱️ Epoch 490 took 0.09 seconds\n",
      "epoch 490| loss: 0.14224 | val_0_accuracy: 0.90595 |  0:00:46s\n",
      "⏱️ Epoch 491 took 0.15 seconds\n",
      "epoch 491| loss: 0.14856 | val_0_accuracy: 0.90238 |  0:00:46s\n",
      "⏱️ Epoch 492 took 0.10 seconds\n",
      "epoch 492| loss: 0.15884 | val_0_accuracy: 0.90357 |  0:00:46s\n",
      "⏱️ Epoch 493 took 0.10 seconds\n",
      "epoch 493| loss: 0.18448 | val_0_accuracy: 0.90833 |  0:00:46s\n",
      "⏱️ Epoch 494 took 0.10 seconds\n",
      "epoch 494| loss: 0.15553 | val_0_accuracy: 0.90238 |  0:00:46s\n",
      "⏱️ Epoch 495 took 0.09 seconds\n",
      "epoch 495| loss: 0.13723 | val_0_accuracy: 0.89881 |  0:00:46s\n",
      "⏱️ Epoch 496 took 0.09 seconds\n",
      "epoch 496| loss: 0.1423  | val_0_accuracy: 0.89524 |  0:00:46s\n",
      "⏱️ Epoch 497 took 0.09 seconds\n",
      "epoch 497| loss: 0.14923 | val_0_accuracy: 0.8869  |  0:00:46s\n",
      "⏱️ Epoch 498 took 0.09 seconds\n",
      "epoch 498| loss: 0.14305 | val_0_accuracy: 0.89286 |  0:00:46s\n",
      "⏱️ Epoch 499 took 0.09 seconds\n",
      "epoch 499| loss: 0.13902 | val_0_accuracy: 0.9     |  0:00:47s\n",
      "⏱️ Epoch 500 took 0.09 seconds\n",
      "epoch 500| loss: 0.13039 | val_0_accuracy: 0.90238 |  0:00:47s\n",
      "⏱️ Epoch 501 took 0.09 seconds\n",
      "epoch 501| loss: 0.13376 | val_0_accuracy: 0.90119 |  0:00:47s\n",
      "⏱️ Epoch 502 took 0.09 seconds\n",
      "epoch 502| loss: 0.13618 | val_0_accuracy: 0.90714 |  0:00:47s\n",
      "⏱️ Epoch 503 took 0.09 seconds\n",
      "epoch 503| loss: 0.13108 | val_0_accuracy: 0.90714 |  0:00:47s\n",
      "⏱️ Epoch 504 took 0.09 seconds\n",
      "epoch 504| loss: 0.13172 | val_0_accuracy: 0.90714 |  0:00:47s\n",
      "⏱️ Epoch 505 took 0.10 seconds\n",
      "epoch 505| loss: 0.12835 | val_0_accuracy: 0.90476 |  0:00:47s\n",
      "⏱️ Epoch 506 took 0.09 seconds\n",
      "epoch 506| loss: 0.12922 | val_0_accuracy: 0.90714 |  0:00:47s\n",
      "⏱️ Epoch 507 took 0.09 seconds\n",
      "epoch 507| loss: 0.10997 | val_0_accuracy: 0.89524 |  0:00:47s\n",
      "⏱️ Epoch 508 took 0.09 seconds\n",
      "epoch 508| loss: 0.12517 | val_0_accuracy: 0.90833 |  0:00:47s\n",
      "⏱️ Epoch 509 took 0.09 seconds\n",
      "epoch 509| loss: 0.12628 | val_0_accuracy: 0.9131  |  0:00:47s\n",
      "⏱️ Epoch 510 took 0.09 seconds\n",
      "epoch 510| loss: 0.12714 | val_0_accuracy: 0.90119 |  0:00:48s\n",
      "⏱️ Epoch 511 took 0.09 seconds\n",
      "epoch 511| loss: 0.13121 | val_0_accuracy: 0.9     |  0:00:48s\n",
      "⏱️ Epoch 512 took 0.09 seconds\n",
      "epoch 512| loss: 0.11694 | val_0_accuracy: 0.91071 |  0:00:48s\n",
      "⏱️ Epoch 513 took 0.09 seconds\n",
      "epoch 513| loss: 0.13098 | val_0_accuracy: 0.91429 |  0:00:48s\n",
      "⏱️ Epoch 514 took 0.09 seconds\n",
      "epoch 514| loss: 0.1362  | val_0_accuracy: 0.90238 |  0:00:48s\n",
      "⏱️ Epoch 515 took 0.09 seconds\n",
      "epoch 515| loss: 0.11407 | val_0_accuracy: 0.90476 |  0:00:48s\n",
      "⏱️ Epoch 516 took 0.09 seconds\n",
      "epoch 516| loss: 0.1182  | val_0_accuracy: 0.9119  |  0:00:48s\n",
      "⏱️ Epoch 517 took 0.09 seconds\n",
      "epoch 517| loss: 0.12274 | val_0_accuracy: 0.89762 |  0:00:48s\n",
      "⏱️ Epoch 518 took 0.09 seconds\n",
      "epoch 518| loss: 0.13298 | val_0_accuracy: 0.89167 |  0:00:48s\n",
      "⏱️ Epoch 519 took 0.11 seconds\n",
      "epoch 519| loss: 0.13125 | val_0_accuracy: 0.90595 |  0:00:48s\n",
      "⏱️ Epoch 520 took 0.13 seconds\n",
      "epoch 520| loss: 0.13842 | val_0_accuracy: 0.90952 |  0:00:49s\n",
      "⏱️ Epoch 521 took 0.10 seconds\n",
      "epoch 521| loss: 0.11949 | val_0_accuracy: 0.89524 |  0:00:49s\n",
      "⏱️ Epoch 522 took 0.09 seconds\n",
      "epoch 522| loss: 0.11483 | val_0_accuracy: 0.90833 |  0:00:49s\n",
      "⏱️ Epoch 523 took 0.09 seconds\n",
      "epoch 523| loss: 0.13278 | val_0_accuracy: 0.90357 |  0:00:49s\n",
      "⏱️ Epoch 524 took 0.09 seconds\n",
      "epoch 524| loss: 0.12786 | val_0_accuracy: 0.90119 |  0:00:49s\n",
      "⏱️ Epoch 525 took 0.09 seconds\n",
      "epoch 525| loss: 0.13149 | val_0_accuracy: 0.89881 |  0:00:49s\n",
      "⏱️ Epoch 526 took 0.09 seconds\n",
      "epoch 526| loss: 0.1248  | val_0_accuracy: 0.87857 |  0:00:49s\n",
      "⏱️ Epoch 527 took 0.09 seconds\n",
      "epoch 527| loss: 0.10498 | val_0_accuracy: 0.90595 |  0:00:49s\n",
      "⏱️ Epoch 528 took 0.09 seconds\n",
      "epoch 528| loss: 0.11822 | val_0_accuracy: 0.90833 |  0:00:49s\n",
      "⏱️ Epoch 529 took 0.09 seconds\n",
      "epoch 529| loss: 0.10518 | val_0_accuracy: 0.89643 |  0:00:49s\n",
      "⏱️ Epoch 530 took 0.09 seconds\n",
      "epoch 530| loss: 0.10752 | val_0_accuracy: 0.90833 |  0:00:49s\n",
      "⏱️ Epoch 531 took 0.09 seconds\n",
      "epoch 531| loss: 0.10601 | val_0_accuracy: 0.89643 |  0:00:50s\n",
      "⏱️ Epoch 532 took 0.09 seconds\n",
      "epoch 532| loss: 0.10577 | val_0_accuracy: 0.90952 |  0:00:50s\n",
      "⏱️ Epoch 533 took 0.09 seconds\n",
      "epoch 533| loss: 0.10445 | val_0_accuracy: 0.90952 |  0:00:50s\n",
      "⏱️ Epoch 534 took 0.09 seconds\n",
      "epoch 534| loss: 0.11281 | val_0_accuracy: 0.90238 |  0:00:50s\n",
      "⏱️ Epoch 535 took 0.09 seconds\n",
      "epoch 535| loss: 0.1186  | val_0_accuracy: 0.90952 |  0:00:50s\n",
      "⏱️ Epoch 536 took 0.09 seconds\n",
      "epoch 536| loss: 0.12782 | val_0_accuracy: 0.90833 |  0:00:50s\n",
      "⏱️ Epoch 537 took 0.09 seconds\n",
      "epoch 537| loss: 0.12164 | val_0_accuracy: 0.9     |  0:00:50s\n",
      "⏱️ Epoch 538 took 0.09 seconds\n",
      "epoch 538| loss: 0.11338 | val_0_accuracy: 0.89881 |  0:00:50s\n",
      "⏱️ Epoch 539 took 0.08 seconds\n",
      "epoch 539| loss: 0.10752 | val_0_accuracy: 0.90714 |  0:00:50s\n",
      "⏱️ Epoch 540 took 0.09 seconds\n",
      "epoch 540| loss: 0.11306 | val_0_accuracy: 0.89762 |  0:00:50s\n",
      "⏱️ Epoch 541 took 0.09 seconds\n",
      "epoch 541| loss: 0.10701 | val_0_accuracy: 0.89167 |  0:00:50s\n",
      "⏱️ Epoch 542 took 0.09 seconds\n",
      "epoch 542| loss: 0.12311 | val_0_accuracy: 0.9     |  0:00:51s\n",
      "⏱️ Epoch 543 took 0.09 seconds\n",
      "epoch 543| loss: 0.11816 | val_0_accuracy: 0.89286 |  0:00:51s\n",
      "⏱️ Epoch 544 took 0.09 seconds\n",
      "epoch 544| loss: 0.10306 | val_0_accuracy: 0.90476 |  0:00:51s\n",
      "⏱️ Epoch 545 took 0.09 seconds\n",
      "epoch 545| loss: 0.12386 | val_0_accuracy: 0.91071 |  0:00:51s\n",
      "⏱️ Epoch 546 took 0.09 seconds\n",
      "epoch 546| loss: 0.11124 | val_0_accuracy: 0.9131  |  0:00:51s\n",
      "⏱️ Epoch 547 took 0.09 seconds\n",
      "epoch 547| loss: 0.1203  | val_0_accuracy: 0.90833 |  0:00:51s\n",
      "⏱️ Epoch 548 took 0.10 seconds\n",
      "epoch 548| loss: 0.12662 | val_0_accuracy: 0.9131  |  0:00:51s\n",
      "⏱️ Epoch 549 took 0.09 seconds\n",
      "epoch 549| loss: 0.1107  | val_0_accuracy: 0.89762 |  0:00:51s\n",
      "⏱️ Epoch 550 took 0.09 seconds\n",
      "epoch 550| loss: 0.11687 | val_0_accuracy: 0.90119 |  0:00:51s\n",
      "⏱️ Epoch 551 took 0.09 seconds\n",
      "epoch 551| loss: 0.10805 | val_0_accuracy: 0.89167 |  0:00:51s\n",
      "⏱️ Epoch 552 took 0.09 seconds\n",
      "epoch 552| loss: 0.10335 | val_0_accuracy: 0.90714 |  0:00:51s\n",
      "⏱️ Epoch 553 took 0.11 seconds\n",
      "epoch 553| loss: 0.11567 | val_0_accuracy: 0.90714 |  0:00:52s\n",
      "⏱️ Epoch 554 took 0.09 seconds\n",
      "epoch 554| loss: 0.12267 | val_0_accuracy: 0.90833 |  0:00:52s\n",
      "⏱️ Epoch 555 took 0.10 seconds\n",
      "epoch 555| loss: 0.11328 | val_0_accuracy: 0.9131  |  0:00:52s\n",
      "⏱️ Epoch 556 took 0.09 seconds\n",
      "epoch 556| loss: 0.10939 | val_0_accuracy: 0.90714 |  0:00:52s\n",
      "⏱️ Epoch 557 took 0.09 seconds\n",
      "epoch 557| loss: 0.10329 | val_0_accuracy: 0.90357 |  0:00:52s\n",
      "⏱️ Epoch 558 took 0.09 seconds\n",
      "epoch 558| loss: 0.10308 | val_0_accuracy: 0.89524 |  0:00:52s\n",
      "⏱️ Epoch 559 took 0.09 seconds\n",
      "epoch 559| loss: 0.11612 | val_0_accuracy: 0.89762 |  0:00:52s\n",
      "⏱️ Epoch 560 took 0.10 seconds\n",
      "epoch 560| loss: 0.11251 | val_0_accuracy: 0.90714 |  0:00:52s\n",
      "⏱️ Epoch 561 took 0.10 seconds\n",
      "epoch 561| loss: 0.10564 | val_0_accuracy: 0.90238 |  0:00:52s\n",
      "⏱️ Epoch 562 took 0.10 seconds\n",
      "epoch 562| loss: 0.12986 | val_0_accuracy: 0.90238 |  0:00:52s\n",
      "⏱️ Epoch 563 took 0.10 seconds\n",
      "epoch 563| loss: 0.10318 | val_0_accuracy: 0.90595 |  0:00:53s\n",
      "⏱️ Epoch 564 took 0.10 seconds\n",
      "epoch 564| loss: 0.12599 | val_0_accuracy: 0.90833 |  0:00:53s\n",
      "⏱️ Epoch 565 took 0.09 seconds\n",
      "epoch 565| loss: 0.13403 | val_0_accuracy: 0.8869  |  0:00:53s\n",
      "⏱️ Epoch 566 took 0.09 seconds\n",
      "epoch 566| loss: 0.12031 | val_0_accuracy: 0.89048 |  0:00:53s\n",
      "⏱️ Epoch 567 took 0.11 seconds\n",
      "epoch 567| loss: 0.11692 | val_0_accuracy: 0.89762 |  0:00:53s\n",
      "⏱️ Epoch 568 took 0.10 seconds\n",
      "epoch 568| loss: 0.1316  | val_0_accuracy: 0.89286 |  0:00:53s\n",
      "⏱️ Epoch 569 took 0.09 seconds\n",
      "epoch 569| loss: 0.12107 | val_0_accuracy: 0.89167 |  0:00:53s\n",
      "⏱️ Epoch 570 took 0.09 seconds\n",
      "epoch 570| loss: 0.11799 | val_0_accuracy: 0.89881 |  0:00:53s\n",
      "⏱️ Epoch 571 took 0.10 seconds\n",
      "epoch 571| loss: 0.106   | val_0_accuracy: 0.89881 |  0:00:53s\n",
      "⏱️ Epoch 572 took 0.09 seconds\n",
      "epoch 572| loss: 0.10482 | val_0_accuracy: 0.88571 |  0:00:53s\n",
      "⏱️ Epoch 573 took 0.09 seconds\n",
      "epoch 573| loss: 0.11221 | val_0_accuracy: 0.90119 |  0:00:53s\n",
      "⏱️ Epoch 574 took 0.09 seconds\n",
      "epoch 574| loss: 0.1162  | val_0_accuracy: 0.89762 |  0:00:54s\n",
      "⏱️ Epoch 575 took 0.09 seconds\n",
      "epoch 575| loss: 0.107   | val_0_accuracy: 0.9     |  0:00:54s\n",
      "⏱️ Epoch 576 took 0.09 seconds\n",
      "epoch 576| loss: 0.1047  | val_0_accuracy: 0.89762 |  0:00:54s\n",
      "⏱️ Epoch 577 took 0.10 seconds\n",
      "epoch 577| loss: 0.11972 | val_0_accuracy: 0.9     |  0:00:54s\n",
      "⏱️ Epoch 578 took 0.09 seconds\n",
      "epoch 578| loss: 0.1273  | val_0_accuracy: 0.90238 |  0:00:54s\n",
      "⏱️ Epoch 579 took 0.09 seconds\n",
      "epoch 579| loss: 0.12162 | val_0_accuracy: 0.89881 |  0:00:54s\n",
      "⏱️ Epoch 580 took 0.09 seconds\n",
      "epoch 580| loss: 0.13659 | val_0_accuracy: 0.88452 |  0:00:54s\n",
      "⏱️ Epoch 581 took 0.09 seconds\n",
      "epoch 581| loss: 0.1063  | val_0_accuracy: 0.91071 |  0:00:54s\n",
      "⏱️ Epoch 582 took 0.09 seconds\n",
      "epoch 582| loss: 0.10598 | val_0_accuracy: 0.90357 |  0:00:54s\n",
      "⏱️ Epoch 583 took 0.09 seconds\n",
      "epoch 583| loss: 0.11415 | val_0_accuracy: 0.90714 |  0:00:54s\n",
      "⏱️ Epoch 584 took 0.09 seconds\n",
      "epoch 584| loss: 0.10852 | val_0_accuracy: 0.9     |  0:00:54s\n",
      "⏱️ Epoch 585 took 0.10 seconds\n",
      "epoch 585| loss: 0.12093 | val_0_accuracy: 0.89286 |  0:00:55s\n",
      "⏱️ Epoch 586 took 0.09 seconds\n",
      "epoch 586| loss: 0.12528 | val_0_accuracy: 0.89286 |  0:00:55s\n",
      "⏱️ Epoch 587 took 0.09 seconds\n",
      "epoch 587| loss: 0.11187 | val_0_accuracy: 0.89643 |  0:00:55s\n",
      "⏱️ Epoch 588 took 0.09 seconds\n",
      "epoch 588| loss: 0.11606 | val_0_accuracy: 0.90357 |  0:00:55s\n",
      "⏱️ Epoch 589 took 0.09 seconds\n",
      "epoch 589| loss: 0.10413 | val_0_accuracy: 0.89643 |  0:00:55s\n",
      "⏱️ Epoch 590 took 0.09 seconds\n",
      "epoch 590| loss: 0.12084 | val_0_accuracy: 0.90238 |  0:00:55s\n",
      "⏱️ Epoch 591 took 0.10 seconds\n",
      "epoch 591| loss: 0.10786 | val_0_accuracy: 0.90714 |  0:00:55s\n",
      "⏱️ Epoch 592 took 0.09 seconds\n",
      "epoch 592| loss: 0.09959 | val_0_accuracy: 0.90476 |  0:00:55s\n",
      "⏱️ Epoch 593 took 0.09 seconds\n",
      "epoch 593| loss: 0.10236 | val_0_accuracy: 0.90119 |  0:00:55s\n",
      "⏱️ Epoch 594 took 0.09 seconds\n",
      "epoch 594| loss: 0.12079 | val_0_accuracy: 0.8869  |  0:00:55s\n",
      "⏱️ Epoch 595 took 0.09 seconds\n",
      "epoch 595| loss: 0.13103 | val_0_accuracy: 0.87619 |  0:00:55s\n",
      "⏱️ Epoch 596 took 0.09 seconds\n",
      "epoch 596| loss: 0.105   | val_0_accuracy: 0.88929 |  0:00:56s\n",
      "⏱️ Epoch 597 took 0.09 seconds\n",
      "epoch 597| loss: 0.13038 | val_0_accuracy: 0.90714 |  0:00:56s\n",
      "⏱️ Epoch 598 took 0.09 seconds\n",
      "epoch 598| loss: 0.10789 | val_0_accuracy: 0.90238 |  0:00:56s\n",
      "⏱️ Epoch 599 took 0.23 seconds\n",
      "epoch 599| loss: 0.12052 | val_0_accuracy: 0.90238 |  0:00:56s\n",
      "⏱️ Epoch 600 took 0.09 seconds\n",
      "epoch 600| loss: 0.10606 | val_0_accuracy: 0.90952 |  0:00:56s\n",
      "⏱️ Epoch 601 took 0.09 seconds\n",
      "epoch 601| loss: 0.10112 | val_0_accuracy: 0.89881 |  0:00:56s\n",
      "⏱️ Epoch 602 took 0.09 seconds\n",
      "epoch 602| loss: 0.109   | val_0_accuracy: 0.89762 |  0:00:56s\n",
      "⏱️ Epoch 603 took 0.09 seconds\n",
      "epoch 603| loss: 0.11721 | val_0_accuracy: 0.90833 |  0:00:56s\n",
      "⏱️ Epoch 604 took 0.11 seconds\n",
      "epoch 604| loss: 0.11306 | val_0_accuracy: 0.9     |  0:00:56s\n",
      "⏱️ Epoch 605 took 0.10 seconds\n",
      "epoch 605| loss: 0.1059  | val_0_accuracy: 0.90476 |  0:00:57s\n",
      "⏱️ Epoch 606 took 0.09 seconds\n",
      "epoch 606| loss: 0.11111 | val_0_accuracy: 0.89762 |  0:00:57s\n",
      "⏱️ Epoch 607 took 0.09 seconds\n",
      "epoch 607| loss: 0.10867 | val_0_accuracy: 0.90714 |  0:00:57s\n",
      "⏱️ Epoch 608 took 0.10 seconds\n",
      "epoch 608| loss: 0.10938 | val_0_accuracy: 0.89643 |  0:00:57s\n",
      "⏱️ Epoch 609 took 0.10 seconds\n",
      "epoch 609| loss: 0.11153 | val_0_accuracy: 0.9119  |  0:00:57s\n",
      "⏱️ Epoch 610 took 0.11 seconds\n",
      "epoch 610| loss: 0.1144  | val_0_accuracy: 0.90476 |  0:00:57s\n",
      "⏱️ Epoch 611 took 0.10 seconds\n",
      "epoch 611| loss: 0.12649 | val_0_accuracy: 0.90238 |  0:00:57s\n",
      "⏱️ Epoch 612 took 0.09 seconds\n",
      "epoch 612| loss: 0.13222 | val_0_accuracy: 0.88452 |  0:00:57s\n",
      "⏱️ Epoch 613 took 0.09 seconds\n",
      "epoch 613| loss: 0.13113 | val_0_accuracy: 0.90476 |  0:00:57s\n",
      "⏱️ Epoch 614 took 0.09 seconds\n",
      "epoch 614| loss: 0.12055 | val_0_accuracy: 0.89048 |  0:00:57s\n",
      "⏱️ Epoch 615 took 0.09 seconds\n",
      "epoch 615| loss: 0.14359 | val_0_accuracy: 0.90833 |  0:00:58s\n",
      "⏱️ Epoch 616 took 0.09 seconds\n",
      "epoch 616| loss: 0.1294  | val_0_accuracy: 0.90476 |  0:00:58s\n",
      "⏱️ Epoch 617 took 0.09 seconds\n",
      "epoch 617| loss: 0.12839 | val_0_accuracy: 0.8881  |  0:00:58s\n",
      "⏱️ Epoch 618 took 0.09 seconds\n",
      "epoch 618| loss: 0.14682 | val_0_accuracy: 0.9     |  0:00:58s\n",
      "⏱️ Epoch 619 took 0.09 seconds\n",
      "epoch 619| loss: 0.13796 | val_0_accuracy: 0.90357 |  0:00:58s\n",
      "⏱️ Epoch 620 took 0.09 seconds\n",
      "epoch 620| loss: 0.13972 | val_0_accuracy: 0.90595 |  0:00:58s\n",
      "⏱️ Epoch 621 took 0.09 seconds\n",
      "\n",
      "Early stopping occurred at epoch 620 with best_epoch = 420 and best_val_0_accuracy = 0.92262\n"
     ]
    }
   ],
   "source": [
    "Xtrain, Ytrain, Xtest, Ytest, Ytest_decoded, le = split_data(traindata, testdata)\n",
    "best_tabnet_params = find_best_tabnet(Xtrain, Ytrain)\n",
    "\n",
    "from sklearn.model_selection import train_test_split\n",
    "\n",
    "# Split 80% train, 20% validation\n",
    "X_tr, X_val, y_tr, y_val = train_test_split(\n",
    "    Xtrain, Ytrain,\n",
    "    test_size=0.2,\n",
    "    random_state=42,\n",
    "    stratify=Ytrain\n",
    ")\n",
    "\n",
    "# Re-initialize TabNet with best params\n",
    "final_model = TabNetClassifier(\n",
    "    **{k: v for k, v in best_tabnet_params.items()},\n",
    "    verbose=1,\n",
    "    seed=42\n",
    ")\n",
    "\n",
    "epoch_timer = EpochTimer()\n",
    "\n",
    "# Retrain on full training data\n",
    "final_model.fit(\n",
    "    X_tr, y_tr,\n",
    "    eval_set=[(X_val, y_val)],\n",
    "    max_epochs=1000,\n",
    "    patience=200,\n",
    "    batch_size=1024,\n",
    "    virtual_batch_size=128,\n",
    "    callbacks=[epoch_timer]\n",
    ")\n",
    "\n"
   ]
  },
  {
   "cell_type": "code",
   "execution_count": 12,
   "metadata": {},
   "outputs": [],
   "source": [
    "_, _, _, _, _, le = split_data(traindata, testdata)\n"
   ]
  },
  {
   "cell_type": "code",
   "execution_count": 13,
   "metadata": {},
   "outputs": [],
   "source": [
    "import os\n",
    "from sklearn.metrics import accuracy_score, precision_score, recall_score, f1_score, roc_auc_score\n",
    "\n",
    "file_path = os.path.join(\"results\", f\"gtd{partition}.txt\")\n",
    "\n",
    "# Predict class indices for test set\n",
    "y_pred = final_model.predict(Xtest)\n",
    "y_proba = final_model.predict_proba(Xtest)\n",
    "y_pred_decoded = le.inverse_transform(y_pred)\n",
    "y_true_decoded = le.inverse_transform(Ytest)\n",
    "\n",
    "# Make sure the directory exists\n",
    "os.makedirs(\"results\", exist_ok=True)\n",
    "\n",
    "# Compute accuracy from decoded labels\n",
    "acc = accuracy_score(y_true_decoded, y_pred_decoded)\n",
    "\n",
    "# Write metrics to file\n",
    "with open(file_path, \"w\") as file:\n",
    "    file.write(f\"Accuracy: {acc:.4f}\\n\")\n",
    "    file.write(f\"Precision weighted: {precision_score(y_true_decoded, y_pred_decoded, average='weighted'):.4f}\\n\")\n",
    "    file.write(f\"Recall weighted: {recall_score(y_true_decoded, y_pred_decoded, average='weighted'):.4f}\\n\")\n",
    "    file.write(f\"F1 Score weighted: {f1_score(y_true_decoded, y_pred_decoded, average='weighted'):.4f}\\n\")\n",
    "    file.write(f\"Precision micro: {precision_score(y_true_decoded, y_pred_decoded, average='micro'):.4f}\\n\")\n",
    "    file.write(f\"Recall micro: {recall_score(y_true_decoded, y_pred_decoded, average='micro'):.4f}\\n\")\n",
    "    file.write(f\"F1 Score micro: {f1_score(y_true_decoded, y_pred_decoded, average='micro'):.4f}\\n\")\n",
    "    file.write(f\"Precision macro: {precision_score(y_true_decoded, y_pred_decoded, average='macro'):.4f}\\n\")\n",
    "    file.write(f\"Recall macro: {recall_score(y_true_decoded, y_pred_decoded, average='macro'):.4f}\\n\")\n",
    "    file.write(f\"F1 Score macro: {f1_score(y_true_decoded, y_pred_decoded, average='macro'):.4f}\\n\")\n",
    "    file.write(f\"roc auc weighted: {roc_auc_score(y_true_decoded, y_proba, multi_class='ovr', average='weighted'):.4f}\\n\")\n",
    "    file.write(f\"roc auc macro: {roc_auc_score(y_true_decoded, y_proba, multi_class='ovr', average='macro'):.4f}\\n\")\n",
    "    file.write(f\"roc auc micro: {roc_auc_score(y_true_decoded, y_proba, multi_class='ovr', average='micro'):.4f}\\n\")\n",
    "\n",
    "with open(f\"results/epoch_time_gtd{partition}.txt\", \"w\") as f:\n",
    "    f.write('\\n'.join(str(x) for x in epoch_timer.epoch_times))\n",
    "\n"
   ]
  },
  {
   "cell_type": "code",
   "execution_count": 14,
   "metadata": {},
   "outputs": [
    {
     "name": "stdout",
     "output_type": "stream",
     "text": [
      "                                                  precision    recall  f1-score   support\n",
      "\n",
      "                          Abu Sayyaf Group (ASG)       0.88      0.98      0.93        60\n",
      "        African National Congress (South Africa)       1.00      1.00      1.00        60\n",
      "                                Al-Qaida in Iraq       0.67      0.83      0.74        60\n",
      "        Al-Qaida in the Arabian Peninsula (AQAP)       0.82      0.90      0.86        60\n",
      "                                      Al-Shabaab       1.00      0.98      0.99        60\n",
      "             Basque Fatherland and Freedom (ETA)       0.91      0.98      0.94        60\n",
      "                                      Boko Haram       0.90      0.90      0.90        60\n",
      "  Communist Party of India - Maoist (CPI-Maoist)       0.95      0.92      0.93        60\n",
      "       Corsican National Liberation Front (FLNC)       0.98      0.95      0.97        60\n",
      "                       Donetsk People's Republic       1.00      1.00      1.00        60\n",
      "Farabundo Marti National Liberation Front (FMLN)       0.94      1.00      0.97        60\n",
      "                               Fulani extremists       0.89      0.90      0.89        60\n",
      "                 Houthi extremists (Ansar Allah)       0.89      0.85      0.87        60\n",
      "                     Irish Republican Army (IRA)       0.95      1.00      0.98        60\n",
      "     Islamic State of Iraq and the Levant (ISIL)       0.68      0.50      0.58        60\n",
      "                  Kurdistan Workers' Party (PKK)       0.85      0.83      0.84        60\n",
      "         Liberation Tigers of Tamil Eelam (LTTE)       1.00      1.00      1.00        60\n",
      "         Manuel Rodriguez Patriotic Front (FPMR)       1.00      1.00      1.00        60\n",
      "                                         Maoists       0.91      0.97      0.94        60\n",
      "                               Muslim extremists       0.89      0.65      0.75        60\n",
      "      National Liberation Army of Colombia (ELN)       0.87      0.98      0.92        60\n",
      "                         New People's Army (NPA)       0.98      0.85      0.91        60\n",
      "               Nicaraguan Democratic Force (FDN)       1.00      0.93      0.97        60\n",
      "                                    Palestinians       0.93      0.95      0.94        60\n",
      "   Revolutionary Armed Forces of Colombia (FARC)       0.98      0.85      0.91        60\n",
      "                               Shining Path (SL)       0.93      0.88      0.91        60\n",
      "                                 Sikh Extremists       0.97      0.95      0.96        60\n",
      "                                         Taliban       0.78      0.87      0.82        60\n",
      "                 Tehrik-i-Taliban Pakistan (TTP)       0.79      0.80      0.79        60\n",
      "       Tupac Amaru Revolutionary Movement (MRTA)       0.89      0.93      0.91        60\n",
      "\n",
      "                                        accuracy                           0.91      1800\n",
      "                                       macro avg       0.91      0.91      0.90      1800\n",
      "                                    weighted avg       0.91      0.91      0.90      1800\n",
      "\n"
     ]
    }
   ],
   "source": [
    "print(classification_report(Ytest_decoded, y_pred_decoded))"
   ]
  },
  {
   "cell_type": "code",
   "execution_count": 15,
   "metadata": {},
   "outputs": [],
   "source": [
    "def plot_confusion_matrix(y_true, y_pred, labels):\n",
    "    from sklearn.metrics import confusion_matrix\n",
    "    import matplotlib.pyplot as plt\n",
    "    import seaborn as sns\n",
    "    import numpy as np\n",
    "\n",
    "    cm = confusion_matrix(y_true, y_pred, labels=labels)\n",
    "    cm_normalized = cm.astype('float') / cm.sum(axis=1, keepdims=True)\n",
    "\n",
    "    plt.figure(figsize=(18, 16))\n",
    "    sns.heatmap(cm_normalized,\n",
    "                annot=True,\n",
    "                fmt=\".2f\",\n",
    "                xticklabels=labels,\n",
    "                yticklabels=labels,\n",
    "                cmap=\"viridis\",\n",
    "                square=True,\n",
    "                linewidths=0.5,\n",
    "                cbar_kws={\"shrink\": 0.8})\n",
    "\n",
    "    plt.title(f\"Normalized Confusion Matrix\", fontsize=18)\n",
    "    plt.xlabel(\"Predicted Label\", fontsize=14)\n",
    "    plt.ylabel(\"True Label\", fontsize=14)\n",
    "    plt.xticks(rotation=90)\n",
    "    plt.yticks(rotation=0)\n",
    "    plt.tight_layout()\n",
    "\n",
    "    # Save the figure\n",
    "    save_path = f\"results/confusion_matrix_partition_{partition}.png\"\n",
    "    plt.savefig(save_path, dpi=300)\n",
    "    plt.close()\n",
    "\n",
    "    print(f\"Saved confusion matrix for partition {partition} to {save_path}\")\n"
   ]
  },
  {
   "cell_type": "code",
   "execution_count": 16,
   "metadata": {},
   "outputs": [
    {
     "name": "stdout",
     "output_type": "stream",
     "text": [
      "Saved confusion matrix for partition 200 to results/confusion_matrix_partition_200.png\n"
     ]
    }
   ],
   "source": [
    "# Get all unique class labels from the truths\n",
    "class_labels = np.unique(Ytest_decoded)\n",
    "\n",
    "plot_confusion_matrix(Ytest_decoded, y_pred_decoded, labels=class_labels)\n",
    "\n"
   ]
  }
 ],
 "metadata": {
  "kernelspec": {
   "display_name": "Python (TabNet)",
   "language": "python",
   "name": "tabnet-env"
  },
  "language_info": {
   "codemirror_mode": {
    "name": "ipython",
    "version": 3
   },
   "file_extension": ".py",
   "mimetype": "text/x-python",
   "name": "python",
   "nbconvert_exporter": "python",
   "pygments_lexer": "ipython3",
   "version": "3.11.9"
  }
 },
 "nbformat": 4,
 "nbformat_minor": 2
}
