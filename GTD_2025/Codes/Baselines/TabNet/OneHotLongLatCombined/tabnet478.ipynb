{
 "cells": [
  {
   "cell_type": "code",
   "execution_count": 1,
   "metadata": {},
   "outputs": [],
   "source": [
    "import warnings\n",
    "warnings.filterwarnings( 'ignore' )\n",
    "import pandas as pd\n",
    "import numpy as np\n",
    "import matplotlib.pyplot as plt\n",
    "import seaborn as sns\n",
    "from sklearn.metrics import accuracy_score, classification_report, confusion_matrix\n",
    "from sklearn.model_selection import RandomizedSearchCV, GridSearchCV, TimeSeriesSplit\n",
    "from sklearn.ensemble import GradientBoostingClassifier, RandomForestClassifier\n",
    "from sklearn.neural_network import MLPClassifier\n",
    "from sklearn.impute import SimpleImputer\n",
    "import sys"
   ]
  },
  {
   "cell_type": "code",
   "execution_count": 2,
   "metadata": {},
   "outputs": [],
   "source": [
    "partition = 478"
   ]
  },
  {
   "cell_type": "code",
   "execution_count": 3,
   "metadata": {},
   "outputs": [
    {
     "name": "stdout",
     "output_type": "stream",
     "text": [
      "Requirement already satisfied: pytorch-tabnet in /opt/conda/lib/python3.11/site-packages (4.1.0)\n",
      "Requirement already satisfied: numpy>=1.17 in /opt/conda/lib/python3.11/site-packages (from pytorch-tabnet) (1.26.4)\n",
      "Requirement already satisfied: scikit_learn>0.21 in /opt/conda/lib/python3.11/site-packages (from pytorch-tabnet) (1.5.0)\n",
      "Requirement already satisfied: scipy>1.4 in /opt/conda/lib/python3.11/site-packages (from pytorch-tabnet) (1.14.0)\n",
      "Requirement already satisfied: torch>=1.3 in /opt/conda/lib/python3.11/site-packages (from pytorch-tabnet) (2.3.1)\n",
      "Requirement already satisfied: tqdm>=4.36 in /opt/conda/lib/python3.11/site-packages (from pytorch-tabnet) (4.66.4)\n",
      "Requirement already satisfied: joblib>=1.2.0 in /opt/conda/lib/python3.11/site-packages (from scikit_learn>0.21->pytorch-tabnet) (1.4.2)\n",
      "Requirement already satisfied: threadpoolctl>=3.1.0 in /opt/conda/lib/python3.11/site-packages (from scikit_learn>0.21->pytorch-tabnet) (3.5.0)\n",
      "Requirement already satisfied: filelock in /opt/conda/lib/python3.11/site-packages (from torch>=1.3->pytorch-tabnet) (3.15.4)\n",
      "Requirement already satisfied: typing-extensions>=4.8.0 in /opt/conda/lib/python3.11/site-packages (from torch>=1.3->pytorch-tabnet) (4.12.2)\n",
      "Requirement already satisfied: sympy in /opt/conda/lib/python3.11/site-packages (from torch>=1.3->pytorch-tabnet) (1.12.1)\n",
      "Requirement already satisfied: networkx in /opt/conda/lib/python3.11/site-packages (from torch>=1.3->pytorch-tabnet) (3.3)\n",
      "Requirement already satisfied: jinja2 in /opt/conda/lib/python3.11/site-packages (from torch>=1.3->pytorch-tabnet) (3.1.4)\n",
      "Requirement already satisfied: fsspec in /opt/conda/lib/python3.11/site-packages (from torch>=1.3->pytorch-tabnet) (2024.5.0)\n",
      "Requirement already satisfied: nvidia-cuda-nvrtc-cu12==12.1.105 in /opt/conda/lib/python3.11/site-packages (from torch>=1.3->pytorch-tabnet) (12.1.105)\n",
      "Requirement already satisfied: nvidia-cuda-runtime-cu12==12.1.105 in /opt/conda/lib/python3.11/site-packages (from torch>=1.3->pytorch-tabnet) (12.1.105)\n",
      "Requirement already satisfied: nvidia-cuda-cupti-cu12==12.1.105 in /opt/conda/lib/python3.11/site-packages (from torch>=1.3->pytorch-tabnet) (12.1.105)\n",
      "Requirement already satisfied: nvidia-cudnn-cu12==8.9.2.26 in /opt/conda/lib/python3.11/site-packages (from torch>=1.3->pytorch-tabnet) (8.9.2.26)\n",
      "Requirement already satisfied: nvidia-cublas-cu12==12.1.3.1 in /opt/conda/lib/python3.11/site-packages (from torch>=1.3->pytorch-tabnet) (12.1.3.1)\n",
      "Requirement already satisfied: nvidia-cufft-cu12==11.0.2.54 in /opt/conda/lib/python3.11/site-packages (from torch>=1.3->pytorch-tabnet) (11.0.2.54)\n",
      "Requirement already satisfied: nvidia-curand-cu12==10.3.2.106 in /opt/conda/lib/python3.11/site-packages (from torch>=1.3->pytorch-tabnet) (10.3.2.106)\n",
      "Requirement already satisfied: nvidia-cusolver-cu12==11.4.5.107 in /opt/conda/lib/python3.11/site-packages (from torch>=1.3->pytorch-tabnet) (11.4.5.107)\n",
      "Requirement already satisfied: nvidia-cusparse-cu12==12.1.0.106 in /opt/conda/lib/python3.11/site-packages (from torch>=1.3->pytorch-tabnet) (12.1.0.106)\n",
      "Requirement already satisfied: nvidia-nccl-cu12==2.20.5 in /opt/conda/lib/python3.11/site-packages (from torch>=1.3->pytorch-tabnet) (2.20.5)\n",
      "Requirement already satisfied: nvidia-nvtx-cu12==12.1.105 in /opt/conda/lib/python3.11/site-packages (from torch>=1.3->pytorch-tabnet) (12.1.105)\n",
      "Requirement already satisfied: triton==2.3.1 in /opt/conda/lib/python3.11/site-packages (from torch>=1.3->pytorch-tabnet) (2.3.1)\n",
      "Requirement already satisfied: nvidia-nvjitlink-cu12 in /opt/conda/lib/python3.11/site-packages (from nvidia-cusolver-cu12==11.4.5.107->torch>=1.3->pytorch-tabnet) (12.3.101)\n",
      "Requirement already satisfied: MarkupSafe>=2.0 in /opt/conda/lib/python3.11/site-packages (from jinja2->torch>=1.3->pytorch-tabnet) (2.1.5)\n",
      "Requirement already satisfied: mpmath<1.4.0,>=1.1.0 in /opt/conda/lib/python3.11/site-packages (from sympy->torch>=1.3->pytorch-tabnet) (1.3.0)\n",
      "\n",
      "\u001b[1m[\u001b[0m\u001b[34;49mnotice\u001b[0m\u001b[1;39;49m]\u001b[0m\u001b[39;49m A new release of pip is available: \u001b[0m\u001b[31;49m24.1.2\u001b[0m\u001b[39;49m -> \u001b[0m\u001b[32;49m25.1.1\u001b[0m\n",
      "\u001b[1m[\u001b[0m\u001b[34;49mnotice\u001b[0m\u001b[1;39;49m]\u001b[0m\u001b[39;49m To update, run: \u001b[0m\u001b[32;49mpip install --upgrade pip\u001b[0m\n"
     ]
    }
   ],
   "source": [
    "!{sys.executable} -m pip install pytorch-tabnet --upgrade"
   ]
  },
  {
   "cell_type": "code",
   "execution_count": 4,
   "metadata": {},
   "outputs": [],
   "source": [
    "trainpath = f'../../../../data/top30groups/OneHotLongLatCombined/train1/train{partition}.csv'\n",
    "testpath = f'../../../../data/top30groups/OneHotLongLatCombined/test1/test{partition}.csv'\n",
    "\n",
    "traindata = pd.read_csv(trainpath, encoding='ISO-8859-1')\n",
    "testdata = pd.read_csv(testpath, encoding='ISO-8859-1')"
   ]
  },
  {
   "cell_type": "code",
   "execution_count": 5,
   "metadata": {},
   "outputs": [
    {
     "name": "stdout",
     "output_type": "stream",
     "text": [
      "True\n"
     ]
    }
   ],
   "source": [
    "import torch\n",
    "print(torch.cuda.is_available())"
   ]
  },
  {
   "cell_type": "code",
   "execution_count": 6,
   "metadata": {},
   "outputs": [],
   "source": [
    "import torch\n",
    "torch.cuda.empty_cache()\n"
   ]
  },
  {
   "cell_type": "code",
   "execution_count": 7,
   "metadata": {},
   "outputs": [],
   "source": [
    "import torch\n",
    "from sklearn.preprocessing import LabelEncoder\n",
    "from sklearn.model_selection import train_test_split\n",
    "\n",
    "from sklearn.preprocessing import LabelEncoder\n",
    "\n",
    "def split_data(dftrain, dftest):\n",
    "    Xtrain = dftrain.drop(columns=['gname']).values.astype(float)\n",
    "    Ytrain = dftrain['gname'].values\n",
    "    Xtest = dftest.drop(columns=['gname']).values.astype(float)\n",
    "    Ytest = dftest['gname'].values\n",
    "\n",
    "    le = LabelEncoder()\n",
    "    Ytrain = le.fit_transform(Ytrain)\n",
    "    Ytest = le.transform(Ytest)\n",
    "\n",
    "    #y_pred_decoded = model.label_encoder.inverse_transform(y_pred)\n",
    "    y_true_decoded = le.inverse_transform(Ytest)\n",
    "\n",
    "    return Xtrain, Ytrain, Xtest, Ytest, y_true_decoded, le\n",
    "\n"
   ]
  },
  {
   "cell_type": "code",
   "execution_count": 8,
   "metadata": {},
   "outputs": [],
   "source": [
    "from sklearn.base import BaseEstimator, ClassifierMixin\n",
    "import numpy as np\n",
    "from pytorch_tabnet.tab_model import TabNetClassifier\n",
    "\n",
    "class TabNetClassifierWrapper(BaseEstimator, ClassifierMixin):\n",
    "    def __init__(self, n_d=8, n_a=8, n_steps=3, gamma=1.3, lambda_sparse=1e-3, optimizer_params=None):\n",
    "        self.n_d = n_d\n",
    "        self.n_a = n_a\n",
    "        self.n_steps = n_steps\n",
    "        self.gamma = gamma\n",
    "        self.lambda_sparse = lambda_sparse\n",
    "        self.optimizer_params = optimizer_params or {'lr': 0.01}\n",
    "        self.model = None\n",
    "\n",
    "    def fit(self, X, y):\n",
    "        self.model = TabNetClassifier(\n",
    "            n_d=self.n_d,\n",
    "            n_a=self.n_a,\n",
    "            n_steps=self.n_steps,\n",
    "            gamma=self.gamma,\n",
    "            lambda_sparse=self.lambda_sparse,\n",
    "            optimizer_params=self.optimizer_params,\n",
    "            seed=42,\n",
    "            verbose=0\n",
    "        )\n",
    "\n",
    "        self.model.fit(\n",
    "            X, y,\n",
    "            eval_set=[(X, y)],\n",
    "            max_epochs=200,\n",
    "            patience=20,\n",
    "            batch_size=1024,\n",
    "            virtual_batch_size=128,\n",
    "            eval_metric=['accuracy']\n",
    "        )\n",
    "\n",
    "        self.classes_ = np.unique(y)  # ✅ Needed for sklearn compatibility\n",
    "        return self\n",
    "\n",
    "    def predict(self, X):\n",
    "        return self.model.predict(X)\n",
    "\n",
    "    def score(self, X, y):\n",
    "        preds = self.predict(X)\n",
    "        return (preds == y).mean()\n"
   ]
  },
  {
   "cell_type": "code",
   "execution_count": 9,
   "metadata": {},
   "outputs": [],
   "source": [
    "#from pytorch_tabnet.sklearn import TabNetClassifier\n",
    "from sklearn.model_selection import GridSearchCV\n",
    "from sklearn.preprocessing import LabelEncoder\n",
    "from sklearn.pipeline import Pipeline\n",
    "from sklearn.model_selection import StratifiedKFold\n",
    "from pytorch_tabnet.tab_model import TabNetClassifier, TabNetRegressor\n",
    "\n",
    "def find_best_tabnet(Xtrain, Ytrain, n_iter=20):\n",
    "    print(\"Starting TabNet grid search\")\n",
    "    print(\"CUDA available:\", torch.cuda.is_available())\n",
    "\n",
    "    param_dist = {\n",
    "        'n_d': [8, 16, 24],\n",
    "        'n_a': [8, 16, 24],\n",
    "        'n_steps': [3, 4, 5],\n",
    "        'gamma': [1.0, 1.3, 1.5],\n",
    "        'lambda_sparse': [1e-4, 1e-3, 1e-2],\n",
    "        'optimizer_params': [{'lr': 0.01}]\n",
    "    }\n",
    "\n",
    "    random_search = RandomizedSearchCV(\n",
    "        estimator=TabNetClassifierWrapper(),\n",
    "        param_distributions=param_dist,\n",
    "        n_iter=n_iter,\n",
    "        cv=StratifiedKFold(n_splits=5, shuffle=True, random_state=42),\n",
    "        scoring='accuracy',\n",
    "        verbose=1,\n",
    "        n_jobs=-1,\n",
    "        random_state=42\n",
    "    )\n",
    "\n",
    "    random_search.fit(Xtrain, Ytrain)\n",
    "    print(\"Best parameters:\", random_search.best_params_)\n",
    "    print(\"Best accuracy:\", random_search.best_score_)\n",
    "\n",
    "    return random_search.best_params_\n",
    "\n"
   ]
  },
  {
   "cell_type": "code",
   "execution_count": 10,
   "metadata": {},
   "outputs": [
    {
     "name": "stdout",
     "output_type": "stream",
     "text": [
      "Starting TabNet grid search\n",
      "CUDA available: True\n",
      "Fitting 5 folds for each of 20 candidates, totalling 100 fits\n",
      "\n",
      "Early stopping occurred at epoch 113 with best_epoch = 93 and best_val_0_accuracy = 0.92677\n"
     ]
    },
    {
     "name": "stderr",
     "output_type": "stream",
     "text": [
      "/opt/conda/lib/python3.11/site-packages/pytorch_tabnet/callbacks.py:172: UserWarning: Best weights from best epoch are automatically used!\n",
      "  warnings.warn(wrn_msg)\n"
     ]
    },
    {
     "name": "stdout",
     "output_type": "stream",
     "text": [
      "\n",
      "Early stopping occurred at epoch 116 with best_epoch = 96 and best_val_0_accuracy = 0.91529\n"
     ]
    },
    {
     "name": "stderr",
     "output_type": "stream",
     "text": [
      "/opt/conda/lib/python3.11/site-packages/pytorch_tabnet/callbacks.py:172: UserWarning: Best weights from best epoch are automatically used!\n",
      "  warnings.warn(wrn_msg)\n"
     ]
    },
    {
     "name": "stdout",
     "output_type": "stream",
     "text": [
      "\n",
      "Early stopping occurred at epoch 141 with best_epoch = 121 and best_val_0_accuracy = 0.92166\n"
     ]
    },
    {
     "name": "stderr",
     "output_type": "stream",
     "text": [
      "/opt/conda/lib/python3.11/site-packages/pytorch_tabnet/callbacks.py:172: UserWarning: Best weights from best epoch are automatically used!\n",
      "  warnings.warn(wrn_msg)\n"
     ]
    },
    {
     "name": "stdout",
     "output_type": "stream",
     "text": [
      "\n",
      "Early stopping occurred at epoch 182 with best_epoch = 162 and best_val_0_accuracy = 0.92715\n"
     ]
    },
    {
     "name": "stderr",
     "output_type": "stream",
     "text": [
      "/opt/conda/lib/python3.11/site-packages/pytorch_tabnet/callbacks.py:172: UserWarning: Best weights from best epoch are automatically used!\n",
      "  warnings.warn(wrn_msg)\n"
     ]
    },
    {
     "name": "stdout",
     "output_type": "stream",
     "text": [
      "\n",
      "Early stopping occurred at epoch 96 with best_epoch = 76 and best_val_0_accuracy = 0.92565\n",
      "Best parameters: {'optimizer_params': {'lr': 0.01}, 'n_steps': 3, 'n_d': 24, 'n_a': 24, 'lambda_sparse': 0.0001, 'gamma': 1.0}\n",
      "Best accuracy: nan\n",
      "epoch 0  | loss: 3.70974 |  0:00:00s\n",
      "epoch 1  | loss: 2.92716 |  0:00:00s\n",
      "epoch 2  | loss: 2.43538 |  0:00:00s\n",
      "epoch 3  | loss: 2.02109 |  0:00:00s\n",
      "epoch 4  | loss: 1.66607 |  0:00:01s\n",
      "epoch 5  | loss: 1.36309 |  0:00:01s\n",
      "epoch 6  | loss: 1.12291 |  0:00:01s\n",
      "epoch 7  | loss: 0.94887 |  0:00:01s\n",
      "epoch 8  | loss: 0.81812 |  0:00:01s\n",
      "epoch 9  | loss: 0.72683 |  0:00:02s\n",
      "epoch 10 | loss: 0.66041 |  0:00:02s\n",
      "epoch 11 | loss: 0.61095 |  0:00:02s\n",
      "epoch 12 | loss: 0.5702  |  0:00:02s\n",
      "epoch 13 | loss: 0.58042 |  0:00:03s\n",
      "epoch 14 | loss: 0.49964 |  0:00:03s\n",
      "epoch 15 | loss: 0.49416 |  0:00:03s\n",
      "epoch 16 | loss: 0.47575 |  0:00:03s\n",
      "epoch 17 | loss: 0.4663  |  0:00:04s\n",
      "epoch 18 | loss: 0.45932 |  0:00:04s\n",
      "epoch 19 | loss: 0.44148 |  0:00:04s\n",
      "epoch 20 | loss: 0.45244 |  0:00:04s\n",
      "epoch 21 | loss: 0.42363 |  0:00:04s\n",
      "epoch 22 | loss: 0.40954 |  0:00:05s\n",
      "epoch 23 | loss: 0.39909 |  0:00:05s\n",
      "epoch 24 | loss: 0.40717 |  0:00:05s\n",
      "epoch 25 | loss: 0.40418 |  0:00:05s\n",
      "epoch 26 | loss: 0.41171 |  0:00:06s\n",
      "epoch 27 | loss: 0.41419 |  0:00:06s\n",
      "epoch 28 | loss: 0.39371 |  0:00:06s\n",
      "epoch 29 | loss: 0.39288 |  0:00:06s\n",
      "epoch 30 | loss: 0.38729 |  0:00:06s\n",
      "epoch 31 | loss: 0.38171 |  0:00:07s\n",
      "epoch 32 | loss: 0.37553 |  0:00:07s\n",
      "epoch 33 | loss: 0.38532 |  0:00:07s\n",
      "epoch 34 | loss: 0.4094  |  0:00:07s\n",
      "epoch 35 | loss: 0.36828 |  0:00:08s\n",
      "epoch 36 | loss: 0.37371 |  0:00:08s\n",
      "epoch 37 | loss: 0.34828 |  0:00:08s\n",
      "epoch 38 | loss: 0.35732 |  0:00:08s\n",
      "epoch 39 | loss: 0.35481 |  0:00:08s\n",
      "epoch 40 | loss: 0.34161 |  0:00:09s\n",
      "epoch 41 | loss: 0.34576 |  0:00:09s\n",
      "epoch 42 | loss: 0.34698 |  0:00:09s\n",
      "epoch 43 | loss: 0.34869 |  0:00:09s\n",
      "epoch 44 | loss: 0.31607 |  0:00:09s\n",
      "epoch 45 | loss: 0.32636 |  0:00:10s\n",
      "epoch 46 | loss: 0.32319 |  0:00:10s\n",
      "epoch 47 | loss: 0.31731 |  0:00:10s\n",
      "epoch 48 | loss: 0.33159 |  0:00:10s\n",
      "epoch 49 | loss: 0.31143 |  0:00:11s\n",
      "epoch 50 | loss: 0.33178 |  0:00:11s\n",
      "epoch 51 | loss: 0.31828 |  0:00:11s\n",
      "epoch 52 | loss: 0.32008 |  0:00:11s\n",
      "epoch 53 | loss: 0.30344 |  0:00:11s\n",
      "epoch 54 | loss: 0.31738 |  0:00:12s\n",
      "epoch 55 | loss: 0.33205 |  0:00:12s\n",
      "epoch 56 | loss: 0.33997 |  0:00:12s\n",
      "epoch 57 | loss: 0.33553 |  0:00:12s\n",
      "epoch 58 | loss: 0.32443 |  0:00:13s\n",
      "epoch 59 | loss: 0.31092 |  0:00:13s\n",
      "epoch 60 | loss: 0.30447 |  0:00:13s\n",
      "epoch 61 | loss: 0.31304 |  0:00:13s\n",
      "epoch 62 | loss: 0.30027 |  0:00:14s\n",
      "epoch 63 | loss: 0.29257 |  0:00:14s\n",
      "epoch 64 | loss: 0.28709 |  0:00:14s\n",
      "epoch 65 | loss: 0.29788 |  0:00:14s\n",
      "epoch 66 | loss: 0.29376 |  0:00:14s\n",
      "epoch 67 | loss: 0.29804 |  0:00:15s\n",
      "epoch 68 | loss: 0.29189 |  0:00:15s\n",
      "epoch 69 | loss: 0.28129 |  0:00:15s\n",
      "epoch 70 | loss: 0.2936  |  0:00:15s\n",
      "epoch 71 | loss: 0.28525 |  0:00:16s\n",
      "epoch 72 | loss: 0.27727 |  0:00:16s\n",
      "epoch 73 | loss: 0.26355 |  0:00:16s\n",
      "epoch 74 | loss: 0.27783 |  0:00:16s\n",
      "epoch 75 | loss: 0.28313 |  0:00:17s\n",
      "epoch 76 | loss: 0.2649  |  0:00:17s\n",
      "epoch 77 | loss: 0.25612 |  0:00:17s\n",
      "epoch 78 | loss: 0.25849 |  0:00:17s\n",
      "epoch 79 | loss: 0.27344 |  0:00:17s\n",
      "epoch 80 | loss: 0.26754 |  0:00:18s\n",
      "epoch 81 | loss: 0.25008 |  0:00:18s\n",
      "epoch 82 | loss: 0.27098 |  0:00:18s\n",
      "epoch 83 | loss: 0.26376 |  0:00:18s\n",
      "epoch 84 | loss: 0.26094 |  0:00:19s\n",
      "epoch 85 | loss: 0.25605 |  0:00:19s\n",
      "epoch 86 | loss: 0.25282 |  0:00:19s\n",
      "epoch 87 | loss: 0.25549 |  0:00:19s\n",
      "epoch 88 | loss: 0.24848 |  0:00:19s\n",
      "epoch 89 | loss: 0.24805 |  0:00:20s\n",
      "epoch 90 | loss: 0.25899 |  0:00:20s\n",
      "epoch 91 | loss: 0.25157 |  0:00:20s\n",
      "epoch 92 | loss: 0.25082 |  0:00:20s\n",
      "epoch 93 | loss: 0.24899 |  0:00:21s\n",
      "epoch 94 | loss: 0.24237 |  0:00:21s\n",
      "epoch 95 | loss: 0.23704 |  0:00:21s\n",
      "epoch 96 | loss: 0.24272 |  0:00:21s\n",
      "epoch 97 | loss: 0.25674 |  0:00:21s\n",
      "epoch 98 | loss: 0.2492  |  0:00:22s\n",
      "epoch 99 | loss: 0.25124 |  0:00:22s\n"
     ]
    }
   ],
   "source": [
    "Xtrain, Ytrain, Xtest, Ytest, Ytest_decoded, le = split_data(traindata, testdata)\n",
    "best_tabnet_params = find_best_tabnet(Xtrain, Ytrain)\n",
    "\n",
    "\n",
    "# Re-initialize TabNet with best params\n",
    "final_model = TabNetClassifier(\n",
    "    **{k: v for k, v in best_tabnet_params.items()},\n",
    "    verbose=1,\n",
    "    seed=42\n",
    ")\n",
    "\n",
    "# Retrain on full training data\n",
    "final_model.fit(\n",
    "    Xtrain, Ytrain,\n",
    "    max_epochs=100,\n",
    "    patience=20,\n",
    "    batch_size=1024,\n",
    "    virtual_batch_size=128\n",
    ")\n",
    "\n"
   ]
  },
  {
   "cell_type": "code",
   "execution_count": 11,
   "metadata": {},
   "outputs": [],
   "source": [
    "_, _, _, _, _, le = split_data(traindata, testdata)\n"
   ]
  },
  {
   "cell_type": "code",
   "execution_count": 12,
   "metadata": {},
   "outputs": [],
   "source": [
    "import os\n",
    "from sklearn.metrics import accuracy_score, precision_score, recall_score, f1_score, roc_auc_score\n",
    "\n",
    "file_path = os.path.join(\"results\", f\"gtd{partition}.txt\")\n",
    "\n",
    "# Predict class indices for test set\n",
    "y_pred = final_model.predict(Xtest)\n",
    "y_proba = final_model.predict_proba(Xtest)\n",
    "y_pred_decoded = le.inverse_transform(y_pred)\n",
    "y_true_decoded = le.inverse_transform(Ytest)\n",
    "\n",
    "# Make sure the directory exists\n",
    "os.makedirs(\"results\", exist_ok=True)\n",
    "\n",
    "# Compute accuracy from decoded labels\n",
    "acc = accuracy_score(y_true_decoded, y_pred_decoded)\n",
    "\n",
    "# Write metrics to file\n",
    "with open(file_path, \"w\") as file:\n",
    "    file.write(f\"Accuracy: {acc:.4f}\\n\")\n",
    "    file.write(f\"Precision weighted: {precision_score(y_true_decoded, y_pred_decoded, average='weighted'):.4f}\\n\")\n",
    "    file.write(f\"Recall weighted: {recall_score(y_true_decoded, y_pred_decoded, average='weighted'):.4f}\\n\")\n",
    "    file.write(f\"F1 Score weighted: {f1_score(y_true_decoded, y_pred_decoded, average='weighted'):.4f}\\n\")\n",
    "    file.write(f\"Precision micro: {precision_score(y_true_decoded, y_pred_decoded, average='micro'):.4f}\\n\")\n",
    "    file.write(f\"Recall micro: {recall_score(y_true_decoded, y_pred_decoded, average='micro'):.4f}\\n\")\n",
    "    file.write(f\"F1 Score micro: {f1_score(y_true_decoded, y_pred_decoded, average='micro'):.4f}\\n\")\n",
    "    file.write(f\"Precision macro: {precision_score(y_true_decoded, y_pred_decoded, average='macro'):.4f}\\n\")\n",
    "    file.write(f\"Recall macro: {recall_score(y_true_decoded, y_pred_decoded, average='macro'):.4f}\\n\")\n",
    "    file.write(f\"F1 Score macro: {f1_score(y_true_decoded, y_pred_decoded, average='macro'):.4f}\\n\")\n",
    "    file.write(f\"roc auc weighted: {roc_auc_score(y_true_decoded, y_proba, multi_class='ovr', average='weighted'):.4f}\\n\")\n",
    "    file.write(f\"roc auc macro: {roc_auc_score(y_true_decoded, y_proba, multi_class='ovr', average='macro'):.4f}\\n\")\n",
    "    file.write(f\"roc auc micro: {roc_auc_score(y_true_decoded, y_proba, multi_class='ovr', average='micro'):.4f}\\n\")\n"
   ]
  },
  {
   "cell_type": "code",
   "execution_count": 13,
   "metadata": {},
   "outputs": [
    {
     "name": "stdout",
     "output_type": "stream",
     "text": [
      "                                                  precision    recall  f1-score   support\n",
      "\n",
      "                          Abu Sayyaf Group (ASG)       0.97      0.98      0.98       144\n",
      "        African National Congress (South Africa)       1.00      1.00      1.00       144\n",
      "                                Al-Qaida in Iraq       0.71      0.91      0.80       144\n",
      "        Al-Qaida in the Arabian Peninsula (AQAP)       0.80      0.85      0.82       144\n",
      "                                      Al-Shabaab       0.98      0.97      0.98       144\n",
      "             Basque Fatherland and Freedom (ETA)       1.00      0.99      0.99       144\n",
      "                                      Boko Haram       0.88      0.98      0.92       144\n",
      "  Communist Party of India - Maoist (CPI-Maoist)       0.88      0.89      0.89       144\n",
      "       Corsican National Liberation Front (FLNC)       0.98      1.00      0.99       144\n",
      "                       Donetsk People's Republic       1.00      1.00      1.00       144\n",
      "Farabundo Marti National Liberation Front (FMLN)       0.92      0.49      0.64       144\n",
      "                               Fulani extremists       0.98      0.87      0.92       144\n",
      "                 Houthi extremists (Ansar Allah)       0.84      0.83      0.84       144\n",
      "                     Irish Republican Army (IRA)       1.00      0.99      0.99       144\n",
      "     Islamic State of Iraq and the Levant (ISIL)       0.79      0.55      0.65       144\n",
      "                  Kurdistan Workers' Party (PKK)       0.92      0.93      0.92       144\n",
      "         Liberation Tigers of Tamil Eelam (LTTE)       0.99      1.00      1.00       144\n",
      "         Manuel Rodriguez Patriotic Front (FPMR)       1.00      1.00      1.00       144\n",
      "                                         Maoists       0.86      0.90      0.88       144\n",
      "                               Muslim extremists       0.79      0.85      0.82       144\n",
      "      National Liberation Army of Colombia (ELN)       0.85      0.97      0.91       144\n",
      "                         New People's Army (NPA)       0.98      0.97      0.98       144\n",
      "               Nicaraguan Democratic Force (FDN)       0.65      0.94      0.77       144\n",
      "                                    Palestinians       0.98      0.90      0.94       144\n",
      "   Revolutionary Armed Forces of Colombia (FARC)       0.96      0.85      0.90       144\n",
      "                               Shining Path (SL)       0.86      0.81      0.83       144\n",
      "                                 Sikh Extremists       0.96      0.93      0.95       144\n",
      "                                         Taliban       0.93      0.87      0.90       144\n",
      "                 Tehrik-i-Taliban Pakistan (TTP)       0.86      0.89      0.87       144\n",
      "       Tupac Amaru Revolutionary Movement (MRTA)       0.82      0.87      0.84       144\n",
      "\n",
      "                                        accuracy                           0.90      4320\n",
      "                                       macro avg       0.91      0.90      0.90      4320\n",
      "                                    weighted avg       0.91      0.90      0.90      4320\n",
      "\n"
     ]
    }
   ],
   "source": [
    "print(classification_report(Ytest_decoded, y_pred_decoded))"
   ]
  },
  {
   "cell_type": "code",
   "execution_count": 14,
   "metadata": {},
   "outputs": [],
   "source": [
    "def plot_confusion_matrix(y_true, y_pred, labels):\n",
    "    from sklearn.metrics import confusion_matrix\n",
    "    import matplotlib.pyplot as plt\n",
    "    import seaborn as sns\n",
    "    import numpy as np\n",
    "\n",
    "    cm = confusion_matrix(y_true, y_pred, labels=labels)\n",
    "    cm_normalized = cm.astype('float') / cm.sum(axis=1, keepdims=True)\n",
    "\n",
    "    plt.figure(figsize=(18, 16))\n",
    "    sns.heatmap(cm_normalized,\n",
    "                annot=True,\n",
    "                fmt=\".2f\",\n",
    "                xticklabels=labels,\n",
    "                yticklabels=labels,\n",
    "                cmap=\"viridis\",\n",
    "                square=True,\n",
    "                linewidths=0.5,\n",
    "                cbar_kws={\"shrink\": 0.8})\n",
    "\n",
    "    plt.title(f\"Normalized Confusion Matrix\", fontsize=18)\n",
    "    plt.xlabel(\"Predicted Label\", fontsize=14)\n",
    "    plt.ylabel(\"True Label\", fontsize=14)\n",
    "    plt.xticks(rotation=90)\n",
    "    plt.yticks(rotation=0)\n",
    "    plt.tight_layout()\n",
    "\n",
    "    # Save the figure\n",
    "    save_path = f\"results/confusion_matrix_partition_{partition}.png\"\n",
    "    plt.savefig(save_path, dpi=300)\n",
    "    plt.close()\n",
    "\n",
    "    print(f\"Saved confusion matrix for partition {partition} to {save_path}\")\n"
   ]
  },
  {
   "cell_type": "code",
   "execution_count": 15,
   "metadata": {},
   "outputs": [
    {
     "name": "stdout",
     "output_type": "stream",
     "text": [
      "Saved confusion matrix for partition 478 to results/confusion_matrix_partition_478.png\n"
     ]
    }
   ],
   "source": [
    "# Get all unique class labels from the truths\n",
    "class_labels = np.unique(Ytest_decoded)\n",
    "\n",
    "plot_confusion_matrix(Ytest_decoded, y_pred_decoded, labels=class_labels)\n",
    "\n"
   ]
  }
 ],
 "metadata": {
  "kernelspec": {
   "display_name": "Python (TabNet)",
   "language": "python",
   "name": "tabnet-env"
  },
  "language_info": {
   "codemirror_mode": {
    "name": "ipython",
    "version": 3
   },
   "file_extension": ".py",
   "mimetype": "text/x-python",
   "name": "python",
   "nbconvert_exporter": "python",
   "pygments_lexer": "ipython3",
   "version": "3.11.9"
  }
 },
 "nbformat": 4,
 "nbformat_minor": 2
}
