{
 "cells": [
  {
   "cell_type": "code",
   "execution_count": 1,
   "metadata": {},
   "outputs": [],
   "source": [
    "import warnings\n",
    "warnings.filterwarnings( 'ignore' )\n",
    "import pandas as pd\n",
    "import numpy as np\n",
    "import matplotlib.pyplot as plt\n",
    "import seaborn as sns\n",
    "from sklearn.metrics import accuracy_score, classification_report, confusion_matrix\n",
    "from sklearn.model_selection import RandomizedSearchCV, GridSearchCV, TimeSeriesSplit\n",
    "from sklearn.ensemble import GradientBoostingClassifier, RandomForestClassifier\n",
    "from sklearn.neural_network import MLPClassifier\n",
    "from sklearn.impute import SimpleImputer\n",
    "import sys"
   ]
  },
  {
   "cell_type": "code",
   "execution_count": 2,
   "metadata": {},
   "outputs": [],
   "source": [
    "partition = 200"
   ]
  },
  {
   "cell_type": "code",
   "execution_count": 3,
   "metadata": {},
   "outputs": [
    {
     "name": "stdout",
     "output_type": "stream",
     "text": [
      "Requirement already satisfied: pytorch-tabnet in /opt/conda/lib/python3.11/site-packages (4.1.0)\n",
      "Requirement already satisfied: numpy>=1.17 in /opt/conda/lib/python3.11/site-packages (from pytorch-tabnet) (1.26.4)\n",
      "Requirement already satisfied: scikit_learn>0.21 in /opt/conda/lib/python3.11/site-packages (from pytorch-tabnet) (1.5.0)\n",
      "Requirement already satisfied: scipy>1.4 in /opt/conda/lib/python3.11/site-packages (from pytorch-tabnet) (1.14.0)\n",
      "Requirement already satisfied: torch>=1.3 in /opt/conda/lib/python3.11/site-packages (from pytorch-tabnet) (2.3.1)\n",
      "Requirement already satisfied: tqdm>=4.36 in /opt/conda/lib/python3.11/site-packages (from pytorch-tabnet) (4.66.4)\n",
      "Requirement already satisfied: joblib>=1.2.0 in /opt/conda/lib/python3.11/site-packages (from scikit_learn>0.21->pytorch-tabnet) (1.4.2)\n",
      "Requirement already satisfied: threadpoolctl>=3.1.0 in /opt/conda/lib/python3.11/site-packages (from scikit_learn>0.21->pytorch-tabnet) (3.5.0)\n",
      "Requirement already satisfied: filelock in /opt/conda/lib/python3.11/site-packages (from torch>=1.3->pytorch-tabnet) (3.15.4)\n",
      "Requirement already satisfied: typing-extensions>=4.8.0 in /opt/conda/lib/python3.11/site-packages (from torch>=1.3->pytorch-tabnet) (4.12.2)\n",
      "Requirement already satisfied: sympy in /opt/conda/lib/python3.11/site-packages (from torch>=1.3->pytorch-tabnet) (1.12.1)\n",
      "Requirement already satisfied: networkx in /opt/conda/lib/python3.11/site-packages (from torch>=1.3->pytorch-tabnet) (3.3)\n",
      "Requirement already satisfied: jinja2 in /opt/conda/lib/python3.11/site-packages (from torch>=1.3->pytorch-tabnet) (3.1.4)\n",
      "Requirement already satisfied: fsspec in /opt/conda/lib/python3.11/site-packages (from torch>=1.3->pytorch-tabnet) (2024.5.0)\n",
      "Requirement already satisfied: nvidia-cuda-nvrtc-cu12==12.1.105 in /opt/conda/lib/python3.11/site-packages (from torch>=1.3->pytorch-tabnet) (12.1.105)\n",
      "Requirement already satisfied: nvidia-cuda-runtime-cu12==12.1.105 in /opt/conda/lib/python3.11/site-packages (from torch>=1.3->pytorch-tabnet) (12.1.105)\n",
      "Requirement already satisfied: nvidia-cuda-cupti-cu12==12.1.105 in /opt/conda/lib/python3.11/site-packages (from torch>=1.3->pytorch-tabnet) (12.1.105)\n",
      "Requirement already satisfied: nvidia-cudnn-cu12==8.9.2.26 in /opt/conda/lib/python3.11/site-packages (from torch>=1.3->pytorch-tabnet) (8.9.2.26)\n",
      "Requirement already satisfied: nvidia-cublas-cu12==12.1.3.1 in /opt/conda/lib/python3.11/site-packages (from torch>=1.3->pytorch-tabnet) (12.1.3.1)\n",
      "Requirement already satisfied: nvidia-cufft-cu12==11.0.2.54 in /opt/conda/lib/python3.11/site-packages (from torch>=1.3->pytorch-tabnet) (11.0.2.54)\n",
      "Requirement already satisfied: nvidia-curand-cu12==10.3.2.106 in /opt/conda/lib/python3.11/site-packages (from torch>=1.3->pytorch-tabnet) (10.3.2.106)\n",
      "Requirement already satisfied: nvidia-cusolver-cu12==11.4.5.107 in /opt/conda/lib/python3.11/site-packages (from torch>=1.3->pytorch-tabnet) (11.4.5.107)\n",
      "Requirement already satisfied: nvidia-cusparse-cu12==12.1.0.106 in /opt/conda/lib/python3.11/site-packages (from torch>=1.3->pytorch-tabnet) (12.1.0.106)\n",
      "Requirement already satisfied: nvidia-nccl-cu12==2.20.5 in /opt/conda/lib/python3.11/site-packages (from torch>=1.3->pytorch-tabnet) (2.20.5)\n",
      "Requirement already satisfied: nvidia-nvtx-cu12==12.1.105 in /opt/conda/lib/python3.11/site-packages (from torch>=1.3->pytorch-tabnet) (12.1.105)\n",
      "Requirement already satisfied: triton==2.3.1 in /opt/conda/lib/python3.11/site-packages (from torch>=1.3->pytorch-tabnet) (2.3.1)\n",
      "Requirement already satisfied: nvidia-nvjitlink-cu12 in /opt/conda/lib/python3.11/site-packages (from nvidia-cusolver-cu12==11.4.5.107->torch>=1.3->pytorch-tabnet) (12.3.101)\n",
      "Requirement already satisfied: MarkupSafe>=2.0 in /opt/conda/lib/python3.11/site-packages (from jinja2->torch>=1.3->pytorch-tabnet) (2.1.5)\n",
      "Requirement already satisfied: mpmath<1.4.0,>=1.1.0 in /opt/conda/lib/python3.11/site-packages (from sympy->torch>=1.3->pytorch-tabnet) (1.3.0)\n",
      "\n",
      "\u001b[1m[\u001b[0m\u001b[34;49mnotice\u001b[0m\u001b[1;39;49m]\u001b[0m\u001b[39;49m A new release of pip is available: \u001b[0m\u001b[31;49m24.1.2\u001b[0m\u001b[39;49m -> \u001b[0m\u001b[32;49m25.1.1\u001b[0m\n",
      "\u001b[1m[\u001b[0m\u001b[34;49mnotice\u001b[0m\u001b[1;39;49m]\u001b[0m\u001b[39;49m To update, run: \u001b[0m\u001b[32;49mpip install --upgrade pip\u001b[0m\n"
     ]
    }
   ],
   "source": [
    "!{sys.executable} -m pip install pytorch-tabnet --upgrade"
   ]
  },
  {
   "cell_type": "code",
   "execution_count": 4,
   "metadata": {},
   "outputs": [],
   "source": [
    "trainpath = f'../../../../data/top30groups/OneHotLongLatCombined/train1/train{partition}.csv'\n",
    "testpath = f'../../../../data/top30groups/OneHotLongLatCombined/test1/test{partition}.csv'\n",
    "\n",
    "traindata = pd.read_csv(trainpath, encoding='ISO-8859-1')\n",
    "testdata = pd.read_csv(testpath, encoding='ISO-8859-1')"
   ]
  },
  {
   "cell_type": "code",
   "execution_count": 5,
   "metadata": {},
   "outputs": [
    {
     "name": "stdout",
     "output_type": "stream",
     "text": [
      "True\n"
     ]
    }
   ],
   "source": [
    "import torch\n",
    "print(torch.cuda.is_available())"
   ]
  },
  {
   "cell_type": "code",
   "execution_count": 6,
   "metadata": {},
   "outputs": [],
   "source": [
    "torch.cuda.empty_cache()"
   ]
  },
  {
   "cell_type": "code",
   "execution_count": 7,
   "metadata": {},
   "outputs": [],
   "source": [
    "import torch\n",
    "from sklearn.preprocessing import LabelEncoder\n",
    "from sklearn.model_selection import train_test_split\n",
    "\n",
    "from sklearn.preprocessing import LabelEncoder\n",
    "\n",
    "def split_data(dftrain, dftest):\n",
    "    Xtrain = dftrain.drop(columns=['gname']).values.astype(float)\n",
    "    Ytrain = dftrain['gname'].values\n",
    "    Xtest = dftest.drop(columns=['gname']).values.astype(float)\n",
    "    Ytest = dftest['gname'].values\n",
    "\n",
    "    le = LabelEncoder()\n",
    "    Ytrain = le.fit_transform(Ytrain)\n",
    "    Ytest = le.transform(Ytest)\n",
    "\n",
    "    #y_pred_decoded = model.label_encoder.inverse_transform(y_pred)\n",
    "    y_true_decoded = le.inverse_transform(Ytest)\n",
    "\n",
    "    return Xtrain, Ytrain, Xtest, Ytest, y_true_decoded, le\n",
    "\n"
   ]
  },
  {
   "cell_type": "code",
   "execution_count": 8,
   "metadata": {},
   "outputs": [],
   "source": [
    "from sklearn.base import BaseEstimator, ClassifierMixin\n",
    "import numpy as np\n",
    "from pytorch_tabnet.tab_model import TabNetClassifier\n",
    "\n",
    "class TabNetClassifierWrapper(BaseEstimator, ClassifierMixin):\n",
    "    def __init__(self, n_d=8, n_a=8, n_steps=3, gamma=1.3, lambda_sparse=1e-3, optimizer_params=None):\n",
    "        self.n_d = n_d\n",
    "        self.n_a = n_a\n",
    "        self.n_steps = n_steps\n",
    "        self.gamma = gamma\n",
    "        self.lambda_sparse = lambda_sparse\n",
    "        self.optimizer_params = optimizer_params or {'lr': 0.01}\n",
    "        self.model = None\n",
    "\n",
    "    def fit(self, X, y):\n",
    "        self.model = TabNetClassifier(\n",
    "            n_d=self.n_d,\n",
    "            n_a=self.n_a,\n",
    "            n_steps=self.n_steps,\n",
    "            gamma=self.gamma,\n",
    "            lambda_sparse=self.lambda_sparse,\n",
    "            optimizer_params=self.optimizer_params,\n",
    "            seed=42,\n",
    "            verbose=0\n",
    "        )\n",
    "\n",
    "        self.model.fit(\n",
    "            X, y,\n",
    "            eval_set=[(X, y)],\n",
    "            max_epochs=500,\n",
    "            patience=120,\n",
    "            batch_size=1024,\n",
    "            virtual_batch_size=128,\n",
    "            eval_metric=['accuracy']\n",
    "        )\n",
    "\n",
    "        self.classes_ = np.unique(y)  \n",
    "        return self\n",
    "\n",
    "    def predict(self, X):\n",
    "        return self.model.predict(X)\n",
    "\n",
    "    def score(self, X, y):\n",
    "        preds = self.predict(X)\n",
    "        return (preds == y).mean()\n"
   ]
  },
  {
   "cell_type": "code",
   "execution_count": 9,
   "metadata": {},
   "outputs": [],
   "source": [
    "#from pytorch_tabnet.sklearn import TabNetClassifier\n",
    "from sklearn.model_selection import GridSearchCV\n",
    "from sklearn.preprocessing import LabelEncoder\n",
    "from sklearn.pipeline import Pipeline\n",
    "from sklearn.model_selection import StratifiedKFold\n",
    "from pytorch_tabnet.tab_model import TabNetClassifier, TabNetRegressor\n",
    "\n",
    "def find_best_tabnet(Xtrain, Ytrain, n_iter=20):\n",
    "    print(\"Starting TabNet grid search\")\n",
    "    print(\"CUDA available:\", torch.cuda.is_available())\n",
    "\n",
    "    param_dist = {\n",
    "        'n_d': [8, 16, 24],\n",
    "        'n_a': [8, 16, 24],\n",
    "        'n_steps': [3, 4, 5],\n",
    "        'gamma': [1.0, 1.3, 1.5],\n",
    "        'lambda_sparse': [1e-4, 1e-3, 1e-2],\n",
    "        'optimizer_params': [{'lr': 0.01}]\n",
    "    }\n",
    "\n",
    "    random_search = RandomizedSearchCV(\n",
    "        estimator=TabNetClassifierWrapper(),\n",
    "        param_distributions=param_dist,\n",
    "        n_iter=n_iter,\n",
    "        cv=StratifiedKFold(n_splits=5, shuffle=True, random_state=42),\n",
    "        scoring='accuracy',\n",
    "        verbose=1,\n",
    "        n_jobs=-1,\n",
    "        random_state=42\n",
    "    )\n",
    "\n",
    "    random_search.fit(Xtrain, Ytrain)\n",
    "    print(\"Best parameters:\", random_search.best_params_)\n",
    "    print(\"Best accuracy:\", random_search.best_score_)\n",
    "\n",
    "    return random_search.best_params_\n",
    "\n"
   ]
  },
  {
   "cell_type": "code",
   "execution_count": 10,
   "metadata": {},
   "outputs": [],
   "source": [
    "from pytorch_tabnet.callbacks import Callback\n",
    "import time\n",
    "\n",
    "class EpochTimer(Callback):\n",
    "    def __init__(self):\n",
    "        self.epoch_times = []\n",
    "\n",
    "    def on_epoch_begin(self, epoch_idx, logs=None):\n",
    "        self.start_time = time.time()\n",
    "\n",
    "    def on_epoch_end(self, epoch_idx, logs=None):\n",
    "        duration = time.time() - self.start_time\n",
    "        self.epoch_times.append(duration)\n",
    "        print(f\"⏱️ Epoch {epoch_idx + 1} took {duration:.2f} seconds\")\n"
   ]
  },
  {
   "cell_type": "code",
   "execution_count": 11,
   "metadata": {},
   "outputs": [
    {
     "name": "stdout",
     "output_type": "stream",
     "text": [
      "Starting TabNet grid search\n",
      "CUDA available: True\n",
      "Fitting 5 folds for each of 20 candidates, totalling 100 fits\n",
      "\n",
      "Early stopping occurred at epoch 340 with best_epoch = 220 and best_val_0_accuracy = 0.96994\n"
     ]
    },
    {
     "name": "stderr",
     "output_type": "stream",
     "text": [
      "/opt/conda/lib/python3.11/site-packages/pytorch_tabnet/callbacks.py:172: UserWarning: Best weights from best epoch are automatically used!\n",
      "  warnings.warn(wrn_msg)\n"
     ]
    },
    {
     "name": "stdout",
     "output_type": "stream",
     "text": [
      "\n",
      "Early stopping occurred at epoch 377 with best_epoch = 257 and best_val_0_accuracy = 0.98244\n"
     ]
    },
    {
     "name": "stderr",
     "output_type": "stream",
     "text": [
      "/opt/conda/lib/python3.11/site-packages/pytorch_tabnet/callbacks.py:172: UserWarning: Best weights from best epoch are automatically used!\n",
      "  warnings.warn(wrn_msg)\n"
     ]
    },
    {
     "name": "stdout",
     "output_type": "stream",
     "text": [
      "\n",
      "Early stopping occurred at epoch 377 with best_epoch = 257 and best_val_0_accuracy = 0.96607\n"
     ]
    },
    {
     "name": "stderr",
     "output_type": "stream",
     "text": [
      "/opt/conda/lib/python3.11/site-packages/pytorch_tabnet/callbacks.py:172: UserWarning: Best weights from best epoch are automatically used!\n",
      "  warnings.warn(wrn_msg)\n"
     ]
    },
    {
     "name": "stdout",
     "output_type": "stream",
     "text": [
      "\n",
      "Early stopping occurred at epoch 382 with best_epoch = 262 and best_val_0_accuracy = 0.97024\n"
     ]
    },
    {
     "name": "stderr",
     "output_type": "stream",
     "text": [
      "/opt/conda/lib/python3.11/site-packages/pytorch_tabnet/callbacks.py:172: UserWarning: Best weights from best epoch are automatically used!\n",
      "  warnings.warn(wrn_msg)\n"
     ]
    },
    {
     "name": "stdout",
     "output_type": "stream",
     "text": [
      "\n",
      "Early stopping occurred at epoch 383 with best_epoch = 263 and best_val_0_accuracy = 0.98958\n"
     ]
    },
    {
     "name": "stderr",
     "output_type": "stream",
     "text": [
      "/opt/conda/lib/python3.11/site-packages/pytorch_tabnet/callbacks.py:172: UserWarning: Best weights from best epoch are automatically used!\n",
      "  warnings.warn(wrn_msg)\n"
     ]
    },
    {
     "name": "stdout",
     "output_type": "stream",
     "text": [
      "\n",
      "Early stopping occurred at epoch 387 with best_epoch = 267 and best_val_0_accuracy = 0.96339\n"
     ]
    },
    {
     "name": "stderr",
     "output_type": "stream",
     "text": [
      "/opt/conda/lib/python3.11/site-packages/pytorch_tabnet/callbacks.py:172: UserWarning: Best weights from best epoch are automatically used!\n",
      "  warnings.warn(wrn_msg)\n"
     ]
    },
    {
     "name": "stdout",
     "output_type": "stream",
     "text": [
      "\n",
      "Early stopping occurred at epoch 391 with best_epoch = 271 and best_val_0_accuracy = 0.9878\n"
     ]
    },
    {
     "name": "stderr",
     "output_type": "stream",
     "text": [
      "/opt/conda/lib/python3.11/site-packages/pytorch_tabnet/callbacks.py:172: UserWarning: Best weights from best epoch are automatically used!\n",
      "  warnings.warn(wrn_msg)\n"
     ]
    },
    {
     "name": "stdout",
     "output_type": "stream",
     "text": [
      "\n",
      "Early stopping occurred at epoch 411 with best_epoch = 291 and best_val_0_accuracy = 0.97024\n"
     ]
    },
    {
     "name": "stderr",
     "output_type": "stream",
     "text": [
      "/opt/conda/lib/python3.11/site-packages/pytorch_tabnet/callbacks.py:172: UserWarning: Best weights from best epoch are automatically used!\n",
      "  warnings.warn(wrn_msg)\n"
     ]
    },
    {
     "name": "stdout",
     "output_type": "stream",
     "text": [
      "\n",
      "Early stopping occurred at epoch 345 with best_epoch = 225 and best_val_0_accuracy = 0.96012\n"
     ]
    },
    {
     "name": "stderr",
     "output_type": "stream",
     "text": [
      "/opt/conda/lib/python3.11/site-packages/pytorch_tabnet/callbacks.py:172: UserWarning: Best weights from best epoch are automatically used!\n",
      "  warnings.warn(wrn_msg)\n"
     ]
    },
    {
     "name": "stdout",
     "output_type": "stream",
     "text": [
      "\n",
      "Early stopping occurred at epoch 356 with best_epoch = 236 and best_val_0_accuracy = 0.97054\n"
     ]
    },
    {
     "name": "stderr",
     "output_type": "stream",
     "text": [
      "/opt/conda/lib/python3.11/site-packages/pytorch_tabnet/callbacks.py:172: UserWarning: Best weights from best epoch are automatically used!\n",
      "  warnings.warn(wrn_msg)\n"
     ]
    },
    {
     "name": "stdout",
     "output_type": "stream",
     "text": [
      "\n",
      "Early stopping occurred at epoch 356 with best_epoch = 236 and best_val_0_accuracy = 0.95893\n"
     ]
    },
    {
     "name": "stderr",
     "output_type": "stream",
     "text": [
      "/opt/conda/lib/python3.11/site-packages/pytorch_tabnet/callbacks.py:172: UserWarning: Best weights from best epoch are automatically used!\n",
      "  warnings.warn(wrn_msg)\n"
     ]
    },
    {
     "name": "stdout",
     "output_type": "stream",
     "text": [
      "\n",
      "Early stopping occurred at epoch 363 with best_epoch = 243 and best_val_0_accuracy = 0.95774\n"
     ]
    },
    {
     "name": "stderr",
     "output_type": "stream",
     "text": [
      "/opt/conda/lib/python3.11/site-packages/pytorch_tabnet/callbacks.py:172: UserWarning: Best weights from best epoch are automatically used!\n",
      "  warnings.warn(wrn_msg)\n"
     ]
    },
    {
     "name": "stdout",
     "output_type": "stream",
     "text": [
      "\n",
      "Early stopping occurred at epoch 362 with best_epoch = 242 and best_val_0_accuracy = 0.95744\n"
     ]
    },
    {
     "name": "stderr",
     "output_type": "stream",
     "text": [
      "/opt/conda/lib/python3.11/site-packages/pytorch_tabnet/callbacks.py:172: UserWarning: Best weights from best epoch are automatically used!\n",
      "  warnings.warn(wrn_msg)\n"
     ]
    },
    {
     "name": "stdout",
     "output_type": "stream",
     "text": [
      "\n",
      "Early stopping occurred at epoch 367 with best_epoch = 247 and best_val_0_accuracy = 0.94524\n"
     ]
    },
    {
     "name": "stderr",
     "output_type": "stream",
     "text": [
      "/opt/conda/lib/python3.11/site-packages/pytorch_tabnet/callbacks.py:172: UserWarning: Best weights from best epoch are automatically used!\n",
      "  warnings.warn(wrn_msg)\n"
     ]
    },
    {
     "name": "stdout",
     "output_type": "stream",
     "text": [
      "\n",
      "Early stopping occurred at epoch 369 with best_epoch = 249 and best_val_0_accuracy = 0.96369\n"
     ]
    },
    {
     "name": "stderr",
     "output_type": "stream",
     "text": [
      "/opt/conda/lib/python3.11/site-packages/pytorch_tabnet/callbacks.py:172: UserWarning: Best weights from best epoch are automatically used!\n",
      "  warnings.warn(wrn_msg)\n"
     ]
    },
    {
     "name": "stdout",
     "output_type": "stream",
     "text": [
      "\n",
      "Early stopping occurred at epoch 371 with best_epoch = 251 and best_val_0_accuracy = 0.95625\n"
     ]
    },
    {
     "name": "stderr",
     "output_type": "stream",
     "text": [
      "/opt/conda/lib/python3.11/site-packages/pytorch_tabnet/callbacks.py:172: UserWarning: Best weights from best epoch are automatically used!\n",
      "  warnings.warn(wrn_msg)\n"
     ]
    },
    {
     "name": "stdout",
     "output_type": "stream",
     "text": [
      "\n",
      "Early stopping occurred at epoch 379 with best_epoch = 259 and best_val_0_accuracy = 0.9622\n"
     ]
    },
    {
     "name": "stderr",
     "output_type": "stream",
     "text": [
      "/opt/conda/lib/python3.11/site-packages/pytorch_tabnet/callbacks.py:172: UserWarning: Best weights from best epoch are automatically used!\n",
      "  warnings.warn(wrn_msg)\n"
     ]
    },
    {
     "name": "stdout",
     "output_type": "stream",
     "text": [
      "\n",
      "Early stopping occurred at epoch 382 with best_epoch = 262 and best_val_0_accuracy = 0.98452\n"
     ]
    },
    {
     "name": "stderr",
     "output_type": "stream",
     "text": [
      "/opt/conda/lib/python3.11/site-packages/pytorch_tabnet/callbacks.py:172: UserWarning: Best weights from best epoch are automatically used!\n",
      "  warnings.warn(wrn_msg)\n"
     ]
    },
    {
     "name": "stdout",
     "output_type": "stream",
     "text": [
      "Stop training because you reached max_epochs = 500 with best_epoch = 499 and best_val_0_accuracy = 0.97946\n"
     ]
    },
    {
     "name": "stderr",
     "output_type": "stream",
     "text": [
      "/opt/conda/lib/python3.11/site-packages/pytorch_tabnet/callbacks.py:172: UserWarning: Best weights from best epoch are automatically used!\n",
      "  warnings.warn(wrn_msg)\n"
     ]
    },
    {
     "name": "stdout",
     "output_type": "stream",
     "text": [
      "\n",
      "Early stopping occurred at epoch 410 with best_epoch = 290 and best_val_0_accuracy = 0.96577\n"
     ]
    },
    {
     "name": "stderr",
     "output_type": "stream",
     "text": [
      "/opt/conda/lib/python3.11/site-packages/pytorch_tabnet/callbacks.py:172: UserWarning: Best weights from best epoch are automatically used!\n",
      "  warnings.warn(wrn_msg)\n"
     ]
    },
    {
     "name": "stdout",
     "output_type": "stream",
     "text": [
      "Stop training because you reached max_epochs = 500 with best_epoch = 453 and best_val_0_accuracy = 0.96637\n"
     ]
    },
    {
     "name": "stderr",
     "output_type": "stream",
     "text": [
      "/opt/conda/lib/python3.11/site-packages/pytorch_tabnet/callbacks.py:172: UserWarning: Best weights from best epoch are automatically used!\n",
      "  warnings.warn(wrn_msg)\n"
     ]
    },
    {
     "name": "stdout",
     "output_type": "stream",
     "text": [
      "\n",
      "Early stopping occurred at epoch 414 with best_epoch = 294 and best_val_0_accuracy = 0.96339\n"
     ]
    },
    {
     "name": "stderr",
     "output_type": "stream",
     "text": [
      "/opt/conda/lib/python3.11/site-packages/pytorch_tabnet/callbacks.py:172: UserWarning: Best weights from best epoch are automatically used!\n",
      "  warnings.warn(wrn_msg)\n"
     ]
    },
    {
     "name": "stdout",
     "output_type": "stream",
     "text": [
      "\n",
      "Early stopping occurred at epoch 360 with best_epoch = 240 and best_val_0_accuracy = 0.95\n"
     ]
    },
    {
     "name": "stderr",
     "output_type": "stream",
     "text": [
      "/opt/conda/lib/python3.11/site-packages/pytorch_tabnet/callbacks.py:172: UserWarning: Best weights from best epoch are automatically used!\n",
      "  warnings.warn(wrn_msg)\n"
     ]
    },
    {
     "name": "stdout",
     "output_type": "stream",
     "text": [
      "\n",
      "Early stopping occurred at epoch 383 with best_epoch = 263 and best_val_0_accuracy = 0.95\n"
     ]
    },
    {
     "name": "stderr",
     "output_type": "stream",
     "text": [
      "/opt/conda/lib/python3.11/site-packages/pytorch_tabnet/callbacks.py:172: UserWarning: Best weights from best epoch are automatically used!\n",
      "  warnings.warn(wrn_msg)\n"
     ]
    },
    {
     "name": "stdout",
     "output_type": "stream",
     "text": [
      "Stop training because you reached max_epochs = 500 with best_epoch = 474 and best_val_0_accuracy = 0.96369\n",
      "Stop training because you reached max_epochs = 500 with best_epoch = 495 and best_val_0_accuracy = 0.96667\n"
     ]
    },
    {
     "name": "stderr",
     "output_type": "stream",
     "text": [
      "/opt/conda/lib/python3.11/site-packages/pytorch_tabnet/callbacks.py:172: UserWarning: Best weights from best epoch are automatically used!\n",
      "  warnings.warn(wrn_msg)\n",
      "/opt/conda/lib/python3.11/site-packages/pytorch_tabnet/callbacks.py:172: UserWarning: Best weights from best epoch are automatically used!\n",
      "  warnings.warn(wrn_msg)\n"
     ]
    },
    {
     "name": "stdout",
     "output_type": "stream",
     "text": [
      "Stop training because you reached max_epochs = 500 with best_epoch = 472 and best_val_0_accuracy = 0.96637\n"
     ]
    },
    {
     "name": "stderr",
     "output_type": "stream",
     "text": [
      "/opt/conda/lib/python3.11/site-packages/pytorch_tabnet/callbacks.py:172: UserWarning: Best weights from best epoch are automatically used!\n",
      "  warnings.warn(wrn_msg)\n"
     ]
    },
    {
     "name": "stdout",
     "output_type": "stream",
     "text": [
      "Stop training because you reached max_epochs = 500 with best_epoch = 454 and best_val_0_accuracy = 0.94821\n"
     ]
    },
    {
     "name": "stderr",
     "output_type": "stream",
     "text": [
      "/opt/conda/lib/python3.11/site-packages/pytorch_tabnet/callbacks.py:172: UserWarning: Best weights from best epoch are automatically used!\n",
      "  warnings.warn(wrn_msg)\n"
     ]
    },
    {
     "name": "stdout",
     "output_type": "stream",
     "text": [
      "Stop training because you reached max_epochs = 500 with best_epoch = 481 and best_val_0_accuracy = 0.96518\n"
     ]
    },
    {
     "name": "stderr",
     "output_type": "stream",
     "text": [
      "/opt/conda/lib/python3.11/site-packages/pytorch_tabnet/callbacks.py:172: UserWarning: Best weights from best epoch are automatically used!\n",
      "  warnings.warn(wrn_msg)\n"
     ]
    },
    {
     "name": "stdout",
     "output_type": "stream",
     "text": [
      "Stop training because you reached max_epochs = 500 with best_epoch = 499 and best_val_0_accuracy = 0.97649\n"
     ]
    },
    {
     "name": "stderr",
     "output_type": "stream",
     "text": [
      "/opt/conda/lib/python3.11/site-packages/pytorch_tabnet/callbacks.py:172: UserWarning: Best weights from best epoch are automatically used!\n",
      "  warnings.warn(wrn_msg)\n"
     ]
    },
    {
     "name": "stdout",
     "output_type": "stream",
     "text": [
      "Stop training because you reached max_epochs = 500 with best_epoch = 467 and best_val_0_accuracy = 0.94375\n",
      "Stop training because you reached max_epochs = 500 with best_epoch = 495 and best_val_0_accuracy = 0.94286\n"
     ]
    },
    {
     "name": "stderr",
     "output_type": "stream",
     "text": [
      "/opt/conda/lib/python3.11/site-packages/pytorch_tabnet/callbacks.py:172: UserWarning: Best weights from best epoch are automatically used!\n",
      "  warnings.warn(wrn_msg)\n",
      "/opt/conda/lib/python3.11/site-packages/pytorch_tabnet/callbacks.py:172: UserWarning: Best weights from best epoch are automatically used!\n",
      "  warnings.warn(wrn_msg)\n"
     ]
    },
    {
     "name": "stdout",
     "output_type": "stream",
     "text": [
      "\n",
      "Early stopping occurred at epoch 342 with best_epoch = 222 and best_val_0_accuracy = 0.96458\n"
     ]
    },
    {
     "name": "stderr",
     "output_type": "stream",
     "text": [
      "/opt/conda/lib/python3.11/site-packages/pytorch_tabnet/callbacks.py:172: UserWarning: Best weights from best epoch are automatically used!\n",
      "  warnings.warn(wrn_msg)\n",
      "/opt/conda/lib/python3.11/site-packages/pytorch_tabnet/callbacks.py:172: UserWarning: Best weights from best epoch are automatically used!\n",
      "  warnings.warn(wrn_msg)\n"
     ]
    },
    {
     "name": "stdout",
     "output_type": "stream",
     "text": [
      "\n",
      "Early stopping occurred at epoch 366 with best_epoch = 246 and best_val_0_accuracy = 0.96667\n"
     ]
    },
    {
     "name": "stderr",
     "output_type": "stream",
     "text": [
      "/opt/conda/lib/python3.11/site-packages/pytorch_tabnet/callbacks.py:172: UserWarning: Best weights from best epoch are automatically used!\n",
      "  warnings.warn(wrn_msg)\n"
     ]
    },
    {
     "name": "stdout",
     "output_type": "stream",
     "text": [
      "\n",
      "Early stopping occurred at epoch 389 with best_epoch = 269 and best_val_0_accuracy = 0.97798\n",
      "\n",
      "Early stopping occurred at epoch 366 with best_epoch = 246 and best_val_0_accuracy = 0.97232\n"
     ]
    },
    {
     "name": "stderr",
     "output_type": "stream",
     "text": [
      "/opt/conda/lib/python3.11/site-packages/pytorch_tabnet/callbacks.py:172: UserWarning: Best weights from best epoch are automatically used!\n",
      "  warnings.warn(wrn_msg)\n"
     ]
    },
    {
     "name": "stdout",
     "output_type": "stream",
     "text": [
      "\n",
      "Early stopping occurred at epoch 348 with best_epoch = 228 and best_val_0_accuracy = 0.96726\n"
     ]
    },
    {
     "name": "stderr",
     "output_type": "stream",
     "text": [
      "/opt/conda/lib/python3.11/site-packages/pytorch_tabnet/callbacks.py:172: UserWarning: Best weights from best epoch are automatically used!\n",
      "  warnings.warn(wrn_msg)\n"
     ]
    },
    {
     "name": "stdout",
     "output_type": "stream",
     "text": [
      "\n",
      "Early stopping occurred at epoch 363 with best_epoch = 243 and best_val_0_accuracy = 0.96458\n"
     ]
    },
    {
     "name": "stderr",
     "output_type": "stream",
     "text": [
      "/opt/conda/lib/python3.11/site-packages/pytorch_tabnet/callbacks.py:172: UserWarning: Best weights from best epoch are automatically used!\n",
      "  warnings.warn(wrn_msg)\n"
     ]
    },
    {
     "name": "stdout",
     "output_type": "stream",
     "text": [
      "\n",
      "Early stopping occurred at epoch 345 with best_epoch = 225 and best_val_0_accuracy = 0.96815\n"
     ]
    },
    {
     "name": "stderr",
     "output_type": "stream",
     "text": [
      "/opt/conda/lib/python3.11/site-packages/pytorch_tabnet/callbacks.py:172: UserWarning: Best weights from best epoch are automatically used!\n",
      "  warnings.warn(wrn_msg)\n"
     ]
    },
    {
     "name": "stdout",
     "output_type": "stream",
     "text": [
      "\n",
      "Early stopping occurred at epoch 359 with best_epoch = 239 and best_val_0_accuracy = 0.96369\n"
     ]
    },
    {
     "name": "stderr",
     "output_type": "stream",
     "text": [
      "/opt/conda/lib/python3.11/site-packages/pytorch_tabnet/callbacks.py:172: UserWarning: Best weights from best epoch are automatically used!\n",
      "  warnings.warn(wrn_msg)\n"
     ]
    },
    {
     "name": "stdout",
     "output_type": "stream",
     "text": [
      "\n",
      "Early stopping occurred at epoch 357 with best_epoch = 237 and best_val_0_accuracy = 0.96488\n"
     ]
    },
    {
     "name": "stderr",
     "output_type": "stream",
     "text": [
      "/opt/conda/lib/python3.11/site-packages/pytorch_tabnet/callbacks.py:172: UserWarning: Best weights from best epoch are automatically used!\n",
      "  warnings.warn(wrn_msg)\n"
     ]
    },
    {
     "name": "stdout",
     "output_type": "stream",
     "text": [
      "\n",
      "Early stopping occurred at epoch 410 with best_epoch = 290 and best_val_0_accuracy = 0.98185\n"
     ]
    },
    {
     "name": "stderr",
     "output_type": "stream",
     "text": [
      "/opt/conda/lib/python3.11/site-packages/pytorch_tabnet/callbacks.py:172: UserWarning: Best weights from best epoch are automatically used!\n",
      "  warnings.warn(wrn_msg)\n"
     ]
    },
    {
     "name": "stdout",
     "output_type": "stream",
     "text": [
      "\n",
      "Early stopping occurred at epoch 375 with best_epoch = 255 and best_val_0_accuracy = 0.96042\n"
     ]
    },
    {
     "name": "stderr",
     "output_type": "stream",
     "text": [
      "/opt/conda/lib/python3.11/site-packages/pytorch_tabnet/callbacks.py:172: UserWarning: Best weights from best epoch are automatically used!\n",
      "  warnings.warn(wrn_msg)\n"
     ]
    },
    {
     "name": "stdout",
     "output_type": "stream",
     "text": [
      "\n",
      "Early stopping occurred at epoch 367 with best_epoch = 247 and best_val_0_accuracy = 0.96458\n"
     ]
    },
    {
     "name": "stderr",
     "output_type": "stream",
     "text": [
      "/opt/conda/lib/python3.11/site-packages/pytorch_tabnet/callbacks.py:172: UserWarning: Best weights from best epoch are automatically used!\n",
      "  warnings.warn(wrn_msg)\n"
     ]
    },
    {
     "name": "stdout",
     "output_type": "stream",
     "text": [
      "\n",
      "Early stopping occurred at epoch 378 with best_epoch = 258 and best_val_0_accuracy = 0.9744\n"
     ]
    },
    {
     "name": "stderr",
     "output_type": "stream",
     "text": [
      "/opt/conda/lib/python3.11/site-packages/pytorch_tabnet/callbacks.py:172: UserWarning: Best weights from best epoch are automatically used!\n",
      "  warnings.warn(wrn_msg)\n"
     ]
    },
    {
     "name": "stdout",
     "output_type": "stream",
     "text": [
      "\n",
      "Early stopping occurred at epoch 398 with best_epoch = 278 and best_val_0_accuracy = 0.9869\n"
     ]
    },
    {
     "name": "stderr",
     "output_type": "stream",
     "text": [
      "/opt/conda/lib/python3.11/site-packages/pytorch_tabnet/callbacks.py:172: UserWarning: Best weights from best epoch are automatically used!\n",
      "  warnings.warn(wrn_msg)\n",
      "/opt/conda/lib/python3.11/site-packages/pytorch_tabnet/callbacks.py:172: UserWarning: Best weights from best epoch are automatically used!\n",
      "  warnings.warn(wrn_msg)\n"
     ]
    },
    {
     "name": "stdout",
     "output_type": "stream",
     "text": [
      "\n",
      "Early stopping occurred at epoch 348 with best_epoch = 228 and best_val_0_accuracy = 0.95536\n",
      "\n",
      "Early stopping occurred at epoch 372 with best_epoch = 252 and best_val_0_accuracy = 0.96042\n"
     ]
    },
    {
     "name": "stderr",
     "output_type": "stream",
     "text": [
      "/opt/conda/lib/python3.11/site-packages/pytorch_tabnet/callbacks.py:172: UserWarning: Best weights from best epoch are automatically used!\n",
      "  warnings.warn(wrn_msg)\n",
      "/opt/conda/lib/python3.11/site-packages/pytorch_tabnet/callbacks.py:172: UserWarning: Best weights from best epoch are automatically used!\n",
      "  warnings.warn(wrn_msg)\n"
     ]
    },
    {
     "name": "stdout",
     "output_type": "stream",
     "text": [
      "\n",
      "Early stopping occurred at epoch 368 with best_epoch = 248 and best_val_0_accuracy = 0.95595\n",
      "\n",
      "Early stopping occurred at epoch 377 with best_epoch = 257 and best_val_0_accuracy = 0.94851\n"
     ]
    },
    {
     "name": "stderr",
     "output_type": "stream",
     "text": [
      "/opt/conda/lib/python3.11/site-packages/pytorch_tabnet/callbacks.py:172: UserWarning: Best weights from best epoch are automatically used!\n",
      "  warnings.warn(wrn_msg)\n"
     ]
    },
    {
     "name": "stdout",
     "output_type": "stream",
     "text": [
      "Stop training because you reached max_epochs = 500 with best_epoch = 430 and best_val_0_accuracy = 0.98155\n"
     ]
    },
    {
     "name": "stderr",
     "output_type": "stream",
     "text": [
      "/opt/conda/lib/python3.11/site-packages/pytorch_tabnet/callbacks.py:172: UserWarning: Best weights from best epoch are automatically used!\n",
      "  warnings.warn(wrn_msg)\n"
     ]
    },
    {
     "name": "stdout",
     "output_type": "stream",
     "text": [
      "\n",
      "Early stopping occurred at epoch 392 with best_epoch = 272 and best_val_0_accuracy = 0.96756\n"
     ]
    },
    {
     "name": "stderr",
     "output_type": "stream",
     "text": [
      "/opt/conda/lib/python3.11/site-packages/pytorch_tabnet/callbacks.py:172: UserWarning: Best weights from best epoch are automatically used!\n",
      "  warnings.warn(wrn_msg)\n"
     ]
    },
    {
     "name": "stdout",
     "output_type": "stream",
     "text": [
      "Stop training because you reached max_epochs = 500 with best_epoch = 476 and best_val_0_accuracy = 0.96161\n"
     ]
    },
    {
     "name": "stderr",
     "output_type": "stream",
     "text": [
      "/opt/conda/lib/python3.11/site-packages/pytorch_tabnet/callbacks.py:172: UserWarning: Best weights from best epoch are automatically used!\n",
      "  warnings.warn(wrn_msg)\n"
     ]
    },
    {
     "name": "stdout",
     "output_type": "stream",
     "text": [
      "Stop training because you reached max_epochs = 500 with best_epoch = 490 and best_val_0_accuracy = 0.9503\n"
     ]
    },
    {
     "name": "stderr",
     "output_type": "stream",
     "text": [
      "/opt/conda/lib/python3.11/site-packages/pytorch_tabnet/callbacks.py:172: UserWarning: Best weights from best epoch are automatically used!\n",
      "  warnings.warn(wrn_msg)\n"
     ]
    },
    {
     "name": "stdout",
     "output_type": "stream",
     "text": [
      "Stop training because you reached max_epochs = 500 with best_epoch = 487 and best_val_0_accuracy = 0.94107\n"
     ]
    },
    {
     "name": "stderr",
     "output_type": "stream",
     "text": [
      "/opt/conda/lib/python3.11/site-packages/pytorch_tabnet/callbacks.py:172: UserWarning: Best weights from best epoch are automatically used!\n",
      "  warnings.warn(wrn_msg)\n"
     ]
    },
    {
     "name": "stdout",
     "output_type": "stream",
     "text": [
      "\n",
      "Early stopping occurred at epoch 396 with best_epoch = 276 and best_val_0_accuracy = 0.92589\n"
     ]
    },
    {
     "name": "stderr",
     "output_type": "stream",
     "text": [
      "/opt/conda/lib/python3.11/site-packages/pytorch_tabnet/callbacks.py:172: UserWarning: Best weights from best epoch are automatically used!\n",
      "  warnings.warn(wrn_msg)\n",
      "/opt/conda/lib/python3.11/site-packages/pytorch_tabnet/callbacks.py:172: UserWarning: Best weights from best epoch are automatically used!\n",
      "  warnings.warn(wrn_msg)\n"
     ]
    },
    {
     "name": "stdout",
     "output_type": "stream",
     "text": [
      "\n",
      "Early stopping occurred at epoch 365 with best_epoch = 245 and best_val_0_accuracy = 0.94256\n"
     ]
    },
    {
     "name": "stderr",
     "output_type": "stream",
     "text": [
      "/opt/conda/lib/python3.11/site-packages/pytorch_tabnet/callbacks.py:172: UserWarning: Best weights from best epoch are automatically used!\n",
      "  warnings.warn(wrn_msg)\n"
     ]
    },
    {
     "name": "stdout",
     "output_type": "stream",
     "text": [
      "\n",
      "Early stopping occurred at epoch 382 with best_epoch = 262 and best_val_0_accuracy = 0.93363\n",
      "\n",
      "Early stopping occurred at epoch 353 with best_epoch = 233 and best_val_0_accuracy = 0.96637\n"
     ]
    },
    {
     "name": "stderr",
     "output_type": "stream",
     "text": [
      "/opt/conda/lib/python3.11/site-packages/pytorch_tabnet/callbacks.py:172: UserWarning: Best weights from best epoch are automatically used!\n",
      "  warnings.warn(wrn_msg)\n",
      "/opt/conda/lib/python3.11/site-packages/pytorch_tabnet/callbacks.py:172: UserWarning: Best weights from best epoch are automatically used!\n",
      "  warnings.warn(wrn_msg)\n"
     ]
    },
    {
     "name": "stdout",
     "output_type": "stream",
     "text": [
      "\n",
      "Early stopping occurred at epoch 358 with best_epoch = 238 and best_val_0_accuracy = 0.9494\n",
      "\n",
      "Early stopping occurred at epoch 365 with best_epoch = 245 and best_val_0_accuracy = 0.96101\n"
     ]
    },
    {
     "name": "stderr",
     "output_type": "stream",
     "text": [
      "/opt/conda/lib/python3.11/site-packages/pytorch_tabnet/callbacks.py:172: UserWarning: Best weights from best epoch are automatically used!\n",
      "  warnings.warn(wrn_msg)\n"
     ]
    },
    {
     "name": "stdout",
     "output_type": "stream",
     "text": [
      "\n",
      "Early stopping occurred at epoch 363 with best_epoch = 243 and best_val_0_accuracy = 0.95327\n"
     ]
    },
    {
     "name": "stderr",
     "output_type": "stream",
     "text": [
      "/opt/conda/lib/python3.11/site-packages/pytorch_tabnet/callbacks.py:172: UserWarning: Best weights from best epoch are automatically used!\n",
      "  warnings.warn(wrn_msg)\n"
     ]
    },
    {
     "name": "stdout",
     "output_type": "stream",
     "text": [
      "\n",
      "Early stopping occurred at epoch 360 with best_epoch = 240 and best_val_0_accuracy = 0.95923\n"
     ]
    },
    {
     "name": "stderr",
     "output_type": "stream",
     "text": [
      "/opt/conda/lib/python3.11/site-packages/pytorch_tabnet/callbacks.py:172: UserWarning: Best weights from best epoch are automatically used!\n",
      "  warnings.warn(wrn_msg)\n"
     ]
    },
    {
     "name": "stdout",
     "output_type": "stream",
     "text": [
      "\n",
      "Early stopping occurred at epoch 365 with best_epoch = 245 and best_val_0_accuracy = 0.95268\n"
     ]
    },
    {
     "name": "stderr",
     "output_type": "stream",
     "text": [
      "/opt/conda/lib/python3.11/site-packages/pytorch_tabnet/callbacks.py:172: UserWarning: Best weights from best epoch are automatically used!\n",
      "  warnings.warn(wrn_msg)\n",
      "/opt/conda/lib/python3.11/site-packages/pytorch_tabnet/callbacks.py:172: UserWarning: Best weights from best epoch are automatically used!\n",
      "  warnings.warn(wrn_msg)\n"
     ]
    },
    {
     "name": "stdout",
     "output_type": "stream",
     "text": [
      "\n",
      "Early stopping occurred at epoch 335 with best_epoch = 215 and best_val_0_accuracy = 0.94405\n"
     ]
    },
    {
     "name": "stderr",
     "output_type": "stream",
     "text": [
      "/opt/conda/lib/python3.11/site-packages/pytorch_tabnet/callbacks.py:172: UserWarning: Best weights from best epoch are automatically used!\n",
      "  warnings.warn(wrn_msg)\n"
     ]
    },
    {
     "name": "stdout",
     "output_type": "stream",
     "text": [
      "\n",
      "Early stopping occurred at epoch 379 with best_epoch = 259 and best_val_0_accuracy = 0.96101\n"
     ]
    },
    {
     "name": "stderr",
     "output_type": "stream",
     "text": [
      "/opt/conda/lib/python3.11/site-packages/pytorch_tabnet/callbacks.py:172: UserWarning: Best weights from best epoch are automatically used!\n",
      "  warnings.warn(wrn_msg)\n"
     ]
    },
    {
     "name": "stdout",
     "output_type": "stream",
     "text": [
      "\n",
      "Early stopping occurred at epoch 384 with best_epoch = 264 and best_val_0_accuracy = 0.95357\n"
     ]
    },
    {
     "name": "stderr",
     "output_type": "stream",
     "text": [
      "/opt/conda/lib/python3.11/site-packages/pytorch_tabnet/callbacks.py:172: UserWarning: Best weights from best epoch are automatically used!\n",
      "  warnings.warn(wrn_msg)\n"
     ]
    },
    {
     "name": "stdout",
     "output_type": "stream",
     "text": [
      "\n",
      "Early stopping occurred at epoch 363 with best_epoch = 243 and best_val_0_accuracy = 0.95982\n"
     ]
    },
    {
     "name": "stderr",
     "output_type": "stream",
     "text": [
      "/opt/conda/lib/python3.11/site-packages/pytorch_tabnet/callbacks.py:172: UserWarning: Best weights from best epoch are automatically used!\n",
      "  warnings.warn(wrn_msg)\n"
     ]
    },
    {
     "name": "stdout",
     "output_type": "stream",
     "text": [
      "\n",
      "Early stopping occurred at epoch 351 with best_epoch = 231 and best_val_0_accuracy = 0.96161\n",
      "\n",
      "Early stopping occurred at epoch 369 with best_epoch = 249 and best_val_0_accuracy = 0.95655\n"
     ]
    },
    {
     "name": "stderr",
     "output_type": "stream",
     "text": [
      "/opt/conda/lib/python3.11/site-packages/pytorch_tabnet/callbacks.py:172: UserWarning: Best weights from best epoch are automatically used!\n",
      "  warnings.warn(wrn_msg)\n"
     ]
    },
    {
     "name": "stdout",
     "output_type": "stream",
     "text": [
      "\n",
      "Early stopping occurred at epoch 374 with best_epoch = 254 and best_val_0_accuracy = 0.95417\n"
     ]
    },
    {
     "name": "stderr",
     "output_type": "stream",
     "text": [
      "/opt/conda/lib/python3.11/site-packages/pytorch_tabnet/callbacks.py:172: UserWarning: Best weights from best epoch are automatically used!\n",
      "  warnings.warn(wrn_msg)\n"
     ]
    },
    {
     "name": "stdout",
     "output_type": "stream",
     "text": [
      "Stop training because you reached max_epochs = 500 with best_epoch = 494 and best_val_0_accuracy = 0.96667\n"
     ]
    },
    {
     "name": "stderr",
     "output_type": "stream",
     "text": [
      "/opt/conda/lib/python3.11/site-packages/pytorch_tabnet/callbacks.py:172: UserWarning: Best weights from best epoch are automatically used!\n",
      "  warnings.warn(wrn_msg)\n",
      "/opt/conda/lib/python3.11/site-packages/pytorch_tabnet/callbacks.py:172: UserWarning: Best weights from best epoch are automatically used!\n",
      "  warnings.warn(wrn_msg)\n"
     ]
    },
    {
     "name": "stdout",
     "output_type": "stream",
     "text": [
      "Stop training because you reached max_epochs = 500 with best_epoch = 416 and best_val_0_accuracy = 0.96071\n",
      "Stop training because you reached max_epochs = 500 with best_epoch = 495 and best_val_0_accuracy = 0.9256\n"
     ]
    },
    {
     "name": "stderr",
     "output_type": "stream",
     "text": [
      "/opt/conda/lib/python3.11/site-packages/pytorch_tabnet/callbacks.py:172: UserWarning: Best weights from best epoch are automatically used!\n",
      "  warnings.warn(wrn_msg)\n"
     ]
    },
    {
     "name": "stdout",
     "output_type": "stream",
     "text": [
      "Stop training because you reached max_epochs = 500 with best_epoch = 497 and best_val_0_accuracy = 0.93958\n"
     ]
    },
    {
     "name": "stderr",
     "output_type": "stream",
     "text": [
      "/opt/conda/lib/python3.11/site-packages/pytorch_tabnet/callbacks.py:172: UserWarning: Best weights from best epoch are automatically used!\n",
      "  warnings.warn(wrn_msg)\n"
     ]
    },
    {
     "name": "stdout",
     "output_type": "stream",
     "text": [
      "\n",
      "Early stopping occurred at epoch 355 with best_epoch = 235 and best_val_0_accuracy = 0.97024\n"
     ]
    },
    {
     "name": "stderr",
     "output_type": "stream",
     "text": [
      "/opt/conda/lib/python3.11/site-packages/pytorch_tabnet/callbacks.py:172: UserWarning: Best weights from best epoch are automatically used!\n",
      "  warnings.warn(wrn_msg)\n"
     ]
    },
    {
     "name": "stdout",
     "output_type": "stream",
     "text": [
      "\n",
      "Early stopping occurred at epoch 361 with best_epoch = 241 and best_val_0_accuracy = 0.96548\n"
     ]
    },
    {
     "name": "stderr",
     "output_type": "stream",
     "text": [
      "/opt/conda/lib/python3.11/site-packages/pytorch_tabnet/callbacks.py:172: UserWarning: Best weights from best epoch are automatically used!\n",
      "  warnings.warn(wrn_msg)\n",
      "/opt/conda/lib/python3.11/site-packages/pytorch_tabnet/callbacks.py:172: UserWarning: Best weights from best epoch are automatically used!\n",
      "  warnings.warn(wrn_msg)\n"
     ]
    },
    {
     "name": "stdout",
     "output_type": "stream",
     "text": [
      "\n",
      "Early stopping occurred at epoch 401 with best_epoch = 281 and best_val_0_accuracy = 0.96905\n",
      "\n",
      "Early stopping occurred at epoch 379 with best_epoch = 259 and best_val_0_accuracy = 0.97381\n"
     ]
    },
    {
     "name": "stderr",
     "output_type": "stream",
     "text": [
      "/opt/conda/lib/python3.11/site-packages/pytorch_tabnet/callbacks.py:172: UserWarning: Best weights from best epoch are automatically used!\n",
      "  warnings.warn(wrn_msg)\n"
     ]
    },
    {
     "name": "stdout",
     "output_type": "stream",
     "text": [
      "\n",
      "Early stopping occurred at epoch 348 with best_epoch = 228 and best_val_0_accuracy = 0.94643\n"
     ]
    },
    {
     "name": "stderr",
     "output_type": "stream",
     "text": [
      "/opt/conda/lib/python3.11/site-packages/pytorch_tabnet/callbacks.py:172: UserWarning: Best weights from best epoch are automatically used!\n",
      "  warnings.warn(wrn_msg)\n"
     ]
    },
    {
     "name": "stdout",
     "output_type": "stream",
     "text": [
      "\n",
      "Early stopping occurred at epoch 380 with best_epoch = 260 and best_val_0_accuracy = 0.94315\n"
     ]
    },
    {
     "name": "stderr",
     "output_type": "stream",
     "text": [
      "/opt/conda/lib/python3.11/site-packages/pytorch_tabnet/callbacks.py:172: UserWarning: Best weights from best epoch are automatically used!\n",
      "  warnings.warn(wrn_msg)\n",
      "/opt/conda/lib/python3.11/site-packages/pytorch_tabnet/callbacks.py:172: UserWarning: Best weights from best epoch are automatically used!\n",
      "  warnings.warn(wrn_msg)\n"
     ]
    },
    {
     "name": "stdout",
     "output_type": "stream",
     "text": [
      "\n",
      "Early stopping occurred at epoch 378 with best_epoch = 258 and best_val_0_accuracy = 0.94702\n",
      "\n",
      "Early stopping occurred at epoch 367 with best_epoch = 247 and best_val_0_accuracy = 0.94732\n"
     ]
    },
    {
     "name": "stderr",
     "output_type": "stream",
     "text": [
      "/opt/conda/lib/python3.11/site-packages/pytorch_tabnet/callbacks.py:172: UserWarning: Best weights from best epoch are automatically used!\n",
      "  warnings.warn(wrn_msg)\n"
     ]
    },
    {
     "name": "stdout",
     "output_type": "stream",
     "text": [
      "\n",
      "Early stopping occurred at epoch 360 with best_epoch = 240 and best_val_0_accuracy = 0.96875\n"
     ]
    },
    {
     "name": "stderr",
     "output_type": "stream",
     "text": [
      "/opt/conda/lib/python3.11/site-packages/pytorch_tabnet/callbacks.py:172: UserWarning: Best weights from best epoch are automatically used!\n",
      "  warnings.warn(wrn_msg)\n"
     ]
    },
    {
     "name": "stdout",
     "output_type": "stream",
     "text": [
      "Stop training because you reached max_epochs = 500 with best_epoch = 423 and best_val_0_accuracy = 0.92887\n"
     ]
    },
    {
     "name": "stderr",
     "output_type": "stream",
     "text": [
      "/opt/conda/lib/python3.11/site-packages/pytorch_tabnet/callbacks.py:172: UserWarning: Best weights from best epoch are automatically used!\n",
      "  warnings.warn(wrn_msg)\n"
     ]
    },
    {
     "name": "stdout",
     "output_type": "stream",
     "text": [
      "Stop training because you reached max_epochs = 500 with best_epoch = 423 and best_val_0_accuracy = 0.93929\n"
     ]
    },
    {
     "name": "stderr",
     "output_type": "stream",
     "text": [
      "/opt/conda/lib/python3.11/site-packages/pytorch_tabnet/callbacks.py:172: UserWarning: Best weights from best epoch are automatically used!\n",
      "  warnings.warn(wrn_msg)\n"
     ]
    },
    {
     "name": "stdout",
     "output_type": "stream",
     "text": [
      "\n",
      "Early stopping occurred at epoch 367 with best_epoch = 247 and best_val_0_accuracy = 0.96845\n"
     ]
    },
    {
     "name": "stderr",
     "output_type": "stream",
     "text": [
      "/opt/conda/lib/python3.11/site-packages/pytorch_tabnet/callbacks.py:172: UserWarning: Best weights from best epoch are automatically used!\n",
      "  warnings.warn(wrn_msg)\n",
      "/opt/conda/lib/python3.11/site-packages/pytorch_tabnet/callbacks.py:172: UserWarning: Best weights from best epoch are automatically used!\n",
      "  warnings.warn(wrn_msg)\n"
     ]
    },
    {
     "name": "stdout",
     "output_type": "stream",
     "text": [
      "\n",
      "Early stopping occurred at epoch 366 with best_epoch = 246 and best_val_0_accuracy = 0.97292\n",
      "Stop training because you reached max_epochs = 500 with best_epoch = 495 and best_val_0_accuracy = 0.97321\n"
     ]
    },
    {
     "name": "stderr",
     "output_type": "stream",
     "text": [
      "/opt/conda/lib/python3.11/site-packages/pytorch_tabnet/callbacks.py:172: UserWarning: Best weights from best epoch are automatically used!\n",
      "  warnings.warn(wrn_msg)\n"
     ]
    },
    {
     "name": "stdout",
     "output_type": "stream",
     "text": [
      "\n",
      "Early stopping occurred at epoch 463 with best_epoch = 343 and best_val_0_accuracy = 0.9869\n"
     ]
    },
    {
     "name": "stderr",
     "output_type": "stream",
     "text": [
      "/opt/conda/lib/python3.11/site-packages/pytorch_tabnet/callbacks.py:172: UserWarning: Best weights from best epoch are automatically used!\n",
      "  warnings.warn(wrn_msg)\n"
     ]
    },
    {
     "name": "stdout",
     "output_type": "stream",
     "text": [
      "Stop training because you reached max_epochs = 500 with best_epoch = 452 and best_val_0_accuracy = 0.97381\n"
     ]
    },
    {
     "name": "stderr",
     "output_type": "stream",
     "text": [
      "/opt/conda/lib/python3.11/site-packages/pytorch_tabnet/callbacks.py:172: UserWarning: Best weights from best epoch are automatically used!\n",
      "  warnings.warn(wrn_msg)\n"
     ]
    },
    {
     "name": "stdout",
     "output_type": "stream",
     "text": [
      "\n",
      "Early stopping occurred at epoch 360 with best_epoch = 240 and best_val_0_accuracy = 0.94762\n"
     ]
    },
    {
     "name": "stderr",
     "output_type": "stream",
     "text": [
      "/opt/conda/lib/python3.11/site-packages/pytorch_tabnet/callbacks.py:172: UserWarning: Best weights from best epoch are automatically used!\n",
      "  warnings.warn(wrn_msg)\n",
      "/opt/conda/lib/python3.11/site-packages/pytorch_tabnet/callbacks.py:172: UserWarning: Best weights from best epoch are automatically used!\n",
      "  warnings.warn(wrn_msg)\n"
     ]
    },
    {
     "name": "stdout",
     "output_type": "stream",
     "text": [
      "Stop training because you reached max_epochs = 500 with best_epoch = 487 and best_val_0_accuracy = 0.93899\n",
      "Stop training because you reached max_epochs = 500 with best_epoch = 494 and best_val_0_accuracy = 0.94018\n"
     ]
    },
    {
     "name": "stderr",
     "output_type": "stream",
     "text": [
      "/opt/conda/lib/python3.11/site-packages/pytorch_tabnet/callbacks.py:172: UserWarning: Best weights from best epoch are automatically used!\n",
      "  warnings.warn(wrn_msg)\n"
     ]
    },
    {
     "name": "stdout",
     "output_type": "stream",
     "text": [
      "\n",
      "Early stopping occurred at epoch 384 with best_epoch = 264 and best_val_0_accuracy = 0.95149\n"
     ]
    },
    {
     "name": "stderr",
     "output_type": "stream",
     "text": [
      "/opt/conda/lib/python3.11/site-packages/pytorch_tabnet/callbacks.py:172: UserWarning: Best weights from best epoch are automatically used!\n",
      "  warnings.warn(wrn_msg)\n"
     ]
    },
    {
     "name": "stdout",
     "output_type": "stream",
     "text": [
      "Stop training because you reached max_epochs = 500 with best_epoch = 432 and best_val_0_accuracy = 0.97768\n"
     ]
    },
    {
     "name": "stderr",
     "output_type": "stream",
     "text": [
      "/opt/conda/lib/python3.11/site-packages/pytorch_tabnet/callbacks.py:172: UserWarning: Best weights from best epoch are automatically used!\n",
      "  warnings.warn(wrn_msg)\n"
     ]
    },
    {
     "name": "stdout",
     "output_type": "stream",
     "text": [
      "Stop training because you reached max_epochs = 500 with best_epoch = 383 and best_val_0_accuracy = 0.98512\n"
     ]
    },
    {
     "name": "stderr",
     "output_type": "stream",
     "text": [
      "/opt/conda/lib/python3.11/site-packages/pytorch_tabnet/callbacks.py:172: UserWarning: Best weights from best epoch are automatically used!\n",
      "  warnings.warn(wrn_msg)\n"
     ]
    },
    {
     "name": "stdout",
     "output_type": "stream",
     "text": [
      "\n",
      "Early stopping occurred at epoch 368 with best_epoch = 248 and best_val_0_accuracy = 0.95089\n"
     ]
    },
    {
     "name": "stderr",
     "output_type": "stream",
     "text": [
      "/opt/conda/lib/python3.11/site-packages/pytorch_tabnet/callbacks.py:172: UserWarning: Best weights from best epoch are automatically used!\n",
      "  warnings.warn(wrn_msg)\n"
     ]
    },
    {
     "name": "stdout",
     "output_type": "stream",
     "text": [
      "\n",
      "Early stopping occurred at epoch 371 with best_epoch = 251 and best_val_0_accuracy = 0.95982\n"
     ]
    },
    {
     "name": "stderr",
     "output_type": "stream",
     "text": [
      "/opt/conda/lib/python3.11/site-packages/pytorch_tabnet/callbacks.py:172: UserWarning: Best weights from best epoch are automatically used!\n",
      "  warnings.warn(wrn_msg)\n",
      "/opt/conda/lib/python3.11/site-packages/pytorch_tabnet/callbacks.py:172: UserWarning: Best weights from best epoch are automatically used!\n",
      "  warnings.warn(wrn_msg)\n"
     ]
    },
    {
     "name": "stdout",
     "output_type": "stream",
     "text": [
      "Stop training because you reached max_epochs = 500 with best_epoch = 489 and best_val_0_accuracy = 0.94851\n",
      "\n",
      "Early stopping occurred at epoch 322 with best_epoch = 202 and best_val_0_accuracy = 0.90929\n",
      "Best parameters: {'optimizer_params': {'lr': 0.01}, 'n_steps': 5, 'n_d': 24, 'n_a': 24, 'lambda_sparse': 0.01, 'gamma': 1.3}\n",
      "Best accuracy: 0.5366666666666667\n",
      "epoch 0  | loss: 5.18535 | val_0_accuracy: 0.03571 |  0:00:00s\n",
      "⏱️ Epoch 1 took 0.22 seconds\n",
      "epoch 1  | loss: 4.92375 | val_0_accuracy: 0.0369  |  0:00:00s\n",
      "⏱️ Epoch 2 took 0.22 seconds\n",
      "epoch 2  | loss: 4.58435 | val_0_accuracy: 0.03452 |  0:00:00s\n",
      "⏱️ Epoch 3 took 0.21 seconds\n",
      "epoch 3  | loss: 4.35752 | val_0_accuracy: 0.0381  |  0:00:00s\n",
      "⏱️ Epoch 4 took 0.22 seconds\n",
      "epoch 4  | loss: 4.22361 | val_0_accuracy: 0.03333 |  0:00:01s\n",
      "⏱️ Epoch 5 took 0.22 seconds\n",
      "epoch 5  | loss: 4.11252 | val_0_accuracy: 0.03333 |  0:00:01s\n",
      "⏱️ Epoch 6 took 0.21 seconds\n",
      "epoch 6  | loss: 3.98717 | val_0_accuracy: 0.03452 |  0:00:01s\n",
      "⏱️ Epoch 7 took 0.22 seconds\n",
      "epoch 7  | loss: 3.95381 | val_0_accuracy: 0.03333 |  0:00:01s\n",
      "⏱️ Epoch 8 took 0.22 seconds\n",
      "epoch 8  | loss: 3.8323  | val_0_accuracy: 0.03214 |  0:00:01s\n",
      "⏱️ Epoch 9 took 0.22 seconds\n",
      "epoch 9  | loss: 3.82833 | val_0_accuracy: 0.03452 |  0:00:02s\n",
      "⏱️ Epoch 10 took 0.21 seconds\n",
      "epoch 10 | loss: 3.75402 | val_0_accuracy: 0.02738 |  0:00:02s\n",
      "⏱️ Epoch 11 took 0.21 seconds\n",
      "epoch 11 | loss: 3.67498 | val_0_accuracy: 0.04048 |  0:00:02s\n",
      "⏱️ Epoch 12 took 0.22 seconds\n",
      "epoch 12 | loss: 3.67207 | val_0_accuracy: 0.02857 |  0:00:02s\n",
      "⏱️ Epoch 13 took 0.21 seconds\n",
      "epoch 13 | loss: 3.61868 | val_0_accuracy: 0.0369  |  0:00:03s\n",
      "⏱️ Epoch 14 took 0.22 seconds\n",
      "epoch 14 | loss: 3.5928  | val_0_accuracy: 0.04286 |  0:00:03s\n",
      "⏱️ Epoch 15 took 0.21 seconds\n",
      "epoch 15 | loss: 3.58593 | val_0_accuracy: 0.03452 |  0:00:03s\n",
      "⏱️ Epoch 16 took 0.21 seconds\n",
      "epoch 16 | loss: 3.56114 | val_0_accuracy: 0.03214 |  0:00:03s\n",
      "⏱️ Epoch 17 took 0.22 seconds\n",
      "epoch 17 | loss: 3.5081  | val_0_accuracy: 0.02381 |  0:00:03s\n",
      "⏱️ Epoch 18 took 0.21 seconds\n",
      "epoch 18 | loss: 3.4965  | val_0_accuracy: 0.02857 |  0:00:04s\n",
      "⏱️ Epoch 19 took 0.22 seconds\n",
      "epoch 19 | loss: 3.48533 | val_0_accuracy: 0.03214 |  0:00:04s\n",
      "⏱️ Epoch 20 took 0.22 seconds\n",
      "epoch 20 | loss: 3.47373 | val_0_accuracy: 0.03571 |  0:00:04s\n",
      "⏱️ Epoch 21 took 0.20 seconds\n",
      "epoch 21 | loss: 3.464   | val_0_accuracy: 0.03214 |  0:00:04s\n",
      "⏱️ Epoch 22 took 0.22 seconds\n",
      "epoch 22 | loss: 3.4285  | val_0_accuracy: 0.04286 |  0:00:04s\n",
      "⏱️ Epoch 23 took 0.22 seconds\n",
      "epoch 23 | loss: 3.4166  | val_0_accuracy: 0.04405 |  0:00:05s\n",
      "⏱️ Epoch 24 took 0.22 seconds\n",
      "epoch 24 | loss: 3.42409 | val_0_accuracy: 0.04524 |  0:00:05s\n",
      "⏱️ Epoch 25 took 0.22 seconds\n",
      "epoch 25 | loss: 3.40284 | val_0_accuracy: 0.04881 |  0:00:05s\n",
      "⏱️ Epoch 26 took 0.22 seconds\n",
      "epoch 26 | loss: 3.41489 | val_0_accuracy: 0.03452 |  0:00:05s\n",
      "⏱️ Epoch 27 took 0.21 seconds\n",
      "epoch 27 | loss: 3.38956 | val_0_accuracy: 0.03095 |  0:00:06s\n",
      "⏱️ Epoch 28 took 0.21 seconds\n",
      "epoch 28 | loss: 3.38429 | val_0_accuracy: 0.0381  |  0:00:06s\n",
      "⏱️ Epoch 29 took 0.22 seconds\n",
      "epoch 29 | loss: 3.37276 | val_0_accuracy: 0.04167 |  0:00:06s\n",
      "⏱️ Epoch 30 took 0.22 seconds\n",
      "epoch 30 | loss: 3.33963 | val_0_accuracy: 0.02619 |  0:00:06s\n",
      "⏱️ Epoch 31 took 0.22 seconds\n",
      "epoch 31 | loss: 3.34162 | val_0_accuracy: 0.04286 |  0:00:06s\n",
      "⏱️ Epoch 32 took 0.22 seconds\n",
      "epoch 32 | loss: 3.33474 | val_0_accuracy: 0.05714 |  0:00:07s\n",
      "⏱️ Epoch 33 took 0.23 seconds\n",
      "epoch 33 | loss: 3.30588 | val_0_accuracy: 0.05714 |  0:00:07s\n",
      "⏱️ Epoch 34 took 0.22 seconds\n",
      "epoch 34 | loss: 3.26937 | val_0_accuracy: 0.04048 |  0:00:07s\n",
      "⏱️ Epoch 35 took 0.22 seconds\n",
      "epoch 35 | loss: 3.24447 | val_0_accuracy: 0.02976 |  0:00:07s\n",
      "⏱️ Epoch 36 took 0.22 seconds\n",
      "epoch 36 | loss: 3.19852 | val_0_accuracy: 0.04286 |  0:00:08s\n",
      "⏱️ Epoch 37 took 0.21 seconds\n",
      "epoch 37 | loss: 3.17364 | val_0_accuracy: 0.0619  |  0:00:08s\n",
      "⏱️ Epoch 38 took 0.21 seconds\n",
      "epoch 38 | loss: 3.17155 | val_0_accuracy: 0.06429 |  0:00:08s\n",
      "⏱️ Epoch 39 took 0.22 seconds\n",
      "epoch 39 | loss: 3.13935 | val_0_accuracy: 0.05    |  0:00:08s\n",
      "⏱️ Epoch 40 took 0.22 seconds\n",
      "epoch 40 | loss: 3.10037 | val_0_accuracy: 0.04881 |  0:00:08s\n",
      "⏱️ Epoch 41 took 0.22 seconds\n",
      "epoch 41 | loss: 3.08739 | val_0_accuracy: 0.06071 |  0:00:09s\n",
      "⏱️ Epoch 42 took 0.22 seconds\n",
      "epoch 42 | loss: 3.0681  | val_0_accuracy: 0.05476 |  0:00:09s\n",
      "⏱️ Epoch 43 took 0.20 seconds\n",
      "epoch 43 | loss: 3.03473 | val_0_accuracy: 0.05833 |  0:00:09s\n",
      "⏱️ Epoch 44 took 0.21 seconds\n",
      "epoch 44 | loss: 2.99569 | val_0_accuracy: 0.07024 |  0:00:09s\n",
      "⏱️ Epoch 45 took 0.22 seconds\n",
      "epoch 45 | loss: 2.93776 | val_0_accuracy: 0.08452 |  0:00:09s\n",
      "⏱️ Epoch 46 took 0.23 seconds\n",
      "epoch 46 | loss: 2.84604 | val_0_accuracy: 0.08452 |  0:00:10s\n",
      "⏱️ Epoch 47 took 0.22 seconds\n",
      "epoch 47 | loss: 2.80747 | val_0_accuracy: 0.07381 |  0:00:10s\n",
      "⏱️ Epoch 48 took 0.22 seconds\n",
      "epoch 48 | loss: 2.79916 | val_0_accuracy: 0.07976 |  0:00:10s\n",
      "⏱️ Epoch 49 took 0.22 seconds\n",
      "epoch 49 | loss: 2.70036 | val_0_accuracy: 0.07976 |  0:00:10s\n",
      "⏱️ Epoch 50 took 0.22 seconds\n",
      "epoch 50 | loss: 2.65846 | val_0_accuracy: 0.09048 |  0:00:11s\n",
      "⏱️ Epoch 51 took 0.22 seconds\n",
      "epoch 51 | loss: 2.62998 | val_0_accuracy: 0.08333 |  0:00:11s\n",
      "⏱️ Epoch 52 took 0.21 seconds\n",
      "epoch 52 | loss: 2.5702  | val_0_accuracy: 0.0619  |  0:00:11s\n",
      "⏱️ Epoch 53 took 0.21 seconds\n",
      "epoch 53 | loss: 2.50821 | val_0_accuracy: 0.06071 |  0:00:11s\n",
      "⏱️ Epoch 54 took 0.22 seconds\n",
      "epoch 54 | loss: 2.49696 | val_0_accuracy: 0.06905 |  0:00:11s\n",
      "⏱️ Epoch 55 took 0.22 seconds\n",
      "epoch 55 | loss: 2.46595 | val_0_accuracy: 0.06429 |  0:00:12s\n",
      "⏱️ Epoch 56 took 0.22 seconds\n",
      "epoch 56 | loss: 2.42135 | val_0_accuracy: 0.06905 |  0:00:12s\n",
      "⏱️ Epoch 57 took 0.22 seconds\n",
      "epoch 57 | loss: 2.38132 | val_0_accuracy: 0.08214 |  0:00:12s\n",
      "⏱️ Epoch 58 took 0.22 seconds\n",
      "epoch 58 | loss: 2.34328 | val_0_accuracy: 0.0869  |  0:00:12s\n",
      "⏱️ Epoch 59 took 0.22 seconds\n",
      "epoch 59 | loss: 2.34971 | val_0_accuracy: 0.08333 |  0:00:12s\n",
      "⏱️ Epoch 60 took 0.21 seconds\n",
      "epoch 60 | loss: 2.33782 | val_0_accuracy: 0.1119  |  0:00:13s\n",
      "⏱️ Epoch 61 took 0.22 seconds\n",
      "epoch 61 | loss: 2.28462 | val_0_accuracy: 0.10595 |  0:00:13s\n",
      "⏱️ Epoch 62 took 0.22 seconds\n",
      "epoch 62 | loss: 2.22534 | val_0_accuracy: 0.10476 |  0:00:13s\n",
      "⏱️ Epoch 63 took 0.22 seconds\n",
      "epoch 63 | loss: 2.15509 | val_0_accuracy: 0.11905 |  0:00:13s\n",
      "⏱️ Epoch 64 took 0.22 seconds\n",
      "epoch 64 | loss: 2.09736 | val_0_accuracy: 0.12143 |  0:00:14s\n",
      "⏱️ Epoch 65 took 0.22 seconds\n",
      "epoch 65 | loss: 2.07562 | val_0_accuracy: 0.12024 |  0:00:14s\n",
      "⏱️ Epoch 66 took 0.20 seconds\n",
      "epoch 66 | loss: 2.01677 | val_0_accuracy: 0.12738 |  0:00:14s\n",
      "⏱️ Epoch 67 took 0.21 seconds\n",
      "epoch 67 | loss: 1.94571 | val_0_accuracy: 0.125   |  0:00:14s\n",
      "⏱️ Epoch 68 took 0.20 seconds\n",
      "epoch 68 | loss: 1.88136 | val_0_accuracy: 0.13333 |  0:00:14s\n",
      "⏱️ Epoch 69 took 0.22 seconds\n",
      "epoch 69 | loss: 1.79681 | val_0_accuracy: 0.15    |  0:00:15s\n",
      "⏱️ Epoch 70 took 0.22 seconds\n",
      "epoch 70 | loss: 1.77291 | val_0_accuracy: 0.15833 |  0:00:15s\n",
      "⏱️ Epoch 71 took 0.21 seconds\n",
      "epoch 71 | loss: 1.70562 | val_0_accuracy: 0.15476 |  0:00:15s\n",
      "⏱️ Epoch 72 took 0.22 seconds\n",
      "epoch 72 | loss: 1.67182 | val_0_accuracy: 0.1381  |  0:00:15s\n",
      "⏱️ Epoch 73 took 0.21 seconds\n",
      "epoch 73 | loss: 1.63201 | val_0_accuracy: 0.13095 |  0:00:15s\n",
      "⏱️ Epoch 74 took 0.21 seconds\n",
      "epoch 74 | loss: 1.55665 | val_0_accuracy: 0.13333 |  0:00:16s\n",
      "⏱️ Epoch 75 took 0.21 seconds\n",
      "epoch 75 | loss: 1.50148 | val_0_accuracy: 0.12976 |  0:00:16s\n",
      "⏱️ Epoch 76 took 0.21 seconds\n",
      "epoch 76 | loss: 1.45573 | val_0_accuracy: 0.1369  |  0:00:16s\n",
      "⏱️ Epoch 77 took 0.21 seconds\n",
      "epoch 77 | loss: 1.40505 | val_0_accuracy: 0.15357 |  0:00:16s\n",
      "⏱️ Epoch 78 took 0.21 seconds\n",
      "epoch 78 | loss: 1.38723 | val_0_accuracy: 0.15595 |  0:00:17s\n",
      "⏱️ Epoch 79 took 0.22 seconds\n",
      "epoch 79 | loss: 1.32627 | val_0_accuracy: 0.15595 |  0:00:17s\n",
      "⏱️ Epoch 80 took 0.22 seconds\n",
      "epoch 80 | loss: 1.32444 | val_0_accuracy: 0.15238 |  0:00:17s\n",
      "⏱️ Epoch 81 took 0.22 seconds\n",
      "epoch 81 | loss: 1.27084 | val_0_accuracy: 0.13929 |  0:00:17s\n",
      "⏱️ Epoch 82 took 0.22 seconds\n",
      "epoch 82 | loss: 1.24184 | val_0_accuracy: 0.14167 |  0:00:17s\n",
      "⏱️ Epoch 83 took 0.21 seconds\n",
      "epoch 83 | loss: 1.191   | val_0_accuracy: 0.14405 |  0:00:18s\n",
      "⏱️ Epoch 84 took 0.22 seconds\n",
      "epoch 84 | loss: 1.16669 | val_0_accuracy: 0.15714 |  0:00:18s\n",
      "⏱️ Epoch 85 took 0.22 seconds\n",
      "epoch 85 | loss: 1.14961 | val_0_accuracy: 0.15952 |  0:00:18s\n",
      "⏱️ Epoch 86 took 0.21 seconds\n",
      "epoch 86 | loss: 1.14793 | val_0_accuracy: 0.17024 |  0:00:18s\n",
      "⏱️ Epoch 87 took 0.22 seconds\n",
      "epoch 87 | loss: 1.08738 | val_0_accuracy: 0.17381 |  0:00:19s\n",
      "⏱️ Epoch 88 took 0.24 seconds\n",
      "epoch 88 | loss: 1.09217 | val_0_accuracy: 0.17381 |  0:00:19s\n",
      "⏱️ Epoch 89 took 0.22 seconds\n",
      "epoch 89 | loss: 1.08401 | val_0_accuracy: 0.1869  |  0:00:19s\n",
      "⏱️ Epoch 90 took 0.22 seconds\n",
      "epoch 90 | loss: 1.11385 | val_0_accuracy: 0.18571 |  0:00:19s\n",
      "⏱️ Epoch 91 took 0.22 seconds\n",
      "epoch 91 | loss: 1.04608 | val_0_accuracy: 0.17857 |  0:00:19s\n",
      "⏱️ Epoch 92 took 0.21 seconds\n",
      "epoch 92 | loss: 1.00255 | val_0_accuracy: 0.18214 |  0:00:20s\n",
      "⏱️ Epoch 93 took 0.21 seconds\n",
      "epoch 93 | loss: 0.99626 | val_0_accuracy: 0.18452 |  0:00:20s\n",
      "⏱️ Epoch 94 took 0.21 seconds\n",
      "epoch 94 | loss: 0.97931 | val_0_accuracy: 0.19762 |  0:00:20s\n",
      "⏱️ Epoch 95 took 0.22 seconds\n",
      "epoch 95 | loss: 0.94789 | val_0_accuracy: 0.2     |  0:00:20s\n",
      "⏱️ Epoch 96 took 0.22 seconds\n",
      "epoch 96 | loss: 0.94291 | val_0_accuracy: 0.20476 |  0:00:20s\n",
      "⏱️ Epoch 97 took 0.22 seconds\n",
      "epoch 97 | loss: 0.92463 | val_0_accuracy: 0.20952 |  0:00:21s\n",
      "⏱️ Epoch 98 took 0.22 seconds\n",
      "epoch 98 | loss: 0.88979 | val_0_accuracy: 0.20238 |  0:00:21s\n",
      "⏱️ Epoch 99 took 0.17 seconds\n",
      "epoch 99 | loss: 0.89268 | val_0_accuracy: 0.19286 |  0:00:21s\n",
      "⏱️ Epoch 100 took 0.18 seconds\n",
      "epoch 100| loss: 0.87591 | val_0_accuracy: 0.20952 |  0:00:21s\n",
      "⏱️ Epoch 101 took 0.18 seconds\n",
      "epoch 101| loss: 0.85156 | val_0_accuracy: 0.22381 |  0:00:21s\n",
      "⏱️ Epoch 102 took 0.19 seconds\n",
      "epoch 102| loss: 0.82337 | val_0_accuracy: 0.23095 |  0:00:22s\n",
      "⏱️ Epoch 103 took 0.19 seconds\n",
      "epoch 103| loss: 0.81984 | val_0_accuracy: 0.23452 |  0:00:22s\n",
      "⏱️ Epoch 104 took 0.19 seconds\n",
      "epoch 104| loss: 0.81541 | val_0_accuracy: 0.23571 |  0:00:22s\n",
      "⏱️ Epoch 105 took 0.19 seconds\n",
      "epoch 105| loss: 0.80969 | val_0_accuracy: 0.22857 |  0:00:22s\n",
      "⏱️ Epoch 106 took 0.19 seconds\n",
      "epoch 106| loss: 0.81311 | val_0_accuracy: 0.23095 |  0:00:22s\n",
      "⏱️ Epoch 107 took 0.19 seconds\n",
      "epoch 107| loss: 0.76422 | val_0_accuracy: 0.22976 |  0:00:23s\n",
      "⏱️ Epoch 108 took 0.18 seconds\n",
      "epoch 108| loss: 0.74705 | val_0_accuracy: 0.22619 |  0:00:23s\n",
      "⏱️ Epoch 109 took 0.19 seconds\n",
      "epoch 109| loss: 0.74058 | val_0_accuracy: 0.2369  |  0:00:23s\n",
      "⏱️ Epoch 110 took 0.19 seconds\n",
      "epoch 110| loss: 0.72785 | val_0_accuracy: 0.2381  |  0:00:23s\n",
      "⏱️ Epoch 111 took 0.18 seconds\n",
      "epoch 111| loss: 0.72688 | val_0_accuracy: 0.23929 |  0:00:23s\n",
      "⏱️ Epoch 112 took 0.18 seconds\n",
      "epoch 112| loss: 0.69255 | val_0_accuracy: 0.24286 |  0:00:23s\n",
      "⏱️ Epoch 113 took 0.19 seconds\n",
      "epoch 113| loss: 0.68432 | val_0_accuracy: 0.24524 |  0:00:24s\n",
      "⏱️ Epoch 114 took 0.15 seconds\n",
      "epoch 114| loss: 0.66538 | val_0_accuracy: 0.24524 |  0:00:24s\n",
      "⏱️ Epoch 115 took 0.13 seconds\n",
      "epoch 115| loss: 0.67113 | val_0_accuracy: 0.24286 |  0:00:24s\n",
      "⏱️ Epoch 116 took 0.17 seconds\n",
      "epoch 116| loss: 0.64417 | val_0_accuracy: 0.25    |  0:00:24s\n",
      "⏱️ Epoch 117 took 0.22 seconds\n",
      "epoch 117| loss: 0.6546  | val_0_accuracy: 0.25833 |  0:00:24s\n",
      "⏱️ Epoch 118 took 0.23 seconds\n",
      "epoch 118| loss: 0.63394 | val_0_accuracy: 0.25833 |  0:00:25s\n",
      "⏱️ Epoch 119 took 0.21 seconds\n",
      "epoch 119| loss: 0.61683 | val_0_accuracy: 0.27024 |  0:00:25s\n",
      "⏱️ Epoch 120 took 0.22 seconds\n",
      "epoch 120| loss: 0.59485 | val_0_accuracy: 0.27381 |  0:00:25s\n",
      "⏱️ Epoch 121 took 0.22 seconds\n",
      "epoch 121| loss: 0.603   | val_0_accuracy: 0.28095 |  0:00:25s\n",
      "⏱️ Epoch 122 took 0.22 seconds\n",
      "epoch 122| loss: 0.59316 | val_0_accuracy: 0.27976 |  0:00:26s\n",
      "⏱️ Epoch 123 took 0.22 seconds\n",
      "epoch 123| loss: 0.58793 | val_0_accuracy: 0.28214 |  0:00:26s\n",
      "⏱️ Epoch 124 took 0.22 seconds\n",
      "epoch 124| loss: 0.57033 | val_0_accuracy: 0.28571 |  0:00:26s\n",
      "⏱️ Epoch 125 took 0.22 seconds\n",
      "epoch 125| loss: 0.57343 | val_0_accuracy: 0.2869  |  0:00:26s\n",
      "⏱️ Epoch 126 took 0.17 seconds\n",
      "epoch 126| loss: 0.57969 | val_0_accuracy: 0.29167 |  0:00:26s\n",
      "⏱️ Epoch 127 took 0.18 seconds\n",
      "epoch 127| loss: 0.58152 | val_0_accuracy: 0.29048 |  0:00:27s\n",
      "⏱️ Epoch 128 took 0.21 seconds\n",
      "epoch 128| loss: 0.55853 | val_0_accuracy: 0.29762 |  0:00:27s\n",
      "⏱️ Epoch 129 took 0.22 seconds\n",
      "epoch 129| loss: 0.56593 | val_0_accuracy: 0.2881  |  0:00:27s\n",
      "⏱️ Epoch 130 took 0.21 seconds\n",
      "epoch 130| loss: 0.55619 | val_0_accuracy: 0.29286 |  0:00:27s\n",
      "⏱️ Epoch 131 took 0.21 seconds\n",
      "epoch 131| loss: 0.52766 | val_0_accuracy: 0.3     |  0:00:27s\n",
      "⏱️ Epoch 132 took 0.22 seconds\n",
      "epoch 132| loss: 0.54802 | val_0_accuracy: 0.29881 |  0:00:28s\n",
      "⏱️ Epoch 133 took 0.22 seconds\n",
      "epoch 133| loss: 0.53025 | val_0_accuracy: 0.30952 |  0:00:28s\n",
      "⏱️ Epoch 134 took 0.22 seconds\n",
      "epoch 134| loss: 0.5095  | val_0_accuracy: 0.32024 |  0:00:28s\n",
      "⏱️ Epoch 135 took 0.22 seconds\n",
      "epoch 135| loss: 0.52214 | val_0_accuracy: 0.32262 |  0:00:28s\n",
      "⏱️ Epoch 136 took 0.37 seconds\n",
      "epoch 136| loss: 0.49284 | val_0_accuracy: 0.32619 |  0:00:29s\n",
      "⏱️ Epoch 137 took 0.23 seconds\n",
      "epoch 137| loss: 0.48507 | val_0_accuracy: 0.325   |  0:00:29s\n",
      "⏱️ Epoch 138 took 0.22 seconds\n",
      "epoch 138| loss: 0.50814 | val_0_accuracy: 0.32857 |  0:00:29s\n",
      "⏱️ Epoch 139 took 0.23 seconds\n",
      "epoch 139| loss: 0.47834 | val_0_accuracy: 0.33571 |  0:00:29s\n",
      "⏱️ Epoch 140 took 0.22 seconds\n",
      "epoch 140| loss: 0.47264 | val_0_accuracy: 0.32619 |  0:00:30s\n",
      "⏱️ Epoch 141 took 0.22 seconds\n",
      "epoch 141| loss: 0.47091 | val_0_accuracy: 0.33452 |  0:00:30s\n",
      "⏱️ Epoch 142 took 0.22 seconds\n",
      "epoch 142| loss: 0.47043 | val_0_accuracy: 0.34405 |  0:00:30s\n",
      "⏱️ Epoch 143 took 0.23 seconds\n",
      "epoch 143| loss: 0.45455 | val_0_accuracy: 0.35595 |  0:00:30s\n",
      "⏱️ Epoch 144 took 0.22 seconds\n",
      "epoch 144| loss: 0.46115 | val_0_accuracy: 0.35238 |  0:00:30s\n",
      "⏱️ Epoch 145 took 0.22 seconds\n",
      "epoch 145| loss: 0.44902 | val_0_accuracy: 0.3619  |  0:00:31s\n",
      "⏱️ Epoch 146 took 0.18 seconds\n",
      "epoch 146| loss: 0.46072 | val_0_accuracy: 0.36429 |  0:00:31s\n",
      "⏱️ Epoch 147 took 0.14 seconds\n",
      "epoch 147| loss: 0.46118 | val_0_accuracy: 0.36667 |  0:00:31s\n",
      "⏱️ Epoch 148 took 0.14 seconds\n",
      "epoch 148| loss: 0.43392 | val_0_accuracy: 0.37381 |  0:00:31s\n",
      "⏱️ Epoch 149 took 0.14 seconds\n",
      "epoch 149| loss: 0.42388 | val_0_accuracy: 0.38333 |  0:00:31s\n",
      "⏱️ Epoch 150 took 0.14 seconds\n",
      "epoch 150| loss: 0.43698 | val_0_accuracy: 0.38214 |  0:00:31s\n",
      "⏱️ Epoch 151 took 0.13 seconds\n",
      "epoch 151| loss: 0.41625 | val_0_accuracy: 0.3869  |  0:00:31s\n",
      "⏱️ Epoch 152 took 0.13 seconds\n",
      "epoch 152| loss: 0.42202 | val_0_accuracy: 0.38452 |  0:00:32s\n",
      "⏱️ Epoch 153 took 0.13 seconds\n",
      "epoch 153| loss: 0.40916 | val_0_accuracy: 0.38571 |  0:00:32s\n",
      "⏱️ Epoch 154 took 0.13 seconds\n",
      "epoch 154| loss: 0.43212 | val_0_accuracy: 0.39048 |  0:00:32s\n",
      "⏱️ Epoch 155 took 0.13 seconds\n",
      "epoch 155| loss: 0.40842 | val_0_accuracy: 0.38929 |  0:00:32s\n",
      "⏱️ Epoch 156 took 0.13 seconds\n",
      "epoch 156| loss: 0.42614 | val_0_accuracy: 0.39643 |  0:00:32s\n",
      "⏱️ Epoch 157 took 0.14 seconds\n",
      "epoch 157| loss: 0.39149 | val_0_accuracy: 0.40476 |  0:00:32s\n",
      "⏱️ Epoch 158 took 0.13 seconds\n",
      "epoch 158| loss: 0.38523 | val_0_accuracy: 0.40714 |  0:00:32s\n",
      "⏱️ Epoch 159 took 0.14 seconds\n",
      "epoch 159| loss: 0.38757 | val_0_accuracy: 0.41667 |  0:00:32s\n",
      "⏱️ Epoch 160 took 0.13 seconds\n",
      "epoch 160| loss: 0.37877 | val_0_accuracy: 0.42024 |  0:00:33s\n",
      "⏱️ Epoch 161 took 0.13 seconds\n",
      "epoch 161| loss: 0.38486 | val_0_accuracy: 0.43333 |  0:00:33s\n",
      "⏱️ Epoch 162 took 0.13 seconds\n",
      "epoch 162| loss: 0.3641  | val_0_accuracy: 0.43571 |  0:00:33s\n",
      "⏱️ Epoch 163 took 0.13 seconds\n",
      "epoch 163| loss: 0.36816 | val_0_accuracy: 0.43452 |  0:00:33s\n",
      "⏱️ Epoch 164 took 0.13 seconds\n",
      "epoch 164| loss: 0.34383 | val_0_accuracy: 0.42976 |  0:00:33s\n",
      "⏱️ Epoch 165 took 0.13 seconds\n",
      "epoch 165| loss: 0.34998 | val_0_accuracy: 0.42976 |  0:00:33s\n",
      "⏱️ Epoch 166 took 0.13 seconds\n",
      "epoch 166| loss: 0.33916 | val_0_accuracy: 0.4369  |  0:00:33s\n",
      "⏱️ Epoch 167 took 0.13 seconds\n",
      "epoch 167| loss: 0.35536 | val_0_accuracy: 0.44286 |  0:00:34s\n",
      "⏱️ Epoch 168 took 0.14 seconds\n",
      "epoch 168| loss: 0.33266 | val_0_accuracy: 0.45    |  0:00:34s\n",
      "⏱️ Epoch 169 took 0.13 seconds\n",
      "epoch 169| loss: 0.35385 | val_0_accuracy: 0.45357 |  0:00:34s\n",
      "⏱️ Epoch 170 took 0.13 seconds\n",
      "epoch 170| loss: 0.3464  | val_0_accuracy: 0.44524 |  0:00:34s\n",
      "⏱️ Epoch 171 took 0.13 seconds\n",
      "epoch 171| loss: 0.34511 | val_0_accuracy: 0.45    |  0:00:34s\n",
      "⏱️ Epoch 172 took 0.13 seconds\n",
      "epoch 172| loss: 0.3407  | val_0_accuracy: 0.45357 |  0:00:34s\n",
      "⏱️ Epoch 173 took 0.13 seconds\n",
      "epoch 173| loss: 0.34874 | val_0_accuracy: 0.45238 |  0:00:34s\n",
      "⏱️ Epoch 174 took 0.13 seconds\n",
      "epoch 174| loss: 0.35368 | val_0_accuracy: 0.45238 |  0:00:34s\n",
      "⏱️ Epoch 175 took 0.13 seconds\n",
      "epoch 175| loss: 0.33673 | val_0_accuracy: 0.44524 |  0:00:35s\n",
      "⏱️ Epoch 176 took 0.14 seconds\n",
      "epoch 176| loss: 0.33824 | val_0_accuracy: 0.45714 |  0:00:35s\n",
      "⏱️ Epoch 177 took 0.14 seconds\n",
      "epoch 177| loss: 0.32713 | val_0_accuracy: 0.46429 |  0:00:35s\n",
      "⏱️ Epoch 178 took 0.14 seconds\n",
      "epoch 178| loss: 0.31813 | val_0_accuracy: 0.46667 |  0:00:35s\n",
      "⏱️ Epoch 179 took 0.14 seconds\n",
      "epoch 179| loss: 0.3254  | val_0_accuracy: 0.46905 |  0:00:35s\n",
      "⏱️ Epoch 180 took 0.13 seconds\n",
      "epoch 180| loss: 0.33257 | val_0_accuracy: 0.47262 |  0:00:35s\n",
      "⏱️ Epoch 181 took 0.14 seconds\n",
      "epoch 181| loss: 0.32485 | val_0_accuracy: 0.47143 |  0:00:35s\n",
      "⏱️ Epoch 182 took 0.14 seconds\n",
      "epoch 182| loss: 0.31407 | val_0_accuracy: 0.47738 |  0:00:36s\n",
      "⏱️ Epoch 183 took 0.13 seconds\n",
      "epoch 183| loss: 0.31267 | val_0_accuracy: 0.47381 |  0:00:36s\n",
      "⏱️ Epoch 184 took 0.13 seconds\n",
      "epoch 184| loss: 0.31948 | val_0_accuracy: 0.475   |  0:00:36s\n",
      "⏱️ Epoch 185 took 0.13 seconds\n",
      "epoch 185| loss: 0.30889 | val_0_accuracy: 0.48452 |  0:00:36s\n",
      "⏱️ Epoch 186 took 0.13 seconds\n",
      "epoch 186| loss: 0.31679 | val_0_accuracy: 0.47738 |  0:00:36s\n",
      "⏱️ Epoch 187 took 0.13 seconds\n",
      "epoch 187| loss: 0.3213  | val_0_accuracy: 0.47976 |  0:00:36s\n",
      "⏱️ Epoch 188 took 0.13 seconds\n",
      "epoch 188| loss: 0.28321 | val_0_accuracy: 0.48333 |  0:00:36s\n",
      "⏱️ Epoch 189 took 0.13 seconds\n",
      "epoch 189| loss: 0.28509 | val_0_accuracy: 0.48929 |  0:00:36s\n",
      "⏱️ Epoch 190 took 0.13 seconds\n",
      "epoch 190| loss: 0.30104 | val_0_accuracy: 0.48929 |  0:00:37s\n",
      "⏱️ Epoch 191 took 0.13 seconds\n",
      "epoch 191| loss: 0.30353 | val_0_accuracy: 0.4869  |  0:00:37s\n",
      "⏱️ Epoch 192 took 0.13 seconds\n",
      "epoch 192| loss: 0.28355 | val_0_accuracy: 0.48571 |  0:00:37s\n",
      "⏱️ Epoch 193 took 0.13 seconds\n",
      "epoch 193| loss: 0.2824  | val_0_accuracy: 0.48214 |  0:00:37s\n",
      "⏱️ Epoch 194 took 0.13 seconds\n",
      "epoch 194| loss: 0.30228 | val_0_accuracy: 0.48333 |  0:00:37s\n",
      "⏱️ Epoch 195 took 0.13 seconds\n",
      "epoch 195| loss: 0.2778  | val_0_accuracy: 0.48333 |  0:00:37s\n",
      "⏱️ Epoch 196 took 0.13 seconds\n",
      "epoch 196| loss: 0.2838  | val_0_accuracy: 0.4869  |  0:00:37s\n",
      "⏱️ Epoch 197 took 0.13 seconds\n",
      "epoch 197| loss: 0.27687 | val_0_accuracy: 0.48333 |  0:00:37s\n",
      "⏱️ Epoch 198 took 0.13 seconds\n",
      "epoch 198| loss: 0.28885 | val_0_accuracy: 0.47976 |  0:00:38s\n",
      "⏱️ Epoch 199 took 0.13 seconds\n",
      "epoch 199| loss: 0.26132 | val_0_accuracy: 0.47976 |  0:00:38s\n",
      "⏱️ Epoch 200 took 0.13 seconds\n",
      "epoch 200| loss: 0.25418 | val_0_accuracy: 0.48452 |  0:00:38s\n",
      "⏱️ Epoch 201 took 0.13 seconds\n",
      "epoch 201| loss: 0.25971 | val_0_accuracy: 0.48571 |  0:00:38s\n",
      "⏱️ Epoch 202 took 0.13 seconds\n",
      "epoch 202| loss: 0.25977 | val_0_accuracy: 0.47976 |  0:00:38s\n",
      "⏱️ Epoch 203 took 0.13 seconds\n",
      "epoch 203| loss: 0.27107 | val_0_accuracy: 0.48452 |  0:00:38s\n",
      "⏱️ Epoch 204 took 0.13 seconds\n",
      "epoch 204| loss: 0.25853 | val_0_accuracy: 0.47976 |  0:00:38s\n",
      "⏱️ Epoch 205 took 0.13 seconds\n",
      "epoch 205| loss: 0.24994 | val_0_accuracy: 0.47262 |  0:00:39s\n",
      "⏱️ Epoch 206 took 0.13 seconds\n",
      "epoch 206| loss: 0.26407 | val_0_accuracy: 0.47024 |  0:00:39s\n",
      "⏱️ Epoch 207 took 0.13 seconds\n",
      "epoch 207| loss: 0.26948 | val_0_accuracy: 0.47143 |  0:00:39s\n",
      "⏱️ Epoch 208 took 0.13 seconds\n",
      "epoch 208| loss: 0.27157 | val_0_accuracy: 0.47857 |  0:00:39s\n",
      "⏱️ Epoch 209 took 0.13 seconds\n",
      "epoch 209| loss: 0.25882 | val_0_accuracy: 0.48571 |  0:00:39s\n",
      "⏱️ Epoch 210 took 0.13 seconds\n",
      "epoch 210| loss: 0.23635 | val_0_accuracy: 0.48929 |  0:00:39s\n",
      "⏱️ Epoch 211 took 0.13 seconds\n",
      "epoch 211| loss: 0.23393 | val_0_accuracy: 0.48214 |  0:00:39s\n",
      "⏱️ Epoch 212 took 0.13 seconds\n",
      "epoch 212| loss: 0.24417 | val_0_accuracy: 0.48214 |  0:00:39s\n",
      "⏱️ Epoch 213 took 0.13 seconds\n",
      "epoch 213| loss: 0.24644 | val_0_accuracy: 0.47738 |  0:00:40s\n",
      "⏱️ Epoch 214 took 0.13 seconds\n",
      "epoch 214| loss: 0.23585 | val_0_accuracy: 0.47619 |  0:00:40s\n",
      "⏱️ Epoch 215 took 0.13 seconds\n",
      "epoch 215| loss: 0.24011 | val_0_accuracy: 0.48333 |  0:00:40s\n",
      "⏱️ Epoch 216 took 0.13 seconds\n",
      "epoch 216| loss: 0.23835 | val_0_accuracy: 0.47381 |  0:00:40s\n",
      "⏱️ Epoch 217 took 0.13 seconds\n",
      "epoch 217| loss: 0.2271  | val_0_accuracy: 0.48333 |  0:00:40s\n",
      "⏱️ Epoch 218 took 0.13 seconds\n",
      "epoch 218| loss: 0.2435  | val_0_accuracy: 0.48333 |  0:00:40s\n",
      "⏱️ Epoch 219 took 0.13 seconds\n",
      "epoch 219| loss: 0.23951 | val_0_accuracy: 0.47857 |  0:00:40s\n",
      "⏱️ Epoch 220 took 0.13 seconds\n",
      "epoch 220| loss: 0.24044 | val_0_accuracy: 0.475   |  0:00:40s\n",
      "⏱️ Epoch 221 took 0.13 seconds\n",
      "epoch 221| loss: 0.22963 | val_0_accuracy: 0.47857 |  0:00:41s\n",
      "⏱️ Epoch 222 took 0.13 seconds\n",
      "epoch 222| loss: 0.23886 | val_0_accuracy: 0.47976 |  0:00:41s\n",
      "⏱️ Epoch 223 took 0.13 seconds\n",
      "epoch 223| loss: 0.23899 | val_0_accuracy: 0.47976 |  0:00:41s\n",
      "⏱️ Epoch 224 took 0.13 seconds\n",
      "epoch 224| loss: 0.23139 | val_0_accuracy: 0.48214 |  0:00:41s\n",
      "⏱️ Epoch 225 took 0.13 seconds\n",
      "epoch 225| loss: 0.25112 | val_0_accuracy: 0.47262 |  0:00:41s\n",
      "⏱️ Epoch 226 took 0.13 seconds\n",
      "epoch 226| loss: 0.22095 | val_0_accuracy: 0.47143 |  0:00:41s\n",
      "⏱️ Epoch 227 took 0.13 seconds\n",
      "epoch 227| loss: 0.23998 | val_0_accuracy: 0.47738 |  0:00:41s\n",
      "⏱️ Epoch 228 took 0.13 seconds\n",
      "epoch 228| loss: 0.236   | val_0_accuracy: 0.475   |  0:00:42s\n",
      "⏱️ Epoch 229 took 0.13 seconds\n",
      "epoch 229| loss: 0.24359 | val_0_accuracy: 0.47262 |  0:00:42s\n",
      "⏱️ Epoch 230 took 0.13 seconds\n",
      "epoch 230| loss: 0.21549 | val_0_accuracy: 0.47024 |  0:00:42s\n",
      "⏱️ Epoch 231 took 0.13 seconds\n",
      "epoch 231| loss: 0.23631 | val_0_accuracy: 0.47262 |  0:00:42s\n",
      "⏱️ Epoch 232 took 0.13 seconds\n",
      "epoch 232| loss: 0.22803 | val_0_accuracy: 0.47857 |  0:00:42s\n",
      "⏱️ Epoch 233 took 0.13 seconds\n",
      "epoch 233| loss: 0.22249 | val_0_accuracy: 0.475   |  0:00:42s\n",
      "⏱️ Epoch 234 took 0.14 seconds\n",
      "epoch 234| loss: 0.25399 | val_0_accuracy: 0.48333 |  0:00:42s\n",
      "⏱️ Epoch 235 took 0.13 seconds\n",
      "epoch 235| loss: 0.243   | val_0_accuracy: 0.48214 |  0:00:42s\n",
      "⏱️ Epoch 236 took 0.13 seconds\n",
      "epoch 236| loss: 0.23487 | val_0_accuracy: 0.48333 |  0:00:43s\n",
      "⏱️ Epoch 237 took 0.13 seconds\n",
      "epoch 237| loss: 0.22118 | val_0_accuracy: 0.47381 |  0:00:43s\n",
      "⏱️ Epoch 238 took 0.13 seconds\n",
      "epoch 238| loss: 0.22692 | val_0_accuracy: 0.47143 |  0:00:43s\n",
      "⏱️ Epoch 239 took 0.13 seconds\n",
      "epoch 239| loss: 0.23657 | val_0_accuracy: 0.475   |  0:00:43s\n",
      "⏱️ Epoch 240 took 0.13 seconds\n",
      "epoch 240| loss: 0.22094 | val_0_accuracy: 0.47619 |  0:00:43s\n",
      "⏱️ Epoch 241 took 0.13 seconds\n",
      "epoch 241| loss: 0.2293  | val_0_accuracy: 0.47024 |  0:00:43s\n",
      "⏱️ Epoch 242 took 0.13 seconds\n",
      "epoch 242| loss: 0.21914 | val_0_accuracy: 0.47143 |  0:00:43s\n",
      "⏱️ Epoch 243 took 0.13 seconds\n",
      "epoch 243| loss: 0.21608 | val_0_accuracy: 0.47143 |  0:00:43s\n",
      "⏱️ Epoch 244 took 0.13 seconds\n",
      "epoch 244| loss: 0.23159 | val_0_accuracy: 0.46548 |  0:00:44s\n",
      "⏱️ Epoch 245 took 0.13 seconds\n",
      "epoch 245| loss: 0.20685 | val_0_accuracy: 0.46667 |  0:00:44s\n",
      "⏱️ Epoch 246 took 0.13 seconds\n",
      "epoch 246| loss: 0.21775 | val_0_accuracy: 0.46905 |  0:00:44s\n",
      "⏱️ Epoch 247 took 0.13 seconds\n",
      "epoch 247| loss: 0.22793 | val_0_accuracy: 0.47738 |  0:00:44s\n",
      "⏱️ Epoch 248 took 0.13 seconds\n",
      "epoch 248| loss: 0.20134 | val_0_accuracy: 0.47143 |  0:00:44s\n",
      "⏱️ Epoch 249 took 0.13 seconds\n",
      "epoch 249| loss: 0.22222 | val_0_accuracy: 0.47262 |  0:00:44s\n",
      "⏱️ Epoch 250 took 0.13 seconds\n",
      "epoch 250| loss: 0.21569 | val_0_accuracy: 0.475   |  0:00:44s\n",
      "⏱️ Epoch 251 took 0.13 seconds\n",
      "epoch 251| loss: 0.21097 | val_0_accuracy: 0.47619 |  0:00:44s\n",
      "⏱️ Epoch 252 took 0.13 seconds\n",
      "epoch 252| loss: 0.21958 | val_0_accuracy: 0.47738 |  0:00:45s\n",
      "⏱️ Epoch 253 took 0.13 seconds\n",
      "epoch 253| loss: 0.1938  | val_0_accuracy: 0.47738 |  0:00:45s\n",
      "⏱️ Epoch 254 took 0.13 seconds\n",
      "epoch 254| loss: 0.20802 | val_0_accuracy: 0.48571 |  0:00:45s\n",
      "⏱️ Epoch 255 took 0.13 seconds\n",
      "epoch 255| loss: 0.20064 | val_0_accuracy: 0.48452 |  0:00:45s\n",
      "⏱️ Epoch 256 took 0.13 seconds\n",
      "epoch 256| loss: 0.20687 | val_0_accuracy: 0.47738 |  0:00:45s\n",
      "⏱️ Epoch 257 took 0.13 seconds\n",
      "epoch 257| loss: 0.19165 | val_0_accuracy: 0.47857 |  0:00:45s\n",
      "⏱️ Epoch 258 took 0.13 seconds\n",
      "epoch 258| loss: 0.20114 | val_0_accuracy: 0.47738 |  0:00:45s\n",
      "⏱️ Epoch 259 took 0.13 seconds\n",
      "epoch 259| loss: 0.20646 | val_0_accuracy: 0.48571 |  0:00:46s\n",
      "⏱️ Epoch 260 took 0.13 seconds\n",
      "epoch 260| loss: 0.23199 | val_0_accuracy: 0.46905 |  0:00:46s\n",
      "⏱️ Epoch 261 took 0.13 seconds\n",
      "epoch 261| loss: 0.2102  | val_0_accuracy: 0.46429 |  0:00:46s\n",
      "⏱️ Epoch 262 took 0.13 seconds\n",
      "epoch 262| loss: 0.22376 | val_0_accuracy: 0.46667 |  0:00:46s\n",
      "⏱️ Epoch 263 took 0.13 seconds\n",
      "epoch 263| loss: 0.21024 | val_0_accuracy: 0.47262 |  0:00:46s\n",
      "⏱️ Epoch 264 took 0.13 seconds\n",
      "epoch 264| loss: 0.21533 | val_0_accuracy: 0.47143 |  0:00:46s\n",
      "⏱️ Epoch 265 took 0.13 seconds\n",
      "epoch 265| loss: 0.19975 | val_0_accuracy: 0.46548 |  0:00:46s\n",
      "⏱️ Epoch 266 took 0.13 seconds\n",
      "epoch 266| loss: 0.20826 | val_0_accuracy: 0.46429 |  0:00:46s\n",
      "⏱️ Epoch 267 took 0.13 seconds\n",
      "epoch 267| loss: 0.20976 | val_0_accuracy: 0.47381 |  0:00:47s\n",
      "⏱️ Epoch 268 took 0.13 seconds\n",
      "epoch 268| loss: 0.2011  | val_0_accuracy: 0.46667 |  0:00:47s\n",
      "⏱️ Epoch 269 took 0.13 seconds\n",
      "epoch 269| loss: 0.22064 | val_0_accuracy: 0.47143 |  0:00:47s\n",
      "⏱️ Epoch 270 took 0.13 seconds\n",
      "epoch 270| loss: 0.21323 | val_0_accuracy: 0.46667 |  0:00:47s\n",
      "⏱️ Epoch 271 took 0.13 seconds\n",
      "epoch 271| loss: 0.20729 | val_0_accuracy: 0.46429 |  0:00:47s\n",
      "⏱️ Epoch 272 took 0.13 seconds\n",
      "epoch 272| loss: 0.20627 | val_0_accuracy: 0.46071 |  0:00:47s\n",
      "⏱️ Epoch 273 took 0.13 seconds\n",
      "epoch 273| loss: 0.20704 | val_0_accuracy: 0.47143 |  0:00:47s\n",
      "⏱️ Epoch 274 took 0.13 seconds\n",
      "epoch 274| loss: 0.18387 | val_0_accuracy: 0.47738 |  0:00:47s\n",
      "⏱️ Epoch 275 took 0.13 seconds\n",
      "epoch 275| loss: 0.21436 | val_0_accuracy: 0.48095 |  0:00:48s\n",
      "⏱️ Epoch 276 took 0.13 seconds\n",
      "epoch 276| loss: 0.19321 | val_0_accuracy: 0.47262 |  0:00:48s\n",
      "⏱️ Epoch 277 took 0.13 seconds\n",
      "epoch 277| loss: 0.21548 | val_0_accuracy: 0.46905 |  0:00:48s\n",
      "⏱️ Epoch 278 took 0.13 seconds\n",
      "epoch 278| loss: 0.20424 | val_0_accuracy: 0.47976 |  0:00:48s\n",
      "⏱️ Epoch 279 took 0.13 seconds\n",
      "epoch 279| loss: 0.21022 | val_0_accuracy: 0.48214 |  0:00:48s\n",
      "⏱️ Epoch 280 took 0.13 seconds\n",
      "epoch 280| loss: 0.21208 | val_0_accuracy: 0.47262 |  0:00:48s\n",
      "⏱️ Epoch 281 took 0.13 seconds\n",
      "epoch 281| loss: 0.19641 | val_0_accuracy: 0.46429 |  0:00:48s\n",
      "⏱️ Epoch 282 took 0.13 seconds\n",
      "epoch 282| loss: 0.20352 | val_0_accuracy: 0.4631  |  0:00:48s\n",
      "⏱️ Epoch 283 took 0.13 seconds\n",
      "epoch 283| loss: 0.20511 | val_0_accuracy: 0.47381 |  0:00:49s\n",
      "⏱️ Epoch 284 took 0.13 seconds\n",
      "epoch 284| loss: 0.19389 | val_0_accuracy: 0.47143 |  0:00:49s\n",
      "⏱️ Epoch 285 took 0.13 seconds\n",
      "epoch 285| loss: 0.19734 | val_0_accuracy: 0.46548 |  0:00:49s\n",
      "⏱️ Epoch 286 took 0.13 seconds\n",
      "epoch 286| loss: 0.19057 | val_0_accuracy: 0.46667 |  0:00:49s\n",
      "⏱️ Epoch 287 took 0.13 seconds\n",
      "epoch 287| loss: 0.19454 | val_0_accuracy: 0.47619 |  0:00:49s\n",
      "⏱️ Epoch 288 took 0.13 seconds\n",
      "epoch 288| loss: 0.1777  | val_0_accuracy: 0.47262 |  0:00:49s\n",
      "⏱️ Epoch 289 took 0.24 seconds\n",
      "epoch 289| loss: 0.16872 | val_0_accuracy: 0.46548 |  0:00:49s\n",
      "⏱️ Epoch 290 took 0.13 seconds\n",
      "epoch 290| loss: 0.18993 | val_0_accuracy: 0.46667 |  0:00:50s\n",
      "⏱️ Epoch 291 took 0.13 seconds\n",
      "epoch 291| loss: 0.1778  | val_0_accuracy: 0.47381 |  0:00:50s\n",
      "⏱️ Epoch 292 took 0.13 seconds\n",
      "epoch 292| loss: 0.18132 | val_0_accuracy: 0.47024 |  0:00:50s\n",
      "⏱️ Epoch 293 took 0.13 seconds\n",
      "epoch 293| loss: 0.17817 | val_0_accuracy: 0.47262 |  0:00:50s\n",
      "⏱️ Epoch 294 took 0.13 seconds\n",
      "epoch 294| loss: 0.18281 | val_0_accuracy: 0.475   |  0:00:50s\n",
      "⏱️ Epoch 295 took 0.13 seconds\n",
      "epoch 295| loss: 0.17789 | val_0_accuracy: 0.47619 |  0:00:50s\n",
      "⏱️ Epoch 296 took 0.13 seconds\n",
      "epoch 296| loss: 0.18329 | val_0_accuracy: 0.47976 |  0:00:50s\n",
      "⏱️ Epoch 297 took 0.13 seconds\n",
      "epoch 297| loss: 0.16769 | val_0_accuracy: 0.47619 |  0:00:50s\n",
      "⏱️ Epoch 298 took 0.13 seconds\n",
      "epoch 298| loss: 0.1618  | val_0_accuracy: 0.47381 |  0:00:51s\n",
      "⏱️ Epoch 299 took 0.13 seconds\n",
      "epoch 299| loss: 0.17877 | val_0_accuracy: 0.47857 |  0:00:51s\n",
      "⏱️ Epoch 300 took 0.13 seconds\n",
      "epoch 300| loss: 0.17064 | val_0_accuracy: 0.47738 |  0:00:51s\n",
      "⏱️ Epoch 301 took 0.13 seconds\n",
      "epoch 301| loss: 0.17741 | val_0_accuracy: 0.47262 |  0:00:51s\n",
      "⏱️ Epoch 302 took 0.13 seconds\n",
      "epoch 302| loss: 0.17678 | val_0_accuracy: 0.46786 |  0:00:51s\n",
      "⏱️ Epoch 303 took 0.13 seconds\n",
      "epoch 303| loss: 0.20004 | val_0_accuracy: 0.47024 |  0:00:51s\n",
      "⏱️ Epoch 304 took 0.13 seconds\n",
      "epoch 304| loss: 0.16575 | val_0_accuracy: 0.47738 |  0:00:51s\n",
      "⏱️ Epoch 305 took 0.13 seconds\n",
      "epoch 305| loss: 0.17463 | val_0_accuracy: 0.48214 |  0:00:52s\n",
      "⏱️ Epoch 306 took 0.13 seconds\n",
      "epoch 306| loss: 0.16438 | val_0_accuracy: 0.47738 |  0:00:52s\n",
      "⏱️ Epoch 307 took 0.13 seconds\n",
      "epoch 307| loss: 0.16447 | val_0_accuracy: 0.47738 |  0:00:52s\n",
      "⏱️ Epoch 308 took 0.13 seconds\n",
      "epoch 308| loss: 0.17187 | val_0_accuracy: 0.47381 |  0:00:52s\n",
      "⏱️ Epoch 309 took 0.13 seconds\n",
      "epoch 309| loss: 0.17148 | val_0_accuracy: 0.47143 |  0:00:52s\n",
      "⏱️ Epoch 310 took 0.13 seconds\n",
      "epoch 310| loss: 0.18056 | val_0_accuracy: 0.46429 |  0:00:52s\n",
      "⏱️ Epoch 311 took 0.13 seconds\n",
      "epoch 311| loss: 0.1766  | val_0_accuracy: 0.46905 |  0:00:52s\n",
      "⏱️ Epoch 312 took 0.13 seconds\n",
      "epoch 312| loss: 0.17209 | val_0_accuracy: 0.47262 |  0:00:52s\n",
      "⏱️ Epoch 313 took 0.13 seconds\n",
      "epoch 313| loss: 0.17681 | val_0_accuracy: 0.47381 |  0:00:53s\n",
      "⏱️ Epoch 314 took 0.13 seconds\n",
      "epoch 314| loss: 0.18193 | val_0_accuracy: 0.47262 |  0:00:53s\n",
      "⏱️ Epoch 315 took 0.13 seconds\n",
      "epoch 315| loss: 0.18131 | val_0_accuracy: 0.47143 |  0:00:53s\n",
      "⏱️ Epoch 316 took 0.13 seconds\n",
      "epoch 316| loss: 0.16924 | val_0_accuracy: 0.475   |  0:00:53s\n",
      "⏱️ Epoch 317 took 0.13 seconds\n",
      "epoch 317| loss: 0.16017 | val_0_accuracy: 0.47619 |  0:00:53s\n",
      "⏱️ Epoch 318 took 0.13 seconds\n",
      "epoch 318| loss: 0.17845 | val_0_accuracy: 0.47738 |  0:00:53s\n",
      "⏱️ Epoch 319 took 0.13 seconds\n",
      "epoch 319| loss: 0.16815 | val_0_accuracy: 0.47381 |  0:00:53s\n",
      "⏱️ Epoch 320 took 0.13 seconds\n",
      "epoch 320| loss: 0.16761 | val_0_accuracy: 0.47857 |  0:00:53s\n",
      "⏱️ Epoch 321 took 0.13 seconds\n",
      "epoch 321| loss: 0.16704 | val_0_accuracy: 0.47381 |  0:00:54s\n",
      "⏱️ Epoch 322 took 0.13 seconds\n",
      "epoch 322| loss: 0.16805 | val_0_accuracy: 0.46905 |  0:00:54s\n",
      "⏱️ Epoch 323 took 0.13 seconds\n",
      "epoch 323| loss: 0.16582 | val_0_accuracy: 0.46548 |  0:00:54s\n",
      "⏱️ Epoch 324 took 0.13 seconds\n",
      "epoch 324| loss: 0.15431 | val_0_accuracy: 0.46548 |  0:00:54s\n",
      "⏱️ Epoch 325 took 0.13 seconds\n",
      "epoch 325| loss: 0.15747 | val_0_accuracy: 0.47381 |  0:00:54s\n",
      "⏱️ Epoch 326 took 0.13 seconds\n",
      "epoch 326| loss: 0.16024 | val_0_accuracy: 0.47262 |  0:00:54s\n",
      "⏱️ Epoch 327 took 0.13 seconds\n",
      "epoch 327| loss: 0.15934 | val_0_accuracy: 0.47381 |  0:00:54s\n",
      "⏱️ Epoch 328 took 0.13 seconds\n",
      "epoch 328| loss: 0.1739  | val_0_accuracy: 0.46905 |  0:00:55s\n",
      "⏱️ Epoch 329 took 0.14 seconds\n",
      "epoch 329| loss: 0.17851 | val_0_accuracy: 0.4631  |  0:00:55s\n",
      "⏱️ Epoch 330 took 0.13 seconds\n",
      "epoch 330| loss: 0.17169 | val_0_accuracy: 0.46786 |  0:00:55s\n",
      "⏱️ Epoch 331 took 0.13 seconds\n",
      "epoch 331| loss: 0.15403 | val_0_accuracy: 0.47024 |  0:00:55s\n",
      "⏱️ Epoch 332 took 0.13 seconds\n",
      "epoch 332| loss: 0.16685 | val_0_accuracy: 0.4631  |  0:00:55s\n",
      "⏱️ Epoch 333 took 0.13 seconds\n",
      "epoch 333| loss: 0.15481 | val_0_accuracy: 0.4619  |  0:00:55s\n",
      "⏱️ Epoch 334 took 0.13 seconds\n",
      "epoch 334| loss: 0.15817 | val_0_accuracy: 0.46786 |  0:00:55s\n",
      "⏱️ Epoch 335 took 0.13 seconds\n",
      "epoch 335| loss: 0.16499 | val_0_accuracy: 0.47262 |  0:00:55s\n",
      "⏱️ Epoch 336 took 0.13 seconds\n",
      "epoch 336| loss: 0.15259 | val_0_accuracy: 0.475   |  0:00:56s\n",
      "⏱️ Epoch 337 took 0.13 seconds\n",
      "epoch 337| loss: 0.15124 | val_0_accuracy: 0.47143 |  0:00:56s\n",
      "⏱️ Epoch 338 took 0.13 seconds\n",
      "epoch 338| loss: 0.1637  | val_0_accuracy: 0.46786 |  0:00:56s\n",
      "⏱️ Epoch 339 took 0.13 seconds\n",
      "epoch 339| loss: 0.14101 | val_0_accuracy: 0.46429 |  0:00:56s\n",
      "⏱️ Epoch 340 took 0.13 seconds\n",
      "epoch 340| loss: 0.16806 | val_0_accuracy: 0.47262 |  0:00:56s\n",
      "⏱️ Epoch 341 took 0.13 seconds\n",
      "epoch 341| loss: 0.15396 | val_0_accuracy: 0.47857 |  0:00:56s\n",
      "⏱️ Epoch 342 took 0.13 seconds\n",
      "epoch 342| loss: 0.16837 | val_0_accuracy: 0.4881  |  0:00:56s\n",
      "⏱️ Epoch 343 took 0.13 seconds\n",
      "epoch 343| loss: 0.16746 | val_0_accuracy: 0.47262 |  0:00:56s\n",
      "⏱️ Epoch 344 took 0.13 seconds\n",
      "epoch 344| loss: 0.1547  | val_0_accuracy: 0.47262 |  0:00:57s\n",
      "⏱️ Epoch 345 took 0.13 seconds\n",
      "epoch 345| loss: 0.15352 | val_0_accuracy: 0.48095 |  0:00:57s\n",
      "⏱️ Epoch 346 took 0.13 seconds\n",
      "epoch 346| loss: 0.15526 | val_0_accuracy: 0.48333 |  0:00:57s\n",
      "⏱️ Epoch 347 took 0.13 seconds\n",
      "epoch 347| loss: 0.14708 | val_0_accuracy: 0.48214 |  0:00:57s\n",
      "⏱️ Epoch 348 took 0.13 seconds\n",
      "epoch 348| loss: 0.14085 | val_0_accuracy: 0.475   |  0:00:57s\n",
      "⏱️ Epoch 349 took 0.13 seconds\n",
      "epoch 349| loss: 0.1442  | val_0_accuracy: 0.47143 |  0:00:57s\n",
      "⏱️ Epoch 350 took 0.13 seconds\n",
      "epoch 350| loss: 0.14809 | val_0_accuracy: 0.475   |  0:00:57s\n",
      "⏱️ Epoch 351 took 0.13 seconds\n",
      "epoch 351| loss: 0.14587 | val_0_accuracy: 0.47143 |  0:00:57s\n",
      "⏱️ Epoch 352 took 0.13 seconds\n",
      "epoch 352| loss: 0.1462  | val_0_accuracy: 0.47381 |  0:00:58s\n",
      "⏱️ Epoch 353 took 0.13 seconds\n",
      "epoch 353| loss: 0.14312 | val_0_accuracy: 0.46786 |  0:00:58s\n",
      "⏱️ Epoch 354 took 0.13 seconds\n",
      "epoch 354| loss: 0.14601 | val_0_accuracy: 0.47381 |  0:00:58s\n",
      "⏱️ Epoch 355 took 0.13 seconds\n",
      "epoch 355| loss: 0.14425 | val_0_accuracy: 0.47024 |  0:00:58s\n",
      "⏱️ Epoch 356 took 0.13 seconds\n",
      "epoch 356| loss: 0.14001 | val_0_accuracy: 0.47262 |  0:00:58s\n",
      "⏱️ Epoch 357 took 0.13 seconds\n",
      "epoch 357| loss: 0.139   | val_0_accuracy: 0.47381 |  0:00:58s\n",
      "⏱️ Epoch 358 took 0.13 seconds\n",
      "epoch 358| loss: 0.14112 | val_0_accuracy: 0.47381 |  0:00:58s\n",
      "⏱️ Epoch 359 took 0.13 seconds\n",
      "epoch 359| loss: 0.14796 | val_0_accuracy: 0.47381 |  0:00:59s\n",
      "⏱️ Epoch 360 took 0.13 seconds\n",
      "epoch 360| loss: 0.14203 | val_0_accuracy: 0.47619 |  0:00:59s\n",
      "⏱️ Epoch 361 took 0.13 seconds\n",
      "epoch 361| loss: 0.13517 | val_0_accuracy: 0.48571 |  0:00:59s\n",
      "⏱️ Epoch 362 took 0.13 seconds\n",
      "epoch 362| loss: 0.14482 | val_0_accuracy: 0.4869  |  0:00:59s\n",
      "⏱️ Epoch 363 took 0.13 seconds\n",
      "epoch 363| loss: 0.1442  | val_0_accuracy: 0.48929 |  0:00:59s\n",
      "⏱️ Epoch 364 took 0.13 seconds\n",
      "epoch 364| loss: 0.1472  | val_0_accuracy: 0.48095 |  0:00:59s\n",
      "⏱️ Epoch 365 took 0.13 seconds\n",
      "epoch 365| loss: 0.14376 | val_0_accuracy: 0.47262 |  0:00:59s\n",
      "⏱️ Epoch 366 took 0.13 seconds\n",
      "epoch 366| loss: 0.13594 | val_0_accuracy: 0.46071 |  0:00:59s\n",
      "⏱️ Epoch 367 took 0.13 seconds\n",
      "epoch 367| loss: 0.13515 | val_0_accuracy: 0.46905 |  0:01:00s\n",
      "⏱️ Epoch 368 took 0.13 seconds\n",
      "epoch 368| loss: 0.13074 | val_0_accuracy: 0.475   |  0:01:00s\n",
      "⏱️ Epoch 369 took 0.13 seconds\n",
      "epoch 369| loss: 0.13408 | val_0_accuracy: 0.47143 |  0:01:00s\n",
      "⏱️ Epoch 370 took 0.13 seconds\n",
      "epoch 370| loss: 0.14943 | val_0_accuracy: 0.47381 |  0:01:00s\n",
      "⏱️ Epoch 371 took 0.13 seconds\n",
      "epoch 371| loss: 0.12887 | val_0_accuracy: 0.47976 |  0:01:00s\n",
      "⏱️ Epoch 372 took 0.13 seconds\n",
      "epoch 372| loss: 0.1449  | val_0_accuracy: 0.47619 |  0:01:00s\n",
      "⏱️ Epoch 373 took 0.13 seconds\n",
      "epoch 373| loss: 0.13418 | val_0_accuracy: 0.47381 |  0:01:00s\n",
      "⏱️ Epoch 374 took 0.13 seconds\n",
      "epoch 374| loss: 0.15016 | val_0_accuracy: 0.46786 |  0:01:00s\n",
      "⏱️ Epoch 375 took 0.13 seconds\n",
      "epoch 375| loss: 0.14077 | val_0_accuracy: 0.47143 |  0:01:01s\n",
      "⏱️ Epoch 376 took 0.13 seconds\n",
      "epoch 376| loss: 0.12731 | val_0_accuracy: 0.47262 |  0:01:01s\n",
      "⏱️ Epoch 377 took 0.13 seconds\n",
      "epoch 377| loss: 0.12927 | val_0_accuracy: 0.47262 |  0:01:01s\n",
      "⏱️ Epoch 378 took 0.13 seconds\n",
      "epoch 378| loss: 0.14473 | val_0_accuracy: 0.48214 |  0:01:01s\n",
      "⏱️ Epoch 379 took 0.13 seconds\n",
      "epoch 379| loss: 0.13923 | val_0_accuracy: 0.48095 |  0:01:01s\n",
      "⏱️ Epoch 380 took 0.13 seconds\n",
      "epoch 380| loss: 0.13608 | val_0_accuracy: 0.47619 |  0:01:01s\n",
      "⏱️ Epoch 381 took 0.13 seconds\n",
      "epoch 381| loss: 0.12821 | val_0_accuracy: 0.475   |  0:01:01s\n",
      "⏱️ Epoch 382 took 0.13 seconds\n",
      "epoch 382| loss: 0.13501 | val_0_accuracy: 0.48095 |  0:01:01s\n",
      "⏱️ Epoch 383 took 0.13 seconds\n",
      "epoch 383| loss: 0.14198 | val_0_accuracy: 0.48095 |  0:01:02s\n",
      "⏱️ Epoch 384 took 0.13 seconds\n",
      "epoch 384| loss: 0.14559 | val_0_accuracy: 0.48333 |  0:01:02s\n",
      "⏱️ Epoch 385 took 0.13 seconds\n",
      "epoch 385| loss: 0.12146 | val_0_accuracy: 0.47857 |  0:01:02s\n",
      "⏱️ Epoch 386 took 0.13 seconds\n",
      "epoch 386| loss: 0.13158 | val_0_accuracy: 0.47262 |  0:01:02s\n",
      "⏱️ Epoch 387 took 0.13 seconds\n",
      "epoch 387| loss: 0.13189 | val_0_accuracy: 0.47738 |  0:01:02s\n",
      "⏱️ Epoch 388 took 0.13 seconds\n",
      "epoch 388| loss: 0.14007 | val_0_accuracy: 0.47381 |  0:01:02s\n",
      "⏱️ Epoch 389 took 0.13 seconds\n",
      "epoch 389| loss: 0.11853 | val_0_accuracy: 0.47738 |  0:01:02s\n",
      "⏱️ Epoch 390 took 0.13 seconds\n",
      "\n",
      "Early stopping occurred at epoch 389 with best_epoch = 189 and best_val_0_accuracy = 0.48929\n"
     ]
    }
   ],
   "source": [
    "Xtrain, Ytrain, Xtest, Ytest, Ytest_decoded, le = split_data(traindata, testdata)\n",
    "best_tabnet_params = find_best_tabnet(Xtrain, Ytrain)\n",
    "\n",
    "from sklearn.model_selection import train_test_split\n",
    "\n",
    "# Split 80% train, 20% validation\n",
    "X_tr, X_val, y_tr, y_val = train_test_split(\n",
    "    Xtrain, Ytrain,\n",
    "    test_size=0.2,\n",
    "    random_state=42,\n",
    "    stratify=Ytrain\n",
    ")\n",
    "\n",
    "# Re-initialize TabNet with best params\n",
    "final_model = TabNetClassifier(\n",
    "    **{k: v for k, v in best_tabnet_params.items()},\n",
    "    verbose=1,\n",
    "    seed=42\n",
    ")\n",
    "\n",
    "epoch_timer = EpochTimer()\n",
    "\n",
    "# Retrain on full training data\n",
    "final_model.fit(\n",
    "    X_tr, y_tr,\n",
    "    eval_set=[(X_val, y_val)],\n",
    "    max_epochs=1000,\n",
    "    patience=200,\n",
    "    batch_size=1024,\n",
    "    virtual_batch_size=128,\n",
    "    callbacks=[epoch_timer]\n",
    ")\n",
    "\n"
   ]
  },
  {
   "cell_type": "code",
   "execution_count": 12,
   "metadata": {},
   "outputs": [],
   "source": [
    "_, _, _, _, _, le = split_data(traindata, testdata)\n"
   ]
  },
  {
   "cell_type": "code",
   "execution_count": 13,
   "metadata": {},
   "outputs": [],
   "source": [
    "import os\n",
    "from sklearn.metrics import accuracy_score, precision_score, recall_score, f1_score, roc_auc_score\n",
    "\n",
    "file_path = os.path.join(\"results\", f\"gtd{partition}.txt\")\n",
    "\n",
    "# Predict class indices for test set\n",
    "y_pred = final_model.predict(Xtest)\n",
    "y_proba = final_model.predict_proba(Xtest)\n",
    "y_pred_decoded = le.inverse_transform(y_pred)\n",
    "y_true_decoded = le.inverse_transform(Ytest)\n",
    "\n",
    "# Make sure the directory exists\n",
    "os.makedirs(\"results\", exist_ok=True)\n",
    "\n",
    "# Compute accuracy from decoded labels\n",
    "acc = accuracy_score(y_true_decoded, y_pred_decoded)\n",
    "\n",
    "# Write metrics to file\n",
    "with open(file_path, \"w\") as file:\n",
    "    file.write(f\"Accuracy: {acc:.4f}\\n\")\n",
    "    file.write(f\"Precision weighted: {precision_score(y_true_decoded, y_pred_decoded, average='weighted'):.4f}\\n\")\n",
    "    file.write(f\"Recall weighted: {recall_score(y_true_decoded, y_pred_decoded, average='weighted'):.4f}\\n\")\n",
    "    file.write(f\"F1 Score weighted: {f1_score(y_true_decoded, y_pred_decoded, average='weighted'):.4f}\\n\")\n",
    "    file.write(f\"Precision micro: {precision_score(y_true_decoded, y_pred_decoded, average='micro'):.4f}\\n\")\n",
    "    file.write(f\"Recall micro: {recall_score(y_true_decoded, y_pred_decoded, average='micro'):.4f}\\n\")\n",
    "    file.write(f\"F1 Score micro: {f1_score(y_true_decoded, y_pred_decoded, average='micro'):.4f}\\n\")\n",
    "    file.write(f\"Precision macro: {precision_score(y_true_decoded, y_pred_decoded, average='macro'):.4f}\\n\")\n",
    "    file.write(f\"Recall macro: {recall_score(y_true_decoded, y_pred_decoded, average='macro'):.4f}\\n\")\n",
    "    file.write(f\"F1 Score macro: {f1_score(y_true_decoded, y_pred_decoded, average='macro'):.4f}\\n\")\n",
    "    file.write(f\"roc auc weighted: {roc_auc_score(y_true_decoded, y_proba, multi_class='ovr', average='weighted'):.4f}\\n\")\n",
    "    file.write(f\"roc auc macro: {roc_auc_score(y_true_decoded, y_proba, multi_class='ovr', average='macro'):.4f}\\n\")\n",
    "    file.write(f\"roc auc micro: {roc_auc_score(y_true_decoded, y_proba, multi_class='ovr', average='micro'):.4f}\\n\")\n",
    "\n",
    "with open(f\"results/epoch_time_gtd{partition}.txt\", \"w\") as f:\n",
    "    f.write('\\n'.join(str(x) for x in epoch_timer.epoch_times))\n",
    "\n"
   ]
  },
  {
   "cell_type": "code",
   "execution_count": 14,
   "metadata": {},
   "outputs": [
    {
     "name": "stdout",
     "output_type": "stream",
     "text": [
      "                                                  precision    recall  f1-score   support\n",
      "\n",
      "                          Abu Sayyaf Group (ASG)       0.47      0.53      0.50        60\n",
      "        African National Congress (South Africa)       0.78      0.60      0.68        60\n",
      "                                Al-Qaida in Iraq       0.49      0.63      0.55        60\n",
      "        Al-Qaida in the Arabian Peninsula (AQAP)       0.57      0.40      0.47        60\n",
      "                                      Al-Shabaab       0.86      0.63      0.73        60\n",
      "             Basque Fatherland and Freedom (ETA)       0.63      0.60      0.62        60\n",
      "                                      Boko Haram       0.62      0.33      0.43        60\n",
      "  Communist Party of India - Maoist (CPI-Maoist)       0.27      0.22      0.24        60\n",
      "       Corsican National Liberation Front (FLNC)       0.95      0.88      0.91        60\n",
      "                       Donetsk People's Republic       0.77      0.67      0.71        60\n",
      "Farabundo Marti National Liberation Front (FMLN)       0.55      0.52      0.53        60\n",
      "                               Fulani extremists       0.23      0.22      0.22        60\n",
      "                 Houthi extremists (Ansar Allah)       0.54      0.47      0.50        60\n",
      "                     Irish Republican Army (IRA)       0.92      0.82      0.87        60\n",
      "     Islamic State of Iraq and the Levant (ISIL)       0.16      0.22      0.18        60\n",
      "                  Kurdistan Workers' Party (PKK)       0.42      0.28      0.34        60\n",
      "         Liberation Tigers of Tamil Eelam (LTTE)       0.58      0.57      0.57        60\n",
      "         Manuel Rodriguez Patriotic Front (FPMR)       0.95      0.87      0.90        60\n",
      "                                         Maoists       0.11      0.13      0.12        60\n",
      "                               Muslim extremists       0.46      0.22      0.30        60\n",
      "      National Liberation Army of Colombia (ELN)       0.24      0.37      0.29        60\n",
      "                         New People's Army (NPA)       0.14      0.12      0.13        60\n",
      "               Nicaraguan Democratic Force (FDN)       0.36      0.47      0.41        60\n",
      "                                    Palestinians       0.68      0.73      0.70        60\n",
      "   Revolutionary Armed Forces of Colombia (FARC)       0.12      0.23      0.16        60\n",
      "                               Shining Path (SL)       0.27      0.25      0.26        60\n",
      "                                 Sikh Extremists       0.63      0.52      0.57        60\n",
      "                                         Taliban       0.25      0.27      0.26        60\n",
      "                 Tehrik-i-Taliban Pakistan (TTP)       0.40      0.43      0.42        60\n",
      "       Tupac Amaru Revolutionary Movement (MRTA)       0.53      0.78      0.63        60\n",
      "\n",
      "                                        accuracy                           0.47      1800\n",
      "                                       macro avg       0.50      0.47      0.47      1800\n",
      "                                    weighted avg       0.50      0.47      0.47      1800\n",
      "\n"
     ]
    }
   ],
   "source": [
    "print(classification_report(Ytest_decoded, y_pred_decoded))"
   ]
  },
  {
   "cell_type": "code",
   "execution_count": 15,
   "metadata": {},
   "outputs": [],
   "source": [
    "def plot_confusion_matrix(y_true, y_pred, labels):\n",
    "    from sklearn.metrics import confusion_matrix\n",
    "    import matplotlib.pyplot as plt\n",
    "    import seaborn as sns\n",
    "    import numpy as np\n",
    "\n",
    "    cm = confusion_matrix(y_true, y_pred, labels=labels)\n",
    "    cm_normalized = cm.astype('float') / cm.sum(axis=1, keepdims=True)\n",
    "\n",
    "    plt.figure(figsize=(18, 16))\n",
    "    sns.heatmap(cm_normalized,\n",
    "                annot=True,\n",
    "                fmt=\".2f\",\n",
    "                xticklabels=labels,\n",
    "                yticklabels=labels,\n",
    "                cmap=\"viridis\",\n",
    "                square=True,\n",
    "                linewidths=0.5,\n",
    "                cbar_kws={\"shrink\": 0.8})\n",
    "\n",
    "    plt.title(f\"Normalized Confusion Matrix\", fontsize=18)\n",
    "    plt.xlabel(\"Predicted Label\", fontsize=14)\n",
    "    plt.ylabel(\"True Label\", fontsize=14)\n",
    "    plt.xticks(rotation=90)\n",
    "    plt.yticks(rotation=0)\n",
    "    plt.tight_layout()\n",
    "\n",
    "    # Save the figure\n",
    "    save_path = f\"results/confusion_matrix_partition_{partition}.png\"\n",
    "    plt.savefig(save_path, dpi=300)\n",
    "    plt.close()\n",
    "\n",
    "    print(f\"Saved confusion matrix for partition {partition} to {save_path}\")\n"
   ]
  },
  {
   "cell_type": "code",
   "execution_count": 16,
   "metadata": {},
   "outputs": [
    {
     "name": "stdout",
     "output_type": "stream",
     "text": [
      "Saved confusion matrix for partition 200 to results/confusion_matrix_partition_200.png\n"
     ]
    }
   ],
   "source": [
    "# Get all unique class labels from the truths\n",
    "class_labels = np.unique(Ytest_decoded)\n",
    "\n",
    "plot_confusion_matrix(Ytest_decoded, y_pred_decoded, labels=class_labels)\n",
    "\n"
   ]
  }
 ],
 "metadata": {
  "kernelspec": {
   "display_name": "Python (TabNet)",
   "language": "python",
   "name": "tabnet-env"
  },
  "language_info": {
   "codemirror_mode": {
    "name": "ipython",
    "version": 3
   },
   "file_extension": ".py",
   "mimetype": "text/x-python",
   "name": "python",
   "nbconvert_exporter": "python",
   "pygments_lexer": "ipython3",
   "version": "3.11.9"
  }
 },
 "nbformat": 4,
 "nbformat_minor": 2
}
