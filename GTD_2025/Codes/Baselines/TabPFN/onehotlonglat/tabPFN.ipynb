{
 "cells": [
  {
   "cell_type": "code",
   "execution_count": 1,
   "id": "d6bf150a",
   "metadata": {},
   "outputs": [
    {
     "name": "stdout",
     "output_type": "stream",
     "text": [
      "Requirement already satisfied: tabpfn in /opt/conda/lib/python3.11/site-packages (2.0.8)\n",
      "Requirement already satisfied: torch<3,>=2.1 in /opt/conda/lib/python3.11/site-packages (from tabpfn) (2.3.1)\n",
      "Requirement already satisfied: scikit-learn<1.7,>=1.2.0 in /opt/conda/lib/python3.11/site-packages (from tabpfn) (1.5.0)\n",
      "Requirement already satisfied: typing_extensions>=4.4.0 in /opt/conda/lib/python3.11/site-packages (from tabpfn) (4.12.2)\n",
      "Requirement already satisfied: scipy<2,>=1.11.1 in /opt/conda/lib/python3.11/site-packages (from tabpfn) (1.14.0)\n",
      "Requirement already satisfied: pandas<3,>=1.4.0 in /opt/conda/lib/python3.11/site-packages (from tabpfn) (2.2.2)\n",
      "Requirement already satisfied: einops<0.9,>=0.2.0 in /opt/conda/lib/python3.11/site-packages (from tabpfn) (0.8.1)\n",
      "Requirement already satisfied: huggingface-hub<1,>=0.0.1 in /opt/conda/lib/python3.11/site-packages (from tabpfn) (0.23.5)\n",
      "Requirement already satisfied: filelock in /opt/conda/lib/python3.11/site-packages (from huggingface-hub<1,>=0.0.1->tabpfn) (3.15.4)\n",
      "Requirement already satisfied: fsspec>=2023.5.0 in /opt/conda/lib/python3.11/site-packages (from huggingface-hub<1,>=0.0.1->tabpfn) (2024.5.0)\n",
      "Requirement already satisfied: packaging>=20.9 in /opt/conda/lib/python3.11/site-packages (from huggingface-hub<1,>=0.0.1->tabpfn) (24.1)\n",
      "Requirement already satisfied: pyyaml>=5.1 in /opt/conda/lib/python3.11/site-packages (from huggingface-hub<1,>=0.0.1->tabpfn) (6.0.1)\n",
      "Requirement already satisfied: requests in /opt/conda/lib/python3.11/site-packages (from huggingface-hub<1,>=0.0.1->tabpfn) (2.32.3)\n",
      "Requirement already satisfied: tqdm>=4.42.1 in /opt/conda/lib/python3.11/site-packages (from huggingface-hub<1,>=0.0.1->tabpfn) (4.66.4)\n",
      "Requirement already satisfied: numpy>=1.23.2 in /opt/conda/lib/python3.11/site-packages (from pandas<3,>=1.4.0->tabpfn) (1.26.4)\n",
      "Requirement already satisfied: python-dateutil>=2.8.2 in /opt/conda/lib/python3.11/site-packages (from pandas<3,>=1.4.0->tabpfn) (2.9.0)\n",
      "Requirement already satisfied: pytz>=2020.1 in /opt/conda/lib/python3.11/site-packages (from pandas<3,>=1.4.0->tabpfn) (2024.1)\n",
      "Requirement already satisfied: tzdata>=2022.7 in /opt/conda/lib/python3.11/site-packages (from pandas<3,>=1.4.0->tabpfn) (2024.1)\n",
      "Requirement already satisfied: joblib>=1.2.0 in /opt/conda/lib/python3.11/site-packages (from scikit-learn<1.7,>=1.2.0->tabpfn) (1.4.2)\n",
      "Requirement already satisfied: threadpoolctl>=3.1.0 in /opt/conda/lib/python3.11/site-packages (from scikit-learn<1.7,>=1.2.0->tabpfn) (3.5.0)\n",
      "Requirement already satisfied: sympy in /opt/conda/lib/python3.11/site-packages (from torch<3,>=2.1->tabpfn) (1.12.1)\n",
      "Requirement already satisfied: networkx in /opt/conda/lib/python3.11/site-packages (from torch<3,>=2.1->tabpfn) (3.3)\n",
      "Requirement already satisfied: jinja2 in /opt/conda/lib/python3.11/site-packages (from torch<3,>=2.1->tabpfn) (3.1.4)\n",
      "Requirement already satisfied: nvidia-cuda-nvrtc-cu12==12.1.105 in /opt/conda/lib/python3.11/site-packages (from torch<3,>=2.1->tabpfn) (12.1.105)\n",
      "Requirement already satisfied: nvidia-cuda-runtime-cu12==12.1.105 in /opt/conda/lib/python3.11/site-packages (from torch<3,>=2.1->tabpfn) (12.1.105)\n",
      "Requirement already satisfied: nvidia-cuda-cupti-cu12==12.1.105 in /opt/conda/lib/python3.11/site-packages (from torch<3,>=2.1->tabpfn) (12.1.105)\n",
      "Requirement already satisfied: nvidia-cudnn-cu12==8.9.2.26 in /opt/conda/lib/python3.11/site-packages (from torch<3,>=2.1->tabpfn) (8.9.2.26)\n",
      "Requirement already satisfied: nvidia-cublas-cu12==12.1.3.1 in /opt/conda/lib/python3.11/site-packages (from torch<3,>=2.1->tabpfn) (12.1.3.1)\n",
      "Requirement already satisfied: nvidia-cufft-cu12==11.0.2.54 in /opt/conda/lib/python3.11/site-packages (from torch<3,>=2.1->tabpfn) (11.0.2.54)\n",
      "Requirement already satisfied: nvidia-curand-cu12==10.3.2.106 in /opt/conda/lib/python3.11/site-packages (from torch<3,>=2.1->tabpfn) (10.3.2.106)\n",
      "Requirement already satisfied: nvidia-cusolver-cu12==11.4.5.107 in /opt/conda/lib/python3.11/site-packages (from torch<3,>=2.1->tabpfn) (11.4.5.107)\n",
      "Requirement already satisfied: nvidia-cusparse-cu12==12.1.0.106 in /opt/conda/lib/python3.11/site-packages (from torch<3,>=2.1->tabpfn) (12.1.0.106)\n",
      "Requirement already satisfied: nvidia-nccl-cu12==2.20.5 in /opt/conda/lib/python3.11/site-packages (from torch<3,>=2.1->tabpfn) (2.20.5)\n",
      "Requirement already satisfied: nvidia-nvtx-cu12==12.1.105 in /opt/conda/lib/python3.11/site-packages (from torch<3,>=2.1->tabpfn) (12.1.105)\n",
      "Requirement already satisfied: triton==2.3.1 in /opt/conda/lib/python3.11/site-packages (from torch<3,>=2.1->tabpfn) (2.3.1)\n",
      "Requirement already satisfied: nvidia-nvjitlink-cu12 in /opt/conda/lib/python3.11/site-packages (from nvidia-cusolver-cu12==11.4.5.107->torch<3,>=2.1->tabpfn) (12.3.101)\n",
      "Requirement already satisfied: six>=1.5 in /opt/conda/lib/python3.11/site-packages (from python-dateutil>=2.8.2->pandas<3,>=1.4.0->tabpfn) (1.16.0)\n",
      "Requirement already satisfied: MarkupSafe>=2.0 in /opt/conda/lib/python3.11/site-packages (from jinja2->torch<3,>=2.1->tabpfn) (2.1.5)\n",
      "Requirement already satisfied: charset-normalizer<4,>=2 in /opt/conda/lib/python3.11/site-packages (from requests->huggingface-hub<1,>=0.0.1->tabpfn) (3.3.2)\n",
      "Requirement already satisfied: idna<4,>=2.5 in /opt/conda/lib/python3.11/site-packages (from requests->huggingface-hub<1,>=0.0.1->tabpfn) (3.7)\n",
      "Requirement already satisfied: urllib3<3,>=1.21.1 in /opt/conda/lib/python3.11/site-packages (from requests->huggingface-hub<1,>=0.0.1->tabpfn) (2.2.2)\n",
      "Requirement already satisfied: certifi>=2017.4.17 in /opt/conda/lib/python3.11/site-packages (from requests->huggingface-hub<1,>=0.0.1->tabpfn) (2024.7.4)\n",
      "Requirement already satisfied: mpmath<1.4.0,>=1.1.0 in /opt/conda/lib/python3.11/site-packages (from sympy->torch<3,>=2.1->tabpfn) (1.3.0)\n",
      "\n",
      "\u001b[1m[\u001b[0m\u001b[34;49mnotice\u001b[0m\u001b[1;39;49m]\u001b[0m\u001b[39;49m A new release of pip is available: \u001b[0m\u001b[31;49m24.1.2\u001b[0m\u001b[39;49m -> \u001b[0m\u001b[32;49m25.1\u001b[0m\n",
      "\u001b[1m[\u001b[0m\u001b[34;49mnotice\u001b[0m\u001b[1;39;49m]\u001b[0m\u001b[39;49m To update, run: \u001b[0m\u001b[32;49mpip install --upgrade pip\u001b[0m\n",
      "Requirement already satisfied: tabpfn_extensions in /opt/conda/lib/python3.11/site-packages (0.0.4)\n",
      "Requirement already satisfied: seaborn==0.12.2 in /opt/conda/lib/python3.11/site-packages (from tabpfn_extensions) (0.12.2)\n",
      "Requirement already satisfied: numpy in /opt/conda/lib/python3.11/site-packages (from tabpfn_extensions) (1.26.4)\n",
      "Requirement already satisfied: torch in /opt/conda/lib/python3.11/site-packages (from tabpfn_extensions) (2.3.1)\n",
      "Requirement already satisfied: pandas in /opt/conda/lib/python3.11/site-packages (from tabpfn_extensions) (2.2.2)\n",
      "Requirement already satisfied: scikit-learn in /opt/conda/lib/python3.11/site-packages (from tabpfn_extensions) (1.5.0)\n",
      "Requirement already satisfied: scipy in /opt/conda/lib/python3.11/site-packages (from tabpfn_extensions) (1.14.0)\n",
      "Requirement already satisfied: matplotlib!=3.6.1,>=3.1 in /opt/conda/lib/python3.11/site-packages (from seaborn==0.12.2->tabpfn_extensions) (3.8.4)\n",
      "Requirement already satisfied: python-dateutil>=2.8.2 in /opt/conda/lib/python3.11/site-packages (from pandas->tabpfn_extensions) (2.9.0)\n",
      "Requirement already satisfied: pytz>=2020.1 in /opt/conda/lib/python3.11/site-packages (from pandas->tabpfn_extensions) (2024.1)\n",
      "Requirement already satisfied: tzdata>=2022.7 in /opt/conda/lib/python3.11/site-packages (from pandas->tabpfn_extensions) (2024.1)\n",
      "Requirement already satisfied: joblib>=1.2.0 in /opt/conda/lib/python3.11/site-packages (from scikit-learn->tabpfn_extensions) (1.4.2)\n",
      "Requirement already satisfied: threadpoolctl>=3.1.0 in /opt/conda/lib/python3.11/site-packages (from scikit-learn->tabpfn_extensions) (3.5.0)\n",
      "Requirement already satisfied: filelock in /opt/conda/lib/python3.11/site-packages (from torch->tabpfn_extensions) (3.15.4)\n",
      "Requirement already satisfied: typing-extensions>=4.8.0 in /opt/conda/lib/python3.11/site-packages (from torch->tabpfn_extensions) (4.12.2)\n",
      "Requirement already satisfied: sympy in /opt/conda/lib/python3.11/site-packages (from torch->tabpfn_extensions) (1.12.1)\n",
      "Requirement already satisfied: networkx in /opt/conda/lib/python3.11/site-packages (from torch->tabpfn_extensions) (3.3)\n",
      "Requirement already satisfied: jinja2 in /opt/conda/lib/python3.11/site-packages (from torch->tabpfn_extensions) (3.1.4)\n",
      "Requirement already satisfied: fsspec in /opt/conda/lib/python3.11/site-packages (from torch->tabpfn_extensions) (2024.5.0)\n",
      "Requirement already satisfied: nvidia-cuda-nvrtc-cu12==12.1.105 in /opt/conda/lib/python3.11/site-packages (from torch->tabpfn_extensions) (12.1.105)\n",
      "Requirement already satisfied: nvidia-cuda-runtime-cu12==12.1.105 in /opt/conda/lib/python3.11/site-packages (from torch->tabpfn_extensions) (12.1.105)\n",
      "Requirement already satisfied: nvidia-cuda-cupti-cu12==12.1.105 in /opt/conda/lib/python3.11/site-packages (from torch->tabpfn_extensions) (12.1.105)\n",
      "Requirement already satisfied: nvidia-cudnn-cu12==8.9.2.26 in /opt/conda/lib/python3.11/site-packages (from torch->tabpfn_extensions) (8.9.2.26)\n",
      "Requirement already satisfied: nvidia-cublas-cu12==12.1.3.1 in /opt/conda/lib/python3.11/site-packages (from torch->tabpfn_extensions) (12.1.3.1)\n",
      "Requirement already satisfied: nvidia-cufft-cu12==11.0.2.54 in /opt/conda/lib/python3.11/site-packages (from torch->tabpfn_extensions) (11.0.2.54)\n",
      "Requirement already satisfied: nvidia-curand-cu12==10.3.2.106 in /opt/conda/lib/python3.11/site-packages (from torch->tabpfn_extensions) (10.3.2.106)\n",
      "Requirement already satisfied: nvidia-cusolver-cu12==11.4.5.107 in /opt/conda/lib/python3.11/site-packages (from torch->tabpfn_extensions) (11.4.5.107)\n",
      "Requirement already satisfied: nvidia-cusparse-cu12==12.1.0.106 in /opt/conda/lib/python3.11/site-packages (from torch->tabpfn_extensions) (12.1.0.106)\n",
      "Requirement already satisfied: nvidia-nccl-cu12==2.20.5 in /opt/conda/lib/python3.11/site-packages (from torch->tabpfn_extensions) (2.20.5)\n",
      "Requirement already satisfied: nvidia-nvtx-cu12==12.1.105 in /opt/conda/lib/python3.11/site-packages (from torch->tabpfn_extensions) (12.1.105)\n",
      "Requirement already satisfied: triton==2.3.1 in /opt/conda/lib/python3.11/site-packages (from torch->tabpfn_extensions) (2.3.1)\n",
      "Requirement already satisfied: nvidia-nvjitlink-cu12 in /opt/conda/lib/python3.11/site-packages (from nvidia-cusolver-cu12==11.4.5.107->torch->tabpfn_extensions) (12.3.101)\n",
      "Requirement already satisfied: contourpy>=1.0.1 in /opt/conda/lib/python3.11/site-packages (from matplotlib!=3.6.1,>=3.1->seaborn==0.12.2->tabpfn_extensions) (1.2.1)\n",
      "Requirement already satisfied: cycler>=0.10 in /opt/conda/lib/python3.11/site-packages (from matplotlib!=3.6.1,>=3.1->seaborn==0.12.2->tabpfn_extensions) (0.12.1)\n",
      "Requirement already satisfied: fonttools>=4.22.0 in /opt/conda/lib/python3.11/site-packages (from matplotlib!=3.6.1,>=3.1->seaborn==0.12.2->tabpfn_extensions) (4.53.0)\n",
      "Requirement already satisfied: kiwisolver>=1.3.1 in /opt/conda/lib/python3.11/site-packages (from matplotlib!=3.6.1,>=3.1->seaborn==0.12.2->tabpfn_extensions) (1.4.5)\n",
      "Requirement already satisfied: packaging>=20.0 in /opt/conda/lib/python3.11/site-packages (from matplotlib!=3.6.1,>=3.1->seaborn==0.12.2->tabpfn_extensions) (24.1)\n",
      "Requirement already satisfied: pillow>=8 in /opt/conda/lib/python3.11/site-packages (from matplotlib!=3.6.1,>=3.1->seaborn==0.12.2->tabpfn_extensions) (10.3.0)\n",
      "Requirement already satisfied: pyparsing>=2.3.1 in /opt/conda/lib/python3.11/site-packages (from matplotlib!=3.6.1,>=3.1->seaborn==0.12.2->tabpfn_extensions) (3.1.2)\n",
      "Requirement already satisfied: six>=1.5 in /opt/conda/lib/python3.11/site-packages (from python-dateutil>=2.8.2->pandas->tabpfn_extensions) (1.16.0)\n",
      "Requirement already satisfied: MarkupSafe>=2.0 in /opt/conda/lib/python3.11/site-packages (from jinja2->torch->tabpfn_extensions) (2.1.5)\n",
      "Requirement already satisfied: mpmath<1.4.0,>=1.1.0 in /opt/conda/lib/python3.11/site-packages (from sympy->torch->tabpfn_extensions) (1.3.0)\n",
      "\n",
      "\u001b[1m[\u001b[0m\u001b[34;49mnotice\u001b[0m\u001b[1;39;49m]\u001b[0m\u001b[39;49m A new release of pip is available: \u001b[0m\u001b[31;49m24.1.2\u001b[0m\u001b[39;49m -> \u001b[0m\u001b[32;49m25.1\u001b[0m\n",
      "\u001b[1m[\u001b[0m\u001b[34;49mnotice\u001b[0m\u001b[1;39;49m]\u001b[0m\u001b[39;49m To update, run: \u001b[0m\u001b[32;49mpip install --upgrade pip\u001b[0m\n"
     ]
    }
   ],
   "source": [
    "!pip install tabpfn\n",
    "!pip install tabpfn_extensions"
   ]
  },
  {
   "cell_type": "code",
   "execution_count": 2,
   "id": "abe03ba5",
   "metadata": {},
   "outputs": [],
   "source": [
    "from tabpfn import TabPFNClassifier\n",
    "from tabpfn_extensions.many_class import ManyClassClassifier"
   ]
  },
  {
   "cell_type": "code",
   "execution_count": 3,
   "id": "488c48e7",
   "metadata": {},
   "outputs": [],
   "source": [
    "import pandas as pd\n",
    "import numpy as np\n",
    "from sklearn.preprocessing import LabelEncoder\n",
    "from sklearn.metrics import accuracy_score, roc_auc_score\n",
    "\n"
   ]
  },
  {
   "cell_type": "code",
   "execution_count": 4,
   "id": "6908a4dd",
   "metadata": {},
   "outputs": [],
   "source": [
    "trains = ['train100', 'train200', 'train300', 'train478']\n",
    "tests = ['test100', 'test200', 'test300', 'test478', ]\n",
    "traindir = '../../../../data/top30groups/traindata'\n",
    "testdir = '../../../../data/top30groups/testdata'\n",
    "\n",
    "trainpaths = []\n",
    "testpaths = []\n",
    "for i, partition in enumerate(trains):\n",
    "    trainpaths.append(f'{traindir}/{partition}.csv')\n",
    "    testpaths.append(f'{testdir}/{tests[i]}.csv')"
   ]
  },
  {
   "cell_type": "code",
   "execution_count": 5,
   "id": "7a7baa97",
   "metadata": {},
   "outputs": [],
   "source": [
    "def preprocess_data(trainpath, testpath):\n",
    "    traindata = pd.read_csv(trainpath, encoding='ISO-8859-1')\n",
    "    testdata = pd.read_csv(testpath, encoding='ISO-8859-1')\n",
    "\n",
    "    y_train_raw = traindata['gname']\n",
    "    y_test_raw = testdata['gname']\n",
    "\n",
    "    train_features = traindata.drop(columns='gname')\n",
    "    test_features = testdata.drop(columns=['gname'])\n",
    "\n",
    "    # One-hot encoding for geodata\n",
    "    geodata = ['longitude', 'latitude']\n",
    "    all_categories = pd.concat([train_features, test_features])\n",
    "    onehot = pd.get_dummies(all_categories, columns=geodata)\n",
    "\n",
    "    train_features = onehot.iloc[:len(train_features)]\n",
    "    test_features = onehot.iloc[len(train_features):]\n",
    "\n",
    "    le = LabelEncoder()\n",
    "    y_train = le.fit_transform(y_train_raw)\n",
    "    y_test = le.transform(y_test_raw)\n",
    "\n",
    "    X_train = train_features\n",
    "    X_test = test_features\n",
    "\n",
    "    return X_train, y_train, X_test, y_test, le"
   ]
  },
  {
   "cell_type": "code",
   "execution_count": 6,
   "id": "35145e25",
   "metadata": {},
   "outputs": [
    {
     "name": "stdout",
     "output_type": "stream",
     "text": [
      "Computing for partition 1, balanced classes with 100 entries for each class and one hot encoded geodata\n",
      "Using codebook with 24 estimators and 30 classes\n"
     ]
    },
    {
     "ename": "AttributeError",
     "evalue": "'ManyClassClassifier' object has no attribute 'estimators_'",
     "output_type": "error",
     "traceback": [
      "\u001b[0;31m---------------------------------------------------------------------------\u001b[0m",
      "\u001b[0;31mAttributeError\u001b[0m                            Traceback (most recent call last)",
      "Cell \u001b[0;32mIn[6], line 20\u001b[0m\n\u001b[1;32m     14\u001b[0m many_class_clf \u001b[38;5;241m=\u001b[39m ManyClassClassifier(\n\u001b[1;32m     15\u001b[0m     estimator\u001b[38;5;241m=\u001b[39mclf,\n\u001b[1;32m     16\u001b[0m     alphabet_size\u001b[38;5;241m=\u001b[39m\u001b[38;5;241m10\u001b[39m\n\u001b[1;32m     17\u001b[0m )\n\u001b[1;32m     18\u001b[0m many_class_clf\u001b[38;5;241m.\u001b[39mfit(X_train, y_train)\n\u001b[0;32m---> 20\u001b[0m prediction \u001b[38;5;241m=\u001b[39m \u001b[43mmany_class_clf\u001b[49m\u001b[38;5;241;43m.\u001b[39;49m\u001b[43mpredict\u001b[49m\u001b[43m(\u001b[49m\u001b[43mX_test\u001b[49m\u001b[43m)\u001b[49m\n\u001b[1;32m     21\u001b[0m accuracy \u001b[38;5;241m=\u001b[39m accuracy_score(y_test, prediction)\n\u001b[1;32m     22\u001b[0m \u001b[38;5;28mprint\u001b[39m(\u001b[38;5;124m\"\u001b[39m\u001b[38;5;124mAccuracy\u001b[39m\u001b[38;5;124m\"\u001b[39m, accuracy)\n",
      "File \u001b[0;32m/opt/conda/lib/python3.11/site-packages/sklearn/multiclass.py:1243\u001b[0m, in \u001b[0;36mOutputCodeClassifier.predict\u001b[0;34m(self, X)\u001b[0m\n\u001b[1;32m   1238\u001b[0m check_is_fitted(\u001b[38;5;28mself\u001b[39m)\n\u001b[1;32m   1239\u001b[0m \u001b[38;5;66;03m# ArgKmin only accepts C-contiguous array. The aggregated predictions need to be\u001b[39;00m\n\u001b[1;32m   1240\u001b[0m \u001b[38;5;66;03m# transposed. We therefore create a F-contiguous array to avoid a copy and have\u001b[39;00m\n\u001b[1;32m   1241\u001b[0m \u001b[38;5;66;03m# a C-contiguous array after the transpose operation.\u001b[39;00m\n\u001b[1;32m   1242\u001b[0m Y \u001b[38;5;241m=\u001b[39m np\u001b[38;5;241m.\u001b[39marray(\n\u001b[0;32m-> 1243\u001b[0m     [_predict_binary(e, X) \u001b[38;5;28;01mfor\u001b[39;00m e \u001b[38;5;129;01min\u001b[39;00m \u001b[38;5;28;43mself\u001b[39;49m\u001b[38;5;241;43m.\u001b[39;49m\u001b[43mestimators_\u001b[49m],\n\u001b[1;32m   1244\u001b[0m     order\u001b[38;5;241m=\u001b[39m\u001b[38;5;124m\"\u001b[39m\u001b[38;5;124mF\u001b[39m\u001b[38;5;124m\"\u001b[39m,\n\u001b[1;32m   1245\u001b[0m     dtype\u001b[38;5;241m=\u001b[39mnp\u001b[38;5;241m.\u001b[39mfloat64,\n\u001b[1;32m   1246\u001b[0m )\u001b[38;5;241m.\u001b[39mT\n\u001b[1;32m   1247\u001b[0m pred \u001b[38;5;241m=\u001b[39m pairwise_distances_argmin(Y, \u001b[38;5;28mself\u001b[39m\u001b[38;5;241m.\u001b[39mcode_book_, metric\u001b[38;5;241m=\u001b[39m\u001b[38;5;124m\"\u001b[39m\u001b[38;5;124meuclidean\u001b[39m\u001b[38;5;124m\"\u001b[39m)\n\u001b[1;32m   1248\u001b[0m \u001b[38;5;28;01mreturn\u001b[39;00m \u001b[38;5;28mself\u001b[39m\u001b[38;5;241m.\u001b[39mclasses_[pred]\n",
      "\u001b[0;31mAttributeError\u001b[0m: 'ManyClassClassifier' object has no attribute 'estimators_'"
     ]
    }
   ],
   "source": [
    "models = []\n",
    "accuracies = []\n",
    "predictions = []\n",
    "truths = []\n",
    "rocs = []\n",
    "n = [100, 200, 300, 478]\n",
    "for i, path in enumerate(trainpaths):\n",
    "    X_train, y_train, X_test, y_test, le = preprocess_data(trainpaths[i], testpaths[i])\n",
    "    \n",
    "    print(f'Computing for partition {i+1}, balanced classes with {n[i]} entries for each class and one hot encoded geodata')\n",
    "\n",
    "    # run classifier on data\n",
    "    clf = TabPFNClassifier(ignore_pretraining_limits=True)\n",
    "    many_class_clf = ManyClassClassifier(\n",
    "        estimator=clf,\n",
    "        alphabet_size=10\n",
    "    )\n",
    "    many_class_clf.fit(X_train, y_train)\n",
    "\n",
    "    prediction = many_class_clf.predict(X_test)\n",
    "    accuracy = accuracy_score(y_test, prediction)\n",
    "    print(\"Accuracy\", accuracy)\n",
    "\n",
    "    decoded_preds = le.inverse_transform(prediction)\n",
    "    decoded_truths = le.inverse_transform(y_test)\n",
    "    \n",
    "    #  saving models, accuracies, predictions, and truths in case we need it for statistics later\n",
    "    models.append(clf)\n",
    "    accuracies.append(accuracy)\n",
    "    predictions.append(decoded_preds)\n",
    "    truths.append(decoded_truths)\n",
    "\n",
    "    print(\"---------------------------------------------------\")"
   ]
  },
  {
   "cell_type": "code",
   "execution_count": null,
   "id": "4d6dd082",
   "metadata": {},
   "outputs": [],
   "source": [
    "for i in range(len(models)):\n",
    "    print(classification_report(predictions[i], truths[i]))"
   ]
  }
 ],
 "metadata": {
  "kernelspec": {
   "display_name": "Python 3",
   "language": "python",
   "name": "python3"
  },
  "language_info": {
   "codemirror_mode": {
    "name": "ipython",
    "version": 3
   },
   "file_extension": ".py",
   "mimetype": "text/x-python",
   "name": "python",
   "nbconvert_exporter": "python",
   "pygments_lexer": "ipython3",
   "version": "3.11.9"
  }
 },
 "nbformat": 4,
 "nbformat_minor": 5
}
