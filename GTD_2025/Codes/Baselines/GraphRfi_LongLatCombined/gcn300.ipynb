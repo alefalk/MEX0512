{
 "cells": [
  {
   "cell_type": "markdown",
   "id": "1ad5ec3d",
   "metadata": {},
   "source": [
    "# Import and Read data\n"
   ]
  },
  {
   "cell_type": "code",
   "execution_count": 1,
   "id": "e0c345e1",
   "metadata": {},
   "outputs": [
    {
     "name": "stderr",
     "output_type": "stream",
     "text": [
      "/opt/conda/lib/python3.11/site-packages/transformers/utils/hub.py:127: FutureWarning: Using `TRANSFORMERS_CACHE` is deprecated and will be removed in v5 of Transformers. Use `HF_HOME` instead.\n",
      "  warnings.warn(\n"
     ]
    }
   ],
   "source": [
    "import sys\n",
    "sys.path.append('.')  # Add current directory to path\n",
    "from build_graph_and_train import *\n",
    "import torch"
   ]
  },
  {
   "cell_type": "code",
   "execution_count": 2,
   "id": "5a4eb788",
   "metadata": {},
   "outputs": [],
   "source": [
    "partition = 300"
   ]
  },
  {
   "cell_type": "code",
   "execution_count": 3,
   "id": "24cfa874",
   "metadata": {},
   "outputs": [],
   "source": [
    "df = pd.read_csv(f\"../../../data/top30groups/LongLatCombined/combined/combined{partition}.csv\")"
   ]
  },
  {
   "cell_type": "code",
   "execution_count": 4,
   "id": "36923c49",
   "metadata": {},
   "outputs": [],
   "source": [
    "from sklearn.preprocessing import StandardScaler\n",
    "\n",
    "# Columns to exclude from scaling\n",
    "exclude_cols = ['gname', 'longitude', 'latitude']\n",
    "\n",
    "# Columns to scale\n",
    "scale_cols = [col for col in df.columns if col not in exclude_cols]\n",
    "\n",
    "# Scale only selected columns\n",
    "scaler = StandardScaler()\n",
    "df[scale_cols] = scaler.fit_transform(df[scale_cols])"
   ]
  },
  {
   "cell_type": "code",
   "execution_count": 5,
   "id": "0360bf97",
   "metadata": {},
   "outputs": [],
   "source": [
    "import os \n",
    "if not os.path.isdir(f\"Results{partition}\"):\n",
    "    os.mkdir(f\"Results{partition}\")"
   ]
  },
  {
   "cell_type": "markdown",
   "id": "219b6998",
   "metadata": {},
   "source": [
    "# Create longlat feature"
   ]
  },
  {
   "cell_type": "code",
   "execution_count": 6,
   "id": "2f55dd60",
   "metadata": {},
   "outputs": [],
   "source": [
    "geodata = ['longitude', 'latitude']\n",
    "combined_geo = df.copy()\n",
    "combined_geo['longlat'] = list(zip(df['longitude'], df['latitude']))\n",
    "combined_geo = combined_geo.drop(columns=geodata)"
   ]
  },
  {
   "cell_type": "code",
   "execution_count": 7,
   "id": "7f94e025",
   "metadata": {},
   "outputs": [],
   "source": [
    "import ast\n",
    "\n",
    "def to_tuple_if_needed(val):\n",
    "    if isinstance(val, str):\n",
    "        return ast.literal_eval(val)\n",
    "    return val  # already a tuple\n",
    "\n",
    "combined_geo['longlat'] = combined_geo['longlat'].apply(to_tuple_if_needed)"
   ]
  },
  {
   "cell_type": "markdown",
   "id": "8e3707b0",
   "metadata": {},
   "source": [
    "# Weapon type prediction"
   ]
  },
  {
   "cell_type": "code",
   "execution_count": 8,
   "id": "06a90beb",
   "metadata": {},
   "outputs": [],
   "source": [
    "torch.cuda.empty_cache()\n"
   ]
  },
  {
   "cell_type": "code",
   "execution_count": 9,
   "id": "41cc634b",
   "metadata": {},
   "outputs": [
    {
     "name": "stdout",
     "output_type": "stream",
     "text": [
      "\n",
      "Training model for weaptype1 prediction...\n"
     ]
    },
    {
     "name": "stderr",
     "output_type": "stream",
     "text": [
      "Training epochs:   0%|          | 1/1000 [00:00<16:22,  1.02it/s]"
     ]
    },
    {
     "name": "stdout",
     "output_type": "stream",
     "text": [
      "Epoch 01 | GCN MSE Loss: 1064.6743 | NRF Loss: 3.3951 | JOINT Loss: 1068.0695 | NRF Acc: 0.1226\n"
     ]
    },
    {
     "name": "stderr",
     "output_type": "stream",
     "text": [
      "Training epochs:   0%|          | 2/1000 [00:01<13:28,  1.23it/s]"
     ]
    },
    {
     "name": "stdout",
     "output_type": "stream",
     "text": [
      "Epoch 02 | GCN MSE Loss: 1047.3463 | NRF Loss: 3.3890 | JOINT Loss: 1050.7354 | NRF Acc: 0.1312\n"
     ]
    },
    {
     "name": "stderr",
     "output_type": "stream",
     "text": [
      "Training epochs:   0%|          | 3/1000 [00:02<11:22,  1.46it/s]"
     ]
    },
    {
     "name": "stdout",
     "output_type": "stream",
     "text": [
      "Epoch 03 | GCN MSE Loss: 1030.2733 | NRF Loss: 3.3761 | JOINT Loss: 1033.6494 | NRF Acc: 0.1297\n"
     ]
    },
    {
     "name": "stderr",
     "output_type": "stream",
     "text": [
      "Training epochs:   0%|          | 4/1000 [00:02<10:24,  1.59it/s]"
     ]
    },
    {
     "name": "stdout",
     "output_type": "stream",
     "text": [
      "Epoch 04 | GCN MSE Loss: 1013.4640 | NRF Loss: 3.3656 | JOINT Loss: 1016.8297 | NRF Acc: 0.1298\n"
     ]
    },
    {
     "name": "stderr",
     "output_type": "stream",
     "text": [
      "Training epochs:   0%|          | 5/1000 [00:03<09:52,  1.68it/s]"
     ]
    },
    {
     "name": "stdout",
     "output_type": "stream",
     "text": [
      "Epoch 05 | GCN MSE Loss: 996.9186 | NRF Loss: 3.3635 | JOINT Loss: 1000.2821 | NRF Acc: 0.1087\n"
     ]
    },
    {
     "name": "stderr",
     "output_type": "stream",
     "text": [
      "Training epochs:   1%|          | 6/1000 [00:03<09:31,  1.74it/s]"
     ]
    },
    {
     "name": "stdout",
     "output_type": "stream",
     "text": [
      "Epoch 06 | GCN MSE Loss: 980.6381 | NRF Loss: 3.3589 | JOINT Loss: 983.9969 | NRF Acc: 0.1089\n"
     ]
    },
    {
     "name": "stderr",
     "output_type": "stream",
     "text": [
      "Training epochs:   1%|          | 7/1000 [00:04<09:17,  1.78it/s]"
     ]
    },
    {
     "name": "stdout",
     "output_type": "stream",
     "text": [
      "Epoch 07 | GCN MSE Loss: 964.6213 | NRF Loss: 3.3537 | JOINT Loss: 967.9750 | NRF Acc: 0.1089\n"
     ]
    },
    {
     "name": "stderr",
     "output_type": "stream",
     "text": [
      "Training epochs:   1%|          | 8/1000 [00:04<09:08,  1.81it/s]"
     ]
    },
    {
     "name": "stdout",
     "output_type": "stream",
     "text": [
      "Epoch 08 | GCN MSE Loss: 948.8706 | NRF Loss: 3.3519 | JOINT Loss: 952.2225 | NRF Acc: 0.1087\n"
     ]
    },
    {
     "name": "stderr",
     "output_type": "stream",
     "text": [
      "Training epochs:   1%|          | 9/1000 [00:05<09:02,  1.83it/s]"
     ]
    },
    {
     "name": "stdout",
     "output_type": "stream",
     "text": [
      "Epoch 09 | GCN MSE Loss: 933.3885 | NRF Loss: 3.3504 | JOINT Loss: 936.7389 | NRF Acc: 0.1087\n"
     ]
    },
    {
     "name": "stderr",
     "output_type": "stream",
     "text": [
      "Training epochs:   1%|          | 10/1000 [00:05<08:57,  1.84it/s]"
     ]
    },
    {
     "name": "stdout",
     "output_type": "stream",
     "text": [
      "Epoch 10 | GCN MSE Loss: 918.1727 | NRF Loss: 3.3473 | JOINT Loss: 921.5200 | NRF Acc: 0.1089\n"
     ]
    },
    {
     "name": "stderr",
     "output_type": "stream",
     "text": [
      "Training epochs:   1%|          | 11/1000 [00:06<08:53,  1.85it/s]"
     ]
    },
    {
     "name": "stdout",
     "output_type": "stream",
     "text": [
      "Epoch 11 | GCN MSE Loss: 903.2194 | NRF Loss: 3.3449 | JOINT Loss: 906.5642 | NRF Acc: 0.1098\n"
     ]
    },
    {
     "name": "stderr",
     "output_type": "stream",
     "text": [
      "Training epochs:   1%|          | 12/1000 [00:07<08:51,  1.86it/s]"
     ]
    },
    {
     "name": "stdout",
     "output_type": "stream",
     "text": [
      "Epoch 12 | GCN MSE Loss: 888.5270 | NRF Loss: 3.3423 | JOINT Loss: 891.8693 | NRF Acc: 0.1255\n"
     ]
    },
    {
     "name": "stderr",
     "output_type": "stream",
     "text": [
      "Training epochs:   1%|▏         | 13/1000 [00:07<09:32,  1.73it/s]"
     ]
    },
    {
     "name": "stdout",
     "output_type": "stream",
     "text": [
      "Epoch 13 | GCN MSE Loss: 874.0958 | NRF Loss: 3.3386 | JOINT Loss: 877.4343 | NRF Acc: 0.1536\n"
     ]
    },
    {
     "name": "stderr",
     "output_type": "stream",
     "text": [
      "Training epochs:   1%|▏         | 14/1000 [00:08<10:05,  1.63it/s]"
     ]
    },
    {
     "name": "stdout",
     "output_type": "stream",
     "text": [
      "Epoch 14 | GCN MSE Loss: 859.9244 | NRF Loss: 3.3338 | JOINT Loss: 863.2582 | NRF Acc: 0.1600\n"
     ]
    },
    {
     "name": "stderr",
     "output_type": "stream",
     "text": [
      "Training epochs:   2%|▏         | 15/1000 [00:09<10:24,  1.58it/s]"
     ]
    },
    {
     "name": "stdout",
     "output_type": "stream",
     "text": [
      "Epoch 15 | GCN MSE Loss: 846.0144 | NRF Loss: 3.3299 | JOINT Loss: 849.3443 | NRF Acc: 0.1809\n"
     ]
    },
    {
     "name": "stderr",
     "output_type": "stream",
     "text": [
      "Training epochs:   2%|▏         | 16/1000 [00:09<10:39,  1.54it/s]"
     ]
    },
    {
     "name": "stdout",
     "output_type": "stream",
     "text": [
      "Epoch 16 | GCN MSE Loss: 832.3660 | NRF Loss: 3.3275 | JOINT Loss: 835.6935 | NRF Acc: 0.1814\n"
     ]
    },
    {
     "name": "stderr",
     "output_type": "stream",
     "text": [
      "Training epochs:   2%|▏         | 17/1000 [00:10<10:06,  1.62it/s]"
     ]
    },
    {
     "name": "stdout",
     "output_type": "stream",
     "text": [
      "Epoch 17 | GCN MSE Loss: 818.9731 | NRF Loss: 3.3253 | JOINT Loss: 822.2985 | NRF Acc: 0.1801\n"
     ]
    },
    {
     "name": "stderr",
     "output_type": "stream",
     "text": [
      "Training epochs:   2%|▏         | 18/1000 [00:10<09:40,  1.69it/s]"
     ]
    },
    {
     "name": "stdout",
     "output_type": "stream",
     "text": [
      "Epoch 18 | GCN MSE Loss: 805.8227 | NRF Loss: 3.3238 | JOINT Loss: 809.1465 | NRF Acc: 0.1788\n"
     ]
    },
    {
     "name": "stderr",
     "output_type": "stream",
     "text": [
      "Training epochs:   2%|▏         | 19/1000 [00:11<09:23,  1.74it/s]"
     ]
    },
    {
     "name": "stdout",
     "output_type": "stream",
     "text": [
      "Epoch 19 | GCN MSE Loss: 792.9252 | NRF Loss: 3.3217 | JOINT Loss: 796.2468 | NRF Acc: 0.1738\n"
     ]
    },
    {
     "name": "stderr",
     "output_type": "stream",
     "text": [
      "Training epochs:   2%|▏         | 20/1000 [00:11<09:11,  1.78it/s]"
     ]
    },
    {
     "name": "stdout",
     "output_type": "stream",
     "text": [
      "Epoch 20 | GCN MSE Loss: 780.2776 | NRF Loss: 3.3194 | JOINT Loss: 783.5970 | NRF Acc: 0.1723\n"
     ]
    },
    {
     "name": "stderr",
     "output_type": "stream",
     "text": [
      "Training epochs:   2%|▏         | 21/1000 [00:12<09:02,  1.81it/s]"
     ]
    },
    {
     "name": "stdout",
     "output_type": "stream",
     "text": [
      "Epoch 21 | GCN MSE Loss: 767.8745 | NRF Loss: 3.3162 | JOINT Loss: 771.1907 | NRF Acc: 0.1716\n"
     ]
    },
    {
     "name": "stderr",
     "output_type": "stream",
     "text": [
      "Training epochs:   2%|▏         | 22/1000 [00:12<08:55,  1.83it/s]"
     ]
    },
    {
     "name": "stdout",
     "output_type": "stream",
     "text": [
      "Epoch 22 | GCN MSE Loss: 755.6969 | NRF Loss: 3.3139 | JOINT Loss: 759.0108 | NRF Acc: 0.1724\n"
     ]
    },
    {
     "name": "stderr",
     "output_type": "stream",
     "text": [
      "Training epochs:   2%|▏         | 23/1000 [00:13<09:37,  1.69it/s]"
     ]
    },
    {
     "name": "stdout",
     "output_type": "stream",
     "text": [
      "Epoch 23 | GCN MSE Loss: 743.7188 | NRF Loss: 3.3114 | JOINT Loss: 747.0302 | NRF Acc: 0.1818\n"
     ]
    },
    {
     "name": "stderr",
     "output_type": "stream",
     "text": [
      "Training epochs:   2%|▏         | 24/1000 [00:14<10:04,  1.61it/s]"
     ]
    },
    {
     "name": "stdout",
     "output_type": "stream",
     "text": [
      "Epoch 24 | GCN MSE Loss: 731.9528 | NRF Loss: 3.3078 | JOINT Loss: 735.2605 | NRF Acc: 0.1953\n"
     ]
    },
    {
     "name": "stderr",
     "output_type": "stream",
     "text": [
      "Training epochs:   2%|▎         | 25/1000 [00:15<10:22,  1.57it/s]"
     ]
    },
    {
     "name": "stdout",
     "output_type": "stream",
     "text": [
      "Epoch 25 | GCN MSE Loss: 720.4030 | NRF Loss: 3.3056 | JOINT Loss: 723.7086 | NRF Acc: 0.1962\n"
     ]
    },
    {
     "name": "stderr",
     "output_type": "stream",
     "text": [
      "Training epochs:   3%|▎         | 26/1000 [00:15<10:33,  1.54it/s]"
     ]
    },
    {
     "name": "stdout",
     "output_type": "stream",
     "text": [
      "Epoch 26 | GCN MSE Loss: 709.0589 | NRF Loss: 3.3027 | JOINT Loss: 712.3616 | NRF Acc: 0.2155\n"
     ]
    },
    {
     "name": "stderr",
     "output_type": "stream",
     "text": [
      "Training epochs:   3%|▎         | 27/1000 [00:16<10:41,  1.52it/s]"
     ]
    },
    {
     "name": "stdout",
     "output_type": "stream",
     "text": [
      "Epoch 27 | GCN MSE Loss: 697.9324 | NRF Loss: 3.2994 | JOINT Loss: 701.2318 | NRF Acc: 0.2161\n"
     ]
    },
    {
     "name": "stderr",
     "output_type": "stream",
     "text": [
      "Training epochs:   3%|▎         | 28/1000 [00:17<10:43,  1.51it/s]"
     ]
    },
    {
     "name": "stdout",
     "output_type": "stream",
     "text": [
      "Epoch 28 | GCN MSE Loss: 687.0229 | NRF Loss: 3.2972 | JOINT Loss: 690.3201 | NRF Acc: 0.2180\n"
     ]
    },
    {
     "name": "stderr",
     "output_type": "stream",
     "text": [
      "Training epochs:   3%|▎         | 29/1000 [00:17<10:49,  1.49it/s]"
     ]
    },
    {
     "name": "stdout",
     "output_type": "stream",
     "text": [
      "Epoch 29 | GCN MSE Loss: 676.3300 | NRF Loss: 3.2953 | JOINT Loss: 679.6252 | NRF Acc: 0.2185\n"
     ]
    },
    {
     "name": "stderr",
     "output_type": "stream",
     "text": [
      "Training epochs:   3%|▎         | 30/1000 [00:18<10:51,  1.49it/s]"
     ]
    },
    {
     "name": "stdout",
     "output_type": "stream",
     "text": [
      "Epoch 30 | GCN MSE Loss: 665.8463 | NRF Loss: 3.2942 | JOINT Loss: 669.1404 | NRF Acc: 0.2204\n"
     ]
    },
    {
     "name": "stderr",
     "output_type": "stream",
     "text": [
      "Training epochs:   3%|▎         | 31/1000 [00:18<10:12,  1.58it/s]"
     ]
    },
    {
     "name": "stdout",
     "output_type": "stream",
     "text": [
      "Epoch 31 | GCN MSE Loss: 655.5543 | NRF Loss: 3.2948 | JOINT Loss: 658.8492 | NRF Acc: 0.2159\n"
     ]
    },
    {
     "name": "stderr",
     "output_type": "stream",
     "text": [
      "Training epochs:   3%|▎         | 32/1000 [00:19<09:43,  1.66it/s]"
     ]
    },
    {
     "name": "stdout",
     "output_type": "stream",
     "text": [
      "Epoch 32 | GCN MSE Loss: 645.4366 | NRF Loss: 3.2931 | JOINT Loss: 648.7297 | NRF Acc: 0.1759\n"
     ]
    },
    {
     "name": "stderr",
     "output_type": "stream",
     "text": [
      "Training epochs:   3%|▎         | 33/1000 [00:20<09:23,  1.72it/s]"
     ]
    },
    {
     "name": "stdout",
     "output_type": "stream",
     "text": [
      "Epoch 33 | GCN MSE Loss: 635.4152 | NRF Loss: 3.2910 | JOINT Loss: 638.7062 | NRF Acc: 0.1764\n"
     ]
    },
    {
     "name": "stderr",
     "output_type": "stream",
     "text": [
      "Training epochs:   3%|▎         | 34/1000 [00:20<09:09,  1.76it/s]"
     ]
    },
    {
     "name": "stdout",
     "output_type": "stream",
     "text": [
      "Epoch 34 | GCN MSE Loss: 625.5356 | NRF Loss: 3.2893 | JOINT Loss: 628.8250 | NRF Acc: 0.1974\n"
     ]
    },
    {
     "name": "stderr",
     "output_type": "stream",
     "text": [
      "Training epochs:   4%|▎         | 35/1000 [00:21<08:59,  1.79it/s]"
     ]
    },
    {
     "name": "stdout",
     "output_type": "stream",
     "text": [
      "Epoch 35 | GCN MSE Loss: 615.7991 | NRF Loss: 3.2870 | JOINT Loss: 619.0861 | NRF Acc: 0.1993\n"
     ]
    },
    {
     "name": "stderr",
     "output_type": "stream",
     "text": [
      "Training epochs:   4%|▎         | 36/1000 [00:21<08:53,  1.81it/s]"
     ]
    },
    {
     "name": "stdout",
     "output_type": "stream",
     "text": [
      "Epoch 36 | GCN MSE Loss: 606.2086 | NRF Loss: 3.2845 | JOINT Loss: 609.4932 | NRF Acc: 0.2033\n"
     ]
    },
    {
     "name": "stderr",
     "output_type": "stream",
     "text": [
      "Training epochs:   4%|▎         | 37/1000 [00:22<08:48,  1.82it/s]"
     ]
    },
    {
     "name": "stdout",
     "output_type": "stream",
     "text": [
      "Epoch 37 | GCN MSE Loss: 596.7673 | NRF Loss: 3.2817 | JOINT Loss: 600.0490 | NRF Acc: 0.2117\n"
     ]
    },
    {
     "name": "stderr",
     "output_type": "stream",
     "text": [
      "Training epochs:   4%|▍         | 38/1000 [00:22<08:44,  1.83it/s]"
     ]
    },
    {
     "name": "stdout",
     "output_type": "stream",
     "text": [
      "Epoch 38 | GCN MSE Loss: 587.4652 | NRF Loss: 3.2794 | JOINT Loss: 590.7446 | NRF Acc: 0.2124\n"
     ]
    },
    {
     "name": "stderr",
     "output_type": "stream",
     "text": [
      "Training epochs:   4%|▍         | 39/1000 [00:23<08:42,  1.84it/s]"
     ]
    },
    {
     "name": "stdout",
     "output_type": "stream",
     "text": [
      "Epoch 39 | GCN MSE Loss: 578.2643 | NRF Loss: 3.2769 | JOINT Loss: 581.5412 | NRF Acc: 0.2124\n"
     ]
    },
    {
     "name": "stderr",
     "output_type": "stream",
     "text": [
      "Training epochs:   4%|▍         | 40/1000 [00:23<08:39,  1.85it/s]"
     ]
    },
    {
     "name": "stdout",
     "output_type": "stream",
     "text": [
      "Epoch 40 | GCN MSE Loss: 569.1167 | NRF Loss: 3.2743 | JOINT Loss: 572.3911 | NRF Acc: 0.2138\n"
     ]
    },
    {
     "name": "stderr",
     "output_type": "stream",
     "text": [
      "Training epochs:   4%|▍         | 41/1000 [00:24<08:38,  1.85it/s]"
     ]
    },
    {
     "name": "stdout",
     "output_type": "stream",
     "text": [
      "Epoch 41 | GCN MSE Loss: 560.0305 | NRF Loss: 3.2726 | JOINT Loss: 563.3031 | NRF Acc: 0.2133\n"
     ]
    },
    {
     "name": "stderr",
     "output_type": "stream",
     "text": [
      "Training epochs:   4%|▍         | 42/1000 [00:24<08:36,  1.86it/s]"
     ]
    },
    {
     "name": "stdout",
     "output_type": "stream",
     "text": [
      "Epoch 42 | GCN MSE Loss: 550.9979 | NRF Loss: 3.2708 | JOINT Loss: 554.2687 | NRF Acc: 0.2149\n"
     ]
    },
    {
     "name": "stderr",
     "output_type": "stream",
     "text": [
      "Training epochs:   4%|▍         | 43/1000 [00:25<08:35,  1.86it/s]"
     ]
    },
    {
     "name": "stdout",
     "output_type": "stream",
     "text": [
      "Epoch 43 | GCN MSE Loss: 542.0973 | NRF Loss: 3.2677 | JOINT Loss: 545.3650 | NRF Acc: 0.2150\n"
     ]
    },
    {
     "name": "stderr",
     "output_type": "stream",
     "text": [
      "Training epochs:   4%|▍         | 44/1000 [00:25<08:34,  1.86it/s]"
     ]
    },
    {
     "name": "stdout",
     "output_type": "stream",
     "text": [
      "Epoch 44 | GCN MSE Loss: 533.3229 | NRF Loss: 3.2658 | JOINT Loss: 536.5887 | NRF Acc: 0.2150\n"
     ]
    },
    {
     "name": "stderr",
     "output_type": "stream",
     "text": [
      "Training epochs:   4%|▍         | 45/1000 [00:26<08:34,  1.86it/s]"
     ]
    },
    {
     "name": "stdout",
     "output_type": "stream",
     "text": [
      "Epoch 45 | GCN MSE Loss: 524.6611 | NRF Loss: 3.2642 | JOINT Loss: 527.9253 | NRF Acc: 0.2150\n"
     ]
    },
    {
     "name": "stderr",
     "output_type": "stream",
     "text": [
      "Training epochs:   5%|▍         | 46/1000 [00:27<08:33,  1.86it/s]"
     ]
    },
    {
     "name": "stdout",
     "output_type": "stream",
     "text": [
      "Epoch 46 | GCN MSE Loss: 516.0696 | NRF Loss: 3.2627 | JOINT Loss: 519.3323 | NRF Acc: 0.2152\n"
     ]
    },
    {
     "name": "stderr",
     "output_type": "stream",
     "text": [
      "Training epochs:   5%|▍         | 47/1000 [00:27<08:32,  1.86it/s]"
     ]
    },
    {
     "name": "stdout",
     "output_type": "stream",
     "text": [
      "Epoch 47 | GCN MSE Loss: 507.4725 | NRF Loss: 3.2601 | JOINT Loss: 510.7325 | NRF Acc: 0.2155\n"
     ]
    },
    {
     "name": "stderr",
     "output_type": "stream",
     "text": [
      "Training epochs:   5%|▍         | 48/1000 [00:28<08:31,  1.86it/s]"
     ]
    },
    {
     "name": "stdout",
     "output_type": "stream",
     "text": [
      "Epoch 48 | GCN MSE Loss: 498.8539 | NRF Loss: 3.2582 | JOINT Loss: 502.1121 | NRF Acc: 0.2159\n"
     ]
    },
    {
     "name": "stderr",
     "output_type": "stream",
     "text": [
      "Training epochs:   5%|▍         | 49/1000 [00:28<08:29,  1.86it/s]"
     ]
    },
    {
     "name": "stdout",
     "output_type": "stream",
     "text": [
      "Epoch 49 | GCN MSE Loss: 490.0421 | NRF Loss: 3.2560 | JOINT Loss: 493.2981 | NRF Acc: 0.2180\n"
     ]
    },
    {
     "name": "stderr",
     "output_type": "stream",
     "text": [
      "Training epochs:   5%|▌         | 50/1000 [00:29<08:30,  1.86it/s]"
     ]
    },
    {
     "name": "stdout",
     "output_type": "stream",
     "text": [
      "Epoch 50 | GCN MSE Loss: 481.2883 | NRF Loss: 3.2541 | JOINT Loss: 484.5424 | NRF Acc: 0.2197\n"
     ]
    },
    {
     "name": "stderr",
     "output_type": "stream",
     "text": [
      "Training epochs:   5%|▌         | 51/1000 [00:29<08:29,  1.86it/s]"
     ]
    },
    {
     "name": "stdout",
     "output_type": "stream",
     "text": [
      "Epoch 51 | GCN MSE Loss: 472.6411 | NRF Loss: 3.2516 | JOINT Loss: 475.8927 | NRF Acc: 0.2197\n"
     ]
    },
    {
     "name": "stderr",
     "output_type": "stream",
     "text": [
      "Training epochs:   5%|▌         | 52/1000 [00:30<08:28,  1.86it/s]"
     ]
    },
    {
     "name": "stdout",
     "output_type": "stream",
     "text": [
      "Epoch 52 | GCN MSE Loss: 464.1049 | NRF Loss: 3.2505 | JOINT Loss: 467.3553 | NRF Acc: 0.2200\n"
     ]
    },
    {
     "name": "stderr",
     "output_type": "stream",
     "text": [
      "Training epochs:   5%|▌         | 53/1000 [00:30<09:10,  1.72it/s]"
     ]
    },
    {
     "name": "stdout",
     "output_type": "stream",
     "text": [
      "Epoch 53 | GCN MSE Loss: 455.6836 | NRF Loss: 3.2484 | JOINT Loss: 458.9319 | NRF Acc: 0.2207\n"
     ]
    },
    {
     "name": "stderr",
     "output_type": "stream",
     "text": [
      "Training epochs:   5%|▌         | 54/1000 [00:31<08:57,  1.76it/s]"
     ]
    },
    {
     "name": "stdout",
     "output_type": "stream",
     "text": [
      "Epoch 54 | GCN MSE Loss: 447.3761 | NRF Loss: 3.2464 | JOINT Loss: 450.6225 | NRF Acc: 0.2202\n"
     ]
    },
    {
     "name": "stderr",
     "output_type": "stream",
     "text": [
      "Training epochs:   6%|▌         | 55/1000 [00:31<08:48,  1.79it/s]"
     ]
    },
    {
     "name": "stdout",
     "output_type": "stream",
     "text": [
      "Epoch 55 | GCN MSE Loss: 439.1804 | NRF Loss: 3.2448 | JOINT Loss: 442.4252 | NRF Acc: 0.2194\n"
     ]
    },
    {
     "name": "stderr",
     "output_type": "stream",
     "text": [
      "Training epochs:   6%|▌         | 56/1000 [00:32<08:40,  1.81it/s]"
     ]
    },
    {
     "name": "stdout",
     "output_type": "stream",
     "text": [
      "Epoch 56 | GCN MSE Loss: 431.1001 | NRF Loss: 3.2425 | JOINT Loss: 434.3426 | NRF Acc: 0.2190\n"
     ]
    },
    {
     "name": "stderr",
     "output_type": "stream",
     "text": [
      "Training epochs:   6%|▌         | 57/1000 [00:33<08:36,  1.83it/s]"
     ]
    },
    {
     "name": "stdout",
     "output_type": "stream",
     "text": [
      "Epoch 57 | GCN MSE Loss: 423.1403 | NRF Loss: 3.2398 | JOINT Loss: 426.3801 | NRF Acc: 0.2188\n"
     ]
    },
    {
     "name": "stderr",
     "output_type": "stream",
     "text": [
      "Training epochs:   6%|▌         | 58/1000 [00:33<08:32,  1.84it/s]"
     ]
    },
    {
     "name": "stdout",
     "output_type": "stream",
     "text": [
      "Epoch 58 | GCN MSE Loss: 415.3017 | NRF Loss: 3.2377 | JOINT Loss: 418.5394 | NRF Acc: 0.2199\n"
     ]
    },
    {
     "name": "stderr",
     "output_type": "stream",
     "text": [
      "Training epochs:   6%|▌         | 59/1000 [00:34<08:28,  1.85it/s]"
     ]
    },
    {
     "name": "stdout",
     "output_type": "stream",
     "text": [
      "Epoch 59 | GCN MSE Loss: 407.5820 | NRF Loss: 3.2363 | JOINT Loss: 410.8183 | NRF Acc: 0.2199\n"
     ]
    },
    {
     "name": "stderr",
     "output_type": "stream",
     "text": [
      "Training epochs:   6%|▌         | 60/1000 [00:34<08:25,  1.86it/s]"
     ]
    },
    {
     "name": "stdout",
     "output_type": "stream",
     "text": [
      "Epoch 60 | GCN MSE Loss: 399.9784 | NRF Loss: 3.2345 | JOINT Loss: 403.2129 | NRF Acc: 0.2200\n"
     ]
    },
    {
     "name": "stderr",
     "output_type": "stream",
     "text": [
      "Training epochs:   6%|▌         | 61/1000 [00:35<08:23,  1.86it/s]"
     ]
    },
    {
     "name": "stdout",
     "output_type": "stream",
     "text": [
      "Epoch 61 | GCN MSE Loss: 392.4882 | NRF Loss: 3.2323 | JOINT Loss: 395.7205 | NRF Acc: 0.2206\n"
     ]
    },
    {
     "name": "stderr",
     "output_type": "stream",
     "text": [
      "Training epochs:   6%|▌         | 62/1000 [00:35<08:23,  1.86it/s]"
     ]
    },
    {
     "name": "stdout",
     "output_type": "stream",
     "text": [
      "Epoch 62 | GCN MSE Loss: 385.1109 | NRF Loss: 3.2303 | JOINT Loss: 388.3412 | NRF Acc: 0.2204\n"
     ]
    },
    {
     "name": "stderr",
     "output_type": "stream",
     "text": [
      "Training epochs:   6%|▋         | 63/1000 [00:36<08:22,  1.86it/s]"
     ]
    },
    {
     "name": "stdout",
     "output_type": "stream",
     "text": [
      "Epoch 63 | GCN MSE Loss: 377.8492 | NRF Loss: 3.2285 | JOINT Loss: 381.0777 | NRF Acc: 0.2197\n"
     ]
    },
    {
     "name": "stderr",
     "output_type": "stream",
     "text": [
      "Training epochs:   6%|▋         | 64/1000 [00:36<09:02,  1.73it/s]"
     ]
    },
    {
     "name": "stdout",
     "output_type": "stream",
     "text": [
      "Epoch 64 | GCN MSE Loss: 370.7020 | NRF Loss: 3.2271 | JOINT Loss: 373.9290 | NRF Acc: 0.2396\n"
     ]
    },
    {
     "name": "stderr",
     "output_type": "stream",
     "text": [
      "Training epochs:   6%|▋         | 65/1000 [00:37<09:31,  1.64it/s]"
     ]
    },
    {
     "name": "stdout",
     "output_type": "stream",
     "text": [
      "Epoch 65 | GCN MSE Loss: 363.6632 | NRF Loss: 3.2248 | JOINT Loss: 366.8880 | NRF Acc: 0.2427\n"
     ]
    },
    {
     "name": "stderr",
     "output_type": "stream",
     "text": [
      "Training epochs:   7%|▋         | 66/1000 [00:38<09:09,  1.70it/s]"
     ]
    },
    {
     "name": "stdout",
     "output_type": "stream",
     "text": [
      "Epoch 66 | GCN MSE Loss: 356.7374 | NRF Loss: 3.2230 | JOINT Loss: 359.9604 | NRF Acc: 0.2420\n"
     ]
    },
    {
     "name": "stderr",
     "output_type": "stream",
     "text": [
      "Training epochs:   7%|▋         | 67/1000 [00:38<08:53,  1.75it/s]"
     ]
    },
    {
     "name": "stdout",
     "output_type": "stream",
     "text": [
      "Epoch 67 | GCN MSE Loss: 349.9247 | NRF Loss: 3.2209 | JOINT Loss: 353.1456 | NRF Acc: 0.2420\n"
     ]
    },
    {
     "name": "stderr",
     "output_type": "stream",
     "text": [
      "Training epochs:   7%|▋         | 68/1000 [00:39<08:42,  1.78it/s]"
     ]
    },
    {
     "name": "stdout",
     "output_type": "stream",
     "text": [
      "Epoch 68 | GCN MSE Loss: 343.2200 | NRF Loss: 3.2193 | JOINT Loss: 346.4392 | NRF Acc: 0.2424\n"
     ]
    },
    {
     "name": "stderr",
     "output_type": "stream",
     "text": [
      "Training epochs:   7%|▋         | 69/1000 [00:39<08:34,  1.81it/s]"
     ]
    },
    {
     "name": "stdout",
     "output_type": "stream",
     "text": [
      "Epoch 69 | GCN MSE Loss: 336.6222 | NRF Loss: 3.2177 | JOINT Loss: 339.8399 | NRF Acc: 0.2415\n"
     ]
    },
    {
     "name": "stderr",
     "output_type": "stream",
     "text": [
      "Training epochs:   7%|▋         | 70/1000 [00:40<09:10,  1.69it/s]"
     ]
    },
    {
     "name": "stdout",
     "output_type": "stream",
     "text": [
      "Epoch 70 | GCN MSE Loss: 330.1314 | NRF Loss: 3.2157 | JOINT Loss: 333.3471 | NRF Acc: 0.2431\n"
     ]
    },
    {
     "name": "stderr",
     "output_type": "stream",
     "text": [
      "Training epochs:   7%|▋         | 71/1000 [00:41<09:35,  1.61it/s]"
     ]
    },
    {
     "name": "stdout",
     "output_type": "stream",
     "text": [
      "Epoch 71 | GCN MSE Loss: 323.7459 | NRF Loss: 3.2141 | JOINT Loss: 326.9600 | NRF Acc: 0.2434\n"
     ]
    },
    {
     "name": "stderr",
     "output_type": "stream",
     "text": [
      "Training epochs:   7%|▋         | 72/1000 [00:41<09:52,  1.57it/s]"
     ]
    },
    {
     "name": "stdout",
     "output_type": "stream",
     "text": [
      "Epoch 72 | GCN MSE Loss: 317.4634 | NRF Loss: 3.2116 | JOINT Loss: 320.6750 | NRF Acc: 0.2436\n"
     ]
    },
    {
     "name": "stderr",
     "output_type": "stream",
     "text": [
      "Training epochs:   7%|▋         | 73/1000 [00:42<10:02,  1.54it/s]"
     ]
    },
    {
     "name": "stdout",
     "output_type": "stream",
     "text": [
      "Epoch 73 | GCN MSE Loss: 311.2812 | NRF Loss: 3.2099 | JOINT Loss: 314.4911 | NRF Acc: 0.2438\n"
     ]
    },
    {
     "name": "stderr",
     "output_type": "stream",
     "text": [
      "Training epochs:   7%|▋         | 74/1000 [00:43<10:08,  1.52it/s]"
     ]
    },
    {
     "name": "stdout",
     "output_type": "stream",
     "text": [
      "Epoch 74 | GCN MSE Loss: 305.1989 | NRF Loss: 3.2079 | JOINT Loss: 308.4068 | NRF Acc: 0.2450\n"
     ]
    },
    {
     "name": "stderr",
     "output_type": "stream",
     "text": [
      "Training epochs:   8%|▊         | 75/1000 [00:43<10:14,  1.51it/s]"
     ]
    },
    {
     "name": "stdout",
     "output_type": "stream",
     "text": [
      "Epoch 75 | GCN MSE Loss: 299.2149 | NRF Loss: 3.2059 | JOINT Loss: 302.4208 | NRF Acc: 0.2453\n"
     ]
    },
    {
     "name": "stderr",
     "output_type": "stream",
     "text": [
      "Training epochs:   8%|▊         | 76/1000 [00:44<10:18,  1.49it/s]"
     ]
    },
    {
     "name": "stdout",
     "output_type": "stream",
     "text": [
      "Epoch 76 | GCN MSE Loss: 293.3289 | NRF Loss: 3.2041 | JOINT Loss: 296.5331 | NRF Acc: 0.2458\n"
     ]
    },
    {
     "name": "stderr",
     "output_type": "stream",
     "text": [
      "Training epochs:   8%|▊         | 77/1000 [00:45<10:18,  1.49it/s]"
     ]
    },
    {
     "name": "stdout",
     "output_type": "stream",
     "text": [
      "Epoch 77 | GCN MSE Loss: 287.5400 | NRF Loss: 3.2016 | JOINT Loss: 290.7416 | NRF Acc: 0.2481\n"
     ]
    },
    {
     "name": "stderr",
     "output_type": "stream",
     "text": [
      "Training epochs:   8%|▊         | 78/1000 [00:45<10:19,  1.49it/s]"
     ]
    },
    {
     "name": "stdout",
     "output_type": "stream",
     "text": [
      "Epoch 78 | GCN MSE Loss: 281.8459 | NRF Loss: 3.2003 | JOINT Loss: 285.0462 | NRF Acc: 0.2486\n"
     ]
    },
    {
     "name": "stderr",
     "output_type": "stream",
     "text": [
      "Training epochs:   8%|▊         | 79/1000 [00:46<10:18,  1.49it/s]"
     ]
    },
    {
     "name": "stdout",
     "output_type": "stream",
     "text": [
      "Epoch 79 | GCN MSE Loss: 276.2469 | NRF Loss: 3.1986 | JOINT Loss: 279.4454 | NRF Acc: 0.2493\n"
     ]
    },
    {
     "name": "stderr",
     "output_type": "stream",
     "text": [
      "Training epochs:   8%|▊         | 80/1000 [00:47<10:20,  1.48it/s]"
     ]
    },
    {
     "name": "stdout",
     "output_type": "stream",
     "text": [
      "Epoch 80 | GCN MSE Loss: 270.7396 | NRF Loss: 3.1971 | JOINT Loss: 273.9367 | NRF Acc: 0.2497\n"
     ]
    },
    {
     "name": "stderr",
     "output_type": "stream",
     "text": [
      "Training epochs:   8%|▊         | 81/1000 [00:47<10:20,  1.48it/s]"
     ]
    },
    {
     "name": "stdout",
     "output_type": "stream",
     "text": [
      "Epoch 81 | GCN MSE Loss: 265.3233 | NRF Loss: 3.1953 | JOINT Loss: 268.5186 | NRF Acc: 0.2529\n"
     ]
    },
    {
     "name": "stderr",
     "output_type": "stream",
     "text": [
      "Training epochs:   8%|▊         | 82/1000 [00:48<10:19,  1.48it/s]"
     ]
    },
    {
     "name": "stdout",
     "output_type": "stream",
     "text": [
      "Epoch 82 | GCN MSE Loss: 259.9964 | NRF Loss: 3.1935 | JOINT Loss: 263.1899 | NRF Acc: 0.2535\n"
     ]
    },
    {
     "name": "stderr",
     "output_type": "stream",
     "text": [
      "Training epochs:   8%|▊         | 83/1000 [00:49<10:20,  1.48it/s]"
     ]
    },
    {
     "name": "stdout",
     "output_type": "stream",
     "text": [
      "Epoch 83 | GCN MSE Loss: 254.7619 | NRF Loss: 3.1922 | JOINT Loss: 257.9542 | NRF Acc: 0.2550\n"
     ]
    },
    {
     "name": "stderr",
     "output_type": "stream",
     "text": [
      "Training epochs:   8%|▊         | 84/1000 [00:49<09:41,  1.57it/s]"
     ]
    },
    {
     "name": "stdout",
     "output_type": "stream",
     "text": [
      "Epoch 84 | GCN MSE Loss: 249.6172 | NRF Loss: 3.1905 | JOINT Loss: 252.8076 | NRF Acc: 0.2516\n"
     ]
    },
    {
     "name": "stderr",
     "output_type": "stream",
     "text": [
      "Training epochs:   8%|▊         | 85/1000 [00:50<09:13,  1.65it/s]"
     ]
    },
    {
     "name": "stdout",
     "output_type": "stream",
     "text": [
      "Epoch 85 | GCN MSE Loss: 244.5601 | NRF Loss: 3.1889 | JOINT Loss: 247.7490 | NRF Acc: 0.2372\n"
     ]
    },
    {
     "name": "stderr",
     "output_type": "stream",
     "text": [
      "Training epochs:   9%|▊         | 86/1000 [00:50<08:53,  1.71it/s]"
     ]
    },
    {
     "name": "stdout",
     "output_type": "stream",
     "text": [
      "Epoch 86 | GCN MSE Loss: 239.5885 | NRF Loss: 3.1872 | JOINT Loss: 242.7757 | NRF Acc: 0.2493\n"
     ]
    },
    {
     "name": "stderr",
     "output_type": "stream",
     "text": [
      "Training epochs:   9%|▊         | 87/1000 [00:51<08:39,  1.76it/s]"
     ]
    },
    {
     "name": "stdout",
     "output_type": "stream",
     "text": [
      "Epoch 87 | GCN MSE Loss: 234.7005 | NRF Loss: 3.1862 | JOINT Loss: 237.8868 | NRF Acc: 0.2490\n"
     ]
    },
    {
     "name": "stderr",
     "output_type": "stream",
     "text": [
      "Training epochs:   9%|▉         | 88/1000 [00:51<08:30,  1.79it/s]"
     ]
    },
    {
     "name": "stdout",
     "output_type": "stream",
     "text": [
      "Epoch 88 | GCN MSE Loss: 229.8952 | NRF Loss: 3.1844 | JOINT Loss: 233.0796 | NRF Acc: 0.2495\n"
     ]
    },
    {
     "name": "stderr",
     "output_type": "stream",
     "text": [
      "Training epochs:   9%|▉         | 89/1000 [00:52<08:23,  1.81it/s]"
     ]
    },
    {
     "name": "stdout",
     "output_type": "stream",
     "text": [
      "Epoch 89 | GCN MSE Loss: 225.1718 | NRF Loss: 3.1830 | JOINT Loss: 228.3548 | NRF Acc: 0.2367\n"
     ]
    },
    {
     "name": "stderr",
     "output_type": "stream",
     "text": [
      "Training epochs:   9%|▉         | 90/1000 [00:53<08:19,  1.82it/s]"
     ]
    },
    {
     "name": "stdout",
     "output_type": "stream",
     "text": [
      "Epoch 90 | GCN MSE Loss: 220.5296 | NRF Loss: 3.1811 | JOINT Loss: 223.7107 | NRF Acc: 0.2353\n"
     ]
    },
    {
     "name": "stderr",
     "output_type": "stream",
     "text": [
      "Training epochs:   9%|▉         | 91/1000 [00:53<08:15,  1.83it/s]"
     ]
    },
    {
     "name": "stdout",
     "output_type": "stream",
     "text": [
      "Epoch 91 | GCN MSE Loss: 215.9669 | NRF Loss: 3.1798 | JOINT Loss: 219.1467 | NRF Acc: 0.2353\n"
     ]
    },
    {
     "name": "stderr",
     "output_type": "stream",
     "text": [
      "Training epochs:   9%|▉         | 92/1000 [00:54<08:12,  1.84it/s]"
     ]
    },
    {
     "name": "stdout",
     "output_type": "stream",
     "text": [
      "Epoch 92 | GCN MSE Loss: 211.4827 | NRF Loss: 3.1781 | JOINT Loss: 214.6609 | NRF Acc: 0.2353\n"
     ]
    },
    {
     "name": "stderr",
     "output_type": "stream",
     "text": [
      "Training epochs:   9%|▉         | 93/1000 [00:54<08:09,  1.85it/s]"
     ]
    },
    {
     "name": "stdout",
     "output_type": "stream",
     "text": [
      "Epoch 93 | GCN MSE Loss: 207.0773 | NRF Loss: 3.1763 | JOINT Loss: 210.2536 | NRF Acc: 0.2490\n"
     ]
    },
    {
     "name": "stderr",
     "output_type": "stream",
     "text": [
      "Training epochs:   9%|▉         | 94/1000 [00:55<08:49,  1.71it/s]"
     ]
    },
    {
     "name": "stdout",
     "output_type": "stream",
     "text": [
      "Epoch 94 | GCN MSE Loss: 202.7486 | NRF Loss: 3.1746 | JOINT Loss: 205.9232 | NRF Acc: 0.2555\n"
     ]
    },
    {
     "name": "stderr",
     "output_type": "stream",
     "text": [
      "Training epochs:  10%|▉         | 95/1000 [00:55<08:35,  1.75it/s]"
     ]
    },
    {
     "name": "stdout",
     "output_type": "stream",
     "text": [
      "Epoch 95 | GCN MSE Loss: 198.4960 | NRF Loss: 3.1728 | JOINT Loss: 201.6688 | NRF Acc: 0.2555\n"
     ]
    },
    {
     "name": "stderr",
     "output_type": "stream",
     "text": [
      "Training epochs:  10%|▉         | 96/1000 [00:56<09:04,  1.66it/s]"
     ]
    },
    {
     "name": "stdout",
     "output_type": "stream",
     "text": [
      "Epoch 96 | GCN MSE Loss: 194.3207 | NRF Loss: 3.1709 | JOINT Loss: 197.4916 | NRF Acc: 0.2573\n"
     ]
    },
    {
     "name": "stderr",
     "output_type": "stream",
     "text": [
      "Training epochs:  10%|▉         | 97/1000 [00:57<08:45,  1.72it/s]"
     ]
    },
    {
     "name": "stdout",
     "output_type": "stream",
     "text": [
      "Epoch 97 | GCN MSE Loss: 190.2202 | NRF Loss: 3.1698 | JOINT Loss: 193.3900 | NRF Acc: 0.2561\n"
     ]
    },
    {
     "name": "stderr",
     "output_type": "stream",
     "text": [
      "Training epochs:  10%|▉         | 98/1000 [00:57<08:31,  1.76it/s]"
     ]
    },
    {
     "name": "stdout",
     "output_type": "stream",
     "text": [
      "Epoch 98 | GCN MSE Loss: 186.1922 | NRF Loss: 3.1680 | JOINT Loss: 189.3602 | NRF Acc: 0.2524\n"
     ]
    },
    {
     "name": "stderr",
     "output_type": "stream",
     "text": [
      "Training epochs:  10%|▉         | 99/1000 [00:58<08:22,  1.79it/s]"
     ]
    },
    {
     "name": "stdout",
     "output_type": "stream",
     "text": [
      "Epoch 99 | GCN MSE Loss: 182.2354 | NRF Loss: 3.1658 | JOINT Loss: 185.4012 | NRF Acc: 0.2516\n"
     ]
    },
    {
     "name": "stderr",
     "output_type": "stream",
     "text": [
      "Training epochs:  10%|█         | 100/1000 [00:58<08:15,  1.81it/s]"
     ]
    },
    {
     "name": "stdout",
     "output_type": "stream",
     "text": [
      "Epoch 100 | GCN MSE Loss: 178.3501 | NRF Loss: 3.1644 | JOINT Loss: 181.5146 | NRF Acc: 0.2524\n"
     ]
    },
    {
     "name": "stderr",
     "output_type": "stream",
     "text": [
      "Training epochs:  10%|█         | 101/1000 [00:59<08:11,  1.83it/s]"
     ]
    },
    {
     "name": "stdout",
     "output_type": "stream",
     "text": [
      "Epoch 101 | GCN MSE Loss: 174.5358 | NRF Loss: 3.1627 | JOINT Loss: 177.6984 | NRF Acc: 0.2535\n"
     ]
    },
    {
     "name": "stderr",
     "output_type": "stream",
     "text": [
      "Training epochs:  10%|█         | 102/1000 [00:59<08:07,  1.84it/s]"
     ]
    },
    {
     "name": "stdout",
     "output_type": "stream",
     "text": [
      "Epoch 102 | GCN MSE Loss: 170.7906 | NRF Loss: 3.1612 | JOINT Loss: 173.9517 | NRF Acc: 0.2529\n"
     ]
    },
    {
     "name": "stderr",
     "output_type": "stream",
     "text": [
      "Training epochs:  10%|█         | 103/1000 [01:00<08:05,  1.85it/s]"
     ]
    },
    {
     "name": "stdout",
     "output_type": "stream",
     "text": [
      "Epoch 103 | GCN MSE Loss: 167.1138 | NRF Loss: 3.1595 | JOINT Loss: 170.2733 | NRF Acc: 0.2528\n"
     ]
    },
    {
     "name": "stderr",
     "output_type": "stream",
     "text": [
      "Training epochs:  10%|█         | 104/1000 [01:00<08:03,  1.85it/s]"
     ]
    },
    {
     "name": "stdout",
     "output_type": "stream",
     "text": [
      "Epoch 104 | GCN MSE Loss: 163.5043 | NRF Loss: 3.1578 | JOINT Loss: 166.6621 | NRF Acc: 0.2548\n"
     ]
    },
    {
     "name": "stderr",
     "output_type": "stream",
     "text": [
      "Training epochs:  10%|█         | 105/1000 [01:01<08:40,  1.72it/s]"
     ]
    },
    {
     "name": "stdout",
     "output_type": "stream",
     "text": [
      "Epoch 105 | GCN MSE Loss: 159.9610 | NRF Loss: 3.1561 | JOINT Loss: 163.1170 | NRF Acc: 0.2578\n"
     ]
    },
    {
     "name": "stderr",
     "output_type": "stream",
     "text": [
      "Training epochs:  11%|█         | 106/1000 [01:02<09:07,  1.63it/s]"
     ]
    },
    {
     "name": "stdout",
     "output_type": "stream",
     "text": [
      "Epoch 106 | GCN MSE Loss: 156.4844 | NRF Loss: 3.1544 | JOINT Loss: 159.6387 | NRF Acc: 0.2621\n"
     ]
    },
    {
     "name": "stderr",
     "output_type": "stream",
     "text": [
      "Training epochs:  11%|█         | 107/1000 [01:02<09:26,  1.58it/s]"
     ]
    },
    {
     "name": "stdout",
     "output_type": "stream",
     "text": [
      "Epoch 107 | GCN MSE Loss: 153.0715 | NRF Loss: 3.1527 | JOINT Loss: 156.2242 | NRF Acc: 0.2706\n"
     ]
    },
    {
     "name": "stderr",
     "output_type": "stream",
     "text": [
      "Training epochs:  11%|█         | 108/1000 [01:03<09:38,  1.54it/s]"
     ]
    },
    {
     "name": "stdout",
     "output_type": "stream",
     "text": [
      "Epoch 108 | GCN MSE Loss: 149.7219 | NRF Loss: 3.1507 | JOINT Loss: 152.8727 | NRF Acc: 0.2734\n"
     ]
    },
    {
     "name": "stderr",
     "output_type": "stream",
     "text": [
      "Training epochs:  11%|█         | 109/1000 [01:04<09:46,  1.52it/s]"
     ]
    },
    {
     "name": "stdout",
     "output_type": "stream",
     "text": [
      "Epoch 109 | GCN MSE Loss: 146.4357 | NRF Loss: 3.1492 | JOINT Loss: 149.5849 | NRF Acc: 0.2735\n"
     ]
    },
    {
     "name": "stderr",
     "output_type": "stream",
     "text": [
      "Training epochs:  11%|█         | 110/1000 [01:04<09:50,  1.51it/s]"
     ]
    },
    {
     "name": "stdout",
     "output_type": "stream",
     "text": [
      "Epoch 110 | GCN MSE Loss: 143.2133 | NRF Loss: 3.1474 | JOINT Loss: 146.3607 | NRF Acc: 0.2741\n"
     ]
    },
    {
     "name": "stderr",
     "output_type": "stream",
     "text": [
      "Training epochs:  11%|█         | 111/1000 [01:05<09:51,  1.50it/s]"
     ]
    },
    {
     "name": "stdout",
     "output_type": "stream",
     "text": [
      "Epoch 111 | GCN MSE Loss: 140.0541 | NRF Loss: 3.1458 | JOINT Loss: 143.1999 | NRF Acc: 0.2749\n"
     ]
    },
    {
     "name": "stderr",
     "output_type": "stream",
     "text": [
      "Training epochs:  11%|█         | 112/1000 [01:06<09:55,  1.49it/s]"
     ]
    },
    {
     "name": "stdout",
     "output_type": "stream",
     "text": [
      "Epoch 112 | GCN MSE Loss: 136.9570 | NRF Loss: 3.1447 | JOINT Loss: 140.1017 | NRF Acc: 0.2751\n"
     ]
    },
    {
     "name": "stderr",
     "output_type": "stream",
     "text": [
      "Training epochs:  11%|█▏        | 113/1000 [01:06<09:19,  1.58it/s]"
     ]
    },
    {
     "name": "stdout",
     "output_type": "stream",
     "text": [
      "Epoch 113 | GCN MSE Loss: 133.9208 | NRF Loss: 3.1430 | JOINT Loss: 137.0638 | NRF Acc: 0.2692\n"
     ]
    },
    {
     "name": "stderr",
     "output_type": "stream",
     "text": [
      "Training epochs:  11%|█▏        | 114/1000 [01:07<08:53,  1.66it/s]"
     ]
    },
    {
     "name": "stdout",
     "output_type": "stream",
     "text": [
      "Epoch 114 | GCN MSE Loss: 130.9434 | NRF Loss: 3.1414 | JOINT Loss: 134.0848 | NRF Acc: 0.2628\n"
     ]
    },
    {
     "name": "stderr",
     "output_type": "stream",
     "text": [
      "Training epochs:  12%|█▏        | 115/1000 [01:07<08:35,  1.72it/s]"
     ]
    },
    {
     "name": "stdout",
     "output_type": "stream",
     "text": [
      "Epoch 115 | GCN MSE Loss: 128.0235 | NRF Loss: 3.1400 | JOINT Loss: 131.1634 | NRF Acc: 0.2595\n"
     ]
    },
    {
     "name": "stderr",
     "output_type": "stream",
     "text": [
      "Training epochs:  12%|█▏        | 116/1000 [01:08<08:22,  1.76it/s]"
     ]
    },
    {
     "name": "stdout",
     "output_type": "stream",
     "text": [
      "Epoch 116 | GCN MSE Loss: 125.1597 | NRF Loss: 3.1385 | JOINT Loss: 128.2982 | NRF Acc: 0.2590\n"
     ]
    },
    {
     "name": "stderr",
     "output_type": "stream",
     "text": [
      "Training epochs:  12%|█▏        | 117/1000 [01:08<08:13,  1.79it/s]"
     ]
    },
    {
     "name": "stdout",
     "output_type": "stream",
     "text": [
      "Epoch 117 | GCN MSE Loss: 122.3514 | NRF Loss: 3.1370 | JOINT Loss: 125.4883 | NRF Acc: 0.2597\n"
     ]
    },
    {
     "name": "stderr",
     "output_type": "stream",
     "text": [
      "Training epochs:  12%|█▏        | 118/1000 [01:09<08:06,  1.81it/s]"
     ]
    },
    {
     "name": "stdout",
     "output_type": "stream",
     "text": [
      "Epoch 118 | GCN MSE Loss: 119.5981 | NRF Loss: 3.1356 | JOINT Loss: 122.7337 | NRF Acc: 0.2587\n"
     ]
    },
    {
     "name": "stderr",
     "output_type": "stream",
     "text": [
      "Training epochs:  12%|█▏        | 119/1000 [01:10<08:01,  1.83it/s]"
     ]
    },
    {
     "name": "stdout",
     "output_type": "stream",
     "text": [
      "Epoch 119 | GCN MSE Loss: 116.8990 | NRF Loss: 3.1342 | JOINT Loss: 120.0332 | NRF Acc: 0.2604\n"
     ]
    },
    {
     "name": "stderr",
     "output_type": "stream",
     "text": [
      "Training epochs:  12%|█▏        | 120/1000 [01:10<07:58,  1.84it/s]"
     ]
    },
    {
     "name": "stdout",
     "output_type": "stream",
     "text": [
      "Epoch 120 | GCN MSE Loss: 114.2533 | NRF Loss: 3.1327 | JOINT Loss: 117.3859 | NRF Acc: 0.2597\n"
     ]
    },
    {
     "name": "stderr",
     "output_type": "stream",
     "text": [
      "Training epochs:  12%|█▏        | 121/1000 [01:11<07:55,  1.85it/s]"
     ]
    },
    {
     "name": "stdout",
     "output_type": "stream",
     "text": [
      "Epoch 121 | GCN MSE Loss: 111.6599 | NRF Loss: 3.1310 | JOINT Loss: 114.7908 | NRF Acc: 0.2502\n"
     ]
    },
    {
     "name": "stderr",
     "output_type": "stream",
     "text": [
      "Training epochs:  12%|█▏        | 122/1000 [01:11<07:53,  1.86it/s]"
     ]
    },
    {
     "name": "stdout",
     "output_type": "stream",
     "text": [
      "Epoch 122 | GCN MSE Loss: 109.1181 | NRF Loss: 3.1294 | JOINT Loss: 112.2475 | NRF Acc: 0.2502\n"
     ]
    },
    {
     "name": "stderr",
     "output_type": "stream",
     "text": [
      "Training epochs:  12%|█▏        | 123/1000 [01:12<07:53,  1.85it/s]"
     ]
    },
    {
     "name": "stdout",
     "output_type": "stream",
     "text": [
      "Epoch 123 | GCN MSE Loss: 106.6276 | NRF Loss: 3.1278 | JOINT Loss: 109.7554 | NRF Acc: 0.2503\n"
     ]
    },
    {
     "name": "stderr",
     "output_type": "stream",
     "text": [
      "Training epochs:  12%|█▏        | 124/1000 [01:12<07:54,  1.85it/s]"
     ]
    },
    {
     "name": "stdout",
     "output_type": "stream",
     "text": [
      "Epoch 124 | GCN MSE Loss: 104.1890 | NRF Loss: 3.1262 | JOINT Loss: 107.3152 | NRF Acc: 0.2510\n"
     ]
    },
    {
     "name": "stderr",
     "output_type": "stream",
     "text": [
      "Training epochs:  12%|█▎        | 125/1000 [01:13<07:52,  1.85it/s]"
     ]
    },
    {
     "name": "stdout",
     "output_type": "stream",
     "text": [
      "Epoch 125 | GCN MSE Loss: 101.8001 | NRF Loss: 3.1246 | JOINT Loss: 104.9248 | NRF Acc: 0.2507\n"
     ]
    },
    {
     "name": "stderr",
     "output_type": "stream",
     "text": [
      "Training epochs:  13%|█▎        | 126/1000 [01:13<07:51,  1.86it/s]"
     ]
    },
    {
     "name": "stdout",
     "output_type": "stream",
     "text": [
      "Epoch 126 | GCN MSE Loss: 99.4601 | NRF Loss: 3.1235 | JOINT Loss: 102.5836 | NRF Acc: 0.2507\n"
     ]
    },
    {
     "name": "stderr",
     "output_type": "stream",
     "text": [
      "Training epochs:  13%|█▎        | 127/1000 [01:14<07:49,  1.86it/s]"
     ]
    },
    {
     "name": "stdout",
     "output_type": "stream",
     "text": [
      "Epoch 127 | GCN MSE Loss: 97.1683 | NRF Loss: 3.1224 | JOINT Loss: 100.2907 | NRF Acc: 0.2552\n"
     ]
    },
    {
     "name": "stderr",
     "output_type": "stream",
     "text": [
      "Training epochs:  13%|█▎        | 128/1000 [01:14<08:23,  1.73it/s]"
     ]
    },
    {
     "name": "stdout",
     "output_type": "stream",
     "text": [
      "Epoch 128 | GCN MSE Loss: 94.9240 | NRF Loss: 3.1210 | JOINT Loss: 98.0449 | NRF Acc: 0.2886\n"
     ]
    },
    {
     "name": "stderr",
     "output_type": "stream",
     "text": [
      "Training epochs:  13%|█▎        | 129/1000 [01:15<08:11,  1.77it/s]"
     ]
    },
    {
     "name": "stdout",
     "output_type": "stream",
     "text": [
      "Epoch 129 | GCN MSE Loss: 92.7262 | NRF Loss: 3.1193 | JOINT Loss: 95.8456 | NRF Acc: 0.2503\n"
     ]
    },
    {
     "name": "stderr",
     "output_type": "stream",
     "text": [
      "Training epochs:  13%|█▎        | 130/1000 [01:16<08:03,  1.80it/s]"
     ]
    },
    {
     "name": "stdout",
     "output_type": "stream",
     "text": [
      "Epoch 130 | GCN MSE Loss: 90.5745 | NRF Loss: 3.1174 | JOINT Loss: 93.6919 | NRF Acc: 0.2517\n"
     ]
    },
    {
     "name": "stderr",
     "output_type": "stream",
     "text": [
      "Training epochs:  13%|█▎        | 131/1000 [01:16<07:58,  1.81it/s]"
     ]
    },
    {
     "name": "stdout",
     "output_type": "stream",
     "text": [
      "Epoch 131 | GCN MSE Loss: 88.4682 | NRF Loss: 3.1155 | JOINT Loss: 91.5837 | NRF Acc: 0.2559\n"
     ]
    },
    {
     "name": "stderr",
     "output_type": "stream",
     "text": [
      "Training epochs:  13%|█▎        | 132/1000 [01:17<07:54,  1.83it/s]"
     ]
    },
    {
     "name": "stdout",
     "output_type": "stream",
     "text": [
      "Epoch 132 | GCN MSE Loss: 86.4065 | NRF Loss: 3.1145 | JOINT Loss: 89.5210 | NRF Acc: 0.2755\n"
     ]
    },
    {
     "name": "stderr",
     "output_type": "stream",
     "text": [
      "Training epochs:  13%|█▎        | 133/1000 [01:17<08:30,  1.70it/s]"
     ]
    },
    {
     "name": "stdout",
     "output_type": "stream",
     "text": [
      "Epoch 133 | GCN MSE Loss: 84.3888 | NRF Loss: 3.1125 | JOINT Loss: 87.5013 | NRF Acc: 0.2983\n"
     ]
    },
    {
     "name": "stderr",
     "output_type": "stream",
     "text": [
      "Training epochs:  13%|█▎        | 134/1000 [01:18<08:51,  1.63it/s]"
     ]
    },
    {
     "name": "stdout",
     "output_type": "stream",
     "text": [
      "Epoch 134 | GCN MSE Loss: 82.4146 | NRF Loss: 3.1108 | JOINT Loss: 85.5254 | NRF Acc: 0.2990\n"
     ]
    },
    {
     "name": "stderr",
     "output_type": "stream",
     "text": [
      "Training epochs:  14%|█▎        | 135/1000 [01:19<08:31,  1.69it/s]"
     ]
    },
    {
     "name": "stdout",
     "output_type": "stream",
     "text": [
      "Epoch 135 | GCN MSE Loss: 80.4830 | NRF Loss: 3.1091 | JOINT Loss: 83.5921 | NRF Acc: 0.2890\n"
     ]
    },
    {
     "name": "stderr",
     "output_type": "stream",
     "text": [
      "Training epochs:  14%|█▎        | 136/1000 [01:19<08:17,  1.74it/s]"
     ]
    },
    {
     "name": "stdout",
     "output_type": "stream",
     "text": [
      "Epoch 136 | GCN MSE Loss: 78.5937 | NRF Loss: 3.1072 | JOINT Loss: 81.7009 | NRF Acc: 0.2888\n"
     ]
    },
    {
     "name": "stderr",
     "output_type": "stream",
     "text": [
      "Training epochs:  14%|█▎        | 137/1000 [01:20<08:06,  1.77it/s]"
     ]
    },
    {
     "name": "stdout",
     "output_type": "stream",
     "text": [
      "Epoch 137 | GCN MSE Loss: 76.7459 | NRF Loss: 3.1054 | JOINT Loss: 79.8513 | NRF Acc: 0.2886\n"
     ]
    },
    {
     "name": "stderr",
     "output_type": "stream",
     "text": [
      "Training epochs:  14%|█▍        | 138/1000 [01:20<07:58,  1.80it/s]"
     ]
    },
    {
     "name": "stdout",
     "output_type": "stream",
     "text": [
      "Epoch 138 | GCN MSE Loss: 74.9391 | NRF Loss: 3.1038 | JOINT Loss: 78.0429 | NRF Acc: 0.2890\n"
     ]
    },
    {
     "name": "stderr",
     "output_type": "stream",
     "text": [
      "Training epochs:  14%|█▍        | 139/1000 [01:21<07:52,  1.82it/s]"
     ]
    },
    {
     "name": "stdout",
     "output_type": "stream",
     "text": [
      "Epoch 139 | GCN MSE Loss: 73.1726 | NRF Loss: 3.1018 | JOINT Loss: 76.2744 | NRF Acc: 0.2891\n"
     ]
    },
    {
     "name": "stderr",
     "output_type": "stream",
     "text": [
      "Training epochs:  14%|█▍        | 140/1000 [01:21<07:48,  1.83it/s]"
     ]
    },
    {
     "name": "stdout",
     "output_type": "stream",
     "text": [
      "Epoch 140 | GCN MSE Loss: 71.4457 | NRF Loss: 3.0998 | JOINT Loss: 74.5456 | NRF Acc: 0.2924\n"
     ]
    },
    {
     "name": "stderr",
     "output_type": "stream",
     "text": [
      "Training epochs:  14%|█▍        | 141/1000 [01:22<07:45,  1.85it/s]"
     ]
    },
    {
     "name": "stdout",
     "output_type": "stream",
     "text": [
      "Epoch 141 | GCN MSE Loss: 69.7579 | NRF Loss: 3.0985 | JOINT Loss: 72.8564 | NRF Acc: 0.2990\n"
     ]
    },
    {
     "name": "stderr",
     "output_type": "stream",
     "text": [
      "Training epochs:  14%|█▍        | 142/1000 [01:22<08:24,  1.70it/s]"
     ]
    },
    {
     "name": "stdout",
     "output_type": "stream",
     "text": [
      "Epoch 142 | GCN MSE Loss: 68.1087 | NRF Loss: 3.0966 | JOINT Loss: 71.2053 | NRF Acc: 0.3198\n"
     ]
    },
    {
     "name": "stderr",
     "output_type": "stream",
     "text": [
      "Training epochs:  14%|█▍        | 143/1000 [01:23<08:46,  1.63it/s]"
     ]
    },
    {
     "name": "stdout",
     "output_type": "stream",
     "text": [
      "Epoch 143 | GCN MSE Loss: 66.4975 | NRF Loss: 3.0949 | JOINT Loss: 69.5924 | NRF Acc: 0.3220\n"
     ]
    },
    {
     "name": "stderr",
     "output_type": "stream",
     "text": [
      "Training epochs:  14%|█▍        | 144/1000 [01:24<08:25,  1.69it/s]"
     ]
    },
    {
     "name": "stdout",
     "output_type": "stream",
     "text": [
      "Epoch 144 | GCN MSE Loss: 64.9237 | NRF Loss: 3.0931 | JOINT Loss: 68.0168 | NRF Acc: 0.3203\n"
     ]
    },
    {
     "name": "stderr",
     "output_type": "stream",
     "text": [
      "Training epochs:  14%|█▍        | 145/1000 [01:24<08:12,  1.74it/s]"
     ]
    },
    {
     "name": "stdout",
     "output_type": "stream",
     "text": [
      "Epoch 145 | GCN MSE Loss: 63.3866 | NRF Loss: 3.0912 | JOINT Loss: 66.4779 | NRF Acc: 0.3073\n"
     ]
    },
    {
     "name": "stderr",
     "output_type": "stream",
     "text": [
      "Training epochs:  15%|█▍        | 146/1000 [01:25<08:01,  1.77it/s]"
     ]
    },
    {
     "name": "stdout",
     "output_type": "stream",
     "text": [
      "Epoch 146 | GCN MSE Loss: 61.8857 | NRF Loss: 3.0895 | JOINT Loss: 64.9752 | NRF Acc: 0.3054\n"
     ]
    },
    {
     "name": "stderr",
     "output_type": "stream",
     "text": [
      "Training epochs:  15%|█▍        | 147/1000 [01:25<07:52,  1.80it/s]"
     ]
    },
    {
     "name": "stdout",
     "output_type": "stream",
     "text": [
      "Epoch 147 | GCN MSE Loss: 60.4203 | NRF Loss: 3.0878 | JOINT Loss: 63.5081 | NRF Acc: 0.3128\n"
     ]
    },
    {
     "name": "stderr",
     "output_type": "stream",
     "text": [
      "Training epochs:  15%|█▍        | 148/1000 [01:26<08:28,  1.67it/s]"
     ]
    },
    {
     "name": "stdout",
     "output_type": "stream",
     "text": [
      "Epoch 148 | GCN MSE Loss: 58.9899 | NRF Loss: 3.0861 | JOINT Loss: 62.0760 | NRF Acc: 0.3329\n"
     ]
    },
    {
     "name": "stderr",
     "output_type": "stream",
     "text": [
      "Training epochs:  15%|█▍        | 149/1000 [01:27<09:01,  1.57it/s]"
     ]
    },
    {
     "name": "stdout",
     "output_type": "stream",
     "text": [
      "Epoch 149 | GCN MSE Loss: 57.5939 | NRF Loss: 3.0843 | JOINT Loss: 60.6782 | NRF Acc: 0.3447\n"
     ]
    },
    {
     "name": "stderr",
     "output_type": "stream",
     "text": [
      "Training epochs:  15%|█▌        | 150/1000 [01:27<09:15,  1.53it/s]"
     ]
    },
    {
     "name": "stdout",
     "output_type": "stream",
     "text": [
      "Epoch 150 | GCN MSE Loss: 56.2316 | NRF Loss: 3.0831 | JOINT Loss: 59.3147 | NRF Acc: 0.3516\n"
     ]
    },
    {
     "name": "stderr",
     "output_type": "stream",
     "text": [
      "Training epochs:  15%|█▌        | 151/1000 [01:28<09:26,  1.50it/s]"
     ]
    },
    {
     "name": "stdout",
     "output_type": "stream",
     "text": [
      "Epoch 151 | GCN MSE Loss: 54.9025 | NRF Loss: 3.0816 | JOINT Loss: 57.9842 | NRF Acc: 0.3584\n"
     ]
    },
    {
     "name": "stderr",
     "output_type": "stream",
     "text": [
      "Training epochs:  15%|█▌        | 152/1000 [01:29<09:31,  1.48it/s]"
     ]
    },
    {
     "name": "stdout",
     "output_type": "stream",
     "text": [
      "Epoch 152 | GCN MSE Loss: 53.6061 | NRF Loss: 3.0801 | JOINT Loss: 56.6861 | NRF Acc: 0.3610\n"
     ]
    },
    {
     "name": "stderr",
     "output_type": "stream",
     "text": [
      "Training epochs:  15%|█▌        | 153/1000 [01:29<09:40,  1.46it/s]"
     ]
    },
    {
     "name": "stdout",
     "output_type": "stream",
     "text": [
      "Epoch 153 | GCN MSE Loss: 52.3416 | NRF Loss: 3.0786 | JOINT Loss: 55.4202 | NRF Acc: 0.3618\n"
     ]
    },
    {
     "name": "stderr",
     "output_type": "stream",
     "text": [
      "Training epochs:  15%|█▌        | 154/1000 [01:30<09:39,  1.46it/s]"
     ]
    },
    {
     "name": "stdout",
     "output_type": "stream",
     "text": [
      "Epoch 154 | GCN MSE Loss: 51.1086 | NRF Loss: 3.0773 | JOINT Loss: 54.1860 | NRF Acc: 0.3681\n"
     ]
    },
    {
     "name": "stderr",
     "output_type": "stream",
     "text": [
      "Training epochs:  16%|█▌        | 155/1000 [01:31<09:39,  1.46it/s]"
     ]
    },
    {
     "name": "stdout",
     "output_type": "stream",
     "text": [
      "Epoch 155 | GCN MSE Loss: 49.9066 | NRF Loss: 3.0758 | JOINT Loss: 52.9824 | NRF Acc: 0.3741\n"
     ]
    },
    {
     "name": "stderr",
     "output_type": "stream",
     "text": [
      "Training epochs:  16%|█▌        | 156/1000 [01:32<09:38,  1.46it/s]"
     ]
    },
    {
     "name": "stdout",
     "output_type": "stream",
     "text": [
      "Epoch 156 | GCN MSE Loss: 48.7349 | NRF Loss: 3.0746 | JOINT Loss: 51.8095 | NRF Acc: 0.3771\n"
     ]
    },
    {
     "name": "stderr",
     "output_type": "stream",
     "text": [
      "Training epochs:  16%|█▌        | 157/1000 [01:32<09:37,  1.46it/s]"
     ]
    },
    {
     "name": "stdout",
     "output_type": "stream",
     "text": [
      "Epoch 157 | GCN MSE Loss: 47.5930 | NRF Loss: 3.0733 | JOINT Loss: 50.6663 | NRF Acc: 0.3840\n"
     ]
    },
    {
     "name": "stderr",
     "output_type": "stream",
     "text": [
      "Training epochs:  16%|█▌        | 158/1000 [01:33<09:38,  1.46it/s]"
     ]
    },
    {
     "name": "stdout",
     "output_type": "stream",
     "text": [
      "Epoch 158 | GCN MSE Loss: 46.4804 | NRF Loss: 3.0718 | JOINT Loss: 49.5522 | NRF Acc: 0.3916\n"
     ]
    },
    {
     "name": "stderr",
     "output_type": "stream",
     "text": [
      "Training epochs:  16%|█▌        | 159/1000 [01:34<09:35,  1.46it/s]"
     ]
    },
    {
     "name": "stdout",
     "output_type": "stream",
     "text": [
      "Epoch 159 | GCN MSE Loss: 45.3965 | NRF Loss: 3.0710 | JOINT Loss: 48.4675 | NRF Acc: 0.3925\n"
     ]
    },
    {
     "name": "stderr",
     "output_type": "stream",
     "text": [
      "Training epochs:  16%|█▌        | 160/1000 [01:34<09:34,  1.46it/s]"
     ]
    },
    {
     "name": "stdout",
     "output_type": "stream",
     "text": [
      "Epoch 160 | GCN MSE Loss: 44.3408 | NRF Loss: 3.0694 | JOINT Loss: 47.4101 | NRF Acc: 0.4051\n"
     ]
    },
    {
     "name": "stderr",
     "output_type": "stream",
     "text": [
      "Training epochs:  16%|█▌        | 161/1000 [01:35<08:56,  1.56it/s]"
     ]
    },
    {
     "name": "stdout",
     "output_type": "stream",
     "text": [
      "Epoch 161 | GCN MSE Loss: 43.3125 | NRF Loss: 3.0678 | JOINT Loss: 46.3803 | NRF Acc: 0.3980\n"
     ]
    },
    {
     "name": "stderr",
     "output_type": "stream",
     "text": [
      "Training epochs:  16%|█▌        | 162/1000 [01:35<08:29,  1.64it/s]"
     ]
    },
    {
     "name": "stdout",
     "output_type": "stream",
     "text": [
      "Epoch 162 | GCN MSE Loss: 42.3113 | NRF Loss: 3.0667 | JOINT Loss: 45.3780 | NRF Acc: 0.3966\n"
     ]
    },
    {
     "name": "stderr",
     "output_type": "stream",
     "text": [
      "Training epochs:  16%|█▋        | 163/1000 [01:36<08:10,  1.71it/s]"
     ]
    },
    {
     "name": "stdout",
     "output_type": "stream",
     "text": [
      "Epoch 163 | GCN MSE Loss: 41.3364 | NRF Loss: 3.0650 | JOINT Loss: 44.4013 | NRF Acc: 0.3934\n"
     ]
    },
    {
     "name": "stderr",
     "output_type": "stream",
     "text": [
      "Training epochs:  16%|█▋        | 164/1000 [01:36<07:58,  1.75it/s]"
     ]
    },
    {
     "name": "stdout",
     "output_type": "stream",
     "text": [
      "Epoch 164 | GCN MSE Loss: 40.3870 | NRF Loss: 3.0638 | JOINT Loss: 43.4508 | NRF Acc: 0.3911\n"
     ]
    },
    {
     "name": "stderr",
     "output_type": "stream",
     "text": [
      "Training epochs:  16%|█▋        | 165/1000 [01:37<07:48,  1.78it/s]"
     ]
    },
    {
     "name": "stdout",
     "output_type": "stream",
     "text": [
      "Epoch 165 | GCN MSE Loss: 39.4624 | NRF Loss: 3.0621 | JOINT Loss: 42.5245 | NRF Acc: 0.3887\n"
     ]
    },
    {
     "name": "stderr",
     "output_type": "stream",
     "text": [
      "Training epochs:  17%|█▋        | 166/1000 [01:37<07:42,  1.80it/s]"
     ]
    },
    {
     "name": "stdout",
     "output_type": "stream",
     "text": [
      "Epoch 166 | GCN MSE Loss: 38.5623 | NRF Loss: 3.0605 | JOINT Loss: 41.6228 | NRF Acc: 0.3909\n"
     ]
    },
    {
     "name": "stderr",
     "output_type": "stream",
     "text": [
      "Training epochs:  17%|█▋        | 167/1000 [01:38<07:38,  1.82it/s]"
     ]
    },
    {
     "name": "stdout",
     "output_type": "stream",
     "text": [
      "Epoch 167 | GCN MSE Loss: 37.6858 | NRF Loss: 3.0587 | JOINT Loss: 40.7446 | NRF Acc: 0.3889\n"
     ]
    },
    {
     "name": "stderr",
     "output_type": "stream",
     "text": [
      "Training epochs:  17%|█▋        | 168/1000 [01:39<07:33,  1.83it/s]"
     ]
    },
    {
     "name": "stdout",
     "output_type": "stream",
     "text": [
      "Epoch 168 | GCN MSE Loss: 36.8327 | NRF Loss: 3.0572 | JOINT Loss: 39.8899 | NRF Acc: 0.3882\n"
     ]
    },
    {
     "name": "stderr",
     "output_type": "stream",
     "text": [
      "Training epochs:  17%|█▋        | 169/1000 [01:39<07:30,  1.84it/s]"
     ]
    },
    {
     "name": "stdout",
     "output_type": "stream",
     "text": [
      "Epoch 169 | GCN MSE Loss: 36.0025 | NRF Loss: 3.0556 | JOINT Loss: 39.0581 | NRF Acc: 0.3743\n"
     ]
    },
    {
     "name": "stderr",
     "output_type": "stream",
     "text": [
      "Training epochs:  17%|█▋        | 170/1000 [01:40<07:27,  1.85it/s]"
     ]
    },
    {
     "name": "stdout",
     "output_type": "stream",
     "text": [
      "Epoch 170 | GCN MSE Loss: 35.1949 | NRF Loss: 3.0542 | JOINT Loss: 38.2492 | NRF Acc: 0.3736\n"
     ]
    },
    {
     "name": "stderr",
     "output_type": "stream",
     "text": [
      "Training epochs:  17%|█▋        | 171/1000 [01:40<07:26,  1.86it/s]"
     ]
    },
    {
     "name": "stdout",
     "output_type": "stream",
     "text": [
      "Epoch 171 | GCN MSE Loss: 34.4094 | NRF Loss: 3.0526 | JOINT Loss: 37.4620 | NRF Acc: 0.3726\n"
     ]
    },
    {
     "name": "stderr",
     "output_type": "stream",
     "text": [
      "Training epochs:  17%|█▋        | 172/1000 [01:41<07:26,  1.86it/s]"
     ]
    },
    {
     "name": "stdout",
     "output_type": "stream",
     "text": [
      "Epoch 172 | GCN MSE Loss: 33.6456 | NRF Loss: 3.0512 | JOINT Loss: 36.6967 | NRF Acc: 0.3724\n"
     ]
    },
    {
     "name": "stderr",
     "output_type": "stream",
     "text": [
      "Training epochs:  17%|█▋        | 173/1000 [01:41<07:24,  1.86it/s]"
     ]
    },
    {
     "name": "stdout",
     "output_type": "stream",
     "text": [
      "Epoch 173 | GCN MSE Loss: 32.9029 | NRF Loss: 3.0498 | JOINT Loss: 35.9528 | NRF Acc: 0.3731\n"
     ]
    },
    {
     "name": "stderr",
     "output_type": "stream",
     "text": [
      "Training epochs:  17%|█▋        | 174/1000 [01:42<07:23,  1.86it/s]"
     ]
    },
    {
     "name": "stdout",
     "output_type": "stream",
     "text": [
      "Epoch 174 | GCN MSE Loss: 32.1810 | NRF Loss: 3.0483 | JOINT Loss: 35.2292 | NRF Acc: 0.3733\n"
     ]
    },
    {
     "name": "stderr",
     "output_type": "stream",
     "text": [
      "Training epochs:  18%|█▊        | 175/1000 [01:42<07:58,  1.73it/s]"
     ]
    },
    {
     "name": "stdout",
     "output_type": "stream",
     "text": [
      "Epoch 175 | GCN MSE Loss: 31.4792 | NRF Loss: 3.0468 | JOINT Loss: 34.5260 | NRF Acc: 0.3726\n"
     ]
    },
    {
     "name": "stderr",
     "output_type": "stream",
     "text": [
      "Training epochs:  18%|█▊        | 176/1000 [01:43<07:46,  1.77it/s]"
     ]
    },
    {
     "name": "stdout",
     "output_type": "stream",
     "text": [
      "Epoch 176 | GCN MSE Loss: 30.7972 | NRF Loss: 3.0452 | JOINT Loss: 33.8423 | NRF Acc: 0.3707\n"
     ]
    },
    {
     "name": "stderr",
     "output_type": "stream",
     "text": [
      "Training epochs:  18%|█▊        | 177/1000 [01:44<07:38,  1.80it/s]"
     ]
    },
    {
     "name": "stdout",
     "output_type": "stream",
     "text": [
      "Epoch 177 | GCN MSE Loss: 30.1345 | NRF Loss: 3.0439 | JOINT Loss: 33.1784 | NRF Acc: 0.3689\n"
     ]
    },
    {
     "name": "stderr",
     "output_type": "stream",
     "text": [
      "Training epochs:  18%|█▊        | 178/1000 [01:44<07:32,  1.82it/s]"
     ]
    },
    {
     "name": "stdout",
     "output_type": "stream",
     "text": [
      "Epoch 178 | GCN MSE Loss: 29.4906 | NRF Loss: 3.0424 | JOINT Loss: 32.5331 | NRF Acc: 0.3670\n"
     ]
    },
    {
     "name": "stderr",
     "output_type": "stream",
     "text": [
      "Training epochs:  18%|█▊        | 179/1000 [01:45<07:27,  1.83it/s]"
     ]
    },
    {
     "name": "stdout",
     "output_type": "stream",
     "text": [
      "Epoch 179 | GCN MSE Loss: 28.8652 | NRF Loss: 3.0409 | JOINT Loss: 31.9061 | NRF Acc: 0.3650\n"
     ]
    },
    {
     "name": "stderr",
     "output_type": "stream",
     "text": [
      "Training epochs:  18%|█▊        | 180/1000 [01:45<07:24,  1.84it/s]"
     ]
    },
    {
     "name": "stdout",
     "output_type": "stream",
     "text": [
      "Epoch 180 | GCN MSE Loss: 28.2578 | NRF Loss: 3.0395 | JOINT Loss: 31.2973 | NRF Acc: 0.3648\n"
     ]
    },
    {
     "name": "stderr",
     "output_type": "stream",
     "text": [
      "Training epochs:  18%|█▊        | 181/1000 [01:46<07:22,  1.85it/s]"
     ]
    },
    {
     "name": "stdout",
     "output_type": "stream",
     "text": [
      "Epoch 181 | GCN MSE Loss: 27.6679 | NRF Loss: 3.0382 | JOINT Loss: 30.7061 | NRF Acc: 0.3657\n"
     ]
    },
    {
     "name": "stderr",
     "output_type": "stream",
     "text": [
      "Training epochs:  18%|█▊        | 182/1000 [01:46<07:21,  1.85it/s]"
     ]
    },
    {
     "name": "stdout",
     "output_type": "stream",
     "text": [
      "Epoch 182 | GCN MSE Loss: 27.0952 | NRF Loss: 3.0366 | JOINT Loss: 30.1318 | NRF Acc: 0.3643\n"
     ]
    },
    {
     "name": "stderr",
     "output_type": "stream",
     "text": [
      "Training epochs:  18%|█▊        | 183/1000 [01:47<07:19,  1.86it/s]"
     ]
    },
    {
     "name": "stdout",
     "output_type": "stream",
     "text": [
      "Epoch 183 | GCN MSE Loss: 26.5392 | NRF Loss: 3.0351 | JOINT Loss: 29.5744 | NRF Acc: 0.3618\n"
     ]
    },
    {
     "name": "stderr",
     "output_type": "stream",
     "text": [
      "Training epochs:  18%|█▊        | 184/1000 [01:47<07:18,  1.86it/s]"
     ]
    },
    {
     "name": "stdout",
     "output_type": "stream",
     "text": [
      "Epoch 184 | GCN MSE Loss: 25.9995 | NRF Loss: 3.0336 | JOINT Loss: 29.0331 | NRF Acc: 0.3603\n"
     ]
    },
    {
     "name": "stderr",
     "output_type": "stream",
     "text": [
      "Training epochs:  18%|█▊        | 185/1000 [01:48<07:17,  1.86it/s]"
     ]
    },
    {
     "name": "stdout",
     "output_type": "stream",
     "text": [
      "Epoch 185 | GCN MSE Loss: 25.4757 | NRF Loss: 3.0321 | JOINT Loss: 28.5078 | NRF Acc: 0.3625\n"
     ]
    },
    {
     "name": "stderr",
     "output_type": "stream",
     "text": [
      "Training epochs:  19%|█▊        | 186/1000 [01:48<07:16,  1.87it/s]"
     ]
    },
    {
     "name": "stdout",
     "output_type": "stream",
     "text": [
      "Epoch 186 | GCN MSE Loss: 24.9674 | NRF Loss: 3.0306 | JOINT Loss: 27.9980 | NRF Acc: 0.3631\n"
     ]
    },
    {
     "name": "stderr",
     "output_type": "stream",
     "text": [
      "Training epochs:  19%|█▊        | 187/1000 [01:49<07:15,  1.87it/s]"
     ]
    },
    {
     "name": "stdout",
     "output_type": "stream",
     "text": [
      "Epoch 187 | GCN MSE Loss: 24.4741 | NRF Loss: 3.0292 | JOINT Loss: 27.5033 | NRF Acc: 0.3617\n"
     ]
    },
    {
     "name": "stderr",
     "output_type": "stream",
     "text": [
      "Training epochs:  19%|█▉        | 188/1000 [01:49<07:15,  1.87it/s]"
     ]
    },
    {
     "name": "stdout",
     "output_type": "stream",
     "text": [
      "Epoch 188 | GCN MSE Loss: 23.9955 | NRF Loss: 3.0277 | JOINT Loss: 27.0232 | NRF Acc: 0.3622\n"
     ]
    },
    {
     "name": "stderr",
     "output_type": "stream",
     "text": [
      "Training epochs:  19%|█▉        | 189/1000 [01:50<07:14,  1.87it/s]"
     ]
    },
    {
     "name": "stdout",
     "output_type": "stream",
     "text": [
      "Epoch 189 | GCN MSE Loss: 23.5312 | NRF Loss: 3.0261 | JOINT Loss: 26.5573 | NRF Acc: 0.3637\n"
     ]
    },
    {
     "name": "stderr",
     "output_type": "stream",
     "text": [
      "Training epochs:  19%|█▉        | 190/1000 [01:50<07:14,  1.87it/s]"
     ]
    },
    {
     "name": "stdout",
     "output_type": "stream",
     "text": [
      "Epoch 190 | GCN MSE Loss: 23.0805 | NRF Loss: 3.0245 | JOINT Loss: 26.1050 | NRF Acc: 0.3637\n"
     ]
    },
    {
     "name": "stderr",
     "output_type": "stream",
     "text": [
      "Training epochs:  19%|█▉        | 191/1000 [01:51<07:13,  1.87it/s]"
     ]
    },
    {
     "name": "stdout",
     "output_type": "stream",
     "text": [
      "Epoch 191 | GCN MSE Loss: 22.6434 | NRF Loss: 3.0228 | JOINT Loss: 25.6662 | NRF Acc: 0.3627\n"
     ]
    },
    {
     "name": "stderr",
     "output_type": "stream",
     "text": [
      "Training epochs:  19%|█▉        | 192/1000 [01:52<07:14,  1.86it/s]"
     ]
    },
    {
     "name": "stdout",
     "output_type": "stream",
     "text": [
      "Epoch 192 | GCN MSE Loss: 22.2194 | NRF Loss: 3.0211 | JOINT Loss: 25.2405 | NRF Acc: 0.3627\n"
     ]
    },
    {
     "name": "stderr",
     "output_type": "stream",
     "text": [
      "Training epochs:  19%|█▉        | 193/1000 [01:52<07:12,  1.86it/s]"
     ]
    },
    {
     "name": "stdout",
     "output_type": "stream",
     "text": [
      "Epoch 193 | GCN MSE Loss: 21.8081 | NRF Loss: 3.0194 | JOINT Loss: 24.8274 | NRF Acc: 0.3627\n"
     ]
    },
    {
     "name": "stderr",
     "output_type": "stream",
     "text": [
      "Training epochs:  19%|█▉        | 194/1000 [01:53<07:12,  1.86it/s]"
     ]
    },
    {
     "name": "stdout",
     "output_type": "stream",
     "text": [
      "Epoch 194 | GCN MSE Loss: 21.4092 | NRF Loss: 3.0177 | JOINT Loss: 24.4269 | NRF Acc: 0.3624\n"
     ]
    },
    {
     "name": "stderr",
     "output_type": "stream",
     "text": [
      "Training epochs:  20%|█▉        | 195/1000 [01:53<07:11,  1.86it/s]"
     ]
    },
    {
     "name": "stdout",
     "output_type": "stream",
     "text": [
      "Epoch 195 | GCN MSE Loss: 21.0224 | NRF Loss: 3.0159 | JOINT Loss: 24.0383 | NRF Acc: 0.3618\n"
     ]
    },
    {
     "name": "stderr",
     "output_type": "stream",
     "text": [
      "Training epochs:  20%|█▉        | 196/1000 [01:54<07:11,  1.86it/s]"
     ]
    },
    {
     "name": "stdout",
     "output_type": "stream",
     "text": [
      "Epoch 196 | GCN MSE Loss: 20.6472 | NRF Loss: 3.0141 | JOINT Loss: 23.6612 | NRF Acc: 0.3624\n"
     ]
    },
    {
     "name": "stderr",
     "output_type": "stream",
     "text": [
      "Training epochs:  20%|█▉        | 197/1000 [01:54<07:10,  1.86it/s]"
     ]
    },
    {
     "name": "stdout",
     "output_type": "stream",
     "text": [
      "Epoch 197 | GCN MSE Loss: 20.2832 | NRF Loss: 3.0128 | JOINT Loss: 23.2961 | NRF Acc: 0.3657\n"
     ]
    },
    {
     "name": "stderr",
     "output_type": "stream",
     "text": [
      "Training epochs:  20%|█▉        | 198/1000 [01:55<07:09,  1.87it/s]"
     ]
    },
    {
     "name": "stdout",
     "output_type": "stream",
     "text": [
      "Epoch 198 | GCN MSE Loss: 19.9303 | NRF Loss: 3.0107 | JOINT Loss: 22.9410 | NRF Acc: 0.3724\n"
     ]
    },
    {
     "name": "stderr",
     "output_type": "stream",
     "text": [
      "Training epochs:  20%|█▉        | 199/1000 [01:55<07:09,  1.87it/s]"
     ]
    },
    {
     "name": "stdout",
     "output_type": "stream",
     "text": [
      "Epoch 199 | GCN MSE Loss: 19.5879 | NRF Loss: 3.0088 | JOINT Loss: 22.5967 | NRF Acc: 0.3823\n"
     ]
    },
    {
     "name": "stderr",
     "output_type": "stream",
     "text": [
      "Training epochs:  20%|██        | 200/1000 [01:56<07:08,  1.87it/s]"
     ]
    },
    {
     "name": "stdout",
     "output_type": "stream",
     "text": [
      "Epoch 200 | GCN MSE Loss: 19.2558 | NRF Loss: 3.0070 | JOINT Loss: 22.2628 | NRF Acc: 0.3889\n"
     ]
    },
    {
     "name": "stderr",
     "output_type": "stream",
     "text": [
      "Training epochs:  20%|██        | 201/1000 [01:56<07:08,  1.86it/s]"
     ]
    },
    {
     "name": "stdout",
     "output_type": "stream",
     "text": [
      "Epoch 201 | GCN MSE Loss: 18.9337 | NRF Loss: 3.0052 | JOINT Loss: 21.9389 | NRF Acc: 0.3921\n"
     ]
    },
    {
     "name": "stderr",
     "output_type": "stream",
     "text": [
      "Training epochs:  20%|██        | 202/1000 [01:57<07:07,  1.87it/s]"
     ]
    },
    {
     "name": "stdout",
     "output_type": "stream",
     "text": [
      "Epoch 202 | GCN MSE Loss: 18.6213 | NRF Loss: 3.0033 | JOINT Loss: 21.6246 | NRF Acc: 0.3937\n"
     ]
    },
    {
     "name": "stderr",
     "output_type": "stream",
     "text": [
      "Training epochs:  20%|██        | 203/1000 [01:57<07:06,  1.87it/s]"
     ]
    },
    {
     "name": "stdout",
     "output_type": "stream",
     "text": [
      "Epoch 203 | GCN MSE Loss: 18.3182 | NRF Loss: 3.0013 | JOINT Loss: 21.3195 | NRF Acc: 0.3958\n"
     ]
    },
    {
     "name": "stderr",
     "output_type": "stream",
     "text": [
      "Training epochs:  20%|██        | 204/1000 [01:58<07:06,  1.87it/s]"
     ]
    },
    {
     "name": "stdout",
     "output_type": "stream",
     "text": [
      "Epoch 204 | GCN MSE Loss: 18.0240 | NRF Loss: 2.9996 | JOINT Loss: 21.0236 | NRF Acc: 0.3966\n"
     ]
    },
    {
     "name": "stderr",
     "output_type": "stream",
     "text": [
      "Training epochs:  20%|██        | 205/1000 [01:59<07:05,  1.87it/s]"
     ]
    },
    {
     "name": "stdout",
     "output_type": "stream",
     "text": [
      "Epoch 205 | GCN MSE Loss: 17.7387 | NRF Loss: 2.9977 | JOINT Loss: 20.7364 | NRF Acc: 0.3999\n"
     ]
    },
    {
     "name": "stderr",
     "output_type": "stream",
     "text": [
      "Training epochs:  21%|██        | 206/1000 [01:59<07:40,  1.72it/s]"
     ]
    },
    {
     "name": "stdout",
     "output_type": "stream",
     "text": [
      "Epoch 206 | GCN MSE Loss: 17.4615 | NRF Loss: 2.9959 | JOINT Loss: 20.4574 | NRF Acc: 0.4063\n"
     ]
    },
    {
     "name": "stderr",
     "output_type": "stream",
     "text": [
      "Training epochs:  21%|██        | 207/1000 [02:00<08:03,  1.64it/s]"
     ]
    },
    {
     "name": "stdout",
     "output_type": "stream",
     "text": [
      "Epoch 207 | GCN MSE Loss: 17.1922 | NRF Loss: 2.9940 | JOINT Loss: 20.1862 | NRF Acc: 0.4101\n"
     ]
    },
    {
     "name": "stderr",
     "output_type": "stream",
     "text": [
      "Training epochs:  21%|██        | 208/1000 [02:00<07:46,  1.70it/s]"
     ]
    },
    {
     "name": "stdout",
     "output_type": "stream",
     "text": [
      "Epoch 208 | GCN MSE Loss: 16.9305 | NRF Loss: 2.9921 | JOINT Loss: 19.9226 | NRF Acc: 0.4058\n"
     ]
    },
    {
     "name": "stderr",
     "output_type": "stream",
     "text": [
      "Training epochs:  21%|██        | 209/1000 [02:01<08:10,  1.61it/s]"
     ]
    },
    {
     "name": "stdout",
     "output_type": "stream",
     "text": [
      "Epoch 209 | GCN MSE Loss: 16.6761 | NRF Loss: 2.9901 | JOINT Loss: 19.6662 | NRF Acc: 0.4126\n"
     ]
    },
    {
     "name": "stderr",
     "output_type": "stream",
     "text": [
      "Training epochs:  21%|██        | 210/1000 [02:02<08:24,  1.57it/s]"
     ]
    },
    {
     "name": "stdout",
     "output_type": "stream",
     "text": [
      "Epoch 210 | GCN MSE Loss: 16.4287 | NRF Loss: 2.9882 | JOINT Loss: 19.4169 | NRF Acc: 0.4183\n"
     ]
    },
    {
     "name": "stderr",
     "output_type": "stream",
     "text": [
      "Training epochs:  21%|██        | 211/1000 [02:02<08:32,  1.54it/s]"
     ]
    },
    {
     "name": "stdout",
     "output_type": "stream",
     "text": [
      "Epoch 211 | GCN MSE Loss: 16.1877 | NRF Loss: 2.9863 | JOINT Loss: 19.1740 | NRF Acc: 0.4262\n"
     ]
    },
    {
     "name": "stderr",
     "output_type": "stream",
     "text": [
      "Training epochs:  21%|██        | 212/1000 [02:03<08:39,  1.52it/s]"
     ]
    },
    {
     "name": "stdout",
     "output_type": "stream",
     "text": [
      "Epoch 212 | GCN MSE Loss: 15.9530 | NRF Loss: 2.9844 | JOINT Loss: 18.9374 | NRF Acc: 0.4309\n"
     ]
    },
    {
     "name": "stderr",
     "output_type": "stream",
     "text": [
      "Training epochs:  21%|██▏       | 213/1000 [02:04<08:40,  1.51it/s]"
     ]
    },
    {
     "name": "stdout",
     "output_type": "stream",
     "text": [
      "Epoch 213 | GCN MSE Loss: 15.7244 | NRF Loss: 2.9824 | JOINT Loss: 18.7068 | NRF Acc: 0.4377\n"
     ]
    },
    {
     "name": "stderr",
     "output_type": "stream",
     "text": [
      "Training epochs:  21%|██▏       | 214/1000 [02:05<08:46,  1.49it/s]"
     ]
    },
    {
     "name": "stdout",
     "output_type": "stream",
     "text": [
      "Epoch 214 | GCN MSE Loss: 15.5016 | NRF Loss: 2.9805 | JOINT Loss: 18.4822 | NRF Acc: 0.4398\n"
     ]
    },
    {
     "name": "stderr",
     "output_type": "stream",
     "text": [
      "Training epochs:  22%|██▏       | 215/1000 [02:05<08:14,  1.59it/s]"
     ]
    },
    {
     "name": "stdout",
     "output_type": "stream",
     "text": [
      "Epoch 215 | GCN MSE Loss: 15.2847 | NRF Loss: 2.9784 | JOINT Loss: 18.2631 | NRF Acc: 0.4382\n"
     ]
    },
    {
     "name": "stderr",
     "output_type": "stream",
     "text": [
      "Training epochs:  22%|██▏       | 216/1000 [02:06<07:52,  1.66it/s]"
     ]
    },
    {
     "name": "stdout",
     "output_type": "stream",
     "text": [
      "Epoch 216 | GCN MSE Loss: 15.0732 | NRF Loss: 2.9764 | JOINT Loss: 18.0497 | NRF Acc: 0.4373\n"
     ]
    },
    {
     "name": "stderr",
     "output_type": "stream",
     "text": [
      "Training epochs:  22%|██▏       | 217/1000 [02:06<08:11,  1.59it/s]"
     ]
    },
    {
     "name": "stdout",
     "output_type": "stream",
     "text": [
      "Epoch 217 | GCN MSE Loss: 14.8671 | NRF Loss: 2.9743 | JOINT Loss: 17.8414 | NRF Acc: 0.4403\n"
     ]
    },
    {
     "name": "stderr",
     "output_type": "stream",
     "text": [
      "Training epochs:  22%|██▏       | 218/1000 [02:07<08:25,  1.55it/s]"
     ]
    },
    {
     "name": "stdout",
     "output_type": "stream",
     "text": [
      "Epoch 218 | GCN MSE Loss: 14.6663 | NRF Loss: 2.9725 | JOINT Loss: 17.6388 | NRF Acc: 0.4422\n"
     ]
    },
    {
     "name": "stderr",
     "output_type": "stream",
     "text": [
      "Training epochs:  22%|██▏       | 219/1000 [02:08<08:33,  1.52it/s]"
     ]
    },
    {
     "name": "stdout",
     "output_type": "stream",
     "text": [
      "Epoch 219 | GCN MSE Loss: 14.4706 | NRF Loss: 2.9707 | JOINT Loss: 17.4413 | NRF Acc: 0.4432\n"
     ]
    },
    {
     "name": "stderr",
     "output_type": "stream",
     "text": [
      "Training epochs:  22%|██▏       | 220/1000 [02:08<08:40,  1.50it/s]"
     ]
    },
    {
     "name": "stdout",
     "output_type": "stream",
     "text": [
      "Epoch 220 | GCN MSE Loss: 14.2798 | NRF Loss: 2.9685 | JOINT Loss: 17.2483 | NRF Acc: 0.4451\n"
     ]
    },
    {
     "name": "stderr",
     "output_type": "stream",
     "text": [
      "Training epochs:  22%|██▏       | 221/1000 [02:09<08:09,  1.59it/s]"
     ]
    },
    {
     "name": "stdout",
     "output_type": "stream",
     "text": [
      "Epoch 221 | GCN MSE Loss: 14.0935 | NRF Loss: 2.9666 | JOINT Loss: 17.0601 | NRF Acc: 0.4434\n"
     ]
    },
    {
     "name": "stderr",
     "output_type": "stream",
     "text": [
      "Training epochs:  22%|██▏       | 222/1000 [02:09<07:47,  1.67it/s]"
     ]
    },
    {
     "name": "stdout",
     "output_type": "stream",
     "text": [
      "Epoch 222 | GCN MSE Loss: 13.9119 | NRF Loss: 2.9647 | JOINT Loss: 16.8766 | NRF Acc: 0.4423\n"
     ]
    },
    {
     "name": "stderr",
     "output_type": "stream",
     "text": [
      "Training epochs:  22%|██▏       | 223/1000 [02:10<07:30,  1.72it/s]"
     ]
    },
    {
     "name": "stdout",
     "output_type": "stream",
     "text": [
      "Epoch 223 | GCN MSE Loss: 13.7348 | NRF Loss: 2.9627 | JOINT Loss: 16.6976 | NRF Acc: 0.4418\n"
     ]
    },
    {
     "name": "stderr",
     "output_type": "stream",
     "text": [
      "Training epochs:  22%|██▏       | 224/1000 [02:10<07:20,  1.76it/s]"
     ]
    },
    {
     "name": "stdout",
     "output_type": "stream",
     "text": [
      "Epoch 224 | GCN MSE Loss: 13.5622 | NRF Loss: 2.9609 | JOINT Loss: 16.5231 | NRF Acc: 0.4411\n"
     ]
    },
    {
     "name": "stderr",
     "output_type": "stream",
     "text": [
      "Training epochs:  22%|██▎       | 225/1000 [02:11<07:12,  1.79it/s]"
     ]
    },
    {
     "name": "stdout",
     "output_type": "stream",
     "text": [
      "Epoch 225 | GCN MSE Loss: 13.3939 | NRF Loss: 2.9588 | JOINT Loss: 16.3527 | NRF Acc: 0.4418\n"
     ]
    },
    {
     "name": "stderr",
     "output_type": "stream",
     "text": [
      "Training epochs:  23%|██▎       | 226/1000 [02:12<07:42,  1.67it/s]"
     ]
    },
    {
     "name": "stdout",
     "output_type": "stream",
     "text": [
      "Epoch 226 | GCN MSE Loss: 13.2297 | NRF Loss: 2.9568 | JOINT Loss: 16.1866 | NRF Acc: 0.4453\n"
     ]
    },
    {
     "name": "stderr",
     "output_type": "stream",
     "text": [
      "Training epochs:  23%|██▎       | 227/1000 [02:12<08:01,  1.61it/s]"
     ]
    },
    {
     "name": "stdout",
     "output_type": "stream",
     "text": [
      "Epoch 227 | GCN MSE Loss: 13.0697 | NRF Loss: 2.9549 | JOINT Loss: 16.0246 | NRF Acc: 0.4465\n"
     ]
    },
    {
     "name": "stderr",
     "output_type": "stream",
     "text": [
      "Training epochs:  23%|██▎       | 228/1000 [02:13<07:40,  1.68it/s]"
     ]
    },
    {
     "name": "stdout",
     "output_type": "stream",
     "text": [
      "Epoch 228 | GCN MSE Loss: 12.9132 | NRF Loss: 2.9529 | JOINT Loss: 15.8662 | NRF Acc: 0.4462\n"
     ]
    },
    {
     "name": "stderr",
     "output_type": "stream",
     "text": [
      "Training epochs:  23%|██▎       | 229/1000 [02:13<07:26,  1.73it/s]"
     ]
    },
    {
     "name": "stdout",
     "output_type": "stream",
     "text": [
      "Epoch 229 | GCN MSE Loss: 12.7606 | NRF Loss: 2.9509 | JOINT Loss: 15.7114 | NRF Acc: 0.4465\n"
     ]
    },
    {
     "name": "stderr",
     "output_type": "stream",
     "text": [
      "Training epochs:  23%|██▎       | 230/1000 [02:14<07:52,  1.63it/s]"
     ]
    },
    {
     "name": "stdout",
     "output_type": "stream",
     "text": [
      "Epoch 230 | GCN MSE Loss: 12.6116 | NRF Loss: 2.9488 | JOINT Loss: 15.5605 | NRF Acc: 0.4481\n"
     ]
    },
    {
     "name": "stderr",
     "output_type": "stream",
     "text": [
      "Training epochs:  23%|██▎       | 231/1000 [02:15<08:08,  1.57it/s]"
     ]
    },
    {
     "name": "stdout",
     "output_type": "stream",
     "text": [
      "Epoch 231 | GCN MSE Loss: 12.4664 | NRF Loss: 2.9468 | JOINT Loss: 15.4132 | NRF Acc: 0.4510\n"
     ]
    },
    {
     "name": "stderr",
     "output_type": "stream",
     "text": [
      "Training epochs:  23%|██▎       | 232/1000 [02:16<08:17,  1.54it/s]"
     ]
    },
    {
     "name": "stdout",
     "output_type": "stream",
     "text": [
      "Epoch 232 | GCN MSE Loss: 12.3247 | NRF Loss: 2.9447 | JOINT Loss: 15.2694 | NRF Acc: 0.4527\n"
     ]
    },
    {
     "name": "stderr",
     "output_type": "stream",
     "text": [
      "Training epochs:  23%|██▎       | 233/1000 [02:16<08:23,  1.52it/s]"
     ]
    },
    {
     "name": "stdout",
     "output_type": "stream",
     "text": [
      "Epoch 233 | GCN MSE Loss: 12.1864 | NRF Loss: 2.9431 | JOINT Loss: 15.1295 | NRF Acc: 0.4557\n"
     ]
    },
    {
     "name": "stderr",
     "output_type": "stream",
     "text": [
      "Training epochs:  23%|██▎       | 234/1000 [02:17<08:26,  1.51it/s]"
     ]
    },
    {
     "name": "stdout",
     "output_type": "stream",
     "text": [
      "Epoch 234 | GCN MSE Loss: 12.0510 | NRF Loss: 2.9408 | JOINT Loss: 14.9919 | NRF Acc: 0.4565\n"
     ]
    },
    {
     "name": "stderr",
     "output_type": "stream",
     "text": [
      "Training epochs:  24%|██▎       | 235/1000 [02:18<08:31,  1.50it/s]"
     ]
    },
    {
     "name": "stdout",
     "output_type": "stream",
     "text": [
      "Epoch 235 | GCN MSE Loss: 11.9183 | NRF Loss: 2.9389 | JOINT Loss: 14.8572 | NRF Acc: 0.4610\n"
     ]
    },
    {
     "name": "stderr",
     "output_type": "stream",
     "text": [
      "Training epochs:  24%|██▎       | 236/1000 [02:18<08:36,  1.48it/s]"
     ]
    },
    {
     "name": "stdout",
     "output_type": "stream",
     "text": [
      "Epoch 236 | GCN MSE Loss: 11.7886 | NRF Loss: 2.9369 | JOINT Loss: 14.7255 | NRF Acc: 0.4619\n"
     ]
    },
    {
     "name": "stderr",
     "output_type": "stream",
     "text": [
      "Training epochs:  24%|██▎       | 237/1000 [02:19<08:47,  1.45it/s]"
     ]
    },
    {
     "name": "stdout",
     "output_type": "stream",
     "text": [
      "Epoch 237 | GCN MSE Loss: 11.6618 | NRF Loss: 2.9350 | JOINT Loss: 14.5968 | NRF Acc: 0.4671\n"
     ]
    },
    {
     "name": "stderr",
     "output_type": "stream",
     "text": [
      "Training epochs:  24%|██▍       | 238/1000 [02:20<08:48,  1.44it/s]"
     ]
    },
    {
     "name": "stdout",
     "output_type": "stream",
     "text": [
      "Epoch 238 | GCN MSE Loss: 11.5381 | NRF Loss: 2.9330 | JOINT Loss: 14.4711 | NRF Acc: 0.4714\n"
     ]
    },
    {
     "name": "stderr",
     "output_type": "stream",
     "text": [
      "Training epochs:  24%|██▍       | 239/1000 [02:20<08:45,  1.45it/s]"
     ]
    },
    {
     "name": "stdout",
     "output_type": "stream",
     "text": [
      "Epoch 239 | GCN MSE Loss: 11.4173 | NRF Loss: 2.9310 | JOINT Loss: 14.3483 | NRF Acc: 0.4732\n"
     ]
    },
    {
     "name": "stderr",
     "output_type": "stream",
     "text": [
      "Training epochs:  24%|██▍       | 240/1000 [02:21<08:44,  1.45it/s]"
     ]
    },
    {
     "name": "stdout",
     "output_type": "stream",
     "text": [
      "Epoch 240 | GCN MSE Loss: 11.2995 | NRF Loss: 2.9291 | JOINT Loss: 14.2287 | NRF Acc: 0.4770\n"
     ]
    },
    {
     "name": "stderr",
     "output_type": "stream",
     "text": [
      "Training epochs:  24%|██▍       | 241/1000 [02:22<08:42,  1.45it/s]"
     ]
    },
    {
     "name": "stdout",
     "output_type": "stream",
     "text": [
      "Epoch 241 | GCN MSE Loss: 11.1847 | NRF Loss: 2.9272 | JOINT Loss: 14.1119 | NRF Acc: 0.4785\n"
     ]
    },
    {
     "name": "stderr",
     "output_type": "stream",
     "text": [
      "Training epochs:  24%|██▍       | 242/1000 [02:22<08:35,  1.47it/s]"
     ]
    },
    {
     "name": "stdout",
     "output_type": "stream",
     "text": [
      "Epoch 242 | GCN MSE Loss: 11.0726 | NRF Loss: 2.9253 | JOINT Loss: 13.9979 | NRF Acc: 0.4804\n"
     ]
    },
    {
     "name": "stderr",
     "output_type": "stream",
     "text": [
      "Training epochs:  24%|██▍       | 243/1000 [02:23<08:34,  1.47it/s]"
     ]
    },
    {
     "name": "stdout",
     "output_type": "stream",
     "text": [
      "Epoch 243 | GCN MSE Loss: 10.9633 | NRF Loss: 2.9234 | JOINT Loss: 13.8867 | NRF Acc: 0.4829\n"
     ]
    },
    {
     "name": "stderr",
     "output_type": "stream",
     "text": [
      "Training epochs:  24%|██▍       | 244/1000 [02:24<08:35,  1.47it/s]"
     ]
    },
    {
     "name": "stdout",
     "output_type": "stream",
     "text": [
      "Epoch 244 | GCN MSE Loss: 10.8567 | NRF Loss: 2.9214 | JOINT Loss: 13.7782 | NRF Acc: 0.4877\n"
     ]
    },
    {
     "name": "stderr",
     "output_type": "stream",
     "text": [
      "Training epochs:  24%|██▍       | 245/1000 [02:24<08:37,  1.46it/s]"
     ]
    },
    {
     "name": "stdout",
     "output_type": "stream",
     "text": [
      "Epoch 245 | GCN MSE Loss: 10.7528 | NRF Loss: 2.9194 | JOINT Loss: 13.6722 | NRF Acc: 0.4926\n"
     ]
    },
    {
     "name": "stderr",
     "output_type": "stream",
     "text": [
      "Training epochs:  25%|██▍       | 246/1000 [02:25<08:34,  1.47it/s]"
     ]
    },
    {
     "name": "stdout",
     "output_type": "stream",
     "text": [
      "Epoch 246 | GCN MSE Loss: 10.6513 | NRF Loss: 2.9175 | JOINT Loss: 13.5688 | NRF Acc: 0.4971\n"
     ]
    },
    {
     "name": "stderr",
     "output_type": "stream",
     "text": [
      "Training epochs:  25%|██▍       | 247/1000 [02:26<08:29,  1.48it/s]"
     ]
    },
    {
     "name": "stdout",
     "output_type": "stream",
     "text": [
      "Epoch 247 | GCN MSE Loss: 10.5524 | NRF Loss: 2.9157 | JOINT Loss: 13.4680 | NRF Acc: 0.5029\n"
     ]
    },
    {
     "name": "stderr",
     "output_type": "stream",
     "text": [
      "Training epochs:  25%|██▍       | 248/1000 [02:26<08:32,  1.47it/s]"
     ]
    },
    {
     "name": "stdout",
     "output_type": "stream",
     "text": [
      "Epoch 248 | GCN MSE Loss: 10.4558 | NRF Loss: 2.9137 | JOINT Loss: 13.3695 | NRF Acc: 0.5062\n"
     ]
    },
    {
     "name": "stderr",
     "output_type": "stream",
     "text": [
      "Training epochs:  25%|██▍       | 249/1000 [02:27<08:33,  1.46it/s]"
     ]
    },
    {
     "name": "stdout",
     "output_type": "stream",
     "text": [
      "Epoch 249 | GCN MSE Loss: 10.3615 | NRF Loss: 2.9118 | JOINT Loss: 13.2733 | NRF Acc: 0.5111\n"
     ]
    },
    {
     "name": "stderr",
     "output_type": "stream",
     "text": [
      "Training epochs:  25%|██▌       | 250/1000 [02:28<08:35,  1.45it/s]"
     ]
    },
    {
     "name": "stdout",
     "output_type": "stream",
     "text": [
      "Epoch 250 | GCN MSE Loss: 10.2696 | NRF Loss: 2.9099 | JOINT Loss: 13.1795 | NRF Acc: 0.5173\n"
     ]
    },
    {
     "name": "stderr",
     "output_type": "stream",
     "text": [
      "Training epochs:  25%|██▌       | 251/1000 [02:29<08:35,  1.45it/s]"
     ]
    },
    {
     "name": "stdout",
     "output_type": "stream",
     "text": [
      "Epoch 251 | GCN MSE Loss: 10.1798 | NRF Loss: 2.9080 | JOINT Loss: 13.0878 | NRF Acc: 0.5211\n"
     ]
    },
    {
     "name": "stderr",
     "output_type": "stream",
     "text": [
      "Training epochs:  25%|██▌       | 252/1000 [02:29<08:32,  1.46it/s]"
     ]
    },
    {
     "name": "stdout",
     "output_type": "stream",
     "text": [
      "Epoch 252 | GCN MSE Loss: 10.0921 | NRF Loss: 2.9061 | JOINT Loss: 12.9982 | NRF Acc: 0.5265\n"
     ]
    },
    {
     "name": "stderr",
     "output_type": "stream",
     "text": [
      "Training epochs:  25%|██▌       | 253/1000 [02:30<08:32,  1.46it/s]"
     ]
    },
    {
     "name": "stdout",
     "output_type": "stream",
     "text": [
      "Epoch 253 | GCN MSE Loss: 10.0065 | NRF Loss: 2.9042 | JOINT Loss: 12.9107 | NRF Acc: 0.5305\n"
     ]
    },
    {
     "name": "stderr",
     "output_type": "stream",
     "text": [
      "Training epochs:  25%|██▌       | 254/1000 [02:31<08:31,  1.46it/s]"
     ]
    },
    {
     "name": "stdout",
     "output_type": "stream",
     "text": [
      "Epoch 254 | GCN MSE Loss: 9.9229 | NRF Loss: 2.9022 | JOINT Loss: 12.8251 | NRF Acc: 0.5396\n"
     ]
    },
    {
     "name": "stderr",
     "output_type": "stream",
     "text": [
      "Training epochs:  26%|██▌       | 255/1000 [02:31<08:31,  1.46it/s]"
     ]
    },
    {
     "name": "stdout",
     "output_type": "stream",
     "text": [
      "Epoch 255 | GCN MSE Loss: 9.8412 | NRF Loss: 2.9004 | JOINT Loss: 12.7416 | NRF Acc: 0.5429\n"
     ]
    },
    {
     "name": "stderr",
     "output_type": "stream",
     "text": [
      "Training epochs:  26%|██▌       | 256/1000 [02:32<08:32,  1.45it/s]"
     ]
    },
    {
     "name": "stdout",
     "output_type": "stream",
     "text": [
      "Epoch 256 | GCN MSE Loss: 9.7612 | NRF Loss: 2.8985 | JOINT Loss: 12.6597 | NRF Acc: 0.5467\n"
     ]
    },
    {
     "name": "stderr",
     "output_type": "stream",
     "text": [
      "Training epochs:  26%|██▌       | 257/1000 [02:33<08:31,  1.45it/s]"
     ]
    },
    {
     "name": "stdout",
     "output_type": "stream",
     "text": [
      "Epoch 257 | GCN MSE Loss: 9.6831 | NRF Loss: 2.8965 | JOINT Loss: 12.5796 | NRF Acc: 0.5514\n"
     ]
    },
    {
     "name": "stderr",
     "output_type": "stream",
     "text": [
      "Training epochs:  26%|██▌       | 258/1000 [02:33<08:31,  1.45it/s]"
     ]
    },
    {
     "name": "stdout",
     "output_type": "stream",
     "text": [
      "Epoch 258 | GCN MSE Loss: 9.6067 | NRF Loss: 2.8946 | JOINT Loss: 12.5013 | NRF Acc: 0.5540\n"
     ]
    }
   ],
   "source": [
    "label_index = {g: i for i, g in enumerate(sorted(df['gname'].unique()))}\n",
    "continuous_cols = ['weaptype1', 'nkill', 'targtype1', 'attacktype1']\n",
    "y_preds = []\n",
    "y_trues = []\n",
    "logs = []\n",
    "\n",
    "# Default config (from previous best)\n",
    "default_args = {\n",
    "    'partition': f\"gtd{partition}\",\n",
    "    'embed_dim': 16,\n",
    "    'lr': 0.001,\n",
    "    'epochs': 1000,\n",
    "    'feat_dropout': 0,\n",
    "    'n_tree': 80,\n",
    "    'tree_depth': 10,\n",
    "    'tree_feature_rate': 0.5,\n",
    "    'n_class': len(label_index)\n",
    "}\n",
    "\n",
    "for col in continuous_cols:\n",
    "    print(f\"\\nTraining model for {col} prediction...\")\n",
    "\n",
    "    data, y_gcn, y_nrf, non_geo_features, train_mask, test_mask, row_to_node_index, index_to_label = build_graph_data(\n",
    "        combined_geo, label_index, continuous_col=col)\n",
    "\n",
    "    # Train using default parameters\n",
    "    best_acc, best_epoch, best_precision, best_recall, best_f1, y_pred_decoded, y_true_decoded, \\\n",
    "    best_precision_micro, best_recall_micro, best_f1_micro, best_precision_macro, best_recall_macro, best_f1_macro, \\\n",
    "    roc_auc_weighted, roc_auc_micro, roc_auc_macro, epoch_logs = train_joint(\n",
    "        data, data.edge_index, y_gcn, y_nrf, non_geo_features, train_mask, test_mask,\n",
    "        default_args, row_to_node_index, index_to_label, verbose=True)\n",
    "\n",
    "    y_preds.append(y_pred_decoded)\n",
    "    y_trues.append(y_true_decoded)\n",
    "    logs.append(epoch_logs)\n",
    "\n",
    "    # Save performance metrics\n",
    "    results_path = f\"Results{partition}/Results_{col}_prediction\"\n",
    "    with open(results_path, \"w\") as f:\n",
    "        f.write(f\"Best acc: {best_acc:.4f} at epoch {best_epoch} for {col} prediction\\n\")\n",
    "        f.write(f\"Weighted Precision: {best_precision:.4f}, Recall: {best_recall:.4f}, F1: {best_f1:.4f}\\n\")\n",
    "        f.write(f\"Macro Precision: {best_precision_macro:.4f}, Recall: {best_recall_macro:.4f}, F1: {best_f1_macro:.4f}\\n\")\n",
    "        f.write(f\"Micro Precision: {best_precision_micro:.4f}, Recall: {best_recall_micro:.4f}, F1: {best_f1_micro:.4f}\\n\")\n",
    "        f.write(f\"AUROC Weighted: {roc_auc_weighted:.4f}, Micro: {roc_auc_micro:.4f}, Macro: {roc_auc_macro:.4f}\\n\")\n",
    "\n",
    "    # Save epoch timings\n",
    "    log_path = f\"Results{partition}/epoch_logs_{col}_prediction\"\n",
    "    with open(log_path, \"w\") as f:\n",
    "        f.write('\\n'.join(f\"{x:.4f}\" for x in epoch_logs))\n"
   ]
  },
  {
   "cell_type": "code",
   "execution_count": null,
   "id": "38f65c8b",
   "metadata": {},
   "outputs": [],
   "source": [
    "from sklearn.metrics import classification_report\n",
    "\n",
    "print(classification_report(y_pred_decoded, y_true_decoded))"
   ]
  },
  {
   "cell_type": "code",
   "execution_count": null,
   "id": "a5e99383",
   "metadata": {},
   "outputs": [],
   "source": [
    "def plot_confusion_matrix(y_true, y_pred, labels, continuous_col):\n",
    "    from sklearn.metrics import confusion_matrix\n",
    "    import matplotlib.pyplot as plt\n",
    "    import seaborn as sns\n",
    "    import numpy as np\n",
    "\n",
    "    cm = confusion_matrix(y_true, y_pred, labels=labels)\n",
    "    cm_normalized = cm.astype('float') / cm.sum(axis=1, keepdims=True)\n",
    "\n",
    "    plt.figure(figsize=(18, 16))\n",
    "    sns.heatmap(cm_normalized,\n",
    "                annot=True,\n",
    "                fmt=\".2f\",\n",
    "                xticklabels=labels,\n",
    "                yticklabels=labels,\n",
    "                cmap=\"viridis\",\n",
    "                square=True,\n",
    "                linewidths=0.5,\n",
    "                cbar_kws={\"shrink\": 0.8})\n",
    "\n",
    "    plt.title(f\"Normalized Confusion Matrix\", fontsize=18)\n",
    "    plt.xlabel(\"Predicted Label\", fontsize=14)\n",
    "    plt.ylabel(\"True Label\", fontsize=14)\n",
    "    plt.xticks(rotation=90)\n",
    "    plt.yticks(rotation=0)\n",
    "    plt.tight_layout()\n",
    "\n",
    "    # Save the figure\n",
    "    save_path = f\"Results{partition}/cm_{partition}_{continuous_col}.png\"\n",
    "    plt.savefig(save_path, dpi=300)\n",
    "    plt.close()\n",
    "\n",
    "    print(f\"Saved confusion matrix for partition {partition} to {save_path}\")\n"
   ]
  },
  {
   "cell_type": "code",
   "execution_count": null,
   "id": "177bd1ec",
   "metadata": {},
   "outputs": [],
   "source": [
    "for i in range(len(continuous_cols)):\n",
    "    plot_confusion_matrix(y_preds[i], y_trues[i], sorted(df['gname'].unique()), continuous_cols[i])"
   ]
  }
 ],
 "metadata": {
  "kernelspec": {
   "display_name": "Python 3",
   "language": "python",
   "name": "python3"
  },
  "language_info": {
   "codemirror_mode": {
    "name": "ipython",
    "version": 3
   },
   "file_extension": ".py",
   "mimetype": "text/x-python",
   "name": "python",
   "nbconvert_exporter": "python",
   "pygments_lexer": "ipython3",
   "version": "3.11.9"
  }
 },
 "nbformat": 4,
 "nbformat_minor": 5
}
