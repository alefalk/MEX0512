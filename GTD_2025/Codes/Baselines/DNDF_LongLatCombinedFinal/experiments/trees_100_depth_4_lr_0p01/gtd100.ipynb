{
 "cells": [
  {
   "cell_type": "code",
   "execution_count": null,
   "id": "35625268",
   "metadata": {},
   "outputs": [],
   "source": [
    "partition = 100"
   ]
  },
  {
   "cell_type": "code",
   "execution_count": null,
   "id": "269d522e",
   "metadata": {},
   "outputs": [],
   "source": [
    "import sys\n",
    "from itertools import product"
   ]
  },
  {
   "cell_type": "code",
   "execution_count": null,
   "id": "30784f76",
   "metadata": {},
   "outputs": [],
   "source": [
    "import os\n",
    "sys.path.append(os.path.abspath(os.path.join(os.getcwd(), \"../..\")))\n",
    "from train import main"
   ]
  },
  {
   "cell_type": "code",
   "execution_count": null,
   "id": "f59651ca",
   "metadata": {},
   "outputs": [],
   "source": [
    "experiment_dir = os.getcwd()\n",
    "os.chdir(os.path.abspath(os.path.join(os.getcwd(), \"../..\")))"
   ]
  },
  {
   "cell_type": "code",
   "execution_count": null,
   "id": "ccbb564b",
   "metadata": {},
   "outputs": [],
   "source": [
    "n_tree_values = [100]\n",
    "tree_depth_values = [4]\n",
    "hidden_dim = [1024, 768]\n",
    "batch_size_values = [256, 512]\n",
    "tree_feature_rates = [0.1, 0.2]\n",
    "feat_dropouts = [0.0, 0.1, 0.2]\n",
    "lrs = [0.01]\n"
   ]
  },
  {
   "cell_type": "code",
   "execution_count": null,
   "id": "65b94b14",
   "metadata": {},
   "outputs": [],
   "source": [
    "best_score = 0\n",
    "best_config = {}\n",
    "\n",
    "for n_tree, t_depth, hd, batch_size, tfr, do, lr in product(n_tree_values, tree_depth_values, hidden_dim, batch_size_values, tree_feature_rates, feat_dropouts, lrs):\n",
    "    print(f\"Running: n_tree={n_tree}, t_depth={t_depth}, hd={hd}, batch_size={batch_size} tree_feature_rates={tfr}, feat_dropouts={do}, hd={hd}, lrs={lr}\")\n",
    "    results_dir = os.path.join(experiment_dir, \"results\")\n",
    "    os.makedirs(results_dir, exist_ok=True)\n",
    "\n",
    "    sys.argv = [\n",
    "        'train.py',\n",
    "        '-dataset', f'gtd{partition}',\n",
    "        '-n_class', '30',\n",
    "        '-gpuid', '0',\n",
    "        '-n_tree', str(n_tree),\n",
    "        '-tree_depth', str(t_depth),\n",
    "        '-batch_size', str(batch_size),\n",
    "        '-hidden_dim', str(hd),\n",
    "        '-epochs', '300',\n",
    "        '-verbose', '0',\n",
    "        '-tree_feature_rate', str(tfr),\n",
    "        '-feat_dropout', str(do),\n",
    "        '-lr', str(lr),\n",
    "        '-jointly_training',\n",
    "        '-searching', '1',\n",
    "        '-results_dir', results_dir\n",
    "    ]\n",
    "\n",
    "    complete = main()\n",
    "    print(complete)\n",
    "\n",
    "    \n",
    "    result_file = os.path.join(results_dir, f\"result_gtd{partition}.txt\")\n",
    "    try:\n",
    "        with open(result_file, \"r\") as f:\n",
    "            lines = f.readlines()\n",
    "            for line in lines:\n",
    "                if \"Best Accuracy\" in line:\n",
    "                    acc = float(line.split()[2])\n",
    "                    if acc > best_score:\n",
    "                        best_score = acc\n",
    "                        best_config = {\n",
    "                            'n_tree': n_tree,\n",
    "                            'tree_depth': t_depth,\n",
    "                            'batch_size': batch_size,\n",
    "                            'hidden_dim': hd,\n",
    "                            'tree_feature_rate': tfr,\n",
    "                            'feat_dropout': do,\n",
    "                            'lr': lr\n",
    "                        }\n",
    "    except FileNotFoundError:\n",
    "        print(f\"ERROR: Result file not found: {result_file}\")\n",
    "print(\"Best hyperparameter configuration:\")\n",
    "print(best_config)\n",
    "print(f\"Best accuracy: {best_score}\")\n",
    "\n",
    "try:\n",
    "    with open(result_file, \"a\") as f:\n",
    "        for k, v in best_config.items():\n",
    "            f.write(f\"{k}: {v}, \")\n",
    "except Exception as e:\n",
    "    print(f\"ERROR: Failed to write best_config to result file: {e}\")\n"
   ]
  }
 ],
 "metadata": {},
 "nbformat": 4,
 "nbformat_minor": 5
}
