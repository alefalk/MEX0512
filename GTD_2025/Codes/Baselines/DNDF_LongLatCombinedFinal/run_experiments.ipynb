{
 "cells": [
  {
   "cell_type": "code",
   "execution_count": 2,
   "metadata": {},
   "outputs": [
    {
     "name": "stdout",
     "output_type": "stream",
     "text": [
      "📘 Running notebooks from line 0 to 1 (total: 2)\n"
     ]
    },
    {
     "name": "stderr",
     "output_type": "stream",
     "text": [
      "[NbConvertApp] Converting notebook experiments/gtd100_trees_5_depth_8_lr_0p0001/gtd100.ipynb to notebook\n",
      "[NbConvertApp] Converting notebook experiments/gtd100_trees_5_depth_8_lr_0p001/gtd100.ipynb to notebook\n"
     ]
    },
    {
     "name": "stdout",
     "output_type": "stream",
     "text": [
      "✅ Finished: experiments/gtd100_trees_5_depth_8_lr_0p001/gtd100.ipynb\n"
     ]
    },
    {
     "name": "stderr",
     "output_type": "stream",
     "text": [
      "[NbConvertApp] Writing 60648 bytes to experiments/gtd100_trees_5_depth_8_lr_0p001/gtd100.ipynb\n",
      "[NbConvertApp] Writing 60655 bytes to experiments/gtd100_trees_5_depth_8_lr_0p0001/gtd100.ipynb\n"
     ]
    },
    {
     "name": "stdout",
     "output_type": "stream",
     "text": [
      "✅ Finished: experiments/gtd100_trees_5_depth_8_lr_0p0001/gtd100.ipynb\n"
     ]
    }
   ],
   "source": [
    "import subprocess\n",
    "import os\n",
    "from multiprocessing import Pool\n",
    "\n",
    "# ===== CONFIGURATION =====\n",
    "START_LINE = 0   # inclusive, 0-based index\n",
    "END_LINE = 2    # exclusive — line index to stop at\n",
    "PROCESSES = 2    # number of parallel notebook runs\n",
    "# =========================\n",
    "\n",
    "# Read notebook paths from file\n",
    "with open(\"notebooks.txt\", \"r\") as f:\n",
    "    all_notebooks = [line.strip() for line in f if line.strip()]\n",
    "    notebooks = all_notebooks[START_LINE:END_LINE]\n",
    "\n",
    "print(f\"📘 Running notebooks from line {START_LINE} to {END_LINE - 1} (total: {len(notebooks)})\")\n",
    "\n",
    "def run_notebook(path):\n",
    "    try:\n",
    "        subprocess.run([\n",
    "            \"jupyter\", \"nbconvert\",\n",
    "            \"--to\", \"notebook\",\n",
    "            \"--execute\", path,\n",
    "            \"--inplace\"\n",
    "        ], check=True)\n",
    "        print(f\"✅ Finished: {path}\")\n",
    "    except subprocess.CalledProcessError:\n",
    "        print(f\"❌ Failed: {path}\")\n",
    "\n",
    "# Run in parallel\n",
    "if __name__ == \"__main__\":\n",
    "    with Pool(processes=PROCESSES) as pool:\n",
    "        pool.map(run_notebook, notebooks)\n"
   ]
  }
 ],
 "metadata": {
  "kernelspec": {
   "display_name": "base",
   "language": "python",
   "name": "python3"
  },
  "language_info": {
   "codemirror_mode": {
    "name": "ipython",
    "version": 3
   },
   "file_extension": ".py",
   "mimetype": "text/x-python",
   "name": "python",
   "nbconvert_exporter": "python",
   "pygments_lexer": "ipython3",
   "version": "3.11.9"
  }
 },
 "nbformat": 4,
 "nbformat_minor": 2
}
