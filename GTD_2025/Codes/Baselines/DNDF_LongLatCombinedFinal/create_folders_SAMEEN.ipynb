{
 "cells": [
  {
   "cell_type": "code",
   "execution_count": 1,
   "metadata": {},
   "outputs": [],
   "source": [
    "partition = 100"
   ]
  },
  {
   "cell_type": "code",
   "execution_count": 2,
   "metadata": {},
   "outputs": [],
   "source": [
    "import sys\n",
    "import os"
   ]
  },
  {
   "cell_type": "code",
   "execution_count": 3,
   "metadata": {},
   "outputs": [
    {
     "data": {
      "text/plain": [
       "120"
      ]
     },
     "execution_count": 3,
     "metadata": {},
     "output_type": "execute_result"
    }
   ],
   "source": [
    "n_tree_values = [5, 10, 20, 50, 100, 150, 200, 300]\n",
    "tree_depth_values = [1, 2, 3, 4, 5, 6, 7]\n",
    "hidden_dim = [1024, 768]\n",
    "batch_size_values = [256, 512, 1000]\n",
    "tree_feature_rates = [0.1, 0.2, 0.3, 0.4, 0.5]\n",
    "feat_dropouts = [0.0, 0.1, 0.2, 0.3, 0.4, 0.5]\n",
    "lrs = [0.0001, 0.001, 0.01]\n",
    "\n",
    "amount = len(n_tree_values) * len(tree_depth_values) * len(lrs)\n",
    "amount"
   ]
  },
  {
   "cell_type": "code",
   "execution_count": 4,
   "metadata": {},
   "outputs": [
    {
     "name": "stdout",
     "output_type": "stream",
     "text": [
      "120 folders and notebooks created successfully.\n"
     ]
    }
   ],
   "source": [
    "import os\n",
    "import nbformat as nbf\n",
    "\n",
    "# Hyperparameter grid\n",
    "n_tree_values = [10, 20, 50, 100, 150, 200]\n",
    "tree_depth_values = [3, 4, 5, 6, 7, 8, 9, 10, 11, 12]\n",
    "lrs = [0.001, 0.01]\n",
    "\n",
    "# Base directory\n",
    "base_dir = \"experiments\"\n",
    "os.makedirs(base_dir, exist_ok=True)\n",
    "\n",
    "# Function to create the notebook\n",
    "def create_notebook(n_trees, t_depth, lr):\n",
    "    nb = nbf.v4.new_notebook()\n",
    "\n",
    "    # Cell 1: partition\n",
    "    nb.cells.append(nbf.v4.new_code_cell(\"partition = 100\"))\n",
    "\n",
    "    # Cell 2: imports\n",
    "    nb.cells.append(nbf.v4.new_code_cell(\n",
    "        \"import sys\\nfrom itertools import product\"\n",
    "    ))\n",
    "\n",
    "    nb.cells.append(nbf.v4.new_code_cell(\n",
    "        \"\"\"import os\\nsys.path.append(os.path.abspath(os.path.join(os.getcwd(), \"../..\")))\\nfrom train import main\"\"\"\n",
    "    ))\n",
    "\n",
    "    nb.cells.append(nbf.v4.new_code_cell(\n",
    "        \"\"\"experiment_dir = os.getcwd()\\nos.chdir(os.path.abspath(os.path.join(os.getcwd(), \"../..\")))\"\"\"\n",
    "    ))\n",
    "\n",
    "    # Cell 3: hyperparameter grid (customized per loop)\n",
    "    cell3_code = f\"\"\"n_tree_values = [{n_trees}]\n",
    "tree_depth_values = [{t_depth}]\n",
    "hidden_dim = [1024, 768]\n",
    "batch_size_values = [256, 512]\n",
    "tree_feature_rates = [0.1, 0.2]\n",
    "feat_dropouts = [0.0, 0.1, 0.2]\n",
    "lrs = [{lr}]\n",
    "\"\"\"\n",
    "    nb.cells.append(nbf.v4.new_code_cell(cell3_code))\n",
    "\n",
    "    # Cell 4: search and training logic\n",
    "    cell4_code = \"\"\"best_score = 0\n",
    "best_config = {}\n",
    "\n",
    "for n_tree, t_depth, hd, batch_size, tfr, do, lr in product(n_tree_values, tree_depth_values, hidden_dim, batch_size_values, tree_feature_rates, feat_dropouts, lrs):\n",
    "    print(f\"Running: n_tree={n_tree}, t_depth={t_depth}, hd={hd}, batch_size={batch_size} tree_feature_rates={tfr}, feat_dropouts={do}, hd={hd}, lrs={lr}\")\n",
    "    results_dir = os.path.join(experiment_dir, \"results\")\n",
    "    os.makedirs(results_dir, exist_ok=True)\n",
    "\n",
    "    sys.argv = [\n",
    "        'train.py',\n",
    "        '-dataset', f'gtd{partition}',\n",
    "        '-n_class', '30',\n",
    "        '-gpuid', '0',\n",
    "        '-n_tree', str(n_tree),\n",
    "        '-tree_depth', str(t_depth),\n",
    "        '-batch_size', str(batch_size),\n",
    "        '-hidden_dim', str(hd),\n",
    "        '-epochs', '300',\n",
    "        '-verbose', '0',\n",
    "        '-tree_feature_rate', str(tfr),\n",
    "        '-feat_dropout', str(do),\n",
    "        '-lr', str(lr),\n",
    "        '-jointly_training',\n",
    "        '-searching', '1',\n",
    "        '-results_dir', results_dir\n",
    "    ]\n",
    "\n",
    "    complete = main()\n",
    "    print(complete)\n",
    "\n",
    "    \n",
    "    result_file = os.path.join(results_dir, f\"result_gtd{partition}.txt\")\n",
    "    try:\n",
    "        with open(result_file, \"r\") as f:\n",
    "            lines = f.readlines()\n",
    "            for line in lines:\n",
    "                if \"Best Accuracy\" in line:\n",
    "                    acc = float(line.split()[2])\n",
    "                    if acc > best_score:\n",
    "                        best_score = acc\n",
    "                        best_config = {\n",
    "                            'n_tree': n_tree,\n",
    "                            'tree_depth': t_depth,\n",
    "                            'batch_size': batch_size,\n",
    "                            'hidden_dim': hd,\n",
    "                            'tree_feature_rate': tfr,\n",
    "                            'feat_dropout': do,\n",
    "                            'lr': lr\n",
    "                        }\n",
    "    except FileNotFoundError:\n",
    "        print(f\"ERROR: Result file not found: {result_file}\")\n",
    "print(\"Best hyperparameter configuration:\")\n",
    "print(best_config)\n",
    "print(f\"Best accuracy: {best_score}\")\n",
    "\n",
    "try:\n",
    "    with open(result_file, \"a\") as f:\n",
    "        for k, v in best_config.items():\n",
    "            f.write(f\"{k}: {v}, \")\n",
    "except Exception as e:\n",
    "    print(f\"ERROR: Failed to write best_config to result file: {e}\")\n",
    "\"\"\"\n",
    "    nb.cells.append(nbf.v4.new_code_cell(cell4_code))\n",
    "    return nb\n",
    "\n",
    "# Folder creation + notebook generation\n",
    "count = 0\n",
    "for n_trees in n_tree_values:\n",
    "    for depth in tree_depth_values:\n",
    "        for lr in lrs:\n",
    "            lr_str = str(lr).replace('.', 'p')\n",
    "            folder_name = f\"trees_{n_trees}_depth_{depth}_lr_{lr_str}\"\n",
    "            folder_path = os.path.join(base_dir, folder_name)\n",
    "            os.makedirs(folder_path, exist_ok=True)\n",
    "\n",
    "            # Create notebook and save\n",
    "            notebook = create_notebook(n_trees, depth, lr)\n",
    "            notebook_path = os.path.join(folder_path, \"gtd100.ipynb\")\n",
    "            with open(notebook_path, \"w\") as f:\n",
    "                nbf.write(notebook, f)\n",
    "            count += 1\n",
    "\n",
    "print(f\"{count} folders and notebooks created successfully.\")\n"
   ]
  }
 ],
 "metadata": {
  "kernelspec": {
   "display_name": "base",
   "language": "python",
   "name": "python3"
  },
  "language_info": {
   "codemirror_mode": {
    "name": "ipython",
    "version": 3
   },
   "file_extension": ".py",
   "mimetype": "text/x-python",
   "name": "python",
   "nbconvert_exporter": "python",
   "pygments_lexer": "ipython3",
   "version": "3.11.9"
  }
 },
 "nbformat": 4,
 "nbformat_minor": 2
}
