{
 "cells": [
  {
   "cell_type": "code",
   "execution_count": 1,
   "metadata": {},
   "outputs": [],
   "source": [
    "partition = 100"
   ]
  },
  {
   "cell_type": "code",
   "execution_count": 2,
   "metadata": {},
   "outputs": [],
   "source": [
    "import sys\n",
    "from train import main\n",
    "from itertools import product  \n",
    "from sklearn.metrics import confusion_matrix\n",
    "import seaborn as sns\n",
    "import matplotlib.pyplot as plt"
   ]
  },
  {
   "cell_type": "code",
   "execution_count": 3,
   "metadata": {},
   "outputs": [
    {
     "data": {
      "text/plain": [
       "'\\nn_tree_values = [5, 10, 15, 20]\\ntree_depth_values = [3, 5, 10]\\nbatch_size_values = [256, 512, 1000]\\n\\nbest_score = 0\\nbest_config = {}\\n\\nfor n_tree, tree_depth, batch_size in product(n_tree_values, tree_depth_values, batch_size_values):\\n    print(f\"\\nRunning: n_tree={n_tree}, tree_depth={tree_depth}, batch_size={batch_size}\")\\n    sys.argv = [\\n        \\'train.py\\',\\n        \\'-dataset\\', f\\'gtd{partition}\\',\\n        \\'-n_class\\', \\'30\\',\\n        \\'-gpuid\\', \\'0\\',\\n        \\'-n_tree\\', str(n_tree),\\n        \\'-tree_depth\\', str(tree_depth),\\n        \\'-batch_size\\', str(batch_size),\\n        \\'-epochs\\', \\'200\\',\\n        \\'-jointly_training\\'\\n    ]\\n    \\n    _, _, _, _ = main()\\n\\n    # Read best score from file (assumes one run per file)\\n    result_file = f\"results/result_gtd{partition}\"\\n    with open(result_file, \"r\") as f:\\n        lines = f.readlines()\\n        for line in lines:\\n            if \"Best Accuracy\" in line:\\n                acc = float(line.split()[2])\\n                if acc > best_score:\\n                    best_score = acc\\n                    best_config = {\\n                        \\'n_tree\\': n_tree,\\n                        \\'tree_depth\\': tree_depth,\\n                        \\'batch_size\\': batch_size\\n                    }\\nprint(\"\\nBest hyperparameter configuration:\")\\nprint(best_config)\\nprint(f\"Best accuracy: {best_score}\")\\n'"
      ]
     },
     "execution_count": 3,
     "metadata": {},
     "output_type": "execute_result"
    }
   ],
   "source": [
    "\n",
    "\"\"\"\n",
    "n_tree_values = [5, 10, 15, 20]\n",
    "tree_depth_values = [3, 5, 10]\n",
    "batch_size_values = [256, 512, 1000]\n",
    "\n",
    "best_score = 0\n",
    "best_config = {}\n",
    "\n",
    "for n_tree, tree_depth, batch_size in product(n_tree_values, tree_depth_values, batch_size_values):\n",
    "    print(f\"\\nRunning: n_tree={n_tree}, tree_depth={tree_depth}, batch_size={batch_size}\")\n",
    "    sys.argv = [\n",
    "        'train.py',\n",
    "        '-dataset', f'gtd{partition}',\n",
    "        '-n_class', '30',\n",
    "        '-gpuid', '0',\n",
    "        '-n_tree', str(n_tree),\n",
    "        '-tree_depth', str(tree_depth),\n",
    "        '-batch_size', str(batch_size),\n",
    "        '-epochs', '200',\n",
    "        '-jointly_training'\n",
    "    ]\n",
    "    \n",
    "    _, _, _, _ = main()\n",
    "\n",
    "    # Read best score from file (assumes one run per file)\n",
    "    result_file = f\"results/result_gtd{partition}\"\n",
    "    with open(result_file, \"r\") as f:\n",
    "        lines = f.readlines()\n",
    "        for line in lines:\n",
    "            if \"Best Accuracy\" in line:\n",
    "                acc = float(line.split()[2])\n",
    "                if acc > best_score:\n",
    "                    best_score = acc\n",
    "                    best_config = {\n",
    "                        'n_tree': n_tree,\n",
    "                        'tree_depth': tree_depth,\n",
    "                        'batch_size': batch_size\n",
    "                    }\n",
    "print(\"\\nBest hyperparameter configuration:\")\n",
    "print(best_config)\n",
    "print(f\"Best accuracy: {best_score}\")\n",
    "\"\"\""
   ]
  },
  {
   "cell_type": "code",
   "execution_count": 4,
   "metadata": {},
   "outputs": [
    {
     "name": "stdout",
     "output_type": "stream",
     "text": [
      "Use gtd100 dataset\n"
     ]
    },
    {
     "name": "stderr",
     "output_type": "stream",
     "text": [
      "Training Epochs:   0%|          | 0/200 [00:00<?, ?it/s]"
     ]
    },
    {
     "name": "stdout",
     "output_type": "stream",
     "text": [
      "Train Epoch: 1 [0/2100 (0%)]\tLoss: 3.401443\n"
     ]
    },
    {
     "name": "stderr",
     "output_type": "stream",
     "text": [
      "Training Epochs:   0%|          | 1/200 [00:00<02:14,  1.48it/s]"
     ]
    },
    {
     "name": "stdout",
     "output_type": "stream",
     "text": [
      "\n",
      "Test set: Average loss: 3.3996, Accuracy: 88/900 (0.0978)\n",
      "\n",
      "Train Epoch: 2 [0/2100 (0%)]\tLoss: 3.399621\n"
     ]
    },
    {
     "name": "stderr",
     "output_type": "stream",
     "text": [
      "Training Epochs:   1%|          | 2/200 [00:01<01:44,  1.90it/s]"
     ]
    },
    {
     "name": "stdout",
     "output_type": "stream",
     "text": [
      "\n",
      "Test set: Average loss: 3.3961, Accuracy: 121/900 (0.1344)\n",
      "\n",
      "Train Epoch: 3 [0/2100 (0%)]\tLoss: 3.394961\n"
     ]
    },
    {
     "name": "stderr",
     "output_type": "stream",
     "text": [
      "Training Epochs:   2%|▏         | 3/200 [00:01<01:36,  2.05it/s]"
     ]
    },
    {
     "name": "stdout",
     "output_type": "stream",
     "text": [
      "\n",
      "Test set: Average loss: 3.3883, Accuracy: 157/900 (0.1744)\n",
      "\n",
      "Train Epoch: 4 [0/2100 (0%)]\tLoss: 3.387177\n"
     ]
    },
    {
     "name": "stderr",
     "output_type": "stream",
     "text": [
      "Training Epochs:   2%|▏         | 4/200 [00:02<01:33,  2.09it/s]"
     ]
    },
    {
     "name": "stdout",
     "output_type": "stream",
     "text": [
      "\n",
      "Test set: Average loss: 3.3729, Accuracy: 128/900 (0.1422)\n",
      "\n",
      "Train Epoch: 5 [0/2100 (0%)]\tLoss: 3.366146\n"
     ]
    },
    {
     "name": "stderr",
     "output_type": "stream",
     "text": [
      "Training Epochs:   2%|▎         | 5/200 [00:02<01:31,  2.12it/s]"
     ]
    },
    {
     "name": "stdout",
     "output_type": "stream",
     "text": [
      "\n",
      "Test set: Average loss: 3.3491, Accuracy: 113/900 (0.1256)\n",
      "\n",
      "Train Epoch: 6 [0/2100 (0%)]\tLoss: 3.340871\n"
     ]
    },
    {
     "name": "stderr",
     "output_type": "stream",
     "text": [
      "Training Epochs:   3%|▎         | 6/200 [00:02<01:29,  2.18it/s]"
     ]
    },
    {
     "name": "stdout",
     "output_type": "stream",
     "text": [
      "\n",
      "Test set: Average loss: 3.3227, Accuracy: 114/900 (0.1267)\n",
      "\n",
      "Train Epoch: 7 [0/2100 (0%)]\tLoss: 3.315445\n"
     ]
    },
    {
     "name": "stderr",
     "output_type": "stream",
     "text": [
      "Training Epochs:   4%|▎         | 7/200 [00:03<01:29,  2.16it/s]"
     ]
    },
    {
     "name": "stdout",
     "output_type": "stream",
     "text": [
      "\n",
      "Test set: Average loss: 3.2984, Accuracy: 144/900 (0.1600)\n",
      "\n",
      "Train Epoch: 8 [0/2100 (0%)]\tLoss: 3.293907\n"
     ]
    },
    {
     "name": "stderr",
     "output_type": "stream",
     "text": [
      "Training Epochs:   4%|▍         | 8/200 [00:03<01:26,  2.21it/s]"
     ]
    },
    {
     "name": "stdout",
     "output_type": "stream",
     "text": [
      "\n",
      "Test set: Average loss: 3.2750, Accuracy: 178/900 (0.1978)\n",
      "\n",
      "Train Epoch: 9 [0/2100 (0%)]\tLoss: 3.261137\n"
     ]
    },
    {
     "name": "stderr",
     "output_type": "stream",
     "text": [
      "Training Epochs:   4%|▍         | 9/200 [00:04<01:27,  2.19it/s]"
     ]
    },
    {
     "name": "stdout",
     "output_type": "stream",
     "text": [
      "\n",
      "Test set: Average loss: 3.2524, Accuracy: 202/900 (0.2244)\n",
      "\n",
      "Train Epoch: 10 [0/2100 (0%)]\tLoss: 3.215526\n"
     ]
    },
    {
     "name": "stderr",
     "output_type": "stream",
     "text": [
      "Training Epochs:   5%|▌         | 10/200 [00:04<01:26,  2.20it/s]"
     ]
    },
    {
     "name": "stdout",
     "output_type": "stream",
     "text": [
      "\n",
      "Test set: Average loss: 3.2291, Accuracy: 223/900 (0.2478)\n",
      "\n",
      "Train Epoch: 11 [0/2100 (0%)]\tLoss: 3.194980\n"
     ]
    },
    {
     "name": "stderr",
     "output_type": "stream",
     "text": [
      "Training Epochs:   6%|▌         | 11/200 [00:05<01:25,  2.21it/s]"
     ]
    },
    {
     "name": "stdout",
     "output_type": "stream",
     "text": [
      "\n",
      "Test set: Average loss: 3.2062, Accuracy: 249/900 (0.2767)\n",
      "\n",
      "Train Epoch: 12 [0/2100 (0%)]\tLoss: 3.154152\n"
     ]
    },
    {
     "name": "stderr",
     "output_type": "stream",
     "text": [
      "Training Epochs:   6%|▌         | 12/200 [00:05<01:24,  2.22it/s]"
     ]
    },
    {
     "name": "stdout",
     "output_type": "stream",
     "text": [
      "\n",
      "Test set: Average loss: 3.1860, Accuracy: 255/900 (0.2833)\n",
      "\n",
      "Train Epoch: 13 [0/2100 (0%)]\tLoss: 3.133047\n"
     ]
    },
    {
     "name": "stderr",
     "output_type": "stream",
     "text": [
      "Training Epochs:   6%|▋         | 13/200 [00:06<01:26,  2.15it/s]"
     ]
    },
    {
     "name": "stdout",
     "output_type": "stream",
     "text": [
      "\n",
      "Test set: Average loss: 3.1678, Accuracy: 263/900 (0.2922)\n",
      "\n",
      "Train Epoch: 14 [0/2100 (0%)]\tLoss: 3.126782\n"
     ]
    },
    {
     "name": "stderr",
     "output_type": "stream",
     "text": [
      "Training Epochs:   7%|▋         | 14/200 [00:06<01:27,  2.12it/s]"
     ]
    },
    {
     "name": "stdout",
     "output_type": "stream",
     "text": [
      "\n",
      "Test set: Average loss: 3.1511, Accuracy: 274/900 (0.3044)\n",
      "\n",
      "Train Epoch: 15 [0/2100 (0%)]\tLoss: 3.116073\n"
     ]
    },
    {
     "name": "stderr",
     "output_type": "stream",
     "text": [
      "Training Epochs:   8%|▊         | 15/200 [00:07<01:27,  2.12it/s]"
     ]
    },
    {
     "name": "stdout",
     "output_type": "stream",
     "text": [
      "\n",
      "Test set: Average loss: 3.1358, Accuracy: 277/900 (0.3078)\n",
      "\n",
      "Train Epoch: 16 [0/2100 (0%)]\tLoss: 3.074550\n"
     ]
    },
    {
     "name": "stderr",
     "output_type": "stream",
     "text": [
      "Training Epochs:   8%|▊         | 16/200 [00:07<01:25,  2.15it/s]"
     ]
    },
    {
     "name": "stdout",
     "output_type": "stream",
     "text": [
      "\n",
      "Test set: Average loss: 3.1215, Accuracy: 287/900 (0.3189)\n",
      "\n",
      "Train Epoch: 17 [0/2100 (0%)]\tLoss: 3.070425\n"
     ]
    },
    {
     "name": "stderr",
     "output_type": "stream",
     "text": [
      "Training Epochs:   8%|▊         | 17/200 [00:07<01:22,  2.21it/s]"
     ]
    },
    {
     "name": "stdout",
     "output_type": "stream",
     "text": [
      "\n",
      "Test set: Average loss: 3.1078, Accuracy: 296/900 (0.3289)\n",
      "\n",
      "Train Epoch: 18 [0/2100 (0%)]\tLoss: 3.042537\n"
     ]
    },
    {
     "name": "stderr",
     "output_type": "stream",
     "text": [
      "Training Epochs:   9%|▉         | 18/200 [00:08<01:22,  2.22it/s]"
     ]
    },
    {
     "name": "stdout",
     "output_type": "stream",
     "text": [
      "\n",
      "Test set: Average loss: 3.0949, Accuracy: 297/900 (0.3300)\n",
      "\n",
      "Train Epoch: 19 [0/2100 (0%)]\tLoss: 3.018421\n"
     ]
    },
    {
     "name": "stderr",
     "output_type": "stream",
     "text": [
      "Training Epochs:  10%|▉         | 19/200 [00:08<01:19,  2.27it/s]"
     ]
    },
    {
     "name": "stdout",
     "output_type": "stream",
     "text": [
      "\n",
      "Test set: Average loss: 3.0814, Accuracy: 305/900 (0.3389)\n",
      "\n",
      "Train Epoch: 20 [0/2100 (0%)]\tLoss: 2.992077\n"
     ]
    },
    {
     "name": "stderr",
     "output_type": "stream",
     "text": [
      "Training Epochs:  10%|█         | 20/200 [00:09<01:20,  2.24it/s]"
     ]
    },
    {
     "name": "stdout",
     "output_type": "stream",
     "text": [
      "\n",
      "Test set: Average loss: 3.0694, Accuracy: 305/900 (0.3389)\n",
      "\n",
      "Train Epoch: 21 [0/2100 (0%)]\tLoss: 2.966559\n"
     ]
    },
    {
     "name": "stderr",
     "output_type": "stream",
     "text": [
      "Training Epochs:  10%|█         | 21/200 [00:09<01:18,  2.28it/s]"
     ]
    },
    {
     "name": "stdout",
     "output_type": "stream",
     "text": [
      "\n",
      "Test set: Average loss: 3.0571, Accuracy: 313/900 (0.3478)\n",
      "\n",
      "Train Epoch: 22 [0/2100 (0%)]\tLoss: 2.994740\n"
     ]
    },
    {
     "name": "stderr",
     "output_type": "stream",
     "text": [
      "Training Epochs:  11%|█         | 22/200 [00:10<01:17,  2.30it/s]"
     ]
    },
    {
     "name": "stdout",
     "output_type": "stream",
     "text": [
      "\n",
      "Test set: Average loss: 3.0454, Accuracy: 314/900 (0.3489)\n",
      "\n",
      "Train Epoch: 23 [0/2100 (0%)]\tLoss: 2.953342\n"
     ]
    },
    {
     "name": "stderr",
     "output_type": "stream",
     "text": [
      "Training Epochs:  12%|█▏        | 23/200 [00:10<01:20,  2.20it/s]"
     ]
    },
    {
     "name": "stdout",
     "output_type": "stream",
     "text": [
      "\n",
      "Test set: Average loss: 3.0334, Accuracy: 319/900 (0.3544)\n",
      "\n",
      "Train Epoch: 24 [0/2100 (0%)]\tLoss: 2.944307\n"
     ]
    },
    {
     "name": "stderr",
     "output_type": "stream",
     "text": [
      "Training Epochs:  12%|█▏        | 24/200 [00:11<01:21,  2.16it/s]"
     ]
    },
    {
     "name": "stdout",
     "output_type": "stream",
     "text": [
      "\n",
      "Test set: Average loss: 3.0227, Accuracy: 325/900 (0.3611)\n",
      "\n",
      "Train Epoch: 25 [0/2100 (0%)]\tLoss: 2.919373\n"
     ]
    },
    {
     "name": "stderr",
     "output_type": "stream",
     "text": [
      "Training Epochs:  12%|█▎        | 25/200 [00:11<01:18,  2.24it/s]"
     ]
    },
    {
     "name": "stdout",
     "output_type": "stream",
     "text": [
      "\n",
      "Test set: Average loss: 3.0114, Accuracy: 326/900 (0.3622)\n",
      "\n",
      "Train Epoch: 26 [0/2100 (0%)]\tLoss: 2.895803\n"
     ]
    },
    {
     "name": "stderr",
     "output_type": "stream",
     "text": [
      "Training Epochs:  13%|█▎        | 26/200 [00:11<01:16,  2.27it/s]"
     ]
    },
    {
     "name": "stdout",
     "output_type": "stream",
     "text": [
      "\n",
      "Test set: Average loss: 2.9995, Accuracy: 331/900 (0.3678)\n",
      "\n",
      "Train Epoch: 27 [0/2100 (0%)]\tLoss: 2.910686\n"
     ]
    },
    {
     "name": "stderr",
     "output_type": "stream",
     "text": [
      "Training Epochs:  14%|█▎        | 27/200 [00:12<01:16,  2.25it/s]"
     ]
    },
    {
     "name": "stdout",
     "output_type": "stream",
     "text": [
      "\n",
      "Test set: Average loss: 2.9896, Accuracy: 334/900 (0.3711)\n",
      "\n",
      "Train Epoch: 28 [0/2100 (0%)]\tLoss: 2.883099\n"
     ]
    },
    {
     "name": "stderr",
     "output_type": "stream",
     "text": [
      "Training Epochs:  14%|█▍        | 28/200 [00:12<01:16,  2.24it/s]"
     ]
    },
    {
     "name": "stdout",
     "output_type": "stream",
     "text": [
      "\n",
      "Test set: Average loss: 2.9774, Accuracy: 344/900 (0.3822)\n",
      "\n",
      "Train Epoch: 29 [0/2100 (0%)]\tLoss: 2.829166\n"
     ]
    },
    {
     "name": "stderr",
     "output_type": "stream",
     "text": [
      "Training Epochs:  14%|█▍        | 29/200 [00:13<01:15,  2.27it/s]"
     ]
    },
    {
     "name": "stdout",
     "output_type": "stream",
     "text": [
      "\n",
      "Test set: Average loss: 2.9678, Accuracy: 341/900 (0.3789)\n",
      "\n",
      "Train Epoch: 30 [0/2100 (0%)]\tLoss: 2.838422\n"
     ]
    },
    {
     "name": "stderr",
     "output_type": "stream",
     "text": [
      "Training Epochs:  15%|█▌        | 30/200 [00:13<01:15,  2.26it/s]"
     ]
    },
    {
     "name": "stdout",
     "output_type": "stream",
     "text": [
      "\n",
      "Test set: Average loss: 2.9573, Accuracy: 351/900 (0.3900)\n",
      "\n",
      "Train Epoch: 31 [0/2100 (0%)]\tLoss: 2.830089\n"
     ]
    },
    {
     "name": "stderr",
     "output_type": "stream",
     "text": [
      "Training Epochs:  16%|█▌        | 31/200 [00:14<01:13,  2.31it/s]"
     ]
    },
    {
     "name": "stdout",
     "output_type": "stream",
     "text": [
      "\n",
      "Test set: Average loss: 2.9467, Accuracy: 351/900 (0.3900)\n",
      "\n",
      "Train Epoch: 32 [0/2100 (0%)]\tLoss: 2.828874\n"
     ]
    },
    {
     "name": "stderr",
     "output_type": "stream",
     "text": [
      "Training Epochs:  16%|█▌        | 32/200 [00:14<01:11,  2.35it/s]"
     ]
    },
    {
     "name": "stdout",
     "output_type": "stream",
     "text": [
      "\n",
      "Test set: Average loss: 2.9376, Accuracy: 354/900 (0.3933)\n",
      "\n",
      "Train Epoch: 33 [0/2100 (0%)]\tLoss: 2.798785\n"
     ]
    },
    {
     "name": "stderr",
     "output_type": "stream",
     "text": [
      "Training Epochs:  16%|█▋        | 33/200 [00:14<01:11,  2.33it/s]"
     ]
    },
    {
     "name": "stdout",
     "output_type": "stream",
     "text": [
      "\n",
      "Test set: Average loss: 2.9256, Accuracy: 365/900 (0.4056)\n",
      "\n",
      "Train Epoch: 34 [0/2100 (0%)]\tLoss: 2.777123\n"
     ]
    },
    {
     "name": "stderr",
     "output_type": "stream",
     "text": [
      "Training Epochs:  17%|█▋        | 34/200 [00:15<01:10,  2.37it/s]"
     ]
    },
    {
     "name": "stdout",
     "output_type": "stream",
     "text": [
      "\n",
      "Test set: Average loss: 2.9157, Accuracy: 364/900 (0.4044)\n",
      "\n",
      "Train Epoch: 35 [0/2100 (0%)]\tLoss: 2.780224\n"
     ]
    },
    {
     "name": "stderr",
     "output_type": "stream",
     "text": [
      "Training Epochs:  18%|█▊        | 35/200 [00:15<01:08,  2.42it/s]"
     ]
    },
    {
     "name": "stdout",
     "output_type": "stream",
     "text": [
      "\n",
      "Test set: Average loss: 2.9055, Accuracy: 370/900 (0.4111)\n",
      "\n",
      "Train Epoch: 36 [0/2100 (0%)]\tLoss: 2.734449\n"
     ]
    },
    {
     "name": "stderr",
     "output_type": "stream",
     "text": [
      "Training Epochs:  18%|█▊        | 36/200 [00:16<01:04,  2.55it/s]"
     ]
    },
    {
     "name": "stdout",
     "output_type": "stream",
     "text": [
      "\n",
      "Test set: Average loss: 2.8953, Accuracy: 367/900 (0.4078)\n",
      "\n",
      "Train Epoch: 37 [0/2100 (0%)]\tLoss: 2.711251\n"
     ]
    },
    {
     "name": "stderr",
     "output_type": "stream",
     "text": [
      "Training Epochs:  18%|█▊        | 37/200 [00:16<01:02,  2.62it/s]"
     ]
    },
    {
     "name": "stdout",
     "output_type": "stream",
     "text": [
      "\n",
      "Test set: Average loss: 2.8851, Accuracy: 375/900 (0.4167)\n",
      "\n",
      "Train Epoch: 38 [0/2100 (0%)]\tLoss: 2.701699\n"
     ]
    },
    {
     "name": "stderr",
     "output_type": "stream",
     "text": [
      "Training Epochs:  19%|█▉        | 38/200 [00:16<01:00,  2.69it/s]"
     ]
    },
    {
     "name": "stdout",
     "output_type": "stream",
     "text": [
      "\n",
      "Test set: Average loss: 2.8754, Accuracy: 382/900 (0.4244)\n",
      "\n",
      "Train Epoch: 39 [0/2100 (0%)]\tLoss: 2.688174\n"
     ]
    },
    {
     "name": "stderr",
     "output_type": "stream",
     "text": [
      "Training Epochs:  20%|█▉        | 39/200 [00:17<00:59,  2.73it/s]"
     ]
    },
    {
     "name": "stdout",
     "output_type": "stream",
     "text": [
      "\n",
      "Test set: Average loss: 2.8655, Accuracy: 374/900 (0.4156)\n",
      "\n",
      "Train Epoch: 40 [0/2100 (0%)]\tLoss: 2.684900\n"
     ]
    },
    {
     "name": "stderr",
     "output_type": "stream",
     "text": [
      "Training Epochs:  20%|██        | 40/200 [00:17<01:00,  2.64it/s]"
     ]
    },
    {
     "name": "stdout",
     "output_type": "stream",
     "text": [
      "\n",
      "Test set: Average loss: 2.8557, Accuracy: 383/900 (0.4256)\n",
      "\n",
      "Train Epoch: 41 [0/2100 (0%)]\tLoss: 2.652250\n"
     ]
    },
    {
     "name": "stderr",
     "output_type": "stream",
     "text": [
      "Training Epochs:  20%|██        | 41/200 [00:17<00:58,  2.72it/s]"
     ]
    },
    {
     "name": "stdout",
     "output_type": "stream",
     "text": [
      "\n",
      "Test set: Average loss: 2.8463, Accuracy: 385/900 (0.4278)\n",
      "\n",
      "Train Epoch: 42 [0/2100 (0%)]\tLoss: 2.653138\n"
     ]
    },
    {
     "name": "stderr",
     "output_type": "stream",
     "text": [
      "Training Epochs:  21%|██        | 42/200 [00:18<00:57,  2.76it/s]"
     ]
    },
    {
     "name": "stdout",
     "output_type": "stream",
     "text": [
      "\n",
      "Test set: Average loss: 2.8364, Accuracy: 387/900 (0.4300)\n",
      "\n",
      "Train Epoch: 43 [0/2100 (0%)]\tLoss: 2.642159\n"
     ]
    },
    {
     "name": "stderr",
     "output_type": "stream",
     "text": [
      "Training Epochs:  22%|██▏       | 43/200 [00:18<00:55,  2.84it/s]"
     ]
    },
    {
     "name": "stdout",
     "output_type": "stream",
     "text": [
      "\n",
      "Test set: Average loss: 2.8261, Accuracy: 393/900 (0.4367)\n",
      "\n",
      "Train Epoch: 44 [0/2100 (0%)]\tLoss: 2.625913\n"
     ]
    },
    {
     "name": "stderr",
     "output_type": "stream",
     "text": [
      "Training Epochs:  22%|██▏       | 44/200 [00:18<00:53,  2.93it/s]"
     ]
    },
    {
     "name": "stdout",
     "output_type": "stream",
     "text": [
      "\n",
      "Test set: Average loss: 2.8169, Accuracy: 386/900 (0.4289)\n",
      "\n",
      "Train Epoch: 45 [0/2100 (0%)]\tLoss: 2.586209\n"
     ]
    },
    {
     "name": "stderr",
     "output_type": "stream",
     "text": [
      "Training Epochs:  22%|██▎       | 45/200 [00:19<00:51,  2.99it/s]"
     ]
    },
    {
     "name": "stdout",
     "output_type": "stream",
     "text": [
      "\n",
      "Test set: Average loss: 2.8077, Accuracy: 392/900 (0.4356)\n",
      "\n",
      "Train Epoch: 46 [0/2100 (0%)]\tLoss: 2.604835\n"
     ]
    },
    {
     "name": "stderr",
     "output_type": "stream",
     "text": [
      "Training Epochs:  23%|██▎       | 46/200 [00:19<00:51,  2.98it/s]"
     ]
    },
    {
     "name": "stdout",
     "output_type": "stream",
     "text": [
      "\n",
      "Test set: Average loss: 2.7978, Accuracy: 400/900 (0.4444)\n",
      "\n",
      "Train Epoch: 47 [0/2100 (0%)]\tLoss: 2.577508\n"
     ]
    },
    {
     "name": "stderr",
     "output_type": "stream",
     "text": [
      "Training Epochs:  24%|██▎       | 47/200 [00:19<00:51,  2.96it/s]"
     ]
    },
    {
     "name": "stdout",
     "output_type": "stream",
     "text": [
      "\n",
      "Test set: Average loss: 2.7878, Accuracy: 402/900 (0.4467)\n",
      "\n",
      "Train Epoch: 48 [0/2100 (0%)]\tLoss: 2.581839\n"
     ]
    },
    {
     "name": "stderr",
     "output_type": "stream",
     "text": [
      "Training Epochs:  24%|██▍       | 48/200 [00:20<00:51,  2.94it/s]"
     ]
    },
    {
     "name": "stdout",
     "output_type": "stream",
     "text": [
      "\n",
      "Test set: Average loss: 2.7790, Accuracy: 398/900 (0.4422)\n",
      "\n",
      "Train Epoch: 49 [0/2100 (0%)]\tLoss: 2.547719\n"
     ]
    },
    {
     "name": "stderr",
     "output_type": "stream",
     "text": [
      "Training Epochs:  24%|██▍       | 49/200 [00:20<00:50,  3.00it/s]"
     ]
    },
    {
     "name": "stdout",
     "output_type": "stream",
     "text": [
      "\n",
      "Test set: Average loss: 2.7683, Accuracy: 397/900 (0.4411)\n",
      "\n",
      "Train Epoch: 50 [0/2100 (0%)]\tLoss: 2.532812\n"
     ]
    },
    {
     "name": "stderr",
     "output_type": "stream",
     "text": [
      "Training Epochs:  25%|██▌       | 50/200 [00:20<00:48,  3.07it/s]"
     ]
    },
    {
     "name": "stdout",
     "output_type": "stream",
     "text": [
      "\n",
      "Test set: Average loss: 2.7595, Accuracy: 399/900 (0.4433)\n",
      "\n",
      "Train Epoch: 51 [0/2100 (0%)]\tLoss: 2.507345\n"
     ]
    },
    {
     "name": "stderr",
     "output_type": "stream",
     "text": [
      "Training Epochs:  26%|██▌       | 51/200 [00:21<00:47,  3.11it/s]"
     ]
    },
    {
     "name": "stdout",
     "output_type": "stream",
     "text": [
      "\n",
      "Test set: Average loss: 2.7488, Accuracy: 405/900 (0.4500)\n",
      "\n",
      "Train Epoch: 52 [0/2100 (0%)]\tLoss: 2.493807\n"
     ]
    },
    {
     "name": "stderr",
     "output_type": "stream",
     "text": [
      "Training Epochs:  26%|██▌       | 52/200 [00:21<00:48,  3.07it/s]"
     ]
    },
    {
     "name": "stdout",
     "output_type": "stream",
     "text": [
      "\n",
      "Test set: Average loss: 2.7395, Accuracy: 407/900 (0.4522)\n",
      "\n",
      "Train Epoch: 53 [0/2100 (0%)]\tLoss: 2.483897\n"
     ]
    },
    {
     "name": "stderr",
     "output_type": "stream",
     "text": [
      "Training Epochs:  26%|██▋       | 53/200 [00:21<00:49,  2.98it/s]"
     ]
    },
    {
     "name": "stdout",
     "output_type": "stream",
     "text": [
      "\n",
      "Test set: Average loss: 2.7306, Accuracy: 406/900 (0.4511)\n",
      "\n",
      "Train Epoch: 54 [0/2100 (0%)]\tLoss: 2.497540\n"
     ]
    },
    {
     "name": "stderr",
     "output_type": "stream",
     "text": [
      "Training Epochs:  27%|██▋       | 54/200 [00:22<00:50,  2.88it/s]"
     ]
    },
    {
     "name": "stdout",
     "output_type": "stream",
     "text": [
      "\n",
      "Test set: Average loss: 2.7218, Accuracy: 409/900 (0.4544)\n",
      "\n",
      "Train Epoch: 55 [0/2100 (0%)]\tLoss: 2.455318\n"
     ]
    },
    {
     "name": "stderr",
     "output_type": "stream",
     "text": [
      "Training Epochs:  28%|██▊       | 55/200 [00:22<00:50,  2.87it/s]"
     ]
    },
    {
     "name": "stdout",
     "output_type": "stream",
     "text": [
      "\n",
      "Test set: Average loss: 2.7114, Accuracy: 412/900 (0.4578)\n",
      "\n",
      "Train Epoch: 56 [0/2100 (0%)]\tLoss: 2.414159\n"
     ]
    },
    {
     "name": "stderr",
     "output_type": "stream",
     "text": [
      "Training Epochs:  28%|██▊       | 56/200 [00:22<00:49,  2.89it/s]"
     ]
    },
    {
     "name": "stdout",
     "output_type": "stream",
     "text": [
      "\n",
      "Test set: Average loss: 2.7024, Accuracy: 410/900 (0.4556)\n",
      "\n",
      "Train Epoch: 57 [0/2100 (0%)]\tLoss: 2.424909\n"
     ]
    },
    {
     "name": "stderr",
     "output_type": "stream",
     "text": [
      "Training Epochs:  28%|██▊       | 57/200 [00:23<00:49,  2.88it/s]"
     ]
    },
    {
     "name": "stdout",
     "output_type": "stream",
     "text": [
      "\n",
      "Test set: Average loss: 2.6947, Accuracy: 413/900 (0.4589)\n",
      "\n",
      "Train Epoch: 58 [0/2100 (0%)]\tLoss: 2.422277\n"
     ]
    },
    {
     "name": "stderr",
     "output_type": "stream",
     "text": [
      "Training Epochs:  29%|██▉       | 58/200 [00:23<00:49,  2.89it/s]"
     ]
    },
    {
     "name": "stdout",
     "output_type": "stream",
     "text": [
      "\n",
      "Test set: Average loss: 2.6851, Accuracy: 414/900 (0.4600)\n",
      "\n",
      "Train Epoch: 59 [0/2100 (0%)]\tLoss: 2.368130\n"
     ]
    },
    {
     "name": "stderr",
     "output_type": "stream",
     "text": [
      "Training Epochs:  30%|██▉       | 59/200 [00:24<00:50,  2.77it/s]"
     ]
    },
    {
     "name": "stdout",
     "output_type": "stream",
     "text": [
      "\n",
      "Test set: Average loss: 2.6759, Accuracy: 413/900 (0.4589)\n",
      "\n",
      "Train Epoch: 60 [0/2100 (0%)]\tLoss: 2.406872\n"
     ]
    },
    {
     "name": "stderr",
     "output_type": "stream",
     "text": [
      "Training Epochs:  30%|███       | 60/200 [00:24<00:52,  2.67it/s]"
     ]
    },
    {
     "name": "stdout",
     "output_type": "stream",
     "text": [
      "\n",
      "Test set: Average loss: 2.6664, Accuracy: 411/900 (0.4567)\n",
      "\n",
      "Train Epoch: 61 [0/2100 (0%)]\tLoss: 2.365953\n"
     ]
    },
    {
     "name": "stderr",
     "output_type": "stream",
     "text": [
      "Training Epochs:  30%|███       | 61/200 [00:24<00:51,  2.71it/s]"
     ]
    },
    {
     "name": "stdout",
     "output_type": "stream",
     "text": [
      "\n",
      "Test set: Average loss: 2.6578, Accuracy: 415/900 (0.4611)\n",
      "\n",
      "Train Epoch: 62 [0/2100 (0%)]\tLoss: 2.345762\n"
     ]
    },
    {
     "name": "stderr",
     "output_type": "stream",
     "text": [
      "Training Epochs:  31%|███       | 62/200 [00:25<00:48,  2.84it/s]"
     ]
    },
    {
     "name": "stdout",
     "output_type": "stream",
     "text": [
      "\n",
      "Test set: Average loss: 2.6481, Accuracy: 417/900 (0.4633)\n",
      "\n",
      "Train Epoch: 63 [0/2100 (0%)]\tLoss: 2.311249\n"
     ]
    },
    {
     "name": "stderr",
     "output_type": "stream",
     "text": [
      "Training Epochs:  32%|███▏      | 63/200 [00:25<00:46,  2.95it/s]"
     ]
    },
    {
     "name": "stdout",
     "output_type": "stream",
     "text": [
      "\n",
      "Test set: Average loss: 2.6397, Accuracy: 418/900 (0.4644)\n",
      "\n",
      "Train Epoch: 64 [0/2100 (0%)]\tLoss: 2.318531\n"
     ]
    },
    {
     "name": "stderr",
     "output_type": "stream",
     "text": [
      "Training Epochs:  32%|███▏      | 64/200 [00:25<00:44,  3.05it/s]"
     ]
    },
    {
     "name": "stdout",
     "output_type": "stream",
     "text": [
      "\n",
      "Test set: Average loss: 2.6310, Accuracy: 426/900 (0.4733)\n",
      "\n",
      "Train Epoch: 65 [0/2100 (0%)]\tLoss: 2.281942\n"
     ]
    },
    {
     "name": "stderr",
     "output_type": "stream",
     "text": [
      "Training Epochs:  32%|███▎      | 65/200 [00:26<00:43,  3.12it/s]"
     ]
    },
    {
     "name": "stdout",
     "output_type": "stream",
     "text": [
      "\n",
      "Test set: Average loss: 2.6213, Accuracy: 426/900 (0.4733)\n",
      "\n",
      "Train Epoch: 66 [0/2100 (0%)]\tLoss: 2.281293\n"
     ]
    },
    {
     "name": "stderr",
     "output_type": "stream",
     "text": [
      "Training Epochs:  33%|███▎      | 66/200 [00:26<00:42,  3.15it/s]"
     ]
    },
    {
     "name": "stdout",
     "output_type": "stream",
     "text": [
      "\n",
      "Test set: Average loss: 2.6129, Accuracy: 427/900 (0.4744)\n",
      "\n",
      "Train Epoch: 67 [0/2100 (0%)]\tLoss: 2.251941\n"
     ]
    },
    {
     "name": "stderr",
     "output_type": "stream",
     "text": [
      "Training Epochs:  34%|███▎      | 67/200 [00:26<00:42,  3.10it/s]"
     ]
    },
    {
     "name": "stdout",
     "output_type": "stream",
     "text": [
      "\n",
      "Test set: Average loss: 2.6040, Accuracy: 431/900 (0.4789)\n",
      "\n",
      "Train Epoch: 68 [0/2100 (0%)]\tLoss: 2.255029\n"
     ]
    },
    {
     "name": "stderr",
     "output_type": "stream",
     "text": [
      "Training Epochs:  34%|███▍      | 68/200 [00:26<00:42,  3.08it/s]"
     ]
    },
    {
     "name": "stdout",
     "output_type": "stream",
     "text": [
      "\n",
      "Test set: Average loss: 2.5964, Accuracy: 432/900 (0.4800)\n",
      "\n",
      "Train Epoch: 69 [0/2100 (0%)]\tLoss: 2.204846\n"
     ]
    },
    {
     "name": "stderr",
     "output_type": "stream",
     "text": [
      "Training Epochs:  34%|███▍      | 69/200 [00:27<00:42,  3.09it/s]"
     ]
    },
    {
     "name": "stdout",
     "output_type": "stream",
     "text": [
      "\n",
      "Test set: Average loss: 2.5894, Accuracy: 434/900 (0.4822)\n",
      "\n",
      "Train Epoch: 70 [0/2100 (0%)]\tLoss: 2.233259\n"
     ]
    },
    {
     "name": "stderr",
     "output_type": "stream",
     "text": [
      "Training Epochs:  35%|███▌      | 70/200 [00:27<00:41,  3.14it/s]"
     ]
    },
    {
     "name": "stdout",
     "output_type": "stream",
     "text": [
      "\n",
      "Test set: Average loss: 2.5799, Accuracy: 438/900 (0.4867)\n",
      "\n",
      "Train Epoch: 71 [0/2100 (0%)]\tLoss: 2.211907\n"
     ]
    },
    {
     "name": "stderr",
     "output_type": "stream",
     "text": [
      "Training Epochs:  36%|███▌      | 71/200 [00:27<00:41,  3.12it/s]"
     ]
    },
    {
     "name": "stdout",
     "output_type": "stream",
     "text": [
      "\n",
      "Test set: Average loss: 2.5721, Accuracy: 438/900 (0.4867)\n",
      "\n",
      "Train Epoch: 72 [0/2100 (0%)]\tLoss: 2.196564\n"
     ]
    },
    {
     "name": "stderr",
     "output_type": "stream",
     "text": [
      "Training Epochs:  36%|███▌      | 72/200 [00:28<00:46,  2.74it/s]"
     ]
    },
    {
     "name": "stdout",
     "output_type": "stream",
     "text": [
      "\n",
      "Test set: Average loss: 2.5641, Accuracy: 440/900 (0.4889)\n",
      "\n",
      "Train Epoch: 73 [0/2100 (0%)]\tLoss: 2.198770\n"
     ]
    },
    {
     "name": "stderr",
     "output_type": "stream",
     "text": [
      "Training Epochs:  36%|███▋      | 73/200 [00:28<00:44,  2.85it/s]"
     ]
    },
    {
     "name": "stdout",
     "output_type": "stream",
     "text": [
      "\n",
      "Test set: Average loss: 2.5554, Accuracy: 439/900 (0.4878)\n",
      "\n",
      "Train Epoch: 74 [0/2100 (0%)]\tLoss: 2.170569\n"
     ]
    },
    {
     "name": "stderr",
     "output_type": "stream",
     "text": [
      "Training Epochs:  37%|███▋      | 74/200 [00:29<00:43,  2.87it/s]"
     ]
    },
    {
     "name": "stdout",
     "output_type": "stream",
     "text": [
      "\n",
      "Test set: Average loss: 2.5491, Accuracy: 441/900 (0.4900)\n",
      "\n",
      "Train Epoch: 75 [0/2100 (0%)]\tLoss: 2.157533\n"
     ]
    },
    {
     "name": "stderr",
     "output_type": "stream",
     "text": [
      "Training Epochs:  38%|███▊      | 75/200 [00:29<00:43,  2.91it/s]"
     ]
    },
    {
     "name": "stdout",
     "output_type": "stream",
     "text": [
      "\n",
      "Test set: Average loss: 2.5402, Accuracy: 442/900 (0.4911)\n",
      "\n",
      "Train Epoch: 76 [0/2100 (0%)]\tLoss: 2.151036\n"
     ]
    },
    {
     "name": "stderr",
     "output_type": "stream",
     "text": [
      "Training Epochs:  38%|███▊      | 76/200 [00:29<00:41,  3.01it/s]"
     ]
    },
    {
     "name": "stdout",
     "output_type": "stream",
     "text": [
      "\n",
      "Test set: Average loss: 2.5326, Accuracy: 444/900 (0.4933)\n",
      "\n",
      "Train Epoch: 77 [0/2100 (0%)]\tLoss: 2.117919\n"
     ]
    },
    {
     "name": "stderr",
     "output_type": "stream",
     "text": [
      "Training Epochs:  38%|███▊      | 77/200 [00:30<00:39,  3.08it/s]"
     ]
    },
    {
     "name": "stdout",
     "output_type": "stream",
     "text": [
      "\n",
      "Test set: Average loss: 2.5243, Accuracy: 443/900 (0.4922)\n",
      "\n",
      "Train Epoch: 78 [0/2100 (0%)]\tLoss: 2.117286\n"
     ]
    },
    {
     "name": "stderr",
     "output_type": "stream",
     "text": [
      "Training Epochs:  39%|███▉      | 78/200 [00:30<00:39,  3.12it/s]"
     ]
    },
    {
     "name": "stdout",
     "output_type": "stream",
     "text": [
      "\n",
      "Test set: Average loss: 2.5178, Accuracy: 444/900 (0.4933)\n",
      "\n",
      "Train Epoch: 79 [0/2100 (0%)]\tLoss: 2.083727\n"
     ]
    },
    {
     "name": "stderr",
     "output_type": "stream",
     "text": [
      "Training Epochs:  40%|███▉      | 79/200 [00:30<00:39,  3.06it/s]"
     ]
    },
    {
     "name": "stdout",
     "output_type": "stream",
     "text": [
      "\n",
      "Test set: Average loss: 2.5090, Accuracy: 444/900 (0.4933)\n",
      "\n",
      "Train Epoch: 80 [0/2100 (0%)]\tLoss: 2.093097\n"
     ]
    },
    {
     "name": "stderr",
     "output_type": "stream",
     "text": [
      "Training Epochs:  40%|████      | 80/200 [00:31<00:40,  2.99it/s]"
     ]
    },
    {
     "name": "stdout",
     "output_type": "stream",
     "text": [
      "\n",
      "Test set: Average loss: 2.5030, Accuracy: 448/900 (0.4978)\n",
      "\n",
      "Train Epoch: 81 [0/2100 (0%)]\tLoss: 2.075357\n"
     ]
    },
    {
     "name": "stderr",
     "output_type": "stream",
     "text": [
      "Training Epochs:  40%|████      | 81/200 [00:31<00:40,  2.91it/s]"
     ]
    },
    {
     "name": "stdout",
     "output_type": "stream",
     "text": [
      "\n",
      "Test set: Average loss: 2.4934, Accuracy: 447/900 (0.4967)\n",
      "\n",
      "Train Epoch: 82 [0/2100 (0%)]\tLoss: 2.100024\n"
     ]
    },
    {
     "name": "stderr",
     "output_type": "stream",
     "text": [
      "Training Epochs:  41%|████      | 82/200 [00:31<00:39,  2.96it/s]"
     ]
    },
    {
     "name": "stdout",
     "output_type": "stream",
     "text": [
      "\n",
      "Test set: Average loss: 2.4865, Accuracy: 448/900 (0.4978)\n",
      "\n",
      "Train Epoch: 83 [0/2100 (0%)]\tLoss: 2.035689\n"
     ]
    },
    {
     "name": "stderr",
     "output_type": "stream",
     "text": [
      "Training Epochs:  42%|████▏     | 83/200 [00:32<00:38,  3.01it/s]"
     ]
    },
    {
     "name": "stdout",
     "output_type": "stream",
     "text": [
      "\n",
      "Test set: Average loss: 2.4786, Accuracy: 449/900 (0.4989)\n",
      "\n",
      "Train Epoch: 84 [0/2100 (0%)]\tLoss: 2.056370\n"
     ]
    },
    {
     "name": "stderr",
     "output_type": "stream",
     "text": [
      "Training Epochs:  42%|████▏     | 84/200 [00:32<00:38,  3.02it/s]"
     ]
    },
    {
     "name": "stdout",
     "output_type": "stream",
     "text": [
      "\n",
      "Test set: Average loss: 2.4710, Accuracy: 457/900 (0.5078)\n",
      "\n",
      "Train Epoch: 85 [0/2100 (0%)]\tLoss: 2.022096\n"
     ]
    },
    {
     "name": "stderr",
     "output_type": "stream",
     "text": [
      "Training Epochs:  42%|████▎     | 85/200 [00:32<00:38,  2.98it/s]"
     ]
    },
    {
     "name": "stdout",
     "output_type": "stream",
     "text": [
      "\n",
      "Test set: Average loss: 2.4636, Accuracy: 461/900 (0.5122)\n",
      "\n",
      "Train Epoch: 86 [0/2100 (0%)]\tLoss: 2.017332\n"
     ]
    },
    {
     "name": "stderr",
     "output_type": "stream",
     "text": [
      "Training Epochs:  43%|████▎     | 86/200 [00:33<00:37,  3.02it/s]"
     ]
    },
    {
     "name": "stdout",
     "output_type": "stream",
     "text": [
      "\n",
      "Test set: Average loss: 2.4561, Accuracy: 456/900 (0.5067)\n",
      "\n",
      "Train Epoch: 87 [0/2100 (0%)]\tLoss: 2.027152\n"
     ]
    },
    {
     "name": "stderr",
     "output_type": "stream",
     "text": [
      "Training Epochs:  44%|████▎     | 87/200 [00:33<00:37,  3.01it/s]"
     ]
    },
    {
     "name": "stdout",
     "output_type": "stream",
     "text": [
      "\n",
      "Test set: Average loss: 2.4499, Accuracy: 454/900 (0.5044)\n",
      "\n",
      "Train Epoch: 88 [0/2100 (0%)]\tLoss: 2.007932\n"
     ]
    },
    {
     "name": "stderr",
     "output_type": "stream",
     "text": [
      "Training Epochs:  44%|████▍     | 88/200 [00:33<00:37,  3.00it/s]"
     ]
    },
    {
     "name": "stdout",
     "output_type": "stream",
     "text": [
      "\n",
      "Test set: Average loss: 2.4419, Accuracy: 457/900 (0.5078)\n",
      "\n",
      "Train Epoch: 89 [0/2100 (0%)]\tLoss: 1.986809\n"
     ]
    },
    {
     "name": "stderr",
     "output_type": "stream",
     "text": [
      "Training Epochs:  44%|████▍     | 89/200 [00:34<00:37,  2.99it/s]"
     ]
    },
    {
     "name": "stdout",
     "output_type": "stream",
     "text": [
      "\n",
      "Test set: Average loss: 2.4343, Accuracy: 459/900 (0.5100)\n",
      "\n",
      "Train Epoch: 90 [0/2100 (0%)]\tLoss: 1.981568\n"
     ]
    },
    {
     "name": "stderr",
     "output_type": "stream",
     "text": [
      "Training Epochs:  45%|████▌     | 90/200 [00:34<00:38,  2.88it/s]"
     ]
    },
    {
     "name": "stdout",
     "output_type": "stream",
     "text": [
      "\n",
      "Test set: Average loss: 2.4264, Accuracy: 457/900 (0.5078)\n",
      "\n",
      "Train Epoch: 91 [0/2100 (0%)]\tLoss: 1.971659\n"
     ]
    },
    {
     "name": "stderr",
     "output_type": "stream",
     "text": [
      "Training Epochs:  46%|████▌     | 91/200 [00:34<00:38,  2.84it/s]"
     ]
    },
    {
     "name": "stdout",
     "output_type": "stream",
     "text": [
      "\n",
      "Test set: Average loss: 2.4195, Accuracy: 457/900 (0.5078)\n",
      "\n",
      "Train Epoch: 92 [0/2100 (0%)]\tLoss: 1.945896\n"
     ]
    },
    {
     "name": "stderr",
     "output_type": "stream",
     "text": [
      "Training Epochs:  46%|████▌     | 92/200 [00:35<00:37,  2.85it/s]"
     ]
    },
    {
     "name": "stdout",
     "output_type": "stream",
     "text": [
      "\n",
      "Test set: Average loss: 2.4136, Accuracy: 460/900 (0.5111)\n",
      "\n",
      "Train Epoch: 93 [0/2100 (0%)]\tLoss: 1.934483\n"
     ]
    },
    {
     "name": "stderr",
     "output_type": "stream",
     "text": [
      "Training Epochs:  46%|████▋     | 93/200 [00:35<00:36,  2.92it/s]"
     ]
    },
    {
     "name": "stdout",
     "output_type": "stream",
     "text": [
      "\n",
      "Test set: Average loss: 2.4057, Accuracy: 457/900 (0.5078)\n",
      "\n",
      "Train Epoch: 94 [0/2100 (0%)]\tLoss: 1.940660\n"
     ]
    },
    {
     "name": "stderr",
     "output_type": "stream",
     "text": [
      "Training Epochs:  47%|████▋     | 94/200 [00:35<00:35,  2.96it/s]"
     ]
    },
    {
     "name": "stdout",
     "output_type": "stream",
     "text": [
      "\n",
      "Test set: Average loss: 2.4000, Accuracy: 461/900 (0.5122)\n",
      "\n",
      "Train Epoch: 95 [0/2100 (0%)]\tLoss: 1.956785\n"
     ]
    },
    {
     "name": "stderr",
     "output_type": "stream",
     "text": [
      "Training Epochs:  48%|████▊     | 95/200 [00:36<00:35,  2.98it/s]"
     ]
    },
    {
     "name": "stdout",
     "output_type": "stream",
     "text": [
      "\n",
      "Test set: Average loss: 2.3923, Accuracy: 463/900 (0.5144)\n",
      "\n",
      "Train Epoch: 96 [0/2100 (0%)]\tLoss: 1.894322\n"
     ]
    },
    {
     "name": "stderr",
     "output_type": "stream",
     "text": [
      "Training Epochs:  48%|████▊     | 96/200 [00:36<00:35,  2.96it/s]"
     ]
    },
    {
     "name": "stdout",
     "output_type": "stream",
     "text": [
      "\n",
      "Test set: Average loss: 2.3854, Accuracy: 462/900 (0.5133)\n",
      "\n",
      "Train Epoch: 97 [0/2100 (0%)]\tLoss: 1.920550\n"
     ]
    },
    {
     "name": "stderr",
     "output_type": "stream",
     "text": [
      "Training Epochs:  48%|████▊     | 97/200 [00:36<00:34,  2.99it/s]"
     ]
    },
    {
     "name": "stdout",
     "output_type": "stream",
     "text": [
      "\n",
      "Test set: Average loss: 2.3795, Accuracy: 465/900 (0.5167)\n",
      "\n",
      "Train Epoch: 98 [0/2100 (0%)]\tLoss: 1.909268\n"
     ]
    },
    {
     "name": "stderr",
     "output_type": "stream",
     "text": [
      "Training Epochs:  49%|████▉     | 98/200 [00:37<00:33,  3.07it/s]"
     ]
    },
    {
     "name": "stdout",
     "output_type": "stream",
     "text": [
      "\n",
      "Test set: Average loss: 2.3711, Accuracy: 464/900 (0.5156)\n",
      "\n",
      "Train Epoch: 99 [0/2100 (0%)]\tLoss: 1.879708\n"
     ]
    },
    {
     "name": "stderr",
     "output_type": "stream",
     "text": [
      "Training Epochs:  50%|████▉     | 99/200 [00:37<00:34,  2.91it/s]"
     ]
    },
    {
     "name": "stdout",
     "output_type": "stream",
     "text": [
      "\n",
      "Test set: Average loss: 2.3652, Accuracy: 465/900 (0.5167)\n",
      "\n",
      "Train Epoch: 100 [0/2100 (0%)]\tLoss: 1.857863\n"
     ]
    },
    {
     "name": "stderr",
     "output_type": "stream",
     "text": [
      "Training Epochs:  50%|█████     | 100/200 [00:37<00:34,  2.86it/s]"
     ]
    },
    {
     "name": "stdout",
     "output_type": "stream",
     "text": [
      "\n",
      "Test set: Average loss: 2.3595, Accuracy: 469/900 (0.5211)\n",
      "\n",
      "Train Epoch: 101 [0/2100 (0%)]\tLoss: 1.841552\n"
     ]
    },
    {
     "name": "stderr",
     "output_type": "stream",
     "text": [
      "Training Epochs:  50%|█████     | 101/200 [00:38<00:34,  2.86it/s]"
     ]
    },
    {
     "name": "stdout",
     "output_type": "stream",
     "text": [
      "\n",
      "Test set: Average loss: 2.3531, Accuracy: 470/900 (0.5222)\n",
      "\n",
      "Train Epoch: 102 [0/2100 (0%)]\tLoss: 1.812725\n"
     ]
    },
    {
     "name": "stderr",
     "output_type": "stream",
     "text": [
      "Training Epochs:  51%|█████     | 102/200 [00:38<00:34,  2.87it/s]"
     ]
    },
    {
     "name": "stdout",
     "output_type": "stream",
     "text": [
      "\n",
      "Test set: Average loss: 2.3462, Accuracy: 469/900 (0.5211)\n",
      "\n",
      "Train Epoch: 103 [0/2100 (0%)]\tLoss: 1.842106\n"
     ]
    },
    {
     "name": "stderr",
     "output_type": "stream",
     "text": [
      "Training Epochs:  52%|█████▏    | 103/200 [00:38<00:34,  2.84it/s]"
     ]
    },
    {
     "name": "stdout",
     "output_type": "stream",
     "text": [
      "\n",
      "Test set: Average loss: 2.3406, Accuracy: 471/900 (0.5233)\n",
      "\n",
      "Train Epoch: 104 [0/2100 (0%)]\tLoss: 1.830809\n"
     ]
    },
    {
     "name": "stderr",
     "output_type": "stream",
     "text": [
      "Training Epochs:  52%|█████▏    | 104/200 [00:39<00:33,  2.83it/s]"
     ]
    },
    {
     "name": "stdout",
     "output_type": "stream",
     "text": [
      "\n",
      "Test set: Average loss: 2.3349, Accuracy: 468/900 (0.5200)\n",
      "\n",
      "Train Epoch: 105 [0/2100 (0%)]\tLoss: 1.801557\n"
     ]
    },
    {
     "name": "stderr",
     "output_type": "stream",
     "text": [
      "Training Epochs:  52%|█████▎    | 105/200 [00:39<00:33,  2.79it/s]"
     ]
    },
    {
     "name": "stdout",
     "output_type": "stream",
     "text": [
      "\n",
      "Test set: Average loss: 2.3296, Accuracy: 471/900 (0.5233)\n",
      "\n",
      "Train Epoch: 106 [0/2100 (0%)]\tLoss: 1.818863\n"
     ]
    },
    {
     "name": "stderr",
     "output_type": "stream",
     "text": [
      "Training Epochs:  53%|█████▎    | 106/200 [00:39<00:33,  2.82it/s]"
     ]
    },
    {
     "name": "stdout",
     "output_type": "stream",
     "text": [
      "\n",
      "Test set: Average loss: 2.3227, Accuracy: 474/900 (0.5267)\n",
      "\n",
      "Train Epoch: 107 [0/2100 (0%)]\tLoss: 1.794619\n"
     ]
    },
    {
     "name": "stderr",
     "output_type": "stream",
     "text": [
      "Training Epochs:  54%|█████▎    | 107/200 [00:40<00:32,  2.85it/s]"
     ]
    },
    {
     "name": "stdout",
     "output_type": "stream",
     "text": [
      "\n",
      "Test set: Average loss: 2.3163, Accuracy: 476/900 (0.5289)\n",
      "\n",
      "Train Epoch: 108 [0/2100 (0%)]\tLoss: 1.784735\n"
     ]
    },
    {
     "name": "stderr",
     "output_type": "stream",
     "text": [
      "Training Epochs:  54%|█████▍    | 108/200 [00:40<00:32,  2.83it/s]"
     ]
    },
    {
     "name": "stdout",
     "output_type": "stream",
     "text": [
      "\n",
      "Test set: Average loss: 2.3111, Accuracy: 475/900 (0.5278)\n",
      "\n",
      "Train Epoch: 109 [0/2100 (0%)]\tLoss: 1.745706\n"
     ]
    },
    {
     "name": "stderr",
     "output_type": "stream",
     "text": [
      "Training Epochs:  55%|█████▍    | 109/200 [00:41<00:33,  2.71it/s]"
     ]
    },
    {
     "name": "stdout",
     "output_type": "stream",
     "text": [
      "\n",
      "Test set: Average loss: 2.3053, Accuracy: 478/900 (0.5311)\n",
      "\n",
      "Train Epoch: 110 [0/2100 (0%)]\tLoss: 1.763530\n"
     ]
    },
    {
     "name": "stderr",
     "output_type": "stream",
     "text": [
      "Training Epochs:  55%|█████▌    | 110/200 [00:41<00:33,  2.66it/s]"
     ]
    },
    {
     "name": "stdout",
     "output_type": "stream",
     "text": [
      "\n",
      "Test set: Average loss: 2.3010, Accuracy: 480/900 (0.5333)\n",
      "\n",
      "Train Epoch: 111 [0/2100 (0%)]\tLoss: 1.712136\n"
     ]
    },
    {
     "name": "stderr",
     "output_type": "stream",
     "text": [
      "Training Epochs:  56%|█████▌    | 111/200 [00:41<00:32,  2.71it/s]"
     ]
    },
    {
     "name": "stdout",
     "output_type": "stream",
     "text": [
      "\n",
      "Test set: Average loss: 2.2947, Accuracy: 476/900 (0.5289)\n",
      "\n",
      "Train Epoch: 112 [0/2100 (0%)]\tLoss: 1.727095\n"
     ]
    },
    {
     "name": "stderr",
     "output_type": "stream",
     "text": [
      "Training Epochs:  56%|█████▌    | 112/200 [00:42<00:31,  2.78it/s]"
     ]
    },
    {
     "name": "stdout",
     "output_type": "stream",
     "text": [
      "\n",
      "Test set: Average loss: 2.2891, Accuracy: 479/900 (0.5322)\n",
      "\n",
      "Train Epoch: 113 [0/2100 (0%)]\tLoss: 1.724042\n"
     ]
    },
    {
     "name": "stderr",
     "output_type": "stream",
     "text": [
      "Training Epochs:  56%|█████▋    | 113/200 [00:42<00:30,  2.86it/s]"
     ]
    },
    {
     "name": "stdout",
     "output_type": "stream",
     "text": [
      "\n",
      "Test set: Average loss: 2.2854, Accuracy: 478/900 (0.5311)\n",
      "\n",
      "Train Epoch: 114 [0/2100 (0%)]\tLoss: 1.712481\n"
     ]
    },
    {
     "name": "stderr",
     "output_type": "stream",
     "text": [
      "Training Epochs:  57%|█████▋    | 114/200 [00:42<00:29,  2.91it/s]"
     ]
    },
    {
     "name": "stdout",
     "output_type": "stream",
     "text": [
      "\n",
      "Test set: Average loss: 2.2786, Accuracy: 483/900 (0.5367)\n",
      "\n",
      "Train Epoch: 115 [0/2100 (0%)]\tLoss: 1.705219\n"
     ]
    },
    {
     "name": "stderr",
     "output_type": "stream",
     "text": [
      "Training Epochs:  57%|█████▊    | 115/200 [00:43<00:28,  3.00it/s]"
     ]
    },
    {
     "name": "stdout",
     "output_type": "stream",
     "text": [
      "\n",
      "Test set: Average loss: 2.2729, Accuracy: 480/900 (0.5333)\n",
      "\n",
      "Train Epoch: 116 [0/2100 (0%)]\tLoss: 1.694489\n"
     ]
    },
    {
     "name": "stderr",
     "output_type": "stream",
     "text": [
      "Training Epochs:  58%|█████▊    | 116/200 [00:43<00:28,  2.98it/s]"
     ]
    },
    {
     "name": "stdout",
     "output_type": "stream",
     "text": [
      "\n",
      "Test set: Average loss: 2.2686, Accuracy: 475/900 (0.5278)\n",
      "\n",
      "Train Epoch: 117 [0/2100 (0%)]\tLoss: 1.688377\n"
     ]
    },
    {
     "name": "stderr",
     "output_type": "stream",
     "text": [
      "Training Epochs:  58%|█████▊    | 117/200 [00:43<00:27,  3.02it/s]"
     ]
    },
    {
     "name": "stdout",
     "output_type": "stream",
     "text": [
      "\n",
      "Test set: Average loss: 2.2627, Accuracy: 481/900 (0.5344)\n",
      "\n",
      "Train Epoch: 118 [0/2100 (0%)]\tLoss: 1.716193\n"
     ]
    },
    {
     "name": "stderr",
     "output_type": "stream",
     "text": [
      "Training Epochs:  59%|█████▉    | 118/200 [00:44<00:26,  3.05it/s]"
     ]
    },
    {
     "name": "stdout",
     "output_type": "stream",
     "text": [
      "\n",
      "Test set: Average loss: 2.2580, Accuracy: 475/900 (0.5278)\n",
      "\n",
      "Train Epoch: 119 [0/2100 (0%)]\tLoss: 1.679208\n"
     ]
    },
    {
     "name": "stderr",
     "output_type": "stream",
     "text": [
      "Training Epochs:  60%|█████▉    | 119/200 [00:44<00:27,  2.99it/s]"
     ]
    },
    {
     "name": "stdout",
     "output_type": "stream",
     "text": [
      "\n",
      "Test set: Average loss: 2.2534, Accuracy: 477/900 (0.5300)\n",
      "\n",
      "Train Epoch: 120 [0/2100 (0%)]\tLoss: 1.648817\n"
     ]
    },
    {
     "name": "stderr",
     "output_type": "stream",
     "text": [
      "Training Epochs:  60%|██████    | 120/200 [00:44<00:27,  2.92it/s]"
     ]
    },
    {
     "name": "stdout",
     "output_type": "stream",
     "text": [
      "\n",
      "Test set: Average loss: 2.2457, Accuracy: 483/900 (0.5367)\n",
      "\n",
      "Train Epoch: 121 [0/2100 (0%)]\tLoss: 1.664249\n"
     ]
    },
    {
     "name": "stderr",
     "output_type": "stream",
     "text": [
      "Training Epochs:  60%|██████    | 121/200 [00:45<00:26,  2.94it/s]"
     ]
    },
    {
     "name": "stdout",
     "output_type": "stream",
     "text": [
      "\n",
      "Test set: Average loss: 2.2419, Accuracy: 481/900 (0.5344)\n",
      "\n",
      "Train Epoch: 122 [0/2100 (0%)]\tLoss: 1.643339\n"
     ]
    },
    {
     "name": "stderr",
     "output_type": "stream",
     "text": [
      "Training Epochs:  61%|██████    | 122/200 [00:45<00:27,  2.87it/s]"
     ]
    },
    {
     "name": "stdout",
     "output_type": "stream",
     "text": [
      "\n",
      "Test set: Average loss: 2.2364, Accuracy: 478/900 (0.5311)\n",
      "\n",
      "Train Epoch: 123 [0/2100 (0%)]\tLoss: 1.690971\n"
     ]
    },
    {
     "name": "stderr",
     "output_type": "stream",
     "text": [
      "Training Epochs:  62%|██████▏   | 123/200 [00:45<00:27,  2.85it/s]"
     ]
    },
    {
     "name": "stdout",
     "output_type": "stream",
     "text": [
      "\n",
      "Test set: Average loss: 2.2342, Accuracy: 473/900 (0.5256)\n",
      "\n",
      "Train Epoch: 124 [0/2100 (0%)]\tLoss: 1.631379\n"
     ]
    },
    {
     "name": "stderr",
     "output_type": "stream",
     "text": [
      "Training Epochs:  62%|██████▏   | 124/200 [00:46<00:27,  2.80it/s]"
     ]
    },
    {
     "name": "stdout",
     "output_type": "stream",
     "text": [
      "\n",
      "Test set: Average loss: 2.2264, Accuracy: 481/900 (0.5344)\n",
      "\n",
      "Train Epoch: 125 [0/2100 (0%)]\tLoss: 1.601704\n"
     ]
    },
    {
     "name": "stderr",
     "output_type": "stream",
     "text": [
      "Training Epochs:  62%|██████▎   | 125/200 [00:46<00:26,  2.81it/s]"
     ]
    },
    {
     "name": "stdout",
     "output_type": "stream",
     "text": [
      "\n",
      "Test set: Average loss: 2.2222, Accuracy: 478/900 (0.5311)\n",
      "\n",
      "Train Epoch: 126 [0/2100 (0%)]\tLoss: 1.585923\n"
     ]
    },
    {
     "name": "stderr",
     "output_type": "stream",
     "text": [
      "Training Epochs:  63%|██████▎   | 126/200 [00:46<00:27,  2.70it/s]"
     ]
    },
    {
     "name": "stdout",
     "output_type": "stream",
     "text": [
      "\n",
      "Test set: Average loss: 2.2171, Accuracy: 475/900 (0.5278)\n",
      "\n",
      "Train Epoch: 127 [0/2100 (0%)]\tLoss: 1.579130\n"
     ]
    },
    {
     "name": "stderr",
     "output_type": "stream",
     "text": [
      "Training Epochs:  64%|██████▎   | 127/200 [00:47<00:27,  2.66it/s]"
     ]
    },
    {
     "name": "stdout",
     "output_type": "stream",
     "text": [
      "\n",
      "Test set: Average loss: 2.2139, Accuracy: 476/900 (0.5289)\n",
      "\n",
      "Train Epoch: 128 [0/2100 (0%)]\tLoss: 1.613484\n"
     ]
    },
    {
     "name": "stderr",
     "output_type": "stream",
     "text": [
      "Training Epochs:  64%|██████▍   | 128/200 [00:47<00:27,  2.62it/s]"
     ]
    },
    {
     "name": "stdout",
     "output_type": "stream",
     "text": [
      "\n",
      "Test set: Average loss: 2.2074, Accuracy: 474/900 (0.5267)\n",
      "\n",
      "Train Epoch: 129 [0/2100 (0%)]\tLoss: 1.565669\n"
     ]
    },
    {
     "name": "stderr",
     "output_type": "stream",
     "text": [
      "Training Epochs:  64%|██████▍   | 129/200 [00:48<00:27,  2.62it/s]"
     ]
    },
    {
     "name": "stdout",
     "output_type": "stream",
     "text": [
      "\n",
      "Test set: Average loss: 2.2034, Accuracy: 475/900 (0.5278)\n",
      "\n",
      "Train Epoch: 130 [0/2100 (0%)]\tLoss: 1.548067\n"
     ]
    },
    {
     "name": "stderr",
     "output_type": "stream",
     "text": [
      "Training Epochs:  65%|██████▌   | 130/200 [00:48<00:27,  2.56it/s]"
     ]
    },
    {
     "name": "stdout",
     "output_type": "stream",
     "text": [
      "\n",
      "Test set: Average loss: 2.1972, Accuracy: 481/900 (0.5344)\n",
      "\n",
      "Train Epoch: 131 [0/2100 (0%)]\tLoss: 1.553375\n"
     ]
    },
    {
     "name": "stderr",
     "output_type": "stream",
     "text": [
      "Training Epochs:  66%|██████▌   | 131/200 [00:48<00:26,  2.60it/s]"
     ]
    },
    {
     "name": "stdout",
     "output_type": "stream",
     "text": [
      "\n",
      "Test set: Average loss: 2.1927, Accuracy: 476/900 (0.5289)\n",
      "\n",
      "Train Epoch: 132 [0/2100 (0%)]\tLoss: 1.544175\n"
     ]
    },
    {
     "name": "stderr",
     "output_type": "stream",
     "text": [
      "Training Epochs:  66%|██████▌   | 132/200 [00:49<00:26,  2.60it/s]"
     ]
    },
    {
     "name": "stdout",
     "output_type": "stream",
     "text": [
      "\n",
      "Test set: Average loss: 2.1889, Accuracy: 475/900 (0.5278)\n",
      "\n",
      "Train Epoch: 133 [0/2100 (0%)]\tLoss: 1.529644\n"
     ]
    },
    {
     "name": "stderr",
     "output_type": "stream",
     "text": [
      "Training Epochs:  66%|██████▋   | 133/200 [00:49<00:26,  2.55it/s]"
     ]
    },
    {
     "name": "stdout",
     "output_type": "stream",
     "text": [
      "\n",
      "Test set: Average loss: 2.1842, Accuracy: 481/900 (0.5344)\n",
      "\n",
      "Train Epoch: 134 [0/2100 (0%)]\tLoss: 1.514006\n"
     ]
    },
    {
     "name": "stderr",
     "output_type": "stream",
     "text": [
      "Training Epochs:  67%|██████▋   | 134/200 [00:50<00:25,  2.59it/s]"
     ]
    },
    {
     "name": "stdout",
     "output_type": "stream",
     "text": [
      "\n",
      "Test set: Average loss: 2.1784, Accuracy: 473/900 (0.5256)\n",
      "\n",
      "Train Epoch: 135 [0/2100 (0%)]\tLoss: 1.497556\n"
     ]
    },
    {
     "name": "stderr",
     "output_type": "stream",
     "text": [
      "Training Epochs:  68%|██████▊   | 135/200 [00:50<00:25,  2.56it/s]"
     ]
    },
    {
     "name": "stdout",
     "output_type": "stream",
     "text": [
      "\n",
      "Test set: Average loss: 2.1760, Accuracy: 474/900 (0.5267)\n",
      "\n",
      "Train Epoch: 136 [0/2100 (0%)]\tLoss: 1.503914\n"
     ]
    },
    {
     "name": "stderr",
     "output_type": "stream",
     "text": [
      "Training Epochs:  68%|██████▊   | 136/200 [00:50<00:24,  2.61it/s]"
     ]
    },
    {
     "name": "stdout",
     "output_type": "stream",
     "text": [
      "\n",
      "Test set: Average loss: 2.1716, Accuracy: 482/900 (0.5356)\n",
      "\n",
      "Train Epoch: 137 [0/2100 (0%)]\tLoss: 1.542197\n"
     ]
    },
    {
     "name": "stderr",
     "output_type": "stream",
     "text": [
      "Training Epochs:  68%|██████▊   | 137/200 [00:51<00:24,  2.61it/s]"
     ]
    },
    {
     "name": "stdout",
     "output_type": "stream",
     "text": [
      "\n",
      "Test set: Average loss: 2.1684, Accuracy: 478/900 (0.5311)\n",
      "\n",
      "Train Epoch: 138 [0/2100 (0%)]\tLoss: 1.521573\n"
     ]
    },
    {
     "name": "stderr",
     "output_type": "stream",
     "text": [
      "Training Epochs:  69%|██████▉   | 138/200 [00:51<00:23,  2.65it/s]"
     ]
    },
    {
     "name": "stdout",
     "output_type": "stream",
     "text": [
      "\n",
      "Test set: Average loss: 2.1619, Accuracy: 477/900 (0.5300)\n",
      "\n",
      "Train Epoch: 139 [0/2100 (0%)]\tLoss: 1.542574\n"
     ]
    },
    {
     "name": "stderr",
     "output_type": "stream",
     "text": [
      "Training Epochs:  70%|██████▉   | 139/200 [00:51<00:22,  2.67it/s]"
     ]
    },
    {
     "name": "stdout",
     "output_type": "stream",
     "text": [
      "\n",
      "Test set: Average loss: 2.1580, Accuracy: 483/900 (0.5367)\n",
      "\n",
      "Train Epoch: 140 [0/2100 (0%)]\tLoss: 1.549508\n"
     ]
    },
    {
     "name": "stderr",
     "output_type": "stream",
     "text": [
      "Training Epochs:  70%|███████   | 140/200 [00:52<00:22,  2.68it/s]"
     ]
    },
    {
     "name": "stdout",
     "output_type": "stream",
     "text": [
      "\n",
      "Test set: Average loss: 2.1536, Accuracy: 475/900 (0.5278)\n",
      "\n",
      "Train Epoch: 141 [0/2100 (0%)]\tLoss: 1.476660\n"
     ]
    },
    {
     "name": "stderr",
     "output_type": "stream",
     "text": [
      "Training Epochs:  70%|███████   | 141/200 [00:52<00:21,  2.73it/s]"
     ]
    },
    {
     "name": "stdout",
     "output_type": "stream",
     "text": [
      "\n",
      "Test set: Average loss: 2.1508, Accuracy: 478/900 (0.5311)\n",
      "\n",
      "Train Epoch: 142 [0/2100 (0%)]\tLoss: 1.497575\n"
     ]
    },
    {
     "name": "stderr",
     "output_type": "stream",
     "text": [
      "Training Epochs:  71%|███████   | 142/200 [00:53<00:20,  2.77it/s]"
     ]
    },
    {
     "name": "stdout",
     "output_type": "stream",
     "text": [
      "\n",
      "Test set: Average loss: 2.1457, Accuracy: 485/900 (0.5389)\n",
      "\n",
      "Train Epoch: 143 [0/2100 (0%)]\tLoss: 1.487263\n"
     ]
    },
    {
     "name": "stderr",
     "output_type": "stream",
     "text": [
      "Training Epochs:  72%|███████▏  | 143/200 [00:53<00:21,  2.68it/s]"
     ]
    },
    {
     "name": "stdout",
     "output_type": "stream",
     "text": [
      "\n",
      "Test set: Average loss: 2.1435, Accuracy: 482/900 (0.5356)\n",
      "\n",
      "Train Epoch: 144 [0/2100 (0%)]\tLoss: 1.463047\n"
     ]
    },
    {
     "name": "stderr",
     "output_type": "stream",
     "text": [
      "Training Epochs:  72%|███████▏  | 144/200 [00:53<00:20,  2.67it/s]"
     ]
    },
    {
     "name": "stdout",
     "output_type": "stream",
     "text": [
      "\n",
      "Test set: Average loss: 2.1388, Accuracy: 482/900 (0.5356)\n",
      "\n",
      "Train Epoch: 145 [0/2100 (0%)]\tLoss: 1.496064\n"
     ]
    },
    {
     "name": "stderr",
     "output_type": "stream",
     "text": [
      "Training Epochs:  72%|███████▎  | 145/200 [00:54<00:20,  2.70it/s]"
     ]
    },
    {
     "name": "stdout",
     "output_type": "stream",
     "text": [
      "\n",
      "Test set: Average loss: 2.1338, Accuracy: 483/900 (0.5367)\n",
      "\n",
      "Train Epoch: 146 [0/2100 (0%)]\tLoss: 1.472479\n"
     ]
    },
    {
     "name": "stderr",
     "output_type": "stream",
     "text": [
      "Training Epochs:  73%|███████▎  | 146/200 [00:54<00:20,  2.69it/s]"
     ]
    },
    {
     "name": "stdout",
     "output_type": "stream",
     "text": [
      "\n",
      "Test set: Average loss: 2.1301, Accuracy: 485/900 (0.5389)\n",
      "\n",
      "Train Epoch: 147 [0/2100 (0%)]\tLoss: 1.433787\n"
     ]
    },
    {
     "name": "stderr",
     "output_type": "stream",
     "text": [
      "Training Epochs:  74%|███████▎  | 147/200 [00:54<00:19,  2.68it/s]"
     ]
    },
    {
     "name": "stdout",
     "output_type": "stream",
     "text": [
      "\n",
      "Test set: Average loss: 2.1257, Accuracy: 480/900 (0.5333)\n",
      "\n",
      "Train Epoch: 148 [0/2100 (0%)]\tLoss: 1.447523\n"
     ]
    },
    {
     "name": "stderr",
     "output_type": "stream",
     "text": [
      "Training Epochs:  74%|███████▍  | 148/200 [00:55<00:19,  2.72it/s]"
     ]
    },
    {
     "name": "stdout",
     "output_type": "stream",
     "text": [
      "\n",
      "Test set: Average loss: 2.1218, Accuracy: 486/900 (0.5400)\n",
      "\n",
      "Train Epoch: 149 [0/2100 (0%)]\tLoss: 1.434817\n"
     ]
    },
    {
     "name": "stderr",
     "output_type": "stream",
     "text": [
      "Training Epochs:  74%|███████▍  | 149/200 [00:55<00:19,  2.58it/s]"
     ]
    },
    {
     "name": "stdout",
     "output_type": "stream",
     "text": [
      "\n",
      "Test set: Average loss: 2.1157, Accuracy: 483/900 (0.5367)\n",
      "\n",
      "Train Epoch: 150 [0/2100 (0%)]\tLoss: 1.420570\n"
     ]
    },
    {
     "name": "stderr",
     "output_type": "stream",
     "text": [
      "Training Epochs:  75%|███████▌  | 150/200 [00:56<00:19,  2.63it/s]"
     ]
    },
    {
     "name": "stdout",
     "output_type": "stream",
     "text": [
      "\n",
      "Test set: Average loss: 2.1120, Accuracy: 481/900 (0.5344)\n",
      "\n",
      "Train Epoch: 151 [0/2100 (0%)]\tLoss: 1.411590\n"
     ]
    },
    {
     "name": "stderr",
     "output_type": "stream",
     "text": [
      "Training Epochs:  76%|███████▌  | 151/200 [00:56<00:18,  2.66it/s]"
     ]
    },
    {
     "name": "stdout",
     "output_type": "stream",
     "text": [
      "\n",
      "Test set: Average loss: 2.1117, Accuracy: 482/900 (0.5356)\n",
      "\n",
      "Train Epoch: 152 [0/2100 (0%)]\tLoss: 1.405080\n"
     ]
    },
    {
     "name": "stderr",
     "output_type": "stream",
     "text": [
      "Training Epochs:  76%|███████▌  | 152/200 [00:56<00:17,  2.68it/s]"
     ]
    },
    {
     "name": "stdout",
     "output_type": "stream",
     "text": [
      "\n",
      "Test set: Average loss: 2.1058, Accuracy: 481/900 (0.5344)\n",
      "\n",
      "Train Epoch: 153 [0/2100 (0%)]\tLoss: 1.423413\n"
     ]
    },
    {
     "name": "stderr",
     "output_type": "stream",
     "text": [
      "Training Epochs:  76%|███████▋  | 153/200 [00:57<00:17,  2.74it/s]"
     ]
    },
    {
     "name": "stdout",
     "output_type": "stream",
     "text": [
      "\n",
      "Test set: Average loss: 2.1025, Accuracy: 488/900 (0.5422)\n",
      "\n",
      "Train Epoch: 154 [0/2100 (0%)]\tLoss: 1.408574\n"
     ]
    },
    {
     "name": "stderr",
     "output_type": "stream",
     "text": [
      "Training Epochs:  77%|███████▋  | 154/200 [00:57<00:16,  2.74it/s]"
     ]
    },
    {
     "name": "stdout",
     "output_type": "stream",
     "text": [
      "\n",
      "Test set: Average loss: 2.0984, Accuracy: 484/900 (0.5378)\n",
      "\n",
      "Train Epoch: 155 [0/2100 (0%)]\tLoss: 1.412588\n"
     ]
    },
    {
     "name": "stderr",
     "output_type": "stream",
     "text": [
      "Training Epochs:  78%|███████▊  | 155/200 [00:57<00:16,  2.78it/s]"
     ]
    },
    {
     "name": "stdout",
     "output_type": "stream",
     "text": [
      "\n",
      "Test set: Average loss: 2.0946, Accuracy: 483/900 (0.5367)\n",
      "\n",
      "Train Epoch: 156 [0/2100 (0%)]\tLoss: 1.409620\n"
     ]
    },
    {
     "name": "stderr",
     "output_type": "stream",
     "text": [
      "Training Epochs:  78%|███████▊  | 156/200 [00:58<00:16,  2.74it/s]"
     ]
    },
    {
     "name": "stdout",
     "output_type": "stream",
     "text": [
      "\n",
      "Test set: Average loss: 2.0910, Accuracy: 483/900 (0.5367)\n",
      "\n",
      "Train Epoch: 157 [0/2100 (0%)]\tLoss: 1.384035\n"
     ]
    },
    {
     "name": "stderr",
     "output_type": "stream",
     "text": [
      "Training Epochs:  78%|███████▊  | 157/200 [00:58<00:15,  2.83it/s]"
     ]
    },
    {
     "name": "stdout",
     "output_type": "stream",
     "text": [
      "\n",
      "Test set: Average loss: 2.0885, Accuracy: 487/900 (0.5411)\n",
      "\n",
      "Train Epoch: 158 [0/2100 (0%)]\tLoss: 1.359606\n"
     ]
    },
    {
     "name": "stderr",
     "output_type": "stream",
     "text": [
      "Training Epochs:  79%|███████▉  | 158/200 [00:58<00:14,  2.89it/s]"
     ]
    },
    {
     "name": "stdout",
     "output_type": "stream",
     "text": [
      "\n",
      "Test set: Average loss: 2.0852, Accuracy: 482/900 (0.5356)\n",
      "\n",
      "Train Epoch: 159 [0/2100 (0%)]\tLoss: 1.404254\n"
     ]
    },
    {
     "name": "stderr",
     "output_type": "stream",
     "text": [
      "Training Epochs:  80%|███████▉  | 159/200 [00:59<00:14,  2.89it/s]"
     ]
    },
    {
     "name": "stdout",
     "output_type": "stream",
     "text": [
      "\n",
      "Test set: Average loss: 2.0811, Accuracy: 484/900 (0.5378)\n",
      "\n",
      "Train Epoch: 160 [0/2100 (0%)]\tLoss: 1.348534\n"
     ]
    },
    {
     "name": "stderr",
     "output_type": "stream",
     "text": [
      "Training Epochs:  80%|████████  | 160/200 [00:59<00:14,  2.74it/s]"
     ]
    },
    {
     "name": "stdout",
     "output_type": "stream",
     "text": [
      "\n",
      "Test set: Average loss: 2.0785, Accuracy: 483/900 (0.5367)\n",
      "\n",
      "Train Epoch: 161 [0/2100 (0%)]\tLoss: 1.357968\n"
     ]
    },
    {
     "name": "stderr",
     "output_type": "stream",
     "text": [
      "Training Epochs:  80%|████████  | 161/200 [01:00<00:14,  2.63it/s]"
     ]
    },
    {
     "name": "stdout",
     "output_type": "stream",
     "text": [
      "\n",
      "Test set: Average loss: 2.0751, Accuracy: 480/900 (0.5333)\n",
      "\n",
      "Train Epoch: 162 [0/2100 (0%)]\tLoss: 1.347397\n"
     ]
    },
    {
     "name": "stderr",
     "output_type": "stream",
     "text": [
      "Training Epochs:  81%|████████  | 162/200 [01:00<00:14,  2.71it/s]"
     ]
    },
    {
     "name": "stdout",
     "output_type": "stream",
     "text": [
      "\n",
      "Test set: Average loss: 2.0718, Accuracy: 484/900 (0.5378)\n",
      "\n",
      "Train Epoch: 163 [0/2100 (0%)]\tLoss: 1.350634\n"
     ]
    },
    {
     "name": "stderr",
     "output_type": "stream",
     "text": [
      "Training Epochs:  82%|████████▏ | 163/200 [01:00<00:13,  2.79it/s]"
     ]
    },
    {
     "name": "stdout",
     "output_type": "stream",
     "text": [
      "\n",
      "Test set: Average loss: 2.0694, Accuracy: 483/900 (0.5367)\n",
      "\n",
      "Train Epoch: 164 [0/2100 (0%)]\tLoss: 1.330404\n"
     ]
    },
    {
     "name": "stderr",
     "output_type": "stream",
     "text": [
      "Training Epochs:  82%|████████▏ | 164/200 [01:01<00:12,  2.85it/s]"
     ]
    },
    {
     "name": "stdout",
     "output_type": "stream",
     "text": [
      "\n",
      "Test set: Average loss: 2.0632, Accuracy: 481/900 (0.5344)\n",
      "\n",
      "Train Epoch: 165 [0/2100 (0%)]\tLoss: 1.311611\n"
     ]
    },
    {
     "name": "stderr",
     "output_type": "stream",
     "text": [
      "Training Epochs:  82%|████████▎ | 165/200 [01:01<00:12,  2.78it/s]"
     ]
    },
    {
     "name": "stdout",
     "output_type": "stream",
     "text": [
      "\n",
      "Test set: Average loss: 2.0619, Accuracy: 482/900 (0.5356)\n",
      "\n",
      "Train Epoch: 166 [0/2100 (0%)]\tLoss: 1.304529\n"
     ]
    },
    {
     "name": "stderr",
     "output_type": "stream",
     "text": [
      "Training Epochs:  83%|████████▎ | 166/200 [01:01<00:12,  2.76it/s]"
     ]
    },
    {
     "name": "stdout",
     "output_type": "stream",
     "text": [
      "\n",
      "Test set: Average loss: 2.0604, Accuracy: 481/900 (0.5344)\n",
      "\n",
      "Train Epoch: 167 [0/2100 (0%)]\tLoss: 1.308198\n"
     ]
    },
    {
     "name": "stderr",
     "output_type": "stream",
     "text": [
      "Training Epochs:  84%|████████▎ | 167/200 [01:02<00:12,  2.69it/s]"
     ]
    },
    {
     "name": "stdout",
     "output_type": "stream",
     "text": [
      "\n",
      "Test set: Average loss: 2.0551, Accuracy: 482/900 (0.5356)\n",
      "\n",
      "Train Epoch: 168 [0/2100 (0%)]\tLoss: 1.303792\n"
     ]
    },
    {
     "name": "stderr",
     "output_type": "stream",
     "text": [
      "Training Epochs:  84%|████████▍ | 168/200 [01:02<00:11,  2.76it/s]"
     ]
    },
    {
     "name": "stdout",
     "output_type": "stream",
     "text": [
      "\n",
      "Test set: Average loss: 2.0527, Accuracy: 485/900 (0.5389)\n",
      "\n",
      "Train Epoch: 169 [0/2100 (0%)]\tLoss: 1.327481\n"
     ]
    },
    {
     "name": "stderr",
     "output_type": "stream",
     "text": [
      "Training Epochs:  84%|████████▍ | 169/200 [01:02<00:11,  2.82it/s]"
     ]
    },
    {
     "name": "stdout",
     "output_type": "stream",
     "text": [
      "\n",
      "Test set: Average loss: 2.0535, Accuracy: 485/900 (0.5389)\n",
      "\n",
      "Train Epoch: 170 [0/2100 (0%)]\tLoss: 1.291661\n"
     ]
    },
    {
     "name": "stderr",
     "output_type": "stream",
     "text": [
      "Training Epochs:  85%|████████▌ | 170/200 [01:03<00:12,  2.31it/s]"
     ]
    },
    {
     "name": "stdout",
     "output_type": "stream",
     "text": [
      "\n",
      "Test set: Average loss: 2.0484, Accuracy: 489/900 (0.5433)\n",
      "\n",
      "Train Epoch: 171 [0/2100 (0%)]\tLoss: 1.265474\n"
     ]
    },
    {
     "name": "stderr",
     "output_type": "stream",
     "text": [
      "Training Epochs:  86%|████████▌ | 171/200 [01:03<00:11,  2.46it/s]"
     ]
    },
    {
     "name": "stdout",
     "output_type": "stream",
     "text": [
      "\n",
      "Test set: Average loss: 2.0424, Accuracy: 484/900 (0.5378)\n",
      "\n",
      "Train Epoch: 172 [0/2100 (0%)]\tLoss: 1.311323\n"
     ]
    },
    {
     "name": "stderr",
     "output_type": "stream",
     "text": [
      "Training Epochs:  86%|████████▌ | 172/200 [01:04<00:11,  2.53it/s]"
     ]
    },
    {
     "name": "stdout",
     "output_type": "stream",
     "text": [
      "\n",
      "Test set: Average loss: 2.0416, Accuracy: 482/900 (0.5356)\n",
      "\n",
      "Train Epoch: 173 [0/2100 (0%)]\tLoss: 1.261963\n"
     ]
    },
    {
     "name": "stderr",
     "output_type": "stream",
     "text": [
      "Training Epochs:  86%|████████▋ | 173/200 [01:04<00:10,  2.60it/s]"
     ]
    },
    {
     "name": "stdout",
     "output_type": "stream",
     "text": [
      "\n",
      "Test set: Average loss: 2.0386, Accuracy: 479/900 (0.5322)\n",
      "\n",
      "Train Epoch: 174 [0/2100 (0%)]\tLoss: 1.289275\n"
     ]
    },
    {
     "name": "stderr",
     "output_type": "stream",
     "text": [
      "Training Epochs:  87%|████████▋ | 174/200 [01:04<00:09,  2.69it/s]"
     ]
    },
    {
     "name": "stdout",
     "output_type": "stream",
     "text": [
      "\n",
      "Test set: Average loss: 2.0349, Accuracy: 481/900 (0.5344)\n",
      "\n",
      "Train Epoch: 175 [0/2100 (0%)]\tLoss: 1.269122\n"
     ]
    },
    {
     "name": "stderr",
     "output_type": "stream",
     "text": [
      "Training Epochs:  88%|████████▊ | 175/200 [01:05<00:09,  2.76it/s]"
     ]
    },
    {
     "name": "stdout",
     "output_type": "stream",
     "text": [
      "\n",
      "Test set: Average loss: 2.0325, Accuracy: 488/900 (0.5422)\n",
      "\n",
      "Train Epoch: 176 [0/2100 (0%)]\tLoss: 1.252942\n"
     ]
    },
    {
     "name": "stderr",
     "output_type": "stream",
     "text": [
      "Training Epochs:  88%|████████▊ | 176/200 [01:05<00:08,  2.80it/s]"
     ]
    },
    {
     "name": "stdout",
     "output_type": "stream",
     "text": [
      "\n",
      "Test set: Average loss: 2.0314, Accuracy: 484/900 (0.5378)\n",
      "\n",
      "Train Epoch: 177 [0/2100 (0%)]\tLoss: 1.243999\n"
     ]
    },
    {
     "name": "stderr",
     "output_type": "stream",
     "text": [
      "Training Epochs:  88%|████████▊ | 177/200 [01:05<00:08,  2.83it/s]"
     ]
    },
    {
     "name": "stdout",
     "output_type": "stream",
     "text": [
      "\n",
      "Test set: Average loss: 2.0251, Accuracy: 484/900 (0.5378)\n",
      "\n",
      "Train Epoch: 178 [0/2100 (0%)]\tLoss: 1.231453\n"
     ]
    },
    {
     "name": "stderr",
     "output_type": "stream",
     "text": [
      "Training Epochs:  89%|████████▉ | 178/200 [01:06<00:07,  2.82it/s]"
     ]
    },
    {
     "name": "stdout",
     "output_type": "stream",
     "text": [
      "\n",
      "Test set: Average loss: 2.0228, Accuracy: 486/900 (0.5400)\n",
      "\n",
      "Train Epoch: 179 [0/2100 (0%)]\tLoss: 1.235603\n"
     ]
    },
    {
     "name": "stderr",
     "output_type": "stream",
     "text": [
      "Training Epochs:  90%|████████▉ | 179/200 [01:06<00:07,  2.84it/s]"
     ]
    },
    {
     "name": "stdout",
     "output_type": "stream",
     "text": [
      "\n",
      "Test set: Average loss: 2.0215, Accuracy: 487/900 (0.5411)\n",
      "\n",
      "Train Epoch: 180 [0/2100 (0%)]\tLoss: 1.255764\n"
     ]
    },
    {
     "name": "stderr",
     "output_type": "stream",
     "text": [
      "Training Epochs:  90%|█████████ | 180/200 [01:07<00:06,  2.88it/s]"
     ]
    },
    {
     "name": "stdout",
     "output_type": "stream",
     "text": [
      "\n",
      "Test set: Average loss: 2.0185, Accuracy: 488/900 (0.5422)\n",
      "\n",
      "Train Epoch: 181 [0/2100 (0%)]\tLoss: 1.270614\n"
     ]
    },
    {
     "name": "stderr",
     "output_type": "stream",
     "text": [
      "Training Epochs:  90%|█████████ | 181/200 [01:07<00:06,  2.91it/s]"
     ]
    },
    {
     "name": "stdout",
     "output_type": "stream",
     "text": [
      "\n",
      "Test set: Average loss: 2.0137, Accuracy: 487/900 (0.5411)\n",
      "\n",
      "Train Epoch: 182 [0/2100 (0%)]\tLoss: 1.209880\n"
     ]
    },
    {
     "name": "stderr",
     "output_type": "stream",
     "text": [
      "Training Epochs:  91%|█████████ | 182/200 [01:07<00:06,  2.81it/s]"
     ]
    },
    {
     "name": "stdout",
     "output_type": "stream",
     "text": [
      "\n",
      "Test set: Average loss: 2.0147, Accuracy: 492/900 (0.5467)\n",
      "\n",
      "Train Epoch: 183 [0/2100 (0%)]\tLoss: 1.242590\n"
     ]
    },
    {
     "name": "stderr",
     "output_type": "stream",
     "text": [
      "Training Epochs:  92%|█████████▏| 183/200 [01:08<00:06,  2.82it/s]"
     ]
    },
    {
     "name": "stdout",
     "output_type": "stream",
     "text": [
      "\n",
      "Test set: Average loss: 2.0117, Accuracy: 485/900 (0.5389)\n",
      "\n",
      "Train Epoch: 184 [0/2100 (0%)]\tLoss: 1.241332\n"
     ]
    },
    {
     "name": "stderr",
     "output_type": "stream",
     "text": [
      "Training Epochs:  92%|█████████▏| 184/200 [01:08<00:05,  2.88it/s]"
     ]
    },
    {
     "name": "stdout",
     "output_type": "stream",
     "text": [
      "\n",
      "Test set: Average loss: 2.0062, Accuracy: 486/900 (0.5400)\n",
      "\n",
      "Train Epoch: 185 [0/2100 (0%)]\tLoss: 1.223177\n"
     ]
    },
    {
     "name": "stderr",
     "output_type": "stream",
     "text": [
      "Training Epochs:  92%|█████████▎| 185/200 [01:08<00:05,  2.82it/s]"
     ]
    },
    {
     "name": "stdout",
     "output_type": "stream",
     "text": [
      "\n",
      "Test set: Average loss: 2.0057, Accuracy: 492/900 (0.5467)\n",
      "\n",
      "Train Epoch: 186 [0/2100 (0%)]\tLoss: 1.222122\n"
     ]
    },
    {
     "name": "stderr",
     "output_type": "stream",
     "text": [
      "Training Epochs:  93%|█████████▎| 186/200 [01:09<00:05,  2.79it/s]"
     ]
    },
    {
     "name": "stdout",
     "output_type": "stream",
     "text": [
      "\n",
      "Test set: Average loss: 2.0041, Accuracy: 485/900 (0.5389)\n",
      "\n",
      "Train Epoch: 187 [0/2100 (0%)]\tLoss: 1.236045\n"
     ]
    },
    {
     "name": "stderr",
     "output_type": "stream",
     "text": [
      "Training Epochs:  94%|█████████▎| 187/200 [01:09<00:04,  2.68it/s]"
     ]
    },
    {
     "name": "stdout",
     "output_type": "stream",
     "text": [
      "\n",
      "Test set: Average loss: 1.9998, Accuracy: 493/900 (0.5478)\n",
      "\n",
      "Train Epoch: 188 [0/2100 (0%)]\tLoss: 1.239777\n"
     ]
    },
    {
     "name": "stderr",
     "output_type": "stream",
     "text": [
      "Training Epochs:  94%|█████████▍| 188/200 [01:09<00:04,  2.67it/s]"
     ]
    },
    {
     "name": "stdout",
     "output_type": "stream",
     "text": [
      "\n",
      "Test set: Average loss: 1.9982, Accuracy: 484/900 (0.5378)\n",
      "\n",
      "Train Epoch: 189 [0/2100 (0%)]\tLoss: 1.184292\n"
     ]
    },
    {
     "name": "stderr",
     "output_type": "stream",
     "text": [
      "Training Epochs:  94%|█████████▍| 189/200 [01:10<00:04,  2.63it/s]"
     ]
    },
    {
     "name": "stdout",
     "output_type": "stream",
     "text": [
      "\n",
      "Test set: Average loss: 1.9965, Accuracy: 489/900 (0.5433)\n",
      "\n",
      "Train Epoch: 190 [0/2100 (0%)]\tLoss: 1.214212\n"
     ]
    },
    {
     "name": "stderr",
     "output_type": "stream",
     "text": [
      "Training Epochs:  95%|█████████▌| 190/200 [01:10<00:03,  2.63it/s]"
     ]
    },
    {
     "name": "stdout",
     "output_type": "stream",
     "text": [
      "\n",
      "Test set: Average loss: 1.9950, Accuracy: 489/900 (0.5433)\n",
      "\n",
      "Train Epoch: 191 [0/2100 (0%)]\tLoss: 1.180805\n"
     ]
    },
    {
     "name": "stderr",
     "output_type": "stream",
     "text": [
      "Training Epochs:  96%|█████████▌| 191/200 [01:11<00:03,  2.70it/s]"
     ]
    },
    {
     "name": "stdout",
     "output_type": "stream",
     "text": [
      "\n",
      "Test set: Average loss: 1.9942, Accuracy: 487/900 (0.5411)\n",
      "\n",
      "Train Epoch: 192 [0/2100 (0%)]\tLoss: 1.190107\n"
     ]
    },
    {
     "name": "stderr",
     "output_type": "stream",
     "text": [
      "Training Epochs:  96%|█████████▌| 192/200 [01:11<00:02,  2.70it/s]"
     ]
    },
    {
     "name": "stdout",
     "output_type": "stream",
     "text": [
      "\n",
      "Test set: Average loss: 1.9891, Accuracy: 496/900 (0.5511)\n",
      "\n",
      "Train Epoch: 193 [0/2100 (0%)]\tLoss: 1.173222\n"
     ]
    },
    {
     "name": "stderr",
     "output_type": "stream",
     "text": [
      "Training Epochs:  96%|█████████▋| 193/200 [01:11<00:02,  2.76it/s]"
     ]
    },
    {
     "name": "stdout",
     "output_type": "stream",
     "text": [
      "\n",
      "Test set: Average loss: 1.9850, Accuracy: 490/900 (0.5444)\n",
      "\n",
      "Train Epoch: 194 [0/2100 (0%)]\tLoss: 1.148165\n"
     ]
    },
    {
     "name": "stderr",
     "output_type": "stream",
     "text": [
      "Training Epochs:  97%|█████████▋| 194/200 [01:12<00:02,  2.85it/s]"
     ]
    },
    {
     "name": "stdout",
     "output_type": "stream",
     "text": [
      "\n",
      "Test set: Average loss: 1.9841, Accuracy: 492/900 (0.5467)\n",
      "\n",
      "Train Epoch: 195 [0/2100 (0%)]\tLoss: 1.200338\n"
     ]
    },
    {
     "name": "stderr",
     "output_type": "stream",
     "text": [
      "Training Epochs:  98%|█████████▊| 195/200 [01:12<00:01,  2.79it/s]"
     ]
    },
    {
     "name": "stdout",
     "output_type": "stream",
     "text": [
      "\n",
      "Test set: Average loss: 1.9824, Accuracy: 491/900 (0.5456)\n",
      "\n",
      "Train Epoch: 196 [0/2100 (0%)]\tLoss: 1.179360\n"
     ]
    },
    {
     "name": "stderr",
     "output_type": "stream",
     "text": [
      "Training Epochs:  98%|█████████▊| 196/200 [01:12<00:01,  2.75it/s]"
     ]
    },
    {
     "name": "stdout",
     "output_type": "stream",
     "text": [
      "\n",
      "Test set: Average loss: 1.9782, Accuracy: 493/900 (0.5478)\n",
      "\n",
      "Train Epoch: 197 [0/2100 (0%)]\tLoss: 1.174148\n"
     ]
    },
    {
     "name": "stderr",
     "output_type": "stream",
     "text": [
      "Training Epochs:  98%|█████████▊| 197/200 [01:13<00:01,  2.73it/s]"
     ]
    },
    {
     "name": "stdout",
     "output_type": "stream",
     "text": [
      "\n",
      "Test set: Average loss: 1.9755, Accuracy: 496/900 (0.5511)\n",
      "\n",
      "Train Epoch: 198 [0/2100 (0%)]\tLoss: 1.136026\n"
     ]
    },
    {
     "name": "stderr",
     "output_type": "stream",
     "text": [
      "Training Epochs:  99%|█████████▉| 198/200 [01:13<00:00,  2.72it/s]"
     ]
    },
    {
     "name": "stdout",
     "output_type": "stream",
     "text": [
      "\n",
      "Test set: Average loss: 1.9746, Accuracy: 491/900 (0.5456)\n",
      "\n",
      "Train Epoch: 199 [0/2100 (0%)]\tLoss: 1.148358\n"
     ]
    },
    {
     "name": "stderr",
     "output_type": "stream",
     "text": [
      "Training Epochs: 100%|█████████▉| 199/200 [01:13<00:00,  2.72it/s]"
     ]
    },
    {
     "name": "stdout",
     "output_type": "stream",
     "text": [
      "\n",
      "Test set: Average loss: 1.9704, Accuracy: 476/900 (0.5289)\n",
      "\n",
      "Train Epoch: 200 [0/2100 (0%)]\tLoss: 1.113663\n"
     ]
    },
    {
     "name": "stderr",
     "output_type": "stream",
     "text": [
      "Training Epochs: 100%|██████████| 200/200 [01:14<00:00,  2.69it/s]"
     ]
    },
    {
     "name": "stdout",
     "output_type": "stream",
     "text": [
      "\n",
      "Test set: Average loss: 1.9694, Accuracy: 474/900 (0.5267)\n",
      "\n"
     ]
    },
    {
     "name": "stderr",
     "output_type": "stream",
     "text": [
      "\n"
     ]
    }
   ],
   "source": [
    "#{'n_tree': 15, 'tree_depth': 10, 'batch_size': 256}\n",
    "\n",
    "sys.argv = [\n",
    "    'train.py',\n",
    "    '-dataset', f'gtd{partition}',\n",
    "    '-n_class', '30',\n",
    "    '-gpuid', '0',\n",
    "    '-n_tree', '15',\n",
    "    '-tree_depth', '10',\n",
    "    '-batch_size', '256',\n",
    "    '-epochs', '200',\n",
    "    '-jointly_training'\n",
    "]\n",
    "\n",
    "preds, targets, labels, epoch_logs = main()\n"
   ]
  },
  {
   "cell_type": "code",
   "execution_count": 5,
   "metadata": {},
   "outputs": [
    {
     "name": "stdout",
     "output_type": "stream",
     "text": [
      "              precision    recall  f1-score   support\n",
      "\n",
      "           0       0.45      0.73      0.56        30\n",
      "           1       0.62      0.87      0.72        30\n",
      "           2       0.67      0.60      0.63        30\n",
      "           3       0.41      0.60      0.49        30\n",
      "           4       0.73      0.53      0.62        30\n",
      "           5       0.80      0.80      0.80        30\n",
      "           6       0.40      0.47      0.43        30\n",
      "           7       0.34      0.37      0.35        30\n",
      "           8       1.00      0.80      0.89        30\n",
      "           9       1.00      0.70      0.82        30\n",
      "          10       0.57      0.90      0.70        30\n",
      "          11       0.54      0.67      0.60        30\n",
      "          12       0.50      0.50      0.50        30\n",
      "          13       0.80      0.67      0.73        30\n",
      "          14       0.48      0.43      0.46        30\n",
      "          15       0.11      0.17      0.13        30\n",
      "          16       0.40      0.67      0.50        30\n",
      "          17       1.00      0.83      0.91        30\n",
      "          18       0.58      0.37      0.45        30\n",
      "          19       0.53      0.27      0.36        30\n",
      "          20       0.69      0.73      0.71        30\n",
      "          21       0.22      0.27      0.24        30\n",
      "          22       0.57      0.13      0.22        30\n",
      "          23       0.95      0.63      0.76        30\n",
      "          24       0.36      0.53      0.43        30\n",
      "          25       0.00      0.00      0.00        30\n",
      "          26       0.47      0.57      0.52        30\n",
      "          27       0.71      0.17      0.27        30\n",
      "          28       0.61      0.73      0.67        30\n",
      "          29       0.74      0.83      0.78        30\n",
      "\n",
      "    accuracy                           0.55       900\n",
      "   macro avg       0.57      0.55      0.54       900\n",
      "weighted avg       0.57      0.55      0.54       900\n",
      "\n"
     ]
    },
    {
     "name": "stderr",
     "output_type": "stream",
     "text": [
      "/opt/conda/lib/python3.11/site-packages/sklearn/metrics/_classification.py:1517: UndefinedMetricWarning: Precision is ill-defined and being set to 0.0 in labels with no predicted samples. Use `zero_division` parameter to control this behavior.\n",
      "  _warn_prf(average, modifier, f\"{metric.capitalize()} is\", len(result))\n",
      "/opt/conda/lib/python3.11/site-packages/sklearn/metrics/_classification.py:1517: UndefinedMetricWarning: Precision is ill-defined and being set to 0.0 in labels with no predicted samples. Use `zero_division` parameter to control this behavior.\n",
      "  _warn_prf(average, modifier, f\"{metric.capitalize()} is\", len(result))\n",
      "/opt/conda/lib/python3.11/site-packages/sklearn/metrics/_classification.py:1517: UndefinedMetricWarning: Precision is ill-defined and being set to 0.0 in labels with no predicted samples. Use `zero_division` parameter to control this behavior.\n",
      "  _warn_prf(average, modifier, f\"{metric.capitalize()} is\", len(result))\n"
     ]
    }
   ],
   "source": [
    "from sklearn.metrics import classification_report\n",
    "\n",
    "print(classification_report(targets, preds))"
   ]
  },
  {
   "cell_type": "code",
   "execution_count": 6,
   "metadata": {},
   "outputs": [],
   "source": [
    "def plot_confusion_matrix(y_true, y_pred, labels, partition):\n",
    "    cm = confusion_matrix(y_true, y_pred, labels=range(len(labels)))\n",
    "    cm_normalized = cm.astype('float') / cm.sum(axis=1, keepdims=True)\n",
    "\n",
    "    plt.figure(figsize=(18, 16))\n",
    "    sns.heatmap(cm_normalized,\n",
    "                annot=True,\n",
    "                fmt=\".2f\",\n",
    "                xticklabels=labels,\n",
    "                yticklabels=labels,\n",
    "                cmap=\"viridis\",\n",
    "                square=True,\n",
    "                linewidths=0.5,\n",
    "                cbar_kws={\"shrink\": 0.8})\n",
    "\n",
    "    plt.title(f\"Normalized Confusion Matrix (Partition gtd{partition})\", fontsize=18)\n",
    "    plt.xlabel(\"Predicted Label\", fontsize=14)\n",
    "    plt.ylabel(\"True Label\", fontsize=14)\n",
    "    plt.xticks(rotation=90)\n",
    "    plt.yticks(rotation=0)\n",
    "    plt.tight_layout()\n",
    "\n",
    "    save_path = f\"results/confusion_matrix_partition_gtd{partition}.png\"\n",
    "    plt.savefig(save_path, dpi=300)\n",
    "    plt.close()\n",
    "\n",
    "    print(f\"Saved confusion matrix for partition gtd{partition} to {save_path}\")\n",
    "\n"
   ]
  },
  {
   "cell_type": "code",
   "execution_count": 7,
   "metadata": {},
   "outputs": [
    {
     "name": "stdout",
     "output_type": "stream",
     "text": [
      "Saved confusion matrix for partition gtd100 to results/confusion_matrix_partition_gtd100.png\n"
     ]
    }
   ],
   "source": [
    "plot_confusion_matrix(targets, preds, labels, partition)"
   ]
  }
 ],
 "metadata": {
  "kernelspec": {
   "display_name": "base",
   "language": "python",
   "name": "python3"
  },
  "language_info": {
   "codemirror_mode": {
    "name": "ipython",
    "version": 3
   },
   "file_extension": ".py",
   "mimetype": "text/x-python",
   "name": "python",
   "nbconvert_exporter": "python",
   "pygments_lexer": "ipython3",
   "version": "3.11.9"
  }
 },
 "nbformat": 4,
 "nbformat_minor": 2
}
