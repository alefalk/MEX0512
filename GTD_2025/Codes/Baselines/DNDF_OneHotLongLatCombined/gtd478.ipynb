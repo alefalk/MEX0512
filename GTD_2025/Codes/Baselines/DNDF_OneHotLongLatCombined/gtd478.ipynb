{
 "cells": [
  {
   "cell_type": "code",
   "execution_count": 1,
   "metadata": {},
   "outputs": [],
   "source": [
    "partition = 478"
   ]
  },
  {
   "cell_type": "code",
   "execution_count": 2,
   "metadata": {},
   "outputs": [],
   "source": [
    "import sys\n",
    "from train import main\n",
    "from itertools import product  \n",
    "from sklearn.metrics import confusion_matrix\n",
    "import seaborn as sns\n",
    "import matplotlib.pyplot as plt\n"
   ]
  },
  {
   "cell_type": "code",
   "execution_count": 3,
   "metadata": {},
   "outputs": [
    {
     "name": "stdout",
     "output_type": "stream",
     "text": [
      "\n",
      "Running: n_tree=5, tree_depth=3, batch_size=256\n",
      "Use gtd478 dataset\n"
     ]
    },
    {
     "name": "stderr",
     "output_type": "stream",
     "text": [
      "Training Epochs:  22%|██▏       | 43/200 [00:49<02:59,  1.14s/it]"
     ]
    },
    {
     "name": "stdout",
     "output_type": "stream",
     "text": [
      "Early stopping at epoch 44\n",
      "\n",
      "Running: n_tree=5, tree_depth=3, batch_size=512\n",
      "Use gtd478 dataset\n"
     ]
    },
    {
     "name": "stderr",
     "output_type": "stream",
     "text": [
      "\n",
      "Training Epochs:  37%|███▋      | 74/200 [01:16<02:10,  1.03s/it]"
     ]
    },
    {
     "name": "stdout",
     "output_type": "stream",
     "text": [
      "Early stopping at epoch 75\n",
      "\n",
      "Running: n_tree=5, tree_depth=3, batch_size=1000\n",
      "Use gtd478 dataset\n"
     ]
    },
    {
     "name": "stderr",
     "output_type": "stream",
     "text": [
      "\n",
      "Training Epochs:  39%|███▉      | 78/200 [01:17<02:01,  1.00it/s]"
     ]
    },
    {
     "name": "stdout",
     "output_type": "stream",
     "text": [
      "Early stopping at epoch 79\n",
      "\n",
      "Running: n_tree=5, tree_depth=5, batch_size=256\n",
      "Use gtd478 dataset\n"
     ]
    },
    {
     "name": "stderr",
     "output_type": "stream",
     "text": [
      "\n",
      "Training Epochs:  14%|█▍        | 28/200 [00:33<03:28,  1.21s/it]"
     ]
    },
    {
     "name": "stdout",
     "output_type": "stream",
     "text": [
      "Early stopping at epoch 29\n",
      "\n",
      "Running: n_tree=5, tree_depth=5, batch_size=512\n",
      "Use gtd478 dataset\n"
     ]
    },
    {
     "name": "stderr",
     "output_type": "stream",
     "text": [
      "\n",
      "Training Epochs:  30%|███       | 61/200 [01:04<02:27,  1.06s/it]"
     ]
    },
    {
     "name": "stdout",
     "output_type": "stream",
     "text": [
      "Early stopping at epoch 62\n",
      "\n",
      "Running: n_tree=5, tree_depth=5, batch_size=1000\n",
      "Use gtd478 dataset\n"
     ]
    },
    {
     "name": "stderr",
     "output_type": "stream",
     "text": [
      "\n",
      "Training Epochs:  56%|█████▌    | 111/200 [01:50<01:28,  1.01it/s]"
     ]
    },
    {
     "name": "stdout",
     "output_type": "stream",
     "text": [
      "Early stopping at epoch 112\n",
      "\n",
      "Running: n_tree=5, tree_depth=10, batch_size=256\n",
      "Use gtd478 dataset\n"
     ]
    },
    {
     "name": "stderr",
     "output_type": "stream",
     "text": [
      "\n",
      "Training Epochs:  38%|███▊      | 77/200 [01:37<02:35,  1.26s/it]"
     ]
    },
    {
     "name": "stdout",
     "output_type": "stream",
     "text": [
      "Early stopping at epoch 78\n",
      "\n",
      "Running: n_tree=5, tree_depth=10, batch_size=512\n",
      "Use gtd478 dataset\n"
     ]
    },
    {
     "name": "stderr",
     "output_type": "stream",
     "text": [
      "\n",
      "Training Epochs:  33%|███▎      | 66/200 [01:14<02:31,  1.13s/it]"
     ]
    },
    {
     "name": "stdout",
     "output_type": "stream",
     "text": [
      "Early stopping at epoch 67\n",
      "\n",
      "Running: n_tree=5, tree_depth=10, batch_size=1000\n",
      "Use gtd478 dataset\n"
     ]
    },
    {
     "name": "stderr",
     "output_type": "stream",
     "text": [
      "\n",
      "Training Epochs:  48%|████▊     | 97/200 [01:40<01:47,  1.04s/it]"
     ]
    },
    {
     "name": "stdout",
     "output_type": "stream",
     "text": [
      "Early stopping at epoch 98\n",
      "\n",
      "Running: n_tree=10, tree_depth=3, batch_size=256\n",
      "Use gtd478 dataset\n"
     ]
    },
    {
     "name": "stderr",
     "output_type": "stream",
     "text": [
      "\n",
      "Training Epochs:  18%|█▊        | 35/200 [00:45<03:33,  1.29s/it]"
     ]
    },
    {
     "name": "stdout",
     "output_type": "stream",
     "text": [
      "Early stopping at epoch 36\n",
      "\n",
      "Running: n_tree=10, tree_depth=3, batch_size=512\n",
      "Use gtd478 dataset\n"
     ]
    },
    {
     "name": "stderr",
     "output_type": "stream",
     "text": [
      "\n",
      "Training Epochs:  28%|██▊       | 57/200 [01:03<02:38,  1.11s/it]"
     ]
    },
    {
     "name": "stdout",
     "output_type": "stream",
     "text": [
      "Early stopping at epoch 58\n",
      "\n",
      "Running: n_tree=10, tree_depth=3, batch_size=1000\n",
      "Use gtd478 dataset\n"
     ]
    },
    {
     "name": "stderr",
     "output_type": "stream",
     "text": [
      "\n",
      "Training Epochs:  38%|███▊      | 76/200 [01:18<02:08,  1.03s/it]"
     ]
    },
    {
     "name": "stdout",
     "output_type": "stream",
     "text": [
      "Early stopping at epoch 77\n",
      "\n",
      "Running: n_tree=10, tree_depth=5, batch_size=256\n",
      "Use gtd478 dataset\n"
     ]
    },
    {
     "name": "stderr",
     "output_type": "stream",
     "text": [
      "\n",
      "Training Epochs:  31%|███       | 62/200 [01:22<03:04,  1.33s/it]"
     ]
    },
    {
     "name": "stdout",
     "output_type": "stream",
     "text": [
      "Early stopping at epoch 63\n",
      "\n",
      "Running: n_tree=10, tree_depth=5, batch_size=512\n",
      "Use gtd478 dataset\n"
     ]
    },
    {
     "name": "stderr",
     "output_type": "stream",
     "text": [
      "\n",
      "Training Epochs:  18%|█▊        | 36/200 [00:42<03:14,  1.19s/it]"
     ]
    },
    {
     "name": "stdout",
     "output_type": "stream",
     "text": [
      "Early stopping at epoch 37\n",
      "\n",
      "Running: n_tree=10, tree_depth=5, batch_size=1000\n",
      "Use gtd478 dataset\n"
     ]
    },
    {
     "name": "stderr",
     "output_type": "stream",
     "text": [
      "\n",
      "Training Epochs:  55%|█████▌    | 110/200 [01:54<01:33,  1.04s/it]"
     ]
    },
    {
     "name": "stdout",
     "output_type": "stream",
     "text": [
      "Early stopping at epoch 111\n",
      "\n",
      "Running: n_tree=10, tree_depth=10, batch_size=256\n",
      "Use gtd478 dataset\n"
     ]
    },
    {
     "name": "stderr",
     "output_type": "stream",
     "text": [
      "\n",
      "Training Epochs:  38%|███▊      | 75/200 [01:55<03:13,  1.54s/it]"
     ]
    },
    {
     "name": "stdout",
     "output_type": "stream",
     "text": [
      "Early stopping at epoch 76\n",
      "\n",
      "Running: n_tree=10, tree_depth=10, batch_size=512\n",
      "Use gtd478 dataset\n"
     ]
    },
    {
     "name": "stderr",
     "output_type": "stream",
     "text": [
      "\n",
      "Training Epochs:  28%|██▊       | 57/200 [01:13<03:03,  1.28s/it]"
     ]
    },
    {
     "name": "stdout",
     "output_type": "stream",
     "text": [
      "Early stopping at epoch 58\n",
      "\n",
      "Running: n_tree=10, tree_depth=10, batch_size=1000\n",
      "Use gtd478 dataset\n"
     ]
    },
    {
     "name": "stderr",
     "output_type": "stream",
     "text": [
      "\n",
      "Training Epochs:  87%|████████▋ | 174/200 [03:14<00:28,  1.12s/it]"
     ]
    },
    {
     "name": "stdout",
     "output_type": "stream",
     "text": [
      "Early stopping at epoch 175\n",
      "\n",
      "Running: n_tree=15, tree_depth=3, batch_size=256\n",
      "Use gtd478 dataset\n"
     ]
    },
    {
     "name": "stderr",
     "output_type": "stream",
     "text": [
      "\n",
      "Training Epochs:  20%|██        | 40/200 [00:56<03:47,  1.42s/it]"
     ]
    },
    {
     "name": "stdout",
     "output_type": "stream",
     "text": [
      "Early stopping at epoch 41\n",
      "\n",
      "Running: n_tree=15, tree_depth=3, batch_size=512\n",
      "Use gtd478 dataset\n"
     ]
    },
    {
     "name": "stderr",
     "output_type": "stream",
     "text": [
      "\n",
      "Training Epochs:  24%|██▍       | 49/200 [00:55<02:51,  1.14s/it]"
     ]
    },
    {
     "name": "stdout",
     "output_type": "stream",
     "text": [
      "Early stopping at epoch 50\n",
      "\n",
      "Running: n_tree=15, tree_depth=3, batch_size=1000\n",
      "Use gtd478 dataset\n"
     ]
    },
    {
     "name": "stderr",
     "output_type": "stream",
     "text": [
      "\n",
      "Training Epochs:  42%|████▏     | 84/200 [01:26<01:58,  1.03s/it]"
     ]
    },
    {
     "name": "stdout",
     "output_type": "stream",
     "text": [
      "Early stopping at epoch 85\n",
      "\n",
      "Running: n_tree=15, tree_depth=5, batch_size=256\n",
      "Use gtd478 dataset\n"
     ]
    },
    {
     "name": "stderr",
     "output_type": "stream",
     "text": [
      "\n",
      "Training Epochs:  28%|██▊       | 55/200 [01:18<03:27,  1.43s/it]"
     ]
    },
    {
     "name": "stdout",
     "output_type": "stream",
     "text": [
      "Early stopping at epoch 56\n",
      "\n",
      "Running: n_tree=15, tree_depth=5, batch_size=512\n",
      "Use gtd478 dataset\n"
     ]
    },
    {
     "name": "stderr",
     "output_type": "stream",
     "text": [
      "\n",
      "Training Epochs:  32%|███▎      | 65/200 [01:17<02:40,  1.19s/it]"
     ]
    },
    {
     "name": "stdout",
     "output_type": "stream",
     "text": [
      "Early stopping at epoch 66\n",
      "\n",
      "Running: n_tree=15, tree_depth=5, batch_size=1000\n",
      "Use gtd478 dataset\n"
     ]
    },
    {
     "name": "stderr",
     "output_type": "stream",
     "text": [
      "\n",
      "Training Epochs:  67%|██████▋   | 134/200 [02:21<01:09,  1.06s/it]"
     ]
    },
    {
     "name": "stdout",
     "output_type": "stream",
     "text": [
      "Early stopping at epoch 135\n",
      "\n",
      "Running: n_tree=15, tree_depth=10, batch_size=256\n",
      "Use gtd478 dataset\n"
     ]
    },
    {
     "name": "stderr",
     "output_type": "stream",
     "text": [
      "\n",
      "Training Epochs:  36%|███▋      | 73/200 [02:07<03:42,  1.75s/it]"
     ]
    },
    {
     "name": "stdout",
     "output_type": "stream",
     "text": [
      "Early stopping at epoch 74\n",
      "\n",
      "Running: n_tree=15, tree_depth=10, batch_size=512\n",
      "Use gtd478 dataset\n"
     ]
    },
    {
     "name": "stderr",
     "output_type": "stream",
     "text": [
      "\n",
      "Training Epochs:  61%|██████    | 122/200 [02:44<01:44,  1.35s/it]"
     ]
    },
    {
     "name": "stdout",
     "output_type": "stream",
     "text": [
      "Early stopping at epoch 123\n",
      "\n",
      "Running: n_tree=15, tree_depth=10, batch_size=1000\n",
      "Use gtd478 dataset\n"
     ]
    },
    {
     "name": "stderr",
     "output_type": "stream",
     "text": [
      "\n",
      "Training Epochs:  77%|███████▋  | 154/200 [02:57<00:52,  1.15s/it]"
     ]
    },
    {
     "name": "stdout",
     "output_type": "stream",
     "text": [
      "Early stopping at epoch 155\n",
      "\n",
      "Running: n_tree=20, tree_depth=3, batch_size=256\n",
      "Use gtd478 dataset\n"
     ]
    },
    {
     "name": "stderr",
     "output_type": "stream",
     "text": [
      "\n",
      "Training Epochs:  20%|██        | 41/200 [00:59<03:52,  1.46s/it]"
     ]
    },
    {
     "name": "stdout",
     "output_type": "stream",
     "text": [
      "Early stopping at epoch 42\n",
      "\n",
      "Running: n_tree=20, tree_depth=3, batch_size=512\n",
      "Use gtd478 dataset\n"
     ]
    },
    {
     "name": "stderr",
     "output_type": "stream",
     "text": [
      "\n",
      "Training Epochs:  34%|███▍      | 68/200 [01:20<02:35,  1.18s/it]"
     ]
    },
    {
     "name": "stdout",
     "output_type": "stream",
     "text": [
      "Early stopping at epoch 69\n",
      "\n",
      "Running: n_tree=20, tree_depth=3, batch_size=1000\n",
      "Use gtd478 dataset\n"
     ]
    },
    {
     "name": "stderr",
     "output_type": "stream",
     "text": [
      "\n",
      "Training Epochs:  48%|████▊     | 97/200 [01:43<01:49,  1.07s/it]"
     ]
    },
    {
     "name": "stdout",
     "output_type": "stream",
     "text": [
      "Early stopping at epoch 98\n",
      "\n",
      "Running: n_tree=20, tree_depth=5, batch_size=256\n",
      "Use gtd478 dataset\n"
     ]
    },
    {
     "name": "stderr",
     "output_type": "stream",
     "text": [
      "\n",
      "Training Epochs:  22%|██▏       | 43/200 [01:09<04:15,  1.62s/it]"
     ]
    },
    {
     "name": "stdout",
     "output_type": "stream",
     "text": [
      "Early stopping at epoch 44\n",
      "\n",
      "Running: n_tree=20, tree_depth=5, batch_size=512\n",
      "Use gtd478 dataset\n"
     ]
    },
    {
     "name": "stderr",
     "output_type": "stream",
     "text": [
      "\n",
      "Training Epochs:  28%|██▊       | 56/200 [01:11<03:03,  1.28s/it]"
     ]
    },
    {
     "name": "stdout",
     "output_type": "stream",
     "text": [
      "Early stopping at epoch 57\n",
      "\n",
      "Running: n_tree=20, tree_depth=5, batch_size=1000\n",
      "Use gtd478 dataset\n"
     ]
    },
    {
     "name": "stderr",
     "output_type": "stream",
     "text": [
      "\n",
      "Training Epochs:  48%|████▊     | 97/200 [01:47<01:54,  1.11s/it]"
     ]
    },
    {
     "name": "stdout",
     "output_type": "stream",
     "text": [
      "Early stopping at epoch 98\n",
      "\n",
      "Running: n_tree=20, tree_depth=10, batch_size=256\n",
      "Use gtd478 dataset\n"
     ]
    },
    {
     "name": "stderr",
     "output_type": "stream",
     "text": [
      "\n",
      "Training Epochs:  28%|██▊       | 56/200 [01:54<04:53,  2.04s/it]"
     ]
    },
    {
     "name": "stdout",
     "output_type": "stream",
     "text": [
      "Early stopping at epoch 57\n",
      "\n",
      "Running: n_tree=20, tree_depth=10, batch_size=512\n",
      "Use gtd478 dataset\n"
     ]
    },
    {
     "name": "stderr",
     "output_type": "stream",
     "text": [
      "\n",
      "Training Epochs:  38%|███▊      | 76/200 [01:53<03:05,  1.50s/it]"
     ]
    },
    {
     "name": "stdout",
     "output_type": "stream",
     "text": [
      "Early stopping at epoch 77\n",
      "\n",
      "Running: n_tree=20, tree_depth=10, batch_size=1000\n",
      "Use gtd478 dataset\n"
     ]
    },
    {
     "name": "stderr",
     "output_type": "stream",
     "text": [
      "\n",
      "Training Epochs:  93%|█████████▎| 186/200 [03:50<00:17,  1.24s/it]"
     ]
    },
    {
     "name": "stdout",
     "output_type": "stream",
     "text": [
      "Early stopping at epoch 187\n",
      "\n",
      "Best hyperparameter configuration:\n",
      "{'n_tree': 15, 'tree_depth': 10, 'batch_size': 512}\n",
      "Best accuracy: 0.673148\n"
     ]
    },
    {
     "name": "stderr",
     "output_type": "stream",
     "text": [
      "\n"
     ]
    }
   ],
   "source": [
    "\n",
    "n_tree_values = [5, 10, 15, 20]\n",
    "tree_depth_values = [3, 5, 10]\n",
    "batch_size_values = [256, 512, 1000]\n",
    "\n",
    "best_score = 0\n",
    "best_config = {}\n",
    "\n",
    "for n_tree, tree_depth, batch_size in product(n_tree_values, tree_depth_values, batch_size_values):\n",
    "    print(f\"\\nRunning: n_tree={n_tree}, tree_depth={tree_depth}, batch_size={batch_size}\")\n",
    "    sys.argv = [\n",
    "        'train.py',\n",
    "        '-dataset', f'gtd{partition}',\n",
    "        '-n_class', '30',\n",
    "        '-gpuid', '0',\n",
    "        '-n_tree', str(n_tree),\n",
    "        '-tree_depth', str(tree_depth),\n",
    "        '-batch_size', str(batch_size),\n",
    "        '-epochs', '200',\n",
    "        '-verbose', '0',\n",
    "        '-jointly_training'\n",
    "    ]\n",
    "    \n",
    "    _, _, _, _, _ = main()\n",
    "\n",
    "    # Read best score from file (assumes one run per file)\n",
    "    result_file = f\"results/result_gtd{partition}\"\n",
    "    with open(result_file, \"r\") as f:\n",
    "        lines = f.readlines()\n",
    "        for line in lines:\n",
    "            if \"Best Accuracy\" in line:\n",
    "                acc = float(line.split()[2])\n",
    "                if acc > best_score:\n",
    "                    best_score = acc\n",
    "                    best_config = {\n",
    "                        'n_tree': n_tree,\n",
    "                        'tree_depth': tree_depth,\n",
    "                        'batch_size': batch_size\n",
    "                    }\n",
    "print(\"\\nBest hyperparameter configuration:\")\n",
    "print(best_config)\n",
    "print(f\"Best accuracy: {best_score}\")\n"
   ]
  },
  {
   "cell_type": "code",
   "execution_count": 4,
   "metadata": {},
   "outputs": [
    {
     "name": "stdout",
     "output_type": "stream",
     "text": [
      "Use gtd478 dataset\n"
     ]
    },
    {
     "name": "stderr",
     "output_type": "stream",
     "text": [
      "Training Epochs:   0%|          | 0/1000 [00:00<?, ?it/s]"
     ]
    },
    {
     "name": "stdout",
     "output_type": "stream",
     "text": [
      "Train Epoch: 1 [0/10020 (0%)]\tLoss: 3.400926\n",
      "Train Epoch: 1 [5120/10020 (50%)]\tLoss: 3.400208\n"
     ]
    },
    {
     "name": "stderr",
     "output_type": "stream",
     "text": [
      "Training Epochs:   0%|          | 1/1000 [00:01<23:47,  1.43s/it]"
     ]
    },
    {
     "name": "stdout",
     "output_type": "stream",
     "text": [
      "Train Epoch: 2 [0/10020 (0%)]\tLoss: 3.396079\n",
      "Train Epoch: 2 [5120/10020 (50%)]\tLoss: 3.384108\n"
     ]
    },
    {
     "name": "stderr",
     "output_type": "stream",
     "text": [
      "Training Epochs:   0%|          | 2/1000 [00:02<22:06,  1.33s/it]"
     ]
    },
    {
     "name": "stdout",
     "output_type": "stream",
     "text": [
      "Train Epoch: 3 [0/10020 (0%)]\tLoss: 3.364240\n",
      "Train Epoch: 3 [5120/10020 (50%)]\tLoss: 3.321021\n"
     ]
    },
    {
     "name": "stderr",
     "output_type": "stream",
     "text": [
      "Training Epochs:   0%|          | 3/1000 [00:03<21:31,  1.30s/it]"
     ]
    },
    {
     "name": "stdout",
     "output_type": "stream",
     "text": [
      "Train Epoch: 4 [0/10020 (0%)]\tLoss: 3.300138\n",
      "Train Epoch: 4 [5120/10020 (50%)]\tLoss: 3.274714\n"
     ]
    },
    {
     "name": "stderr",
     "output_type": "stream",
     "text": [
      "Training Epochs:   0%|          | 4/1000 [00:05<21:55,  1.32s/it]"
     ]
    },
    {
     "name": "stdout",
     "output_type": "stream",
     "text": [
      "Train Epoch: 5 [0/10020 (0%)]\tLoss: 3.228806\n",
      "Train Epoch: 5 [5120/10020 (50%)]\tLoss: 3.215110\n"
     ]
    },
    {
     "name": "stderr",
     "output_type": "stream",
     "text": [
      "Training Epochs:   0%|          | 5/1000 [00:06<22:05,  1.33s/it]"
     ]
    },
    {
     "name": "stdout",
     "output_type": "stream",
     "text": [
      "Train Epoch: 6 [0/10020 (0%)]\tLoss: 3.176628\n",
      "Train Epoch: 6 [5120/10020 (50%)]\tLoss: 3.166922\n"
     ]
    },
    {
     "name": "stderr",
     "output_type": "stream",
     "text": [
      "Training Epochs:   1%|          | 6/1000 [00:08<22:09,  1.34s/it]"
     ]
    },
    {
     "name": "stdout",
     "output_type": "stream",
     "text": [
      "Train Epoch: 7 [0/10020 (0%)]\tLoss: 3.138108\n",
      "Train Epoch: 7 [5120/10020 (50%)]\tLoss: 3.115000\n"
     ]
    },
    {
     "name": "stderr",
     "output_type": "stream",
     "text": [
      "Training Epochs:   1%|          | 7/1000 [00:09<22:11,  1.34s/it]"
     ]
    },
    {
     "name": "stdout",
     "output_type": "stream",
     "text": [
      "Train Epoch: 8 [0/10020 (0%)]\tLoss: 3.097774\n",
      "Train Epoch: 8 [5120/10020 (50%)]\tLoss: 3.081598\n"
     ]
    },
    {
     "name": "stderr",
     "output_type": "stream",
     "text": [
      "Training Epochs:   1%|          | 8/1000 [00:10<22:09,  1.34s/it]"
     ]
    },
    {
     "name": "stdout",
     "output_type": "stream",
     "text": [
      "Train Epoch: 9 [0/10020 (0%)]\tLoss: 3.057539\n",
      "Train Epoch: 9 [5120/10020 (50%)]\tLoss: 3.031517\n"
     ]
    },
    {
     "name": "stderr",
     "output_type": "stream",
     "text": [
      "Training Epochs:   1%|          | 9/1000 [00:12<22:49,  1.38s/it]"
     ]
    },
    {
     "name": "stdout",
     "output_type": "stream",
     "text": [
      "Train Epoch: 10 [0/10020 (0%)]\tLoss: 3.033951\n",
      "Train Epoch: 10 [5120/10020 (50%)]\tLoss: 2.989595\n"
     ]
    },
    {
     "name": "stderr",
     "output_type": "stream",
     "text": [
      "Training Epochs:   1%|          | 10/1000 [00:13<22:37,  1.37s/it]"
     ]
    },
    {
     "name": "stdout",
     "output_type": "stream",
     "text": [
      "Train Epoch: 11 [0/10020 (0%)]\tLoss: 2.987835\n",
      "Train Epoch: 11 [5120/10020 (50%)]\tLoss: 2.972645\n"
     ]
    },
    {
     "name": "stderr",
     "output_type": "stream",
     "text": [
      "Training Epochs:   1%|          | 11/1000 [00:14<22:32,  1.37s/it]"
     ]
    },
    {
     "name": "stdout",
     "output_type": "stream",
     "text": [
      "Train Epoch: 12 [0/10020 (0%)]\tLoss: 2.953242\n",
      "Train Epoch: 12 [5120/10020 (50%)]\tLoss: 2.959854\n"
     ]
    },
    {
     "name": "stderr",
     "output_type": "stream",
     "text": [
      "Training Epochs:   1%|          | 12/1000 [00:16<22:29,  1.37s/it]"
     ]
    },
    {
     "name": "stdout",
     "output_type": "stream",
     "text": [
      "Train Epoch: 13 [0/10020 (0%)]\tLoss: 2.909162\n",
      "Train Epoch: 13 [5120/10020 (50%)]\tLoss: 2.888350\n"
     ]
    },
    {
     "name": "stderr",
     "output_type": "stream",
     "text": [
      "Training Epochs:   1%|▏         | 13/1000 [00:17<22:25,  1.36s/it]"
     ]
    },
    {
     "name": "stdout",
     "output_type": "stream",
     "text": [
      "Train Epoch: 14 [0/10020 (0%)]\tLoss: 2.896875\n",
      "Train Epoch: 14 [5120/10020 (50%)]\tLoss: 2.861255\n"
     ]
    },
    {
     "name": "stderr",
     "output_type": "stream",
     "text": [
      "Training Epochs:   1%|▏         | 14/1000 [00:18<22:24,  1.36s/it]"
     ]
    },
    {
     "name": "stdout",
     "output_type": "stream",
     "text": [
      "Train Epoch: 15 [0/10020 (0%)]\tLoss: 2.859137\n",
      "Train Epoch: 15 [5120/10020 (50%)]\tLoss: 2.844244\n"
     ]
    },
    {
     "name": "stderr",
     "output_type": "stream",
     "text": [
      "Training Epochs:   2%|▏         | 15/1000 [00:20<22:32,  1.37s/it]"
     ]
    },
    {
     "name": "stdout",
     "output_type": "stream",
     "text": [
      "Train Epoch: 16 [0/10020 (0%)]\tLoss: 2.828974\n",
      "Train Epoch: 16 [5120/10020 (50%)]\tLoss: 2.788921\n"
     ]
    },
    {
     "name": "stderr",
     "output_type": "stream",
     "text": [
      "Training Epochs:   2%|▏         | 16/1000 [00:21<22:29,  1.37s/it]"
     ]
    },
    {
     "name": "stdout",
     "output_type": "stream",
     "text": [
      "Train Epoch: 17 [0/10020 (0%)]\tLoss: 2.776166\n",
      "Train Epoch: 17 [5120/10020 (50%)]\tLoss: 2.765340\n"
     ]
    },
    {
     "name": "stderr",
     "output_type": "stream",
     "text": [
      "Training Epochs:   2%|▏         | 17/1000 [00:23<22:24,  1.37s/it]"
     ]
    },
    {
     "name": "stdout",
     "output_type": "stream",
     "text": [
      "Train Epoch: 18 [0/10020 (0%)]\tLoss: 2.724338\n",
      "Train Epoch: 18 [5120/10020 (50%)]\tLoss: 2.733266\n"
     ]
    },
    {
     "name": "stderr",
     "output_type": "stream",
     "text": [
      "Training Epochs:   2%|▏         | 18/1000 [00:24<22:22,  1.37s/it]"
     ]
    },
    {
     "name": "stdout",
     "output_type": "stream",
     "text": [
      "Train Epoch: 19 [0/10020 (0%)]\tLoss: 2.733254\n",
      "Train Epoch: 19 [5120/10020 (50%)]\tLoss: 2.715556\n"
     ]
    },
    {
     "name": "stderr",
     "output_type": "stream",
     "text": [
      "Training Epochs:   2%|▏         | 19/1000 [00:25<22:16,  1.36s/it]"
     ]
    },
    {
     "name": "stdout",
     "output_type": "stream",
     "text": [
      "Train Epoch: 20 [0/10020 (0%)]\tLoss: 2.680920\n",
      "Train Epoch: 20 [5120/10020 (50%)]\tLoss: 2.657943\n"
     ]
    },
    {
     "name": "stderr",
     "output_type": "stream",
     "text": [
      "Training Epochs:   2%|▏         | 20/1000 [00:27<22:10,  1.36s/it]"
     ]
    },
    {
     "name": "stdout",
     "output_type": "stream",
     "text": [
      "Train Epoch: 21 [0/10020 (0%)]\tLoss: 2.658650\n",
      "Train Epoch: 21 [5120/10020 (50%)]\tLoss: 2.627991\n"
     ]
    },
    {
     "name": "stderr",
     "output_type": "stream",
     "text": [
      "Training Epochs:   2%|▏         | 21/1000 [00:28<22:07,  1.36s/it]"
     ]
    },
    {
     "name": "stdout",
     "output_type": "stream",
     "text": [
      "Train Epoch: 22 [0/10020 (0%)]\tLoss: 2.606826\n",
      "Train Epoch: 22 [5120/10020 (50%)]\tLoss: 2.576403\n"
     ]
    },
    {
     "name": "stderr",
     "output_type": "stream",
     "text": [
      "Training Epochs:   2%|▏         | 22/1000 [00:29<22:07,  1.36s/it]"
     ]
    },
    {
     "name": "stdout",
     "output_type": "stream",
     "text": [
      "Train Epoch: 23 [0/10020 (0%)]\tLoss: 2.555446\n",
      "Train Epoch: 23 [5120/10020 (50%)]\tLoss: 2.531968\n"
     ]
    },
    {
     "name": "stderr",
     "output_type": "stream",
     "text": [
      "Training Epochs:   2%|▏         | 23/1000 [00:31<22:32,  1.38s/it]"
     ]
    },
    {
     "name": "stdout",
     "output_type": "stream",
     "text": [
      "Train Epoch: 24 [0/10020 (0%)]\tLoss: 2.532020\n",
      "Train Epoch: 24 [5120/10020 (50%)]\tLoss: 2.547151\n"
     ]
    },
    {
     "name": "stderr",
     "output_type": "stream",
     "text": [
      "Training Epochs:   2%|▏         | 24/1000 [00:32<22:20,  1.37s/it]"
     ]
    },
    {
     "name": "stdout",
     "output_type": "stream",
     "text": [
      "Train Epoch: 25 [0/10020 (0%)]\tLoss: 2.512506\n",
      "Train Epoch: 25 [5120/10020 (50%)]\tLoss: 2.487910\n"
     ]
    },
    {
     "name": "stderr",
     "output_type": "stream",
     "text": [
      "Training Epochs:   2%|▎         | 25/1000 [00:33<22:12,  1.37s/it]"
     ]
    },
    {
     "name": "stdout",
     "output_type": "stream",
     "text": [
      "Train Epoch: 26 [0/10020 (0%)]\tLoss: 2.473883\n",
      "Train Epoch: 26 [5120/10020 (50%)]\tLoss: 2.442566\n"
     ]
    },
    {
     "name": "stderr",
     "output_type": "stream",
     "text": [
      "Training Epochs:   3%|▎         | 26/1000 [00:35<22:10,  1.37s/it]"
     ]
    },
    {
     "name": "stdout",
     "output_type": "stream",
     "text": [
      "Train Epoch: 27 [0/10020 (0%)]\tLoss: 2.457080\n",
      "Train Epoch: 27 [5120/10020 (50%)]\tLoss: 2.387930\n"
     ]
    },
    {
     "name": "stderr",
     "output_type": "stream",
     "text": [
      "Training Epochs:   3%|▎         | 27/1000 [00:36<22:10,  1.37s/it]"
     ]
    },
    {
     "name": "stdout",
     "output_type": "stream",
     "text": [
      "Train Epoch: 28 [0/10020 (0%)]\tLoss: 2.385822\n",
      "Train Epoch: 28 [5120/10020 (50%)]\tLoss: 2.352617\n"
     ]
    },
    {
     "name": "stderr",
     "output_type": "stream",
     "text": [
      "Training Epochs:   3%|▎         | 28/1000 [00:38<22:04,  1.36s/it]"
     ]
    },
    {
     "name": "stdout",
     "output_type": "stream",
     "text": [
      "Train Epoch: 29 [0/10020 (0%)]\tLoss: 2.348115\n",
      "Train Epoch: 29 [5120/10020 (50%)]\tLoss: 2.331745\n"
     ]
    },
    {
     "name": "stderr",
     "output_type": "stream",
     "text": [
      "Training Epochs:   3%|▎         | 29/1000 [00:39<22:01,  1.36s/it]"
     ]
    },
    {
     "name": "stdout",
     "output_type": "stream",
     "text": [
      "Train Epoch: 30 [0/10020 (0%)]\tLoss: 2.309746\n",
      "Train Epoch: 30 [5120/10020 (50%)]\tLoss: 2.312503\n"
     ]
    },
    {
     "name": "stderr",
     "output_type": "stream",
     "text": [
      "Training Epochs:   3%|▎         | 30/1000 [00:40<21:56,  1.36s/it]"
     ]
    },
    {
     "name": "stdout",
     "output_type": "stream",
     "text": [
      "Train Epoch: 31 [0/10020 (0%)]\tLoss: 2.279200\n",
      "Train Epoch: 31 [5120/10020 (50%)]\tLoss: 2.259787\n"
     ]
    },
    {
     "name": "stderr",
     "output_type": "stream",
     "text": [
      "Training Epochs:   3%|▎         | 31/1000 [00:42<21:54,  1.36s/it]"
     ]
    },
    {
     "name": "stdout",
     "output_type": "stream",
     "text": [
      "Train Epoch: 32 [0/10020 (0%)]\tLoss: 2.261320\n",
      "Train Epoch: 32 [5120/10020 (50%)]\tLoss: 2.191951\n"
     ]
    },
    {
     "name": "stderr",
     "output_type": "stream",
     "text": [
      "Training Epochs:   3%|▎         | 32/1000 [00:43<21:53,  1.36s/it]"
     ]
    },
    {
     "name": "stdout",
     "output_type": "stream",
     "text": [
      "Train Epoch: 33 [0/10020 (0%)]\tLoss: 2.177577\n",
      "Train Epoch: 33 [5120/10020 (50%)]\tLoss: 2.151231\n"
     ]
    },
    {
     "name": "stderr",
     "output_type": "stream",
     "text": [
      "Training Epochs:   3%|▎         | 33/1000 [00:44<21:52,  1.36s/it]"
     ]
    },
    {
     "name": "stdout",
     "output_type": "stream",
     "text": [
      "Train Epoch: 34 [0/10020 (0%)]\tLoss: 2.148051\n",
      "Train Epoch: 34 [5120/10020 (50%)]\tLoss: 2.186946\n"
     ]
    },
    {
     "name": "stderr",
     "output_type": "stream",
     "text": [
      "Training Epochs:   3%|▎         | 34/1000 [00:46<21:48,  1.35s/it]"
     ]
    },
    {
     "name": "stdout",
     "output_type": "stream",
     "text": [
      "Train Epoch: 35 [0/10020 (0%)]\tLoss: 2.135735\n",
      "Train Epoch: 35 [5120/10020 (50%)]\tLoss: 2.121487\n"
     ]
    },
    {
     "name": "stderr",
     "output_type": "stream",
     "text": [
      "Training Epochs:   4%|▎         | 35/1000 [00:47<21:44,  1.35s/it]"
     ]
    },
    {
     "name": "stdout",
     "output_type": "stream",
     "text": [
      "Train Epoch: 36 [0/10020 (0%)]\tLoss: 2.092453\n",
      "Train Epoch: 36 [5120/10020 (50%)]\tLoss: 2.086770\n"
     ]
    },
    {
     "name": "stderr",
     "output_type": "stream",
     "text": [
      "Training Epochs:   4%|▎         | 36/1000 [00:48<22:07,  1.38s/it]"
     ]
    },
    {
     "name": "stdout",
     "output_type": "stream",
     "text": [
      "Train Epoch: 37 [0/10020 (0%)]\tLoss: 2.057212\n",
      "Train Epoch: 37 [5120/10020 (50%)]\tLoss: 2.050559\n"
     ]
    },
    {
     "name": "stderr",
     "output_type": "stream",
     "text": [
      "Training Epochs:   4%|▎         | 37/1000 [00:50<21:59,  1.37s/it]"
     ]
    },
    {
     "name": "stdout",
     "output_type": "stream",
     "text": [
      "Train Epoch: 38 [0/10020 (0%)]\tLoss: 2.038757\n",
      "Train Epoch: 38 [5120/10020 (50%)]\tLoss: 2.017066\n"
     ]
    },
    {
     "name": "stderr",
     "output_type": "stream",
     "text": [
      "Training Epochs:   4%|▍         | 38/1000 [00:51<21:50,  1.36s/it]"
     ]
    },
    {
     "name": "stdout",
     "output_type": "stream",
     "text": [
      "Train Epoch: 39 [0/10020 (0%)]\tLoss: 2.005237\n",
      "Train Epoch: 39 [5120/10020 (50%)]\tLoss: 2.038193\n"
     ]
    },
    {
     "name": "stderr",
     "output_type": "stream",
     "text": [
      "Training Epochs:   4%|▍         | 39/1000 [00:53<21:45,  1.36s/it]"
     ]
    },
    {
     "name": "stdout",
     "output_type": "stream",
     "text": [
      "Train Epoch: 40 [0/10020 (0%)]\tLoss: 1.980197\n",
      "Train Epoch: 40 [5120/10020 (50%)]\tLoss: 1.962282\n"
     ]
    },
    {
     "name": "stderr",
     "output_type": "stream",
     "text": [
      "Training Epochs:   4%|▍         | 40/1000 [00:54<21:15,  1.33s/it]"
     ]
    },
    {
     "name": "stdout",
     "output_type": "stream",
     "text": [
      "Train Epoch: 41 [0/10020 (0%)]\tLoss: 1.950396\n",
      "Train Epoch: 41 [5120/10020 (50%)]\tLoss: 1.925098\n"
     ]
    },
    {
     "name": "stderr",
     "output_type": "stream",
     "text": [
      "Training Epochs:   4%|▍         | 41/1000 [00:55<21:22,  1.34s/it]"
     ]
    },
    {
     "name": "stdout",
     "output_type": "stream",
     "text": [
      "Train Epoch: 42 [0/10020 (0%)]\tLoss: 1.922645\n",
      "Train Epoch: 42 [5120/10020 (50%)]\tLoss: 1.912897\n"
     ]
    },
    {
     "name": "stderr",
     "output_type": "stream",
     "text": [
      "Training Epochs:   4%|▍         | 42/1000 [00:57<21:27,  1.34s/it]"
     ]
    },
    {
     "name": "stdout",
     "output_type": "stream",
     "text": [
      "Train Epoch: 43 [0/10020 (0%)]\tLoss: 1.896569\n",
      "Train Epoch: 43 [5120/10020 (50%)]\tLoss: 1.863576\n"
     ]
    },
    {
     "name": "stderr",
     "output_type": "stream",
     "text": [
      "Training Epochs:   4%|▍         | 43/1000 [00:58<21:01,  1.32s/it]"
     ]
    },
    {
     "name": "stdout",
     "output_type": "stream",
     "text": [
      "Train Epoch: 44 [0/10020 (0%)]\tLoss: 1.880117\n",
      "Train Epoch: 44 [5120/10020 (50%)]\tLoss: 1.853912\n"
     ]
    },
    {
     "name": "stderr",
     "output_type": "stream",
     "text": [
      "Training Epochs:   4%|▍         | 44/1000 [00:59<21:11,  1.33s/it]"
     ]
    },
    {
     "name": "stdout",
     "output_type": "stream",
     "text": [
      "Train Epoch: 45 [0/10020 (0%)]\tLoss: 1.844168\n",
      "Train Epoch: 45 [5120/10020 (50%)]\tLoss: 1.810077\n"
     ]
    },
    {
     "name": "stderr",
     "output_type": "stream",
     "text": [
      "Training Epochs:   4%|▍         | 45/1000 [01:00<21:15,  1.34s/it]"
     ]
    },
    {
     "name": "stdout",
     "output_type": "stream",
     "text": [
      "Train Epoch: 46 [0/10020 (0%)]\tLoss: 1.802781\n",
      "Train Epoch: 46 [5120/10020 (50%)]\tLoss: 1.775309\n"
     ]
    },
    {
     "name": "stderr",
     "output_type": "stream",
     "text": [
      "Training Epochs:   5%|▍         | 46/1000 [01:02<21:20,  1.34s/it]"
     ]
    },
    {
     "name": "stdout",
     "output_type": "stream",
     "text": [
      "Train Epoch: 47 [0/10020 (0%)]\tLoss: 1.765377\n",
      "Train Epoch: 47 [5120/10020 (50%)]\tLoss: 1.755600\n"
     ]
    },
    {
     "name": "stderr",
     "output_type": "stream",
     "text": [
      "Training Epochs:   5%|▍         | 47/1000 [01:03<21:20,  1.34s/it]"
     ]
    },
    {
     "name": "stdout",
     "output_type": "stream",
     "text": [
      "Train Epoch: 48 [0/10020 (0%)]\tLoss: 1.761396\n",
      "Train Epoch: 48 [5120/10020 (50%)]\tLoss: 1.762893\n"
     ]
    },
    {
     "name": "stderr",
     "output_type": "stream",
     "text": [
      "Training Epochs:   5%|▍         | 48/1000 [01:05<21:21,  1.35s/it]"
     ]
    },
    {
     "name": "stdout",
     "output_type": "stream",
     "text": [
      "Train Epoch: 49 [0/10020 (0%)]\tLoss: 1.701301\n",
      "Train Epoch: 49 [5120/10020 (50%)]\tLoss: 1.726365\n"
     ]
    },
    {
     "name": "stderr",
     "output_type": "stream",
     "text": [
      "Training Epochs:   5%|▍         | 49/1000 [01:06<21:33,  1.36s/it]"
     ]
    },
    {
     "name": "stdout",
     "output_type": "stream",
     "text": [
      "Train Epoch: 50 [0/10020 (0%)]\tLoss: 1.713252\n",
      "Train Epoch: 50 [5120/10020 (50%)]\tLoss: 1.699209\n"
     ]
    },
    {
     "name": "stderr",
     "output_type": "stream",
     "text": [
      "Training Epochs:   5%|▌         | 50/1000 [01:07<21:54,  1.38s/it]"
     ]
    },
    {
     "name": "stdout",
     "output_type": "stream",
     "text": [
      "Train Epoch: 51 [0/10020 (0%)]\tLoss: 1.673889\n",
      "Train Epoch: 51 [5120/10020 (50%)]\tLoss: 1.678093\n"
     ]
    },
    {
     "name": "stderr",
     "output_type": "stream",
     "text": [
      "Training Epochs:   5%|▌         | 51/1000 [01:09<21:14,  1.34s/it]"
     ]
    },
    {
     "name": "stdout",
     "output_type": "stream",
     "text": [
      "Train Epoch: 52 [0/10020 (0%)]\tLoss: 1.636464\n",
      "Train Epoch: 52 [5120/10020 (50%)]\tLoss: 1.645997\n"
     ]
    },
    {
     "name": "stderr",
     "output_type": "stream",
     "text": [
      "Training Epochs:   5%|▌         | 52/1000 [01:10<21:12,  1.34s/it]"
     ]
    },
    {
     "name": "stdout",
     "output_type": "stream",
     "text": [
      "Train Epoch: 53 [0/10020 (0%)]\tLoss: 1.645568\n",
      "Train Epoch: 53 [5120/10020 (50%)]\tLoss: 1.662542\n"
     ]
    },
    {
     "name": "stderr",
     "output_type": "stream",
     "text": [
      "Training Epochs:   5%|▌         | 53/1000 [01:11<21:14,  1.35s/it]"
     ]
    },
    {
     "name": "stdout",
     "output_type": "stream",
     "text": [
      "Train Epoch: 54 [0/10020 (0%)]\tLoss: 1.617213\n",
      "Train Epoch: 54 [5120/10020 (50%)]\tLoss: 1.595786\n"
     ]
    },
    {
     "name": "stderr",
     "output_type": "stream",
     "text": [
      "Training Epochs:   5%|▌         | 54/1000 [01:13<21:12,  1.35s/it]"
     ]
    },
    {
     "name": "stdout",
     "output_type": "stream",
     "text": [
      "Train Epoch: 55 [0/10020 (0%)]\tLoss: 1.586777\n",
      "Train Epoch: 55 [5120/10020 (50%)]\tLoss: 1.587220\n"
     ]
    },
    {
     "name": "stderr",
     "output_type": "stream",
     "text": [
      "Training Epochs:   6%|▌         | 55/1000 [01:14<20:45,  1.32s/it]"
     ]
    },
    {
     "name": "stdout",
     "output_type": "stream",
     "text": [
      "Train Epoch: 56 [0/10020 (0%)]\tLoss: 1.571511\n",
      "Train Epoch: 56 [5120/10020 (50%)]\tLoss: 1.555640\n"
     ]
    },
    {
     "name": "stderr",
     "output_type": "stream",
     "text": [
      "Training Epochs:   6%|▌         | 56/1000 [01:15<20:28,  1.30s/it]"
     ]
    },
    {
     "name": "stdout",
     "output_type": "stream",
     "text": [
      "Train Epoch: 57 [0/10020 (0%)]\tLoss: 1.581631\n",
      "Train Epoch: 57 [5120/10020 (50%)]\tLoss: 1.551029\n"
     ]
    },
    {
     "name": "stderr",
     "output_type": "stream",
     "text": [
      "Training Epochs:   6%|▌         | 57/1000 [01:16<20:13,  1.29s/it]"
     ]
    },
    {
     "name": "stdout",
     "output_type": "stream",
     "text": [
      "Train Epoch: 58 [0/10020 (0%)]\tLoss: 1.531500\n",
      "Train Epoch: 58 [5120/10020 (50%)]\tLoss: 1.526951\n"
     ]
    },
    {
     "name": "stderr",
     "output_type": "stream",
     "text": [
      "Training Epochs:   6%|▌         | 58/1000 [01:18<19:59,  1.27s/it]"
     ]
    },
    {
     "name": "stdout",
     "output_type": "stream",
     "text": [
      "Train Epoch: 59 [0/10020 (0%)]\tLoss: 1.493415\n",
      "Train Epoch: 59 [5120/10020 (50%)]\tLoss: 1.498219\n"
     ]
    },
    {
     "name": "stderr",
     "output_type": "stream",
     "text": [
      "Training Epochs:   6%|▌         | 59/1000 [01:19<19:53,  1.27s/it]"
     ]
    },
    {
     "name": "stdout",
     "output_type": "stream",
     "text": [
      "Train Epoch: 60 [0/10020 (0%)]\tLoss: 1.487641\n",
      "Train Epoch: 60 [5120/10020 (50%)]\tLoss: 1.473481\n"
     ]
    },
    {
     "name": "stderr",
     "output_type": "stream",
     "text": [
      "Training Epochs:   6%|▌         | 60/1000 [01:20<19:50,  1.27s/it]"
     ]
    },
    {
     "name": "stdout",
     "output_type": "stream",
     "text": [
      "Train Epoch: 61 [0/10020 (0%)]\tLoss: 1.478822\n",
      "Train Epoch: 61 [5120/10020 (50%)]\tLoss: 1.506615\n"
     ]
    },
    {
     "name": "stderr",
     "output_type": "stream",
     "text": [
      "Training Epochs:   6%|▌         | 61/1000 [01:21<19:44,  1.26s/it]"
     ]
    },
    {
     "name": "stdout",
     "output_type": "stream",
     "text": [
      "Train Epoch: 62 [0/10020 (0%)]\tLoss: 1.456889\n",
      "Train Epoch: 62 [5120/10020 (50%)]\tLoss: 1.453387\n"
     ]
    },
    {
     "name": "stderr",
     "output_type": "stream",
     "text": [
      "Training Epochs:   6%|▌         | 62/1000 [01:23<19:42,  1.26s/it]"
     ]
    },
    {
     "name": "stdout",
     "output_type": "stream",
     "text": [
      "Train Epoch: 63 [0/10020 (0%)]\tLoss: 1.455858\n",
      "Train Epoch: 63 [5120/10020 (50%)]\tLoss: 1.453008\n"
     ]
    },
    {
     "name": "stderr",
     "output_type": "stream",
     "text": [
      "Training Epochs:   6%|▋         | 63/1000 [01:24<19:42,  1.26s/it]"
     ]
    },
    {
     "name": "stdout",
     "output_type": "stream",
     "text": [
      "Train Epoch: 64 [0/10020 (0%)]\tLoss: 1.445552\n",
      "Train Epoch: 64 [5120/10020 (50%)]\tLoss: 1.427051\n"
     ]
    },
    {
     "name": "stderr",
     "output_type": "stream",
     "text": [
      "Training Epochs:   6%|▋         | 64/1000 [01:25<20:34,  1.32s/it]"
     ]
    },
    {
     "name": "stdout",
     "output_type": "stream",
     "text": [
      "Train Epoch: 65 [0/10020 (0%)]\tLoss: 1.427552\n",
      "Train Epoch: 65 [5120/10020 (50%)]\tLoss: 1.447752\n"
     ]
    },
    {
     "name": "stderr",
     "output_type": "stream",
     "text": [
      "Training Epochs:   6%|▋         | 65/1000 [01:27<20:13,  1.30s/it]"
     ]
    },
    {
     "name": "stdout",
     "output_type": "stream",
     "text": [
      "Train Epoch: 66 [0/10020 (0%)]\tLoss: 1.397923\n",
      "Train Epoch: 66 [5120/10020 (50%)]\tLoss: 1.386851\n"
     ]
    },
    {
     "name": "stderr",
     "output_type": "stream",
     "text": [
      "Training Epochs:   7%|▋         | 66/1000 [01:28<20:29,  1.32s/it]"
     ]
    },
    {
     "name": "stdout",
     "output_type": "stream",
     "text": [
      "Train Epoch: 67 [0/10020 (0%)]\tLoss: 1.387805\n",
      "Train Epoch: 67 [5120/10020 (50%)]\tLoss: 1.381231\n"
     ]
    },
    {
     "name": "stderr",
     "output_type": "stream",
     "text": [
      "Training Epochs:   7%|▋         | 67/1000 [01:29<20:08,  1.30s/it]"
     ]
    },
    {
     "name": "stdout",
     "output_type": "stream",
     "text": [
      "Train Epoch: 68 [0/10020 (0%)]\tLoss: 1.358991\n",
      "Train Epoch: 68 [5120/10020 (50%)]\tLoss: 1.374597\n"
     ]
    },
    {
     "name": "stderr",
     "output_type": "stream",
     "text": [
      "Training Epochs:   7%|▋         | 68/1000 [01:31<19:55,  1.28s/it]"
     ]
    },
    {
     "name": "stdout",
     "output_type": "stream",
     "text": [
      "Train Epoch: 69 [0/10020 (0%)]\tLoss: 1.361351\n",
      "Train Epoch: 69 [5120/10020 (50%)]\tLoss: 1.346563\n"
     ]
    },
    {
     "name": "stderr",
     "output_type": "stream",
     "text": [
      "Training Epochs:   7%|▋         | 69/1000 [01:32<19:44,  1.27s/it]"
     ]
    },
    {
     "name": "stdout",
     "output_type": "stream",
     "text": [
      "Train Epoch: 70 [0/10020 (0%)]\tLoss: 1.332923\n",
      "Train Epoch: 70 [5120/10020 (50%)]\tLoss: 1.354065\n"
     ]
    },
    {
     "name": "stderr",
     "output_type": "stream",
     "text": [
      "Training Epochs:   7%|▋         | 70/1000 [01:33<19:37,  1.27s/it]"
     ]
    },
    {
     "name": "stdout",
     "output_type": "stream",
     "text": [
      "Train Epoch: 71 [0/10020 (0%)]\tLoss: 1.330341\n",
      "Train Epoch: 71 [5120/10020 (50%)]\tLoss: 1.346553\n"
     ]
    },
    {
     "name": "stderr",
     "output_type": "stream",
     "text": [
      "Training Epochs:   7%|▋         | 71/1000 [01:34<20:01,  1.29s/it]"
     ]
    },
    {
     "name": "stdout",
     "output_type": "stream",
     "text": [
      "Train Epoch: 72 [0/10020 (0%)]\tLoss: 1.311911\n",
      "Train Epoch: 72 [5120/10020 (50%)]\tLoss: 1.326974\n"
     ]
    },
    {
     "name": "stderr",
     "output_type": "stream",
     "text": [
      "Training Epochs:   7%|▋         | 72/1000 [01:36<19:48,  1.28s/it]"
     ]
    },
    {
     "name": "stdout",
     "output_type": "stream",
     "text": [
      "Train Epoch: 73 [0/10020 (0%)]\tLoss: 1.322810\n",
      "Train Epoch: 73 [5120/10020 (50%)]\tLoss: 1.299350\n"
     ]
    },
    {
     "name": "stderr",
     "output_type": "stream",
     "text": [
      "Training Epochs:   7%|▋         | 73/1000 [01:37<20:11,  1.31s/it]"
     ]
    },
    {
     "name": "stdout",
     "output_type": "stream",
     "text": [
      "Train Epoch: 74 [0/10020 (0%)]\tLoss: 1.307606\n",
      "Train Epoch: 74 [5120/10020 (50%)]\tLoss: 1.265863\n"
     ]
    },
    {
     "name": "stderr",
     "output_type": "stream",
     "text": [
      "Training Epochs:   7%|▋         | 74/1000 [01:38<20:25,  1.32s/it]"
     ]
    },
    {
     "name": "stdout",
     "output_type": "stream",
     "text": [
      "Train Epoch: 75 [0/10020 (0%)]\tLoss: 1.324488\n",
      "Train Epoch: 75 [5120/10020 (50%)]\tLoss: 1.276852\n"
     ]
    },
    {
     "name": "stderr",
     "output_type": "stream",
     "text": [
      "Training Epochs:   8%|▊         | 75/1000 [01:40<20:31,  1.33s/it]"
     ]
    },
    {
     "name": "stdout",
     "output_type": "stream",
     "text": [
      "Train Epoch: 76 [0/10020 (0%)]\tLoss: 1.261576\n",
      "Train Epoch: 76 [5120/10020 (50%)]\tLoss: 1.281257\n"
     ]
    },
    {
     "name": "stderr",
     "output_type": "stream",
     "text": [
      "Training Epochs:   8%|▊         | 76/1000 [01:41<20:07,  1.31s/it]"
     ]
    },
    {
     "name": "stdout",
     "output_type": "stream",
     "text": [
      "Train Epoch: 77 [0/10020 (0%)]\tLoss: 1.266997\n",
      "Train Epoch: 77 [5120/10020 (50%)]\tLoss: 1.246117\n"
     ]
    },
    {
     "name": "stderr",
     "output_type": "stream",
     "text": [
      "Training Epochs:   8%|▊         | 77/1000 [01:42<20:19,  1.32s/it]"
     ]
    },
    {
     "name": "stdout",
     "output_type": "stream",
     "text": [
      "Train Epoch: 78 [0/10020 (0%)]\tLoss: 1.231881\n",
      "Train Epoch: 78 [5120/10020 (50%)]\tLoss: 1.262043\n"
     ]
    },
    {
     "name": "stderr",
     "output_type": "stream",
     "text": [
      "Training Epochs:   8%|▊         | 78/1000 [01:44<20:00,  1.30s/it]"
     ]
    },
    {
     "name": "stdout",
     "output_type": "stream",
     "text": [
      "Train Epoch: 79 [0/10020 (0%)]\tLoss: 1.222340\n",
      "Train Epoch: 79 [5120/10020 (50%)]\tLoss: 1.224665\n"
     ]
    },
    {
     "name": "stderr",
     "output_type": "stream",
     "text": [
      "Training Epochs:   8%|▊         | 79/1000 [01:45<19:45,  1.29s/it]"
     ]
    },
    {
     "name": "stdout",
     "output_type": "stream",
     "text": [
      "Train Epoch: 80 [0/10020 (0%)]\tLoss: 1.230075\n",
      "Train Epoch: 80 [5120/10020 (50%)]\tLoss: 1.215843\n"
     ]
    },
    {
     "name": "stderr",
     "output_type": "stream",
     "text": [
      "Training Epochs:   8%|▊         | 80/1000 [01:46<19:36,  1.28s/it]"
     ]
    },
    {
     "name": "stdout",
     "output_type": "stream",
     "text": [
      "Train Epoch: 81 [0/10020 (0%)]\tLoss: 1.248989\n",
      "Train Epoch: 81 [5120/10020 (50%)]\tLoss: 1.220626\n"
     ]
    },
    {
     "name": "stderr",
     "output_type": "stream",
     "text": [
      "Training Epochs:   8%|▊         | 81/1000 [01:47<19:32,  1.28s/it]"
     ]
    },
    {
     "name": "stdout",
     "output_type": "stream",
     "text": [
      "Train Epoch: 82 [0/10020 (0%)]\tLoss: 1.211693\n",
      "Train Epoch: 82 [5120/10020 (50%)]\tLoss: 1.194268\n"
     ]
    },
    {
     "name": "stderr",
     "output_type": "stream",
     "text": [
      "Training Epochs:   8%|▊         | 82/1000 [01:49<19:24,  1.27s/it]"
     ]
    },
    {
     "name": "stdout",
     "output_type": "stream",
     "text": [
      "Train Epoch: 83 [0/10020 (0%)]\tLoss: 1.184967\n",
      "Train Epoch: 83 [5120/10020 (50%)]\tLoss: 1.187191\n"
     ]
    },
    {
     "name": "stderr",
     "output_type": "stream",
     "text": [
      "Training Epochs:   8%|▊         | 83/1000 [01:50<19:18,  1.26s/it]"
     ]
    },
    {
     "name": "stdout",
     "output_type": "stream",
     "text": [
      "Train Epoch: 84 [0/10020 (0%)]\tLoss: 1.179913\n",
      "Train Epoch: 84 [5120/10020 (50%)]\tLoss: 1.213465\n"
     ]
    },
    {
     "name": "stderr",
     "output_type": "stream",
     "text": [
      "Training Epochs:   8%|▊         | 84/1000 [01:51<19:18,  1.26s/it]"
     ]
    },
    {
     "name": "stdout",
     "output_type": "stream",
     "text": [
      "Train Epoch: 85 [0/10020 (0%)]\tLoss: 1.153219\n",
      "Train Epoch: 85 [5120/10020 (50%)]\tLoss: 1.167031\n"
     ]
    },
    {
     "name": "stderr",
     "output_type": "stream",
     "text": [
      "Training Epochs:   8%|▊         | 84/1000 [01:52<20:30,  1.34s/it]"
     ]
    },
    {
     "name": "stdout",
     "output_type": "stream",
     "text": [
      "Early stopping at epoch 85\n"
     ]
    },
    {
     "name": "stderr",
     "output_type": "stream",
     "text": [
      "\n"
     ]
    }
   ],
   "source": [
    "sys.argv = [\n",
    "    'train.py',\n",
    "    '-dataset', f'gtd{partition}',\n",
    "    '-n_class', '30',\n",
    "    '-gpuid', '0',\n",
    "    '-n_tree', str(best_config['n_tree']),\n",
    "    '-tree_depth', str(best_config['tree_depth']),\n",
    "    '-batch_size', str(best_config['batch_size']),\n",
    "    '-epochs', '1000',\n",
    "    '-verbose', '1',\n",
    "    '-jointly_training'\n",
    "]\n",
    "\n",
    "best_model, preds, targets, labels, epoch_logs = main()\n"
   ]
  },
  {
   "cell_type": "code",
   "execution_count": 5,
   "metadata": {},
   "outputs": [
    {
     "name": "stdout",
     "output_type": "stream",
     "text": [
      "              precision    recall  f1-score   support\n",
      "\n",
      "           0       0.35      0.83      0.49       144\n",
      "           1       0.90      0.78      0.83       144\n",
      "           2       0.00      0.00      0.00       144\n",
      "           3       0.81      0.55      0.65       144\n",
      "           4       0.77      0.74      0.75       144\n",
      "           5       0.99      0.73      0.84       144\n",
      "           6       0.33      0.65      0.44       144\n",
      "           7       0.43      0.83      0.57       144\n",
      "           8       1.00      0.95      0.98       144\n",
      "           9       0.99      0.81      0.89       144\n",
      "          10       0.63      0.90      0.74       144\n",
      "          11       0.00      0.00      0.00       144\n",
      "          12       0.82      0.67      0.74       144\n",
      "          13       0.99      0.85      0.91       144\n",
      "          14       0.35      0.64      0.45       144\n",
      "          15       0.28      0.47      0.35       144\n",
      "          16       0.65      0.72      0.68       144\n",
      "          17       0.99      0.91      0.95       144\n",
      "          18       0.48      0.53      0.50       144\n",
      "          19       0.91      0.49      0.63       144\n",
      "          20       0.70      0.69      0.70       144\n",
      "          21       0.56      0.65      0.60       144\n",
      "          22       0.99      0.57      0.72       144\n",
      "          23       1.00      0.83      0.91       144\n",
      "          24       0.65      0.54      0.59       144\n",
      "          25       0.70      0.24      0.36       144\n",
      "          26       0.67      0.85      0.75       144\n",
      "          27       0.54      0.10      0.17       144\n",
      "          28       0.69      0.70      0.70       144\n",
      "          29       0.65      0.84      0.73       144\n",
      "\n",
      "    accuracy                           0.63      4320\n",
      "   macro avg       0.66      0.63      0.62      4320\n",
      "weighted avg       0.66      0.63      0.62      4320\n",
      "\n"
     ]
    },
    {
     "name": "stderr",
     "output_type": "stream",
     "text": [
      "/opt/conda/lib/python3.11/site-packages/sklearn/metrics/_classification.py:1517: UndefinedMetricWarning: Precision is ill-defined and being set to 0.0 in labels with no predicted samples. Use `zero_division` parameter to control this behavior.\n",
      "  _warn_prf(average, modifier, f\"{metric.capitalize()} is\", len(result))\n",
      "/opt/conda/lib/python3.11/site-packages/sklearn/metrics/_classification.py:1517: UndefinedMetricWarning: Precision is ill-defined and being set to 0.0 in labels with no predicted samples. Use `zero_division` parameter to control this behavior.\n",
      "  _warn_prf(average, modifier, f\"{metric.capitalize()} is\", len(result))\n",
      "/opt/conda/lib/python3.11/site-packages/sklearn/metrics/_classification.py:1517: UndefinedMetricWarning: Precision is ill-defined and being set to 0.0 in labels with no predicted samples. Use `zero_division` parameter to control this behavior.\n",
      "  _warn_prf(average, modifier, f\"{metric.capitalize()} is\", len(result))\n"
     ]
    }
   ],
   "source": [
    "from sklearn.metrics import classification_report\n",
    "\n",
    "print(classification_report(targets, preds))"
   ]
  },
  {
   "cell_type": "code",
   "execution_count": 6,
   "metadata": {},
   "outputs": [],
   "source": [
    "def plot_confusion_matrix(y_true, y_pred, labels, partition):\n",
    "    cm = confusion_matrix(y_true, y_pred, labels=range(len(labels)))\n",
    "    cm_normalized = cm.astype('float') / cm.sum(axis=1, keepdims=True)\n",
    "\n",
    "    plt.figure(figsize=(18, 16))\n",
    "    sns.heatmap(cm_normalized,\n",
    "                annot=True,\n",
    "                fmt=\".2f\",\n",
    "                xticklabels=labels,\n",
    "                yticklabels=labels,\n",
    "                cmap=\"viridis\",\n",
    "                square=True,\n",
    "                linewidths=0.5,\n",
    "                cbar_kws={\"shrink\": 0.8})\n",
    "\n",
    "    plt.title(f\"Normalized Confusion Matrix (Partition gtd{partition})\", fontsize=18)\n",
    "    plt.xlabel(\"Predicted Label\", fontsize=14)\n",
    "    plt.ylabel(\"True Label\", fontsize=14)\n",
    "    plt.xticks(rotation=90)\n",
    "    plt.yticks(rotation=0)\n",
    "    plt.tight_layout()\n",
    "\n",
    "    save_path = f\"results/confusion_matrix_partition_gtd{partition}.png\"\n",
    "    plt.savefig(save_path, dpi=300)\n",
    "    plt.close()\n",
    "\n",
    "    print(f\"Saved confusion matrix for partition gtd{partition} to {save_path}\")\n",
    "\n"
   ]
  },
  {
   "cell_type": "code",
   "execution_count": 7,
   "metadata": {},
   "outputs": [
    {
     "name": "stdout",
     "output_type": "stream",
     "text": [
      "Saved confusion matrix for partition gtd478 to results/confusion_matrix_partition_gtd478.png\n"
     ]
    }
   ],
   "source": [
    "plot_confusion_matrix(targets, preds, labels, partition)"
   ]
  }
 ],
 "metadata": {
  "kernelspec": {
   "display_name": "base",
   "language": "python",
   "name": "python3"
  },
  "language_info": {
   "codemirror_mode": {
    "name": "ipython",
    "version": 3
   },
   "file_extension": ".py",
   "mimetype": "text/x-python",
   "name": "python",
   "nbconvert_exporter": "python",
   "pygments_lexer": "ipython3",
   "version": "3.11.9"
  }
 },
 "nbformat": 4,
 "nbformat_minor": 2
}
