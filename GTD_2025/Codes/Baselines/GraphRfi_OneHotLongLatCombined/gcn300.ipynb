{
 "cells": [
  {
   "cell_type": "markdown",
   "id": "1ad5ec3d",
   "metadata": {},
   "source": [
    "# Import and Read data\n"
   ]
  },
  {
   "cell_type": "code",
   "execution_count": 1,
   "id": "e0c345e1",
   "metadata": {},
   "outputs": [
    {
     "name": "stderr",
     "output_type": "stream",
     "text": [
      "/opt/conda/lib/python3.11/site-packages/transformers/utils/hub.py:127: FutureWarning: Using `TRANSFORMERS_CACHE` is deprecated and will be removed in v5 of Transformers. Use `HF_HOME` instead.\n",
      "  warnings.warn(\n"
     ]
    }
   ],
   "source": [
    "import sys\n",
    "sys.path.append('.')  # Add current directory to path\n",
    "from build_graph_and_train import *\n",
    "import torch"
   ]
  },
  {
   "cell_type": "code",
   "execution_count": 2,
   "id": "5a4eb788",
   "metadata": {},
   "outputs": [],
   "source": [
    "partition = 300"
   ]
  },
  {
   "cell_type": "code",
   "execution_count": 3,
   "id": "24cfa874",
   "metadata": {},
   "outputs": [],
   "source": [
    "df = pd.read_csv(f\"../../../data/top30groups/LongLatCombined/combined/combined{partition}.csv\")"
   ]
  },
  {
   "cell_type": "code",
   "execution_count": 4,
   "id": "36923c49",
   "metadata": {},
   "outputs": [],
   "source": [
    "from sklearn.preprocessing import StandardScaler\n",
    "\n",
    "# Columns to exclude from scaling\n",
    "exclude_cols = ['gname', 'longitude', 'latitude']\n",
    "\n",
    "# Columns to scale\n",
    "scale_cols = [col for col in df.columns if col not in exclude_cols]\n",
    "\n",
    "# Scale only selected columns\n",
    "scaler = StandardScaler()\n",
    "df[scale_cols] = scaler.fit_transform(df[scale_cols])"
   ]
  },
  {
   "cell_type": "code",
   "execution_count": 5,
   "id": "0360bf97",
   "metadata": {},
   "outputs": [],
   "source": [
    "import os \n",
    "if not os.path.isdir(f\"Results{partition}\"):\n",
    "    os.mkdir(f\"Results{partition}\")"
   ]
  },
  {
   "cell_type": "markdown",
   "id": "219b6998",
   "metadata": {},
   "source": [
    "# Create longlat feature"
   ]
  },
  {
   "cell_type": "code",
   "execution_count": 6,
   "id": "2f55dd60",
   "metadata": {},
   "outputs": [],
   "source": [
    "geodata = ['longitude', 'latitude']\n",
    "combined_geo = df.copy()\n",
    "combined_geo['longlat'] = list(zip(df['longitude'], df['latitude']))\n",
    "combined_geo = combined_geo.drop(columns=geodata)"
   ]
  },
  {
   "cell_type": "code",
   "execution_count": 7,
   "id": "7f94e025",
   "metadata": {},
   "outputs": [],
   "source": [
    "import ast\n",
    "\n",
    "def to_tuple_if_needed(val):\n",
    "    if isinstance(val, str):\n",
    "        return ast.literal_eval(val)\n",
    "    return val  # already a tuple\n",
    "\n",
    "combined_geo['longlat'] = combined_geo['longlat'].apply(to_tuple_if_needed)"
   ]
  },
  {
   "cell_type": "markdown",
   "id": "8e3707b0",
   "metadata": {},
   "source": [
    "# Weapon type prediction"
   ]
  },
  {
   "cell_type": "code",
   "execution_count": 8,
   "id": "06a90beb",
   "metadata": {},
   "outputs": [],
   "source": [
    "torch.cuda.empty_cache()\n"
   ]
  },
  {
   "cell_type": "code",
   "execution_count": 9,
   "id": "41cc634b",
   "metadata": {},
   "outputs": [
    {
     "name": "stdout",
     "output_type": "stream",
     "text": [
      "\n",
      "Training model for weaptype1 prediction...\n",
      "Number of features in NRF input: 4392\n"
     ]
    },
    {
     "name": "stderr",
     "output_type": "stream",
     "text": [
      "Training epochs:   0%|          | 1/1000 [00:01<30:18,  1.82s/it]"
     ]
    },
    {
     "name": "stdout",
     "output_type": "stream",
     "text": [
      "Epoch 01 | GCN MSE Loss: 680.7216 | NRF Loss: 3.4017 | JOINT Loss: 684.1232 | NRF Acc: 0.0403\n"
     ]
    },
    {
     "name": "stderr",
     "output_type": "stream",
     "text": [
      "Training epochs:   0%|          | 2/1000 [00:03<26:32,  1.60s/it]"
     ]
    },
    {
     "name": "stdout",
     "output_type": "stream",
     "text": [
      "Epoch 02 | GCN MSE Loss: 662.9247 | NRF Loss: 3.3856 | JOINT Loss: 666.3103 | NRF Acc: 0.0890\n"
     ]
    },
    {
     "name": "stderr",
     "output_type": "stream",
     "text": [
      "Training epochs:   0%|          | 3/1000 [00:04<25:11,  1.52s/it]"
     ]
    },
    {
     "name": "stdout",
     "output_type": "stream",
     "text": [
      "Epoch 03 | GCN MSE Loss: 645.4278 | NRF Loss: 3.3641 | JOINT Loss: 648.7919 | NRF Acc: 0.0900\n"
     ]
    },
    {
     "name": "stderr",
     "output_type": "stream",
     "text": [
      "Training epochs:   0%|          | 4/1000 [00:06<24:30,  1.48s/it]"
     ]
    },
    {
     "name": "stdout",
     "output_type": "stream",
     "text": [
      "Epoch 04 | GCN MSE Loss: 628.2516 | NRF Loss: 3.3543 | JOINT Loss: 631.6058 | NRF Acc: 0.0957\n"
     ]
    },
    {
     "name": "stderr",
     "output_type": "stream",
     "text": [
      "Training epochs:   0%|          | 5/1000 [00:07<21:46,  1.31s/it]"
     ]
    },
    {
     "name": "stdout",
     "output_type": "stream",
     "text": [
      "Epoch 05 | GCN MSE Loss: 611.3815 | NRF Loss: 3.3491 | JOINT Loss: 614.7306 | NRF Acc: 0.0698\n"
     ]
    },
    {
     "name": "stderr",
     "output_type": "stream",
     "text": [
      "Training epochs:   1%|          | 6/1000 [00:08<20:07,  1.21s/it]"
     ]
    },
    {
     "name": "stdout",
     "output_type": "stream",
     "text": [
      "Epoch 06 | GCN MSE Loss: 594.8103 | NRF Loss: 3.3455 | JOINT Loss: 598.1558 | NRF Acc: 0.0597\n"
     ]
    },
    {
     "name": "stderr",
     "output_type": "stream",
     "text": [
      "Training epochs:   1%|          | 7/1000 [00:09<19:03,  1.15s/it]"
     ]
    },
    {
     "name": "stdout",
     "output_type": "stream",
     "text": [
      "Epoch 07 | GCN MSE Loss: 578.5394 | NRF Loss: 3.3418 | JOINT Loss: 581.8812 | NRF Acc: 0.0717\n"
     ]
    },
    {
     "name": "stderr",
     "output_type": "stream",
     "text": [
      "Training epochs:   1%|          | 8/1000 [00:10<20:34,  1.24s/it]"
     ]
    },
    {
     "name": "stdout",
     "output_type": "stream",
     "text": [
      "Epoch 08 | GCN MSE Loss: 562.5696 | NRF Loss: 3.3385 | JOINT Loss: 565.9082 | NRF Acc: 0.1454\n"
     ]
    },
    {
     "name": "stderr",
     "output_type": "stream",
     "text": [
      "Training epochs:   1%|          | 9/1000 [00:12<21:24,  1.30s/it]"
     ]
    },
    {
     "name": "stdout",
     "output_type": "stream",
     "text": [
      "Epoch 09 | GCN MSE Loss: 546.8983 | NRF Loss: 3.3359 | JOINT Loss: 550.2343 | NRF Acc: 0.1610\n"
     ]
    },
    {
     "name": "stderr",
     "output_type": "stream",
     "text": [
      "Training epochs:   1%|          | 10/1000 [00:13<22:02,  1.34s/it]"
     ]
    },
    {
     "name": "stdout",
     "output_type": "stream",
     "text": [
      "Epoch 10 | GCN MSE Loss: 531.5284 | NRF Loss: 3.3331 | JOINT Loss: 534.8616 | NRF Acc: 0.1756\n"
     ]
    },
    {
     "name": "stderr",
     "output_type": "stream",
     "text": [
      "Training epochs:   1%|          | 11/1000 [00:14<22:27,  1.36s/it]"
     ]
    },
    {
     "name": "stdout",
     "output_type": "stream",
     "text": [
      "Epoch 11 | GCN MSE Loss: 516.4542 | NRF Loss: 3.3307 | JOINT Loss: 519.7849 | NRF Acc: 0.1849\n"
     ]
    },
    {
     "name": "stderr",
     "output_type": "stream",
     "text": [
      "Training epochs:   1%|          | 12/1000 [00:16<22:44,  1.38s/it]"
     ]
    },
    {
     "name": "stdout",
     "output_type": "stream",
     "text": [
      "Epoch 12 | GCN MSE Loss: 501.6739 | NRF Loss: 3.3285 | JOINT Loss: 505.0023 | NRF Acc: 0.1911\n"
     ]
    },
    {
     "name": "stderr",
     "output_type": "stream",
     "text": [
      "Training epochs:   1%|▏         | 13/1000 [00:17<23:00,  1.40s/it]"
     ]
    },
    {
     "name": "stdout",
     "output_type": "stream",
     "text": [
      "Epoch 13 | GCN MSE Loss: 487.1856 | NRF Loss: 3.3262 | JOINT Loss: 490.5118 | NRF Acc: 0.1939\n"
     ]
    },
    {
     "name": "stderr",
     "output_type": "stream",
     "text": [
      "Training epochs:   1%|▏         | 14/1000 [00:19<23:12,  1.41s/it]"
     ]
    },
    {
     "name": "stdout",
     "output_type": "stream",
     "text": [
      "Epoch 14 | GCN MSE Loss: 472.9892 | NRF Loss: 3.3241 | JOINT Loss: 476.3133 | NRF Acc: 0.1951\n"
     ]
    },
    {
     "name": "stderr",
     "output_type": "stream",
     "text": [
      "Training epochs:   2%|▏         | 15/1000 [00:20<23:17,  1.42s/it]"
     ]
    },
    {
     "name": "stdout",
     "output_type": "stream",
     "text": [
      "Epoch 15 | GCN MSE Loss: 459.0861 | NRF Loss: 3.3221 | JOINT Loss: 462.4081 | NRF Acc: 0.1986\n"
     ]
    },
    {
     "name": "stderr",
     "output_type": "stream",
     "text": [
      "Training epochs:   2%|▏         | 16/1000 [00:22<23:18,  1.42s/it]"
     ]
    },
    {
     "name": "stdout",
     "output_type": "stream",
     "text": [
      "Epoch 16 | GCN MSE Loss: 445.4693 | NRF Loss: 3.3201 | JOINT Loss: 448.7894 | NRF Acc: 0.1996\n"
     ]
    },
    {
     "name": "stderr",
     "output_type": "stream",
     "text": [
      "Training epochs:   2%|▏         | 17/1000 [00:23<23:17,  1.42s/it]"
     ]
    },
    {
     "name": "stdout",
     "output_type": "stream",
     "text": [
      "Epoch 17 | GCN MSE Loss: 432.1377 | NRF Loss: 3.3184 | JOINT Loss: 435.4561 | NRF Acc: 0.2034\n"
     ]
    },
    {
     "name": "stderr",
     "output_type": "stream",
     "text": [
      "Training epochs:   2%|▏         | 18/1000 [00:24<23:17,  1.42s/it]"
     ]
    },
    {
     "name": "stdout",
     "output_type": "stream",
     "text": [
      "Epoch 18 | GCN MSE Loss: 419.0970 | NRF Loss: 3.3169 | JOINT Loss: 422.4138 | NRF Acc: 0.2088\n"
     ]
    },
    {
     "name": "stderr",
     "output_type": "stream",
     "text": [
      "Training epochs:   2%|▏         | 19/1000 [00:26<23:22,  1.43s/it]"
     ]
    },
    {
     "name": "stdout",
     "output_type": "stream",
     "text": [
      "Epoch 19 | GCN MSE Loss: 406.3452 | NRF Loss: 3.3153 | JOINT Loss: 409.6606 | NRF Acc: 0.2124\n"
     ]
    },
    {
     "name": "stderr",
     "output_type": "stream",
     "text": [
      "Training epochs:   2%|▏         | 20/1000 [00:27<23:25,  1.43s/it]"
     ]
    },
    {
     "name": "stdout",
     "output_type": "stream",
     "text": [
      "Epoch 20 | GCN MSE Loss: 393.8837 | NRF Loss: 3.3138 | JOINT Loss: 397.1975 | NRF Acc: 0.2135\n"
     ]
    },
    {
     "name": "stderr",
     "output_type": "stream",
     "text": [
      "Training epochs:   2%|▏         | 21/1000 [00:28<21:22,  1.31s/it]"
     ]
    },
    {
     "name": "stdout",
     "output_type": "stream",
     "text": [
      "Epoch 21 | GCN MSE Loss: 381.7204 | NRF Loss: 3.3126 | JOINT Loss: 385.0330 | NRF Acc: 0.2124\n"
     ]
    },
    {
     "name": "stderr",
     "output_type": "stream",
     "text": [
      "Training epochs:   2%|▏         | 22/1000 [00:29<19:57,  1.22s/it]"
     ]
    },
    {
     "name": "stdout",
     "output_type": "stream",
     "text": [
      "Epoch 22 | GCN MSE Loss: 369.8612 | NRF Loss: 3.3113 | JOINT Loss: 373.1725 | NRF Acc: 0.2119\n"
     ]
    },
    {
     "name": "stderr",
     "output_type": "stream",
     "text": [
      "Training epochs:   2%|▏         | 23/1000 [00:30<18:56,  1.16s/it]"
     ]
    },
    {
     "name": "stdout",
     "output_type": "stream",
     "text": [
      "Epoch 23 | GCN MSE Loss: 358.2986 | NRF Loss: 3.3102 | JOINT Loss: 361.6088 | NRF Acc: 0.2116\n"
     ]
    },
    {
     "name": "stderr",
     "output_type": "stream",
     "text": [
      "Training epochs:   2%|▏         | 24/1000 [00:31<18:13,  1.12s/it]"
     ]
    },
    {
     "name": "stdout",
     "output_type": "stream",
     "text": [
      "Epoch 24 | GCN MSE Loss: 347.0356 | NRF Loss: 3.3091 | JOINT Loss: 350.3447 | NRF Acc: 0.2071\n"
     ]
    },
    {
     "name": "stderr",
     "output_type": "stream",
     "text": [
      "Training epochs:   2%|▎         | 25/1000 [00:32<17:44,  1.09s/it]"
     ]
    },
    {
     "name": "stdout",
     "output_type": "stream",
     "text": [
      "Epoch 25 | GCN MSE Loss: 336.0604 | NRF Loss: 3.3081 | JOINT Loss: 339.3684 | NRF Acc: 0.2069\n"
     ]
    },
    {
     "name": "stderr",
     "output_type": "stream",
     "text": [
      "Training epochs:   3%|▎         | 26/1000 [00:33<17:22,  1.07s/it]"
     ]
    },
    {
     "name": "stdout",
     "output_type": "stream",
     "text": [
      "Epoch 26 | GCN MSE Loss: 325.3669 | NRF Loss: 3.3071 | JOINT Loss: 328.6741 | NRF Acc: 0.2064\n"
     ]
    },
    {
     "name": "stderr",
     "output_type": "stream",
     "text": [
      "Training epochs:   3%|▎         | 27/1000 [00:34<17:06,  1.06s/it]"
     ]
    },
    {
     "name": "stdout",
     "output_type": "stream",
     "text": [
      "Epoch 27 | GCN MSE Loss: 314.9516 | NRF Loss: 3.3063 | JOINT Loss: 318.2578 | NRF Acc: 0.2076\n"
     ]
    },
    {
     "name": "stderr",
     "output_type": "stream",
     "text": [
      "Training epochs:   3%|▎         | 28/1000 [00:35<16:56,  1.05s/it]"
     ]
    },
    {
     "name": "stdout",
     "output_type": "stream",
     "text": [
      "Epoch 28 | GCN MSE Loss: 304.8097 | NRF Loss: 3.3054 | JOINT Loss: 308.1152 | NRF Acc: 0.2086\n"
     ]
    },
    {
     "name": "stderr",
     "output_type": "stream",
     "text": [
      "Training epochs:   3%|▎         | 29/1000 [00:36<16:48,  1.04s/it]"
     ]
    },
    {
     "name": "stdout",
     "output_type": "stream",
     "text": [
      "Epoch 29 | GCN MSE Loss: 294.9370 | NRF Loss: 3.3047 | JOINT Loss: 298.2416 | NRF Acc: 0.2097\n"
     ]
    },
    {
     "name": "stderr",
     "output_type": "stream",
     "text": [
      "Training epochs:   3%|▎         | 30/1000 [00:37<16:41,  1.03s/it]"
     ]
    },
    {
     "name": "stdout",
     "output_type": "stream",
     "text": [
      "Epoch 30 | GCN MSE Loss: 285.3301 | NRF Loss: 3.3040 | JOINT Loss: 288.6341 | NRF Acc: 0.2100\n"
     ]
    },
    {
     "name": "stderr",
     "output_type": "stream",
     "text": [
      "Training epochs:   3%|▎         | 31/1000 [00:39<16:37,  1.03s/it]"
     ]
    },
    {
     "name": "stdout",
     "output_type": "stream",
     "text": [
      "Epoch 31 | GCN MSE Loss: 275.9927 | NRF Loss: 3.3033 | JOINT Loss: 279.2960 | NRF Acc: 0.2090\n"
     ]
    },
    {
     "name": "stderr",
     "output_type": "stream",
     "text": [
      "Training epochs:   3%|▎         | 32/1000 [00:40<16:34,  1.03s/it]"
     ]
    },
    {
     "name": "stdout",
     "output_type": "stream",
     "text": [
      "Epoch 32 | GCN MSE Loss: 266.9267 | NRF Loss: 3.3026 | JOINT Loss: 270.2294 | NRF Acc: 0.2069\n"
     ]
    },
    {
     "name": "stderr",
     "output_type": "stream",
     "text": [
      "Training epochs:   3%|▎         | 33/1000 [00:41<16:29,  1.02s/it]"
     ]
    },
    {
     "name": "stdout",
     "output_type": "stream",
     "text": [
      "Epoch 33 | GCN MSE Loss: 258.1317 | NRF Loss: 3.3020 | JOINT Loss: 261.4337 | NRF Acc: 0.2076\n"
     ]
    },
    {
     "name": "stderr",
     "output_type": "stream",
     "text": [
      "Training epochs:   3%|▎         | 34/1000 [00:42<16:24,  1.02s/it]"
     ]
    },
    {
     "name": "stdout",
     "output_type": "stream",
     "text": [
      "Epoch 34 | GCN MSE Loss: 249.6028 | NRF Loss: 3.3014 | JOINT Loss: 252.9042 | NRF Acc: 0.2043\n"
     ]
    },
    {
     "name": "stderr",
     "output_type": "stream",
     "text": [
      "Training epochs:   4%|▎         | 35/1000 [00:42<14:49,  1.08it/s]"
     ]
    },
    {
     "name": "stdout",
     "output_type": "stream",
     "text": [
      "Epoch 35 | GCN MSE Loss: 241.3275 | NRF Loss: 3.3007 | JOINT Loss: 244.6282 | NRF Acc: 0.2046\n"
     ]
    },
    {
     "name": "stderr",
     "output_type": "stream",
     "text": [
      "Training epochs:   4%|▎         | 36/1000 [00:43<13:41,  1.17it/s]"
     ]
    },
    {
     "name": "stdout",
     "output_type": "stream",
     "text": [
      "Epoch 36 | GCN MSE Loss: 233.2939 | NRF Loss: 3.3000 | JOINT Loss: 236.5939 | NRF Acc: 0.2041\n"
     ]
    },
    {
     "name": "stderr",
     "output_type": "stream",
     "text": [
      "Training epochs:   4%|▎         | 37/1000 [00:44<14:28,  1.11it/s]"
     ]
    },
    {
     "name": "stdout",
     "output_type": "stream",
     "text": [
      "Epoch 37 | GCN MSE Loss: 225.4917 | NRF Loss: 3.2993 | JOINT Loss: 228.7910 | NRF Acc: 0.2039\n"
     ]
    },
    {
     "name": "stderr",
     "output_type": "stream",
     "text": [
      "Training epochs:   4%|▍         | 38/1000 [00:45<15:02,  1.07it/s]"
     ]
    },
    {
     "name": "stdout",
     "output_type": "stream",
     "text": [
      "Epoch 38 | GCN MSE Loss: 217.9155 | NRF Loss: 3.2985 | JOINT Loss: 221.2140 | NRF Acc: 0.2062\n"
     ]
    },
    {
     "name": "stderr",
     "output_type": "stream",
     "text": [
      "Training epochs:   4%|▍         | 39/1000 [00:46<15:25,  1.04it/s]"
     ]
    },
    {
     "name": "stdout",
     "output_type": "stream",
     "text": [
      "Epoch 39 | GCN MSE Loss: 210.5598 | NRF Loss: 3.2976 | JOINT Loss: 213.8574 | NRF Acc: 0.2104\n"
     ]
    },
    {
     "name": "stderr",
     "output_type": "stream",
     "text": [
      "Training epochs:   4%|▍         | 40/1000 [00:47<15:41,  1.02it/s]"
     ]
    },
    {
     "name": "stdout",
     "output_type": "stream",
     "text": [
      "Epoch 40 | GCN MSE Loss: 203.4205 | NRF Loss: 3.2966 | JOINT Loss: 206.7171 | NRF Acc: 0.2121\n"
     ]
    },
    {
     "name": "stderr",
     "output_type": "stream",
     "text": [
      "Training epochs:   4%|▍         | 41/1000 [00:48<15:52,  1.01it/s]"
     ]
    },
    {
     "name": "stdout",
     "output_type": "stream",
     "text": [
      "Epoch 41 | GCN MSE Loss: 196.4910 | NRF Loss: 3.2955 | JOINT Loss: 199.7865 | NRF Acc: 0.2069\n"
     ]
    },
    {
     "name": "stderr",
     "output_type": "stream",
     "text": [
      "Training epochs:   4%|▍         | 42/1000 [00:49<15:58,  1.00s/it]"
     ]
    },
    {
     "name": "stdout",
     "output_type": "stream",
     "text": [
      "Epoch 42 | GCN MSE Loss: 189.7667 | NRF Loss: 3.2943 | JOINT Loss: 193.0611 | NRF Acc: 0.2038\n"
     ]
    },
    {
     "name": "stderr",
     "output_type": "stream",
     "text": [
      "Training epochs:   4%|▍         | 43/1000 [00:50<16:02,  1.01s/it]"
     ]
    },
    {
     "name": "stdout",
     "output_type": "stream",
     "text": [
      "Epoch 43 | GCN MSE Loss: 183.2440 | NRF Loss: 3.2931 | JOINT Loss: 186.5371 | NRF Acc: 0.2027\n"
     ]
    },
    {
     "name": "stderr",
     "output_type": "stream",
     "text": [
      "Training epochs:   4%|▍         | 44/1000 [00:52<18:09,  1.14s/it]"
     ]
    },
    {
     "name": "stdout",
     "output_type": "stream",
     "text": [
      "Epoch 44 | GCN MSE Loss: 176.9173 | NRF Loss: 3.2917 | JOINT Loss: 180.2090 | NRF Acc: 0.2149\n"
     ]
    },
    {
     "name": "stderr",
     "output_type": "stream",
     "text": [
      "Training epochs:   4%|▍         | 45/1000 [00:53<19:34,  1.23s/it]"
     ]
    },
    {
     "name": "stdout",
     "output_type": "stream",
     "text": [
      "Epoch 45 | GCN MSE Loss: 170.7817 | NRF Loss: 3.2903 | JOINT Loss: 174.0720 | NRF Acc: 0.2211\n"
     ]
    },
    {
     "name": "stderr",
     "output_type": "stream",
     "text": [
      "Training epochs:   5%|▍         | 46/1000 [00:54<20:26,  1.29s/it]"
     ]
    },
    {
     "name": "stdout",
     "output_type": "stream",
     "text": [
      "Epoch 46 | GCN MSE Loss: 164.8332 | NRF Loss: 3.2887 | JOINT Loss: 168.1219 | NRF Acc: 0.2301\n"
     ]
    },
    {
     "name": "stderr",
     "output_type": "stream",
     "text": [
      "Training epochs:   5%|▍         | 47/1000 [00:56<21:03,  1.33s/it]"
     ]
    },
    {
     "name": "stdout",
     "output_type": "stream",
     "text": [
      "Epoch 47 | GCN MSE Loss: 159.0671 | NRF Loss: 3.2871 | JOINT Loss: 162.3542 | NRF Acc: 0.2377\n"
     ]
    },
    {
     "name": "stderr",
     "output_type": "stream",
     "text": [
      "Training epochs:   5%|▍         | 48/1000 [00:57<21:29,  1.35s/it]"
     ]
    },
    {
     "name": "stdout",
     "output_type": "stream",
     "text": [
      "Epoch 48 | GCN MSE Loss: 153.4782 | NRF Loss: 3.2854 | JOINT Loss: 156.7637 | NRF Acc: 0.2400\n"
     ]
    },
    {
     "name": "stderr",
     "output_type": "stream",
     "text": [
      "Training epochs:   5%|▍         | 49/1000 [00:59<21:47,  1.37s/it]"
     ]
    },
    {
     "name": "stdout",
     "output_type": "stream",
     "text": [
      "Epoch 49 | GCN MSE Loss: 148.0615 | NRF Loss: 3.2837 | JOINT Loss: 151.3452 | NRF Acc: 0.2438\n"
     ]
    },
    {
     "name": "stderr",
     "output_type": "stream",
     "text": [
      "Training epochs:   5%|▌         | 50/1000 [01:00<22:06,  1.40s/it]"
     ]
    },
    {
     "name": "stdout",
     "output_type": "stream",
     "text": [
      "Epoch 50 | GCN MSE Loss: 142.8123 | NRF Loss: 3.2818 | JOINT Loss: 146.0941 | NRF Acc: 0.2476\n"
     ]
    },
    {
     "name": "stderr",
     "output_type": "stream",
     "text": [
      "Training epochs:   5%|▌         | 51/1000 [01:02<22:20,  1.41s/it]"
     ]
    },
    {
     "name": "stdout",
     "output_type": "stream",
     "text": [
      "Epoch 51 | GCN MSE Loss: 137.7260 | NRF Loss: 3.2799 | JOINT Loss: 141.0059 | NRF Acc: 0.2510\n"
     ]
    },
    {
     "name": "stderr",
     "output_type": "stream",
     "text": [
      "Training epochs:   5%|▌         | 52/1000 [01:03<22:21,  1.42s/it]"
     ]
    },
    {
     "name": "stdout",
     "output_type": "stream",
     "text": [
      "Epoch 52 | GCN MSE Loss: 132.7983 | NRF Loss: 3.2779 | JOINT Loss: 136.0762 | NRF Acc: 0.2540\n"
     ]
    },
    {
     "name": "stderr",
     "output_type": "stream",
     "text": [
      "Training epochs:   5%|▌         | 53/1000 [01:04<22:22,  1.42s/it]"
     ]
    },
    {
     "name": "stdout",
     "output_type": "stream",
     "text": [
      "Epoch 53 | GCN MSE Loss: 128.0248 | NRF Loss: 3.2759 | JOINT Loss: 131.3008 | NRF Acc: 0.2564\n"
     ]
    },
    {
     "name": "stderr",
     "output_type": "stream",
     "text": [
      "Training epochs:   5%|▌         | 54/1000 [01:06<22:22,  1.42s/it]"
     ]
    },
    {
     "name": "stdout",
     "output_type": "stream",
     "text": [
      "Epoch 54 | GCN MSE Loss: 123.4014 | NRF Loss: 3.2739 | JOINT Loss: 126.6753 | NRF Acc: 0.2599\n"
     ]
    },
    {
     "name": "stderr",
     "output_type": "stream",
     "text": [
      "Training epochs:   6%|▌         | 55/1000 [01:07<22:22,  1.42s/it]"
     ]
    },
    {
     "name": "stdout",
     "output_type": "stream",
     "text": [
      "Epoch 55 | GCN MSE Loss: 118.9240 | NRF Loss: 3.2719 | JOINT Loss: 122.1959 | NRF Acc: 0.2630\n"
     ]
    },
    {
     "name": "stderr",
     "output_type": "stream",
     "text": [
      "Training epochs:   6%|▌         | 56/1000 [01:09<22:29,  1.43s/it]"
     ]
    },
    {
     "name": "stdout",
     "output_type": "stream",
     "text": [
      "Epoch 56 | GCN MSE Loss: 114.5887 | NRF Loss: 3.2698 | JOINT Loss: 117.8585 | NRF Acc: 0.2642\n"
     ]
    },
    {
     "name": "stderr",
     "output_type": "stream",
     "text": [
      "Training epochs:   6%|▌         | 57/1000 [01:10<22:33,  1.44s/it]"
     ]
    },
    {
     "name": "stdout",
     "output_type": "stream",
     "text": [
      "Epoch 57 | GCN MSE Loss: 110.3914 | NRF Loss: 3.2678 | JOINT Loss: 113.6592 | NRF Acc: 0.2670\n"
     ]
    },
    {
     "name": "stderr",
     "output_type": "stream",
     "text": [
      "Training epochs:   6%|▌         | 58/1000 [01:11<20:35,  1.31s/it]"
     ]
    },
    {
     "name": "stdout",
     "output_type": "stream",
     "text": [
      "Epoch 58 | GCN MSE Loss: 106.3281 | NRF Loss: 3.2658 | JOINT Loss: 109.5939 | NRF Acc: 0.2664\n"
     ]
    },
    {
     "name": "stderr",
     "output_type": "stream",
     "text": [
      "Training epochs:   6%|▌         | 59/1000 [01:13<21:12,  1.35s/it]"
     ]
    },
    {
     "name": "stdout",
     "output_type": "stream",
     "text": [
      "Epoch 59 | GCN MSE Loss: 102.3955 | NRF Loss: 3.2638 | JOINT Loss: 105.6593 | NRF Acc: 0.2680\n"
     ]
    },
    {
     "name": "stderr",
     "output_type": "stream",
     "text": [
      "Training epochs:   6%|▌         | 60/1000 [01:14<21:28,  1.37s/it]"
     ]
    },
    {
     "name": "stdout",
     "output_type": "stream",
     "text": [
      "Epoch 60 | GCN MSE Loss: 98.5900 | NRF Loss: 3.2618 | JOINT Loss: 101.8519 | NRF Acc: 0.2701\n"
     ]
    },
    {
     "name": "stderr",
     "output_type": "stream",
     "text": [
      "Training epochs:   6%|▌         | 61/1000 [01:15<19:48,  1.27s/it]"
     ]
    },
    {
     "name": "stdout",
     "output_type": "stream",
     "text": [
      "Epoch 61 | GCN MSE Loss: 94.9084 | NRF Loss: 3.2599 | JOINT Loss: 98.1683 | NRF Acc: 0.2692\n"
     ]
    },
    {
     "name": "stderr",
     "output_type": "stream",
     "text": [
      "Training epochs:   6%|▌         | 62/1000 [01:16<20:31,  1.31s/it]"
     ]
    },
    {
     "name": "stdout",
     "output_type": "stream",
     "text": [
      "Epoch 62 | GCN MSE Loss: 91.3471 | NRF Loss: 3.2580 | JOINT Loss: 94.6051 | NRF Acc: 0.2704\n"
     ]
    },
    {
     "name": "stderr",
     "output_type": "stream",
     "text": [
      "Training epochs:   6%|▋         | 63/1000 [01:18<21:00,  1.35s/it]"
     ]
    },
    {
     "name": "stdout",
     "output_type": "stream",
     "text": [
      "Epoch 63 | GCN MSE Loss: 87.9030 | NRF Loss: 3.2561 | JOINT Loss: 91.1591 | NRF Acc: 0.2737\n"
     ]
    },
    {
     "name": "stderr",
     "output_type": "stream",
     "text": [
      "Training epochs:   6%|▋         | 64/1000 [01:19<21:20,  1.37s/it]"
     ]
    },
    {
     "name": "stdout",
     "output_type": "stream",
     "text": [
      "Epoch 64 | GCN MSE Loss: 84.5726 | NRF Loss: 3.2543 | JOINT Loss: 87.8269 | NRF Acc: 0.2763\n"
     ]
    },
    {
     "name": "stderr",
     "output_type": "stream",
     "text": [
      "Training epochs:   6%|▋         | 65/1000 [01:21<21:35,  1.39s/it]"
     ]
    },
    {
     "name": "stdout",
     "output_type": "stream",
     "text": [
      "Epoch 65 | GCN MSE Loss: 81.3531 | NRF Loss: 3.2525 | JOINT Loss: 84.6056 | NRF Acc: 0.2798\n"
     ]
    },
    {
     "name": "stderr",
     "output_type": "stream",
     "text": [
      "Training epochs:   7%|▋         | 66/1000 [01:22<19:52,  1.28s/it]"
     ]
    },
    {
     "name": "stdout",
     "output_type": "stream",
     "text": [
      "Epoch 66 | GCN MSE Loss: 78.2414 | NRF Loss: 3.2508 | JOINT Loss: 81.4922 | NRF Acc: 0.2761\n"
     ]
    },
    {
     "name": "stderr",
     "output_type": "stream",
     "text": [
      "Training epochs:   7%|▋         | 67/1000 [01:23<18:40,  1.20s/it]"
     ]
    },
    {
     "name": "stdout",
     "output_type": "stream",
     "text": [
      "Epoch 67 | GCN MSE Loss: 75.2345 | NRF Loss: 3.2491 | JOINT Loss: 78.4836 | NRF Acc: 0.2744\n"
     ]
    },
    {
     "name": "stderr",
     "output_type": "stream",
     "text": [
      "Training epochs:   7%|▋         | 68/1000 [01:24<17:49,  1.15s/it]"
     ]
    },
    {
     "name": "stdout",
     "output_type": "stream",
     "text": [
      "Epoch 68 | GCN MSE Loss: 72.3296 | NRF Loss: 3.2475 | JOINT Loss: 75.5771 | NRF Acc: 0.2703\n"
     ]
    },
    {
     "name": "stderr",
     "output_type": "stream",
     "text": [
      "Training epochs:   7%|▋         | 69/1000 [01:25<17:12,  1.11s/it]"
     ]
    },
    {
     "name": "stdout",
     "output_type": "stream",
     "text": [
      "Epoch 69 | GCN MSE Loss: 69.5241 | NRF Loss: 3.2459 | JOINT Loss: 72.7700 | NRF Acc: 0.2630\n"
     ]
    },
    {
     "name": "stderr",
     "output_type": "stream",
     "text": [
      "Training epochs:   7%|▋         | 70/1000 [01:26<16:46,  1.08s/it]"
     ]
    },
    {
     "name": "stdout",
     "output_type": "stream",
     "text": [
      "Epoch 70 | GCN MSE Loss: 66.8151 | NRF Loss: 3.2443 | JOINT Loss: 70.0594 | NRF Acc: 0.2597\n"
     ]
    },
    {
     "name": "stderr",
     "output_type": "stream",
     "text": [
      "Training epochs:   7%|▋         | 71/1000 [01:27<16:27,  1.06s/it]"
     ]
    },
    {
     "name": "stdout",
     "output_type": "stream",
     "text": [
      "Epoch 71 | GCN MSE Loss: 64.2001 | NRF Loss: 3.2428 | JOINT Loss: 67.4429 | NRF Acc: 0.2523\n"
     ]
    },
    {
     "name": "stderr",
     "output_type": "stream",
     "text": [
      "Training epochs:   7%|▋         | 72/1000 [01:28<16:14,  1.05s/it]"
     ]
    },
    {
     "name": "stdout",
     "output_type": "stream",
     "text": [
      "Epoch 72 | GCN MSE Loss: 61.6767 | NRF Loss: 3.2413 | JOINT Loss: 64.9180 | NRF Acc: 0.2462\n"
     ]
    },
    {
     "name": "stderr",
     "output_type": "stream",
     "text": [
      "Training epochs:   7%|▋         | 73/1000 [01:29<16:06,  1.04s/it]"
     ]
    },
    {
     "name": "stdout",
     "output_type": "stream",
     "text": [
      "Epoch 73 | GCN MSE Loss: 59.2420 | NRF Loss: 3.2399 | JOINT Loss: 62.4819 | NRF Acc: 0.2401\n"
     ]
    },
    {
     "name": "stderr",
     "output_type": "stream",
     "text": [
      "Training epochs:   7%|▋         | 74/1000 [01:30<16:01,  1.04s/it]"
     ]
    },
    {
     "name": "stdout",
     "output_type": "stream",
     "text": [
      "Epoch 74 | GCN MSE Loss: 56.8940 | NRF Loss: 3.2385 | JOINT Loss: 60.1325 | NRF Acc: 0.2381\n"
     ]
    },
    {
     "name": "stderr",
     "output_type": "stream",
     "text": [
      "Training epochs:   8%|▊         | 75/1000 [01:31<15:56,  1.03s/it]"
     ]
    },
    {
     "name": "stdout",
     "output_type": "stream",
     "text": [
      "Epoch 75 | GCN MSE Loss: 54.6301 | NRF Loss: 3.2371 | JOINT Loss: 57.8672 | NRF Acc: 0.2360\n"
     ]
    },
    {
     "name": "stderr",
     "output_type": "stream",
     "text": [
      "Training epochs:   8%|▊         | 76/1000 [01:32<15:52,  1.03s/it]"
     ]
    },
    {
     "name": "stdout",
     "output_type": "stream",
     "text": [
      "Epoch 76 | GCN MSE Loss: 52.4482 | NRF Loss: 3.2358 | JOINT Loss: 55.6839 | NRF Acc: 0.2358\n"
     ]
    },
    {
     "name": "stderr",
     "output_type": "stream",
     "text": [
      "Training epochs:   8%|▊         | 77/1000 [01:33<15:50,  1.03s/it]"
     ]
    },
    {
     "name": "stdout",
     "output_type": "stream",
     "text": [
      "Epoch 77 | GCN MSE Loss: 50.3458 | NRF Loss: 3.2345 | JOINT Loss: 53.5802 | NRF Acc: 0.2360\n"
     ]
    },
    {
     "name": "stderr",
     "output_type": "stream",
     "text": [
      "Training epochs:   8%|▊         | 78/1000 [01:34<15:48,  1.03s/it]"
     ]
    },
    {
     "name": "stdout",
     "output_type": "stream",
     "text": [
      "Epoch 78 | GCN MSE Loss: 48.3207 | NRF Loss: 3.2332 | JOINT Loss: 51.5539 | NRF Acc: 0.2355\n"
     ]
    },
    {
     "name": "stderr",
     "output_type": "stream",
     "text": [
      "Training epochs:   8%|▊         | 79/1000 [01:35<15:45,  1.03s/it]"
     ]
    },
    {
     "name": "stdout",
     "output_type": "stream",
     "text": [
      "Epoch 79 | GCN MSE Loss: 46.3710 | NRF Loss: 3.2319 | JOINT Loss: 49.6029 | NRF Acc: 0.2367\n"
     ]
    },
    {
     "name": "stderr",
     "output_type": "stream",
     "text": [
      "Training epochs:   8%|▊         | 80/1000 [01:36<15:42,  1.02s/it]"
     ]
    },
    {
     "name": "stdout",
     "output_type": "stream",
     "text": [
      "Epoch 80 | GCN MSE Loss: 44.4943 | NRF Loss: 3.2307 | JOINT Loss: 47.7250 | NRF Acc: 0.2368\n"
     ]
    },
    {
     "name": "stderr",
     "output_type": "stream",
     "text": [
      "Training epochs:   8%|▊         | 81/1000 [01:37<15:42,  1.03s/it]"
     ]
    },
    {
     "name": "stdout",
     "output_type": "stream",
     "text": [
      "Epoch 81 | GCN MSE Loss: 42.6886 | NRF Loss: 3.2296 | JOINT Loss: 45.9182 | NRF Acc: 0.2375\n"
     ]
    },
    {
     "name": "stderr",
     "output_type": "stream",
     "text": [
      "Training epochs:   8%|▊         | 82/1000 [01:38<15:41,  1.03s/it]"
     ]
    },
    {
     "name": "stdout",
     "output_type": "stream",
     "text": [
      "Epoch 82 | GCN MSE Loss: 40.9519 | NRF Loss: 3.2284 | JOINT Loss: 44.1803 | NRF Acc: 0.2381\n"
     ]
    },
    {
     "name": "stderr",
     "output_type": "stream",
     "text": [
      "Training epochs:   8%|▊         | 83/1000 [01:39<15:39,  1.02s/it]"
     ]
    },
    {
     "name": "stdout",
     "output_type": "stream",
     "text": [
      "Epoch 83 | GCN MSE Loss: 39.2822 | NRF Loss: 3.2273 | JOINT Loss: 42.5095 | NRF Acc: 0.2391\n"
     ]
    },
    {
     "name": "stderr",
     "output_type": "stream",
     "text": [
      "Training epochs:   8%|▊         | 84/1000 [01:40<15:38,  1.02s/it]"
     ]
    },
    {
     "name": "stdout",
     "output_type": "stream",
     "text": [
      "Epoch 84 | GCN MSE Loss: 37.6775 | NRF Loss: 3.2262 | JOINT Loss: 40.9037 | NRF Acc: 0.2426\n"
     ]
    },
    {
     "name": "stderr",
     "output_type": "stream",
     "text": [
      "Training epochs:   8%|▊         | 85/1000 [01:41<15:36,  1.02s/it]"
     ]
    },
    {
     "name": "stdout",
     "output_type": "stream",
     "text": [
      "Epoch 85 | GCN MSE Loss: 36.1357 | NRF Loss: 3.2252 | JOINT Loss: 39.3608 | NRF Acc: 0.2483\n"
     ]
    },
    {
     "name": "stderr",
     "output_type": "stream",
     "text": [
      "Training epochs:   9%|▊         | 86/1000 [01:42<15:35,  1.02s/it]"
     ]
    },
    {
     "name": "stdout",
     "output_type": "stream",
     "text": [
      "Epoch 86 | GCN MSE Loss: 34.6550 | NRF Loss: 3.2241 | JOINT Loss: 37.8792 | NRF Acc: 0.2509\n"
     ]
    },
    {
     "name": "stderr",
     "output_type": "stream",
     "text": [
      "Training epochs:   9%|▊         | 87/1000 [01:43<15:35,  1.02s/it]"
     ]
    },
    {
     "name": "stdout",
     "output_type": "stream",
     "text": [
      "Epoch 87 | GCN MSE Loss: 33.2336 | NRF Loss: 3.2232 | JOINT Loss: 36.4567 | NRF Acc: 0.2498\n"
     ]
    },
    {
     "name": "stderr",
     "output_type": "stream",
     "text": [
      "Training epochs:   9%|▉         | 88/1000 [01:44<15:34,  1.03s/it]"
     ]
    },
    {
     "name": "stdout",
     "output_type": "stream",
     "text": [
      "Epoch 88 | GCN MSE Loss: 31.8694 | NRF Loss: 3.2222 | JOINT Loss: 35.0916 | NRF Acc: 0.2526\n"
     ]
    },
    {
     "name": "stderr",
     "output_type": "stream",
     "text": [
      "Training epochs:   9%|▉         | 89/1000 [01:45<15:33,  1.03s/it]"
     ]
    },
    {
     "name": "stdout",
     "output_type": "stream",
     "text": [
      "Epoch 89 | GCN MSE Loss: 30.5608 | NRF Loss: 3.2214 | JOINT Loss: 33.7821 | NRF Acc: 0.2528\n"
     ]
    },
    {
     "name": "stderr",
     "output_type": "stream",
     "text": [
      "Training epochs:   9%|▉         | 90/1000 [01:46<15:30,  1.02s/it]"
     ]
    },
    {
     "name": "stdout",
     "output_type": "stream",
     "text": [
      "Epoch 90 | GCN MSE Loss: 29.3060 | NRF Loss: 3.2205 | JOINT Loss: 32.5265 | NRF Acc: 0.2524\n"
     ]
    },
    {
     "name": "stderr",
     "output_type": "stream",
     "text": [
      "Training epochs:   9%|▉         | 91/1000 [01:47<15:29,  1.02s/it]"
     ]
    },
    {
     "name": "stdout",
     "output_type": "stream",
     "text": [
      "Epoch 91 | GCN MSE Loss: 28.1034 | NRF Loss: 3.2197 | JOINT Loss: 31.3231 | NRF Acc: 0.2540\n"
     ]
    },
    {
     "name": "stderr",
     "output_type": "stream",
     "text": [
      "Training epochs:   9%|▉         | 92/1000 [01:48<15:27,  1.02s/it]"
     ]
    },
    {
     "name": "stdout",
     "output_type": "stream",
     "text": [
      "Epoch 92 | GCN MSE Loss: 26.9510 | NRF Loss: 3.2189 | JOINT Loss: 30.1699 | NRF Acc: 0.2529\n"
     ]
    },
    {
     "name": "stderr",
     "output_type": "stream",
     "text": [
      "Training epochs:   9%|▉         | 93/1000 [01:49<15:27,  1.02s/it]"
     ]
    },
    {
     "name": "stdout",
     "output_type": "stream",
     "text": [
      "Epoch 93 | GCN MSE Loss: 25.8472 | NRF Loss: 3.2182 | JOINT Loss: 29.0654 | NRF Acc: 0.2531\n"
     ]
    },
    {
     "name": "stderr",
     "output_type": "stream",
     "text": [
      "Training epochs:   9%|▉         | 94/1000 [01:50<15:23,  1.02s/it]"
     ]
    },
    {
     "name": "stdout",
     "output_type": "stream",
     "text": [
      "Epoch 94 | GCN MSE Loss: 24.7905 | NRF Loss: 3.2175 | JOINT Loss: 28.0080 | NRF Acc: 0.2529\n"
     ]
    },
    {
     "name": "stderr",
     "output_type": "stream",
     "text": [
      "Training epochs:  10%|▉         | 95/1000 [01:51<15:19,  1.02s/it]"
     ]
    },
    {
     "name": "stdout",
     "output_type": "stream",
     "text": [
      "Epoch 95 | GCN MSE Loss: 23.7792 | NRF Loss: 3.2169 | JOINT Loss: 26.9961 | NRF Acc: 0.2529\n"
     ]
    },
    {
     "name": "stderr",
     "output_type": "stream",
     "text": [
      "Training epochs:  10%|▉         | 96/1000 [01:52<12:59,  1.16it/s]"
     ]
    },
    {
     "name": "stdout",
     "output_type": "stream",
     "text": [
      "Epoch 96 | GCN MSE Loss: 22.8118 | NRF Loss: 3.2163 | JOINT Loss: 26.0281 | NRF Acc: 0.2552\n"
     ]
    },
    {
     "name": "stderr",
     "output_type": "stream",
     "text": [
      "Training epochs:  10%|▉         | 97/1000 [01:53<12:57,  1.16it/s]"
     ]
    },
    {
     "name": "stdout",
     "output_type": "stream",
     "text": [
      "Epoch 97 | GCN MSE Loss: 21.8867 | NRF Loss: 3.2157 | JOINT Loss: 25.1024 | NRF Acc: 0.2600\n"
     ]
    },
    {
     "name": "stderr",
     "output_type": "stream",
     "text": [
      "Training epochs:  10%|▉         | 98/1000 [01:54<13:39,  1.10it/s]"
     ]
    },
    {
     "name": "stdout",
     "output_type": "stream",
     "text": [
      "Epoch 98 | GCN MSE Loss: 21.0025 | NRF Loss: 3.2152 | JOINT Loss: 24.2177 | NRF Acc: 0.2718\n"
     ]
    },
    {
     "name": "stderr",
     "output_type": "stream",
     "text": [
      "Training epochs:  10%|▉         | 99/1000 [01:55<15:58,  1.06s/it]"
     ]
    },
    {
     "name": "stdout",
     "output_type": "stream",
     "text": [
      "Epoch 99 | GCN MSE Loss: 20.1576 | NRF Loss: 3.2147 | JOINT Loss: 23.3723 | NRF Acc: 0.2813\n"
     ]
    },
    {
     "name": "stderr",
     "output_type": "stream",
     "text": [
      "Training epochs:  10%|█         | 100/1000 [01:57<17:40,  1.18s/it]"
     ]
    },
    {
     "name": "stdout",
     "output_type": "stream",
     "text": [
      "Epoch 100 | GCN MSE Loss: 19.3505 | NRF Loss: 3.2142 | JOINT Loss: 22.5647 | NRF Acc: 0.2877\n"
     ]
    },
    {
     "name": "stderr",
     "output_type": "stream",
     "text": [
      "Training epochs:  10%|█         | 101/1000 [01:58<18:50,  1.26s/it]"
     ]
    },
    {
     "name": "stdout",
     "output_type": "stream",
     "text": [
      "Epoch 101 | GCN MSE Loss: 18.5800 | NRF Loss: 3.2137 | JOINT Loss: 21.7937 | NRF Acc: 0.2971\n"
     ]
    },
    {
     "name": "stderr",
     "output_type": "stream",
     "text": [
      "Training epochs:  10%|█         | 102/1000 [02:00<19:35,  1.31s/it]"
     ]
    },
    {
     "name": "stdout",
     "output_type": "stream",
     "text": [
      "Epoch 102 | GCN MSE Loss: 17.8445 | NRF Loss: 3.2133 | JOINT Loss: 21.0578 | NRF Acc: 0.2999\n"
     ]
    },
    {
     "name": "stderr",
     "output_type": "stream",
     "text": [
      "Training epochs:  10%|█         | 103/1000 [02:01<20:09,  1.35s/it]"
     ]
    },
    {
     "name": "stdout",
     "output_type": "stream",
     "text": [
      "Epoch 103 | GCN MSE Loss: 17.1428 | NRF Loss: 3.2128 | JOINT Loss: 20.3556 | NRF Acc: 0.3035\n"
     ]
    },
    {
     "name": "stderr",
     "output_type": "stream",
     "text": [
      "Training epochs:  10%|█         | 104/1000 [02:02<20:24,  1.37s/it]"
     ]
    },
    {
     "name": "stdout",
     "output_type": "stream",
     "text": [
      "Epoch 104 | GCN MSE Loss: 16.4737 | NRF Loss: 3.2123 | JOINT Loss: 19.6859 | NRF Acc: 0.3083\n"
     ]
    },
    {
     "name": "stderr",
     "output_type": "stream",
     "text": [
      "Training epochs:  10%|█         | 105/1000 [02:04<20:38,  1.38s/it]"
     ]
    },
    {
     "name": "stdout",
     "output_type": "stream",
     "text": [
      "Epoch 105 | GCN MSE Loss: 15.8356 | NRF Loss: 3.2117 | JOINT Loss: 19.0474 | NRF Acc: 0.3135\n"
     ]
    },
    {
     "name": "stderr",
     "output_type": "stream",
     "text": [
      "Training epochs:  11%|█         | 106/1000 [02:05<20:53,  1.40s/it]"
     ]
    },
    {
     "name": "stdout",
     "output_type": "stream",
     "text": [
      "Epoch 106 | GCN MSE Loss: 15.2275 | NRF Loss: 3.2112 | JOINT Loss: 18.4387 | NRF Acc: 0.3161\n"
     ]
    },
    {
     "name": "stderr",
     "output_type": "stream",
     "text": [
      "Training epochs:  11%|█         | 107/1000 [02:07<21:03,  1.42s/it]"
     ]
    },
    {
     "name": "stdout",
     "output_type": "stream",
     "text": [
      "Epoch 107 | GCN MSE Loss: 14.6482 | NRF Loss: 3.2106 | JOINT Loss: 17.8588 | NRF Acc: 0.3201\n"
     ]
    },
    {
     "name": "stderr",
     "output_type": "stream",
     "text": [
      "Training epochs:  11%|█         | 108/1000 [02:08<21:06,  1.42s/it]"
     ]
    },
    {
     "name": "stdout",
     "output_type": "stream",
     "text": [
      "Epoch 108 | GCN MSE Loss: 14.0965 | NRF Loss: 3.2099 | JOINT Loss: 17.3063 | NRF Acc: 0.3239\n"
     ]
    },
    {
     "name": "stderr",
     "output_type": "stream",
     "text": [
      "Training epochs:  11%|█         | 109/1000 [02:10<21:09,  1.42s/it]"
     ]
    },
    {
     "name": "stdout",
     "output_type": "stream",
     "text": [
      "Epoch 109 | GCN MSE Loss: 13.5712 | NRF Loss: 3.2091 | JOINT Loss: 16.7803 | NRF Acc: 0.3281\n"
     ]
    },
    {
     "name": "stderr",
     "output_type": "stream",
     "text": [
      "Training epochs:  11%|█         | 110/1000 [02:11<21:09,  1.43s/it]"
     ]
    },
    {
     "name": "stdout",
     "output_type": "stream",
     "text": [
      "Epoch 110 | GCN MSE Loss: 13.0713 | NRF Loss: 3.2083 | JOINT Loss: 16.2796 | NRF Acc: 0.3293\n"
     ]
    },
    {
     "name": "stderr",
     "output_type": "stream",
     "text": [
      "Training epochs:  11%|█         | 111/1000 [02:12<19:20,  1.31s/it]"
     ]
    },
    {
     "name": "stdout",
     "output_type": "stream",
     "text": [
      "Epoch 111 | GCN MSE Loss: 12.5957 | NRF Loss: 3.2074 | JOINT Loss: 15.8031 | NRF Acc: 0.3293\n"
     ]
    },
    {
     "name": "stderr",
     "output_type": "stream",
     "text": [
      "Training epochs:  11%|█         | 112/1000 [02:13<19:48,  1.34s/it]"
     ]
    },
    {
     "name": "stdout",
     "output_type": "stream",
     "text": [
      "Epoch 112 | GCN MSE Loss: 12.1432 | NRF Loss: 3.2064 | JOINT Loss: 15.3497 | NRF Acc: 0.3305\n"
     ]
    },
    {
     "name": "stderr",
     "output_type": "stream",
     "text": [
      "Training epochs:  11%|█▏        | 113/1000 [02:15<20:09,  1.36s/it]"
     ]
    },
    {
     "name": "stdout",
     "output_type": "stream",
     "text": [
      "Epoch 113 | GCN MSE Loss: 11.7130 | NRF Loss: 3.2054 | JOINT Loss: 14.9184 | NRF Acc: 0.3315\n"
     ]
    },
    {
     "name": "stderr",
     "output_type": "stream",
     "text": [
      "Training epochs:  11%|█▏        | 114/1000 [02:16<20:28,  1.39s/it]"
     ]
    },
    {
     "name": "stdout",
     "output_type": "stream",
     "text": [
      "Epoch 114 | GCN MSE Loss: 11.3042 | NRF Loss: 3.2042 | JOINT Loss: 14.5084 | NRF Acc: 0.3336\n"
     ]
    },
    {
     "name": "stderr",
     "output_type": "stream",
     "text": [
      "Training epochs:  12%|█▏        | 115/1000 [02:18<20:42,  1.40s/it]"
     ]
    },
    {
     "name": "stdout",
     "output_type": "stream",
     "text": [
      "Epoch 115 | GCN MSE Loss: 10.9157 | NRF Loss: 3.2030 | JOINT Loss: 14.1188 | NRF Acc: 0.3355\n"
     ]
    },
    {
     "name": "stderr",
     "output_type": "stream",
     "text": [
      "Training epochs:  12%|█▏        | 116/1000 [02:19<20:48,  1.41s/it]"
     ]
    },
    {
     "name": "stdout",
     "output_type": "stream",
     "text": [
      "Epoch 116 | GCN MSE Loss: 10.5468 | NRF Loss: 3.2017 | JOINT Loss: 13.7485 | NRF Acc: 0.3359\n"
     ]
    },
    {
     "name": "stderr",
     "output_type": "stream",
     "text": [
      "Training epochs:  12%|█▏        | 117/1000 [02:21<20:51,  1.42s/it]"
     ]
    },
    {
     "name": "stdout",
     "output_type": "stream",
     "text": [
      "Epoch 117 | GCN MSE Loss: 10.1965 | NRF Loss: 3.2003 | JOINT Loss: 13.3968 | NRF Acc: 0.3367\n"
     ]
    },
    {
     "name": "stderr",
     "output_type": "stream",
     "text": [
      "Training epochs:  12%|█▏        | 118/1000 [02:22<20:39,  1.41s/it]"
     ]
    },
    {
     "name": "stdout",
     "output_type": "stream",
     "text": [
      "Epoch 118 | GCN MSE Loss: 9.8639 | NRF Loss: 3.1988 | JOINT Loss: 13.0627 | NRF Acc: 0.3380\n"
     ]
    },
    {
     "name": "stderr",
     "output_type": "stream",
     "text": [
      "Training epochs:  12%|█▏        | 119/1000 [02:23<20:42,  1.41s/it]"
     ]
    },
    {
     "name": "stdout",
     "output_type": "stream",
     "text": [
      "Epoch 119 | GCN MSE Loss: 9.5481 | NRF Loss: 3.1972 | JOINT Loss: 12.7453 | NRF Acc: 0.3405\n"
     ]
    },
    {
     "name": "stderr",
     "output_type": "stream",
     "text": [
      "Training epochs:  12%|█▏        | 120/1000 [02:25<20:44,  1.41s/it]"
     ]
    },
    {
     "name": "stdout",
     "output_type": "stream",
     "text": [
      "Epoch 120 | GCN MSE Loss: 9.2483 | NRF Loss: 3.1956 | JOINT Loss: 12.4439 | NRF Acc: 0.3442\n"
     ]
    },
    {
     "name": "stderr",
     "output_type": "stream",
     "text": [
      "Training epochs:  12%|█▏        | 121/1000 [02:26<20:50,  1.42s/it]"
     ]
    },
    {
     "name": "stdout",
     "output_type": "stream",
     "text": [
      "Epoch 121 | GCN MSE Loss: 8.9638 | NRF Loss: 3.1938 | JOINT Loss: 12.1576 | NRF Acc: 0.3473\n"
     ]
    },
    {
     "name": "stderr",
     "output_type": "stream",
     "text": [
      "Training epochs:  12%|█▏        | 122/1000 [02:28<20:54,  1.43s/it]"
     ]
    },
    {
     "name": "stdout",
     "output_type": "stream",
     "text": [
      "Epoch 122 | GCN MSE Loss: 8.6940 | NRF Loss: 3.1919 | JOINT Loss: 11.8859 | NRF Acc: 0.3523\n"
     ]
    },
    {
     "name": "stderr",
     "output_type": "stream",
     "text": [
      "Training epochs:  12%|█▏        | 123/1000 [02:29<20:52,  1.43s/it]"
     ]
    },
    {
     "name": "stdout",
     "output_type": "stream",
     "text": [
      "Epoch 123 | GCN MSE Loss: 8.4379 | NRF Loss: 3.1900 | JOINT Loss: 11.6279 | NRF Acc: 0.3553\n"
     ]
    },
    {
     "name": "stderr",
     "output_type": "stream",
     "text": [
      "Training epochs:  12%|█▏        | 124/1000 [02:31<20:50,  1.43s/it]"
     ]
    },
    {
     "name": "stdout",
     "output_type": "stream",
     "text": [
      "Epoch 124 | GCN MSE Loss: 8.1951 | NRF Loss: 3.1879 | JOINT Loss: 11.3830 | NRF Acc: 0.3594\n"
     ]
    },
    {
     "name": "stderr",
     "output_type": "stream",
     "text": [
      "Training epochs:  12%|█▎        | 125/1000 [02:32<20:47,  1.43s/it]"
     ]
    },
    {
     "name": "stdout",
     "output_type": "stream",
     "text": [
      "Epoch 125 | GCN MSE Loss: 7.9648 | NRF Loss: 3.1858 | JOINT Loss: 11.1506 | NRF Acc: 0.3639\n"
     ]
    },
    {
     "name": "stderr",
     "output_type": "stream",
     "text": [
      "Training epochs:  13%|█▎        | 126/1000 [02:33<20:45,  1.42s/it]"
     ]
    },
    {
     "name": "stdout",
     "output_type": "stream",
     "text": [
      "Epoch 126 | GCN MSE Loss: 7.7464 | NRF Loss: 3.1836 | JOINT Loss: 10.9300 | NRF Acc: 0.3665\n"
     ]
    },
    {
     "name": "stderr",
     "output_type": "stream",
     "text": [
      "Training epochs:  13%|█▎        | 127/1000 [02:35<20:49,  1.43s/it]"
     ]
    },
    {
     "name": "stdout",
     "output_type": "stream",
     "text": [
      "Epoch 127 | GCN MSE Loss: 7.5394 | NRF Loss: 3.1813 | JOINT Loss: 10.7207 | NRF Acc: 0.3695\n"
     ]
    },
    {
     "name": "stderr",
     "output_type": "stream",
     "text": [
      "Training epochs:  13%|█▎        | 128/1000 [02:36<20:53,  1.44s/it]"
     ]
    },
    {
     "name": "stdout",
     "output_type": "stream",
     "text": [
      "Epoch 128 | GCN MSE Loss: 7.3431 | NRF Loss: 3.1790 | JOINT Loss: 10.5220 | NRF Acc: 0.3779\n"
     ]
    },
    {
     "name": "stderr",
     "output_type": "stream",
     "text": [
      "Training epochs:  13%|█▎        | 129/1000 [02:38<20:48,  1.43s/it]"
     ]
    },
    {
     "name": "stdout",
     "output_type": "stream",
     "text": [
      "Epoch 129 | GCN MSE Loss: 7.1570 | NRF Loss: 3.1765 | JOINT Loss: 10.3335 | NRF Acc: 0.3869\n"
     ]
    },
    {
     "name": "stderr",
     "output_type": "stream",
     "text": [
      "Training epochs:  13%|█▎        | 130/1000 [02:39<20:43,  1.43s/it]"
     ]
    },
    {
     "name": "stdout",
     "output_type": "stream",
     "text": [
      "Epoch 130 | GCN MSE Loss: 6.9805 | NRF Loss: 3.1740 | JOINT Loss: 10.1546 | NRF Acc: 0.3951\n"
     ]
    },
    {
     "name": "stderr",
     "output_type": "stream",
     "text": [
      "Training epochs:  13%|█▎        | 131/1000 [02:41<20:41,  1.43s/it]"
     ]
    },
    {
     "name": "stdout",
     "output_type": "stream",
     "text": [
      "Epoch 131 | GCN MSE Loss: 6.8132 | NRF Loss: 3.1715 | JOINT Loss: 9.9847 | NRF Acc: 0.3998\n"
     ]
    },
    {
     "name": "stderr",
     "output_type": "stream",
     "text": [
      "Training epochs:  13%|█▎        | 132/1000 [02:42<20:38,  1.43s/it]"
     ]
    },
    {
     "name": "stdout",
     "output_type": "stream",
     "text": [
      "Epoch 132 | GCN MSE Loss: 6.6547 | NRF Loss: 3.1688 | JOINT Loss: 9.8235 | NRF Acc: 0.4050\n"
     ]
    },
    {
     "name": "stderr",
     "output_type": "stream",
     "text": [
      "Training epochs:  13%|█▎        | 133/1000 [02:43<20:42,  1.43s/it]"
     ]
    },
    {
     "name": "stdout",
     "output_type": "stream",
     "text": [
      "Epoch 133 | GCN MSE Loss: 6.5044 | NRF Loss: 3.1661 | JOINT Loss: 9.6705 | NRF Acc: 0.4082\n"
     ]
    },
    {
     "name": "stderr",
     "output_type": "stream",
     "text": [
      "Training epochs:  13%|█▎        | 134/1000 [02:45<20:44,  1.44s/it]"
     ]
    },
    {
     "name": "stdout",
     "output_type": "stream",
     "text": [
      "Epoch 134 | GCN MSE Loss: 6.3619 | NRF Loss: 3.1634 | JOINT Loss: 9.5252 | NRF Acc: 0.4138\n"
     ]
    },
    {
     "name": "stderr",
     "output_type": "stream",
     "text": [
      "Training epochs:  14%|█▎        | 135/1000 [02:46<20:39,  1.43s/it]"
     ]
    },
    {
     "name": "stdout",
     "output_type": "stream",
     "text": [
      "Epoch 135 | GCN MSE Loss: 6.2268 | NRF Loss: 3.1606 | JOINT Loss: 9.3873 | NRF Acc: 0.4193\n"
     ]
    },
    {
     "name": "stderr",
     "output_type": "stream",
     "text": [
      "Training epochs:  14%|█▎        | 136/1000 [02:48<20:34,  1.43s/it]"
     ]
    },
    {
     "name": "stdout",
     "output_type": "stream",
     "text": [
      "Epoch 136 | GCN MSE Loss: 6.0987 | NRF Loss: 3.1577 | JOINT Loss: 9.2563 | NRF Acc: 0.4240\n"
     ]
    },
    {
     "name": "stderr",
     "output_type": "stream",
     "text": [
      "Training epochs:  14%|█▎        | 137/1000 [02:49<20:31,  1.43s/it]"
     ]
    },
    {
     "name": "stdout",
     "output_type": "stream",
     "text": [
      "Epoch 137 | GCN MSE Loss: 5.9771 | NRF Loss: 3.1548 | JOINT Loss: 9.1319 | NRF Acc: 0.4268\n"
     ]
    },
    {
     "name": "stderr",
     "output_type": "stream",
     "text": [
      "Training epochs:  14%|█▍        | 138/1000 [02:51<20:30,  1.43s/it]"
     ]
    },
    {
     "name": "stdout",
     "output_type": "stream",
     "text": [
      "Epoch 138 | GCN MSE Loss: 5.8619 | NRF Loss: 3.1518 | JOINT Loss: 9.0136 | NRF Acc: 0.4295\n"
     ]
    },
    {
     "name": "stderr",
     "output_type": "stream",
     "text": [
      "Training epochs:  14%|█▍        | 139/1000 [02:52<20:33,  1.43s/it]"
     ]
    },
    {
     "name": "stdout",
     "output_type": "stream",
     "text": [
      "Epoch 139 | GCN MSE Loss: 5.7525 | NRF Loss: 3.1488 | JOINT Loss: 8.9013 | NRF Acc: 0.4332\n"
     ]
    },
    {
     "name": "stderr",
     "output_type": "stream",
     "text": [
      "Training epochs:  14%|█▍        | 140/1000 [02:53<20:24,  1.42s/it]"
     ]
    },
    {
     "name": "stdout",
     "output_type": "stream",
     "text": [
      "Epoch 140 | GCN MSE Loss: 5.6487 | NRF Loss: 3.1457 | JOINT Loss: 8.7944 | NRF Acc: 0.4396\n"
     ]
    },
    {
     "name": "stderr",
     "output_type": "stream",
     "text": [
      "Training epochs:  14%|█▍        | 141/1000 [02:55<20:23,  1.42s/it]"
     ]
    },
    {
     "name": "stdout",
     "output_type": "stream",
     "text": [
      "Epoch 141 | GCN MSE Loss: 5.5502 | NRF Loss: 3.1426 | JOINT Loss: 8.6928 | NRF Acc: 0.4434\n"
     ]
    },
    {
     "name": "stderr",
     "output_type": "stream",
     "text": [
      "Training epochs:  14%|█▍        | 142/1000 [02:56<20:22,  1.42s/it]"
     ]
    },
    {
     "name": "stdout",
     "output_type": "stream",
     "text": [
      "Epoch 142 | GCN MSE Loss: 5.4566 | NRF Loss: 3.1394 | JOINT Loss: 8.5961 | NRF Acc: 0.4455\n"
     ]
    },
    {
     "name": "stderr",
     "output_type": "stream",
     "text": [
      "Training epochs:  14%|█▍        | 143/1000 [02:58<20:25,  1.43s/it]"
     ]
    },
    {
     "name": "stdout",
     "output_type": "stream",
     "text": [
      "Epoch 143 | GCN MSE Loss: 5.3678 | NRF Loss: 3.1362 | JOINT Loss: 8.5039 | NRF Acc: 0.4500\n"
     ]
    },
    {
     "name": "stderr",
     "output_type": "stream",
     "text": [
      "Training epochs:  14%|█▍        | 144/1000 [02:59<20:30,  1.44s/it]"
     ]
    },
    {
     "name": "stdout",
     "output_type": "stream",
     "text": [
      "Epoch 144 | GCN MSE Loss: 5.2833 | NRF Loss: 3.1329 | JOINT Loss: 8.4162 | NRF Acc: 0.4539\n"
     ]
    },
    {
     "name": "stderr",
     "output_type": "stream",
     "text": [
      "Training epochs:  14%|█▍        | 145/1000 [03:01<20:22,  1.43s/it]"
     ]
    },
    {
     "name": "stdout",
     "output_type": "stream",
     "text": [
      "Epoch 145 | GCN MSE Loss: 5.2029 | NRF Loss: 3.1297 | JOINT Loss: 8.3326 | NRF Acc: 0.4579\n"
     ]
    },
    {
     "name": "stderr",
     "output_type": "stream",
     "text": [
      "Training epochs:  15%|█▍        | 146/1000 [03:02<20:19,  1.43s/it]"
     ]
    },
    {
     "name": "stdout",
     "output_type": "stream",
     "text": [
      "Epoch 146 | GCN MSE Loss: 5.1265 | NRF Loss: 3.1264 | JOINT Loss: 8.2528 | NRF Acc: 0.4623\n"
     ]
    },
    {
     "name": "stderr",
     "output_type": "stream",
     "text": [
      "Training epochs:  15%|█▍        | 147/1000 [03:03<20:16,  1.43s/it]"
     ]
    },
    {
     "name": "stdout",
     "output_type": "stream",
     "text": [
      "Epoch 147 | GCN MSE Loss: 5.0537 | NRF Loss: 3.1230 | JOINT Loss: 8.1767 | NRF Acc: 0.4666\n"
     ]
    },
    {
     "name": "stderr",
     "output_type": "stream",
     "text": [
      "Training epochs:  15%|█▍        | 148/1000 [03:05<20:13,  1.42s/it]"
     ]
    },
    {
     "name": "stdout",
     "output_type": "stream",
     "text": [
      "Epoch 148 | GCN MSE Loss: 4.9844 | NRF Loss: 3.1196 | JOINT Loss: 8.1041 | NRF Acc: 0.4704\n"
     ]
    },
    {
     "name": "stderr",
     "output_type": "stream",
     "text": [
      "Training epochs:  15%|█▍        | 149/1000 [03:06<20:18,  1.43s/it]"
     ]
    },
    {
     "name": "stdout",
     "output_type": "stream",
     "text": [
      "Epoch 149 | GCN MSE Loss: 4.9184 | NRF Loss: 3.1162 | JOINT Loss: 8.0346 | NRF Acc: 0.4770\n"
     ]
    },
    {
     "name": "stderr",
     "output_type": "stream",
     "text": [
      "Training epochs:  15%|█▌        | 150/1000 [03:08<20:18,  1.43s/it]"
     ]
    },
    {
     "name": "stdout",
     "output_type": "stream",
     "text": [
      "Epoch 150 | GCN MSE Loss: 4.8554 | NRF Loss: 3.1128 | JOINT Loss: 7.9681 | NRF Acc: 0.4818\n"
     ]
    },
    {
     "name": "stderr",
     "output_type": "stream",
     "text": [
      "Training epochs:  15%|█▌        | 151/1000 [03:09<20:15,  1.43s/it]"
     ]
    },
    {
     "name": "stdout",
     "output_type": "stream",
     "text": [
      "Epoch 151 | GCN MSE Loss: 4.7953 | NRF Loss: 3.1092 | JOINT Loss: 7.9045 | NRF Acc: 0.4863\n"
     ]
    },
    {
     "name": "stderr",
     "output_type": "stream",
     "text": [
      "Training epochs:  15%|█▌        | 152/1000 [03:11<20:12,  1.43s/it]"
     ]
    },
    {
     "name": "stdout",
     "output_type": "stream",
     "text": [
      "Epoch 152 | GCN MSE Loss: 4.7379 | NRF Loss: 3.1057 | JOINT Loss: 7.8436 | NRF Acc: 0.4882\n"
     ]
    },
    {
     "name": "stderr",
     "output_type": "stream",
     "text": [
      "Training epochs:  15%|█▌        | 153/1000 [03:12<20:09,  1.43s/it]"
     ]
    },
    {
     "name": "stdout",
     "output_type": "stream",
     "text": [
      "Epoch 153 | GCN MSE Loss: 4.6830 | NRF Loss: 3.1021 | JOINT Loss: 7.7851 | NRF Acc: 0.4917\n"
     ]
    },
    {
     "name": "stderr",
     "output_type": "stream",
     "text": [
      "Training epochs:  15%|█▌        | 154/1000 [03:13<20:07,  1.43s/it]"
     ]
    },
    {
     "name": "stdout",
     "output_type": "stream",
     "text": [
      "Epoch 154 | GCN MSE Loss: 4.6305 | NRF Loss: 3.0985 | JOINT Loss: 7.7291 | NRF Acc: 0.4957\n"
     ]
    },
    {
     "name": "stderr",
     "output_type": "stream",
     "text": [
      "Training epochs:  16%|█▌        | 155/1000 [03:15<20:10,  1.43s/it]"
     ]
    },
    {
     "name": "stdout",
     "output_type": "stream",
     "text": [
      "Epoch 155 | GCN MSE Loss: 4.5803 | NRF Loss: 3.0949 | JOINT Loss: 7.6753 | NRF Acc: 0.5017\n"
     ]
    },
    {
     "name": "stderr",
     "output_type": "stream",
     "text": [
      "Training epochs:  16%|█▌        | 156/1000 [03:16<20:12,  1.44s/it]"
     ]
    },
    {
     "name": "stdout",
     "output_type": "stream",
     "text": [
      "Epoch 156 | GCN MSE Loss: 4.5323 | NRF Loss: 3.0913 | JOINT Loss: 7.6236 | NRF Acc: 0.5085\n"
     ]
    },
    {
     "name": "stderr",
     "output_type": "stream",
     "text": [
      "Training epochs:  16%|█▌        | 157/1000 [03:18<20:08,  1.43s/it]"
     ]
    },
    {
     "name": "stdout",
     "output_type": "stream",
     "text": [
      "Epoch 157 | GCN MSE Loss: 4.4863 | NRF Loss: 3.0876 | JOINT Loss: 7.5739 | NRF Acc: 0.5142\n"
     ]
    },
    {
     "name": "stderr",
     "output_type": "stream",
     "text": [
      "Training epochs:  16%|█▌        | 158/1000 [03:19<20:04,  1.43s/it]"
     ]
    },
    {
     "name": "stdout",
     "output_type": "stream",
     "text": [
      "Epoch 158 | GCN MSE Loss: 4.4421 | NRF Loss: 3.0839 | JOINT Loss: 7.5260 | NRF Acc: 0.5192\n"
     ]
    },
    {
     "name": "stderr",
     "output_type": "stream",
     "text": [
      "Training epochs:  16%|█▌        | 159/1000 [03:21<20:02,  1.43s/it]"
     ]
    },
    {
     "name": "stdout",
     "output_type": "stream",
     "text": [
      "Epoch 159 | GCN MSE Loss: 4.3997 | NRF Loss: 3.0802 | JOINT Loss: 7.4798 | NRF Acc: 0.5246\n"
     ]
    },
    {
     "name": "stderr",
     "output_type": "stream",
     "text": [
      "Training epochs:  16%|█▌        | 160/1000 [03:22<19:58,  1.43s/it]"
     ]
    },
    {
     "name": "stdout",
     "output_type": "stream",
     "text": [
      "Epoch 160 | GCN MSE Loss: 4.3589 | NRF Loss: 3.0764 | JOINT Loss: 7.4354 | NRF Acc: 0.5282\n"
     ]
    },
    {
     "name": "stderr",
     "output_type": "stream",
     "text": [
      "Training epochs:  16%|█▌        | 161/1000 [03:23<20:02,  1.43s/it]"
     ]
    },
    {
     "name": "stdout",
     "output_type": "stream",
     "text": [
      "Epoch 161 | GCN MSE Loss: 4.3198 | NRF Loss: 3.0727 | JOINT Loss: 7.3924 | NRF Acc: 0.5339\n"
     ]
    },
    {
     "name": "stderr",
     "output_type": "stream",
     "text": [
      "Training epochs:  16%|█▌        | 162/1000 [03:25<20:03,  1.44s/it]"
     ]
    },
    {
     "name": "stdout",
     "output_type": "stream",
     "text": [
      "Epoch 162 | GCN MSE Loss: 4.2821 | NRF Loss: 3.0689 | JOINT Loss: 7.3510 | NRF Acc: 0.5400\n"
     ]
    },
    {
     "name": "stderr",
     "output_type": "stream",
     "text": [
      "Training epochs:  16%|█▋        | 163/1000 [03:26<20:00,  1.43s/it]"
     ]
    },
    {
     "name": "stdout",
     "output_type": "stream",
     "text": [
      "Epoch 163 | GCN MSE Loss: 4.2458 | NRF Loss: 3.0651 | JOINT Loss: 7.3109 | NRF Acc: 0.5447\n"
     ]
    },
    {
     "name": "stderr",
     "output_type": "stream",
     "text": [
      "Training epochs:  16%|█▋        | 164/1000 [03:28<19:55,  1.43s/it]"
     ]
    },
    {
     "name": "stdout",
     "output_type": "stream",
     "text": [
      "Epoch 164 | GCN MSE Loss: 4.2108 | NRF Loss: 3.0613 | JOINT Loss: 7.2721 | NRF Acc: 0.5495\n"
     ]
    },
    {
     "name": "stderr",
     "output_type": "stream",
     "text": [
      "Training epochs:  16%|█▋        | 165/1000 [03:29<19:52,  1.43s/it]"
     ]
    },
    {
     "name": "stdout",
     "output_type": "stream",
     "text": [
      "Epoch 165 | GCN MSE Loss: 4.1770 | NRF Loss: 3.0575 | JOINT Loss: 7.2345 | NRF Acc: 0.5544\n"
     ]
    },
    {
     "name": "stderr",
     "output_type": "stream",
     "text": [
      "Training epochs:  17%|█▋        | 166/1000 [03:31<19:51,  1.43s/it]"
     ]
    },
    {
     "name": "stdout",
     "output_type": "stream",
     "text": [
      "Epoch 166 | GCN MSE Loss: 4.1444 | NRF Loss: 3.0537 | JOINT Loss: 7.1981 | NRF Acc: 0.5585\n"
     ]
    },
    {
     "name": "stderr",
     "output_type": "stream",
     "text": [
      "Training epochs:  17%|█▋        | 167/1000 [03:32<19:53,  1.43s/it]"
     ]
    },
    {
     "name": "stdout",
     "output_type": "stream",
     "text": [
      "Epoch 167 | GCN MSE Loss: 4.1129 | NRF Loss: 3.0498 | JOINT Loss: 7.1627 | NRF Acc: 0.5627\n"
     ]
    },
    {
     "name": "stderr",
     "output_type": "stream",
     "text": [
      "Training epochs:  17%|█▋        | 168/1000 [03:34<19:54,  1.44s/it]"
     ]
    },
    {
     "name": "stdout",
     "output_type": "stream",
     "text": [
      "Epoch 168 | GCN MSE Loss: 4.0825 | NRF Loss: 3.0460 | JOINT Loss: 7.1285 | NRF Acc: 0.5673\n"
     ]
    },
    {
     "name": "stderr",
     "output_type": "stream",
     "text": [
      "Training epochs:  17%|█▋        | 169/1000 [03:35<19:51,  1.43s/it]"
     ]
    },
    {
     "name": "stdout",
     "output_type": "stream",
     "text": [
      "Epoch 169 | GCN MSE Loss: 4.0530 | NRF Loss: 3.0422 | JOINT Loss: 7.0952 | NRF Acc: 0.5715\n"
     ]
    },
    {
     "name": "stderr",
     "output_type": "stream",
     "text": [
      "Training epochs:  17%|█▋        | 170/1000 [03:36<19:48,  1.43s/it]"
     ]
    },
    {
     "name": "stdout",
     "output_type": "stream",
     "text": [
      "Epoch 170 | GCN MSE Loss: 4.0245 | NRF Loss: 3.0383 | JOINT Loss: 7.0628 | NRF Acc: 0.5744\n"
     ]
    },
    {
     "name": "stderr",
     "output_type": "stream",
     "text": [
      "Training epochs:  17%|█▋        | 171/1000 [03:38<19:44,  1.43s/it]"
     ]
    },
    {
     "name": "stdout",
     "output_type": "stream",
     "text": [
      "Epoch 171 | GCN MSE Loss: 3.9968 | NRF Loss: 3.0345 | JOINT Loss: 7.0313 | NRF Acc: 0.5789\n"
     ]
    },
    {
     "name": "stderr",
     "output_type": "stream",
     "text": [
      "Training epochs:  17%|█▋        | 172/1000 [03:39<19:42,  1.43s/it]"
     ]
    },
    {
     "name": "stdout",
     "output_type": "stream",
     "text": [
      "Epoch 172 | GCN MSE Loss: 3.9700 | NRF Loss: 3.0307 | JOINT Loss: 7.0007 | NRF Acc: 0.5814\n"
     ]
    },
    {
     "name": "stderr",
     "output_type": "stream",
     "text": [
      "Training epochs:  17%|█▋        | 173/1000 [03:41<19:46,  1.43s/it]"
     ]
    },
    {
     "name": "stdout",
     "output_type": "stream",
     "text": [
      "Epoch 173 | GCN MSE Loss: 3.9439 | NRF Loss: 3.0269 | JOINT Loss: 6.9707 | NRF Acc: 0.5824\n"
     ]
    },
    {
     "name": "stderr",
     "output_type": "stream",
     "text": [
      "Training epochs:  17%|█▋        | 174/1000 [03:42<19:46,  1.44s/it]"
     ]
    },
    {
     "name": "stdout",
     "output_type": "stream",
     "text": [
      "Epoch 174 | GCN MSE Loss: 3.9185 | NRF Loss: 3.0231 | JOINT Loss: 6.9416 | NRF Acc: 0.5878\n"
     ]
    },
    {
     "name": "stderr",
     "output_type": "stream",
     "text": [
      "Training epochs:  18%|█▊        | 175/1000 [03:44<19:43,  1.43s/it]"
     ]
    },
    {
     "name": "stdout",
     "output_type": "stream",
     "text": [
      "Epoch 175 | GCN MSE Loss: 3.8938 | NRF Loss: 3.0192 | JOINT Loss: 6.9130 | NRF Acc: 0.5899\n"
     ]
    },
    {
     "name": "stderr",
     "output_type": "stream",
     "text": [
      "Training epochs:  18%|█▊        | 176/1000 [03:45<19:39,  1.43s/it]"
     ]
    },
    {
     "name": "stdout",
     "output_type": "stream",
     "text": [
      "Epoch 176 | GCN MSE Loss: 3.8697 | NRF Loss: 3.0154 | JOINT Loss: 6.8851 | NRF Acc: 0.5940\n"
     ]
    },
    {
     "name": "stderr",
     "output_type": "stream",
     "text": [
      "Training epochs:  18%|█▊        | 177/1000 [03:46<19:35,  1.43s/it]"
     ]
    },
    {
     "name": "stdout",
     "output_type": "stream",
     "text": [
      "Epoch 177 | GCN MSE Loss: 3.8461 | NRF Loss: 3.0116 | JOINT Loss: 6.8577 | NRF Acc: 0.5970\n"
     ]
    },
    {
     "name": "stderr",
     "output_type": "stream",
     "text": [
      "Training epochs:  18%|█▊        | 178/1000 [03:48<19:33,  1.43s/it]"
     ]
    },
    {
     "name": "stdout",
     "output_type": "stream",
     "text": [
      "Epoch 178 | GCN MSE Loss: 3.8231 | NRF Loss: 3.0078 | JOINT Loss: 6.8309 | NRF Acc: 0.6015\n"
     ]
    },
    {
     "name": "stderr",
     "output_type": "stream",
     "text": [
      "Training epochs:  18%|█▊        | 179/1000 [03:49<19:35,  1.43s/it]"
     ]
    },
    {
     "name": "stdout",
     "output_type": "stream",
     "text": [
      "Epoch 179 | GCN MSE Loss: 3.8006 | NRF Loss: 3.0040 | JOINT Loss: 6.8045 | NRF Acc: 0.6051\n"
     ]
    },
    {
     "name": "stderr",
     "output_type": "stream",
     "text": [
      "Training epochs:  18%|█▊        | 180/1000 [03:51<19:38,  1.44s/it]"
     ]
    },
    {
     "name": "stdout",
     "output_type": "stream",
     "text": [
      "Epoch 180 | GCN MSE Loss: 3.7785 | NRF Loss: 3.0001 | JOINT Loss: 6.7786 | NRF Acc: 0.6077\n"
     ]
    },
    {
     "name": "stderr",
     "output_type": "stream",
     "text": [
      "Training epochs:  18%|█▊        | 181/1000 [03:52<19:33,  1.43s/it]"
     ]
    },
    {
     "name": "stdout",
     "output_type": "stream",
     "text": [
      "Epoch 181 | GCN MSE Loss: 3.7568 | NRF Loss: 2.9963 | JOINT Loss: 6.7531 | NRF Acc: 0.6099\n"
     ]
    },
    {
     "name": "stderr",
     "output_type": "stream",
     "text": [
      "Training epochs:  18%|█▊        | 182/1000 [03:54<19:25,  1.42s/it]"
     ]
    },
    {
     "name": "stdout",
     "output_type": "stream",
     "text": [
      "Epoch 182 | GCN MSE Loss: 3.7355 | NRF Loss: 2.9925 | JOINT Loss: 6.7280 | NRF Acc: 0.6111\n"
     ]
    },
    {
     "name": "stderr",
     "output_type": "stream",
     "text": [
      "Training epochs:  18%|█▊        | 183/1000 [03:55<19:26,  1.43s/it]"
     ]
    },
    {
     "name": "stdout",
     "output_type": "stream",
     "text": [
      "Epoch 183 | GCN MSE Loss: 3.7146 | NRF Loss: 2.9887 | JOINT Loss: 6.7033 | NRF Acc: 0.6127\n"
     ]
    },
    {
     "name": "stderr",
     "output_type": "stream",
     "text": [
      "Training epochs:  18%|█▊        | 184/1000 [03:56<19:29,  1.43s/it]"
     ]
    },
    {
     "name": "stdout",
     "output_type": "stream",
     "text": [
      "Epoch 184 | GCN MSE Loss: 3.6941 | NRF Loss: 2.9849 | JOINT Loss: 6.6790 | NRF Acc: 0.6139\n"
     ]
    },
    {
     "name": "stderr",
     "output_type": "stream",
     "text": [
      "Training epochs:  18%|█▊        | 185/1000 [03:58<19:26,  1.43s/it]"
     ]
    },
    {
     "name": "stdout",
     "output_type": "stream",
     "text": [
      "Epoch 185 | GCN MSE Loss: 3.6739 | NRF Loss: 2.9811 | JOINT Loss: 6.6549 | NRF Acc: 0.6167\n"
     ]
    },
    {
     "name": "stderr",
     "output_type": "stream",
     "text": [
      "Training epochs:  19%|█▊        | 186/1000 [03:59<19:56,  1.47s/it]"
     ]
    },
    {
     "name": "stdout",
     "output_type": "stream",
     "text": [
      "Epoch 186 | GCN MSE Loss: 3.6540 | NRF Loss: 2.9772 | JOINT Loss: 6.6312 | NRF Acc: 0.6188\n"
     ]
    },
    {
     "name": "stderr",
     "output_type": "stream",
     "text": [
      "Training epochs:  19%|█▊        | 187/1000 [04:01<19:46,  1.46s/it]"
     ]
    },
    {
     "name": "stdout",
     "output_type": "stream",
     "text": [
      "Epoch 187 | GCN MSE Loss: 3.6344 | NRF Loss: 2.9734 | JOINT Loss: 6.6078 | NRF Acc: 0.6222\n"
     ]
    },
    {
     "name": "stderr",
     "output_type": "stream",
     "text": [
      "Training epochs:  19%|█▉        | 188/1000 [04:02<19:33,  1.45s/it]"
     ]
    },
    {
     "name": "stdout",
     "output_type": "stream",
     "text": [
      "Epoch 188 | GCN MSE Loss: 3.6151 | NRF Loss: 2.9696 | JOINT Loss: 6.5846 | NRF Acc: 0.6243\n"
     ]
    },
    {
     "name": "stderr",
     "output_type": "stream",
     "text": [
      "Training epochs:  19%|█▉        | 189/1000 [04:04<19:26,  1.44s/it]"
     ]
    },
    {
     "name": "stdout",
     "output_type": "stream",
     "text": [
      "Epoch 189 | GCN MSE Loss: 3.5960 | NRF Loss: 2.9657 | JOINT Loss: 6.5617 | NRF Acc: 0.6259\n"
     ]
    },
    {
     "name": "stderr",
     "output_type": "stream",
     "text": [
      "Training epochs:  19%|█▉        | 190/1000 [04:05<19:21,  1.43s/it]"
     ]
    },
    {
     "name": "stdout",
     "output_type": "stream",
     "text": [
      "Epoch 190 | GCN MSE Loss: 3.5772 | NRF Loss: 2.9619 | JOINT Loss: 6.5390 | NRF Acc: 0.6269\n"
     ]
    },
    {
     "name": "stderr",
     "output_type": "stream",
     "text": [
      "Training epochs:  19%|█▉        | 191/1000 [04:07<19:16,  1.43s/it]"
     ]
    },
    {
     "name": "stdout",
     "output_type": "stream",
     "text": [
      "Epoch 191 | GCN MSE Loss: 3.5585 | NRF Loss: 2.9580 | JOINT Loss: 6.5166 | NRF Acc: 0.6293\n"
     ]
    },
    {
     "name": "stderr",
     "output_type": "stream",
     "text": [
      "Training epochs:  19%|█▉        | 192/1000 [04:08<19:17,  1.43s/it]"
     ]
    },
    {
     "name": "stdout",
     "output_type": "stream",
     "text": [
      "Epoch 192 | GCN MSE Loss: 3.5401 | NRF Loss: 2.9542 | JOINT Loss: 6.4943 | NRF Acc: 0.6312\n"
     ]
    },
    {
     "name": "stderr",
     "output_type": "stream",
     "text": [
      "Training epochs:  19%|█▉        | 193/1000 [04:09<19:20,  1.44s/it]"
     ]
    },
    {
     "name": "stdout",
     "output_type": "stream",
     "text": [
      "Epoch 193 | GCN MSE Loss: 3.5218 | NRF Loss: 2.9503 | JOINT Loss: 6.4721 | NRF Acc: 0.6354\n"
     ]
    },
    {
     "name": "stderr",
     "output_type": "stream",
     "text": [
      "Training epochs:  19%|█▉        | 194/1000 [04:11<19:16,  1.44s/it]"
     ]
    },
    {
     "name": "stdout",
     "output_type": "stream",
     "text": [
      "Epoch 194 | GCN MSE Loss: 3.5038 | NRF Loss: 2.9464 | JOINT Loss: 6.4502 | NRF Acc: 0.6371\n"
     ]
    },
    {
     "name": "stderr",
     "output_type": "stream",
     "text": [
      "Training epochs:  20%|█▉        | 195/1000 [04:12<19:12,  1.43s/it]"
     ]
    },
    {
     "name": "stdout",
     "output_type": "stream",
     "text": [
      "Epoch 195 | GCN MSE Loss: 3.4859 | NRF Loss: 2.9426 | JOINT Loss: 6.4285 | NRF Acc: 0.6389\n"
     ]
    },
    {
     "name": "stderr",
     "output_type": "stream",
     "text": [
      "Training epochs:  20%|█▉        | 196/1000 [04:14<19:08,  1.43s/it]"
     ]
    },
    {
     "name": "stdout",
     "output_type": "stream",
     "text": [
      "Epoch 196 | GCN MSE Loss: 3.4683 | NRF Loss: 2.9387 | JOINT Loss: 6.4070 | NRF Acc: 0.6413\n"
     ]
    },
    {
     "name": "stderr",
     "output_type": "stream",
     "text": [
      "Training epochs:  20%|█▉        | 197/1000 [04:15<19:06,  1.43s/it]"
     ]
    },
    {
     "name": "stdout",
     "output_type": "stream",
     "text": [
      "Epoch 197 | GCN MSE Loss: 3.4508 | NRF Loss: 2.9348 | JOINT Loss: 6.3856 | NRF Acc: 0.6440\n"
     ]
    },
    {
     "name": "stderr",
     "output_type": "stream",
     "text": [
      "Training epochs:  20%|█▉        | 198/1000 [04:17<19:08,  1.43s/it]"
     ]
    },
    {
     "name": "stdout",
     "output_type": "stream",
     "text": [
      "Epoch 198 | GCN MSE Loss: 3.4334 | NRF Loss: 2.9309 | JOINT Loss: 6.3644 | NRF Acc: 0.6453\n"
     ]
    },
    {
     "name": "stderr",
     "output_type": "stream",
     "text": [
      "Training epochs:  20%|█▉        | 199/1000 [04:18<19:10,  1.44s/it]"
     ]
    },
    {
     "name": "stdout",
     "output_type": "stream",
     "text": [
      "Epoch 199 | GCN MSE Loss: 3.4162 | NRF Loss: 2.9271 | JOINT Loss: 6.3433 | NRF Acc: 0.6475\n"
     ]
    },
    {
     "name": "stderr",
     "output_type": "stream",
     "text": [
      "Training epochs:  20%|██        | 200/1000 [04:19<19:07,  1.43s/it]"
     ]
    },
    {
     "name": "stdout",
     "output_type": "stream",
     "text": [
      "Epoch 200 | GCN MSE Loss: 3.3991 | NRF Loss: 2.9232 | JOINT Loss: 6.3223 | NRF Acc: 0.6494\n"
     ]
    },
    {
     "name": "stderr",
     "output_type": "stream",
     "text": [
      "Training epochs:  20%|██        | 201/1000 [04:21<19:04,  1.43s/it]"
     ]
    },
    {
     "name": "stdout",
     "output_type": "stream",
     "text": [
      "Epoch 201 | GCN MSE Loss: 3.3822 | NRF Loss: 2.9193 | JOINT Loss: 6.3015 | NRF Acc: 0.6524\n"
     ]
    },
    {
     "name": "stderr",
     "output_type": "stream",
     "text": [
      "Training epochs:  20%|██        | 202/1000 [04:22<18:55,  1.42s/it]"
     ]
    },
    {
     "name": "stdout",
     "output_type": "stream",
     "text": [
      "Epoch 202 | GCN MSE Loss: 3.3653 | NRF Loss: 2.9155 | JOINT Loss: 6.2808 | NRF Acc: 0.6558\n"
     ]
    },
    {
     "name": "stderr",
     "output_type": "stream",
     "text": [
      "Training epochs:  20%|██        | 203/1000 [04:24<18:54,  1.42s/it]"
     ]
    },
    {
     "name": "stdout",
     "output_type": "stream",
     "text": [
      "Epoch 203 | GCN MSE Loss: 3.3486 | NRF Loss: 2.9116 | JOINT Loss: 6.2602 | NRF Acc: 0.6588\n"
     ]
    },
    {
     "name": "stderr",
     "output_type": "stream",
     "text": [
      "Training epochs:  20%|██        | 204/1000 [04:25<18:52,  1.42s/it]"
     ]
    },
    {
     "name": "stdout",
     "output_type": "stream",
     "text": [
      "Epoch 204 | GCN MSE Loss: 3.3321 | NRF Loss: 2.9077 | JOINT Loss: 6.2397 | NRF Acc: 0.6631\n"
     ]
    },
    {
     "name": "stderr",
     "output_type": "stream",
     "text": [
      "Training epochs:  20%|██        | 205/1000 [04:27<18:56,  1.43s/it]"
     ]
    },
    {
     "name": "stdout",
     "output_type": "stream",
     "text": [
      "Epoch 205 | GCN MSE Loss: 3.3156 | NRF Loss: 2.9038 | JOINT Loss: 6.2194 | NRF Acc: 0.6660\n"
     ]
    },
    {
     "name": "stderr",
     "output_type": "stream",
     "text": [
      "Training epochs:  21%|██        | 206/1000 [04:28<18:59,  1.43s/it]"
     ]
    },
    {
     "name": "stdout",
     "output_type": "stream",
     "text": [
      "Epoch 206 | GCN MSE Loss: 3.2993 | NRF Loss: 2.8999 | JOINT Loss: 6.1991 | NRF Acc: 0.6683\n"
     ]
    },
    {
     "name": "stderr",
     "output_type": "stream",
     "text": [
      "Training epochs:  21%|██        | 207/1000 [04:29<18:55,  1.43s/it]"
     ]
    },
    {
     "name": "stdout",
     "output_type": "stream",
     "text": [
      "Epoch 207 | GCN MSE Loss: 3.2830 | NRF Loss: 2.8960 | JOINT Loss: 6.1790 | NRF Acc: 0.6698\n"
     ]
    },
    {
     "name": "stderr",
     "output_type": "stream",
     "text": [
      "Training epochs:  21%|██        | 208/1000 [04:31<18:51,  1.43s/it]"
     ]
    },
    {
     "name": "stdout",
     "output_type": "stream",
     "text": [
      "Epoch 208 | GCN MSE Loss: 3.2669 | NRF Loss: 2.8921 | JOINT Loss: 6.1590 | NRF Acc: 0.6723\n"
     ]
    },
    {
     "name": "stderr",
     "output_type": "stream",
     "text": [
      "Training epochs:  21%|██        | 209/1000 [04:32<18:49,  1.43s/it]"
     ]
    },
    {
     "name": "stdout",
     "output_type": "stream",
     "text": [
      "Epoch 209 | GCN MSE Loss: 3.2508 | NRF Loss: 2.8882 | JOINT Loss: 6.1390 | NRF Acc: 0.6745\n"
     ]
    },
    {
     "name": "stderr",
     "output_type": "stream",
     "text": [
      "Training epochs:  21%|██        | 210/1000 [04:34<18:47,  1.43s/it]"
     ]
    },
    {
     "name": "stdout",
     "output_type": "stream",
     "text": [
      "Epoch 210 | GCN MSE Loss: 3.2349 | NRF Loss: 2.8843 | JOINT Loss: 6.1192 | NRF Acc: 0.6775\n"
     ]
    },
    {
     "name": "stderr",
     "output_type": "stream",
     "text": [
      "Training epochs:  21%|██        | 211/1000 [04:35<18:49,  1.43s/it]"
     ]
    },
    {
     "name": "stdout",
     "output_type": "stream",
     "text": [
      "Epoch 211 | GCN MSE Loss: 3.2190 | NRF Loss: 2.8804 | JOINT Loss: 6.0995 | NRF Acc: 0.6804\n"
     ]
    },
    {
     "name": "stderr",
     "output_type": "stream",
     "text": [
      "Training epochs:  21%|██        | 212/1000 [04:37<18:50,  1.43s/it]"
     ]
    },
    {
     "name": "stdout",
     "output_type": "stream",
     "text": [
      "Epoch 212 | GCN MSE Loss: 3.2032 | NRF Loss: 2.8766 | JOINT Loss: 6.0798 | NRF Acc: 0.6830\n"
     ]
    },
    {
     "name": "stderr",
     "output_type": "stream",
     "text": [
      "Training epochs:  21%|██▏       | 213/1000 [04:38<18:43,  1.43s/it]"
     ]
    },
    {
     "name": "stdout",
     "output_type": "stream",
     "text": [
      "Epoch 213 | GCN MSE Loss: 3.1875 | NRF Loss: 2.8727 | JOINT Loss: 6.0602 | NRF Acc: 0.6851\n"
     ]
    },
    {
     "name": "stderr",
     "output_type": "stream",
     "text": [
      "Training epochs:  21%|██▏       | 214/1000 [04:39<18:40,  1.43s/it]"
     ]
    },
    {
     "name": "stdout",
     "output_type": "stream",
     "text": [
      "Epoch 214 | GCN MSE Loss: 3.1719 | NRF Loss: 2.8688 | JOINT Loss: 6.0407 | NRF Acc: 0.6880\n"
     ]
    },
    {
     "name": "stderr",
     "output_type": "stream",
     "text": [
      "Training epochs:  22%|██▏       | 215/1000 [04:41<18:38,  1.42s/it]"
     ]
    },
    {
     "name": "stdout",
     "output_type": "stream",
     "text": [
      "Epoch 215 | GCN MSE Loss: 3.1564 | NRF Loss: 2.8649 | JOINT Loss: 6.0213 | NRF Acc: 0.6908\n"
     ]
    },
    {
     "name": "stderr",
     "output_type": "stream",
     "text": [
      "Training epochs:  22%|██▏       | 216/1000 [04:42<18:36,  1.42s/it]"
     ]
    },
    {
     "name": "stdout",
     "output_type": "stream",
     "text": [
      "Epoch 216 | GCN MSE Loss: 3.1410 | NRF Loss: 2.8610 | JOINT Loss: 6.0020 | NRF Acc: 0.6932\n"
     ]
    },
    {
     "name": "stderr",
     "output_type": "stream",
     "text": [
      "Training epochs:  22%|██▏       | 217/1000 [04:44<18:37,  1.43s/it]"
     ]
    },
    {
     "name": "stdout",
     "output_type": "stream",
     "text": [
      "Epoch 217 | GCN MSE Loss: 3.1257 | NRF Loss: 2.8571 | JOINT Loss: 5.9828 | NRF Acc: 0.6937\n"
     ]
    },
    {
     "name": "stderr",
     "output_type": "stream",
     "text": [
      "Training epochs:  22%|██▏       | 218/1000 [04:45<18:41,  1.43s/it]"
     ]
    },
    {
     "name": "stdout",
     "output_type": "stream",
     "text": [
      "Epoch 218 | GCN MSE Loss: 3.1104 | NRF Loss: 2.8533 | JOINT Loss: 5.9637 | NRF Acc: 0.6965\n"
     ]
    },
    {
     "name": "stderr",
     "output_type": "stream",
     "text": [
      "Training epochs:  22%|██▏       | 219/1000 [04:47<18:38,  1.43s/it]"
     ]
    },
    {
     "name": "stdout",
     "output_type": "stream",
     "text": [
      "Epoch 219 | GCN MSE Loss: 3.0953 | NRF Loss: 2.8494 | JOINT Loss: 5.9447 | NRF Acc: 0.6982\n"
     ]
    },
    {
     "name": "stderr",
     "output_type": "stream",
     "text": [
      "Training epochs:  22%|██▏       | 220/1000 [04:48<18:35,  1.43s/it]"
     ]
    },
    {
     "name": "stdout",
     "output_type": "stream",
     "text": [
      "Epoch 220 | GCN MSE Loss: 3.0802 | NRF Loss: 2.8455 | JOINT Loss: 5.9257 | NRF Acc: 0.7001\n"
     ]
    },
    {
     "name": "stderr",
     "output_type": "stream",
     "text": [
      "Training epochs:  22%|██▏       | 221/1000 [04:49<16:59,  1.31s/it]"
     ]
    },
    {
     "name": "stdout",
     "output_type": "stream",
     "text": [
      "Epoch 221 | GCN MSE Loss: 3.0652 | NRF Loss: 2.8416 | JOINT Loss: 5.9068 | NRF Acc: 0.7000\n"
     ]
    },
    {
     "name": "stderr",
     "output_type": "stream",
     "text": [
      "Training epochs:  22%|██▏       | 222/1000 [04:50<17:22,  1.34s/it]"
     ]
    },
    {
     "name": "stdout",
     "output_type": "stream",
     "text": [
      "Epoch 222 | GCN MSE Loss: 3.0503 | NRF Loss: 2.8378 | JOINT Loss: 5.8881 | NRF Acc: 0.7005\n"
     ]
    },
    {
     "name": "stderr",
     "output_type": "stream",
     "text": [
      "Training epochs:  22%|██▏       | 223/1000 [04:52<17:41,  1.37s/it]"
     ]
    },
    {
     "name": "stdout",
     "output_type": "stream",
     "text": [
      "Epoch 223 | GCN MSE Loss: 3.0355 | NRF Loss: 2.8339 | JOINT Loss: 5.8694 | NRF Acc: 0.7024\n"
     ]
    },
    {
     "name": "stderr",
     "output_type": "stream",
     "text": [
      "Training epochs:  22%|██▏       | 224/1000 [04:53<17:52,  1.38s/it]"
     ]
    },
    {
     "name": "stdout",
     "output_type": "stream",
     "text": [
      "Epoch 224 | GCN MSE Loss: 3.0207 | NRF Loss: 2.8300 | JOINT Loss: 5.8507 | NRF Acc: 0.7041\n"
     ]
    },
    {
     "name": "stderr",
     "output_type": "stream",
     "text": [
      "Training epochs:  22%|██▎       | 225/1000 [04:55<17:58,  1.39s/it]"
     ]
    },
    {
     "name": "stdout",
     "output_type": "stream",
     "text": [
      "Epoch 225 | GCN MSE Loss: 3.0061 | NRF Loss: 2.8261 | JOINT Loss: 5.8322 | NRF Acc: 0.7050\n"
     ]
    },
    {
     "name": "stderr",
     "output_type": "stream",
     "text": [
      "Training epochs:  23%|██▎       | 226/1000 [04:56<16:24,  1.27s/it]"
     ]
    },
    {
     "name": "stdout",
     "output_type": "stream",
     "text": [
      "Epoch 226 | GCN MSE Loss: 2.9914 | NRF Loss: 2.8222 | JOINT Loss: 5.8137 | NRF Acc: 0.7062\n"
     ]
    },
    {
     "name": "stderr",
     "output_type": "stream",
     "text": [
      "Training epochs:  23%|██▎       | 227/1000 [04:57<16:47,  1.30s/it]"
     ]
    },
    {
     "name": "stdout",
     "output_type": "stream",
     "text": [
      "Epoch 227 | GCN MSE Loss: 2.9769 | NRF Loss: 2.8183 | JOINT Loss: 5.7952 | NRF Acc: 0.7081\n"
     ]
    },
    {
     "name": "stderr",
     "output_type": "stream",
     "text": [
      "Training epochs:  23%|██▎       | 228/1000 [04:58<17:02,  1.32s/it]"
     ]
    },
    {
     "name": "stdout",
     "output_type": "stream",
     "text": [
      "Epoch 228 | GCN MSE Loss: 2.9624 | NRF Loss: 2.8145 | JOINT Loss: 5.7769 | NRF Acc: 0.7109\n"
     ]
    },
    {
     "name": "stderr",
     "output_type": "stream",
     "text": [
      "Training epochs:  23%|██▎       | 229/1000 [05:00<17:18,  1.35s/it]"
     ]
    },
    {
     "name": "stdout",
     "output_type": "stream",
     "text": [
      "Epoch 229 | GCN MSE Loss: 2.9480 | NRF Loss: 2.8106 | JOINT Loss: 5.7586 | NRF Acc: 0.7128\n"
     ]
    },
    {
     "name": "stderr",
     "output_type": "stream",
     "text": [
      "Training epochs:  23%|██▎       | 230/1000 [05:01<17:24,  1.36s/it]"
     ]
    },
    {
     "name": "stdout",
     "output_type": "stream",
     "text": [
      "Epoch 230 | GCN MSE Loss: 2.9337 | NRF Loss: 2.8068 | JOINT Loss: 5.7404 | NRF Acc: 0.7150\n"
     ]
    },
    {
     "name": "stderr",
     "output_type": "stream",
     "text": [
      "Training epochs:  23%|██▎       | 231/1000 [05:02<14:21,  1.12s/it]"
     ]
    },
    {
     "name": "stdout",
     "output_type": "stream",
     "text": [
      "Epoch 231 | GCN MSE Loss: 2.9194 | NRF Loss: 2.8029 | JOINT Loss: 5.7224 | NRF Acc: 0.7161\n"
     ]
    },
    {
     "name": "stderr",
     "output_type": "stream",
     "text": [
      "Training epochs:  23%|██▎       | 232/1000 [05:02<12:16,  1.04it/s]"
     ]
    },
    {
     "name": "stdout",
     "output_type": "stream",
     "text": [
      "Epoch 232 | GCN MSE Loss: 2.9053 | NRF Loss: 2.7991 | JOINT Loss: 5.7044 | NRF Acc: 0.7171\n"
     ]
    },
    {
     "name": "stderr",
     "output_type": "stream",
     "text": [
      "Training epochs:  23%|██▎       | 233/1000 [05:03<10:45,  1.19it/s]"
     ]
    },
    {
     "name": "stdout",
     "output_type": "stream",
     "text": [
      "Epoch 233 | GCN MSE Loss: 2.8912 | NRF Loss: 2.7952 | JOINT Loss: 5.6865 | NRF Acc: 0.7183\n"
     ]
    },
    {
     "name": "stderr",
     "output_type": "stream",
     "text": [
      "Training epochs:  23%|██▎       | 234/1000 [05:03<09:43,  1.31it/s]"
     ]
    },
    {
     "name": "stdout",
     "output_type": "stream",
     "text": [
      "Epoch 234 | GCN MSE Loss: 2.8772 | NRF Loss: 2.7914 | JOINT Loss: 5.6686 | NRF Acc: 0.7195\n"
     ]
    },
    {
     "name": "stderr",
     "output_type": "stream",
     "text": [
      "Training epochs:  24%|██▎       | 235/1000 [05:04<08:58,  1.42it/s]"
     ]
    },
    {
     "name": "stdout",
     "output_type": "stream",
     "text": [
      "Epoch 235 | GCN MSE Loss: 2.8633 | NRF Loss: 2.7875 | JOINT Loss: 5.6508 | NRF Acc: 0.7197\n"
     ]
    },
    {
     "name": "stderr",
     "output_type": "stream",
     "text": [
      "Training epochs:  24%|██▎       | 236/1000 [05:05<08:48,  1.45it/s]"
     ]
    },
    {
     "name": "stdout",
     "output_type": "stream",
     "text": [
      "Epoch 236 | GCN MSE Loss: 2.8495 | NRF Loss: 2.7837 | JOINT Loss: 5.6332 | NRF Acc: 0.7206\n"
     ]
    },
    {
     "name": "stderr",
     "output_type": "stream",
     "text": [
      "Training epochs:  24%|██▎       | 237/1000 [05:05<08:41,  1.46it/s]"
     ]
    },
    {
     "name": "stdout",
     "output_type": "stream",
     "text": [
      "Epoch 237 | GCN MSE Loss: 2.8357 | NRF Loss: 2.7799 | JOINT Loss: 5.6156 | NRF Acc: 0.7223\n"
     ]
    },
    {
     "name": "stderr",
     "output_type": "stream",
     "text": [
      "Training epochs:  24%|██▍       | 238/1000 [05:07<11:31,  1.10it/s]"
     ]
    },
    {
     "name": "stdout",
     "output_type": "stream",
     "text": [
      "Epoch 238 | GCN MSE Loss: 2.8221 | NRF Loss: 2.7761 | JOINT Loss: 5.5982 | NRF Acc: 0.7232\n"
     ]
    },
    {
     "name": "stderr",
     "output_type": "stream",
     "text": [
      "Training epochs:  24%|██▍       | 239/1000 [05:08<13:25,  1.06s/it]"
     ]
    },
    {
     "name": "stdout",
     "output_type": "stream",
     "text": [
      "Epoch 239 | GCN MSE Loss: 2.8086 | NRF Loss: 2.7723 | JOINT Loss: 5.5808 | NRF Acc: 0.7239\n"
     ]
    },
    {
     "name": "stderr",
     "output_type": "stream",
     "text": [
      "Training epochs:  24%|██▍       | 240/1000 [05:10<14:49,  1.17s/it]"
     ]
    },
    {
     "name": "stdout",
     "output_type": "stream",
     "text": [
      "Epoch 240 | GCN MSE Loss: 2.7951 | NRF Loss: 2.7684 | JOINT Loss: 5.5635 | NRF Acc: 0.7249\n"
     ]
    },
    {
     "name": "stderr",
     "output_type": "stream",
     "text": [
      "Training epochs:  24%|██▍       | 241/1000 [05:11<15:47,  1.25s/it]"
     ]
    },
    {
     "name": "stdout",
     "output_type": "stream",
     "text": [
      "Epoch 241 | GCN MSE Loss: 2.7817 | NRF Loss: 2.7646 | JOINT Loss: 5.5464 | NRF Acc: 0.7265\n"
     ]
    },
    {
     "name": "stderr",
     "output_type": "stream",
     "text": [
      "Training epochs:  24%|██▍       | 242/1000 [05:13<16:25,  1.30s/it]"
     ]
    },
    {
     "name": "stdout",
     "output_type": "stream",
     "text": [
      "Epoch 242 | GCN MSE Loss: 2.7684 | NRF Loss: 2.7608 | JOINT Loss: 5.5293 | NRF Acc: 0.7285\n"
     ]
    },
    {
     "name": "stderr",
     "output_type": "stream",
     "text": [
      "Training epochs:  24%|██▍       | 243/1000 [05:14<16:58,  1.35s/it]"
     ]
    },
    {
     "name": "stdout",
     "output_type": "stream",
     "text": [
      "Epoch 243 | GCN MSE Loss: 2.7553 | NRF Loss: 2.7570 | JOINT Loss: 5.5123 | NRF Acc: 0.7299\n"
     ]
    },
    {
     "name": "stderr",
     "output_type": "stream",
     "text": [
      "Training epochs:  24%|██▍       | 244/1000 [05:15<17:10,  1.36s/it]"
     ]
    },
    {
     "name": "stdout",
     "output_type": "stream",
     "text": [
      "Epoch 244 | GCN MSE Loss: 2.7422 | NRF Loss: 2.7533 | JOINT Loss: 5.4955 | NRF Acc: 0.7310\n"
     ]
    },
    {
     "name": "stderr",
     "output_type": "stream",
     "text": [
      "Training epochs:  24%|██▍       | 245/1000 [05:17<17:11,  1.37s/it]"
     ]
    },
    {
     "name": "stdout",
     "output_type": "stream",
     "text": [
      "Epoch 245 | GCN MSE Loss: 2.7292 | NRF Loss: 2.7495 | JOINT Loss: 5.4787 | NRF Acc: 0.7332\n"
     ]
    },
    {
     "name": "stderr",
     "output_type": "stream",
     "text": [
      "Training epochs:  25%|██▍       | 246/1000 [05:18<17:27,  1.39s/it]"
     ]
    },
    {
     "name": "stdout",
     "output_type": "stream",
     "text": [
      "Epoch 246 | GCN MSE Loss: 2.7163 | NRF Loss: 2.7457 | JOINT Loss: 5.4620 | NRF Acc: 0.7339\n"
     ]
    },
    {
     "name": "stderr",
     "output_type": "stream",
     "text": [
      "Training epochs:  25%|██▍       | 247/1000 [05:20<17:38,  1.41s/it]"
     ]
    },
    {
     "name": "stdout",
     "output_type": "stream",
     "text": [
      "Epoch 247 | GCN MSE Loss: 2.7035 | NRF Loss: 2.7420 | JOINT Loss: 5.4455 | NRF Acc: 0.7342\n"
     ]
    },
    {
     "name": "stderr",
     "output_type": "stream",
     "text": [
      "Training epochs:  25%|██▍       | 248/1000 [05:21<17:44,  1.42s/it]"
     ]
    },
    {
     "name": "stdout",
     "output_type": "stream",
     "text": [
      "Epoch 248 | GCN MSE Loss: 2.6908 | NRF Loss: 2.7382 | JOINT Loss: 5.4291 | NRF Acc: 0.7356\n"
     ]
    },
    {
     "name": "stderr",
     "output_type": "stream",
     "text": [
      "Training epochs:  25%|██▍       | 249/1000 [05:23<17:48,  1.42s/it]"
     ]
    },
    {
     "name": "stdout",
     "output_type": "stream",
     "text": [
      "Epoch 249 | GCN MSE Loss: 2.6782 | NRF Loss: 2.7345 | JOINT Loss: 5.4127 | NRF Acc: 0.7361\n"
     ]
    },
    {
     "name": "stderr",
     "output_type": "stream",
     "text": [
      "Training epochs:  25%|██▌       | 250/1000 [05:24<17:47,  1.42s/it]"
     ]
    },
    {
     "name": "stdout",
     "output_type": "stream",
     "text": [
      "Epoch 250 | GCN MSE Loss: 2.6657 | NRF Loss: 2.7307 | JOINT Loss: 5.3965 | NRF Acc: 0.7367\n"
     ]
    },
    {
     "name": "stderr",
     "output_type": "stream",
     "text": [
      "Training epochs:  25%|██▌       | 251/1000 [05:25<17:37,  1.41s/it]"
     ]
    },
    {
     "name": "stdout",
     "output_type": "stream",
     "text": [
      "Epoch 251 | GCN MSE Loss: 2.6533 | NRF Loss: 2.7270 | JOINT Loss: 5.3803 | NRF Acc: 0.7379\n"
     ]
    },
    {
     "name": "stderr",
     "output_type": "stream",
     "text": [
      "Training epochs:  25%|██▌       | 252/1000 [05:27<17:38,  1.42s/it]"
     ]
    },
    {
     "name": "stdout",
     "output_type": "stream",
     "text": [
      "Epoch 252 | GCN MSE Loss: 2.6409 | NRF Loss: 2.7233 | JOINT Loss: 5.3643 | NRF Acc: 0.7387\n"
     ]
    },
    {
     "name": "stderr",
     "output_type": "stream",
     "text": [
      "Training epochs:  25%|██▌       | 253/1000 [05:28<17:43,  1.42s/it]"
     ]
    },
    {
     "name": "stdout",
     "output_type": "stream",
     "text": [
      "Epoch 253 | GCN MSE Loss: 2.6287 | NRF Loss: 2.7196 | JOINT Loss: 5.3483 | NRF Acc: 0.7391\n"
     ]
    },
    {
     "name": "stderr",
     "output_type": "stream",
     "text": [
      "Training epochs:  25%|██▌       | 254/1000 [05:30<17:49,  1.43s/it]"
     ]
    },
    {
     "name": "stdout",
     "output_type": "stream",
     "text": [
      "Epoch 254 | GCN MSE Loss: 2.6165 | NRF Loss: 2.7159 | JOINT Loss: 5.3325 | NRF Acc: 0.7396\n"
     ]
    },
    {
     "name": "stderr",
     "output_type": "stream",
     "text": [
      "Training epochs:  26%|██▌       | 255/1000 [05:31<17:49,  1.44s/it]"
     ]
    },
    {
     "name": "stdout",
     "output_type": "stream",
     "text": [
      "Epoch 255 | GCN MSE Loss: 2.6045 | NRF Loss: 2.7122 | JOINT Loss: 5.3167 | NRF Acc: 0.7407\n"
     ]
    },
    {
     "name": "stderr",
     "output_type": "stream",
     "text": [
      "Training epochs:  26%|██▌       | 256/1000 [05:33<17:52,  1.44s/it]"
     ]
    },
    {
     "name": "stdout",
     "output_type": "stream",
     "text": [
      "Epoch 256 | GCN MSE Loss: 2.5924 | NRF Loss: 2.7086 | JOINT Loss: 5.3010 | NRF Acc: 0.7420\n"
     ]
    },
    {
     "name": "stderr",
     "output_type": "stream",
     "text": [
      "Training epochs:  26%|██▌       | 257/1000 [05:34<17:53,  1.44s/it]"
     ]
    },
    {
     "name": "stdout",
     "output_type": "stream",
     "text": [
      "Epoch 257 | GCN MSE Loss: 2.5805 | NRF Loss: 2.7049 | JOINT Loss: 5.2855 | NRF Acc: 0.7429\n"
     ]
    },
    {
     "name": "stderr",
     "output_type": "stream",
     "text": [
      "Training epochs:  26%|██▌       | 258/1000 [05:35<17:38,  1.43s/it]"
     ]
    },
    {
     "name": "stdout",
     "output_type": "stream",
     "text": [
      "Epoch 258 | GCN MSE Loss: 2.5687 | NRF Loss: 2.7013 | JOINT Loss: 5.2700 | NRF Acc: 0.7432\n"
     ]
    },
    {
     "name": "stderr",
     "output_type": "stream",
     "text": [
      "Training epochs:  26%|██▌       | 259/1000 [05:37<17:36,  1.43s/it]"
     ]
    },
    {
     "name": "stdout",
     "output_type": "stream",
     "text": [
      "Epoch 259 | GCN MSE Loss: 2.5569 | NRF Loss: 2.6977 | JOINT Loss: 5.2546 | NRF Acc: 0.7436\n"
     ]
    },
    {
     "name": "stderr",
     "output_type": "stream",
     "text": [
      "Training epochs:  26%|██▌       | 260/1000 [05:38<17:31,  1.42s/it]"
     ]
    },
    {
     "name": "stdout",
     "output_type": "stream",
     "text": [
      "Epoch 260 | GCN MSE Loss: 2.5452 | NRF Loss: 2.6940 | JOINT Loss: 5.2393 | NRF Acc: 0.7443\n"
     ]
    },
    {
     "name": "stderr",
     "output_type": "stream",
     "text": [
      "Training epochs:  26%|██▌       | 261/1000 [05:40<17:33,  1.43s/it]"
     ]
    },
    {
     "name": "stdout",
     "output_type": "stream",
     "text": [
      "Epoch 261 | GCN MSE Loss: 2.5336 | NRF Loss: 2.6904 | JOINT Loss: 5.2240 | NRF Acc: 0.7453\n"
     ]
    },
    {
     "name": "stderr",
     "output_type": "stream",
     "text": [
      "Training epochs:  26%|██▌       | 262/1000 [05:41<17:35,  1.43s/it]"
     ]
    },
    {
     "name": "stdout",
     "output_type": "stream",
     "text": [
      "Epoch 262 | GCN MSE Loss: 2.5221 | NRF Loss: 2.6868 | JOINT Loss: 5.2089 | NRF Acc: 0.7457\n"
     ]
    },
    {
     "name": "stderr",
     "output_type": "stream",
     "text": [
      "Training epochs:  26%|██▋       | 263/1000 [05:43<17:37,  1.44s/it]"
     ]
    },
    {
     "name": "stdout",
     "output_type": "stream",
     "text": [
      "Epoch 263 | GCN MSE Loss: 2.5106 | NRF Loss: 2.6832 | JOINT Loss: 5.1939 | NRF Acc: 0.7464\n"
     ]
    },
    {
     "name": "stderr",
     "output_type": "stream",
     "text": [
      "Training epochs:  26%|██▋       | 264/1000 [05:44<17:40,  1.44s/it]"
     ]
    },
    {
     "name": "stdout",
     "output_type": "stream",
     "text": [
      "Epoch 264 | GCN MSE Loss: 2.4993 | NRF Loss: 2.6796 | JOINT Loss: 5.1789 | NRF Acc: 0.7469\n"
     ]
    },
    {
     "name": "stderr",
     "output_type": "stream",
     "text": [
      "Training epochs:  26%|██▋       | 265/1000 [05:45<17:35,  1.44s/it]"
     ]
    },
    {
     "name": "stdout",
     "output_type": "stream",
     "text": [
      "Epoch 265 | GCN MSE Loss: 2.4880 | NRF Loss: 2.6761 | JOINT Loss: 5.1641 | NRF Acc: 0.7477\n"
     ]
    },
    {
     "name": "stderr",
     "output_type": "stream",
     "text": [
      "Training epochs:  27%|██▋       | 266/1000 [05:47<17:28,  1.43s/it]"
     ]
    },
    {
     "name": "stdout",
     "output_type": "stream",
     "text": [
      "Epoch 266 | GCN MSE Loss: 2.4768 | NRF Loss: 2.6725 | JOINT Loss: 5.1493 | NRF Acc: 0.7500\n"
     ]
    },
    {
     "name": "stderr",
     "output_type": "stream",
     "text": [
      "Training epochs:  27%|██▋       | 267/1000 [05:48<17:24,  1.42s/it]"
     ]
    },
    {
     "name": "stdout",
     "output_type": "stream",
     "text": [
      "Epoch 267 | GCN MSE Loss: 2.4656 | NRF Loss: 2.6690 | JOINT Loss: 5.1346 | NRF Acc: 0.7502\n"
     ]
    },
    {
     "name": "stderr",
     "output_type": "stream",
     "text": [
      "Training epochs:  27%|██▋       | 268/1000 [05:50<17:25,  1.43s/it]"
     ]
    },
    {
     "name": "stdout",
     "output_type": "stream",
     "text": [
      "Epoch 268 | GCN MSE Loss: 2.4546 | NRF Loss: 2.6655 | JOINT Loss: 5.1201 | NRF Acc: 0.7503\n"
     ]
    },
    {
     "name": "stderr",
     "output_type": "stream",
     "text": [
      "Training epochs:  27%|██▋       | 269/1000 [05:51<15:54,  1.31s/it]"
     ]
    },
    {
     "name": "stdout",
     "output_type": "stream",
     "text": [
      "Epoch 269 | GCN MSE Loss: 2.4436 | NRF Loss: 2.6620 | JOINT Loss: 5.1056 | NRF Acc: 0.7502\n"
     ]
    },
    {
     "name": "stderr",
     "output_type": "stream",
     "text": [
      "Training epochs:  27%|██▋       | 270/1000 [05:52<14:51,  1.22s/it]"
     ]
    },
    {
     "name": "stdout",
     "output_type": "stream",
     "text": [
      "Epoch 270 | GCN MSE Loss: 2.4326 | NRF Loss: 2.6585 | JOINT Loss: 5.0912 | NRF Acc: 0.7502\n"
     ]
    },
    {
     "name": "stderr",
     "output_type": "stream",
     "text": [
      "Training epochs:  27%|██▋       | 271/1000 [05:53<15:31,  1.28s/it]"
     ]
    },
    {
     "name": "stdout",
     "output_type": "stream",
     "text": [
      "Epoch 271 | GCN MSE Loss: 2.4218 | NRF Loss: 2.6551 | JOINT Loss: 5.0769 | NRF Acc: 0.7507\n"
     ]
    },
    {
     "name": "stderr",
     "output_type": "stream",
     "text": [
      "Training epochs:  27%|██▋       | 272/1000 [05:55<16:06,  1.33s/it]"
     ]
    },
    {
     "name": "stdout",
     "output_type": "stream",
     "text": [
      "Epoch 272 | GCN MSE Loss: 2.4110 | NRF Loss: 2.6516 | JOINT Loss: 5.0627 | NRF Acc: 0.7516\n"
     ]
    },
    {
     "name": "stderr",
     "output_type": "stream",
     "text": [
      "Training epochs:  27%|██▋       | 273/1000 [05:56<16:28,  1.36s/it]"
     ]
    },
    {
     "name": "stdout",
     "output_type": "stream",
     "text": [
      "Epoch 273 | GCN MSE Loss: 2.4003 | NRF Loss: 2.6482 | JOINT Loss: 5.0485 | NRF Acc: 0.7519\n"
     ]
    },
    {
     "name": "stderr",
     "output_type": "stream",
     "text": [
      "Training epochs:  27%|██▋       | 274/1000 [05:57<16:44,  1.38s/it]"
     ]
    },
    {
     "name": "stdout",
     "output_type": "stream",
     "text": [
      "Epoch 274 | GCN MSE Loss: 2.3897 | NRF Loss: 2.6448 | JOINT Loss: 5.0345 | NRF Acc: 0.7531\n"
     ]
    },
    {
     "name": "stderr",
     "output_type": "stream",
     "text": [
      "Training epochs:  28%|██▊       | 275/1000 [05:59<16:57,  1.40s/it]"
     ]
    },
    {
     "name": "stdout",
     "output_type": "stream",
     "text": [
      "Epoch 275 | GCN MSE Loss: 2.3792 | NRF Loss: 2.6414 | JOINT Loss: 5.0205 | NRF Acc: 0.7533\n"
     ]
    },
    {
     "name": "stderr",
     "output_type": "stream",
     "text": [
      "Training epochs:  28%|██▊       | 276/1000 [06:00<16:58,  1.41s/it]"
     ]
    },
    {
     "name": "stdout",
     "output_type": "stream",
     "text": [
      "Epoch 276 | GCN MSE Loss: 2.3687 | NRF Loss: 2.6380 | JOINT Loss: 5.0066 | NRF Acc: 0.7535\n"
     ]
    },
    {
     "name": "stderr",
     "output_type": "stream",
     "text": [
      "Training epochs:  28%|██▊       | 277/1000 [06:02<16:58,  1.41s/it]"
     ]
    },
    {
     "name": "stdout",
     "output_type": "stream",
     "text": [
      "Epoch 277 | GCN MSE Loss: 2.3583 | NRF Loss: 2.6346 | JOINT Loss: 4.9929 | NRF Acc: 0.7538\n"
     ]
    },
    {
     "name": "stderr",
     "output_type": "stream",
     "text": [
      "Training epochs:  28%|██▊       | 278/1000 [06:03<16:57,  1.41s/it]"
     ]
    },
    {
     "name": "stdout",
     "output_type": "stream",
     "text": [
      "Epoch 278 | GCN MSE Loss: 2.3479 | NRF Loss: 2.6312 | JOINT Loss: 4.9792 | NRF Acc: 0.7545\n"
     ]
    },
    {
     "name": "stderr",
     "output_type": "stream",
     "text": [
      "Training epochs:  28%|██▊       | 279/1000 [06:04<15:31,  1.29s/it]"
     ]
    },
    {
     "name": "stdout",
     "output_type": "stream",
     "text": [
      "Epoch 279 | GCN MSE Loss: 2.3377 | NRF Loss: 2.6279 | JOINT Loss: 4.9655 | NRF Acc: 0.7545\n"
     ]
    },
    {
     "name": "stderr",
     "output_type": "stream",
     "text": [
      "Training epochs:  28%|██▊       | 280/1000 [06:06<15:57,  1.33s/it]"
     ]
    },
    {
     "name": "stdout",
     "output_type": "stream",
     "text": [
      "Epoch 280 | GCN MSE Loss: 2.3274 | NRF Loss: 2.6245 | JOINT Loss: 4.9520 | NRF Acc: 0.7547\n"
     ]
    },
    {
     "name": "stderr",
     "output_type": "stream",
     "text": [
      "Training epochs:  28%|██▊       | 281/1000 [06:07<16:00,  1.34s/it]"
     ]
    },
    {
     "name": "stdout",
     "output_type": "stream",
     "text": [
      "Epoch 281 | GCN MSE Loss: 2.3173 | NRF Loss: 2.6212 | JOINT Loss: 4.9385 | NRF Acc: 0.7548\n"
     ]
    },
    {
     "name": "stderr",
     "output_type": "stream",
     "text": [
      "Training epochs:  28%|██▊       | 282/1000 [06:08<14:51,  1.24s/it]"
     ]
    },
    {
     "name": "stdout",
     "output_type": "stream",
     "text": [
      "Epoch 282 | GCN MSE Loss: 2.3072 | NRF Loss: 2.6179 | JOINT Loss: 4.9251 | NRF Acc: 0.7545\n"
     ]
    },
    {
     "name": "stderr",
     "output_type": "stream",
     "text": [
      "Training epochs:  28%|██▊       | 283/1000 [06:09<14:02,  1.17s/it]"
     ]
    },
    {
     "name": "stdout",
     "output_type": "stream",
     "text": [
      "Epoch 283 | GCN MSE Loss: 2.2972 | NRF Loss: 2.6146 | JOINT Loss: 4.9118 | NRF Acc: 0.7547\n"
     ]
    },
    {
     "name": "stderr",
     "output_type": "stream",
     "text": [
      "Training epochs:  28%|██▊       | 284/1000 [06:10<13:28,  1.13s/it]"
     ]
    },
    {
     "name": "stdout",
     "output_type": "stream",
     "text": [
      "Epoch 284 | GCN MSE Loss: 2.2873 | NRF Loss: 2.6113 | JOINT Loss: 4.8986 | NRF Acc: 0.7547\n"
     ]
    },
    {
     "name": "stderr",
     "output_type": "stream",
     "text": [
      "Training epochs:  28%|██▊       | 285/1000 [06:11<14:34,  1.22s/it]"
     ]
    },
    {
     "name": "stdout",
     "output_type": "stream",
     "text": [
      "Epoch 285 | GCN MSE Loss: 2.2774 | NRF Loss: 2.6080 | JOINT Loss: 4.8855 | NRF Acc: 0.7554\n"
     ]
    },
    {
     "name": "stderr",
     "output_type": "stream",
     "text": [
      "Training epochs:  29%|██▊       | 286/1000 [06:13<15:08,  1.27s/it]"
     ]
    },
    {
     "name": "stdout",
     "output_type": "stream",
     "text": [
      "Epoch 286 | GCN MSE Loss: 2.2676 | NRF Loss: 2.6048 | JOINT Loss: 4.8724 | NRF Acc: 0.7555\n"
     ]
    },
    {
     "name": "stderr",
     "output_type": "stream",
     "text": [
      "Training epochs:  29%|██▊       | 287/1000 [06:14<15:40,  1.32s/it]"
     ]
    },
    {
     "name": "stdout",
     "output_type": "stream",
     "text": [
      "Epoch 287 | GCN MSE Loss: 2.2579 | NRF Loss: 2.6015 | JOINT Loss: 4.8594 | NRF Acc: 0.7557\n"
     ]
    },
    {
     "name": "stderr",
     "output_type": "stream",
     "text": [
      "Training epochs:  29%|██▉       | 288/1000 [06:15<14:35,  1.23s/it]"
     ]
    },
    {
     "name": "stdout",
     "output_type": "stream",
     "text": [
      "Epoch 288 | GCN MSE Loss: 2.2482 | NRF Loss: 2.5983 | JOINT Loss: 4.8465 | NRF Acc: 0.7557\n"
     ]
    },
    {
     "name": "stderr",
     "output_type": "stream",
     "text": [
      "Training epochs:  29%|██▉       | 289/1000 [06:16<13:36,  1.15s/it]"
     ]
    },
    {
     "name": "stdout",
     "output_type": "stream",
     "text": [
      "Epoch 289 | GCN MSE Loss: 2.2386 | NRF Loss: 2.5951 | JOINT Loss: 4.8337 | NRF Acc: 0.7559\n"
     ]
    },
    {
     "name": "stderr",
     "output_type": "stream",
     "text": [
      "Training epochs:  29%|██▉       | 290/1000 [06:17<13:52,  1.17s/it]"
     ]
    },
    {
     "name": "stdout",
     "output_type": "stream",
     "text": [
      "Epoch 290 | GCN MSE Loss: 2.2290 | NRF Loss: 2.5919 | JOINT Loss: 4.8209 | NRF Acc: 0.7562\n"
     ]
    },
    {
     "name": "stderr",
     "output_type": "stream",
     "text": [
      "Training epochs:  29%|██▉       | 291/1000 [06:18<13:19,  1.13s/it]"
     ]
    },
    {
     "name": "stdout",
     "output_type": "stream",
     "text": [
      "Epoch 291 | GCN MSE Loss: 2.2196 | NRF Loss: 2.5887 | JOINT Loss: 4.8082 | NRF Acc: 0.7562\n"
     ]
    },
    {
     "name": "stderr",
     "output_type": "stream",
     "text": [
      "Training epochs:  29%|██▉       | 292/1000 [06:19<12:55,  1.10s/it]"
     ]
    },
    {
     "name": "stdout",
     "output_type": "stream",
     "text": [
      "Epoch 292 | GCN MSE Loss: 2.2101 | NRF Loss: 2.5855 | JOINT Loss: 4.7956 | NRF Acc: 0.7559\n"
     ]
    },
    {
     "name": "stderr",
     "output_type": "stream",
     "text": [
      "Training epochs:  29%|██▉       | 293/1000 [06:21<12:38,  1.07s/it]"
     ]
    },
    {
     "name": "stdout",
     "output_type": "stream",
     "text": [
      "Epoch 293 | GCN MSE Loss: 2.2008 | NRF Loss: 2.5823 | JOINT Loss: 4.7831 | NRF Acc: 0.7557\n"
     ]
    },
    {
     "name": "stderr",
     "output_type": "stream",
     "text": [
      "Training epochs:  29%|██▉       | 294/1000 [06:22<12:27,  1.06s/it]"
     ]
    },
    {
     "name": "stdout",
     "output_type": "stream",
     "text": [
      "Epoch 294 | GCN MSE Loss: 2.1915 | NRF Loss: 2.5792 | JOINT Loss: 4.7707 | NRF Acc: 0.7555\n"
     ]
    },
    {
     "name": "stderr",
     "output_type": "stream",
     "text": [
      "Training epochs:  30%|██▉       | 295/1000 [06:23<12:17,  1.05s/it]"
     ]
    },
    {
     "name": "stdout",
     "output_type": "stream",
     "text": [
      "Epoch 295 | GCN MSE Loss: 2.1822 | NRF Loss: 2.5761 | JOINT Loss: 4.7583 | NRF Acc: 0.7550\n"
     ]
    },
    {
     "name": "stderr",
     "output_type": "stream",
     "text": [
      "Training epochs:  30%|██▉       | 296/1000 [06:24<12:11,  1.04s/it]"
     ]
    },
    {
     "name": "stdout",
     "output_type": "stream",
     "text": [
      "Epoch 296 | GCN MSE Loss: 2.1730 | NRF Loss: 2.5729 | JOINT Loss: 4.7460 | NRF Acc: 0.7550\n"
     ]
    },
    {
     "name": "stderr",
     "output_type": "stream",
     "text": [
      "Training epochs:  30%|██▉       | 297/1000 [06:25<12:07,  1.03s/it]"
     ]
    },
    {
     "name": "stdout",
     "output_type": "stream",
     "text": [
      "Epoch 297 | GCN MSE Loss: 2.1639 | NRF Loss: 2.5698 | JOINT Loss: 4.7337 | NRF Acc: 0.7548\n"
     ]
    },
    {
     "name": "stderr",
     "output_type": "stream",
     "text": [
      "Training epochs:  30%|██▉       | 298/1000 [06:26<12:02,  1.03s/it]"
     ]
    },
    {
     "name": "stdout",
     "output_type": "stream",
     "text": [
      "Epoch 298 | GCN MSE Loss: 2.1548 | NRF Loss: 2.5667 | JOINT Loss: 4.7216 | NRF Acc: 0.7550\n"
     ]
    },
    {
     "name": "stderr",
     "output_type": "stream",
     "text": [
      "Training epochs:  30%|██▉       | 299/1000 [06:27<12:00,  1.03s/it]"
     ]
    },
    {
     "name": "stdout",
     "output_type": "stream",
     "text": [
      "Epoch 299 | GCN MSE Loss: 2.1458 | NRF Loss: 2.5637 | JOINT Loss: 4.7095 | NRF Acc: 0.7550\n"
     ]
    },
    {
     "name": "stderr",
     "output_type": "stream",
     "text": [
      "Training epochs:  30%|███       | 300/1000 [06:28<11:58,  1.03s/it]"
     ]
    },
    {
     "name": "stdout",
     "output_type": "stream",
     "text": [
      "Epoch 300 | GCN MSE Loss: 2.1369 | NRF Loss: 2.5606 | JOINT Loss: 4.6975 | NRF Acc: 0.7554\n"
     ]
    },
    {
     "name": "stderr",
     "output_type": "stream",
     "text": [
      "Training epochs:  30%|███       | 301/1000 [06:29<11:56,  1.03s/it]"
     ]
    },
    {
     "name": "stdout",
     "output_type": "stream",
     "text": [
      "Epoch 301 | GCN MSE Loss: 2.1280 | NRF Loss: 2.5575 | JOINT Loss: 4.6855 | NRF Acc: 0.7552\n"
     ]
    },
    {
     "name": "stderr",
     "output_type": "stream",
     "text": [
      "Training epochs:  30%|███       | 302/1000 [06:30<11:54,  1.02s/it]"
     ]
    },
    {
     "name": "stdout",
     "output_type": "stream",
     "text": [
      "Epoch 302 | GCN MSE Loss: 2.1192 | NRF Loss: 2.5545 | JOINT Loss: 4.6737 | NRF Acc: 0.7548\n"
     ]
    },
    {
     "name": "stderr",
     "output_type": "stream",
     "text": [
      "Training epochs:  30%|███       | 303/1000 [06:31<11:53,  1.02s/it]"
     ]
    },
    {
     "name": "stdout",
     "output_type": "stream",
     "text": [
      "Epoch 303 | GCN MSE Loss: 2.1104 | NRF Loss: 2.5515 | JOINT Loss: 4.6619 | NRF Acc: 0.7550\n"
     ]
    },
    {
     "name": "stderr",
     "output_type": "stream",
     "text": [
      "Training epochs:  30%|███       | 304/1000 [06:32<11:52,  1.02s/it]"
     ]
    },
    {
     "name": "stdout",
     "output_type": "stream",
     "text": [
      "Epoch 304 | GCN MSE Loss: 2.1017 | NRF Loss: 2.5484 | JOINT Loss: 4.6501 | NRF Acc: 0.7547\n"
     ]
    },
    {
     "name": "stderr",
     "output_type": "stream",
     "text": [
      "Training epochs:  30%|███       | 305/1000 [06:33<11:50,  1.02s/it]"
     ]
    },
    {
     "name": "stdout",
     "output_type": "stream",
     "text": [
      "Epoch 305 | GCN MSE Loss: 2.0930 | NRF Loss: 2.5454 | JOINT Loss: 4.6385 | NRF Acc: 0.7552\n"
     ]
    },
    {
     "name": "stderr",
     "output_type": "stream",
     "text": [
      "Training epochs:  31%|███       | 306/1000 [06:34<13:17,  1.15s/it]"
     ]
    },
    {
     "name": "stdout",
     "output_type": "stream",
     "text": [
      "Epoch 306 | GCN MSE Loss: 2.0845 | NRF Loss: 2.5424 | JOINT Loss: 4.6269 | NRF Acc: 0.7571\n"
     ]
    },
    {
     "name": "stderr",
     "output_type": "stream",
     "text": [
      "Training epochs:  31%|███       | 307/1000 [06:36<14:16,  1.24s/it]"
     ]
    },
    {
     "name": "stdout",
     "output_type": "stream",
     "text": [
      "Epoch 307 | GCN MSE Loss: 2.0759 | NRF Loss: 2.5395 | JOINT Loss: 4.6154 | NRF Acc: 0.7580\n"
     ]
    },
    {
     "name": "stderr",
     "output_type": "stream",
     "text": [
      "Training epochs:  31%|███       | 308/1000 [06:37<14:58,  1.30s/it]"
     ]
    },
    {
     "name": "stdout",
     "output_type": "stream",
     "text": [
      "Epoch 308 | GCN MSE Loss: 2.0675 | NRF Loss: 2.5365 | JOINT Loss: 4.6040 | NRF Acc: 0.7583\n"
     ]
    },
    {
     "name": "stderr",
     "output_type": "stream",
     "text": [
      "Training epochs:  31%|███       | 309/1000 [06:39<15:30,  1.35s/it]"
     ]
    },
    {
     "name": "stdout",
     "output_type": "stream",
     "text": [
      "Epoch 309 | GCN MSE Loss: 2.0591 | NRF Loss: 2.5336 | JOINT Loss: 4.5926 | NRF Acc: 0.7588\n"
     ]
    },
    {
     "name": "stderr",
     "output_type": "stream",
     "text": [
      "Training epochs:  31%|███       | 310/1000 [06:40<14:21,  1.25s/it]"
     ]
    },
    {
     "name": "stdout",
     "output_type": "stream",
     "text": [
      "Epoch 310 | GCN MSE Loss: 2.0507 | NRF Loss: 2.5306 | JOINT Loss: 4.5813 | NRF Acc: 0.7588\n"
     ]
    },
    {
     "name": "stderr",
     "output_type": "stream",
     "text": [
      "Training epochs:  31%|███       | 311/1000 [06:41<14:55,  1.30s/it]"
     ]
    },
    {
     "name": "stdout",
     "output_type": "stream",
     "text": [
      "Epoch 311 | GCN MSE Loss: 2.0424 | NRF Loss: 2.5277 | JOINT Loss: 4.5701 | NRF Acc: 0.7590\n"
     ]
    },
    {
     "name": "stderr",
     "output_type": "stream",
     "text": [
      "Training epochs:  31%|███       | 312/1000 [06:42<15:20,  1.34s/it]"
     ]
    },
    {
     "name": "stdout",
     "output_type": "stream",
     "text": [
      "Epoch 312 | GCN MSE Loss: 2.0342 | NRF Loss: 2.5248 | JOINT Loss: 4.5590 | NRF Acc: 0.7595\n"
     ]
    },
    {
     "name": "stderr",
     "output_type": "stream",
     "text": [
      "Training epochs:  31%|███▏      | 313/1000 [06:44<15:41,  1.37s/it]"
     ]
    },
    {
     "name": "stdout",
     "output_type": "stream",
     "text": [
      "Epoch 313 | GCN MSE Loss: 2.0260 | NRF Loss: 2.5219 | JOINT Loss: 4.5479 | NRF Acc: 0.7600\n"
     ]
    },
    {
     "name": "stderr",
     "output_type": "stream",
     "text": [
      "Training epochs:  31%|███▏      | 314/1000 [06:45<15:55,  1.39s/it]"
     ]
    },
    {
     "name": "stdout",
     "output_type": "stream",
     "text": [
      "Epoch 314 | GCN MSE Loss: 2.0178 | NRF Loss: 2.5190 | JOINT Loss: 4.5369 | NRF Acc: 0.7606\n"
     ]
    },
    {
     "name": "stderr",
     "output_type": "stream",
     "text": [
      "Training epochs:  32%|███▏      | 315/1000 [06:47<16:05,  1.41s/it]"
     ]
    },
    {
     "name": "stdout",
     "output_type": "stream",
     "text": [
      "Epoch 315 | GCN MSE Loss: 2.0098 | NRF Loss: 2.5161 | JOINT Loss: 4.5259 | NRF Acc: 0.7616\n"
     ]
    },
    {
     "name": "stderr",
     "output_type": "stream",
     "text": [
      "Training epochs:  32%|███▏      | 316/1000 [06:48<16:15,  1.43s/it]"
     ]
    },
    {
     "name": "stdout",
     "output_type": "stream",
     "text": [
      "Epoch 316 | GCN MSE Loss: 2.0017 | NRF Loss: 2.5133 | JOINT Loss: 4.5150 | NRF Acc: 0.7630\n"
     ]
    },
    {
     "name": "stderr",
     "output_type": "stream",
     "text": [
      "Training epochs:  32%|███▏      | 317/1000 [06:50<16:19,  1.43s/it]"
     ]
    },
    {
     "name": "stdout",
     "output_type": "stream",
     "text": [
      "Epoch 317 | GCN MSE Loss: 1.9938 | NRF Loss: 2.5104 | JOINT Loss: 4.5042 | NRF Acc: 0.7632\n"
     ]
    },
    {
     "name": "stderr",
     "output_type": "stream",
     "text": [
      "Training epochs:  32%|███▏      | 318/1000 [06:51<14:53,  1.31s/it]"
     ]
    },
    {
     "name": "stdout",
     "output_type": "stream",
     "text": [
      "Epoch 318 | GCN MSE Loss: 1.9858 | NRF Loss: 2.5076 | JOINT Loss: 4.4934 | NRF Acc: 0.7628\n"
     ]
    },
    {
     "name": "stderr",
     "output_type": "stream",
     "text": [
      "Training epochs:  32%|███▏      | 319/1000 [06:52<13:53,  1.22s/it]"
     ]
    },
    {
     "name": "stdout",
     "output_type": "stream",
     "text": [
      "Epoch 319 | GCN MSE Loss: 1.9780 | NRF Loss: 2.5047 | JOINT Loss: 4.4827 | NRF Acc: 0.7630\n"
     ]
    },
    {
     "name": "stderr",
     "output_type": "stream",
     "text": [
      "Training epochs:  32%|███▏      | 320/1000 [06:53<14:37,  1.29s/it]"
     ]
    },
    {
     "name": "stdout",
     "output_type": "stream",
     "text": [
      "Epoch 320 | GCN MSE Loss: 1.9702 | NRF Loss: 2.5019 | JOINT Loss: 4.4721 | NRF Acc: 0.7644\n"
     ]
    },
    {
     "name": "stderr",
     "output_type": "stream",
     "text": [
      "Training epochs:  32%|███▏      | 321/1000 [06:54<13:41,  1.21s/it]"
     ]
    },
    {
     "name": "stdout",
     "output_type": "stream",
     "text": [
      "Epoch 321 | GCN MSE Loss: 1.9624 | NRF Loss: 2.4991 | JOINT Loss: 4.4615 | NRF Acc: 0.7642\n"
     ]
    },
    {
     "name": "stderr",
     "output_type": "stream",
     "text": [
      "Training epochs:  32%|███▏      | 322/1000 [06:55<13:01,  1.15s/it]"
     ]
    },
    {
     "name": "stdout",
     "output_type": "stream",
     "text": [
      "Epoch 322 | GCN MSE Loss: 1.9547 | NRF Loss: 2.4963 | JOINT Loss: 4.4510 | NRF Acc: 0.7640\n"
     ]
    },
    {
     "name": "stderr",
     "output_type": "stream",
     "text": [
      "Training epochs:  32%|███▏      | 323/1000 [06:56<12:33,  1.11s/it]"
     ]
    },
    {
     "name": "stdout",
     "output_type": "stream",
     "text": [
      "Epoch 323 | GCN MSE Loss: 1.9470 | NRF Loss: 2.4935 | JOINT Loss: 4.4405 | NRF Acc: 0.7642\n"
     ]
    },
    {
     "name": "stderr",
     "output_type": "stream",
     "text": [
      "Training epochs:  32%|███▏      | 324/1000 [06:57<12:14,  1.09s/it]"
     ]
    },
    {
     "name": "stdout",
     "output_type": "stream",
     "text": [
      "Epoch 324 | GCN MSE Loss: 1.9394 | NRF Loss: 2.4907 | JOINT Loss: 4.4301 | NRF Acc: 0.7642\n"
     ]
    },
    {
     "name": "stderr",
     "output_type": "stream",
     "text": [
      "Training epochs:  32%|███▎      | 325/1000 [06:58<11:59,  1.07s/it]"
     ]
    },
    {
     "name": "stdout",
     "output_type": "stream",
     "text": [
      "Epoch 325 | GCN MSE Loss: 1.9318 | NRF Loss: 2.4880 | JOINT Loss: 4.4198 | NRF Acc: 0.7640\n"
     ]
    },
    {
     "name": "stderr",
     "output_type": "stream",
     "text": [
      "Training epochs:  33%|███▎      | 326/1000 [06:59<11:49,  1.05s/it]"
     ]
    },
    {
     "name": "stdout",
     "output_type": "stream",
     "text": [
      "Epoch 326 | GCN MSE Loss: 1.9243 | NRF Loss: 2.4852 | JOINT Loss: 4.4095 | NRF Acc: 0.7640\n"
     ]
    },
    {
     "name": "stderr",
     "output_type": "stream",
     "text": [
      "Training epochs:  33%|███▎      | 327/1000 [07:00<11:41,  1.04s/it]"
     ]
    },
    {
     "name": "stdout",
     "output_type": "stream",
     "text": [
      "Epoch 327 | GCN MSE Loss: 1.9168 | NRF Loss: 2.4825 | JOINT Loss: 4.3992 | NRF Acc: 0.7637\n"
     ]
    },
    {
     "name": "stderr",
     "output_type": "stream",
     "text": [
      "Training epochs:  33%|███▎      | 328/1000 [07:01<11:36,  1.04s/it]"
     ]
    },
    {
     "name": "stdout",
     "output_type": "stream",
     "text": [
      "Epoch 328 | GCN MSE Loss: 1.9093 | NRF Loss: 2.4797 | JOINT Loss: 4.3891 | NRF Acc: 0.7639\n"
     ]
    },
    {
     "name": "stderr",
     "output_type": "stream",
     "text": [
      "Training epochs:  33%|███▎      | 329/1000 [07:02<11:32,  1.03s/it]"
     ]
    },
    {
     "name": "stdout",
     "output_type": "stream",
     "text": [
      "Epoch 329 | GCN MSE Loss: 1.9020 | NRF Loss: 2.4770 | JOINT Loss: 4.3789 | NRF Acc: 0.7637\n"
     ]
    },
    {
     "name": "stderr",
     "output_type": "stream",
     "text": [
      "Training epochs:  33%|███▎      | 330/1000 [07:03<11:29,  1.03s/it]"
     ]
    },
    {
     "name": "stdout",
     "output_type": "stream",
     "text": [
      "Epoch 330 | GCN MSE Loss: 1.8946 | NRF Loss: 2.4743 | JOINT Loss: 4.3689 | NRF Acc: 0.7632\n"
     ]
    },
    {
     "name": "stderr",
     "output_type": "stream",
     "text": [
      "Training epochs:  33%|███▎      | 331/1000 [07:04<11:26,  1.03s/it]"
     ]
    },
    {
     "name": "stdout",
     "output_type": "stream",
     "text": [
      "Epoch 331 | GCN MSE Loss: 1.8873 | NRF Loss: 2.4716 | JOINT Loss: 4.3588 | NRF Acc: 0.7626\n"
     ]
    },
    {
     "name": "stderr",
     "output_type": "stream",
     "text": [
      "Training epochs:  33%|███▎      | 332/1000 [07:05<11:23,  1.02s/it]"
     ]
    },
    {
     "name": "stdout",
     "output_type": "stream",
     "text": [
      "Epoch 332 | GCN MSE Loss: 1.8800 | NRF Loss: 2.4689 | JOINT Loss: 4.3488 | NRF Acc: 0.7628\n"
     ]
    },
    {
     "name": "stderr",
     "output_type": "stream",
     "text": [
      "Training epochs:  33%|███▎      | 333/1000 [07:06<11:22,  1.02s/it]"
     ]
    },
    {
     "name": "stdout",
     "output_type": "stream",
     "text": [
      "Epoch 333 | GCN MSE Loss: 1.8727 | NRF Loss: 2.4662 | JOINT Loss: 4.3389 | NRF Acc: 0.7628\n"
     ]
    },
    {
     "name": "stderr",
     "output_type": "stream",
     "text": [
      "Training epochs:  33%|███▎      | 334/1000 [07:07<11:21,  1.02s/it]"
     ]
    },
    {
     "name": "stdout",
     "output_type": "stream",
     "text": [
      "Epoch 334 | GCN MSE Loss: 1.8655 | NRF Loss: 2.4635 | JOINT Loss: 4.3290 | NRF Acc: 0.7633\n"
     ]
    },
    {
     "name": "stderr",
     "output_type": "stream",
     "text": [
      "Training epochs:  34%|███▎      | 335/1000 [07:08<11:19,  1.02s/it]"
     ]
    },
    {
     "name": "stdout",
     "output_type": "stream",
     "text": [
      "Epoch 335 | GCN MSE Loss: 1.8584 | NRF Loss: 2.4608 | JOINT Loss: 4.3192 | NRF Acc: 0.7632\n"
     ]
    },
    {
     "name": "stderr",
     "output_type": "stream",
     "text": [
      "Training epochs:  34%|███▎      | 336/1000 [07:10<11:18,  1.02s/it]"
     ]
    },
    {
     "name": "stdout",
     "output_type": "stream",
     "text": [
      "Epoch 336 | GCN MSE Loss: 1.8513 | NRF Loss: 2.4582 | JOINT Loss: 4.3094 | NRF Acc: 0.7630\n"
     ]
    },
    {
     "name": "stderr",
     "output_type": "stream",
     "text": [
      "Training epochs:  34%|███▎      | 337/1000 [07:11<11:17,  1.02s/it]"
     ]
    },
    {
     "name": "stdout",
     "output_type": "stream",
     "text": [
      "Epoch 337 | GCN MSE Loss: 1.8442 | NRF Loss: 2.4555 | JOINT Loss: 4.2997 | NRF Acc: 0.7630\n"
     ]
    },
    {
     "name": "stderr",
     "output_type": "stream",
     "text": [
      "Training epochs:  34%|███▍      | 338/1000 [07:12<11:16,  1.02s/it]"
     ]
    },
    {
     "name": "stdout",
     "output_type": "stream",
     "text": [
      "Epoch 338 | GCN MSE Loss: 1.8372 | NRF Loss: 2.4528 | JOINT Loss: 4.2900 | NRF Acc: 0.7625\n"
     ]
    },
    {
     "name": "stderr",
     "output_type": "stream",
     "text": [
      "Training epochs:  34%|███▍      | 339/1000 [07:13<11:15,  1.02s/it]"
     ]
    },
    {
     "name": "stdout",
     "output_type": "stream",
     "text": [
      "Epoch 339 | GCN MSE Loss: 1.8302 | NRF Loss: 2.4502 | JOINT Loss: 4.2804 | NRF Acc: 0.7625\n"
     ]
    },
    {
     "name": "stderr",
     "output_type": "stream",
     "text": [
      "Training epochs:  34%|███▍      | 340/1000 [07:14<11:14,  1.02s/it]"
     ]
    },
    {
     "name": "stdout",
     "output_type": "stream",
     "text": [
      "Epoch 340 | GCN MSE Loss: 1.8233 | NRF Loss: 2.4476 | JOINT Loss: 4.2709 | NRF Acc: 0.7625\n"
     ]
    },
    {
     "name": "stderr",
     "output_type": "stream",
     "text": [
      "Training epochs:  34%|███▍      | 341/1000 [07:15<11:13,  1.02s/it]"
     ]
    },
    {
     "name": "stdout",
     "output_type": "stream",
     "text": [
      "Epoch 341 | GCN MSE Loss: 1.8165 | NRF Loss: 2.4449 | JOINT Loss: 4.2614 | NRF Acc: 0.7625\n"
     ]
    },
    {
     "name": "stderr",
     "output_type": "stream",
     "text": [
      "Training epochs:  34%|███▍      | 342/1000 [07:16<11:12,  1.02s/it]"
     ]
    },
    {
     "name": "stdout",
     "output_type": "stream",
     "text": [
      "Epoch 342 | GCN MSE Loss: 1.8097 | NRF Loss: 2.4423 | JOINT Loss: 4.2520 | NRF Acc: 0.7621\n"
     ]
    },
    {
     "name": "stderr",
     "output_type": "stream",
     "text": [
      "Training epochs:  34%|███▍      | 343/1000 [07:17<11:11,  1.02s/it]"
     ]
    },
    {
     "name": "stdout",
     "output_type": "stream",
     "text": [
      "Epoch 343 | GCN MSE Loss: 1.8029 | NRF Loss: 2.4397 | JOINT Loss: 4.2426 | NRF Acc: 0.7619\n"
     ]
    },
    {
     "name": "stderr",
     "output_type": "stream",
     "text": [
      "Training epochs:  34%|███▍      | 344/1000 [07:18<11:10,  1.02s/it]"
     ]
    },
    {
     "name": "stdout",
     "output_type": "stream",
     "text": [
      "Epoch 344 | GCN MSE Loss: 1.7962 | NRF Loss: 2.4371 | JOINT Loss: 4.2333 | NRF Acc: 0.7618\n"
     ]
    },
    {
     "name": "stderr",
     "output_type": "stream",
     "text": [
      "Training epochs:  34%|███▍      | 345/1000 [07:19<11:09,  1.02s/it]"
     ]
    },
    {
     "name": "stdout",
     "output_type": "stream",
     "text": [
      "Epoch 345 | GCN MSE Loss: 1.7896 | NRF Loss: 2.4345 | JOINT Loss: 4.2241 | NRF Acc: 0.7619\n"
     ]
    },
    {
     "name": "stderr",
     "output_type": "stream",
     "text": [
      "Training epochs:  35%|███▍      | 346/1000 [07:20<11:08,  1.02s/it]"
     ]
    },
    {
     "name": "stdout",
     "output_type": "stream",
     "text": [
      "Epoch 346 | GCN MSE Loss: 1.7830 | NRF Loss: 2.4319 | JOINT Loss: 4.2149 | NRF Acc: 0.7621\n"
     ]
    },
    {
     "name": "stderr",
     "output_type": "stream",
     "text": [
      "Training epochs:  35%|███▍      | 347/1000 [07:21<11:07,  1.02s/it]"
     ]
    },
    {
     "name": "stdout",
     "output_type": "stream",
     "text": [
      "Epoch 347 | GCN MSE Loss: 1.7764 | NRF Loss: 2.4293 | JOINT Loss: 4.2057 | NRF Acc: 0.7619\n"
     ]
    },
    {
     "name": "stderr",
     "output_type": "stream",
     "text": [
      "Training epochs:  35%|███▍      | 348/1000 [07:22<11:05,  1.02s/it]"
     ]
    },
    {
     "name": "stdout",
     "output_type": "stream",
     "text": [
      "Epoch 348 | GCN MSE Loss: 1.7699 | NRF Loss: 2.4268 | JOINT Loss: 4.1967 | NRF Acc: 0.7619\n"
     ]
    },
    {
     "name": "stderr",
     "output_type": "stream",
     "text": [
      "Training epochs:  35%|███▍      | 349/1000 [07:23<11:04,  1.02s/it]"
     ]
    },
    {
     "name": "stdout",
     "output_type": "stream",
     "text": [
      "Epoch 349 | GCN MSE Loss: 1.7635 | NRF Loss: 2.4242 | JOINT Loss: 4.1877 | NRF Acc: 0.7618\n"
     ]
    },
    {
     "name": "stderr",
     "output_type": "stream",
     "text": [
      "Training epochs:  35%|███▌      | 350/1000 [07:24<11:03,  1.02s/it]"
     ]
    },
    {
     "name": "stdout",
     "output_type": "stream",
     "text": [
      "Epoch 350 | GCN MSE Loss: 1.7571 | NRF Loss: 2.4216 | JOINT Loss: 4.1787 | NRF Acc: 0.7618\n"
     ]
    },
    {
     "name": "stderr",
     "output_type": "stream",
     "text": [
      "Training epochs:  35%|███▌      | 351/1000 [07:25<11:03,  1.02s/it]"
     ]
    },
    {
     "name": "stdout",
     "output_type": "stream",
     "text": [
      "Epoch 351 | GCN MSE Loss: 1.7507 | NRF Loss: 2.4191 | JOINT Loss: 4.1698 | NRF Acc: 0.7613\n"
     ]
    },
    {
     "name": "stderr",
     "output_type": "stream",
     "text": [
      "Training epochs:  35%|███▌      | 352/1000 [07:26<11:01,  1.02s/it]"
     ]
    },
    {
     "name": "stdout",
     "output_type": "stream",
     "text": [
      "Epoch 352 | GCN MSE Loss: 1.7444 | NRF Loss: 2.4165 | JOINT Loss: 4.1610 | NRF Acc: 0.7611\n"
     ]
    },
    {
     "name": "stderr",
     "output_type": "stream",
     "text": [
      "Training epochs:  35%|███▌      | 353/1000 [07:27<11:00,  1.02s/it]"
     ]
    },
    {
     "name": "stdout",
     "output_type": "stream",
     "text": [
      "Epoch 353 | GCN MSE Loss: 1.7382 | NRF Loss: 2.4140 | JOINT Loss: 4.1522 | NRF Acc: 0.7609\n"
     ]
    },
    {
     "name": "stderr",
     "output_type": "stream",
     "text": [
      "Training epochs:  35%|███▌      | 354/1000 [07:28<10:59,  1.02s/it]"
     ]
    },
    {
     "name": "stdout",
     "output_type": "stream",
     "text": [
      "Epoch 354 | GCN MSE Loss: 1.7320 | NRF Loss: 2.4115 | JOINT Loss: 4.1435 | NRF Acc: 0.7609\n"
     ]
    },
    {
     "name": "stderr",
     "output_type": "stream",
     "text": [
      "Training epochs:  36%|███▌      | 355/1000 [07:29<10:58,  1.02s/it]"
     ]
    },
    {
     "name": "stdout",
     "output_type": "stream",
     "text": [
      "Epoch 355 | GCN MSE Loss: 1.7259 | NRF Loss: 2.4090 | JOINT Loss: 4.1349 | NRF Acc: 0.7613\n"
     ]
    },
    {
     "name": "stderr",
     "output_type": "stream",
     "text": [
      "Training epochs:  36%|███▌      | 356/1000 [07:30<10:57,  1.02s/it]"
     ]
    },
    {
     "name": "stdout",
     "output_type": "stream",
     "text": [
      "Epoch 356 | GCN MSE Loss: 1.7198 | NRF Loss: 2.4064 | JOINT Loss: 4.1263 | NRF Acc: 0.7613\n"
     ]
    },
    {
     "name": "stderr",
     "output_type": "stream",
     "text": [
      "Training epochs:  36%|███▌      | 357/1000 [07:31<10:56,  1.02s/it]"
     ]
    },
    {
     "name": "stdout",
     "output_type": "stream",
     "text": [
      "Epoch 357 | GCN MSE Loss: 1.7138 | NRF Loss: 2.4039 | JOINT Loss: 4.1178 | NRF Acc: 0.7613\n"
     ]
    },
    {
     "name": "stderr",
     "output_type": "stream",
     "text": [
      "Training epochs:  36%|███▌      | 358/1000 [07:32<10:55,  1.02s/it]"
     ]
    },
    {
     "name": "stdout",
     "output_type": "stream",
     "text": [
      "Epoch 358 | GCN MSE Loss: 1.7079 | NRF Loss: 2.4014 | JOINT Loss: 4.1093 | NRF Acc: 0.7611\n"
     ]
    },
    {
     "name": "stderr",
     "output_type": "stream",
     "text": [
      "Training epochs:  36%|███▌      | 359/1000 [07:33<10:54,  1.02s/it]"
     ]
    },
    {
     "name": "stdout",
     "output_type": "stream",
     "text": [
      "Epoch 359 | GCN MSE Loss: 1.7020 | NRF Loss: 2.3989 | JOINT Loss: 4.1009 | NRF Acc: 0.7611\n"
     ]
    },
    {
     "name": "stderr",
     "output_type": "stream",
     "text": [
      "Training epochs:  36%|███▌      | 360/1000 [07:34<10:53,  1.02s/it]"
     ]
    },
    {
     "name": "stdout",
     "output_type": "stream",
     "text": [
      "Epoch 360 | GCN MSE Loss: 1.6961 | NRF Loss: 2.3964 | JOINT Loss: 4.0926 | NRF Acc: 0.7607\n"
     ]
    },
    {
     "name": "stderr",
     "output_type": "stream",
     "text": [
      "Training epochs:  36%|███▌      | 361/1000 [07:35<10:51,  1.02s/it]"
     ]
    },
    {
     "name": "stdout",
     "output_type": "stream",
     "text": [
      "Epoch 361 | GCN MSE Loss: 1.6903 | NRF Loss: 2.3939 | JOINT Loss: 4.0843 | NRF Acc: 0.7607\n"
     ]
    },
    {
     "name": "stderr",
     "output_type": "stream",
     "text": [
      "Training epochs:  36%|███▌      | 362/1000 [07:36<10:49,  1.02s/it]"
     ]
    },
    {
     "name": "stdout",
     "output_type": "stream",
     "text": [
      "Epoch 362 | GCN MSE Loss: 1.6846 | NRF Loss: 2.3914 | JOINT Loss: 4.0761 | NRF Acc: 0.7607\n"
     ]
    },
    {
     "name": "stderr",
     "output_type": "stream",
     "text": [
      "Training epochs:  36%|███▋      | 363/1000 [07:37<10:48,  1.02s/it]"
     ]
    },
    {
     "name": "stdout",
     "output_type": "stream",
     "text": [
      "Epoch 363 | GCN MSE Loss: 1.6789 | NRF Loss: 2.3890 | JOINT Loss: 4.0679 | NRF Acc: 0.7606\n"
     ]
    },
    {
     "name": "stderr",
     "output_type": "stream",
     "text": [
      "Training epochs:  36%|███▋      | 364/1000 [07:38<10:32,  1.01it/s]"
     ]
    },
    {
     "name": "stdout",
     "output_type": "stream",
     "text": [
      "Epoch 364 | GCN MSE Loss: 1.6733 | NRF Loss: 2.3865 | JOINT Loss: 4.0598 | NRF Acc: 0.7604\n"
     ]
    },
    {
     "name": "stderr",
     "output_type": "stream",
     "text": [
      "Training epochs:  36%|███▋      | 365/1000 [07:38<08:49,  1.20it/s]"
     ]
    },
    {
     "name": "stdout",
     "output_type": "stream",
     "text": [
      "Epoch 365 | GCN MSE Loss: 1.6677 | NRF Loss: 2.3841 | JOINT Loss: 4.0518 | NRF Acc: 0.7600\n"
     ]
    },
    {
     "name": "stderr",
     "output_type": "stream",
     "text": [
      "Training epochs:  37%|███▋      | 366/1000 [07:39<09:14,  1.14it/s]"
     ]
    },
    {
     "name": "stdout",
     "output_type": "stream",
     "text": [
      "Epoch 366 | GCN MSE Loss: 1.6622 | NRF Loss: 2.3816 | JOINT Loss: 4.0438 | NRF Acc: 0.7600\n"
     ]
    },
    {
     "name": "stderr",
     "output_type": "stream",
     "text": [
      "Training epochs:  37%|███▋      | 367/1000 [07:40<09:41,  1.09it/s]"
     ]
    },
    {
     "name": "stdout",
     "output_type": "stream",
     "text": [
      "Epoch 367 | GCN MSE Loss: 1.6567 | NRF Loss: 2.3792 | JOINT Loss: 4.0358 | NRF Acc: 0.7600\n"
     ]
    },
    {
     "name": "stderr",
     "output_type": "stream",
     "text": [
      "Training epochs:  37%|███▋      | 368/1000 [07:41<09:59,  1.05it/s]"
     ]
    },
    {
     "name": "stdout",
     "output_type": "stream",
     "text": [
      "Epoch 368 | GCN MSE Loss: 1.6512 | NRF Loss: 2.3767 | JOINT Loss: 4.0280 | NRF Acc: 0.7602\n"
     ]
    },
    {
     "name": "stderr",
     "output_type": "stream",
     "text": [
      "Training epochs:  37%|███▋      | 369/1000 [07:42<10:12,  1.03it/s]"
     ]
    },
    {
     "name": "stdout",
     "output_type": "stream",
     "text": [
      "Epoch 369 | GCN MSE Loss: 1.6459 | NRF Loss: 2.3743 | JOINT Loss: 4.0202 | NRF Acc: 0.7602\n"
     ]
    },
    {
     "name": "stderr",
     "output_type": "stream",
     "text": [
      "Training epochs:  37%|███▋      | 370/1000 [07:44<10:21,  1.01it/s]"
     ]
    },
    {
     "name": "stdout",
     "output_type": "stream",
     "text": [
      "Epoch 370 | GCN MSE Loss: 1.6405 | NRF Loss: 2.3719 | JOINT Loss: 4.0124 | NRF Acc: 0.7602\n"
     ]
    },
    {
     "name": "stderr",
     "output_type": "stream",
     "text": [
      "Training epochs:  37%|███▋      | 371/1000 [07:45<10:25,  1.01it/s]"
     ]
    },
    {
     "name": "stdout",
     "output_type": "stream",
     "text": [
      "Epoch 371 | GCN MSE Loss: 1.6353 | NRF Loss: 2.3694 | JOINT Loss: 4.0047 | NRF Acc: 0.7600\n"
     ]
    },
    {
     "name": "stderr",
     "output_type": "stream",
     "text": [
      "Training epochs:  37%|███▋      | 372/1000 [07:46<10:29,  1.00s/it]"
     ]
    },
    {
     "name": "stdout",
     "output_type": "stream",
     "text": [
      "Epoch 372 | GCN MSE Loss: 1.6300 | NRF Loss: 2.3670 | JOINT Loss: 3.9971 | NRF Acc: 0.7600\n"
     ]
    },
    {
     "name": "stderr",
     "output_type": "stream",
     "text": [
      "Training epochs:  37%|███▋      | 373/1000 [07:47<10:32,  1.01s/it]"
     ]
    },
    {
     "name": "stdout",
     "output_type": "stream",
     "text": [
      "Epoch 373 | GCN MSE Loss: 1.6249 | NRF Loss: 2.3646 | JOINT Loss: 3.9895 | NRF Acc: 0.7600\n"
     ]
    },
    {
     "name": "stderr",
     "output_type": "stream",
     "text": [
      "Training epochs:  37%|███▋      | 374/1000 [07:48<10:33,  1.01s/it]"
     ]
    },
    {
     "name": "stdout",
     "output_type": "stream",
     "text": [
      "Epoch 374 | GCN MSE Loss: 1.6198 | NRF Loss: 2.3622 | JOINT Loss: 3.9819 | NRF Acc: 0.7600\n"
     ]
    },
    {
     "name": "stderr",
     "output_type": "stream",
     "text": [
      "Training epochs:  38%|███▊      | 375/1000 [07:49<10:34,  1.01s/it]"
     ]
    },
    {
     "name": "stdout",
     "output_type": "stream",
     "text": [
      "Epoch 375 | GCN MSE Loss: 1.6147 | NRF Loss: 2.3598 | JOINT Loss: 3.9745 | NRF Acc: 0.7604\n"
     ]
    },
    {
     "name": "stderr",
     "output_type": "stream",
     "text": [
      "Training epochs:  38%|███▊      | 376/1000 [07:50<10:34,  1.02s/it]"
     ]
    },
    {
     "name": "stdout",
     "output_type": "stream",
     "text": [
      "Epoch 376 | GCN MSE Loss: 1.6097 | NRF Loss: 2.3574 | JOINT Loss: 3.9671 | NRF Acc: 0.7611\n"
     ]
    },
    {
     "name": "stderr",
     "output_type": "stream",
     "text": [
      "Training epochs:  38%|███▊      | 377/1000 [07:51<10:34,  1.02s/it]"
     ]
    },
    {
     "name": "stdout",
     "output_type": "stream",
     "text": [
      "Epoch 377 | GCN MSE Loss: 1.6047 | NRF Loss: 2.3550 | JOINT Loss: 3.9597 | NRF Acc: 0.7611\n"
     ]
    },
    {
     "name": "stderr",
     "output_type": "stream",
     "text": [
      "Training epochs:  38%|███▊      | 378/1000 [07:52<10:34,  1.02s/it]"
     ]
    },
    {
     "name": "stdout",
     "output_type": "stream",
     "text": [
      "Epoch 378 | GCN MSE Loss: 1.5998 | NRF Loss: 2.3526 | JOINT Loss: 3.9524 | NRF Acc: 0.7611\n"
     ]
    },
    {
     "name": "stderr",
     "output_type": "stream",
     "text": [
      "Training epochs:  38%|███▊      | 379/1000 [07:53<10:32,  1.02s/it]"
     ]
    },
    {
     "name": "stdout",
     "output_type": "stream",
     "text": [
      "Epoch 379 | GCN MSE Loss: 1.5949 | NRF Loss: 2.3503 | JOINT Loss: 3.9452 | NRF Acc: 0.7609\n"
     ]
    },
    {
     "name": "stderr",
     "output_type": "stream",
     "text": [
      "Training epochs:  38%|███▊      | 380/1000 [07:54<10:32,  1.02s/it]"
     ]
    },
    {
     "name": "stdout",
     "output_type": "stream",
     "text": [
      "Epoch 380 | GCN MSE Loss: 1.5901 | NRF Loss: 2.3479 | JOINT Loss: 3.9381 | NRF Acc: 0.7611\n"
     ]
    },
    {
     "name": "stderr",
     "output_type": "stream",
     "text": [
      "Training epochs:  38%|███▊      | 381/1000 [07:55<10:31,  1.02s/it]"
     ]
    },
    {
     "name": "stdout",
     "output_type": "stream",
     "text": [
      "Epoch 381 | GCN MSE Loss: 1.5854 | NRF Loss: 2.3456 | JOINT Loss: 3.9309 | NRF Acc: 0.7607\n"
     ]
    },
    {
     "name": "stderr",
     "output_type": "stream",
     "text": [
      "Training epochs:  38%|███▊      | 382/1000 [07:56<10:30,  1.02s/it]"
     ]
    },
    {
     "name": "stdout",
     "output_type": "stream",
     "text": [
      "Epoch 382 | GCN MSE Loss: 1.5807 | NRF Loss: 2.3432 | JOINT Loss: 3.9239 | NRF Acc: 0.7606\n"
     ]
    },
    {
     "name": "stderr",
     "output_type": "stream",
     "text": [
      "Training epochs:  38%|███▊      | 383/1000 [07:57<10:29,  1.02s/it]"
     ]
    },
    {
     "name": "stdout",
     "output_type": "stream",
     "text": [
      "Epoch 383 | GCN MSE Loss: 1.5760 | NRF Loss: 2.3409 | JOINT Loss: 3.9169 | NRF Acc: 0.7609\n"
     ]
    },
    {
     "name": "stderr",
     "output_type": "stream",
     "text": [
      "Training epochs:  38%|███▊      | 384/1000 [07:58<10:29,  1.02s/it]"
     ]
    },
    {
     "name": "stdout",
     "output_type": "stream",
     "text": [
      "Epoch 384 | GCN MSE Loss: 1.5714 | NRF Loss: 2.3385 | JOINT Loss: 3.9099 | NRF Acc: 0.7611\n"
     ]
    },
    {
     "name": "stderr",
     "output_type": "stream",
     "text": [
      "Training epochs:  38%|███▊      | 385/1000 [07:59<10:28,  1.02s/it]"
     ]
    },
    {
     "name": "stdout",
     "output_type": "stream",
     "text": [
      "Epoch 385 | GCN MSE Loss: 1.5669 | NRF Loss: 2.3362 | JOINT Loss: 3.9031 | NRF Acc: 0.7611\n"
     ]
    },
    {
     "name": "stderr",
     "output_type": "stream",
     "text": [
      "Training epochs:  39%|███▊      | 386/1000 [08:00<10:47,  1.05s/it]"
     ]
    },
    {
     "name": "stdout",
     "output_type": "stream",
     "text": [
      "Epoch 386 | GCN MSE Loss: 1.5624 | NRF Loss: 2.3338 | JOINT Loss: 3.8962 | NRF Acc: 0.7609\n"
     ]
    },
    {
     "name": "stderr",
     "output_type": "stream",
     "text": [
      "Training epochs:  39%|███▊      | 387/1000 [08:01<10:40,  1.04s/it]"
     ]
    },
    {
     "name": "stdout",
     "output_type": "stream",
     "text": [
      "Epoch 387 | GCN MSE Loss: 1.5579 | NRF Loss: 2.3315 | JOINT Loss: 3.8894 | NRF Acc: 0.7609\n"
     ]
    },
    {
     "name": "stderr",
     "output_type": "stream",
     "text": [
      "Training epochs:  39%|███▉      | 388/1000 [08:02<10:35,  1.04s/it]"
     ]
    },
    {
     "name": "stdout",
     "output_type": "stream",
     "text": [
      "Epoch 388 | GCN MSE Loss: 1.5535 | NRF Loss: 2.3292 | JOINT Loss: 3.8827 | NRF Acc: 0.7611\n"
     ]
    },
    {
     "name": "stderr",
     "output_type": "stream",
     "text": [
      "Training epochs:  39%|███▉      | 389/1000 [08:03<10:30,  1.03s/it]"
     ]
    },
    {
     "name": "stdout",
     "output_type": "stream",
     "text": [
      "Epoch 389 | GCN MSE Loss: 1.5491 | NRF Loss: 2.3269 | JOINT Loss: 3.8760 | NRF Acc: 0.7613\n"
     ]
    },
    {
     "name": "stderr",
     "output_type": "stream",
     "text": [
      "Training epochs:  39%|███▉      | 390/1000 [08:04<10:27,  1.03s/it]"
     ]
    },
    {
     "name": "stdout",
     "output_type": "stream",
     "text": [
      "Epoch 390 | GCN MSE Loss: 1.5448 | NRF Loss: 2.3246 | JOINT Loss: 3.8693 | NRF Acc: 0.7611\n"
     ]
    },
    {
     "name": "stderr",
     "output_type": "stream",
     "text": [
      "Training epochs:  39%|███▉      | 391/1000 [08:05<10:25,  1.03s/it]"
     ]
    },
    {
     "name": "stdout",
     "output_type": "stream",
     "text": [
      "Epoch 391 | GCN MSE Loss: 1.5405 | NRF Loss: 2.3223 | JOINT Loss: 3.8628 | NRF Acc: 0.7611\n"
     ]
    },
    {
     "name": "stderr",
     "output_type": "stream",
     "text": [
      "Training epochs:  39%|███▉      | 392/1000 [08:06<10:23,  1.03s/it]"
     ]
    },
    {
     "name": "stdout",
     "output_type": "stream",
     "text": [
      "Epoch 392 | GCN MSE Loss: 1.5362 | NRF Loss: 2.3200 | JOINT Loss: 3.8562 | NRF Acc: 0.7611\n"
     ]
    },
    {
     "name": "stderr",
     "output_type": "stream",
     "text": [
      "Training epochs:  39%|███▉      | 393/1000 [08:07<10:21,  1.02s/it]"
     ]
    },
    {
     "name": "stdout",
     "output_type": "stream",
     "text": [
      "Epoch 393 | GCN MSE Loss: 1.5320 | NRF Loss: 2.3177 | JOINT Loss: 3.8497 | NRF Acc: 0.7613\n"
     ]
    },
    {
     "name": "stderr",
     "output_type": "stream",
     "text": [
      "Training epochs:  39%|███▉      | 394/1000 [08:08<10:19,  1.02s/it]"
     ]
    },
    {
     "name": "stdout",
     "output_type": "stream",
     "text": [
      "Epoch 394 | GCN MSE Loss: 1.5279 | NRF Loss: 2.3154 | JOINT Loss: 3.8433 | NRF Acc: 0.7613\n"
     ]
    },
    {
     "name": "stderr",
     "output_type": "stream",
     "text": [
      "Training epochs:  40%|███▉      | 395/1000 [08:09<10:18,  1.02s/it]"
     ]
    },
    {
     "name": "stdout",
     "output_type": "stream",
     "text": [
      "Epoch 395 | GCN MSE Loss: 1.5238 | NRF Loss: 2.3131 | JOINT Loss: 3.8369 | NRF Acc: 0.7613\n"
     ]
    },
    {
     "name": "stderr",
     "output_type": "stream",
     "text": [
      "Training epochs:  40%|███▉      | 396/1000 [08:10<10:17,  1.02s/it]"
     ]
    },
    {
     "name": "stdout",
     "output_type": "stream",
     "text": [
      "Epoch 396 | GCN MSE Loss: 1.5197 | NRF Loss: 2.3109 | JOINT Loss: 3.8306 | NRF Acc: 0.7613\n"
     ]
    },
    {
     "name": "stderr",
     "output_type": "stream",
     "text": [
      "Training epochs:  40%|███▉      | 397/1000 [08:11<10:16,  1.02s/it]"
     ]
    },
    {
     "name": "stdout",
     "output_type": "stream",
     "text": [
      "Epoch 397 | GCN MSE Loss: 1.5157 | NRF Loss: 2.3086 | JOINT Loss: 3.8243 | NRF Acc: 0.7613\n"
     ]
    },
    {
     "name": "stderr",
     "output_type": "stream",
     "text": [
      "Training epochs:  40%|███▉      | 398/1000 [08:12<10:15,  1.02s/it]"
     ]
    },
    {
     "name": "stdout",
     "output_type": "stream",
     "text": [
      "Epoch 398 | GCN MSE Loss: 1.5117 | NRF Loss: 2.3063 | JOINT Loss: 3.8180 | NRF Acc: 0.7613\n"
     ]
    },
    {
     "name": "stderr",
     "output_type": "stream",
     "text": [
      "Training epochs:  40%|███▉      | 399/1000 [08:13<10:14,  1.02s/it]"
     ]
    },
    {
     "name": "stdout",
     "output_type": "stream",
     "text": [
      "Epoch 399 | GCN MSE Loss: 1.5077 | NRF Loss: 2.3041 | JOINT Loss: 3.8118 | NRF Acc: 0.7613\n"
     ]
    },
    {
     "name": "stderr",
     "output_type": "stream",
     "text": [
      "Training epochs:  40%|████      | 400/1000 [08:14<10:12,  1.02s/it]"
     ]
    },
    {
     "name": "stdout",
     "output_type": "stream",
     "text": [
      "Epoch 400 | GCN MSE Loss: 1.5038 | NRF Loss: 2.3018 | JOINT Loss: 3.8057 | NRF Acc: 0.7613\n"
     ]
    },
    {
     "name": "stderr",
     "output_type": "stream",
     "text": [
      "Training epochs:  40%|████      | 401/1000 [08:15<10:12,  1.02s/it]"
     ]
    },
    {
     "name": "stdout",
     "output_type": "stream",
     "text": [
      "Epoch 401 | GCN MSE Loss: 1.5000 | NRF Loss: 2.2996 | JOINT Loss: 3.7996 | NRF Acc: 0.7611\n"
     ]
    },
    {
     "name": "stderr",
     "output_type": "stream",
     "text": [
      "Training epochs:  40%|████      | 402/1000 [08:16<10:10,  1.02s/it]"
     ]
    },
    {
     "name": "stdout",
     "output_type": "stream",
     "text": [
      "Epoch 402 | GCN MSE Loss: 1.4962 | NRF Loss: 2.2973 | JOINT Loss: 3.7935 | NRF Acc: 0.7611\n"
     ]
    },
    {
     "name": "stderr",
     "output_type": "stream",
     "text": [
      "Training epochs:  40%|████      | 403/1000 [08:17<10:09,  1.02s/it]"
     ]
    },
    {
     "name": "stdout",
     "output_type": "stream",
     "text": [
      "Epoch 403 | GCN MSE Loss: 1.4924 | NRF Loss: 2.2951 | JOINT Loss: 3.7874 | NRF Acc: 0.7611\n"
     ]
    },
    {
     "name": "stderr",
     "output_type": "stream",
     "text": [
      "Training epochs:  40%|████      | 404/1000 [08:18<10:09,  1.02s/it]"
     ]
    },
    {
     "name": "stdout",
     "output_type": "stream",
     "text": [
      "Epoch 404 | GCN MSE Loss: 1.4886 | NRF Loss: 2.2928 | JOINT Loss: 3.7815 | NRF Acc: 0.7611\n"
     ]
    },
    {
     "name": "stderr",
     "output_type": "stream",
     "text": [
      "Training epochs:  40%|████      | 405/1000 [08:19<10:07,  1.02s/it]"
     ]
    },
    {
     "name": "stdout",
     "output_type": "stream",
     "text": [
      "Epoch 405 | GCN MSE Loss: 1.4849 | NRF Loss: 2.2906 | JOINT Loss: 3.7755 | NRF Acc: 0.7609\n"
     ]
    },
    {
     "name": "stderr",
     "output_type": "stream",
     "text": [
      "Training epochs:  41%|████      | 406/1000 [08:20<10:06,  1.02s/it]"
     ]
    },
    {
     "name": "stdout",
     "output_type": "stream",
     "text": [
      "Epoch 406 | GCN MSE Loss: 1.4813 | NRF Loss: 2.2883 | JOINT Loss: 3.7696 | NRF Acc: 0.7607\n"
     ]
    },
    {
     "name": "stderr",
     "output_type": "stream",
     "text": [
      "Training epochs:  41%|████      | 407/1000 [08:21<10:04,  1.02s/it]"
     ]
    },
    {
     "name": "stdout",
     "output_type": "stream",
     "text": [
      "Epoch 407 | GCN MSE Loss: 1.4776 | NRF Loss: 2.2861 | JOINT Loss: 3.7637 | NRF Acc: 0.7604\n"
     ]
    },
    {
     "name": "stderr",
     "output_type": "stream",
     "text": [
      "Training epochs:  41%|████      | 408/1000 [08:22<10:03,  1.02s/it]"
     ]
    },
    {
     "name": "stdout",
     "output_type": "stream",
     "text": [
      "Epoch 408 | GCN MSE Loss: 1.4740 | NRF Loss: 2.2839 | JOINT Loss: 3.7579 | NRF Acc: 0.7604\n"
     ]
    },
    {
     "name": "stderr",
     "output_type": "stream",
     "text": [
      "Training epochs:  41%|████      | 409/1000 [08:23<10:02,  1.02s/it]"
     ]
    },
    {
     "name": "stdout",
     "output_type": "stream",
     "text": [
      "Epoch 409 | GCN MSE Loss: 1.4704 | NRF Loss: 2.2817 | JOINT Loss: 3.7521 | NRF Acc: 0.7604\n"
     ]
    },
    {
     "name": "stderr",
     "output_type": "stream",
     "text": [
      "Training epochs:  41%|████      | 410/1000 [08:24<10:02,  1.02s/it]"
     ]
    },
    {
     "name": "stdout",
     "output_type": "stream",
     "text": [
      "Epoch 410 | GCN MSE Loss: 1.4668 | NRF Loss: 2.2795 | JOINT Loss: 3.7463 | NRF Acc: 0.7604\n"
     ]
    },
    {
     "name": "stderr",
     "output_type": "stream",
     "text": [
      "Training epochs:  41%|████      | 411/1000 [08:25<10:01,  1.02s/it]"
     ]
    },
    {
     "name": "stdout",
     "output_type": "stream",
     "text": [
      "Epoch 411 | GCN MSE Loss: 1.4633 | NRF Loss: 2.2773 | JOINT Loss: 3.7406 | NRF Acc: 0.7604\n"
     ]
    },
    {
     "name": "stderr",
     "output_type": "stream",
     "text": [
      "Training epochs:  41%|████      | 412/1000 [08:27<10:00,  1.02s/it]"
     ]
    },
    {
     "name": "stdout",
     "output_type": "stream",
     "text": [
      "Epoch 412 | GCN MSE Loss: 1.4599 | NRF Loss: 2.2751 | JOINT Loss: 3.7350 | NRF Acc: 0.7602\n"
     ]
    },
    {
     "name": "stderr",
     "output_type": "stream",
     "text": [
      "Training epochs:  41%|████▏     | 413/1000 [08:28<09:59,  1.02s/it]"
     ]
    },
    {
     "name": "stdout",
     "output_type": "stream",
     "text": [
      "Epoch 413 | GCN MSE Loss: 1.4564 | NRF Loss: 2.2729 | JOINT Loss: 3.7293 | NRF Acc: 0.7602\n"
     ]
    },
    {
     "name": "stderr",
     "output_type": "stream",
     "text": [
      "Training epochs:  41%|████▏     | 414/1000 [08:29<09:58,  1.02s/it]"
     ]
    },
    {
     "name": "stdout",
     "output_type": "stream",
     "text": [
      "Epoch 414 | GCN MSE Loss: 1.4530 | NRF Loss: 2.2707 | JOINT Loss: 3.7237 | NRF Acc: 0.7604\n"
     ]
    },
    {
     "name": "stderr",
     "output_type": "stream",
     "text": [
      "Training epochs:  42%|████▏     | 415/1000 [08:30<09:58,  1.02s/it]"
     ]
    },
    {
     "name": "stdout",
     "output_type": "stream",
     "text": [
      "Epoch 415 | GCN MSE Loss: 1.4497 | NRF Loss: 2.2685 | JOINT Loss: 3.7182 | NRF Acc: 0.7604\n"
     ]
    },
    {
     "name": "stderr",
     "output_type": "stream",
     "text": [
      "Training epochs:  42%|████▏     | 416/1000 [08:31<09:56,  1.02s/it]"
     ]
    },
    {
     "name": "stdout",
     "output_type": "stream",
     "text": [
      "Epoch 416 | GCN MSE Loss: 1.4463 | NRF Loss: 2.2663 | JOINT Loss: 3.7127 | NRF Acc: 0.7604\n"
     ]
    },
    {
     "name": "stderr",
     "output_type": "stream",
     "text": [
      "Training epochs:  42%|████▏     | 417/1000 [08:32<09:55,  1.02s/it]"
     ]
    },
    {
     "name": "stdout",
     "output_type": "stream",
     "text": [
      "Epoch 417 | GCN MSE Loss: 1.4431 | NRF Loss: 2.2642 | JOINT Loss: 3.7072 | NRF Acc: 0.7604\n"
     ]
    },
    {
     "name": "stderr",
     "output_type": "stream",
     "text": [
      "Training epochs:  42%|████▏     | 418/1000 [08:33<09:54,  1.02s/it]"
     ]
    },
    {
     "name": "stdout",
     "output_type": "stream",
     "text": [
      "Epoch 418 | GCN MSE Loss: 1.4398 | NRF Loss: 2.2620 | JOINT Loss: 3.7018 | NRF Acc: 0.7607\n"
     ]
    },
    {
     "name": "stderr",
     "output_type": "stream",
     "text": [
      "Training epochs:  42%|████▏     | 419/1000 [08:34<09:53,  1.02s/it]"
     ]
    },
    {
     "name": "stdout",
     "output_type": "stream",
     "text": [
      "Epoch 419 | GCN MSE Loss: 1.4366 | NRF Loss: 2.2598 | JOINT Loss: 3.6964 | NRF Acc: 0.7611\n"
     ]
    },
    {
     "name": "stderr",
     "output_type": "stream",
     "text": [
      "Training epochs:  42%|████▏     | 419/1000 [08:35<11:54,  1.23s/it]"
     ]
    },
    {
     "name": "stdout",
     "output_type": "stream",
     "text": [
      "Early stopping at epoch 419\n",
      "Best acc/epoch: 0.764369785785675, epoch 319\n",
      "\n",
      "Training model for nkill prediction...\n"
     ]
    },
    {
     "name": "stderr",
     "output_type": "stream",
     "text": [
      "\n"
     ]
    },
    {
     "name": "stdout",
     "output_type": "stream",
     "text": [
      "Number of features in NRF input: 4392\n"
     ]
    },
    {
     "name": "stderr",
     "output_type": "stream",
     "text": [
      "Training epochs:   0%|          | 1/1000 [00:01<23:49,  1.43s/it]"
     ]
    },
    {
     "name": "stdout",
     "output_type": "stream",
     "text": [
      "Epoch 01 | GCN MSE Loss: 278.3240 | NRF Loss: 3.4009 | JOINT Loss: 281.7249 | NRF Acc: 0.0353\n"
     ]
    },
    {
     "name": "stderr",
     "output_type": "stream",
     "text": [
      "Training epochs:   0%|          | 2/1000 [00:02<23:55,  1.44s/it]"
     ]
    },
    {
     "name": "stdout",
     "output_type": "stream",
     "text": [
      "Epoch 02 | GCN MSE Loss: 267.4332 | NRF Loss: 3.3788 | JOINT Loss: 270.8120 | NRF Acc: 0.0355\n"
     ]
    },
    {
     "name": "stderr",
     "output_type": "stream",
     "text": [
      "Training epochs:   0%|          | 3/1000 [00:03<20:44,  1.25s/it]"
     ]
    },
    {
     "name": "stdout",
     "output_type": "stream",
     "text": [
      "Epoch 03 | GCN MSE Loss: 256.8170 | NRF Loss: 3.3626 | JOINT Loss: 260.1796 | NRF Acc: 0.0353\n"
     ]
    },
    {
     "name": "stderr",
     "output_type": "stream",
     "text": [
      "Training epochs:   0%|          | 4/1000 [00:04<19:13,  1.16s/it]"
     ]
    },
    {
     "name": "stdout",
     "output_type": "stream",
     "text": [
      "Epoch 04 | GCN MSE Loss: 246.4787 | NRF Loss: 3.3538 | JOINT Loss: 249.8325 | NRF Acc: 0.0355\n"
     ]
    },
    {
     "name": "stderr",
     "output_type": "stream",
     "text": [
      "Training epochs:   0%|          | 5/1000 [00:06<20:47,  1.25s/it]"
     ]
    },
    {
     "name": "stdout",
     "output_type": "stream",
     "text": [
      "Epoch 05 | GCN MSE Loss: 236.4250 | NRF Loss: 3.3482 | JOINT Loss: 239.7732 | NRF Acc: 0.0357\n"
     ]
    },
    {
     "name": "stderr",
     "output_type": "stream",
     "text": [
      "Training epochs:   1%|          | 6/1000 [00:07<21:49,  1.32s/it]"
     ]
    },
    {
     "name": "stdout",
     "output_type": "stream",
     "text": [
      "Epoch 06 | GCN MSE Loss: 226.6555 | NRF Loss: 3.3427 | JOINT Loss: 229.9982 | NRF Acc: 0.0583\n"
     ]
    },
    {
     "name": "stderr",
     "output_type": "stream",
     "text": [
      "Training epochs:   1%|          | 7/1000 [00:09<22:30,  1.36s/it]"
     ]
    },
    {
     "name": "stdout",
     "output_type": "stream",
     "text": [
      "Epoch 07 | GCN MSE Loss: 217.1699 | NRF Loss: 3.3382 | JOINT Loss: 220.5080 | NRF Acc: 0.1025\n"
     ]
    },
    {
     "name": "stderr",
     "output_type": "stream",
     "text": [
      "Training epochs:   1%|          | 8/1000 [00:10<22:55,  1.39s/it]"
     ]
    },
    {
     "name": "stdout",
     "output_type": "stream",
     "text": [
      "Epoch 08 | GCN MSE Loss: 207.9715 | NRF Loss: 3.3344 | JOINT Loss: 211.3059 | NRF Acc: 0.1240\n"
     ]
    },
    {
     "name": "stderr",
     "output_type": "stream",
     "text": [
      "Training epochs:   1%|          | 9/1000 [00:11<21:01,  1.27s/it]"
     ]
    },
    {
     "name": "stdout",
     "output_type": "stream",
     "text": [
      "Epoch 09 | GCN MSE Loss: 199.0603 | NRF Loss: 3.3311 | JOINT Loss: 202.3914 | NRF Acc: 0.1210\n"
     ]
    },
    {
     "name": "stderr",
     "output_type": "stream",
     "text": [
      "Training epochs:   1%|          | 10/1000 [00:13<21:46,  1.32s/it]"
     ]
    },
    {
     "name": "stdout",
     "output_type": "stream",
     "text": [
      "Epoch 10 | GCN MSE Loss: 190.4389 | NRF Loss: 3.3278 | JOINT Loss: 193.7667 | NRF Acc: 0.1267\n"
     ]
    },
    {
     "name": "stderr",
     "output_type": "stream",
     "text": [
      "Training epochs:   1%|          | 11/1000 [00:14<22:13,  1.35s/it]"
     ]
    },
    {
     "name": "stdout",
     "output_type": "stream",
     "text": [
      "Epoch 11 | GCN MSE Loss: 182.1068 | NRF Loss: 3.3250 | JOINT Loss: 185.4318 | NRF Acc: 0.1434\n"
     ]
    },
    {
     "name": "stderr",
     "output_type": "stream",
     "text": [
      "Training epochs:   1%|          | 12/1000 [00:15<22:40,  1.38s/it]"
     ]
    },
    {
     "name": "stdout",
     "output_type": "stream",
     "text": [
      "Epoch 12 | GCN MSE Loss: 174.0625 | NRF Loss: 3.3223 | JOINT Loss: 177.3848 | NRF Acc: 0.1591\n"
     ]
    },
    {
     "name": "stderr",
     "output_type": "stream",
     "text": [
      "Training epochs:   1%|▏         | 13/1000 [00:17<22:57,  1.40s/it]"
     ]
    },
    {
     "name": "stdout",
     "output_type": "stream",
     "text": [
      "Epoch 13 | GCN MSE Loss: 166.3068 | NRF Loss: 3.3198 | JOINT Loss: 169.6266 | NRF Acc: 0.1811\n"
     ]
    },
    {
     "name": "stderr",
     "output_type": "stream",
     "text": [
      "Training epochs:   1%|▏         | 14/1000 [00:18<23:05,  1.40s/it]"
     ]
    },
    {
     "name": "stdout",
     "output_type": "stream",
     "text": [
      "Epoch 14 | GCN MSE Loss: 158.8376 | NRF Loss: 3.3176 | JOINT Loss: 162.1552 | NRF Acc: 0.1899\n"
     ]
    },
    {
     "name": "stderr",
     "output_type": "stream",
     "text": [
      "Training epochs:   2%|▏         | 15/1000 [00:20<23:05,  1.41s/it]"
     ]
    },
    {
     "name": "stdout",
     "output_type": "stream",
     "text": [
      "Epoch 15 | GCN MSE Loss: 151.6506 | NRF Loss: 3.3155 | JOINT Loss: 154.9662 | NRF Acc: 0.2076\n"
     ]
    },
    {
     "name": "stderr",
     "output_type": "stream",
     "text": [
      "Training epochs:   2%|▏         | 16/1000 [00:21<21:50,  1.33s/it]"
     ]
    },
    {
     "name": "stdout",
     "output_type": "stream",
     "text": [
      "Epoch 16 | GCN MSE Loss: 144.7425 | NRF Loss: 3.3137 | JOINT Loss: 148.0562 | NRF Acc: 0.2278\n"
     ]
    },
    {
     "name": "stderr",
     "output_type": "stream",
     "text": [
      "Training epochs:   2%|▏         | 17/1000 [00:22<19:07,  1.17s/it]"
     ]
    },
    {
     "name": "stdout",
     "output_type": "stream",
     "text": [
      "Epoch 17 | GCN MSE Loss: 138.1088 | NRF Loss: 3.3120 | JOINT Loss: 141.4208 | NRF Acc: 0.2611\n"
     ]
    },
    {
     "name": "stderr",
     "output_type": "stream",
     "text": [
      "Training epochs:   2%|▏         | 18/1000 [00:23<20:21,  1.24s/it]"
     ]
    },
    {
     "name": "stdout",
     "output_type": "stream",
     "text": [
      "Epoch 18 | GCN MSE Loss: 131.7444 | NRF Loss: 3.3105 | JOINT Loss: 135.0549 | NRF Acc: 0.2760\n"
     ]
    },
    {
     "name": "stderr",
     "output_type": "stream",
     "text": [
      "Training epochs:   2%|▏         | 19/1000 [00:25<21:16,  1.30s/it]"
     ]
    },
    {
     "name": "stdout",
     "output_type": "stream",
     "text": [
      "Epoch 19 | GCN MSE Loss: 125.6443 | NRF Loss: 3.3092 | JOINT Loss: 128.9535 | NRF Acc: 0.2831\n"
     ]
    },
    {
     "name": "stderr",
     "output_type": "stream",
     "text": [
      "Training epochs:   2%|▏         | 20/1000 [00:26<21:54,  1.34s/it]"
     ]
    },
    {
     "name": "stdout",
     "output_type": "stream",
     "text": [
      "Epoch 20 | GCN MSE Loss: 119.8014 | NRF Loss: 3.3079 | JOINT Loss: 123.1093 | NRF Acc: 0.2855\n"
     ]
    },
    {
     "name": "stderr",
     "output_type": "stream",
     "text": [
      "Training epochs:   2%|▏         | 21/1000 [00:27<22:24,  1.37s/it]"
     ]
    },
    {
     "name": "stdout",
     "output_type": "stream",
     "text": [
      "Epoch 21 | GCN MSE Loss: 114.2101 | NRF Loss: 3.3068 | JOINT Loss: 117.5169 | NRF Acc: 0.2926\n"
     ]
    },
    {
     "name": "stderr",
     "output_type": "stream",
     "text": [
      "Training epochs:   2%|▏         | 22/1000 [00:29<22:44,  1.39s/it]"
     ]
    },
    {
     "name": "stdout",
     "output_type": "stream",
     "text": [
      "Epoch 22 | GCN MSE Loss: 108.8636 | NRF Loss: 3.3057 | JOINT Loss: 112.1694 | NRF Acc: 0.2959\n"
     ]
    },
    {
     "name": "stderr",
     "output_type": "stream",
     "text": [
      "Training epochs:   2%|▏         | 23/1000 [00:30<20:52,  1.28s/it]"
     ]
    },
    {
     "name": "stdout",
     "output_type": "stream",
     "text": [
      "Epoch 23 | GCN MSE Loss: 103.7533 | NRF Loss: 3.3048 | JOINT Loss: 107.0581 | NRF Acc: 0.2940\n"
     ]
    },
    {
     "name": "stderr",
     "output_type": "stream",
     "text": [
      "Training epochs:   2%|▏         | 24/1000 [00:31<21:30,  1.32s/it]"
     ]
    },
    {
     "name": "stdout",
     "output_type": "stream",
     "text": [
      "Epoch 24 | GCN MSE Loss: 98.8686 | NRF Loss: 3.3039 | JOINT Loss: 102.1725 | NRF Acc: 0.3002\n"
     ]
    },
    {
     "name": "stderr",
     "output_type": "stream",
     "text": [
      "Training epochs:   2%|▎         | 25/1000 [00:33<22:01,  1.35s/it]"
     ]
    },
    {
     "name": "stdout",
     "output_type": "stream",
     "text": [
      "Epoch 25 | GCN MSE Loss: 94.2053 | NRF Loss: 3.3031 | JOINT Loss: 97.5083 | NRF Acc: 0.3033\n"
     ]
    },
    {
     "name": "stderr",
     "output_type": "stream",
     "text": [
      "Training epochs:   3%|▎         | 26/1000 [00:34<20:21,  1.25s/it]"
     ]
    },
    {
     "name": "stdout",
     "output_type": "stream",
     "text": [
      "Epoch 26 | GCN MSE Loss: 89.7582 | NRF Loss: 3.3022 | JOINT Loss: 93.0604 | NRF Acc: 0.3033\n"
     ]
    },
    {
     "name": "stderr",
     "output_type": "stream",
     "text": [
      "Training epochs:   3%|▎         | 27/1000 [00:35<21:08,  1.30s/it]"
     ]
    },
    {
     "name": "stdout",
     "output_type": "stream",
     "text": [
      "Epoch 27 | GCN MSE Loss: 85.5225 | NRF Loss: 3.3014 | JOINT Loss: 88.8239 | NRF Acc: 0.3051\n"
     ]
    },
    {
     "name": "stderr",
     "output_type": "stream",
     "text": [
      "Training epochs:   3%|▎         | 28/1000 [00:36<19:44,  1.22s/it]"
     ]
    },
    {
     "name": "stdout",
     "output_type": "stream",
     "text": [
      "Epoch 28 | GCN MSE Loss: 81.4914 | NRF Loss: 3.3007 | JOINT Loss: 84.7921 | NRF Acc: 0.3004\n"
     ]
    },
    {
     "name": "stderr",
     "output_type": "stream",
     "text": [
      "Training epochs:   3%|▎         | 29/1000 [00:37<18:45,  1.16s/it]"
     ]
    },
    {
     "name": "stdout",
     "output_type": "stream",
     "text": [
      "Epoch 29 | GCN MSE Loss: 77.6571 | NRF Loss: 3.2999 | JOINT Loss: 80.9570 | NRF Acc: 0.2969\n"
     ]
    },
    {
     "name": "stderr",
     "output_type": "stream",
     "text": [
      "Training epochs:   3%|▎         | 30/1000 [00:38<18:04,  1.12s/it]"
     ]
    },
    {
     "name": "stdout",
     "output_type": "stream",
     "text": [
      "Epoch 30 | GCN MSE Loss: 74.0124 | NRF Loss: 3.2992 | JOINT Loss: 77.3116 | NRF Acc: 0.2900\n"
     ]
    },
    {
     "name": "stderr",
     "output_type": "stream",
     "text": [
      "Training epochs:   3%|▎         | 31/1000 [00:39<17:35,  1.09s/it]"
     ]
    },
    {
     "name": "stdout",
     "output_type": "stream",
     "text": [
      "Epoch 31 | GCN MSE Loss: 70.5509 | NRF Loss: 3.2984 | JOINT Loss: 73.8493 | NRF Acc: 0.2862\n"
     ]
    },
    {
     "name": "stderr",
     "output_type": "stream",
     "text": [
      "Training epochs:   3%|▎         | 32/1000 [00:40<17:14,  1.07s/it]"
     ]
    },
    {
     "name": "stdout",
     "output_type": "stream",
     "text": [
      "Epoch 32 | GCN MSE Loss: 67.2644 | NRF Loss: 3.2977 | JOINT Loss: 70.5621 | NRF Acc: 0.2798\n"
     ]
    },
    {
     "name": "stderr",
     "output_type": "stream",
     "text": [
      "Training epochs:   3%|▎         | 33/1000 [00:41<16:59,  1.05s/it]"
     ]
    },
    {
     "name": "stdout",
     "output_type": "stream",
     "text": [
      "Epoch 33 | GCN MSE Loss: 64.1454 | NRF Loss: 3.2970 | JOINT Loss: 67.4424 | NRF Acc: 0.2739\n"
     ]
    },
    {
     "name": "stderr",
     "output_type": "stream",
     "text": [
      "Training epochs:   3%|▎         | 34/1000 [00:42<16:48,  1.04s/it]"
     ]
    },
    {
     "name": "stdout",
     "output_type": "stream",
     "text": [
      "Epoch 34 | GCN MSE Loss: 61.1865 | NRF Loss: 3.2964 | JOINT Loss: 64.4830 | NRF Acc: 0.2690\n"
     ]
    },
    {
     "name": "stderr",
     "output_type": "stream",
     "text": [
      "Training epochs:   4%|▎         | 35/1000 [00:43<16:41,  1.04s/it]"
     ]
    },
    {
     "name": "stdout",
     "output_type": "stream",
     "text": [
      "Epoch 35 | GCN MSE Loss: 58.3808 | NRF Loss: 3.2961 | JOINT Loss: 61.6769 | NRF Acc: 0.2647\n"
     ]
    },
    {
     "name": "stderr",
     "output_type": "stream",
     "text": [
      "Training epochs:   4%|▎         | 36/1000 [00:44<16:35,  1.03s/it]"
     ]
    },
    {
     "name": "stdout",
     "output_type": "stream",
     "text": [
      "Epoch 36 | GCN MSE Loss: 55.7213 | NRF Loss: 3.2959 | JOINT Loss: 59.0172 | NRF Acc: 0.2656\n"
     ]
    },
    {
     "name": "stderr",
     "output_type": "stream",
     "text": [
      "Training epochs:   4%|▎         | 37/1000 [00:45<16:31,  1.03s/it]"
     ]
    },
    {
     "name": "stdout",
     "output_type": "stream",
     "text": [
      "Epoch 37 | GCN MSE Loss: 53.2015 | NRF Loss: 3.2961 | JOINT Loss: 56.4975 | NRF Acc: 0.2637\n"
     ]
    },
    {
     "name": "stderr",
     "output_type": "stream",
     "text": [
      "Training epochs:   4%|▍         | 38/1000 [00:46<16:27,  1.03s/it]"
     ]
    },
    {
     "name": "stdout",
     "output_type": "stream",
     "text": [
      "Epoch 38 | GCN MSE Loss: 50.8149 | NRF Loss: 3.2965 | JOINT Loss: 54.1114 | NRF Acc: 0.2639\n"
     ]
    },
    {
     "name": "stderr",
     "output_type": "stream",
     "text": [
      "Training epochs:   4%|▍         | 39/1000 [00:47<16:25,  1.03s/it]"
     ]
    },
    {
     "name": "stdout",
     "output_type": "stream",
     "text": [
      "Epoch 39 | GCN MSE Loss: 48.5556 | NRF Loss: 3.2972 | JOINT Loss: 51.8528 | NRF Acc: 0.2694\n"
     ]
    },
    {
     "name": "stderr",
     "output_type": "stream",
     "text": [
      "Training epochs:   4%|▍         | 40/1000 [00:48<16:23,  1.02s/it]"
     ]
    },
    {
     "name": "stdout",
     "output_type": "stream",
     "text": [
      "Epoch 40 | GCN MSE Loss: 46.4176 | NRF Loss: 3.2981 | JOINT Loss: 49.7157 | NRF Acc: 0.2680\n"
     ]
    },
    {
     "name": "stderr",
     "output_type": "stream",
     "text": [
      "Training epochs:   4%|▍         | 41/1000 [00:49<16:22,  1.02s/it]"
     ]
    },
    {
     "name": "stdout",
     "output_type": "stream",
     "text": [
      "Epoch 41 | GCN MSE Loss: 44.3952 | NRF Loss: 3.2992 | JOINT Loss: 47.6944 | NRF Acc: 0.2557\n"
     ]
    },
    {
     "name": "stderr",
     "output_type": "stream",
     "text": [
      "Training epochs:   4%|▍         | 42/1000 [00:51<16:21,  1.02s/it]"
     ]
    },
    {
     "name": "stdout",
     "output_type": "stream",
     "text": [
      "Epoch 42 | GCN MSE Loss: 42.4830 | NRF Loss: 3.3003 | JOINT Loss: 45.7834 | NRF Acc: 0.2412\n"
     ]
    },
    {
     "name": "stderr",
     "output_type": "stream",
     "text": [
      "Training epochs:   4%|▍         | 43/1000 [00:52<16:18,  1.02s/it]"
     ]
    },
    {
     "name": "stdout",
     "output_type": "stream",
     "text": [
      "Epoch 43 | GCN MSE Loss: 40.6758 | NRF Loss: 3.3015 | JOINT Loss: 43.9773 | NRF Acc: 0.2282\n"
     ]
    },
    {
     "name": "stderr",
     "output_type": "stream",
     "text": [
      "Training epochs:   4%|▍         | 44/1000 [00:53<16:17,  1.02s/it]"
     ]
    },
    {
     "name": "stdout",
     "output_type": "stream",
     "text": [
      "Epoch 44 | GCN MSE Loss: 38.9686 | NRF Loss: 3.3026 | JOINT Loss: 42.2712 | NRF Acc: 0.2214\n"
     ]
    },
    {
     "name": "stderr",
     "output_type": "stream",
     "text": [
      "Training epochs:   4%|▍         | 45/1000 [00:54<16:16,  1.02s/it]"
     ]
    },
    {
     "name": "stdout",
     "output_type": "stream",
     "text": [
      "Epoch 45 | GCN MSE Loss: 37.3565 | NRF Loss: 3.3037 | JOINT Loss: 40.6602 | NRF Acc: 0.2162\n"
     ]
    },
    {
     "name": "stderr",
     "output_type": "stream",
     "text": [
      "Training epochs:   5%|▍         | 46/1000 [00:55<16:15,  1.02s/it]"
     ]
    },
    {
     "name": "stdout",
     "output_type": "stream",
     "text": [
      "Epoch 46 | GCN MSE Loss: 35.8351 | NRF Loss: 3.3047 | JOINT Loss: 39.1398 | NRF Acc: 0.2126\n"
     ]
    },
    {
     "name": "stderr",
     "output_type": "stream",
     "text": [
      "Training epochs:   5%|▍         | 47/1000 [00:56<16:14,  1.02s/it]"
     ]
    },
    {
     "name": "stdout",
     "output_type": "stream",
     "text": [
      "Epoch 47 | GCN MSE Loss: 34.3999 | NRF Loss: 3.3056 | JOINT Loss: 37.7054 | NRF Acc: 0.2098\n"
     ]
    },
    {
     "name": "stderr",
     "output_type": "stream",
     "text": [
      "Training epochs:   5%|▍         | 48/1000 [00:57<16:12,  1.02s/it]"
     ]
    },
    {
     "name": "stdout",
     "output_type": "stream",
     "text": [
      "Epoch 48 | GCN MSE Loss: 33.0464 | NRF Loss: 3.3063 | JOINT Loss: 36.3527 | NRF Acc: 0.2062\n"
     ]
    },
    {
     "name": "stderr",
     "output_type": "stream",
     "text": [
      "Training epochs:   5%|▍         | 49/1000 [00:58<16:10,  1.02s/it]"
     ]
    },
    {
     "name": "stdout",
     "output_type": "stream",
     "text": [
      "Epoch 49 | GCN MSE Loss: 31.7704 | NRF Loss: 3.3067 | JOINT Loss: 35.0771 | NRF Acc: 0.2001\n"
     ]
    },
    {
     "name": "stderr",
     "output_type": "stream",
     "text": [
      "Training epochs:   5%|▌         | 50/1000 [00:59<16:08,  1.02s/it]"
     ]
    },
    {
     "name": "stdout",
     "output_type": "stream",
     "text": [
      "Epoch 50 | GCN MSE Loss: 30.5678 | NRF Loss: 3.3069 | JOINT Loss: 33.8747 | NRF Acc: 0.1981\n"
     ]
    },
    {
     "name": "stderr",
     "output_type": "stream",
     "text": [
      "Training epochs:   5%|▌         | 51/1000 [01:00<16:08,  1.02s/it]"
     ]
    },
    {
     "name": "stdout",
     "output_type": "stream",
     "text": [
      "Epoch 51 | GCN MSE Loss: 29.4346 | NRF Loss: 3.3069 | JOINT Loss: 32.7415 | NRF Acc: 0.1923\n"
     ]
    },
    {
     "name": "stderr",
     "output_type": "stream",
     "text": [
      "Training epochs:   5%|▌         | 52/1000 [01:01<16:07,  1.02s/it]"
     ]
    },
    {
     "name": "stdout",
     "output_type": "stream",
     "text": [
      "Epoch 52 | GCN MSE Loss: 28.3671 | NRF Loss: 3.3065 | JOINT Loss: 31.6737 | NRF Acc: 0.1894\n"
     ]
    },
    {
     "name": "stderr",
     "output_type": "stream",
     "text": [
      "Training epochs:   5%|▌         | 53/1000 [01:02<16:06,  1.02s/it]"
     ]
    },
    {
     "name": "stdout",
     "output_type": "stream",
     "text": [
      "Epoch 53 | GCN MSE Loss: 27.3616 | NRF Loss: 3.3059 | JOINT Loss: 30.6676 | NRF Acc: 0.1877\n"
     ]
    },
    {
     "name": "stderr",
     "output_type": "stream",
     "text": [
      "Training epochs:   5%|▌         | 54/1000 [01:03<16:06,  1.02s/it]"
     ]
    },
    {
     "name": "stdout",
     "output_type": "stream",
     "text": [
      "Epoch 54 | GCN MSE Loss: 26.4146 | NRF Loss: 3.3050 | JOINT Loss: 29.7196 | NRF Acc: 0.1846\n"
     ]
    },
    {
     "name": "stderr",
     "output_type": "stream",
     "text": [
      "Training epochs:   6%|▌         | 55/1000 [01:04<16:05,  1.02s/it]"
     ]
    },
    {
     "name": "stdout",
     "output_type": "stream",
     "text": [
      "Epoch 55 | GCN MSE Loss: 25.5226 | NRF Loss: 3.3037 | JOINT Loss: 28.8263 | NRF Acc: 0.1820\n"
     ]
    },
    {
     "name": "stderr",
     "output_type": "stream",
     "text": [
      "Training epochs:   6%|▌         | 56/1000 [01:05<16:03,  1.02s/it]"
     ]
    },
    {
     "name": "stdout",
     "output_type": "stream",
     "text": [
      "Epoch 56 | GCN MSE Loss: 24.6823 | NRF Loss: 3.3021 | JOINT Loss: 27.9845 | NRF Acc: 0.1814\n"
     ]
    },
    {
     "name": "stderr",
     "output_type": "stream",
     "text": [
      "Training epochs:   6%|▌         | 57/1000 [01:06<16:02,  1.02s/it]"
     ]
    },
    {
     "name": "stdout",
     "output_type": "stream",
     "text": [
      "Epoch 57 | GCN MSE Loss: 23.8907 | NRF Loss: 3.3003 | JOINT Loss: 27.1911 | NRF Acc: 0.1833\n"
     ]
    },
    {
     "name": "stderr",
     "output_type": "stream",
     "text": [
      "Training epochs:   6%|▌         | 58/1000 [01:07<16:01,  1.02s/it]"
     ]
    },
    {
     "name": "stdout",
     "output_type": "stream",
     "text": [
      "Epoch 58 | GCN MSE Loss: 23.1447 | NRF Loss: 3.2983 | JOINT Loss: 26.4430 | NRF Acc: 0.1854\n"
     ]
    },
    {
     "name": "stderr",
     "output_type": "stream",
     "text": [
      "Training epochs:   6%|▌         | 59/1000 [01:08<16:00,  1.02s/it]"
     ]
    },
    {
     "name": "stdout",
     "output_type": "stream",
     "text": [
      "Epoch 59 | GCN MSE Loss: 22.4415 | NRF Loss: 3.2959 | JOINT Loss: 25.7374 | NRF Acc: 0.1854\n"
     ]
    },
    {
     "name": "stderr",
     "output_type": "stream",
     "text": [
      "Training epochs:   6%|▌         | 60/1000 [01:09<15:59,  1.02s/it]"
     ]
    },
    {
     "name": "stdout",
     "output_type": "stream",
     "text": [
      "Epoch 60 | GCN MSE Loss: 21.7785 | NRF Loss: 3.2933 | JOINT Loss: 25.0718 | NRF Acc: 0.1885\n"
     ]
    },
    {
     "name": "stderr",
     "output_type": "stream",
     "text": [
      "Training epochs:   6%|▌         | 61/1000 [01:10<15:58,  1.02s/it]"
     ]
    },
    {
     "name": "stdout",
     "output_type": "stream",
     "text": [
      "Epoch 61 | GCN MSE Loss: 21.1539 | NRF Loss: 3.2905 | JOINT Loss: 24.4444 | NRF Acc: 0.1918\n"
     ]
    },
    {
     "name": "stderr",
     "output_type": "stream",
     "text": [
      "Training epochs:   6%|▌         | 62/1000 [01:11<15:57,  1.02s/it]"
     ]
    },
    {
     "name": "stdout",
     "output_type": "stream",
     "text": [
      "Epoch 62 | GCN MSE Loss: 20.5648 | NRF Loss: 3.2875 | JOINT Loss: 23.8523 | NRF Acc: 0.2026\n"
     ]
    },
    {
     "name": "stderr",
     "output_type": "stream",
     "text": [
      "Training epochs:   6%|▋         | 63/1000 [01:12<15:56,  1.02s/it]"
     ]
    },
    {
     "name": "stdout",
     "output_type": "stream",
     "text": [
      "Epoch 63 | GCN MSE Loss: 20.0084 | NRF Loss: 3.2843 | JOINT Loss: 23.2927 | NRF Acc: 0.2149\n"
     ]
    },
    {
     "name": "stderr",
     "output_type": "stream",
     "text": [
      "Training epochs:   6%|▋         | 64/1000 [01:13<15:55,  1.02s/it]"
     ]
    },
    {
     "name": "stdout",
     "output_type": "stream",
     "text": [
      "Epoch 64 | GCN MSE Loss: 19.4823 | NRF Loss: 3.2810 | JOINT Loss: 22.7633 | NRF Acc: 0.2258\n"
     ]
    },
    {
     "name": "stderr",
     "output_type": "stream",
     "text": [
      "Training epochs:   6%|▋         | 65/1000 [01:14<15:54,  1.02s/it]"
     ]
    },
    {
     "name": "stdout",
     "output_type": "stream",
     "text": [
      "Epoch 65 | GCN MSE Loss: 18.9845 | NRF Loss: 3.2775 | JOINT Loss: 22.2620 | NRF Acc: 0.2297\n"
     ]
    },
    {
     "name": "stderr",
     "output_type": "stream",
     "text": [
      "Training epochs:   7%|▋         | 66/1000 [01:15<15:54,  1.02s/it]"
     ]
    },
    {
     "name": "stdout",
     "output_type": "stream",
     "text": [
      "Epoch 66 | GCN MSE Loss: 18.5131 | NRF Loss: 3.2740 | JOINT Loss: 21.7871 | NRF Acc: 0.2358\n"
     ]
    },
    {
     "name": "stderr",
     "output_type": "stream",
     "text": [
      "Training epochs:   7%|▋         | 67/1000 [01:16<15:53,  1.02s/it]"
     ]
    },
    {
     "name": "stdout",
     "output_type": "stream",
     "text": [
      "Epoch 67 | GCN MSE Loss: 18.0664 | NRF Loss: 3.2704 | JOINT Loss: 21.3368 | NRF Acc: 0.2405\n"
     ]
    },
    {
     "name": "stderr",
     "output_type": "stream",
     "text": [
      "Training epochs:   7%|▋         | 68/1000 [01:17<15:53,  1.02s/it]"
     ]
    },
    {
     "name": "stdout",
     "output_type": "stream",
     "text": [
      "Epoch 68 | GCN MSE Loss: 17.6423 | NRF Loss: 3.2668 | JOINT Loss: 20.9091 | NRF Acc: 0.2471\n"
     ]
    },
    {
     "name": "stderr",
     "output_type": "stream",
     "text": [
      "Training epochs:   7%|▋         | 69/1000 [01:18<15:52,  1.02s/it]"
     ]
    },
    {
     "name": "stdout",
     "output_type": "stream",
     "text": [
      "Epoch 69 | GCN MSE Loss: 17.2396 | NRF Loss: 3.2631 | JOINT Loss: 20.5027 | NRF Acc: 0.2505\n"
     ]
    },
    {
     "name": "stderr",
     "output_type": "stream",
     "text": [
      "Training epochs:   7%|▋         | 70/1000 [01:19<15:50,  1.02s/it]"
     ]
    },
    {
     "name": "stdout",
     "output_type": "stream",
     "text": [
      "Epoch 70 | GCN MSE Loss: 16.8569 | NRF Loss: 3.2593 | JOINT Loss: 20.1162 | NRF Acc: 0.2545\n"
     ]
    },
    {
     "name": "stderr",
     "output_type": "stream",
     "text": [
      "Training epochs:   7%|▋         | 71/1000 [01:20<15:49,  1.02s/it]"
     ]
    },
    {
     "name": "stdout",
     "output_type": "stream",
     "text": [
      "Epoch 71 | GCN MSE Loss: 16.4928 | NRF Loss: 3.2556 | JOINT Loss: 19.7483 | NRF Acc: 0.2583\n"
     ]
    },
    {
     "name": "stderr",
     "output_type": "stream",
     "text": [
      "Training epochs:   7%|▋         | 72/1000 [01:21<15:47,  1.02s/it]"
     ]
    },
    {
     "name": "stdout",
     "output_type": "stream",
     "text": [
      "Epoch 72 | GCN MSE Loss: 16.1458 | NRF Loss: 3.2517 | JOINT Loss: 19.3976 | NRF Acc: 0.2613\n"
     ]
    },
    {
     "name": "stderr",
     "output_type": "stream",
     "text": [
      "Training epochs:   7%|▋         | 73/1000 [01:22<15:46,  1.02s/it]"
     ]
    },
    {
     "name": "stdout",
     "output_type": "stream",
     "text": [
      "Epoch 73 | GCN MSE Loss: 15.8147 | NRF Loss: 3.2478 | JOINT Loss: 19.0625 | NRF Acc: 0.2633\n"
     ]
    },
    {
     "name": "stderr",
     "output_type": "stream",
     "text": [
      "Training epochs:   7%|▋         | 74/1000 [01:23<15:46,  1.02s/it]"
     ]
    },
    {
     "name": "stdout",
     "output_type": "stream",
     "text": [
      "Epoch 74 | GCN MSE Loss: 15.4984 | NRF Loss: 3.2438 | JOINT Loss: 18.7422 | NRF Acc: 0.2658\n"
     ]
    },
    {
     "name": "stderr",
     "output_type": "stream",
     "text": [
      "Training epochs:   8%|▊         | 75/1000 [01:24<15:44,  1.02s/it]"
     ]
    },
    {
     "name": "stdout",
     "output_type": "stream",
     "text": [
      "Epoch 75 | GCN MSE Loss: 15.1960 | NRF Loss: 3.2397 | JOINT Loss: 18.4357 | NRF Acc: 0.2708\n"
     ]
    },
    {
     "name": "stderr",
     "output_type": "stream",
     "text": [
      "Training epochs:   8%|▊         | 76/1000 [01:25<15:43,  1.02s/it]"
     ]
    },
    {
     "name": "stdout",
     "output_type": "stream",
     "text": [
      "Epoch 76 | GCN MSE Loss: 14.9067 | NRF Loss: 3.2356 | JOINT Loss: 18.1423 | NRF Acc: 0.2720\n"
     ]
    },
    {
     "name": "stderr",
     "output_type": "stream",
     "text": [
      "Training epochs:   8%|▊         | 77/1000 [01:26<15:42,  1.02s/it]"
     ]
    },
    {
     "name": "stdout",
     "output_type": "stream",
     "text": [
      "Epoch 77 | GCN MSE Loss: 14.6298 | NRF Loss: 3.2314 | JOINT Loss: 17.8612 | NRF Acc: 0.2803\n"
     ]
    },
    {
     "name": "stderr",
     "output_type": "stream",
     "text": [
      "Training epochs:   8%|▊         | 78/1000 [01:27<15:41,  1.02s/it]"
     ]
    },
    {
     "name": "stdout",
     "output_type": "stream",
     "text": [
      "Epoch 78 | GCN MSE Loss: 14.3643 | NRF Loss: 3.2271 | JOINT Loss: 17.5915 | NRF Acc: 0.2834\n"
     ]
    },
    {
     "name": "stderr",
     "output_type": "stream",
     "text": [
      "Training epochs:   8%|▊         | 79/1000 [01:28<15:40,  1.02s/it]"
     ]
    },
    {
     "name": "stdout",
     "output_type": "stream",
     "text": [
      "Epoch 79 | GCN MSE Loss: 14.1096 | NRF Loss: 3.2229 | JOINT Loss: 17.3325 | NRF Acc: 0.2907\n"
     ]
    },
    {
     "name": "stderr",
     "output_type": "stream",
     "text": [
      "Training epochs:   8%|▊         | 80/1000 [01:30<17:28,  1.14s/it]"
     ]
    },
    {
     "name": "stdout",
     "output_type": "stream",
     "text": [
      "Epoch 80 | GCN MSE Loss: 13.8650 | NRF Loss: 3.2185 | JOINT Loss: 17.0835 | NRF Acc: 0.3063\n"
     ]
    },
    {
     "name": "stderr",
     "output_type": "stream",
     "text": [
      "Training epochs:   8%|▊         | 81/1000 [01:31<18:50,  1.23s/it]"
     ]
    },
    {
     "name": "stdout",
     "output_type": "stream",
     "text": [
      "Epoch 81 | GCN MSE Loss: 13.6298 | NRF Loss: 3.2142 | JOINT Loss: 16.8439 | NRF Acc: 0.3161\n"
     ]
    },
    {
     "name": "stderr",
     "output_type": "stream",
     "text": [
      "Training epochs:   8%|▊         | 82/1000 [01:33<19:49,  1.30s/it]"
     ]
    },
    {
     "name": "stdout",
     "output_type": "stream",
     "text": [
      "Epoch 82 | GCN MSE Loss: 13.4035 | NRF Loss: 3.2097 | JOINT Loss: 16.6132 | NRF Acc: 0.3243\n"
     ]
    },
    {
     "name": "stderr",
     "output_type": "stream",
     "text": [
      "Training epochs:   8%|▊         | 83/1000 [01:34<20:27,  1.34s/it]"
     ]
    },
    {
     "name": "stdout",
     "output_type": "stream",
     "text": [
      "Epoch 83 | GCN MSE Loss: 13.1855 | NRF Loss: 3.2053 | JOINT Loss: 16.3907 | NRF Acc: 0.3369\n"
     ]
    },
    {
     "name": "stderr",
     "output_type": "stream",
     "text": [
      "Training epochs:   8%|▊         | 84/1000 [01:35<20:57,  1.37s/it]"
     ]
    },
    {
     "name": "stdout",
     "output_type": "stream",
     "text": [
      "Epoch 84 | GCN MSE Loss: 12.9755 | NRF Loss: 3.2007 | JOINT Loss: 16.1763 | NRF Acc: 0.3456\n"
     ]
    },
    {
     "name": "stderr",
     "output_type": "stream",
     "text": [
      "Training epochs:   8%|▊         | 85/1000 [01:37<21:08,  1.39s/it]"
     ]
    },
    {
     "name": "stdout",
     "output_type": "stream",
     "text": [
      "Epoch 85 | GCN MSE Loss: 12.7732 | NRF Loss: 3.1962 | JOINT Loss: 15.9694 | NRF Acc: 0.3497\n"
     ]
    },
    {
     "name": "stderr",
     "output_type": "stream",
     "text": [
      "Training epochs:   9%|▊         | 86/1000 [01:38<21:06,  1.39s/it]"
     ]
    },
    {
     "name": "stdout",
     "output_type": "stream",
     "text": [
      "Epoch 86 | GCN MSE Loss: 12.5779 | NRF Loss: 3.1916 | JOINT Loss: 15.7695 | NRF Acc: 0.3511\n"
     ]
    },
    {
     "name": "stderr",
     "output_type": "stream",
     "text": [
      "Training epochs:   9%|▊         | 87/1000 [01:40<21:18,  1.40s/it]"
     ]
    },
    {
     "name": "stdout",
     "output_type": "stream",
     "text": [
      "Epoch 87 | GCN MSE Loss: 12.3894 | NRF Loss: 3.1870 | JOINT Loss: 15.5764 | NRF Acc: 0.3547\n"
     ]
    },
    {
     "name": "stderr",
     "output_type": "stream",
     "text": [
      "Training epochs:   9%|▉         | 88/1000 [01:41<21:24,  1.41s/it]"
     ]
    },
    {
     "name": "stdout",
     "output_type": "stream",
     "text": [
      "Epoch 88 | GCN MSE Loss: 12.2074 | NRF Loss: 3.1824 | JOINT Loss: 15.3898 | NRF Acc: 0.3592\n"
     ]
    },
    {
     "name": "stderr",
     "output_type": "stream",
     "text": [
      "Training epochs:   9%|▉         | 89/1000 [01:42<17:57,  1.18s/it]"
     ]
    },
    {
     "name": "stdout",
     "output_type": "stream",
     "text": [
      "Epoch 89 | GCN MSE Loss: 12.0315 | NRF Loss: 3.1777 | JOINT Loss: 15.2092 | NRF Acc: 0.3644\n"
     ]
    },
    {
     "name": "stderr",
     "output_type": "stream",
     "text": [
      "Training epochs:   9%|▉         | 90/1000 [01:43<18:45,  1.24s/it]"
     ]
    },
    {
     "name": "stdout",
     "output_type": "stream",
     "text": [
      "Epoch 90 | GCN MSE Loss: 11.8614 | NRF Loss: 3.1731 | JOINT Loss: 15.0345 | NRF Acc: 0.3715\n"
     ]
    },
    {
     "name": "stderr",
     "output_type": "stream",
     "text": [
      "Training epochs:   9%|▉         | 91/1000 [01:45<19:41,  1.30s/it]"
     ]
    },
    {
     "name": "stdout",
     "output_type": "stream",
     "text": [
      "Epoch 91 | GCN MSE Loss: 11.6969 | NRF Loss: 3.1684 | JOINT Loss: 14.8653 | NRF Acc: 0.3776\n"
     ]
    },
    {
     "name": "stderr",
     "output_type": "stream",
     "text": [
      "Training epochs:   9%|▉         | 92/1000 [01:46<20:20,  1.34s/it]"
     ]
    },
    {
     "name": "stdout",
     "output_type": "stream",
     "text": [
      "Epoch 92 | GCN MSE Loss: 11.5372 | NRF Loss: 3.1638 | JOINT Loss: 14.7011 | NRF Acc: 0.3812\n"
     ]
    },
    {
     "name": "stderr",
     "output_type": "stream",
     "text": [
      "Training epochs:   9%|▉         | 93/1000 [01:47<20:42,  1.37s/it]"
     ]
    },
    {
     "name": "stdout",
     "output_type": "stream",
     "text": [
      "Epoch 93 | GCN MSE Loss: 11.3824 | NRF Loss: 3.1592 | JOINT Loss: 14.5416 | NRF Acc: 0.3863\n"
     ]
    },
    {
     "name": "stderr",
     "output_type": "stream",
     "text": [
      "Training epochs:   9%|▉         | 94/1000 [01:49<20:53,  1.38s/it]"
     ]
    },
    {
     "name": "stdout",
     "output_type": "stream",
     "text": [
      "Epoch 94 | GCN MSE Loss: 11.2321 | NRF Loss: 3.1546 | JOINT Loss: 14.3867 | NRF Acc: 0.3916\n"
     ]
    },
    {
     "name": "stderr",
     "output_type": "stream",
     "text": [
      "Training epochs:  10%|▉         | 95/1000 [01:50<21:01,  1.39s/it]"
     ]
    },
    {
     "name": "stdout",
     "output_type": "stream",
     "text": [
      "Epoch 95 | GCN MSE Loss: 11.0860 | NRF Loss: 3.1500 | JOINT Loss: 14.2360 | NRF Acc: 0.3999\n"
     ]
    },
    {
     "name": "stderr",
     "output_type": "stream",
     "text": [
      "Training epochs:  10%|▉         | 96/1000 [01:52<21:03,  1.40s/it]"
     ]
    },
    {
     "name": "stdout",
     "output_type": "stream",
     "text": [
      "Epoch 96 | GCN MSE Loss: 10.9440 | NRF Loss: 3.1454 | JOINT Loss: 14.0894 | NRF Acc: 0.4062\n"
     ]
    },
    {
     "name": "stderr",
     "output_type": "stream",
     "text": [
      "Training epochs:  10%|▉         | 97/1000 [01:53<21:16,  1.41s/it]"
     ]
    },
    {
     "name": "stdout",
     "output_type": "stream",
     "text": [
      "Epoch 97 | GCN MSE Loss: 10.8058 | NRF Loss: 3.1408 | JOINT Loss: 13.9467 | NRF Acc: 0.4131\n"
     ]
    },
    {
     "name": "stderr",
     "output_type": "stream",
     "text": [
      "Training epochs:  10%|▉         | 98/1000 [01:55<21:21,  1.42s/it]"
     ]
    },
    {
     "name": "stdout",
     "output_type": "stream",
     "text": [
      "Epoch 98 | GCN MSE Loss: 10.6714 | NRF Loss: 3.1363 | JOINT Loss: 13.8077 | NRF Acc: 0.4185\n"
     ]
    },
    {
     "name": "stderr",
     "output_type": "stream",
     "text": [
      "Training epochs:  10%|▉         | 99/1000 [01:56<21:26,  1.43s/it]"
     ]
    },
    {
     "name": "stdout",
     "output_type": "stream",
     "text": [
      "Epoch 99 | GCN MSE Loss: 10.5404 | NRF Loss: 3.1318 | JOINT Loss: 13.6721 | NRF Acc: 0.4236\n"
     ]
    },
    {
     "name": "stderr",
     "output_type": "stream",
     "text": [
      "Training epochs:  10%|█         | 100/1000 [01:58<21:28,  1.43s/it]"
     ]
    },
    {
     "name": "stdout",
     "output_type": "stream",
     "text": [
      "Epoch 100 | GCN MSE Loss: 10.4127 | NRF Loss: 3.1273 | JOINT Loss: 13.5399 | NRF Acc: 0.4278\n"
     ]
    },
    {
     "name": "stderr",
     "output_type": "stream",
     "text": [
      "Training epochs:  10%|█         | 101/1000 [01:59<21:34,  1.44s/it]"
     ]
    },
    {
     "name": "stdout",
     "output_type": "stream",
     "text": [
      "Epoch 101 | GCN MSE Loss: 10.2882 | NRF Loss: 3.1228 | JOINT Loss: 13.4110 | NRF Acc: 0.4330\n"
     ]
    },
    {
     "name": "stderr",
     "output_type": "stream",
     "text": [
      "Training epochs:  10%|█         | 102/1000 [02:00<21:27,  1.43s/it]"
     ]
    },
    {
     "name": "stdout",
     "output_type": "stream",
     "text": [
      "Epoch 102 | GCN MSE Loss: 10.1667 | NRF Loss: 3.1183 | JOINT Loss: 13.2851 | NRF Acc: 0.4366\n"
     ]
    },
    {
     "name": "stderr",
     "output_type": "stream",
     "text": [
      "Training epochs:  10%|█         | 103/1000 [02:02<21:09,  1.41s/it]"
     ]
    },
    {
     "name": "stdout",
     "output_type": "stream",
     "text": [
      "Epoch 103 | GCN MSE Loss: 10.0482 | NRF Loss: 3.1139 | JOINT Loss: 13.1621 | NRF Acc: 0.4401\n"
     ]
    },
    {
     "name": "stderr",
     "output_type": "stream",
     "text": [
      "Training epochs:  10%|█         | 104/1000 [02:03<21:13,  1.42s/it]"
     ]
    },
    {
     "name": "stdout",
     "output_type": "stream",
     "text": [
      "Epoch 104 | GCN MSE Loss: 9.9325 | NRF Loss: 3.1095 | JOINT Loss: 13.0420 | NRF Acc: 0.4444\n"
     ]
    },
    {
     "name": "stderr",
     "output_type": "stream",
     "text": [
      "Training epochs:  10%|█         | 105/1000 [02:05<21:17,  1.43s/it]"
     ]
    },
    {
     "name": "stdout",
     "output_type": "stream",
     "text": [
      "Epoch 105 | GCN MSE Loss: 9.8194 | NRF Loss: 3.1051 | JOINT Loss: 12.9245 | NRF Acc: 0.4479\n"
     ]
    },
    {
     "name": "stderr",
     "output_type": "stream",
     "text": [
      "Training epochs:  11%|█         | 106/1000 [02:06<21:21,  1.43s/it]"
     ]
    },
    {
     "name": "stdout",
     "output_type": "stream",
     "text": [
      "Epoch 106 | GCN MSE Loss: 9.7089 | NRF Loss: 3.1008 | JOINT Loss: 12.8096 | NRF Acc: 0.4508\n"
     ]
    },
    {
     "name": "stderr",
     "output_type": "stream",
     "text": [
      "Training epochs:  11%|█         | 107/1000 [02:08<21:23,  1.44s/it]"
     ]
    },
    {
     "name": "stdout",
     "output_type": "stream",
     "text": [
      "Epoch 107 | GCN MSE Loss: 9.6008 | NRF Loss: 3.0964 | JOINT Loss: 12.6972 | NRF Acc: 0.4543\n"
     ]
    },
    {
     "name": "stderr",
     "output_type": "stream",
     "text": [
      "Training epochs:  11%|█         | 108/1000 [02:09<21:26,  1.44s/it]"
     ]
    },
    {
     "name": "stdout",
     "output_type": "stream",
     "text": [
      "Epoch 108 | GCN MSE Loss: 9.4950 | NRF Loss: 3.0921 | JOINT Loss: 12.5872 | NRF Acc: 0.4579\n"
     ]
    },
    {
     "name": "stderr",
     "output_type": "stream",
     "text": [
      "Training epochs:  11%|█         | 109/1000 [02:10<21:29,  1.45s/it]"
     ]
    },
    {
     "name": "stdout",
     "output_type": "stream",
     "text": [
      "Epoch 109 | GCN MSE Loss: 9.3915 | NRF Loss: 3.0879 | JOINT Loss: 12.4794 | NRF Acc: 0.4602\n"
     ]
    },
    {
     "name": "stderr",
     "output_type": "stream",
     "text": [
      "Training epochs:  11%|█         | 110/1000 [02:12<21:23,  1.44s/it]"
     ]
    },
    {
     "name": "stdout",
     "output_type": "stream",
     "text": [
      "Epoch 110 | GCN MSE Loss: 9.2901 | NRF Loss: 3.0836 | JOINT Loss: 12.3737 | NRF Acc: 0.4624\n"
     ]
    },
    {
     "name": "stderr",
     "output_type": "stream",
     "text": [
      "Training epochs:  11%|█         | 111/1000 [02:13<21:14,  1.43s/it]"
     ]
    },
    {
     "name": "stdout",
     "output_type": "stream",
     "text": [
      "Epoch 111 | GCN MSE Loss: 9.1907 | NRF Loss: 3.0794 | JOINT Loss: 12.2701 | NRF Acc: 0.4650\n"
     ]
    },
    {
     "name": "stderr",
     "output_type": "stream",
     "text": [
      "Training epochs:  11%|█         | 112/1000 [02:15<21:09,  1.43s/it]"
     ]
    },
    {
     "name": "stdout",
     "output_type": "stream",
     "text": [
      "Epoch 112 | GCN MSE Loss: 9.0932 | NRF Loss: 3.0753 | JOINT Loss: 12.1685 | NRF Acc: 0.4675\n"
     ]
    },
    {
     "name": "stderr",
     "output_type": "stream",
     "text": [
      "Training epochs:  11%|█▏        | 113/1000 [02:16<21:15,  1.44s/it]"
     ]
    },
    {
     "name": "stdout",
     "output_type": "stream",
     "text": [
      "Epoch 113 | GCN MSE Loss: 8.9976 | NRF Loss: 3.0711 | JOINT Loss: 12.0687 | NRF Acc: 0.4688\n"
     ]
    },
    {
     "name": "stderr",
     "output_type": "stream",
     "text": [
      "Training epochs:  11%|█▏        | 114/1000 [02:18<21:15,  1.44s/it]"
     ]
    },
    {
     "name": "stdout",
     "output_type": "stream",
     "text": [
      "Epoch 114 | GCN MSE Loss: 8.9038 | NRF Loss: 3.0670 | JOINT Loss: 11.9708 | NRF Acc: 0.4716\n"
     ]
    },
    {
     "name": "stderr",
     "output_type": "stream",
     "text": [
      "Training epochs:  12%|█▏        | 115/1000 [02:19<21:17,  1.44s/it]"
     ]
    },
    {
     "name": "stdout",
     "output_type": "stream",
     "text": [
      "Epoch 115 | GCN MSE Loss: 8.8118 | NRF Loss: 3.0628 | JOINT Loss: 11.8746 | NRF Acc: 0.4742\n"
     ]
    },
    {
     "name": "stderr",
     "output_type": "stream",
     "text": [
      "Training epochs:  12%|█▏        | 116/1000 [02:21<21:22,  1.45s/it]"
     ]
    },
    {
     "name": "stdout",
     "output_type": "stream",
     "text": [
      "Epoch 116 | GCN MSE Loss: 8.7213 | NRF Loss: 3.0587 | JOINT Loss: 11.7801 | NRF Acc: 0.4763\n"
     ]
    },
    {
     "name": "stderr",
     "output_type": "stream",
     "text": [
      "Training epochs:  12%|█▏        | 117/1000 [02:22<21:21,  1.45s/it]"
     ]
    },
    {
     "name": "stdout",
     "output_type": "stream",
     "text": [
      "Epoch 117 | GCN MSE Loss: 8.6324 | NRF Loss: 3.0547 | JOINT Loss: 11.6871 | NRF Acc: 0.4794\n"
     ]
    },
    {
     "name": "stderr",
     "output_type": "stream",
     "text": [
      "Training epochs:  12%|█▏        | 118/1000 [02:23<21:21,  1.45s/it]"
     ]
    },
    {
     "name": "stdout",
     "output_type": "stream",
     "text": [
      "Epoch 118 | GCN MSE Loss: 8.5450 | NRF Loss: 3.0506 | JOINT Loss: 11.5956 | NRF Acc: 0.4844\n"
     ]
    },
    {
     "name": "stderr",
     "output_type": "stream",
     "text": [
      "Training epochs:  12%|█▏        | 119/1000 [02:25<21:19,  1.45s/it]"
     ]
    },
    {
     "name": "stdout",
     "output_type": "stream",
     "text": [
      "Epoch 119 | GCN MSE Loss: 8.4591 | NRF Loss: 3.0466 | JOINT Loss: 11.5057 | NRF Acc: 0.4903\n"
     ]
    },
    {
     "name": "stderr",
     "output_type": "stream",
     "text": [
      "Training epochs:  12%|█▏        | 120/1000 [02:26<21:10,  1.44s/it]"
     ]
    },
    {
     "name": "stdout",
     "output_type": "stream",
     "text": [
      "Epoch 120 | GCN MSE Loss: 8.3746 | NRF Loss: 3.0426 | JOINT Loss: 11.4172 | NRF Acc: 0.4927\n"
     ]
    },
    {
     "name": "stderr",
     "output_type": "stream",
     "text": [
      "Training epochs:  12%|█▏        | 121/1000 [02:28<21:06,  1.44s/it]"
     ]
    },
    {
     "name": "stdout",
     "output_type": "stream",
     "text": [
      "Epoch 121 | GCN MSE Loss: 8.2915 | NRF Loss: 3.0386 | JOINT Loss: 11.3301 | NRF Acc: 0.4960\n"
     ]
    },
    {
     "name": "stderr",
     "output_type": "stream",
     "text": [
      "Training epochs:  12%|█▏        | 122/1000 [02:29<21:01,  1.44s/it]"
     ]
    },
    {
     "name": "stdout",
     "output_type": "stream",
     "text": [
      "Epoch 122 | GCN MSE Loss: 8.2098 | NRF Loss: 3.0346 | JOINT Loss: 11.2444 | NRF Acc: 0.4988\n"
     ]
    },
    {
     "name": "stderr",
     "output_type": "stream",
     "text": [
      "Training epochs:  12%|█▏        | 123/1000 [02:31<21:02,  1.44s/it]"
     ]
    },
    {
     "name": "stdout",
     "output_type": "stream",
     "text": [
      "Epoch 123 | GCN MSE Loss: 8.1293 | NRF Loss: 3.0306 | JOINT Loss: 11.1599 | NRF Acc: 0.5024\n"
     ]
    },
    {
     "name": "stderr",
     "output_type": "stream",
     "text": [
      "Training epochs:  12%|█▏        | 124/1000 [02:32<21:02,  1.44s/it]"
     ]
    },
    {
     "name": "stdout",
     "output_type": "stream",
     "text": [
      "Epoch 124 | GCN MSE Loss: 8.0501 | NRF Loss: 3.0266 | JOINT Loss: 11.0768 | NRF Acc: 0.5073\n"
     ]
    },
    {
     "name": "stderr",
     "output_type": "stream",
     "text": [
      "Training epochs:  12%|█▎        | 125/1000 [02:34<21:04,  1.45s/it]"
     ]
    },
    {
     "name": "stdout",
     "output_type": "stream",
     "text": [
      "Epoch 125 | GCN MSE Loss: 7.9721 | NRF Loss: 3.0227 | JOINT Loss: 10.9948 | NRF Acc: 0.5100\n"
     ]
    },
    {
     "name": "stderr",
     "output_type": "stream",
     "text": [
      "Training epochs:  13%|█▎        | 126/1000 [02:35<21:03,  1.45s/it]"
     ]
    },
    {
     "name": "stdout",
     "output_type": "stream",
     "text": [
      "Epoch 126 | GCN MSE Loss: 7.8953 | NRF Loss: 3.0187 | JOINT Loss: 10.9140 | NRF Acc: 0.5132\n"
     ]
    },
    {
     "name": "stderr",
     "output_type": "stream",
     "text": [
      "Training epochs:  13%|█▎        | 127/1000 [02:36<21:04,  1.45s/it]"
     ]
    },
    {
     "name": "stdout",
     "output_type": "stream",
     "text": [
      "Epoch 127 | GCN MSE Loss: 7.8196 | NRF Loss: 3.0148 | JOINT Loss: 10.8344 | NRF Acc: 0.5182\n"
     ]
    },
    {
     "name": "stderr",
     "output_type": "stream",
     "text": [
      "Training epochs:  13%|█▎        | 128/1000 [02:38<21:04,  1.45s/it]"
     ]
    },
    {
     "name": "stdout",
     "output_type": "stream",
     "text": [
      "Epoch 128 | GCN MSE Loss: 7.7449 | NRF Loss: 3.0109 | JOINT Loss: 10.7558 | NRF Acc: 0.5270\n"
     ]
    },
    {
     "name": "stderr",
     "output_type": "stream",
     "text": [
      "Training epochs:  13%|█▎        | 129/1000 [02:39<21:04,  1.45s/it]"
     ]
    },
    {
     "name": "stdout",
     "output_type": "stream",
     "text": [
      "Epoch 129 | GCN MSE Loss: 7.6712 | NRF Loss: 3.0069 | JOINT Loss: 10.6782 | NRF Acc: 0.5324\n"
     ]
    },
    {
     "name": "stderr",
     "output_type": "stream",
     "text": [
      "Training epochs:  13%|█▎        | 130/1000 [02:41<21:09,  1.46s/it]"
     ]
    },
    {
     "name": "stdout",
     "output_type": "stream",
     "text": [
      "Epoch 130 | GCN MSE Loss: 7.5986 | NRF Loss: 3.0030 | JOINT Loss: 10.6016 | NRF Acc: 0.5345\n"
     ]
    },
    {
     "name": "stderr",
     "output_type": "stream",
     "text": [
      "Training epochs:  13%|█▎        | 131/1000 [02:42<21:14,  1.47s/it]"
     ]
    },
    {
     "name": "stdout",
     "output_type": "stream",
     "text": [
      "Epoch 131 | GCN MSE Loss: 7.5269 | NRF Loss: 2.9991 | JOINT Loss: 10.5260 | NRF Acc: 0.5395\n"
     ]
    },
    {
     "name": "stderr",
     "output_type": "stream",
     "text": [
      "Training epochs:  13%|█▎        | 132/1000 [02:44<21:11,  1.46s/it]"
     ]
    },
    {
     "name": "stdout",
     "output_type": "stream",
     "text": [
      "Epoch 132 | GCN MSE Loss: 7.4562 | NRF Loss: 2.9952 | JOINT Loss: 10.4514 | NRF Acc: 0.5431\n"
     ]
    },
    {
     "name": "stderr",
     "output_type": "stream",
     "text": [
      "Training epochs:  13%|█▎        | 133/1000 [02:45<21:10,  1.47s/it]"
     ]
    },
    {
     "name": "stdout",
     "output_type": "stream",
     "text": [
      "Epoch 133 | GCN MSE Loss: 7.3865 | NRF Loss: 2.9912 | JOINT Loss: 10.3777 | NRF Acc: 0.5471\n"
     ]
    },
    {
     "name": "stderr",
     "output_type": "stream",
     "text": [
      "Training epochs:  13%|█▎        | 134/1000 [02:47<21:13,  1.47s/it]"
     ]
    },
    {
     "name": "stdout",
     "output_type": "stream",
     "text": [
      "Epoch 134 | GCN MSE Loss: 7.3176 | NRF Loss: 2.9873 | JOINT Loss: 10.3049 | NRF Acc: 0.5518\n"
     ]
    },
    {
     "name": "stderr",
     "output_type": "stream",
     "text": [
      "Training epochs:  14%|█▎        | 135/1000 [02:48<21:04,  1.46s/it]"
     ]
    },
    {
     "name": "stdout",
     "output_type": "stream",
     "text": [
      "Epoch 135 | GCN MSE Loss: 7.2496 | NRF Loss: 2.9834 | JOINT Loss: 10.2330 | NRF Acc: 0.5549\n"
     ]
    },
    {
     "name": "stderr",
     "output_type": "stream",
     "text": [
      "Training epochs:  14%|█▎        | 136/1000 [02:50<21:01,  1.46s/it]"
     ]
    },
    {
     "name": "stdout",
     "output_type": "stream",
     "text": [
      "Epoch 136 | GCN MSE Loss: 7.1825 | NRF Loss: 2.9795 | JOINT Loss: 10.1620 | NRF Acc: 0.5564\n"
     ]
    },
    {
     "name": "stderr",
     "output_type": "stream",
     "text": [
      "Training epochs:  14%|█▎        | 137/1000 [02:51<20:18,  1.41s/it]"
     ]
    },
    {
     "name": "stdout",
     "output_type": "stream",
     "text": [
      "Epoch 137 | GCN MSE Loss: 7.1163 | NRF Loss: 2.9756 | JOINT Loss: 10.0919 | NRF Acc: 0.5601\n"
     ]
    },
    {
     "name": "stderr",
     "output_type": "stream",
     "text": [
      "Training epochs:  14%|█▍        | 138/1000 [02:52<18:39,  1.30s/it]"
     ]
    },
    {
     "name": "stdout",
     "output_type": "stream",
     "text": [
      "Epoch 138 | GCN MSE Loss: 7.0509 | NRF Loss: 2.9717 | JOINT Loss: 10.0226 | NRF Acc: 0.5635\n"
     ]
    },
    {
     "name": "stderr",
     "output_type": "stream",
     "text": [
      "Training epochs:  14%|█▍        | 139/1000 [02:53<19:19,  1.35s/it]"
     ]
    },
    {
     "name": "stdout",
     "output_type": "stream",
     "text": [
      "Epoch 139 | GCN MSE Loss: 6.9863 | NRF Loss: 2.9677 | JOINT Loss: 9.9541 | NRF Acc: 0.5668\n"
     ]
    },
    {
     "name": "stderr",
     "output_type": "stream",
     "text": [
      "Training epochs:  14%|█▍        | 140/1000 [02:55<19:42,  1.38s/it]"
     ]
    },
    {
     "name": "stdout",
     "output_type": "stream",
     "text": [
      "Epoch 140 | GCN MSE Loss: 6.9225 | NRF Loss: 2.9638 | JOINT Loss: 9.8864 | NRF Acc: 0.5703\n"
     ]
    },
    {
     "name": "stderr",
     "output_type": "stream",
     "text": [
      "Training epochs:  14%|█▍        | 141/1000 [02:56<20:00,  1.40s/it]"
     ]
    },
    {
     "name": "stdout",
     "output_type": "stream",
     "text": [
      "Epoch 141 | GCN MSE Loss: 6.8596 | NRF Loss: 2.9599 | JOINT Loss: 9.8195 | NRF Acc: 0.5746\n"
     ]
    },
    {
     "name": "stderr",
     "output_type": "stream",
     "text": [
      "Training epochs:  14%|█▍        | 142/1000 [02:58<20:11,  1.41s/it]"
     ]
    },
    {
     "name": "stdout",
     "output_type": "stream",
     "text": [
      "Epoch 142 | GCN MSE Loss: 6.7974 | NRF Loss: 2.9560 | JOINT Loss: 9.7534 | NRF Acc: 0.5781\n"
     ]
    },
    {
     "name": "stderr",
     "output_type": "stream",
     "text": [
      "Training epochs:  14%|█▍        | 143/1000 [02:59<20:23,  1.43s/it]"
     ]
    },
    {
     "name": "stdout",
     "output_type": "stream",
     "text": [
      "Epoch 143 | GCN MSE Loss: 6.7360 | NRF Loss: 2.9521 | JOINT Loss: 9.6881 | NRF Acc: 0.5786\n"
     ]
    },
    {
     "name": "stderr",
     "output_type": "stream",
     "text": [
      "Training epochs:  14%|█▍        | 144/1000 [03:01<20:34,  1.44s/it]"
     ]
    },
    {
     "name": "stdout",
     "output_type": "stream",
     "text": [
      "Epoch 144 | GCN MSE Loss: 6.6753 | NRF Loss: 2.9482 | JOINT Loss: 9.6235 | NRF Acc: 0.5812\n"
     ]
    },
    {
     "name": "stderr",
     "output_type": "stream",
     "text": [
      "Training epochs:  14%|█▍        | 145/1000 [03:02<20:40,  1.45s/it]"
     ]
    },
    {
     "name": "stdout",
     "output_type": "stream",
     "text": [
      "Epoch 145 | GCN MSE Loss: 6.6154 | NRF Loss: 2.9443 | JOINT Loss: 9.5597 | NRF Acc: 0.5826\n"
     ]
    },
    {
     "name": "stderr",
     "output_type": "stream",
     "text": [
      "Training epochs:  15%|█▍        | 146/1000 [03:04<20:42,  1.45s/it]"
     ]
    },
    {
     "name": "stdout",
     "output_type": "stream",
     "text": [
      "Epoch 146 | GCN MSE Loss: 6.5561 | NRF Loss: 2.9404 | JOINT Loss: 9.4966 | NRF Acc: 0.5867\n"
     ]
    },
    {
     "name": "stderr",
     "output_type": "stream",
     "text": [
      "Training epochs:  15%|█▍        | 147/1000 [03:05<20:33,  1.45s/it]"
     ]
    },
    {
     "name": "stdout",
     "output_type": "stream",
     "text": [
      "Epoch 147 | GCN MSE Loss: 6.4976 | NRF Loss: 2.9365 | JOINT Loss: 9.4342 | NRF Acc: 0.5914\n"
     ]
    },
    {
     "name": "stderr",
     "output_type": "stream",
     "text": [
      "Training epochs:  15%|█▍        | 148/1000 [03:06<20:29,  1.44s/it]"
     ]
    },
    {
     "name": "stdout",
     "output_type": "stream",
     "text": [
      "Epoch 148 | GCN MSE Loss: 6.4398 | NRF Loss: 2.9326 | JOINT Loss: 9.3724 | NRF Acc: 0.5945\n"
     ]
    },
    {
     "name": "stderr",
     "output_type": "stream",
     "text": [
      "Training epochs:  15%|█▍        | 149/1000 [03:08<20:23,  1.44s/it]"
     ]
    },
    {
     "name": "stdout",
     "output_type": "stream",
     "text": [
      "Epoch 149 | GCN MSE Loss: 6.3827 | NRF Loss: 2.9287 | JOINT Loss: 9.3114 | NRF Acc: 0.5964\n"
     ]
    },
    {
     "name": "stderr",
     "output_type": "stream",
     "text": [
      "Training epochs:  15%|█▌        | 150/1000 [03:09<20:18,  1.43s/it]"
     ]
    },
    {
     "name": "stdout",
     "output_type": "stream",
     "text": [
      "Epoch 150 | GCN MSE Loss: 6.3262 | NRF Loss: 2.9249 | JOINT Loss: 9.2511 | NRF Acc: 0.6018\n"
     ]
    },
    {
     "name": "stderr",
     "output_type": "stream",
     "text": [
      "Training epochs:  15%|█▌        | 151/1000 [03:11<20:22,  1.44s/it]"
     ]
    },
    {
     "name": "stdout",
     "output_type": "stream",
     "text": [
      "Epoch 151 | GCN MSE Loss: 6.2704 | NRF Loss: 2.9210 | JOINT Loss: 9.1914 | NRF Acc: 0.6047\n"
     ]
    },
    {
     "name": "stderr",
     "output_type": "stream",
     "text": [
      "Training epochs:  15%|█▌        | 152/1000 [03:12<20:23,  1.44s/it]"
     ]
    },
    {
     "name": "stdout",
     "output_type": "stream",
     "text": [
      "Epoch 152 | GCN MSE Loss: 6.2152 | NRF Loss: 2.9171 | JOINT Loss: 9.1323 | NRF Acc: 0.6068\n"
     ]
    },
    {
     "name": "stderr",
     "output_type": "stream",
     "text": [
      "Training epochs:  15%|█▌        | 153/1000 [03:14<20:23,  1.44s/it]"
     ]
    },
    {
     "name": "stdout",
     "output_type": "stream",
     "text": [
      "Epoch 153 | GCN MSE Loss: 6.1607 | NRF Loss: 2.9132 | JOINT Loss: 9.0739 | NRF Acc: 0.6094\n"
     ]
    },
    {
     "name": "stderr",
     "output_type": "stream",
     "text": [
      "Training epochs:  15%|█▌        | 154/1000 [03:15<20:25,  1.45s/it]"
     ]
    },
    {
     "name": "stdout",
     "output_type": "stream",
     "text": [
      "Epoch 154 | GCN MSE Loss: 6.1069 | NRF Loss: 2.9094 | JOINT Loss: 9.0162 | NRF Acc: 0.6131\n"
     ]
    },
    {
     "name": "stderr",
     "output_type": "stream",
     "text": [
      "Training epochs:  16%|█▌        | 155/1000 [03:17<20:23,  1.45s/it]"
     ]
    },
    {
     "name": "stdout",
     "output_type": "stream",
     "text": [
      "Epoch 155 | GCN MSE Loss: 6.0536 | NRF Loss: 2.9055 | JOINT Loss: 8.9591 | NRF Acc: 0.6155\n"
     ]
    },
    {
     "name": "stderr",
     "output_type": "stream",
     "text": [
      "Training epochs:  16%|█▌        | 156/1000 [03:18<20:22,  1.45s/it]"
     ]
    },
    {
     "name": "stdout",
     "output_type": "stream",
     "text": [
      "Epoch 156 | GCN MSE Loss: 6.0010 | NRF Loss: 2.9016 | JOINT Loss: 8.9026 | NRF Acc: 0.6189\n"
     ]
    },
    {
     "name": "stderr",
     "output_type": "stream",
     "text": [
      "Training epochs:  16%|█▌        | 157/1000 [03:19<20:19,  1.45s/it]"
     ]
    },
    {
     "name": "stdout",
     "output_type": "stream",
     "text": [
      "Epoch 157 | GCN MSE Loss: 5.9490 | NRF Loss: 2.8978 | JOINT Loss: 8.8467 | NRF Acc: 0.6215\n"
     ]
    },
    {
     "name": "stderr",
     "output_type": "stream",
     "text": [
      "Training epochs:  16%|█▌        | 158/1000 [03:21<20:14,  1.44s/it]"
     ]
    },
    {
     "name": "stdout",
     "output_type": "stream",
     "text": [
      "Epoch 158 | GCN MSE Loss: 5.8976 | NRF Loss: 2.8939 | JOINT Loss: 8.7915 | NRF Acc: 0.6273\n"
     ]
    },
    {
     "name": "stderr",
     "output_type": "stream",
     "text": [
      "Training epochs:  16%|█▌        | 159/1000 [03:22<20:11,  1.44s/it]"
     ]
    },
    {
     "name": "stdout",
     "output_type": "stream",
     "text": [
      "Epoch 159 | GCN MSE Loss: 5.8469 | NRF Loss: 2.8900 | JOINT Loss: 8.7369 | NRF Acc: 0.6300\n"
     ]
    },
    {
     "name": "stderr",
     "output_type": "stream",
     "text": [
      "Training epochs:  16%|█▌        | 160/1000 [03:24<20:07,  1.44s/it]"
     ]
    },
    {
     "name": "stdout",
     "output_type": "stream",
     "text": [
      "Epoch 160 | GCN MSE Loss: 5.7967 | NRF Loss: 2.8862 | JOINT Loss: 8.6829 | NRF Acc: 0.6335\n"
     ]
    },
    {
     "name": "stderr",
     "output_type": "stream",
     "text": [
      "Training epochs:  16%|█▌        | 161/1000 [03:25<20:07,  1.44s/it]"
     ]
    },
    {
     "name": "stdout",
     "output_type": "stream",
     "text": [
      "Epoch 161 | GCN MSE Loss: 5.7471 | NRF Loss: 2.8823 | JOINT Loss: 8.6294 | NRF Acc: 0.6352\n"
     ]
    },
    {
     "name": "stderr",
     "output_type": "stream",
     "text": [
      "Training epochs:  16%|█▌        | 162/1000 [03:27<20:10,  1.44s/it]"
     ]
    },
    {
     "name": "stdout",
     "output_type": "stream",
     "text": [
      "Epoch 162 | GCN MSE Loss: 5.6981 | NRF Loss: 2.8785 | JOINT Loss: 8.5765 | NRF Acc: 0.6394\n"
     ]
    },
    {
     "name": "stderr",
     "output_type": "stream",
     "text": [
      "Training epochs:  16%|█▋        | 163/1000 [03:28<20:11,  1.45s/it]"
     ]
    },
    {
     "name": "stdout",
     "output_type": "stream",
     "text": [
      "Epoch 163 | GCN MSE Loss: 5.6496 | NRF Loss: 2.8746 | JOINT Loss: 8.5242 | NRF Acc: 0.6411\n"
     ]
    },
    {
     "name": "stderr",
     "output_type": "stream",
     "text": [
      "Training epochs:  16%|█▋        | 164/1000 [03:30<20:10,  1.45s/it]"
     ]
    },
    {
     "name": "stdout",
     "output_type": "stream",
     "text": [
      "Epoch 164 | GCN MSE Loss: 5.6018 | NRF Loss: 2.8707 | JOINT Loss: 8.4725 | NRF Acc: 0.6435\n"
     ]
    },
    {
     "name": "stderr",
     "output_type": "stream",
     "text": [
      "Training epochs:  16%|█▋        | 165/1000 [03:31<20:10,  1.45s/it]"
     ]
    },
    {
     "name": "stdout",
     "output_type": "stream",
     "text": [
      "Epoch 165 | GCN MSE Loss: 5.5544 | NRF Loss: 2.8669 | JOINT Loss: 8.4213 | NRF Acc: 0.6447\n"
     ]
    },
    {
     "name": "stderr",
     "output_type": "stream",
     "text": [
      "Training epochs:  17%|█▋        | 166/1000 [03:32<20:11,  1.45s/it]"
     ]
    },
    {
     "name": "stdout",
     "output_type": "stream",
     "text": [
      "Epoch 166 | GCN MSE Loss: 5.5077 | NRF Loss: 2.8630 | JOINT Loss: 8.3707 | NRF Acc: 0.6473\n"
     ]
    },
    {
     "name": "stderr",
     "output_type": "stream",
     "text": [
      "Training epochs:  17%|█▋        | 167/1000 [03:34<20:11,  1.45s/it]"
     ]
    },
    {
     "name": "stdout",
     "output_type": "stream",
     "text": [
      "Epoch 167 | GCN MSE Loss: 5.4615 | NRF Loss: 2.8592 | JOINT Loss: 8.3206 | NRF Acc: 0.6498\n"
     ]
    },
    {
     "name": "stderr",
     "output_type": "stream",
     "text": [
      "Training epochs:  17%|█▋        | 168/1000 [03:35<20:06,  1.45s/it]"
     ]
    },
    {
     "name": "stdout",
     "output_type": "stream",
     "text": [
      "Epoch 168 | GCN MSE Loss: 5.4158 | NRF Loss: 2.8553 | JOINT Loss: 8.2711 | NRF Acc: 0.6518\n"
     ]
    },
    {
     "name": "stderr",
     "output_type": "stream",
     "text": [
      "Training epochs:  17%|█▋        | 169/1000 [03:37<19:56,  1.44s/it]"
     ]
    },
    {
     "name": "stdout",
     "output_type": "stream",
     "text": [
      "Epoch 169 | GCN MSE Loss: 5.3706 | NRF Loss: 2.8514 | JOINT Loss: 8.2221 | NRF Acc: 0.6539\n"
     ]
    },
    {
     "name": "stderr",
     "output_type": "stream",
     "text": [
      "Training epochs:  17%|█▋        | 170/1000 [03:38<19:49,  1.43s/it]"
     ]
    },
    {
     "name": "stdout",
     "output_type": "stream",
     "text": [
      "Epoch 170 | GCN MSE Loss: 5.3260 | NRF Loss: 2.8476 | JOINT Loss: 8.1736 | NRF Acc: 0.6548\n"
     ]
    },
    {
     "name": "stderr",
     "output_type": "stream",
     "text": [
      "Training epochs:  17%|█▋        | 171/1000 [03:40<19:48,  1.43s/it]"
     ]
    },
    {
     "name": "stdout",
     "output_type": "stream",
     "text": [
      "Epoch 171 | GCN MSE Loss: 5.2819 | NRF Loss: 2.8437 | JOINT Loss: 8.1256 | NRF Acc: 0.6575\n"
     ]
    },
    {
     "name": "stderr",
     "output_type": "stream",
     "text": [
      "Training epochs:  17%|█▋        | 172/1000 [03:41<19:49,  1.44s/it]"
     ]
    },
    {
     "name": "stdout",
     "output_type": "stream",
     "text": [
      "Epoch 172 | GCN MSE Loss: 5.2384 | NRF Loss: 2.8398 | JOINT Loss: 8.0782 | NRF Acc: 0.6589\n"
     ]
    },
    {
     "name": "stderr",
     "output_type": "stream",
     "text": [
      "Training epochs:  17%|█▋        | 173/1000 [03:43<19:51,  1.44s/it]"
     ]
    },
    {
     "name": "stdout",
     "output_type": "stream",
     "text": [
      "Epoch 173 | GCN MSE Loss: 5.1953 | NRF Loss: 2.8360 | JOINT Loss: 8.0313 | NRF Acc: 0.6612\n"
     ]
    },
    {
     "name": "stderr",
     "output_type": "stream",
     "text": [
      "Training epochs:  17%|█▋        | 174/1000 [03:44<19:52,  1.44s/it]"
     ]
    },
    {
     "name": "stdout",
     "output_type": "stream",
     "text": [
      "Epoch 174 | GCN MSE Loss: 5.1528 | NRF Loss: 2.8321 | JOINT Loss: 7.9848 | NRF Acc: 0.6638\n"
     ]
    },
    {
     "name": "stderr",
     "output_type": "stream",
     "text": [
      "Training epochs:  18%|█▊        | 175/1000 [03:45<19:54,  1.45s/it]"
     ]
    },
    {
     "name": "stdout",
     "output_type": "stream",
     "text": [
      "Epoch 175 | GCN MSE Loss: 5.1107 | NRF Loss: 2.8282 | JOINT Loss: 7.9389 | NRF Acc: 0.6664\n"
     ]
    },
    {
     "name": "stderr",
     "output_type": "stream",
     "text": [
      "Training epochs:  18%|█▊        | 176/1000 [03:47<19:52,  1.45s/it]"
     ]
    },
    {
     "name": "stdout",
     "output_type": "stream",
     "text": [
      "Epoch 176 | GCN MSE Loss: 5.0691 | NRF Loss: 2.8243 | JOINT Loss: 7.8934 | NRF Acc: 0.6683\n"
     ]
    },
    {
     "name": "stderr",
     "output_type": "stream",
     "text": [
      "Training epochs:  18%|█▊        | 177/1000 [03:48<19:44,  1.44s/it]"
     ]
    },
    {
     "name": "stdout",
     "output_type": "stream",
     "text": [
      "Epoch 177 | GCN MSE Loss: 5.0279 | NRF Loss: 2.8204 | JOINT Loss: 7.8483 | NRF Acc: 0.6691\n"
     ]
    },
    {
     "name": "stderr",
     "output_type": "stream",
     "text": [
      "Training epochs:  18%|█▊        | 178/1000 [03:50<19:42,  1.44s/it]"
     ]
    },
    {
     "name": "stdout",
     "output_type": "stream",
     "text": [
      "Epoch 178 | GCN MSE Loss: 4.9872 | NRF Loss: 2.8165 | JOINT Loss: 7.8038 | NRF Acc: 0.6723\n"
     ]
    },
    {
     "name": "stderr",
     "output_type": "stream",
     "text": [
      "Training epochs:  18%|█▊        | 179/1000 [03:51<19:38,  1.44s/it]"
     ]
    },
    {
     "name": "stdout",
     "output_type": "stream",
     "text": [
      "Epoch 179 | GCN MSE Loss: 4.9470 | NRF Loss: 2.8127 | JOINT Loss: 7.7597 | NRF Acc: 0.6743\n"
     ]
    },
    {
     "name": "stderr",
     "output_type": "stream",
     "text": [
      "Training epochs:  18%|█▊        | 180/1000 [03:53<19:35,  1.43s/it]"
     ]
    },
    {
     "name": "stdout",
     "output_type": "stream",
     "text": [
      "Epoch 180 | GCN MSE Loss: 4.9072 | NRF Loss: 2.8088 | JOINT Loss: 7.7160 | NRF Acc: 0.6745\n"
     ]
    },
    {
     "name": "stderr",
     "output_type": "stream",
     "text": [
      "Training epochs:  18%|█▊        | 181/1000 [03:54<19:35,  1.44s/it]"
     ]
    },
    {
     "name": "stdout",
     "output_type": "stream",
     "text": [
      "Epoch 181 | GCN MSE Loss: 4.8679 | NRF Loss: 2.8049 | JOINT Loss: 7.6728 | NRF Acc: 0.6762\n"
     ]
    },
    {
     "name": "stderr",
     "output_type": "stream",
     "text": [
      "Training epochs:  18%|█▊        | 182/1000 [03:56<19:40,  1.44s/it]"
     ]
    },
    {
     "name": "stdout",
     "output_type": "stream",
     "text": [
      "Epoch 182 | GCN MSE Loss: 4.8291 | NRF Loss: 2.8010 | JOINT Loss: 7.6300 | NRF Acc: 0.6785\n"
     ]
    },
    {
     "name": "stderr",
     "output_type": "stream",
     "text": [
      "Training epochs:  18%|█▊        | 183/1000 [03:57<19:22,  1.42s/it]"
     ]
    },
    {
     "name": "stdout",
     "output_type": "stream",
     "text": [
      "Epoch 183 | GCN MSE Loss: 4.7906 | NRF Loss: 2.7971 | JOINT Loss: 7.5877 | NRF Acc: 0.6797\n"
     ]
    },
    {
     "name": "stderr",
     "output_type": "stream",
     "text": [
      "Training epochs:  18%|█▊        | 184/1000 [03:58<19:23,  1.43s/it]"
     ]
    },
    {
     "name": "stdout",
     "output_type": "stream",
     "text": [
      "Epoch 184 | GCN MSE Loss: 4.7527 | NRF Loss: 2.7932 | JOINT Loss: 7.5459 | NRF Acc: 0.6820\n"
     ]
    },
    {
     "name": "stderr",
     "output_type": "stream",
     "text": [
      "Training epochs:  18%|█▊        | 185/1000 [04:00<19:21,  1.43s/it]"
     ]
    },
    {
     "name": "stdout",
     "output_type": "stream",
     "text": [
      "Epoch 185 | GCN MSE Loss: 4.7151 | NRF Loss: 2.7893 | JOINT Loss: 7.5044 | NRF Acc: 0.6832\n"
     ]
    },
    {
     "name": "stderr",
     "output_type": "stream",
     "text": [
      "Training epochs:  19%|█▊        | 186/1000 [04:01<19:20,  1.43s/it]"
     ]
    },
    {
     "name": "stdout",
     "output_type": "stream",
     "text": [
      "Epoch 186 | GCN MSE Loss: 4.6780 | NRF Loss: 2.7854 | JOINT Loss: 7.4634 | NRF Acc: 0.6859\n"
     ]
    },
    {
     "name": "stderr",
     "output_type": "stream",
     "text": [
      "Training epochs:  19%|█▊        | 187/1000 [04:03<19:24,  1.43s/it]"
     ]
    },
    {
     "name": "stdout",
     "output_type": "stream",
     "text": [
      "Epoch 187 | GCN MSE Loss: 4.6414 | NRF Loss: 2.7815 | JOINT Loss: 7.4229 | NRF Acc: 0.6884\n"
     ]
    },
    {
     "name": "stderr",
     "output_type": "stream",
     "text": [
      "Training epochs:  19%|█▉        | 188/1000 [04:04<19:23,  1.43s/it]"
     ]
    },
    {
     "name": "stdout",
     "output_type": "stream",
     "text": [
      "Epoch 188 | GCN MSE Loss: 4.6052 | NRF Loss: 2.7776 | JOINT Loss: 7.3828 | NRF Acc: 0.6892\n"
     ]
    },
    {
     "name": "stderr",
     "output_type": "stream",
     "text": [
      "Training epochs:  19%|█▉        | 189/1000 [04:06<19:26,  1.44s/it]"
     ]
    },
    {
     "name": "stdout",
     "output_type": "stream",
     "text": [
      "Epoch 189 | GCN MSE Loss: 4.5694 | NRF Loss: 2.7737 | JOINT Loss: 7.3431 | NRF Acc: 0.6896\n"
     ]
    },
    {
     "name": "stderr",
     "output_type": "stream",
     "text": [
      "Training epochs:  19%|█▉        | 190/1000 [04:07<19:25,  1.44s/it]"
     ]
    },
    {
     "name": "stdout",
     "output_type": "stream",
     "text": [
      "Epoch 190 | GCN MSE Loss: 4.5340 | NRF Loss: 2.7699 | JOINT Loss: 7.3039 | NRF Acc: 0.6915\n"
     ]
    },
    {
     "name": "stderr",
     "output_type": "stream",
     "text": [
      "Training epochs:  19%|█▉        | 191/1000 [04:08<19:29,  1.45s/it]"
     ]
    },
    {
     "name": "stdout",
     "output_type": "stream",
     "text": [
      "Epoch 191 | GCN MSE Loss: 4.4991 | NRF Loss: 2.7660 | JOINT Loss: 7.2651 | NRF Acc: 0.6930\n"
     ]
    },
    {
     "name": "stderr",
     "output_type": "stream",
     "text": [
      "Training epochs:  19%|█▉        | 192/1000 [04:10<19:29,  1.45s/it]"
     ]
    },
    {
     "name": "stdout",
     "output_type": "stream",
     "text": [
      "Epoch 192 | GCN MSE Loss: 4.4646 | NRF Loss: 2.7621 | JOINT Loss: 7.2267 | NRF Acc: 0.6939\n"
     ]
    },
    {
     "name": "stderr",
     "output_type": "stream",
     "text": [
      "Training epochs:  19%|█▉        | 193/1000 [04:11<19:27,  1.45s/it]"
     ]
    },
    {
     "name": "stdout",
     "output_type": "stream",
     "text": [
      "Epoch 193 | GCN MSE Loss: 4.4305 | NRF Loss: 2.7582 | JOINT Loss: 7.1887 | NRF Acc: 0.6943\n"
     ]
    },
    {
     "name": "stderr",
     "output_type": "stream",
     "text": [
      "Training epochs:  19%|█▉        | 194/1000 [04:13<19:26,  1.45s/it]"
     ]
    },
    {
     "name": "stdout",
     "output_type": "stream",
     "text": [
      "Epoch 194 | GCN MSE Loss: 4.3968 | NRF Loss: 2.7544 | JOINT Loss: 7.1512 | NRF Acc: 0.6953\n"
     ]
    },
    {
     "name": "stderr",
     "output_type": "stream",
     "text": [
      "Training epochs:  20%|█▉        | 195/1000 [04:14<19:18,  1.44s/it]"
     ]
    },
    {
     "name": "stdout",
     "output_type": "stream",
     "text": [
      "Epoch 195 | GCN MSE Loss: 4.3635 | NRF Loss: 2.7505 | JOINT Loss: 7.1140 | NRF Acc: 0.6970\n"
     ]
    },
    {
     "name": "stderr",
     "output_type": "stream",
     "text": [
      "Training epochs:  20%|█▉        | 196/1000 [04:16<19:17,  1.44s/it]"
     ]
    },
    {
     "name": "stdout",
     "output_type": "stream",
     "text": [
      "Epoch 196 | GCN MSE Loss: 4.3306 | NRF Loss: 2.7466 | JOINT Loss: 7.0772 | NRF Acc: 0.6986\n"
     ]
    },
    {
     "name": "stderr",
     "output_type": "stream",
     "text": [
      "Training epochs:  20%|█▉        | 197/1000 [04:17<19:13,  1.44s/it]"
     ]
    },
    {
     "name": "stdout",
     "output_type": "stream",
     "text": [
      "Epoch 197 | GCN MSE Loss: 4.2980 | NRF Loss: 2.7428 | JOINT Loss: 7.0408 | NRF Acc: 0.7001\n"
     ]
    },
    {
     "name": "stderr",
     "output_type": "stream",
     "text": [
      "Training epochs:  20%|█▉        | 198/1000 [04:18<19:10,  1.43s/it]"
     ]
    },
    {
     "name": "stdout",
     "output_type": "stream",
     "text": [
      "Epoch 198 | GCN MSE Loss: 4.2659 | NRF Loss: 2.7390 | JOINT Loss: 7.0048 | NRF Acc: 0.7017\n"
     ]
    },
    {
     "name": "stderr",
     "output_type": "stream",
     "text": [
      "Training epochs:  20%|█▉        | 199/1000 [04:20<19:12,  1.44s/it]"
     ]
    },
    {
     "name": "stdout",
     "output_type": "stream",
     "text": [
      "Epoch 199 | GCN MSE Loss: 4.2341 | NRF Loss: 2.7351 | JOINT Loss: 6.9693 | NRF Acc: 0.7034\n"
     ]
    },
    {
     "name": "stderr",
     "output_type": "stream",
     "text": [
      "Training epochs:  20%|██        | 200/1000 [04:21<19:15,  1.44s/it]"
     ]
    },
    {
     "name": "stdout",
     "output_type": "stream",
     "text": [
      "Epoch 200 | GCN MSE Loss: 4.2028 | NRF Loss: 2.7313 | JOINT Loss: 6.9341 | NRF Acc: 0.7043\n"
     ]
    },
    {
     "name": "stderr",
     "output_type": "stream",
     "text": [
      "Training epochs:  20%|██        | 201/1000 [04:23<19:15,  1.45s/it]"
     ]
    },
    {
     "name": "stdout",
     "output_type": "stream",
     "text": [
      "Epoch 201 | GCN MSE Loss: 4.1718 | NRF Loss: 2.7275 | JOINT Loss: 6.8993 | NRF Acc: 0.7053\n"
     ]
    },
    {
     "name": "stderr",
     "output_type": "stream",
     "text": [
      "Training epochs:  20%|██        | 202/1000 [04:24<19:14,  1.45s/it]"
     ]
    },
    {
     "name": "stdout",
     "output_type": "stream",
     "text": [
      "Epoch 202 | GCN MSE Loss: 4.1413 | NRF Loss: 2.7237 | JOINT Loss: 6.8649 | NRF Acc: 0.7060\n"
     ]
    },
    {
     "name": "stderr",
     "output_type": "stream",
     "text": [
      "Training epochs:  20%|██        | 203/1000 [04:26<19:14,  1.45s/it]"
     ]
    },
    {
     "name": "stdout",
     "output_type": "stream",
     "text": [
      "Epoch 203 | GCN MSE Loss: 4.1111 | NRF Loss: 2.7199 | JOINT Loss: 6.8309 | NRF Acc: 0.7079\n"
     ]
    },
    {
     "name": "stderr",
     "output_type": "stream",
     "text": [
      "Training epochs:  20%|██        | 204/1000 [04:27<19:15,  1.45s/it]"
     ]
    },
    {
     "name": "stdout",
     "output_type": "stream",
     "text": [
      "Epoch 204 | GCN MSE Loss: 4.0812 | NRF Loss: 2.7161 | JOINT Loss: 6.7973 | NRF Acc: 0.7097\n"
     ]
    },
    {
     "name": "stderr",
     "output_type": "stream",
     "text": [
      "Training epochs:  20%|██        | 205/1000 [04:29<19:14,  1.45s/it]"
     ]
    },
    {
     "name": "stdout",
     "output_type": "stream",
     "text": [
      "Epoch 205 | GCN MSE Loss: 4.0518 | NRF Loss: 2.7123 | JOINT Loss: 6.7641 | NRF Acc: 0.7109\n"
     ]
    },
    {
     "name": "stderr",
     "output_type": "stream",
     "text": [
      "Training epochs:  21%|██        | 206/1000 [04:30<19:12,  1.45s/it]"
     ]
    },
    {
     "name": "stdout",
     "output_type": "stream",
     "text": [
      "Epoch 206 | GCN MSE Loss: 4.0227 | NRF Loss: 2.7085 | JOINT Loss: 6.7312 | NRF Acc: 0.7116\n"
     ]
    },
    {
     "name": "stderr",
     "output_type": "stream",
     "text": [
      "Training epochs:  21%|██        | 207/1000 [04:32<19:06,  1.45s/it]"
     ]
    },
    {
     "name": "stdout",
     "output_type": "stream",
     "text": [
      "Epoch 207 | GCN MSE Loss: 3.9941 | NRF Loss: 2.7047 | JOINT Loss: 6.6988 | NRF Acc: 0.7138\n"
     ]
    },
    {
     "name": "stderr",
     "output_type": "stream",
     "text": [
      "Training epochs:  21%|██        | 208/1000 [04:33<18:59,  1.44s/it]"
     ]
    },
    {
     "name": "stdout",
     "output_type": "stream",
     "text": [
      "Epoch 208 | GCN MSE Loss: 3.9658 | NRF Loss: 2.7010 | JOINT Loss: 6.6667 | NRF Acc: 0.7150\n"
     ]
    },
    {
     "name": "stderr",
     "output_type": "stream",
     "text": [
      "Training epochs:  21%|██        | 209/1000 [04:34<18:55,  1.44s/it]"
     ]
    },
    {
     "name": "stdout",
     "output_type": "stream",
     "text": [
      "Epoch 209 | GCN MSE Loss: 3.9378 | NRF Loss: 2.6972 | JOINT Loss: 6.6351 | NRF Acc: 0.7155\n"
     ]
    },
    {
     "name": "stderr",
     "output_type": "stream",
     "text": [
      "Training epochs:  21%|██        | 210/1000 [04:36<18:57,  1.44s/it]"
     ]
    },
    {
     "name": "stdout",
     "output_type": "stream",
     "text": [
      "Epoch 210 | GCN MSE Loss: 3.9103 | NRF Loss: 2.6935 | JOINT Loss: 6.6038 | NRF Acc: 0.7162\n"
     ]
    },
    {
     "name": "stderr",
     "output_type": "stream",
     "text": [
      "Training epochs:  21%|██        | 211/1000 [04:37<17:16,  1.31s/it]"
     ]
    },
    {
     "name": "stdout",
     "output_type": "stream",
     "text": [
      "Epoch 211 | GCN MSE Loss: 3.8831 | NRF Loss: 2.6898 | JOINT Loss: 6.5729 | NRF Acc: 0.7152\n"
     ]
    },
    {
     "name": "stderr",
     "output_type": "stream",
     "text": [
      "Training epochs:  21%|██        | 212/1000 [04:38<16:06,  1.23s/it]"
     ]
    },
    {
     "name": "stdout",
     "output_type": "stream",
     "text": [
      "Epoch 212 | GCN MSE Loss: 3.8562 | NRF Loss: 2.6861 | JOINT Loss: 6.5423 | NRF Acc: 0.7162\n"
     ]
    },
    {
     "name": "stderr",
     "output_type": "stream",
     "text": [
      "Training epochs:  21%|██▏       | 213/1000 [04:39<16:50,  1.28s/it]"
     ]
    },
    {
     "name": "stdout",
     "output_type": "stream",
     "text": [
      "Epoch 213 | GCN MSE Loss: 3.8297 | NRF Loss: 2.6824 | JOINT Loss: 6.5122 | NRF Acc: 0.7176\n"
     ]
    },
    {
     "name": "stderr",
     "output_type": "stream",
     "text": [
      "Training epochs:  21%|██▏       | 214/1000 [04:41<17:28,  1.33s/it]"
     ]
    },
    {
     "name": "stdout",
     "output_type": "stream",
     "text": [
      "Epoch 214 | GCN MSE Loss: 3.8036 | NRF Loss: 2.6787 | JOINT Loss: 6.4823 | NRF Acc: 0.7187\n"
     ]
    },
    {
     "name": "stderr",
     "output_type": "stream",
     "text": [
      "Training epochs:  22%|██▏       | 215/1000 [04:42<17:51,  1.36s/it]"
     ]
    },
    {
     "name": "stdout",
     "output_type": "stream",
     "text": [
      "Epoch 215 | GCN MSE Loss: 3.7778 | NRF Loss: 2.6751 | JOINT Loss: 6.4529 | NRF Acc: 0.7192\n"
     ]
    },
    {
     "name": "stderr",
     "output_type": "stream",
     "text": [
      "Training epochs:  22%|██▏       | 216/1000 [04:44<18:11,  1.39s/it]"
     ]
    },
    {
     "name": "stdout",
     "output_type": "stream",
     "text": [
      "Epoch 216 | GCN MSE Loss: 3.7524 | NRF Loss: 2.6714 | JOINT Loss: 6.4238 | NRF Acc: 0.7200\n"
     ]
    },
    {
     "name": "stderr",
     "output_type": "stream",
     "text": [
      "Training epochs:  22%|██▏       | 217/1000 [04:45<18:23,  1.41s/it]"
     ]
    },
    {
     "name": "stdout",
     "output_type": "stream",
     "text": [
      "Epoch 217 | GCN MSE Loss: 3.7273 | NRF Loss: 2.6678 | JOINT Loss: 6.3951 | NRF Acc: 0.7209\n"
     ]
    },
    {
     "name": "stderr",
     "output_type": "stream",
     "text": [
      "Training epochs:  22%|██▏       | 218/1000 [04:47<18:29,  1.42s/it]"
     ]
    },
    {
     "name": "stdout",
     "output_type": "stream",
     "text": [
      "Epoch 218 | GCN MSE Loss: 3.7025 | NRF Loss: 2.6642 | JOINT Loss: 6.3667 | NRF Acc: 0.7216\n"
     ]
    },
    {
     "name": "stderr",
     "output_type": "stream",
     "text": [
      "Training epochs:  22%|██▏       | 219/1000 [04:48<18:23,  1.41s/it]"
     ]
    },
    {
     "name": "stdout",
     "output_type": "stream",
     "text": [
      "Epoch 219 | GCN MSE Loss: 3.6781 | NRF Loss: 2.6605 | JOINT Loss: 6.3386 | NRF Acc: 0.7218\n"
     ]
    },
    {
     "name": "stderr",
     "output_type": "stream",
     "text": [
      "Training epochs:  22%|██▏       | 220/1000 [04:49<18:28,  1.42s/it]"
     ]
    },
    {
     "name": "stdout",
     "output_type": "stream",
     "text": [
      "Epoch 220 | GCN MSE Loss: 3.6539 | NRF Loss: 2.6570 | JOINT Loss: 6.3109 | NRF Acc: 0.7221\n"
     ]
    },
    {
     "name": "stderr",
     "output_type": "stream",
     "text": [
      "Training epochs:  22%|██▏       | 221/1000 [04:51<18:29,  1.42s/it]"
     ]
    },
    {
     "name": "stdout",
     "output_type": "stream",
     "text": [
      "Epoch 221 | GCN MSE Loss: 3.6301 | NRF Loss: 2.6534 | JOINT Loss: 6.2835 | NRF Acc: 0.7230\n"
     ]
    },
    {
     "name": "stderr",
     "output_type": "stream",
     "text": [
      "Training epochs:  22%|██▏       | 222/1000 [04:52<16:53,  1.30s/it]"
     ]
    },
    {
     "name": "stdout",
     "output_type": "stream",
     "text": [
      "Epoch 222 | GCN MSE Loss: 3.6066 | NRF Loss: 2.6498 | JOINT Loss: 6.2564 | NRF Acc: 0.7228\n"
     ]
    },
    {
     "name": "stderr",
     "output_type": "stream",
     "text": [
      "Training epochs:  22%|██▏       | 223/1000 [04:53<17:25,  1.35s/it]"
     ]
    },
    {
     "name": "stdout",
     "output_type": "stream",
     "text": [
      "Epoch 223 | GCN MSE Loss: 3.5834 | NRF Loss: 2.6463 | JOINT Loss: 6.2297 | NRF Acc: 0.7237\n"
     ]
    },
    {
     "name": "stderr",
     "output_type": "stream",
     "text": [
      "Training epochs:  22%|██▏       | 224/1000 [04:55<17:52,  1.38s/it]"
     ]
    },
    {
     "name": "stdout",
     "output_type": "stream",
     "text": [
      "Epoch 224 | GCN MSE Loss: 3.5605 | NRF Loss: 2.6427 | JOINT Loss: 6.2033 | NRF Acc: 0.7239\n"
     ]
    },
    {
     "name": "stderr",
     "output_type": "stream",
     "text": [
      "Training epochs:  22%|██▎       | 225/1000 [04:56<16:27,  1.27s/it]"
     ]
    },
    {
     "name": "stdout",
     "output_type": "stream",
     "text": [
      "Epoch 225 | GCN MSE Loss: 3.5380 | NRF Loss: 2.6392 | JOINT Loss: 6.1772 | NRF Acc: 0.7235\n"
     ]
    },
    {
     "name": "stderr",
     "output_type": "stream",
     "text": [
      "Training epochs:  23%|██▎       | 226/1000 [04:57<15:27,  1.20s/it]"
     ]
    },
    {
     "name": "stdout",
     "output_type": "stream",
     "text": [
      "Epoch 226 | GCN MSE Loss: 3.5157 | NRF Loss: 2.6357 | JOINT Loss: 6.1514 | NRF Acc: 0.7235\n"
     ]
    },
    {
     "name": "stderr",
     "output_type": "stream",
     "text": [
      "Training epochs:  23%|██▎       | 227/1000 [04:58<16:23,  1.27s/it]"
     ]
    },
    {
     "name": "stdout",
     "output_type": "stream",
     "text": [
      "Epoch 227 | GCN MSE Loss: 3.4937 | NRF Loss: 2.6322 | JOINT Loss: 6.1259 | NRF Acc: 0.7245\n"
     ]
    },
    {
     "name": "stderr",
     "output_type": "stream",
     "text": [
      "Training epochs:  23%|██▎       | 228/1000 [04:59<15:23,  1.20s/it]"
     ]
    },
    {
     "name": "stdout",
     "output_type": "stream",
     "text": [
      "Epoch 228 | GCN MSE Loss: 3.4720 | NRF Loss: 2.6287 | JOINT Loss: 6.1008 | NRF Acc: 0.7244\n"
     ]
    },
    {
     "name": "stderr",
     "output_type": "stream",
     "text": [
      "Training epochs:  23%|██▎       | 229/1000 [05:01<16:14,  1.26s/it]"
     ]
    },
    {
     "name": "stdout",
     "output_type": "stream",
     "text": [
      "Epoch 229 | GCN MSE Loss: 3.4506 | NRF Loss: 2.6253 | JOINT Loss: 6.0759 | NRF Acc: 0.7251\n"
     ]
    },
    {
     "name": "stderr",
     "output_type": "stream",
     "text": [
      "Training epochs:  23%|██▎       | 230/1000 [05:02<15:16,  1.19s/it]"
     ]
    },
    {
     "name": "stdout",
     "output_type": "stream",
     "text": [
      "Epoch 230 | GCN MSE Loss: 3.4295 | NRF Loss: 2.6218 | JOINT Loss: 6.0514 | NRF Acc: 0.7245\n"
     ]
    },
    {
     "name": "stderr",
     "output_type": "stream",
     "text": [
      "Training epochs:  23%|██▎       | 231/1000 [05:03<14:37,  1.14s/it]"
     ]
    },
    {
     "name": "stdout",
     "output_type": "stream",
     "text": [
      "Epoch 231 | GCN MSE Loss: 3.4087 | NRF Loss: 2.6184 | JOINT Loss: 6.0271 | NRF Acc: 0.7240\n"
     ]
    },
    {
     "name": "stderr",
     "output_type": "stream",
     "text": [
      "Training epochs:  23%|██▎       | 232/1000 [05:04<14:09,  1.11s/it]"
     ]
    },
    {
     "name": "stdout",
     "output_type": "stream",
     "text": [
      "Epoch 232 | GCN MSE Loss: 3.3882 | NRF Loss: 2.6150 | JOINT Loss: 6.0031 | NRF Acc: 0.7244\n"
     ]
    },
    {
     "name": "stderr",
     "output_type": "stream",
     "text": [
      "Training epochs:  23%|██▎       | 233/1000 [05:05<13:48,  1.08s/it]"
     ]
    },
    {
     "name": "stdout",
     "output_type": "stream",
     "text": [
      "Epoch 233 | GCN MSE Loss: 3.3679 | NRF Loss: 2.6116 | JOINT Loss: 5.9795 | NRF Acc: 0.7244\n"
     ]
    },
    {
     "name": "stderr",
     "output_type": "stream",
     "text": [
      "Training epochs:  23%|██▎       | 234/1000 [05:06<13:33,  1.06s/it]"
     ]
    },
    {
     "name": "stdout",
     "output_type": "stream",
     "text": [
      "Epoch 234 | GCN MSE Loss: 3.3479 | NRF Loss: 2.6082 | JOINT Loss: 5.9561 | NRF Acc: 0.7247\n"
     ]
    },
    {
     "name": "stderr",
     "output_type": "stream",
     "text": [
      "Training epochs:  24%|██▎       | 235/1000 [05:07<14:54,  1.17s/it]"
     ]
    },
    {
     "name": "stdout",
     "output_type": "stream",
     "text": [
      "Epoch 235 | GCN MSE Loss: 3.3282 | NRF Loss: 2.6048 | JOINT Loss: 5.9330 | NRF Acc: 0.7252\n"
     ]
    },
    {
     "name": "stderr",
     "output_type": "stream",
     "text": [
      "Training epochs:  24%|██▎       | 236/1000 [05:09<15:55,  1.25s/it]"
     ]
    },
    {
     "name": "stdout",
     "output_type": "stream",
     "text": [
      "Epoch 236 | GCN MSE Loss: 3.3087 | NRF Loss: 2.6015 | JOINT Loss: 5.9102 | NRF Acc: 0.7256\n"
     ]
    },
    {
     "name": "stderr",
     "output_type": "stream",
     "text": [
      "Training epochs:  24%|██▎       | 237/1000 [05:10<15:01,  1.18s/it]"
     ]
    },
    {
     "name": "stdout",
     "output_type": "stream",
     "text": [
      "Epoch 237 | GCN MSE Loss: 3.2895 | NRF Loss: 2.5981 | JOINT Loss: 5.8877 | NRF Acc: 0.7254\n"
     ]
    },
    {
     "name": "stderr",
     "output_type": "stream",
     "text": [
      "Training epochs:  24%|██▍       | 238/1000 [05:11<15:53,  1.25s/it]"
     ]
    },
    {
     "name": "stdout",
     "output_type": "stream",
     "text": [
      "Epoch 238 | GCN MSE Loss: 3.2706 | NRF Loss: 2.5948 | JOINT Loss: 5.8654 | NRF Acc: 0.7258\n"
     ]
    },
    {
     "name": "stderr",
     "output_type": "stream",
     "text": [
      "Training epochs:  24%|██▍       | 239/1000 [05:12<15:00,  1.18s/it]"
     ]
    },
    {
     "name": "stdout",
     "output_type": "stream",
     "text": [
      "Epoch 239 | GCN MSE Loss: 3.2519 | NRF Loss: 2.5915 | JOINT Loss: 5.8434 | NRF Acc: 0.7256\n"
     ]
    },
    {
     "name": "stderr",
     "output_type": "stream",
     "text": [
      "Training epochs:  24%|██▍       | 240/1000 [05:14<15:53,  1.25s/it]"
     ]
    },
    {
     "name": "stdout",
     "output_type": "stream",
     "text": [
      "Epoch 240 | GCN MSE Loss: 3.2335 | NRF Loss: 2.5882 | JOINT Loss: 5.8217 | NRF Acc: 0.7261\n"
     ]
    },
    {
     "name": "stderr",
     "output_type": "stream",
     "text": [
      "Training epochs:  24%|██▍       | 241/1000 [05:15<14:59,  1.19s/it]"
     ]
    },
    {
     "name": "stdout",
     "output_type": "stream",
     "text": [
      "Epoch 241 | GCN MSE Loss: 3.2154 | NRF Loss: 2.5849 | JOINT Loss: 5.8003 | NRF Acc: 0.7261\n"
     ]
    },
    {
     "name": "stderr",
     "output_type": "stream",
     "text": [
      "Training epochs:  24%|██▍       | 242/1000 [05:16<15:58,  1.27s/it]"
     ]
    },
    {
     "name": "stdout",
     "output_type": "stream",
     "text": [
      "Epoch 242 | GCN MSE Loss: 3.1975 | NRF Loss: 2.5816 | JOINT Loss: 5.7791 | NRF Acc: 0.7268\n"
     ]
    },
    {
     "name": "stderr",
     "output_type": "stream",
     "text": [
      "Training epochs:  24%|██▍       | 243/1000 [05:17<16:41,  1.32s/it]"
     ]
    },
    {
     "name": "stdout",
     "output_type": "stream",
     "text": [
      "Epoch 243 | GCN MSE Loss: 3.1798 | NRF Loss: 2.5784 | JOINT Loss: 5.7582 | NRF Acc: 0.7280\n"
     ]
    },
    {
     "name": "stderr",
     "output_type": "stream",
     "text": [
      "Training epochs:  24%|██▍       | 244/1000 [05:18<15:31,  1.23s/it]"
     ]
    },
    {
     "name": "stdout",
     "output_type": "stream",
     "text": [
      "Epoch 244 | GCN MSE Loss: 3.1624 | NRF Loss: 2.5751 | JOINT Loss: 5.7375 | NRF Acc: 0.7278\n"
     ]
    },
    {
     "name": "stderr",
     "output_type": "stream",
     "text": [
      "Training epochs:  24%|██▍       | 245/1000 [05:19<14:43,  1.17s/it]"
     ]
    },
    {
     "name": "stdout",
     "output_type": "stream",
     "text": [
      "Epoch 245 | GCN MSE Loss: 3.1452 | NRF Loss: 2.5719 | JOINT Loss: 5.7171 | NRF Acc: 0.7278\n"
     ]
    },
    {
     "name": "stderr",
     "output_type": "stream",
     "text": [
      "Training epochs:  25%|██▍       | 246/1000 [05:21<15:46,  1.25s/it]"
     ]
    },
    {
     "name": "stdout",
     "output_type": "stream",
     "text": [
      "Epoch 246 | GCN MSE Loss: 3.1283 | NRF Loss: 2.5687 | JOINT Loss: 5.6970 | NRF Acc: 0.7284\n"
     ]
    },
    {
     "name": "stderr",
     "output_type": "stream",
     "text": [
      "Training epochs:  25%|██▍       | 247/1000 [05:22<16:28,  1.31s/it]"
     ]
    },
    {
     "name": "stdout",
     "output_type": "stream",
     "text": [
      "Epoch 247 | GCN MSE Loss: 3.1116 | NRF Loss: 2.5655 | JOINT Loss: 5.6771 | NRF Acc: 0.7287\n"
     ]
    },
    {
     "name": "stderr",
     "output_type": "stream",
     "text": [
      "Training epochs:  25%|██▍       | 248/1000 [05:24<16:56,  1.35s/it]"
     ]
    },
    {
     "name": "stdout",
     "output_type": "stream",
     "text": [
      "Epoch 248 | GCN MSE Loss: 3.0951 | NRF Loss: 2.5623 | JOINT Loss: 5.6574 | NRF Acc: 0.7289\n"
     ]
    },
    {
     "name": "stderr",
     "output_type": "stream",
     "text": [
      "Training epochs:  25%|██▍       | 249/1000 [05:25<17:17,  1.38s/it]"
     ]
    },
    {
     "name": "stdout",
     "output_type": "stream",
     "text": [
      "Epoch 249 | GCN MSE Loss: 3.0789 | NRF Loss: 2.5591 | JOINT Loss: 5.6380 | NRF Acc: 0.7296\n"
     ]
    },
    {
     "name": "stderr",
     "output_type": "stream",
     "text": [
      "Training epochs:  25%|██▌       | 250/1000 [05:26<15:55,  1.27s/it]"
     ]
    },
    {
     "name": "stdout",
     "output_type": "stream",
     "text": [
      "Epoch 250 | GCN MSE Loss: 3.0629 | NRF Loss: 2.5559 | JOINT Loss: 5.6188 | NRF Acc: 0.7296\n"
     ]
    },
    {
     "name": "stderr",
     "output_type": "stream",
     "text": [
      "Training epochs:  25%|██▌       | 251/1000 [05:28<16:27,  1.32s/it]"
     ]
    },
    {
     "name": "stdout",
     "output_type": "stream",
     "text": [
      "Epoch 251 | GCN MSE Loss: 3.0471 | NRF Loss: 2.5527 | JOINT Loss: 5.5998 | NRF Acc: 0.7297\n"
     ]
    },
    {
     "name": "stderr",
     "output_type": "stream",
     "text": [
      "Training epochs:  25%|██▌       | 252/1000 [05:29<16:53,  1.35s/it]"
     ]
    },
    {
     "name": "stdout",
     "output_type": "stream",
     "text": [
      "Epoch 252 | GCN MSE Loss: 3.0315 | NRF Loss: 2.5496 | JOINT Loss: 5.5811 | NRF Acc: 0.7299\n"
     ]
    },
    {
     "name": "stderr",
     "output_type": "stream",
     "text": [
      "Training epochs:  25%|██▌       | 253/1000 [05:31<17:14,  1.38s/it]"
     ]
    },
    {
     "name": "stdout",
     "output_type": "stream",
     "text": [
      "Epoch 253 | GCN MSE Loss: 3.0162 | NRF Loss: 2.5464 | JOINT Loss: 5.5626 | NRF Acc: 0.7303\n"
     ]
    },
    {
     "name": "stderr",
     "output_type": "stream",
     "text": [
      "Training epochs:  25%|██▌       | 254/1000 [05:32<17:27,  1.40s/it]"
     ]
    },
    {
     "name": "stdout",
     "output_type": "stream",
     "text": [
      "Epoch 254 | GCN MSE Loss: 3.0011 | NRF Loss: 2.5433 | JOINT Loss: 5.5443 | NRF Acc: 0.7310\n"
     ]
    },
    {
     "name": "stderr",
     "output_type": "stream",
     "text": [
      "Training epochs:  26%|██▌       | 255/1000 [05:34<17:34,  1.42s/it]"
     ]
    },
    {
     "name": "stdout",
     "output_type": "stream",
     "text": [
      "Epoch 255 | GCN MSE Loss: 2.9861 | NRF Loss: 2.5402 | JOINT Loss: 5.5263 | NRF Acc: 0.7318\n"
     ]
    },
    {
     "name": "stderr",
     "output_type": "stream",
     "text": [
      "Training epochs:  26%|██▌       | 256/1000 [05:35<17:40,  1.43s/it]"
     ]
    },
    {
     "name": "stdout",
     "output_type": "stream",
     "text": [
      "Epoch 256 | GCN MSE Loss: 2.9714 | NRF Loss: 2.5370 | JOINT Loss: 5.5085 | NRF Acc: 0.7322\n"
     ]
    },
    {
     "name": "stderr",
     "output_type": "stream",
     "text": [
      "Training epochs:  26%|██▌       | 257/1000 [05:36<16:08,  1.30s/it]"
     ]
    },
    {
     "name": "stdout",
     "output_type": "stream",
     "text": [
      "Epoch 257 | GCN MSE Loss: 2.9569 | NRF Loss: 2.5339 | JOINT Loss: 5.4909 | NRF Acc: 0.7322\n"
     ]
    },
    {
     "name": "stderr",
     "output_type": "stream",
     "text": [
      "Training epochs:  26%|██▌       | 258/1000 [05:37<16:36,  1.34s/it]"
     ]
    },
    {
     "name": "stdout",
     "output_type": "stream",
     "text": [
      "Epoch 258 | GCN MSE Loss: 2.9426 | NRF Loss: 2.5309 | JOINT Loss: 5.4735 | NRF Acc: 0.7327\n"
     ]
    },
    {
     "name": "stderr",
     "output_type": "stream",
     "text": [
      "Training epochs:  26%|██▌       | 259/1000 [05:39<16:53,  1.37s/it]"
     ]
    },
    {
     "name": "stdout",
     "output_type": "stream",
     "text": [
      "Epoch 259 | GCN MSE Loss: 2.9285 | NRF Loss: 2.5278 | JOINT Loss: 5.4563 | NRF Acc: 0.7330\n"
     ]
    },
    {
     "name": "stderr",
     "output_type": "stream",
     "text": [
      "Training epochs:  26%|██▌       | 260/1000 [05:40<17:12,  1.40s/it]"
     ]
    },
    {
     "name": "stdout",
     "output_type": "stream",
     "text": [
      "Epoch 260 | GCN MSE Loss: 2.9146 | NRF Loss: 2.5247 | JOINT Loss: 5.4393 | NRF Acc: 0.7332\n"
     ]
    },
    {
     "name": "stderr",
     "output_type": "stream",
     "text": [
      "Training epochs:  26%|██▌       | 261/1000 [05:41<15:46,  1.28s/it]"
     ]
    },
    {
     "name": "stdout",
     "output_type": "stream",
     "text": [
      "Epoch 261 | GCN MSE Loss: 2.9009 | NRF Loss: 2.5217 | JOINT Loss: 5.4225 | NRF Acc: 0.7330\n"
     ]
    },
    {
     "name": "stderr",
     "output_type": "stream",
     "text": [
      "Training epochs:  26%|██▌       | 262/1000 [05:43<16:17,  1.33s/it]"
     ]
    },
    {
     "name": "stdout",
     "output_type": "stream",
     "text": [
      "Epoch 262 | GCN MSE Loss: 2.8873 | NRF Loss: 2.5186 | JOINT Loss: 5.4060 | NRF Acc: 0.7334\n"
     ]
    },
    {
     "name": "stderr",
     "output_type": "stream",
     "text": [
      "Training epochs:  26%|██▋       | 263/1000 [05:44<16:39,  1.36s/it]"
     ]
    },
    {
     "name": "stdout",
     "output_type": "stream",
     "text": [
      "Epoch 263 | GCN MSE Loss: 2.8740 | NRF Loss: 2.5156 | JOINT Loss: 5.3896 | NRF Acc: 0.7341\n"
     ]
    },
    {
     "name": "stderr",
     "output_type": "stream",
     "text": [
      "Training epochs:  26%|██▋       | 264/1000 [05:46<16:54,  1.38s/it]"
     ]
    },
    {
     "name": "stdout",
     "output_type": "stream",
     "text": [
      "Epoch 264 | GCN MSE Loss: 2.8608 | NRF Loss: 2.5125 | JOINT Loss: 5.3734 | NRF Acc: 0.7344\n"
     ]
    },
    {
     "name": "stderr",
     "output_type": "stream",
     "text": [
      "Training epochs:  26%|██▋       | 265/1000 [05:47<17:03,  1.39s/it]"
     ]
    },
    {
     "name": "stdout",
     "output_type": "stream",
     "text": [
      "Epoch 265 | GCN MSE Loss: 2.8478 | NRF Loss: 2.5095 | JOINT Loss: 5.3573 | NRF Acc: 0.7348\n"
     ]
    },
    {
     "name": "stderr",
     "output_type": "stream",
     "text": [
      "Training epochs:  27%|██▋       | 266/1000 [05:48<17:12,  1.41s/it]"
     ]
    },
    {
     "name": "stdout",
     "output_type": "stream",
     "text": [
      "Epoch 266 | GCN MSE Loss: 2.8350 | NRF Loss: 2.5065 | JOINT Loss: 5.3415 | NRF Acc: 0.7349\n"
     ]
    },
    {
     "name": "stderr",
     "output_type": "stream",
     "text": [
      "Training epochs:  27%|██▋       | 267/1000 [05:49<15:47,  1.29s/it]"
     ]
    },
    {
     "name": "stdout",
     "output_type": "stream",
     "text": [
      "Epoch 267 | GCN MSE Loss: 2.8224 | NRF Loss: 2.5035 | JOINT Loss: 5.3259 | NRF Acc: 0.7349\n"
     ]
    },
    {
     "name": "stderr",
     "output_type": "stream",
     "text": [
      "Training epochs:  27%|██▋       | 268/1000 [05:51<16:12,  1.33s/it]"
     ]
    },
    {
     "name": "stdout",
     "output_type": "stream",
     "text": [
      "Epoch 268 | GCN MSE Loss: 2.8099 | NRF Loss: 2.5005 | JOINT Loss: 5.3104 | NRF Acc: 0.7353\n"
     ]
    },
    {
     "name": "stderr",
     "output_type": "stream",
     "text": [
      "Training epochs:  27%|██▋       | 269/1000 [05:52<16:32,  1.36s/it]"
     ]
    },
    {
     "name": "stdout",
     "output_type": "stream",
     "text": [
      "Epoch 269 | GCN MSE Loss: 2.7976 | NRF Loss: 2.4975 | JOINT Loss: 5.2951 | NRF Acc: 0.7355\n"
     ]
    },
    {
     "name": "stderr",
     "output_type": "stream",
     "text": [
      "Training epochs:  27%|██▋       | 270/1000 [05:53<15:18,  1.26s/it]"
     ]
    },
    {
     "name": "stdout",
     "output_type": "stream",
     "text": [
      "Epoch 270 | GCN MSE Loss: 2.7855 | NRF Loss: 2.4946 | JOINT Loss: 5.2800 | NRF Acc: 0.7355\n"
     ]
    },
    {
     "name": "stderr",
     "output_type": "stream",
     "text": [
      "Training epochs:  27%|██▋       | 271/1000 [05:55<15:59,  1.32s/it]"
     ]
    },
    {
     "name": "stdout",
     "output_type": "stream",
     "text": [
      "Epoch 271 | GCN MSE Loss: 2.7735 | NRF Loss: 2.4916 | JOINT Loss: 5.2651 | NRF Acc: 0.7360\n"
     ]
    },
    {
     "name": "stderr",
     "output_type": "stream",
     "text": [
      "Training epochs:  27%|██▋       | 272/1000 [05:56<14:54,  1.23s/it]"
     ]
    },
    {
     "name": "stdout",
     "output_type": "stream",
     "text": [
      "Epoch 272 | GCN MSE Loss: 2.7617 | NRF Loss: 2.4887 | JOINT Loss: 5.2503 | NRF Acc: 0.7358\n"
     ]
    },
    {
     "name": "stderr",
     "output_type": "stream",
     "text": [
      "Training epochs:  27%|██▋       | 273/1000 [05:57<14:08,  1.17s/it]"
     ]
    },
    {
     "name": "stdout",
     "output_type": "stream",
     "text": [
      "Epoch 273 | GCN MSE Loss: 2.7500 | NRF Loss: 2.4857 | JOINT Loss: 5.2357 | NRF Acc: 0.7360\n"
     ]
    },
    {
     "name": "stderr",
     "output_type": "stream",
     "text": [
      "Training epochs:  27%|██▋       | 274/1000 [05:58<13:35,  1.12s/it]"
     ]
    },
    {
     "name": "stdout",
     "output_type": "stream",
     "text": [
      "Epoch 274 | GCN MSE Loss: 2.7385 | NRF Loss: 2.4828 | JOINT Loss: 5.2213 | NRF Acc: 0.7360\n"
     ]
    },
    {
     "name": "stderr",
     "output_type": "stream",
     "text": [
      "Training epochs:  28%|██▊       | 275/1000 [05:59<14:45,  1.22s/it]"
     ]
    },
    {
     "name": "stdout",
     "output_type": "stream",
     "text": [
      "Epoch 275 | GCN MSE Loss: 2.7272 | NRF Loss: 2.4799 | JOINT Loss: 5.2071 | NRF Acc: 0.7363\n"
     ]
    },
    {
     "name": "stderr",
     "output_type": "stream",
     "text": [
      "Training epochs:  28%|██▊       | 276/1000 [06:00<14:00,  1.16s/it]"
     ]
    },
    {
     "name": "stdout",
     "output_type": "stream",
     "text": [
      "Epoch 276 | GCN MSE Loss: 2.7160 | NRF Loss: 2.4770 | JOINT Loss: 5.1930 | NRF Acc: 0.7361\n"
     ]
    },
    {
     "name": "stderr",
     "output_type": "stream",
     "text": [
      "Training epochs:  28%|██▊       | 277/1000 [06:01<13:29,  1.12s/it]"
     ]
    },
    {
     "name": "stdout",
     "output_type": "stream",
     "text": [
      "Epoch 277 | GCN MSE Loss: 2.7049 | NRF Loss: 2.4741 | JOINT Loss: 5.1790 | NRF Acc: 0.7361\n"
     ]
    },
    {
     "name": "stderr",
     "output_type": "stream",
     "text": [
      "Training epochs:  28%|██▊       | 278/1000 [06:03<14:40,  1.22s/it]"
     ]
    },
    {
     "name": "stdout",
     "output_type": "stream",
     "text": [
      "Epoch 278 | GCN MSE Loss: 2.6940 | NRF Loss: 2.4712 | JOINT Loss: 5.1652 | NRF Acc: 0.7365\n"
     ]
    },
    {
     "name": "stderr",
     "output_type": "stream",
     "text": [
      "Training epochs:  28%|██▊       | 279/1000 [06:04<15:28,  1.29s/it]"
     ]
    },
    {
     "name": "stdout",
     "output_type": "stream",
     "text": [
      "Epoch 279 | GCN MSE Loss: 2.6833 | NRF Loss: 2.4683 | JOINT Loss: 5.1515 | NRF Acc: 0.7368\n"
     ]
    },
    {
     "name": "stderr",
     "output_type": "stream",
     "text": [
      "Training epochs:  28%|██▊       | 280/1000 [06:05<14:30,  1.21s/it]"
     ]
    },
    {
     "name": "stdout",
     "output_type": "stream",
     "text": [
      "Epoch 280 | GCN MSE Loss: 2.6726 | NRF Loss: 2.4654 | JOINT Loss: 5.1380 | NRF Acc: 0.7368\n"
     ]
    },
    {
     "name": "stderr",
     "output_type": "stream",
     "text": [
      "Training epochs:  28%|██▊       | 281/1000 [06:07<15:17,  1.28s/it]"
     ]
    },
    {
     "name": "stdout",
     "output_type": "stream",
     "text": [
      "Epoch 281 | GCN MSE Loss: 2.6621 | NRF Loss: 2.4625 | JOINT Loss: 5.1247 | NRF Acc: 0.7375\n"
     ]
    },
    {
     "name": "stderr",
     "output_type": "stream",
     "text": [
      "Training epochs:  28%|██▊       | 282/1000 [06:08<14:20,  1.20s/it]"
     ]
    },
    {
     "name": "stdout",
     "output_type": "stream",
     "text": [
      "Epoch 282 | GCN MSE Loss: 2.6518 | NRF Loss: 2.4597 | JOINT Loss: 5.1115 | NRF Acc: 0.7375\n"
     ]
    },
    {
     "name": "stderr",
     "output_type": "stream",
     "text": [
      "Training epochs:  28%|██▊       | 283/1000 [06:09<15:11,  1.27s/it]"
     ]
    },
    {
     "name": "stdout",
     "output_type": "stream",
     "text": [
      "Epoch 283 | GCN MSE Loss: 2.6415 | NRF Loss: 2.4568 | JOINT Loss: 5.0984 | NRF Acc: 0.7379\n"
     ]
    },
    {
     "name": "stderr",
     "output_type": "stream",
     "text": [
      "Training epochs:  28%|██▊       | 284/1000 [06:11<15:48,  1.32s/it]"
     ]
    },
    {
     "name": "stdout",
     "output_type": "stream",
     "text": [
      "Epoch 284 | GCN MSE Loss: 2.6315 | NRF Loss: 2.4540 | JOINT Loss: 5.0855 | NRF Acc: 0.7381\n"
     ]
    },
    {
     "name": "stderr",
     "output_type": "stream",
     "text": [
      "Training epochs:  28%|██▊       | 285/1000 [06:12<16:13,  1.36s/it]"
     ]
    },
    {
     "name": "stdout",
     "output_type": "stream",
     "text": [
      "Epoch 285 | GCN MSE Loss: 2.6215 | NRF Loss: 2.4512 | JOINT Loss: 5.0727 | NRF Acc: 0.7384\n"
     ]
    },
    {
     "name": "stderr",
     "output_type": "stream",
     "text": [
      "Training epochs:  29%|██▊       | 286/1000 [06:13<14:59,  1.26s/it]"
     ]
    },
    {
     "name": "stdout",
     "output_type": "stream",
     "text": [
      "Epoch 286 | GCN MSE Loss: 2.6117 | NRF Loss: 2.4483 | JOINT Loss: 5.0600 | NRF Acc: 0.7384\n"
     ]
    },
    {
     "name": "stderr",
     "output_type": "stream",
     "text": [
      "Training epochs:  29%|██▊       | 287/1000 [06:15<15:29,  1.30s/it]"
     ]
    },
    {
     "name": "stdout",
     "output_type": "stream",
     "text": [
      "Epoch 287 | GCN MSE Loss: 2.6020 | NRF Loss: 2.4455 | JOINT Loss: 5.0475 | NRF Acc: 0.7387\n"
     ]
    },
    {
     "name": "stderr",
     "output_type": "stream",
     "text": [
      "Training epochs:  29%|██▉       | 288/1000 [06:16<14:28,  1.22s/it]"
     ]
    },
    {
     "name": "stdout",
     "output_type": "stream",
     "text": [
      "Epoch 288 | GCN MSE Loss: 2.5924 | NRF Loss: 2.4427 | JOINT Loss: 5.0351 | NRF Acc: 0.7387\n"
     ]
    },
    {
     "name": "stderr",
     "output_type": "stream",
     "text": [
      "Training epochs:  29%|██▉       | 289/1000 [06:17<13:45,  1.16s/it]"
     ]
    },
    {
     "name": "stdout",
     "output_type": "stream",
     "text": [
      "Epoch 289 | GCN MSE Loss: 2.5830 | NRF Loss: 2.4399 | JOINT Loss: 5.0229 | NRF Acc: 0.7386\n"
     ]
    },
    {
     "name": "stderr",
     "output_type": "stream",
     "text": [
      "Training epochs:  29%|██▉       | 290/1000 [06:18<13:16,  1.12s/it]"
     ]
    },
    {
     "name": "stdout",
     "output_type": "stream",
     "text": [
      "Epoch 290 | GCN MSE Loss: 2.5736 | NRF Loss: 2.4371 | JOINT Loss: 5.0108 | NRF Acc: 0.7387\n"
     ]
    },
    {
     "name": "stderr",
     "output_type": "stream",
     "text": [
      "Training epochs:  29%|██▉       | 291/1000 [06:19<12:55,  1.09s/it]"
     ]
    },
    {
     "name": "stdout",
     "output_type": "stream",
     "text": [
      "Epoch 291 | GCN MSE Loss: 2.5644 | NRF Loss: 2.4344 | JOINT Loss: 4.9988 | NRF Acc: 0.7386\n"
     ]
    },
    {
     "name": "stderr",
     "output_type": "stream",
     "text": [
      "Training epochs:  29%|██▉       | 292/1000 [06:20<12:39,  1.07s/it]"
     ]
    },
    {
     "name": "stdout",
     "output_type": "stream",
     "text": [
      "Epoch 292 | GCN MSE Loss: 2.5553 | NRF Loss: 2.4316 | JOINT Loss: 4.9869 | NRF Acc: 0.7387\n"
     ]
    },
    {
     "name": "stderr",
     "output_type": "stream",
     "text": [
      "Training epochs:  29%|██▉       | 293/1000 [06:21<13:42,  1.16s/it]"
     ]
    },
    {
     "name": "stdout",
     "output_type": "stream",
     "text": [
      "Epoch 293 | GCN MSE Loss: 2.5464 | NRF Loss: 2.4288 | JOINT Loss: 4.9752 | NRF Acc: 0.7393\n"
     ]
    },
    {
     "name": "stderr",
     "output_type": "stream",
     "text": [
      "Training epochs:  29%|██▉       | 294/1000 [06:22<14:34,  1.24s/it]"
     ]
    },
    {
     "name": "stdout",
     "output_type": "stream",
     "text": [
      "Epoch 294 | GCN MSE Loss: 2.5375 | NRF Loss: 2.4260 | JOINT Loss: 4.9636 | NRF Acc: 0.7394\n"
     ]
    },
    {
     "name": "stderr",
     "output_type": "stream",
     "text": [
      "Training epochs:  30%|██▉       | 295/1000 [06:24<15:12,  1.29s/it]"
     ]
    },
    {
     "name": "stdout",
     "output_type": "stream",
     "text": [
      "Epoch 295 | GCN MSE Loss: 2.5288 | NRF Loss: 2.4233 | JOINT Loss: 4.9520 | NRF Acc: 0.7400\n"
     ]
    },
    {
     "name": "stderr",
     "output_type": "stream",
     "text": [
      "Training epochs:  30%|██▉       | 296/1000 [06:24<12:54,  1.10s/it]"
     ]
    },
    {
     "name": "stdout",
     "output_type": "stream",
     "text": [
      "Epoch 296 | GCN MSE Loss: 2.5201 | NRF Loss: 2.4205 | JOINT Loss: 4.9407 | NRF Acc: 0.7400\n"
     ]
    },
    {
     "name": "stderr",
     "output_type": "stream",
     "text": [
      "Training epochs:  30%|██▉       | 297/1000 [06:26<13:43,  1.17s/it]"
     ]
    },
    {
     "name": "stdout",
     "output_type": "stream",
     "text": [
      "Epoch 297 | GCN MSE Loss: 2.5116 | NRF Loss: 2.4178 | JOINT Loss: 4.9294 | NRF Acc: 0.7401\n"
     ]
    },
    {
     "name": "stderr",
     "output_type": "stream",
     "text": [
      "Training epochs:  30%|██▉       | 298/1000 [06:27<13:09,  1.12s/it]"
     ]
    },
    {
     "name": "stdout",
     "output_type": "stream",
     "text": [
      "Epoch 298 | GCN MSE Loss: 2.5032 | NRF Loss: 2.4151 | JOINT Loss: 4.9182 | NRF Acc: 0.7401\n"
     ]
    },
    {
     "name": "stderr",
     "output_type": "stream",
     "text": [
      "Training epochs:  30%|██▉       | 299/1000 [06:28<14:07,  1.21s/it]"
     ]
    },
    {
     "name": "stdout",
     "output_type": "stream",
     "text": [
      "Epoch 299 | GCN MSE Loss: 2.4948 | NRF Loss: 2.4123 | JOINT Loss: 4.9072 | NRF Acc: 0.7403\n"
     ]
    },
    {
     "name": "stderr",
     "output_type": "stream",
     "text": [
      "Training epochs:  30%|███       | 300/1000 [06:30<14:47,  1.27s/it]"
     ]
    },
    {
     "name": "stdout",
     "output_type": "stream",
     "text": [
      "Epoch 300 | GCN MSE Loss: 2.4866 | NRF Loss: 2.4096 | JOINT Loss: 4.8962 | NRF Acc: 0.7410\n"
     ]
    },
    {
     "name": "stderr",
     "output_type": "stream",
     "text": [
      "Training epochs:  30%|███       | 301/1000 [06:31<13:53,  1.19s/it]"
     ]
    },
    {
     "name": "stdout",
     "output_type": "stream",
     "text": [
      "Epoch 301 | GCN MSE Loss: 2.4785 | NRF Loss: 2.4069 | JOINT Loss: 4.8854 | NRF Acc: 0.7407\n"
     ]
    },
    {
     "name": "stderr",
     "output_type": "stream",
     "text": [
      "Training epochs:  30%|███       | 302/1000 [06:32<13:13,  1.14s/it]"
     ]
    },
    {
     "name": "stdout",
     "output_type": "stream",
     "text": [
      "Epoch 302 | GCN MSE Loss: 2.4705 | NRF Loss: 2.4042 | JOINT Loss: 4.8747 | NRF Acc: 0.7407\n"
     ]
    },
    {
     "name": "stderr",
     "output_type": "stream",
     "text": [
      "Training epochs:  30%|███       | 303/1000 [06:32<10:52,  1.07it/s]"
     ]
    },
    {
     "name": "stdout",
     "output_type": "stream",
     "text": [
      "Epoch 303 | GCN MSE Loss: 2.4626 | NRF Loss: 2.4015 | JOINT Loss: 4.8641 | NRF Acc: 0.7410\n"
     ]
    },
    {
     "name": "stderr",
     "output_type": "stream",
     "text": [
      "Training epochs:  30%|███       | 304/1000 [06:33<09:41,  1.20it/s]"
     ]
    },
    {
     "name": "stdout",
     "output_type": "stream",
     "text": [
      "Epoch 304 | GCN MSE Loss: 2.4548 | NRF Loss: 2.3989 | JOINT Loss: 4.8536 | NRF Acc: 0.7413\n"
     ]
    },
    {
     "name": "stderr",
     "output_type": "stream",
     "text": [
      "Training epochs:  30%|███       | 305/1000 [06:33<08:48,  1.31it/s]"
     ]
    },
    {
     "name": "stdout",
     "output_type": "stream",
     "text": [
      "Epoch 305 | GCN MSE Loss: 2.4471 | NRF Loss: 2.3962 | JOINT Loss: 4.8432 | NRF Acc: 0.7415\n"
     ]
    },
    {
     "name": "stderr",
     "output_type": "stream",
     "text": [
      "Training epochs:  31%|███       | 306/1000 [06:34<08:09,  1.42it/s]"
     ]
    },
    {
     "name": "stdout",
     "output_type": "stream",
     "text": [
      "Epoch 306 | GCN MSE Loss: 2.4394 | NRF Loss: 2.3935 | JOINT Loss: 4.8330 | NRF Acc: 0.7419\n"
     ]
    },
    {
     "name": "stderr",
     "output_type": "stream",
     "text": [
      "Training epochs:  31%|███       | 307/1000 [06:35<07:55,  1.46it/s]"
     ]
    },
    {
     "name": "stdout",
     "output_type": "stream",
     "text": [
      "Epoch 307 | GCN MSE Loss: 2.4319 | NRF Loss: 2.3909 | JOINT Loss: 4.8228 | NRF Acc: 0.7422\n"
     ]
    },
    {
     "name": "stderr",
     "output_type": "stream",
     "text": [
      "Training epochs:  31%|███       | 308/1000 [06:35<07:52,  1.46it/s]"
     ]
    },
    {
     "name": "stdout",
     "output_type": "stream",
     "text": [
      "Epoch 308 | GCN MSE Loss: 2.4245 | NRF Loss: 2.3882 | JOINT Loss: 4.8127 | NRF Acc: 0.7429\n"
     ]
    },
    {
     "name": "stderr",
     "output_type": "stream",
     "text": [
      "Training epochs:  31%|███       | 309/1000 [06:37<10:27,  1.10it/s]"
     ]
    },
    {
     "name": "stdout",
     "output_type": "stream",
     "text": [
      "Epoch 309 | GCN MSE Loss: 2.4171 | NRF Loss: 2.3856 | JOINT Loss: 4.8027 | NRF Acc: 0.7432\n"
     ]
    },
    {
     "name": "stderr",
     "output_type": "stream",
     "text": [
      "Training epochs:  31%|███       | 310/1000 [06:38<12:13,  1.06s/it]"
     ]
    },
    {
     "name": "stdout",
     "output_type": "stream",
     "text": [
      "Epoch 310 | GCN MSE Loss: 2.4099 | NRF Loss: 2.3829 | JOINT Loss: 4.7928 | NRF Acc: 0.7438\n"
     ]
    },
    {
     "name": "stderr",
     "output_type": "stream",
     "text": [
      "Training epochs:  31%|███       | 311/1000 [06:40<13:28,  1.17s/it]"
     ]
    },
    {
     "name": "stdout",
     "output_type": "stream",
     "text": [
      "Epoch 311 | GCN MSE Loss: 2.4027 | NRF Loss: 2.3803 | JOINT Loss: 4.7830 | NRF Acc: 0.7439\n"
     ]
    },
    {
     "name": "stderr",
     "output_type": "stream",
     "text": [
      "Training epochs:  31%|███       | 312/1000 [06:41<12:56,  1.13s/it]"
     ]
    },
    {
     "name": "stdout",
     "output_type": "stream",
     "text": [
      "Epoch 312 | GCN MSE Loss: 2.3957 | NRF Loss: 2.3777 | JOINT Loss: 4.7733 | NRF Acc: 0.7439\n"
     ]
    },
    {
     "name": "stderr",
     "output_type": "stream",
     "text": [
      "Training epochs:  31%|███▏      | 313/1000 [06:42<12:34,  1.10s/it]"
     ]
    },
    {
     "name": "stdout",
     "output_type": "stream",
     "text": [
      "Epoch 313 | GCN MSE Loss: 2.3887 | NRF Loss: 2.3750 | JOINT Loss: 4.7637 | NRF Acc: 0.7439\n"
     ]
    },
    {
     "name": "stderr",
     "output_type": "stream",
     "text": [
      "Training epochs:  31%|███▏      | 314/1000 [06:43<13:35,  1.19s/it]"
     ]
    },
    {
     "name": "stdout",
     "output_type": "stream",
     "text": [
      "Epoch 314 | GCN MSE Loss: 2.3818 | NRF Loss: 2.3724 | JOINT Loss: 4.7542 | NRF Acc: 0.7443\n"
     ]
    },
    {
     "name": "stderr",
     "output_type": "stream",
     "text": [
      "Training epochs:  32%|███▏      | 315/1000 [06:44<13:00,  1.14s/it]"
     ]
    },
    {
     "name": "stdout",
     "output_type": "stream",
     "text": [
      "Epoch 315 | GCN MSE Loss: 2.3750 | NRF Loss: 2.3698 | JOINT Loss: 4.7448 | NRF Acc: 0.7443\n"
     ]
    },
    {
     "name": "stderr",
     "output_type": "stream",
     "text": [
      "Training epochs:  32%|███▏      | 316/1000 [06:45<14:04,  1.23s/it]"
     ]
    },
    {
     "name": "stdout",
     "output_type": "stream",
     "text": [
      "Epoch 316 | GCN MSE Loss: 2.3682 | NRF Loss: 2.3672 | JOINT Loss: 4.7355 | NRF Acc: 0.7448\n"
     ]
    },
    {
     "name": "stderr",
     "output_type": "stream",
     "text": [
      "Training epochs:  32%|███▏      | 317/1000 [06:47<14:39,  1.29s/it]"
     ]
    },
    {
     "name": "stdout",
     "output_type": "stream",
     "text": [
      "Epoch 317 | GCN MSE Loss: 2.3616 | NRF Loss: 2.3646 | JOINT Loss: 4.7262 | NRF Acc: 0.7450\n"
     ]
    },
    {
     "name": "stderr",
     "output_type": "stream",
     "text": [
      "Training epochs:  32%|███▏      | 318/1000 [06:48<14:55,  1.31s/it]"
     ]
    },
    {
     "name": "stdout",
     "output_type": "stream",
     "text": [
      "Epoch 318 | GCN MSE Loss: 2.3550 | NRF Loss: 2.3620 | JOINT Loss: 4.7171 | NRF Acc: 0.7452\n"
     ]
    },
    {
     "name": "stderr",
     "output_type": "stream",
     "text": [
      "Training epochs:  32%|███▏      | 319/1000 [06:50<15:23,  1.36s/it]"
     ]
    },
    {
     "name": "stdout",
     "output_type": "stream",
     "text": [
      "Epoch 319 | GCN MSE Loss: 2.3485 | NRF Loss: 2.3595 | JOINT Loss: 4.7080 | NRF Acc: 0.7457\n"
     ]
    },
    {
     "name": "stderr",
     "output_type": "stream",
     "text": [
      "Training epochs:  32%|███▏      | 320/1000 [06:51<15:38,  1.38s/it]"
     ]
    },
    {
     "name": "stdout",
     "output_type": "stream",
     "text": [
      "Epoch 320 | GCN MSE Loss: 2.3421 | NRF Loss: 2.3569 | JOINT Loss: 4.6990 | NRF Acc: 0.7458\n"
     ]
    },
    {
     "name": "stderr",
     "output_type": "stream",
     "text": [
      "Training epochs:  32%|███▏      | 321/1000 [06:53<15:52,  1.40s/it]"
     ]
    },
    {
     "name": "stdout",
     "output_type": "stream",
     "text": [
      "Epoch 321 | GCN MSE Loss: 2.3358 | NRF Loss: 2.3543 | JOINT Loss: 4.6902 | NRF Acc: 0.7460\n"
     ]
    },
    {
     "name": "stderr",
     "output_type": "stream",
     "text": [
      "Training epochs:  32%|███▏      | 322/1000 [06:54<14:33,  1.29s/it]"
     ]
    },
    {
     "name": "stdout",
     "output_type": "stream",
     "text": [
      "Epoch 322 | GCN MSE Loss: 2.3296 | NRF Loss: 2.3518 | JOINT Loss: 4.6814 | NRF Acc: 0.7460\n"
     ]
    },
    {
     "name": "stderr",
     "output_type": "stream",
     "text": [
      "Training epochs:  32%|███▏      | 323/1000 [06:55<13:37,  1.21s/it]"
     ]
    },
    {
     "name": "stdout",
     "output_type": "stream",
     "text": [
      "Epoch 323 | GCN MSE Loss: 2.3234 | NRF Loss: 2.3492 | JOINT Loss: 4.6726 | NRF Acc: 0.7460\n"
     ]
    },
    {
     "name": "stderr",
     "output_type": "stream",
     "text": [
      "Training epochs:  32%|███▏      | 324/1000 [06:56<14:25,  1.28s/it]"
     ]
    },
    {
     "name": "stdout",
     "output_type": "stream",
     "text": [
      "Epoch 324 | GCN MSE Loss: 2.3173 | NRF Loss: 2.3467 | JOINT Loss: 4.6640 | NRF Acc: 0.7467\n"
     ]
    },
    {
     "name": "stderr",
     "output_type": "stream",
     "text": [
      "Training epochs:  32%|███▎      | 325/1000 [06:57<13:32,  1.20s/it]"
     ]
    },
    {
     "name": "stdout",
     "output_type": "stream",
     "text": [
      "Epoch 325 | GCN MSE Loss: 2.3113 | NRF Loss: 2.3441 | JOINT Loss: 4.6555 | NRF Acc: 0.7467\n"
     ]
    },
    {
     "name": "stderr",
     "output_type": "stream",
     "text": [
      "Training epochs:  33%|███▎      | 326/1000 [06:58<12:54,  1.15s/it]"
     ]
    },
    {
     "name": "stdout",
     "output_type": "stream",
     "text": [
      "Epoch 326 | GCN MSE Loss: 2.3054 | NRF Loss: 2.3416 | JOINT Loss: 4.6470 | NRF Acc: 0.7467\n"
     ]
    },
    {
     "name": "stderr",
     "output_type": "stream",
     "text": [
      "Training epochs:  33%|███▎      | 327/1000 [06:59<12:27,  1.11s/it]"
     ]
    },
    {
     "name": "stdout",
     "output_type": "stream",
     "text": [
      "Epoch 327 | GCN MSE Loss: 2.2995 | NRF Loss: 2.3391 | JOINT Loss: 4.6386 | NRF Acc: 0.7467\n"
     ]
    },
    {
     "name": "stderr",
     "output_type": "stream",
     "text": [
      "Training epochs:  33%|███▎      | 328/1000 [07:00<12:08,  1.08s/it]"
     ]
    },
    {
     "name": "stdout",
     "output_type": "stream",
     "text": [
      "Epoch 328 | GCN MSE Loss: 2.2937 | NRF Loss: 2.3366 | JOINT Loss: 4.6303 | NRF Acc: 0.7467\n"
     ]
    },
    {
     "name": "stderr",
     "output_type": "stream",
     "text": [
      "Training epochs:  33%|███▎      | 329/1000 [07:02<13:05,  1.17s/it]"
     ]
    },
    {
     "name": "stdout",
     "output_type": "stream",
     "text": [
      "Epoch 329 | GCN MSE Loss: 2.2880 | NRF Loss: 2.3341 | JOINT Loss: 4.6220 | NRF Acc: 0.7472\n"
     ]
    },
    {
     "name": "stderr",
     "output_type": "stream",
     "text": [
      "Training epochs:  33%|███▎      | 330/1000 [07:03<13:51,  1.24s/it]"
     ]
    },
    {
     "name": "stdout",
     "output_type": "stream",
     "text": [
      "Epoch 330 | GCN MSE Loss: 2.2823 | NRF Loss: 2.3316 | JOINT Loss: 4.6139 | NRF Acc: 0.7476\n"
     ]
    },
    {
     "name": "stderr",
     "output_type": "stream",
     "text": [
      "Training epochs:  33%|███▎      | 331/1000 [07:04<13:05,  1.17s/it]"
     ]
    },
    {
     "name": "stdout",
     "output_type": "stream",
     "text": [
      "Epoch 331 | GCN MSE Loss: 2.2767 | NRF Loss: 2.3291 | JOINT Loss: 4.6058 | NRF Acc: 0.7476\n"
     ]
    },
    {
     "name": "stderr",
     "output_type": "stream",
     "text": [
      "Training epochs:  33%|███▎      | 332/1000 [07:05<13:55,  1.25s/it]"
     ]
    },
    {
     "name": "stdout",
     "output_type": "stream",
     "text": [
      "Epoch 332 | GCN MSE Loss: 2.2712 | NRF Loss: 2.3266 | JOINT Loss: 4.5978 | NRF Acc: 0.7486\n"
     ]
    },
    {
     "name": "stderr",
     "output_type": "stream",
     "text": [
      "Training epochs:  33%|███▎      | 333/1000 [07:07<14:21,  1.29s/it]"
     ]
    },
    {
     "name": "stdout",
     "output_type": "stream",
     "text": [
      "Epoch 333 | GCN MSE Loss: 2.2657 | NRF Loss: 2.3241 | JOINT Loss: 4.5898 | NRF Acc: 0.7498\n"
     ]
    },
    {
     "name": "stderr",
     "output_type": "stream",
     "text": [
      "Training epochs:  33%|███▎      | 334/1000 [07:08<14:44,  1.33s/it]"
     ]
    },
    {
     "name": "stdout",
     "output_type": "stream",
     "text": [
      "Epoch 334 | GCN MSE Loss: 2.2603 | NRF Loss: 2.3216 | JOINT Loss: 4.5820 | NRF Acc: 0.7503\n"
     ]
    },
    {
     "name": "stderr",
     "output_type": "stream",
     "text": [
      "Training epochs:  34%|███▎      | 335/1000 [07:10<15:07,  1.36s/it]"
     ]
    },
    {
     "name": "stdout",
     "output_type": "stream",
     "text": [
      "Epoch 335 | GCN MSE Loss: 2.2550 | NRF Loss: 2.3191 | JOINT Loss: 4.5742 | NRF Acc: 0.7512\n"
     ]
    },
    {
     "name": "stderr",
     "output_type": "stream",
     "text": [
      "Training epochs:  34%|███▎      | 336/1000 [07:11<15:22,  1.39s/it]"
     ]
    },
    {
     "name": "stdout",
     "output_type": "stream",
     "text": [
      "Epoch 336 | GCN MSE Loss: 2.2498 | NRF Loss: 2.3167 | JOINT Loss: 4.5664 | NRF Acc: 0.7517\n"
     ]
    },
    {
     "name": "stderr",
     "output_type": "stream",
     "text": [
      "Training epochs:  34%|███▎      | 337/1000 [07:12<14:08,  1.28s/it]"
     ]
    },
    {
     "name": "stdout",
     "output_type": "stream",
     "text": [
      "Epoch 337 | GCN MSE Loss: 2.2446 | NRF Loss: 2.3142 | JOINT Loss: 4.5588 | NRF Acc: 0.7512\n"
     ]
    },
    {
     "name": "stderr",
     "output_type": "stream",
     "text": [
      "Training epochs:  34%|███▍      | 338/1000 [07:13<13:16,  1.20s/it]"
     ]
    },
    {
     "name": "stdout",
     "output_type": "stream",
     "text": [
      "Epoch 338 | GCN MSE Loss: 2.2394 | NRF Loss: 2.3117 | JOINT Loss: 4.5512 | NRF Acc: 0.7514\n"
     ]
    },
    {
     "name": "stderr",
     "output_type": "stream",
     "text": [
      "Training epochs:  34%|███▍      | 339/1000 [07:15<14:05,  1.28s/it]"
     ]
    },
    {
     "name": "stdout",
     "output_type": "stream",
     "text": [
      "Epoch 339 | GCN MSE Loss: 2.2343 | NRF Loss: 2.3093 | JOINT Loss: 4.5436 | NRF Acc: 0.7521\n"
     ]
    },
    {
     "name": "stderr",
     "output_type": "stream",
     "text": [
      "Training epochs:  34%|███▍      | 340/1000 [07:16<14:39,  1.33s/it]"
     ]
    },
    {
     "name": "stdout",
     "output_type": "stream",
     "text": [
      "Epoch 340 | GCN MSE Loss: 2.2293 | NRF Loss: 2.3069 | JOINT Loss: 4.5362 | NRF Acc: 0.7531\n"
     ]
    },
    {
     "name": "stderr",
     "output_type": "stream",
     "text": [
      "Training epochs:  34%|███▍      | 341/1000 [07:17<15:00,  1.37s/it]"
     ]
    },
    {
     "name": "stdout",
     "output_type": "stream",
     "text": [
      "Epoch 341 | GCN MSE Loss: 2.2243 | NRF Loss: 2.3044 | JOINT Loss: 4.5288 | NRF Acc: 0.7538\n"
     ]
    },
    {
     "name": "stderr",
     "output_type": "stream",
     "text": [
      "Training epochs:  34%|███▍      | 342/1000 [07:19<15:16,  1.39s/it]"
     ]
    },
    {
     "name": "stdout",
     "output_type": "stream",
     "text": [
      "Epoch 342 | GCN MSE Loss: 2.2194 | NRF Loss: 2.3020 | JOINT Loss: 4.5214 | NRF Acc: 0.7540\n"
     ]
    },
    {
     "name": "stderr",
     "output_type": "stream",
     "text": [
      "Training epochs:  34%|███▍      | 343/1000 [07:20<15:25,  1.41s/it]"
     ]
    },
    {
     "name": "stdout",
     "output_type": "stream",
     "text": [
      "Epoch 343 | GCN MSE Loss: 2.2146 | NRF Loss: 2.2996 | JOINT Loss: 4.5142 | NRF Acc: 0.7543\n"
     ]
    },
    {
     "name": "stderr",
     "output_type": "stream",
     "text": [
      "Training epochs:  34%|███▍      | 344/1000 [07:21<14:07,  1.29s/it]"
     ]
    },
    {
     "name": "stdout",
     "output_type": "stream",
     "text": [
      "Epoch 344 | GCN MSE Loss: 2.2098 | NRF Loss: 2.2972 | JOINT Loss: 4.5070 | NRF Acc: 0.7543\n"
     ]
    },
    {
     "name": "stderr",
     "output_type": "stream",
     "text": [
      "Training epochs:  34%|███▍      | 345/1000 [07:22<13:13,  1.21s/it]"
     ]
    },
    {
     "name": "stdout",
     "output_type": "stream",
     "text": [
      "Epoch 345 | GCN MSE Loss: 2.2051 | NRF Loss: 2.2947 | JOINT Loss: 4.4998 | NRF Acc: 0.7542\n"
     ]
    },
    {
     "name": "stderr",
     "output_type": "stream",
     "text": [
      "Training epochs:  35%|███▍      | 346/1000 [07:24<14:11,  1.30s/it]"
     ]
    },
    {
     "name": "stdout",
     "output_type": "stream",
     "text": [
      "Epoch 346 | GCN MSE Loss: 2.2004 | NRF Loss: 2.2923 | JOINT Loss: 4.4927 | NRF Acc: 0.7550\n"
     ]
    },
    {
     "name": "stderr",
     "output_type": "stream",
     "text": [
      "Training epochs:  35%|███▍      | 347/1000 [07:25<13:15,  1.22s/it]"
     ]
    },
    {
     "name": "stdout",
     "output_type": "stream",
     "text": [
      "Epoch 347 | GCN MSE Loss: 2.1958 | NRF Loss: 2.2899 | JOINT Loss: 4.4857 | NRF Acc: 0.7550\n"
     ]
    },
    {
     "name": "stderr",
     "output_type": "stream",
     "text": [
      "Training epochs:  35%|███▍      | 348/1000 [07:26<13:59,  1.29s/it]"
     ]
    },
    {
     "name": "stdout",
     "output_type": "stream",
     "text": [
      "Epoch 348 | GCN MSE Loss: 2.1912 | NRF Loss: 2.2875 | JOINT Loss: 4.4788 | NRF Acc: 0.7557\n"
     ]
    },
    {
     "name": "stderr",
     "output_type": "stream",
     "text": [
      "Training epochs:  35%|███▍      | 349/1000 [07:27<13:06,  1.21s/it]"
     ]
    },
    {
     "name": "stdout",
     "output_type": "stream",
     "text": [
      "Epoch 349 | GCN MSE Loss: 2.1867 | NRF Loss: 2.2852 | JOINT Loss: 4.4719 | NRF Acc: 0.7557\n"
     ]
    },
    {
     "name": "stderr",
     "output_type": "stream",
     "text": [
      "Training epochs:  35%|███▌      | 350/1000 [07:29<13:49,  1.28s/it]"
     ]
    },
    {
     "name": "stdout",
     "output_type": "stream",
     "text": [
      "Epoch 350 | GCN MSE Loss: 2.1822 | NRF Loss: 2.2828 | JOINT Loss: 4.4650 | NRF Acc: 0.7559\n"
     ]
    },
    {
     "name": "stderr",
     "output_type": "stream",
     "text": [
      "Training epochs:  35%|███▌      | 351/1000 [07:30<14:18,  1.32s/it]"
     ]
    },
    {
     "name": "stdout",
     "output_type": "stream",
     "text": [
      "Epoch 351 | GCN MSE Loss: 2.1778 | NRF Loss: 2.2804 | JOINT Loss: 4.4582 | NRF Acc: 0.7561\n"
     ]
    },
    {
     "name": "stderr",
     "output_type": "stream",
     "text": [
      "Training epochs:  35%|███▌      | 352/1000 [07:32<14:41,  1.36s/it]"
     ]
    },
    {
     "name": "stdout",
     "output_type": "stream",
     "text": [
      "Epoch 352 | GCN MSE Loss: 2.1735 | NRF Loss: 2.2780 | JOINT Loss: 4.4515 | NRF Acc: 0.7568\n"
     ]
    },
    {
     "name": "stderr",
     "output_type": "stream",
     "text": [
      "Training epochs:  35%|███▌      | 353/1000 [07:33<14:55,  1.38s/it]"
     ]
    },
    {
     "name": "stdout",
     "output_type": "stream",
     "text": [
      "Epoch 353 | GCN MSE Loss: 2.1692 | NRF Loss: 2.2757 | JOINT Loss: 4.4449 | NRF Acc: 0.7574\n"
     ]
    },
    {
     "name": "stderr",
     "output_type": "stream",
     "text": [
      "Training epochs:  35%|███▌      | 354/1000 [07:34<13:44,  1.28s/it]"
     ]
    },
    {
     "name": "stdout",
     "output_type": "stream",
     "text": [
      "Epoch 354 | GCN MSE Loss: 2.1649 | NRF Loss: 2.2733 | JOINT Loss: 4.4382 | NRF Acc: 0.7574\n"
     ]
    },
    {
     "name": "stderr",
     "output_type": "stream",
     "text": [
      "Training epochs:  36%|███▌      | 355/1000 [07:35<12:53,  1.20s/it]"
     ]
    },
    {
     "name": "stdout",
     "output_type": "stream",
     "text": [
      "Epoch 355 | GCN MSE Loss: 2.1607 | NRF Loss: 2.2710 | JOINT Loss: 4.4317 | NRF Acc: 0.7574\n"
     ]
    },
    {
     "name": "stderr",
     "output_type": "stream",
     "text": [
      "Training epochs:  36%|███▌      | 356/1000 [07:37<13:37,  1.27s/it]"
     ]
    },
    {
     "name": "stdout",
     "output_type": "stream",
     "text": [
      "Epoch 356 | GCN MSE Loss: 2.1566 | NRF Loss: 2.2686 | JOINT Loss: 4.4252 | NRF Acc: 0.7576\n"
     ]
    },
    {
     "name": "stderr",
     "output_type": "stream",
     "text": [
      "Training epochs:  36%|███▌      | 357/1000 [07:38<14:10,  1.32s/it]"
     ]
    },
    {
     "name": "stdout",
     "output_type": "stream",
     "text": [
      "Epoch 357 | GCN MSE Loss: 2.1525 | NRF Loss: 2.2663 | JOINT Loss: 4.4187 | NRF Acc: 0.7585\n"
     ]
    },
    {
     "name": "stderr",
     "output_type": "stream",
     "text": [
      "Training epochs:  36%|███▌      | 358/1000 [07:40<14:32,  1.36s/it]"
     ]
    },
    {
     "name": "stdout",
     "output_type": "stream",
     "text": [
      "Epoch 358 | GCN MSE Loss: 2.1484 | NRF Loss: 2.2639 | JOINT Loss: 4.4123 | NRF Acc: 0.7590\n"
     ]
    },
    {
     "name": "stderr",
     "output_type": "stream",
     "text": [
      "Training epochs:  36%|███▌      | 359/1000 [07:41<14:51,  1.39s/it]"
     ]
    },
    {
     "name": "stdout",
     "output_type": "stream",
     "text": [
      "Epoch 359 | GCN MSE Loss: 2.1444 | NRF Loss: 2.2616 | JOINT Loss: 4.4060 | NRF Acc: 0.7592\n"
     ]
    },
    {
     "name": "stderr",
     "output_type": "stream",
     "text": [
      "Training epochs:  36%|███▌      | 360/1000 [07:42<13:38,  1.28s/it]"
     ]
    },
    {
     "name": "stdout",
     "output_type": "stream",
     "text": [
      "Epoch 360 | GCN MSE Loss: 2.1404 | NRF Loss: 2.2593 | JOINT Loss: 4.3997 | NRF Acc: 0.7592\n"
     ]
    },
    {
     "name": "stderr",
     "output_type": "stream",
     "text": [
      "Training epochs:  36%|███▌      | 361/1000 [07:43<14:04,  1.32s/it]"
     ]
    },
    {
     "name": "stdout",
     "output_type": "stream",
     "text": [
      "Epoch 361 | GCN MSE Loss: 2.1365 | NRF Loss: 2.2569 | JOINT Loss: 4.3934 | NRF Acc: 0.7595\n"
     ]
    },
    {
     "name": "stderr",
     "output_type": "stream",
     "text": [
      "Training epochs:  36%|███▌      | 362/1000 [07:45<14:15,  1.34s/it]"
     ]
    },
    {
     "name": "stdout",
     "output_type": "stream",
     "text": [
      "Epoch 362 | GCN MSE Loss: 2.1326 | NRF Loss: 2.2546 | JOINT Loss: 4.3872 | NRF Acc: 0.7604\n"
     ]
    },
    {
     "name": "stderr",
     "output_type": "stream",
     "text": [
      "Training epochs:  36%|███▋      | 363/1000 [07:46<14:26,  1.36s/it]"
     ]
    },
    {
     "name": "stdout",
     "output_type": "stream",
     "text": [
      "Epoch 363 | GCN MSE Loss: 2.1287 | NRF Loss: 2.2523 | JOINT Loss: 4.3811 | NRF Acc: 0.7609\n"
     ]
    },
    {
     "name": "stderr",
     "output_type": "stream",
     "text": [
      "Training epochs:  36%|███▋      | 364/1000 [07:47<11:50,  1.12s/it]"
     ]
    },
    {
     "name": "stdout",
     "output_type": "stream",
     "text": [
      "Epoch 364 | GCN MSE Loss: 2.1249 | NRF Loss: 2.2500 | JOINT Loss: 4.3750 | NRF Acc: 0.7609\n"
     ]
    },
    {
     "name": "stderr",
     "output_type": "stream",
     "text": [
      "Training epochs:  36%|███▋      | 365/1000 [07:48<12:46,  1.21s/it]"
     ]
    },
    {
     "name": "stdout",
     "output_type": "stream",
     "text": [
      "Epoch 365 | GCN MSE Loss: 2.1212 | NRF Loss: 2.2477 | JOINT Loss: 4.3689 | NRF Acc: 0.7611\n"
     ]
    },
    {
     "name": "stderr",
     "output_type": "stream",
     "text": [
      "Training epochs:  37%|███▋      | 366/1000 [07:49<12:09,  1.15s/it]"
     ]
    },
    {
     "name": "stdout",
     "output_type": "stream",
     "text": [
      "Epoch 366 | GCN MSE Loss: 2.1174 | NRF Loss: 2.2454 | JOINT Loss: 4.3629 | NRF Acc: 0.7611\n"
     ]
    },
    {
     "name": "stderr",
     "output_type": "stream",
     "text": [
      "Training epochs:  37%|███▋      | 367/1000 [07:51<13:05,  1.24s/it]"
     ]
    },
    {
     "name": "stdout",
     "output_type": "stream",
     "text": [
      "Epoch 367 | GCN MSE Loss: 2.1137 | NRF Loss: 2.2432 | JOINT Loss: 4.3569 | NRF Acc: 0.7614\n"
     ]
    },
    {
     "name": "stderr",
     "output_type": "stream",
     "text": [
      "Training epochs:  37%|███▋      | 368/1000 [07:52<13:43,  1.30s/it]"
     ]
    },
    {
     "name": "stdout",
     "output_type": "stream",
     "text": [
      "Epoch 368 | GCN MSE Loss: 2.1101 | NRF Loss: 2.2409 | JOINT Loss: 4.3510 | NRF Acc: 0.7618\n"
     ]
    },
    {
     "name": "stderr",
     "output_type": "stream",
     "text": [
      "Training epochs:  37%|███▋      | 369/1000 [07:54<14:08,  1.34s/it]"
     ]
    },
    {
     "name": "stdout",
     "output_type": "stream",
     "text": [
      "Epoch 369 | GCN MSE Loss: 2.1065 | NRF Loss: 2.2386 | JOINT Loss: 4.3451 | NRF Acc: 0.7619\n"
     ]
    },
    {
     "name": "stderr",
     "output_type": "stream",
     "text": [
      "Training epochs:  37%|███▋      | 370/1000 [07:55<14:27,  1.38s/it]"
     ]
    },
    {
     "name": "stdout",
     "output_type": "stream",
     "text": [
      "Epoch 370 | GCN MSE Loss: 2.1029 | NRF Loss: 2.2363 | JOINT Loss: 4.3392 | NRF Acc: 0.7625\n"
     ]
    },
    {
     "name": "stderr",
     "output_type": "stream",
     "text": [
      "Training epochs:  37%|███▋      | 371/1000 [07:56<13:19,  1.27s/it]"
     ]
    },
    {
     "name": "stdout",
     "output_type": "stream",
     "text": [
      "Epoch 371 | GCN MSE Loss: 2.0993 | NRF Loss: 2.2341 | JOINT Loss: 4.3334 | NRF Acc: 0.7625\n"
     ]
    },
    {
     "name": "stderr",
     "output_type": "stream",
     "text": [
      "Training epochs:  37%|███▋      | 372/1000 [07:57<12:31,  1.20s/it]"
     ]
    },
    {
     "name": "stdout",
     "output_type": "stream",
     "text": [
      "Epoch 372 | GCN MSE Loss: 2.0958 | NRF Loss: 2.2318 | JOINT Loss: 4.3276 | NRF Acc: 0.7625\n"
     ]
    },
    {
     "name": "stderr",
     "output_type": "stream",
     "text": [
      "Training epochs:  37%|███▋      | 373/1000 [07:59<13:19,  1.28s/it]"
     ]
    },
    {
     "name": "stdout",
     "output_type": "stream",
     "text": [
      "Epoch 373 | GCN MSE Loss: 2.0924 | NRF Loss: 2.2295 | JOINT Loss: 4.3219 | NRF Acc: 0.7626\n"
     ]
    },
    {
     "name": "stderr",
     "output_type": "stream",
     "text": [
      "Training epochs:  37%|███▋      | 374/1000 [08:00<12:30,  1.20s/it]"
     ]
    },
    {
     "name": "stdout",
     "output_type": "stream",
     "text": [
      "Epoch 374 | GCN MSE Loss: 2.0889 | NRF Loss: 2.2273 | JOINT Loss: 4.3162 | NRF Acc: 0.7626\n"
     ]
    },
    {
     "name": "stderr",
     "output_type": "stream",
     "text": [
      "Training epochs:  38%|███▊      | 375/1000 [08:01<11:56,  1.15s/it]"
     ]
    },
    {
     "name": "stdout",
     "output_type": "stream",
     "text": [
      "Epoch 375 | GCN MSE Loss: 2.0855 | NRF Loss: 2.2250 | JOINT Loss: 4.3105 | NRF Acc: 0.7626\n"
     ]
    },
    {
     "name": "stderr",
     "output_type": "stream",
     "text": [
      "Training epochs:  38%|███▊      | 376/1000 [08:02<11:31,  1.11s/it]"
     ]
    },
    {
     "name": "stdout",
     "output_type": "stream",
     "text": [
      "Epoch 376 | GCN MSE Loss: 2.0821 | NRF Loss: 2.2228 | JOINT Loss: 4.3049 | NRF Acc: 0.7626\n"
     ]
    },
    {
     "name": "stderr",
     "output_type": "stream",
     "text": [
      "Training epochs:  38%|███▊      | 377/1000 [08:03<11:15,  1.08s/it]"
     ]
    },
    {
     "name": "stdout",
     "output_type": "stream",
     "text": [
      "Epoch 377 | GCN MSE Loss: 2.0788 | NRF Loss: 2.2206 | JOINT Loss: 4.2994 | NRF Acc: 0.7626\n"
     ]
    },
    {
     "name": "stderr",
     "output_type": "stream",
     "text": [
      "Training epochs:  38%|███▊      | 378/1000 [08:04<12:18,  1.19s/it]"
     ]
    },
    {
     "name": "stdout",
     "output_type": "stream",
     "text": [
      "Epoch 378 | GCN MSE Loss: 2.0755 | NRF Loss: 2.2183 | JOINT Loss: 4.2938 | NRF Acc: 0.7628\n"
     ]
    },
    {
     "name": "stderr",
     "output_type": "stream",
     "text": [
      "Training epochs:  38%|███▊      | 379/1000 [08:05<11:45,  1.14s/it]"
     ]
    },
    {
     "name": "stdout",
     "output_type": "stream",
     "text": [
      "Epoch 379 | GCN MSE Loss: 2.0722 | NRF Loss: 2.2161 | JOINT Loss: 4.2883 | NRF Acc: 0.7628\n"
     ]
    },
    {
     "name": "stderr",
     "output_type": "stream",
     "text": [
      "Training epochs:  38%|███▊      | 380/1000 [08:06<11:23,  1.10s/it]"
     ]
    },
    {
     "name": "stdout",
     "output_type": "stream",
     "text": [
      "Epoch 380 | GCN MSE Loss: 2.0690 | NRF Loss: 2.2138 | JOINT Loss: 4.2829 | NRF Acc: 0.7628\n"
     ]
    },
    {
     "name": "stderr",
     "output_type": "stream",
     "text": [
      "Training epochs:  38%|███▊      | 381/1000 [08:07<11:06,  1.08s/it]"
     ]
    },
    {
     "name": "stdout",
     "output_type": "stream",
     "text": [
      "Epoch 381 | GCN MSE Loss: 2.0658 | NRF Loss: 2.2116 | JOINT Loss: 4.2774 | NRF Acc: 0.7625\n"
     ]
    },
    {
     "name": "stderr",
     "output_type": "stream",
     "text": [
      "Training epochs:  38%|███▊      | 382/1000 [08:08<10:55,  1.06s/it]"
     ]
    },
    {
     "name": "stdout",
     "output_type": "stream",
     "text": [
      "Epoch 382 | GCN MSE Loss: 2.0627 | NRF Loss: 2.2094 | JOINT Loss: 4.2721 | NRF Acc: 0.7626\n"
     ]
    },
    {
     "name": "stderr",
     "output_type": "stream",
     "text": [
      "Training epochs:  38%|███▊      | 383/1000 [08:10<12:03,  1.17s/it]"
     ]
    },
    {
     "name": "stdout",
     "output_type": "stream",
     "text": [
      "Epoch 383 | GCN MSE Loss: 2.0596 | NRF Loss: 2.2072 | JOINT Loss: 4.2667 | NRF Acc: 0.7630\n"
     ]
    },
    {
     "name": "stderr",
     "output_type": "stream",
     "text": [
      "Training epochs:  38%|███▊      | 384/1000 [08:11<11:34,  1.13s/it]"
     ]
    },
    {
     "name": "stdout",
     "output_type": "stream",
     "text": [
      "Epoch 384 | GCN MSE Loss: 2.0565 | NRF Loss: 2.2050 | JOINT Loss: 4.2614 | NRF Acc: 0.7628\n"
     ]
    },
    {
     "name": "stderr",
     "output_type": "stream",
     "text": [
      "Training epochs:  38%|███▊      | 385/1000 [08:12<11:14,  1.10s/it]"
     ]
    },
    {
     "name": "stdout",
     "output_type": "stream",
     "text": [
      "Epoch 385 | GCN MSE Loss: 2.0534 | NRF Loss: 2.2028 | JOINT Loss: 4.2562 | NRF Acc: 0.7630\n"
     ]
    },
    {
     "name": "stderr",
     "output_type": "stream",
     "text": [
      "Training epochs:  39%|███▊      | 386/1000 [08:13<12:17,  1.20s/it]"
     ]
    },
    {
     "name": "stdout",
     "output_type": "stream",
     "text": [
      "Epoch 386 | GCN MSE Loss: 2.0504 | NRF Loss: 2.2005 | JOINT Loss: 4.2509 | NRF Acc: 0.7633\n"
     ]
    },
    {
     "name": "stderr",
     "output_type": "stream",
     "text": [
      "Training epochs:  39%|███▊      | 387/1000 [08:14<11:44,  1.15s/it]"
     ]
    },
    {
     "name": "stdout",
     "output_type": "stream",
     "text": [
      "Epoch 387 | GCN MSE Loss: 2.0474 | NRF Loss: 2.1983 | JOINT Loss: 4.2457 | NRF Acc: 0.7632\n"
     ]
    },
    {
     "name": "stderr",
     "output_type": "stream",
     "text": [
      "Training epochs:  39%|███▉      | 388/1000 [08:15<11:19,  1.11s/it]"
     ]
    },
    {
     "name": "stdout",
     "output_type": "stream",
     "text": [
      "Epoch 388 | GCN MSE Loss: 2.0444 | NRF Loss: 2.1962 | JOINT Loss: 4.2406 | NRF Acc: 0.7630\n"
     ]
    },
    {
     "name": "stderr",
     "output_type": "stream",
     "text": [
      "Training epochs:  39%|███▉      | 389/1000 [08:17<12:21,  1.21s/it]"
     ]
    },
    {
     "name": "stdout",
     "output_type": "stream",
     "text": [
      "Epoch 389 | GCN MSE Loss: 2.0415 | NRF Loss: 2.1940 | JOINT Loss: 4.2354 | NRF Acc: 0.7635\n"
     ]
    },
    {
     "name": "stderr",
     "output_type": "stream",
     "text": [
      "Training epochs:  39%|███▉      | 390/1000 [08:18<11:45,  1.16s/it]"
     ]
    },
    {
     "name": "stdout",
     "output_type": "stream",
     "text": [
      "Epoch 390 | GCN MSE Loss: 2.0385 | NRF Loss: 2.1918 | JOINT Loss: 4.2303 | NRF Acc: 0.7633\n"
     ]
    },
    {
     "name": "stderr",
     "output_type": "stream",
     "text": [
      "Training epochs:  39%|███▉      | 391/1000 [08:19<11:19,  1.12s/it]"
     ]
    },
    {
     "name": "stdout",
     "output_type": "stream",
     "text": [
      "Epoch 391 | GCN MSE Loss: 2.0357 | NRF Loss: 2.1896 | JOINT Loss: 4.2252 | NRF Acc: 0.7635\n"
     ]
    },
    {
     "name": "stderr",
     "output_type": "stream",
     "text": [
      "Training epochs:  39%|███▉      | 392/1000 [08:20<11:01,  1.09s/it]"
     ]
    },
    {
     "name": "stdout",
     "output_type": "stream",
     "text": [
      "Epoch 392 | GCN MSE Loss: 2.0328 | NRF Loss: 2.1874 | JOINT Loss: 4.2202 | NRF Acc: 0.7633\n"
     ]
    },
    {
     "name": "stderr",
     "output_type": "stream",
     "text": [
      "Training epochs:  39%|███▉      | 393/1000 [08:21<10:48,  1.07s/it]"
     ]
    },
    {
     "name": "stdout",
     "output_type": "stream",
     "text": [
      "Epoch 393 | GCN MSE Loss: 2.0300 | NRF Loss: 2.1852 | JOINT Loss: 4.2152 | NRF Acc: 0.7635\n"
     ]
    },
    {
     "name": "stderr",
     "output_type": "stream",
     "text": [
      "Training epochs:  39%|███▉      | 394/1000 [08:22<10:39,  1.06s/it]"
     ]
    },
    {
     "name": "stdout",
     "output_type": "stream",
     "text": [
      "Epoch 394 | GCN MSE Loss: 2.0271 | NRF Loss: 2.1831 | JOINT Loss: 4.2102 | NRF Acc: 0.7633\n"
     ]
    },
    {
     "name": "stderr",
     "output_type": "stream",
     "text": [
      "Training epochs:  40%|███▉      | 395/1000 [08:23<10:32,  1.05s/it]"
     ]
    },
    {
     "name": "stdout",
     "output_type": "stream",
     "text": [
      "Epoch 395 | GCN MSE Loss: 2.0244 | NRF Loss: 2.1809 | JOINT Loss: 4.2052 | NRF Acc: 0.7635\n"
     ]
    },
    {
     "name": "stderr",
     "output_type": "stream",
     "text": [
      "Training epochs:  40%|███▉      | 396/1000 [08:24<11:45,  1.17s/it]"
     ]
    },
    {
     "name": "stdout",
     "output_type": "stream",
     "text": [
      "Epoch 396 | GCN MSE Loss: 2.0216 | NRF Loss: 2.1787 | JOINT Loss: 4.2003 | NRF Acc: 0.7637\n"
     ]
    },
    {
     "name": "stderr",
     "output_type": "stream",
     "text": [
      "Training epochs:  40%|███▉      | 397/1000 [08:25<11:18,  1.13s/it]"
     ]
    },
    {
     "name": "stdout",
     "output_type": "stream",
     "text": [
      "Epoch 397 | GCN MSE Loss: 2.0189 | NRF Loss: 2.1766 | JOINT Loss: 4.1954 | NRF Acc: 0.7635\n"
     ]
    },
    {
     "name": "stderr",
     "output_type": "stream",
     "text": [
      "Training epochs:  40%|███▉      | 398/1000 [08:26<10:59,  1.10s/it]"
     ]
    },
    {
     "name": "stdout",
     "output_type": "stream",
     "text": [
      "Epoch 398 | GCN MSE Loss: 2.0161 | NRF Loss: 2.1744 | JOINT Loss: 4.1905 | NRF Acc: 0.7635\n"
     ]
    },
    {
     "name": "stderr",
     "output_type": "stream",
     "text": [
      "Training epochs:  40%|███▉      | 399/1000 [08:27<10:45,  1.07s/it]"
     ]
    },
    {
     "name": "stdout",
     "output_type": "stream",
     "text": [
      "Epoch 399 | GCN MSE Loss: 2.0135 | NRF Loss: 2.1722 | JOINT Loss: 4.1857 | NRF Acc: 0.7635\n"
     ]
    },
    {
     "name": "stderr",
     "output_type": "stream",
     "text": [
      "Training epochs:  40%|████      | 400/1000 [08:29<11:54,  1.19s/it]"
     ]
    },
    {
     "name": "stdout",
     "output_type": "stream",
     "text": [
      "Epoch 400 | GCN MSE Loss: 2.0108 | NRF Loss: 2.1701 | JOINT Loss: 4.1809 | NRF Acc: 0.7639\n"
     ]
    },
    {
     "name": "stderr",
     "output_type": "stream",
     "text": [
      "Training epochs:  40%|████      | 401/1000 [08:30<12:42,  1.27s/it]"
     ]
    },
    {
     "name": "stdout",
     "output_type": "stream",
     "text": [
      "Epoch 401 | GCN MSE Loss: 2.0081 | NRF Loss: 2.1679 | JOINT Loss: 4.1761 | NRF Acc: 0.7640\n"
     ]
    },
    {
     "name": "stderr",
     "output_type": "stream",
     "text": [
      "Training epochs:  40%|████      | 402/1000 [08:31<11:56,  1.20s/it]"
     ]
    },
    {
     "name": "stdout",
     "output_type": "stream",
     "text": [
      "Epoch 402 | GCN MSE Loss: 2.0055 | NRF Loss: 2.1658 | JOINT Loss: 4.1713 | NRF Acc: 0.7640\n"
     ]
    },
    {
     "name": "stderr",
     "output_type": "stream",
     "text": [
      "Training epochs:  40%|████      | 403/1000 [08:33<12:37,  1.27s/it]"
     ]
    },
    {
     "name": "stdout",
     "output_type": "stream",
     "text": [
      "Epoch 403 | GCN MSE Loss: 2.0029 | NRF Loss: 2.1637 | JOINT Loss: 4.1666 | NRF Acc: 0.7642\n"
     ]
    },
    {
     "name": "stderr",
     "output_type": "stream",
     "text": [
      "Training epochs:  40%|████      | 404/1000 [08:34<11:52,  1.20s/it]"
     ]
    },
    {
     "name": "stdout",
     "output_type": "stream",
     "text": [
      "Epoch 404 | GCN MSE Loss: 2.0003 | NRF Loss: 2.1615 | JOINT Loss: 4.1618 | NRF Acc: 0.7642\n"
     ]
    },
    {
     "name": "stderr",
     "output_type": "stream",
     "text": [
      "Training epochs:  40%|████      | 405/1000 [08:35<12:36,  1.27s/it]"
     ]
    },
    {
     "name": "stdout",
     "output_type": "stream",
     "text": [
      "Epoch 405 | GCN MSE Loss: 1.9978 | NRF Loss: 2.1594 | JOINT Loss: 4.1572 | NRF Acc: 0.7644\n"
     ]
    },
    {
     "name": "stderr",
     "output_type": "stream",
     "text": [
      "Training epochs:  41%|████      | 406/1000 [08:36<11:51,  1.20s/it]"
     ]
    },
    {
     "name": "stdout",
     "output_type": "stream",
     "text": [
      "Epoch 406 | GCN MSE Loss: 1.9953 | NRF Loss: 2.1572 | JOINT Loss: 4.1525 | NRF Acc: 0.7642\n"
     ]
    },
    {
     "name": "stderr",
     "output_type": "stream",
     "text": [
      "Training epochs:  41%|████      | 407/1000 [08:37<11:19,  1.15s/it]"
     ]
    },
    {
     "name": "stdout",
     "output_type": "stream",
     "text": [
      "Epoch 407 | GCN MSE Loss: 1.9927 | NRF Loss: 2.1551 | JOINT Loss: 4.1479 | NRF Acc: 0.7640\n"
     ]
    },
    {
     "name": "stderr",
     "output_type": "stream",
     "text": [
      "Training epochs:  41%|████      | 408/1000 [08:38<10:56,  1.11s/it]"
     ]
    },
    {
     "name": "stdout",
     "output_type": "stream",
     "text": [
      "Epoch 408 | GCN MSE Loss: 1.9903 | NRF Loss: 2.1530 | JOINT Loss: 4.1432 | NRF Acc: 0.7640\n"
     ]
    },
    {
     "name": "stderr",
     "output_type": "stream",
     "text": [
      "Training epochs:  41%|████      | 409/1000 [08:39<10:40,  1.08s/it]"
     ]
    },
    {
     "name": "stdout",
     "output_type": "stream",
     "text": [
      "Epoch 409 | GCN MSE Loss: 1.9878 | NRF Loss: 2.1509 | JOINT Loss: 4.1387 | NRF Acc: 0.7642\n"
     ]
    },
    {
     "name": "stderr",
     "output_type": "stream",
     "text": [
      "Training epochs:  41%|████      | 410/1000 [08:40<10:27,  1.06s/it]"
     ]
    },
    {
     "name": "stdout",
     "output_type": "stream",
     "text": [
      "Epoch 410 | GCN MSE Loss: 1.9853 | NRF Loss: 2.1488 | JOINT Loss: 4.1341 | NRF Acc: 0.7642\n"
     ]
    },
    {
     "name": "stderr",
     "output_type": "stream",
     "text": [
      "Training epochs:  41%|████      | 411/1000 [08:41<10:18,  1.05s/it]"
     ]
    },
    {
     "name": "stdout",
     "output_type": "stream",
     "text": [
      "Epoch 411 | GCN MSE Loss: 1.9829 | NRF Loss: 2.1467 | JOINT Loss: 4.1296 | NRF Acc: 0.7640\n"
     ]
    },
    {
     "name": "stderr",
     "output_type": "stream",
     "text": [
      "Training epochs:  41%|████      | 412/1000 [08:42<10:12,  1.04s/it]"
     ]
    },
    {
     "name": "stdout",
     "output_type": "stream",
     "text": [
      "Epoch 412 | GCN MSE Loss: 1.9805 | NRF Loss: 2.1445 | JOINT Loss: 4.1250 | NRF Acc: 0.7642\n"
     ]
    },
    {
     "name": "stderr",
     "output_type": "stream",
     "text": [
      "Training epochs:  41%|████▏     | 413/1000 [08:43<10:08,  1.04s/it]"
     ]
    },
    {
     "name": "stdout",
     "output_type": "stream",
     "text": [
      "Epoch 413 | GCN MSE Loss: 1.9781 | NRF Loss: 2.1424 | JOINT Loss: 4.1205 | NRF Acc: 0.7640\n"
     ]
    },
    {
     "name": "stderr",
     "output_type": "stream",
     "text": [
      "Training epochs:  41%|████▏     | 414/1000 [08:44<10:05,  1.03s/it]"
     ]
    },
    {
     "name": "stdout",
     "output_type": "stream",
     "text": [
      "Epoch 414 | GCN MSE Loss: 1.9757 | NRF Loss: 2.1404 | JOINT Loss: 4.1161 | NRF Acc: 0.7642\n"
     ]
    },
    {
     "name": "stderr",
     "output_type": "stream",
     "text": [
      "Training epochs:  42%|████▏     | 415/1000 [08:45<10:03,  1.03s/it]"
     ]
    },
    {
     "name": "stdout",
     "output_type": "stream",
     "text": [
      "Epoch 415 | GCN MSE Loss: 1.9734 | NRF Loss: 2.1383 | JOINT Loss: 4.1116 | NRF Acc: 0.7642\n"
     ]
    },
    {
     "name": "stderr",
     "output_type": "stream",
     "text": [
      "Training epochs:  42%|████▏     | 416/1000 [08:46<10:00,  1.03s/it]"
     ]
    },
    {
     "name": "stdout",
     "output_type": "stream",
     "text": [
      "Epoch 416 | GCN MSE Loss: 1.9710 | NRF Loss: 2.1362 | JOINT Loss: 4.1072 | NRF Acc: 0.7642\n"
     ]
    },
    {
     "name": "stderr",
     "output_type": "stream",
     "text": [
      "Training epochs:  42%|████▏     | 417/1000 [08:47<09:58,  1.03s/it]"
     ]
    },
    {
     "name": "stdout",
     "output_type": "stream",
     "text": [
      "Epoch 417 | GCN MSE Loss: 1.9687 | NRF Loss: 2.1341 | JOINT Loss: 4.1028 | NRF Acc: 0.7644\n"
     ]
    },
    {
     "name": "stderr",
     "output_type": "stream",
     "text": [
      "Training epochs:  42%|████▏     | 418/1000 [08:48<09:57,  1.03s/it]"
     ]
    },
    {
     "name": "stdout",
     "output_type": "stream",
     "text": [
      "Epoch 418 | GCN MSE Loss: 1.9664 | NRF Loss: 2.1320 | JOINT Loss: 4.0984 | NRF Acc: 0.7642\n"
     ]
    },
    {
     "name": "stderr",
     "output_type": "stream",
     "text": [
      "Training epochs:  42%|████▏     | 419/1000 [08:49<09:55,  1.03s/it]"
     ]
    },
    {
     "name": "stdout",
     "output_type": "stream",
     "text": [
      "Epoch 419 | GCN MSE Loss: 1.9641 | NRF Loss: 2.1299 | JOINT Loss: 4.0941 | NRF Acc: 0.7642\n"
     ]
    },
    {
     "name": "stderr",
     "output_type": "stream",
     "text": [
      "Training epochs:  42%|████▏     | 420/1000 [08:50<09:54,  1.03s/it]"
     ]
    },
    {
     "name": "stdout",
     "output_type": "stream",
     "text": [
      "Epoch 420 | GCN MSE Loss: 1.9619 | NRF Loss: 2.1279 | JOINT Loss: 4.0897 | NRF Acc: 0.7642\n"
     ]
    },
    {
     "name": "stderr",
     "output_type": "stream",
     "text": [
      "Training epochs:  42%|████▏     | 421/1000 [08:51<09:53,  1.03s/it]"
     ]
    },
    {
     "name": "stdout",
     "output_type": "stream",
     "text": [
      "Epoch 421 | GCN MSE Loss: 1.9596 | NRF Loss: 2.1258 | JOINT Loss: 4.0854 | NRF Acc: 0.7642\n"
     ]
    },
    {
     "name": "stderr",
     "output_type": "stream",
     "text": [
      "Training epochs:  42%|████▏     | 422/1000 [08:53<09:52,  1.02s/it]"
     ]
    },
    {
     "name": "stdout",
     "output_type": "stream",
     "text": [
      "Epoch 422 | GCN MSE Loss: 1.9574 | NRF Loss: 2.1237 | JOINT Loss: 4.0811 | NRF Acc: 0.7644\n"
     ]
    },
    {
     "name": "stderr",
     "output_type": "stream",
     "text": [
      "Training epochs:  42%|████▏     | 423/1000 [08:54<09:50,  1.02s/it]"
     ]
    },
    {
     "name": "stdout",
     "output_type": "stream",
     "text": [
      "Epoch 423 | GCN MSE Loss: 1.9552 | NRF Loss: 2.1217 | JOINT Loss: 4.0768 | NRF Acc: 0.7644\n"
     ]
    },
    {
     "name": "stderr",
     "output_type": "stream",
     "text": [
      "Training epochs:  42%|████▏     | 424/1000 [08:55<09:49,  1.02s/it]"
     ]
    },
    {
     "name": "stdout",
     "output_type": "stream",
     "text": [
      "Epoch 424 | GCN MSE Loss: 1.9529 | NRF Loss: 2.1196 | JOINT Loss: 4.0726 | NRF Acc: 0.7644\n"
     ]
    },
    {
     "name": "stderr",
     "output_type": "stream",
     "text": [
      "Training epochs:  42%|████▎     | 425/1000 [08:56<09:48,  1.02s/it]"
     ]
    },
    {
     "name": "stdout",
     "output_type": "stream",
     "text": [
      "Epoch 425 | GCN MSE Loss: 1.9508 | NRF Loss: 2.1176 | JOINT Loss: 4.0683 | NRF Acc: 0.7644\n"
     ]
    },
    {
     "name": "stderr",
     "output_type": "stream",
     "text": [
      "Training epochs:  43%|████▎     | 426/1000 [08:57<09:47,  1.02s/it]"
     ]
    },
    {
     "name": "stdout",
     "output_type": "stream",
     "text": [
      "Epoch 426 | GCN MSE Loss: 1.9486 | NRF Loss: 2.1155 | JOINT Loss: 4.0641 | NRF Acc: 0.7644\n"
     ]
    },
    {
     "name": "stderr",
     "output_type": "stream",
     "text": [
      "Training epochs:  43%|████▎     | 427/1000 [08:58<09:46,  1.02s/it]"
     ]
    },
    {
     "name": "stdout",
     "output_type": "stream",
     "text": [
      "Epoch 427 | GCN MSE Loss: 1.9464 | NRF Loss: 2.1135 | JOINT Loss: 4.0599 | NRF Acc: 0.7644\n"
     ]
    },
    {
     "name": "stderr",
     "output_type": "stream",
     "text": [
      "Training epochs:  43%|████▎     | 428/1000 [08:59<09:45,  1.02s/it]"
     ]
    },
    {
     "name": "stdout",
     "output_type": "stream",
     "text": [
      "Epoch 428 | GCN MSE Loss: 1.9442 | NRF Loss: 2.1114 | JOINT Loss: 4.0557 | NRF Acc: 0.7644\n"
     ]
    },
    {
     "name": "stderr",
     "output_type": "stream",
     "text": [
      "Training epochs:  43%|████▎     | 429/1000 [09:00<09:43,  1.02s/it]"
     ]
    },
    {
     "name": "stdout",
     "output_type": "stream",
     "text": [
      "Epoch 429 | GCN MSE Loss: 1.9421 | NRF Loss: 2.1094 | JOINT Loss: 4.0515 | NRF Acc: 0.7644\n"
     ]
    },
    {
     "name": "stderr",
     "output_type": "stream",
     "text": [
      "Training epochs:  43%|████▎     | 430/1000 [09:01<09:42,  1.02s/it]"
     ]
    },
    {
     "name": "stdout",
     "output_type": "stream",
     "text": [
      "Epoch 430 | GCN MSE Loss: 1.9400 | NRF Loss: 2.1074 | JOINT Loss: 4.0473 | NRF Acc: 0.7644\n"
     ]
    },
    {
     "name": "stderr",
     "output_type": "stream",
     "text": [
      "Training epochs:  43%|████▎     | 431/1000 [09:02<10:49,  1.14s/it]"
     ]
    },
    {
     "name": "stdout",
     "output_type": "stream",
     "text": [
      "Epoch 431 | GCN MSE Loss: 1.9379 | NRF Loss: 2.1053 | JOINT Loss: 4.0432 | NRF Acc: 0.7647\n"
     ]
    },
    {
     "name": "stderr",
     "output_type": "stream",
     "text": [
      "Training epochs:  43%|████▎     | 432/1000 [09:03<10:27,  1.11s/it]"
     ]
    },
    {
     "name": "stdout",
     "output_type": "stream",
     "text": [
      "Epoch 432 | GCN MSE Loss: 1.9358 | NRF Loss: 2.1033 | JOINT Loss: 4.0391 | NRF Acc: 0.7647\n"
     ]
    },
    {
     "name": "stderr",
     "output_type": "stream",
     "text": [
      "Training epochs:  43%|████▎     | 433/1000 [09:04<10:10,  1.08s/it]"
     ]
    },
    {
     "name": "stdout",
     "output_type": "stream",
     "text": [
      "Epoch 433 | GCN MSE Loss: 1.9337 | NRF Loss: 2.1013 | JOINT Loss: 4.0350 | NRF Acc: 0.7647\n"
     ]
    },
    {
     "name": "stderr",
     "output_type": "stream",
     "text": [
      "Training epochs:  43%|████▎     | 434/1000 [09:05<09:19,  1.01it/s]"
     ]
    },
    {
     "name": "stdout",
     "output_type": "stream",
     "text": [
      "Epoch 434 | GCN MSE Loss: 1.9316 | NRF Loss: 2.0992 | JOINT Loss: 4.0309 | NRF Acc: 0.7647\n"
     ]
    },
    {
     "name": "stderr",
     "output_type": "stream",
     "text": [
      "Training epochs:  44%|████▎     | 435/1000 [09:05<07:53,  1.19it/s]"
     ]
    },
    {
     "name": "stdout",
     "output_type": "stream",
     "text": [
      "Epoch 435 | GCN MSE Loss: 1.9295 | NRF Loss: 2.0972 | JOINT Loss: 4.0268 | NRF Acc: 0.7644\n"
     ]
    },
    {
     "name": "stderr",
     "output_type": "stream",
     "text": [
      "Training epochs:  44%|████▎     | 436/1000 [09:06<08:23,  1.12it/s]"
     ]
    },
    {
     "name": "stdout",
     "output_type": "stream",
     "text": [
      "Epoch 436 | GCN MSE Loss: 1.9275 | NRF Loss: 2.0952 | JOINT Loss: 4.0227 | NRF Acc: 0.7645\n"
     ]
    },
    {
     "name": "stderr",
     "output_type": "stream",
     "text": [
      "Training epochs:  44%|████▎     | 437/1000 [09:07<08:45,  1.07it/s]"
     ]
    },
    {
     "name": "stdout",
     "output_type": "stream",
     "text": [
      "Epoch 437 | GCN MSE Loss: 1.9255 | NRF Loss: 2.0932 | JOINT Loss: 4.0187 | NRF Acc: 0.7642\n"
     ]
    },
    {
     "name": "stderr",
     "output_type": "stream",
     "text": [
      "Training epochs:  44%|████▍     | 438/1000 [09:08<08:59,  1.04it/s]"
     ]
    },
    {
     "name": "stdout",
     "output_type": "stream",
     "text": [
      "Epoch 438 | GCN MSE Loss: 1.9234 | NRF Loss: 2.0912 | JOINT Loss: 4.0146 | NRF Acc: 0.7642\n"
     ]
    },
    {
     "name": "stderr",
     "output_type": "stream",
     "text": [
      "Training epochs:  44%|████▍     | 439/1000 [09:09<09:07,  1.02it/s]"
     ]
    },
    {
     "name": "stdout",
     "output_type": "stream",
     "text": [
      "Epoch 439 | GCN MSE Loss: 1.9214 | NRF Loss: 2.0892 | JOINT Loss: 4.0106 | NRF Acc: 0.7645\n"
     ]
    },
    {
     "name": "stderr",
     "output_type": "stream",
     "text": [
      "Training epochs:  44%|████▍     | 440/1000 [09:11<09:14,  1.01it/s]"
     ]
    },
    {
     "name": "stdout",
     "output_type": "stream",
     "text": [
      "Epoch 440 | GCN MSE Loss: 1.9194 | NRF Loss: 2.0872 | JOINT Loss: 4.0066 | NRF Acc: 0.7645\n"
     ]
    },
    {
     "name": "stderr",
     "output_type": "stream",
     "text": [
      "Training epochs:  44%|████▍     | 441/1000 [09:12<09:18,  1.00it/s]"
     ]
    },
    {
     "name": "stdout",
     "output_type": "stream",
     "text": [
      "Epoch 441 | GCN MSE Loss: 1.9174 | NRF Loss: 2.0852 | JOINT Loss: 4.0026 | NRF Acc: 0.7645\n"
     ]
    },
    {
     "name": "stderr",
     "output_type": "stream",
     "text": [
      "Training epochs:  44%|████▍     | 442/1000 [09:13<10:31,  1.13s/it]"
     ]
    },
    {
     "name": "stdout",
     "output_type": "stream",
     "text": [
      "Epoch 442 | GCN MSE Loss: 1.9154 | NRF Loss: 2.0832 | JOINT Loss: 3.9987 | NRF Acc: 0.7649\n"
     ]
    },
    {
     "name": "stderr",
     "output_type": "stream",
     "text": [
      "Training epochs:  44%|████▍     | 443/1000 [09:14<11:23,  1.23s/it]"
     ]
    },
    {
     "name": "stdout",
     "output_type": "stream",
     "text": [
      "Epoch 443 | GCN MSE Loss: 1.9135 | NRF Loss: 2.0812 | JOINT Loss: 3.9947 | NRF Acc: 0.7652\n"
     ]
    },
    {
     "name": "stderr",
     "output_type": "stream",
     "text": [
      "Training epochs:  44%|████▍     | 444/1000 [09:15<10:48,  1.17s/it]"
     ]
    },
    {
     "name": "stdout",
     "output_type": "stream",
     "text": [
      "Epoch 444 | GCN MSE Loss: 1.9115 | NRF Loss: 2.0793 | JOINT Loss: 3.9907 | NRF Acc: 0.7652\n"
     ]
    },
    {
     "name": "stderr",
     "output_type": "stream",
     "text": [
      "Training epochs:  44%|████▍     | 445/1000 [09:17<11:30,  1.24s/it]"
     ]
    },
    {
     "name": "stdout",
     "output_type": "stream",
     "text": [
      "Epoch 445 | GCN MSE Loss: 1.9095 | NRF Loss: 2.0773 | JOINT Loss: 3.9868 | NRF Acc: 0.7654\n"
     ]
    },
    {
     "name": "stderr",
     "output_type": "stream",
     "text": [
      "Training epochs:  45%|████▍     | 446/1000 [09:18<10:52,  1.18s/it]"
     ]
    },
    {
     "name": "stdout",
     "output_type": "stream",
     "text": [
      "Epoch 446 | GCN MSE Loss: 1.9076 | NRF Loss: 2.0753 | JOINT Loss: 3.9829 | NRF Acc: 0.7654\n"
     ]
    },
    {
     "name": "stderr",
     "output_type": "stream",
     "text": [
      "Training epochs:  45%|████▍     | 447/1000 [09:19<10:25,  1.13s/it]"
     ]
    },
    {
     "name": "stdout",
     "output_type": "stream",
     "text": [
      "Epoch 447 | GCN MSE Loss: 1.9056 | NRF Loss: 2.0733 | JOINT Loss: 3.9790 | NRF Acc: 0.7654\n"
     ]
    },
    {
     "name": "stderr",
     "output_type": "stream",
     "text": [
      "Training epochs:  45%|████▍     | 448/1000 [09:20<11:17,  1.23s/it]"
     ]
    },
    {
     "name": "stdout",
     "output_type": "stream",
     "text": [
      "Epoch 448 | GCN MSE Loss: 1.9037 | NRF Loss: 2.0714 | JOINT Loss: 3.9751 | NRF Acc: 0.7656\n"
     ]
    },
    {
     "name": "stderr",
     "output_type": "stream",
     "text": [
      "Training epochs:  45%|████▍     | 449/1000 [09:21<10:42,  1.17s/it]"
     ]
    },
    {
     "name": "stdout",
     "output_type": "stream",
     "text": [
      "Epoch 449 | GCN MSE Loss: 1.9018 | NRF Loss: 2.0694 | JOINT Loss: 3.9712 | NRF Acc: 0.7656\n"
     ]
    },
    {
     "name": "stderr",
     "output_type": "stream",
     "text": [
      "Training epochs:  45%|████▌     | 450/1000 [09:22<10:16,  1.12s/it]"
     ]
    },
    {
     "name": "stdout",
     "output_type": "stream",
     "text": [
      "Epoch 450 | GCN MSE Loss: 1.8999 | NRF Loss: 2.0674 | JOINT Loss: 3.9673 | NRF Acc: 0.7656\n"
     ]
    },
    {
     "name": "stderr",
     "output_type": "stream",
     "text": [
      "Training epochs:  45%|████▌     | 451/1000 [09:23<09:59,  1.09s/it]"
     ]
    },
    {
     "name": "stdout",
     "output_type": "stream",
     "text": [
      "Epoch 451 | GCN MSE Loss: 1.8980 | NRF Loss: 2.0655 | JOINT Loss: 3.9635 | NRF Acc: 0.7656\n"
     ]
    },
    {
     "name": "stderr",
     "output_type": "stream",
     "text": [
      "Training epochs:  45%|████▌     | 452/1000 [09:24<09:47,  1.07s/it]"
     ]
    },
    {
     "name": "stdout",
     "output_type": "stream",
     "text": [
      "Epoch 452 | GCN MSE Loss: 1.8961 | NRF Loss: 2.0635 | JOINT Loss: 3.9596 | NRF Acc: 0.7656\n"
     ]
    },
    {
     "name": "stderr",
     "output_type": "stream",
     "text": [
      "Training epochs:  45%|████▌     | 453/1000 [09:25<09:38,  1.06s/it]"
     ]
    },
    {
     "name": "stdout",
     "output_type": "stream",
     "text": [
      "Epoch 453 | GCN MSE Loss: 1.8942 | NRF Loss: 2.0616 | JOINT Loss: 3.9558 | NRF Acc: 0.7656\n"
     ]
    },
    {
     "name": "stderr",
     "output_type": "stream",
     "text": [
      "Training epochs:  45%|████▌     | 454/1000 [09:27<09:31,  1.05s/it]"
     ]
    },
    {
     "name": "stdout",
     "output_type": "stream",
     "text": [
      "Epoch 454 | GCN MSE Loss: 1.8923 | NRF Loss: 2.0596 | JOINT Loss: 3.9520 | NRF Acc: 0.7656\n"
     ]
    },
    {
     "name": "stderr",
     "output_type": "stream",
     "text": [
      "Training epochs:  46%|████▌     | 455/1000 [09:28<09:26,  1.04s/it]"
     ]
    },
    {
     "name": "stdout",
     "output_type": "stream",
     "text": [
      "Epoch 455 | GCN MSE Loss: 1.8904 | NRF Loss: 2.0577 | JOINT Loss: 3.9482 | NRF Acc: 0.7656\n"
     ]
    },
    {
     "name": "stderr",
     "output_type": "stream",
     "text": [
      "Training epochs:  46%|████▌     | 456/1000 [09:29<10:33,  1.16s/it]"
     ]
    },
    {
     "name": "stdout",
     "output_type": "stream",
     "text": [
      "Epoch 456 | GCN MSE Loss: 1.8886 | NRF Loss: 2.0558 | JOINT Loss: 3.9444 | NRF Acc: 0.7658\n"
     ]
    },
    {
     "name": "stderr",
     "output_type": "stream",
     "text": [
      "Training epochs:  46%|████▌     | 457/1000 [09:30<10:08,  1.12s/it]"
     ]
    },
    {
     "name": "stdout",
     "output_type": "stream",
     "text": [
      "Epoch 457 | GCN MSE Loss: 1.8867 | NRF Loss: 2.0538 | JOINT Loss: 3.9406 | NRF Acc: 0.7658\n"
     ]
    },
    {
     "name": "stderr",
     "output_type": "stream",
     "text": [
      "Training epochs:  46%|████▌     | 458/1000 [09:31<09:51,  1.09s/it]"
     ]
    },
    {
     "name": "stdout",
     "output_type": "stream",
     "text": [
      "Epoch 458 | GCN MSE Loss: 1.8849 | NRF Loss: 2.0519 | JOINT Loss: 3.9368 | NRF Acc: 0.7658\n"
     ]
    },
    {
     "name": "stderr",
     "output_type": "stream",
     "text": [
      "Training epochs:  46%|████▌     | 459/1000 [09:32<09:38,  1.07s/it]"
     ]
    },
    {
     "name": "stdout",
     "output_type": "stream",
     "text": [
      "Epoch 459 | GCN MSE Loss: 1.8831 | NRF Loss: 2.0500 | JOINT Loss: 3.9331 | NRF Acc: 0.7658\n"
     ]
    },
    {
     "name": "stderr",
     "output_type": "stream",
     "text": [
      "Training epochs:  46%|████▌     | 460/1000 [09:33<09:29,  1.05s/it]"
     ]
    },
    {
     "name": "stdout",
     "output_type": "stream",
     "text": [
      "Epoch 460 | GCN MSE Loss: 1.8812 | NRF Loss: 2.0481 | JOINT Loss: 3.9293 | NRF Acc: 0.7658\n"
     ]
    },
    {
     "name": "stderr",
     "output_type": "stream",
     "text": [
      "Training epochs:  46%|████▌     | 461/1000 [09:34<09:23,  1.05s/it]"
     ]
    },
    {
     "name": "stdout",
     "output_type": "stream",
     "text": [
      "Epoch 461 | GCN MSE Loss: 1.8794 | NRF Loss: 2.0462 | JOINT Loss: 3.9256 | NRF Acc: 0.7658\n"
     ]
    },
    {
     "name": "stderr",
     "output_type": "stream",
     "text": [
      "Training epochs:  46%|████▌     | 462/1000 [09:36<10:25,  1.16s/it]"
     ]
    },
    {
     "name": "stdout",
     "output_type": "stream",
     "text": [
      "Epoch 462 | GCN MSE Loss: 1.8776 | NRF Loss: 2.0443 | JOINT Loss: 3.9219 | NRF Acc: 0.7659\n"
     ]
    },
    {
     "name": "stderr",
     "output_type": "stream",
     "text": [
      "Training epochs:  46%|████▋     | 463/1000 [09:37<10:01,  1.12s/it]"
     ]
    },
    {
     "name": "stdout",
     "output_type": "stream",
     "text": [
      "Epoch 463 | GCN MSE Loss: 1.8758 | NRF Loss: 2.0423 | JOINT Loss: 3.9182 | NRF Acc: 0.7659\n"
     ]
    },
    {
     "name": "stderr",
     "output_type": "stream",
     "text": [
      "Training epochs:  46%|████▋     | 464/1000 [09:38<10:54,  1.22s/it]"
     ]
    },
    {
     "name": "stdout",
     "output_type": "stream",
     "text": [
      "Epoch 464 | GCN MSE Loss: 1.8740 | NRF Loss: 2.0404 | JOINT Loss: 3.9145 | NRF Acc: 0.7661\n"
     ]
    },
    {
     "name": "stderr",
     "output_type": "stream",
     "text": [
      "Training epochs:  46%|████▋     | 465/1000 [09:39<10:22,  1.16s/it]"
     ]
    },
    {
     "name": "stdout",
     "output_type": "stream",
     "text": [
      "Epoch 465 | GCN MSE Loss: 1.8723 | NRF Loss: 2.0385 | JOINT Loss: 3.9108 | NRF Acc: 0.7661\n"
     ]
    },
    {
     "name": "stderr",
     "output_type": "stream",
     "text": [
      "Training epochs:  47%|████▋     | 466/1000 [09:40<09:58,  1.12s/it]"
     ]
    },
    {
     "name": "stdout",
     "output_type": "stream",
     "text": [
      "Epoch 466 | GCN MSE Loss: 1.8705 | NRF Loss: 2.0366 | JOINT Loss: 3.9071 | NRF Acc: 0.7661\n"
     ]
    },
    {
     "name": "stderr",
     "output_type": "stream",
     "text": [
      "Training epochs:  47%|████▋     | 467/1000 [09:41<09:41,  1.09s/it]"
     ]
    },
    {
     "name": "stdout",
     "output_type": "stream",
     "text": [
      "Epoch 467 | GCN MSE Loss: 1.8687 | NRF Loss: 2.0348 | JOINT Loss: 3.9035 | NRF Acc: 0.7661\n"
     ]
    },
    {
     "name": "stderr",
     "output_type": "stream",
     "text": [
      "Training epochs:  47%|████▋     | 468/1000 [09:43<10:35,  1.19s/it]"
     ]
    },
    {
     "name": "stdout",
     "output_type": "stream",
     "text": [
      "Epoch 468 | GCN MSE Loss: 1.8670 | NRF Loss: 2.0329 | JOINT Loss: 3.8998 | NRF Acc: 0.7663\n"
     ]
    },
    {
     "name": "stderr",
     "output_type": "stream",
     "text": [
      "Training epochs:  47%|████▋     | 469/1000 [09:44<11:10,  1.26s/it]"
     ]
    },
    {
     "name": "stdout",
     "output_type": "stream",
     "text": [
      "Epoch 469 | GCN MSE Loss: 1.8652 | NRF Loss: 2.0310 | JOINT Loss: 3.8962 | NRF Acc: 0.7664\n"
     ]
    },
    {
     "name": "stderr",
     "output_type": "stream",
     "text": [
      "Training epochs:  47%|████▋     | 470/1000 [09:45<10:30,  1.19s/it]"
     ]
    },
    {
     "name": "stdout",
     "output_type": "stream",
     "text": [
      "Epoch 470 | GCN MSE Loss: 1.8635 | NRF Loss: 2.0291 | JOINT Loss: 3.8926 | NRF Acc: 0.7664\n"
     ]
    },
    {
     "name": "stderr",
     "output_type": "stream",
     "text": [
      "Training epochs:  47%|████▋     | 471/1000 [09:46<10:03,  1.14s/it]"
     ]
    },
    {
     "name": "stdout",
     "output_type": "stream",
     "text": [
      "Epoch 471 | GCN MSE Loss: 1.8618 | NRF Loss: 2.0272 | JOINT Loss: 3.8890 | NRF Acc: 0.7664\n"
     ]
    },
    {
     "name": "stderr",
     "output_type": "stream",
     "text": [
      "Training epochs:  47%|████▋     | 472/1000 [09:47<09:43,  1.11s/it]"
     ]
    },
    {
     "name": "stdout",
     "output_type": "stream",
     "text": [
      "Epoch 472 | GCN MSE Loss: 1.8600 | NRF Loss: 2.0253 | JOINT Loss: 3.8854 | NRF Acc: 0.7664\n"
     ]
    },
    {
     "name": "stderr",
     "output_type": "stream",
     "text": [
      "Training epochs:  47%|████▋     | 473/1000 [09:48<10:35,  1.21s/it]"
     ]
    },
    {
     "name": "stdout",
     "output_type": "stream",
     "text": [
      "Epoch 473 | GCN MSE Loss: 1.8583 | NRF Loss: 2.0235 | JOINT Loss: 3.8818 | NRF Acc: 0.7666\n"
     ]
    },
    {
     "name": "stderr",
     "output_type": "stream",
     "text": [
      "Training epochs:  47%|████▋     | 474/1000 [09:49<10:05,  1.15s/it]"
     ]
    },
    {
     "name": "stdout",
     "output_type": "stream",
     "text": [
      "Epoch 474 | GCN MSE Loss: 1.8566 | NRF Loss: 2.0216 | JOINT Loss: 3.8782 | NRF Acc: 0.7666\n"
     ]
    },
    {
     "name": "stderr",
     "output_type": "stream",
     "text": [
      "Training epochs:  48%|████▊     | 475/1000 [09:50<09:44,  1.11s/it]"
     ]
    },
    {
     "name": "stdout",
     "output_type": "stream",
     "text": [
      "Epoch 475 | GCN MSE Loss: 1.8549 | NRF Loss: 2.0197 | JOINT Loss: 3.8746 | NRF Acc: 0.7666\n"
     ]
    },
    {
     "name": "stderr",
     "output_type": "stream",
     "text": [
      "Training epochs:  48%|████▊     | 476/1000 [09:52<10:31,  1.21s/it]"
     ]
    },
    {
     "name": "stdout",
     "output_type": "stream",
     "text": [
      "Epoch 476 | GCN MSE Loss: 1.8531 | NRF Loss: 2.0179 | JOINT Loss: 3.8710 | NRF Acc: 0.7668\n"
     ]
    },
    {
     "name": "stderr",
     "output_type": "stream",
     "text": [
      "Training epochs:  48%|████▊     | 477/1000 [09:53<10:01,  1.15s/it]"
     ]
    },
    {
     "name": "stdout",
     "output_type": "stream",
     "text": [
      "Epoch 477 | GCN MSE Loss: 1.8514 | NRF Loss: 2.0160 | JOINT Loss: 3.8675 | NRF Acc: 0.7668\n"
     ]
    },
    {
     "name": "stderr",
     "output_type": "stream",
     "text": [
      "Training epochs:  48%|████▊     | 478/1000 [09:54<09:40,  1.11s/it]"
     ]
    },
    {
     "name": "stdout",
     "output_type": "stream",
     "text": [
      "Epoch 478 | GCN MSE Loss: 1.8497 | NRF Loss: 2.0142 | JOINT Loss: 3.8639 | NRF Acc: 0.7666\n"
     ]
    },
    {
     "name": "stderr",
     "output_type": "stream",
     "text": [
      "Training epochs:  48%|████▊     | 479/1000 [09:55<09:25,  1.08s/it]"
     ]
    },
    {
     "name": "stdout",
     "output_type": "stream",
     "text": [
      "Epoch 479 | GCN MSE Loss: 1.8481 | NRF Loss: 2.0123 | JOINT Loss: 3.8604 | NRF Acc: 0.7666\n"
     ]
    },
    {
     "name": "stderr",
     "output_type": "stream",
     "text": [
      "Training epochs:  48%|████▊     | 480/1000 [09:56<09:14,  1.07s/it]"
     ]
    },
    {
     "name": "stdout",
     "output_type": "stream",
     "text": [
      "Epoch 480 | GCN MSE Loss: 1.8464 | NRF Loss: 2.0105 | JOINT Loss: 3.8569 | NRF Acc: 0.7666\n"
     ]
    },
    {
     "name": "stderr",
     "output_type": "stream",
     "text": [
      "Training epochs:  48%|████▊     | 481/1000 [09:57<09:06,  1.05s/it]"
     ]
    },
    {
     "name": "stdout",
     "output_type": "stream",
     "text": [
      "Epoch 481 | GCN MSE Loss: 1.8447 | NRF Loss: 2.0086 | JOINT Loss: 3.8533 | NRF Acc: 0.7666\n"
     ]
    },
    {
     "name": "stderr",
     "output_type": "stream",
     "text": [
      "Training epochs:  48%|████▊     | 482/1000 [09:58<08:59,  1.04s/it]"
     ]
    },
    {
     "name": "stdout",
     "output_type": "stream",
     "text": [
      "Epoch 482 | GCN MSE Loss: 1.8430 | NRF Loss: 2.0068 | JOINT Loss: 3.8498 | NRF Acc: 0.7664\n"
     ]
    },
    {
     "name": "stderr",
     "output_type": "stream",
     "text": [
      "Training epochs:  48%|████▊     | 483/1000 [09:59<08:55,  1.04s/it]"
     ]
    },
    {
     "name": "stdout",
     "output_type": "stream",
     "text": [
      "Epoch 483 | GCN MSE Loss: 1.8414 | NRF Loss: 2.0050 | JOINT Loss: 3.8463 | NRF Acc: 0.7664\n"
     ]
    },
    {
     "name": "stderr",
     "output_type": "stream",
     "text": [
      "Training epochs:  48%|████▊     | 484/1000 [10:00<08:52,  1.03s/it]"
     ]
    },
    {
     "name": "stdout",
     "output_type": "stream",
     "text": [
      "Epoch 484 | GCN MSE Loss: 1.8397 | NRF Loss: 2.0031 | JOINT Loss: 3.8428 | NRF Acc: 0.7664\n"
     ]
    },
    {
     "name": "stderr",
     "output_type": "stream",
     "text": [
      "Training epochs:  48%|████▊     | 485/1000 [10:01<08:50,  1.03s/it]"
     ]
    },
    {
     "name": "stdout",
     "output_type": "stream",
     "text": [
      "Epoch 485 | GCN MSE Loss: 1.8380 | NRF Loss: 2.0013 | JOINT Loss: 3.8393 | NRF Acc: 0.7664\n"
     ]
    },
    {
     "name": "stderr",
     "output_type": "stream",
     "text": [
      "Training epochs:  49%|████▊     | 486/1000 [10:02<08:48,  1.03s/it]"
     ]
    },
    {
     "name": "stdout",
     "output_type": "stream",
     "text": [
      "Epoch 486 | GCN MSE Loss: 1.8364 | NRF Loss: 1.9995 | JOINT Loss: 3.8359 | NRF Acc: 0.7664\n"
     ]
    },
    {
     "name": "stderr",
     "output_type": "stream",
     "text": [
      "Training epochs:  49%|████▊     | 487/1000 [10:03<08:46,  1.03s/it]"
     ]
    },
    {
     "name": "stdout",
     "output_type": "stream",
     "text": [
      "Epoch 487 | GCN MSE Loss: 1.8347 | NRF Loss: 1.9977 | JOINT Loss: 3.8324 | NRF Acc: 0.7663\n"
     ]
    },
    {
     "name": "stderr",
     "output_type": "stream",
     "text": [
      "Training epochs:  49%|████▉     | 488/1000 [10:04<08:45,  1.03s/it]"
     ]
    },
    {
     "name": "stdout",
     "output_type": "stream",
     "text": [
      "Epoch 488 | GCN MSE Loss: 1.8331 | NRF Loss: 1.9958 | JOINT Loss: 3.8289 | NRF Acc: 0.7666\n"
     ]
    },
    {
     "name": "stderr",
     "output_type": "stream",
     "text": [
      "Training epochs:  49%|████▉     | 489/1000 [10:05<08:43,  1.02s/it]"
     ]
    },
    {
     "name": "stdout",
     "output_type": "stream",
     "text": [
      "Epoch 489 | GCN MSE Loss: 1.8315 | NRF Loss: 1.9940 | JOINT Loss: 3.8255 | NRF Acc: 0.7664\n"
     ]
    },
    {
     "name": "stderr",
     "output_type": "stream",
     "text": [
      "Training epochs:  49%|████▉     | 490/1000 [10:06<08:42,  1.03s/it]"
     ]
    },
    {
     "name": "stdout",
     "output_type": "stream",
     "text": [
      "Epoch 490 | GCN MSE Loss: 1.8298 | NRF Loss: 1.9922 | JOINT Loss: 3.8220 | NRF Acc: 0.7666\n"
     ]
    },
    {
     "name": "stderr",
     "output_type": "stream",
     "text": [
      "Training epochs:  49%|████▉     | 491/1000 [10:07<08:41,  1.02s/it]"
     ]
    },
    {
     "name": "stdout",
     "output_type": "stream",
     "text": [
      "Epoch 491 | GCN MSE Loss: 1.8282 | NRF Loss: 1.9904 | JOINT Loss: 3.8186 | NRF Acc: 0.7666\n"
     ]
    },
    {
     "name": "stderr",
     "output_type": "stream",
     "text": [
      "Training epochs:  49%|████▉     | 492/1000 [10:08<08:39,  1.02s/it]"
     ]
    },
    {
     "name": "stdout",
     "output_type": "stream",
     "text": [
      "Epoch 492 | GCN MSE Loss: 1.8266 | NRF Loss: 1.9886 | JOINT Loss: 3.8152 | NRF Acc: 0.7668\n"
     ]
    },
    {
     "name": "stderr",
     "output_type": "stream",
     "text": [
      "Training epochs:  49%|████▉     | 493/1000 [10:10<09:40,  1.15s/it]"
     ]
    },
    {
     "name": "stdout",
     "output_type": "stream",
     "text": [
      "Epoch 493 | GCN MSE Loss: 1.8250 | NRF Loss: 1.9868 | JOINT Loss: 3.8117 | NRF Acc: 0.7671\n"
     ]
    },
    {
     "name": "stderr",
     "output_type": "stream",
     "text": [
      "Training epochs:  49%|████▉     | 494/1000 [10:11<09:20,  1.11s/it]"
     ]
    },
    {
     "name": "stdout",
     "output_type": "stream",
     "text": [
      "Epoch 494 | GCN MSE Loss: 1.8234 | NRF Loss: 1.9850 | JOINT Loss: 3.8083 | NRF Acc: 0.7671\n"
     ]
    },
    {
     "name": "stderr",
     "output_type": "stream",
     "text": [
      "Training epochs:  50%|████▉     | 495/1000 [10:12<09:06,  1.08s/it]"
     ]
    },
    {
     "name": "stdout",
     "output_type": "stream",
     "text": [
      "Epoch 495 | GCN MSE Loss: 1.8217 | NRF Loss: 1.9832 | JOINT Loss: 3.8049 | NRF Acc: 0.7671\n"
     ]
    },
    {
     "name": "stderr",
     "output_type": "stream",
     "text": [
      "Training epochs:  50%|████▉     | 496/1000 [10:13<08:56,  1.06s/it]"
     ]
    },
    {
     "name": "stdout",
     "output_type": "stream",
     "text": [
      "Epoch 496 | GCN MSE Loss: 1.8201 | NRF Loss: 1.9814 | JOINT Loss: 3.8015 | NRF Acc: 0.7671\n"
     ]
    },
    {
     "name": "stderr",
     "output_type": "stream",
     "text": [
      "Training epochs:  50%|████▉     | 497/1000 [10:14<09:52,  1.18s/it]"
     ]
    },
    {
     "name": "stdout",
     "output_type": "stream",
     "text": [
      "Epoch 497 | GCN MSE Loss: 1.8185 | NRF Loss: 1.9796 | JOINT Loss: 3.7981 | NRF Acc: 0.7673\n"
     ]
    },
    {
     "name": "stderr",
     "output_type": "stream",
     "text": [
      "Training epochs:  50%|████▉     | 498/1000 [10:15<09:27,  1.13s/it]"
     ]
    },
    {
     "name": "stdout",
     "output_type": "stream",
     "text": [
      "Epoch 498 | GCN MSE Loss: 1.8170 | NRF Loss: 1.9778 | JOINT Loss: 3.7947 | NRF Acc: 0.7671\n"
     ]
    },
    {
     "name": "stderr",
     "output_type": "stream",
     "text": [
      "Training epochs:  50%|████▉     | 499/1000 [10:16<09:10,  1.10s/it]"
     ]
    },
    {
     "name": "stdout",
     "output_type": "stream",
     "text": [
      "Epoch 499 | GCN MSE Loss: 1.8154 | NRF Loss: 1.9760 | JOINT Loss: 3.7913 | NRF Acc: 0.7673\n"
     ]
    },
    {
     "name": "stderr",
     "output_type": "stream",
     "text": [
      "Training epochs:  50%|█████     | 500/1000 [10:17<08:57,  1.07s/it]"
     ]
    },
    {
     "name": "stdout",
     "output_type": "stream",
     "text": [
      "Epoch 500 | GCN MSE Loss: 1.8138 | NRF Loss: 1.9742 | JOINT Loss: 3.7880 | NRF Acc: 0.7673\n"
     ]
    },
    {
     "name": "stderr",
     "output_type": "stream",
     "text": [
      "Training epochs:  50%|█████     | 501/1000 [10:18<08:48,  1.06s/it]"
     ]
    },
    {
     "name": "stdout",
     "output_type": "stream",
     "text": [
      "Epoch 501 | GCN MSE Loss: 1.8122 | NRF Loss: 1.9724 | JOINT Loss: 3.7846 | NRF Acc: 0.7673\n"
     ]
    },
    {
     "name": "stderr",
     "output_type": "stream",
     "text": [
      "Training epochs:  50%|█████     | 502/1000 [10:19<08:41,  1.05s/it]"
     ]
    },
    {
     "name": "stdout",
     "output_type": "stream",
     "text": [
      "Epoch 502 | GCN MSE Loss: 1.8106 | NRF Loss: 1.9706 | JOINT Loss: 3.7813 | NRF Acc: 0.7671\n"
     ]
    },
    {
     "name": "stderr",
     "output_type": "stream",
     "text": [
      "Training epochs:  50%|█████     | 503/1000 [10:20<08:36,  1.04s/it]"
     ]
    },
    {
     "name": "stdout",
     "output_type": "stream",
     "text": [
      "Epoch 503 | GCN MSE Loss: 1.8091 | NRF Loss: 1.9688 | JOINT Loss: 3.7779 | NRF Acc: 0.7671\n"
     ]
    },
    {
     "name": "stderr",
     "output_type": "stream",
     "text": [
      "Training epochs:  50%|█████     | 504/1000 [10:21<08:33,  1.04s/it]"
     ]
    },
    {
     "name": "stdout",
     "output_type": "stream",
     "text": [
      "Epoch 504 | GCN MSE Loss: 1.8075 | NRF Loss: 1.9671 | JOINT Loss: 3.7746 | NRF Acc: 0.7673\n"
     ]
    },
    {
     "name": "stderr",
     "output_type": "stream",
     "text": [
      "Training epochs:  50%|█████     | 505/1000 [10:23<09:23,  1.14s/it]"
     ]
    },
    {
     "name": "stdout",
     "output_type": "stream",
     "text": [
      "Epoch 505 | GCN MSE Loss: 1.8059 | NRF Loss: 1.9653 | JOINT Loss: 3.7712 | NRF Acc: 0.7677\n"
     ]
    },
    {
     "name": "stderr",
     "output_type": "stream",
     "text": [
      "Training epochs:  51%|█████     | 506/1000 [10:24<09:03,  1.10s/it]"
     ]
    },
    {
     "name": "stdout",
     "output_type": "stream",
     "text": [
      "Epoch 506 | GCN MSE Loss: 1.8044 | NRF Loss: 1.9635 | JOINT Loss: 3.7679 | NRF Acc: 0.7677\n"
     ]
    },
    {
     "name": "stderr",
     "output_type": "stream",
     "text": [
      "Training epochs:  51%|█████     | 507/1000 [10:25<08:50,  1.08s/it]"
     ]
    },
    {
     "name": "stdout",
     "output_type": "stream",
     "text": [
      "Epoch 507 | GCN MSE Loss: 1.8028 | NRF Loss: 1.9617 | JOINT Loss: 3.7646 | NRF Acc: 0.7673\n"
     ]
    },
    {
     "name": "stderr",
     "output_type": "stream",
     "text": [
      "Training epochs:  51%|█████     | 508/1000 [10:26<08:41,  1.06s/it]"
     ]
    },
    {
     "name": "stdout",
     "output_type": "stream",
     "text": [
      "Epoch 508 | GCN MSE Loss: 1.8013 | NRF Loss: 1.9600 | JOINT Loss: 3.7613 | NRF Acc: 0.7673\n"
     ]
    },
    {
     "name": "stderr",
     "output_type": "stream",
     "text": [
      "Training epochs:  51%|█████     | 509/1000 [10:27<08:35,  1.05s/it]"
     ]
    },
    {
     "name": "stdout",
     "output_type": "stream",
     "text": [
      "Epoch 509 | GCN MSE Loss: 1.7997 | NRF Loss: 1.9582 | JOINT Loss: 3.7580 | NRF Acc: 0.7671\n"
     ]
    },
    {
     "name": "stderr",
     "output_type": "stream",
     "text": [
      "Training epochs:  51%|█████     | 510/1000 [10:28<08:29,  1.04s/it]"
     ]
    },
    {
     "name": "stdout",
     "output_type": "stream",
     "text": [
      "Epoch 510 | GCN MSE Loss: 1.7982 | NRF Loss: 1.9564 | JOINT Loss: 3.7547 | NRF Acc: 0.7673\n"
     ]
    },
    {
     "name": "stderr",
     "output_type": "stream",
     "text": [
      "Training epochs:  51%|█████     | 511/1000 [10:29<08:26,  1.04s/it]"
     ]
    },
    {
     "name": "stdout",
     "output_type": "stream",
     "text": [
      "Epoch 511 | GCN MSE Loss: 1.7967 | NRF Loss: 1.9547 | JOINT Loss: 3.7514 | NRF Acc: 0.7673\n"
     ]
    },
    {
     "name": "stderr",
     "output_type": "stream",
     "text": [
      "Training epochs:  51%|█████     | 512/1000 [10:30<08:23,  1.03s/it]"
     ]
    },
    {
     "name": "stdout",
     "output_type": "stream",
     "text": [
      "Epoch 512 | GCN MSE Loss: 1.7952 | NRF Loss: 1.9529 | JOINT Loss: 3.7481 | NRF Acc: 0.7673\n"
     ]
    },
    {
     "name": "stderr",
     "output_type": "stream",
     "text": [
      "Training epochs:  51%|█████▏    | 513/1000 [10:31<08:20,  1.03s/it]"
     ]
    },
    {
     "name": "stdout",
     "output_type": "stream",
     "text": [
      "Epoch 513 | GCN MSE Loss: 1.7936 | NRF Loss: 1.9512 | JOINT Loss: 3.7448 | NRF Acc: 0.7673\n"
     ]
    },
    {
     "name": "stderr",
     "output_type": "stream",
     "text": [
      "Training epochs:  51%|█████▏    | 514/1000 [10:32<08:19,  1.03s/it]"
     ]
    },
    {
     "name": "stdout",
     "output_type": "stream",
     "text": [
      "Epoch 514 | GCN MSE Loss: 1.7921 | NRF Loss: 1.9494 | JOINT Loss: 3.7415 | NRF Acc: 0.7671\n"
     ]
    },
    {
     "name": "stderr",
     "output_type": "stream",
     "text": [
      "Training epochs:  52%|█████▏    | 515/1000 [10:33<08:17,  1.03s/it]"
     ]
    },
    {
     "name": "stdout",
     "output_type": "stream",
     "text": [
      "Epoch 515 | GCN MSE Loss: 1.7906 | NRF Loss: 1.9477 | JOINT Loss: 3.7383 | NRF Acc: 0.7671\n"
     ]
    },
    {
     "name": "stderr",
     "output_type": "stream",
     "text": [
      "Training epochs:  52%|█████▏    | 516/1000 [10:34<08:15,  1.02s/it]"
     ]
    },
    {
     "name": "stdout",
     "output_type": "stream",
     "text": [
      "Epoch 516 | GCN MSE Loss: 1.7891 | NRF Loss: 1.9459 | JOINT Loss: 3.7350 | NRF Acc: 0.7673\n"
     ]
    },
    {
     "name": "stderr",
     "output_type": "stream",
     "text": [
      "Training epochs:  52%|█████▏    | 517/1000 [10:35<08:14,  1.02s/it]"
     ]
    },
    {
     "name": "stdout",
     "output_type": "stream",
     "text": [
      "Epoch 517 | GCN MSE Loss: 1.7876 | NRF Loss: 1.9442 | JOINT Loss: 3.7318 | NRF Acc: 0.7673\n"
     ]
    },
    {
     "name": "stderr",
     "output_type": "stream",
     "text": [
      "Training epochs:  52%|█████▏    | 518/1000 [10:36<08:12,  1.02s/it]"
     ]
    },
    {
     "name": "stdout",
     "output_type": "stream",
     "text": [
      "Epoch 518 | GCN MSE Loss: 1.7861 | NRF Loss: 1.9424 | JOINT Loss: 3.7286 | NRF Acc: 0.7673\n"
     ]
    },
    {
     "name": "stderr",
     "output_type": "stream",
     "text": [
      "Training epochs:  52%|█████▏    | 519/1000 [10:37<08:12,  1.02s/it]"
     ]
    },
    {
     "name": "stdout",
     "output_type": "stream",
     "text": [
      "Epoch 519 | GCN MSE Loss: 1.7846 | NRF Loss: 1.9407 | JOINT Loss: 3.7253 | NRF Acc: 0.7673\n"
     ]
    },
    {
     "name": "stderr",
     "output_type": "stream",
     "text": [
      "Training epochs:  52%|█████▏    | 520/1000 [10:38<08:11,  1.02s/it]"
     ]
    },
    {
     "name": "stdout",
     "output_type": "stream",
     "text": [
      "Epoch 520 | GCN MSE Loss: 1.7831 | NRF Loss: 1.9390 | JOINT Loss: 3.7221 | NRF Acc: 0.7673\n"
     ]
    },
    {
     "name": "stderr",
     "output_type": "stream",
     "text": [
      "Training epochs:  52%|█████▏    | 521/1000 [10:39<08:10,  1.02s/it]"
     ]
    },
    {
     "name": "stdout",
     "output_type": "stream",
     "text": [
      "Epoch 521 | GCN MSE Loss: 1.7817 | NRF Loss: 1.9373 | JOINT Loss: 3.7189 | NRF Acc: 0.7671\n"
     ]
    },
    {
     "name": "stderr",
     "output_type": "stream",
     "text": [
      "Training epochs:  52%|█████▏    | 522/1000 [10:40<08:08,  1.02s/it]"
     ]
    },
    {
     "name": "stdout",
     "output_type": "stream",
     "text": [
      "Epoch 522 | GCN MSE Loss: 1.7802 | NRF Loss: 1.9355 | JOINT Loss: 3.7157 | NRF Acc: 0.7670\n"
     ]
    },
    {
     "name": "stderr",
     "output_type": "stream",
     "text": [
      "Training epochs:  52%|█████▏    | 523/1000 [10:41<08:07,  1.02s/it]"
     ]
    },
    {
     "name": "stdout",
     "output_type": "stream",
     "text": [
      "Epoch 523 | GCN MSE Loss: 1.7787 | NRF Loss: 1.9338 | JOINT Loss: 3.7125 | NRF Acc: 0.7670\n"
     ]
    },
    {
     "name": "stderr",
     "output_type": "stream",
     "text": [
      "Training epochs:  52%|█████▏    | 524/1000 [10:42<08:07,  1.02s/it]"
     ]
    },
    {
     "name": "stdout",
     "output_type": "stream",
     "text": [
      "Epoch 524 | GCN MSE Loss: 1.7773 | NRF Loss: 1.9321 | JOINT Loss: 3.7093 | NRF Acc: 0.7670\n"
     ]
    },
    {
     "name": "stderr",
     "output_type": "stream",
     "text": [
      "Training epochs:  52%|█████▎    | 525/1000 [10:43<08:06,  1.02s/it]"
     ]
    },
    {
     "name": "stdout",
     "output_type": "stream",
     "text": [
      "Epoch 525 | GCN MSE Loss: 1.7758 | NRF Loss: 1.9304 | JOINT Loss: 3.7062 | NRF Acc: 0.7670\n"
     ]
    },
    {
     "name": "stderr",
     "output_type": "stream",
     "text": [
      "Training epochs:  53%|█████▎    | 526/1000 [10:44<08:04,  1.02s/it]"
     ]
    },
    {
     "name": "stdout",
     "output_type": "stream",
     "text": [
      "Epoch 526 | GCN MSE Loss: 1.7743 | NRF Loss: 1.9287 | JOINT Loss: 3.7030 | NRF Acc: 0.7668\n"
     ]
    },
    {
     "name": "stderr",
     "output_type": "stream",
     "text": [
      "Training epochs:  53%|█████▎    | 527/1000 [10:45<08:03,  1.02s/it]"
     ]
    },
    {
     "name": "stdout",
     "output_type": "stream",
     "text": [
      "Epoch 527 | GCN MSE Loss: 1.7729 | NRF Loss: 1.9270 | JOINT Loss: 3.6998 | NRF Acc: 0.7666\n"
     ]
    },
    {
     "name": "stderr",
     "output_type": "stream",
     "text": [
      "Training epochs:  53%|█████▎    | 528/1000 [10:46<08:02,  1.02s/it]"
     ]
    },
    {
     "name": "stdout",
     "output_type": "stream",
     "text": [
      "Epoch 528 | GCN MSE Loss: 1.7714 | NRF Loss: 1.9252 | JOINT Loss: 3.6967 | NRF Acc: 0.7666\n"
     ]
    },
    {
     "name": "stderr",
     "output_type": "stream",
     "text": [
      "Training epochs:  53%|█████▎    | 529/1000 [10:47<08:01,  1.02s/it]"
     ]
    },
    {
     "name": "stdout",
     "output_type": "stream",
     "text": [
      "Epoch 529 | GCN MSE Loss: 1.7700 | NRF Loss: 1.9235 | JOINT Loss: 3.6936 | NRF Acc: 0.7668\n"
     ]
    },
    {
     "name": "stderr",
     "output_type": "stream",
     "text": [
      "Training epochs:  53%|█████▎    | 530/1000 [10:48<08:00,  1.02s/it]"
     ]
    },
    {
     "name": "stdout",
     "output_type": "stream",
     "text": [
      "Epoch 530 | GCN MSE Loss: 1.7686 | NRF Loss: 1.9218 | JOINT Loss: 3.6904 | NRF Acc: 0.7668\n"
     ]
    },
    {
     "name": "stderr",
     "output_type": "stream",
     "text": [
      "Training epochs:  53%|█████▎    | 531/1000 [10:49<07:58,  1.02s/it]"
     ]
    },
    {
     "name": "stdout",
     "output_type": "stream",
     "text": [
      "Epoch 531 | GCN MSE Loss: 1.7671 | NRF Loss: 1.9202 | JOINT Loss: 3.6873 | NRF Acc: 0.7666\n"
     ]
    },
    {
     "name": "stderr",
     "output_type": "stream",
     "text": [
      "Training epochs:  53%|█████▎    | 532/1000 [10:50<07:57,  1.02s/it]"
     ]
    },
    {
     "name": "stdout",
     "output_type": "stream",
     "text": [
      "Epoch 532 | GCN MSE Loss: 1.7657 | NRF Loss: 1.9185 | JOINT Loss: 3.6842 | NRF Acc: 0.7664\n"
     ]
    },
    {
     "name": "stderr",
     "output_type": "stream",
     "text": [
      "Training epochs:  53%|█████▎    | 533/1000 [10:51<07:56,  1.02s/it]"
     ]
    },
    {
     "name": "stdout",
     "output_type": "stream",
     "text": [
      "Epoch 533 | GCN MSE Loss: 1.7643 | NRF Loss: 1.9168 | JOINT Loss: 3.6811 | NRF Acc: 0.7664\n"
     ]
    },
    {
     "name": "stderr",
     "output_type": "stream",
     "text": [
      "Training epochs:  53%|█████▎    | 534/1000 [10:52<07:56,  1.02s/it]"
     ]
    },
    {
     "name": "stdout",
     "output_type": "stream",
     "text": [
      "Epoch 534 | GCN MSE Loss: 1.7629 | NRF Loss: 1.9151 | JOINT Loss: 3.6780 | NRF Acc: 0.7664\n"
     ]
    },
    {
     "name": "stderr",
     "output_type": "stream",
     "text": [
      "Training epochs:  54%|█████▎    | 535/1000 [10:53<07:55,  1.02s/it]"
     ]
    },
    {
     "name": "stdout",
     "output_type": "stream",
     "text": [
      "Epoch 535 | GCN MSE Loss: 1.7615 | NRF Loss: 1.9134 | JOINT Loss: 3.6749 | NRF Acc: 0.7663\n"
     ]
    },
    {
     "name": "stderr",
     "output_type": "stream",
     "text": [
      "Training epochs:  54%|█████▎    | 536/1000 [10:54<07:54,  1.02s/it]"
     ]
    },
    {
     "name": "stdout",
     "output_type": "stream",
     "text": [
      "Epoch 536 | GCN MSE Loss: 1.7601 | NRF Loss: 1.9117 | JOINT Loss: 3.6718 | NRF Acc: 0.7663\n"
     ]
    },
    {
     "name": "stderr",
     "output_type": "stream",
     "text": [
      "Training epochs:  54%|█████▎    | 537/1000 [10:55<07:52,  1.02s/it]"
     ]
    },
    {
     "name": "stdout",
     "output_type": "stream",
     "text": [
      "Epoch 537 | GCN MSE Loss: 1.7587 | NRF Loss: 1.9100 | JOINT Loss: 3.6687 | NRF Acc: 0.7663\n"
     ]
    },
    {
     "name": "stderr",
     "output_type": "stream",
     "text": [
      "Training epochs:  54%|█████▍    | 538/1000 [10:56<07:51,  1.02s/it]"
     ]
    },
    {
     "name": "stdout",
     "output_type": "stream",
     "text": [
      "Epoch 538 | GCN MSE Loss: 1.7573 | NRF Loss: 1.9084 | JOINT Loss: 3.6656 | NRF Acc: 0.7663\n"
     ]
    },
    {
     "name": "stderr",
     "output_type": "stream",
     "text": [
      "Training epochs:  54%|█████▍    | 539/1000 [10:57<07:51,  1.02s/it]"
     ]
    },
    {
     "name": "stdout",
     "output_type": "stream",
     "text": [
      "Epoch 539 | GCN MSE Loss: 1.7559 | NRF Loss: 1.9067 | JOINT Loss: 3.6626 | NRF Acc: 0.7661\n"
     ]
    },
    {
     "name": "stderr",
     "output_type": "stream",
     "text": [
      "Training epochs:  54%|█████▍    | 540/1000 [10:58<07:50,  1.02s/it]"
     ]
    },
    {
     "name": "stdout",
     "output_type": "stream",
     "text": [
      "Epoch 540 | GCN MSE Loss: 1.7545 | NRF Loss: 1.9050 | JOINT Loss: 3.6595 | NRF Acc: 0.7661\n"
     ]
    },
    {
     "name": "stderr",
     "output_type": "stream",
     "text": [
      "Training epochs:  54%|█████▍    | 541/1000 [11:00<07:49,  1.02s/it]"
     ]
    },
    {
     "name": "stdout",
     "output_type": "stream",
     "text": [
      "Epoch 541 | GCN MSE Loss: 1.7531 | NRF Loss: 1.9034 | JOINT Loss: 3.6564 | NRF Acc: 0.7661\n"
     ]
    },
    {
     "name": "stderr",
     "output_type": "stream",
     "text": [
      "Training epochs:  54%|█████▍    | 542/1000 [11:01<07:48,  1.02s/it]"
     ]
    },
    {
     "name": "stdout",
     "output_type": "stream",
     "text": [
      "Epoch 542 | GCN MSE Loss: 1.7517 | NRF Loss: 1.9017 | JOINT Loss: 3.6534 | NRF Acc: 0.7661\n"
     ]
    },
    {
     "name": "stderr",
     "output_type": "stream",
     "text": [
      "Training epochs:  54%|█████▍    | 543/1000 [11:02<07:47,  1.02s/it]"
     ]
    },
    {
     "name": "stdout",
     "output_type": "stream",
     "text": [
      "Epoch 543 | GCN MSE Loss: 1.7503 | NRF Loss: 1.9000 | JOINT Loss: 3.6503 | NRF Acc: 0.7663\n"
     ]
    },
    {
     "name": "stderr",
     "output_type": "stream",
     "text": [
      "Training epochs:  54%|█████▍    | 544/1000 [11:03<07:46,  1.02s/it]"
     ]
    },
    {
     "name": "stdout",
     "output_type": "stream",
     "text": [
      "Epoch 544 | GCN MSE Loss: 1.7489 | NRF Loss: 1.8984 | JOINT Loss: 3.6473 | NRF Acc: 0.7663\n"
     ]
    },
    {
     "name": "stderr",
     "output_type": "stream",
     "text": [
      "Training epochs:  55%|█████▍    | 545/1000 [11:04<07:45,  1.02s/it]"
     ]
    },
    {
     "name": "stdout",
     "output_type": "stream",
     "text": [
      "Epoch 545 | GCN MSE Loss: 1.7476 | NRF Loss: 1.8967 | JOINT Loss: 3.6443 | NRF Acc: 0.7663\n"
     ]
    },
    {
     "name": "stderr",
     "output_type": "stream",
     "text": [
      "Training epochs:  55%|█████▍    | 546/1000 [11:05<07:44,  1.02s/it]"
     ]
    },
    {
     "name": "stdout",
     "output_type": "stream",
     "text": [
      "Epoch 546 | GCN MSE Loss: 1.7462 | NRF Loss: 1.8950 | JOINT Loss: 3.6412 | NRF Acc: 0.7663\n"
     ]
    },
    {
     "name": "stderr",
     "output_type": "stream",
     "text": [
      "Training epochs:  55%|█████▍    | 547/1000 [11:06<07:44,  1.02s/it]"
     ]
    },
    {
     "name": "stdout",
     "output_type": "stream",
     "text": [
      "Epoch 547 | GCN MSE Loss: 1.7448 | NRF Loss: 1.8934 | JOINT Loss: 3.6382 | NRF Acc: 0.7661\n"
     ]
    },
    {
     "name": "stderr",
     "output_type": "stream",
     "text": [
      "Training epochs:  55%|█████▍    | 548/1000 [11:07<07:43,  1.02s/it]"
     ]
    },
    {
     "name": "stdout",
     "output_type": "stream",
     "text": [
      "Epoch 548 | GCN MSE Loss: 1.7434 | NRF Loss: 1.8917 | JOINT Loss: 3.6352 | NRF Acc: 0.7663\n"
     ]
    },
    {
     "name": "stderr",
     "output_type": "stream",
     "text": [
      "Training epochs:  55%|█████▍    | 549/1000 [11:08<07:42,  1.03s/it]"
     ]
    },
    {
     "name": "stdout",
     "output_type": "stream",
     "text": [
      "Epoch 549 | GCN MSE Loss: 1.7421 | NRF Loss: 1.8901 | JOINT Loss: 3.6322 | NRF Acc: 0.7661\n"
     ]
    },
    {
     "name": "stderr",
     "output_type": "stream",
     "text": [
      "Training epochs:  55%|█████▌    | 550/1000 [11:09<07:42,  1.03s/it]"
     ]
    },
    {
     "name": "stdout",
     "output_type": "stream",
     "text": [
      "Epoch 550 | GCN MSE Loss: 1.7407 | NRF Loss: 1.8884 | JOINT Loss: 3.6292 | NRF Acc: 0.7661\n"
     ]
    },
    {
     "name": "stderr",
     "output_type": "stream",
     "text": [
      "Training epochs:  55%|█████▌    | 551/1000 [11:10<07:42,  1.03s/it]"
     ]
    },
    {
     "name": "stdout",
     "output_type": "stream",
     "text": [
      "Epoch 551 | GCN MSE Loss: 1.7394 | NRF Loss: 1.8868 | JOINT Loss: 3.6261 | NRF Acc: 0.7659\n"
     ]
    },
    {
     "name": "stderr",
     "output_type": "stream",
     "text": [
      "Training epochs:  55%|█████▌    | 552/1000 [11:11<07:41,  1.03s/it]"
     ]
    },
    {
     "name": "stdout",
     "output_type": "stream",
     "text": [
      "Epoch 552 | GCN MSE Loss: 1.7380 | NRF Loss: 1.8851 | JOINT Loss: 3.6232 | NRF Acc: 0.7659\n"
     ]
    },
    {
     "name": "stderr",
     "output_type": "stream",
     "text": [
      "Training epochs:  55%|█████▌    | 553/1000 [11:12<07:39,  1.03s/it]"
     ]
    },
    {
     "name": "stdout",
     "output_type": "stream",
     "text": [
      "Epoch 553 | GCN MSE Loss: 1.7367 | NRF Loss: 1.8835 | JOINT Loss: 3.6202 | NRF Acc: 0.7659\n"
     ]
    },
    {
     "name": "stderr",
     "output_type": "stream",
     "text": [
      "Training epochs:  55%|█████▌    | 554/1000 [11:13<07:38,  1.03s/it]"
     ]
    },
    {
     "name": "stdout",
     "output_type": "stream",
     "text": [
      "Epoch 554 | GCN MSE Loss: 1.7353 | NRF Loss: 1.8819 | JOINT Loss: 3.6172 | NRF Acc: 0.7659\n"
     ]
    },
    {
     "name": "stderr",
     "output_type": "stream",
     "text": [
      "Training epochs:  56%|█████▌    | 555/1000 [11:14<07:36,  1.03s/it]"
     ]
    },
    {
     "name": "stdout",
     "output_type": "stream",
     "text": [
      "Epoch 555 | GCN MSE Loss: 1.7340 | NRF Loss: 1.8802 | JOINT Loss: 3.6142 | NRF Acc: 0.7659\n"
     ]
    },
    {
     "name": "stderr",
     "output_type": "stream",
     "text": [
      "Training epochs:  56%|█████▌    | 556/1000 [11:15<07:35,  1.03s/it]"
     ]
    },
    {
     "name": "stdout",
     "output_type": "stream",
     "text": [
      "Epoch 556 | GCN MSE Loss: 1.7326 | NRF Loss: 1.8786 | JOINT Loss: 3.6112 | NRF Acc: 0.7659\n"
     ]
    },
    {
     "name": "stderr",
     "output_type": "stream",
     "text": [
      "Training epochs:  56%|█████▌    | 557/1000 [11:16<07:33,  1.02s/it]"
     ]
    },
    {
     "name": "stdout",
     "output_type": "stream",
     "text": [
      "Epoch 557 | GCN MSE Loss: 1.7313 | NRF Loss: 1.8770 | JOINT Loss: 3.6083 | NRF Acc: 0.7659\n"
     ]
    },
    {
     "name": "stderr",
     "output_type": "stream",
     "text": [
      "Training epochs:  56%|█████▌    | 558/1000 [11:17<07:33,  1.03s/it]"
     ]
    },
    {
     "name": "stdout",
     "output_type": "stream",
     "text": [
      "Epoch 558 | GCN MSE Loss: 1.7300 | NRF Loss: 1.8753 | JOINT Loss: 3.6053 | NRF Acc: 0.7659\n"
     ]
    },
    {
     "name": "stderr",
     "output_type": "stream",
     "text": [
      "Training epochs:  56%|█████▌    | 559/1000 [11:18<07:32,  1.03s/it]"
     ]
    },
    {
     "name": "stdout",
     "output_type": "stream",
     "text": [
      "Epoch 559 | GCN MSE Loss: 1.7287 | NRF Loss: 1.8737 | JOINT Loss: 3.6024 | NRF Acc: 0.7659\n"
     ]
    },
    {
     "name": "stderr",
     "output_type": "stream",
     "text": [
      "Training epochs:  56%|█████▌    | 560/1000 [11:19<07:31,  1.03s/it]"
     ]
    },
    {
     "name": "stdout",
     "output_type": "stream",
     "text": [
      "Epoch 560 | GCN MSE Loss: 1.7273 | NRF Loss: 1.8721 | JOINT Loss: 3.5994 | NRF Acc: 0.7661\n"
     ]
    },
    {
     "name": "stderr",
     "output_type": "stream",
     "text": [
      "Training epochs:  56%|█████▌    | 561/1000 [11:20<07:30,  1.03s/it]"
     ]
    },
    {
     "name": "stdout",
     "output_type": "stream",
     "text": [
      "Epoch 561 | GCN MSE Loss: 1.7260 | NRF Loss: 1.8705 | JOINT Loss: 3.5965 | NRF Acc: 0.7661\n"
     ]
    },
    {
     "name": "stderr",
     "output_type": "stream",
     "text": [
      "Training epochs:  56%|█████▌    | 562/1000 [11:21<07:30,  1.03s/it]"
     ]
    },
    {
     "name": "stdout",
     "output_type": "stream",
     "text": [
      "Epoch 562 | GCN MSE Loss: 1.7247 | NRF Loss: 1.8688 | JOINT Loss: 3.5935 | NRF Acc: 0.7661\n"
     ]
    },
    {
     "name": "stderr",
     "output_type": "stream",
     "text": [
      "Training epochs:  56%|█████▋    | 563/1000 [11:22<07:28,  1.03s/it]"
     ]
    },
    {
     "name": "stdout",
     "output_type": "stream",
     "text": [
      "Epoch 563 | GCN MSE Loss: 1.7234 | NRF Loss: 1.8672 | JOINT Loss: 3.5906 | NRF Acc: 0.7663\n"
     ]
    },
    {
     "name": "stderr",
     "output_type": "stream",
     "text": [
      "Training epochs:  56%|█████▋    | 564/1000 [11:23<07:28,  1.03s/it]"
     ]
    },
    {
     "name": "stdout",
     "output_type": "stream",
     "text": [
      "Epoch 564 | GCN MSE Loss: 1.7221 | NRF Loss: 1.8656 | JOINT Loss: 3.5877 | NRF Acc: 0.7663\n"
     ]
    },
    {
     "name": "stderr",
     "output_type": "stream",
     "text": [
      "Training epochs:  56%|█████▋    | 565/1000 [11:24<07:26,  1.03s/it]"
     ]
    },
    {
     "name": "stdout",
     "output_type": "stream",
     "text": [
      "Epoch 565 | GCN MSE Loss: 1.7208 | NRF Loss: 1.8640 | JOINT Loss: 3.5848 | NRF Acc: 0.7663\n"
     ]
    },
    {
     "name": "stderr",
     "output_type": "stream",
     "text": [
      "Training epochs:  57%|█████▋    | 566/1000 [11:25<07:25,  1.03s/it]"
     ]
    },
    {
     "name": "stdout",
     "output_type": "stream",
     "text": [
      "Epoch 566 | GCN MSE Loss: 1.7195 | NRF Loss: 1.8624 | JOINT Loss: 3.5819 | NRF Acc: 0.7663\n"
     ]
    },
    {
     "name": "stderr",
     "output_type": "stream",
     "text": [
      "Training epochs:  57%|█████▋    | 567/1000 [11:26<07:25,  1.03s/it]"
     ]
    },
    {
     "name": "stdout",
     "output_type": "stream",
     "text": [
      "Epoch 567 | GCN MSE Loss: 1.7182 | NRF Loss: 1.8608 | JOINT Loss: 3.5790 | NRF Acc: 0.7663\n"
     ]
    },
    {
     "name": "stderr",
     "output_type": "stream",
     "text": [
      "Training epochs:  57%|█████▋    | 568/1000 [11:27<07:23,  1.03s/it]"
     ]
    },
    {
     "name": "stdout",
     "output_type": "stream",
     "text": [
      "Epoch 568 | GCN MSE Loss: 1.7169 | NRF Loss: 1.8591 | JOINT Loss: 3.5761 | NRF Acc: 0.7661\n"
     ]
    },
    {
     "name": "stderr",
     "output_type": "stream",
     "text": [
      "Training epochs:  57%|█████▋    | 569/1000 [11:28<07:22,  1.03s/it]"
     ]
    },
    {
     "name": "stdout",
     "output_type": "stream",
     "text": [
      "Epoch 569 | GCN MSE Loss: 1.7157 | NRF Loss: 1.8575 | JOINT Loss: 3.5732 | NRF Acc: 0.7661\n"
     ]
    },
    {
     "name": "stderr",
     "output_type": "stream",
     "text": [
      "Training epochs:  57%|█████▋    | 570/1000 [11:29<07:22,  1.03s/it]"
     ]
    },
    {
     "name": "stdout",
     "output_type": "stream",
     "text": [
      "Epoch 570 | GCN MSE Loss: 1.7144 | NRF Loss: 1.8559 | JOINT Loss: 3.5703 | NRF Acc: 0.7659\n"
     ]
    },
    {
     "name": "stderr",
     "output_type": "stream",
     "text": [
      "Training epochs:  57%|█████▋    | 571/1000 [11:30<07:21,  1.03s/it]"
     ]
    },
    {
     "name": "stdout",
     "output_type": "stream",
     "text": [
      "Epoch 571 | GCN MSE Loss: 1.7131 | NRF Loss: 1.8543 | JOINT Loss: 3.5674 | NRF Acc: 0.7659\n"
     ]
    },
    {
     "name": "stderr",
     "output_type": "stream",
     "text": [
      "Training epochs:  57%|█████▋    | 572/1000 [11:31<07:20,  1.03s/it]"
     ]
    },
    {
     "name": "stdout",
     "output_type": "stream",
     "text": [
      "Epoch 572 | GCN MSE Loss: 1.7118 | NRF Loss: 1.8527 | JOINT Loss: 3.5646 | NRF Acc: 0.7659\n"
     ]
    },
    {
     "name": "stderr",
     "output_type": "stream",
     "text": [
      "Training epochs:  57%|█████▋    | 573/1000 [11:32<07:19,  1.03s/it]"
     ]
    },
    {
     "name": "stdout",
     "output_type": "stream",
     "text": [
      "Epoch 573 | GCN MSE Loss: 1.7106 | NRF Loss: 1.8511 | JOINT Loss: 3.5617 | NRF Acc: 0.7661\n"
     ]
    },
    {
     "name": "stderr",
     "output_type": "stream",
     "text": [
      "Training epochs:  57%|█████▋    | 574/1000 [11:33<07:18,  1.03s/it]"
     ]
    },
    {
     "name": "stdout",
     "output_type": "stream",
     "text": [
      "Epoch 574 | GCN MSE Loss: 1.7093 | NRF Loss: 1.8495 | JOINT Loss: 3.5589 | NRF Acc: 0.7661\n"
     ]
    },
    {
     "name": "stderr",
     "output_type": "stream",
     "text": [
      "Training epochs:  57%|█████▊    | 575/1000 [11:34<07:17,  1.03s/it]"
     ]
    },
    {
     "name": "stdout",
     "output_type": "stream",
     "text": [
      "Epoch 575 | GCN MSE Loss: 1.7081 | NRF Loss: 1.8479 | JOINT Loss: 3.5560 | NRF Acc: 0.7661\n"
     ]
    },
    {
     "name": "stderr",
     "output_type": "stream",
     "text": [
      "Training epochs:  58%|█████▊    | 576/1000 [11:35<07:16,  1.03s/it]"
     ]
    },
    {
     "name": "stdout",
     "output_type": "stream",
     "text": [
      "Epoch 576 | GCN MSE Loss: 1.7068 | NRF Loss: 1.8464 | JOINT Loss: 3.5532 | NRF Acc: 0.7661\n"
     ]
    },
    {
     "name": "stderr",
     "output_type": "stream",
     "text": [
      "Training epochs:  58%|█████▊    | 577/1000 [11:37<07:15,  1.03s/it]"
     ]
    },
    {
     "name": "stdout",
     "output_type": "stream",
     "text": [
      "Epoch 577 | GCN MSE Loss: 1.7056 | NRF Loss: 1.8448 | JOINT Loss: 3.5503 | NRF Acc: 0.7661\n"
     ]
    },
    {
     "name": "stderr",
     "output_type": "stream",
     "text": [
      "Training epochs:  58%|█████▊    | 578/1000 [11:38<07:14,  1.03s/it]"
     ]
    },
    {
     "name": "stdout",
     "output_type": "stream",
     "text": [
      "Epoch 578 | GCN MSE Loss: 1.7044 | NRF Loss: 1.8432 | JOINT Loss: 3.5475 | NRF Acc: 0.7663\n"
     ]
    },
    {
     "name": "stderr",
     "output_type": "stream",
     "text": [
      "Training epochs:  58%|█████▊    | 579/1000 [11:39<07:13,  1.03s/it]"
     ]
    },
    {
     "name": "stdout",
     "output_type": "stream",
     "text": [
      "Epoch 579 | GCN MSE Loss: 1.7031 | NRF Loss: 1.8416 | JOINT Loss: 3.5447 | NRF Acc: 0.7663\n"
     ]
    },
    {
     "name": "stderr",
     "output_type": "stream",
     "text": [
      "Training epochs:  58%|█████▊    | 580/1000 [11:40<07:12,  1.03s/it]"
     ]
    },
    {
     "name": "stdout",
     "output_type": "stream",
     "text": [
      "Epoch 580 | GCN MSE Loss: 1.7019 | NRF Loss: 1.8400 | JOINT Loss: 3.5420 | NRF Acc: 0.7663\n"
     ]
    },
    {
     "name": "stderr",
     "output_type": "stream",
     "text": [
      "Training epochs:  58%|█████▊    | 581/1000 [11:41<07:10,  1.03s/it]"
     ]
    },
    {
     "name": "stdout",
     "output_type": "stream",
     "text": [
      "Epoch 581 | GCN MSE Loss: 1.7007 | NRF Loss: 1.8384 | JOINT Loss: 3.5392 | NRF Acc: 0.7663\n"
     ]
    },
    {
     "name": "stderr",
     "output_type": "stream",
     "text": [
      "Training epochs:  58%|█████▊    | 582/1000 [11:42<07:09,  1.03s/it]"
     ]
    },
    {
     "name": "stdout",
     "output_type": "stream",
     "text": [
      "Epoch 582 | GCN MSE Loss: 1.6995 | NRF Loss: 1.8369 | JOINT Loss: 3.5364 | NRF Acc: 0.7663\n"
     ]
    },
    {
     "name": "stderr",
     "output_type": "stream",
     "text": [
      "Training epochs:  58%|█████▊    | 583/1000 [11:43<07:09,  1.03s/it]"
     ]
    },
    {
     "name": "stdout",
     "output_type": "stream",
     "text": [
      "Epoch 583 | GCN MSE Loss: 1.6984 | NRF Loss: 1.8353 | JOINT Loss: 3.5336 | NRF Acc: 0.7661\n"
     ]
    },
    {
     "name": "stderr",
     "output_type": "stream",
     "text": [
      "Training epochs:  58%|█████▊    | 584/1000 [11:44<07:08,  1.03s/it]"
     ]
    },
    {
     "name": "stdout",
     "output_type": "stream",
     "text": [
      "Epoch 584 | GCN MSE Loss: 1.6972 | NRF Loss: 1.8337 | JOINT Loss: 3.5309 | NRF Acc: 0.7663\n"
     ]
    },
    {
     "name": "stderr",
     "output_type": "stream",
     "text": [
      "Training epochs:  58%|█████▊    | 585/1000 [11:45<07:06,  1.03s/it]"
     ]
    },
    {
     "name": "stdout",
     "output_type": "stream",
     "text": [
      "Epoch 585 | GCN MSE Loss: 1.6960 | NRF Loss: 1.8321 | JOINT Loss: 3.5281 | NRF Acc: 0.7663\n"
     ]
    },
    {
     "name": "stderr",
     "output_type": "stream",
     "text": [
      "Training epochs:  59%|█████▊    | 586/1000 [11:46<07:05,  1.03s/it]"
     ]
    },
    {
     "name": "stdout",
     "output_type": "stream",
     "text": [
      "Epoch 586 | GCN MSE Loss: 1.6948 | NRF Loss: 1.8305 | JOINT Loss: 3.5254 | NRF Acc: 0.7663\n"
     ]
    },
    {
     "name": "stderr",
     "output_type": "stream",
     "text": [
      "Training epochs:  59%|█████▊    | 587/1000 [11:47<07:03,  1.03s/it]"
     ]
    },
    {
     "name": "stdout",
     "output_type": "stream",
     "text": [
      "Epoch 587 | GCN MSE Loss: 1.6937 | NRF Loss: 1.8290 | JOINT Loss: 3.5227 | NRF Acc: 0.7664\n"
     ]
    },
    {
     "name": "stderr",
     "output_type": "stream",
     "text": [
      "Training epochs:  59%|█████▉    | 588/1000 [11:48<07:01,  1.02s/it]"
     ]
    },
    {
     "name": "stdout",
     "output_type": "stream",
     "text": [
      "Epoch 588 | GCN MSE Loss: 1.6925 | NRF Loss: 1.8274 | JOINT Loss: 3.5200 | NRF Acc: 0.7664\n"
     ]
    },
    {
     "name": "stderr",
     "output_type": "stream",
     "text": [
      "Training epochs:  59%|█████▉    | 589/1000 [11:49<07:00,  1.02s/it]"
     ]
    },
    {
     "name": "stdout",
     "output_type": "stream",
     "text": [
      "Epoch 589 | GCN MSE Loss: 1.6914 | NRF Loss: 1.8259 | JOINT Loss: 3.5172 | NRF Acc: 0.7664\n"
     ]
    },
    {
     "name": "stderr",
     "output_type": "stream",
     "text": [
      "Training epochs:  59%|█████▉    | 590/1000 [11:50<06:58,  1.02s/it]"
     ]
    },
    {
     "name": "stdout",
     "output_type": "stream",
     "text": [
      "Epoch 590 | GCN MSE Loss: 1.6902 | NRF Loss: 1.8243 | JOINT Loss: 3.5145 | NRF Acc: 0.7664\n"
     ]
    },
    {
     "name": "stderr",
     "output_type": "stream",
     "text": [
      "Training epochs:  59%|█████▉    | 591/1000 [11:51<06:58,  1.02s/it]"
     ]
    },
    {
     "name": "stdout",
     "output_type": "stream",
     "text": [
      "Epoch 591 | GCN MSE Loss: 1.6891 | NRF Loss: 1.8227 | JOINT Loss: 3.5119 | NRF Acc: 0.7664\n"
     ]
    },
    {
     "name": "stderr",
     "output_type": "stream",
     "text": [
      "Training epochs:  59%|█████▉    | 592/1000 [11:52<06:57,  1.02s/it]"
     ]
    },
    {
     "name": "stdout",
     "output_type": "stream",
     "text": [
      "Epoch 592 | GCN MSE Loss: 1.6880 | NRF Loss: 1.8212 | JOINT Loss: 3.5092 | NRF Acc: 0.7664\n"
     ]
    },
    {
     "name": "stderr",
     "output_type": "stream",
     "text": [
      "Training epochs:  59%|█████▉    | 593/1000 [11:53<06:57,  1.03s/it]"
     ]
    },
    {
     "name": "stdout",
     "output_type": "stream",
     "text": [
      "Epoch 593 | GCN MSE Loss: 1.6869 | NRF Loss: 1.8196 | JOINT Loss: 3.5065 | NRF Acc: 0.7664\n"
     ]
    },
    {
     "name": "stderr",
     "output_type": "stream",
     "text": [
      "Training epochs:  59%|█████▉    | 594/1000 [11:54<06:56,  1.03s/it]"
     ]
    },
    {
     "name": "stdout",
     "output_type": "stream",
     "text": [
      "Epoch 594 | GCN MSE Loss: 1.6857 | NRF Loss: 1.8181 | JOINT Loss: 3.5038 | NRF Acc: 0.7666\n"
     ]
    },
    {
     "name": "stderr",
     "output_type": "stream",
     "text": [
      "Training epochs:  60%|█████▉    | 595/1000 [11:55<06:55,  1.03s/it]"
     ]
    },
    {
     "name": "stdout",
     "output_type": "stream",
     "text": [
      "Epoch 595 | GCN MSE Loss: 1.6846 | NRF Loss: 1.8165 | JOINT Loss: 3.5012 | NRF Acc: 0.7666\n"
     ]
    },
    {
     "name": "stderr",
     "output_type": "stream",
     "text": [
      "Training epochs:  60%|█████▉    | 596/1000 [11:56<06:54,  1.03s/it]"
     ]
    },
    {
     "name": "stdout",
     "output_type": "stream",
     "text": [
      "Epoch 596 | GCN MSE Loss: 1.6835 | NRF Loss: 1.8150 | JOINT Loss: 3.4985 | NRF Acc: 0.7666\n"
     ]
    },
    {
     "name": "stderr",
     "output_type": "stream",
     "text": [
      "Training epochs:  60%|█████▉    | 597/1000 [11:57<06:53,  1.03s/it]"
     ]
    },
    {
     "name": "stdout",
     "output_type": "stream",
     "text": [
      "Epoch 597 | GCN MSE Loss: 1.6824 | NRF Loss: 1.8134 | JOINT Loss: 3.4958 | NRF Acc: 0.7666\n"
     ]
    },
    {
     "name": "stderr",
     "output_type": "stream",
     "text": [
      "Training epochs:  60%|█████▉    | 598/1000 [11:58<06:52,  1.03s/it]"
     ]
    },
    {
     "name": "stdout",
     "output_type": "stream",
     "text": [
      "Epoch 598 | GCN MSE Loss: 1.6813 | NRF Loss: 1.8119 | JOINT Loss: 3.4932 | NRF Acc: 0.7666\n"
     ]
    },
    {
     "name": "stderr",
     "output_type": "stream",
     "text": [
      "Training epochs:  60%|█████▉    | 599/1000 [11:59<06:51,  1.03s/it]"
     ]
    },
    {
     "name": "stdout",
     "output_type": "stream",
     "text": [
      "Epoch 599 | GCN MSE Loss: 1.6802 | NRF Loss: 1.8104 | JOINT Loss: 3.4905 | NRF Acc: 0.7666\n"
     ]
    },
    {
     "name": "stderr",
     "output_type": "stream",
     "text": [
      "Training epochs:  60%|██████    | 600/1000 [12:00<06:51,  1.03s/it]"
     ]
    },
    {
     "name": "stdout",
     "output_type": "stream",
     "text": [
      "Epoch 600 | GCN MSE Loss: 1.6791 | NRF Loss: 1.8088 | JOINT Loss: 3.4879 | NRF Acc: 0.7666\n"
     ]
    },
    {
     "name": "stderr",
     "output_type": "stream",
     "text": [
      "Training epochs:  60%|██████    | 601/1000 [12:01<06:49,  1.03s/it]"
     ]
    },
    {
     "name": "stdout",
     "output_type": "stream",
     "text": [
      "Epoch 601 | GCN MSE Loss: 1.6780 | NRF Loss: 1.8073 | JOINT Loss: 3.4853 | NRF Acc: 0.7668\n"
     ]
    },
    {
     "name": "stderr",
     "output_type": "stream",
     "text": [
      "Training epochs:  60%|██████    | 602/1000 [12:02<06:48,  1.03s/it]"
     ]
    },
    {
     "name": "stdout",
     "output_type": "stream",
     "text": [
      "Epoch 602 | GCN MSE Loss: 1.6769 | NRF Loss: 1.8057 | JOINT Loss: 3.4826 | NRF Acc: 0.7668\n"
     ]
    },
    {
     "name": "stderr",
     "output_type": "stream",
     "text": [
      "Training epochs:  60%|██████    | 603/1000 [12:03<06:48,  1.03s/it]"
     ]
    },
    {
     "name": "stdout",
     "output_type": "stream",
     "text": [
      "Epoch 603 | GCN MSE Loss: 1.6758 | NRF Loss: 1.8042 | JOINT Loss: 3.4800 | NRF Acc: 0.7668\n"
     ]
    },
    {
     "name": "stderr",
     "output_type": "stream",
     "text": [
      "Training epochs:  60%|██████    | 604/1000 [12:04<06:47,  1.03s/it]"
     ]
    },
    {
     "name": "stdout",
     "output_type": "stream",
     "text": [
      "Epoch 604 | GCN MSE Loss: 1.6747 | NRF Loss: 1.8026 | JOINT Loss: 3.4774 | NRF Acc: 0.7668\n"
     ]
    },
    {
     "name": "stderr",
     "output_type": "stream",
     "text": [
      "Training epochs:  60%|██████    | 604/1000 [12:05<07:55,  1.20s/it]"
     ]
    },
    {
     "name": "stdout",
     "output_type": "stream",
     "text": [
      "Early stopping at epoch 604\n",
      "Best acc/epoch: 0.7676592469215393, epoch 504\n",
      "\n",
      "Training model for targtype1 prediction...\n"
     ]
    },
    {
     "name": "stderr",
     "output_type": "stream",
     "text": [
      "\n"
     ]
    },
    {
     "name": "stdout",
     "output_type": "stream",
     "text": [
      "Number of features in NRF input: 4392\n"
     ]
    },
    {
     "name": "stderr",
     "output_type": "stream",
     "text": [
      "Training epochs:   0%|          | 1/1000 [00:01<24:01,  1.44s/it]"
     ]
    },
    {
     "name": "stdout",
     "output_type": "stream",
     "text": [
      "Epoch 01 | GCN MSE Loss: 236.9875 | NRF Loss: 3.4017 | JOINT Loss: 240.3893 | NRF Acc: 0.0561\n"
     ]
    },
    {
     "name": "stderr",
     "output_type": "stream",
     "text": [
      "Training epochs:   0%|          | 2/1000 [00:02<19:58,  1.20s/it]"
     ]
    },
    {
     "name": "stdout",
     "output_type": "stream",
     "text": [
      "Epoch 02 | GCN MSE Loss: 229.2899 | NRF Loss: 3.3772 | JOINT Loss: 232.6670 | NRF Acc: 0.0507\n"
     ]
    },
    {
     "name": "stderr",
     "output_type": "stream",
     "text": [
      "Training epochs:   0%|          | 3/1000 [00:03<18:39,  1.12s/it]"
     ]
    },
    {
     "name": "stdout",
     "output_type": "stream",
     "text": [
      "Epoch 03 | GCN MSE Loss: 221.7759 | NRF Loss: 3.3616 | JOINT Loss: 225.1375 | NRF Acc: 0.0370\n"
     ]
    },
    {
     "name": "stderr",
     "output_type": "stream",
     "text": [
      "Training epochs:   0%|          | 4/1000 [00:04<20:39,  1.24s/it]"
     ]
    },
    {
     "name": "stdout",
     "output_type": "stream",
     "text": [
      "Epoch 04 | GCN MSE Loss: 214.4484 | NRF Loss: 3.3542 | JOINT Loss: 217.8026 | NRF Acc: 0.0815\n"
     ]
    },
    {
     "name": "stderr",
     "output_type": "stream",
     "text": [
      "Training epochs:   0%|          | 5/1000 [00:05<19:21,  1.17s/it]"
     ]
    },
    {
     "name": "stdout",
     "output_type": "stream",
     "text": [
      "Epoch 05 | GCN MSE Loss: 207.3105 | NRF Loss: 3.3486 | JOINT Loss: 210.6591 | NRF Acc: 0.0800\n"
     ]
    },
    {
     "name": "stderr",
     "output_type": "stream",
     "text": [
      "Training epochs:   1%|          | 6/1000 [00:07<20:53,  1.26s/it]"
     ]
    },
    {
     "name": "stdout",
     "output_type": "stream",
     "text": [
      "Epoch 06 | GCN MSE Loss: 200.3652 | NRF Loss: 3.3439 | JOINT Loss: 203.7091 | NRF Acc: 0.1002\n"
     ]
    },
    {
     "name": "stderr",
     "output_type": "stream",
     "text": [
      "Training epochs:   1%|          | 7/1000 [00:08<21:55,  1.33s/it]"
     ]
    },
    {
     "name": "stdout",
     "output_type": "stream",
     "text": [
      "Epoch 07 | GCN MSE Loss: 193.6134 | NRF Loss: 3.3401 | JOINT Loss: 196.9535 | NRF Acc: 0.1200\n"
     ]
    },
    {
     "name": "stderr",
     "output_type": "stream",
     "text": [
      "Training epochs:   1%|          | 8/1000 [00:10<22:41,  1.37s/it]"
     ]
    },
    {
     "name": "stdout",
     "output_type": "stream",
     "text": [
      "Epoch 08 | GCN MSE Loss: 187.0577 | NRF Loss: 3.3368 | JOINT Loss: 190.3945 | NRF Acc: 0.1352\n"
     ]
    },
    {
     "name": "stderr",
     "output_type": "stream",
     "text": [
      "Training epochs:   1%|          | 9/1000 [00:11<23:03,  1.40s/it]"
     ]
    },
    {
     "name": "stdout",
     "output_type": "stream",
     "text": [
      "Epoch 09 | GCN MSE Loss: 180.7000 | NRF Loss: 3.3338 | JOINT Loss: 184.0338 | NRF Acc: 0.1453\n"
     ]
    },
    {
     "name": "stderr",
     "output_type": "stream",
     "text": [
      "Training epochs:   1%|          | 10/1000 [00:13<23:19,  1.41s/it]"
     ]
    },
    {
     "name": "stdout",
     "output_type": "stream",
     "text": [
      "Epoch 10 | GCN MSE Loss: 174.5409 | NRF Loss: 3.3311 | JOINT Loss: 177.8720 | NRF Acc: 0.1556\n"
     ]
    },
    {
     "name": "stderr",
     "output_type": "stream",
     "text": [
      "Training epochs:   1%|          | 11/1000 [00:14<24:55,  1.51s/it]"
     ]
    },
    {
     "name": "stdout",
     "output_type": "stream",
     "text": [
      "Epoch 11 | GCN MSE Loss: 168.5810 | NRF Loss: 3.3285 | JOINT Loss: 171.9095 | NRF Acc: 0.1736\n"
     ]
    },
    {
     "name": "stderr",
     "output_type": "stream",
     "text": [
      "Training epochs:   1%|          | 12/1000 [00:16<24:39,  1.50s/it]"
     ]
    },
    {
     "name": "stdout",
     "output_type": "stream",
     "text": [
      "Epoch 12 | GCN MSE Loss: 162.8207 | NRF Loss: 3.3261 | JOINT Loss: 166.1468 | NRF Acc: 0.1892\n"
     ]
    },
    {
     "name": "stderr",
     "output_type": "stream",
     "text": [
      "Training epochs:   1%|▏         | 13/1000 [00:17<22:16,  1.35s/it]"
     ]
    },
    {
     "name": "stdout",
     "output_type": "stream",
     "text": [
      "Epoch 13 | GCN MSE Loss: 157.2588 | NRF Loss: 3.3240 | JOINT Loss: 160.5828 | NRF Acc: 0.1761\n"
     ]
    },
    {
     "name": "stderr",
     "output_type": "stream",
     "text": [
      "Training epochs:   1%|▏         | 14/1000 [00:18<20:36,  1.25s/it]"
     ]
    },
    {
     "name": "stdout",
     "output_type": "stream",
     "text": [
      "Epoch 14 | GCN MSE Loss: 151.8944 | NRF Loss: 3.3221 | JOINT Loss: 155.2165 | NRF Acc: 0.1553\n"
     ]
    },
    {
     "name": "stderr",
     "output_type": "stream",
     "text": [
      "Training epochs:   2%|▏         | 15/1000 [00:19<19:27,  1.19s/it]"
     ]
    },
    {
     "name": "stdout",
     "output_type": "stream",
     "text": [
      "Epoch 15 | GCN MSE Loss: 146.7272 | NRF Loss: 3.3203 | JOINT Loss: 150.0475 | NRF Acc: 0.1588\n"
     ]
    },
    {
     "name": "stderr",
     "output_type": "stream",
     "text": [
      "Training epochs:   2%|▏         | 16/1000 [00:20<18:39,  1.14s/it]"
     ]
    },
    {
     "name": "stdout",
     "output_type": "stream",
     "text": [
      "Epoch 16 | GCN MSE Loss: 141.7557 | NRF Loss: 3.3184 | JOINT Loss: 145.0741 | NRF Acc: 0.1660\n"
     ]
    },
    {
     "name": "stderr",
     "output_type": "stream",
     "text": [
      "Training epochs:   2%|▏         | 17/1000 [00:21<18:05,  1.10s/it]"
     ]
    },
    {
     "name": "stdout",
     "output_type": "stream",
     "text": [
      "Epoch 17 | GCN MSE Loss: 136.9775 | NRF Loss: 3.3167 | JOINT Loss: 140.2942 | NRF Acc: 0.1702\n"
     ]
    },
    {
     "name": "stderr",
     "output_type": "stream",
     "text": [
      "Training epochs:   2%|▏         | 18/1000 [00:22<17:40,  1.08s/it]"
     ]
    },
    {
     "name": "stdout",
     "output_type": "stream",
     "text": [
      "Epoch 18 | GCN MSE Loss: 132.3904 | NRF Loss: 3.3152 | JOINT Loss: 135.7056 | NRF Acc: 0.1844\n"
     ]
    },
    {
     "name": "stderr",
     "output_type": "stream",
     "text": [
      "Training epochs:   2%|▏         | 19/1000 [00:24<19:28,  1.19s/it]"
     ]
    },
    {
     "name": "stdout",
     "output_type": "stream",
     "text": [
      "Epoch 19 | GCN MSE Loss: 127.9917 | NRF Loss: 3.3140 | JOINT Loss: 131.3057 | NRF Acc: 0.1936\n"
     ]
    },
    {
     "name": "stderr",
     "output_type": "stream",
     "text": [
      "Training epochs:   2%|▏         | 20/1000 [00:25<20:37,  1.26s/it]"
     ]
    },
    {
     "name": "stdout",
     "output_type": "stream",
     "text": [
      "Epoch 20 | GCN MSE Loss: 123.7785 | NRF Loss: 3.3129 | JOINT Loss: 127.0914 | NRF Acc: 0.2012\n"
     ]
    },
    {
     "name": "stderr",
     "output_type": "stream",
     "text": [
      "Training epochs:   2%|▏         | 21/1000 [00:26<21:26,  1.31s/it]"
     ]
    },
    {
     "name": "stdout",
     "output_type": "stream",
     "text": [
      "Epoch 21 | GCN MSE Loss: 119.7474 | NRF Loss: 3.3119 | JOINT Loss: 123.0593 | NRF Acc: 0.2081\n"
     ]
    },
    {
     "name": "stderr",
     "output_type": "stream",
     "text": [
      "Training epochs:   2%|▏         | 22/1000 [00:28<21:58,  1.35s/it]"
     ]
    },
    {
     "name": "stdout",
     "output_type": "stream",
     "text": [
      "Epoch 22 | GCN MSE Loss: 115.8948 | NRF Loss: 3.3111 | JOINT Loss: 119.2058 | NRF Acc: 0.2154\n"
     ]
    },
    {
     "name": "stderr",
     "output_type": "stream",
     "text": [
      "Training epochs:   2%|▏         | 23/1000 [00:29<22:30,  1.38s/it]"
     ]
    },
    {
     "name": "stdout",
     "output_type": "stream",
     "text": [
      "Epoch 23 | GCN MSE Loss: 112.2169 | NRF Loss: 3.3104 | JOINT Loss: 115.5272 | NRF Acc: 0.2199\n"
     ]
    },
    {
     "name": "stderr",
     "output_type": "stream",
     "text": [
      "Training epochs:   2%|▏         | 24/1000 [00:30<20:44,  1.27s/it]"
     ]
    },
    {
     "name": "stdout",
     "output_type": "stream",
     "text": [
      "Epoch 24 | GCN MSE Loss: 108.7098 | NRF Loss: 3.3096 | JOINT Loss: 112.0194 | NRF Acc: 0.2195\n"
     ]
    },
    {
     "name": "stderr",
     "output_type": "stream",
     "text": [
      "Training epochs:   2%|▎         | 25/1000 [00:32<21:30,  1.32s/it]"
     ]
    },
    {
     "name": "stdout",
     "output_type": "stream",
     "text": [
      "Epoch 25 | GCN MSE Loss: 105.3680 | NRF Loss: 3.3088 | JOINT Loss: 108.6768 | NRF Acc: 0.2275\n"
     ]
    },
    {
     "name": "stderr",
     "output_type": "stream",
     "text": [
      "Training epochs:   3%|▎         | 26/1000 [00:33<22:01,  1.36s/it]"
     ]
    },
    {
     "name": "stdout",
     "output_type": "stream",
     "text": [
      "Epoch 26 | GCN MSE Loss: 102.1865 | NRF Loss: 3.3079 | JOINT Loss: 105.4944 | NRF Acc: 0.2334\n"
     ]
    },
    {
     "name": "stderr",
     "output_type": "stream",
     "text": [
      "Training epochs:   3%|▎         | 27/1000 [00:34<20:24,  1.26s/it]"
     ]
    },
    {
     "name": "stdout",
     "output_type": "stream",
     "text": [
      "Epoch 27 | GCN MSE Loss: 99.1603 | NRF Loss: 3.3070 | JOINT Loss: 102.4673 | NRF Acc: 0.2320\n"
     ]
    },
    {
     "name": "stderr",
     "output_type": "stream",
     "text": [
      "Training epochs:   3%|▎         | 28/1000 [00:36<21:23,  1.32s/it]"
     ]
    },
    {
     "name": "stdout",
     "output_type": "stream",
     "text": [
      "Epoch 28 | GCN MSE Loss: 96.2835 | NRF Loss: 3.3060 | JOINT Loss: 99.5894 | NRF Acc: 0.2386\n"
     ]
    },
    {
     "name": "stderr",
     "output_type": "stream",
     "text": [
      "Training epochs:   3%|▎         | 29/1000 [00:37<22:03,  1.36s/it]"
     ]
    },
    {
     "name": "stdout",
     "output_type": "stream",
     "text": [
      "Epoch 29 | GCN MSE Loss: 93.5506 | NRF Loss: 3.3050 | JOINT Loss: 96.8556 | NRF Acc: 0.2434\n"
     ]
    },
    {
     "name": "stderr",
     "output_type": "stream",
     "text": [
      "Training epochs:   3%|▎         | 30/1000 [00:38<20:23,  1.26s/it]"
     ]
    },
    {
     "name": "stdout",
     "output_type": "stream",
     "text": [
      "Epoch 30 | GCN MSE Loss: 90.9560 | NRF Loss: 3.3039 | JOINT Loss: 94.2599 | NRF Acc: 0.2410\n"
     ]
    },
    {
     "name": "stderr",
     "output_type": "stream",
     "text": [
      "Training epochs:   3%|▎         | 31/1000 [00:39<19:14,  1.19s/it]"
     ]
    },
    {
     "name": "stdout",
     "output_type": "stream",
     "text": [
      "Epoch 31 | GCN MSE Loss: 88.4941 | NRF Loss: 3.3028 | JOINT Loss: 91.7969 | NRF Acc: 0.2351\n"
     ]
    },
    {
     "name": "stderr",
     "output_type": "stream",
     "text": [
      "Training epochs:   3%|▎         | 32/1000 [00:40<18:25,  1.14s/it]"
     ]
    },
    {
     "name": "stdout",
     "output_type": "stream",
     "text": [
      "Epoch 32 | GCN MSE Loss: 86.1591 | NRF Loss: 3.3017 | JOINT Loss: 89.4607 | NRF Acc: 0.2316\n"
     ]
    },
    {
     "name": "stderr",
     "output_type": "stream",
     "text": [
      "Training epochs:   3%|▎         | 33/1000 [00:41<17:51,  1.11s/it]"
     ]
    },
    {
     "name": "stdout",
     "output_type": "stream",
     "text": [
      "Epoch 33 | GCN MSE Loss: 83.9449 | NRF Loss: 3.3005 | JOINT Loss: 87.2454 | NRF Acc: 0.2289\n"
     ]
    },
    {
     "name": "stderr",
     "output_type": "stream",
     "text": [
      "Training epochs:   3%|▎         | 34/1000 [00:42<17:27,  1.08s/it]"
     ]
    },
    {
     "name": "stdout",
     "output_type": "stream",
     "text": [
      "Epoch 34 | GCN MSE Loss: 81.8459 | NRF Loss: 3.2992 | JOINT Loss: 85.1451 | NRF Acc: 0.2280\n"
     ]
    },
    {
     "name": "stderr",
     "output_type": "stream",
     "text": [
      "Training epochs:   4%|▎         | 35/1000 [00:43<17:08,  1.07s/it]"
     ]
    },
    {
     "name": "stdout",
     "output_type": "stream",
     "text": [
      "Epoch 35 | GCN MSE Loss: 79.8561 | NRF Loss: 3.2979 | JOINT Loss: 83.1540 | NRF Acc: 0.2294\n"
     ]
    },
    {
     "name": "stderr",
     "output_type": "stream",
     "text": [
      "Training epochs:   4%|▎         | 36/1000 [00:44<16:56,  1.05s/it]"
     ]
    },
    {
     "name": "stdout",
     "output_type": "stream",
     "text": [
      "Epoch 36 | GCN MSE Loss: 77.9692 | NRF Loss: 3.2964 | JOINT Loss: 81.2657 | NRF Acc: 0.2284\n"
     ]
    },
    {
     "name": "stderr",
     "output_type": "stream",
     "text": [
      "Training epochs:   4%|▎         | 37/1000 [00:45<16:47,  1.05s/it]"
     ]
    },
    {
     "name": "stdout",
     "output_type": "stream",
     "text": [
      "Epoch 37 | GCN MSE Loss: 76.1796 | NRF Loss: 3.2949 | JOINT Loss: 79.4744 | NRF Acc: 0.2268\n"
     ]
    },
    {
     "name": "stderr",
     "output_type": "stream",
     "text": [
      "Training epochs:   4%|▍         | 38/1000 [00:46<16:41,  1.04s/it]"
     ]
    },
    {
     "name": "stdout",
     "output_type": "stream",
     "text": [
      "Epoch 38 | GCN MSE Loss: 74.4809 | NRF Loss: 3.2931 | JOINT Loss: 77.7740 | NRF Acc: 0.2291\n"
     ]
    },
    {
     "name": "stderr",
     "output_type": "stream",
     "text": [
      "Training epochs:   4%|▍         | 39/1000 [00:47<16:35,  1.04s/it]"
     ]
    },
    {
     "name": "stdout",
     "output_type": "stream",
     "text": [
      "Epoch 39 | GCN MSE Loss: 72.8678 | NRF Loss: 3.2912 | JOINT Loss: 76.1590 | NRF Acc: 0.2322\n"
     ]
    },
    {
     "name": "stderr",
     "output_type": "stream",
     "text": [
      "Training epochs:   4%|▍         | 40/1000 [00:48<16:31,  1.03s/it]"
     ]
    },
    {
     "name": "stdout",
     "output_type": "stream",
     "text": [
      "Epoch 40 | GCN MSE Loss: 71.3352 | NRF Loss: 3.2892 | JOINT Loss: 74.6244 | NRF Acc: 0.2351\n"
     ]
    },
    {
     "name": "stderr",
     "output_type": "stream",
     "text": [
      "Training epochs:   4%|▍         | 41/1000 [00:49<16:28,  1.03s/it]"
     ]
    },
    {
     "name": "stdout",
     "output_type": "stream",
     "text": [
      "Epoch 41 | GCN MSE Loss: 69.8773 | NRF Loss: 3.2869 | JOINT Loss: 73.1643 | NRF Acc: 0.2370\n"
     ]
    },
    {
     "name": "stderr",
     "output_type": "stream",
     "text": [
      "Training epochs:   4%|▍         | 42/1000 [00:50<16:26,  1.03s/it]"
     ]
    },
    {
     "name": "stdout",
     "output_type": "stream",
     "text": [
      "Epoch 42 | GCN MSE Loss: 68.4890 | NRF Loss: 3.2845 | JOINT Loss: 71.7736 | NRF Acc: 0.2396\n"
     ]
    },
    {
     "name": "stderr",
     "output_type": "stream",
     "text": [
      "Training epochs:   4%|▍         | 43/1000 [00:52<18:22,  1.15s/it]"
     ]
    },
    {
     "name": "stdout",
     "output_type": "stream",
     "text": [
      "Epoch 43 | GCN MSE Loss: 67.1654 | NRF Loss: 3.2821 | JOINT Loss: 70.4475 | NRF Acc: 0.2446\n"
     ]
    },
    {
     "name": "stderr",
     "output_type": "stream",
     "text": [
      "Training epochs:   4%|▍         | 44/1000 [00:53<19:39,  1.23s/it]"
     ]
    },
    {
     "name": "stdout",
     "output_type": "stream",
     "text": [
      "Epoch 44 | GCN MSE Loss: 65.9018 | NRF Loss: 3.2795 | JOINT Loss: 69.1813 | NRF Acc: 0.2490\n"
     ]
    },
    {
     "name": "stderr",
     "output_type": "stream",
     "text": [
      "Training epochs:   4%|▍         | 45/1000 [00:54<17:25,  1.09s/it]"
     ]
    },
    {
     "name": "stdout",
     "output_type": "stream",
     "text": [
      "Epoch 45 | GCN MSE Loss: 64.6936 | NRF Loss: 3.2767 | JOINT Loss: 67.9704 | NRF Acc: 0.2493\n"
     ]
    },
    {
     "name": "stderr",
     "output_type": "stream",
     "text": [
      "Training epochs:   5%|▍         | 46/1000 [00:56<18:52,  1.19s/it]"
     ]
    },
    {
     "name": "stdout",
     "output_type": "stream",
     "text": [
      "Epoch 46 | GCN MSE Loss: 63.5365 | NRF Loss: 3.2739 | JOINT Loss: 66.8104 | NRF Acc: 0.2495\n"
     ]
    },
    {
     "name": "stderr",
     "output_type": "stream",
     "text": [
      "Training epochs:   5%|▍         | 47/1000 [00:57<19:53,  1.25s/it]"
     ]
    },
    {
     "name": "stdout",
     "output_type": "stream",
     "text": [
      "Epoch 47 | GCN MSE Loss: 62.4262 | NRF Loss: 3.2709 | JOINT Loss: 65.6972 | NRF Acc: 0.2503\n"
     ]
    },
    {
     "name": "stderr",
     "output_type": "stream",
     "text": [
      "Training epochs:   5%|▍         | 48/1000 [00:58<18:44,  1.18s/it]"
     ]
    },
    {
     "name": "stdout",
     "output_type": "stream",
     "text": [
      "Epoch 48 | GCN MSE Loss: 61.3591 | NRF Loss: 3.2678 | JOINT Loss: 64.6269 | NRF Acc: 0.2488\n"
     ]
    },
    {
     "name": "stderr",
     "output_type": "stream",
     "text": [
      "Training epochs:   5%|▍         | 49/1000 [00:59<19:47,  1.25s/it]"
     ]
    },
    {
     "name": "stdout",
     "output_type": "stream",
     "text": [
      "Epoch 49 | GCN MSE Loss: 60.3314 | NRF Loss: 3.2648 | JOINT Loss: 63.5962 | NRF Acc: 0.2564\n"
     ]
    },
    {
     "name": "stderr",
     "output_type": "stream",
     "text": [
      "Training epochs:   5%|▌         | 50/1000 [01:00<18:38,  1.18s/it]"
     ]
    },
    {
     "name": "stdout",
     "output_type": "stream",
     "text": [
      "Epoch 50 | GCN MSE Loss: 59.3402 | NRF Loss: 3.2615 | JOINT Loss: 62.6017 | NRF Acc: 0.2543\n"
     ]
    },
    {
     "name": "stderr",
     "output_type": "stream",
     "text": [
      "Training epochs:   5%|▌         | 51/1000 [01:01<16:44,  1.06s/it]"
     ]
    },
    {
     "name": "stdout",
     "output_type": "stream",
     "text": [
      "Epoch 51 | GCN MSE Loss: 58.3822 | NRF Loss: 3.2582 | JOINT Loss: 61.6404 | NRF Acc: 0.2557\n"
     ]
    },
    {
     "name": "stderr",
     "output_type": "stream",
     "text": [
      "Training epochs:   5%|▌         | 52/1000 [01:02<14:27,  1.09it/s]"
     ]
    },
    {
     "name": "stdout",
     "output_type": "stream",
     "text": [
      "Epoch 52 | GCN MSE Loss: 57.4548 | NRF Loss: 3.2550 | JOINT Loss: 60.7097 | NRF Acc: 0.2673\n"
     ]
    },
    {
     "name": "stderr",
     "output_type": "stream",
     "text": [
      "Training epochs:   5%|▌         | 53/1000 [01:02<12:48,  1.23it/s]"
     ]
    },
    {
     "name": "stdout",
     "output_type": "stream",
     "text": [
      "Epoch 53 | GCN MSE Loss: 56.5554 | NRF Loss: 3.2514 | JOINT Loss: 59.8068 | NRF Acc: 0.2810\n"
     ]
    },
    {
     "name": "stderr",
     "output_type": "stream",
     "text": [
      "Training epochs:   5%|▌         | 54/1000 [01:03<11:08,  1.42it/s]"
     ]
    },
    {
     "name": "stdout",
     "output_type": "stream",
     "text": [
      "Epoch 54 | GCN MSE Loss: 55.6815 | NRF Loss: 3.2480 | JOINT Loss: 58.9295 | NRF Acc: 0.2675\n"
     ]
    },
    {
     "name": "stderr",
     "output_type": "stream",
     "text": [
      "Training epochs:   6%|▌         | 55/1000 [01:03<09:58,  1.58it/s]"
     ]
    },
    {
     "name": "stdout",
     "output_type": "stream",
     "text": [
      "Epoch 55 | GCN MSE Loss: 54.8310 | NRF Loss: 3.2445 | JOINT Loss: 58.0755 | NRF Acc: 0.2729\n"
     ]
    },
    {
     "name": "stderr",
     "output_type": "stream",
     "text": [
      "Training epochs:   6%|▌         | 56/1000 [01:04<09:14,  1.70it/s]"
     ]
    },
    {
     "name": "stdout",
     "output_type": "stream",
     "text": [
      "Epoch 56 | GCN MSE Loss: 54.0020 | NRF Loss: 3.2409 | JOINT Loss: 57.2429 | NRF Acc: 0.2708\n"
     ]
    },
    {
     "name": "stderr",
     "output_type": "stream",
     "text": [
      "Training epochs:   6%|▌         | 57/1000 [01:04<08:57,  1.75it/s]"
     ]
    },
    {
     "name": "stdout",
     "output_type": "stream",
     "text": [
      "Epoch 57 | GCN MSE Loss: 53.1929 | NRF Loss: 3.2373 | JOINT Loss: 56.4302 | NRF Acc: 0.2751\n"
     ]
    },
    {
     "name": "stderr",
     "output_type": "stream",
     "text": [
      "Training epochs:   6%|▌         | 58/1000 [01:05<09:27,  1.66it/s]"
     ]
    },
    {
     "name": "stdout",
     "output_type": "stream",
     "text": [
      "Epoch 58 | GCN MSE Loss: 52.4021 | NRF Loss: 3.2337 | JOINT Loss: 55.6359 | NRF Acc: 0.2817\n"
     ]
    },
    {
     "name": "stderr",
     "output_type": "stream",
     "text": [
      "Training epochs:   6%|▌         | 59/1000 [01:06<09:49,  1.60it/s]"
     ]
    },
    {
     "name": "stdout",
     "output_type": "stream",
     "text": [
      "Epoch 59 | GCN MSE Loss: 51.6284 | NRF Loss: 3.2300 | JOINT Loss: 54.8584 | NRF Acc: 0.2843\n"
     ]
    },
    {
     "name": "stderr",
     "output_type": "stream",
     "text": [
      "Training epochs:   6%|▌         | 60/1000 [01:07<13:40,  1.15it/s]"
     ]
    },
    {
     "name": "stdout",
     "output_type": "stream",
     "text": [
      "Epoch 60 | GCN MSE Loss: 50.8708 | NRF Loss: 3.2263 | JOINT Loss: 54.0971 | NRF Acc: 0.2858\n"
     ]
    },
    {
     "name": "stderr",
     "output_type": "stream",
     "text": [
      "Training epochs:   6%|▌         | 61/1000 [01:08<14:23,  1.09it/s]"
     ]
    },
    {
     "name": "stdout",
     "output_type": "stream",
     "text": [
      "Epoch 61 | GCN MSE Loss: 50.1281 | NRF Loss: 3.2225 | JOINT Loss: 53.3506 | NRF Acc: 0.2838\n"
     ]
    },
    {
     "name": "stderr",
     "output_type": "stream",
     "text": [
      "Training epochs:   6%|▌         | 62/1000 [01:09<14:52,  1.05it/s]"
     ]
    },
    {
     "name": "stdout",
     "output_type": "stream",
     "text": [
      "Epoch 62 | GCN MSE Loss: 49.3994 | NRF Loss: 3.2189 | JOINT Loss: 52.6183 | NRF Acc: 0.2858\n"
     ]
    },
    {
     "name": "stderr",
     "output_type": "stream",
     "text": [
      "Training epochs:   6%|▋         | 63/1000 [01:11<17:13,  1.10s/it]"
     ]
    },
    {
     "name": "stdout",
     "output_type": "stream",
     "text": [
      "Epoch 63 | GCN MSE Loss: 48.6840 | NRF Loss: 3.2150 | JOINT Loss: 51.8989 | NRF Acc: 0.2883\n"
     ]
    },
    {
     "name": "stderr",
     "output_type": "stream",
     "text": [
      "Training epochs:   6%|▋         | 64/1000 [01:12<18:58,  1.22s/it]"
     ]
    },
    {
     "name": "stdout",
     "output_type": "stream",
     "text": [
      "Epoch 64 | GCN MSE Loss: 47.9812 | NRF Loss: 3.2110 | JOINT Loss: 51.1922 | NRF Acc: 0.2907\n"
     ]
    },
    {
     "name": "stderr",
     "output_type": "stream",
     "text": [
      "Training epochs:   6%|▋         | 65/1000 [01:13<20:05,  1.29s/it]"
     ]
    },
    {
     "name": "stdout",
     "output_type": "stream",
     "text": [
      "Epoch 65 | GCN MSE Loss: 47.2904 | NRF Loss: 3.2071 | JOINT Loss: 50.4975 | NRF Acc: 0.2926\n"
     ]
    },
    {
     "name": "stderr",
     "output_type": "stream",
     "text": [
      "Training epochs:   7%|▋         | 66/1000 [01:15<20:53,  1.34s/it]"
     ]
    },
    {
     "name": "stdout",
     "output_type": "stream",
     "text": [
      "Epoch 66 | GCN MSE Loss: 46.6112 | NRF Loss: 3.2033 | JOINT Loss: 49.8145 | NRF Acc: 0.3021\n"
     ]
    },
    {
     "name": "stderr",
     "output_type": "stream",
     "text": [
      "Training epochs:   7%|▋         | 67/1000 [01:16<21:05,  1.36s/it]"
     ]
    },
    {
     "name": "stdout",
     "output_type": "stream",
     "text": [
      "Epoch 67 | GCN MSE Loss: 45.9433 | NRF Loss: 3.1993 | JOINT Loss: 49.1426 | NRF Acc: 0.3051\n"
     ]
    },
    {
     "name": "stderr",
     "output_type": "stream",
     "text": [
      "Training epochs:   7%|▋         | 68/1000 [01:18<21:04,  1.36s/it]"
     ]
    },
    {
     "name": "stdout",
     "output_type": "stream",
     "text": [
      "Epoch 68 | GCN MSE Loss: 45.2862 | NRF Loss: 3.1953 | JOINT Loss: 48.4815 | NRF Acc: 0.3071\n"
     ]
    },
    {
     "name": "stderr",
     "output_type": "stream",
     "text": [
      "Training epochs:   7%|▋         | 69/1000 [01:19<21:29,  1.38s/it]"
     ]
    },
    {
     "name": "stdout",
     "output_type": "stream",
     "text": [
      "Epoch 69 | GCN MSE Loss: 44.6396 | NRF Loss: 3.1914 | JOINT Loss: 47.8310 | NRF Acc: 0.3087\n"
     ]
    },
    {
     "name": "stderr",
     "output_type": "stream",
     "text": [
      "Training epochs:   7%|▋         | 70/1000 [01:21<21:48,  1.41s/it]"
     ]
    },
    {
     "name": "stdout",
     "output_type": "stream",
     "text": [
      "Epoch 70 | GCN MSE Loss: 44.0033 | NRF Loss: 3.1875 | JOINT Loss: 47.1908 | NRF Acc: 0.3116\n"
     ]
    },
    {
     "name": "stderr",
     "output_type": "stream",
     "text": [
      "Training epochs:   7%|▋         | 71/1000 [01:22<22:04,  1.43s/it]"
     ]
    },
    {
     "name": "stdout",
     "output_type": "stream",
     "text": [
      "Epoch 71 | GCN MSE Loss: 43.3771 | NRF Loss: 3.1834 | JOINT Loss: 46.5605 | NRF Acc: 0.3144\n"
     ]
    },
    {
     "name": "stderr",
     "output_type": "stream",
     "text": [
      "Training epochs:   7%|▋         | 72/1000 [01:24<22:09,  1.43s/it]"
     ]
    },
    {
     "name": "stdout",
     "output_type": "stream",
     "text": [
      "Epoch 72 | GCN MSE Loss: 42.7612 | NRF Loss: 3.1795 | JOINT Loss: 45.9407 | NRF Acc: 0.3224\n"
     ]
    },
    {
     "name": "stderr",
     "output_type": "stream",
     "text": [
      "Training epochs:   7%|▋         | 73/1000 [01:25<20:14,  1.31s/it]"
     ]
    },
    {
     "name": "stdout",
     "output_type": "stream",
     "text": [
      "Epoch 73 | GCN MSE Loss: 42.1550 | NRF Loss: 3.1756 | JOINT Loss: 45.3306 | NRF Acc: 0.3196\n"
     ]
    },
    {
     "name": "stderr",
     "output_type": "stream",
     "text": [
      "Training epochs:   7%|▋         | 74/1000 [01:26<20:52,  1.35s/it]"
     ]
    },
    {
     "name": "stdout",
     "output_type": "stream",
     "text": [
      "Epoch 74 | GCN MSE Loss: 41.5585 | NRF Loss: 3.1716 | JOINT Loss: 44.7301 | NRF Acc: 0.3227\n"
     ]
    },
    {
     "name": "stderr",
     "output_type": "stream",
     "text": [
      "Training epochs:   8%|▊         | 75/1000 [01:27<21:10,  1.37s/it]"
     ]
    },
    {
     "name": "stdout",
     "output_type": "stream",
     "text": [
      "Epoch 75 | GCN MSE Loss: 40.9716 | NRF Loss: 3.1675 | JOINT Loss: 44.1391 | NRF Acc: 0.3317\n"
     ]
    },
    {
     "name": "stderr",
     "output_type": "stream",
     "text": [
      "Training epochs:   8%|▊         | 76/1000 [01:29<21:24,  1.39s/it]"
     ]
    },
    {
     "name": "stdout",
     "output_type": "stream",
     "text": [
      "Epoch 76 | GCN MSE Loss: 40.3944 | NRF Loss: 3.1635 | JOINT Loss: 43.5580 | NRF Acc: 0.3334\n"
     ]
    },
    {
     "name": "stderr",
     "output_type": "stream",
     "text": [
      "Training epochs:   8%|▊         | 77/1000 [01:30<21:45,  1.41s/it]"
     ]
    },
    {
     "name": "stdout",
     "output_type": "stream",
     "text": [
      "Epoch 77 | GCN MSE Loss: 39.8268 | NRF Loss: 3.1596 | JOINT Loss: 42.9863 | NRF Acc: 0.3341\n"
     ]
    },
    {
     "name": "stderr",
     "output_type": "stream",
     "text": [
      "Training epochs:   8%|▊         | 78/1000 [01:32<21:55,  1.43s/it]"
     ]
    },
    {
     "name": "stdout",
     "output_type": "stream",
     "text": [
      "Epoch 78 | GCN MSE Loss: 39.2682 | NRF Loss: 3.1555 | JOINT Loss: 42.4238 | NRF Acc: 0.3348\n"
     ]
    },
    {
     "name": "stderr",
     "output_type": "stream",
     "text": [
      "Training epochs:   8%|▊         | 79/1000 [01:33<22:02,  1.44s/it]"
     ]
    },
    {
     "name": "stdout",
     "output_type": "stream",
     "text": [
      "Epoch 79 | GCN MSE Loss: 38.7188 | NRF Loss: 3.1516 | JOINT Loss: 41.8704 | NRF Acc: 0.3392\n"
     ]
    },
    {
     "name": "stderr",
     "output_type": "stream",
     "text": [
      "Training epochs:   8%|▊         | 80/1000 [01:35<22:05,  1.44s/it]"
     ]
    },
    {
     "name": "stdout",
     "output_type": "stream",
     "text": [
      "Epoch 80 | GCN MSE Loss: 38.1783 | NRF Loss: 3.1476 | JOINT Loss: 41.3260 | NRF Acc: 0.3425\n"
     ]
    },
    {
     "name": "stderr",
     "output_type": "stream",
     "text": [
      "Training epochs:   8%|▊         | 81/1000 [01:36<22:05,  1.44s/it]"
     ]
    },
    {
     "name": "stdout",
     "output_type": "stream",
     "text": [
      "Epoch 81 | GCN MSE Loss: 37.6467 | NRF Loss: 3.1436 | JOINT Loss: 40.7904 | NRF Acc: 0.3444\n"
     ]
    },
    {
     "name": "stderr",
     "output_type": "stream",
     "text": [
      "Training epochs:   8%|▊         | 82/1000 [01:38<22:10,  1.45s/it]"
     ]
    },
    {
     "name": "stdout",
     "output_type": "stream",
     "text": [
      "Epoch 82 | GCN MSE Loss: 37.1239 | NRF Loss: 3.1397 | JOINT Loss: 40.2636 | NRF Acc: 0.3480\n"
     ]
    },
    {
     "name": "stderr",
     "output_type": "stream",
     "text": [
      "Training epochs:   8%|▊         | 83/1000 [01:39<22:17,  1.46s/it]"
     ]
    },
    {
     "name": "stdout",
     "output_type": "stream",
     "text": [
      "Epoch 83 | GCN MSE Loss: 36.6096 | NRF Loss: 3.1358 | JOINT Loss: 39.7454 | NRF Acc: 0.3492\n"
     ]
    },
    {
     "name": "stderr",
     "output_type": "stream",
     "text": [
      "Training epochs:   8%|▊         | 84/1000 [01:41<22:16,  1.46s/it]"
     ]
    },
    {
     "name": "stdout",
     "output_type": "stream",
     "text": [
      "Epoch 84 | GCN MSE Loss: 36.1037 | NRF Loss: 3.1319 | JOINT Loss: 39.2356 | NRF Acc: 0.3506\n"
     ]
    },
    {
     "name": "stderr",
     "output_type": "stream",
     "text": [
      "Training epochs:   8%|▊         | 85/1000 [01:42<22:15,  1.46s/it]"
     ]
    },
    {
     "name": "stdout",
     "output_type": "stream",
     "text": [
      "Epoch 85 | GCN MSE Loss: 35.6059 | NRF Loss: 3.1280 | JOINT Loss: 38.7338 | NRF Acc: 0.3534\n"
     ]
    },
    {
     "name": "stderr",
     "output_type": "stream",
     "text": [
      "Training epochs:   9%|▊         | 86/1000 [01:43<22:04,  1.45s/it]"
     ]
    },
    {
     "name": "stdout",
     "output_type": "stream",
     "text": [
      "Epoch 86 | GCN MSE Loss: 35.1161 | NRF Loss: 3.1241 | JOINT Loss: 38.2402 | NRF Acc: 0.3570\n"
     ]
    },
    {
     "name": "stderr",
     "output_type": "stream",
     "text": [
      "Training epochs:   9%|▊         | 87/1000 [01:45<21:49,  1.43s/it]"
     ]
    },
    {
     "name": "stdout",
     "output_type": "stream",
     "text": [
      "Epoch 87 | GCN MSE Loss: 34.6343 | NRF Loss: 3.1202 | JOINT Loss: 37.7545 | NRF Acc: 0.3587\n"
     ]
    },
    {
     "name": "stderr",
     "output_type": "stream",
     "text": [
      "Training epochs:   9%|▉         | 88/1000 [01:46<21:46,  1.43s/it]"
     ]
    },
    {
     "name": "stdout",
     "output_type": "stream",
     "text": [
      "Epoch 88 | GCN MSE Loss: 34.1602 | NRF Loss: 3.1164 | JOINT Loss: 37.2766 | NRF Acc: 0.3591\n"
     ]
    },
    {
     "name": "stderr",
     "output_type": "stream",
     "text": [
      "Training epochs:   9%|▉         | 89/1000 [01:48<21:47,  1.44s/it]"
     ]
    },
    {
     "name": "stdout",
     "output_type": "stream",
     "text": [
      "Epoch 89 | GCN MSE Loss: 33.6937 | NRF Loss: 3.1126 | JOINT Loss: 36.8063 | NRF Acc: 0.3611\n"
     ]
    },
    {
     "name": "stderr",
     "output_type": "stream",
     "text": [
      "Training epochs:   9%|▉         | 90/1000 [01:49<19:54,  1.31s/it]"
     ]
    },
    {
     "name": "stdout",
     "output_type": "stream",
     "text": [
      "Epoch 90 | GCN MSE Loss: 33.2347 | NRF Loss: 3.1088 | JOINT Loss: 36.3435 | NRF Acc: 0.3606\n"
     ]
    },
    {
     "name": "stderr",
     "output_type": "stream",
     "text": [
      "Training epochs:   9%|▉         | 91/1000 [01:50<20:34,  1.36s/it]"
     ]
    },
    {
     "name": "stdout",
     "output_type": "stream",
     "text": [
      "Epoch 91 | GCN MSE Loss: 32.7831 | NRF Loss: 3.1050 | JOINT Loss: 35.8881 | NRF Acc: 0.3636\n"
     ]
    },
    {
     "name": "stderr",
     "output_type": "stream",
     "text": [
      "Training epochs:   9%|▉         | 92/1000 [01:52<20:48,  1.37s/it]"
     ]
    },
    {
     "name": "stdout",
     "output_type": "stream",
     "text": [
      "Epoch 92 | GCN MSE Loss: 32.3387 | NRF Loss: 3.1013 | JOINT Loss: 35.4400 | NRF Acc: 0.3669\n"
     ]
    },
    {
     "name": "stderr",
     "output_type": "stream",
     "text": [
      "Training epochs:   9%|▉         | 93/1000 [01:53<21:08,  1.40s/it]"
     ]
    },
    {
     "name": "stdout",
     "output_type": "stream",
     "text": [
      "Epoch 93 | GCN MSE Loss: 31.9014 | NRF Loss: 3.0976 | JOINT Loss: 34.9990 | NRF Acc: 0.3703\n"
     ]
    },
    {
     "name": "stderr",
     "output_type": "stream",
     "text": [
      "Training epochs:   9%|▉         | 94/1000 [01:54<21:15,  1.41s/it]"
     ]
    },
    {
     "name": "stdout",
     "output_type": "stream",
     "text": [
      "Epoch 94 | GCN MSE Loss: 31.4710 | NRF Loss: 3.0939 | JOINT Loss: 34.5649 | NRF Acc: 0.3722\n"
     ]
    },
    {
     "name": "stderr",
     "output_type": "stream",
     "text": [
      "Training epochs:  10%|▉         | 95/1000 [01:56<21:20,  1.41s/it]"
     ]
    },
    {
     "name": "stdout",
     "output_type": "stream",
     "text": [
      "Epoch 95 | GCN MSE Loss: 31.0474 | NRF Loss: 3.0902 | JOINT Loss: 34.1376 | NRF Acc: 0.3733\n"
     ]
    },
    {
     "name": "stderr",
     "output_type": "stream",
     "text": [
      "Training epochs:  10%|▉         | 96/1000 [01:57<21:30,  1.43s/it]"
     ]
    },
    {
     "name": "stdout",
     "output_type": "stream",
     "text": [
      "Epoch 96 | GCN MSE Loss: 30.6303 | NRF Loss: 3.0865 | JOINT Loss: 33.7168 | NRF Acc: 0.3792\n"
     ]
    },
    {
     "name": "stderr",
     "output_type": "stream",
     "text": [
      "Training epochs:  10%|▉         | 97/1000 [01:59<21:37,  1.44s/it]"
     ]
    },
    {
     "name": "stdout",
     "output_type": "stream",
     "text": [
      "Epoch 97 | GCN MSE Loss: 30.2197 | NRF Loss: 3.0829 | JOINT Loss: 33.3026 | NRF Acc: 0.3837\n"
     ]
    },
    {
     "name": "stderr",
     "output_type": "stream",
     "text": [
      "Training epochs:  10%|▉         | 98/1000 [02:00<21:37,  1.44s/it]"
     ]
    },
    {
     "name": "stdout",
     "output_type": "stream",
     "text": [
      "Epoch 98 | GCN MSE Loss: 29.8156 | NRF Loss: 3.0792 | JOINT Loss: 32.8948 | NRF Acc: 0.3849\n"
     ]
    },
    {
     "name": "stderr",
     "output_type": "stream",
     "text": [
      "Training epochs:  10%|▉         | 99/1000 [02:02<21:42,  1.45s/it]"
     ]
    },
    {
     "name": "stdout",
     "output_type": "stream",
     "text": [
      "Epoch 99 | GCN MSE Loss: 29.4176 | NRF Loss: 3.0756 | JOINT Loss: 32.4933 | NRF Acc: 0.3904\n"
     ]
    },
    {
     "name": "stderr",
     "output_type": "stream",
     "text": [
      "Training epochs:  10%|█         | 100/1000 [02:03<21:47,  1.45s/it]"
     ]
    },
    {
     "name": "stdout",
     "output_type": "stream",
     "text": [
      "Epoch 100 | GCN MSE Loss: 29.0258 | NRF Loss: 3.0721 | JOINT Loss: 32.0979 | NRF Acc: 0.3930\n"
     ]
    },
    {
     "name": "stderr",
     "output_type": "stream",
     "text": [
      "Training epochs:  10%|█         | 101/1000 [02:05<21:47,  1.45s/it]"
     ]
    },
    {
     "name": "stdout",
     "output_type": "stream",
     "text": [
      "Epoch 101 | GCN MSE Loss: 28.6400 | NRF Loss: 3.0685 | JOINT Loss: 31.7085 | NRF Acc: 0.3939\n"
     ]
    },
    {
     "name": "stderr",
     "output_type": "stream",
     "text": [
      "Training epochs:  10%|█         | 102/1000 [02:06<21:48,  1.46s/it]"
     ]
    },
    {
     "name": "stdout",
     "output_type": "stream",
     "text": [
      "Epoch 102 | GCN MSE Loss: 28.2600 | NRF Loss: 3.0649 | JOINT Loss: 31.3249 | NRF Acc: 0.3975\n"
     ]
    },
    {
     "name": "stderr",
     "output_type": "stream",
     "text": [
      "Training epochs:  10%|█         | 103/1000 [02:08<21:48,  1.46s/it]"
     ]
    },
    {
     "name": "stdout",
     "output_type": "stream",
     "text": [
      "Epoch 103 | GCN MSE Loss: 27.8856 | NRF Loss: 3.0614 | JOINT Loss: 30.9470 | NRF Acc: 0.3999\n"
     ]
    },
    {
     "name": "stderr",
     "output_type": "stream",
     "text": [
      "Training epochs:  10%|█         | 104/1000 [02:09<21:50,  1.46s/it]"
     ]
    },
    {
     "name": "stdout",
     "output_type": "stream",
     "text": [
      "Epoch 104 | GCN MSE Loss: 27.5168 | NRF Loss: 3.0579 | JOINT Loss: 30.5746 | NRF Acc: 0.4020\n"
     ]
    },
    {
     "name": "stderr",
     "output_type": "stream",
     "text": [
      "Training epochs:  10%|█         | 105/1000 [02:11<21:48,  1.46s/it]"
     ]
    },
    {
     "name": "stdout",
     "output_type": "stream",
     "text": [
      "Epoch 105 | GCN MSE Loss: 27.1534 | NRF Loss: 3.0544 | JOINT Loss: 30.2078 | NRF Acc: 0.4044\n"
     ]
    },
    {
     "name": "stderr",
     "output_type": "stream",
     "text": [
      "Training epochs:  11%|█         | 106/1000 [02:12<21:20,  1.43s/it]"
     ]
    },
    {
     "name": "stdout",
     "output_type": "stream",
     "text": [
      "Epoch 106 | GCN MSE Loss: 26.7955 | NRF Loss: 3.0508 | JOINT Loss: 29.8463 | NRF Acc: 0.4074\n"
     ]
    },
    {
     "name": "stderr",
     "output_type": "stream",
     "text": [
      "Training epochs:  11%|█         | 107/1000 [02:13<20:39,  1.39s/it]"
     ]
    },
    {
     "name": "stdout",
     "output_type": "stream",
     "text": [
      "Epoch 107 | GCN MSE Loss: 26.4429 | NRF Loss: 3.0474 | JOINT Loss: 29.4902 | NRF Acc: 0.4114\n"
     ]
    },
    {
     "name": "stderr",
     "output_type": "stream",
     "text": [
      "Training epochs:  11%|█         | 108/1000 [02:14<19:03,  1.28s/it]"
     ]
    },
    {
     "name": "stdout",
     "output_type": "stream",
     "text": [
      "Epoch 108 | GCN MSE Loss: 26.0954 | NRF Loss: 3.0439 | JOINT Loss: 29.1393 | NRF Acc: 0.4226\n"
     ]
    },
    {
     "name": "stderr",
     "output_type": "stream",
     "text": [
      "Training epochs:  11%|█         | 109/1000 [02:16<19:48,  1.33s/it]"
     ]
    },
    {
     "name": "stdout",
     "output_type": "stream",
     "text": [
      "Epoch 109 | GCN MSE Loss: 25.7531 | NRF Loss: 3.0404 | JOINT Loss: 28.7935 | NRF Acc: 0.4276\n"
     ]
    },
    {
     "name": "stderr",
     "output_type": "stream",
     "text": [
      "Training epochs:  11%|█         | 110/1000 [02:17<20:19,  1.37s/it]"
     ]
    },
    {
     "name": "stdout",
     "output_type": "stream",
     "text": [
      "Epoch 110 | GCN MSE Loss: 25.4157 | NRF Loss: 3.0370 | JOINT Loss: 28.4527 | NRF Acc: 0.4330\n"
     ]
    },
    {
     "name": "stderr",
     "output_type": "stream",
     "text": [
      "Training epochs:  11%|█         | 111/1000 [02:19<20:44,  1.40s/it]"
     ]
    },
    {
     "name": "stdout",
     "output_type": "stream",
     "text": [
      "Epoch 111 | GCN MSE Loss: 25.0833 | NRF Loss: 3.0335 | JOINT Loss: 28.1168 | NRF Acc: 0.4415\n"
     ]
    },
    {
     "name": "stderr",
     "output_type": "stream",
     "text": [
      "Training epochs:  11%|█         | 112/1000 [02:20<20:58,  1.42s/it]"
     ]
    },
    {
     "name": "stdout",
     "output_type": "stream",
     "text": [
      "Epoch 112 | GCN MSE Loss: 24.7557 | NRF Loss: 3.0301 | JOINT Loss: 27.7858 | NRF Acc: 0.4559\n"
     ]
    },
    {
     "name": "stderr",
     "output_type": "stream",
     "text": [
      "Training epochs:  11%|█▏        | 113/1000 [02:22<21:08,  1.43s/it]"
     ]
    },
    {
     "name": "stdout",
     "output_type": "stream",
     "text": [
      "Epoch 113 | GCN MSE Loss: 24.4328 | NRF Loss: 3.0267 | JOINT Loss: 27.4595 | NRF Acc: 0.4616\n"
     ]
    },
    {
     "name": "stderr",
     "output_type": "stream",
     "text": [
      "Training epochs:  11%|█▏        | 114/1000 [02:23<21:11,  1.43s/it]"
     ]
    },
    {
     "name": "stdout",
     "output_type": "stream",
     "text": [
      "Epoch 114 | GCN MSE Loss: 24.1146 | NRF Loss: 3.0233 | JOINT Loss: 27.1379 | NRF Acc: 0.4654\n"
     ]
    },
    {
     "name": "stderr",
     "output_type": "stream",
     "text": [
      "Training epochs:  12%|█▏        | 115/1000 [02:24<21:20,  1.45s/it]"
     ]
    },
    {
     "name": "stdout",
     "output_type": "stream",
     "text": [
      "Epoch 115 | GCN MSE Loss: 23.8010 | NRF Loss: 3.0199 | JOINT Loss: 26.8209 | NRF Acc: 0.4694\n"
     ]
    },
    {
     "name": "stderr",
     "output_type": "stream",
     "text": [
      "Training epochs:  12%|█▏        | 116/1000 [02:26<21:24,  1.45s/it]"
     ]
    },
    {
     "name": "stdout",
     "output_type": "stream",
     "text": [
      "Epoch 116 | GCN MSE Loss: 23.4919 | NRF Loss: 3.0165 | JOINT Loss: 26.5085 | NRF Acc: 0.4707\n"
     ]
    },
    {
     "name": "stderr",
     "output_type": "stream",
     "text": [
      "Training epochs:  12%|█▏        | 117/1000 [02:27<21:29,  1.46s/it]"
     ]
    },
    {
     "name": "stdout",
     "output_type": "stream",
     "text": [
      "Epoch 117 | GCN MSE Loss: 23.1873 | NRF Loss: 3.0132 | JOINT Loss: 26.2005 | NRF Acc: 0.4735\n"
     ]
    },
    {
     "name": "stderr",
     "output_type": "stream",
     "text": [
      "Training epochs:  12%|█▏        | 118/1000 [02:29<21:31,  1.46s/it]"
     ]
    },
    {
     "name": "stdout",
     "output_type": "stream",
     "text": [
      "Epoch 118 | GCN MSE Loss: 22.8870 | NRF Loss: 3.0098 | JOINT Loss: 25.8969 | NRF Acc: 0.4789\n"
     ]
    },
    {
     "name": "stderr",
     "output_type": "stream",
     "text": [
      "Training epochs:  12%|█▏        | 119/1000 [02:30<21:30,  1.46s/it]"
     ]
    },
    {
     "name": "stdout",
     "output_type": "stream",
     "text": [
      "Epoch 119 | GCN MSE Loss: 22.5909 | NRF Loss: 3.0065 | JOINT Loss: 25.5974 | NRF Acc: 0.4820\n"
     ]
    },
    {
     "name": "stderr",
     "output_type": "stream",
     "text": [
      "Training epochs:  12%|█▏        | 120/1000 [02:32<21:20,  1.45s/it]"
     ]
    },
    {
     "name": "stdout",
     "output_type": "stream",
     "text": [
      "Epoch 120 | GCN MSE Loss: 22.2989 | NRF Loss: 3.0032 | JOINT Loss: 25.3021 | NRF Acc: 0.4849\n"
     ]
    },
    {
     "name": "stderr",
     "output_type": "stream",
     "text": [
      "Training epochs:  12%|█▏        | 121/1000 [02:33<21:13,  1.45s/it]"
     ]
    },
    {
     "name": "stdout",
     "output_type": "stream",
     "text": [
      "Epoch 121 | GCN MSE Loss: 22.0109 | NRF Loss: 2.9999 | JOINT Loss: 25.0108 | NRF Acc: 0.4877\n"
     ]
    },
    {
     "name": "stderr",
     "output_type": "stream",
     "text": [
      "Training epochs:  12%|█▏        | 122/1000 [02:35<21:07,  1.44s/it]"
     ]
    },
    {
     "name": "stdout",
     "output_type": "stream",
     "text": [
      "Epoch 122 | GCN MSE Loss: 21.7270 | NRF Loss: 2.9966 | JOINT Loss: 24.7235 | NRF Acc: 0.4905\n"
     ]
    },
    {
     "name": "stderr",
     "output_type": "stream",
     "text": [
      "Training epochs:  12%|█▏        | 123/1000 [02:36<21:05,  1.44s/it]"
     ]
    },
    {
     "name": "stdout",
     "output_type": "stream",
     "text": [
      "Epoch 123 | GCN MSE Loss: 21.4471 | NRF Loss: 2.9933 | JOINT Loss: 24.4403 | NRF Acc: 0.4967\n"
     ]
    },
    {
     "name": "stderr",
     "output_type": "stream",
     "text": [
      "Training epochs:  12%|█▏        | 124/1000 [02:38<21:07,  1.45s/it]"
     ]
    },
    {
     "name": "stdout",
     "output_type": "stream",
     "text": [
      "Epoch 124 | GCN MSE Loss: 21.1711 | NRF Loss: 2.9900 | JOINT Loss: 24.1611 | NRF Acc: 0.5010\n"
     ]
    },
    {
     "name": "stderr",
     "output_type": "stream",
     "text": [
      "Training epochs:  12%|█▎        | 125/1000 [02:39<21:09,  1.45s/it]"
     ]
    },
    {
     "name": "stdout",
     "output_type": "stream",
     "text": [
      "Epoch 125 | GCN MSE Loss: 20.8989 | NRF Loss: 2.9867 | JOINT Loss: 23.8856 | NRF Acc: 0.5054\n"
     ]
    },
    {
     "name": "stderr",
     "output_type": "stream",
     "text": [
      "Training epochs:  13%|█▎        | 126/1000 [02:40<21:09,  1.45s/it]"
     ]
    },
    {
     "name": "stdout",
     "output_type": "stream",
     "text": [
      "Epoch 126 | GCN MSE Loss: 20.6306 | NRF Loss: 2.9834 | JOINT Loss: 23.6140 | NRF Acc: 0.5113\n"
     ]
    },
    {
     "name": "stderr",
     "output_type": "stream",
     "text": [
      "Training epochs:  13%|█▎        | 127/1000 [02:42<21:08,  1.45s/it]"
     ]
    },
    {
     "name": "stdout",
     "output_type": "stream",
     "text": [
      "Epoch 127 | GCN MSE Loss: 20.3660 | NRF Loss: 2.9802 | JOINT Loss: 23.3461 | NRF Acc: 0.5178\n"
     ]
    },
    {
     "name": "stderr",
     "output_type": "stream",
     "text": [
      "Training epochs:  13%|█▎        | 128/1000 [02:43<21:05,  1.45s/it]"
     ]
    },
    {
     "name": "stdout",
     "output_type": "stream",
     "text": [
      "Epoch 128 | GCN MSE Loss: 20.1050 | NRF Loss: 2.9769 | JOINT Loss: 23.0819 | NRF Acc: 0.5218\n"
     ]
    },
    {
     "name": "stderr",
     "output_type": "stream",
     "text": [
      "Training epochs:  13%|█▎        | 129/1000 [02:45<21:03,  1.45s/it]"
     ]
    },
    {
     "name": "stdout",
     "output_type": "stream",
     "text": [
      "Epoch 129 | GCN MSE Loss: 19.8476 | NRF Loss: 2.9736 | JOINT Loss: 22.8212 | NRF Acc: 0.5256\n"
     ]
    },
    {
     "name": "stderr",
     "output_type": "stream",
     "text": [
      "Training epochs:  13%|█▎        | 130/1000 [02:46<21:03,  1.45s/it]"
     ]
    },
    {
     "name": "stdout",
     "output_type": "stream",
     "text": [
      "Epoch 130 | GCN MSE Loss: 19.5937 | NRF Loss: 2.9704 | JOINT Loss: 22.5641 | NRF Acc: 0.5296\n"
     ]
    },
    {
     "name": "stderr",
     "output_type": "stream",
     "text": [
      "Training epochs:  13%|█▎        | 131/1000 [02:48<21:05,  1.46s/it]"
     ]
    },
    {
     "name": "stdout",
     "output_type": "stream",
     "text": [
      "Epoch 131 | GCN MSE Loss: 19.3433 | NRF Loss: 2.9671 | JOINT Loss: 22.3104 | NRF Acc: 0.5341\n"
     ]
    },
    {
     "name": "stderr",
     "output_type": "stream",
     "text": [
      "Training epochs:  13%|█▎        | 132/1000 [02:49<21:03,  1.46s/it]"
     ]
    },
    {
     "name": "stdout",
     "output_type": "stream",
     "text": [
      "Epoch 132 | GCN MSE Loss: 19.0960 | NRF Loss: 2.9638 | JOINT Loss: 22.0599 | NRF Acc: 0.5383\n"
     ]
    },
    {
     "name": "stderr",
     "output_type": "stream",
     "text": [
      "Training epochs:  13%|█▎        | 133/1000 [02:51<20:59,  1.45s/it]"
     ]
    },
    {
     "name": "stdout",
     "output_type": "stream",
     "text": [
      "Epoch 133 | GCN MSE Loss: 18.8520 | NRF Loss: 2.9606 | JOINT Loss: 21.8126 | NRF Acc: 0.5436\n"
     ]
    },
    {
     "name": "stderr",
     "output_type": "stream",
     "text": [
      "Training epochs:  13%|█▎        | 134/1000 [02:52<20:54,  1.45s/it]"
     ]
    },
    {
     "name": "stdout",
     "output_type": "stream",
     "text": [
      "Epoch 134 | GCN MSE Loss: 18.6113 | NRF Loss: 2.9573 | JOINT Loss: 21.5686 | NRF Acc: 0.5483\n"
     ]
    },
    {
     "name": "stderr",
     "output_type": "stream",
     "text": [
      "Training epochs:  14%|█▎        | 135/1000 [02:53<20:44,  1.44s/it]"
     ]
    },
    {
     "name": "stdout",
     "output_type": "stream",
     "text": [
      "Epoch 135 | GCN MSE Loss: 18.3737 | NRF Loss: 2.9541 | JOINT Loss: 21.3278 | NRF Acc: 0.5537\n"
     ]
    },
    {
     "name": "stderr",
     "output_type": "stream",
     "text": [
      "Training epochs:  14%|█▎        | 136/1000 [02:55<20:36,  1.43s/it]"
     ]
    },
    {
     "name": "stdout",
     "output_type": "stream",
     "text": [
      "Epoch 136 | GCN MSE Loss: 18.1395 | NRF Loss: 2.9508 | JOINT Loss: 21.0903 | NRF Acc: 0.5597\n"
     ]
    },
    {
     "name": "stderr",
     "output_type": "stream",
     "text": [
      "Training epochs:  14%|█▎        | 137/1000 [02:56<20:41,  1.44s/it]"
     ]
    },
    {
     "name": "stdout",
     "output_type": "stream",
     "text": [
      "Epoch 137 | GCN MSE Loss: 17.9086 | NRF Loss: 2.9475 | JOINT Loss: 20.8561 | NRF Acc: 0.5649\n"
     ]
    },
    {
     "name": "stderr",
     "output_type": "stream",
     "text": [
      "Training epochs:  14%|█▍        | 138/1000 [02:58<20:46,  1.45s/it]"
     ]
    },
    {
     "name": "stdout",
     "output_type": "stream",
     "text": [
      "Epoch 138 | GCN MSE Loss: 17.6808 | NRF Loss: 2.9442 | JOINT Loss: 20.6250 | NRF Acc: 0.5698\n"
     ]
    },
    {
     "name": "stderr",
     "output_type": "stream",
     "text": [
      "Training epochs:  14%|█▍        | 139/1000 [02:59<20:46,  1.45s/it]"
     ]
    },
    {
     "name": "stdout",
     "output_type": "stream",
     "text": [
      "Epoch 139 | GCN MSE Loss: 17.4561 | NRF Loss: 2.9410 | JOINT Loss: 20.3970 | NRF Acc: 0.5744\n"
     ]
    },
    {
     "name": "stderr",
     "output_type": "stream",
     "text": [
      "Training epochs:  14%|█▍        | 140/1000 [03:01<20:46,  1.45s/it]"
     ]
    },
    {
     "name": "stdout",
     "output_type": "stream",
     "text": [
      "Epoch 140 | GCN MSE Loss: 17.2345 | NRF Loss: 2.9377 | JOINT Loss: 20.1722 | NRF Acc: 0.5789\n"
     ]
    },
    {
     "name": "stderr",
     "output_type": "stream",
     "text": [
      "Training epochs:  14%|█▍        | 141/1000 [03:02<20:46,  1.45s/it]"
     ]
    },
    {
     "name": "stdout",
     "output_type": "stream",
     "text": [
      "Epoch 141 | GCN MSE Loss: 17.0160 | NRF Loss: 2.9344 | JOINT Loss: 19.9504 | NRF Acc: 0.5821\n"
     ]
    },
    {
     "name": "stderr",
     "output_type": "stream",
     "text": [
      "Training epochs:  14%|█▍        | 142/1000 [03:04<20:47,  1.45s/it]"
     ]
    },
    {
     "name": "stdout",
     "output_type": "stream",
     "text": [
      "Epoch 142 | GCN MSE Loss: 16.8006 | NRF Loss: 2.9311 | JOINT Loss: 19.7317 | NRF Acc: 0.5880\n"
     ]
    },
    {
     "name": "stderr",
     "output_type": "stream",
     "text": [
      "Training epochs:  14%|█▍        | 143/1000 [03:05<20:48,  1.46s/it]"
     ]
    },
    {
     "name": "stdout",
     "output_type": "stream",
     "text": [
      "Epoch 143 | GCN MSE Loss: 16.5882 | NRF Loss: 2.9278 | JOINT Loss: 19.5159 | NRF Acc: 0.5911\n"
     ]
    },
    {
     "name": "stderr",
     "output_type": "stream",
     "text": [
      "Training epochs:  14%|█▍        | 144/1000 [03:07<20:41,  1.45s/it]"
     ]
    },
    {
     "name": "stdout",
     "output_type": "stream",
     "text": [
      "Epoch 144 | GCN MSE Loss: 16.3787 | NRF Loss: 2.9245 | JOINT Loss: 19.3032 | NRF Acc: 0.5957\n"
     ]
    },
    {
     "name": "stderr",
     "output_type": "stream",
     "text": [
      "Training epochs:  14%|█▍        | 145/1000 [03:08<20:35,  1.45s/it]"
     ]
    },
    {
     "name": "stdout",
     "output_type": "stream",
     "text": [
      "Epoch 145 | GCN MSE Loss: 16.1722 | NRF Loss: 2.9212 | JOINT Loss: 19.0934 | NRF Acc: 0.6021\n"
     ]
    },
    {
     "name": "stderr",
     "output_type": "stream",
     "text": [
      "Training epochs:  15%|█▍        | 146/1000 [03:09<20:32,  1.44s/it]"
     ]
    },
    {
     "name": "stdout",
     "output_type": "stream",
     "text": [
      "Epoch 146 | GCN MSE Loss: 15.9687 | NRF Loss: 2.9179 | JOINT Loss: 18.8866 | NRF Acc: 0.6056\n"
     ]
    },
    {
     "name": "stderr",
     "output_type": "stream",
     "text": [
      "Training epochs:  15%|█▍        | 147/1000 [03:11<20:24,  1.44s/it]"
     ]
    },
    {
     "name": "stdout",
     "output_type": "stream",
     "text": [
      "Epoch 147 | GCN MSE Loss: 15.7681 | NRF Loss: 2.9145 | JOINT Loss: 18.6826 | NRF Acc: 0.6099\n"
     ]
    },
    {
     "name": "stderr",
     "output_type": "stream",
     "text": [
      "Training epochs:  15%|█▍        | 148/1000 [03:12<20:30,  1.44s/it]"
     ]
    },
    {
     "name": "stdout",
     "output_type": "stream",
     "text": [
      "Epoch 148 | GCN MSE Loss: 15.5703 | NRF Loss: 2.9112 | JOINT Loss: 18.4815 | NRF Acc: 0.6151\n"
     ]
    },
    {
     "name": "stderr",
     "output_type": "stream",
     "text": [
      "Training epochs:  15%|█▍        | 149/1000 [03:14<20:32,  1.45s/it]"
     ]
    },
    {
     "name": "stdout",
     "output_type": "stream",
     "text": [
      "Epoch 149 | GCN MSE Loss: 15.3752 | NRF Loss: 2.9079 | JOINT Loss: 18.2831 | NRF Acc: 0.6170\n"
     ]
    },
    {
     "name": "stderr",
     "output_type": "stream",
     "text": [
      "Training epochs:  15%|█▌        | 150/1000 [03:15<20:33,  1.45s/it]"
     ]
    },
    {
     "name": "stdout",
     "output_type": "stream",
     "text": [
      "Epoch 150 | GCN MSE Loss: 15.1828 | NRF Loss: 2.9046 | JOINT Loss: 18.0873 | NRF Acc: 0.6196\n"
     ]
    },
    {
     "name": "stderr",
     "output_type": "stream",
     "text": [
      "Training epochs:  15%|█▌        | 151/1000 [03:17<20:32,  1.45s/it]"
     ]
    },
    {
     "name": "stdout",
     "output_type": "stream",
     "text": [
      "Epoch 151 | GCN MSE Loss: 14.9930 | NRF Loss: 2.9012 | JOINT Loss: 17.8942 | NRF Acc: 0.6221\n"
     ]
    },
    {
     "name": "stderr",
     "output_type": "stream",
     "text": [
      "Training epochs:  15%|█▌        | 152/1000 [03:18<20:33,  1.45s/it]"
     ]
    },
    {
     "name": "stdout",
     "output_type": "stream",
     "text": [
      "Epoch 152 | GCN MSE Loss: 14.8059 | NRF Loss: 2.8979 | JOINT Loss: 17.7038 | NRF Acc: 0.6250\n"
     ]
    },
    {
     "name": "stderr",
     "output_type": "stream",
     "text": [
      "Training epochs:  15%|█▌        | 153/1000 [03:20<20:26,  1.45s/it]"
     ]
    },
    {
     "name": "stdout",
     "output_type": "stream",
     "text": [
      "Epoch 153 | GCN MSE Loss: 14.6214 | NRF Loss: 2.8945 | JOINT Loss: 17.5160 | NRF Acc: 0.6276\n"
     ]
    },
    {
     "name": "stderr",
     "output_type": "stream",
     "text": [
      "Training epochs:  15%|█▌        | 154/1000 [03:20<17:36,  1.25s/it]"
     ]
    },
    {
     "name": "stdout",
     "output_type": "stream",
     "text": [
      "Epoch 154 | GCN MSE Loss: 14.4395 | NRF Loss: 2.8912 | JOINT Loss: 17.3307 | NRF Acc: 0.6300\n"
     ]
    },
    {
     "name": "stderr",
     "output_type": "stream",
     "text": [
      "Training epochs:  16%|█▌        | 155/1000 [03:22<17:25,  1.24s/it]"
     ]
    },
    {
     "name": "stdout",
     "output_type": "stream",
     "text": [
      "Epoch 155 | GCN MSE Loss: 14.2600 | NRF Loss: 2.8878 | JOINT Loss: 17.1479 | NRF Acc: 0.6321\n"
     ]
    },
    {
     "name": "stderr",
     "output_type": "stream",
     "text": [
      "Training epochs:  16%|█▌        | 156/1000 [03:23<18:21,  1.30s/it]"
     ]
    },
    {
     "name": "stdout",
     "output_type": "stream",
     "text": [
      "Epoch 156 | GCN MSE Loss: 14.0830 | NRF Loss: 2.8845 | JOINT Loss: 16.9675 | NRF Acc: 0.6345\n"
     ]
    },
    {
     "name": "stderr",
     "output_type": "stream",
     "text": [
      "Training epochs:  16%|█▌        | 157/1000 [03:24<18:53,  1.35s/it]"
     ]
    },
    {
     "name": "stdout",
     "output_type": "stream",
     "text": [
      "Epoch 157 | GCN MSE Loss: 13.9085 | NRF Loss: 2.8811 | JOINT Loss: 16.7896 | NRF Acc: 0.6389\n"
     ]
    },
    {
     "name": "stderr",
     "output_type": "stream",
     "text": [
      "Training epochs:  16%|█▌        | 158/1000 [03:26<19:14,  1.37s/it]"
     ]
    },
    {
     "name": "stdout",
     "output_type": "stream",
     "text": [
      "Epoch 158 | GCN MSE Loss: 13.7363 | NRF Loss: 2.8777 | JOINT Loss: 16.6140 | NRF Acc: 0.6418\n"
     ]
    },
    {
     "name": "stderr",
     "output_type": "stream",
     "text": [
      "Training epochs:  16%|█▌        | 159/1000 [03:27<19:29,  1.39s/it]"
     ]
    },
    {
     "name": "stdout",
     "output_type": "stream",
     "text": [
      "Epoch 159 | GCN MSE Loss: 13.5664 | NRF Loss: 2.8744 | JOINT Loss: 16.4407 | NRF Acc: 0.6446\n"
     ]
    },
    {
     "name": "stderr",
     "output_type": "stream",
     "text": [
      "Training epochs:  16%|█▌        | 160/1000 [03:29<19:40,  1.41s/it]"
     ]
    },
    {
     "name": "stdout",
     "output_type": "stream",
     "text": [
      "Epoch 160 | GCN MSE Loss: 13.3987 | NRF Loss: 2.8710 | JOINT Loss: 16.2697 | NRF Acc: 0.6472\n"
     ]
    },
    {
     "name": "stderr",
     "output_type": "stream",
     "text": [
      "Training epochs:  16%|█▌        | 161/1000 [03:30<19:50,  1.42s/it]"
     ]
    },
    {
     "name": "stdout",
     "output_type": "stream",
     "text": [
      "Epoch 161 | GCN MSE Loss: 13.2333 | NRF Loss: 2.8676 | JOINT Loss: 16.1009 | NRF Acc: 0.6482\n"
     ]
    },
    {
     "name": "stderr",
     "output_type": "stream",
     "text": [
      "Training epochs:  16%|█▌        | 162/1000 [03:32<20:00,  1.43s/it]"
     ]
    },
    {
     "name": "stdout",
     "output_type": "stream",
     "text": [
      "Epoch 162 | GCN MSE Loss: 13.0701 | NRF Loss: 2.8643 | JOINT Loss: 15.9343 | NRF Acc: 0.6499\n"
     ]
    },
    {
     "name": "stderr",
     "output_type": "stream",
     "text": [
      "Training epochs:  16%|█▋        | 163/1000 [03:33<20:08,  1.44s/it]"
     ]
    },
    {
     "name": "stdout",
     "output_type": "stream",
     "text": [
      "Epoch 163 | GCN MSE Loss: 12.9090 | NRF Loss: 2.8609 | JOINT Loss: 15.7700 | NRF Acc: 0.6524\n"
     ]
    },
    {
     "name": "stderr",
     "output_type": "stream",
     "text": [
      "Training epochs:  16%|█▋        | 164/1000 [03:35<20:11,  1.45s/it]"
     ]
    },
    {
     "name": "stdout",
     "output_type": "stream",
     "text": [
      "Epoch 164 | GCN MSE Loss: 12.7502 | NRF Loss: 2.8576 | JOINT Loss: 15.6078 | NRF Acc: 0.6550\n"
     ]
    },
    {
     "name": "stderr",
     "output_type": "stream",
     "text": [
      "Training epochs:  16%|█▋        | 165/1000 [03:36<20:09,  1.45s/it]"
     ]
    },
    {
     "name": "stdout",
     "output_type": "stream",
     "text": [
      "Epoch 165 | GCN MSE Loss: 12.5936 | NRF Loss: 2.8542 | JOINT Loss: 15.4477 | NRF Acc: 0.6595\n"
     ]
    },
    {
     "name": "stderr",
     "output_type": "stream",
     "text": [
      "Training epochs:  17%|█▋        | 166/1000 [03:37<20:08,  1.45s/it]"
     ]
    },
    {
     "name": "stdout",
     "output_type": "stream",
     "text": [
      "Epoch 166 | GCN MSE Loss: 12.4389 | NRF Loss: 2.8508 | JOINT Loss: 15.2898 | NRF Acc: 0.6624\n"
     ]
    },
    {
     "name": "stderr",
     "output_type": "stream",
     "text": [
      "Training epochs:  17%|█▋        | 167/1000 [03:39<20:12,  1.46s/it]"
     ]
    },
    {
     "name": "stdout",
     "output_type": "stream",
     "text": [
      "Epoch 167 | GCN MSE Loss: 12.2864 | NRF Loss: 2.8474 | JOINT Loss: 15.1338 | NRF Acc: 0.6662\n"
     ]
    },
    {
     "name": "stderr",
     "output_type": "stream",
     "text": [
      "Training epochs:  17%|█▋        | 168/1000 [03:40<20:13,  1.46s/it]"
     ]
    },
    {
     "name": "stdout",
     "output_type": "stream",
     "text": [
      "Epoch 168 | GCN MSE Loss: 12.1358 | NRF Loss: 2.8440 | JOINT Loss: 14.9799 | NRF Acc: 0.6685\n"
     ]
    },
    {
     "name": "stderr",
     "output_type": "stream",
     "text": [
      "Training epochs:  17%|█▋        | 169/1000 [03:42<20:05,  1.45s/it]"
     ]
    },
    {
     "name": "stdout",
     "output_type": "stream",
     "text": [
      "Epoch 169 | GCN MSE Loss: 11.9873 | NRF Loss: 2.8406 | JOINT Loss: 14.8279 | NRF Acc: 0.6711\n"
     ]
    },
    {
     "name": "stderr",
     "output_type": "stream",
     "text": [
      "Training epochs:  17%|█▋        | 170/1000 [03:43<20:01,  1.45s/it]"
     ]
    },
    {
     "name": "stdout",
     "output_type": "stream",
     "text": [
      "Epoch 170 | GCN MSE Loss: 11.8406 | NRF Loss: 2.8372 | JOINT Loss: 14.6778 | NRF Acc: 0.6745\n"
     ]
    },
    {
     "name": "stderr",
     "output_type": "stream",
     "text": [
      "Training epochs:  17%|█▋        | 171/1000 [03:45<19:49,  1.44s/it]"
     ]
    },
    {
     "name": "stdout",
     "output_type": "stream",
     "text": [
      "Epoch 171 | GCN MSE Loss: 11.6958 | NRF Loss: 2.8339 | JOINT Loss: 14.5297 | NRF Acc: 0.6764\n"
     ]
    },
    {
     "name": "stderr",
     "output_type": "stream",
     "text": [
      "Training epochs:  17%|█▋        | 172/1000 [03:46<19:49,  1.44s/it]"
     ]
    },
    {
     "name": "stdout",
     "output_type": "stream",
     "text": [
      "Epoch 172 | GCN MSE Loss: 11.5529 | NRF Loss: 2.8305 | JOINT Loss: 14.3834 | NRF Acc: 0.6795\n"
     ]
    },
    {
     "name": "stderr",
     "output_type": "stream",
     "text": [
      "Training epochs:  17%|█▋        | 173/1000 [03:48<19:51,  1.44s/it]"
     ]
    },
    {
     "name": "stdout",
     "output_type": "stream",
     "text": [
      "Epoch 173 | GCN MSE Loss: 11.4118 | NRF Loss: 2.8272 | JOINT Loss: 14.2390 | NRF Acc: 0.6833\n"
     ]
    },
    {
     "name": "stderr",
     "output_type": "stream",
     "text": [
      "Training epochs:  17%|█▋        | 174/1000 [03:49<19:50,  1.44s/it]"
     ]
    },
    {
     "name": "stdout",
     "output_type": "stream",
     "text": [
      "Epoch 174 | GCN MSE Loss: 11.2726 | NRF Loss: 2.8238 | JOINT Loss: 14.0964 | NRF Acc: 0.6856\n"
     ]
    },
    {
     "name": "stderr",
     "output_type": "stream",
     "text": [
      "Training epochs:  18%|█▊        | 175/1000 [03:50<19:54,  1.45s/it]"
     ]
    },
    {
     "name": "stdout",
     "output_type": "stream",
     "text": [
      "Epoch 175 | GCN MSE Loss: 11.1353 | NRF Loss: 2.8204 | JOINT Loss: 13.9557 | NRF Acc: 0.6873\n"
     ]
    },
    {
     "name": "stderr",
     "output_type": "stream",
     "text": [
      "Training epochs:  18%|█▊        | 176/1000 [03:52<19:55,  1.45s/it]"
     ]
    },
    {
     "name": "stdout",
     "output_type": "stream",
     "text": [
      "Epoch 176 | GCN MSE Loss: 10.9997 | NRF Loss: 2.8170 | JOINT Loss: 13.8167 | NRF Acc: 0.6898\n"
     ]
    },
    {
     "name": "stderr",
     "output_type": "stream",
     "text": [
      "Training epochs:  18%|█▊        | 177/1000 [03:53<19:53,  1.45s/it]"
     ]
    },
    {
     "name": "stdout",
     "output_type": "stream",
     "text": [
      "Epoch 177 | GCN MSE Loss: 10.8660 | NRF Loss: 2.8137 | JOINT Loss: 13.6797 | NRF Acc: 0.6917\n"
     ]
    },
    {
     "name": "stderr",
     "output_type": "stream",
     "text": [
      "Training epochs:  18%|█▊        | 178/1000 [03:55<19:56,  1.46s/it]"
     ]
    },
    {
     "name": "stdout",
     "output_type": "stream",
     "text": [
      "Epoch 178 | GCN MSE Loss: 10.7341 | NRF Loss: 2.8103 | JOINT Loss: 13.5444 | NRF Acc: 0.6936\n"
     ]
    },
    {
     "name": "stderr",
     "output_type": "stream",
     "text": [
      "Training epochs:  18%|█▊        | 179/1000 [03:56<19:55,  1.46s/it]"
     ]
    },
    {
     "name": "stdout",
     "output_type": "stream",
     "text": [
      "Epoch 179 | GCN MSE Loss: 10.6039 | NRF Loss: 2.8070 | JOINT Loss: 13.4109 | NRF Acc: 0.6955\n"
     ]
    },
    {
     "name": "stderr",
     "output_type": "stream",
     "text": [
      "Training epochs:  18%|█▊        | 180/1000 [03:58<19:48,  1.45s/it]"
     ]
    },
    {
     "name": "stdout",
     "output_type": "stream",
     "text": [
      "Epoch 180 | GCN MSE Loss: 10.4754 | NRF Loss: 2.8036 | JOINT Loss: 13.2790 | NRF Acc: 0.6979\n"
     ]
    },
    {
     "name": "stderr",
     "output_type": "stream",
     "text": [
      "Training epochs:  18%|█▊        | 181/1000 [03:59<19:41,  1.44s/it]"
     ]
    },
    {
     "name": "stdout",
     "output_type": "stream",
     "text": [
      "Epoch 181 | GCN MSE Loss: 10.3486 | NRF Loss: 2.8003 | JOINT Loss: 13.1489 | NRF Acc: 0.7000\n"
     ]
    },
    {
     "name": "stderr",
     "output_type": "stream",
     "text": [
      "Training epochs:  18%|█▊        | 182/1000 [04:01<19:38,  1.44s/it]"
     ]
    },
    {
     "name": "stdout",
     "output_type": "stream",
     "text": [
      "Epoch 182 | GCN MSE Loss: 10.2236 | NRF Loss: 2.7969 | JOINT Loss: 13.0205 | NRF Acc: 0.7041\n"
     ]
    },
    {
     "name": "stderr",
     "output_type": "stream",
     "text": [
      "Training epochs:  18%|█▊        | 183/1000 [04:02<19:37,  1.44s/it]"
     ]
    },
    {
     "name": "stdout",
     "output_type": "stream",
     "text": [
      "Epoch 183 | GCN MSE Loss: 10.1002 | NRF Loss: 2.7936 | JOINT Loss: 12.8937 | NRF Acc: 0.7057\n"
     ]
    },
    {
     "name": "stderr",
     "output_type": "stream",
     "text": [
      "Training epochs:  18%|█▊        | 184/1000 [04:04<19:39,  1.45s/it]"
     ]
    },
    {
     "name": "stdout",
     "output_type": "stream",
     "text": [
      "Epoch 184 | GCN MSE Loss: 9.9784 | NRF Loss: 2.7903 | JOINT Loss: 12.7686 | NRF Acc: 0.7074\n"
     ]
    },
    {
     "name": "stderr",
     "output_type": "stream",
     "text": [
      "Training epochs:  18%|█▊        | 185/1000 [04:05<19:42,  1.45s/it]"
     ]
    },
    {
     "name": "stdout",
     "output_type": "stream",
     "text": [
      "Epoch 185 | GCN MSE Loss: 9.8583 | NRF Loss: 2.7869 | JOINT Loss: 12.6452 | NRF Acc: 0.7090\n"
     ]
    },
    {
     "name": "stderr",
     "output_type": "stream",
     "text": [
      "Training epochs:  19%|█▊        | 186/1000 [04:06<19:43,  1.45s/it]"
     ]
    },
    {
     "name": "stdout",
     "output_type": "stream",
     "text": [
      "Epoch 186 | GCN MSE Loss: 9.7398 | NRF Loss: 2.7836 | JOINT Loss: 12.5234 | NRF Acc: 0.7107\n"
     ]
    },
    {
     "name": "stderr",
     "output_type": "stream",
     "text": [
      "Training epochs:  19%|█▊        | 187/1000 [04:08<19:44,  1.46s/it]"
     ]
    },
    {
     "name": "stdout",
     "output_type": "stream",
     "text": [
      "Epoch 187 | GCN MSE Loss: 9.6230 | NRF Loss: 2.7802 | JOINT Loss: 12.4032 | NRF Acc: 0.7121\n"
     ]
    },
    {
     "name": "stderr",
     "output_type": "stream",
     "text": [
      "Training epochs:  19%|█▉        | 188/1000 [04:09<19:45,  1.46s/it]"
     ]
    },
    {
     "name": "stdout",
     "output_type": "stream",
     "text": [
      "Epoch 188 | GCN MSE Loss: 9.5077 | NRF Loss: 2.7769 | JOINT Loss: 12.2846 | NRF Acc: 0.7142\n"
     ]
    },
    {
     "name": "stderr",
     "output_type": "stream",
     "text": [
      "Training epochs:  19%|█▉        | 189/1000 [04:11<19:44,  1.46s/it]"
     ]
    },
    {
     "name": "stdout",
     "output_type": "stream",
     "text": [
      "Epoch 189 | GCN MSE Loss: 9.3940 | NRF Loss: 2.7736 | JOINT Loss: 12.1675 | NRF Acc: 0.7161\n"
     ]
    },
    {
     "name": "stderr",
     "output_type": "stream",
     "text": [
      "Training epochs:  19%|█▉        | 190/1000 [04:12<19:43,  1.46s/it]"
     ]
    },
    {
     "name": "stdout",
     "output_type": "stream",
     "text": [
      "Epoch 190 | GCN MSE Loss: 9.2818 | NRF Loss: 2.7702 | JOINT Loss: 12.0520 | NRF Acc: 0.7168\n"
     ]
    },
    {
     "name": "stderr",
     "output_type": "stream",
     "text": [
      "Training epochs:  19%|█▉        | 191/1000 [04:14<19:41,  1.46s/it]"
     ]
    },
    {
     "name": "stdout",
     "output_type": "stream",
     "text": [
      "Epoch 191 | GCN MSE Loss: 9.1711 | NRF Loss: 2.7669 | JOINT Loss: 11.9380 | NRF Acc: 0.7175\n"
     ]
    },
    {
     "name": "stderr",
     "output_type": "stream",
     "text": [
      "Training epochs:  19%|█▉        | 192/1000 [04:15<19:38,  1.46s/it]"
     ]
    },
    {
     "name": "stdout",
     "output_type": "stream",
     "text": [
      "Epoch 192 | GCN MSE Loss: 9.0620 | NRF Loss: 2.7636 | JOINT Loss: 11.8256 | NRF Acc: 0.7200\n"
     ]
    },
    {
     "name": "stderr",
     "output_type": "stream",
     "text": [
      "Training epochs:  19%|█▉        | 193/1000 [04:17<19:38,  1.46s/it]"
     ]
    },
    {
     "name": "stdout",
     "output_type": "stream",
     "text": [
      "Epoch 193 | GCN MSE Loss: 8.9543 | NRF Loss: 2.7603 | JOINT Loss: 11.7146 | NRF Acc: 0.7202\n"
     ]
    },
    {
     "name": "stderr",
     "output_type": "stream",
     "text": [
      "Training epochs:  19%|█▉        | 194/1000 [04:18<19:38,  1.46s/it]"
     ]
    },
    {
     "name": "stdout",
     "output_type": "stream",
     "text": [
      "Epoch 194 | GCN MSE Loss: 8.8481 | NRF Loss: 2.7570 | JOINT Loss: 11.6051 | NRF Acc: 0.7204\n"
     ]
    },
    {
     "name": "stderr",
     "output_type": "stream",
     "text": [
      "Training epochs:  20%|█▉        | 195/1000 [04:20<19:38,  1.46s/it]"
     ]
    },
    {
     "name": "stdout",
     "output_type": "stream",
     "text": [
      "Epoch 195 | GCN MSE Loss: 8.7433 | NRF Loss: 2.7537 | JOINT Loss: 11.4970 | NRF Acc: 0.7220\n"
     ]
    },
    {
     "name": "stderr",
     "output_type": "stream",
     "text": [
      "Training epochs:  20%|█▉        | 196/1000 [04:21<19:27,  1.45s/it]"
     ]
    },
    {
     "name": "stdout",
     "output_type": "stream",
     "text": [
      "Epoch 196 | GCN MSE Loss: 8.6400 | NRF Loss: 2.7504 | JOINT Loss: 11.3904 | NRF Acc: 0.7239\n"
     ]
    },
    {
     "name": "stderr",
     "output_type": "stream",
     "text": [
      "Training epochs:  20%|█▉        | 197/1000 [04:22<19:23,  1.45s/it]"
     ]
    },
    {
     "name": "stdout",
     "output_type": "stream",
     "text": [
      "Epoch 197 | GCN MSE Loss: 8.5381 | NRF Loss: 2.7471 | JOINT Loss: 11.2852 | NRF Acc: 0.7249\n"
     ]
    },
    {
     "name": "stderr",
     "output_type": "stream",
     "text": [
      "Training epochs:  20%|█▉        | 198/1000 [04:24<19:25,  1.45s/it]"
     ]
    },
    {
     "name": "stdout",
     "output_type": "stream",
     "text": [
      "Epoch 198 | GCN MSE Loss: 8.4375 | NRF Loss: 2.7439 | JOINT Loss: 11.1814 | NRF Acc: 0.7254\n"
     ]
    },
    {
     "name": "stderr",
     "output_type": "stream",
     "text": [
      "Training epochs:  20%|█▉        | 199/1000 [04:25<19:17,  1.44s/it]"
     ]
    },
    {
     "name": "stdout",
     "output_type": "stream",
     "text": [
      "Epoch 199 | GCN MSE Loss: 8.3383 | NRF Loss: 2.7406 | JOINT Loss: 11.0789 | NRF Acc: 0.7261\n"
     ]
    },
    {
     "name": "stderr",
     "output_type": "stream",
     "text": [
      "Training epochs:  20%|██        | 200/1000 [04:27<19:13,  1.44s/it]"
     ]
    },
    {
     "name": "stdout",
     "output_type": "stream",
     "text": [
      "Epoch 200 | GCN MSE Loss: 8.2405 | NRF Loss: 2.7373 | JOINT Loss: 10.9778 | NRF Acc: 0.7296\n"
     ]
    },
    {
     "name": "stderr",
     "output_type": "stream",
     "text": [
      "Training epochs:  20%|██        | 201/1000 [04:27<16:07,  1.21s/it]"
     ]
    },
    {
     "name": "stdout",
     "output_type": "stream",
     "text": [
      "Epoch 201 | GCN MSE Loss: 8.1440 | NRF Loss: 2.7341 | JOINT Loss: 10.8781 | NRF Acc: 0.7303\n"
     ]
    },
    {
     "name": "stderr",
     "output_type": "stream",
     "text": [
      "Training epochs:  20%|██        | 202/1000 [04:29<16:35,  1.25s/it]"
     ]
    },
    {
     "name": "stdout",
     "output_type": "stream",
     "text": [
      "Epoch 202 | GCN MSE Loss: 8.0487 | NRF Loss: 2.7309 | JOINT Loss: 10.7796 | NRF Acc: 0.7315\n"
     ]
    },
    {
     "name": "stderr",
     "output_type": "stream",
     "text": [
      "Training epochs:  20%|██        | 203/1000 [04:30<17:24,  1.31s/it]"
     ]
    },
    {
     "name": "stdout",
     "output_type": "stream",
     "text": [
      "Epoch 203 | GCN MSE Loss: 7.9548 | NRF Loss: 2.7277 | JOINT Loss: 10.6825 | NRF Acc: 0.7329\n"
     ]
    },
    {
     "name": "stderr",
     "output_type": "stream",
     "text": [
      "Training epochs:  20%|██        | 204/1000 [04:32<18:01,  1.36s/it]"
     ]
    },
    {
     "name": "stdout",
     "output_type": "stream",
     "text": [
      "Epoch 204 | GCN MSE Loss: 7.8622 | NRF Loss: 2.7245 | JOINT Loss: 10.5867 | NRF Acc: 0.7342\n"
     ]
    },
    {
     "name": "stderr",
     "output_type": "stream",
     "text": [
      "Training epochs:  20%|██        | 205/1000 [04:33<18:23,  1.39s/it]"
     ]
    },
    {
     "name": "stdout",
     "output_type": "stream",
     "text": [
      "Epoch 205 | GCN MSE Loss: 7.7708 | NRF Loss: 2.7213 | JOINT Loss: 10.4921 | NRF Acc: 0.7355\n"
     ]
    },
    {
     "name": "stderr",
     "output_type": "stream",
     "text": [
      "Training epochs:  21%|██        | 206/1000 [04:35<18:36,  1.41s/it]"
     ]
    },
    {
     "name": "stdout",
     "output_type": "stream",
     "text": [
      "Epoch 206 | GCN MSE Loss: 7.6807 | NRF Loss: 2.7181 | JOINT Loss: 10.3988 | NRF Acc: 0.7360\n"
     ]
    },
    {
     "name": "stderr",
     "output_type": "stream",
     "text": [
      "Training epochs:  21%|██        | 207/1000 [04:36<18:48,  1.42s/it]"
     ]
    },
    {
     "name": "stdout",
     "output_type": "stream",
     "text": [
      "Epoch 207 | GCN MSE Loss: 7.5918 | NRF Loss: 2.7149 | JOINT Loss: 10.3067 | NRF Acc: 0.7363\n"
     ]
    },
    {
     "name": "stderr",
     "output_type": "stream",
     "text": [
      "Training epochs:  21%|██        | 208/1000 [04:38<18:48,  1.42s/it]"
     ]
    },
    {
     "name": "stdout",
     "output_type": "stream",
     "text": [
      "Epoch 208 | GCN MSE Loss: 7.5041 | NRF Loss: 2.7118 | JOINT Loss: 10.2159 | NRF Acc: 0.7370\n"
     ]
    },
    {
     "name": "stderr",
     "output_type": "stream",
     "text": [
      "Training epochs:  21%|██        | 209/1000 [04:39<18:48,  1.43s/it]"
     ]
    },
    {
     "name": "stdout",
     "output_type": "stream",
     "text": [
      "Epoch 209 | GCN MSE Loss: 7.4177 | NRF Loss: 2.7086 | JOINT Loss: 10.1263 | NRF Acc: 0.7375\n"
     ]
    },
    {
     "name": "stderr",
     "output_type": "stream",
     "text": [
      "Training epochs:  21%|██        | 210/1000 [04:40<17:12,  1.31s/it]"
     ]
    },
    {
     "name": "stdout",
     "output_type": "stream",
     "text": [
      "Epoch 210 | GCN MSE Loss: 7.3324 | NRF Loss: 2.7055 | JOINT Loss: 10.0379 | NRF Acc: 0.7375\n"
     ]
    },
    {
     "name": "stderr",
     "output_type": "stream",
     "text": [
      "Training epochs:  21%|██        | 211/1000 [04:41<17:46,  1.35s/it]"
     ]
    },
    {
     "name": "stdout",
     "output_type": "stream",
     "text": [
      "Epoch 211 | GCN MSE Loss: 7.2483 | NRF Loss: 2.7024 | JOINT Loss: 9.9507 | NRF Acc: 0.7379\n"
     ]
    },
    {
     "name": "stderr",
     "output_type": "stream",
     "text": [
      "Training epochs:  21%|██        | 212/1000 [04:43<18:11,  1.39s/it]"
     ]
    },
    {
     "name": "stdout",
     "output_type": "stream",
     "text": [
      "Epoch 212 | GCN MSE Loss: 7.1654 | NRF Loss: 2.6992 | JOINT Loss: 9.8646 | NRF Acc: 0.7398\n"
     ]
    },
    {
     "name": "stderr",
     "output_type": "stream",
     "text": [
      "Training epochs:  21%|██▏       | 213/1000 [04:44<18:28,  1.41s/it]"
     ]
    },
    {
     "name": "stdout",
     "output_type": "stream",
     "text": [
      "Epoch 213 | GCN MSE Loss: 7.0836 | NRF Loss: 2.6961 | JOINT Loss: 9.7797 | NRF Acc: 0.7401\n"
     ]
    },
    {
     "name": "stderr",
     "output_type": "stream",
     "text": [
      "Training epochs:  21%|██▏       | 214/1000 [04:46<18:39,  1.42s/it]"
     ]
    },
    {
     "name": "stdout",
     "output_type": "stream",
     "text": [
      "Epoch 214 | GCN MSE Loss: 7.0029 | NRF Loss: 2.6930 | JOINT Loss: 9.6959 | NRF Acc: 0.7408\n"
     ]
    },
    {
     "name": "stderr",
     "output_type": "stream",
     "text": [
      "Training epochs:  22%|██▏       | 215/1000 [04:47<18:47,  1.44s/it]"
     ]
    },
    {
     "name": "stdout",
     "output_type": "stream",
     "text": [
      "Epoch 215 | GCN MSE Loss: 6.9233 | NRF Loss: 2.6898 | JOINT Loss: 9.6132 | NRF Acc: 0.7417\n"
     ]
    },
    {
     "name": "stderr",
     "output_type": "stream",
     "text": [
      "Training epochs:  22%|██▏       | 216/1000 [04:49<18:49,  1.44s/it]"
     ]
    },
    {
     "name": "stdout",
     "output_type": "stream",
     "text": [
      "Epoch 216 | GCN MSE Loss: 6.8449 | NRF Loss: 2.6867 | JOINT Loss: 9.5316 | NRF Acc: 0.7426\n"
     ]
    },
    {
     "name": "stderr",
     "output_type": "stream",
     "text": [
      "Training epochs:  22%|██▏       | 217/1000 [04:50<18:51,  1.44s/it]"
     ]
    },
    {
     "name": "stdout",
     "output_type": "stream",
     "text": [
      "Epoch 217 | GCN MSE Loss: 6.7675 | NRF Loss: 2.6836 | JOINT Loss: 9.4511 | NRF Acc: 0.7431\n"
     ]
    },
    {
     "name": "stderr",
     "output_type": "stream",
     "text": [
      "Training epochs:  22%|██▏       | 218/1000 [04:52<18:47,  1.44s/it]"
     ]
    },
    {
     "name": "stdout",
     "output_type": "stream",
     "text": [
      "Epoch 218 | GCN MSE Loss: 6.6911 | NRF Loss: 2.6805 | JOINT Loss: 9.3717 | NRF Acc: 0.7450\n"
     ]
    },
    {
     "name": "stderr",
     "output_type": "stream",
     "text": [
      "Training epochs:  22%|██▏       | 219/1000 [04:53<18:33,  1.43s/it]"
     ]
    },
    {
     "name": "stdout",
     "output_type": "stream",
     "text": [
      "Epoch 219 | GCN MSE Loss: 6.6158 | NRF Loss: 2.6775 | JOINT Loss: 9.2933 | NRF Acc: 0.7462\n"
     ]
    },
    {
     "name": "stderr",
     "output_type": "stream",
     "text": [
      "Training epochs:  22%|██▏       | 220/1000 [04:54<16:58,  1.31s/it]"
     ]
    },
    {
     "name": "stdout",
     "output_type": "stream",
     "text": [
      "Epoch 220 | GCN MSE Loss: 6.5416 | NRF Loss: 2.6744 | JOINT Loss: 9.2160 | NRF Acc: 0.7458\n"
     ]
    },
    {
     "name": "stderr",
     "output_type": "stream",
     "text": [
      "Training epochs:  22%|██▏       | 221/1000 [04:55<17:33,  1.35s/it]"
     ]
    },
    {
     "name": "stdout",
     "output_type": "stream",
     "text": [
      "Epoch 221 | GCN MSE Loss: 6.4683 | NRF Loss: 2.6713 | JOINT Loss: 9.1396 | NRF Acc: 0.7472\n"
     ]
    },
    {
     "name": "stderr",
     "output_type": "stream",
     "text": [
      "Training epochs:  22%|██▏       | 222/1000 [04:57<17:57,  1.39s/it]"
     ]
    },
    {
     "name": "stdout",
     "output_type": "stream",
     "text": [
      "Epoch 222 | GCN MSE Loss: 6.3961 | NRF Loss: 2.6682 | JOINT Loss: 9.0643 | NRF Acc: 0.7498\n"
     ]
    },
    {
     "name": "stderr",
     "output_type": "stream",
     "text": [
      "Training epochs:  22%|██▏       | 223/1000 [04:59<18:48,  1.45s/it]"
     ]
    },
    {
     "name": "stdout",
     "output_type": "stream",
     "text": [
      "Epoch 223 | GCN MSE Loss: 6.3248 | NRF Loss: 2.6651 | JOINT Loss: 8.9899 | NRF Acc: 0.7503\n"
     ]
    },
    {
     "name": "stderr",
     "output_type": "stream",
     "text": [
      "Training epochs:  22%|██▏       | 224/1000 [05:00<18:37,  1.44s/it]"
     ]
    },
    {
     "name": "stdout",
     "output_type": "stream",
     "text": [
      "Epoch 224 | GCN MSE Loss: 6.2545 | NRF Loss: 2.6621 | JOINT Loss: 8.9166 | NRF Acc: 0.7510\n"
     ]
    },
    {
     "name": "stderr",
     "output_type": "stream",
     "text": [
      "Training epochs:  22%|██▎       | 225/1000 [05:01<18:41,  1.45s/it]"
     ]
    },
    {
     "name": "stdout",
     "output_type": "stream",
     "text": [
      "Epoch 225 | GCN MSE Loss: 6.1851 | NRF Loss: 2.6590 | JOINT Loss: 8.8441 | NRF Acc: 0.7526\n"
     ]
    },
    {
     "name": "stderr",
     "output_type": "stream",
     "text": [
      "Training epochs:  23%|██▎       | 226/1000 [05:03<18:43,  1.45s/it]"
     ]
    },
    {
     "name": "stdout",
     "output_type": "stream",
     "text": [
      "Epoch 226 | GCN MSE Loss: 6.1167 | NRF Loss: 2.6559 | JOINT Loss: 8.7727 | NRF Acc: 0.7538\n"
     ]
    },
    {
     "name": "stderr",
     "output_type": "stream",
     "text": [
      "Training epochs:  23%|██▎       | 227/1000 [05:04<18:42,  1.45s/it]"
     ]
    },
    {
     "name": "stdout",
     "output_type": "stream",
     "text": [
      "Epoch 227 | GCN MSE Loss: 6.0493 | NRF Loss: 2.6528 | JOINT Loss: 8.7021 | NRF Acc: 0.7557\n"
     ]
    },
    {
     "name": "stderr",
     "output_type": "stream",
     "text": [
      "Training epochs:  23%|██▎       | 228/1000 [05:06<18:42,  1.45s/it]"
     ]
    },
    {
     "name": "stdout",
     "output_type": "stream",
     "text": [
      "Epoch 228 | GCN MSE Loss: 5.9828 | NRF Loss: 2.6498 | JOINT Loss: 8.6325 | NRF Acc: 0.7573\n"
     ]
    },
    {
     "name": "stderr",
     "output_type": "stream",
     "text": [
      "Training epochs:  23%|██▎       | 229/1000 [05:07<18:42,  1.46s/it]"
     ]
    },
    {
     "name": "stdout",
     "output_type": "stream",
     "text": [
      "Epoch 229 | GCN MSE Loss: 5.9171 | NRF Loss: 2.6467 | JOINT Loss: 8.5638 | NRF Acc: 0.7578\n"
     ]
    },
    {
     "name": "stderr",
     "output_type": "stream",
     "text": [
      "Training epochs:  23%|██▎       | 230/1000 [05:09<18:41,  1.46s/it]"
     ]
    },
    {
     "name": "stdout",
     "output_type": "stream",
     "text": [
      "Epoch 230 | GCN MSE Loss: 5.8524 | NRF Loss: 2.6437 | JOINT Loss: 8.4961 | NRF Acc: 0.7597\n"
     ]
    },
    {
     "name": "stderr",
     "output_type": "stream",
     "text": [
      "Training epochs:  23%|██▎       | 231/1000 [05:10<18:41,  1.46s/it]"
     ]
    },
    {
     "name": "stdout",
     "output_type": "stream",
     "text": [
      "Epoch 231 | GCN MSE Loss: 5.7886 | NRF Loss: 2.6406 | JOINT Loss: 8.4292 | NRF Acc: 0.7599\n"
     ]
    },
    {
     "name": "stderr",
     "output_type": "stream",
     "text": [
      "Training epochs:  23%|██▎       | 232/1000 [05:12<18:42,  1.46s/it]"
     ]
    },
    {
     "name": "stdout",
     "output_type": "stream",
     "text": [
      "Epoch 232 | GCN MSE Loss: 5.7256 | NRF Loss: 2.6376 | JOINT Loss: 8.3632 | NRF Acc: 0.7606\n"
     ]
    },
    {
     "name": "stderr",
     "output_type": "stream",
     "text": [
      "Training epochs:  23%|██▎       | 233/1000 [05:13<18:42,  1.46s/it]"
     ]
    },
    {
     "name": "stdout",
     "output_type": "stream",
     "text": [
      "Epoch 233 | GCN MSE Loss: 5.6635 | NRF Loss: 2.6346 | JOINT Loss: 8.2981 | NRF Acc: 0.7613\n"
     ]
    },
    {
     "name": "stderr",
     "output_type": "stream",
     "text": [
      "Training epochs:  23%|██▎       | 234/1000 [05:15<18:38,  1.46s/it]"
     ]
    },
    {
     "name": "stdout",
     "output_type": "stream",
     "text": [
      "Epoch 234 | GCN MSE Loss: 5.6023 | NRF Loss: 2.6316 | JOINT Loss: 8.2338 | NRF Acc: 0.7619\n"
     ]
    },
    {
     "name": "stderr",
     "output_type": "stream",
     "text": [
      "Training epochs:  24%|██▎       | 235/1000 [05:16<18:30,  1.45s/it]"
     ]
    },
    {
     "name": "stdout",
     "output_type": "stream",
     "text": [
      "Epoch 235 | GCN MSE Loss: 5.5419 | NRF Loss: 2.6286 | JOINT Loss: 8.1704 | NRF Acc: 0.7625\n"
     ]
    },
    {
     "name": "stderr",
     "output_type": "stream",
     "text": [
      "Training epochs:  24%|██▎       | 236/1000 [05:17<18:25,  1.45s/it]"
     ]
    },
    {
     "name": "stdout",
     "output_type": "stream",
     "text": [
      "Epoch 236 | GCN MSE Loss: 5.4823 | NRF Loss: 2.6256 | JOINT Loss: 8.1079 | NRF Acc: 0.7630\n"
     ]
    },
    {
     "name": "stderr",
     "output_type": "stream",
     "text": [
      "Training epochs:  24%|██▎       | 237/1000 [05:19<18:21,  1.44s/it]"
     ]
    },
    {
     "name": "stdout",
     "output_type": "stream",
     "text": [
      "Epoch 237 | GCN MSE Loss: 5.4236 | NRF Loss: 2.6227 | JOINT Loss: 8.0462 | NRF Acc: 0.7635\n"
     ]
    },
    {
     "name": "stderr",
     "output_type": "stream",
     "text": [
      "Training epochs:  24%|██▍       | 238/1000 [05:20<18:16,  1.44s/it]"
     ]
    },
    {
     "name": "stdout",
     "output_type": "stream",
     "text": [
      "Epoch 238 | GCN MSE Loss: 5.3657 | NRF Loss: 2.6197 | JOINT Loss: 7.9854 | NRF Acc: 0.7637\n"
     ]
    },
    {
     "name": "stderr",
     "output_type": "stream",
     "text": [
      "Training epochs:  24%|██▍       | 239/1000 [05:21<16:40,  1.31s/it]"
     ]
    },
    {
     "name": "stdout",
     "output_type": "stream",
     "text": [
      "Epoch 239 | GCN MSE Loss: 5.3085 | NRF Loss: 2.6168 | JOINT Loss: 7.9254 | NRF Acc: 0.7632\n"
     ]
    },
    {
     "name": "stderr",
     "output_type": "stream",
     "text": [
      "Training epochs:  24%|██▍       | 240/1000 [05:23<17:12,  1.36s/it]"
     ]
    },
    {
     "name": "stdout",
     "output_type": "stream",
     "text": [
      "Epoch 240 | GCN MSE Loss: 5.2522 | NRF Loss: 2.6140 | JOINT Loss: 7.8662 | NRF Acc: 0.7639\n"
     ]
    },
    {
     "name": "stderr",
     "output_type": "stream",
     "text": [
      "Training epochs:  24%|██▍       | 241/1000 [05:24<15:53,  1.26s/it]"
     ]
    },
    {
     "name": "stdout",
     "output_type": "stream",
     "text": [
      "Epoch 241 | GCN MSE Loss: 5.1967 | NRF Loss: 2.6111 | JOINT Loss: 7.8078 | NRF Acc: 0.7635\n"
     ]
    },
    {
     "name": "stderr",
     "output_type": "stream",
     "text": [
      "Training epochs:  24%|██▍       | 242/1000 [05:25<14:59,  1.19s/it]"
     ]
    },
    {
     "name": "stdout",
     "output_type": "stream",
     "text": [
      "Epoch 242 | GCN MSE Loss: 5.1420 | NRF Loss: 2.6082 | JOINT Loss: 7.7502 | NRF Acc: 0.7637\n"
     ]
    },
    {
     "name": "stderr",
     "output_type": "stream",
     "text": [
      "Training epochs:  24%|██▍       | 243/1000 [05:26<16:00,  1.27s/it]"
     ]
    },
    {
     "name": "stdout",
     "output_type": "stream",
     "text": [
      "Epoch 243 | GCN MSE Loss: 5.0880 | NRF Loss: 2.6054 | JOINT Loss: 7.6934 | NRF Acc: 0.7640\n"
     ]
    },
    {
     "name": "stderr",
     "output_type": "stream",
     "text": [
      "Training epochs:  24%|██▍       | 244/1000 [05:28<16:43,  1.33s/it]"
     ]
    },
    {
     "name": "stdout",
     "output_type": "stream",
     "text": [
      "Epoch 244 | GCN MSE Loss: 5.0348 | NRF Loss: 2.6026 | JOINT Loss: 7.6373 | NRF Acc: 0.7642\n"
     ]
    },
    {
     "name": "stderr",
     "output_type": "stream",
     "text": [
      "Training epochs:  24%|██▍       | 245/1000 [05:29<15:33,  1.24s/it]"
     ]
    },
    {
     "name": "stdout",
     "output_type": "stream",
     "text": [
      "Epoch 245 | GCN MSE Loss: 4.9823 | NRF Loss: 2.5997 | JOINT Loss: 7.5820 | NRF Acc: 0.7640\n"
     ]
    },
    {
     "name": "stderr",
     "output_type": "stream",
     "text": [
      "Training epochs:  25%|██▍       | 246/1000 [05:30<16:13,  1.29s/it]"
     ]
    },
    {
     "name": "stdout",
     "output_type": "stream",
     "text": [
      "Epoch 246 | GCN MSE Loss: 4.9305 | NRF Loss: 2.5969 | JOINT Loss: 7.5274 | NRF Acc: 0.7644\n"
     ]
    },
    {
     "name": "stderr",
     "output_type": "stream",
     "text": [
      "Training epochs:  25%|██▍       | 247/1000 [05:32<16:44,  1.33s/it]"
     ]
    },
    {
     "name": "stdout",
     "output_type": "stream",
     "text": [
      "Epoch 247 | GCN MSE Loss: 4.8795 | NRF Loss: 2.5941 | JOINT Loss: 7.4736 | NRF Acc: 0.7647\n"
     ]
    },
    {
     "name": "stderr",
     "output_type": "stream",
     "text": [
      "Training epochs:  25%|██▍       | 248/1000 [05:33<15:33,  1.24s/it]"
     ]
    },
    {
     "name": "stdout",
     "output_type": "stream",
     "text": [
      "Epoch 248 | GCN MSE Loss: 4.8292 | NRF Loss: 2.5913 | JOINT Loss: 7.4205 | NRF Acc: 0.7644\n"
     ]
    },
    {
     "name": "stderr",
     "output_type": "stream",
     "text": [
      "Training epochs:  25%|██▍       | 249/1000 [05:34<16:17,  1.30s/it]"
     ]
    },
    {
     "name": "stdout",
     "output_type": "stream",
     "text": [
      "Epoch 249 | GCN MSE Loss: 4.7795 | NRF Loss: 2.5885 | JOINT Loss: 7.3681 | NRF Acc: 0.7654\n"
     ]
    },
    {
     "name": "stderr",
     "output_type": "stream",
     "text": [
      "Training epochs:  25%|██▌       | 250/1000 [05:35<15:10,  1.21s/it]"
     ]
    },
    {
     "name": "stdout",
     "output_type": "stream",
     "text": [
      "Epoch 250 | GCN MSE Loss: 4.7306 | NRF Loss: 2.5857 | JOINT Loss: 7.3164 | NRF Acc: 0.7654\n"
     ]
    },
    {
     "name": "stderr",
     "output_type": "stream",
     "text": [
      "Training epochs:  25%|██▌       | 251/1000 [05:37<15:56,  1.28s/it]"
     ]
    },
    {
     "name": "stdout",
     "output_type": "stream",
     "text": [
      "Epoch 251 | GCN MSE Loss: 4.6824 | NRF Loss: 2.5830 | JOINT Loss: 7.2653 | NRF Acc: 0.7658\n"
     ]
    },
    {
     "name": "stderr",
     "output_type": "stream",
     "text": [
      "Training epochs:  25%|██▌       | 252/1000 [05:38<16:30,  1.32s/it]"
     ]
    },
    {
     "name": "stdout",
     "output_type": "stream",
     "text": [
      "Epoch 252 | GCN MSE Loss: 4.6348 | NRF Loss: 2.5802 | JOINT Loss: 7.2150 | NRF Acc: 0.7661\n"
     ]
    },
    {
     "name": "stderr",
     "output_type": "stream",
     "text": [
      "Training epochs:  25%|██▌       | 253/1000 [05:39<16:58,  1.36s/it]"
     ]
    },
    {
     "name": "stdout",
     "output_type": "stream",
     "text": [
      "Epoch 253 | GCN MSE Loss: 4.5879 | NRF Loss: 2.5774 | JOINT Loss: 7.1653 | NRF Acc: 0.7670\n"
     ]
    },
    {
     "name": "stderr",
     "output_type": "stream",
     "text": [
      "Training epochs:  25%|██▌       | 254/1000 [05:41<17:19,  1.39s/it]"
     ]
    },
    {
     "name": "stdout",
     "output_type": "stream",
     "text": [
      "Epoch 254 | GCN MSE Loss: 4.5416 | NRF Loss: 2.5747 | JOINT Loss: 7.1163 | NRF Acc: 0.7675\n"
     ]
    },
    {
     "name": "stderr",
     "output_type": "stream",
     "text": [
      "Training epochs:  26%|██▌       | 255/1000 [05:42<17:32,  1.41s/it]"
     ]
    },
    {
     "name": "stdout",
     "output_type": "stream",
     "text": [
      "Epoch 255 | GCN MSE Loss: 4.4960 | NRF Loss: 2.5719 | JOINT Loss: 7.0679 | NRF Acc: 0.7680\n"
     ]
    },
    {
     "name": "stderr",
     "output_type": "stream",
     "text": [
      "Training epochs:  26%|██▌       | 256/1000 [05:44<17:42,  1.43s/it]"
     ]
    },
    {
     "name": "stdout",
     "output_type": "stream",
     "text": [
      "Epoch 256 | GCN MSE Loss: 4.4510 | NRF Loss: 2.5692 | JOINT Loss: 7.0202 | NRF Acc: 0.7687\n"
     ]
    },
    {
     "name": "stderr",
     "output_type": "stream",
     "text": [
      "Training epochs:  26%|██▌       | 257/1000 [05:45<16:10,  1.31s/it]"
     ]
    },
    {
     "name": "stdout",
     "output_type": "stream",
     "text": [
      "Epoch 257 | GCN MSE Loss: 4.4066 | NRF Loss: 2.5664 | JOINT Loss: 6.9731 | NRF Acc: 0.7685\n"
     ]
    },
    {
     "name": "stderr",
     "output_type": "stream",
     "text": [
      "Training epochs:  26%|██▌       | 258/1000 [05:46<16:38,  1.35s/it]"
     ]
    },
    {
     "name": "stdout",
     "output_type": "stream",
     "text": [
      "Epoch 258 | GCN MSE Loss: 4.3629 | NRF Loss: 2.5637 | JOINT Loss: 6.9266 | NRF Acc: 0.7692\n"
     ]
    },
    {
     "name": "stderr",
     "output_type": "stream",
     "text": [
      "Training epochs:  26%|██▌       | 259/1000 [05:48<16:47,  1.36s/it]"
     ]
    },
    {
     "name": "stdout",
     "output_type": "stream",
     "text": [
      "Epoch 259 | GCN MSE Loss: 4.3197 | NRF Loss: 2.5609 | JOINT Loss: 6.8807 | NRF Acc: 0.7699\n"
     ]
    },
    {
     "name": "stderr",
     "output_type": "stream",
     "text": [
      "Training epochs:  26%|██▌       | 260/1000 [05:49<17:05,  1.39s/it]"
     ]
    },
    {
     "name": "stdout",
     "output_type": "stream",
     "text": [
      "Epoch 260 | GCN MSE Loss: 4.2772 | NRF Loss: 2.5582 | JOINT Loss: 6.8354 | NRF Acc: 0.7701\n"
     ]
    },
    {
     "name": "stderr",
     "output_type": "stream",
     "text": [
      "Training epochs:  26%|██▌       | 261/1000 [05:51<17:20,  1.41s/it]"
     ]
    },
    {
     "name": "stdout",
     "output_type": "stream",
     "text": [
      "Epoch 261 | GCN MSE Loss: 4.2352 | NRF Loss: 2.5555 | JOINT Loss: 6.7907 | NRF Acc: 0.7703\n"
     ]
    },
    {
     "name": "stderr",
     "output_type": "stream",
     "text": [
      "Training epochs:  26%|██▌       | 262/1000 [05:52<17:31,  1.42s/it]"
     ]
    },
    {
     "name": "stdout",
     "output_type": "stream",
     "text": [
      "Epoch 262 | GCN MSE Loss: 4.1938 | NRF Loss: 2.5527 | JOINT Loss: 6.7466 | NRF Acc: 0.7704\n"
     ]
    },
    {
     "name": "stderr",
     "output_type": "stream",
     "text": [
      "Training epochs:  26%|██▋       | 263/1000 [05:53<17:35,  1.43s/it]"
     ]
    },
    {
     "name": "stdout",
     "output_type": "stream",
     "text": [
      "Epoch 263 | GCN MSE Loss: 4.1530 | NRF Loss: 2.5500 | JOINT Loss: 6.7030 | NRF Acc: 0.7709\n"
     ]
    },
    {
     "name": "stderr",
     "output_type": "stream",
     "text": [
      "Training epochs:  26%|██▋       | 264/1000 [05:55<17:41,  1.44s/it]"
     ]
    },
    {
     "name": "stdout",
     "output_type": "stream",
     "text": [
      "Epoch 264 | GCN MSE Loss: 4.1127 | NRF Loss: 2.5473 | JOINT Loss: 6.6601 | NRF Acc: 0.7713\n"
     ]
    },
    {
     "name": "stderr",
     "output_type": "stream",
     "text": [
      "Training epochs:  26%|██▋       | 265/1000 [05:56<17:44,  1.45s/it]"
     ]
    },
    {
     "name": "stdout",
     "output_type": "stream",
     "text": [
      "Epoch 265 | GCN MSE Loss: 4.0731 | NRF Loss: 2.5447 | JOINT Loss: 6.6177 | NRF Acc: 0.7716\n"
     ]
    },
    {
     "name": "stderr",
     "output_type": "stream",
     "text": [
      "Training epochs:  27%|██▋       | 266/1000 [05:57<16:09,  1.32s/it]"
     ]
    },
    {
     "name": "stdout",
     "output_type": "stream",
     "text": [
      "Epoch 266 | GCN MSE Loss: 4.0339 | NRF Loss: 2.5420 | JOINT Loss: 6.5759 | NRF Acc: 0.7715\n"
     ]
    },
    {
     "name": "stderr",
     "output_type": "stream",
     "text": [
      "Training epochs:  27%|██▋       | 267/1000 [05:58<15:03,  1.23s/it]"
     ]
    },
    {
     "name": "stdout",
     "output_type": "stream",
     "text": [
      "Epoch 267 | GCN MSE Loss: 3.9953 | NRF Loss: 2.5393 | JOINT Loss: 6.5346 | NRF Acc: 0.7713\n"
     ]
    },
    {
     "name": "stderr",
     "output_type": "stream",
     "text": [
      "Training epochs:  27%|██▋       | 268/1000 [05:59<14:16,  1.17s/it]"
     ]
    },
    {
     "name": "stdout",
     "output_type": "stream",
     "text": [
      "Epoch 268 | GCN MSE Loss: 3.9573 | NRF Loss: 2.5366 | JOINT Loss: 6.4939 | NRF Acc: 0.7716\n"
     ]
    },
    {
     "name": "stderr",
     "output_type": "stream",
     "text": [
      "Training epochs:  27%|██▋       | 269/1000 [06:01<13:43,  1.13s/it]"
     ]
    },
    {
     "name": "stdout",
     "output_type": "stream",
     "text": [
      "Epoch 269 | GCN MSE Loss: 3.9197 | NRF Loss: 2.5340 | JOINT Loss: 6.4537 | NRF Acc: 0.7715\n"
     ]
    },
    {
     "name": "stderr",
     "output_type": "stream",
     "text": [
      "Training epochs:  27%|██▋       | 270/1000 [06:02<14:51,  1.22s/it]"
     ]
    },
    {
     "name": "stdout",
     "output_type": "stream",
     "text": [
      "Epoch 270 | GCN MSE Loss: 3.8827 | NRF Loss: 2.5313 | JOINT Loss: 6.4140 | NRF Acc: 0.7723\n"
     ]
    },
    {
     "name": "stderr",
     "output_type": "stream",
     "text": [
      "Training epochs:  27%|██▋       | 271/1000 [06:03<14:06,  1.16s/it]"
     ]
    },
    {
     "name": "stdout",
     "output_type": "stream",
     "text": [
      "Epoch 271 | GCN MSE Loss: 3.8462 | NRF Loss: 2.5287 | JOINT Loss: 6.3748 | NRF Acc: 0.7718\n"
     ]
    },
    {
     "name": "stderr",
     "output_type": "stream",
     "text": [
      "Training epochs:  27%|██▋       | 272/1000 [06:04<13:36,  1.12s/it]"
     ]
    },
    {
     "name": "stdout",
     "output_type": "stream",
     "text": [
      "Epoch 272 | GCN MSE Loss: 3.8102 | NRF Loss: 2.5260 | JOINT Loss: 6.3362 | NRF Acc: 0.7718\n"
     ]
    },
    {
     "name": "stderr",
     "output_type": "stream",
     "text": [
      "Training epochs:  27%|██▋       | 273/1000 [06:05<13:14,  1.09s/it]"
     ]
    },
    {
     "name": "stdout",
     "output_type": "stream",
     "text": [
      "Epoch 273 | GCN MSE Loss: 3.7747 | NRF Loss: 2.5234 | JOINT Loss: 6.2981 | NRF Acc: 0.7718\n"
     ]
    },
    {
     "name": "stderr",
     "output_type": "stream",
     "text": [
      "Training epochs:  27%|██▋       | 274/1000 [06:06<12:58,  1.07s/it]"
     ]
    },
    {
     "name": "stdout",
     "output_type": "stream",
     "text": [
      "Epoch 274 | GCN MSE Loss: 3.7397 | NRF Loss: 2.5207 | JOINT Loss: 6.2604 | NRF Acc: 0.7723\n"
     ]
    },
    {
     "name": "stderr",
     "output_type": "stream",
     "text": [
      "Training epochs:  28%|██▊       | 275/1000 [06:08<14:19,  1.19s/it]"
     ]
    },
    {
     "name": "stdout",
     "output_type": "stream",
     "text": [
      "Epoch 275 | GCN MSE Loss: 3.7052 | NRF Loss: 2.5181 | JOINT Loss: 6.2233 | NRF Acc: 0.7725\n"
     ]
    },
    {
     "name": "stderr",
     "output_type": "stream",
     "text": [
      "Training epochs:  28%|██▊       | 276/1000 [06:09<13:43,  1.14s/it]"
     ]
    },
    {
     "name": "stdout",
     "output_type": "stream",
     "text": [
      "Epoch 276 | GCN MSE Loss: 3.6711 | NRF Loss: 2.5155 | JOINT Loss: 6.1866 | NRF Acc: 0.7723\n"
     ]
    },
    {
     "name": "stderr",
     "output_type": "stream",
     "text": [
      "Training epochs:  28%|██▊       | 277/1000 [06:10<13:17,  1.10s/it]"
     ]
    },
    {
     "name": "stdout",
     "output_type": "stream",
     "text": [
      "Epoch 277 | GCN MSE Loss: 3.6375 | NRF Loss: 2.5129 | JOINT Loss: 6.1504 | NRF Acc: 0.7718\n"
     ]
    },
    {
     "name": "stderr",
     "output_type": "stream",
     "text": [
      "Training epochs:  28%|██▊       | 278/1000 [06:11<12:59,  1.08s/it]"
     ]
    },
    {
     "name": "stdout",
     "output_type": "stream",
     "text": [
      "Epoch 278 | GCN MSE Loss: 3.6044 | NRF Loss: 2.5103 | JOINT Loss: 6.1147 | NRF Acc: 0.7723\n"
     ]
    },
    {
     "name": "stderr",
     "output_type": "stream",
     "text": [
      "Training epochs:  28%|██▊       | 279/1000 [06:12<12:46,  1.06s/it]"
     ]
    },
    {
     "name": "stdout",
     "output_type": "stream",
     "text": [
      "Epoch 279 | GCN MSE Loss: 3.5718 | NRF Loss: 2.5077 | JOINT Loss: 6.0795 | NRF Acc: 0.7723\n"
     ]
    },
    {
     "name": "stderr",
     "output_type": "stream",
     "text": [
      "Training epochs:  28%|██▊       | 280/1000 [06:13<12:36,  1.05s/it]"
     ]
    },
    {
     "name": "stdout",
     "output_type": "stream",
     "text": [
      "Epoch 280 | GCN MSE Loss: 3.5396 | NRF Loss: 2.5051 | JOINT Loss: 6.0447 | NRF Acc: 0.7725\n"
     ]
    },
    {
     "name": "stderr",
     "output_type": "stream",
     "text": [
      "Training epochs:  28%|██▊       | 281/1000 [06:14<14:02,  1.17s/it]"
     ]
    },
    {
     "name": "stdout",
     "output_type": "stream",
     "text": [
      "Epoch 281 | GCN MSE Loss: 3.5078 | NRF Loss: 2.5025 | JOINT Loss: 6.0103 | NRF Acc: 0.7734\n"
     ]
    },
    {
     "name": "stderr",
     "output_type": "stream",
     "text": [
      "Training epochs:  28%|██▊       | 282/1000 [06:15<13:29,  1.13s/it]"
     ]
    },
    {
     "name": "stdout",
     "output_type": "stream",
     "text": [
      "Epoch 282 | GCN MSE Loss: 3.4765 | NRF Loss: 2.5000 | JOINT Loss: 5.9765 | NRF Acc: 0.7730\n"
     ]
    },
    {
     "name": "stderr",
     "output_type": "stream",
     "text": [
      "Training epochs:  28%|██▊       | 283/1000 [06:16<13:06,  1.10s/it]"
     ]
    },
    {
     "name": "stdout",
     "output_type": "stream",
     "text": [
      "Epoch 283 | GCN MSE Loss: 3.4456 | NRF Loss: 2.4974 | JOINT Loss: 5.9430 | NRF Acc: 0.7729\n"
     ]
    },
    {
     "name": "stderr",
     "output_type": "stream",
     "text": [
      "Training epochs:  28%|██▊       | 284/1000 [06:17<12:49,  1.08s/it]"
     ]
    },
    {
     "name": "stdout",
     "output_type": "stream",
     "text": [
      "Epoch 284 | GCN MSE Loss: 3.4152 | NRF Loss: 2.4949 | JOINT Loss: 5.9100 | NRF Acc: 0.7723\n"
     ]
    },
    {
     "name": "stderr",
     "output_type": "stream",
     "text": [
      "Training epochs:  28%|██▊       | 285/1000 [06:18<12:37,  1.06s/it]"
     ]
    },
    {
     "name": "stdout",
     "output_type": "stream",
     "text": [
      "Epoch 285 | GCN MSE Loss: 3.3852 | NRF Loss: 2.4923 | JOINT Loss: 5.8775 | NRF Acc: 0.7727\n"
     ]
    },
    {
     "name": "stderr",
     "output_type": "stream",
     "text": [
      "Training epochs:  29%|██▊       | 286/1000 [06:19<12:29,  1.05s/it]"
     ]
    },
    {
     "name": "stdout",
     "output_type": "stream",
     "text": [
      "Epoch 286 | GCN MSE Loss: 3.3556 | NRF Loss: 2.4898 | JOINT Loss: 5.8453 | NRF Acc: 0.7727\n"
     ]
    },
    {
     "name": "stderr",
     "output_type": "stream",
     "text": [
      "Training epochs:  29%|██▊       | 287/1000 [06:20<12:22,  1.04s/it]"
     ]
    },
    {
     "name": "stdout",
     "output_type": "stream",
     "text": [
      "Epoch 287 | GCN MSE Loss: 3.3264 | NRF Loss: 2.4873 | JOINT Loss: 5.8136 | NRF Acc: 0.7729\n"
     ]
    },
    {
     "name": "stderr",
     "output_type": "stream",
     "text": [
      "Training epochs:  29%|██▉       | 288/1000 [06:21<12:17,  1.04s/it]"
     ]
    },
    {
     "name": "stdout",
     "output_type": "stream",
     "text": [
      "Epoch 288 | GCN MSE Loss: 3.2976 | NRF Loss: 2.4847 | JOINT Loss: 5.7823 | NRF Acc: 0.7730\n"
     ]
    },
    {
     "name": "stderr",
     "output_type": "stream",
     "text": [
      "Training epochs:  29%|██▉       | 289/1000 [06:22<12:14,  1.03s/it]"
     ]
    },
    {
     "name": "stdout",
     "output_type": "stream",
     "text": [
      "Epoch 289 | GCN MSE Loss: 3.2692 | NRF Loss: 2.4822 | JOINT Loss: 5.7514 | NRF Acc: 0.7734\n"
     ]
    },
    {
     "name": "stderr",
     "output_type": "stream",
     "text": [
      "Training epochs:  29%|██▉       | 290/1000 [06:24<13:41,  1.16s/it]"
     ]
    },
    {
     "name": "stdout",
     "output_type": "stream",
     "text": [
      "Epoch 290 | GCN MSE Loss: 3.2412 | NRF Loss: 2.4797 | JOINT Loss: 5.7209 | NRF Acc: 0.7739\n"
     ]
    },
    {
     "name": "stderr",
     "output_type": "stream",
     "text": [
      "Training epochs:  29%|██▉       | 291/1000 [06:25<14:43,  1.25s/it]"
     ]
    },
    {
     "name": "stdout",
     "output_type": "stream",
     "text": [
      "Epoch 291 | GCN MSE Loss: 3.2136 | NRF Loss: 2.4772 | JOINT Loss: 5.6909 | NRF Acc: 0.7741\n"
     ]
    },
    {
     "name": "stderr",
     "output_type": "stream",
     "text": [
      "Training epochs:  29%|██▉       | 292/1000 [06:27<15:24,  1.31s/it]"
     ]
    },
    {
     "name": "stdout",
     "output_type": "stream",
     "text": [
      "Epoch 292 | GCN MSE Loss: 3.1864 | NRF Loss: 2.4747 | JOINT Loss: 5.6612 | NRF Acc: 0.7742\n"
     ]
    },
    {
     "name": "stderr",
     "output_type": "stream",
     "text": [
      "Training epochs:  29%|██▉       | 293/1000 [06:28<14:23,  1.22s/it]"
     ]
    },
    {
     "name": "stdout",
     "output_type": "stream",
     "text": [
      "Epoch 293 | GCN MSE Loss: 3.1596 | NRF Loss: 2.4722 | JOINT Loss: 5.6318 | NRF Acc: 0.7741\n"
     ]
    },
    {
     "name": "stderr",
     "output_type": "stream",
     "text": [
      "Training epochs:  29%|██▉       | 294/1000 [06:29<15:07,  1.28s/it]"
     ]
    },
    {
     "name": "stdout",
     "output_type": "stream",
     "text": [
      "Epoch 294 | GCN MSE Loss: 3.1332 | NRF Loss: 2.4698 | JOINT Loss: 5.6029 | NRF Acc: 0.7746\n"
     ]
    },
    {
     "name": "stderr",
     "output_type": "stream",
     "text": [
      "Training epochs:  30%|██▉       | 295/1000 [06:31<15:37,  1.33s/it]"
     ]
    },
    {
     "name": "stdout",
     "output_type": "stream",
     "text": [
      "Epoch 295 | GCN MSE Loss: 3.1071 | NRF Loss: 2.4673 | JOINT Loss: 5.5744 | NRF Acc: 0.7748\n"
     ]
    },
    {
     "name": "stderr",
     "output_type": "stream",
     "text": [
      "Training epochs:  30%|██▉       | 296/1000 [06:32<16:00,  1.36s/it]"
     ]
    },
    {
     "name": "stdout",
     "output_type": "stream",
     "text": [
      "Epoch 296 | GCN MSE Loss: 3.0814 | NRF Loss: 2.4648 | JOINT Loss: 5.5462 | NRF Acc: 0.7749\n"
     ]
    },
    {
     "name": "stderr",
     "output_type": "stream",
     "text": [
      "Training epochs:  30%|██▉       | 297/1000 [06:33<14:46,  1.26s/it]"
     ]
    },
    {
     "name": "stdout",
     "output_type": "stream",
     "text": [
      "Epoch 297 | GCN MSE Loss: 3.0560 | NRF Loss: 2.4624 | JOINT Loss: 5.5184 | NRF Acc: 0.7748\n"
     ]
    },
    {
     "name": "stderr",
     "output_type": "stream",
     "text": [
      "Training epochs:  30%|██▉       | 298/1000 [06:34<13:55,  1.19s/it]"
     ]
    },
    {
     "name": "stdout",
     "output_type": "stream",
     "text": [
      "Epoch 298 | GCN MSE Loss: 3.0310 | NRF Loss: 2.4599 | JOINT Loss: 5.4910 | NRF Acc: 0.7737\n"
     ]
    },
    {
     "name": "stderr",
     "output_type": "stream",
     "text": [
      "Training epochs:  30%|██▉       | 299/1000 [06:35<13:19,  1.14s/it]"
     ]
    },
    {
     "name": "stdout",
     "output_type": "stream",
     "text": [
      "Epoch 299 | GCN MSE Loss: 3.0064 | NRF Loss: 2.4575 | JOINT Loss: 5.4639 | NRF Acc: 0.7741\n"
     ]
    },
    {
     "name": "stderr",
     "output_type": "stream",
     "text": [
      "Training epochs:  30%|███       | 300/1000 [06:36<12:53,  1.11s/it]"
     ]
    },
    {
     "name": "stdout",
     "output_type": "stream",
     "text": [
      "Epoch 300 | GCN MSE Loss: 2.9821 | NRF Loss: 2.4550 | JOINT Loss: 5.4371 | NRF Acc: 0.7746\n"
     ]
    },
    {
     "name": "stderr",
     "output_type": "stream",
     "text": [
      "Training epochs:  30%|███       | 301/1000 [06:37<14:01,  1.20s/it]"
     ]
    },
    {
     "name": "stdout",
     "output_type": "stream",
     "text": [
      "Epoch 301 | GCN MSE Loss: 2.9582 | NRF Loss: 2.4526 | JOINT Loss: 5.4108 | NRF Acc: 0.7756\n"
     ]
    },
    {
     "name": "stderr",
     "output_type": "stream",
     "text": [
      "Training epochs:  30%|███       | 302/1000 [06:39<13:22,  1.15s/it]"
     ]
    },
    {
     "name": "stdout",
     "output_type": "stream",
     "text": [
      "Epoch 302 | GCN MSE Loss: 2.9345 | NRF Loss: 2.4502 | JOINT Loss: 5.3847 | NRF Acc: 0.7739\n"
     ]
    },
    {
     "name": "stderr",
     "output_type": "stream",
     "text": [
      "Training epochs:  30%|███       | 303/1000 [06:40<12:54,  1.11s/it]"
     ]
    },
    {
     "name": "stdout",
     "output_type": "stream",
     "text": [
      "Epoch 303 | GCN MSE Loss: 2.9113 | NRF Loss: 2.4478 | JOINT Loss: 5.3590 | NRF Acc: 0.7734\n"
     ]
    },
    {
     "name": "stderr",
     "output_type": "stream",
     "text": [
      "Training epochs:  30%|███       | 304/1000 [06:41<12:33,  1.08s/it]"
     ]
    },
    {
     "name": "stdout",
     "output_type": "stream",
     "text": [
      "Epoch 304 | GCN MSE Loss: 2.8883 | NRF Loss: 2.4453 | JOINT Loss: 5.3336 | NRF Acc: 0.7737\n"
     ]
    },
    {
     "name": "stderr",
     "output_type": "stream",
     "text": [
      "Training epochs:  30%|███       | 305/1000 [06:42<12:20,  1.06s/it]"
     ]
    },
    {
     "name": "stdout",
     "output_type": "stream",
     "text": [
      "Epoch 305 | GCN MSE Loss: 2.8657 | NRF Loss: 2.4429 | JOINT Loss: 5.3086 | NRF Acc: 0.7741\n"
     ]
    },
    {
     "name": "stderr",
     "output_type": "stream",
     "text": [
      "Training epochs:  31%|███       | 306/1000 [06:43<12:10,  1.05s/it]"
     ]
    },
    {
     "name": "stdout",
     "output_type": "stream",
     "text": [
      "Epoch 306 | GCN MSE Loss: 2.8434 | NRF Loss: 2.4405 | JOINT Loss: 5.2839 | NRF Acc: 0.7744\n"
     ]
    },
    {
     "name": "stderr",
     "output_type": "stream",
     "text": [
      "Training epochs:  31%|███       | 307/1000 [06:44<12:03,  1.04s/it]"
     ]
    },
    {
     "name": "stdout",
     "output_type": "stream",
     "text": [
      "Epoch 307 | GCN MSE Loss: 2.8214 | NRF Loss: 2.4381 | JOINT Loss: 5.2595 | NRF Acc: 0.7742\n"
     ]
    },
    {
     "name": "stderr",
     "output_type": "stream",
     "text": [
      "Training epochs:  31%|███       | 308/1000 [06:45<11:58,  1.04s/it]"
     ]
    },
    {
     "name": "stdout",
     "output_type": "stream",
     "text": [
      "Epoch 308 | GCN MSE Loss: 2.7997 | NRF Loss: 2.4357 | JOINT Loss: 5.2354 | NRF Acc: 0.7742\n"
     ]
    },
    {
     "name": "stderr",
     "output_type": "stream",
     "text": [
      "Training epochs:  31%|███       | 309/1000 [06:46<11:54,  1.03s/it]"
     ]
    },
    {
     "name": "stdout",
     "output_type": "stream",
     "text": [
      "Epoch 309 | GCN MSE Loss: 2.7783 | NRF Loss: 2.4333 | JOINT Loss: 5.2117 | NRF Acc: 0.7744\n"
     ]
    },
    {
     "name": "stderr",
     "output_type": "stream",
     "text": [
      "Training epochs:  31%|███       | 310/1000 [06:47<11:51,  1.03s/it]"
     ]
    },
    {
     "name": "stdout",
     "output_type": "stream",
     "text": [
      "Epoch 310 | GCN MSE Loss: 2.7572 | NRF Loss: 2.4310 | JOINT Loss: 5.1882 | NRF Acc: 0.7737\n"
     ]
    },
    {
     "name": "stderr",
     "output_type": "stream",
     "text": [
      "Training epochs:  31%|███       | 311/1000 [06:48<11:49,  1.03s/it]"
     ]
    },
    {
     "name": "stdout",
     "output_type": "stream",
     "text": [
      "Epoch 311 | GCN MSE Loss: 2.7365 | NRF Loss: 2.4286 | JOINT Loss: 5.1650 | NRF Acc: 0.7734\n"
     ]
    },
    {
     "name": "stderr",
     "output_type": "stream",
     "text": [
      "Training epochs:  31%|███       | 312/1000 [06:49<11:46,  1.03s/it]"
     ]
    },
    {
     "name": "stdout",
     "output_type": "stream",
     "text": [
      "Epoch 312 | GCN MSE Loss: 2.7160 | NRF Loss: 2.4262 | JOINT Loss: 5.1422 | NRF Acc: 0.7739\n"
     ]
    },
    {
     "name": "stderr",
     "output_type": "stream",
     "text": [
      "Training epochs:  31%|███▏      | 313/1000 [06:50<11:42,  1.02s/it]"
     ]
    },
    {
     "name": "stdout",
     "output_type": "stream",
     "text": [
      "Epoch 313 | GCN MSE Loss: 2.6958 | NRF Loss: 2.4238 | JOINT Loss: 5.1196 | NRF Acc: 0.7739\n"
     ]
    },
    {
     "name": "stderr",
     "output_type": "stream",
     "text": [
      "Training epochs:  31%|███▏      | 314/1000 [06:51<11:39,  1.02s/it]"
     ]
    },
    {
     "name": "stdout",
     "output_type": "stream",
     "text": [
      "Epoch 314 | GCN MSE Loss: 2.6759 | NRF Loss: 2.4215 | JOINT Loss: 5.0974 | NRF Acc: 0.7737\n"
     ]
    },
    {
     "name": "stderr",
     "output_type": "stream",
     "text": [
      "Training epochs:  32%|███▏      | 315/1000 [06:52<11:38,  1.02s/it]"
     ]
    },
    {
     "name": "stdout",
     "output_type": "stream",
     "text": [
      "Epoch 315 | GCN MSE Loss: 2.6562 | NRF Loss: 2.4191 | JOINT Loss: 5.0754 | NRF Acc: 0.7737\n"
     ]
    },
    {
     "name": "stderr",
     "output_type": "stream",
     "text": [
      "Training epochs:  32%|███▏      | 316/1000 [06:53<11:39,  1.02s/it]"
     ]
    },
    {
     "name": "stdout",
     "output_type": "stream",
     "text": [
      "Epoch 316 | GCN MSE Loss: 2.6369 | NRF Loss: 2.4168 | JOINT Loss: 5.0537 | NRF Acc: 0.7737\n"
     ]
    },
    {
     "name": "stderr",
     "output_type": "stream",
     "text": [
      "Training epochs:  32%|███▏      | 317/1000 [06:54<11:38,  1.02s/it]"
     ]
    },
    {
     "name": "stdout",
     "output_type": "stream",
     "text": [
      "Epoch 317 | GCN MSE Loss: 2.6178 | NRF Loss: 2.4145 | JOINT Loss: 5.0323 | NRF Acc: 0.7732\n"
     ]
    },
    {
     "name": "stderr",
     "output_type": "stream",
     "text": [
      "Training epochs:  32%|███▏      | 318/1000 [06:55<11:36,  1.02s/it]"
     ]
    },
    {
     "name": "stdout",
     "output_type": "stream",
     "text": [
      "Epoch 318 | GCN MSE Loss: 2.5990 | NRF Loss: 2.4122 | JOINT Loss: 5.0112 | NRF Acc: 0.7732\n"
     ]
    },
    {
     "name": "stderr",
     "output_type": "stream",
     "text": [
      "Training epochs:  32%|███▏      | 319/1000 [06:56<11:36,  1.02s/it]"
     ]
    },
    {
     "name": "stdout",
     "output_type": "stream",
     "text": [
      "Epoch 319 | GCN MSE Loss: 2.5805 | NRF Loss: 2.4098 | JOINT Loss: 4.9903 | NRF Acc: 0.7732\n"
     ]
    },
    {
     "name": "stderr",
     "output_type": "stream",
     "text": [
      "Training epochs:  32%|███▏      | 320/1000 [06:57<11:35,  1.02s/it]"
     ]
    },
    {
     "name": "stdout",
     "output_type": "stream",
     "text": [
      "Epoch 320 | GCN MSE Loss: 2.5622 | NRF Loss: 2.4075 | JOINT Loss: 4.9697 | NRF Acc: 0.7727\n"
     ]
    },
    {
     "name": "stderr",
     "output_type": "stream",
     "text": [
      "Training epochs:  32%|███▏      | 321/1000 [06:58<11:34,  1.02s/it]"
     ]
    },
    {
     "name": "stdout",
     "output_type": "stream",
     "text": [
      "Epoch 321 | GCN MSE Loss: 2.5442 | NRF Loss: 2.4052 | JOINT Loss: 4.9494 | NRF Acc: 0.7727\n"
     ]
    },
    {
     "name": "stderr",
     "output_type": "stream",
     "text": [
      "Training epochs:  32%|███▏      | 322/1000 [06:59<11:33,  1.02s/it]"
     ]
    },
    {
     "name": "stdout",
     "output_type": "stream",
     "text": [
      "Epoch 322 | GCN MSE Loss: 2.5264 | NRF Loss: 2.4029 | JOINT Loss: 4.9294 | NRF Acc: 0.7729\n"
     ]
    },
    {
     "name": "stderr",
     "output_type": "stream",
     "text": [
      "Training epochs:  32%|███▏      | 323/1000 [07:00<11:31,  1.02s/it]"
     ]
    },
    {
     "name": "stdout",
     "output_type": "stream",
     "text": [
      "Epoch 323 | GCN MSE Loss: 2.5089 | NRF Loss: 2.4006 | JOINT Loss: 4.9096 | NRF Acc: 0.7732\n"
     ]
    },
    {
     "name": "stderr",
     "output_type": "stream",
     "text": [
      "Training epochs:  32%|███▏      | 324/1000 [07:01<11:30,  1.02s/it]"
     ]
    },
    {
     "name": "stdout",
     "output_type": "stream",
     "text": [
      "Epoch 324 | GCN MSE Loss: 2.4917 | NRF Loss: 2.3983 | JOINT Loss: 4.8900 | NRF Acc: 0.7730\n"
     ]
    },
    {
     "name": "stderr",
     "output_type": "stream",
     "text": [
      "Training epochs:  32%|███▎      | 325/1000 [07:02<11:28,  1.02s/it]"
     ]
    },
    {
     "name": "stdout",
     "output_type": "stream",
     "text": [
      "Epoch 325 | GCN MSE Loss: 2.4747 | NRF Loss: 2.3961 | JOINT Loss: 4.8707 | NRF Acc: 0.7729\n"
     ]
    },
    {
     "name": "stderr",
     "output_type": "stream",
     "text": [
      "Training epochs:  33%|███▎      | 326/1000 [07:03<11:28,  1.02s/it]"
     ]
    },
    {
     "name": "stdout",
     "output_type": "stream",
     "text": [
      "Epoch 326 | GCN MSE Loss: 2.4579 | NRF Loss: 2.3938 | JOINT Loss: 4.8517 | NRF Acc: 0.7730\n"
     ]
    },
    {
     "name": "stderr",
     "output_type": "stream",
     "text": [
      "Training epochs:  33%|███▎      | 327/1000 [07:04<11:27,  1.02s/it]"
     ]
    },
    {
     "name": "stdout",
     "output_type": "stream",
     "text": [
      "Epoch 327 | GCN MSE Loss: 2.4414 | NRF Loss: 2.3915 | JOINT Loss: 4.8329 | NRF Acc: 0.7734\n"
     ]
    },
    {
     "name": "stderr",
     "output_type": "stream",
     "text": [
      "Training epochs:  33%|███▎      | 328/1000 [07:05<11:27,  1.02s/it]"
     ]
    },
    {
     "name": "stdout",
     "output_type": "stream",
     "text": [
      "Epoch 328 | GCN MSE Loss: 2.4251 | NRF Loss: 2.3893 | JOINT Loss: 4.8144 | NRF Acc: 0.7737\n"
     ]
    },
    {
     "name": "stderr",
     "output_type": "stream",
     "text": [
      "Training epochs:  33%|███▎      | 329/1000 [07:06<11:26,  1.02s/it]"
     ]
    },
    {
     "name": "stdout",
     "output_type": "stream",
     "text": [
      "Epoch 329 | GCN MSE Loss: 2.4090 | NRF Loss: 2.3870 | JOINT Loss: 4.7960 | NRF Acc: 0.7739\n"
     ]
    },
    {
     "name": "stderr",
     "output_type": "stream",
     "text": [
      "Training epochs:  33%|███▎      | 330/1000 [07:07<11:26,  1.02s/it]"
     ]
    },
    {
     "name": "stdout",
     "output_type": "stream",
     "text": [
      "Epoch 330 | GCN MSE Loss: 2.3932 | NRF Loss: 2.3848 | JOINT Loss: 4.7780 | NRF Acc: 0.7741\n"
     ]
    },
    {
     "name": "stderr",
     "output_type": "stream",
     "text": [
      "Training epochs:  33%|███▎      | 331/1000 [07:08<11:25,  1.02s/it]"
     ]
    },
    {
     "name": "stdout",
     "output_type": "stream",
     "text": [
      "Epoch 331 | GCN MSE Loss: 2.3776 | NRF Loss: 2.3825 | JOINT Loss: 4.7601 | NRF Acc: 0.7739\n"
     ]
    },
    {
     "name": "stderr",
     "output_type": "stream",
     "text": [
      "Training epochs:  33%|███▎      | 332/1000 [07:09<11:23,  1.02s/it]"
     ]
    },
    {
     "name": "stdout",
     "output_type": "stream",
     "text": [
      "Epoch 332 | GCN MSE Loss: 2.3622 | NRF Loss: 2.3803 | JOINT Loss: 4.7425 | NRF Acc: 0.7723\n"
     ]
    },
    {
     "name": "stderr",
     "output_type": "stream",
     "text": [
      "Training epochs:  33%|███▎      | 333/1000 [07:10<11:22,  1.02s/it]"
     ]
    },
    {
     "name": "stdout",
     "output_type": "stream",
     "text": [
      "Epoch 333 | GCN MSE Loss: 2.3470 | NRF Loss: 2.3781 | JOINT Loss: 4.7251 | NRF Acc: 0.7727\n"
     ]
    },
    {
     "name": "stderr",
     "output_type": "stream",
     "text": [
      "Training epochs:  33%|███▎      | 334/1000 [07:11<11:21,  1.02s/it]"
     ]
    },
    {
     "name": "stdout",
     "output_type": "stream",
     "text": [
      "Epoch 334 | GCN MSE Loss: 2.3321 | NRF Loss: 2.3758 | JOINT Loss: 4.7079 | NRF Acc: 0.7729\n"
     ]
    },
    {
     "name": "stderr",
     "output_type": "stream",
     "text": [
      "Training epochs:  34%|███▎      | 335/1000 [07:12<11:20,  1.02s/it]"
     ]
    },
    {
     "name": "stdout",
     "output_type": "stream",
     "text": [
      "Epoch 335 | GCN MSE Loss: 2.3174 | NRF Loss: 2.3736 | JOINT Loss: 4.6910 | NRF Acc: 0.7732\n"
     ]
    },
    {
     "name": "stderr",
     "output_type": "stream",
     "text": [
      "Training epochs:  34%|███▎      | 336/1000 [07:13<11:19,  1.02s/it]"
     ]
    },
    {
     "name": "stdout",
     "output_type": "stream",
     "text": [
      "Epoch 336 | GCN MSE Loss: 2.3029 | NRF Loss: 2.3714 | JOINT Loss: 4.6742 | NRF Acc: 0.7729\n"
     ]
    },
    {
     "name": "stderr",
     "output_type": "stream",
     "text": [
      "Training epochs:  34%|███▎      | 337/1000 [07:14<11:18,  1.02s/it]"
     ]
    },
    {
     "name": "stdout",
     "output_type": "stream",
     "text": [
      "Epoch 337 | GCN MSE Loss: 2.2885 | NRF Loss: 2.3692 | JOINT Loss: 4.6577 | NRF Acc: 0.7720\n"
     ]
    },
    {
     "name": "stderr",
     "output_type": "stream",
     "text": [
      "Training epochs:  34%|███▍      | 338/1000 [07:15<11:18,  1.02s/it]"
     ]
    },
    {
     "name": "stdout",
     "output_type": "stream",
     "text": [
      "Epoch 338 | GCN MSE Loss: 2.2744 | NRF Loss: 2.3670 | JOINT Loss: 4.6414 | NRF Acc: 0.7709\n"
     ]
    },
    {
     "name": "stderr",
     "output_type": "stream",
     "text": [
      "Training epochs:  34%|███▍      | 339/1000 [07:16<11:16,  1.02s/it]"
     ]
    },
    {
     "name": "stdout",
     "output_type": "stream",
     "text": [
      "Epoch 339 | GCN MSE Loss: 2.2605 | NRF Loss: 2.3648 | JOINT Loss: 4.6253 | NRF Acc: 0.7709\n"
     ]
    },
    {
     "name": "stderr",
     "output_type": "stream",
     "text": [
      "Training epochs:  34%|███▍      | 340/1000 [07:17<11:15,  1.02s/it]"
     ]
    },
    {
     "name": "stdout",
     "output_type": "stream",
     "text": [
      "Epoch 340 | GCN MSE Loss: 2.2468 | NRF Loss: 2.3626 | JOINT Loss: 4.6094 | NRF Acc: 0.7711\n"
     ]
    },
    {
     "name": "stderr",
     "output_type": "stream",
     "text": [
      "Training epochs:  34%|███▍      | 341/1000 [07:18<11:14,  1.02s/it]"
     ]
    },
    {
     "name": "stdout",
     "output_type": "stream",
     "text": [
      "Epoch 341 | GCN MSE Loss: 2.2333 | NRF Loss: 2.3604 | JOINT Loss: 4.5937 | NRF Acc: 0.7713\n"
     ]
    },
    {
     "name": "stderr",
     "output_type": "stream",
     "text": [
      "Training epochs:  34%|███▍      | 342/1000 [07:19<11:13,  1.02s/it]"
     ]
    },
    {
     "name": "stdout",
     "output_type": "stream",
     "text": [
      "Epoch 342 | GCN MSE Loss: 2.2200 | NRF Loss: 2.3582 | JOINT Loss: 4.5782 | NRF Acc: 0.7708\n"
     ]
    },
    {
     "name": "stderr",
     "output_type": "stream",
     "text": [
      "Training epochs:  34%|███▍      | 343/1000 [07:20<11:12,  1.02s/it]"
     ]
    },
    {
     "name": "stdout",
     "output_type": "stream",
     "text": [
      "Epoch 343 | GCN MSE Loss: 2.2069 | NRF Loss: 2.3560 | JOINT Loss: 4.5628 | NRF Acc: 0.7694\n"
     ]
    },
    {
     "name": "stderr",
     "output_type": "stream",
     "text": [
      "Training epochs:  34%|███▍      | 344/1000 [07:21<11:11,  1.02s/it]"
     ]
    },
    {
     "name": "stdout",
     "output_type": "stream",
     "text": [
      "Epoch 344 | GCN MSE Loss: 2.1939 | NRF Loss: 2.3538 | JOINT Loss: 4.5477 | NRF Acc: 0.7694\n"
     ]
    },
    {
     "name": "stderr",
     "output_type": "stream",
     "text": [
      "Training epochs:  34%|███▍      | 345/1000 [07:22<11:10,  1.02s/it]"
     ]
    },
    {
     "name": "stdout",
     "output_type": "stream",
     "text": [
      "Epoch 345 | GCN MSE Loss: 2.1812 | NRF Loss: 2.3516 | JOINT Loss: 4.5328 | NRF Acc: 0.7696\n"
     ]
    },
    {
     "name": "stderr",
     "output_type": "stream",
     "text": [
      "Training epochs:  35%|███▍      | 346/1000 [07:24<11:10,  1.02s/it]"
     ]
    },
    {
     "name": "stdout",
     "output_type": "stream",
     "text": [
      "Epoch 346 | GCN MSE Loss: 2.1686 | NRF Loss: 2.3495 | JOINT Loss: 4.5180 | NRF Acc: 0.7696\n"
     ]
    },
    {
     "name": "stderr",
     "output_type": "stream",
     "text": [
      "Training epochs:  35%|███▍      | 347/1000 [07:25<11:08,  1.02s/it]"
     ]
    },
    {
     "name": "stdout",
     "output_type": "stream",
     "text": [
      "Epoch 347 | GCN MSE Loss: 2.1562 | NRF Loss: 2.3473 | JOINT Loss: 4.5035 | NRF Acc: 0.7694\n"
     ]
    },
    {
     "name": "stderr",
     "output_type": "stream",
     "text": [
      "Training epochs:  35%|███▍      | 348/1000 [07:26<11:07,  1.02s/it]"
     ]
    },
    {
     "name": "stdout",
     "output_type": "stream",
     "text": [
      "Epoch 348 | GCN MSE Loss: 2.1440 | NRF Loss: 2.3451 | JOINT Loss: 4.4891 | NRF Acc: 0.7690\n"
     ]
    },
    {
     "name": "stderr",
     "output_type": "stream",
     "text": [
      "Training epochs:  35%|███▍      | 349/1000 [07:27<11:05,  1.02s/it]"
     ]
    },
    {
     "name": "stdout",
     "output_type": "stream",
     "text": [
      "Epoch 349 | GCN MSE Loss: 2.1319 | NRF Loss: 2.3430 | JOINT Loss: 4.4749 | NRF Acc: 0.7684\n"
     ]
    },
    {
     "name": "stderr",
     "output_type": "stream",
     "text": [
      "Training epochs:  35%|███▌      | 350/1000 [07:28<11:03,  1.02s/it]"
     ]
    },
    {
     "name": "stdout",
     "output_type": "stream",
     "text": [
      "Epoch 350 | GCN MSE Loss: 2.1201 | NRF Loss: 2.3408 | JOINT Loss: 4.4609 | NRF Acc: 0.7680\n"
     ]
    },
    {
     "name": "stderr",
     "output_type": "stream",
     "text": [
      "Training epochs:  35%|███▌      | 351/1000 [07:29<11:03,  1.02s/it]"
     ]
    },
    {
     "name": "stdout",
     "output_type": "stream",
     "text": [
      "Epoch 351 | GCN MSE Loss: 2.1084 | NRF Loss: 2.3386 | JOINT Loss: 4.4470 | NRF Acc: 0.7682\n"
     ]
    },
    {
     "name": "stderr",
     "output_type": "stream",
     "text": [
      "Training epochs:  35%|███▌      | 352/1000 [07:30<11:01,  1.02s/it]"
     ]
    },
    {
     "name": "stdout",
     "output_type": "stream",
     "text": [
      "Epoch 352 | GCN MSE Loss: 2.0968 | NRF Loss: 2.3365 | JOINT Loss: 4.4333 | NRF Acc: 0.7690\n"
     ]
    },
    {
     "name": "stderr",
     "output_type": "stream",
     "text": [
      "Training epochs:  35%|███▌      | 353/1000 [07:31<11:00,  1.02s/it]"
     ]
    },
    {
     "name": "stdout",
     "output_type": "stream",
     "text": [
      "Epoch 353 | GCN MSE Loss: 2.0855 | NRF Loss: 2.3344 | JOINT Loss: 4.4198 | NRF Acc: 0.7690\n"
     ]
    },
    {
     "name": "stderr",
     "output_type": "stream",
     "text": [
      "Training epochs:  35%|███▌      | 354/1000 [07:32<11:00,  1.02s/it]"
     ]
    },
    {
     "name": "stdout",
     "output_type": "stream",
     "text": [
      "Epoch 354 | GCN MSE Loss: 2.0743 | NRF Loss: 2.3322 | JOINT Loss: 4.4065 | NRF Acc: 0.7685\n"
     ]
    },
    {
     "name": "stderr",
     "output_type": "stream",
     "text": [
      "Training epochs:  36%|███▌      | 355/1000 [07:33<10:59,  1.02s/it]"
     ]
    },
    {
     "name": "stdout",
     "output_type": "stream",
     "text": [
      "Epoch 355 | GCN MSE Loss: 2.0632 | NRF Loss: 2.3301 | JOINT Loss: 4.3933 | NRF Acc: 0.7685\n"
     ]
    },
    {
     "name": "stderr",
     "output_type": "stream",
     "text": [
      "Training epochs:  36%|███▌      | 356/1000 [07:34<10:58,  1.02s/it]"
     ]
    },
    {
     "name": "stdout",
     "output_type": "stream",
     "text": [
      "Epoch 356 | GCN MSE Loss: 2.0524 | NRF Loss: 2.3280 | JOINT Loss: 4.3803 | NRF Acc: 0.7684\n"
     ]
    },
    {
     "name": "stderr",
     "output_type": "stream",
     "text": [
      "Training epochs:  36%|███▌      | 357/1000 [07:35<10:57,  1.02s/it]"
     ]
    },
    {
     "name": "stdout",
     "output_type": "stream",
     "text": [
      "Epoch 357 | GCN MSE Loss: 2.0416 | NRF Loss: 2.3258 | JOINT Loss: 4.3675 | NRF Acc: 0.7685\n"
     ]
    },
    {
     "name": "stderr",
     "output_type": "stream",
     "text": [
      "Training epochs:  36%|███▌      | 358/1000 [07:36<10:56,  1.02s/it]"
     ]
    },
    {
     "name": "stdout",
     "output_type": "stream",
     "text": [
      "Epoch 358 | GCN MSE Loss: 2.0311 | NRF Loss: 2.3237 | JOINT Loss: 4.3548 | NRF Acc: 0.7687\n"
     ]
    },
    {
     "name": "stderr",
     "output_type": "stream",
     "text": [
      "Training epochs:  36%|███▌      | 359/1000 [07:37<10:55,  1.02s/it]"
     ]
    },
    {
     "name": "stdout",
     "output_type": "stream",
     "text": [
      "Epoch 359 | GCN MSE Loss: 2.0207 | NRF Loss: 2.3216 | JOINT Loss: 4.3423 | NRF Acc: 0.7685\n"
     ]
    },
    {
     "name": "stderr",
     "output_type": "stream",
     "text": [
      "Training epochs:  36%|███▌      | 360/1000 [07:38<10:55,  1.02s/it]"
     ]
    },
    {
     "name": "stdout",
     "output_type": "stream",
     "text": [
      "Epoch 360 | GCN MSE Loss: 2.0104 | NRF Loss: 2.3195 | JOINT Loss: 4.3299 | NRF Acc: 0.7673\n"
     ]
    },
    {
     "name": "stderr",
     "output_type": "stream",
     "text": [
      "Training epochs:  36%|███▌      | 361/1000 [07:39<10:53,  1.02s/it]"
     ]
    },
    {
     "name": "stdout",
     "output_type": "stream",
     "text": [
      "Epoch 361 | GCN MSE Loss: 2.0003 | NRF Loss: 2.3174 | JOINT Loss: 4.3177 | NRF Acc: 0.7668\n"
     ]
    },
    {
     "name": "stderr",
     "output_type": "stream",
     "text": [
      "Training epochs:  36%|███▌      | 362/1000 [07:40<10:52,  1.02s/it]"
     ]
    },
    {
     "name": "stdout",
     "output_type": "stream",
     "text": [
      "Epoch 362 | GCN MSE Loss: 1.9903 | NRF Loss: 2.3153 | JOINT Loss: 4.3056 | NRF Acc: 0.7663\n"
     ]
    },
    {
     "name": "stderr",
     "output_type": "stream",
     "text": [
      "Training epochs:  36%|███▋      | 363/1000 [07:41<10:51,  1.02s/it]"
     ]
    },
    {
     "name": "stdout",
     "output_type": "stream",
     "text": [
      "Epoch 363 | GCN MSE Loss: 1.9805 | NRF Loss: 2.3132 | JOINT Loss: 4.2937 | NRF Acc: 0.7658\n"
     ]
    },
    {
     "name": "stderr",
     "output_type": "stream",
     "text": [
      "Training epochs:  36%|███▋      | 364/1000 [07:42<10:50,  1.02s/it]"
     ]
    },
    {
     "name": "stdout",
     "output_type": "stream",
     "text": [
      "Epoch 364 | GCN MSE Loss: 1.9708 | NRF Loss: 2.3111 | JOINT Loss: 4.2819 | NRF Acc: 0.7658\n"
     ]
    },
    {
     "name": "stderr",
     "output_type": "stream",
     "text": [
      "Training epochs:  36%|███▋      | 365/1000 [07:43<10:50,  1.02s/it]"
     ]
    },
    {
     "name": "stdout",
     "output_type": "stream",
     "text": [
      "Epoch 365 | GCN MSE Loss: 1.9613 | NRF Loss: 2.3090 | JOINT Loss: 4.2703 | NRF Acc: 0.7652\n"
     ]
    },
    {
     "name": "stderr",
     "output_type": "stream",
     "text": [
      "Training epochs:  37%|███▋      | 366/1000 [07:44<10:49,  1.02s/it]"
     ]
    },
    {
     "name": "stdout",
     "output_type": "stream",
     "text": [
      "Epoch 366 | GCN MSE Loss: 1.9519 | NRF Loss: 2.3069 | JOINT Loss: 4.2588 | NRF Acc: 0.7652\n"
     ]
    },
    {
     "name": "stderr",
     "output_type": "stream",
     "text": [
      "Training epochs:  37%|███▋      | 367/1000 [07:45<10:47,  1.02s/it]"
     ]
    },
    {
     "name": "stdout",
     "output_type": "stream",
     "text": [
      "Epoch 367 | GCN MSE Loss: 1.9426 | NRF Loss: 2.3049 | JOINT Loss: 4.2474 | NRF Acc: 0.7654\n"
     ]
    },
    {
     "name": "stderr",
     "output_type": "stream",
     "text": [
      "Training epochs:  37%|███▋      | 368/1000 [07:46<10:46,  1.02s/it]"
     ]
    },
    {
     "name": "stdout",
     "output_type": "stream",
     "text": [
      "Epoch 368 | GCN MSE Loss: 1.9334 | NRF Loss: 2.3028 | JOINT Loss: 4.2362 | NRF Acc: 0.7654\n"
     ]
    },
    {
     "name": "stderr",
     "output_type": "stream",
     "text": [
      "Training epochs:  37%|███▋      | 369/1000 [07:47<10:44,  1.02s/it]"
     ]
    },
    {
     "name": "stdout",
     "output_type": "stream",
     "text": [
      "Epoch 369 | GCN MSE Loss: 1.9244 | NRF Loss: 2.3007 | JOINT Loss: 4.2251 | NRF Acc: 0.7651\n"
     ]
    },
    {
     "name": "stderr",
     "output_type": "stream",
     "text": [
      "Training epochs:  37%|███▋      | 370/1000 [07:48<10:44,  1.02s/it]"
     ]
    },
    {
     "name": "stdout",
     "output_type": "stream",
     "text": [
      "Epoch 370 | GCN MSE Loss: 1.9156 | NRF Loss: 2.2987 | JOINT Loss: 4.2142 | NRF Acc: 0.7649\n"
     ]
    },
    {
     "name": "stderr",
     "output_type": "stream",
     "text": [
      "Training epochs:  37%|███▋      | 371/1000 [07:49<10:43,  1.02s/it]"
     ]
    },
    {
     "name": "stdout",
     "output_type": "stream",
     "text": [
      "Epoch 371 | GCN MSE Loss: 1.9068 | NRF Loss: 2.2966 | JOINT Loss: 4.2034 | NRF Acc: 0.7654\n"
     ]
    },
    {
     "name": "stderr",
     "output_type": "stream",
     "text": [
      "Training epochs:  37%|███▋      | 372/1000 [07:50<10:42,  1.02s/it]"
     ]
    },
    {
     "name": "stdout",
     "output_type": "stream",
     "text": [
      "Epoch 372 | GCN MSE Loss: 1.8982 | NRF Loss: 2.2945 | JOINT Loss: 4.1927 | NRF Acc: 0.7625\n"
     ]
    },
    {
     "name": "stderr",
     "output_type": "stream",
     "text": [
      "Training epochs:  37%|███▋      | 373/1000 [07:51<10:41,  1.02s/it]"
     ]
    },
    {
     "name": "stdout",
     "output_type": "stream",
     "text": [
      "Epoch 373 | GCN MSE Loss: 1.8897 | NRF Loss: 2.2925 | JOINT Loss: 4.1822 | NRF Acc: 0.7616\n"
     ]
    },
    {
     "name": "stderr",
     "output_type": "stream",
     "text": [
      "Training epochs:  37%|███▋      | 374/1000 [07:52<10:39,  1.02s/it]"
     ]
    },
    {
     "name": "stdout",
     "output_type": "stream",
     "text": [
      "Epoch 374 | GCN MSE Loss: 1.8813 | NRF Loss: 2.2905 | JOINT Loss: 4.1718 | NRF Acc: 0.7611\n"
     ]
    },
    {
     "name": "stderr",
     "output_type": "stream",
     "text": [
      "Training epochs:  38%|███▊      | 375/1000 [07:53<10:39,  1.02s/it]"
     ]
    },
    {
     "name": "stdout",
     "output_type": "stream",
     "text": [
      "Epoch 375 | GCN MSE Loss: 1.8731 | NRF Loss: 2.2884 | JOINT Loss: 4.1615 | NRF Acc: 0.7613\n"
     ]
    },
    {
     "name": "stderr",
     "output_type": "stream",
     "text": [
      "Training epochs:  38%|███▊      | 376/1000 [07:54<10:39,  1.02s/it]"
     ]
    },
    {
     "name": "stdout",
     "output_type": "stream",
     "text": [
      "Epoch 376 | GCN MSE Loss: 1.8649 | NRF Loss: 2.2864 | JOINT Loss: 4.1513 | NRF Acc: 0.7616\n"
     ]
    },
    {
     "name": "stderr",
     "output_type": "stream",
     "text": [
      "Training epochs:  38%|███▊      | 377/1000 [07:55<10:37,  1.02s/it]"
     ]
    },
    {
     "name": "stdout",
     "output_type": "stream",
     "text": [
      "Epoch 377 | GCN MSE Loss: 1.8569 | NRF Loss: 2.2843 | JOINT Loss: 4.1413 | NRF Acc: 0.7618\n"
     ]
    },
    {
     "name": "stderr",
     "output_type": "stream",
     "text": [
      "Training epochs:  38%|███▊      | 378/1000 [07:56<10:36,  1.02s/it]"
     ]
    },
    {
     "name": "stdout",
     "output_type": "stream",
     "text": [
      "Epoch 378 | GCN MSE Loss: 1.8490 | NRF Loss: 2.2823 | JOINT Loss: 4.1313 | NRF Acc: 0.7613\n"
     ]
    },
    {
     "name": "stderr",
     "output_type": "stream",
     "text": [
      "Training epochs:  38%|███▊      | 379/1000 [07:57<10:35,  1.02s/it]"
     ]
    },
    {
     "name": "stdout",
     "output_type": "stream",
     "text": [
      "Epoch 379 | GCN MSE Loss: 1.8412 | NRF Loss: 2.2803 | JOINT Loss: 4.1215 | NRF Acc: 0.7614\n"
     ]
    },
    {
     "name": "stderr",
     "output_type": "stream",
     "text": [
      "Training epochs:  38%|███▊      | 380/1000 [07:58<10:33,  1.02s/it]"
     ]
    },
    {
     "name": "stdout",
     "output_type": "stream",
     "text": [
      "Epoch 380 | GCN MSE Loss: 1.8335 | NRF Loss: 2.2783 | JOINT Loss: 4.1118 | NRF Acc: 0.7618\n"
     ]
    },
    {
     "name": "stderr",
     "output_type": "stream",
     "text": [
      "Training epochs:  38%|███▊      | 381/1000 [07:59<10:32,  1.02s/it]"
     ]
    },
    {
     "name": "stdout",
     "output_type": "stream",
     "text": [
      "Epoch 381 | GCN MSE Loss: 1.8260 | NRF Loss: 2.2763 | JOINT Loss: 4.1023 | NRF Acc: 0.7600\n"
     ]
    },
    {
     "name": "stderr",
     "output_type": "stream",
     "text": [
      "Training epochs:  38%|███▊      | 382/1000 [08:00<10:31,  1.02s/it]"
     ]
    },
    {
     "name": "stdout",
     "output_type": "stream",
     "text": [
      "Epoch 382 | GCN MSE Loss: 1.8185 | NRF Loss: 2.2743 | JOINT Loss: 4.0928 | NRF Acc: 0.7573\n"
     ]
    },
    {
     "name": "stderr",
     "output_type": "stream",
     "text": [
      "Training epochs:  38%|███▊      | 383/1000 [08:01<10:30,  1.02s/it]"
     ]
    },
    {
     "name": "stdout",
     "output_type": "stream",
     "text": [
      "Epoch 383 | GCN MSE Loss: 1.8112 | NRF Loss: 2.2723 | JOINT Loss: 4.0835 | NRF Acc: 0.7571\n"
     ]
    },
    {
     "name": "stderr",
     "output_type": "stream",
     "text": [
      "Training epochs:  38%|███▊      | 384/1000 [08:02<10:29,  1.02s/it]"
     ]
    },
    {
     "name": "stdout",
     "output_type": "stream",
     "text": [
      "Epoch 384 | GCN MSE Loss: 1.8040 | NRF Loss: 2.2703 | JOINT Loss: 4.0742 | NRF Acc: 0.7571\n"
     ]
    },
    {
     "name": "stderr",
     "output_type": "stream",
     "text": [
      "Training epochs:  38%|███▊      | 385/1000 [08:03<10:29,  1.02s/it]"
     ]
    },
    {
     "name": "stdout",
     "output_type": "stream",
     "text": [
      "Epoch 385 | GCN MSE Loss: 1.7968 | NRF Loss: 2.2683 | JOINT Loss: 4.0651 | NRF Acc: 0.7571\n"
     ]
    },
    {
     "name": "stderr",
     "output_type": "stream",
     "text": [
      "Training epochs:  39%|███▊      | 386/1000 [08:04<10:28,  1.02s/it]"
     ]
    },
    {
     "name": "stdout",
     "output_type": "stream",
     "text": [
      "Epoch 386 | GCN MSE Loss: 1.7898 | NRF Loss: 2.2663 | JOINT Loss: 4.0561 | NRF Acc: 0.7571\n"
     ]
    },
    {
     "name": "stderr",
     "output_type": "stream",
     "text": [
      "Training epochs:  39%|███▊      | 387/1000 [08:05<10:27,  1.02s/it]"
     ]
    },
    {
     "name": "stdout",
     "output_type": "stream",
     "text": [
      "Epoch 387 | GCN MSE Loss: 1.7829 | NRF Loss: 2.2643 | JOINT Loss: 4.0472 | NRF Acc: 0.7571\n"
     ]
    },
    {
     "name": "stderr",
     "output_type": "stream",
     "text": [
      "Training epochs:  39%|███▉      | 388/1000 [08:06<10:26,  1.02s/it]"
     ]
    },
    {
     "name": "stdout",
     "output_type": "stream",
     "text": [
      "Epoch 388 | GCN MSE Loss: 1.7761 | NRF Loss: 2.2623 | JOINT Loss: 4.0384 | NRF Acc: 0.7574\n"
     ]
    },
    {
     "name": "stderr",
     "output_type": "stream",
     "text": [
      "Training epochs:  39%|███▉      | 389/1000 [08:07<10:25,  1.02s/it]"
     ]
    },
    {
     "name": "stdout",
     "output_type": "stream",
     "text": [
      "Epoch 389 | GCN MSE Loss: 1.7694 | NRF Loss: 2.2604 | JOINT Loss: 4.0297 | NRF Acc: 0.7576\n"
     ]
    },
    {
     "name": "stderr",
     "output_type": "stream",
     "text": [
      "Training epochs:  39%|███▉      | 390/1000 [08:09<10:24,  1.02s/it]"
     ]
    },
    {
     "name": "stdout",
     "output_type": "stream",
     "text": [
      "Epoch 390 | GCN MSE Loss: 1.7627 | NRF Loss: 2.2584 | JOINT Loss: 4.0211 | NRF Acc: 0.7557\n"
     ]
    },
    {
     "name": "stderr",
     "output_type": "stream",
     "text": [
      "Training epochs:  39%|███▉      | 391/1000 [08:10<10:22,  1.02s/it]"
     ]
    },
    {
     "name": "stdout",
     "output_type": "stream",
     "text": [
      "Epoch 391 | GCN MSE Loss: 1.7562 | NRF Loss: 2.2564 | JOINT Loss: 4.0126 | NRF Acc: 0.7554\n"
     ]
    },
    {
     "name": "stderr",
     "output_type": "stream",
     "text": [
      "Training epochs:  39%|███▉      | 392/1000 [08:11<10:21,  1.02s/it]"
     ]
    },
    {
     "name": "stdout",
     "output_type": "stream",
     "text": [
      "Epoch 392 | GCN MSE Loss: 1.7498 | NRF Loss: 2.2545 | JOINT Loss: 4.0042 | NRF Acc: 0.7548\n"
     ]
    },
    {
     "name": "stderr",
     "output_type": "stream",
     "text": [
      "Training epochs:  39%|███▉      | 393/1000 [08:12<10:20,  1.02s/it]"
     ]
    },
    {
     "name": "stdout",
     "output_type": "stream",
     "text": [
      "Epoch 393 | GCN MSE Loss: 1.7434 | NRF Loss: 2.2525 | JOINT Loss: 3.9959 | NRF Acc: 0.7548\n"
     ]
    },
    {
     "name": "stderr",
     "output_type": "stream",
     "text": [
      "Training epochs:  39%|███▉      | 394/1000 [08:13<10:19,  1.02s/it]"
     ]
    },
    {
     "name": "stdout",
     "output_type": "stream",
     "text": [
      "Epoch 394 | GCN MSE Loss: 1.7372 | NRF Loss: 2.2506 | JOINT Loss: 3.9877 | NRF Acc: 0.7545\n"
     ]
    },
    {
     "name": "stderr",
     "output_type": "stream",
     "text": [
      "Training epochs:  40%|███▉      | 395/1000 [08:14<10:17,  1.02s/it]"
     ]
    },
    {
     "name": "stdout",
     "output_type": "stream",
     "text": [
      "Epoch 395 | GCN MSE Loss: 1.7310 | NRF Loss: 2.2486 | JOINT Loss: 3.9796 | NRF Acc: 0.7545\n"
     ]
    },
    {
     "name": "stderr",
     "output_type": "stream",
     "text": [
      "Training epochs:  40%|███▉      | 396/1000 [08:15<09:50,  1.02it/s]"
     ]
    },
    {
     "name": "stdout",
     "output_type": "stream",
     "text": [
      "Epoch 396 | GCN MSE Loss: 1.7249 | NRF Loss: 2.2467 | JOINT Loss: 3.9716 | NRF Acc: 0.7547\n"
     ]
    },
    {
     "name": "stderr",
     "output_type": "stream",
     "text": [
      "Training epochs:  40%|███▉      | 397/1000 [08:15<09:14,  1.09it/s]"
     ]
    },
    {
     "name": "stdout",
     "output_type": "stream",
     "text": [
      "Epoch 397 | GCN MSE Loss: 1.7189 | NRF Loss: 2.2447 | JOINT Loss: 3.9636 | NRF Acc: 0.7545\n"
     ]
    },
    {
     "name": "stderr",
     "output_type": "stream",
     "text": [
      "Training epochs:  40%|███▉      | 398/1000 [08:16<09:30,  1.06it/s]"
     ]
    },
    {
     "name": "stdout",
     "output_type": "stream",
     "text": [
      "Epoch 398 | GCN MSE Loss: 1.7130 | NRF Loss: 2.2428 | JOINT Loss: 3.9558 | NRF Acc: 0.7545\n"
     ]
    },
    {
     "name": "stderr",
     "output_type": "stream",
     "text": [
      "Training epochs:  40%|███▉      | 399/1000 [08:17<09:41,  1.03it/s]"
     ]
    },
    {
     "name": "stdout",
     "output_type": "stream",
     "text": [
      "Epoch 399 | GCN MSE Loss: 1.7072 | NRF Loss: 2.2408 | JOINT Loss: 3.9480 | NRF Acc: 0.7545\n"
     ]
    },
    {
     "name": "stderr",
     "output_type": "stream",
     "text": [
      "Training epochs:  40%|████      | 400/1000 [08:18<09:48,  1.02it/s]"
     ]
    },
    {
     "name": "stdout",
     "output_type": "stream",
     "text": [
      "Epoch 400 | GCN MSE Loss: 1.7014 | NRF Loss: 2.2389 | JOINT Loss: 3.9403 | NRF Acc: 0.7547\n"
     ]
    },
    {
     "name": "stderr",
     "output_type": "stream",
     "text": [
      "Training epochs:  40%|████      | 400/1000 [08:19<12:29,  1.25s/it]"
     ]
    },
    {
     "name": "stdout",
     "output_type": "stream",
     "text": [
      "Early stopping at epoch 400\n",
      "Best acc/epoch: 0.7756232619285583, epoch 300\n",
      "\n",
      "Training model for attacktype1 prediction...\n"
     ]
    },
    {
     "name": "stderr",
     "output_type": "stream",
     "text": [
      "\n"
     ]
    },
    {
     "name": "stdout",
     "output_type": "stream",
     "text": [
      "Number of features in NRF input: 4392\n"
     ]
    },
    {
     "name": "stderr",
     "output_type": "stream",
     "text": [
      "Training epochs:   0%|          | 1/1000 [00:00<09:27,  1.76it/s]"
     ]
    },
    {
     "name": "stdout",
     "output_type": "stream",
     "text": [
      "Epoch 01 | GCN MSE Loss: 160.4043 | NRF Loss: 3.4014 | JOINT Loss: 163.8057 | NRF Acc: 0.0488\n"
     ]
    },
    {
     "name": "stderr",
     "output_type": "stream",
     "text": [
      "Training epochs:   0%|          | 2/1000 [00:01<08:23,  1.98it/s]"
     ]
    },
    {
     "name": "stdout",
     "output_type": "stream",
     "text": [
      "Epoch 02 | GCN MSE Loss: 150.2336 | NRF Loss: 3.3804 | JOINT Loss: 153.6140 | NRF Acc: 0.0486\n"
     ]
    },
    {
     "name": "stderr",
     "output_type": "stream",
     "text": [
      "Training epochs:   0%|          | 3/1000 [00:01<08:01,  2.07it/s]"
     ]
    },
    {
     "name": "stdout",
     "output_type": "stream",
     "text": [
      "Epoch 03 | GCN MSE Loss: 140.4618 | NRF Loss: 3.3676 | JOINT Loss: 143.8294 | NRF Acc: 0.0486\n"
     ]
    },
    {
     "name": "stderr",
     "output_type": "stream",
     "text": [
      "Training epochs:   0%|          | 4/1000 [00:01<07:53,  2.10it/s]"
     ]
    },
    {
     "name": "stdout",
     "output_type": "stream",
     "text": [
      "Epoch 04 | GCN MSE Loss: 131.0944 | NRF Loss: 3.3597 | JOINT Loss: 134.4541 | NRF Acc: 0.0486\n"
     ]
    },
    {
     "name": "stderr",
     "output_type": "stream",
     "text": [
      "Training epochs:   0%|          | 5/1000 [00:02<08:28,  1.96it/s]"
     ]
    },
    {
     "name": "stdout",
     "output_type": "stream",
     "text": [
      "Epoch 05 | GCN MSE Loss: 122.1363 | NRF Loss: 3.3535 | JOINT Loss: 125.4898 | NRF Acc: 0.0499\n"
     ]
    },
    {
     "name": "stderr",
     "output_type": "stream",
     "text": [
      "Training epochs:   1%|          | 6/1000 [00:03<09:22,  1.77it/s]"
     ]
    },
    {
     "name": "stdout",
     "output_type": "stream",
     "text": [
      "Epoch 06 | GCN MSE Loss: 113.5923 | NRF Loss: 3.3485 | JOINT Loss: 116.9409 | NRF Acc: 0.0930\n"
     ]
    },
    {
     "name": "stderr",
     "output_type": "stream",
     "text": [
      "Training epochs:   1%|          | 7/1000 [00:04<13:58,  1.18it/s]"
     ]
    },
    {
     "name": "stdout",
     "output_type": "stream",
     "text": [
      "Epoch 07 | GCN MSE Loss: 105.4643 | NRF Loss: 3.3443 | JOINT Loss: 108.8086 | NRF Acc: 0.0978\n"
     ]
    },
    {
     "name": "stderr",
     "output_type": "stream",
     "text": [
      "Training epochs:   1%|          | 8/1000 [00:06<17:01,  1.03s/it]"
     ]
    },
    {
     "name": "stdout",
     "output_type": "stream",
     "text": [
      "Epoch 08 | GCN MSE Loss: 97.7546 | NRF Loss: 3.3407 | JOINT Loss: 101.0953 | NRF Acc: 0.1357\n"
     ]
    },
    {
     "name": "stderr",
     "output_type": "stream",
     "text": [
      "Training epochs:   1%|          | 9/1000 [00:07<19:08,  1.16s/it]"
     ]
    },
    {
     "name": "stdout",
     "output_type": "stream",
     "text": [
      "Epoch 09 | GCN MSE Loss: 90.4633 | NRF Loss: 3.3376 | JOINT Loss: 93.8009 | NRF Acc: 0.1698\n"
     ]
    },
    {
     "name": "stderr",
     "output_type": "stream",
     "text": [
      "Training epochs:   1%|          | 10/1000 [00:08<20:30,  1.24s/it]"
     ]
    },
    {
     "name": "stdout",
     "output_type": "stream",
     "text": [
      "Epoch 10 | GCN MSE Loss: 83.5946 | NRF Loss: 3.3350 | JOINT Loss: 86.9296 | NRF Acc: 0.1889\n"
     ]
    },
    {
     "name": "stderr",
     "output_type": "stream",
     "text": [
      "Training epochs:   1%|          | 11/1000 [00:10<21:26,  1.30s/it]"
     ]
    },
    {
     "name": "stdout",
     "output_type": "stream",
     "text": [
      "Epoch 11 | GCN MSE Loss: 77.1479 | NRF Loss: 3.3328 | JOINT Loss: 80.4807 | NRF Acc: 0.1994\n"
     ]
    },
    {
     "name": "stderr",
     "output_type": "stream",
     "text": [
      "Training epochs:   1%|          | 12/1000 [00:11<21:52,  1.33s/it]"
     ]
    },
    {
     "name": "stdout",
     "output_type": "stream",
     "text": [
      "Epoch 12 | GCN MSE Loss: 71.1182 | NRF Loss: 3.3310 | JOINT Loss: 74.4492 | NRF Acc: 0.2078\n"
     ]
    },
    {
     "name": "stderr",
     "output_type": "stream",
     "text": [
      "Training epochs:   1%|▏         | 13/1000 [00:13<21:54,  1.33s/it]"
     ]
    },
    {
     "name": "stdout",
     "output_type": "stream",
     "text": [
      "Epoch 13 | GCN MSE Loss: 65.5021 | NRF Loss: 3.3297 | JOINT Loss: 68.8318 | NRF Acc: 0.2175\n"
     ]
    },
    {
     "name": "stderr",
     "output_type": "stream",
     "text": [
      "Training epochs:   1%|▏         | 14/1000 [00:14<22:35,  1.38s/it]"
     ]
    },
    {
     "name": "stdout",
     "output_type": "stream",
     "text": [
      "Epoch 14 | GCN MSE Loss: 60.2928 | NRF Loss: 3.3288 | JOINT Loss: 63.6216 | NRF Acc: 0.2398\n"
     ]
    },
    {
     "name": "stderr",
     "output_type": "stream",
     "text": [
      "Training epochs:   2%|▏         | 15/1000 [00:15<22:50,  1.39s/it]"
     ]
    },
    {
     "name": "stdout",
     "output_type": "stream",
     "text": [
      "Epoch 15 | GCN MSE Loss: 55.4825 | NRF Loss: 3.3285 | JOINT Loss: 58.8110 | NRF Acc: 0.2680\n"
     ]
    },
    {
     "name": "stderr",
     "output_type": "stream",
     "text": [
      "Training epochs:   2%|▏         | 16/1000 [00:17<23:04,  1.41s/it]"
     ]
    },
    {
     "name": "stdout",
     "output_type": "stream",
     "text": [
      "Epoch 16 | GCN MSE Loss: 51.0600 | NRF Loss: 3.3286 | JOINT Loss: 54.3887 | NRF Acc: 0.2709\n"
     ]
    },
    {
     "name": "stderr",
     "output_type": "stream",
     "text": [
      "Training epochs:   2%|▏         | 17/1000 [00:18<21:09,  1.29s/it]"
     ]
    },
    {
     "name": "stdout",
     "output_type": "stream",
     "text": [
      "Epoch 17 | GCN MSE Loss: 47.0156 | NRF Loss: 3.3292 | JOINT Loss: 50.3448 | NRF Acc: 0.2659\n"
     ]
    },
    {
     "name": "stderr",
     "output_type": "stream",
     "text": [
      "Training epochs:   2%|▏         | 18/1000 [00:19<19:48,  1.21s/it]"
     ]
    },
    {
     "name": "stdout",
     "output_type": "stream",
     "text": [
      "Epoch 18 | GCN MSE Loss: 43.3363 | NRF Loss: 3.3304 | JOINT Loss: 46.6667 | NRF Acc: 0.2580\n"
     ]
    },
    {
     "name": "stderr",
     "output_type": "stream",
     "text": [
      "Training epochs:   2%|▏         | 19/1000 [00:20<18:50,  1.15s/it]"
     ]
    },
    {
     "name": "stdout",
     "output_type": "stream",
     "text": [
      "Epoch 19 | GCN MSE Loss: 40.0081 | NRF Loss: 3.3319 | JOINT Loss: 43.3400 | NRF Acc: 0.2486\n"
     ]
    },
    {
     "name": "stderr",
     "output_type": "stream",
     "text": [
      "Training epochs:   2%|▏         | 20/1000 [00:21<18:10,  1.11s/it]"
     ]
    },
    {
     "name": "stdout",
     "output_type": "stream",
     "text": [
      "Epoch 20 | GCN MSE Loss: 37.0140 | NRF Loss: 3.3337 | JOINT Loss: 40.3478 | NRF Acc: 0.2346\n"
     ]
    },
    {
     "name": "stderr",
     "output_type": "stream",
     "text": [
      "Training epochs:   2%|▏         | 21/1000 [00:22<17:42,  1.09s/it]"
     ]
    },
    {
     "name": "stdout",
     "output_type": "stream",
     "text": [
      "Epoch 21 | GCN MSE Loss: 34.3386 | NRF Loss: 3.3358 | JOINT Loss: 37.6744 | NRF Acc: 0.2240\n"
     ]
    },
    {
     "name": "stderr",
     "output_type": "stream",
     "text": [
      "Training epochs:   2%|▏         | 22/1000 [00:23<17:23,  1.07s/it]"
     ]
    },
    {
     "name": "stdout",
     "output_type": "stream",
     "text": [
      "Epoch 22 | GCN MSE Loss: 31.9631 | NRF Loss: 3.3379 | JOINT Loss: 35.3010 | NRF Acc: 0.2173\n"
     ]
    },
    {
     "name": "stderr",
     "output_type": "stream",
     "text": [
      "Training epochs:   2%|▏         | 23/1000 [00:24<17:10,  1.05s/it]"
     ]
    },
    {
     "name": "stdout",
     "output_type": "stream",
     "text": [
      "Epoch 23 | GCN MSE Loss: 29.8671 | NRF Loss: 3.3398 | JOINT Loss: 33.2070 | NRF Acc: 0.2154\n"
     ]
    },
    {
     "name": "stderr",
     "output_type": "stream",
     "text": [
      "Training epochs:   2%|▏         | 24/1000 [00:25<17:00,  1.05s/it]"
     ]
    },
    {
     "name": "stdout",
     "output_type": "stream",
     "text": [
      "Epoch 24 | GCN MSE Loss: 28.0302 | NRF Loss: 3.3412 | JOINT Loss: 31.3713 | NRF Acc: 0.2149\n"
     ]
    },
    {
     "name": "stderr",
     "output_type": "stream",
     "text": [
      "Training epochs:   2%|▎         | 25/1000 [00:26<16:52,  1.04s/it]"
     ]
    },
    {
     "name": "stdout",
     "output_type": "stream",
     "text": [
      "Epoch 25 | GCN MSE Loss: 26.4301 | NRF Loss: 3.3419 | JOINT Loss: 29.7720 | NRF Acc: 0.2216\n"
     ]
    },
    {
     "name": "stderr",
     "output_type": "stream",
     "text": [
      "Training epochs:   3%|▎         | 26/1000 [00:27<16:46,  1.03s/it]"
     ]
    },
    {
     "name": "stdout",
     "output_type": "stream",
     "text": [
      "Epoch 26 | GCN MSE Loss: 25.0449 | NRF Loss: 3.3420 | JOINT Loss: 28.3869 | NRF Acc: 0.2209\n"
     ]
    },
    {
     "name": "stderr",
     "output_type": "stream",
     "text": [
      "Training epochs:   3%|▎         | 27/1000 [00:28<16:41,  1.03s/it]"
     ]
    },
    {
     "name": "stdout",
     "output_type": "stream",
     "text": [
      "Epoch 27 | GCN MSE Loss: 23.8524 | NRF Loss: 3.3417 | JOINT Loss: 27.1941 | NRF Acc: 0.2178\n"
     ]
    },
    {
     "name": "stderr",
     "output_type": "stream",
     "text": [
      "Training epochs:   3%|▎         | 28/1000 [00:29<16:40,  1.03s/it]"
     ]
    },
    {
     "name": "stdout",
     "output_type": "stream",
     "text": [
      "Epoch 28 | GCN MSE Loss: 22.8304 | NRF Loss: 3.3409 | JOINT Loss: 26.1713 | NRF Acc: 0.2154\n"
     ]
    },
    {
     "name": "stderr",
     "output_type": "stream",
     "text": [
      "Training epochs:   3%|▎         | 29/1000 [00:30<16:37,  1.03s/it]"
     ]
    },
    {
     "name": "stdout",
     "output_type": "stream",
     "text": [
      "Epoch 29 | GCN MSE Loss: 21.9575 | NRF Loss: 3.3398 | JOINT Loss: 25.2973 | NRF Acc: 0.2143\n"
     ]
    },
    {
     "name": "stderr",
     "output_type": "stream",
     "text": [
      "Training epochs:   3%|▎         | 30/1000 [00:31<16:34,  1.03s/it]"
     ]
    },
    {
     "name": "stdout",
     "output_type": "stream",
     "text": [
      "Epoch 30 | GCN MSE Loss: 21.2121 | NRF Loss: 3.3385 | JOINT Loss: 24.5506 | NRF Acc: 0.2159\n"
     ]
    },
    {
     "name": "stderr",
     "output_type": "stream",
     "text": [
      "Training epochs:   3%|▎         | 31/1000 [00:32<16:33,  1.03s/it]"
     ]
    },
    {
     "name": "stdout",
     "output_type": "stream",
     "text": [
      "Epoch 31 | GCN MSE Loss: 20.5745 | NRF Loss: 3.3367 | JOINT Loss: 23.9112 | NRF Acc: 0.2183\n"
     ]
    },
    {
     "name": "stderr",
     "output_type": "stream",
     "text": [
      "Training epochs:   3%|▎         | 32/1000 [00:33<16:32,  1.03s/it]"
     ]
    },
    {
     "name": "stdout",
     "output_type": "stream",
     "text": [
      "Epoch 32 | GCN MSE Loss: 20.0256 | NRF Loss: 3.3347 | JOINT Loss: 23.3603 | NRF Acc: 0.2221\n"
     ]
    },
    {
     "name": "stderr",
     "output_type": "stream",
     "text": [
      "Training epochs:   3%|▎         | 33/1000 [00:34<16:30,  1.02s/it]"
     ]
    },
    {
     "name": "stdout",
     "output_type": "stream",
     "text": [
      "Epoch 33 | GCN MSE Loss: 19.5480 | NRF Loss: 3.3326 | JOINT Loss: 22.8806 | NRF Acc: 0.2233\n"
     ]
    },
    {
     "name": "stderr",
     "output_type": "stream",
     "text": [
      "Training epochs:   3%|▎         | 34/1000 [00:35<16:28,  1.02s/it]"
     ]
    },
    {
     "name": "stdout",
     "output_type": "stream",
     "text": [
      "Epoch 34 | GCN MSE Loss: 19.1254 | NRF Loss: 3.3303 | JOINT Loss: 22.4557 | NRF Acc: 0.2270\n"
     ]
    },
    {
     "name": "stderr",
     "output_type": "stream",
     "text": [
      "Training epochs:   4%|▎         | 35/1000 [00:36<16:27,  1.02s/it]"
     ]
    },
    {
     "name": "stdout",
     "output_type": "stream",
     "text": [
      "Epoch 35 | GCN MSE Loss: 18.7439 | NRF Loss: 3.3279 | JOINT Loss: 22.0717 | NRF Acc: 0.2263\n"
     ]
    },
    {
     "name": "stderr",
     "output_type": "stream",
     "text": [
      "Training epochs:   4%|▎         | 36/1000 [00:37<16:26,  1.02s/it]"
     ]
    },
    {
     "name": "stdout",
     "output_type": "stream",
     "text": [
      "Epoch 36 | GCN MSE Loss: 18.3909 | NRF Loss: 3.3255 | JOINT Loss: 21.7164 | NRF Acc: 0.2306\n"
     ]
    },
    {
     "name": "stderr",
     "output_type": "stream",
     "text": [
      "Training epochs:   4%|▎         | 37/1000 [00:38<16:25,  1.02s/it]"
     ]
    },
    {
     "name": "stdout",
     "output_type": "stream",
     "text": [
      "Epoch 37 | GCN MSE Loss: 18.0566 | NRF Loss: 3.3231 | JOINT Loss: 21.3797 | NRF Acc: 0.2379\n"
     ]
    },
    {
     "name": "stderr",
     "output_type": "stream",
     "text": [
      "Training epochs:   4%|▍         | 38/1000 [00:39<16:23,  1.02s/it]"
     ]
    },
    {
     "name": "stdout",
     "output_type": "stream",
     "text": [
      "Epoch 38 | GCN MSE Loss: 17.7317 | NRF Loss: 3.3207 | JOINT Loss: 21.0524 | NRF Acc: 0.2452\n"
     ]
    },
    {
     "name": "stderr",
     "output_type": "stream",
     "text": [
      "Training epochs:   4%|▍         | 39/1000 [00:40<16:22,  1.02s/it]"
     ]
    },
    {
     "name": "stdout",
     "output_type": "stream",
     "text": [
      "Epoch 39 | GCN MSE Loss: 17.4094 | NRF Loss: 3.3183 | JOINT Loss: 20.7277 | NRF Acc: 0.2498\n"
     ]
    },
    {
     "name": "stderr",
     "output_type": "stream",
     "text": [
      "Training epochs:   4%|▍         | 40/1000 [00:41<16:23,  1.02s/it]"
     ]
    },
    {
     "name": "stdout",
     "output_type": "stream",
     "text": [
      "Epoch 40 | GCN MSE Loss: 17.0844 | NRF Loss: 3.3159 | JOINT Loss: 20.4003 | NRF Acc: 0.2618\n"
     ]
    },
    {
     "name": "stderr",
     "output_type": "stream",
     "text": [
      "Training epochs:   4%|▍         | 41/1000 [00:43<18:23,  1.15s/it]"
     ]
    },
    {
     "name": "stdout",
     "output_type": "stream",
     "text": [
      "Epoch 41 | GCN MSE Loss: 16.7530 | NRF Loss: 3.3136 | JOINT Loss: 20.0666 | NRF Acc: 0.2713\n"
     ]
    },
    {
     "name": "stderr",
     "output_type": "stream",
     "text": [
      "Training epochs:   4%|▍         | 42/1000 [00:44<19:46,  1.24s/it]"
     ]
    },
    {
     "name": "stdout",
     "output_type": "stream",
     "text": [
      "Epoch 42 | GCN MSE Loss: 16.4129 | NRF Loss: 3.3112 | JOINT Loss: 19.7241 | NRF Acc: 0.2760\n"
     ]
    },
    {
     "name": "stderr",
     "output_type": "stream",
     "text": [
      "Training epochs:   4%|▍         | 43/1000 [00:45<18:43,  1.17s/it]"
     ]
    },
    {
     "name": "stdout",
     "output_type": "stream",
     "text": [
      "Epoch 43 | GCN MSE Loss: 16.0631 | NRF Loss: 3.3088 | JOINT Loss: 19.3720 | NRF Acc: 0.2723\n"
     ]
    },
    {
     "name": "stderr",
     "output_type": "stream",
     "text": [
      "Training epochs:   4%|▍         | 44/1000 [00:46<17:59,  1.13s/it]"
     ]
    },
    {
     "name": "stdout",
     "output_type": "stream",
     "text": [
      "Epoch 44 | GCN MSE Loss: 15.7038 | NRF Loss: 3.3065 | JOINT Loss: 19.0103 | NRF Acc: 0.2709\n"
     ]
    },
    {
     "name": "stderr",
     "output_type": "stream",
     "text": [
      "Training epochs:   4%|▍         | 45/1000 [00:47<17:27,  1.10s/it]"
     ]
    },
    {
     "name": "stdout",
     "output_type": "stream",
     "text": [
      "Epoch 45 | GCN MSE Loss: 15.3357 | NRF Loss: 3.3042 | JOINT Loss: 18.6399 | NRF Acc: 0.2735\n"
     ]
    },
    {
     "name": "stderr",
     "output_type": "stream",
     "text": [
      "Training epochs:   5%|▍         | 46/1000 [00:49<19:08,  1.20s/it]"
     ]
    },
    {
     "name": "stdout",
     "output_type": "stream",
     "text": [
      "Epoch 46 | GCN MSE Loss: 14.9604 | NRF Loss: 3.3019 | JOINT Loss: 18.2624 | NRF Acc: 0.2782\n"
     ]
    },
    {
     "name": "stderr",
     "output_type": "stream",
     "text": [
      "Training epochs:   5%|▍         | 47/1000 [00:50<20:15,  1.28s/it]"
     ]
    },
    {
     "name": "stdout",
     "output_type": "stream",
     "text": [
      "Epoch 47 | GCN MSE Loss: 14.5800 | NRF Loss: 3.2997 | JOINT Loss: 17.8797 | NRF Acc: 0.2812\n"
     ]
    },
    {
     "name": "stderr",
     "output_type": "stream",
     "text": [
      "Training epochs:   5%|▍         | 48/1000 [00:51<19:01,  1.20s/it]"
     ]
    },
    {
     "name": "stdout",
     "output_type": "stream",
     "text": [
      "Epoch 48 | GCN MSE Loss: 14.1967 | NRF Loss: 3.2975 | JOINT Loss: 17.4942 | NRF Acc: 0.2805\n"
     ]
    },
    {
     "name": "stderr",
     "output_type": "stream",
     "text": [
      "Training epochs:   5%|▍         | 49/1000 [00:53<20:02,  1.26s/it]"
     ]
    },
    {
     "name": "stdout",
     "output_type": "stream",
     "text": [
      "Epoch 49 | GCN MSE Loss: 13.8130 | NRF Loss: 3.2954 | JOINT Loss: 17.1083 | NRF Acc: 0.2839\n"
     ]
    },
    {
     "name": "stderr",
     "output_type": "stream",
     "text": [
      "Training epochs:   5%|▌         | 50/1000 [00:54<20:53,  1.32s/it]"
     ]
    },
    {
     "name": "stdout",
     "output_type": "stream",
     "text": [
      "Epoch 50 | GCN MSE Loss: 13.4316 | NRF Loss: 3.2933 | JOINT Loss: 16.7249 | NRF Acc: 0.2883\n"
     ]
    },
    {
     "name": "stderr",
     "output_type": "stream",
     "text": [
      "Training epochs:   5%|▌         | 51/1000 [00:56<21:28,  1.36s/it]"
     ]
    },
    {
     "name": "stdout",
     "output_type": "stream",
     "text": [
      "Epoch 51 | GCN MSE Loss: 13.0548 | NRF Loss: 3.2912 | JOINT Loss: 16.3460 | NRF Acc: 0.2924\n"
     ]
    },
    {
     "name": "stderr",
     "output_type": "stream",
     "text": [
      "Training epochs:   5%|▌         | 52/1000 [00:57<19:52,  1.26s/it]"
     ]
    },
    {
     "name": "stdout",
     "output_type": "stream",
     "text": [
      "Epoch 52 | GCN MSE Loss: 12.6847 | NRF Loss: 3.2893 | JOINT Loss: 15.9740 | NRF Acc: 0.2905\n"
     ]
    },
    {
     "name": "stderr",
     "output_type": "stream",
     "text": [
      "Training epochs:   5%|▌         | 53/1000 [00:58<18:44,  1.19s/it]"
     ]
    },
    {
     "name": "stdout",
     "output_type": "stream",
     "text": [
      "Epoch 53 | GCN MSE Loss: 12.3235 | NRF Loss: 3.2873 | JOINT Loss: 15.6108 | NRF Acc: 0.2867\n"
     ]
    },
    {
     "name": "stderr",
     "output_type": "stream",
     "text": [
      "Training epochs:   5%|▌         | 54/1000 [00:59<17:56,  1.14s/it]"
     ]
    },
    {
     "name": "stdout",
     "output_type": "stream",
     "text": [
      "Epoch 54 | GCN MSE Loss: 11.9728 | NRF Loss: 3.2854 | JOINT Loss: 15.2582 | NRF Acc: 0.2860\n"
     ]
    },
    {
     "name": "stderr",
     "output_type": "stream",
     "text": [
      "Training epochs:   6%|▌         | 55/1000 [01:00<17:23,  1.10s/it]"
     ]
    },
    {
     "name": "stdout",
     "output_type": "stream",
     "text": [
      "Epoch 55 | GCN MSE Loss: 11.6341 | NRF Loss: 3.2835 | JOINT Loss: 14.9175 | NRF Acc: 0.2860\n"
     ]
    },
    {
     "name": "stderr",
     "output_type": "stream",
     "text": [
      "Training epochs:   6%|▌         | 56/1000 [01:01<16:59,  1.08s/it]"
     ]
    },
    {
     "name": "stdout",
     "output_type": "stream",
     "text": [
      "Epoch 56 | GCN MSE Loss: 11.3084 | NRF Loss: 3.2815 | JOINT Loss: 14.5899 | NRF Acc: 0.2834\n"
     ]
    },
    {
     "name": "stderr",
     "output_type": "stream",
     "text": [
      "Training epochs:   6%|▌         | 57/1000 [01:02<16:42,  1.06s/it]"
     ]
    },
    {
     "name": "stdout",
     "output_type": "stream",
     "text": [
      "Epoch 57 | GCN MSE Loss: 10.9964 | NRF Loss: 3.2795 | JOINT Loss: 14.2759 | NRF Acc: 0.2858\n"
     ]
    },
    {
     "name": "stderr",
     "output_type": "stream",
     "text": [
      "Training epochs:   6%|▌         | 58/1000 [01:03<16:29,  1.05s/it]"
     ]
    },
    {
     "name": "stdout",
     "output_type": "stream",
     "text": [
      "Epoch 58 | GCN MSE Loss: 10.6984 | NRF Loss: 3.2775 | JOINT Loss: 13.9759 | NRF Acc: 0.2860\n"
     ]
    },
    {
     "name": "stderr",
     "output_type": "stream",
     "text": [
      "Training epochs:   6%|▌         | 59/1000 [01:04<16:18,  1.04s/it]"
     ]
    },
    {
     "name": "stdout",
     "output_type": "stream",
     "text": [
      "Epoch 59 | GCN MSE Loss: 10.4148 | NRF Loss: 3.2754 | JOINT Loss: 13.6901 | NRF Acc: 0.2848\n"
     ]
    },
    {
     "name": "stderr",
     "output_type": "stream",
     "text": [
      "Training epochs:   6%|▌         | 60/1000 [01:05<16:13,  1.04s/it]"
     ]
    },
    {
     "name": "stdout",
     "output_type": "stream",
     "text": [
      "Epoch 60 | GCN MSE Loss: 10.1451 | NRF Loss: 3.2732 | JOINT Loss: 13.4182 | NRF Acc: 0.2865\n"
     ]
    },
    {
     "name": "stderr",
     "output_type": "stream",
     "text": [
      "Training epochs:   6%|▌         | 61/1000 [01:06<16:10,  1.03s/it]"
     ]
    },
    {
     "name": "stdout",
     "output_type": "stream",
     "text": [
      "Epoch 61 | GCN MSE Loss: 9.8890 | NRF Loss: 3.2709 | JOINT Loss: 13.1599 | NRF Acc: 0.2876\n"
     ]
    },
    {
     "name": "stderr",
     "output_type": "stream",
     "text": [
      "Training epochs:   6%|▌         | 62/1000 [01:07<16:06,  1.03s/it]"
     ]
    },
    {
     "name": "stdout",
     "output_type": "stream",
     "text": [
      "Epoch 62 | GCN MSE Loss: 9.6460 | NRF Loss: 3.2685 | JOINT Loss: 12.9145 | NRF Acc: 0.2865\n"
     ]
    },
    {
     "name": "stderr",
     "output_type": "stream",
     "text": [
      "Training epochs:   6%|▋         | 63/1000 [01:08<16:03,  1.03s/it]"
     ]
    },
    {
     "name": "stdout",
     "output_type": "stream",
     "text": [
      "Epoch 63 | GCN MSE Loss: 9.4152 | NRF Loss: 3.2661 | JOINT Loss: 12.6813 | NRF Acc: 0.2867\n"
     ]
    },
    {
     "name": "stderr",
     "output_type": "stream",
     "text": [
      "Training epochs:   6%|▋         | 64/1000 [01:09<16:01,  1.03s/it]"
     ]
    },
    {
     "name": "stdout",
     "output_type": "stream",
     "text": [
      "Epoch 64 | GCN MSE Loss: 9.1958 | NRF Loss: 3.2636 | JOINT Loss: 12.4594 | NRF Acc: 0.2869\n"
     ]
    },
    {
     "name": "stderr",
     "output_type": "stream",
     "text": [
      "Training epochs:   6%|▋         | 65/1000 [01:10<15:59,  1.03s/it]"
     ]
    },
    {
     "name": "stdout",
     "output_type": "stream",
     "text": [
      "Epoch 65 | GCN MSE Loss: 8.9868 | NRF Loss: 3.2610 | JOINT Loss: 12.2478 | NRF Acc: 0.2870\n"
     ]
    },
    {
     "name": "stderr",
     "output_type": "stream",
     "text": [
      "Training epochs:   7%|▋         | 66/1000 [01:11<15:57,  1.03s/it]"
     ]
    },
    {
     "name": "stdout",
     "output_type": "stream",
     "text": [
      "Epoch 66 | GCN MSE Loss: 8.7875 | NRF Loss: 3.2583 | JOINT Loss: 12.0458 | NRF Acc: 0.2862\n"
     ]
    },
    {
     "name": "stderr",
     "output_type": "stream",
     "text": [
      "Training epochs:   7%|▋         | 67/1000 [01:12<15:57,  1.03s/it]"
     ]
    },
    {
     "name": "stdout",
     "output_type": "stream",
     "text": [
      "Epoch 67 | GCN MSE Loss: 8.5967 | NRF Loss: 3.2556 | JOINT Loss: 11.8523 | NRF Acc: 0.2857\n"
     ]
    },
    {
     "name": "stderr",
     "output_type": "stream",
     "text": [
      "Training epochs:   7%|▋         | 68/1000 [01:13<15:56,  1.03s/it]"
     ]
    },
    {
     "name": "stdout",
     "output_type": "stream",
     "text": [
      "Epoch 68 | GCN MSE Loss: 8.4136 | NRF Loss: 3.2527 | JOINT Loss: 11.6664 | NRF Acc: 0.2855\n"
     ]
    },
    {
     "name": "stderr",
     "output_type": "stream",
     "text": [
      "Training epochs:   7%|▋         | 69/1000 [01:14<15:54,  1.03s/it]"
     ]
    },
    {
     "name": "stdout",
     "output_type": "stream",
     "text": [
      "Epoch 69 | GCN MSE Loss: 8.2374 | NRF Loss: 3.2498 | JOINT Loss: 11.4872 | NRF Acc: 0.2832\n"
     ]
    },
    {
     "name": "stderr",
     "output_type": "stream",
     "text": [
      "Training epochs:   7%|▋         | 70/1000 [01:15<15:50,  1.02s/it]"
     ]
    },
    {
     "name": "stdout",
     "output_type": "stream",
     "text": [
      "Epoch 70 | GCN MSE Loss: 8.0672 | NRF Loss: 3.2469 | JOINT Loss: 11.3141 | NRF Acc: 0.2827\n"
     ]
    },
    {
     "name": "stderr",
     "output_type": "stream",
     "text": [
      "Training epochs:   7%|▋         | 71/1000 [01:16<15:50,  1.02s/it]"
     ]
    },
    {
     "name": "stdout",
     "output_type": "stream",
     "text": [
      "Epoch 71 | GCN MSE Loss: 7.9025 | NRF Loss: 3.2439 | JOINT Loss: 11.1464 | NRF Acc: 0.2874\n"
     ]
    },
    {
     "name": "stderr",
     "output_type": "stream",
     "text": [
      "Training epochs:   7%|▋         | 72/1000 [01:17<15:49,  1.02s/it]"
     ]
    },
    {
     "name": "stdout",
     "output_type": "stream",
     "text": [
      "Epoch 72 | GCN MSE Loss: 7.7426 | NRF Loss: 3.2408 | JOINT Loss: 10.9834 | NRF Acc: 0.2916\n"
     ]
    },
    {
     "name": "stderr",
     "output_type": "stream",
     "text": [
      "Training epochs:   7%|▋         | 73/1000 [01:19<17:30,  1.13s/it]"
     ]
    },
    {
     "name": "stdout",
     "output_type": "stream",
     "text": [
      "Epoch 73 | GCN MSE Loss: 7.5870 | NRF Loss: 3.2376 | JOINT Loss: 10.8246 | NRF Acc: 0.2950\n"
     ]
    },
    {
     "name": "stderr",
     "output_type": "stream",
     "text": [
      "Training epochs:   7%|▋         | 74/1000 [01:20<18:50,  1.22s/it]"
     ]
    },
    {
     "name": "stdout",
     "output_type": "stream",
     "text": [
      "Epoch 74 | GCN MSE Loss: 7.4354 | NRF Loss: 3.2344 | JOINT Loss: 10.6697 | NRF Acc: 0.3012\n"
     ]
    },
    {
     "name": "stderr",
     "output_type": "stream",
     "text": [
      "Training epochs:   8%|▊         | 75/1000 [01:21<17:56,  1.16s/it]"
     ]
    },
    {
     "name": "stdout",
     "output_type": "stream",
     "text": [
      "Epoch 75 | GCN MSE Loss: 7.2872 | NRF Loss: 3.2311 | JOINT Loss: 10.5183 | NRF Acc: 0.3042\n"
     ]
    },
    {
     "name": "stderr",
     "output_type": "stream",
     "text": [
      "Training epochs:   8%|▊         | 76/1000 [01:22<19:14,  1.25s/it]"
     ]
    },
    {
     "name": "stdout",
     "output_type": "stream",
     "text": [
      "Epoch 76 | GCN MSE Loss: 7.1424 | NRF Loss: 3.2277 | JOINT Loss: 10.3702 | NRF Acc: 0.3092\n"
     ]
    },
    {
     "name": "stderr",
     "output_type": "stream",
     "text": [
      "Training epochs:   8%|▊         | 77/1000 [01:24<20:07,  1.31s/it]"
     ]
    },
    {
     "name": "stdout",
     "output_type": "stream",
     "text": [
      "Epoch 77 | GCN MSE Loss: 7.0008 | NRF Loss: 3.2243 | JOINT Loss: 10.2251 | NRF Acc: 0.3180\n"
     ]
    },
    {
     "name": "stderr",
     "output_type": "stream",
     "text": [
      "Training epochs:   8%|▊         | 78/1000 [01:25<20:45,  1.35s/it]"
     ]
    },
    {
     "name": "stdout",
     "output_type": "stream",
     "text": [
      "Epoch 78 | GCN MSE Loss: 6.8622 | NRF Loss: 3.2208 | JOINT Loss: 10.0830 | NRF Acc: 0.3229\n"
     ]
    },
    {
     "name": "stderr",
     "output_type": "stream",
     "text": [
      "Training epochs:   8%|▊         | 79/1000 [01:27<21:11,  1.38s/it]"
     ]
    },
    {
     "name": "stdout",
     "output_type": "stream",
     "text": [
      "Epoch 79 | GCN MSE Loss: 6.7266 | NRF Loss: 3.2172 | JOINT Loss: 9.9438 | NRF Acc: 0.3279\n"
     ]
    },
    {
     "name": "stderr",
     "output_type": "stream",
     "text": [
      "Training epochs:   8%|▊         | 80/1000 [01:28<21:31,  1.40s/it]"
     ]
    },
    {
     "name": "stdout",
     "output_type": "stream",
     "text": [
      "Epoch 80 | GCN MSE Loss: 6.5941 | NRF Loss: 3.2136 | JOINT Loss: 9.8077 | NRF Acc: 0.3295\n"
     ]
    },
    {
     "name": "stderr",
     "output_type": "stream",
     "text": [
      "Training epochs:   8%|▊         | 81/1000 [01:30<21:36,  1.41s/it]"
     ]
    },
    {
     "name": "stdout",
     "output_type": "stream",
     "text": [
      "Epoch 81 | GCN MSE Loss: 6.4646 | NRF Loss: 3.2099 | JOINT Loss: 9.6744 | NRF Acc: 0.3309\n"
     ]
    },
    {
     "name": "stderr",
     "output_type": "stream",
     "text": [
      "Training epochs:   8%|▊         | 82/1000 [01:31<21:40,  1.42s/it]"
     ]
    },
    {
     "name": "stdout",
     "output_type": "stream",
     "text": [
      "Epoch 82 | GCN MSE Loss: 6.3380 | NRF Loss: 3.2061 | JOINT Loss: 9.5441 | NRF Acc: 0.3340\n"
     ]
    },
    {
     "name": "stderr",
     "output_type": "stream",
     "text": [
      "Training epochs:   8%|▊         | 83/1000 [01:33<21:43,  1.42s/it]"
     ]
    },
    {
     "name": "stdout",
     "output_type": "stream",
     "text": [
      "Epoch 83 | GCN MSE Loss: 6.2147 | NRF Loss: 3.2022 | JOINT Loss: 9.4169 | NRF Acc: 0.3357\n"
     ]
    },
    {
     "name": "stderr",
     "output_type": "stream",
     "text": [
      "Training epochs:   8%|▊         | 84/1000 [01:34<21:40,  1.42s/it]"
     ]
    },
    {
     "name": "stdout",
     "output_type": "stream",
     "text": [
      "Epoch 84 | GCN MSE Loss: 6.0944 | NRF Loss: 3.1983 | JOINT Loss: 9.2927 | NRF Acc: 0.3362\n"
     ]
    },
    {
     "name": "stderr",
     "output_type": "stream",
     "text": [
      "Training epochs:   8%|▊         | 85/1000 [01:35<21:46,  1.43s/it]"
     ]
    },
    {
     "name": "stdout",
     "output_type": "stream",
     "text": [
      "Epoch 85 | GCN MSE Loss: 5.9773 | NRF Loss: 3.1943 | JOINT Loss: 9.1716 | NRF Acc: 0.3388\n"
     ]
    },
    {
     "name": "stderr",
     "output_type": "stream",
     "text": [
      "Training epochs:   9%|▊         | 86/1000 [01:37<21:53,  1.44s/it]"
     ]
    },
    {
     "name": "stdout",
     "output_type": "stream",
     "text": [
      "Epoch 86 | GCN MSE Loss: 5.8634 | NRF Loss: 3.1902 | JOINT Loss: 9.0537 | NRF Acc: 0.3411\n"
     ]
    },
    {
     "name": "stderr",
     "output_type": "stream",
     "text": [
      "Training epochs:   9%|▊         | 87/1000 [01:38<21:58,  1.44s/it]"
     ]
    },
    {
     "name": "stdout",
     "output_type": "stream",
     "text": [
      "Epoch 87 | GCN MSE Loss: 5.7528 | NRF Loss: 3.1861 | JOINT Loss: 8.9390 | NRF Acc: 0.3433\n"
     ]
    },
    {
     "name": "stderr",
     "output_type": "stream",
     "text": [
      "Training epochs:   9%|▉         | 88/1000 [01:40<22:00,  1.45s/it]"
     ]
    },
    {
     "name": "stdout",
     "output_type": "stream",
     "text": [
      "Epoch 88 | GCN MSE Loss: 5.6455 | NRF Loss: 3.1820 | JOINT Loss: 8.8274 | NRF Acc: 0.3476\n"
     ]
    },
    {
     "name": "stderr",
     "output_type": "stream",
     "text": [
      "Training epochs:   9%|▉         | 89/1000 [01:41<22:01,  1.45s/it]"
     ]
    },
    {
     "name": "stdout",
     "output_type": "stream",
     "text": [
      "Epoch 89 | GCN MSE Loss: 5.5413 | NRF Loss: 3.1778 | JOINT Loss: 8.7190 | NRF Acc: 0.3502\n"
     ]
    },
    {
     "name": "stderr",
     "output_type": "stream",
     "text": [
      "Training epochs:   9%|▉         | 90/1000 [01:43<22:03,  1.45s/it]"
     ]
    },
    {
     "name": "stdout",
     "output_type": "stream",
     "text": [
      "Epoch 90 | GCN MSE Loss: 5.4402 | NRF Loss: 3.1735 | JOINT Loss: 8.6137 | NRF Acc: 0.3537\n"
     ]
    },
    {
     "name": "stderr",
     "output_type": "stream",
     "text": [
      "Training epochs:   9%|▉         | 91/1000 [01:44<22:02,  1.45s/it]"
     ]
    },
    {
     "name": "stdout",
     "output_type": "stream",
     "text": [
      "Epoch 91 | GCN MSE Loss: 5.3422 | NRF Loss: 3.1693 | JOINT Loss: 8.5114 | NRF Acc: 0.3599\n"
     ]
    },
    {
     "name": "stderr",
     "output_type": "stream",
     "text": [
      "Training epochs:   9%|▉         | 92/1000 [01:46<21:56,  1.45s/it]"
     ]
    },
    {
     "name": "stdout",
     "output_type": "stream",
     "text": [
      "Epoch 92 | GCN MSE Loss: 5.2472 | NRF Loss: 3.1650 | JOINT Loss: 8.4121 | NRF Acc: 0.3648\n"
     ]
    },
    {
     "name": "stderr",
     "output_type": "stream",
     "text": [
      "Training epochs:   9%|▉         | 93/1000 [01:47<21:50,  1.44s/it]"
     ]
    },
    {
     "name": "stdout",
     "output_type": "stream",
     "text": [
      "Epoch 93 | GCN MSE Loss: 5.1550 | NRF Loss: 3.1606 | JOINT Loss: 8.3156 | NRF Acc: 0.3691\n"
     ]
    },
    {
     "name": "stderr",
     "output_type": "stream",
     "text": [
      "Training epochs:   9%|▉         | 94/1000 [01:48<21:44,  1.44s/it]"
     ]
    },
    {
     "name": "stdout",
     "output_type": "stream",
     "text": [
      "Epoch 94 | GCN MSE Loss: 5.0656 | NRF Loss: 3.1562 | JOINT Loss: 8.2218 | NRF Acc: 0.3776\n"
     ]
    },
    {
     "name": "stderr",
     "output_type": "stream",
     "text": [
      "Training epochs:  10%|▉         | 95/1000 [01:50<21:43,  1.44s/it]"
     ]
    },
    {
     "name": "stdout",
     "output_type": "stream",
     "text": [
      "Epoch 95 | GCN MSE Loss: 4.9789 | NRF Loss: 3.1518 | JOINT Loss: 8.1307 | NRF Acc: 0.3814\n"
     ]
    },
    {
     "name": "stderr",
     "output_type": "stream",
     "text": [
      "Training epochs:  10%|▉         | 96/1000 [01:51<21:46,  1.45s/it]"
     ]
    },
    {
     "name": "stdout",
     "output_type": "stream",
     "text": [
      "Epoch 96 | GCN MSE Loss: 4.8948 | NRF Loss: 3.1474 | JOINT Loss: 8.0422 | NRF Acc: 0.3869\n"
     ]
    },
    {
     "name": "stderr",
     "output_type": "stream",
     "text": [
      "Training epochs:  10%|▉         | 97/1000 [01:53<21:47,  1.45s/it]"
     ]
    },
    {
     "name": "stdout",
     "output_type": "stream",
     "text": [
      "Epoch 97 | GCN MSE Loss: 4.8132 | NRF Loss: 3.1429 | JOINT Loss: 7.9561 | NRF Acc: 0.3920\n"
     ]
    },
    {
     "name": "stderr",
     "output_type": "stream",
     "text": [
      "Training epochs:  10%|▉         | 98/1000 [01:54<21:46,  1.45s/it]"
     ]
    },
    {
     "name": "stdout",
     "output_type": "stream",
     "text": [
      "Epoch 98 | GCN MSE Loss: 4.7339 | NRF Loss: 3.1384 | JOINT Loss: 7.8723 | NRF Acc: 0.3958\n"
     ]
    },
    {
     "name": "stderr",
     "output_type": "stream",
     "text": [
      "Training epochs:  10%|▉         | 99/1000 [01:56<21:49,  1.45s/it]"
     ]
    },
    {
     "name": "stdout",
     "output_type": "stream",
     "text": [
      "Epoch 99 | GCN MSE Loss: 4.6569 | NRF Loss: 3.1339 | JOINT Loss: 7.7908 | NRF Acc: 0.4029\n"
     ]
    },
    {
     "name": "stderr",
     "output_type": "stream",
     "text": [
      "Training epochs:  10%|█         | 100/1000 [01:57<21:50,  1.46s/it]"
     ]
    },
    {
     "name": "stdout",
     "output_type": "stream",
     "text": [
      "Epoch 100 | GCN MSE Loss: 4.5820 | NRF Loss: 3.1294 | JOINT Loss: 7.7114 | NRF Acc: 0.4108\n"
     ]
    },
    {
     "name": "stderr",
     "output_type": "stream",
     "text": [
      "Training epochs:  10%|█         | 101/1000 [01:59<21:48,  1.46s/it]"
     ]
    },
    {
     "name": "stdout",
     "output_type": "stream",
     "text": [
      "Epoch 101 | GCN MSE Loss: 4.5092 | NRF Loss: 3.1249 | JOINT Loss: 7.6341 | NRF Acc: 0.4204\n"
     ]
    },
    {
     "name": "stderr",
     "output_type": "stream",
     "text": [
      "Training epochs:  10%|█         | 102/1000 [02:00<21:46,  1.46s/it]"
     ]
    },
    {
     "name": "stdout",
     "output_type": "stream",
     "text": [
      "Epoch 102 | GCN MSE Loss: 4.4384 | NRF Loss: 3.1203 | JOINT Loss: 7.5587 | NRF Acc: 0.4287\n"
     ]
    },
    {
     "name": "stderr",
     "output_type": "stream",
     "text": [
      "Training epochs:  10%|█         | 103/1000 [02:02<21:47,  1.46s/it]"
     ]
    },
    {
     "name": "stdout",
     "output_type": "stream",
     "text": [
      "Epoch 103 | GCN MSE Loss: 4.3696 | NRF Loss: 3.1157 | JOINT Loss: 7.4852 | NRF Acc: 0.4344\n"
     ]
    },
    {
     "name": "stderr",
     "output_type": "stream",
     "text": [
      "Training epochs:  10%|█         | 104/1000 [02:03<21:47,  1.46s/it]"
     ]
    },
    {
     "name": "stdout",
     "output_type": "stream",
     "text": [
      "Epoch 104 | GCN MSE Loss: 4.3025 | NRF Loss: 3.1110 | JOINT Loss: 7.4136 | NRF Acc: 0.4384\n"
     ]
    },
    {
     "name": "stderr",
     "output_type": "stream",
     "text": [
      "Training epochs:  10%|█         | 105/1000 [02:04<21:36,  1.45s/it]"
     ]
    },
    {
     "name": "stdout",
     "output_type": "stream",
     "text": [
      "Epoch 105 | GCN MSE Loss: 4.2372 | NRF Loss: 3.1064 | JOINT Loss: 7.3436 | NRF Acc: 0.4432\n"
     ]
    },
    {
     "name": "stderr",
     "output_type": "stream",
     "text": [
      "Training epochs:  11%|█         | 106/1000 [02:06<21:32,  1.45s/it]"
     ]
    },
    {
     "name": "stdout",
     "output_type": "stream",
     "text": [
      "Epoch 106 | GCN MSE Loss: 4.1736 | NRF Loss: 3.1017 | JOINT Loss: 7.2753 | NRF Acc: 0.4446\n"
     ]
    },
    {
     "name": "stderr",
     "output_type": "stream",
     "text": [
      "Training epochs:  11%|█         | 107/1000 [02:07<21:27,  1.44s/it]"
     ]
    },
    {
     "name": "stdout",
     "output_type": "stream",
     "text": [
      "Epoch 107 | GCN MSE Loss: 4.1117 | NRF Loss: 3.0970 | JOINT Loss: 7.2087 | NRF Acc: 0.4456\n"
     ]
    },
    {
     "name": "stderr",
     "output_type": "stream",
     "text": [
      "Training epochs:  11%|█         | 108/1000 [02:09<21:19,  1.43s/it]"
     ]
    },
    {
     "name": "stdout",
     "output_type": "stream",
     "text": [
      "Epoch 108 | GCN MSE Loss: 4.0514 | NRF Loss: 3.0923 | JOINT Loss: 7.1437 | NRF Acc: 0.4475\n"
     ]
    },
    {
     "name": "stderr",
     "output_type": "stream",
     "text": [
      "Training epochs:  11%|█         | 109/1000 [02:10<21:25,  1.44s/it]"
     ]
    },
    {
     "name": "stdout",
     "output_type": "stream",
     "text": [
      "Epoch 109 | GCN MSE Loss: 3.9926 | NRF Loss: 3.0875 | JOINT Loss: 7.0802 | NRF Acc: 0.4529\n"
     ]
    },
    {
     "name": "stderr",
     "output_type": "stream",
     "text": [
      "Training epochs:  11%|█         | 110/1000 [02:12<21:23,  1.44s/it]"
     ]
    },
    {
     "name": "stdout",
     "output_type": "stream",
     "text": [
      "Epoch 110 | GCN MSE Loss: 3.9354 | NRF Loss: 3.0828 | JOINT Loss: 7.0182 | NRF Acc: 0.4565\n"
     ]
    },
    {
     "name": "stderr",
     "output_type": "stream",
     "text": [
      "Training epochs:  11%|█         | 111/1000 [02:13<21:25,  1.45s/it]"
     ]
    },
    {
     "name": "stdout",
     "output_type": "stream",
     "text": [
      "Epoch 111 | GCN MSE Loss: 3.8796 | NRF Loss: 3.0780 | JOINT Loss: 6.9577 | NRF Acc: 0.4616\n"
     ]
    },
    {
     "name": "stderr",
     "output_type": "stream",
     "text": [
      "Training epochs:  11%|█         | 112/1000 [02:15<21:27,  1.45s/it]"
     ]
    },
    {
     "name": "stdout",
     "output_type": "stream",
     "text": [
      "Epoch 112 | GCN MSE Loss: 3.8253 | NRF Loss: 3.0733 | JOINT Loss: 6.8986 | NRF Acc: 0.4662\n"
     ]
    },
    {
     "name": "stderr",
     "output_type": "stream",
     "text": [
      "Training epochs:  11%|█▏        | 113/1000 [02:16<21:26,  1.45s/it]"
     ]
    },
    {
     "name": "stdout",
     "output_type": "stream",
     "text": [
      "Epoch 113 | GCN MSE Loss: 3.7724 | NRF Loss: 3.0685 | JOINT Loss: 6.8409 | NRF Acc: 0.4695\n"
     ]
    },
    {
     "name": "stderr",
     "output_type": "stream",
     "text": [
      "Training epochs:  11%|█▏        | 114/1000 [02:17<21:26,  1.45s/it]"
     ]
    },
    {
     "name": "stdout",
     "output_type": "stream",
     "text": [
      "Epoch 114 | GCN MSE Loss: 3.7208 | NRF Loss: 3.0637 | JOINT Loss: 6.7846 | NRF Acc: 0.4742\n"
     ]
    },
    {
     "name": "stderr",
     "output_type": "stream",
     "text": [
      "Training epochs:  12%|█▏        | 115/1000 [02:19<21:25,  1.45s/it]"
     ]
    },
    {
     "name": "stdout",
     "output_type": "stream",
     "text": [
      "Epoch 115 | GCN MSE Loss: 3.6706 | NRF Loss: 3.0590 | JOINT Loss: 6.7296 | NRF Acc: 0.4775\n"
     ]
    },
    {
     "name": "stderr",
     "output_type": "stream",
     "text": [
      "Training epochs:  12%|█▏        | 116/1000 [02:20<21:09,  1.44s/it]"
     ]
    },
    {
     "name": "stdout",
     "output_type": "stream",
     "text": [
      "Epoch 116 | GCN MSE Loss: 3.6217 | NRF Loss: 3.0542 | JOINT Loss: 6.6759 | NRF Acc: 0.4834\n"
     ]
    },
    {
     "name": "stderr",
     "output_type": "stream",
     "text": [
      "Training epochs:  12%|█▏        | 117/1000 [02:22<21:02,  1.43s/it]"
     ]
    },
    {
     "name": "stdout",
     "output_type": "stream",
     "text": [
      "Epoch 117 | GCN MSE Loss: 3.5741 | NRF Loss: 3.0494 | JOINT Loss: 6.6235 | NRF Acc: 0.4886\n"
     ]
    },
    {
     "name": "stderr",
     "output_type": "stream",
     "text": [
      "Training epochs:  12%|█▏        | 118/1000 [02:23<21:01,  1.43s/it]"
     ]
    },
    {
     "name": "stdout",
     "output_type": "stream",
     "text": [
      "Epoch 118 | GCN MSE Loss: 3.5277 | NRF Loss: 3.0446 | JOINT Loss: 6.5723 | NRF Acc: 0.4934\n"
     ]
    },
    {
     "name": "stderr",
     "output_type": "stream",
     "text": [
      "Training epochs:  12%|█▏        | 119/1000 [02:25<21:09,  1.44s/it]"
     ]
    },
    {
     "name": "stdout",
     "output_type": "stream",
     "text": [
      "Epoch 119 | GCN MSE Loss: 3.4825 | NRF Loss: 3.0398 | JOINT Loss: 6.5223 | NRF Acc: 0.4974\n"
     ]
    },
    {
     "name": "stderr",
     "output_type": "stream",
     "text": [
      "Training epochs:  12%|█▏        | 120/1000 [02:26<21:05,  1.44s/it]"
     ]
    },
    {
     "name": "stdout",
     "output_type": "stream",
     "text": [
      "Epoch 120 | GCN MSE Loss: 3.4384 | NRF Loss: 3.0351 | JOINT Loss: 6.4735 | NRF Acc: 0.5029\n"
     ]
    },
    {
     "name": "stderr",
     "output_type": "stream",
     "text": [
      "Training epochs:  12%|█▏        | 121/1000 [02:27<19:38,  1.34s/it]"
     ]
    },
    {
     "name": "stdout",
     "output_type": "stream",
     "text": [
      "Epoch 121 | GCN MSE Loss: 3.3954 | NRF Loss: 3.0303 | JOINT Loss: 6.4258 | NRF Acc: 0.5088\n"
     ]
    },
    {
     "name": "stderr",
     "output_type": "stream",
     "text": [
      "Training epochs:  12%|█▏        | 122/1000 [02:28<16:20,  1.12s/it]"
     ]
    },
    {
     "name": "stdout",
     "output_type": "stream",
     "text": [
      "Epoch 122 | GCN MSE Loss: 3.3536 | NRF Loss: 3.0256 | JOINT Loss: 6.3791 | NRF Acc: 0.5154\n"
     ]
    },
    {
     "name": "stderr",
     "output_type": "stream",
     "text": [
      "Training epochs:  12%|█▏        | 123/1000 [02:29<17:48,  1.22s/it]"
     ]
    },
    {
     "name": "stdout",
     "output_type": "stream",
     "text": [
      "Epoch 123 | GCN MSE Loss: 3.3128 | NRF Loss: 3.0208 | JOINT Loss: 6.3336 | NRF Acc: 0.5227\n"
     ]
    },
    {
     "name": "stderr",
     "output_type": "stream",
     "text": [
      "Training epochs:  12%|█▏        | 124/1000 [02:31<18:53,  1.29s/it]"
     ]
    },
    {
     "name": "stdout",
     "output_type": "stream",
     "text": [
      "Epoch 124 | GCN MSE Loss: 3.2730 | NRF Loss: 3.0161 | JOINT Loss: 6.2891 | NRF Acc: 0.5277\n"
     ]
    },
    {
     "name": "stderr",
     "output_type": "stream",
     "text": [
      "Training epochs:  12%|█▎        | 125/1000 [02:32<19:36,  1.34s/it]"
     ]
    },
    {
     "name": "stdout",
     "output_type": "stream",
     "text": [
      "Epoch 125 | GCN MSE Loss: 3.2342 | NRF Loss: 3.0114 | JOINT Loss: 6.2456 | NRF Acc: 0.5320\n"
     ]
    },
    {
     "name": "stderr",
     "output_type": "stream",
     "text": [
      "Training epochs:  13%|█▎        | 126/1000 [02:34<20:06,  1.38s/it]"
     ]
    },
    {
     "name": "stdout",
     "output_type": "stream",
     "text": [
      "Epoch 126 | GCN MSE Loss: 3.1964 | NRF Loss: 3.0067 | JOINT Loss: 6.2031 | NRF Acc: 0.5367\n"
     ]
    },
    {
     "name": "stderr",
     "output_type": "stream",
     "text": [
      "Training epochs:  13%|█▎        | 127/1000 [02:35<20:18,  1.40s/it]"
     ]
    },
    {
     "name": "stdout",
     "output_type": "stream",
     "text": [
      "Epoch 127 | GCN MSE Loss: 3.1595 | NRF Loss: 3.0020 | JOINT Loss: 6.1615 | NRF Acc: 0.5414\n"
     ]
    },
    {
     "name": "stderr",
     "output_type": "stream",
     "text": [
      "Training epochs:  13%|█▎        | 128/1000 [02:36<20:26,  1.41s/it]"
     ]
    },
    {
     "name": "stdout",
     "output_type": "stream",
     "text": [
      "Epoch 128 | GCN MSE Loss: 3.1235 | NRF Loss: 2.9974 | JOINT Loss: 6.1209 | NRF Acc: 0.5424\n"
     ]
    },
    {
     "name": "stderr",
     "output_type": "stream",
     "text": [
      "Training epochs:  13%|█▎        | 129/1000 [02:38<20:31,  1.41s/it]"
     ]
    },
    {
     "name": "stdout",
     "output_type": "stream",
     "text": [
      "Epoch 129 | GCN MSE Loss: 3.0883 | NRF Loss: 2.9927 | JOINT Loss: 6.0811 | NRF Acc: 0.5464\n"
     ]
    },
    {
     "name": "stderr",
     "output_type": "stream",
     "text": [
      "Training epochs:  13%|█▎        | 130/1000 [02:39<20:35,  1.42s/it]"
     ]
    },
    {
     "name": "stdout",
     "output_type": "stream",
     "text": [
      "Epoch 130 | GCN MSE Loss: 3.0541 | NRF Loss: 2.9881 | JOINT Loss: 6.0422 | NRF Acc: 0.5512\n"
     ]
    },
    {
     "name": "stderr",
     "output_type": "stream",
     "text": [
      "Training epochs:  13%|█▎        | 131/1000 [02:41<20:42,  1.43s/it]"
     ]
    },
    {
     "name": "stdout",
     "output_type": "stream",
     "text": [
      "Epoch 131 | GCN MSE Loss: 3.0206 | NRF Loss: 2.9835 | JOINT Loss: 6.0041 | NRF Acc: 0.5568\n"
     ]
    },
    {
     "name": "stderr",
     "output_type": "stream",
     "text": [
      "Training epochs:  13%|█▎        | 132/1000 [02:42<20:50,  1.44s/it]"
     ]
    },
    {
     "name": "stdout",
     "output_type": "stream",
     "text": [
      "Epoch 132 | GCN MSE Loss: 2.9879 | NRF Loss: 2.9789 | JOINT Loss: 5.9668 | NRF Acc: 0.5604\n"
     ]
    },
    {
     "name": "stderr",
     "output_type": "stream",
     "text": [
      "Training epochs:  13%|█▎        | 133/1000 [02:44<20:54,  1.45s/it]"
     ]
    },
    {
     "name": "stdout",
     "output_type": "stream",
     "text": [
      "Epoch 133 | GCN MSE Loss: 2.9560 | NRF Loss: 2.9743 | JOINT Loss: 5.9303 | NRF Acc: 0.5639\n"
     ]
    },
    {
     "name": "stderr",
     "output_type": "stream",
     "text": [
      "Training epochs:  13%|█▎        | 134/1000 [02:45<20:52,  1.45s/it]"
     ]
    },
    {
     "name": "stdout",
     "output_type": "stream",
     "text": [
      "Epoch 134 | GCN MSE Loss: 2.9249 | NRF Loss: 2.9697 | JOINT Loss: 5.8946 | NRF Acc: 0.5675\n"
     ]
    },
    {
     "name": "stderr",
     "output_type": "stream",
     "text": [
      "Training epochs:  14%|█▎        | 135/1000 [02:47<20:54,  1.45s/it]"
     ]
    },
    {
     "name": "stdout",
     "output_type": "stream",
     "text": [
      "Epoch 135 | GCN MSE Loss: 2.8944 | NRF Loss: 2.9651 | JOINT Loss: 5.8596 | NRF Acc: 0.5720\n"
     ]
    },
    {
     "name": "stderr",
     "output_type": "stream",
     "text": [
      "Training epochs:  14%|█▎        | 136/1000 [02:48<20:54,  1.45s/it]"
     ]
    },
    {
     "name": "stdout",
     "output_type": "stream",
     "text": [
      "Epoch 136 | GCN MSE Loss: 2.8647 | NRF Loss: 2.9606 | JOINT Loss: 5.8252 | NRF Acc: 0.5755\n"
     ]
    },
    {
     "name": "stderr",
     "output_type": "stream",
     "text": [
      "Training epochs:  14%|█▎        | 137/1000 [02:50<20:56,  1.46s/it]"
     ]
    },
    {
     "name": "stdout",
     "output_type": "stream",
     "text": [
      "Epoch 137 | GCN MSE Loss: 2.8356 | NRF Loss: 2.9560 | JOINT Loss: 5.7916 | NRF Acc: 0.5812\n"
     ]
    },
    {
     "name": "stderr",
     "output_type": "stream",
     "text": [
      "Training epochs:  14%|█▍        | 138/1000 [02:51<20:55,  1.46s/it]"
     ]
    },
    {
     "name": "stdout",
     "output_type": "stream",
     "text": [
      "Epoch 138 | GCN MSE Loss: 2.8072 | NRF Loss: 2.9515 | JOINT Loss: 5.7587 | NRF Acc: 0.5850\n"
     ]
    },
    {
     "name": "stderr",
     "output_type": "stream",
     "text": [
      "Training epochs:  14%|█▍        | 139/1000 [02:52<20:47,  1.45s/it]"
     ]
    },
    {
     "name": "stdout",
     "output_type": "stream",
     "text": [
      "Epoch 139 | GCN MSE Loss: 2.7794 | NRF Loss: 2.9469 | JOINT Loss: 5.7264 | NRF Acc: 0.5888\n"
     ]
    },
    {
     "name": "stderr",
     "output_type": "stream",
     "text": [
      "Training epochs:  14%|█▍        | 140/1000 [02:54<20:45,  1.45s/it]"
     ]
    },
    {
     "name": "stdout",
     "output_type": "stream",
     "text": [
      "Epoch 140 | GCN MSE Loss: 2.7523 | NRF Loss: 2.9424 | JOINT Loss: 5.6947 | NRF Acc: 0.5919\n"
     ]
    },
    {
     "name": "stderr",
     "output_type": "stream",
     "text": [
      "Training epochs:  14%|█▍        | 141/1000 [02:55<20:38,  1.44s/it]"
     ]
    },
    {
     "name": "stdout",
     "output_type": "stream",
     "text": [
      "Epoch 141 | GCN MSE Loss: 2.7258 | NRF Loss: 2.9379 | JOINT Loss: 5.6637 | NRF Acc: 0.5942\n"
     ]
    },
    {
     "name": "stderr",
     "output_type": "stream",
     "text": [
      "Training epochs:  14%|█▍        | 142/1000 [02:57<20:36,  1.44s/it]"
     ]
    },
    {
     "name": "stdout",
     "output_type": "stream",
     "text": [
      "Epoch 142 | GCN MSE Loss: 2.6998 | NRF Loss: 2.9334 | JOINT Loss: 5.6332 | NRF Acc: 0.5975\n"
     ]
    },
    {
     "name": "stderr",
     "output_type": "stream",
     "text": [
      "Training epochs:  14%|█▍        | 143/1000 [02:58<20:34,  1.44s/it]"
     ]
    },
    {
     "name": "stdout",
     "output_type": "stream",
     "text": [
      "Epoch 143 | GCN MSE Loss: 2.6744 | NRF Loss: 2.9289 | JOINT Loss: 5.6034 | NRF Acc: 0.6008\n"
     ]
    },
    {
     "name": "stderr",
     "output_type": "stream",
     "text": [
      "Training epochs:  14%|█▍        | 144/1000 [03:00<20:41,  1.45s/it]"
     ]
    },
    {
     "name": "stdout",
     "output_type": "stream",
     "text": [
      "Epoch 144 | GCN MSE Loss: 2.6496 | NRF Loss: 2.9244 | JOINT Loss: 5.5741 | NRF Acc: 0.6046\n"
     ]
    },
    {
     "name": "stderr",
     "output_type": "stream",
     "text": [
      "Training epochs:  14%|█▍        | 145/1000 [03:01<20:38,  1.45s/it]"
     ]
    },
    {
     "name": "stdout",
     "output_type": "stream",
     "text": [
      "Epoch 145 | GCN MSE Loss: 2.6253 | NRF Loss: 2.9200 | JOINT Loss: 5.5453 | NRF Acc: 0.6072\n"
     ]
    },
    {
     "name": "stderr",
     "output_type": "stream",
     "text": [
      "Training epochs:  15%|█▍        | 146/1000 [03:03<20:40,  1.45s/it]"
     ]
    },
    {
     "name": "stdout",
     "output_type": "stream",
     "text": [
      "Epoch 146 | GCN MSE Loss: 2.6016 | NRF Loss: 2.9155 | JOINT Loss: 5.5171 | NRF Acc: 0.6099\n"
     ]
    },
    {
     "name": "stderr",
     "output_type": "stream",
     "text": [
      "Training epochs:  15%|█▍        | 147/1000 [03:04<20:39,  1.45s/it]"
     ]
    },
    {
     "name": "stdout",
     "output_type": "stream",
     "text": [
      "Epoch 147 | GCN MSE Loss: 2.5783 | NRF Loss: 2.9110 | JOINT Loss: 5.4894 | NRF Acc: 0.6131\n"
     ]
    },
    {
     "name": "stderr",
     "output_type": "stream",
     "text": [
      "Training epochs:  15%|█▍        | 148/1000 [03:05<20:38,  1.45s/it]"
     ]
    },
    {
     "name": "stdout",
     "output_type": "stream",
     "text": [
      "Epoch 148 | GCN MSE Loss: 2.5556 | NRF Loss: 2.9066 | JOINT Loss: 5.4622 | NRF Acc: 0.6172\n"
     ]
    },
    {
     "name": "stderr",
     "output_type": "stream",
     "text": [
      "Training epochs:  15%|█▍        | 149/1000 [03:07<20:40,  1.46s/it]"
     ]
    },
    {
     "name": "stdout",
     "output_type": "stream",
     "text": [
      "Epoch 149 | GCN MSE Loss: 2.5333 | NRF Loss: 2.9022 | JOINT Loss: 5.4354 | NRF Acc: 0.6210\n"
     ]
    },
    {
     "name": "stderr",
     "output_type": "stream",
     "text": [
      "Training epochs:  15%|█▌        | 150/1000 [03:08<20:38,  1.46s/it]"
     ]
    },
    {
     "name": "stdout",
     "output_type": "stream",
     "text": [
      "Epoch 150 | GCN MSE Loss: 2.5114 | NRF Loss: 2.8977 | JOINT Loss: 5.4092 | NRF Acc: 0.6255\n"
     ]
    },
    {
     "name": "stderr",
     "output_type": "stream",
     "text": [
      "Training epochs:  15%|█▌        | 151/1000 [03:10<20:38,  1.46s/it]"
     ]
    },
    {
     "name": "stdout",
     "output_type": "stream",
     "text": [
      "Epoch 151 | GCN MSE Loss: 2.4901 | NRF Loss: 2.8933 | JOINT Loss: 5.3834 | NRF Acc: 0.6286\n"
     ]
    },
    {
     "name": "stderr",
     "output_type": "stream",
     "text": [
      "Training epochs:  15%|█▌        | 152/1000 [03:11<20:31,  1.45s/it]"
     ]
    },
    {
     "name": "stdout",
     "output_type": "stream",
     "text": [
      "Epoch 152 | GCN MSE Loss: 2.4691 | NRF Loss: 2.8889 | JOINT Loss: 5.3580 | NRF Acc: 0.6300\n"
     ]
    },
    {
     "name": "stderr",
     "output_type": "stream",
     "text": [
      "Training epochs:  15%|█▌        | 153/1000 [03:13<20:26,  1.45s/it]"
     ]
    },
    {
     "name": "stdout",
     "output_type": "stream",
     "text": [
      "Epoch 153 | GCN MSE Loss: 2.4486 | NRF Loss: 2.8845 | JOINT Loss: 5.3331 | NRF Acc: 0.6335\n"
     ]
    },
    {
     "name": "stderr",
     "output_type": "stream",
     "text": [
      "Training epochs:  15%|█▌        | 154/1000 [03:14<20:18,  1.44s/it]"
     ]
    },
    {
     "name": "stdout",
     "output_type": "stream",
     "text": [
      "Epoch 154 | GCN MSE Loss: 2.4285 | NRF Loss: 2.8801 | JOINT Loss: 5.3086 | NRF Acc: 0.6357\n"
     ]
    },
    {
     "name": "stderr",
     "output_type": "stream",
     "text": [
      "Training epochs:  16%|█▌        | 155/1000 [03:16<20:19,  1.44s/it]"
     ]
    },
    {
     "name": "stdout",
     "output_type": "stream",
     "text": [
      "Epoch 155 | GCN MSE Loss: 2.4088 | NRF Loss: 2.8757 | JOINT Loss: 5.2845 | NRF Acc: 0.6395\n"
     ]
    },
    {
     "name": "stderr",
     "output_type": "stream",
     "text": [
      "Training epochs:  16%|█▌        | 156/1000 [03:17<20:17,  1.44s/it]"
     ]
    },
    {
     "name": "stdout",
     "output_type": "stream",
     "text": [
      "Epoch 156 | GCN MSE Loss: 2.3895 | NRF Loss: 2.8713 | JOINT Loss: 5.2608 | NRF Acc: 0.6428\n"
     ]
    },
    {
     "name": "stderr",
     "output_type": "stream",
     "text": [
      "Training epochs:  16%|█▌        | 157/1000 [03:19<20:21,  1.45s/it]"
     ]
    },
    {
     "name": "stdout",
     "output_type": "stream",
     "text": [
      "Epoch 157 | GCN MSE Loss: 2.3705 | NRF Loss: 2.8669 | JOINT Loss: 5.2375 | NRF Acc: 0.6453\n"
     ]
    },
    {
     "name": "stderr",
     "output_type": "stream",
     "text": [
      "Training epochs:  16%|█▌        | 158/1000 [03:20<20:24,  1.45s/it]"
     ]
    },
    {
     "name": "stdout",
     "output_type": "stream",
     "text": [
      "Epoch 158 | GCN MSE Loss: 2.3519 | NRF Loss: 2.8626 | JOINT Loss: 5.2144 | NRF Acc: 0.6480\n"
     ]
    },
    {
     "name": "stderr",
     "output_type": "stream",
     "text": [
      "Training epochs:  16%|█▌        | 159/1000 [03:21<20:22,  1.45s/it]"
     ]
    },
    {
     "name": "stdout",
     "output_type": "stream",
     "text": [
      "Epoch 159 | GCN MSE Loss: 2.3335 | NRF Loss: 2.8582 | JOINT Loss: 5.1917 | NRF Acc: 0.6515\n"
     ]
    },
    {
     "name": "stderr",
     "output_type": "stream",
     "text": [
      "Training epochs:  16%|█▌        | 160/1000 [03:23<20:22,  1.46s/it]"
     ]
    },
    {
     "name": "stdout",
     "output_type": "stream",
     "text": [
      "Epoch 160 | GCN MSE Loss: 2.3154 | NRF Loss: 2.8539 | JOINT Loss: 5.1693 | NRF Acc: 0.6529\n"
     ]
    },
    {
     "name": "stderr",
     "output_type": "stream",
     "text": [
      "Training epochs:  16%|█▌        | 161/1000 [03:24<20:22,  1.46s/it]"
     ]
    },
    {
     "name": "stdout",
     "output_type": "stream",
     "text": [
      "Epoch 161 | GCN MSE Loss: 2.2976 | NRF Loss: 2.8496 | JOINT Loss: 5.1471 | NRF Acc: 0.6563\n"
     ]
    },
    {
     "name": "stderr",
     "output_type": "stream",
     "text": [
      "Training epochs:  16%|█▌        | 162/1000 [03:26<20:20,  1.46s/it]"
     ]
    },
    {
     "name": "stdout",
     "output_type": "stream",
     "text": [
      "Epoch 162 | GCN MSE Loss: 2.2801 | NRF Loss: 2.8453 | JOINT Loss: 5.1253 | NRF Acc: 0.6591\n"
     ]
    },
    {
     "name": "stderr",
     "output_type": "stream",
     "text": [
      "Training epochs:  16%|█▋        | 163/1000 [03:27<20:19,  1.46s/it]"
     ]
    },
    {
     "name": "stdout",
     "output_type": "stream",
     "text": [
      "Epoch 163 | GCN MSE Loss: 2.2628 | NRF Loss: 2.8410 | JOINT Loss: 5.1038 | NRF Acc: 0.6608\n"
     ]
    },
    {
     "name": "stderr",
     "output_type": "stream",
     "text": [
      "Training epochs:  16%|█▋        | 164/1000 [03:29<20:21,  1.46s/it]"
     ]
    },
    {
     "name": "stdout",
     "output_type": "stream",
     "text": [
      "Epoch 164 | GCN MSE Loss: 2.2458 | NRF Loss: 2.8367 | JOINT Loss: 5.0825 | NRF Acc: 0.6631\n"
     ]
    },
    {
     "name": "stderr",
     "output_type": "stream",
     "text": [
      "Training epochs:  16%|█▋        | 165/1000 [03:30<20:25,  1.47s/it]"
     ]
    },
    {
     "name": "stdout",
     "output_type": "stream",
     "text": [
      "Epoch 165 | GCN MSE Loss: 2.2291 | NRF Loss: 2.8324 | JOINT Loss: 5.0615 | NRF Acc: 0.6652\n"
     ]
    },
    {
     "name": "stderr",
     "output_type": "stream",
     "text": [
      "Training epochs:  17%|█▋        | 166/1000 [03:32<20:23,  1.47s/it]"
     ]
    },
    {
     "name": "stdout",
     "output_type": "stream",
     "text": [
      "Epoch 166 | GCN MSE Loss: 2.2125 | NRF Loss: 2.8282 | JOINT Loss: 5.0407 | NRF Acc: 0.6678\n"
     ]
    },
    {
     "name": "stderr",
     "output_type": "stream",
     "text": [
      "Training epochs:  17%|█▋        | 167/1000 [03:33<19:57,  1.44s/it]"
     ]
    },
    {
     "name": "stdout",
     "output_type": "stream",
     "text": [
      "Epoch 167 | GCN MSE Loss: 2.1962 | NRF Loss: 2.8239 | JOINT Loss: 5.0201 | NRF Acc: 0.6688\n"
     ]
    },
    {
     "name": "stderr",
     "output_type": "stream",
     "text": [
      "Training epochs:  17%|█▋        | 168/1000 [03:34<19:46,  1.43s/it]"
     ]
    },
    {
     "name": "stdout",
     "output_type": "stream",
     "text": [
      "Epoch 168 | GCN MSE Loss: 2.1801 | NRF Loss: 2.8197 | JOINT Loss: 4.9998 | NRF Acc: 0.6704\n"
     ]
    },
    {
     "name": "stderr",
     "output_type": "stream",
     "text": [
      "Training epochs:  17%|█▋        | 169/1000 [03:36<19:52,  1.43s/it]"
     ]
    },
    {
     "name": "stdout",
     "output_type": "stream",
     "text": [
      "Epoch 169 | GCN MSE Loss: 2.1643 | NRF Loss: 2.8155 | JOINT Loss: 4.9798 | NRF Acc: 0.6730\n"
     ]
    },
    {
     "name": "stderr",
     "output_type": "stream",
     "text": [
      "Training epochs:  17%|█▋        | 170/1000 [03:37<19:57,  1.44s/it]"
     ]
    },
    {
     "name": "stdout",
     "output_type": "stream",
     "text": [
      "Epoch 170 | GCN MSE Loss: 2.1487 | NRF Loss: 2.8113 | JOINT Loss: 4.9600 | NRF Acc: 0.6749\n"
     ]
    },
    {
     "name": "stderr",
     "output_type": "stream",
     "text": [
      "Training epochs:  17%|█▋        | 171/1000 [03:39<19:57,  1.44s/it]"
     ]
    },
    {
     "name": "stdout",
     "output_type": "stream",
     "text": [
      "Epoch 171 | GCN MSE Loss: 2.1333 | NRF Loss: 2.8071 | JOINT Loss: 4.9404 | NRF Acc: 0.6762\n"
     ]
    },
    {
     "name": "stderr",
     "output_type": "stream",
     "text": [
      "Training epochs:  17%|█▋        | 172/1000 [03:40<20:01,  1.45s/it]"
     ]
    },
    {
     "name": "stdout",
     "output_type": "stream",
     "text": [
      "Epoch 172 | GCN MSE Loss: 2.1181 | NRF Loss: 2.8029 | JOINT Loss: 4.9211 | NRF Acc: 0.6785\n"
     ]
    },
    {
     "name": "stderr",
     "output_type": "stream",
     "text": [
      "Training epochs:  17%|█▋        | 173/1000 [03:42<20:00,  1.45s/it]"
     ]
    },
    {
     "name": "stdout",
     "output_type": "stream",
     "text": [
      "Epoch 173 | GCN MSE Loss: 2.1032 | NRF Loss: 2.7988 | JOINT Loss: 4.9020 | NRF Acc: 0.6802\n"
     ]
    },
    {
     "name": "stderr",
     "output_type": "stream",
     "text": [
      "Training epochs:  17%|█▋        | 174/1000 [03:43<20:01,  1.45s/it]"
     ]
    },
    {
     "name": "stdout",
     "output_type": "stream",
     "text": [
      "Epoch 174 | GCN MSE Loss: 2.0885 | NRF Loss: 2.7947 | JOINT Loss: 4.8831 | NRF Acc: 0.6835\n"
     ]
    },
    {
     "name": "stderr",
     "output_type": "stream",
     "text": [
      "Training epochs:  18%|█▊        | 175/1000 [03:45<20:01,  1.46s/it]"
     ]
    },
    {
     "name": "stdout",
     "output_type": "stream",
     "text": [
      "Epoch 175 | GCN MSE Loss: 2.0740 | NRF Loss: 2.7905 | JOINT Loss: 4.8645 | NRF Acc: 0.6863\n"
     ]
    },
    {
     "name": "stderr",
     "output_type": "stream",
     "text": [
      "Training epochs:  18%|█▊        | 176/1000 [03:46<19:53,  1.45s/it]"
     ]
    },
    {
     "name": "stdout",
     "output_type": "stream",
     "text": [
      "Epoch 176 | GCN MSE Loss: 2.0597 | NRF Loss: 2.7864 | JOINT Loss: 4.8461 | NRF Acc: 0.6878\n"
     ]
    },
    {
     "name": "stderr",
     "output_type": "stream",
     "text": [
      "Training epochs:  18%|█▊        | 177/1000 [03:48<19:46,  1.44s/it]"
     ]
    },
    {
     "name": "stdout",
     "output_type": "stream",
     "text": [
      "Epoch 177 | GCN MSE Loss: 2.0456 | NRF Loss: 2.7823 | JOINT Loss: 4.8279 | NRF Acc: 0.6898\n"
     ]
    },
    {
     "name": "stderr",
     "output_type": "stream",
     "text": [
      "Training epochs:  18%|█▊        | 178/1000 [03:49<19:44,  1.44s/it]"
     ]
    },
    {
     "name": "stdout",
     "output_type": "stream",
     "text": [
      "Epoch 178 | GCN MSE Loss: 2.0317 | NRF Loss: 2.7782 | JOINT Loss: 4.8099 | NRF Acc: 0.6911\n"
     ]
    },
    {
     "name": "stderr",
     "output_type": "stream",
     "text": [
      "Training epochs:  18%|█▊        | 179/1000 [03:50<19:41,  1.44s/it]"
     ]
    },
    {
     "name": "stdout",
     "output_type": "stream",
     "text": [
      "Epoch 179 | GCN MSE Loss: 2.0180 | NRF Loss: 2.7742 | JOINT Loss: 4.7922 | NRF Acc: 0.6918\n"
     ]
    },
    {
     "name": "stderr",
     "output_type": "stream",
     "text": [
      "Training epochs:  18%|█▊        | 180/1000 [03:52<19:44,  1.44s/it]"
     ]
    },
    {
     "name": "stdout",
     "output_type": "stream",
     "text": [
      "Epoch 180 | GCN MSE Loss: 2.0045 | NRF Loss: 2.7701 | JOINT Loss: 4.7747 | NRF Acc: 0.6939\n"
     ]
    },
    {
     "name": "stderr",
     "output_type": "stream",
     "text": [
      "Training epochs:  18%|█▊        | 181/1000 [03:53<19:43,  1.45s/it]"
     ]
    },
    {
     "name": "stdout",
     "output_type": "stream",
     "text": [
      "Epoch 181 | GCN MSE Loss: 1.9913 | NRF Loss: 2.7661 | JOINT Loss: 4.7574 | NRF Acc: 0.6953\n"
     ]
    },
    {
     "name": "stderr",
     "output_type": "stream",
     "text": [
      "Training epochs:  18%|█▊        | 182/1000 [03:55<19:45,  1.45s/it]"
     ]
    },
    {
     "name": "stdout",
     "output_type": "stream",
     "text": [
      "Epoch 182 | GCN MSE Loss: 1.9782 | NRF Loss: 2.7621 | JOINT Loss: 4.7403 | NRF Acc: 0.6963\n"
     ]
    },
    {
     "name": "stderr",
     "output_type": "stream",
     "text": [
      "Training epochs:  18%|█▊        | 183/1000 [03:56<19:48,  1.45s/it]"
     ]
    },
    {
     "name": "stdout",
     "output_type": "stream",
     "text": [
      "Epoch 183 | GCN MSE Loss: 1.9653 | NRF Loss: 2.7580 | JOINT Loss: 4.7234 | NRF Acc: 0.6968\n"
     ]
    },
    {
     "name": "stderr",
     "output_type": "stream",
     "text": [
      "Training epochs:  18%|█▊        | 184/1000 [03:58<19:48,  1.46s/it]"
     ]
    },
    {
     "name": "stdout",
     "output_type": "stream",
     "text": [
      "Epoch 184 | GCN MSE Loss: 1.9527 | NRF Loss: 2.7540 | JOINT Loss: 4.7067 | NRF Acc: 0.6981\n"
     ]
    },
    {
     "name": "stderr",
     "output_type": "stream",
     "text": [
      "Training epochs:  18%|█▊        | 185/1000 [03:59<19:46,  1.46s/it]"
     ]
    },
    {
     "name": "stdout",
     "output_type": "stream",
     "text": [
      "Epoch 185 | GCN MSE Loss: 1.9402 | NRF Loss: 2.7501 | JOINT Loss: 4.6902 | NRF Acc: 0.6998\n"
     ]
    },
    {
     "name": "stderr",
     "output_type": "stream",
     "text": [
      "Training epochs:  19%|█▊        | 186/1000 [04:01<19:47,  1.46s/it]"
     ]
    },
    {
     "name": "stdout",
     "output_type": "stream",
     "text": [
      "Epoch 186 | GCN MSE Loss: 1.9279 | NRF Loss: 2.7461 | JOINT Loss: 4.6739 | NRF Acc: 0.7008\n"
     ]
    },
    {
     "name": "stderr",
     "output_type": "stream",
     "text": [
      "Training epochs:  19%|█▊        | 187/1000 [04:02<19:46,  1.46s/it]"
     ]
    },
    {
     "name": "stdout",
     "output_type": "stream",
     "text": [
      "Epoch 187 | GCN MSE Loss: 1.9157 | NRF Loss: 2.7421 | JOINT Loss: 4.6578 | NRF Acc: 0.7020\n"
     ]
    },
    {
     "name": "stderr",
     "output_type": "stream",
     "text": [
      "Training epochs:  19%|█▉        | 188/1000 [04:04<19:45,  1.46s/it]"
     ]
    },
    {
     "name": "stdout",
     "output_type": "stream",
     "text": [
      "Epoch 188 | GCN MSE Loss: 1.9038 | NRF Loss: 2.7382 | JOINT Loss: 4.6419 | NRF Acc: 0.7033\n"
     ]
    },
    {
     "name": "stderr",
     "output_type": "stream",
     "text": [
      "Training epochs:  19%|█▉        | 189/1000 [04:05<19:43,  1.46s/it]"
     ]
    },
    {
     "name": "stdout",
     "output_type": "stream",
     "text": [
      "Epoch 189 | GCN MSE Loss: 1.8920 | NRF Loss: 2.7342 | JOINT Loss: 4.6262 | NRF Acc: 0.7046\n"
     ]
    },
    {
     "name": "stderr",
     "output_type": "stream",
     "text": [
      "Training epochs:  19%|█▉        | 190/1000 [04:06<19:35,  1.45s/it]"
     ]
    },
    {
     "name": "stdout",
     "output_type": "stream",
     "text": [
      "Epoch 190 | GCN MSE Loss: 1.8805 | NRF Loss: 2.7303 | JOINT Loss: 4.6107 | NRF Acc: 0.7053\n"
     ]
    },
    {
     "name": "stderr",
     "output_type": "stream",
     "text": [
      "Training epochs:  19%|█▉        | 191/1000 [04:07<17:51,  1.32s/it]"
     ]
    },
    {
     "name": "stdout",
     "output_type": "stream",
     "text": [
      "Epoch 191 | GCN MSE Loss: 1.8690 | NRF Loss: 2.7264 | JOINT Loss: 4.5954 | NRF Acc: 0.7052\n"
     ]
    },
    {
     "name": "stderr",
     "output_type": "stream",
     "text": [
      "Training epochs:  19%|█▉        | 192/1000 [04:09<18:18,  1.36s/it]"
     ]
    },
    {
     "name": "stdout",
     "output_type": "stream",
     "text": [
      "Epoch 192 | GCN MSE Loss: 1.8578 | NRF Loss: 2.7224 | JOINT Loss: 4.5802 | NRF Acc: 0.7095\n"
     ]
    },
    {
     "name": "stderr",
     "output_type": "stream",
     "text": [
      "Training epochs:  19%|█▉        | 193/1000 [04:10<18:43,  1.39s/it]"
     ]
    },
    {
     "name": "stdout",
     "output_type": "stream",
     "text": [
      "Epoch 193 | GCN MSE Loss: 1.8467 | NRF Loss: 2.7185 | JOINT Loss: 4.5653 | NRF Acc: 0.7105\n"
     ]
    },
    {
     "name": "stderr",
     "output_type": "stream",
     "text": [
      "Training epochs:  19%|█▉        | 194/1000 [04:12<18:58,  1.41s/it]"
     ]
    },
    {
     "name": "stdout",
     "output_type": "stream",
     "text": [
      "Epoch 194 | GCN MSE Loss: 1.8358 | NRF Loss: 2.7147 | JOINT Loss: 4.5505 | NRF Acc: 0.7119\n"
     ]
    },
    {
     "name": "stderr",
     "output_type": "stream",
     "text": [
      "Training epochs:  20%|█▉        | 195/1000 [04:13<19:08,  1.43s/it]"
     ]
    },
    {
     "name": "stdout",
     "output_type": "stream",
     "text": [
      "Epoch 195 | GCN MSE Loss: 1.8251 | NRF Loss: 2.7108 | JOINT Loss: 4.5358 | NRF Acc: 0.7124\n"
     ]
    },
    {
     "name": "stderr",
     "output_type": "stream",
     "text": [
      "Training epochs:  20%|█▉        | 196/1000 [04:15<19:15,  1.44s/it]"
     ]
    },
    {
     "name": "stdout",
     "output_type": "stream",
     "text": [
      "Epoch 196 | GCN MSE Loss: 1.8145 | NRF Loss: 2.7069 | JOINT Loss: 4.5214 | NRF Acc: 0.7140\n"
     ]
    },
    {
     "name": "stderr",
     "output_type": "stream",
     "text": [
      "Training epochs:  20%|█▉        | 197/1000 [04:16<19:18,  1.44s/it]"
     ]
    },
    {
     "name": "stdout",
     "output_type": "stream",
     "text": [
      "Epoch 197 | GCN MSE Loss: 1.8040 | NRF Loss: 2.7031 | JOINT Loss: 4.5071 | NRF Acc: 0.7152\n"
     ]
    },
    {
     "name": "stderr",
     "output_type": "stream",
     "text": [
      "Training epochs:  20%|█▉        | 198/1000 [04:18<19:18,  1.45s/it]"
     ]
    },
    {
     "name": "stdout",
     "output_type": "stream",
     "text": [
      "Epoch 198 | GCN MSE Loss: 1.7938 | NRF Loss: 2.6992 | JOINT Loss: 4.4930 | NRF Acc: 0.7154\n"
     ]
    },
    {
     "name": "stderr",
     "output_type": "stream",
     "text": [
      "Training epochs:  20%|█▉        | 199/1000 [04:19<19:20,  1.45s/it]"
     ]
    },
    {
     "name": "stdout",
     "output_type": "stream",
     "text": [
      "Epoch 199 | GCN MSE Loss: 1.7836 | NRF Loss: 2.6954 | JOINT Loss: 4.4791 | NRF Acc: 0.7162\n"
     ]
    },
    {
     "name": "stderr",
     "output_type": "stream",
     "text": [
      "Training epochs:  20%|██        | 200/1000 [04:21<19:23,  1.45s/it]"
     ]
    },
    {
     "name": "stdout",
     "output_type": "stream",
     "text": [
      "Epoch 200 | GCN MSE Loss: 1.7736 | NRF Loss: 2.6916 | JOINT Loss: 4.4653 | NRF Acc: 0.7173\n"
     ]
    },
    {
     "name": "stderr",
     "output_type": "stream",
     "text": [
      "Training epochs:  20%|██        | 201/1000 [04:22<19:24,  1.46s/it]"
     ]
    },
    {
     "name": "stdout",
     "output_type": "stream",
     "text": [
      "Epoch 201 | GCN MSE Loss: 1.7638 | NRF Loss: 2.6878 | JOINT Loss: 4.4516 | NRF Acc: 0.7181\n"
     ]
    },
    {
     "name": "stderr",
     "output_type": "stream",
     "text": [
      "Training epochs:  20%|██        | 202/1000 [04:23<19:16,  1.45s/it]"
     ]
    },
    {
     "name": "stdout",
     "output_type": "stream",
     "text": [
      "Epoch 202 | GCN MSE Loss: 1.7541 | NRF Loss: 2.6841 | JOINT Loss: 4.4382 | NRF Acc: 0.7188\n"
     ]
    },
    {
     "name": "stderr",
     "output_type": "stream",
     "text": [
      "Training epochs:  20%|██        | 203/1000 [04:25<19:10,  1.44s/it]"
     ]
    },
    {
     "name": "stdout",
     "output_type": "stream",
     "text": [
      "Epoch 203 | GCN MSE Loss: 1.7445 | NRF Loss: 2.6803 | JOINT Loss: 4.4248 | NRF Acc: 0.7209\n"
     ]
    },
    {
     "name": "stderr",
     "output_type": "stream",
     "text": [
      "Training epochs:  20%|██        | 204/1000 [04:26<19:06,  1.44s/it]"
     ]
    },
    {
     "name": "stdout",
     "output_type": "stream",
     "text": [
      "Epoch 204 | GCN MSE Loss: 1.7351 | NRF Loss: 2.6766 | JOINT Loss: 4.4117 | NRF Acc: 0.7214\n"
     ]
    },
    {
     "name": "stderr",
     "output_type": "stream",
     "text": [
      "Training epochs:  20%|██        | 205/1000 [04:28<19:08,  1.44s/it]"
     ]
    },
    {
     "name": "stdout",
     "output_type": "stream",
     "text": [
      "Epoch 205 | GCN MSE Loss: 1.7258 | NRF Loss: 2.6728 | JOINT Loss: 4.3986 | NRF Acc: 0.7221\n"
     ]
    },
    {
     "name": "stderr",
     "output_type": "stream",
     "text": [
      "Training epochs:  21%|██        | 206/1000 [04:29<19:04,  1.44s/it]"
     ]
    },
    {
     "name": "stdout",
     "output_type": "stream",
     "text": [
      "Epoch 206 | GCN MSE Loss: 1.7167 | NRF Loss: 2.6691 | JOINT Loss: 4.3858 | NRF Acc: 0.7225\n"
     ]
    },
    {
     "name": "stderr",
     "output_type": "stream",
     "text": [
      "Training epochs:  21%|██        | 207/1000 [04:31<19:10,  1.45s/it]"
     ]
    },
    {
     "name": "stdout",
     "output_type": "stream",
     "text": [
      "Epoch 207 | GCN MSE Loss: 1.7077 | NRF Loss: 2.6654 | JOINT Loss: 4.3731 | NRF Acc: 0.7240\n"
     ]
    },
    {
     "name": "stderr",
     "output_type": "stream",
     "text": [
      "Training epochs:  21%|██        | 208/1000 [04:32<19:14,  1.46s/it]"
     ]
    },
    {
     "name": "stdout",
     "output_type": "stream",
     "text": [
      "Epoch 208 | GCN MSE Loss: 1.6988 | NRF Loss: 2.6617 | JOINT Loss: 4.3605 | NRF Acc: 0.7254\n"
     ]
    },
    {
     "name": "stderr",
     "output_type": "stream",
     "text": [
      "Training epochs:  21%|██        | 209/1000 [04:34<19:13,  1.46s/it]"
     ]
    },
    {
     "name": "stdout",
     "output_type": "stream",
     "text": [
      "Epoch 209 | GCN MSE Loss: 1.6901 | NRF Loss: 2.6580 | JOINT Loss: 4.3481 | NRF Acc: 0.7258\n"
     ]
    },
    {
     "name": "stderr",
     "output_type": "stream",
     "text": [
      "Training epochs:  21%|██        | 210/1000 [04:35<19:09,  1.46s/it]"
     ]
    },
    {
     "name": "stdout",
     "output_type": "stream",
     "text": [
      "Epoch 210 | GCN MSE Loss: 1.6815 | NRF Loss: 2.6543 | JOINT Loss: 4.3358 | NRF Acc: 0.7268\n"
     ]
    },
    {
     "name": "stderr",
     "output_type": "stream",
     "text": [
      "Training epochs:  21%|██        | 211/1000 [04:37<19:08,  1.46s/it]"
     ]
    },
    {
     "name": "stdout",
     "output_type": "stream",
     "text": [
      "Epoch 211 | GCN MSE Loss: 1.6730 | NRF Loss: 2.6507 | JOINT Loss: 4.3236 | NRF Acc: 0.7282\n"
     ]
    },
    {
     "name": "stderr",
     "output_type": "stream",
     "text": [
      "Training epochs:  21%|██        | 212/1000 [04:38<17:24,  1.33s/it]"
     ]
    },
    {
     "name": "stdout",
     "output_type": "stream",
     "text": [
      "Epoch 212 | GCN MSE Loss: 1.6646 | NRF Loss: 2.6470 | JOINT Loss: 4.3116 | NRF Acc: 0.7282\n"
     ]
    },
    {
     "name": "stderr",
     "output_type": "stream",
     "text": [
      "Training epochs:  21%|██▏       | 213/1000 [04:39<17:49,  1.36s/it]"
     ]
    },
    {
     "name": "stdout",
     "output_type": "stream",
     "text": [
      "Epoch 213 | GCN MSE Loss: 1.6564 | NRF Loss: 2.6434 | JOINT Loss: 4.2998 | NRF Acc: 0.7287\n"
     ]
    },
    {
     "name": "stderr",
     "output_type": "stream",
     "text": [
      "Training epochs:  21%|██▏       | 214/1000 [04:40<18:06,  1.38s/it]"
     ]
    },
    {
     "name": "stdout",
     "output_type": "stream",
     "text": [
      "Epoch 214 | GCN MSE Loss: 1.6483 | NRF Loss: 2.6398 | JOINT Loss: 4.2881 | NRF Acc: 0.7291\n"
     ]
    },
    {
     "name": "stderr",
     "output_type": "stream",
     "text": [
      "Training epochs:  22%|██▏       | 215/1000 [04:42<18:19,  1.40s/it]"
     ]
    },
    {
     "name": "stdout",
     "output_type": "stream",
     "text": [
      "Epoch 215 | GCN MSE Loss: 1.6403 | NRF Loss: 2.6362 | JOINT Loss: 4.2765 | NRF Acc: 0.7297\n"
     ]
    },
    {
     "name": "stderr",
     "output_type": "stream",
     "text": [
      "Training epochs:  22%|██▏       | 216/1000 [04:43<18:29,  1.42s/it]"
     ]
    },
    {
     "name": "stdout",
     "output_type": "stream",
     "text": [
      "Epoch 216 | GCN MSE Loss: 1.6325 | NRF Loss: 2.6326 | JOINT Loss: 4.2650 | NRF Acc: 0.7303\n"
     ]
    },
    {
     "name": "stderr",
     "output_type": "stream",
     "text": [
      "Training epochs:  22%|██▏       | 217/1000 [04:45<18:37,  1.43s/it]"
     ]
    },
    {
     "name": "stdout",
     "output_type": "stream",
     "text": [
      "Epoch 217 | GCN MSE Loss: 1.6248 | NRF Loss: 2.6290 | JOINT Loss: 4.2537 | NRF Acc: 0.7311\n"
     ]
    },
    {
     "name": "stderr",
     "output_type": "stream",
     "text": [
      "Training epochs:  22%|██▏       | 218/1000 [04:46<18:43,  1.44s/it]"
     ]
    },
    {
     "name": "stdout",
     "output_type": "stream",
     "text": [
      "Epoch 218 | GCN MSE Loss: 1.6171 | NRF Loss: 2.6254 | JOINT Loss: 4.2426 | NRF Acc: 0.7322\n"
     ]
    },
    {
     "name": "stderr",
     "output_type": "stream",
     "text": [
      "Training epochs:  22%|██▏       | 219/1000 [04:48<18:45,  1.44s/it]"
     ]
    },
    {
     "name": "stdout",
     "output_type": "stream",
     "text": [
      "Epoch 219 | GCN MSE Loss: 1.6097 | NRF Loss: 2.6219 | JOINT Loss: 4.2315 | NRF Acc: 0.7325\n"
     ]
    },
    {
     "name": "stderr",
     "output_type": "stream",
     "text": [
      "Training epochs:  22%|██▏       | 220/1000 [04:49<18:48,  1.45s/it]"
     ]
    },
    {
     "name": "stdout",
     "output_type": "stream",
     "text": [
      "Epoch 220 | GCN MSE Loss: 1.6023 | NRF Loss: 2.6183 | JOINT Loss: 4.2206 | NRF Acc: 0.7332\n"
     ]
    },
    {
     "name": "stderr",
     "output_type": "stream",
     "text": [
      "Training epochs:  22%|██▏       | 221/1000 [04:51<18:50,  1.45s/it]"
     ]
    },
    {
     "name": "stdout",
     "output_type": "stream",
     "text": [
      "Epoch 221 | GCN MSE Loss: 1.5950 | NRF Loss: 2.6148 | JOINT Loss: 4.2098 | NRF Acc: 0.7339\n"
     ]
    },
    {
     "name": "stderr",
     "output_type": "stream",
     "text": [
      "Training epochs:  22%|██▏       | 222/1000 [04:52<18:52,  1.46s/it]"
     ]
    },
    {
     "name": "stdout",
     "output_type": "stream",
     "text": [
      "Epoch 222 | GCN MSE Loss: 1.5878 | NRF Loss: 2.6113 | JOINT Loss: 4.1991 | NRF Acc: 0.7348\n"
     ]
    },
    {
     "name": "stderr",
     "output_type": "stream",
     "text": [
      "Training epochs:  22%|██▏       | 223/1000 [04:53<17:10,  1.33s/it]"
     ]
    },
    {
     "name": "stdout",
     "output_type": "stream",
     "text": [
      "Epoch 223 | GCN MSE Loss: 1.5808 | NRF Loss: 2.6078 | JOINT Loss: 4.1886 | NRF Acc: 0.7348\n"
     ]
    },
    {
     "name": "stderr",
     "output_type": "stream",
     "text": [
      "Training epochs:  22%|██▏       | 224/1000 [04:55<17:33,  1.36s/it]"
     ]
    },
    {
     "name": "stdout",
     "output_type": "stream",
     "text": [
      "Epoch 224 | GCN MSE Loss: 1.5738 | NRF Loss: 2.6043 | JOINT Loss: 4.1781 | NRF Acc: 0.7353\n"
     ]
    },
    {
     "name": "stderr",
     "output_type": "stream",
     "text": [
      "Training epochs:  22%|██▎       | 225/1000 [04:56<17:52,  1.38s/it]"
     ]
    },
    {
     "name": "stdout",
     "output_type": "stream",
     "text": [
      "Epoch 225 | GCN MSE Loss: 1.5670 | NRF Loss: 2.6008 | JOINT Loss: 4.1678 | NRF Acc: 0.7368\n"
     ]
    },
    {
     "name": "stderr",
     "output_type": "stream",
     "text": [
      "Training epochs:  23%|██▎       | 226/1000 [04:57<18:08,  1.41s/it]"
     ]
    },
    {
     "name": "stdout",
     "output_type": "stream",
     "text": [
      "Epoch 226 | GCN MSE Loss: 1.5602 | NRF Loss: 2.5973 | JOINT Loss: 4.1576 | NRF Acc: 0.7374\n"
     ]
    },
    {
     "name": "stderr",
     "output_type": "stream",
     "text": [
      "Training epochs:  23%|██▎       | 227/1000 [04:59<18:18,  1.42s/it]"
     ]
    },
    {
     "name": "stdout",
     "output_type": "stream",
     "text": [
      "Epoch 227 | GCN MSE Loss: 1.5536 | NRF Loss: 2.5939 | JOINT Loss: 4.1475 | NRF Acc: 0.7381\n"
     ]
    },
    {
     "name": "stderr",
     "output_type": "stream",
     "text": [
      "Training epochs:  23%|██▎       | 228/1000 [05:00<18:25,  1.43s/it]"
     ]
    },
    {
     "name": "stdout",
     "output_type": "stream",
     "text": [
      "Epoch 228 | GCN MSE Loss: 1.5470 | NRF Loss: 2.5905 | JOINT Loss: 4.1375 | NRF Acc: 0.7382\n"
     ]
    },
    {
     "name": "stderr",
     "output_type": "stream",
     "text": [
      "Training epochs:  23%|██▎       | 229/1000 [05:02<18:34,  1.45s/it]"
     ]
    },
    {
     "name": "stdout",
     "output_type": "stream",
     "text": [
      "Epoch 229 | GCN MSE Loss: 1.5406 | NRF Loss: 2.5870 | JOINT Loss: 4.1276 | NRF Acc: 0.7389\n"
     ]
    },
    {
     "name": "stderr",
     "output_type": "stream",
     "text": [
      "Training epochs:  23%|██▎       | 230/1000 [05:03<18:36,  1.45s/it]"
     ]
    },
    {
     "name": "stdout",
     "output_type": "stream",
     "text": [
      "Epoch 230 | GCN MSE Loss: 1.5342 | NRF Loss: 2.5836 | JOINT Loss: 4.1179 | NRF Acc: 0.7394\n"
     ]
    },
    {
     "name": "stderr",
     "output_type": "stream",
     "text": [
      "Training epochs:  23%|██▎       | 231/1000 [05:05<18:37,  1.45s/it]"
     ]
    },
    {
     "name": "stdout",
     "output_type": "stream",
     "text": [
      "Epoch 231 | GCN MSE Loss: 1.5280 | NRF Loss: 2.5803 | JOINT Loss: 4.1082 | NRF Acc: 0.7401\n"
     ]
    },
    {
     "name": "stderr",
     "output_type": "stream",
     "text": [
      "Training epochs:  23%|██▎       | 232/1000 [05:06<18:34,  1.45s/it]"
     ]
    },
    {
     "name": "stdout",
     "output_type": "stream",
     "text": [
      "Epoch 232 | GCN MSE Loss: 1.5218 | NRF Loss: 2.5769 | JOINT Loss: 4.0987 | NRF Acc: 0.7403\n"
     ]
    },
    {
     "name": "stderr",
     "output_type": "stream",
     "text": [
      "Training epochs:  23%|██▎       | 233/1000 [05:08<18:36,  1.46s/it]"
     ]
    },
    {
     "name": "stdout",
     "output_type": "stream",
     "text": [
      "Epoch 233 | GCN MSE Loss: 1.5157 | NRF Loss: 2.5735 | JOINT Loss: 4.0892 | NRF Acc: 0.7408\n"
     ]
    },
    {
     "name": "stderr",
     "output_type": "stream",
     "text": [
      "Training epochs:  23%|██▎       | 234/1000 [05:09<18:27,  1.45s/it]"
     ]
    },
    {
     "name": "stdout",
     "output_type": "stream",
     "text": [
      "Epoch 234 | GCN MSE Loss: 1.5098 | NRF Loss: 2.5702 | JOINT Loss: 4.0799 | NRF Acc: 0.7412\n"
     ]
    },
    {
     "name": "stderr",
     "output_type": "stream",
     "text": [
      "Training epochs:  24%|██▎       | 235/1000 [05:11<18:24,  1.44s/it]"
     ]
    },
    {
     "name": "stdout",
     "output_type": "stream",
     "text": [
      "Epoch 235 | GCN MSE Loss: 1.5039 | NRF Loss: 2.5668 | JOINT Loss: 4.0707 | NRF Acc: 0.7415\n"
     ]
    },
    {
     "name": "stderr",
     "output_type": "stream",
     "text": [
      "Training epochs:  24%|██▎       | 236/1000 [05:12<18:23,  1.44s/it]"
     ]
    },
    {
     "name": "stdout",
     "output_type": "stream",
     "text": [
      "Epoch 236 | GCN MSE Loss: 1.4981 | NRF Loss: 2.5635 | JOINT Loss: 4.0616 | NRF Acc: 0.7432\n"
     ]
    },
    {
     "name": "stderr",
     "output_type": "stream",
     "text": [
      "Training epochs:  24%|██▎       | 237/1000 [05:14<19:06,  1.50s/it]"
     ]
    },
    {
     "name": "stdout",
     "output_type": "stream",
     "text": [
      "Epoch 237 | GCN MSE Loss: 1.4924 | NRF Loss: 2.5602 | JOINT Loss: 4.0526 | NRF Acc: 0.7450\n"
     ]
    },
    {
     "name": "stderr",
     "output_type": "stream",
     "text": [
      "Training epochs:  24%|██▍       | 238/1000 [05:15<17:15,  1.36s/it]"
     ]
    },
    {
     "name": "stdout",
     "output_type": "stream",
     "text": [
      "Epoch 238 | GCN MSE Loss: 1.4868 | NRF Loss: 2.5569 | JOINT Loss: 4.0437 | NRF Acc: 0.7450\n"
     ]
    },
    {
     "name": "stderr",
     "output_type": "stream",
     "text": [
      "Training epochs:  24%|██▍       | 239/1000 [05:16<17:34,  1.39s/it]"
     ]
    },
    {
     "name": "stdout",
     "output_type": "stream",
     "text": [
      "Epoch 239 | GCN MSE Loss: 1.4812 | NRF Loss: 2.5537 | JOINT Loss: 4.0349 | NRF Acc: 0.7455\n"
     ]
    },
    {
     "name": "stderr",
     "output_type": "stream",
     "text": [
      "Training epochs:  24%|██▍       | 240/1000 [05:18<17:43,  1.40s/it]"
     ]
    },
    {
     "name": "stdout",
     "output_type": "stream",
     "text": [
      "Epoch 240 | GCN MSE Loss: 1.4758 | NRF Loss: 2.5504 | JOINT Loss: 4.0262 | NRF Acc: 0.7465\n"
     ]
    },
    {
     "name": "stderr",
     "output_type": "stream",
     "text": [
      "Training epochs:  24%|██▍       | 241/1000 [05:19<16:17,  1.29s/it]"
     ]
    },
    {
     "name": "stdout",
     "output_type": "stream",
     "text": [
      "Epoch 241 | GCN MSE Loss: 1.4705 | NRF Loss: 2.5471 | JOINT Loss: 4.0176 | NRF Acc: 0.7465\n"
     ]
    },
    {
     "name": "stderr",
     "output_type": "stream",
     "text": [
      "Training epochs:  24%|██▍       | 242/1000 [05:20<15:16,  1.21s/it]"
     ]
    },
    {
     "name": "stdout",
     "output_type": "stream",
     "text": [
      "Epoch 242 | GCN MSE Loss: 1.4652 | NRF Loss: 2.5439 | JOINT Loss: 4.0091 | NRF Acc: 0.7464\n"
     ]
    },
    {
     "name": "stderr",
     "output_type": "stream",
     "text": [
      "Training epochs:  24%|██▍       | 243/1000 [05:21<16:11,  1.28s/it]"
     ]
    },
    {
     "name": "stdout",
     "output_type": "stream",
     "text": [
      "Epoch 243 | GCN MSE Loss: 1.4600 | NRF Loss: 2.5407 | JOINT Loss: 4.0007 | NRF Acc: 0.7471\n"
     ]
    },
    {
     "name": "stderr",
     "output_type": "stream",
     "text": [
      "Training epochs:  24%|██▍       | 244/1000 [05:22<16:45,  1.33s/it]"
     ]
    },
    {
     "name": "stdout",
     "output_type": "stream",
     "text": [
      "Epoch 244 | GCN MSE Loss: 1.4549 | NRF Loss: 2.5374 | JOINT Loss: 3.9924 | NRF Acc: 0.7472\n"
     ]
    },
    {
     "name": "stderr",
     "output_type": "stream",
     "text": [
      "Training epochs:  24%|██▍       | 245/1000 [05:23<15:34,  1.24s/it]"
     ]
    },
    {
     "name": "stdout",
     "output_type": "stream",
     "text": [
      "Epoch 245 | GCN MSE Loss: 1.4499 | NRF Loss: 2.5342 | JOINT Loss: 3.9841 | NRF Acc: 0.7471\n"
     ]
    },
    {
     "name": "stderr",
     "output_type": "stream",
     "text": [
      "Training epochs:  25%|██▍       | 246/1000 [05:24<14:44,  1.17s/it]"
     ]
    },
    {
     "name": "stdout",
     "output_type": "stream",
     "text": [
      "Epoch 246 | GCN MSE Loss: 1.4450 | NRF Loss: 2.5310 | JOINT Loss: 3.9760 | NRF Acc: 0.7469\n"
     ]
    },
    {
     "name": "stderr",
     "output_type": "stream",
     "text": [
      "Training epochs:  25%|██▍       | 247/1000 [05:26<14:09,  1.13s/it]"
     ]
    },
    {
     "name": "stdout",
     "output_type": "stream",
     "text": [
      "Epoch 247 | GCN MSE Loss: 1.4401 | NRF Loss: 2.5278 | JOINT Loss: 3.9679 | NRF Acc: 0.7469\n"
     ]
    },
    {
     "name": "stderr",
     "output_type": "stream",
     "text": [
      "Training epochs:  25%|██▍       | 248/1000 [05:27<13:45,  1.10s/it]"
     ]
    },
    {
     "name": "stdout",
     "output_type": "stream",
     "text": [
      "Epoch 248 | GCN MSE Loss: 1.4353 | NRF Loss: 2.5247 | JOINT Loss: 3.9600 | NRF Acc: 0.7467\n"
     ]
    },
    {
     "name": "stderr",
     "output_type": "stream",
     "text": [
      "Training epochs:  25%|██▍       | 249/1000 [05:28<13:28,  1.08s/it]"
     ]
    },
    {
     "name": "stdout",
     "output_type": "stream",
     "text": [
      "Epoch 249 | GCN MSE Loss: 1.4306 | NRF Loss: 2.5215 | JOINT Loss: 3.9521 | NRF Acc: 0.7467\n"
     ]
    },
    {
     "name": "stderr",
     "output_type": "stream",
     "text": [
      "Training epochs:  25%|██▌       | 250/1000 [05:29<13:15,  1.06s/it]"
     ]
    },
    {
     "name": "stdout",
     "output_type": "stream",
     "text": [
      "Epoch 250 | GCN MSE Loss: 1.4260 | NRF Loss: 2.5184 | JOINT Loss: 3.9443 | NRF Acc: 0.7467\n"
     ]
    },
    {
     "name": "stderr",
     "output_type": "stream",
     "text": [
      "Training epochs:  25%|██▌       | 251/1000 [05:30<14:34,  1.17s/it]"
     ]
    },
    {
     "name": "stdout",
     "output_type": "stream",
     "text": [
      "Epoch 251 | GCN MSE Loss: 1.4214 | NRF Loss: 2.5152 | JOINT Loss: 3.9366 | NRF Acc: 0.7476\n"
     ]
    },
    {
     "name": "stderr",
     "output_type": "stream",
     "text": [
      "Training epochs:  25%|██▌       | 252/1000 [05:31<15:39,  1.26s/it]"
     ]
    },
    {
     "name": "stdout",
     "output_type": "stream",
     "text": [
      "Epoch 252 | GCN MSE Loss: 1.4169 | NRF Loss: 2.5121 | JOINT Loss: 3.9290 | NRF Acc: 0.7477\n"
     ]
    },
    {
     "name": "stderr",
     "output_type": "stream",
     "text": [
      "Training epochs:  25%|██▌       | 253/1000 [05:33<16:22,  1.32s/it]"
     ]
    },
    {
     "name": "stdout",
     "output_type": "stream",
     "text": [
      "Epoch 253 | GCN MSE Loss: 1.4125 | NRF Loss: 2.5090 | JOINT Loss: 3.9215 | NRF Acc: 0.7488\n"
     ]
    },
    {
     "name": "stderr",
     "output_type": "stream",
     "text": [
      "Training epochs:  25%|██▌       | 254/1000 [05:34<16:51,  1.36s/it]"
     ]
    },
    {
     "name": "stdout",
     "output_type": "stream",
     "text": [
      "Epoch 254 | GCN MSE Loss: 1.4081 | NRF Loss: 2.5059 | JOINT Loss: 3.9140 | NRF Acc: 0.7491\n"
     ]
    },
    {
     "name": "stderr",
     "output_type": "stream",
     "text": [
      "Training epochs:  26%|██▌       | 255/1000 [05:36<17:12,  1.39s/it]"
     ]
    },
    {
     "name": "stdout",
     "output_type": "stream",
     "text": [
      "Epoch 255 | GCN MSE Loss: 1.4038 | NRF Loss: 2.5028 | JOINT Loss: 3.9066 | NRF Acc: 0.7493\n"
     ]
    },
    {
     "name": "stderr",
     "output_type": "stream",
     "text": [
      "Training epochs:  26%|██▌       | 256/1000 [05:37<17:27,  1.41s/it]"
     ]
    },
    {
     "name": "stdout",
     "output_type": "stream",
     "text": [
      "Epoch 256 | GCN MSE Loss: 1.3996 | NRF Loss: 2.4997 | JOINT Loss: 3.8993 | NRF Acc: 0.7495\n"
     ]
    },
    {
     "name": "stderr",
     "output_type": "stream",
     "text": [
      "Training epochs:  26%|██▌       | 257/1000 [05:38<16:00,  1.29s/it]"
     ]
    },
    {
     "name": "stdout",
     "output_type": "stream",
     "text": [
      "Epoch 257 | GCN MSE Loss: 1.3955 | NRF Loss: 2.4966 | JOINT Loss: 3.8921 | NRF Acc: 0.7493\n"
     ]
    },
    {
     "name": "stderr",
     "output_type": "stream",
     "text": [
      "Training epochs:  26%|██▌       | 258/1000 [05:39<14:59,  1.21s/it]"
     ]
    },
    {
     "name": "stdout",
     "output_type": "stream",
     "text": [
      "Epoch 258 | GCN MSE Loss: 1.3914 | NRF Loss: 2.4936 | JOINT Loss: 3.8850 | NRF Acc: 0.7495\n"
     ]
    },
    {
     "name": "stderr",
     "output_type": "stream",
     "text": [
      "Training epochs:  26%|██▌       | 259/1000 [05:41<15:50,  1.28s/it]"
     ]
    },
    {
     "name": "stdout",
     "output_type": "stream",
     "text": [
      "Epoch 259 | GCN MSE Loss: 1.3874 | NRF Loss: 2.4905 | JOINT Loss: 3.8779 | NRF Acc: 0.7498\n"
     ]
    },
    {
     "name": "stderr",
     "output_type": "stream",
     "text": [
      "Training epochs:  26%|██▌       | 260/1000 [05:42<16:29,  1.34s/it]"
     ]
    },
    {
     "name": "stdout",
     "output_type": "stream",
     "text": [
      "Epoch 260 | GCN MSE Loss: 1.3835 | NRF Loss: 2.4875 | JOINT Loss: 3.8710 | NRF Acc: 0.7503\n"
     ]
    },
    {
     "name": "stderr",
     "output_type": "stream",
     "text": [
      "Training epochs:  26%|██▌       | 261/1000 [05:44<16:54,  1.37s/it]"
     ]
    },
    {
     "name": "stdout",
     "output_type": "stream",
     "text": [
      "Epoch 261 | GCN MSE Loss: 1.3796 | NRF Loss: 2.4845 | JOINT Loss: 3.8641 | NRF Acc: 0.7507\n"
     ]
    },
    {
     "name": "stderr",
     "output_type": "stream",
     "text": [
      "Training epochs:  26%|██▌       | 262/1000 [05:45<15:35,  1.27s/it]"
     ]
    },
    {
     "name": "stdout",
     "output_type": "stream",
     "text": [
      "Epoch 262 | GCN MSE Loss: 1.3758 | NRF Loss: 2.4815 | JOINT Loss: 3.8572 | NRF Acc: 0.7507\n"
     ]
    },
    {
     "name": "stderr",
     "output_type": "stream",
     "text": [
      "Training epochs:  26%|██▋       | 263/1000 [05:46<14:41,  1.20s/it]"
     ]
    },
    {
     "name": "stdout",
     "output_type": "stream",
     "text": [
      "Epoch 263 | GCN MSE Loss: 1.3720 | NRF Loss: 2.4784 | JOINT Loss: 3.8505 | NRF Acc: 0.7505\n"
     ]
    },
    {
     "name": "stderr",
     "output_type": "stream",
     "text": [
      "Training epochs:  26%|██▋       | 264/1000 [05:47<14:02,  1.14s/it]"
     ]
    },
    {
     "name": "stdout",
     "output_type": "stream",
     "text": [
      "Epoch 264 | GCN MSE Loss: 1.3683 | NRF Loss: 2.4755 | JOINT Loss: 3.8438 | NRF Acc: 0.7505\n"
     ]
    },
    {
     "name": "stderr",
     "output_type": "stream",
     "text": [
      "Training epochs:  26%|██▋       | 265/1000 [05:48<13:35,  1.11s/it]"
     ]
    },
    {
     "name": "stdout",
     "output_type": "stream",
     "text": [
      "Epoch 265 | GCN MSE Loss: 1.3647 | NRF Loss: 2.4725 | JOINT Loss: 3.8372 | NRF Acc: 0.7507\n"
     ]
    },
    {
     "name": "stderr",
     "output_type": "stream",
     "text": [
      "Training epochs:  27%|██▋       | 266/1000 [05:49<13:15,  1.08s/it]"
     ]
    },
    {
     "name": "stdout",
     "output_type": "stream",
     "text": [
      "Epoch 266 | GCN MSE Loss: 1.3611 | NRF Loss: 2.4695 | JOINT Loss: 3.8306 | NRF Acc: 0.7507\n"
     ]
    },
    {
     "name": "stderr",
     "output_type": "stream",
     "text": [
      "Training epochs:  27%|██▋       | 267/1000 [05:50<13:02,  1.07s/it]"
     ]
    },
    {
     "name": "stdout",
     "output_type": "stream",
     "text": [
      "Epoch 267 | GCN MSE Loss: 1.3576 | NRF Loss: 2.4665 | JOINT Loss: 3.8241 | NRF Acc: 0.7507\n"
     ]
    },
    {
     "name": "stderr",
     "output_type": "stream",
     "text": [
      "Training epochs:  27%|██▋       | 268/1000 [05:51<12:50,  1.05s/it]"
     ]
    },
    {
     "name": "stdout",
     "output_type": "stream",
     "text": [
      "Epoch 268 | GCN MSE Loss: 1.3541 | NRF Loss: 2.4636 | JOINT Loss: 3.8177 | NRF Acc: 0.7507\n"
     ]
    },
    {
     "name": "stderr",
     "output_type": "stream",
     "text": [
      "Training epochs:  27%|██▋       | 269/1000 [05:52<12:30,  1.03s/it]"
     ]
    },
    {
     "name": "stdout",
     "output_type": "stream",
     "text": [
      "Epoch 269 | GCN MSE Loss: 1.3507 | NRF Loss: 2.4606 | JOINT Loss: 3.8114 | NRF Acc: 0.7510\n"
     ]
    },
    {
     "name": "stderr",
     "output_type": "stream",
     "text": [
      "Training epochs:  27%|██▋       | 270/1000 [05:53<12:25,  1.02s/it]"
     ]
    },
    {
     "name": "stdout",
     "output_type": "stream",
     "text": [
      "Epoch 270 | GCN MSE Loss: 1.3474 | NRF Loss: 2.4577 | JOINT Loss: 3.8051 | NRF Acc: 0.7510\n"
     ]
    },
    {
     "name": "stderr",
     "output_type": "stream",
     "text": [
      "Training epochs:  27%|██▋       | 271/1000 [05:54<13:50,  1.14s/it]"
     ]
    },
    {
     "name": "stdout",
     "output_type": "stream",
     "text": [
      "Epoch 271 | GCN MSE Loss: 1.3441 | NRF Loss: 2.4548 | JOINT Loss: 3.7989 | NRF Acc: 0.7514\n"
     ]
    },
    {
     "name": "stderr",
     "output_type": "stream",
     "text": [
      "Training epochs:  27%|██▋       | 272/1000 [05:55<13:22,  1.10s/it]"
     ]
    },
    {
     "name": "stdout",
     "output_type": "stream",
     "text": [
      "Epoch 272 | GCN MSE Loss: 1.3409 | NRF Loss: 2.4519 | JOINT Loss: 3.7927 | NRF Acc: 0.7514\n"
     ]
    },
    {
     "name": "stderr",
     "output_type": "stream",
     "text": [
      "Training epochs:  27%|██▋       | 273/1000 [05:57<14:29,  1.20s/it]"
     ]
    },
    {
     "name": "stdout",
     "output_type": "stream",
     "text": [
      "Epoch 273 | GCN MSE Loss: 1.3377 | NRF Loss: 2.4489 | JOINT Loss: 3.7866 | NRF Acc: 0.7521\n"
     ]
    },
    {
     "name": "stderr",
     "output_type": "stream",
     "text": [
      "Training epochs:  27%|██▋       | 274/1000 [05:58<15:11,  1.25s/it]"
     ]
    },
    {
     "name": "stdout",
     "output_type": "stream",
     "text": [
      "Epoch 274 | GCN MSE Loss: 1.3345 | NRF Loss: 2.4460 | JOINT Loss: 3.7806 | NRF Acc: 0.7524\n"
     ]
    },
    {
     "name": "stderr",
     "output_type": "stream",
     "text": [
      "Training epochs:  28%|██▊       | 275/1000 [05:59<14:05,  1.17s/it]"
     ]
    },
    {
     "name": "stdout",
     "output_type": "stream",
     "text": [
      "Epoch 275 | GCN MSE Loss: 1.3314 | NRF Loss: 2.4431 | JOINT Loss: 3.7746 | NRF Acc: 0.7528\n"
     ]
    },
    {
     "name": "stderr",
     "output_type": "stream",
     "text": [
      "Training epochs:  28%|██▊       | 276/1000 [06:00<11:57,  1.01it/s]"
     ]
    },
    {
     "name": "stdout",
     "output_type": "stream",
     "text": [
      "Epoch 276 | GCN MSE Loss: 1.3284 | NRF Loss: 2.4402 | JOINT Loss: 3.7687 | NRF Acc: 0.7529\n"
     ]
    },
    {
     "name": "stderr",
     "output_type": "stream",
     "text": [
      "Training epochs:  28%|██▊       | 277/1000 [06:00<10:01,  1.20it/s]"
     ]
    },
    {
     "name": "stdout",
     "output_type": "stream",
     "text": [
      "Epoch 277 | GCN MSE Loss: 1.3254 | NRF Loss: 2.4374 | JOINT Loss: 3.7628 | NRF Acc: 0.7528\n"
     ]
    },
    {
     "name": "stderr",
     "output_type": "stream",
     "text": [
      "Training epochs:  28%|██▊       | 278/1000 [06:01<08:41,  1.39it/s]"
     ]
    },
    {
     "name": "stdout",
     "output_type": "stream",
     "text": [
      "Epoch 278 | GCN MSE Loss: 1.3225 | NRF Loss: 2.4345 | JOINT Loss: 3.7570 | NRF Acc: 0.7529\n"
     ]
    },
    {
     "name": "stderr",
     "output_type": "stream",
     "text": [
      "Training epochs:  28%|██▊       | 279/1000 [06:01<08:06,  1.48it/s]"
     ]
    },
    {
     "name": "stdout",
     "output_type": "stream",
     "text": [
      "Epoch 279 | GCN MSE Loss: 1.3196 | NRF Loss: 2.4316 | JOINT Loss: 3.7512 | NRF Acc: 0.7531\n"
     ]
    },
    {
     "name": "stderr",
     "output_type": "stream",
     "text": [
      "Training epochs:  28%|██▊       | 280/1000 [06:02<07:48,  1.54it/s]"
     ]
    },
    {
     "name": "stdout",
     "output_type": "stream",
     "text": [
      "Epoch 280 | GCN MSE Loss: 1.3168 | NRF Loss: 2.4288 | JOINT Loss: 3.7455 | NRF Acc: 0.7533\n"
     ]
    },
    {
     "name": "stderr",
     "output_type": "stream",
     "text": [
      "Training epochs:  28%|██▊       | 281/1000 [06:02<07:22,  1.63it/s]"
     ]
    },
    {
     "name": "stdout",
     "output_type": "stream",
     "text": [
      "Epoch 281 | GCN MSE Loss: 1.3140 | NRF Loss: 2.4259 | JOINT Loss: 3.7399 | NRF Acc: 0.7533\n"
     ]
    },
    {
     "name": "stderr",
     "output_type": "stream",
     "text": [
      "Training epochs:  28%|██▊       | 282/1000 [06:03<07:04,  1.69it/s]"
     ]
    },
    {
     "name": "stdout",
     "output_type": "stream",
     "text": [
      "Epoch 282 | GCN MSE Loss: 1.3112 | NRF Loss: 2.4231 | JOINT Loss: 3.7343 | NRF Acc: 0.7531\n"
     ]
    },
    {
     "name": "stderr",
     "output_type": "stream",
     "text": [
      "Training epochs:  28%|██▊       | 283/1000 [06:03<07:25,  1.61it/s]"
     ]
    },
    {
     "name": "stdout",
     "output_type": "stream",
     "text": [
      "Epoch 283 | GCN MSE Loss: 1.3085 | NRF Loss: 2.4202 | JOINT Loss: 3.7287 | NRF Acc: 0.7535\n"
     ]
    },
    {
     "name": "stderr",
     "output_type": "stream",
     "text": [
      "Training epochs:  28%|██▊       | 284/1000 [06:05<10:22,  1.15it/s]"
     ]
    },
    {
     "name": "stdout",
     "output_type": "stream",
     "text": [
      "Epoch 284 | GCN MSE Loss: 1.3058 | NRF Loss: 2.4174 | JOINT Loss: 3.7233 | NRF Acc: 0.7536\n"
     ]
    },
    {
     "name": "stderr",
     "output_type": "stream",
     "text": [
      "Training epochs:  28%|██▊       | 285/1000 [06:06<10:55,  1.09it/s]"
     ]
    },
    {
     "name": "stdout",
     "output_type": "stream",
     "text": [
      "Epoch 285 | GCN MSE Loss: 1.3032 | NRF Loss: 2.4146 | JOINT Loss: 3.7178 | NRF Acc: 0.7536\n"
     ]
    },
    {
     "name": "stderr",
     "output_type": "stream",
     "text": [
      "Training epochs:  29%|██▊       | 286/1000 [06:07<11:17,  1.05it/s]"
     ]
    },
    {
     "name": "stdout",
     "output_type": "stream",
     "text": [
      "Epoch 286 | GCN MSE Loss: 1.3007 | NRF Loss: 2.4118 | JOINT Loss: 3.7125 | NRF Acc: 0.7536\n"
     ]
    },
    {
     "name": "stderr",
     "output_type": "stream",
     "text": [
      "Training epochs:  29%|██▊       | 287/1000 [06:08<11:33,  1.03it/s]"
     ]
    },
    {
     "name": "stdout",
     "output_type": "stream",
     "text": [
      "Epoch 287 | GCN MSE Loss: 1.2981 | NRF Loss: 2.4090 | JOINT Loss: 3.7071 | NRF Acc: 0.7536\n"
     ]
    },
    {
     "name": "stderr",
     "output_type": "stream",
     "text": [
      "Training epochs:  29%|██▉       | 288/1000 [06:09<13:11,  1.11s/it]"
     ]
    },
    {
     "name": "stdout",
     "output_type": "stream",
     "text": [
      "Epoch 288 | GCN MSE Loss: 1.2956 | NRF Loss: 2.4062 | JOINT Loss: 3.7019 | NRF Acc: 0.7542\n"
     ]
    },
    {
     "name": "stderr",
     "output_type": "stream",
     "text": [
      "Training epochs:  29%|██▉       | 289/1000 [06:11<14:20,  1.21s/it]"
     ]
    },
    {
     "name": "stdout",
     "output_type": "stream",
     "text": [
      "Epoch 289 | GCN MSE Loss: 1.2932 | NRF Loss: 2.4035 | JOINT Loss: 3.6967 | NRF Acc: 0.7543\n"
     ]
    },
    {
     "name": "stderr",
     "output_type": "stream",
     "text": [
      "Training epochs:  29%|██▉       | 290/1000 [06:12<13:39,  1.15s/it]"
     ]
    },
    {
     "name": "stdout",
     "output_type": "stream",
     "text": [
      "Epoch 290 | GCN MSE Loss: 1.2908 | NRF Loss: 2.4007 | JOINT Loss: 3.6915 | NRF Acc: 0.7542\n"
     ]
    },
    {
     "name": "stderr",
     "output_type": "stream",
     "text": [
      "Training epochs:  29%|██▉       | 291/1000 [06:13<13:10,  1.12s/it]"
     ]
    },
    {
     "name": "stdout",
     "output_type": "stream",
     "text": [
      "Epoch 291 | GCN MSE Loss: 1.2884 | NRF Loss: 2.3980 | JOINT Loss: 3.6864 | NRF Acc: 0.7542\n"
     ]
    },
    {
     "name": "stderr",
     "output_type": "stream",
     "text": [
      "Training epochs:  29%|██▉       | 292/1000 [06:14<12:50,  1.09s/it]"
     ]
    },
    {
     "name": "stdout",
     "output_type": "stream",
     "text": [
      "Epoch 292 | GCN MSE Loss: 1.2861 | NRF Loss: 2.3952 | JOINT Loss: 3.6813 | NRF Acc: 0.7543\n"
     ]
    },
    {
     "name": "stderr",
     "output_type": "stream",
     "text": [
      "Training epochs:  29%|██▉       | 293/1000 [06:15<12:36,  1.07s/it]"
     ]
    },
    {
     "name": "stdout",
     "output_type": "stream",
     "text": [
      "Epoch 293 | GCN MSE Loss: 1.2838 | NRF Loss: 2.3925 | JOINT Loss: 3.6763 | NRF Acc: 0.7543\n"
     ]
    },
    {
     "name": "stderr",
     "output_type": "stream",
     "text": [
      "Training epochs:  29%|██▉       | 294/1000 [06:16<13:54,  1.18s/it]"
     ]
    },
    {
     "name": "stdout",
     "output_type": "stream",
     "text": [
      "Epoch 294 | GCN MSE Loss: 1.2815 | NRF Loss: 2.3898 | JOINT Loss: 3.6713 | NRF Acc: 0.7545\n"
     ]
    },
    {
     "name": "stderr",
     "output_type": "stream",
     "text": [
      "Training epochs:  30%|██▉       | 295/1000 [06:17<13:19,  1.13s/it]"
     ]
    },
    {
     "name": "stdout",
     "output_type": "stream",
     "text": [
      "Epoch 295 | GCN MSE Loss: 1.2793 | NRF Loss: 2.3871 | JOINT Loss: 3.6664 | NRF Acc: 0.7543\n"
     ]
    },
    {
     "name": "stderr",
     "output_type": "stream",
     "text": [
      "Training epochs:  30%|██▉       | 296/1000 [06:18<12:55,  1.10s/it]"
     ]
    },
    {
     "name": "stdout",
     "output_type": "stream",
     "text": [
      "Epoch 296 | GCN MSE Loss: 1.2771 | NRF Loss: 2.3844 | JOINT Loss: 3.6615 | NRF Acc: 0.7543\n"
     ]
    },
    {
     "name": "stderr",
     "output_type": "stream",
     "text": [
      "Training epochs:  30%|██▉       | 297/1000 [06:20<14:08,  1.21s/it]"
     ]
    },
    {
     "name": "stdout",
     "output_type": "stream",
     "text": [
      "Epoch 297 | GCN MSE Loss: 1.2750 | NRF Loss: 2.3816 | JOINT Loss: 3.6566 | NRF Acc: 0.7548\n"
     ]
    },
    {
     "name": "stderr",
     "output_type": "stream",
     "text": [
      "Training epochs:  30%|██▉       | 298/1000 [06:21<13:28,  1.15s/it]"
     ]
    },
    {
     "name": "stdout",
     "output_type": "stream",
     "text": [
      "Epoch 298 | GCN MSE Loss: 1.2729 | NRF Loss: 2.3790 | JOINT Loss: 3.6518 | NRF Acc: 0.7545\n"
     ]
    },
    {
     "name": "stderr",
     "output_type": "stream",
     "text": [
      "Training epochs:  30%|██▉       | 299/1000 [06:22<13:01,  1.11s/it]"
     ]
    },
    {
     "name": "stdout",
     "output_type": "stream",
     "text": [
      "Epoch 299 | GCN MSE Loss: 1.2708 | NRF Loss: 2.3763 | JOINT Loss: 3.6471 | NRF Acc: 0.7543\n"
     ]
    },
    {
     "name": "stderr",
     "output_type": "stream",
     "text": [
      "Training epochs:  30%|███       | 300/1000 [06:23<12:41,  1.09s/it]"
     ]
    },
    {
     "name": "stdout",
     "output_type": "stream",
     "text": [
      "Epoch 300 | GCN MSE Loss: 1.2688 | NRF Loss: 2.3736 | JOINT Loss: 3.6424 | NRF Acc: 0.7543\n"
     ]
    },
    {
     "name": "stderr",
     "output_type": "stream",
     "text": [
      "Training epochs:  30%|███       | 301/1000 [06:24<12:27,  1.07s/it]"
     ]
    },
    {
     "name": "stdout",
     "output_type": "stream",
     "text": [
      "Epoch 301 | GCN MSE Loss: 1.2668 | NRF Loss: 2.3709 | JOINT Loss: 3.6377 | NRF Acc: 0.7543\n"
     ]
    },
    {
     "name": "stderr",
     "output_type": "stream",
     "text": [
      "Training epochs:  30%|███       | 302/1000 [06:25<12:17,  1.06s/it]"
     ]
    },
    {
     "name": "stdout",
     "output_type": "stream",
     "text": [
      "Epoch 302 | GCN MSE Loss: 1.2648 | NRF Loss: 2.3682 | JOINT Loss: 3.6330 | NRF Acc: 0.7545\n"
     ]
    },
    {
     "name": "stderr",
     "output_type": "stream",
     "text": [
      "Training epochs:  30%|███       | 303/1000 [06:26<12:09,  1.05s/it]"
     ]
    },
    {
     "name": "stdout",
     "output_type": "stream",
     "text": [
      "Epoch 303 | GCN MSE Loss: 1.2629 | NRF Loss: 2.3656 | JOINT Loss: 3.6284 | NRF Acc: 0.7547\n"
     ]
    },
    {
     "name": "stderr",
     "output_type": "stream",
     "text": [
      "Training epochs:  30%|███       | 304/1000 [06:28<13:33,  1.17s/it]"
     ]
    },
    {
     "name": "stdout",
     "output_type": "stream",
     "text": [
      "Epoch 304 | GCN MSE Loss: 1.2609 | NRF Loss: 2.3629 | JOINT Loss: 3.6239 | NRF Acc: 0.7550\n"
     ]
    },
    {
     "name": "stderr",
     "output_type": "stream",
     "text": [
      "Training epochs:  30%|███       | 305/1000 [06:29<14:31,  1.25s/it]"
     ]
    },
    {
     "name": "stdout",
     "output_type": "stream",
     "text": [
      "Epoch 305 | GCN MSE Loss: 1.2591 | NRF Loss: 2.3603 | JOINT Loss: 3.6193 | NRF Acc: 0.7552\n"
     ]
    },
    {
     "name": "stderr",
     "output_type": "stream",
     "text": [
      "Training epochs:  31%|███       | 306/1000 [06:30<15:12,  1.31s/it]"
     ]
    },
    {
     "name": "stdout",
     "output_type": "stream",
     "text": [
      "Epoch 306 | GCN MSE Loss: 1.2572 | NRF Loss: 2.3576 | JOINT Loss: 3.6148 | NRF Acc: 0.7557\n"
     ]
    },
    {
     "name": "stderr",
     "output_type": "stream",
     "text": [
      "Training epochs:  31%|███       | 307/1000 [06:32<15:31,  1.34s/it]"
     ]
    },
    {
     "name": "stdout",
     "output_type": "stream",
     "text": [
      "Epoch 307 | GCN MSE Loss: 1.2554 | NRF Loss: 2.3550 | JOINT Loss: 3.6104 | NRF Acc: 0.7562\n"
     ]
    },
    {
     "name": "stderr",
     "output_type": "stream",
     "text": [
      "Training epochs:  31%|███       | 308/1000 [06:33<15:48,  1.37s/it]"
     ]
    },
    {
     "name": "stdout",
     "output_type": "stream",
     "text": [
      "Epoch 308 | GCN MSE Loss: 1.2536 | NRF Loss: 2.3523 | JOINT Loss: 3.6060 | NRF Acc: 0.7574\n"
     ]
    },
    {
     "name": "stderr",
     "output_type": "stream",
     "text": [
      "Training epochs:  31%|███       | 309/1000 [06:35<15:59,  1.39s/it]"
     ]
    },
    {
     "name": "stdout",
     "output_type": "stream",
     "text": [
      "Epoch 309 | GCN MSE Loss: 1.2519 | NRF Loss: 2.3497 | JOINT Loss: 3.6016 | NRF Acc: 0.7576\n"
     ]
    },
    {
     "name": "stderr",
     "output_type": "stream",
     "text": [
      "Training epochs:  31%|███       | 310/1000 [06:36<14:42,  1.28s/it]"
     ]
    },
    {
     "name": "stdout",
     "output_type": "stream",
     "text": [
      "Epoch 310 | GCN MSE Loss: 1.2502 | NRF Loss: 2.3471 | JOINT Loss: 3.5973 | NRF Acc: 0.7576\n"
     ]
    },
    {
     "name": "stderr",
     "output_type": "stream",
     "text": [
      "Training epochs:  31%|███       | 311/1000 [06:37<15:14,  1.33s/it]"
     ]
    },
    {
     "name": "stdout",
     "output_type": "stream",
     "text": [
      "Epoch 311 | GCN MSE Loss: 1.2485 | NRF Loss: 2.3445 | JOINT Loss: 3.5930 | NRF Acc: 0.7578\n"
     ]
    },
    {
     "name": "stderr",
     "output_type": "stream",
     "text": [
      "Training epochs:  31%|███       | 312/1000 [06:38<14:10,  1.24s/it]"
     ]
    },
    {
     "name": "stdout",
     "output_type": "stream",
     "text": [
      "Epoch 312 | GCN MSE Loss: 1.2468 | NRF Loss: 2.3419 | JOINT Loss: 3.5887 | NRF Acc: 0.7578\n"
     ]
    },
    {
     "name": "stderr",
     "output_type": "stream",
     "text": [
      "Training epochs:  31%|███▏      | 313/1000 [06:40<14:56,  1.30s/it]"
     ]
    },
    {
     "name": "stdout",
     "output_type": "stream",
     "text": [
      "Epoch 313 | GCN MSE Loss: 1.2452 | NRF Loss: 2.3393 | JOINT Loss: 3.5845 | NRF Acc: 0.7581\n"
     ]
    },
    {
     "name": "stderr",
     "output_type": "stream",
     "text": [
      "Training epochs:  31%|███▏      | 314/1000 [06:41<13:57,  1.22s/it]"
     ]
    },
    {
     "name": "stdout",
     "output_type": "stream",
     "text": [
      "Epoch 314 | GCN MSE Loss: 1.2436 | NRF Loss: 2.3367 | JOINT Loss: 3.5803 | NRF Acc: 0.7580\n"
     ]
    },
    {
     "name": "stderr",
     "output_type": "stream",
     "text": [
      "Training epochs:  32%|███▏      | 315/1000 [06:42<13:15,  1.16s/it]"
     ]
    },
    {
     "name": "stdout",
     "output_type": "stream",
     "text": [
      "Epoch 315 | GCN MSE Loss: 1.2420 | NRF Loss: 2.3341 | JOINT Loss: 3.5761 | NRF Acc: 0.7578\n"
     ]
    },
    {
     "name": "stderr",
     "output_type": "stream",
     "text": [
      "Training epochs:  32%|███▏      | 316/1000 [06:43<12:45,  1.12s/it]"
     ]
    },
    {
     "name": "stdout",
     "output_type": "stream",
     "text": [
      "Epoch 316 | GCN MSE Loss: 1.2405 | NRF Loss: 2.3315 | JOINT Loss: 3.5720 | NRF Acc: 0.7578\n"
     ]
    },
    {
     "name": "stderr",
     "output_type": "stream",
     "text": [
      "Training epochs:  32%|███▏      | 317/1000 [06:44<12:24,  1.09s/it]"
     ]
    },
    {
     "name": "stdout",
     "output_type": "stream",
     "text": [
      "Epoch 317 | GCN MSE Loss: 1.2389 | NRF Loss: 2.3289 | JOINT Loss: 3.5679 | NRF Acc: 0.7578\n"
     ]
    },
    {
     "name": "stderr",
     "output_type": "stream",
     "text": [
      "Training epochs:  32%|███▏      | 318/1000 [06:45<12:10,  1.07s/it]"
     ]
    },
    {
     "name": "stdout",
     "output_type": "stream",
     "text": [
      "Epoch 318 | GCN MSE Loss: 1.2374 | NRF Loss: 2.3264 | JOINT Loss: 3.5638 | NRF Acc: 0.7580\n"
     ]
    },
    {
     "name": "stderr",
     "output_type": "stream",
     "text": [
      "Training epochs:  32%|███▏      | 319/1000 [06:46<13:28,  1.19s/it]"
     ]
    },
    {
     "name": "stdout",
     "output_type": "stream",
     "text": [
      "Epoch 319 | GCN MSE Loss: 1.2360 | NRF Loss: 2.3238 | JOINT Loss: 3.5598 | NRF Acc: 0.7583\n"
     ]
    },
    {
     "name": "stderr",
     "output_type": "stream",
     "text": [
      "Training epochs:  32%|███▏      | 320/1000 [06:48<14:16,  1.26s/it]"
     ]
    },
    {
     "name": "stdout",
     "output_type": "stream",
     "text": [
      "Epoch 320 | GCN MSE Loss: 1.2345 | NRF Loss: 2.3212 | JOINT Loss: 3.5558 | NRF Acc: 0.7585\n"
     ]
    },
    {
     "name": "stderr",
     "output_type": "stream",
     "text": [
      "Training epochs:  32%|███▏      | 321/1000 [06:49<14:49,  1.31s/it]"
     ]
    },
    {
     "name": "stdout",
     "output_type": "stream",
     "text": [
      "Epoch 321 | GCN MSE Loss: 1.2331 | NRF Loss: 2.3187 | JOINT Loss: 3.5518 | NRF Acc: 0.7587\n"
     ]
    },
    {
     "name": "stderr",
     "output_type": "stream",
     "text": [
      "Training epochs:  32%|███▏      | 322/1000 [06:51<15:16,  1.35s/it]"
     ]
    },
    {
     "name": "stdout",
     "output_type": "stream",
     "text": [
      "Epoch 322 | GCN MSE Loss: 1.2317 | NRF Loss: 2.3161 | JOINT Loss: 3.5478 | NRF Acc: 0.7588\n"
     ]
    },
    {
     "name": "stderr",
     "output_type": "stream",
     "text": [
      "Training epochs:  32%|███▏      | 323/1000 [06:52<14:08,  1.25s/it]"
     ]
    },
    {
     "name": "stdout",
     "output_type": "stream",
     "text": [
      "Epoch 323 | GCN MSE Loss: 1.2303 | NRF Loss: 2.3136 | JOINT Loss: 3.5439 | NRF Acc: 0.7588\n"
     ]
    },
    {
     "name": "stderr",
     "output_type": "stream",
     "text": [
      "Training epochs:  32%|███▏      | 324/1000 [06:53<13:21,  1.19s/it]"
     ]
    },
    {
     "name": "stdout",
     "output_type": "stream",
     "text": [
      "Epoch 324 | GCN MSE Loss: 1.2290 | NRF Loss: 2.3111 | JOINT Loss: 3.5400 | NRF Acc: 0.7587\n"
     ]
    },
    {
     "name": "stderr",
     "output_type": "stream",
     "text": [
      "Training epochs:  32%|███▎      | 325/1000 [06:54<14:14,  1.27s/it]"
     ]
    },
    {
     "name": "stdout",
     "output_type": "stream",
     "text": [
      "Epoch 325 | GCN MSE Loss: 1.2277 | NRF Loss: 2.3085 | JOINT Loss: 3.5362 | NRF Acc: 0.7592\n"
     ]
    },
    {
     "name": "stderr",
     "output_type": "stream",
     "text": [
      "Training epochs:  33%|███▎      | 326/1000 [06:56<14:51,  1.32s/it]"
     ]
    },
    {
     "name": "stdout",
     "output_type": "stream",
     "text": [
      "Epoch 326 | GCN MSE Loss: 1.2264 | NRF Loss: 2.3060 | JOINT Loss: 3.5324 | NRF Acc: 0.7597\n"
     ]
    },
    {
     "name": "stderr",
     "output_type": "stream",
     "text": [
      "Training epochs:  33%|███▎      | 327/1000 [06:57<13:50,  1.23s/it]"
     ]
    },
    {
     "name": "stdout",
     "output_type": "stream",
     "text": [
      "Epoch 327 | GCN MSE Loss: 1.2251 | NRF Loss: 2.3035 | JOINT Loss: 3.5286 | NRF Acc: 0.7597\n"
     ]
    },
    {
     "name": "stderr",
     "output_type": "stream",
     "text": [
      "Training epochs:  33%|███▎      | 328/1000 [06:58<14:32,  1.30s/it]"
     ]
    },
    {
     "name": "stdout",
     "output_type": "stream",
     "text": [
      "Epoch 328 | GCN MSE Loss: 1.2238 | NRF Loss: 2.3010 | JOINT Loss: 3.5249 | NRF Acc: 0.7599\n"
     ]
    },
    {
     "name": "stderr",
     "output_type": "stream",
     "text": [
      "Training epochs:  33%|███▎      | 329/1000 [06:59<13:35,  1.22s/it]"
     ]
    },
    {
     "name": "stdout",
     "output_type": "stream",
     "text": [
      "Epoch 329 | GCN MSE Loss: 1.2226 | NRF Loss: 2.2985 | JOINT Loss: 3.5211 | NRF Acc: 0.7599\n"
     ]
    },
    {
     "name": "stderr",
     "output_type": "stream",
     "text": [
      "Training epochs:  33%|███▎      | 330/1000 [07:00<12:57,  1.16s/it]"
     ]
    },
    {
     "name": "stdout",
     "output_type": "stream",
     "text": [
      "Epoch 330 | GCN MSE Loss: 1.2214 | NRF Loss: 2.2961 | JOINT Loss: 3.5175 | NRF Acc: 0.7599\n"
     ]
    },
    {
     "name": "stderr",
     "output_type": "stream",
     "text": [
      "Training epochs:  33%|███▎      | 331/1000 [07:01<12:29,  1.12s/it]"
     ]
    },
    {
     "name": "stdout",
     "output_type": "stream",
     "text": [
      "Epoch 331 | GCN MSE Loss: 1.2202 | NRF Loss: 2.2936 | JOINT Loss: 3.5138 | NRF Acc: 0.7599\n"
     ]
    },
    {
     "name": "stderr",
     "output_type": "stream",
     "text": [
      "Training epochs:  33%|███▎      | 332/1000 [07:02<12:09,  1.09s/it]"
     ]
    },
    {
     "name": "stdout",
     "output_type": "stream",
     "text": [
      "Epoch 332 | GCN MSE Loss: 1.2190 | NRF Loss: 2.2912 | JOINT Loss: 3.5102 | NRF Acc: 0.7595\n"
     ]
    },
    {
     "name": "stderr",
     "output_type": "stream",
     "text": [
      "Training epochs:  33%|███▎      | 333/1000 [07:03<11:54,  1.07s/it]"
     ]
    },
    {
     "name": "stdout",
     "output_type": "stream",
     "text": [
      "Epoch 333 | GCN MSE Loss: 1.2179 | NRF Loss: 2.2887 | JOINT Loss: 3.5066 | NRF Acc: 0.7597\n"
     ]
    },
    {
     "name": "stderr",
     "output_type": "stream",
     "text": [
      "Training epochs:  33%|███▎      | 334/1000 [07:04<11:43,  1.06s/it]"
     ]
    },
    {
     "name": "stdout",
     "output_type": "stream",
     "text": [
      "Epoch 334 | GCN MSE Loss: 1.2167 | NRF Loss: 2.2863 | JOINT Loss: 3.5030 | NRF Acc: 0.7599\n"
     ]
    },
    {
     "name": "stderr",
     "output_type": "stream",
     "text": [
      "Training epochs:  34%|███▎      | 335/1000 [07:05<11:36,  1.05s/it]"
     ]
    },
    {
     "name": "stdout",
     "output_type": "stream",
     "text": [
      "Epoch 335 | GCN MSE Loss: 1.2156 | NRF Loss: 2.2838 | JOINT Loss: 3.4995 | NRF Acc: 0.7595\n"
     ]
    },
    {
     "name": "stderr",
     "output_type": "stream",
     "text": [
      "Training epochs:  34%|███▎      | 336/1000 [07:06<11:31,  1.04s/it]"
     ]
    },
    {
     "name": "stdout",
     "output_type": "stream",
     "text": [
      "Epoch 336 | GCN MSE Loss: 1.2145 | NRF Loss: 2.2814 | JOINT Loss: 3.4960 | NRF Acc: 0.7595\n"
     ]
    },
    {
     "name": "stderr",
     "output_type": "stream",
     "text": [
      "Training epochs:  34%|███▎      | 337/1000 [07:07<11:27,  1.04s/it]"
     ]
    },
    {
     "name": "stdout",
     "output_type": "stream",
     "text": [
      "Epoch 337 | GCN MSE Loss: 1.2135 | NRF Loss: 2.2790 | JOINT Loss: 3.4925 | NRF Acc: 0.7595\n"
     ]
    },
    {
     "name": "stderr",
     "output_type": "stream",
     "text": [
      "Training epochs:  34%|███▍      | 338/1000 [07:08<11:23,  1.03s/it]"
     ]
    },
    {
     "name": "stdout",
     "output_type": "stream",
     "text": [
      "Epoch 338 | GCN MSE Loss: 1.2124 | NRF Loss: 2.2766 | JOINT Loss: 3.4890 | NRF Acc: 0.7595\n"
     ]
    },
    {
     "name": "stderr",
     "output_type": "stream",
     "text": [
      "Training epochs:  34%|███▍      | 339/1000 [07:09<11:20,  1.03s/it]"
     ]
    },
    {
     "name": "stdout",
     "output_type": "stream",
     "text": [
      "Epoch 339 | GCN MSE Loss: 1.2114 | NRF Loss: 2.2742 | JOINT Loss: 3.4856 | NRF Acc: 0.7595\n"
     ]
    },
    {
     "name": "stderr",
     "output_type": "stream",
     "text": [
      "Training epochs:  34%|███▍      | 340/1000 [07:10<11:19,  1.03s/it]"
     ]
    },
    {
     "name": "stdout",
     "output_type": "stream",
     "text": [
      "Epoch 340 | GCN MSE Loss: 1.2104 | NRF Loss: 2.2718 | JOINT Loss: 3.4822 | NRF Acc: 0.7595\n"
     ]
    },
    {
     "name": "stderr",
     "output_type": "stream",
     "text": [
      "Training epochs:  34%|███▍      | 341/1000 [07:11<11:17,  1.03s/it]"
     ]
    },
    {
     "name": "stdout",
     "output_type": "stream",
     "text": [
      "Epoch 341 | GCN MSE Loss: 1.2094 | NRF Loss: 2.2694 | JOINT Loss: 3.4788 | NRF Acc: 0.7595\n"
     ]
    },
    {
     "name": "stderr",
     "output_type": "stream",
     "text": [
      "Training epochs:  34%|███▍      | 342/1000 [07:12<11:14,  1.03s/it]"
     ]
    },
    {
     "name": "stdout",
     "output_type": "stream",
     "text": [
      "Epoch 342 | GCN MSE Loss: 1.2084 | NRF Loss: 2.2670 | JOINT Loss: 3.4754 | NRF Acc: 0.7593\n"
     ]
    },
    {
     "name": "stderr",
     "output_type": "stream",
     "text": [
      "Training epochs:  34%|███▍      | 343/1000 [07:13<11:10,  1.02s/it]"
     ]
    },
    {
     "name": "stdout",
     "output_type": "stream",
     "text": [
      "Epoch 343 | GCN MSE Loss: 1.2074 | NRF Loss: 2.2647 | JOINT Loss: 3.4721 | NRF Acc: 0.7593\n"
     ]
    },
    {
     "name": "stderr",
     "output_type": "stream",
     "text": [
      "Training epochs:  34%|███▍      | 344/1000 [07:14<10:08,  1.08it/s]"
     ]
    },
    {
     "name": "stdout",
     "output_type": "stream",
     "text": [
      "Epoch 344 | GCN MSE Loss: 1.2064 | NRF Loss: 2.2623 | JOINT Loss: 3.4688 | NRF Acc: 0.7592\n"
     ]
    },
    {
     "name": "stderr",
     "output_type": "stream",
     "text": [
      "Training epochs:  34%|███▍      | 345/1000 [07:15<09:30,  1.15it/s]"
     ]
    },
    {
     "name": "stdout",
     "output_type": "stream",
     "text": [
      "Epoch 345 | GCN MSE Loss: 1.2055 | NRF Loss: 2.2600 | JOINT Loss: 3.4655 | NRF Acc: 0.7592\n"
     ]
    },
    {
     "name": "stderr",
     "output_type": "stream",
     "text": [
      "Training epochs:  35%|███▍      | 346/1000 [07:16<10:00,  1.09it/s]"
     ]
    },
    {
     "name": "stdout",
     "output_type": "stream",
     "text": [
      "Epoch 346 | GCN MSE Loss: 1.2046 | NRF Loss: 2.2576 | JOINT Loss: 3.4622 | NRF Acc: 0.7592\n"
     ]
    },
    {
     "name": "stderr",
     "output_type": "stream",
     "text": [
      "Training epochs:  35%|███▍      | 347/1000 [07:17<10:20,  1.05it/s]"
     ]
    },
    {
     "name": "stdout",
     "output_type": "stream",
     "text": [
      "Epoch 347 | GCN MSE Loss: 1.2036 | NRF Loss: 2.2553 | JOINT Loss: 3.4589 | NRF Acc: 0.7595\n"
     ]
    },
    {
     "name": "stderr",
     "output_type": "stream",
     "text": [
      "Training epochs:  35%|███▍      | 348/1000 [07:18<10:34,  1.03it/s]"
     ]
    },
    {
     "name": "stdout",
     "output_type": "stream",
     "text": [
      "Epoch 348 | GCN MSE Loss: 1.2027 | NRF Loss: 2.2530 | JOINT Loss: 3.4557 | NRF Acc: 0.7597\n"
     ]
    },
    {
     "name": "stderr",
     "output_type": "stream",
     "text": [
      "Training epochs:  35%|███▍      | 349/1000 [07:19<10:43,  1.01it/s]"
     ]
    },
    {
     "name": "stdout",
     "output_type": "stream",
     "text": [
      "Epoch 349 | GCN MSE Loss: 1.2019 | NRF Loss: 2.2506 | JOINT Loss: 3.4525 | NRF Acc: 0.7597\n"
     ]
    },
    {
     "name": "stderr",
     "output_type": "stream",
     "text": [
      "Training epochs:  35%|███▌      | 350/1000 [07:20<10:49,  1.00it/s]"
     ]
    },
    {
     "name": "stdout",
     "output_type": "stream",
     "text": [
      "Epoch 350 | GCN MSE Loss: 1.2010 | NRF Loss: 2.2483 | JOINT Loss: 3.4493 | NRF Acc: 0.7597\n"
     ]
    },
    {
     "name": "stderr",
     "output_type": "stream",
     "text": [
      "Training epochs:  35%|███▌      | 351/1000 [07:21<10:53,  1.01s/it]"
     ]
    },
    {
     "name": "stdout",
     "output_type": "stream",
     "text": [
      "Epoch 351 | GCN MSE Loss: 1.2001 | NRF Loss: 2.2460 | JOINT Loss: 3.4461 | NRF Acc: 0.7597\n"
     ]
    },
    {
     "name": "stderr",
     "output_type": "stream",
     "text": [
      "Training epochs:  35%|███▌      | 352/1000 [07:22<10:55,  1.01s/it]"
     ]
    },
    {
     "name": "stdout",
     "output_type": "stream",
     "text": [
      "Epoch 352 | GCN MSE Loss: 1.1993 | NRF Loss: 2.2437 | JOINT Loss: 3.4430 | NRF Acc: 0.7597\n"
     ]
    },
    {
     "name": "stderr",
     "output_type": "stream",
     "text": [
      "Training epochs:  35%|███▌      | 353/1000 [07:23<10:57,  1.02s/it]"
     ]
    },
    {
     "name": "stdout",
     "output_type": "stream",
     "text": [
      "Epoch 353 | GCN MSE Loss: 1.1984 | NRF Loss: 2.2414 | JOINT Loss: 3.4398 | NRF Acc: 0.7597\n"
     ]
    },
    {
     "name": "stderr",
     "output_type": "stream",
     "text": [
      "Training epochs:  35%|███▌      | 354/1000 [07:24<10:57,  1.02s/it]"
     ]
    },
    {
     "name": "stdout",
     "output_type": "stream",
     "text": [
      "Epoch 354 | GCN MSE Loss: 1.1976 | NRF Loss: 2.2391 | JOINT Loss: 3.4367 | NRF Acc: 0.7599\n"
     ]
    },
    {
     "name": "stderr",
     "output_type": "stream",
     "text": [
      "Training epochs:  36%|███▌      | 355/1000 [07:25<12:18,  1.15s/it]"
     ]
    },
    {
     "name": "stdout",
     "output_type": "stream",
     "text": [
      "Epoch 355 | GCN MSE Loss: 1.1968 | NRF Loss: 2.2368 | JOINT Loss: 3.4336 | NRF Acc: 0.7600\n"
     ]
    },
    {
     "name": "stderr",
     "output_type": "stream",
     "text": [
      "Training epochs:  36%|███▌      | 356/1000 [07:27<13:11,  1.23s/it]"
     ]
    },
    {
     "name": "stdout",
     "output_type": "stream",
     "text": [
      "Epoch 356 | GCN MSE Loss: 1.1960 | NRF Loss: 2.2346 | JOINT Loss: 3.4306 | NRF Acc: 0.7602\n"
     ]
    },
    {
     "name": "stderr",
     "output_type": "stream",
     "text": [
      "Training epochs:  36%|███▌      | 357/1000 [07:28<12:30,  1.17s/it]"
     ]
    },
    {
     "name": "stdout",
     "output_type": "stream",
     "text": [
      "Epoch 357 | GCN MSE Loss: 1.1952 | NRF Loss: 2.2323 | JOINT Loss: 3.4275 | NRF Acc: 0.7602\n"
     ]
    },
    {
     "name": "stderr",
     "output_type": "stream",
     "text": [
      "Training epochs:  36%|███▌      | 358/1000 [07:29<13:22,  1.25s/it]"
     ]
    },
    {
     "name": "stdout",
     "output_type": "stream",
     "text": [
      "Epoch 358 | GCN MSE Loss: 1.1944 | NRF Loss: 2.2300 | JOINT Loss: 3.4245 | NRF Acc: 0.7604\n"
     ]
    },
    {
     "name": "stderr",
     "output_type": "stream",
     "text": [
      "Training epochs:  36%|███▌      | 359/1000 [07:30<12:38,  1.18s/it]"
     ]
    },
    {
     "name": "stdout",
     "output_type": "stream",
     "text": [
      "Epoch 359 | GCN MSE Loss: 1.1937 | NRF Loss: 2.2278 | JOINT Loss: 3.4214 | NRF Acc: 0.7604\n"
     ]
    },
    {
     "name": "stderr",
     "output_type": "stream",
     "text": [
      "Training epochs:  36%|███▌      | 360/1000 [07:31<12:06,  1.13s/it]"
     ]
    },
    {
     "name": "stdout",
     "output_type": "stream",
     "text": [
      "Epoch 360 | GCN MSE Loss: 1.1929 | NRF Loss: 2.2255 | JOINT Loss: 3.4184 | NRF Acc: 0.7604\n"
     ]
    },
    {
     "name": "stderr",
     "output_type": "stream",
     "text": [
      "Training epochs:  36%|███▌      | 361/1000 [07:32<11:44,  1.10s/it]"
     ]
    },
    {
     "name": "stdout",
     "output_type": "stream",
     "text": [
      "Epoch 361 | GCN MSE Loss: 1.1922 | NRF Loss: 2.2233 | JOINT Loss: 3.4155 | NRF Acc: 0.7604\n"
     ]
    },
    {
     "name": "stderr",
     "output_type": "stream",
     "text": [
      "Training epochs:  36%|███▌      | 362/1000 [07:33<11:28,  1.08s/it]"
     ]
    },
    {
     "name": "stdout",
     "output_type": "stream",
     "text": [
      "Epoch 362 | GCN MSE Loss: 1.1914 | NRF Loss: 2.2210 | JOINT Loss: 3.4125 | NRF Acc: 0.7604\n"
     ]
    },
    {
     "name": "stderr",
     "output_type": "stream",
     "text": [
      "Training epochs:  36%|███▋      | 363/1000 [07:34<11:17,  1.06s/it]"
     ]
    },
    {
     "name": "stdout",
     "output_type": "stream",
     "text": [
      "Epoch 363 | GCN MSE Loss: 1.1907 | NRF Loss: 2.2188 | JOINT Loss: 3.4095 | NRF Acc: 0.7604\n"
     ]
    },
    {
     "name": "stderr",
     "output_type": "stream",
     "text": [
      "Training epochs:  36%|███▋      | 364/1000 [07:36<11:09,  1.05s/it]"
     ]
    },
    {
     "name": "stdout",
     "output_type": "stream",
     "text": [
      "Epoch 364 | GCN MSE Loss: 1.1900 | NRF Loss: 2.2166 | JOINT Loss: 3.4066 | NRF Acc: 0.7604\n"
     ]
    },
    {
     "name": "stderr",
     "output_type": "stream",
     "text": [
      "Training epochs:  36%|███▋      | 365/1000 [07:37<12:26,  1.18s/it]"
     ]
    },
    {
     "name": "stdout",
     "output_type": "stream",
     "text": [
      "Epoch 365 | GCN MSE Loss: 1.1893 | NRF Loss: 2.2144 | JOINT Loss: 3.4037 | NRF Acc: 0.7606\n"
     ]
    },
    {
     "name": "stderr",
     "output_type": "stream",
     "text": [
      "Training epochs:  37%|███▋      | 366/1000 [07:38<11:57,  1.13s/it]"
     ]
    },
    {
     "name": "stdout",
     "output_type": "stream",
     "text": [
      "Epoch 366 | GCN MSE Loss: 1.1886 | NRF Loss: 2.2121 | JOINT Loss: 3.4008 | NRF Acc: 0.7606\n"
     ]
    },
    {
     "name": "stderr",
     "output_type": "stream",
     "text": [
      "Training epochs:  37%|███▋      | 367/1000 [07:39<11:36,  1.10s/it]"
     ]
    },
    {
     "name": "stdout",
     "output_type": "stream",
     "text": [
      "Epoch 367 | GCN MSE Loss: 1.1879 | NRF Loss: 2.2099 | JOINT Loss: 3.3979 | NRF Acc: 0.7606\n"
     ]
    },
    {
     "name": "stderr",
     "output_type": "stream",
     "text": [
      "Training epochs:  37%|███▋      | 368/1000 [07:40<12:39,  1.20s/it]"
     ]
    },
    {
     "name": "stdout",
     "output_type": "stream",
     "text": [
      "Epoch 368 | GCN MSE Loss: 1.1873 | NRF Loss: 2.2077 | JOINT Loss: 3.3950 | NRF Acc: 0.7607\n"
     ]
    },
    {
     "name": "stderr",
     "output_type": "stream",
     "text": [
      "Training epochs:  37%|███▋      | 369/1000 [07:41<12:04,  1.15s/it]"
     ]
    },
    {
     "name": "stdout",
     "output_type": "stream",
     "text": [
      "Epoch 369 | GCN MSE Loss: 1.1866 | NRF Loss: 2.2055 | JOINT Loss: 3.3921 | NRF Acc: 0.7604\n"
     ]
    },
    {
     "name": "stderr",
     "output_type": "stream",
     "text": [
      "Training epochs:  37%|███▋      | 370/1000 [07:43<11:40,  1.11s/it]"
     ]
    },
    {
     "name": "stdout",
     "output_type": "stream",
     "text": [
      "Epoch 370 | GCN MSE Loss: 1.1859 | NRF Loss: 2.2033 | JOINT Loss: 3.3893 | NRF Acc: 0.7604\n"
     ]
    },
    {
     "name": "stderr",
     "output_type": "stream",
     "text": [
      "Training epochs:  37%|███▋      | 371/1000 [07:44<11:23,  1.09s/it]"
     ]
    },
    {
     "name": "stdout",
     "output_type": "stream",
     "text": [
      "Epoch 371 | GCN MSE Loss: 1.1853 | NRF Loss: 2.2012 | JOINT Loss: 3.3865 | NRF Acc: 0.7604\n"
     ]
    },
    {
     "name": "stderr",
     "output_type": "stream",
     "text": [
      "Training epochs:  37%|███▋      | 372/1000 [07:45<11:10,  1.07s/it]"
     ]
    },
    {
     "name": "stdout",
     "output_type": "stream",
     "text": [
      "Epoch 372 | GCN MSE Loss: 1.1847 | NRF Loss: 2.1990 | JOINT Loss: 3.3836 | NRF Acc: 0.7604\n"
     ]
    },
    {
     "name": "stderr",
     "output_type": "stream",
     "text": [
      "Training epochs:  37%|███▋      | 373/1000 [07:46<11:01,  1.06s/it]"
     ]
    },
    {
     "name": "stdout",
     "output_type": "stream",
     "text": [
      "Epoch 373 | GCN MSE Loss: 1.1841 | NRF Loss: 2.1968 | JOINT Loss: 3.3808 | NRF Acc: 0.7604\n"
     ]
    },
    {
     "name": "stderr",
     "output_type": "stream",
     "text": [
      "Training epochs:  37%|███▋      | 374/1000 [07:47<10:55,  1.05s/it]"
     ]
    },
    {
     "name": "stdout",
     "output_type": "stream",
     "text": [
      "Epoch 374 | GCN MSE Loss: 1.1834 | NRF Loss: 2.1946 | JOINT Loss: 3.3781 | NRF Acc: 0.7607\n"
     ]
    },
    {
     "name": "stderr",
     "output_type": "stream",
     "text": [
      "Training epochs:  38%|███▊      | 375/1000 [07:48<10:49,  1.04s/it]"
     ]
    },
    {
     "name": "stdout",
     "output_type": "stream",
     "text": [
      "Epoch 375 | GCN MSE Loss: 1.1828 | NRF Loss: 2.1925 | JOINT Loss: 3.3753 | NRF Acc: 0.7607\n"
     ]
    },
    {
     "name": "stderr",
     "output_type": "stream",
     "text": [
      "Training epochs:  38%|███▊      | 376/1000 [07:49<10:46,  1.04s/it]"
     ]
    },
    {
     "name": "stdout",
     "output_type": "stream",
     "text": [
      "Epoch 376 | GCN MSE Loss: 1.1822 | NRF Loss: 2.1903 | JOINT Loss: 3.3725 | NRF Acc: 0.7604\n"
     ]
    },
    {
     "name": "stderr",
     "output_type": "stream",
     "text": [
      "Training epochs:  38%|███▊      | 377/1000 [07:50<10:43,  1.03s/it]"
     ]
    },
    {
     "name": "stdout",
     "output_type": "stream",
     "text": [
      "Epoch 377 | GCN MSE Loss: 1.1817 | NRF Loss: 2.1881 | JOINT Loss: 3.3698 | NRF Acc: 0.7604\n"
     ]
    },
    {
     "name": "stderr",
     "output_type": "stream",
     "text": [
      "Training epochs:  38%|███▊      | 378/1000 [07:51<10:41,  1.03s/it]"
     ]
    },
    {
     "name": "stdout",
     "output_type": "stream",
     "text": [
      "Epoch 378 | GCN MSE Loss: 1.1811 | NRF Loss: 2.1860 | JOINT Loss: 3.3671 | NRF Acc: 0.7604\n"
     ]
    },
    {
     "name": "stderr",
     "output_type": "stream",
     "text": [
      "Training epochs:  38%|███▊      | 379/1000 [07:52<10:39,  1.03s/it]"
     ]
    },
    {
     "name": "stdout",
     "output_type": "stream",
     "text": [
      "Epoch 379 | GCN MSE Loss: 1.1805 | NRF Loss: 2.1838 | JOINT Loss: 3.3644 | NRF Acc: 0.7604\n"
     ]
    },
    {
     "name": "stderr",
     "output_type": "stream",
     "text": [
      "Training epochs:  38%|███▊      | 380/1000 [07:53<10:37,  1.03s/it]"
     ]
    },
    {
     "name": "stdout",
     "output_type": "stream",
     "text": [
      "Epoch 380 | GCN MSE Loss: 1.1800 | NRF Loss: 2.1817 | JOINT Loss: 3.3617 | NRF Acc: 0.7604\n"
     ]
    },
    {
     "name": "stderr",
     "output_type": "stream",
     "text": [
      "Training epochs:  38%|███▊      | 381/1000 [07:54<10:36,  1.03s/it]"
     ]
    },
    {
     "name": "stdout",
     "output_type": "stream",
     "text": [
      "Epoch 381 | GCN MSE Loss: 1.1794 | NRF Loss: 2.1796 | JOINT Loss: 3.3590 | NRF Acc: 0.7604\n"
     ]
    },
    {
     "name": "stderr",
     "output_type": "stream",
     "text": [
      "Training epochs:  38%|███▊      | 382/1000 [07:55<10:34,  1.03s/it]"
     ]
    },
    {
     "name": "stdout",
     "output_type": "stream",
     "text": [
      "Epoch 382 | GCN MSE Loss: 1.1789 | NRF Loss: 2.1774 | JOINT Loss: 3.3563 | NRF Acc: 0.7604\n"
     ]
    },
    {
     "name": "stderr",
     "output_type": "stream",
     "text": [
      "Training epochs:  38%|███▊      | 383/1000 [07:56<10:32,  1.03s/it]"
     ]
    },
    {
     "name": "stdout",
     "output_type": "stream",
     "text": [
      "Epoch 383 | GCN MSE Loss: 1.1783 | NRF Loss: 2.1753 | JOINT Loss: 3.3537 | NRF Acc: 0.7604\n"
     ]
    },
    {
     "name": "stderr",
     "output_type": "stream",
     "text": [
      "Training epochs:  38%|███▊      | 384/1000 [07:57<10:31,  1.03s/it]"
     ]
    },
    {
     "name": "stdout",
     "output_type": "stream",
     "text": [
      "Epoch 384 | GCN MSE Loss: 1.1778 | NRF Loss: 2.1732 | JOINT Loss: 3.3510 | NRF Acc: 0.7606\n"
     ]
    },
    {
     "name": "stderr",
     "output_type": "stream",
     "text": [
      "Training epochs:  38%|███▊      | 385/1000 [07:58<10:30,  1.03s/it]"
     ]
    },
    {
     "name": "stdout",
     "output_type": "stream",
     "text": [
      "Epoch 385 | GCN MSE Loss: 1.1773 | NRF Loss: 2.1711 | JOINT Loss: 3.3484 | NRF Acc: 0.7606\n"
     ]
    },
    {
     "name": "stderr",
     "output_type": "stream",
     "text": [
      "Training epochs:  39%|███▊      | 386/1000 [07:59<10:28,  1.02s/it]"
     ]
    },
    {
     "name": "stdout",
     "output_type": "stream",
     "text": [
      "Epoch 386 | GCN MSE Loss: 1.1768 | NRF Loss: 2.1690 | JOINT Loss: 3.3458 | NRF Acc: 0.7606\n"
     ]
    },
    {
     "name": "stderr",
     "output_type": "stream",
     "text": [
      "Training epochs:  39%|███▊      | 387/1000 [08:00<10:27,  1.02s/it]"
     ]
    },
    {
     "name": "stdout",
     "output_type": "stream",
     "text": [
      "Epoch 387 | GCN MSE Loss: 1.1763 | NRF Loss: 2.1669 | JOINT Loss: 3.3432 | NRF Acc: 0.7607\n"
     ]
    },
    {
     "name": "stderr",
     "output_type": "stream",
     "text": [
      "Training epochs:  39%|███▉      | 388/1000 [08:01<10:27,  1.02s/it]"
     ]
    },
    {
     "name": "stdout",
     "output_type": "stream",
     "text": [
      "Epoch 388 | GCN MSE Loss: 1.1759 | NRF Loss: 2.1648 | JOINT Loss: 3.3406 | NRF Acc: 0.7607\n"
     ]
    },
    {
     "name": "stderr",
     "output_type": "stream",
     "text": [
      "Training epochs:  39%|███▉      | 389/1000 [08:02<11:42,  1.15s/it]"
     ]
    },
    {
     "name": "stdout",
     "output_type": "stream",
     "text": [
      "Epoch 389 | GCN MSE Loss: 1.1754 | NRF Loss: 2.1627 | JOINT Loss: 3.3381 | NRF Acc: 0.7609\n"
     ]
    },
    {
     "name": "stderr",
     "output_type": "stream",
     "text": [
      "Training epochs:  39%|███▉      | 390/1000 [08:03<11:18,  1.11s/it]"
     ]
    },
    {
     "name": "stdout",
     "output_type": "stream",
     "text": [
      "Epoch 390 | GCN MSE Loss: 1.1749 | NRF Loss: 2.1606 | JOINT Loss: 3.3355 | NRF Acc: 0.7609\n"
     ]
    },
    {
     "name": "stderr",
     "output_type": "stream",
     "text": [
      "Training epochs:  39%|███▉      | 391/1000 [08:04<11:01,  1.09s/it]"
     ]
    },
    {
     "name": "stdout",
     "output_type": "stream",
     "text": [
      "Epoch 391 | GCN MSE Loss: 1.1745 | NRF Loss: 2.1585 | JOINT Loss: 3.3330 | NRF Acc: 0.7607\n"
     ]
    },
    {
     "name": "stderr",
     "output_type": "stream",
     "text": [
      "Training epochs:  39%|███▉      | 392/1000 [08:05<10:49,  1.07s/it]"
     ]
    },
    {
     "name": "stdout",
     "output_type": "stream",
     "text": [
      "Epoch 392 | GCN MSE Loss: 1.1740 | NRF Loss: 2.1564 | JOINT Loss: 3.3304 | NRF Acc: 0.7607\n"
     ]
    },
    {
     "name": "stderr",
     "output_type": "stream",
     "text": [
      "Training epochs:  39%|███▉      | 393/1000 [08:07<10:39,  1.05s/it]"
     ]
    },
    {
     "name": "stdout",
     "output_type": "stream",
     "text": [
      "Epoch 393 | GCN MSE Loss: 1.1736 | NRF Loss: 2.1543 | JOINT Loss: 3.3279 | NRF Acc: 0.7607\n"
     ]
    },
    {
     "name": "stderr",
     "output_type": "stream",
     "text": [
      "Training epochs:  39%|███▉      | 394/1000 [08:08<10:33,  1.05s/it]"
     ]
    },
    {
     "name": "stdout",
     "output_type": "stream",
     "text": [
      "Epoch 394 | GCN MSE Loss: 1.1731 | NRF Loss: 2.1523 | JOINT Loss: 3.3254 | NRF Acc: 0.7609\n"
     ]
    },
    {
     "name": "stderr",
     "output_type": "stream",
     "text": [
      "Training epochs:  40%|███▉      | 395/1000 [08:09<11:45,  1.17s/it]"
     ]
    },
    {
     "name": "stdout",
     "output_type": "stream",
     "text": [
      "Epoch 395 | GCN MSE Loss: 1.1727 | NRF Loss: 2.1502 | JOINT Loss: 3.3229 | NRF Acc: 0.7611\n"
     ]
    },
    {
     "name": "stderr",
     "output_type": "stream",
     "text": [
      "Training epochs:  40%|███▉      | 396/1000 [08:10<11:18,  1.12s/it]"
     ]
    },
    {
     "name": "stdout",
     "output_type": "stream",
     "text": [
      "Epoch 396 | GCN MSE Loss: 1.1723 | NRF Loss: 2.1481 | JOINT Loss: 3.3204 | NRF Acc: 0.7611\n"
     ]
    },
    {
     "name": "stderr",
     "output_type": "stream",
     "text": [
      "Training epochs:  40%|███▉      | 397/1000 [08:11<10:59,  1.09s/it]"
     ]
    },
    {
     "name": "stdout",
     "output_type": "stream",
     "text": [
      "Epoch 397 | GCN MSE Loss: 1.1719 | NRF Loss: 2.1461 | JOINT Loss: 3.3180 | NRF Acc: 0.7611\n"
     ]
    },
    {
     "name": "stderr",
     "output_type": "stream",
     "text": [
      "Training epochs:  40%|███▉      | 398/1000 [08:12<11:59,  1.19s/it]"
     ]
    },
    {
     "name": "stdout",
     "output_type": "stream",
     "text": [
      "Epoch 398 | GCN MSE Loss: 1.1715 | NRF Loss: 2.1440 | JOINT Loss: 3.3155 | NRF Acc: 0.7613\n"
     ]
    },
    {
     "name": "stderr",
     "output_type": "stream",
     "text": [
      "Training epochs:  40%|███▉      | 399/1000 [08:13<11:27,  1.14s/it]"
     ]
    },
    {
     "name": "stdout",
     "output_type": "stream",
     "text": [
      "Epoch 399 | GCN MSE Loss: 1.1711 | NRF Loss: 2.1420 | JOINT Loss: 3.3130 | NRF Acc: 0.7613\n"
     ]
    },
    {
     "name": "stderr",
     "output_type": "stream",
     "text": [
      "Training epochs:  40%|████      | 400/1000 [08:15<11:04,  1.11s/it]"
     ]
    },
    {
     "name": "stdout",
     "output_type": "stream",
     "text": [
      "Epoch 400 | GCN MSE Loss: 1.1707 | NRF Loss: 2.1400 | JOINT Loss: 3.3106 | NRF Acc: 0.7613\n"
     ]
    },
    {
     "name": "stderr",
     "output_type": "stream",
     "text": [
      "Training epochs:  40%|████      | 401/1000 [08:16<10:48,  1.08s/it]"
     ]
    },
    {
     "name": "stdout",
     "output_type": "stream",
     "text": [
      "Epoch 401 | GCN MSE Loss: 1.1703 | NRF Loss: 2.1379 | JOINT Loss: 3.3082 | NRF Acc: 0.7613\n"
     ]
    },
    {
     "name": "stderr",
     "output_type": "stream",
     "text": [
      "Training epochs:  40%|████      | 402/1000 [08:17<10:37,  1.07s/it]"
     ]
    },
    {
     "name": "stdout",
     "output_type": "stream",
     "text": [
      "Epoch 402 | GCN MSE Loss: 1.1699 | NRF Loss: 2.1359 | JOINT Loss: 3.3058 | NRF Acc: 0.7613\n"
     ]
    },
    {
     "name": "stderr",
     "output_type": "stream",
     "text": [
      "Training epochs:  40%|████      | 403/1000 [08:18<11:44,  1.18s/it]"
     ]
    },
    {
     "name": "stdout",
     "output_type": "stream",
     "text": [
      "Epoch 403 | GCN MSE Loss: 1.1695 | NRF Loss: 2.1339 | JOINT Loss: 3.3033 | NRF Acc: 0.7614\n"
     ]
    },
    {
     "name": "stderr",
     "output_type": "stream",
     "text": [
      "Training epochs:  40%|████      | 404/1000 [08:19<12:32,  1.26s/it]"
     ]
    },
    {
     "name": "stdout",
     "output_type": "stream",
     "text": [
      "Epoch 404 | GCN MSE Loss: 1.1691 | NRF Loss: 2.1318 | JOINT Loss: 3.3010 | NRF Acc: 0.7616\n"
     ]
    },
    {
     "name": "stderr",
     "output_type": "stream",
     "text": [
      "Training epochs:  40%|████      | 405/1000 [08:20<11:48,  1.19s/it]"
     ]
    },
    {
     "name": "stdout",
     "output_type": "stream",
     "text": [
      "Epoch 405 | GCN MSE Loss: 1.1688 | NRF Loss: 2.1298 | JOINT Loss: 3.2986 | NRF Acc: 0.7616\n"
     ]
    },
    {
     "name": "stderr",
     "output_type": "stream",
     "text": [
      "Training epochs:  41%|████      | 406/1000 [08:22<12:34,  1.27s/it]"
     ]
    },
    {
     "name": "stdout",
     "output_type": "stream",
     "text": [
      "Epoch 406 | GCN MSE Loss: 1.1684 | NRF Loss: 2.1278 | JOINT Loss: 3.2962 | NRF Acc: 0.7618\n"
     ]
    },
    {
     "name": "stderr",
     "output_type": "stream",
     "text": [
      "Training epochs:  41%|████      | 407/1000 [08:23<11:49,  1.20s/it]"
     ]
    },
    {
     "name": "stdout",
     "output_type": "stream",
     "text": [
      "Epoch 407 | GCN MSE Loss: 1.1680 | NRF Loss: 2.1258 | JOINT Loss: 3.2938 | NRF Acc: 0.7618\n"
     ]
    },
    {
     "name": "stderr",
     "output_type": "stream",
     "text": [
      "Training epochs:  41%|████      | 408/1000 [08:24<12:17,  1.25s/it]"
     ]
    },
    {
     "name": "stdout",
     "output_type": "stream",
     "text": [
      "Epoch 408 | GCN MSE Loss: 1.1677 | NRF Loss: 2.1238 | JOINT Loss: 3.2915 | NRF Acc: 0.7619\n"
     ]
    },
    {
     "name": "stderr",
     "output_type": "stream",
     "text": [
      "Training epochs:  41%|████      | 409/1000 [08:25<11:36,  1.18s/it]"
     ]
    },
    {
     "name": "stdout",
     "output_type": "stream",
     "text": [
      "Epoch 409 | GCN MSE Loss: 1.1673 | NRF Loss: 2.1218 | JOINT Loss: 3.2891 | NRF Acc: 0.7618\n"
     ]
    },
    {
     "name": "stderr",
     "output_type": "stream",
     "text": [
      "Training epochs:  41%|████      | 410/1000 [08:26<11:08,  1.13s/it]"
     ]
    },
    {
     "name": "stdout",
     "output_type": "stream",
     "text": [
      "Epoch 410 | GCN MSE Loss: 1.1670 | NRF Loss: 2.1198 | JOINT Loss: 3.2868 | NRF Acc: 0.7619\n"
     ]
    },
    {
     "name": "stderr",
     "output_type": "stream",
     "text": [
      "Training epochs:  41%|████      | 411/1000 [08:27<10:45,  1.10s/it]"
     ]
    },
    {
     "name": "stdout",
     "output_type": "stream",
     "text": [
      "Epoch 411 | GCN MSE Loss: 1.1666 | NRF Loss: 2.1178 | JOINT Loss: 3.2844 | NRF Acc: 0.7619\n"
     ]
    },
    {
     "name": "stderr",
     "output_type": "stream",
     "text": [
      "Training epochs:  41%|████      | 412/1000 [08:28<09:27,  1.04it/s]"
     ]
    },
    {
     "name": "stdout",
     "output_type": "stream",
     "text": [
      "Epoch 412 | GCN MSE Loss: 1.1663 | NRF Loss: 2.1158 | JOINT Loss: 3.2821 | NRF Acc: 0.7619\n"
     ]
    },
    {
     "name": "stderr",
     "output_type": "stream",
     "text": [
      "Training epochs:  41%|████▏     | 413/1000 [08:29<09:33,  1.02it/s]"
     ]
    },
    {
     "name": "stdout",
     "output_type": "stream",
     "text": [
      "Epoch 413 | GCN MSE Loss: 1.1660 | NRF Loss: 2.1138 | JOINT Loss: 3.2798 | NRF Acc: 0.7621\n"
     ]
    },
    {
     "name": "stderr",
     "output_type": "stream",
     "text": [
      "Training epochs:  41%|████▏     | 414/1000 [08:30<10:51,  1.11s/it]"
     ]
    },
    {
     "name": "stdout",
     "output_type": "stream",
     "text": [
      "Epoch 414 | GCN MSE Loss: 1.1656 | NRF Loss: 2.1119 | JOINT Loss: 3.2775 | NRF Acc: 0.7623\n"
     ]
    },
    {
     "name": "stderr",
     "output_type": "stream",
     "text": [
      "Training epochs:  42%|████▏     | 415/1000 [08:32<11:47,  1.21s/it]"
     ]
    },
    {
     "name": "stdout",
     "output_type": "stream",
     "text": [
      "Epoch 415 | GCN MSE Loss: 1.1653 | NRF Loss: 2.1099 | JOINT Loss: 3.2752 | NRF Acc: 0.7625\n"
     ]
    },
    {
     "name": "stderr",
     "output_type": "stream",
     "text": [
      "Training epochs:  42%|████▏     | 416/1000 [08:33<11:13,  1.15s/it]"
     ]
    },
    {
     "name": "stdout",
     "output_type": "stream",
     "text": [
      "Epoch 416 | GCN MSE Loss: 1.1650 | NRF Loss: 2.1079 | JOINT Loss: 3.2729 | NRF Acc: 0.7623\n"
     ]
    },
    {
     "name": "stderr",
     "output_type": "stream",
     "text": [
      "Training epochs:  42%|████▏     | 417/1000 [08:34<10:50,  1.12s/it]"
     ]
    },
    {
     "name": "stdout",
     "output_type": "stream",
     "text": [
      "Epoch 417 | GCN MSE Loss: 1.1647 | NRF Loss: 2.1059 | JOINT Loss: 3.2706 | NRF Acc: 0.7623\n"
     ]
    },
    {
     "name": "stderr",
     "output_type": "stream",
     "text": [
      "Training epochs:  42%|████▏     | 418/1000 [08:35<10:33,  1.09s/it]"
     ]
    },
    {
     "name": "stdout",
     "output_type": "stream",
     "text": [
      "Epoch 418 | GCN MSE Loss: 1.1644 | NRF Loss: 2.1040 | JOINT Loss: 3.2683 | NRF Acc: 0.7623\n"
     ]
    },
    {
     "name": "stderr",
     "output_type": "stream",
     "text": [
      "Training epochs:  42%|████▏     | 419/1000 [08:36<10:21,  1.07s/it]"
     ]
    },
    {
     "name": "stdout",
     "output_type": "stream",
     "text": [
      "Epoch 419 | GCN MSE Loss: 1.1640 | NRF Loss: 2.1020 | JOINT Loss: 3.2661 | NRF Acc: 0.7619\n"
     ]
    },
    {
     "name": "stderr",
     "output_type": "stream",
     "text": [
      "Training epochs:  42%|████▏     | 420/1000 [08:37<10:11,  1.05s/it]"
     ]
    },
    {
     "name": "stdout",
     "output_type": "stream",
     "text": [
      "Epoch 420 | GCN MSE Loss: 1.1637 | NRF Loss: 2.1001 | JOINT Loss: 3.2638 | NRF Acc: 0.7619\n"
     ]
    },
    {
     "name": "stderr",
     "output_type": "stream",
     "text": [
      "Training epochs:  42%|████▏     | 421/1000 [08:38<10:05,  1.05s/it]"
     ]
    },
    {
     "name": "stdout",
     "output_type": "stream",
     "text": [
      "Epoch 421 | GCN MSE Loss: 1.1634 | NRF Loss: 2.0981 | JOINT Loss: 3.2615 | NRF Acc: 0.7619\n"
     ]
    },
    {
     "name": "stderr",
     "output_type": "stream",
     "text": [
      "Training epochs:  42%|████▏     | 422/1000 [08:39<10:00,  1.04s/it]"
     ]
    },
    {
     "name": "stdout",
     "output_type": "stream",
     "text": [
      "Epoch 422 | GCN MSE Loss: 1.1631 | NRF Loss: 2.0962 | JOINT Loss: 3.2593 | NRF Acc: 0.7619\n"
     ]
    },
    {
     "name": "stderr",
     "output_type": "stream",
     "text": [
      "Training epochs:  42%|████▏     | 423/1000 [08:40<09:57,  1.04s/it]"
     ]
    },
    {
     "name": "stdout",
     "output_type": "stream",
     "text": [
      "Epoch 423 | GCN MSE Loss: 1.1628 | NRF Loss: 2.0942 | JOINT Loss: 3.2571 | NRF Acc: 0.7619\n"
     ]
    },
    {
     "name": "stderr",
     "output_type": "stream",
     "text": [
      "Training epochs:  42%|████▏     | 424/1000 [08:41<09:54,  1.03s/it]"
     ]
    },
    {
     "name": "stdout",
     "output_type": "stream",
     "text": [
      "Epoch 424 | GCN MSE Loss: 1.1625 | NRF Loss: 2.0923 | JOINT Loss: 3.2548 | NRF Acc: 0.7619\n"
     ]
    },
    {
     "name": "stderr",
     "output_type": "stream",
     "text": [
      "Training epochs:  42%|████▎     | 425/1000 [08:42<09:52,  1.03s/it]"
     ]
    },
    {
     "name": "stdout",
     "output_type": "stream",
     "text": [
      "Epoch 425 | GCN MSE Loss: 1.1622 | NRF Loss: 2.0903 | JOINT Loss: 3.2526 | NRF Acc: 0.7623\n"
     ]
    },
    {
     "name": "stderr",
     "output_type": "stream",
     "text": [
      "Training epochs:  43%|████▎     | 426/1000 [08:43<09:50,  1.03s/it]"
     ]
    },
    {
     "name": "stdout",
     "output_type": "stream",
     "text": [
      "Epoch 426 | GCN MSE Loss: 1.1619 | NRF Loss: 2.0884 | JOINT Loss: 3.2504 | NRF Acc: 0.7623\n"
     ]
    },
    {
     "name": "stderr",
     "output_type": "stream",
     "text": [
      "Training epochs:  43%|████▎     | 427/1000 [08:44<09:48,  1.03s/it]"
     ]
    },
    {
     "name": "stdout",
     "output_type": "stream",
     "text": [
      "Epoch 427 | GCN MSE Loss: 1.1617 | NRF Loss: 2.0865 | JOINT Loss: 3.2481 | NRF Acc: 0.7625\n"
     ]
    },
    {
     "name": "stderr",
     "output_type": "stream",
     "text": [
      "Training epochs:  43%|████▎     | 428/1000 [08:45<09:47,  1.03s/it]"
     ]
    },
    {
     "name": "stdout",
     "output_type": "stream",
     "text": [
      "Epoch 428 | GCN MSE Loss: 1.1614 | NRF Loss: 2.0845 | JOINT Loss: 3.2459 | NRF Acc: 0.7625\n"
     ]
    },
    {
     "name": "stderr",
     "output_type": "stream",
     "text": [
      "Training epochs:  43%|████▎     | 429/1000 [08:46<09:46,  1.03s/it]"
     ]
    },
    {
     "name": "stdout",
     "output_type": "stream",
     "text": [
      "Epoch 429 | GCN MSE Loss: 1.1611 | NRF Loss: 2.0826 | JOINT Loss: 3.2437 | NRF Acc: 0.7623\n"
     ]
    },
    {
     "name": "stderr",
     "output_type": "stream",
     "text": [
      "Training epochs:  43%|████▎     | 430/1000 [08:47<09:45,  1.03s/it]"
     ]
    },
    {
     "name": "stdout",
     "output_type": "stream",
     "text": [
      "Epoch 430 | GCN MSE Loss: 1.1608 | NRF Loss: 2.0807 | JOINT Loss: 3.2415 | NRF Acc: 0.7623\n"
     ]
    },
    {
     "name": "stderr",
     "output_type": "stream",
     "text": [
      "Training epochs:  43%|████▎     | 431/1000 [08:48<09:43,  1.03s/it]"
     ]
    },
    {
     "name": "stdout",
     "output_type": "stream",
     "text": [
      "Epoch 431 | GCN MSE Loss: 1.1605 | NRF Loss: 2.0788 | JOINT Loss: 3.2393 | NRF Acc: 0.7623\n"
     ]
    },
    {
     "name": "stderr",
     "output_type": "stream",
     "text": [
      "Training epochs:  43%|████▎     | 432/1000 [08:49<09:42,  1.02s/it]"
     ]
    },
    {
     "name": "stdout",
     "output_type": "stream",
     "text": [
      "Epoch 432 | GCN MSE Loss: 1.1603 | NRF Loss: 2.0769 | JOINT Loss: 3.2371 | NRF Acc: 0.7621\n"
     ]
    },
    {
     "name": "stderr",
     "output_type": "stream",
     "text": [
      "Training epochs:  43%|████▎     | 433/1000 [08:50<09:41,  1.02s/it]"
     ]
    },
    {
     "name": "stdout",
     "output_type": "stream",
     "text": [
      "Epoch 433 | GCN MSE Loss: 1.1600 | NRF Loss: 2.0750 | JOINT Loss: 3.2350 | NRF Acc: 0.7621\n"
     ]
    },
    {
     "name": "stderr",
     "output_type": "stream",
     "text": [
      "Training epochs:  43%|████▎     | 434/1000 [08:51<09:40,  1.03s/it]"
     ]
    },
    {
     "name": "stdout",
     "output_type": "stream",
     "text": [
      "Epoch 434 | GCN MSE Loss: 1.1597 | NRF Loss: 2.0731 | JOINT Loss: 3.2328 | NRF Acc: 0.7621\n"
     ]
    },
    {
     "name": "stderr",
     "output_type": "stream",
     "text": [
      "Training epochs:  44%|████▎     | 435/1000 [08:52<09:39,  1.03s/it]"
     ]
    },
    {
     "name": "stdout",
     "output_type": "stream",
     "text": [
      "Epoch 435 | GCN MSE Loss: 1.1595 | NRF Loss: 2.0712 | JOINT Loss: 3.2306 | NRF Acc: 0.7619\n"
     ]
    },
    {
     "name": "stderr",
     "output_type": "stream",
     "text": [
      "Training epochs:  44%|████▎     | 436/1000 [08:53<09:38,  1.03s/it]"
     ]
    },
    {
     "name": "stdout",
     "output_type": "stream",
     "text": [
      "Epoch 436 | GCN MSE Loss: 1.1592 | NRF Loss: 2.0693 | JOINT Loss: 3.2285 | NRF Acc: 0.7621\n"
     ]
    },
    {
     "name": "stderr",
     "output_type": "stream",
     "text": [
      "Training epochs:  44%|████▎     | 437/1000 [08:54<09:36,  1.02s/it]"
     ]
    },
    {
     "name": "stdout",
     "output_type": "stream",
     "text": [
      "Epoch 437 | GCN MSE Loss: 1.1590 | NRF Loss: 2.0674 | JOINT Loss: 3.2263 | NRF Acc: 0.7623\n"
     ]
    },
    {
     "name": "stderr",
     "output_type": "stream",
     "text": [
      "Training epochs:  44%|████▍     | 438/1000 [08:55<09:36,  1.02s/it]"
     ]
    },
    {
     "name": "stdout",
     "output_type": "stream",
     "text": [
      "Epoch 438 | GCN MSE Loss: 1.1587 | NRF Loss: 2.0655 | JOINT Loss: 3.2242 | NRF Acc: 0.7621\n"
     ]
    },
    {
     "name": "stderr",
     "output_type": "stream",
     "text": [
      "Training epochs:  44%|████▍     | 439/1000 [08:57<09:34,  1.02s/it]"
     ]
    },
    {
     "name": "stdout",
     "output_type": "stream",
     "text": [
      "Epoch 439 | GCN MSE Loss: 1.1584 | NRF Loss: 2.0636 | JOINT Loss: 3.2220 | NRF Acc: 0.7623\n"
     ]
    },
    {
     "name": "stderr",
     "output_type": "stream",
     "text": [
      "Training epochs:  44%|████▍     | 440/1000 [08:58<09:33,  1.02s/it]"
     ]
    },
    {
     "name": "stdout",
     "output_type": "stream",
     "text": [
      "Epoch 440 | GCN MSE Loss: 1.1582 | NRF Loss: 2.0617 | JOINT Loss: 3.2199 | NRF Acc: 0.7623\n"
     ]
    },
    {
     "name": "stderr",
     "output_type": "stream",
     "text": [
      "Training epochs:  44%|████▍     | 441/1000 [08:59<09:32,  1.02s/it]"
     ]
    },
    {
     "name": "stdout",
     "output_type": "stream",
     "text": [
      "Epoch 441 | GCN MSE Loss: 1.1579 | NRF Loss: 2.0598 | JOINT Loss: 3.2177 | NRF Acc: 0.7623\n"
     ]
    },
    {
     "name": "stderr",
     "output_type": "stream",
     "text": [
      "Training epochs:  44%|████▍     | 442/1000 [09:00<09:31,  1.02s/it]"
     ]
    },
    {
     "name": "stdout",
     "output_type": "stream",
     "text": [
      "Epoch 442 | GCN MSE Loss: 1.1577 | NRF Loss: 2.0579 | JOINT Loss: 3.2156 | NRF Acc: 0.7623\n"
     ]
    },
    {
     "name": "stderr",
     "output_type": "stream",
     "text": [
      "Training epochs:  44%|████▍     | 443/1000 [09:01<09:51,  1.06s/it]"
     ]
    },
    {
     "name": "stdout",
     "output_type": "stream",
     "text": [
      "Epoch 443 | GCN MSE Loss: 1.1575 | NRF Loss: 2.0560 | JOINT Loss: 3.2135 | NRF Acc: 0.7625\n"
     ]
    },
    {
     "name": "stderr",
     "output_type": "stream",
     "text": [
      "Training epochs:  44%|████▍     | 444/1000 [09:02<09:44,  1.05s/it]"
     ]
    },
    {
     "name": "stdout",
     "output_type": "stream",
     "text": [
      "Epoch 444 | GCN MSE Loss: 1.1572 | NRF Loss: 2.0542 | JOINT Loss: 3.2114 | NRF Acc: 0.7625\n"
     ]
    },
    {
     "name": "stderr",
     "output_type": "stream",
     "text": [
      "Training epochs:  44%|████▍     | 445/1000 [09:03<09:38,  1.04s/it]"
     ]
    },
    {
     "name": "stdout",
     "output_type": "stream",
     "text": [
      "Epoch 445 | GCN MSE Loss: 1.1570 | NRF Loss: 2.0523 | JOINT Loss: 3.2093 | NRF Acc: 0.7625\n"
     ]
    },
    {
     "name": "stderr",
     "output_type": "stream",
     "text": [
      "Training epochs:  45%|████▍     | 446/1000 [09:04<09:35,  1.04s/it]"
     ]
    },
    {
     "name": "stdout",
     "output_type": "stream",
     "text": [
      "Epoch 446 | GCN MSE Loss: 1.1567 | NRF Loss: 2.0504 | JOINT Loss: 3.2072 | NRF Acc: 0.7625\n"
     ]
    },
    {
     "name": "stderr",
     "output_type": "stream",
     "text": [
      "Training epochs:  45%|████▍     | 447/1000 [09:05<09:32,  1.04s/it]"
     ]
    },
    {
     "name": "stdout",
     "output_type": "stream",
     "text": [
      "Epoch 447 | GCN MSE Loss: 1.1565 | NRF Loss: 2.0486 | JOINT Loss: 3.2051 | NRF Acc: 0.7625\n"
     ]
    },
    {
     "name": "stderr",
     "output_type": "stream",
     "text": [
      "Training epochs:  45%|████▍     | 448/1000 [09:06<09:30,  1.03s/it]"
     ]
    },
    {
     "name": "stdout",
     "output_type": "stream",
     "text": [
      "Epoch 448 | GCN MSE Loss: 1.1563 | NRF Loss: 2.0467 | JOINT Loss: 3.2030 | NRF Acc: 0.7625\n"
     ]
    },
    {
     "name": "stderr",
     "output_type": "stream",
     "text": [
      "Training epochs:  45%|████▍     | 449/1000 [09:07<09:27,  1.03s/it]"
     ]
    },
    {
     "name": "stdout",
     "output_type": "stream",
     "text": [
      "Epoch 449 | GCN MSE Loss: 1.1560 | NRF Loss: 2.0448 | JOINT Loss: 3.2009 | NRF Acc: 0.7625\n"
     ]
    },
    {
     "name": "stderr",
     "output_type": "stream",
     "text": [
      "Training epochs:  45%|████▌     | 450/1000 [09:08<09:25,  1.03s/it]"
     ]
    },
    {
     "name": "stdout",
     "output_type": "stream",
     "text": [
      "Epoch 450 | GCN MSE Loss: 1.1558 | NRF Loss: 2.0430 | JOINT Loss: 3.1988 | NRF Acc: 0.7625\n"
     ]
    },
    {
     "name": "stderr",
     "output_type": "stream",
     "text": [
      "Training epochs:  45%|████▌     | 451/1000 [09:09<09:23,  1.03s/it]"
     ]
    },
    {
     "name": "stdout",
     "output_type": "stream",
     "text": [
      "Epoch 451 | GCN MSE Loss: 1.1556 | NRF Loss: 2.0411 | JOINT Loss: 3.1967 | NRF Acc: 0.7625\n"
     ]
    },
    {
     "name": "stderr",
     "output_type": "stream",
     "text": [
      "Training epochs:  45%|████▌     | 452/1000 [09:10<10:30,  1.15s/it]"
     ]
    },
    {
     "name": "stdout",
     "output_type": "stream",
     "text": [
      "Epoch 452 | GCN MSE Loss: 1.1553 | NRF Loss: 2.0393 | JOINT Loss: 3.1946 | NRF Acc: 0.7626\n"
     ]
    },
    {
     "name": "stderr",
     "output_type": "stream",
     "text": [
      "Training epochs:  45%|████▌     | 453/1000 [09:11<10:08,  1.11s/it]"
     ]
    },
    {
     "name": "stdout",
     "output_type": "stream",
     "text": [
      "Epoch 453 | GCN MSE Loss: 1.1551 | NRF Loss: 2.0374 | JOINT Loss: 3.1925 | NRF Acc: 0.7625\n"
     ]
    },
    {
     "name": "stderr",
     "output_type": "stream",
     "text": [
      "Training epochs:  45%|████▌     | 454/1000 [09:12<09:53,  1.09s/it]"
     ]
    },
    {
     "name": "stdout",
     "output_type": "stream",
     "text": [
      "Epoch 454 | GCN MSE Loss: 1.1549 | NRF Loss: 2.0356 | JOINT Loss: 3.1904 | NRF Acc: 0.7623\n"
     ]
    },
    {
     "name": "stderr",
     "output_type": "stream",
     "text": [
      "Training epochs:  46%|████▌     | 455/1000 [09:13<09:42,  1.07s/it]"
     ]
    },
    {
     "name": "stdout",
     "output_type": "stream",
     "text": [
      "Epoch 455 | GCN MSE Loss: 1.1547 | NRF Loss: 2.0337 | JOINT Loss: 3.1884 | NRF Acc: 0.7621\n"
     ]
    },
    {
     "name": "stderr",
     "output_type": "stream",
     "text": [
      "Training epochs:  46%|████▌     | 456/1000 [09:14<09:33,  1.05s/it]"
     ]
    },
    {
     "name": "stdout",
     "output_type": "stream",
     "text": [
      "Epoch 456 | GCN MSE Loss: 1.1544 | NRF Loss: 2.0319 | JOINT Loss: 3.1863 | NRF Acc: 0.7621\n"
     ]
    },
    {
     "name": "stderr",
     "output_type": "stream",
     "text": [
      "Training epochs:  46%|████▌     | 457/1000 [09:16<09:27,  1.05s/it]"
     ]
    },
    {
     "name": "stdout",
     "output_type": "stream",
     "text": [
      "Epoch 457 | GCN MSE Loss: 1.1542 | NRF Loss: 2.0300 | JOINT Loss: 3.1842 | NRF Acc: 0.7623\n"
     ]
    },
    {
     "name": "stderr",
     "output_type": "stream",
     "text": [
      "Training epochs:  46%|████▌     | 458/1000 [09:17<09:23,  1.04s/it]"
     ]
    },
    {
     "name": "stdout",
     "output_type": "stream",
     "text": [
      "Epoch 458 | GCN MSE Loss: 1.1540 | NRF Loss: 2.0282 | JOINT Loss: 3.1822 | NRF Acc: 0.7623\n"
     ]
    },
    {
     "name": "stderr",
     "output_type": "stream",
     "text": [
      "Training epochs:  46%|████▌     | 459/1000 [09:18<09:20,  1.04s/it]"
     ]
    },
    {
     "name": "stdout",
     "output_type": "stream",
     "text": [
      "Epoch 459 | GCN MSE Loss: 1.1538 | NRF Loss: 2.0264 | JOINT Loss: 3.1801 | NRF Acc: 0.7623\n"
     ]
    },
    {
     "name": "stderr",
     "output_type": "stream",
     "text": [
      "Training epochs:  46%|████▌     | 460/1000 [09:19<09:17,  1.03s/it]"
     ]
    },
    {
     "name": "stdout",
     "output_type": "stream",
     "text": [
      "Epoch 460 | GCN MSE Loss: 1.1536 | NRF Loss: 2.0245 | JOINT Loss: 3.1781 | NRF Acc: 0.7623\n"
     ]
    },
    {
     "name": "stderr",
     "output_type": "stream",
     "text": [
      "Training epochs:  46%|████▌     | 461/1000 [09:20<09:15,  1.03s/it]"
     ]
    },
    {
     "name": "stdout",
     "output_type": "stream",
     "text": [
      "Epoch 461 | GCN MSE Loss: 1.1534 | NRF Loss: 2.0227 | JOINT Loss: 3.1760 | NRF Acc: 0.7625\n"
     ]
    },
    {
     "name": "stderr",
     "output_type": "stream",
     "text": [
      "Training epochs:  46%|████▌     | 462/1000 [09:21<09:13,  1.03s/it]"
     ]
    },
    {
     "name": "stdout",
     "output_type": "stream",
     "text": [
      "Epoch 462 | GCN MSE Loss: 1.1531 | NRF Loss: 2.0209 | JOINT Loss: 3.1740 | NRF Acc: 0.7623\n"
     ]
    },
    {
     "name": "stderr",
     "output_type": "stream",
     "text": [
      "Training epochs:  46%|████▋     | 463/1000 [09:22<09:11,  1.03s/it]"
     ]
    },
    {
     "name": "stdout",
     "output_type": "stream",
     "text": [
      "Epoch 463 | GCN MSE Loss: 1.1529 | NRF Loss: 2.0190 | JOINT Loss: 3.1720 | NRF Acc: 0.7623\n"
     ]
    },
    {
     "name": "stderr",
     "output_type": "stream",
     "text": [
      "Training epochs:  46%|████▋     | 464/1000 [09:23<09:09,  1.03s/it]"
     ]
    },
    {
     "name": "stdout",
     "output_type": "stream",
     "text": [
      "Epoch 464 | GCN MSE Loss: 1.1527 | NRF Loss: 2.0172 | JOINT Loss: 3.1699 | NRF Acc: 0.7623\n"
     ]
    },
    {
     "name": "stderr",
     "output_type": "stream",
     "text": [
      "Training epochs:  46%|████▋     | 465/1000 [09:24<09:08,  1.03s/it]"
     ]
    },
    {
     "name": "stdout",
     "output_type": "stream",
     "text": [
      "Epoch 465 | GCN MSE Loss: 1.1525 | NRF Loss: 2.0154 | JOINT Loss: 3.1679 | NRF Acc: 0.7623\n"
     ]
    },
    {
     "name": "stderr",
     "output_type": "stream",
     "text": [
      "Training epochs:  47%|████▋     | 466/1000 [09:25<09:07,  1.03s/it]"
     ]
    },
    {
     "name": "stdout",
     "output_type": "stream",
     "text": [
      "Epoch 466 | GCN MSE Loss: 1.1523 | NRF Loss: 2.0136 | JOINT Loss: 3.1659 | NRF Acc: 0.7623\n"
     ]
    },
    {
     "name": "stderr",
     "output_type": "stream",
     "text": [
      "Training epochs:  47%|████▋     | 467/1000 [09:26<09:06,  1.03s/it]"
     ]
    },
    {
     "name": "stdout",
     "output_type": "stream",
     "text": [
      "Epoch 467 | GCN MSE Loss: 1.1521 | NRF Loss: 2.0118 | JOINT Loss: 3.1639 | NRF Acc: 0.7623\n"
     ]
    },
    {
     "name": "stderr",
     "output_type": "stream",
     "text": [
      "Training epochs:  47%|████▋     | 468/1000 [09:27<09:05,  1.03s/it]"
     ]
    },
    {
     "name": "stdout",
     "output_type": "stream",
     "text": [
      "Epoch 468 | GCN MSE Loss: 1.1519 | NRF Loss: 2.0100 | JOINT Loss: 3.1619 | NRF Acc: 0.7623\n"
     ]
    },
    {
     "name": "stderr",
     "output_type": "stream",
     "text": [
      "Training epochs:  47%|████▋     | 469/1000 [09:28<09:03,  1.02s/it]"
     ]
    },
    {
     "name": "stdout",
     "output_type": "stream",
     "text": [
      "Epoch 469 | GCN MSE Loss: 1.1517 | NRF Loss: 2.0082 | JOINT Loss: 3.1599 | NRF Acc: 0.7623\n"
     ]
    },
    {
     "name": "stderr",
     "output_type": "stream",
     "text": [
      "Training epochs:  47%|████▋     | 470/1000 [09:29<09:02,  1.02s/it]"
     ]
    },
    {
     "name": "stdout",
     "output_type": "stream",
     "text": [
      "Epoch 470 | GCN MSE Loss: 1.1515 | NRF Loss: 2.0064 | JOINT Loss: 3.1579 | NRF Acc: 0.7623\n"
     ]
    },
    {
     "name": "stderr",
     "output_type": "stream",
     "text": [
      "Training epochs:  47%|████▋     | 471/1000 [09:30<09:02,  1.02s/it]"
     ]
    },
    {
     "name": "stdout",
     "output_type": "stream",
     "text": [
      "Epoch 471 | GCN MSE Loss: 1.1513 | NRF Loss: 2.0046 | JOINT Loss: 3.1559 | NRF Acc: 0.7623\n"
     ]
    },
    {
     "name": "stderr",
     "output_type": "stream",
     "text": [
      "Training epochs:  47%|████▋     | 472/1000 [09:31<09:01,  1.03s/it]"
     ]
    },
    {
     "name": "stdout",
     "output_type": "stream",
     "text": [
      "Epoch 472 | GCN MSE Loss: 1.1511 | NRF Loss: 2.0028 | JOINT Loss: 3.1539 | NRF Acc: 0.7625\n"
     ]
    },
    {
     "name": "stderr",
     "output_type": "stream",
     "text": [
      "Training epochs:  47%|████▋     | 473/1000 [09:32<09:00,  1.03s/it]"
     ]
    },
    {
     "name": "stdout",
     "output_type": "stream",
     "text": [
      "Epoch 473 | GCN MSE Loss: 1.1509 | NRF Loss: 2.0010 | JOINT Loss: 3.1519 | NRF Acc: 0.7626\n"
     ]
    },
    {
     "name": "stderr",
     "output_type": "stream",
     "text": [
      "Training epochs:  47%|████▋     | 474/1000 [09:33<10:03,  1.15s/it]"
     ]
    },
    {
     "name": "stdout",
     "output_type": "stream",
     "text": [
      "Epoch 474 | GCN MSE Loss: 1.1507 | NRF Loss: 1.9992 | JOINT Loss: 3.1499 | NRF Acc: 0.7628\n"
     ]
    },
    {
     "name": "stderr",
     "output_type": "stream",
     "text": [
      "Training epochs:  48%|████▊     | 475/1000 [09:34<09:42,  1.11s/it]"
     ]
    },
    {
     "name": "stdout",
     "output_type": "stream",
     "text": [
      "Epoch 475 | GCN MSE Loss: 1.1505 | NRF Loss: 1.9974 | JOINT Loss: 3.1480 | NRF Acc: 0.7628\n"
     ]
    },
    {
     "name": "stderr",
     "output_type": "stream",
     "text": [
      "Training epochs:  48%|████▊     | 476/1000 [09:35<09:28,  1.08s/it]"
     ]
    },
    {
     "name": "stdout",
     "output_type": "stream",
     "text": [
      "Epoch 476 | GCN MSE Loss: 1.1503 | NRF Loss: 1.9956 | JOINT Loss: 3.1460 | NRF Acc: 0.7628\n"
     ]
    },
    {
     "name": "stderr",
     "output_type": "stream",
     "text": [
      "Training epochs:  48%|████▊     | 477/1000 [09:36<09:17,  1.07s/it]"
     ]
    },
    {
     "name": "stdout",
     "output_type": "stream",
     "text": [
      "Epoch 477 | GCN MSE Loss: 1.1502 | NRF Loss: 1.9939 | JOINT Loss: 3.1440 | NRF Acc: 0.7628\n"
     ]
    },
    {
     "name": "stderr",
     "output_type": "stream",
     "text": [
      "Training epochs:  48%|████▊     | 478/1000 [09:38<10:19,  1.19s/it]"
     ]
    },
    {
     "name": "stdout",
     "output_type": "stream",
     "text": [
      "Epoch 478 | GCN MSE Loss: 1.1500 | NRF Loss: 1.9921 | JOINT Loss: 3.1421 | NRF Acc: 0.7630\n"
     ]
    },
    {
     "name": "stderr",
     "output_type": "stream",
     "text": [
      "Training epochs:  48%|████▊     | 479/1000 [09:39<09:53,  1.14s/it]"
     ]
    },
    {
     "name": "stdout",
     "output_type": "stream",
     "text": [
      "Epoch 479 | GCN MSE Loss: 1.1498 | NRF Loss: 1.9903 | JOINT Loss: 3.1401 | NRF Acc: 0.7630\n"
     ]
    },
    {
     "name": "stderr",
     "output_type": "stream",
     "text": [
      "Training epochs:  48%|████▊     | 480/1000 [09:40<09:34,  1.11s/it]"
     ]
    },
    {
     "name": "stdout",
     "output_type": "stream",
     "text": [
      "Epoch 480 | GCN MSE Loss: 1.1496 | NRF Loss: 1.9885 | JOINT Loss: 3.1381 | NRF Acc: 0.7630\n"
     ]
    },
    {
     "name": "stderr",
     "output_type": "stream",
     "text": [
      "Training epochs:  48%|████▊     | 481/1000 [09:41<09:21,  1.08s/it]"
     ]
    },
    {
     "name": "stdout",
     "output_type": "stream",
     "text": [
      "Epoch 481 | GCN MSE Loss: 1.1494 | NRF Loss: 1.9868 | JOINT Loss: 3.1362 | NRF Acc: 0.7630\n"
     ]
    },
    {
     "name": "stderr",
     "output_type": "stream",
     "text": [
      "Training epochs:  48%|████▊     | 482/1000 [09:42<09:58,  1.15s/it]"
     ]
    },
    {
     "name": "stdout",
     "output_type": "stream",
     "text": [
      "Epoch 482 | GCN MSE Loss: 1.1492 | NRF Loss: 1.9850 | JOINT Loss: 3.1342 | NRF Acc: 0.7632\n"
     ]
    },
    {
     "name": "stderr",
     "output_type": "stream",
     "text": [
      "Training epochs:  48%|████▊     | 483/1000 [09:43<09:34,  1.11s/it]"
     ]
    },
    {
     "name": "stdout",
     "output_type": "stream",
     "text": [
      "Epoch 483 | GCN MSE Loss: 1.1491 | NRF Loss: 1.9833 | JOINT Loss: 3.1323 | NRF Acc: 0.7632\n"
     ]
    },
    {
     "name": "stderr",
     "output_type": "stream",
     "text": [
      "Training epochs:  48%|████▊     | 484/1000 [09:44<08:34,  1.00it/s]"
     ]
    },
    {
     "name": "stdout",
     "output_type": "stream",
     "text": [
      "Epoch 484 | GCN MSE Loss: 1.1489 | NRF Loss: 1.9815 | JOINT Loss: 3.1304 | NRF Acc: 0.7633\n"
     ]
    },
    {
     "name": "stderr",
     "output_type": "stream",
     "text": [
      "Training epochs:  48%|████▊     | 485/1000 [09:45<08:04,  1.06it/s]"
     ]
    },
    {
     "name": "stdout",
     "output_type": "stream",
     "text": [
      "Epoch 485 | GCN MSE Loss: 1.1487 | NRF Loss: 1.9797 | JOINT Loss: 3.1284 | NRF Acc: 0.7633\n"
     ]
    },
    {
     "name": "stderr",
     "output_type": "stream",
     "text": [
      "Training epochs:  49%|████▊     | 486/1000 [09:46<08:17,  1.03it/s]"
     ]
    },
    {
     "name": "stdout",
     "output_type": "stream",
     "text": [
      "Epoch 486 | GCN MSE Loss: 1.1485 | NRF Loss: 1.9780 | JOINT Loss: 3.1265 | NRF Acc: 0.7633\n"
     ]
    },
    {
     "name": "stderr",
     "output_type": "stream",
     "text": [
      "Training epochs:  49%|████▊     | 487/1000 [09:47<08:24,  1.02it/s]"
     ]
    },
    {
     "name": "stdout",
     "output_type": "stream",
     "text": [
      "Epoch 487 | GCN MSE Loss: 1.1483 | NRF Loss: 1.9762 | JOINT Loss: 3.1246 | NRF Acc: 0.7633\n"
     ]
    },
    {
     "name": "stderr",
     "output_type": "stream",
     "text": [
      "Training epochs:  49%|████▉     | 488/1000 [09:48<08:30,  1.00it/s]"
     ]
    },
    {
     "name": "stdout",
     "output_type": "stream",
     "text": [
      "Epoch 488 | GCN MSE Loss: 1.1482 | NRF Loss: 1.9745 | JOINT Loss: 3.1226 | NRF Acc: 0.7633\n"
     ]
    },
    {
     "name": "stderr",
     "output_type": "stream",
     "text": [
      "Training epochs:  49%|████▉     | 489/1000 [09:49<08:33,  1.00s/it]"
     ]
    },
    {
     "name": "stdout",
     "output_type": "stream",
     "text": [
      "Epoch 489 | GCN MSE Loss: 1.1480 | NRF Loss: 1.9727 | JOINT Loss: 3.1207 | NRF Acc: 0.7633\n"
     ]
    },
    {
     "name": "stderr",
     "output_type": "stream",
     "text": [
      "Training epochs:  49%|████▉     | 490/1000 [09:50<08:35,  1.01s/it]"
     ]
    },
    {
     "name": "stdout",
     "output_type": "stream",
     "text": [
      "Epoch 490 | GCN MSE Loss: 1.1478 | NRF Loss: 1.9710 | JOINT Loss: 3.1188 | NRF Acc: 0.7633\n"
     ]
    },
    {
     "name": "stderr",
     "output_type": "stream",
     "text": [
      "Training epochs:  49%|████▉     | 491/1000 [09:51<08:37,  1.02s/it]"
     ]
    },
    {
     "name": "stdout",
     "output_type": "stream",
     "text": [
      "Epoch 491 | GCN MSE Loss: 1.1477 | NRF Loss: 1.9692 | JOINT Loss: 3.1169 | NRF Acc: 0.7633\n"
     ]
    },
    {
     "name": "stderr",
     "output_type": "stream",
     "text": [
      "Training epochs:  49%|████▉     | 492/1000 [09:52<08:37,  1.02s/it]"
     ]
    },
    {
     "name": "stdout",
     "output_type": "stream",
     "text": [
      "Epoch 492 | GCN MSE Loss: 1.1475 | NRF Loss: 1.9675 | JOINT Loss: 3.1150 | NRF Acc: 0.7633\n"
     ]
    },
    {
     "name": "stderr",
     "output_type": "stream",
     "text": [
      "Training epochs:  49%|████▉     | 493/1000 [09:53<08:37,  1.02s/it]"
     ]
    },
    {
     "name": "stdout",
     "output_type": "stream",
     "text": [
      "Epoch 493 | GCN MSE Loss: 1.1473 | NRF Loss: 1.9658 | JOINT Loss: 3.1131 | NRF Acc: 0.7633\n"
     ]
    },
    {
     "name": "stderr",
     "output_type": "stream",
     "text": [
      "Training epochs:  49%|████▉     | 494/1000 [09:54<08:37,  1.02s/it]"
     ]
    },
    {
     "name": "stdout",
     "output_type": "stream",
     "text": [
      "Epoch 494 | GCN MSE Loss: 1.1471 | NRF Loss: 1.9640 | JOINT Loss: 3.1112 | NRF Acc: 0.7633\n"
     ]
    },
    {
     "name": "stderr",
     "output_type": "stream",
     "text": [
      "Training epochs:  50%|████▉     | 495/1000 [09:55<08:36,  1.02s/it]"
     ]
    },
    {
     "name": "stdout",
     "output_type": "stream",
     "text": [
      "Epoch 495 | GCN MSE Loss: 1.1470 | NRF Loss: 1.9623 | JOINT Loss: 3.1093 | NRF Acc: 0.7633\n"
     ]
    },
    {
     "name": "stderr",
     "output_type": "stream",
     "text": [
      "Training epochs:  50%|████▉     | 496/1000 [09:56<08:36,  1.02s/it]"
     ]
    },
    {
     "name": "stdout",
     "output_type": "stream",
     "text": [
      "Epoch 496 | GCN MSE Loss: 1.1468 | NRF Loss: 1.9606 | JOINT Loss: 3.1074 | NRF Acc: 0.7633\n"
     ]
    },
    {
     "name": "stderr",
     "output_type": "stream",
     "text": [
      "Training epochs:  50%|████▉     | 497/1000 [09:57<08:35,  1.03s/it]"
     ]
    },
    {
     "name": "stdout",
     "output_type": "stream",
     "text": [
      "Epoch 497 | GCN MSE Loss: 1.1467 | NRF Loss: 1.9589 | JOINT Loss: 3.1055 | NRF Acc: 0.7633\n"
     ]
    },
    {
     "name": "stderr",
     "output_type": "stream",
     "text": [
      "Training epochs:  50%|████▉     | 498/1000 [09:58<08:34,  1.03s/it]"
     ]
    },
    {
     "name": "stdout",
     "output_type": "stream",
     "text": [
      "Epoch 498 | GCN MSE Loss: 1.1465 | NRF Loss: 1.9571 | JOINT Loss: 3.1036 | NRF Acc: 0.7633\n"
     ]
    },
    {
     "name": "stderr",
     "output_type": "stream",
     "text": [
      "Training epochs:  50%|████▉     | 499/1000 [09:59<08:34,  1.03s/it]"
     ]
    },
    {
     "name": "stdout",
     "output_type": "stream",
     "text": [
      "Epoch 499 | GCN MSE Loss: 1.1463 | NRF Loss: 1.9554 | JOINT Loss: 3.1017 | NRF Acc: 0.7632\n"
     ]
    },
    {
     "name": "stderr",
     "output_type": "stream",
     "text": [
      "Training epochs:  50%|█████     | 500/1000 [10:00<08:32,  1.03s/it]"
     ]
    },
    {
     "name": "stdout",
     "output_type": "stream",
     "text": [
      "Epoch 500 | GCN MSE Loss: 1.1462 | NRF Loss: 1.9537 | JOINT Loss: 3.0999 | NRF Acc: 0.7630\n"
     ]
    },
    {
     "name": "stderr",
     "output_type": "stream",
     "text": [
      "Training epochs:  50%|█████     | 501/1000 [10:01<08:31,  1.02s/it]"
     ]
    },
    {
     "name": "stdout",
     "output_type": "stream",
     "text": [
      "Epoch 501 | GCN MSE Loss: 1.1460 | NRF Loss: 1.9520 | JOINT Loss: 3.0980 | NRF Acc: 0.7630\n"
     ]
    },
    {
     "name": "stderr",
     "output_type": "stream",
     "text": [
      "Training epochs:  50%|█████     | 502/1000 [10:02<08:30,  1.02s/it]"
     ]
    },
    {
     "name": "stdout",
     "output_type": "stream",
     "text": [
      "Epoch 502 | GCN MSE Loss: 1.1459 | NRF Loss: 1.9503 | JOINT Loss: 3.0961 | NRF Acc: 0.7630\n"
     ]
    },
    {
     "name": "stderr",
     "output_type": "stream",
     "text": [
      "Training epochs:  50%|█████     | 503/1000 [10:03<08:29,  1.03s/it]"
     ]
    },
    {
     "name": "stdout",
     "output_type": "stream",
     "text": [
      "Epoch 503 | GCN MSE Loss: 1.1457 | NRF Loss: 1.9486 | JOINT Loss: 3.0943 | NRF Acc: 0.7630\n"
     ]
    },
    {
     "name": "stderr",
     "output_type": "stream",
     "text": [
      "Training epochs:  50%|█████     | 504/1000 [10:04<08:28,  1.02s/it]"
     ]
    },
    {
     "name": "stdout",
     "output_type": "stream",
     "text": [
      "Epoch 504 | GCN MSE Loss: 1.1455 | NRF Loss: 1.9469 | JOINT Loss: 3.0924 | NRF Acc: 0.7632\n"
     ]
    },
    {
     "name": "stderr",
     "output_type": "stream",
     "text": [
      "Training epochs:  50%|█████     | 505/1000 [10:05<08:27,  1.03s/it]"
     ]
    },
    {
     "name": "stdout",
     "output_type": "stream",
     "text": [
      "Epoch 505 | GCN MSE Loss: 1.1454 | NRF Loss: 1.9452 | JOINT Loss: 3.0906 | NRF Acc: 0.7632\n"
     ]
    },
    {
     "name": "stderr",
     "output_type": "stream",
     "text": [
      "Training epochs:  51%|█████     | 506/1000 [10:06<08:26,  1.03s/it]"
     ]
    },
    {
     "name": "stdout",
     "output_type": "stream",
     "text": [
      "Epoch 506 | GCN MSE Loss: 1.1452 | NRF Loss: 1.9435 | JOINT Loss: 3.0887 | NRF Acc: 0.7632\n"
     ]
    },
    {
     "name": "stderr",
     "output_type": "stream",
     "text": [
      "Training epochs:  51%|█████     | 507/1000 [10:07<08:26,  1.03s/it]"
     ]
    },
    {
     "name": "stdout",
     "output_type": "stream",
     "text": [
      "Epoch 507 | GCN MSE Loss: 1.1451 | NRF Loss: 1.9418 | JOINT Loss: 3.0869 | NRF Acc: 0.7632\n"
     ]
    },
    {
     "name": "stderr",
     "output_type": "stream",
     "text": [
      "Training epochs:  51%|█████     | 508/1000 [10:08<08:25,  1.03s/it]"
     ]
    },
    {
     "name": "stdout",
     "output_type": "stream",
     "text": [
      "Epoch 508 | GCN MSE Loss: 1.1449 | NRF Loss: 1.9401 | JOINT Loss: 3.0850 | NRF Acc: 0.7633\n"
     ]
    },
    {
     "name": "stderr",
     "output_type": "stream",
     "text": [
      "Training epochs:  51%|█████     | 509/1000 [10:09<08:24,  1.03s/it]"
     ]
    },
    {
     "name": "stdout",
     "output_type": "stream",
     "text": [
      "Epoch 509 | GCN MSE Loss: 1.1448 | NRF Loss: 1.9384 | JOINT Loss: 3.0832 | NRF Acc: 0.7633\n"
     ]
    },
    {
     "name": "stderr",
     "output_type": "stream",
     "text": [
      "Training epochs:  51%|█████     | 510/1000 [10:10<08:22,  1.03s/it]"
     ]
    },
    {
     "name": "stdout",
     "output_type": "stream",
     "text": [
      "Epoch 510 | GCN MSE Loss: 1.1446 | NRF Loss: 1.9367 | JOINT Loss: 3.0813 | NRF Acc: 0.7633\n"
     ]
    },
    {
     "name": "stderr",
     "output_type": "stream",
     "text": [
      "Training epochs:  51%|█████     | 511/1000 [10:12<08:21,  1.03s/it]"
     ]
    },
    {
     "name": "stdout",
     "output_type": "stream",
     "text": [
      "Epoch 511 | GCN MSE Loss: 1.1445 | NRF Loss: 1.9350 | JOINT Loss: 3.0795 | NRF Acc: 0.7633\n"
     ]
    },
    {
     "name": "stderr",
     "output_type": "stream",
     "text": [
      "Training epochs:  51%|█████     | 512/1000 [10:13<08:20,  1.03s/it]"
     ]
    },
    {
     "name": "stdout",
     "output_type": "stream",
     "text": [
      "Epoch 512 | GCN MSE Loss: 1.1443 | NRF Loss: 1.9333 | JOINT Loss: 3.0777 | NRF Acc: 0.7633\n"
     ]
    },
    {
     "name": "stderr",
     "output_type": "stream",
     "text": [
      "Training epochs:  51%|█████▏    | 513/1000 [10:14<08:19,  1.03s/it]"
     ]
    },
    {
     "name": "stdout",
     "output_type": "stream",
     "text": [
      "Epoch 513 | GCN MSE Loss: 1.1442 | NRF Loss: 1.9317 | JOINT Loss: 3.0759 | NRF Acc: 0.7633\n"
     ]
    },
    {
     "name": "stderr",
     "output_type": "stream",
     "text": [
      "Training epochs:  51%|█████▏    | 514/1000 [10:15<08:18,  1.03s/it]"
     ]
    },
    {
     "name": "stdout",
     "output_type": "stream",
     "text": [
      "Epoch 514 | GCN MSE Loss: 1.1441 | NRF Loss: 1.9300 | JOINT Loss: 3.0740 | NRF Acc: 0.7633\n"
     ]
    },
    {
     "name": "stderr",
     "output_type": "stream",
     "text": [
      "Training epochs:  52%|█████▏    | 515/1000 [10:16<08:17,  1.03s/it]"
     ]
    },
    {
     "name": "stdout",
     "output_type": "stream",
     "text": [
      "Epoch 515 | GCN MSE Loss: 1.1439 | NRF Loss: 1.9283 | JOINT Loss: 3.0722 | NRF Acc: 0.7632\n"
     ]
    },
    {
     "name": "stderr",
     "output_type": "stream",
     "text": [
      "Training epochs:  52%|█████▏    | 516/1000 [10:17<08:16,  1.03s/it]"
     ]
    },
    {
     "name": "stdout",
     "output_type": "stream",
     "text": [
      "Epoch 516 | GCN MSE Loss: 1.1438 | NRF Loss: 1.9266 | JOINT Loss: 3.0704 | NRF Acc: 0.7633\n"
     ]
    },
    {
     "name": "stderr",
     "output_type": "stream",
     "text": [
      "Training epochs:  52%|█████▏    | 517/1000 [10:18<08:15,  1.03s/it]"
     ]
    },
    {
     "name": "stdout",
     "output_type": "stream",
     "text": [
      "Epoch 517 | GCN MSE Loss: 1.1436 | NRF Loss: 1.9250 | JOINT Loss: 3.0686 | NRF Acc: 0.7632\n"
     ]
    },
    {
     "name": "stderr",
     "output_type": "stream",
     "text": [
      "Training epochs:  52%|█████▏    | 518/1000 [10:19<08:14,  1.03s/it]"
     ]
    },
    {
     "name": "stdout",
     "output_type": "stream",
     "text": [
      "Epoch 518 | GCN MSE Loss: 1.1435 | NRF Loss: 1.9233 | JOINT Loss: 3.0668 | NRF Acc: 0.7632\n"
     ]
    },
    {
     "name": "stderr",
     "output_type": "stream",
     "text": [
      "Training epochs:  52%|█████▏    | 519/1000 [10:20<08:14,  1.03s/it]"
     ]
    },
    {
     "name": "stdout",
     "output_type": "stream",
     "text": [
      "Epoch 519 | GCN MSE Loss: 1.1434 | NRF Loss: 1.9217 | JOINT Loss: 3.0650 | NRF Acc: 0.7632\n"
     ]
    },
    {
     "name": "stderr",
     "output_type": "stream",
     "text": [
      "Training epochs:  52%|█████▏    | 520/1000 [10:21<08:12,  1.03s/it]"
     ]
    },
    {
     "name": "stdout",
     "output_type": "stream",
     "text": [
      "Epoch 520 | GCN MSE Loss: 1.1432 | NRF Loss: 1.9200 | JOINT Loss: 3.0632 | NRF Acc: 0.7632\n"
     ]
    },
    {
     "name": "stderr",
     "output_type": "stream",
     "text": [
      "Training epochs:  52%|█████▏    | 521/1000 [10:22<08:11,  1.03s/it]"
     ]
    },
    {
     "name": "stdout",
     "output_type": "stream",
     "text": [
      "Epoch 521 | GCN MSE Loss: 1.1431 | NRF Loss: 1.9183 | JOINT Loss: 3.0614 | NRF Acc: 0.7633\n"
     ]
    },
    {
     "name": "stderr",
     "output_type": "stream",
     "text": [
      "Training epochs:  52%|█████▏    | 522/1000 [10:23<08:10,  1.03s/it]"
     ]
    },
    {
     "name": "stdout",
     "output_type": "stream",
     "text": [
      "Epoch 522 | GCN MSE Loss: 1.1429 | NRF Loss: 1.9167 | JOINT Loss: 3.0596 | NRF Acc: 0.7633\n"
     ]
    },
    {
     "name": "stderr",
     "output_type": "stream",
     "text": [
      "Training epochs:  52%|█████▏    | 523/1000 [10:24<08:09,  1.03s/it]"
     ]
    },
    {
     "name": "stdout",
     "output_type": "stream",
     "text": [
      "Epoch 523 | GCN MSE Loss: 1.1428 | NRF Loss: 1.9150 | JOINT Loss: 3.0578 | NRF Acc: 0.7633\n"
     ]
    },
    {
     "name": "stderr",
     "output_type": "stream",
     "text": [
      "Training epochs:  52%|█████▏    | 524/1000 [10:25<08:08,  1.03s/it]"
     ]
    },
    {
     "name": "stdout",
     "output_type": "stream",
     "text": [
      "Epoch 524 | GCN MSE Loss: 1.1427 | NRF Loss: 1.9134 | JOINT Loss: 3.0560 | NRF Acc: 0.7633\n"
     ]
    },
    {
     "name": "stderr",
     "output_type": "stream",
     "text": [
      "Training epochs:  52%|█████▎    | 525/1000 [10:26<08:06,  1.02s/it]"
     ]
    },
    {
     "name": "stdout",
     "output_type": "stream",
     "text": [
      "Epoch 525 | GCN MSE Loss: 1.1425 | NRF Loss: 1.9117 | JOINT Loss: 3.0543 | NRF Acc: 0.7633\n"
     ]
    },
    {
     "name": "stderr",
     "output_type": "stream",
     "text": [
      "Training epochs:  53%|█████▎    | 526/1000 [10:27<08:06,  1.03s/it]"
     ]
    },
    {
     "name": "stdout",
     "output_type": "stream",
     "text": [
      "Epoch 526 | GCN MSE Loss: 1.1424 | NRF Loss: 1.9101 | JOINT Loss: 3.0525 | NRF Acc: 0.7633\n"
     ]
    },
    {
     "name": "stderr",
     "output_type": "stream",
     "text": [
      "Training epochs:  53%|█████▎    | 527/1000 [10:28<08:05,  1.03s/it]"
     ]
    },
    {
     "name": "stdout",
     "output_type": "stream",
     "text": [
      "Epoch 527 | GCN MSE Loss: 1.1423 | NRF Loss: 1.9085 | JOINT Loss: 3.0507 | NRF Acc: 0.7633\n"
     ]
    },
    {
     "name": "stderr",
     "output_type": "stream",
     "text": [
      "Training epochs:  53%|█████▎    | 528/1000 [10:29<08:03,  1.02s/it]"
     ]
    },
    {
     "name": "stdout",
     "output_type": "stream",
     "text": [
      "Epoch 528 | GCN MSE Loss: 1.1421 | NRF Loss: 1.9068 | JOINT Loss: 3.0489 | NRF Acc: 0.7633\n"
     ]
    },
    {
     "name": "stderr",
     "output_type": "stream",
     "text": [
      "Training epochs:  53%|█████▎    | 529/1000 [10:30<08:02,  1.02s/it]"
     ]
    },
    {
     "name": "stdout",
     "output_type": "stream",
     "text": [
      "Epoch 529 | GCN MSE Loss: 1.1420 | NRF Loss: 1.9052 | JOINT Loss: 3.0472 | NRF Acc: 0.7633\n"
     ]
    },
    {
     "name": "stderr",
     "output_type": "stream",
     "text": [
      "Training epochs:  53%|█████▎    | 530/1000 [10:31<08:01,  1.02s/it]"
     ]
    },
    {
     "name": "stdout",
     "output_type": "stream",
     "text": [
      "Epoch 530 | GCN MSE Loss: 1.1419 | NRF Loss: 1.9036 | JOINT Loss: 3.0454 | NRF Acc: 0.7633\n"
     ]
    },
    {
     "name": "stderr",
     "output_type": "stream",
     "text": [
      "Training epochs:  53%|█████▎    | 531/1000 [10:32<08:00,  1.02s/it]"
     ]
    },
    {
     "name": "stdout",
     "output_type": "stream",
     "text": [
      "Epoch 531 | GCN MSE Loss: 1.1417 | NRF Loss: 1.9019 | JOINT Loss: 3.0436 | NRF Acc: 0.7633\n"
     ]
    },
    {
     "name": "stderr",
     "output_type": "stream",
     "text": [
      "Training epochs:  53%|█████▎    | 532/1000 [10:33<07:59,  1.03s/it]"
     ]
    },
    {
     "name": "stdout",
     "output_type": "stream",
     "text": [
      "Epoch 532 | GCN MSE Loss: 1.1416 | NRF Loss: 1.9003 | JOINT Loss: 3.0419 | NRF Acc: 0.7632\n"
     ]
    },
    {
     "name": "stderr",
     "output_type": "stream",
     "text": [
      "Training epochs:  53%|█████▎    | 533/1000 [10:34<07:58,  1.02s/it]"
     ]
    },
    {
     "name": "stdout",
     "output_type": "stream",
     "text": [
      "Epoch 533 | GCN MSE Loss: 1.1415 | NRF Loss: 1.8987 | JOINT Loss: 3.0401 | NRF Acc: 0.7632\n"
     ]
    },
    {
     "name": "stderr",
     "output_type": "stream",
     "text": [
      "Training epochs:  53%|█████▎    | 534/1000 [10:35<07:57,  1.02s/it]"
     ]
    },
    {
     "name": "stdout",
     "output_type": "stream",
     "text": [
      "Epoch 534 | GCN MSE Loss: 1.1413 | NRF Loss: 1.8970 | JOINT Loss: 3.0384 | NRF Acc: 0.7632\n"
     ]
    },
    {
     "name": "stderr",
     "output_type": "stream",
     "text": [
      "Training epochs:  54%|█████▎    | 535/1000 [10:36<07:56,  1.02s/it]"
     ]
    },
    {
     "name": "stdout",
     "output_type": "stream",
     "text": [
      "Epoch 535 | GCN MSE Loss: 1.1412 | NRF Loss: 1.8954 | JOINT Loss: 3.0366 | NRF Acc: 0.7632\n"
     ]
    },
    {
     "name": "stderr",
     "output_type": "stream",
     "text": [
      "Training epochs:  54%|█████▎    | 536/1000 [10:37<07:55,  1.02s/it]"
     ]
    },
    {
     "name": "stdout",
     "output_type": "stream",
     "text": [
      "Epoch 536 | GCN MSE Loss: 1.1411 | NRF Loss: 1.8938 | JOINT Loss: 3.0349 | NRF Acc: 0.7633\n"
     ]
    },
    {
     "name": "stderr",
     "output_type": "stream",
     "text": [
      "Training epochs:  54%|█████▎    | 537/1000 [10:38<07:54,  1.02s/it]"
     ]
    },
    {
     "name": "stdout",
     "output_type": "stream",
     "text": [
      "Epoch 537 | GCN MSE Loss: 1.1409 | NRF Loss: 1.8922 | JOINT Loss: 3.0331 | NRF Acc: 0.7633\n"
     ]
    },
    {
     "name": "stderr",
     "output_type": "stream",
     "text": [
      "Training epochs:  54%|█████▍    | 538/1000 [10:39<07:53,  1.03s/it]"
     ]
    },
    {
     "name": "stdout",
     "output_type": "stream",
     "text": [
      "Epoch 538 | GCN MSE Loss: 1.1408 | NRF Loss: 1.8906 | JOINT Loss: 3.0314 | NRF Acc: 0.7633\n"
     ]
    },
    {
     "name": "stderr",
     "output_type": "stream",
     "text": [
      "Training epochs:  54%|█████▍    | 539/1000 [10:40<07:53,  1.03s/it]"
     ]
    },
    {
     "name": "stdout",
     "output_type": "stream",
     "text": [
      "Epoch 539 | GCN MSE Loss: 1.1407 | NRF Loss: 1.8890 | JOINT Loss: 3.0296 | NRF Acc: 0.7633\n"
     ]
    },
    {
     "name": "stderr",
     "output_type": "stream",
     "text": [
      "Training epochs:  54%|█████▍    | 540/1000 [10:41<07:52,  1.03s/it]"
     ]
    },
    {
     "name": "stdout",
     "output_type": "stream",
     "text": [
      "Epoch 540 | GCN MSE Loss: 1.1406 | NRF Loss: 1.8874 | JOINT Loss: 3.0279 | NRF Acc: 0.7633\n"
     ]
    },
    {
     "name": "stderr",
     "output_type": "stream",
     "text": [
      "Training epochs:  54%|█████▍    | 541/1000 [10:42<07:51,  1.03s/it]"
     ]
    },
    {
     "name": "stdout",
     "output_type": "stream",
     "text": [
      "Epoch 541 | GCN MSE Loss: 1.1404 | NRF Loss: 1.8858 | JOINT Loss: 3.0262 | NRF Acc: 0.7633\n"
     ]
    },
    {
     "name": "stderr",
     "output_type": "stream",
     "text": [
      "Training epochs:  54%|█████▍    | 542/1000 [10:43<07:50,  1.03s/it]"
     ]
    },
    {
     "name": "stdout",
     "output_type": "stream",
     "text": [
      "Epoch 542 | GCN MSE Loss: 1.1403 | NRF Loss: 1.8841 | JOINT Loss: 3.0244 | NRF Acc: 0.7633\n"
     ]
    },
    {
     "name": "stderr",
     "output_type": "stream",
     "text": [
      "Training epochs:  54%|█████▍    | 543/1000 [10:45<08:45,  1.15s/it]"
     ]
    },
    {
     "name": "stdout",
     "output_type": "stream",
     "text": [
      "Epoch 543 | GCN MSE Loss: 1.1402 | NRF Loss: 1.8825 | JOINT Loss: 3.0227 | NRF Acc: 0.7635\n"
     ]
    },
    {
     "name": "stderr",
     "output_type": "stream",
     "text": [
      "Training epochs:  54%|█████▍    | 544/1000 [10:46<08:26,  1.11s/it]"
     ]
    },
    {
     "name": "stdout",
     "output_type": "stream",
     "text": [
      "Epoch 544 | GCN MSE Loss: 1.1401 | NRF Loss: 1.8809 | JOINT Loss: 3.0210 | NRF Acc: 0.7635\n"
     ]
    },
    {
     "name": "stderr",
     "output_type": "stream",
     "text": [
      "Training epochs:  55%|█████▍    | 545/1000 [10:47<08:14,  1.09s/it]"
     ]
    },
    {
     "name": "stdout",
     "output_type": "stream",
     "text": [
      "Epoch 545 | GCN MSE Loss: 1.1399 | NRF Loss: 1.8793 | JOINT Loss: 3.0193 | NRF Acc: 0.7635\n"
     ]
    },
    {
     "name": "stderr",
     "output_type": "stream",
     "text": [
      "Training epochs:  55%|█████▍    | 546/1000 [10:48<08:05,  1.07s/it]"
     ]
    },
    {
     "name": "stdout",
     "output_type": "stream",
     "text": [
      "Epoch 546 | GCN MSE Loss: 1.1398 | NRF Loss: 1.8777 | JOINT Loss: 3.0176 | NRF Acc: 0.7635\n"
     ]
    },
    {
     "name": "stderr",
     "output_type": "stream",
     "text": [
      "Training epochs:  55%|█████▍    | 547/1000 [10:49<07:58,  1.06s/it]"
     ]
    },
    {
     "name": "stdout",
     "output_type": "stream",
     "text": [
      "Epoch 547 | GCN MSE Loss: 1.1397 | NRF Loss: 1.8762 | JOINT Loss: 3.0158 | NRF Acc: 0.7635\n"
     ]
    },
    {
     "name": "stderr",
     "output_type": "stream",
     "text": [
      "Training epochs:  55%|█████▍    | 548/1000 [10:50<08:50,  1.17s/it]"
     ]
    },
    {
     "name": "stdout",
     "output_type": "stream",
     "text": [
      "Epoch 548 | GCN MSE Loss: 1.1396 | NRF Loss: 1.8746 | JOINT Loss: 3.0141 | NRF Acc: 0.7637\n"
     ]
    },
    {
     "name": "stderr",
     "output_type": "stream",
     "text": [
      "Training epochs:  55%|█████▍    | 549/1000 [10:51<08:29,  1.13s/it]"
     ]
    },
    {
     "name": "stdout",
     "output_type": "stream",
     "text": [
      "Epoch 549 | GCN MSE Loss: 1.1394 | NRF Loss: 1.8730 | JOINT Loss: 3.0124 | NRF Acc: 0.7635\n"
     ]
    },
    {
     "name": "stderr",
     "output_type": "stream",
     "text": [
      "Training epochs:  55%|█████▌    | 550/1000 [10:52<08:14,  1.10s/it]"
     ]
    },
    {
     "name": "stdout",
     "output_type": "stream",
     "text": [
      "Epoch 550 | GCN MSE Loss: 1.1393 | NRF Loss: 1.8714 | JOINT Loss: 3.0107 | NRF Acc: 0.7635\n"
     ]
    },
    {
     "name": "stderr",
     "output_type": "stream",
     "text": [
      "Training epochs:  55%|█████▌    | 551/1000 [10:53<08:03,  1.08s/it]"
     ]
    },
    {
     "name": "stdout",
     "output_type": "stream",
     "text": [
      "Epoch 551 | GCN MSE Loss: 1.1392 | NRF Loss: 1.8698 | JOINT Loss: 3.0090 | NRF Acc: 0.7635\n"
     ]
    },
    {
     "name": "stderr",
     "output_type": "stream",
     "text": [
      "Training epochs:  55%|█████▌    | 552/1000 [10:54<07:55,  1.06s/it]"
     ]
    },
    {
     "name": "stdout",
     "output_type": "stream",
     "text": [
      "Epoch 552 | GCN MSE Loss: 1.1391 | NRF Loss: 1.8682 | JOINT Loss: 3.0073 | NRF Acc: 0.7635\n"
     ]
    },
    {
     "name": "stderr",
     "output_type": "stream",
     "text": [
      "Training epochs:  55%|█████▌    | 553/1000 [10:55<07:49,  1.05s/it]"
     ]
    },
    {
     "name": "stdout",
     "output_type": "stream",
     "text": [
      "Epoch 553 | GCN MSE Loss: 1.1390 | NRF Loss: 1.8666 | JOINT Loss: 3.0056 | NRF Acc: 0.7635\n"
     ]
    },
    {
     "name": "stderr",
     "output_type": "stream",
     "text": [
      "Training epochs:  55%|█████▌    | 554/1000 [10:56<07:45,  1.04s/it]"
     ]
    },
    {
     "name": "stdout",
     "output_type": "stream",
     "text": [
      "Epoch 554 | GCN MSE Loss: 1.1389 | NRF Loss: 1.8650 | JOINT Loss: 3.0039 | NRF Acc: 0.7635\n"
     ]
    },
    {
     "name": "stderr",
     "output_type": "stream",
     "text": [
      "Training epochs:  56%|█████▌    | 555/1000 [10:57<07:41,  1.04s/it]"
     ]
    },
    {
     "name": "stdout",
     "output_type": "stream",
     "text": [
      "Epoch 555 | GCN MSE Loss: 1.1387 | NRF Loss: 1.8635 | JOINT Loss: 3.0022 | NRF Acc: 0.7637\n"
     ]
    },
    {
     "name": "stderr",
     "output_type": "stream",
     "text": [
      "Training epochs:  56%|█████▌    | 556/1000 [10:58<07:39,  1.03s/it]"
     ]
    },
    {
     "name": "stdout",
     "output_type": "stream",
     "text": [
      "Epoch 556 | GCN MSE Loss: 1.1386 | NRF Loss: 1.8619 | JOINT Loss: 3.0005 | NRF Acc: 0.7637\n"
     ]
    },
    {
     "name": "stderr",
     "output_type": "stream",
     "text": [
      "Training epochs:  56%|█████▌    | 557/1000 [11:00<07:37,  1.03s/it]"
     ]
    },
    {
     "name": "stdout",
     "output_type": "stream",
     "text": [
      "Epoch 557 | GCN MSE Loss: 1.1385 | NRF Loss: 1.8603 | JOINT Loss: 2.9988 | NRF Acc: 0.7635\n"
     ]
    },
    {
     "name": "stderr",
     "output_type": "stream",
     "text": [
      "Training epochs:  56%|█████▌    | 558/1000 [11:01<07:34,  1.03s/it]"
     ]
    },
    {
     "name": "stdout",
     "output_type": "stream",
     "text": [
      "Epoch 558 | GCN MSE Loss: 1.1384 | NRF Loss: 1.8587 | JOINT Loss: 2.9971 | NRF Acc: 0.7637\n"
     ]
    },
    {
     "name": "stderr",
     "output_type": "stream",
     "text": [
      "Training epochs:  56%|█████▌    | 559/1000 [11:02<07:31,  1.02s/it]"
     ]
    },
    {
     "name": "stdout",
     "output_type": "stream",
     "text": [
      "Epoch 559 | GCN MSE Loss: 1.1383 | NRF Loss: 1.8572 | JOINT Loss: 2.9954 | NRF Acc: 0.7637\n"
     ]
    },
    {
     "name": "stderr",
     "output_type": "stream",
     "text": [
      "Training epochs:  56%|█████▌    | 560/1000 [11:03<07:30,  1.02s/it]"
     ]
    },
    {
     "name": "stdout",
     "output_type": "stream",
     "text": [
      "Epoch 560 | GCN MSE Loss: 1.1382 | NRF Loss: 1.8556 | JOINT Loss: 2.9938 | NRF Acc: 0.7637\n"
     ]
    },
    {
     "name": "stderr",
     "output_type": "stream",
     "text": [
      "Training epochs:  56%|█████▌    | 561/1000 [11:04<07:29,  1.03s/it]"
     ]
    },
    {
     "name": "stdout",
     "output_type": "stream",
     "text": [
      "Epoch 561 | GCN MSE Loss: 1.1381 | NRF Loss: 1.8540 | JOINT Loss: 2.9921 | NRF Acc: 0.7637\n"
     ]
    },
    {
     "name": "stderr",
     "output_type": "stream",
     "text": [
      "Training epochs:  56%|█████▌    | 562/1000 [11:05<07:28,  1.02s/it]"
     ]
    },
    {
     "name": "stdout",
     "output_type": "stream",
     "text": [
      "Epoch 562 | GCN MSE Loss: 1.1379 | NRF Loss: 1.8525 | JOINT Loss: 2.9904 | NRF Acc: 0.7637\n"
     ]
    },
    {
     "name": "stderr",
     "output_type": "stream",
     "text": [
      "Training epochs:  56%|█████▋    | 563/1000 [11:06<07:28,  1.03s/it]"
     ]
    },
    {
     "name": "stdout",
     "output_type": "stream",
     "text": [
      "Epoch 563 | GCN MSE Loss: 1.1378 | NRF Loss: 1.8509 | JOINT Loss: 2.9887 | NRF Acc: 0.7637\n"
     ]
    },
    {
     "name": "stderr",
     "output_type": "stream",
     "text": [
      "Training epochs:  56%|█████▋    | 564/1000 [11:07<08:22,  1.15s/it]"
     ]
    },
    {
     "name": "stdout",
     "output_type": "stream",
     "text": [
      "Epoch 564 | GCN MSE Loss: 1.1377 | NRF Loss: 1.8493 | JOINT Loss: 2.9871 | NRF Acc: 0.7639\n"
     ]
    },
    {
     "name": "stderr",
     "output_type": "stream",
     "text": [
      "Training epochs:  56%|█████▋    | 565/1000 [11:08<08:04,  1.11s/it]"
     ]
    },
    {
     "name": "stdout",
     "output_type": "stream",
     "text": [
      "Epoch 565 | GCN MSE Loss: 1.1376 | NRF Loss: 1.8478 | JOINT Loss: 2.9854 | NRF Acc: 0.7639\n"
     ]
    },
    {
     "name": "stderr",
     "output_type": "stream",
     "text": [
      "Training epochs:  57%|█████▋    | 566/1000 [11:10<08:51,  1.22s/it]"
     ]
    },
    {
     "name": "stdout",
     "output_type": "stream",
     "text": [
      "Epoch 566 | GCN MSE Loss: 1.1375 | NRF Loss: 1.8462 | JOINT Loss: 2.9837 | NRF Acc: 0.7642\n"
     ]
    },
    {
     "name": "stderr",
     "output_type": "stream",
     "text": [
      "Training epochs:  57%|█████▋    | 567/1000 [11:11<08:24,  1.16s/it]"
     ]
    },
    {
     "name": "stdout",
     "output_type": "stream",
     "text": [
      "Epoch 567 | GCN MSE Loss: 1.1374 | NRF Loss: 1.8447 | JOINT Loss: 2.9821 | NRF Acc: 0.7642\n"
     ]
    },
    {
     "name": "stderr",
     "output_type": "stream",
     "text": [
      "Training epochs:  57%|█████▋    | 568/1000 [11:12<08:05,  1.12s/it]"
     ]
    },
    {
     "name": "stdout",
     "output_type": "stream",
     "text": [
      "Epoch 568 | GCN MSE Loss: 1.1373 | NRF Loss: 1.8431 | JOINT Loss: 2.9804 | NRF Acc: 0.7640\n"
     ]
    },
    {
     "name": "stderr",
     "output_type": "stream",
     "text": [
      "Training epochs:  57%|█████▋    | 569/1000 [11:13<07:51,  1.09s/it]"
     ]
    },
    {
     "name": "stdout",
     "output_type": "stream",
     "text": [
      "Epoch 569 | GCN MSE Loss: 1.1372 | NRF Loss: 1.8416 | JOINT Loss: 2.9787 | NRF Acc: 0.7640\n"
     ]
    },
    {
     "name": "stderr",
     "output_type": "stream",
     "text": [
      "Training epochs:  57%|█████▋    | 570/1000 [11:14<07:41,  1.07s/it]"
     ]
    },
    {
     "name": "stdout",
     "output_type": "stream",
     "text": [
      "Epoch 570 | GCN MSE Loss: 1.1371 | NRF Loss: 1.8400 | JOINT Loss: 2.9771 | NRF Acc: 0.7639\n"
     ]
    },
    {
     "name": "stderr",
     "output_type": "stream",
     "text": [
      "Training epochs:  57%|█████▋    | 571/1000 [11:15<07:34,  1.06s/it]"
     ]
    },
    {
     "name": "stdout",
     "output_type": "stream",
     "text": [
      "Epoch 571 | GCN MSE Loss: 1.1370 | NRF Loss: 1.8385 | JOINT Loss: 2.9754 | NRF Acc: 0.7639\n"
     ]
    },
    {
     "name": "stderr",
     "output_type": "stream",
     "text": [
      "Training epochs:  57%|█████▋    | 572/1000 [11:16<07:29,  1.05s/it]"
     ]
    },
    {
     "name": "stdout",
     "output_type": "stream",
     "text": [
      "Epoch 572 | GCN MSE Loss: 1.1368 | NRF Loss: 1.8369 | JOINT Loss: 2.9738 | NRF Acc: 0.7639\n"
     ]
    },
    {
     "name": "stderr",
     "output_type": "stream",
     "text": [
      "Training epochs:  57%|█████▋    | 573/1000 [11:17<07:25,  1.04s/it]"
     ]
    },
    {
     "name": "stdout",
     "output_type": "stream",
     "text": [
      "Epoch 573 | GCN MSE Loss: 1.1367 | NRF Loss: 1.8354 | JOINT Loss: 2.9721 | NRF Acc: 0.7639\n"
     ]
    },
    {
     "name": "stderr",
     "output_type": "stream",
     "text": [
      "Training epochs:  57%|█████▋    | 574/1000 [11:18<07:22,  1.04s/it]"
     ]
    },
    {
     "name": "stdout",
     "output_type": "stream",
     "text": [
      "Epoch 574 | GCN MSE Loss: 1.1366 | NRF Loss: 1.8338 | JOINT Loss: 2.9705 | NRF Acc: 0.7640\n"
     ]
    },
    {
     "name": "stderr",
     "output_type": "stream",
     "text": [
      "Training epochs:  57%|█████▊    | 575/1000 [11:19<07:19,  1.03s/it]"
     ]
    },
    {
     "name": "stdout",
     "output_type": "stream",
     "text": [
      "Epoch 575 | GCN MSE Loss: 1.1365 | NRF Loss: 1.8323 | JOINT Loss: 2.9688 | NRF Acc: 0.7640\n"
     ]
    },
    {
     "name": "stderr",
     "output_type": "stream",
     "text": [
      "Training epochs:  58%|█████▊    | 576/1000 [11:20<07:17,  1.03s/it]"
     ]
    },
    {
     "name": "stdout",
     "output_type": "stream",
     "text": [
      "Epoch 576 | GCN MSE Loss: 1.1364 | NRF Loss: 1.8308 | JOINT Loss: 2.9672 | NRF Acc: 0.7640\n"
     ]
    },
    {
     "name": "stderr",
     "output_type": "stream",
     "text": [
      "Training epochs:  58%|█████▊    | 577/1000 [11:21<07:15,  1.03s/it]"
     ]
    },
    {
     "name": "stdout",
     "output_type": "stream",
     "text": [
      "Epoch 577 | GCN MSE Loss: 1.1363 | NRF Loss: 1.8292 | JOINT Loss: 2.9655 | NRF Acc: 0.7640\n"
     ]
    },
    {
     "name": "stderr",
     "output_type": "stream",
     "text": [
      "Training epochs:  58%|█████▊    | 578/1000 [11:22<07:14,  1.03s/it]"
     ]
    },
    {
     "name": "stdout",
     "output_type": "stream",
     "text": [
      "Epoch 578 | GCN MSE Loss: 1.1362 | NRF Loss: 1.8277 | JOINT Loss: 2.9639 | NRF Acc: 0.7640\n"
     ]
    },
    {
     "name": "stderr",
     "output_type": "stream",
     "text": [
      "Training epochs:  58%|█████▊    | 579/1000 [11:23<07:13,  1.03s/it]"
     ]
    },
    {
     "name": "stdout",
     "output_type": "stream",
     "text": [
      "Epoch 579 | GCN MSE Loss: 1.1361 | NRF Loss: 1.8262 | JOINT Loss: 2.9623 | NRF Acc: 0.7640\n"
     ]
    },
    {
     "name": "stderr",
     "output_type": "stream",
     "text": [
      "Training epochs:  58%|█████▊    | 580/1000 [11:24<07:12,  1.03s/it]"
     ]
    },
    {
     "name": "stdout",
     "output_type": "stream",
     "text": [
      "Epoch 580 | GCN MSE Loss: 1.1360 | NRF Loss: 1.8246 | JOINT Loss: 2.9606 | NRF Acc: 0.7640\n"
     ]
    },
    {
     "name": "stderr",
     "output_type": "stream",
     "text": [
      "Training epochs:  58%|█████▊    | 581/1000 [11:25<07:10,  1.03s/it]"
     ]
    },
    {
     "name": "stdout",
     "output_type": "stream",
     "text": [
      "Epoch 581 | GCN MSE Loss: 1.1359 | NRF Loss: 1.8231 | JOINT Loss: 2.9590 | NRF Acc: 0.7640\n"
     ]
    },
    {
     "name": "stderr",
     "output_type": "stream",
     "text": [
      "Training epochs:  58%|█████▊    | 582/1000 [11:26<07:09,  1.03s/it]"
     ]
    },
    {
     "name": "stdout",
     "output_type": "stream",
     "text": [
      "Epoch 582 | GCN MSE Loss: 1.1358 | NRF Loss: 1.8216 | JOINT Loss: 2.9574 | NRF Acc: 0.7640\n"
     ]
    },
    {
     "name": "stderr",
     "output_type": "stream",
     "text": [
      "Training epochs:  58%|█████▊    | 583/1000 [11:27<07:08,  1.03s/it]"
     ]
    },
    {
     "name": "stdout",
     "output_type": "stream",
     "text": [
      "Epoch 583 | GCN MSE Loss: 1.1357 | NRF Loss: 1.8201 | JOINT Loss: 2.9558 | NRF Acc: 0.7640\n"
     ]
    },
    {
     "name": "stderr",
     "output_type": "stream",
     "text": [
      "Training epochs:  58%|█████▊    | 584/1000 [11:28<07:07,  1.03s/it]"
     ]
    },
    {
     "name": "stdout",
     "output_type": "stream",
     "text": [
      "Epoch 584 | GCN MSE Loss: 1.1356 | NRF Loss: 1.8185 | JOINT Loss: 2.9541 | NRF Acc: 0.7640\n"
     ]
    },
    {
     "name": "stderr",
     "output_type": "stream",
     "text": [
      "Training epochs:  58%|█████▊    | 585/1000 [11:29<07:05,  1.03s/it]"
     ]
    },
    {
     "name": "stdout",
     "output_type": "stream",
     "text": [
      "Epoch 585 | GCN MSE Loss: 1.1355 | NRF Loss: 1.8170 | JOINT Loss: 2.9525 | NRF Acc: 0.7640\n"
     ]
    },
    {
     "name": "stderr",
     "output_type": "stream",
     "text": [
      "Training epochs:  59%|█████▊    | 586/1000 [11:30<07:04,  1.03s/it]"
     ]
    },
    {
     "name": "stdout",
     "output_type": "stream",
     "text": [
      "Epoch 586 | GCN MSE Loss: 1.1354 | NRF Loss: 1.8155 | JOINT Loss: 2.9509 | NRF Acc: 0.7640\n"
     ]
    },
    {
     "name": "stderr",
     "output_type": "stream",
     "text": [
      "Training epochs:  59%|█████▊    | 587/1000 [11:31<07:03,  1.02s/it]"
     ]
    },
    {
     "name": "stdout",
     "output_type": "stream",
     "text": [
      "Epoch 587 | GCN MSE Loss: 1.1353 | NRF Loss: 1.8140 | JOINT Loss: 2.9493 | NRF Acc: 0.7640\n"
     ]
    },
    {
     "name": "stderr",
     "output_type": "stream",
     "text": [
      "Training epochs:  59%|█████▉    | 588/1000 [11:32<07:02,  1.03s/it]"
     ]
    },
    {
     "name": "stdout",
     "output_type": "stream",
     "text": [
      "Epoch 588 | GCN MSE Loss: 1.1352 | NRF Loss: 1.8125 | JOINT Loss: 2.9477 | NRF Acc: 0.7640\n"
     ]
    },
    {
     "name": "stderr",
     "output_type": "stream",
     "text": [
      "Training epochs:  59%|█████▉    | 589/1000 [11:33<07:01,  1.03s/it]"
     ]
    },
    {
     "name": "stdout",
     "output_type": "stream",
     "text": [
      "Epoch 589 | GCN MSE Loss: 1.1351 | NRF Loss: 1.8110 | JOINT Loss: 2.9461 | NRF Acc: 0.7639\n"
     ]
    },
    {
     "name": "stderr",
     "output_type": "stream",
     "text": [
      "Training epochs:  59%|█████▉    | 590/1000 [11:34<07:00,  1.03s/it]"
     ]
    },
    {
     "name": "stdout",
     "output_type": "stream",
     "text": [
      "Epoch 590 | GCN MSE Loss: 1.1350 | NRF Loss: 1.8095 | JOINT Loss: 2.9445 | NRF Acc: 0.7639\n"
     ]
    },
    {
     "name": "stderr",
     "output_type": "stream",
     "text": [
      "Training epochs:  59%|█████▉    | 591/1000 [11:35<06:59,  1.03s/it]"
     ]
    },
    {
     "name": "stdout",
     "output_type": "stream",
     "text": [
      "Epoch 591 | GCN MSE Loss: 1.1349 | NRF Loss: 1.8079 | JOINT Loss: 2.9429 | NRF Acc: 0.7639\n"
     ]
    },
    {
     "name": "stderr",
     "output_type": "stream",
     "text": [
      "Training epochs:  59%|█████▉    | 592/1000 [11:36<06:58,  1.03s/it]"
     ]
    },
    {
     "name": "stdout",
     "output_type": "stream",
     "text": [
      "Epoch 592 | GCN MSE Loss: 1.1348 | NRF Loss: 1.8064 | JOINT Loss: 2.9413 | NRF Acc: 0.7639\n"
     ]
    },
    {
     "name": "stderr",
     "output_type": "stream",
     "text": [
      "Training epochs:  59%|█████▉    | 593/1000 [11:37<06:57,  1.03s/it]"
     ]
    },
    {
     "name": "stdout",
     "output_type": "stream",
     "text": [
      "Epoch 593 | GCN MSE Loss: 1.1347 | NRF Loss: 1.8049 | JOINT Loss: 2.9397 | NRF Acc: 0.7639\n"
     ]
    },
    {
     "name": "stderr",
     "output_type": "stream",
     "text": [
      "Training epochs:  59%|█████▉    | 594/1000 [11:38<06:56,  1.03s/it]"
     ]
    },
    {
     "name": "stdout",
     "output_type": "stream",
     "text": [
      "Epoch 594 | GCN MSE Loss: 1.1346 | NRF Loss: 1.8034 | JOINT Loss: 2.9381 | NRF Acc: 0.7637\n"
     ]
    },
    {
     "name": "stderr",
     "output_type": "stream",
     "text": [
      "Training epochs:  60%|█████▉    | 595/1000 [11:39<06:55,  1.03s/it]"
     ]
    },
    {
     "name": "stdout",
     "output_type": "stream",
     "text": [
      "Epoch 595 | GCN MSE Loss: 1.1345 | NRF Loss: 1.8019 | JOINT Loss: 2.9365 | NRF Acc: 0.7639\n"
     ]
    },
    {
     "name": "stderr",
     "output_type": "stream",
     "text": [
      "Training epochs:  60%|█████▉    | 596/1000 [11:40<06:54,  1.03s/it]"
     ]
    },
    {
     "name": "stdout",
     "output_type": "stream",
     "text": [
      "Epoch 596 | GCN MSE Loss: 1.1344 | NRF Loss: 1.8004 | JOINT Loss: 2.9349 | NRF Acc: 0.7639\n"
     ]
    },
    {
     "name": "stderr",
     "output_type": "stream",
     "text": [
      "Training epochs:  60%|█████▉    | 597/1000 [11:41<06:53,  1.03s/it]"
     ]
    },
    {
     "name": "stdout",
     "output_type": "stream",
     "text": [
      "Epoch 597 | GCN MSE Loss: 1.1343 | NRF Loss: 1.7989 | JOINT Loss: 2.9333 | NRF Acc: 0.7639\n"
     ]
    },
    {
     "name": "stderr",
     "output_type": "stream",
     "text": [
      "Training epochs:  60%|█████▉    | 598/1000 [11:42<06:52,  1.03s/it]"
     ]
    },
    {
     "name": "stdout",
     "output_type": "stream",
     "text": [
      "Epoch 598 | GCN MSE Loss: 1.1342 | NRF Loss: 1.7974 | JOINT Loss: 2.9317 | NRF Acc: 0.7639\n"
     ]
    },
    {
     "name": "stderr",
     "output_type": "stream",
     "text": [
      "Training epochs:  60%|█████▉    | 599/1000 [11:43<06:51,  1.03s/it]"
     ]
    },
    {
     "name": "stdout",
     "output_type": "stream",
     "text": [
      "Epoch 599 | GCN MSE Loss: 1.1342 | NRF Loss: 1.7959 | JOINT Loss: 2.9301 | NRF Acc: 0.7639\n"
     ]
    },
    {
     "name": "stderr",
     "output_type": "stream",
     "text": [
      "Training epochs:  60%|██████    | 600/1000 [11:45<06:50,  1.03s/it]"
     ]
    },
    {
     "name": "stdout",
     "output_type": "stream",
     "text": [
      "Epoch 600 | GCN MSE Loss: 1.1341 | NRF Loss: 1.7945 | JOINT Loss: 2.9285 | NRF Acc: 0.7639\n"
     ]
    },
    {
     "name": "stderr",
     "output_type": "stream",
     "text": [
      "Training epochs:  60%|██████    | 601/1000 [11:46<06:49,  1.03s/it]"
     ]
    },
    {
     "name": "stdout",
     "output_type": "stream",
     "text": [
      "Epoch 601 | GCN MSE Loss: 1.1340 | NRF Loss: 1.7930 | JOINT Loss: 2.9269 | NRF Acc: 0.7639\n"
     ]
    },
    {
     "name": "stderr",
     "output_type": "stream",
     "text": [
      "Training epochs:  60%|██████    | 602/1000 [11:47<06:48,  1.03s/it]"
     ]
    },
    {
     "name": "stdout",
     "output_type": "stream",
     "text": [
      "Epoch 602 | GCN MSE Loss: 1.1339 | NRF Loss: 1.7915 | JOINT Loss: 2.9254 | NRF Acc: 0.7639\n"
     ]
    },
    {
     "name": "stderr",
     "output_type": "stream",
     "text": [
      "Training epochs:  60%|██████    | 603/1000 [11:48<06:47,  1.03s/it]"
     ]
    },
    {
     "name": "stdout",
     "output_type": "stream",
     "text": [
      "Epoch 603 | GCN MSE Loss: 1.1338 | NRF Loss: 1.7900 | JOINT Loss: 2.9238 | NRF Acc: 0.7639\n"
     ]
    },
    {
     "name": "stderr",
     "output_type": "stream",
     "text": [
      "Training epochs:  60%|██████    | 604/1000 [11:49<06:45,  1.02s/it]"
     ]
    },
    {
     "name": "stdout",
     "output_type": "stream",
     "text": [
      "Epoch 604 | GCN MSE Loss: 1.1337 | NRF Loss: 1.7885 | JOINT Loss: 2.9222 | NRF Acc: 0.7639\n"
     ]
    },
    {
     "name": "stderr",
     "output_type": "stream",
     "text": [
      "Training epochs:  60%|██████    | 605/1000 [11:50<06:44,  1.03s/it]"
     ]
    },
    {
     "name": "stdout",
     "output_type": "stream",
     "text": [
      "Epoch 605 | GCN MSE Loss: 1.1336 | NRF Loss: 1.7870 | JOINT Loss: 2.9206 | NRF Acc: 0.7642\n"
     ]
    },
    {
     "name": "stderr",
     "output_type": "stream",
     "text": [
      "Training epochs:  61%|██████    | 606/1000 [11:51<06:43,  1.03s/it]"
     ]
    },
    {
     "name": "stdout",
     "output_type": "stream",
     "text": [
      "Epoch 606 | GCN MSE Loss: 1.1335 | NRF Loss: 1.7856 | JOINT Loss: 2.9191 | NRF Acc: 0.7642\n"
     ]
    },
    {
     "name": "stderr",
     "output_type": "stream",
     "text": [
      "Training epochs:  61%|██████    | 607/1000 [11:52<06:43,  1.03s/it]"
     ]
    },
    {
     "name": "stdout",
     "output_type": "stream",
     "text": [
      "Epoch 607 | GCN MSE Loss: 1.1334 | NRF Loss: 1.7841 | JOINT Loss: 2.9175 | NRF Acc: 0.7642\n"
     ]
    },
    {
     "name": "stderr",
     "output_type": "stream",
     "text": [
      "Training epochs:  61%|██████    | 608/1000 [11:53<06:41,  1.03s/it]"
     ]
    },
    {
     "name": "stdout",
     "output_type": "stream",
     "text": [
      "Epoch 608 | GCN MSE Loss: 1.1333 | NRF Loss: 1.7826 | JOINT Loss: 2.9159 | NRF Acc: 0.7642\n"
     ]
    },
    {
     "name": "stderr",
     "output_type": "stream",
     "text": [
      "Training epochs:  61%|██████    | 609/1000 [11:54<06:40,  1.03s/it]"
     ]
    },
    {
     "name": "stdout",
     "output_type": "stream",
     "text": [
      "Epoch 609 | GCN MSE Loss: 1.1332 | NRF Loss: 1.7811 | JOINT Loss: 2.9144 | NRF Acc: 0.7642\n"
     ]
    },
    {
     "name": "stderr",
     "output_type": "stream",
     "text": [
      "Training epochs:  61%|██████    | 610/1000 [11:55<06:39,  1.02s/it]"
     ]
    },
    {
     "name": "stdout",
     "output_type": "stream",
     "text": [
      "Epoch 610 | GCN MSE Loss: 1.1331 | NRF Loss: 1.7797 | JOINT Loss: 2.9128 | NRF Acc: 0.7642\n"
     ]
    },
    {
     "name": "stderr",
     "output_type": "stream",
     "text": [
      "Training epochs:  61%|██████    | 611/1000 [11:56<07:30,  1.16s/it]"
     ]
    },
    {
     "name": "stdout",
     "output_type": "stream",
     "text": [
      "Epoch 611 | GCN MSE Loss: 1.1330 | NRF Loss: 1.7782 | JOINT Loss: 2.9112 | NRF Acc: 0.7644\n"
     ]
    },
    {
     "name": "stderr",
     "output_type": "stream",
     "text": [
      "Training epochs:  61%|██████    | 612/1000 [11:57<07:13,  1.12s/it]"
     ]
    },
    {
     "name": "stdout",
     "output_type": "stream",
     "text": [
      "Epoch 612 | GCN MSE Loss: 1.1330 | NRF Loss: 1.7767 | JOINT Loss: 2.9097 | NRF Acc: 0.7644\n"
     ]
    },
    {
     "name": "stderr",
     "output_type": "stream",
     "text": [
      "Training epochs:  61%|██████▏   | 613/1000 [11:58<07:01,  1.09s/it]"
     ]
    },
    {
     "name": "stdout",
     "output_type": "stream",
     "text": [
      "Epoch 613 | GCN MSE Loss: 1.1329 | NRF Loss: 1.7753 | JOINT Loss: 2.9081 | NRF Acc: 0.7644\n"
     ]
    },
    {
     "name": "stderr",
     "output_type": "stream",
     "text": [
      "Training epochs:  61%|██████▏   | 614/1000 [11:59<06:53,  1.07s/it]"
     ]
    },
    {
     "name": "stdout",
     "output_type": "stream",
     "text": [
      "Epoch 614 | GCN MSE Loss: 1.1328 | NRF Loss: 1.7738 | JOINT Loss: 2.9066 | NRF Acc: 0.7644\n"
     ]
    },
    {
     "name": "stderr",
     "output_type": "stream",
     "text": [
      "Training epochs:  62%|██████▏   | 615/1000 [12:00<06:47,  1.06s/it]"
     ]
    },
    {
     "name": "stdout",
     "output_type": "stream",
     "text": [
      "Epoch 615 | GCN MSE Loss: 1.1327 | NRF Loss: 1.7723 | JOINT Loss: 2.9050 | NRF Acc: 0.7644\n"
     ]
    },
    {
     "name": "stderr",
     "output_type": "stream",
     "text": [
      "Training epochs:  62%|██████▏   | 616/1000 [12:01<06:42,  1.05s/it]"
     ]
    },
    {
     "name": "stdout",
     "output_type": "stream",
     "text": [
      "Epoch 616 | GCN MSE Loss: 1.1326 | NRF Loss: 1.7709 | JOINT Loss: 2.9035 | NRF Acc: 0.7644\n"
     ]
    },
    {
     "name": "stderr",
     "output_type": "stream",
     "text": [
      "Training epochs:  62%|██████▏   | 617/1000 [12:02<06:38,  1.04s/it]"
     ]
    },
    {
     "name": "stdout",
     "output_type": "stream",
     "text": [
      "Epoch 617 | GCN MSE Loss: 1.1325 | NRF Loss: 1.7694 | JOINT Loss: 2.9019 | NRF Acc: 0.7644\n"
     ]
    },
    {
     "name": "stderr",
     "output_type": "stream",
     "text": [
      "Training epochs:  62%|██████▏   | 618/1000 [12:03<06:35,  1.04s/it]"
     ]
    },
    {
     "name": "stdout",
     "output_type": "stream",
     "text": [
      "Epoch 618 | GCN MSE Loss: 1.1324 | NRF Loss: 1.7680 | JOINT Loss: 2.9004 | NRF Acc: 0.7644\n"
     ]
    },
    {
     "name": "stderr",
     "output_type": "stream",
     "text": [
      "Training epochs:  62%|██████▏   | 619/1000 [12:04<06:33,  1.03s/it]"
     ]
    },
    {
     "name": "stdout",
     "output_type": "stream",
     "text": [
      "Epoch 619 | GCN MSE Loss: 1.1323 | NRF Loss: 1.7665 | JOINT Loss: 2.8989 | NRF Acc: 0.7644\n"
     ]
    },
    {
     "name": "stderr",
     "output_type": "stream",
     "text": [
      "Training epochs:  62%|██████▏   | 620/1000 [12:05<06:31,  1.03s/it]"
     ]
    },
    {
     "name": "stdout",
     "output_type": "stream",
     "text": [
      "Epoch 620 | GCN MSE Loss: 1.1323 | NRF Loss: 1.7651 | JOINT Loss: 2.8973 | NRF Acc: 0.7644\n"
     ]
    },
    {
     "name": "stderr",
     "output_type": "stream",
     "text": [
      "Training epochs:  62%|██████▏   | 621/1000 [12:07<07:19,  1.16s/it]"
     ]
    },
    {
     "name": "stdout",
     "output_type": "stream",
     "text": [
      "Epoch 621 | GCN MSE Loss: 1.1322 | NRF Loss: 1.7636 | JOINT Loss: 2.8958 | NRF Acc: 0.7645\n"
     ]
    },
    {
     "name": "stderr",
     "output_type": "stream",
     "text": [
      "Training epochs:  62%|██████▏   | 622/1000 [12:08<07:03,  1.12s/it]"
     ]
    },
    {
     "name": "stdout",
     "output_type": "stream",
     "text": [
      "Epoch 622 | GCN MSE Loss: 1.1321 | NRF Loss: 1.7622 | JOINT Loss: 2.8942 | NRF Acc: 0.7645\n"
     ]
    },
    {
     "name": "stderr",
     "output_type": "stream",
     "text": [
      "Training epochs:  62%|██████▏   | 623/1000 [12:09<06:51,  1.09s/it]"
     ]
    },
    {
     "name": "stdout",
     "output_type": "stream",
     "text": [
      "Epoch 623 | GCN MSE Loss: 1.1320 | NRF Loss: 1.7607 | JOINT Loss: 2.8927 | NRF Acc: 0.7645\n"
     ]
    },
    {
     "name": "stderr",
     "output_type": "stream",
     "text": [
      "Training epochs:  62%|██████▏   | 624/1000 [12:10<06:43,  1.07s/it]"
     ]
    },
    {
     "name": "stdout",
     "output_type": "stream",
     "text": [
      "Epoch 624 | GCN MSE Loss: 1.1319 | NRF Loss: 1.7593 | JOINT Loss: 2.8912 | NRF Acc: 0.7645\n"
     ]
    },
    {
     "name": "stderr",
     "output_type": "stream",
     "text": [
      "Training epochs:  62%|██████▎   | 625/1000 [12:11<06:37,  1.06s/it]"
     ]
    },
    {
     "name": "stdout",
     "output_type": "stream",
     "text": [
      "Epoch 625 | GCN MSE Loss: 1.1318 | NRF Loss: 1.7578 | JOINT Loss: 2.8897 | NRF Acc: 0.7645\n"
     ]
    },
    {
     "name": "stderr",
     "output_type": "stream",
     "text": [
      "Training epochs:  63%|██████▎   | 626/1000 [12:12<06:32,  1.05s/it]"
     ]
    },
    {
     "name": "stdout",
     "output_type": "stream",
     "text": [
      "Epoch 626 | GCN MSE Loss: 1.1318 | NRF Loss: 1.7564 | JOINT Loss: 2.8881 | NRF Acc: 0.7645\n"
     ]
    },
    {
     "name": "stderr",
     "output_type": "stream",
     "text": [
      "Training epochs:  63%|██████▎   | 627/1000 [12:14<07:18,  1.18s/it]"
     ]
    },
    {
     "name": "stdout",
     "output_type": "stream",
     "text": [
      "Epoch 627 | GCN MSE Loss: 1.1317 | NRF Loss: 1.7549 | JOINT Loss: 2.8866 | NRF Acc: 0.7647\n"
     ]
    },
    {
     "name": "stderr",
     "output_type": "stream",
     "text": [
      "Training epochs:  63%|██████▎   | 628/1000 [12:15<07:00,  1.13s/it]"
     ]
    },
    {
     "name": "stdout",
     "output_type": "stream",
     "text": [
      "Epoch 628 | GCN MSE Loss: 1.1316 | NRF Loss: 1.7535 | JOINT Loss: 2.8851 | NRF Acc: 0.7647\n"
     ]
    },
    {
     "name": "stderr",
     "output_type": "stream",
     "text": [
      "Training epochs:  63%|██████▎   | 629/1000 [12:16<07:27,  1.21s/it]"
     ]
    },
    {
     "name": "stdout",
     "output_type": "stream",
     "text": [
      "Epoch 629 | GCN MSE Loss: 1.1315 | NRF Loss: 1.7521 | JOINT Loss: 2.8836 | NRF Acc: 0.7649\n"
     ]
    },
    {
     "name": "stderr",
     "output_type": "stream",
     "text": [
      "Training epochs:  63%|██████▎   | 630/1000 [12:17<07:04,  1.15s/it]"
     ]
    },
    {
     "name": "stdout",
     "output_type": "stream",
     "text": [
      "Epoch 630 | GCN MSE Loss: 1.1314 | NRF Loss: 1.7506 | JOINT Loss: 2.8821 | NRF Acc: 0.7649\n"
     ]
    },
    {
     "name": "stderr",
     "output_type": "stream",
     "text": [
      "Training epochs:  63%|██████▎   | 631/1000 [12:18<06:50,  1.11s/it]"
     ]
    },
    {
     "name": "stdout",
     "output_type": "stream",
     "text": [
      "Epoch 631 | GCN MSE Loss: 1.1313 | NRF Loss: 1.7492 | JOINT Loss: 2.8805 | NRF Acc: 0.7649\n"
     ]
    },
    {
     "name": "stderr",
     "output_type": "stream",
     "text": [
      "Training epochs:  63%|██████▎   | 632/1000 [12:19<06:39,  1.09s/it]"
     ]
    },
    {
     "name": "stdout",
     "output_type": "stream",
     "text": [
      "Epoch 632 | GCN MSE Loss: 1.1313 | NRF Loss: 1.7478 | JOINT Loss: 2.8790 | NRF Acc: 0.7649\n"
     ]
    },
    {
     "name": "stderr",
     "output_type": "stream",
     "text": [
      "Training epochs:  63%|██████▎   | 633/1000 [12:20<06:32,  1.07s/it]"
     ]
    },
    {
     "name": "stdout",
     "output_type": "stream",
     "text": [
      "Epoch 633 | GCN MSE Loss: 1.1312 | NRF Loss: 1.7464 | JOINT Loss: 2.8775 | NRF Acc: 0.7649\n"
     ]
    },
    {
     "name": "stderr",
     "output_type": "stream",
     "text": [
      "Training epochs:  63%|██████▎   | 634/1000 [12:21<06:26,  1.06s/it]"
     ]
    },
    {
     "name": "stdout",
     "output_type": "stream",
     "text": [
      "Epoch 634 | GCN MSE Loss: 1.1311 | NRF Loss: 1.7449 | JOINT Loss: 2.8760 | NRF Acc: 0.7649\n"
     ]
    },
    {
     "name": "stderr",
     "output_type": "stream",
     "text": [
      "Training epochs:  64%|██████▎   | 635/1000 [12:22<06:22,  1.05s/it]"
     ]
    },
    {
     "name": "stdout",
     "output_type": "stream",
     "text": [
      "Epoch 635 | GCN MSE Loss: 1.1310 | NRF Loss: 1.7435 | JOINT Loss: 2.8745 | NRF Acc: 0.7649\n"
     ]
    },
    {
     "name": "stderr",
     "output_type": "stream",
     "text": [
      "Training epochs:  64%|██████▎   | 636/1000 [12:23<06:18,  1.04s/it]"
     ]
    },
    {
     "name": "stdout",
     "output_type": "stream",
     "text": [
      "Epoch 636 | GCN MSE Loss: 1.1309 | NRF Loss: 1.7421 | JOINT Loss: 2.8730 | NRF Acc: 0.7647\n"
     ]
    },
    {
     "name": "stderr",
     "output_type": "stream",
     "text": [
      "Training epochs:  64%|██████▎   | 637/1000 [12:24<06:15,  1.04s/it]"
     ]
    },
    {
     "name": "stdout",
     "output_type": "stream",
     "text": [
      "Epoch 637 | GCN MSE Loss: 1.1309 | NRF Loss: 1.7407 | JOINT Loss: 2.8715 | NRF Acc: 0.7647\n"
     ]
    },
    {
     "name": "stderr",
     "output_type": "stream",
     "text": [
      "Training epochs:  64%|██████▍   | 638/1000 [12:25<06:13,  1.03s/it]"
     ]
    },
    {
     "name": "stdout",
     "output_type": "stream",
     "text": [
      "Epoch 638 | GCN MSE Loss: 1.1308 | NRF Loss: 1.7392 | JOINT Loss: 2.8700 | NRF Acc: 0.7647\n"
     ]
    },
    {
     "name": "stderr",
     "output_type": "stream",
     "text": [
      "Training epochs:  64%|██████▍   | 639/1000 [12:26<06:11,  1.03s/it]"
     ]
    },
    {
     "name": "stdout",
     "output_type": "stream",
     "text": [
      "Epoch 639 | GCN MSE Loss: 1.1307 | NRF Loss: 1.7378 | JOINT Loss: 2.8685 | NRF Acc: 0.7649\n"
     ]
    },
    {
     "name": "stderr",
     "output_type": "stream",
     "text": [
      "Training epochs:  64%|██████▍   | 640/1000 [12:27<06:10,  1.03s/it]"
     ]
    },
    {
     "name": "stdout",
     "output_type": "stream",
     "text": [
      "Epoch 640 | GCN MSE Loss: 1.1306 | NRF Loss: 1.7364 | JOINT Loss: 2.8670 | NRF Acc: 0.7649\n"
     ]
    },
    {
     "name": "stderr",
     "output_type": "stream",
     "text": [
      "Training epochs:  64%|██████▍   | 641/1000 [12:28<06:09,  1.03s/it]"
     ]
    },
    {
     "name": "stdout",
     "output_type": "stream",
     "text": [
      "Epoch 641 | GCN MSE Loss: 1.1305 | NRF Loss: 1.7350 | JOINT Loss: 2.8655 | NRF Acc: 0.7649\n"
     ]
    },
    {
     "name": "stderr",
     "output_type": "stream",
     "text": [
      "Training epochs:  64%|██████▍   | 642/1000 [12:29<06:08,  1.03s/it]"
     ]
    },
    {
     "name": "stdout",
     "output_type": "stream",
     "text": [
      "Epoch 642 | GCN MSE Loss: 1.1305 | NRF Loss: 1.7336 | JOINT Loss: 2.8640 | NRF Acc: 0.7649\n"
     ]
    },
    {
     "name": "stderr",
     "output_type": "stream",
     "text": [
      "Training epochs:  64%|██████▍   | 643/1000 [12:30<06:06,  1.03s/it]"
     ]
    },
    {
     "name": "stdout",
     "output_type": "stream",
     "text": [
      "Epoch 643 | GCN MSE Loss: 1.1304 | NRF Loss: 1.7322 | JOINT Loss: 2.8626 | NRF Acc: 0.7649\n"
     ]
    },
    {
     "name": "stderr",
     "output_type": "stream",
     "text": [
      "Training epochs:  64%|██████▍   | 644/1000 [12:31<06:05,  1.03s/it]"
     ]
    },
    {
     "name": "stdout",
     "output_type": "stream",
     "text": [
      "Epoch 644 | GCN MSE Loss: 1.1303 | NRF Loss: 1.7308 | JOINT Loss: 2.8611 | NRF Acc: 0.7649\n"
     ]
    },
    {
     "name": "stderr",
     "output_type": "stream",
     "text": [
      "Training epochs:  64%|██████▍   | 645/1000 [12:33<06:48,  1.15s/it]"
     ]
    },
    {
     "name": "stdout",
     "output_type": "stream",
     "text": [
      "Epoch 645 | GCN MSE Loss: 1.1302 | NRF Loss: 1.7294 | JOINT Loss: 2.8596 | NRF Acc: 0.7651\n"
     ]
    },
    {
     "name": "stderr",
     "output_type": "stream",
     "text": [
      "Training epochs:  65%|██████▍   | 646/1000 [12:34<06:34,  1.11s/it]"
     ]
    },
    {
     "name": "stdout",
     "output_type": "stream",
     "text": [
      "Epoch 646 | GCN MSE Loss: 1.1301 | NRF Loss: 1.7280 | JOINT Loss: 2.8581 | NRF Acc: 0.7651\n"
     ]
    },
    {
     "name": "stderr",
     "output_type": "stream",
     "text": [
      "Training epochs:  65%|██████▍   | 647/1000 [12:35<07:05,  1.21s/it]"
     ]
    },
    {
     "name": "stdout",
     "output_type": "stream",
     "text": [
      "Epoch 647 | GCN MSE Loss: 1.1301 | NRF Loss: 1.7266 | JOINT Loss: 2.8566 | NRF Acc: 0.7652\n"
     ]
    },
    {
     "name": "stderr",
     "output_type": "stream",
     "text": [
      "Training epochs:  65%|██████▍   | 648/1000 [12:36<06:45,  1.15s/it]"
     ]
    },
    {
     "name": "stdout",
     "output_type": "stream",
     "text": [
      "Epoch 648 | GCN MSE Loss: 1.1300 | NRF Loss: 1.7252 | JOINT Loss: 2.8551 | NRF Acc: 0.7652\n"
     ]
    },
    {
     "name": "stderr",
     "output_type": "stream",
     "text": [
      "Training epochs:  65%|██████▍   | 649/1000 [12:37<06:30,  1.11s/it]"
     ]
    },
    {
     "name": "stdout",
     "output_type": "stream",
     "text": [
      "Epoch 649 | GCN MSE Loss: 1.1299 | NRF Loss: 1.7238 | JOINT Loss: 2.8537 | NRF Acc: 0.7651\n"
     ]
    },
    {
     "name": "stderr",
     "output_type": "stream",
     "text": [
      "Training epochs:  65%|██████▌   | 650/1000 [12:38<06:20,  1.09s/it]"
     ]
    },
    {
     "name": "stdout",
     "output_type": "stream",
     "text": [
      "Epoch 650 | GCN MSE Loss: 1.1298 | NRF Loss: 1.7224 | JOINT Loss: 2.8522 | NRF Acc: 0.7651\n"
     ]
    },
    {
     "name": "stderr",
     "output_type": "stream",
     "text": [
      "Training epochs:  65%|██████▌   | 651/1000 [12:40<06:56,  1.19s/it]"
     ]
    },
    {
     "name": "stdout",
     "output_type": "stream",
     "text": [
      "Epoch 651 | GCN MSE Loss: 1.1297 | NRF Loss: 1.7210 | JOINT Loss: 2.8507 | NRF Acc: 0.7654\n"
     ]
    },
    {
     "name": "stderr",
     "output_type": "stream",
     "text": [
      "Training epochs:  65%|██████▌   | 652/1000 [12:41<06:37,  1.14s/it]"
     ]
    },
    {
     "name": "stdout",
     "output_type": "stream",
     "text": [
      "Epoch 652 | GCN MSE Loss: 1.1297 | NRF Loss: 1.7196 | JOINT Loss: 2.8493 | NRF Acc: 0.7654\n"
     ]
    },
    {
     "name": "stderr",
     "output_type": "stream",
     "text": [
      "Training epochs:  65%|██████▌   | 653/1000 [12:42<06:23,  1.11s/it]"
     ]
    },
    {
     "name": "stdout",
     "output_type": "stream",
     "text": [
      "Epoch 653 | GCN MSE Loss: 1.1296 | NRF Loss: 1.7182 | JOINT Loss: 2.8478 | NRF Acc: 0.7654\n"
     ]
    },
    {
     "name": "stderr",
     "output_type": "stream",
     "text": [
      "Training epochs:  65%|██████▌   | 654/1000 [12:43<06:14,  1.08s/it]"
     ]
    },
    {
     "name": "stdout",
     "output_type": "stream",
     "text": [
      "Epoch 654 | GCN MSE Loss: 1.1295 | NRF Loss: 1.7168 | JOINT Loss: 2.8463 | NRF Acc: 0.7654\n"
     ]
    },
    {
     "name": "stderr",
     "output_type": "stream",
     "text": [
      "Training epochs:  66%|██████▌   | 655/1000 [12:44<06:07,  1.07s/it]"
     ]
    },
    {
     "name": "stdout",
     "output_type": "stream",
     "text": [
      "Epoch 655 | GCN MSE Loss: 1.1294 | NRF Loss: 1.7154 | JOINT Loss: 2.8449 | NRF Acc: 0.7654\n"
     ]
    },
    {
     "name": "stderr",
     "output_type": "stream",
     "text": [
      "Training epochs:  66%|██████▌   | 656/1000 [12:45<06:02,  1.05s/it]"
     ]
    },
    {
     "name": "stdout",
     "output_type": "stream",
     "text": [
      "Epoch 656 | GCN MSE Loss: 1.1294 | NRF Loss: 1.7140 | JOINT Loss: 2.8434 | NRF Acc: 0.7654\n"
     ]
    },
    {
     "name": "stderr",
     "output_type": "stream",
     "text": [
      "Training epochs:  66%|██████▌   | 657/1000 [12:46<05:58,  1.04s/it]"
     ]
    },
    {
     "name": "stdout",
     "output_type": "stream",
     "text": [
      "Epoch 657 | GCN MSE Loss: 1.1293 | NRF Loss: 1.7126 | JOINT Loss: 2.8419 | NRF Acc: 0.7654\n"
     ]
    },
    {
     "name": "stderr",
     "output_type": "stream",
     "text": [
      "Training epochs:  66%|██████▌   | 658/1000 [12:47<05:55,  1.04s/it]"
     ]
    },
    {
     "name": "stdout",
     "output_type": "stream",
     "text": [
      "Epoch 658 | GCN MSE Loss: 1.1292 | NRF Loss: 1.7113 | JOINT Loss: 2.8405 | NRF Acc: 0.7654\n"
     ]
    },
    {
     "name": "stderr",
     "output_type": "stream",
     "text": [
      "Training epochs:  66%|██████▌   | 659/1000 [12:48<05:53,  1.04s/it]"
     ]
    },
    {
     "name": "stdout",
     "output_type": "stream",
     "text": [
      "Epoch 659 | GCN MSE Loss: 1.1291 | NRF Loss: 1.7099 | JOINT Loss: 2.8390 | NRF Acc: 0.7654\n"
     ]
    },
    {
     "name": "stderr",
     "output_type": "stream",
     "text": [
      "Training epochs:  66%|██████▌   | 660/1000 [12:49<05:51,  1.03s/it]"
     ]
    },
    {
     "name": "stdout",
     "output_type": "stream",
     "text": [
      "Epoch 660 | GCN MSE Loss: 1.1291 | NRF Loss: 1.7085 | JOINT Loss: 2.8376 | NRF Acc: 0.7654\n"
     ]
    },
    {
     "name": "stderr",
     "output_type": "stream",
     "text": [
      "Training epochs:  66%|██████▌   | 661/1000 [12:50<05:49,  1.03s/it]"
     ]
    },
    {
     "name": "stdout",
     "output_type": "stream",
     "text": [
      "Epoch 661 | GCN MSE Loss: 1.1290 | NRF Loss: 1.7071 | JOINT Loss: 2.8361 | NRF Acc: 0.7654\n"
     ]
    },
    {
     "name": "stderr",
     "output_type": "stream",
     "text": [
      "Training epochs:  66%|██████▌   | 662/1000 [12:51<05:47,  1.03s/it]"
     ]
    },
    {
     "name": "stdout",
     "output_type": "stream",
     "text": [
      "Epoch 662 | GCN MSE Loss: 1.1289 | NRF Loss: 1.7058 | JOINT Loss: 2.8347 | NRF Acc: 0.7654\n"
     ]
    },
    {
     "name": "stderr",
     "output_type": "stream",
     "text": [
      "Training epochs:  66%|██████▋   | 663/1000 [12:52<05:46,  1.03s/it]"
     ]
    },
    {
     "name": "stdout",
     "output_type": "stream",
     "text": [
      "Epoch 663 | GCN MSE Loss: 1.1288 | NRF Loss: 1.7044 | JOINT Loss: 2.8332 | NRF Acc: 0.7652\n"
     ]
    },
    {
     "name": "stderr",
     "output_type": "stream",
     "text": [
      "Training epochs:  66%|██████▋   | 664/1000 [12:53<05:45,  1.03s/it]"
     ]
    },
    {
     "name": "stdout",
     "output_type": "stream",
     "text": [
      "Epoch 664 | GCN MSE Loss: 1.1288 | NRF Loss: 1.7030 | JOINT Loss: 2.8318 | NRF Acc: 0.7652\n"
     ]
    },
    {
     "name": "stderr",
     "output_type": "stream",
     "text": [
      "Training epochs:  66%|██████▋   | 665/1000 [12:54<05:44,  1.03s/it]"
     ]
    },
    {
     "name": "stdout",
     "output_type": "stream",
     "text": [
      "Epoch 665 | GCN MSE Loss: 1.1287 | NRF Loss: 1.7016 | JOINT Loss: 2.8303 | NRF Acc: 0.7652\n"
     ]
    },
    {
     "name": "stderr",
     "output_type": "stream",
     "text": [
      "Training epochs:  67%|██████▋   | 666/1000 [12:55<05:43,  1.03s/it]"
     ]
    },
    {
     "name": "stdout",
     "output_type": "stream",
     "text": [
      "Epoch 666 | GCN MSE Loss: 1.1286 | NRF Loss: 1.7002 | JOINT Loss: 2.8289 | NRF Acc: 0.7652\n"
     ]
    },
    {
     "name": "stderr",
     "output_type": "stream",
     "text": [
      "Training epochs:  67%|██████▋   | 667/1000 [12:56<05:41,  1.03s/it]"
     ]
    },
    {
     "name": "stdout",
     "output_type": "stream",
     "text": [
      "Epoch 667 | GCN MSE Loss: 1.1286 | NRF Loss: 1.6989 | JOINT Loss: 2.8274 | NRF Acc: 0.7652\n"
     ]
    },
    {
     "name": "stderr",
     "output_type": "stream",
     "text": [
      "Training epochs:  67%|██████▋   | 668/1000 [12:57<05:40,  1.03s/it]"
     ]
    },
    {
     "name": "stdout",
     "output_type": "stream",
     "text": [
      "Epoch 668 | GCN MSE Loss: 1.1285 | NRF Loss: 1.6975 | JOINT Loss: 2.8260 | NRF Acc: 0.7652\n"
     ]
    },
    {
     "name": "stderr",
     "output_type": "stream",
     "text": [
      "Training epochs:  67%|██████▋   | 669/1000 [12:58<05:39,  1.03s/it]"
     ]
    },
    {
     "name": "stdout",
     "output_type": "stream",
     "text": [
      "Epoch 669 | GCN MSE Loss: 1.1284 | NRF Loss: 1.6961 | JOINT Loss: 2.8246 | NRF Acc: 0.7652\n"
     ]
    },
    {
     "name": "stderr",
     "output_type": "stream",
     "text": [
      "Training epochs:  67%|██████▋   | 670/1000 [12:59<05:38,  1.03s/it]"
     ]
    },
    {
     "name": "stdout",
     "output_type": "stream",
     "text": [
      "Epoch 670 | GCN MSE Loss: 1.1284 | NRF Loss: 1.6948 | JOINT Loss: 2.8231 | NRF Acc: 0.7652\n"
     ]
    },
    {
     "name": "stderr",
     "output_type": "stream",
     "text": [
      "Training epochs:  67%|██████▋   | 671/1000 [13:00<05:37,  1.03s/it]"
     ]
    },
    {
     "name": "stdout",
     "output_type": "stream",
     "text": [
      "Epoch 671 | GCN MSE Loss: 1.1283 | NRF Loss: 1.6934 | JOINT Loss: 2.8217 | NRF Acc: 0.7652\n"
     ]
    },
    {
     "name": "stderr",
     "output_type": "stream",
     "text": [
      "Training epochs:  67%|██████▋   | 672/1000 [13:02<06:20,  1.16s/it]"
     ]
    },
    {
     "name": "stdout",
     "output_type": "stream",
     "text": [
      "Epoch 672 | GCN MSE Loss: 1.1282 | NRF Loss: 1.6920 | JOINT Loss: 2.8202 | NRF Acc: 0.7656\n"
     ]
    },
    {
     "name": "stderr",
     "output_type": "stream",
     "text": [
      "Training epochs:  67%|██████▋   | 673/1000 [13:03<06:06,  1.12s/it]"
     ]
    },
    {
     "name": "stdout",
     "output_type": "stream",
     "text": [
      "Epoch 673 | GCN MSE Loss: 1.1281 | NRF Loss: 1.6907 | JOINT Loss: 2.8188 | NRF Acc: 0.7656\n"
     ]
    },
    {
     "name": "stderr",
     "output_type": "stream",
     "text": [
      "Training epochs:  67%|██████▋   | 674/1000 [13:04<05:55,  1.09s/it]"
     ]
    },
    {
     "name": "stdout",
     "output_type": "stream",
     "text": [
      "Epoch 674 | GCN MSE Loss: 1.1281 | NRF Loss: 1.6893 | JOINT Loss: 2.8174 | NRF Acc: 0.7656\n"
     ]
    },
    {
     "name": "stderr",
     "output_type": "stream",
     "text": [
      "Training epochs:  68%|██████▊   | 675/1000 [13:05<05:48,  1.07s/it]"
     ]
    },
    {
     "name": "stdout",
     "output_type": "stream",
     "text": [
      "Epoch 675 | GCN MSE Loss: 1.1280 | NRF Loss: 1.6879 | JOINT Loss: 2.8159 | NRF Acc: 0.7656\n"
     ]
    },
    {
     "name": "stderr",
     "output_type": "stream",
     "text": [
      "Training epochs:  68%|██████▊   | 676/1000 [13:06<05:41,  1.06s/it]"
     ]
    },
    {
     "name": "stdout",
     "output_type": "stream",
     "text": [
      "Epoch 676 | GCN MSE Loss: 1.1279 | NRF Loss: 1.6866 | JOINT Loss: 2.8145 | NRF Acc: 0.7656\n"
     ]
    },
    {
     "name": "stderr",
     "output_type": "stream",
     "text": [
      "Training epochs:  68%|██████▊   | 677/1000 [13:07<05:37,  1.05s/it]"
     ]
    },
    {
     "name": "stdout",
     "output_type": "stream",
     "text": [
      "Epoch 677 | GCN MSE Loss: 1.1279 | NRF Loss: 1.6852 | JOINT Loss: 2.8131 | NRF Acc: 0.7656\n"
     ]
    },
    {
     "name": "stderr",
     "output_type": "stream",
     "text": [
      "Training epochs:  68%|██████▊   | 678/1000 [13:08<06:16,  1.17s/it]"
     ]
    },
    {
     "name": "stdout",
     "output_type": "stream",
     "text": [
      "Epoch 678 | GCN MSE Loss: 1.1278 | NRF Loss: 1.6838 | JOINT Loss: 2.8116 | NRF Acc: 0.7658\n"
     ]
    },
    {
     "name": "stderr",
     "output_type": "stream",
     "text": [
      "Training epochs:  68%|██████▊   | 679/1000 [13:09<06:01,  1.13s/it]"
     ]
    },
    {
     "name": "stdout",
     "output_type": "stream",
     "text": [
      "Epoch 679 | GCN MSE Loss: 1.1277 | NRF Loss: 1.6825 | JOINT Loss: 2.8102 | NRF Acc: 0.7658\n"
     ]
    },
    {
     "name": "stderr",
     "output_type": "stream",
     "text": [
      "Training epochs:  68%|██████▊   | 680/1000 [13:10<05:50,  1.10s/it]"
     ]
    },
    {
     "name": "stdout",
     "output_type": "stream",
     "text": [
      "Epoch 680 | GCN MSE Loss: 1.1277 | NRF Loss: 1.6811 | JOINT Loss: 2.8088 | NRF Acc: 0.7658\n"
     ]
    },
    {
     "name": "stderr",
     "output_type": "stream",
     "text": [
      "Training epochs:  68%|██████▊   | 681/1000 [13:11<05:43,  1.08s/it]"
     ]
    },
    {
     "name": "stdout",
     "output_type": "stream",
     "text": [
      "Epoch 681 | GCN MSE Loss: 1.1276 | NRF Loss: 1.6798 | JOINT Loss: 2.8074 | NRF Acc: 0.7656\n"
     ]
    },
    {
     "name": "stderr",
     "output_type": "stream",
     "text": [
      "Training epochs:  68%|██████▊   | 682/1000 [13:12<05:37,  1.06s/it]"
     ]
    },
    {
     "name": "stdout",
     "output_type": "stream",
     "text": [
      "Epoch 682 | GCN MSE Loss: 1.1275 | NRF Loss: 1.6784 | JOINT Loss: 2.8060 | NRF Acc: 0.7656\n"
     ]
    },
    {
     "name": "stderr",
     "output_type": "stream",
     "text": [
      "Training epochs:  68%|██████▊   | 683/1000 [13:13<05:32,  1.05s/it]"
     ]
    },
    {
     "name": "stdout",
     "output_type": "stream",
     "text": [
      "Epoch 683 | GCN MSE Loss: 1.1275 | NRF Loss: 1.6771 | JOINT Loss: 2.8046 | NRF Acc: 0.7656\n"
     ]
    },
    {
     "name": "stderr",
     "output_type": "stream",
     "text": [
      "Training epochs:  68%|██████▊   | 684/1000 [13:14<05:29,  1.04s/it]"
     ]
    },
    {
     "name": "stdout",
     "output_type": "stream",
     "text": [
      "Epoch 684 | GCN MSE Loss: 1.1274 | NRF Loss: 1.6757 | JOINT Loss: 2.8031 | NRF Acc: 0.7656\n"
     ]
    },
    {
     "name": "stderr",
     "output_type": "stream",
     "text": [
      "Training epochs:  68%|██████▊   | 685/1000 [13:15<05:26,  1.04s/it]"
     ]
    },
    {
     "name": "stdout",
     "output_type": "stream",
     "text": [
      "Epoch 685 | GCN MSE Loss: 1.1273 | NRF Loss: 1.6744 | JOINT Loss: 2.8017 | NRF Acc: 0.7654\n"
     ]
    },
    {
     "name": "stderr",
     "output_type": "stream",
     "text": [
      "Training epochs:  69%|██████▊   | 686/1000 [13:16<05:24,  1.03s/it]"
     ]
    },
    {
     "name": "stdout",
     "output_type": "stream",
     "text": [
      "Epoch 686 | GCN MSE Loss: 1.1273 | NRF Loss: 1.6730 | JOINT Loss: 2.8003 | NRF Acc: 0.7654\n"
     ]
    },
    {
     "name": "stderr",
     "output_type": "stream",
     "text": [
      "Training epochs:  69%|██████▊   | 687/1000 [13:18<05:22,  1.03s/it]"
     ]
    },
    {
     "name": "stdout",
     "output_type": "stream",
     "text": [
      "Epoch 687 | GCN MSE Loss: 1.1272 | NRF Loss: 1.6717 | JOINT Loss: 2.7989 | NRF Acc: 0.7654\n"
     ]
    },
    {
     "name": "stderr",
     "output_type": "stream",
     "text": [
      "Training epochs:  69%|██████▉   | 688/1000 [13:19<05:21,  1.03s/it]"
     ]
    },
    {
     "name": "stdout",
     "output_type": "stream",
     "text": [
      "Epoch 688 | GCN MSE Loss: 1.1271 | NRF Loss: 1.6704 | JOINT Loss: 2.7975 | NRF Acc: 0.7656\n"
     ]
    },
    {
     "name": "stderr",
     "output_type": "stream",
     "text": [
      "Training epochs:  69%|██████▉   | 689/1000 [13:20<05:19,  1.03s/it]"
     ]
    },
    {
     "name": "stdout",
     "output_type": "stream",
     "text": [
      "Epoch 689 | GCN MSE Loss: 1.1271 | NRF Loss: 1.6690 | JOINT Loss: 2.7961 | NRF Acc: 0.7656\n"
     ]
    },
    {
     "name": "stderr",
     "output_type": "stream",
     "text": [
      "Training epochs:  69%|██████▉   | 690/1000 [13:21<05:18,  1.03s/it]"
     ]
    },
    {
     "name": "stdout",
     "output_type": "stream",
     "text": [
      "Epoch 690 | GCN MSE Loss: 1.1270 | NRF Loss: 1.6677 | JOINT Loss: 2.7947 | NRF Acc: 0.7656\n"
     ]
    },
    {
     "name": "stderr",
     "output_type": "stream",
     "text": [
      "Training epochs:  69%|██████▉   | 691/1000 [13:22<05:17,  1.03s/it]"
     ]
    },
    {
     "name": "stdout",
     "output_type": "stream",
     "text": [
      "Epoch 691 | GCN MSE Loss: 1.1269 | NRF Loss: 1.6663 | JOINT Loss: 2.7933 | NRF Acc: 0.7656\n"
     ]
    },
    {
     "name": "stderr",
     "output_type": "stream",
     "text": [
      "Training epochs:  69%|██████▉   | 692/1000 [13:23<05:15,  1.02s/it]"
     ]
    },
    {
     "name": "stdout",
     "output_type": "stream",
     "text": [
      "Epoch 692 | GCN MSE Loss: 1.1269 | NRF Loss: 1.6650 | JOINT Loss: 2.7919 | NRF Acc: 0.7658\n"
     ]
    },
    {
     "name": "stderr",
     "output_type": "stream",
     "text": [
      "Training epochs:  69%|██████▉   | 693/1000 [13:24<05:14,  1.02s/it]"
     ]
    },
    {
     "name": "stdout",
     "output_type": "stream",
     "text": [
      "Epoch 693 | GCN MSE Loss: 1.1268 | NRF Loss: 1.6637 | JOINT Loss: 2.7905 | NRF Acc: 0.7656\n"
     ]
    },
    {
     "name": "stderr",
     "output_type": "stream",
     "text": [
      "Training epochs:  69%|██████▉   | 694/1000 [13:25<05:13,  1.03s/it]"
     ]
    },
    {
     "name": "stdout",
     "output_type": "stream",
     "text": [
      "Epoch 694 | GCN MSE Loss: 1.1268 | NRF Loss: 1.6624 | JOINT Loss: 2.7891 | NRF Acc: 0.7658\n"
     ]
    },
    {
     "name": "stderr",
     "output_type": "stream",
     "text": [
      "Training epochs:  70%|██████▉   | 695/1000 [13:26<05:12,  1.03s/it]"
     ]
    },
    {
     "name": "stdout",
     "output_type": "stream",
     "text": [
      "Epoch 695 | GCN MSE Loss: 1.1267 | NRF Loss: 1.6610 | JOINT Loss: 2.7877 | NRF Acc: 0.7658\n"
     ]
    },
    {
     "name": "stderr",
     "output_type": "stream",
     "text": [
      "Training epochs:  70%|██████▉   | 696/1000 [13:27<05:11,  1.02s/it]"
     ]
    },
    {
     "name": "stdout",
     "output_type": "stream",
     "text": [
      "Epoch 696 | GCN MSE Loss: 1.1266 | NRF Loss: 1.6597 | JOINT Loss: 2.7864 | NRF Acc: 0.7658\n"
     ]
    },
    {
     "name": "stderr",
     "output_type": "stream",
     "text": [
      "Training epochs:  70%|██████▉   | 697/1000 [13:28<05:10,  1.03s/it]"
     ]
    },
    {
     "name": "stdout",
     "output_type": "stream",
     "text": [
      "Epoch 697 | GCN MSE Loss: 1.1266 | NRF Loss: 1.6584 | JOINT Loss: 2.7850 | NRF Acc: 0.7658\n"
     ]
    },
    {
     "name": "stderr",
     "output_type": "stream",
     "text": [
      "Training epochs:  70%|██████▉   | 698/1000 [13:29<05:47,  1.15s/it]"
     ]
    },
    {
     "name": "stdout",
     "output_type": "stream",
     "text": [
      "Epoch 698 | GCN MSE Loss: 1.1265 | NRF Loss: 1.6571 | JOINT Loss: 2.7836 | NRF Acc: 0.7661\n"
     ]
    },
    {
     "name": "stderr",
     "output_type": "stream",
     "text": [
      "Training epochs:  70%|██████▉   | 699/1000 [13:30<05:34,  1.11s/it]"
     ]
    },
    {
     "name": "stdout",
     "output_type": "stream",
     "text": [
      "Epoch 699 | GCN MSE Loss: 1.1264 | NRF Loss: 1.6558 | JOINT Loss: 2.7822 | NRF Acc: 0.7659\n"
     ]
    },
    {
     "name": "stderr",
     "output_type": "stream",
     "text": [
      "Training epochs:  70%|███████   | 700/1000 [13:31<05:25,  1.09s/it]"
     ]
    },
    {
     "name": "stdout",
     "output_type": "stream",
     "text": [
      "Epoch 700 | GCN MSE Loss: 1.1264 | NRF Loss: 1.6545 | JOINT Loss: 2.7808 | NRF Acc: 0.7659\n"
     ]
    },
    {
     "name": "stderr",
     "output_type": "stream",
     "text": [
      "Training epochs:  70%|███████   | 701/1000 [13:32<05:17,  1.06s/it]"
     ]
    },
    {
     "name": "stdout",
     "output_type": "stream",
     "text": [
      "Epoch 701 | GCN MSE Loss: 1.1263 | NRF Loss: 1.6531 | JOINT Loss: 2.7795 | NRF Acc: 0.7659\n"
     ]
    },
    {
     "name": "stderr",
     "output_type": "stream",
     "text": [
      "Training epochs:  70%|███████   | 702/1000 [13:33<04:38,  1.07it/s]"
     ]
    },
    {
     "name": "stdout",
     "output_type": "stream",
     "text": [
      "Epoch 702 | GCN MSE Loss: 1.1263 | NRF Loss: 1.6518 | JOINT Loss: 2.7781 | NRF Acc: 0.7659\n"
     ]
    },
    {
     "name": "stderr",
     "output_type": "stream",
     "text": [
      "Training epochs:  70%|███████   | 703/1000 [13:34<04:44,  1.04it/s]"
     ]
    },
    {
     "name": "stdout",
     "output_type": "stream",
     "text": [
      "Epoch 703 | GCN MSE Loss: 1.1262 | NRF Loss: 1.6505 | JOINT Loss: 2.7767 | NRF Acc: 0.7659\n"
     ]
    },
    {
     "name": "stderr",
     "output_type": "stream",
     "text": [
      "Training epochs:  70%|███████   | 704/1000 [13:35<04:48,  1.03it/s]"
     ]
    },
    {
     "name": "stdout",
     "output_type": "stream",
     "text": [
      "Epoch 704 | GCN MSE Loss: 1.1261 | NRF Loss: 1.6492 | JOINT Loss: 2.7753 | NRF Acc: 0.7659\n"
     ]
    },
    {
     "name": "stderr",
     "output_type": "stream",
     "text": [
      "Training epochs:  70%|███████   | 705/1000 [13:36<05:25,  1.10s/it]"
     ]
    },
    {
     "name": "stdout",
     "output_type": "stream",
     "text": [
      "Epoch 705 | GCN MSE Loss: 1.1261 | NRF Loss: 1.6479 | JOINT Loss: 2.7740 | NRF Acc: 0.7663\n"
     ]
    },
    {
     "name": "stderr",
     "output_type": "stream",
     "text": [
      "Training epochs:  71%|███████   | 706/1000 [13:38<05:50,  1.19s/it]"
     ]
    },
    {
     "name": "stdout",
     "output_type": "stream",
     "text": [
      "Epoch 706 | GCN MSE Loss: 1.1260 | NRF Loss: 1.6466 | JOINT Loss: 2.7726 | NRF Acc: 0.7664\n"
     ]
    },
    {
     "name": "stderr",
     "output_type": "stream",
     "text": [
      "Training epochs:  71%|███████   | 707/1000 [13:39<05:33,  1.14s/it]"
     ]
    },
    {
     "name": "stdout",
     "output_type": "stream",
     "text": [
      "Epoch 707 | GCN MSE Loss: 1.1260 | NRF Loss: 1.6453 | JOINT Loss: 2.7713 | NRF Acc: 0.7664\n"
     ]
    },
    {
     "name": "stderr",
     "output_type": "stream",
     "text": [
      "Training epochs:  71%|███████   | 708/1000 [13:40<05:03,  1.04s/it]"
     ]
    },
    {
     "name": "stdout",
     "output_type": "stream",
     "text": [
      "Epoch 708 | GCN MSE Loss: 1.1259 | NRF Loss: 1.6440 | JOINT Loss: 2.7699 | NRF Acc: 0.7664\n"
     ]
    },
    {
     "name": "stderr",
     "output_type": "stream",
     "text": [
      "Training epochs:  71%|███████   | 709/1000 [13:40<04:21,  1.11it/s]"
     ]
    },
    {
     "name": "stdout",
     "output_type": "stream",
     "text": [
      "Epoch 709 | GCN MSE Loss: 1.1258 | NRF Loss: 1.6427 | JOINT Loss: 2.7685 | NRF Acc: 0.7666\n"
     ]
    },
    {
     "name": "stderr",
     "output_type": "stream",
     "text": [
      "Training epochs:  71%|███████   | 710/1000 [13:41<03:42,  1.30it/s]"
     ]
    },
    {
     "name": "stdout",
     "output_type": "stream",
     "text": [
      "Epoch 710 | GCN MSE Loss: 1.1258 | NRF Loss: 1.6414 | JOINT Loss: 2.7672 | NRF Acc: 0.7666\n"
     ]
    },
    {
     "name": "stderr",
     "output_type": "stream",
     "text": [
      "Training epochs:  71%|███████   | 711/1000 [13:41<03:15,  1.48it/s]"
     ]
    },
    {
     "name": "stdout",
     "output_type": "stream",
     "text": [
      "Epoch 711 | GCN MSE Loss: 1.1257 | NRF Loss: 1.6401 | JOINT Loss: 2.7658 | NRF Acc: 0.7666\n"
     ]
    },
    {
     "name": "stderr",
     "output_type": "stream",
     "text": [
      "Training epochs:  71%|███████   | 712/1000 [13:42<03:09,  1.52it/s]"
     ]
    },
    {
     "name": "stdout",
     "output_type": "stream",
     "text": [
      "Epoch 712 | GCN MSE Loss: 1.1257 | NRF Loss: 1.6388 | JOINT Loss: 2.7645 | NRF Acc: 0.7666\n"
     ]
    },
    {
     "name": "stderr",
     "output_type": "stream",
     "text": [
      "Training epochs:  71%|███████▏  | 713/1000 [13:42<02:54,  1.65it/s]"
     ]
    },
    {
     "name": "stdout",
     "output_type": "stream",
     "text": [
      "Epoch 713 | GCN MSE Loss: 1.1256 | NRF Loss: 1.6375 | JOINT Loss: 2.7631 | NRF Acc: 0.7666\n"
     ]
    },
    {
     "name": "stderr",
     "output_type": "stream",
     "text": [
      "Training epochs:  71%|███████▏  | 714/1000 [13:43<02:47,  1.71it/s]"
     ]
    },
    {
     "name": "stdout",
     "output_type": "stream",
     "text": [
      "Epoch 714 | GCN MSE Loss: 1.1255 | NRF Loss: 1.6362 | JOINT Loss: 2.7618 | NRF Acc: 0.7666\n"
     ]
    },
    {
     "name": "stderr",
     "output_type": "stream",
     "text": [
      "Training epochs:  72%|███████▏  | 715/1000 [13:43<02:42,  1.76it/s]"
     ]
    },
    {
     "name": "stdout",
     "output_type": "stream",
     "text": [
      "Epoch 715 | GCN MSE Loss: 1.1255 | NRF Loss: 1.6350 | JOINT Loss: 2.7604 | NRF Acc: 0.7666\n"
     ]
    },
    {
     "name": "stderr",
     "output_type": "stream",
     "text": [
      "Training epochs:  72%|███████▏  | 716/1000 [13:44<02:38,  1.79it/s]"
     ]
    },
    {
     "name": "stdout",
     "output_type": "stream",
     "text": [
      "Epoch 716 | GCN MSE Loss: 1.1254 | NRF Loss: 1.6337 | JOINT Loss: 2.7591 | NRF Acc: 0.7666\n"
     ]
    },
    {
     "name": "stderr",
     "output_type": "stream",
     "text": [
      "Training epochs:  72%|███████▏  | 717/1000 [13:44<02:48,  1.68it/s]"
     ]
    },
    {
     "name": "stdout",
     "output_type": "stream",
     "text": [
      "Epoch 717 | GCN MSE Loss: 1.1254 | NRF Loss: 1.6324 | JOINT Loss: 2.7577 | NRF Acc: 0.7668\n"
     ]
    },
    {
     "name": "stderr",
     "output_type": "stream",
     "text": [
      "Training epochs:  72%|███████▏  | 718/1000 [13:45<02:42,  1.74it/s]"
     ]
    },
    {
     "name": "stdout",
     "output_type": "stream",
     "text": [
      "Epoch 718 | GCN MSE Loss: 1.1253 | NRF Loss: 1.6311 | JOINT Loss: 2.7564 | NRF Acc: 0.7668\n"
     ]
    },
    {
     "name": "stderr",
     "output_type": "stream",
     "text": [
      "Training epochs:  72%|███████▏  | 719/1000 [13:46<02:46,  1.69it/s]"
     ]
    },
    {
     "name": "stdout",
     "output_type": "stream",
     "text": [
      "Epoch 719 | GCN MSE Loss: 1.1252 | NRF Loss: 1.6298 | JOINT Loss: 2.7551 | NRF Acc: 0.7668\n"
     ]
    },
    {
     "name": "stderr",
     "output_type": "stream",
     "text": [
      "Training epochs:  72%|███████▏  | 720/1000 [13:47<03:21,  1.39it/s]"
     ]
    },
    {
     "name": "stdout",
     "output_type": "stream",
     "text": [
      "Epoch 720 | GCN MSE Loss: 1.1252 | NRF Loss: 1.6285 | JOINT Loss: 2.7537 | NRF Acc: 0.7668\n"
     ]
    },
    {
     "name": "stderr",
     "output_type": "stream",
     "text": [
      "Training epochs:  72%|███████▏  | 721/1000 [13:48<03:46,  1.23it/s]"
     ]
    },
    {
     "name": "stdout",
     "output_type": "stream",
     "text": [
      "Epoch 721 | GCN MSE Loss: 1.1251 | NRF Loss: 1.6273 | JOINT Loss: 2.7524 | NRF Acc: 0.7668\n"
     ]
    },
    {
     "name": "stderr",
     "output_type": "stream",
     "text": [
      "Training epochs:  72%|███████▏  | 722/1000 [13:49<04:03,  1.14it/s]"
     ]
    },
    {
     "name": "stdout",
     "output_type": "stream",
     "text": [
      "Epoch 722 | GCN MSE Loss: 1.1251 | NRF Loss: 1.6260 | JOINT Loss: 2.7510 | NRF Acc: 0.7668\n"
     ]
    },
    {
     "name": "stderr",
     "output_type": "stream",
     "text": [
      "Training epochs:  72%|███████▏  | 723/1000 [13:50<04:15,  1.09it/s]"
     ]
    },
    {
     "name": "stdout",
     "output_type": "stream",
     "text": [
      "Epoch 723 | GCN MSE Loss: 1.1250 | NRF Loss: 1.6247 | JOINT Loss: 2.7497 | NRF Acc: 0.7668\n"
     ]
    },
    {
     "name": "stderr",
     "output_type": "stream",
     "text": [
      "Training epochs:  72%|███████▏  | 724/1000 [13:51<04:22,  1.05it/s]"
     ]
    },
    {
     "name": "stdout",
     "output_type": "stream",
     "text": [
      "Epoch 724 | GCN MSE Loss: 1.1249 | NRF Loss: 1.6234 | JOINT Loss: 2.7484 | NRF Acc: 0.7668\n"
     ]
    },
    {
     "name": "stderr",
     "output_type": "stream",
     "text": [
      "Training epochs:  72%|███████▎  | 725/1000 [13:52<04:27,  1.03it/s]"
     ]
    },
    {
     "name": "stdout",
     "output_type": "stream",
     "text": [
      "Epoch 725 | GCN MSE Loss: 1.1249 | NRF Loss: 1.6221 | JOINT Loss: 2.7470 | NRF Acc: 0.7668\n"
     ]
    },
    {
     "name": "stderr",
     "output_type": "stream",
     "text": [
      "Training epochs:  73%|███████▎  | 726/1000 [13:53<04:31,  1.01it/s]"
     ]
    },
    {
     "name": "stdout",
     "output_type": "stream",
     "text": [
      "Epoch 726 | GCN MSE Loss: 1.1248 | NRF Loss: 1.6209 | JOINT Loss: 2.7457 | NRF Acc: 0.7668\n"
     ]
    },
    {
     "name": "stderr",
     "output_type": "stream",
     "text": [
      "Training epochs:  73%|███████▎  | 727/1000 [13:54<04:33,  1.00s/it]"
     ]
    },
    {
     "name": "stdout",
     "output_type": "stream",
     "text": [
      "Epoch 727 | GCN MSE Loss: 1.1248 | NRF Loss: 1.6196 | JOINT Loss: 2.7443 | NRF Acc: 0.7668\n"
     ]
    },
    {
     "name": "stderr",
     "output_type": "stream",
     "text": [
      "Training epochs:  73%|███████▎  | 728/1000 [13:55<04:34,  1.01s/it]"
     ]
    },
    {
     "name": "stdout",
     "output_type": "stream",
     "text": [
      "Epoch 728 | GCN MSE Loss: 1.1247 | NRF Loss: 1.6183 | JOINT Loss: 2.7430 | NRF Acc: 0.7668\n"
     ]
    },
    {
     "name": "stderr",
     "output_type": "stream",
     "text": [
      "Training epochs:  73%|███████▎  | 729/1000 [13:56<04:34,  1.01s/it]"
     ]
    },
    {
     "name": "stdout",
     "output_type": "stream",
     "text": [
      "Epoch 729 | GCN MSE Loss: 1.1247 | NRF Loss: 1.6170 | JOINT Loss: 2.7417 | NRF Acc: 0.7668\n"
     ]
    },
    {
     "name": "stderr",
     "output_type": "stream",
     "text": [
      "Training epochs:  73%|███████▎  | 730/1000 [13:57<04:34,  1.02s/it]"
     ]
    },
    {
     "name": "stdout",
     "output_type": "stream",
     "text": [
      "Epoch 730 | GCN MSE Loss: 1.1246 | NRF Loss: 1.6157 | JOINT Loss: 2.7403 | NRF Acc: 0.7668\n"
     ]
    },
    {
     "name": "stderr",
     "output_type": "stream",
     "text": [
      "Training epochs:  73%|███████▎  | 731/1000 [13:58<04:34,  1.02s/it]"
     ]
    },
    {
     "name": "stdout",
     "output_type": "stream",
     "text": [
      "Epoch 731 | GCN MSE Loss: 1.1245 | NRF Loss: 1.6145 | JOINT Loss: 2.7390 | NRF Acc: 0.7666\n"
     ]
    },
    {
     "name": "stderr",
     "output_type": "stream",
     "text": [
      "Training epochs:  73%|███████▎  | 732/1000 [13:59<04:33,  1.02s/it]"
     ]
    },
    {
     "name": "stdout",
     "output_type": "stream",
     "text": [
      "Epoch 732 | GCN MSE Loss: 1.1245 | NRF Loss: 1.6132 | JOINT Loss: 2.7377 | NRF Acc: 0.7666\n"
     ]
    },
    {
     "name": "stderr",
     "output_type": "stream",
     "text": [
      "Training epochs:  73%|███████▎  | 733/1000 [14:00<04:32,  1.02s/it]"
     ]
    },
    {
     "name": "stdout",
     "output_type": "stream",
     "text": [
      "Epoch 733 | GCN MSE Loss: 1.1244 | NRF Loss: 1.6119 | JOINT Loss: 2.7363 | NRF Acc: 0.7666\n"
     ]
    },
    {
     "name": "stderr",
     "output_type": "stream",
     "text": [
      "Training epochs:  73%|███████▎  | 734/1000 [14:01<04:31,  1.02s/it]"
     ]
    },
    {
     "name": "stdout",
     "output_type": "stream",
     "text": [
      "Epoch 734 | GCN MSE Loss: 1.1244 | NRF Loss: 1.6106 | JOINT Loss: 2.7350 | NRF Acc: 0.7666\n"
     ]
    },
    {
     "name": "stderr",
     "output_type": "stream",
     "text": [
      "Training epochs:  74%|███████▎  | 735/1000 [14:02<04:31,  1.02s/it]"
     ]
    },
    {
     "name": "stdout",
     "output_type": "stream",
     "text": [
      "Epoch 735 | GCN MSE Loss: 1.1243 | NRF Loss: 1.6094 | JOINT Loss: 2.7337 | NRF Acc: 0.7664\n"
     ]
    },
    {
     "name": "stderr",
     "output_type": "stream",
     "text": [
      "Training epochs:  74%|███████▎  | 736/1000 [14:03<04:30,  1.02s/it]"
     ]
    },
    {
     "name": "stdout",
     "output_type": "stream",
     "text": [
      "Epoch 736 | GCN MSE Loss: 1.1243 | NRF Loss: 1.6081 | JOINT Loss: 2.7324 | NRF Acc: 0.7666\n"
     ]
    },
    {
     "name": "stderr",
     "output_type": "stream",
     "text": [
      "Training epochs:  74%|███████▎  | 737/1000 [14:04<04:29,  1.02s/it]"
     ]
    },
    {
     "name": "stdout",
     "output_type": "stream",
     "text": [
      "Epoch 737 | GCN MSE Loss: 1.1242 | NRF Loss: 1.6068 | JOINT Loss: 2.7310 | NRF Acc: 0.7666\n"
     ]
    },
    {
     "name": "stderr",
     "output_type": "stream",
     "text": [
      "Training epochs:  74%|███████▍  | 738/1000 [14:05<04:28,  1.03s/it]"
     ]
    },
    {
     "name": "stdout",
     "output_type": "stream",
     "text": [
      "Epoch 738 | GCN MSE Loss: 1.1241 | NRF Loss: 1.6056 | JOINT Loss: 2.7297 | NRF Acc: 0.7664\n"
     ]
    },
    {
     "name": "stderr",
     "output_type": "stream",
     "text": [
      "Training epochs:  74%|███████▍  | 739/1000 [14:06<04:27,  1.03s/it]"
     ]
    },
    {
     "name": "stdout",
     "output_type": "stream",
     "text": [
      "Epoch 739 | GCN MSE Loss: 1.1241 | NRF Loss: 1.6043 | JOINT Loss: 2.7284 | NRF Acc: 0.7664\n"
     ]
    },
    {
     "name": "stderr",
     "output_type": "stream",
     "text": [
      "Training epochs:  74%|███████▍  | 740/1000 [14:07<04:26,  1.03s/it]"
     ]
    },
    {
     "name": "stdout",
     "output_type": "stream",
     "text": [
      "Epoch 740 | GCN MSE Loss: 1.1240 | NRF Loss: 1.6030 | JOINT Loss: 2.7271 | NRF Acc: 0.7664\n"
     ]
    },
    {
     "name": "stderr",
     "output_type": "stream",
     "text": [
      "Training epochs:  74%|███████▍  | 741/1000 [14:08<04:25,  1.03s/it]"
     ]
    },
    {
     "name": "stdout",
     "output_type": "stream",
     "text": [
      "Epoch 741 | GCN MSE Loss: 1.1240 | NRF Loss: 1.6018 | JOINT Loss: 2.7258 | NRF Acc: 0.7666\n"
     ]
    },
    {
     "name": "stderr",
     "output_type": "stream",
     "text": [
      "Training epochs:  74%|███████▍  | 742/1000 [14:09<04:24,  1.03s/it]"
     ]
    },
    {
     "name": "stdout",
     "output_type": "stream",
     "text": [
      "Epoch 742 | GCN MSE Loss: 1.1239 | NRF Loss: 1.6005 | JOINT Loss: 2.7244 | NRF Acc: 0.7668\n"
     ]
    },
    {
     "name": "stderr",
     "output_type": "stream",
     "text": [
      "Training epochs:  74%|███████▍  | 743/1000 [14:10<04:23,  1.03s/it]"
     ]
    },
    {
     "name": "stdout",
     "output_type": "stream",
     "text": [
      "Epoch 743 | GCN MSE Loss: 1.1239 | NRF Loss: 1.5993 | JOINT Loss: 2.7231 | NRF Acc: 0.7668\n"
     ]
    },
    {
     "name": "stderr",
     "output_type": "stream",
     "text": [
      "Training epochs:  74%|███████▍  | 744/1000 [14:11<04:22,  1.03s/it]"
     ]
    },
    {
     "name": "stdout",
     "output_type": "stream",
     "text": [
      "Epoch 744 | GCN MSE Loss: 1.1238 | NRF Loss: 1.5980 | JOINT Loss: 2.7218 | NRF Acc: 0.7668\n"
     ]
    },
    {
     "name": "stderr",
     "output_type": "stream",
     "text": [
      "Training epochs:  74%|███████▍  | 745/1000 [14:12<04:21,  1.03s/it]"
     ]
    },
    {
     "name": "stdout",
     "output_type": "stream",
     "text": [
      "Epoch 745 | GCN MSE Loss: 1.1238 | NRF Loss: 1.5968 | JOINT Loss: 2.7205 | NRF Acc: 0.7668\n"
     ]
    },
    {
     "name": "stderr",
     "output_type": "stream",
     "text": [
      "Training epochs:  75%|███████▍  | 746/1000 [14:13<04:20,  1.03s/it]"
     ]
    },
    {
     "name": "stdout",
     "output_type": "stream",
     "text": [
      "Epoch 746 | GCN MSE Loss: 1.1237 | NRF Loss: 1.5955 | JOINT Loss: 2.7192 | NRF Acc: 0.7666\n"
     ]
    },
    {
     "name": "stderr",
     "output_type": "stream",
     "text": [
      "Training epochs:  75%|███████▍  | 747/1000 [14:14<04:19,  1.02s/it]"
     ]
    },
    {
     "name": "stdout",
     "output_type": "stream",
     "text": [
      "Epoch 747 | GCN MSE Loss: 1.1236 | NRF Loss: 1.5943 | JOINT Loss: 2.7179 | NRF Acc: 0.7666\n"
     ]
    },
    {
     "name": "stderr",
     "output_type": "stream",
     "text": [
      "Training epochs:  75%|███████▍  | 748/1000 [14:15<04:18,  1.02s/it]"
     ]
    },
    {
     "name": "stdout",
     "output_type": "stream",
     "text": [
      "Epoch 748 | GCN MSE Loss: 1.1236 | NRF Loss: 1.5930 | JOINT Loss: 2.7166 | NRF Acc: 0.7666\n"
     ]
    },
    {
     "name": "stderr",
     "output_type": "stream",
     "text": [
      "Training epochs:  75%|███████▍  | 749/1000 [14:16<04:17,  1.02s/it]"
     ]
    },
    {
     "name": "stdout",
     "output_type": "stream",
     "text": [
      "Epoch 749 | GCN MSE Loss: 1.1235 | NRF Loss: 1.5918 | JOINT Loss: 2.7153 | NRF Acc: 0.7666\n"
     ]
    },
    {
     "name": "stderr",
     "output_type": "stream",
     "text": [
      "Training epochs:  75%|███████▌  | 750/1000 [14:17<04:15,  1.02s/it]"
     ]
    },
    {
     "name": "stdout",
     "output_type": "stream",
     "text": [
      "Epoch 750 | GCN MSE Loss: 1.1235 | NRF Loss: 1.5905 | JOINT Loss: 2.7140 | NRF Acc: 0.7666\n"
     ]
    },
    {
     "name": "stderr",
     "output_type": "stream",
     "text": [
      "Training epochs:  75%|███████▌  | 751/1000 [14:18<04:14,  1.02s/it]"
     ]
    },
    {
     "name": "stdout",
     "output_type": "stream",
     "text": [
      "Epoch 751 | GCN MSE Loss: 1.1234 | NRF Loss: 1.5893 | JOINT Loss: 2.7127 | NRF Acc: 0.7666\n"
     ]
    },
    {
     "name": "stderr",
     "output_type": "stream",
     "text": [
      "Training epochs:  75%|███████▌  | 752/1000 [14:19<04:14,  1.02s/it]"
     ]
    },
    {
     "name": "stdout",
     "output_type": "stream",
     "text": [
      "Epoch 752 | GCN MSE Loss: 1.1234 | NRF Loss: 1.5880 | JOINT Loss: 2.7114 | NRF Acc: 0.7666\n"
     ]
    },
    {
     "name": "stderr",
     "output_type": "stream",
     "text": [
      "Training epochs:  75%|███████▌  | 753/1000 [14:20<04:13,  1.02s/it]"
     ]
    },
    {
     "name": "stdout",
     "output_type": "stream",
     "text": [
      "Epoch 753 | GCN MSE Loss: 1.1233 | NRF Loss: 1.5868 | JOINT Loss: 2.7101 | NRF Acc: 0.7666\n"
     ]
    },
    {
     "name": "stderr",
     "output_type": "stream",
     "text": [
      "Training epochs:  75%|███████▌  | 754/1000 [14:21<04:12,  1.02s/it]"
     ]
    },
    {
     "name": "stdout",
     "output_type": "stream",
     "text": [
      "Epoch 754 | GCN MSE Loss: 1.1233 | NRF Loss: 1.5856 | JOINT Loss: 2.7088 | NRF Acc: 0.7666\n"
     ]
    },
    {
     "name": "stderr",
     "output_type": "stream",
     "text": [
      "Training epochs:  76%|███████▌  | 755/1000 [14:22<04:11,  1.03s/it]"
     ]
    },
    {
     "name": "stdout",
     "output_type": "stream",
     "text": [
      "Epoch 755 | GCN MSE Loss: 1.1232 | NRF Loss: 1.5843 | JOINT Loss: 2.7076 | NRF Acc: 0.7666\n"
     ]
    },
    {
     "name": "stderr",
     "output_type": "stream",
     "text": [
      "Training epochs:  76%|███████▌  | 756/1000 [14:23<04:10,  1.03s/it]"
     ]
    },
    {
     "name": "stdout",
     "output_type": "stream",
     "text": [
      "Epoch 756 | GCN MSE Loss: 1.1232 | NRF Loss: 1.5831 | JOINT Loss: 2.7063 | NRF Acc: 0.7668\n"
     ]
    },
    {
     "name": "stderr",
     "output_type": "stream",
     "text": [
      "Training epochs:  76%|███████▌  | 757/1000 [14:25<04:09,  1.03s/it]"
     ]
    },
    {
     "name": "stdout",
     "output_type": "stream",
     "text": [
      "Epoch 757 | GCN MSE Loss: 1.1231 | NRF Loss: 1.5819 | JOINT Loss: 2.7050 | NRF Acc: 0.7668\n"
     ]
    },
    {
     "name": "stderr",
     "output_type": "stream",
     "text": [
      "Training epochs:  76%|███████▌  | 758/1000 [14:26<04:08,  1.03s/it]"
     ]
    },
    {
     "name": "stdout",
     "output_type": "stream",
     "text": [
      "Epoch 758 | GCN MSE Loss: 1.1231 | NRF Loss: 1.5807 | JOINT Loss: 2.7037 | NRF Acc: 0.7668\n"
     ]
    },
    {
     "name": "stderr",
     "output_type": "stream",
     "text": [
      "Training epochs:  76%|███████▌  | 759/1000 [14:27<04:07,  1.03s/it]"
     ]
    },
    {
     "name": "stdout",
     "output_type": "stream",
     "text": [
      "Epoch 759 | GCN MSE Loss: 1.1230 | NRF Loss: 1.5794 | JOINT Loss: 2.7024 | NRF Acc: 0.7668\n"
     ]
    },
    {
     "name": "stderr",
     "output_type": "stream",
     "text": [
      "Training epochs:  76%|███████▌  | 760/1000 [14:28<04:06,  1.03s/it]"
     ]
    },
    {
     "name": "stdout",
     "output_type": "stream",
     "text": [
      "Epoch 760 | GCN MSE Loss: 1.1230 | NRF Loss: 1.5782 | JOINT Loss: 2.7012 | NRF Acc: 0.7668\n"
     ]
    },
    {
     "name": "stderr",
     "output_type": "stream",
     "text": [
      "Training epochs:  76%|███████▌  | 761/1000 [14:29<04:05,  1.03s/it]"
     ]
    },
    {
     "name": "stdout",
     "output_type": "stream",
     "text": [
      "Epoch 761 | GCN MSE Loss: 1.1229 | NRF Loss: 1.5770 | JOINT Loss: 2.6999 | NRF Acc: 0.7668\n"
     ]
    },
    {
     "name": "stderr",
     "output_type": "stream",
     "text": [
      "Training epochs:  76%|███████▌  | 762/1000 [14:30<04:04,  1.03s/it]"
     ]
    },
    {
     "name": "stdout",
     "output_type": "stream",
     "text": [
      "Epoch 762 | GCN MSE Loss: 1.1228 | NRF Loss: 1.5758 | JOINT Loss: 2.6986 | NRF Acc: 0.7668\n"
     ]
    },
    {
     "name": "stderr",
     "output_type": "stream",
     "text": [
      "Training epochs:  76%|███████▋  | 763/1000 [14:31<04:03,  1.03s/it]"
     ]
    },
    {
     "name": "stdout",
     "output_type": "stream",
     "text": [
      "Epoch 763 | GCN MSE Loss: 1.1228 | NRF Loss: 1.5745 | JOINT Loss: 2.6973 | NRF Acc: 0.7668\n"
     ]
    },
    {
     "name": "stderr",
     "output_type": "stream",
     "text": [
      "Training epochs:  76%|███████▋  | 764/1000 [14:32<04:29,  1.14s/it]"
     ]
    },
    {
     "name": "stdout",
     "output_type": "stream",
     "text": [
      "Epoch 764 | GCN MSE Loss: 1.1227 | NRF Loss: 1.5733 | JOINT Loss: 2.6961 | NRF Acc: 0.7670\n"
     ]
    },
    {
     "name": "stderr",
     "output_type": "stream",
     "text": [
      "Training epochs:  76%|███████▋  | 765/1000 [14:33<04:20,  1.11s/it]"
     ]
    },
    {
     "name": "stdout",
     "output_type": "stream",
     "text": [
      "Epoch 765 | GCN MSE Loss: 1.1227 | NRF Loss: 1.5721 | JOINT Loss: 2.6948 | NRF Acc: 0.7670\n"
     ]
    },
    {
     "name": "stderr",
     "output_type": "stream",
     "text": [
      "Training epochs:  77%|███████▋  | 766/1000 [14:34<04:13,  1.08s/it]"
     ]
    },
    {
     "name": "stdout",
     "output_type": "stream",
     "text": [
      "Epoch 766 | GCN MSE Loss: 1.1226 | NRF Loss: 1.5709 | JOINT Loss: 2.6935 | NRF Acc: 0.7670\n"
     ]
    },
    {
     "name": "stderr",
     "output_type": "stream",
     "text": [
      "Training epochs:  77%|███████▋  | 767/1000 [14:35<04:08,  1.07s/it]"
     ]
    },
    {
     "name": "stdout",
     "output_type": "stream",
     "text": [
      "Epoch 767 | GCN MSE Loss: 1.1226 | NRF Loss: 1.5697 | JOINT Loss: 2.6923 | NRF Acc: 0.7666\n"
     ]
    },
    {
     "name": "stderr",
     "output_type": "stream",
     "text": [
      "Training epochs:  77%|███████▋  | 768/1000 [14:36<04:04,  1.05s/it]"
     ]
    },
    {
     "name": "stdout",
     "output_type": "stream",
     "text": [
      "Epoch 768 | GCN MSE Loss: 1.1225 | NRF Loss: 1.5685 | JOINT Loss: 2.6910 | NRF Acc: 0.7664\n"
     ]
    },
    {
     "name": "stderr",
     "output_type": "stream",
     "text": [
      "Training epochs:  77%|███████▋  | 769/1000 [14:37<04:01,  1.05s/it]"
     ]
    },
    {
     "name": "stdout",
     "output_type": "stream",
     "text": [
      "Epoch 769 | GCN MSE Loss: 1.1225 | NRF Loss: 1.5673 | JOINT Loss: 2.6898 | NRF Acc: 0.7664\n"
     ]
    },
    {
     "name": "stderr",
     "output_type": "stream",
     "text": [
      "Training epochs:  77%|███████▋  | 770/1000 [14:38<03:59,  1.04s/it]"
     ]
    },
    {
     "name": "stdout",
     "output_type": "stream",
     "text": [
      "Epoch 770 | GCN MSE Loss: 1.1224 | NRF Loss: 1.5661 | JOINT Loss: 2.6885 | NRF Acc: 0.7664\n"
     ]
    },
    {
     "name": "stderr",
     "output_type": "stream",
     "text": [
      "Training epochs:  77%|███████▋  | 771/1000 [14:39<03:57,  1.04s/it]"
     ]
    },
    {
     "name": "stdout",
     "output_type": "stream",
     "text": [
      "Epoch 771 | GCN MSE Loss: 1.1224 | NRF Loss: 1.5649 | JOINT Loss: 2.6872 | NRF Acc: 0.7664\n"
     ]
    },
    {
     "name": "stderr",
     "output_type": "stream",
     "text": [
      "Training epochs:  77%|███████▋  | 772/1000 [14:40<03:55,  1.03s/it]"
     ]
    },
    {
     "name": "stdout",
     "output_type": "stream",
     "text": [
      "Epoch 772 | GCN MSE Loss: 1.1223 | NRF Loss: 1.5637 | JOINT Loss: 2.6860 | NRF Acc: 0.7664\n"
     ]
    },
    {
     "name": "stderr",
     "output_type": "stream",
     "text": [
      "Training epochs:  77%|███████▋  | 773/1000 [14:41<03:53,  1.03s/it]"
     ]
    },
    {
     "name": "stdout",
     "output_type": "stream",
     "text": [
      "Epoch 773 | GCN MSE Loss: 1.1223 | NRF Loss: 1.5625 | JOINT Loss: 2.6847 | NRF Acc: 0.7664\n"
     ]
    },
    {
     "name": "stderr",
     "output_type": "stream",
     "text": [
      "Training epochs:  77%|███████▋  | 774/1000 [14:42<03:52,  1.03s/it]"
     ]
    },
    {
     "name": "stdout",
     "output_type": "stream",
     "text": [
      "Epoch 774 | GCN MSE Loss: 1.1222 | NRF Loss: 1.5613 | JOINT Loss: 2.6835 | NRF Acc: 0.7664\n"
     ]
    },
    {
     "name": "stderr",
     "output_type": "stream",
     "text": [
      "Training epochs:  78%|███████▊  | 775/1000 [14:43<03:51,  1.03s/it]"
     ]
    },
    {
     "name": "stdout",
     "output_type": "stream",
     "text": [
      "Epoch 775 | GCN MSE Loss: 1.1222 | NRF Loss: 1.5601 | JOINT Loss: 2.6822 | NRF Acc: 0.7666\n"
     ]
    },
    {
     "name": "stderr",
     "output_type": "stream",
     "text": [
      "Training epochs:  78%|███████▊  | 776/1000 [14:44<03:50,  1.03s/it]"
     ]
    },
    {
     "name": "stdout",
     "output_type": "stream",
     "text": [
      "Epoch 776 | GCN MSE Loss: 1.1221 | NRF Loss: 1.5589 | JOINT Loss: 2.6810 | NRF Acc: 0.7666\n"
     ]
    },
    {
     "name": "stderr",
     "output_type": "stream",
     "text": [
      "Training epochs:  78%|███████▊  | 777/1000 [14:45<03:48,  1.03s/it]"
     ]
    },
    {
     "name": "stdout",
     "output_type": "stream",
     "text": [
      "Epoch 777 | GCN MSE Loss: 1.1221 | NRF Loss: 1.5577 | JOINT Loss: 2.6797 | NRF Acc: 0.7666\n"
     ]
    },
    {
     "name": "stderr",
     "output_type": "stream",
     "text": [
      "Training epochs:  78%|███████▊  | 778/1000 [14:46<03:47,  1.03s/it]"
     ]
    },
    {
     "name": "stdout",
     "output_type": "stream",
     "text": [
      "Epoch 778 | GCN MSE Loss: 1.1220 | NRF Loss: 1.5565 | JOINT Loss: 2.6785 | NRF Acc: 0.7666\n"
     ]
    },
    {
     "name": "stderr",
     "output_type": "stream",
     "text": [
      "Training epochs:  78%|███████▊  | 779/1000 [14:47<03:46,  1.03s/it]"
     ]
    },
    {
     "name": "stdout",
     "output_type": "stream",
     "text": [
      "Epoch 779 | GCN MSE Loss: 1.1220 | NRF Loss: 1.5553 | JOINT Loss: 2.6773 | NRF Acc: 0.7666\n"
     ]
    },
    {
     "name": "stderr",
     "output_type": "stream",
     "text": [
      "Training epochs:  78%|███████▊  | 780/1000 [14:49<03:45,  1.03s/it]"
     ]
    },
    {
     "name": "stdout",
     "output_type": "stream",
     "text": [
      "Epoch 780 | GCN MSE Loss: 1.1219 | NRF Loss: 1.5541 | JOINT Loss: 2.6760 | NRF Acc: 0.7666\n"
     ]
    },
    {
     "name": "stderr",
     "output_type": "stream",
     "text": [
      "Training epochs:  78%|███████▊  | 781/1000 [14:50<03:44,  1.03s/it]"
     ]
    },
    {
     "name": "stdout",
     "output_type": "stream",
     "text": [
      "Epoch 781 | GCN MSE Loss: 1.1219 | NRF Loss: 1.5529 | JOINT Loss: 2.6748 | NRF Acc: 0.7666\n"
     ]
    },
    {
     "name": "stderr",
     "output_type": "stream",
     "text": [
      "Training epochs:  78%|███████▊  | 782/1000 [14:51<03:43,  1.03s/it]"
     ]
    },
    {
     "name": "stdout",
     "output_type": "stream",
     "text": [
      "Epoch 782 | GCN MSE Loss: 1.1218 | NRF Loss: 1.5517 | JOINT Loss: 2.6735 | NRF Acc: 0.7666\n"
     ]
    },
    {
     "name": "stderr",
     "output_type": "stream",
     "text": [
      "Training epochs:  78%|███████▊  | 783/1000 [14:52<03:42,  1.03s/it]"
     ]
    },
    {
     "name": "stdout",
     "output_type": "stream",
     "text": [
      "Epoch 783 | GCN MSE Loss: 1.1218 | NRF Loss: 1.5505 | JOINT Loss: 2.6723 | NRF Acc: 0.7668\n"
     ]
    },
    {
     "name": "stderr",
     "output_type": "stream",
     "text": [
      "Training epochs:  78%|███████▊  | 784/1000 [14:53<03:41,  1.03s/it]"
     ]
    },
    {
     "name": "stdout",
     "output_type": "stream",
     "text": [
      "Epoch 784 | GCN MSE Loss: 1.1217 | NRF Loss: 1.5493 | JOINT Loss: 2.6711 | NRF Acc: 0.7666\n"
     ]
    },
    {
     "name": "stderr",
     "output_type": "stream",
     "text": [
      "Training epochs:  78%|███████▊  | 785/1000 [14:54<03:40,  1.03s/it]"
     ]
    },
    {
     "name": "stdout",
     "output_type": "stream",
     "text": [
      "Epoch 785 | GCN MSE Loss: 1.1217 | NRF Loss: 1.5482 | JOINT Loss: 2.6698 | NRF Acc: 0.7666\n"
     ]
    },
    {
     "name": "stderr",
     "output_type": "stream",
     "text": [
      "Training epochs:  79%|███████▊  | 786/1000 [14:55<03:39,  1.03s/it]"
     ]
    },
    {
     "name": "stdout",
     "output_type": "stream",
     "text": [
      "Epoch 786 | GCN MSE Loss: 1.1216 | NRF Loss: 1.5470 | JOINT Loss: 2.6686 | NRF Acc: 0.7666\n"
     ]
    },
    {
     "name": "stderr",
     "output_type": "stream",
     "text": [
      "Training epochs:  79%|███████▊  | 787/1000 [14:56<03:38,  1.03s/it]"
     ]
    },
    {
     "name": "stdout",
     "output_type": "stream",
     "text": [
      "Epoch 787 | GCN MSE Loss: 1.1216 | NRF Loss: 1.5458 | JOINT Loss: 2.6674 | NRF Acc: 0.7666\n"
     ]
    },
    {
     "name": "stderr",
     "output_type": "stream",
     "text": [
      "Training epochs:  79%|███████▉  | 788/1000 [14:57<03:37,  1.03s/it]"
     ]
    },
    {
     "name": "stdout",
     "output_type": "stream",
     "text": [
      "Epoch 788 | GCN MSE Loss: 1.1215 | NRF Loss: 1.5446 | JOINT Loss: 2.6662 | NRF Acc: 0.7666\n"
     ]
    },
    {
     "name": "stderr",
     "output_type": "stream",
     "text": [
      "Training epochs:  79%|███████▉  | 789/1000 [14:58<03:36,  1.03s/it]"
     ]
    },
    {
     "name": "stdout",
     "output_type": "stream",
     "text": [
      "Epoch 789 | GCN MSE Loss: 1.1215 | NRF Loss: 1.5434 | JOINT Loss: 2.6649 | NRF Acc: 0.7666\n"
     ]
    },
    {
     "name": "stderr",
     "output_type": "stream",
     "text": [
      "Training epochs:  79%|███████▉  | 790/1000 [14:59<03:35,  1.03s/it]"
     ]
    },
    {
     "name": "stdout",
     "output_type": "stream",
     "text": [
      "Epoch 790 | GCN MSE Loss: 1.1214 | NRF Loss: 1.5423 | JOINT Loss: 2.6637 | NRF Acc: 0.7666\n"
     ]
    },
    {
     "name": "stderr",
     "output_type": "stream",
     "text": [
      "Training epochs:  79%|███████▉  | 791/1000 [15:00<03:34,  1.03s/it]"
     ]
    },
    {
     "name": "stdout",
     "output_type": "stream",
     "text": [
      "Epoch 791 | GCN MSE Loss: 1.1214 | NRF Loss: 1.5411 | JOINT Loss: 2.6625 | NRF Acc: 0.7666\n"
     ]
    },
    {
     "name": "stderr",
     "output_type": "stream",
     "text": [
      "Training epochs:  79%|███████▉  | 792/1000 [15:01<03:33,  1.03s/it]"
     ]
    },
    {
     "name": "stdout",
     "output_type": "stream",
     "text": [
      "Epoch 792 | GCN MSE Loss: 1.1213 | NRF Loss: 1.5399 | JOINT Loss: 2.6613 | NRF Acc: 0.7668\n"
     ]
    },
    {
     "name": "stderr",
     "output_type": "stream",
     "text": [
      "Training epochs:  79%|███████▉  | 793/1000 [15:02<03:32,  1.02s/it]"
     ]
    },
    {
     "name": "stdout",
     "output_type": "stream",
     "text": [
      "Epoch 793 | GCN MSE Loss: 1.1213 | NRF Loss: 1.5388 | JOINT Loss: 2.6601 | NRF Acc: 0.7670\n"
     ]
    },
    {
     "name": "stderr",
     "output_type": "stream",
     "text": [
      "Training epochs:  79%|███████▉  | 794/1000 [15:03<03:30,  1.02s/it]"
     ]
    },
    {
     "name": "stdout",
     "output_type": "stream",
     "text": [
      "Epoch 794 | GCN MSE Loss: 1.1212 | NRF Loss: 1.5376 | JOINT Loss: 2.6588 | NRF Acc: 0.7670\n"
     ]
    },
    {
     "name": "stderr",
     "output_type": "stream",
     "text": [
      "Training epochs:  80%|███████▉  | 795/1000 [15:03<03:05,  1.10it/s]"
     ]
    },
    {
     "name": "stdout",
     "output_type": "stream",
     "text": [
      "Epoch 795 | GCN MSE Loss: 1.1212 | NRF Loss: 1.5364 | JOINT Loss: 2.6576 | NRF Acc: 0.7668\n"
     ]
    },
    {
     "name": "stderr",
     "output_type": "stream",
     "text": [
      "Training epochs:  80%|███████▉  | 796/1000 [15:04<03:00,  1.13it/s]"
     ]
    },
    {
     "name": "stdout",
     "output_type": "stream",
     "text": [
      "Epoch 796 | GCN MSE Loss: 1.1212 | NRF Loss: 1.5353 | JOINT Loss: 2.6564 | NRF Acc: 0.7668\n"
     ]
    },
    {
     "name": "stderr",
     "output_type": "stream",
     "text": [
      "Training epochs:  80%|███████▉  | 797/1000 [15:05<03:08,  1.08it/s]"
     ]
    },
    {
     "name": "stdout",
     "output_type": "stream",
     "text": [
      "Epoch 797 | GCN MSE Loss: 1.1211 | NRF Loss: 1.5341 | JOINT Loss: 2.6552 | NRF Acc: 0.7668\n"
     ]
    },
    {
     "name": "stderr",
     "output_type": "stream",
     "text": [
      "Training epochs:  80%|███████▉  | 798/1000 [15:06<03:13,  1.04it/s]"
     ]
    },
    {
     "name": "stdout",
     "output_type": "stream",
     "text": [
      "Epoch 798 | GCN MSE Loss: 1.1211 | NRF Loss: 1.5329 | JOINT Loss: 2.6540 | NRF Acc: 0.7668\n"
     ]
    },
    {
     "name": "stderr",
     "output_type": "stream",
     "text": [
      "Training epochs:  80%|███████▉  | 799/1000 [15:07<03:16,  1.02it/s]"
     ]
    },
    {
     "name": "stdout",
     "output_type": "stream",
     "text": [
      "Epoch 799 | GCN MSE Loss: 1.1210 | NRF Loss: 1.5318 | JOINT Loss: 2.6528 | NRF Acc: 0.7668\n"
     ]
    },
    {
     "name": "stderr",
     "output_type": "stream",
     "text": [
      "Training epochs:  80%|████████  | 800/1000 [15:08<03:18,  1.01it/s]"
     ]
    },
    {
     "name": "stdout",
     "output_type": "stream",
     "text": [
      "Epoch 800 | GCN MSE Loss: 1.1210 | NRF Loss: 1.5306 | JOINT Loss: 2.6516 | NRF Acc: 0.7668\n"
     ]
    },
    {
     "name": "stderr",
     "output_type": "stream",
     "text": [
      "Training epochs:  80%|████████  | 801/1000 [15:09<03:19,  1.00s/it]"
     ]
    },
    {
     "name": "stdout",
     "output_type": "stream",
     "text": [
      "Epoch 801 | GCN MSE Loss: 1.1209 | NRF Loss: 1.5294 | JOINT Loss: 2.6504 | NRF Acc: 0.7668\n"
     ]
    },
    {
     "name": "stderr",
     "output_type": "stream",
     "text": [
      "Training epochs:  80%|████████  | 802/1000 [15:10<03:19,  1.01s/it]"
     ]
    },
    {
     "name": "stdout",
     "output_type": "stream",
     "text": [
      "Epoch 802 | GCN MSE Loss: 1.1209 | NRF Loss: 1.5283 | JOINT Loss: 2.6492 | NRF Acc: 0.7666\n"
     ]
    },
    {
     "name": "stderr",
     "output_type": "stream",
     "text": [
      "Training epochs:  80%|████████  | 803/1000 [15:12<03:19,  1.01s/it]"
     ]
    },
    {
     "name": "stdout",
     "output_type": "stream",
     "text": [
      "Epoch 803 | GCN MSE Loss: 1.1208 | NRF Loss: 1.5271 | JOINT Loss: 2.6480 | NRF Acc: 0.7664\n"
     ]
    },
    {
     "name": "stderr",
     "output_type": "stream",
     "text": [
      "Training epochs:  80%|████████  | 804/1000 [15:13<03:19,  1.02s/it]"
     ]
    },
    {
     "name": "stdout",
     "output_type": "stream",
     "text": [
      "Epoch 804 | GCN MSE Loss: 1.1208 | NRF Loss: 1.5260 | JOINT Loss: 2.6468 | NRF Acc: 0.7664\n"
     ]
    },
    {
     "name": "stderr",
     "output_type": "stream",
     "text": [
      "Training epochs:  80%|████████  | 805/1000 [15:14<03:18,  1.02s/it]"
     ]
    },
    {
     "name": "stdout",
     "output_type": "stream",
     "text": [
      "Epoch 805 | GCN MSE Loss: 1.1207 | NRF Loss: 1.5248 | JOINT Loss: 2.6456 | NRF Acc: 0.7664\n"
     ]
    },
    {
     "name": "stderr",
     "output_type": "stream",
     "text": [
      "Training epochs:  81%|████████  | 806/1000 [15:15<03:18,  1.02s/it]"
     ]
    },
    {
     "name": "stdout",
     "output_type": "stream",
     "text": [
      "Epoch 806 | GCN MSE Loss: 1.1207 | NRF Loss: 1.5237 | JOINT Loss: 2.6444 | NRF Acc: 0.7664\n"
     ]
    },
    {
     "name": "stderr",
     "output_type": "stream",
     "text": [
      "Training epochs:  81%|████████  | 807/1000 [15:16<03:17,  1.02s/it]"
     ]
    },
    {
     "name": "stdout",
     "output_type": "stream",
     "text": [
      "Epoch 807 | GCN MSE Loss: 1.1207 | NRF Loss: 1.5225 | JOINT Loss: 2.6432 | NRF Acc: 0.7664\n"
     ]
    },
    {
     "name": "stderr",
     "output_type": "stream",
     "text": [
      "Training epochs:  81%|████████  | 808/1000 [15:17<03:16,  1.02s/it]"
     ]
    },
    {
     "name": "stdout",
     "output_type": "stream",
     "text": [
      "Epoch 808 | GCN MSE Loss: 1.1206 | NRF Loss: 1.5214 | JOINT Loss: 2.6420 | NRF Acc: 0.7664\n"
     ]
    },
    {
     "name": "stderr",
     "output_type": "stream",
     "text": [
      "Training epochs:  81%|████████  | 809/1000 [15:18<03:15,  1.02s/it]"
     ]
    },
    {
     "name": "stdout",
     "output_type": "stream",
     "text": [
      "Epoch 809 | GCN MSE Loss: 1.1206 | NRF Loss: 1.5202 | JOINT Loss: 2.6408 | NRF Acc: 0.7664\n"
     ]
    },
    {
     "name": "stderr",
     "output_type": "stream",
     "text": [
      "Training epochs:  81%|████████  | 810/1000 [15:19<03:14,  1.02s/it]"
     ]
    },
    {
     "name": "stdout",
     "output_type": "stream",
     "text": [
      "Epoch 810 | GCN MSE Loss: 1.1205 | NRF Loss: 1.5190 | JOINT Loss: 2.6396 | NRF Acc: 0.7664\n"
     ]
    },
    {
     "name": "stderr",
     "output_type": "stream",
     "text": [
      "Training epochs:  81%|████████  | 811/1000 [15:20<03:13,  1.03s/it]"
     ]
    },
    {
     "name": "stdout",
     "output_type": "stream",
     "text": [
      "Epoch 811 | GCN MSE Loss: 1.1205 | NRF Loss: 1.5179 | JOINT Loss: 2.6384 | NRF Acc: 0.7664\n"
     ]
    },
    {
     "name": "stderr",
     "output_type": "stream",
     "text": [
      "Training epochs:  81%|████████  | 812/1000 [15:21<03:12,  1.03s/it]"
     ]
    },
    {
     "name": "stdout",
     "output_type": "stream",
     "text": [
      "Epoch 812 | GCN MSE Loss: 1.1204 | NRF Loss: 1.5168 | JOINT Loss: 2.6372 | NRF Acc: 0.7664\n"
     ]
    },
    {
     "name": "stderr",
     "output_type": "stream",
     "text": [
      "Training epochs:  81%|████████▏ | 813/1000 [15:22<03:11,  1.03s/it]"
     ]
    },
    {
     "name": "stdout",
     "output_type": "stream",
     "text": [
      "Epoch 813 | GCN MSE Loss: 1.1204 | NRF Loss: 1.5156 | JOINT Loss: 2.6360 | NRF Acc: 0.7664\n"
     ]
    },
    {
     "name": "stderr",
     "output_type": "stream",
     "text": [
      "Training epochs:  81%|████████▏ | 814/1000 [15:23<03:10,  1.03s/it]"
     ]
    },
    {
     "name": "stdout",
     "output_type": "stream",
     "text": [
      "Epoch 814 | GCN MSE Loss: 1.1203 | NRF Loss: 1.5145 | JOINT Loss: 2.6348 | NRF Acc: 0.7664\n"
     ]
    },
    {
     "name": "stderr",
     "output_type": "stream",
     "text": [
      "Training epochs:  82%|████████▏ | 815/1000 [15:24<03:09,  1.03s/it]"
     ]
    },
    {
     "name": "stdout",
     "output_type": "stream",
     "text": [
      "Epoch 815 | GCN MSE Loss: 1.1203 | NRF Loss: 1.5133 | JOINT Loss: 2.6336 | NRF Acc: 0.7664\n"
     ]
    },
    {
     "name": "stderr",
     "output_type": "stream",
     "text": [
      "Training epochs:  82%|████████▏ | 816/1000 [15:25<03:08,  1.03s/it]"
     ]
    },
    {
     "name": "stdout",
     "output_type": "stream",
     "text": [
      "Epoch 816 | GCN MSE Loss: 1.1203 | NRF Loss: 1.5122 | JOINT Loss: 2.6324 | NRF Acc: 0.7664\n"
     ]
    },
    {
     "name": "stderr",
     "output_type": "stream",
     "text": [
      "Training epochs:  82%|████████▏ | 817/1000 [15:26<03:07,  1.03s/it]"
     ]
    },
    {
     "name": "stdout",
     "output_type": "stream",
     "text": [
      "Epoch 817 | GCN MSE Loss: 1.1202 | NRF Loss: 1.5110 | JOINT Loss: 2.6312 | NRF Acc: 0.7664\n"
     ]
    },
    {
     "name": "stderr",
     "output_type": "stream",
     "text": [
      "Training epochs:  82%|████████▏ | 818/1000 [15:27<03:06,  1.02s/it]"
     ]
    },
    {
     "name": "stdout",
     "output_type": "stream",
     "text": [
      "Epoch 818 | GCN MSE Loss: 1.1202 | NRF Loss: 1.5099 | JOINT Loss: 2.6301 | NRF Acc: 0.7664\n"
     ]
    },
    {
     "name": "stderr",
     "output_type": "stream",
     "text": [
      "Training epochs:  82%|████████▏ | 819/1000 [15:28<03:05,  1.02s/it]"
     ]
    },
    {
     "name": "stdout",
     "output_type": "stream",
     "text": [
      "Epoch 819 | GCN MSE Loss: 1.1201 | NRF Loss: 1.5087 | JOINT Loss: 2.6289 | NRF Acc: 0.7664\n"
     ]
    },
    {
     "name": "stderr",
     "output_type": "stream",
     "text": [
      "Training epochs:  82%|████████▏ | 820/1000 [15:29<03:04,  1.02s/it]"
     ]
    },
    {
     "name": "stdout",
     "output_type": "stream",
     "text": [
      "Epoch 820 | GCN MSE Loss: 1.1201 | NRF Loss: 1.5076 | JOINT Loss: 2.6277 | NRF Acc: 0.7664\n"
     ]
    },
    {
     "name": "stderr",
     "output_type": "stream",
     "text": [
      "Training epochs:  82%|████████▏ | 821/1000 [15:30<03:03,  1.03s/it]"
     ]
    },
    {
     "name": "stdout",
     "output_type": "stream",
     "text": [
      "Epoch 821 | GCN MSE Loss: 1.1200 | NRF Loss: 1.5065 | JOINT Loss: 2.6265 | NRF Acc: 0.7663\n"
     ]
    },
    {
     "name": "stderr",
     "output_type": "stream",
     "text": [
      "Training epochs:  82%|████████▏ | 822/1000 [15:31<03:02,  1.03s/it]"
     ]
    },
    {
     "name": "stdout",
     "output_type": "stream",
     "text": [
      "Epoch 822 | GCN MSE Loss: 1.1200 | NRF Loss: 1.5053 | JOINT Loss: 2.6253 | NRF Acc: 0.7663\n"
     ]
    },
    {
     "name": "stderr",
     "output_type": "stream",
     "text": [
      "Training epochs:  82%|████████▏ | 823/1000 [15:32<03:01,  1.03s/it]"
     ]
    },
    {
     "name": "stdout",
     "output_type": "stream",
     "text": [
      "Epoch 823 | GCN MSE Loss: 1.1199 | NRF Loss: 1.5042 | JOINT Loss: 2.6241 | NRF Acc: 0.7661\n"
     ]
    },
    {
     "name": "stderr",
     "output_type": "stream",
     "text": [
      "Training epochs:  82%|████████▏ | 824/1000 [15:33<03:00,  1.03s/it]"
     ]
    },
    {
     "name": "stdout",
     "output_type": "stream",
     "text": [
      "Epoch 824 | GCN MSE Loss: 1.1199 | NRF Loss: 1.5031 | JOINT Loss: 2.6230 | NRF Acc: 0.7661\n"
     ]
    },
    {
     "name": "stderr",
     "output_type": "stream",
     "text": [
      "Training epochs:  82%|████████▎ | 825/1000 [15:34<02:59,  1.03s/it]"
     ]
    },
    {
     "name": "stdout",
     "output_type": "stream",
     "text": [
      "Epoch 825 | GCN MSE Loss: 1.1199 | NRF Loss: 1.5019 | JOINT Loss: 2.6218 | NRF Acc: 0.7661\n"
     ]
    },
    {
     "name": "stderr",
     "output_type": "stream",
     "text": [
      "Training epochs:  83%|████████▎ | 826/1000 [15:35<02:58,  1.03s/it]"
     ]
    },
    {
     "name": "stdout",
     "output_type": "stream",
     "text": [
      "Epoch 826 | GCN MSE Loss: 1.1198 | NRF Loss: 1.5008 | JOINT Loss: 2.6206 | NRF Acc: 0.7661\n"
     ]
    },
    {
     "name": "stderr",
     "output_type": "stream",
     "text": [
      "Training epochs:  83%|████████▎ | 827/1000 [15:36<02:57,  1.03s/it]"
     ]
    },
    {
     "name": "stdout",
     "output_type": "stream",
     "text": [
      "Epoch 827 | GCN MSE Loss: 1.1198 | NRF Loss: 1.4997 | JOINT Loss: 2.6194 | NRF Acc: 0.7661\n"
     ]
    },
    {
     "name": "stderr",
     "output_type": "stream",
     "text": [
      "Training epochs:  83%|████████▎ | 828/1000 [15:37<02:56,  1.02s/it]"
     ]
    },
    {
     "name": "stdout",
     "output_type": "stream",
     "text": [
      "Epoch 828 | GCN MSE Loss: 1.1197 | NRF Loss: 1.4985 | JOINT Loss: 2.6183 | NRF Acc: 0.7661\n"
     ]
    },
    {
     "name": "stderr",
     "output_type": "stream",
     "text": [
      "Training epochs:  83%|████████▎ | 829/1000 [15:38<02:55,  1.03s/it]"
     ]
    },
    {
     "name": "stdout",
     "output_type": "stream",
     "text": [
      "Epoch 829 | GCN MSE Loss: 1.1197 | NRF Loss: 1.4974 | JOINT Loss: 2.6171 | NRF Acc: 0.7661\n"
     ]
    },
    {
     "name": "stderr",
     "output_type": "stream",
     "text": [
      "Training epochs:  83%|████████▎ | 830/1000 [15:39<02:54,  1.02s/it]"
     ]
    },
    {
     "name": "stdout",
     "output_type": "stream",
     "text": [
      "Epoch 830 | GCN MSE Loss: 1.1197 | NRF Loss: 1.4963 | JOINT Loss: 2.6159 | NRF Acc: 0.7661\n"
     ]
    },
    {
     "name": "stderr",
     "output_type": "stream",
     "text": [
      "Training epochs:  83%|████████▎ | 831/1000 [15:40<02:53,  1.03s/it]"
     ]
    },
    {
     "name": "stdout",
     "output_type": "stream",
     "text": [
      "Epoch 831 | GCN MSE Loss: 1.1196 | NRF Loss: 1.4952 | JOINT Loss: 2.6148 | NRF Acc: 0.7661\n"
     ]
    },
    {
     "name": "stderr",
     "output_type": "stream",
     "text": [
      "Training epochs:  83%|████████▎ | 832/1000 [15:41<02:52,  1.03s/it]"
     ]
    },
    {
     "name": "stdout",
     "output_type": "stream",
     "text": [
      "Epoch 832 | GCN MSE Loss: 1.1196 | NRF Loss: 1.4940 | JOINT Loss: 2.6136 | NRF Acc: 0.7659\n"
     ]
    },
    {
     "name": "stderr",
     "output_type": "stream",
     "text": [
      "Training epochs:  83%|████████▎ | 833/1000 [15:42<02:51,  1.03s/it]"
     ]
    },
    {
     "name": "stdout",
     "output_type": "stream",
     "text": [
      "Epoch 833 | GCN MSE Loss: 1.1195 | NRF Loss: 1.4929 | JOINT Loss: 2.6124 | NRF Acc: 0.7659\n"
     ]
    },
    {
     "name": "stderr",
     "output_type": "stream",
     "text": [
      "Training epochs:  83%|████████▎ | 834/1000 [15:43<02:50,  1.03s/it]"
     ]
    },
    {
     "name": "stdout",
     "output_type": "stream",
     "text": [
      "Epoch 834 | GCN MSE Loss: 1.1195 | NRF Loss: 1.4918 | JOINT Loss: 2.6113 | NRF Acc: 0.7659\n"
     ]
    },
    {
     "name": "stderr",
     "output_type": "stream",
     "text": [
      "Training epochs:  84%|████████▎ | 835/1000 [15:44<02:49,  1.03s/it]"
     ]
    },
    {
     "name": "stdout",
     "output_type": "stream",
     "text": [
      "Epoch 835 | GCN MSE Loss: 1.1194 | NRF Loss: 1.4907 | JOINT Loss: 2.6101 | NRF Acc: 0.7659\n"
     ]
    },
    {
     "name": "stderr",
     "output_type": "stream",
     "text": [
      "Training epochs:  84%|████████▎ | 836/1000 [15:45<02:48,  1.03s/it]"
     ]
    },
    {
     "name": "stdout",
     "output_type": "stream",
     "text": [
      "Epoch 836 | GCN MSE Loss: 1.1194 | NRF Loss: 1.4896 | JOINT Loss: 2.6090 | NRF Acc: 0.7659\n"
     ]
    },
    {
     "name": "stderr",
     "output_type": "stream",
     "text": [
      "Training epochs:  84%|████████▎ | 837/1000 [15:46<02:47,  1.03s/it]"
     ]
    },
    {
     "name": "stdout",
     "output_type": "stream",
     "text": [
      "Epoch 837 | GCN MSE Loss: 1.1194 | NRF Loss: 1.4884 | JOINT Loss: 2.6078 | NRF Acc: 0.7659\n"
     ]
    },
    {
     "name": "stderr",
     "output_type": "stream",
     "text": [
      "Training epochs:  84%|████████▍ | 838/1000 [15:47<02:46,  1.02s/it]"
     ]
    },
    {
     "name": "stdout",
     "output_type": "stream",
     "text": [
      "Epoch 838 | GCN MSE Loss: 1.1193 | NRF Loss: 1.4873 | JOINT Loss: 2.6066 | NRF Acc: 0.7659\n"
     ]
    },
    {
     "name": "stderr",
     "output_type": "stream",
     "text": [
      "Training epochs:  84%|████████▍ | 839/1000 [15:48<02:44,  1.02s/it]"
     ]
    },
    {
     "name": "stdout",
     "output_type": "stream",
     "text": [
      "Epoch 839 | GCN MSE Loss: 1.1193 | NRF Loss: 1.4862 | JOINT Loss: 2.6055 | NRF Acc: 0.7661\n"
     ]
    },
    {
     "name": "stderr",
     "output_type": "stream",
     "text": [
      "Training epochs:  84%|████████▍ | 840/1000 [15:49<02:44,  1.03s/it]"
     ]
    },
    {
     "name": "stdout",
     "output_type": "stream",
     "text": [
      "Epoch 840 | GCN MSE Loss: 1.1192 | NRF Loss: 1.4851 | JOINT Loss: 2.6043 | NRF Acc: 0.7661\n"
     ]
    },
    {
     "name": "stderr",
     "output_type": "stream",
     "text": [
      "Training epochs:  84%|████████▍ | 841/1000 [15:50<02:43,  1.03s/it]"
     ]
    },
    {
     "name": "stdout",
     "output_type": "stream",
     "text": [
      "Epoch 841 | GCN MSE Loss: 1.1192 | NRF Loss: 1.4840 | JOINT Loss: 2.6032 | NRF Acc: 0.7661\n"
     ]
    },
    {
     "name": "stderr",
     "output_type": "stream",
     "text": [
      "Training epochs:  84%|████████▍ | 842/1000 [15:51<02:41,  1.02s/it]"
     ]
    },
    {
     "name": "stdout",
     "output_type": "stream",
     "text": [
      "Epoch 842 | GCN MSE Loss: 1.1192 | NRF Loss: 1.4829 | JOINT Loss: 2.6020 | NRF Acc: 0.7659\n"
     ]
    },
    {
     "name": "stderr",
     "output_type": "stream",
     "text": [
      "Training epochs:  84%|████████▍ | 843/1000 [15:53<02:40,  1.02s/it]"
     ]
    },
    {
     "name": "stdout",
     "output_type": "stream",
     "text": [
      "Epoch 843 | GCN MSE Loss: 1.1191 | NRF Loss: 1.4818 | JOINT Loss: 2.6009 | NRF Acc: 0.7659\n"
     ]
    },
    {
     "name": "stderr",
     "output_type": "stream",
     "text": [
      "Training epochs:  84%|████████▍ | 844/1000 [15:54<02:39,  1.02s/it]"
     ]
    },
    {
     "name": "stdout",
     "output_type": "stream",
     "text": [
      "Epoch 844 | GCN MSE Loss: 1.1191 | NRF Loss: 1.4807 | JOINT Loss: 2.5997 | NRF Acc: 0.7659\n"
     ]
    },
    {
     "name": "stderr",
     "output_type": "stream",
     "text": [
      "Training epochs:  84%|████████▍ | 845/1000 [15:55<02:38,  1.02s/it]"
     ]
    },
    {
     "name": "stdout",
     "output_type": "stream",
     "text": [
      "Epoch 845 | GCN MSE Loss: 1.1190 | NRF Loss: 1.4796 | JOINT Loss: 2.5986 | NRF Acc: 0.7659\n"
     ]
    },
    {
     "name": "stderr",
     "output_type": "stream",
     "text": [
      "Training epochs:  85%|████████▍ | 846/1000 [15:56<02:37,  1.02s/it]"
     ]
    },
    {
     "name": "stdout",
     "output_type": "stream",
     "text": [
      "Epoch 846 | GCN MSE Loss: 1.1190 | NRF Loss: 1.4785 | JOINT Loss: 2.5974 | NRF Acc: 0.7659\n"
     ]
    },
    {
     "name": "stderr",
     "output_type": "stream",
     "text": [
      "Training epochs:  85%|████████▍ | 847/1000 [15:57<02:36,  1.03s/it]"
     ]
    },
    {
     "name": "stdout",
     "output_type": "stream",
     "text": [
      "Epoch 847 | GCN MSE Loss: 1.1189 | NRF Loss: 1.4774 | JOINT Loss: 2.5963 | NRF Acc: 0.7659\n"
     ]
    },
    {
     "name": "stderr",
     "output_type": "stream",
     "text": [
      "Training epochs:  85%|████████▍ | 848/1000 [15:58<02:35,  1.03s/it]"
     ]
    },
    {
     "name": "stdout",
     "output_type": "stream",
     "text": [
      "Epoch 848 | GCN MSE Loss: 1.1189 | NRF Loss: 1.4763 | JOINT Loss: 2.5952 | NRF Acc: 0.7659\n"
     ]
    },
    {
     "name": "stderr",
     "output_type": "stream",
     "text": [
      "Training epochs:  85%|████████▍ | 849/1000 [15:59<02:34,  1.03s/it]"
     ]
    },
    {
     "name": "stdout",
     "output_type": "stream",
     "text": [
      "Epoch 849 | GCN MSE Loss: 1.1189 | NRF Loss: 1.4752 | JOINT Loss: 2.5940 | NRF Acc: 0.7659\n"
     ]
    },
    {
     "name": "stderr",
     "output_type": "stream",
     "text": [
      "Training epochs:  85%|████████▌ | 850/1000 [16:00<02:33,  1.02s/it]"
     ]
    },
    {
     "name": "stdout",
     "output_type": "stream",
     "text": [
      "Epoch 850 | GCN MSE Loss: 1.1188 | NRF Loss: 1.4741 | JOINT Loss: 2.5929 | NRF Acc: 0.7661\n"
     ]
    },
    {
     "name": "stderr",
     "output_type": "stream",
     "text": [
      "Training epochs:  85%|████████▌ | 851/1000 [16:01<02:32,  1.02s/it]"
     ]
    },
    {
     "name": "stdout",
     "output_type": "stream",
     "text": [
      "Epoch 851 | GCN MSE Loss: 1.1188 | NRF Loss: 1.4730 | JOINT Loss: 2.5917 | NRF Acc: 0.7661\n"
     ]
    },
    {
     "name": "stderr",
     "output_type": "stream",
     "text": [
      "Training epochs:  85%|████████▌ | 852/1000 [16:02<02:31,  1.02s/it]"
     ]
    },
    {
     "name": "stdout",
     "output_type": "stream",
     "text": [
      "Epoch 852 | GCN MSE Loss: 1.1187 | NRF Loss: 1.4719 | JOINT Loss: 2.5906 | NRF Acc: 0.7661\n"
     ]
    },
    {
     "name": "stderr",
     "output_type": "stream",
     "text": [
      "Training epochs:  85%|████████▌ | 853/1000 [16:03<02:30,  1.02s/it]"
     ]
    },
    {
     "name": "stdout",
     "output_type": "stream",
     "text": [
      "Epoch 853 | GCN MSE Loss: 1.1187 | NRF Loss: 1.4708 | JOINT Loss: 2.5895 | NRF Acc: 0.7659\n"
     ]
    },
    {
     "name": "stderr",
     "output_type": "stream",
     "text": [
      "Training epochs:  85%|████████▌ | 854/1000 [16:04<02:29,  1.02s/it]"
     ]
    },
    {
     "name": "stdout",
     "output_type": "stream",
     "text": [
      "Epoch 854 | GCN MSE Loss: 1.1187 | NRF Loss: 1.4697 | JOINT Loss: 2.5883 | NRF Acc: 0.7659\n"
     ]
    },
    {
     "name": "stderr",
     "output_type": "stream",
     "text": [
      "Training epochs:  86%|████████▌ | 855/1000 [16:05<02:28,  1.02s/it]"
     ]
    },
    {
     "name": "stdout",
     "output_type": "stream",
     "text": [
      "Epoch 855 | GCN MSE Loss: 1.1186 | NRF Loss: 1.4686 | JOINT Loss: 2.5872 | NRF Acc: 0.7659\n"
     ]
    },
    {
     "name": "stderr",
     "output_type": "stream",
     "text": [
      "Training epochs:  86%|████████▌ | 856/1000 [16:06<02:27,  1.02s/it]"
     ]
    },
    {
     "name": "stdout",
     "output_type": "stream",
     "text": [
      "Epoch 856 | GCN MSE Loss: 1.1186 | NRF Loss: 1.4675 | JOINT Loss: 2.5861 | NRF Acc: 0.7661\n"
     ]
    },
    {
     "name": "stderr",
     "output_type": "stream",
     "text": [
      "Training epochs:  86%|████████▌ | 857/1000 [16:07<02:26,  1.02s/it]"
     ]
    },
    {
     "name": "stdout",
     "output_type": "stream",
     "text": [
      "Epoch 857 | GCN MSE Loss: 1.1185 | NRF Loss: 1.4664 | JOINT Loss: 2.5850 | NRF Acc: 0.7661\n"
     ]
    },
    {
     "name": "stderr",
     "output_type": "stream",
     "text": [
      "Training epochs:  86%|████████▌ | 858/1000 [16:08<02:25,  1.02s/it]"
     ]
    },
    {
     "name": "stdout",
     "output_type": "stream",
     "text": [
      "Epoch 858 | GCN MSE Loss: 1.1185 | NRF Loss: 1.4653 | JOINT Loss: 2.5838 | NRF Acc: 0.7661\n"
     ]
    },
    {
     "name": "stderr",
     "output_type": "stream",
     "text": [
      "Training epochs:  86%|████████▌ | 859/1000 [16:09<02:24,  1.02s/it]"
     ]
    },
    {
     "name": "stdout",
     "output_type": "stream",
     "text": [
      "Epoch 859 | GCN MSE Loss: 1.1185 | NRF Loss: 1.4643 | JOINT Loss: 2.5827 | NRF Acc: 0.7661\n"
     ]
    },
    {
     "name": "stderr",
     "output_type": "stream",
     "text": [
      "Training epochs:  86%|████████▌ | 860/1000 [16:10<02:23,  1.02s/it]"
     ]
    },
    {
     "name": "stdout",
     "output_type": "stream",
     "text": [
      "Epoch 860 | GCN MSE Loss: 1.1184 | NRF Loss: 1.4632 | JOINT Loss: 2.5816 | NRF Acc: 0.7661\n"
     ]
    },
    {
     "name": "stderr",
     "output_type": "stream",
     "text": [
      "Training epochs:  86%|████████▌ | 861/1000 [16:11<02:22,  1.02s/it]"
     ]
    },
    {
     "name": "stdout",
     "output_type": "stream",
     "text": [
      "Epoch 861 | GCN MSE Loss: 1.1184 | NRF Loss: 1.4621 | JOINT Loss: 2.5805 | NRF Acc: 0.7659\n"
     ]
    },
    {
     "name": "stderr",
     "output_type": "stream",
     "text": [
      "Training epochs:  86%|████████▌ | 862/1000 [16:12<02:21,  1.02s/it]"
     ]
    },
    {
     "name": "stdout",
     "output_type": "stream",
     "text": [
      "Epoch 862 | GCN MSE Loss: 1.1183 | NRF Loss: 1.4610 | JOINT Loss: 2.5793 | NRF Acc: 0.7659\n"
     ]
    },
    {
     "name": "stderr",
     "output_type": "stream",
     "text": [
      "Training epochs:  86%|████████▋ | 863/1000 [16:13<02:20,  1.03s/it]"
     ]
    },
    {
     "name": "stdout",
     "output_type": "stream",
     "text": [
      "Epoch 863 | GCN MSE Loss: 1.1183 | NRF Loss: 1.4599 | JOINT Loss: 2.5782 | NRF Acc: 0.7659\n"
     ]
    },
    {
     "name": "stderr",
     "output_type": "stream",
     "text": [
      "Training epochs:  86%|████████▋ | 863/1000 [16:14<02:34,  1.13s/it]"
     ]
    },
    {
     "name": "stdout",
     "output_type": "stream",
     "text": [
      "Early stopping at epoch 863\n",
      "Best acc/epoch: 0.7669667601585388, epoch 763\n"
     ]
    },
    {
     "name": "stderr",
     "output_type": "stream",
     "text": [
      "\n"
     ]
    }
   ],
   "source": [
    "label_index = {g: i for i, g in enumerate(sorted(df['gname'].unique()))}\n",
    "continuous_cols = ['weaptype1', 'nkill', 'targtype1', 'attacktype1']\n",
    "y_preds = []\n",
    "y_trues = []\n",
    "logs = []\n",
    "\n",
    "# Default config (from previous best)\n",
    "default_args = {\n",
    "    'partition': f\"gtd{partition}\",\n",
    "    'embed_dim': 16,\n",
    "    'lr': 0.001,\n",
    "    'epochs': 1000,\n",
    "    'feat_dropout': 0,\n",
    "    'n_tree': 80,\n",
    "    'tree_depth': 10,\n",
    "    'tree_feature_rate': 0.5,\n",
    "    'n_class': len(label_index)\n",
    "}\n",
    "\n",
    "for col in continuous_cols:\n",
    "    print(f\"\\nTraining model for {col} prediction...\")\n",
    "\n",
    "    data, y_gcn, y_nrf, non_geo_features, train_mask, test_mask, row_to_node_index, index_to_label = build_graph_data(\n",
    "        combined_geo, label_index, continuous_col=col)\n",
    "\n",
    "    # Train using default parameters\n",
    "    best_acc, best_epoch, best_precision, best_recall, best_f1, y_pred_decoded, y_true_decoded, \\\n",
    "    best_precision_micro, best_recall_micro, best_f1_micro, best_precision_macro, best_recall_macro, best_f1_macro, \\\n",
    "    roc_auc_weighted, roc_auc_micro, roc_auc_macro, epoch_logs = train_joint(\n",
    "        data, data.edge_index, y_gcn, y_nrf, non_geo_features, train_mask, test_mask,\n",
    "        default_args, row_to_node_index, index_to_label, verbose=True)\n",
    "\n",
    "    y_preds.append(y_pred_decoded)\n",
    "    y_trues.append(y_true_decoded)\n",
    "    logs.append(epoch_logs)\n",
    "\n",
    "    # Save performance metrics\n",
    "    results_path = f\"Results{partition}/Results_{col}_prediction\"\n",
    "    with open(results_path, \"w\") as f:\n",
    "        f.write(f\"Best acc: {best_acc:.4f} at epoch {best_epoch} for {col} prediction\\n\")\n",
    "        f.write(f\"Weighted Precision: {best_precision:.4f}, Recall: {best_recall:.4f}, F1: {best_f1:.4f}\\n\")\n",
    "        f.write(f\"Macro Precision: {best_precision_macro:.4f}, Recall: {best_recall_macro:.4f}, F1: {best_f1_macro:.4f}\\n\")\n",
    "        f.write(f\"Micro Precision: {best_precision_micro:.4f}, Recall: {best_recall_micro:.4f}, F1: {best_f1_micro:.4f}\\n\")\n",
    "        f.write(f\"AUROC Weighted: {roc_auc_weighted:.4f}, Micro: {roc_auc_micro:.4f}, Macro: {roc_auc_macro:.4f}\\n\")\n",
    "\n",
    "    # Save epoch timings\n",
    "    log_path = f\"Results{partition}/epoch_logs_{col}_prediction\"\n",
    "    with open(log_path, \"w\") as f:\n",
    "        f.write('\\n'.join(f\"{x:.4f}\" for x in epoch_logs))\n"
   ]
  },
  {
   "cell_type": "code",
   "execution_count": 10,
   "id": "38f65c8b",
   "metadata": {},
   "outputs": [
    {
     "name": "stdout",
     "output_type": "stream",
     "text": [
      "                                                  precision    recall  f1-score   support\n",
      "\n",
      "                          Abu Sayyaf Group (ASG)       0.71      0.99      0.83       122\n",
      "        African National Congress (South Africa)       0.85      1.00      0.92       188\n",
      "                                Al-Qaida in Iraq       0.91      0.85      0.88       262\n",
      "        Al-Qaida in the Arabian Peninsula (AQAP)       0.90      0.39      0.54       501\n",
      "                                      Al-Shabaab       0.86      0.99      0.92       181\n",
      "             Basque Fatherland and Freedom (ETA)       0.90      1.00      0.95       203\n",
      "                                      Boko Haram       0.70      1.00      0.83       119\n",
      "  Communist Party of India - Maoist (CPI-Maoist)       0.62      0.76      0.68       119\n",
      "       Corsican National Liberation Front (FLNC)       0.95      0.99      0.97       249\n",
      "                       Donetsk People's Republic       0.93      0.94      0.94       241\n",
      "Farabundo Marti National Liberation Front (FMLN)       0.84      0.99      0.91       157\n",
      "                               Fulani extremists       0.44      1.00      0.61        53\n",
      "                 Houthi extremists (Ansar Allah)       0.82      0.80      0.81       207\n",
      "                     Irish Republican Army (IRA)       0.92      0.97      0.94       227\n",
      "     Islamic State of Iraq and the Levant (ISIL)       0.63      0.86      0.73       143\n",
      "                  Kurdistan Workers' Party (PKK)       0.70      0.21      0.33       442\n",
      "         Liberation Tigers of Tamil Eelam (LTTE)       0.91      0.47      0.62       391\n",
      "         Manuel Rodriguez Patriotic Front (FPMR)       0.95      1.00      0.97       265\n",
      "                                         Maoists       0.41      0.64      0.49        74\n",
      "                               Muslim extremists       0.70      0.98      0.82       130\n",
      "      National Liberation Army of Colombia (ELN)       0.79      0.74      0.76       193\n",
      "                         New People's Army (NPA)       0.24      0.70      0.36        37\n",
      "               Nicaraguan Democratic Force (FDN)       0.67      0.99      0.80       103\n",
      "                                    Palestinians       0.92      0.99      0.95       226\n",
      "   Revolutionary Armed Forces of Colombia (FARC)       0.52      0.93      0.67        84\n",
      "                               Shining Path (SL)       0.00      0.00      0.00         0\n",
      "                                 Sikh Extremists       0.86      0.92      0.89       174\n",
      "                                         Taliban       0.48      0.75      0.58        79\n",
      "                 Tehrik-i-Taliban Pakistan (TTP)       0.85      0.95      0.90       167\n",
      "       Tupac Amaru Revolutionary Movement (MRTA)       0.96      0.57      0.72       439\n",
      "\n",
      "                                        accuracy                           0.77      5776\n",
      "                                       macro avg       0.73      0.81      0.74      5776\n",
      "                                    weighted avg       0.83      0.77      0.76      5776\n",
      "\n"
     ]
    },
    {
     "name": "stderr",
     "output_type": "stream",
     "text": [
      "/opt/conda/lib/python3.11/site-packages/sklearn/metrics/_classification.py:1517: UndefinedMetricWarning: Recall is ill-defined and being set to 0.0 in labels with no true samples. Use `zero_division` parameter to control this behavior.\n",
      "  _warn_prf(average, modifier, f\"{metric.capitalize()} is\", len(result))\n",
      "/opt/conda/lib/python3.11/site-packages/sklearn/metrics/_classification.py:1517: UndefinedMetricWarning: Recall is ill-defined and being set to 0.0 in labels with no true samples. Use `zero_division` parameter to control this behavior.\n",
      "  _warn_prf(average, modifier, f\"{metric.capitalize()} is\", len(result))\n",
      "/opt/conda/lib/python3.11/site-packages/sklearn/metrics/_classification.py:1517: UndefinedMetricWarning: Recall is ill-defined and being set to 0.0 in labels with no true samples. Use `zero_division` parameter to control this behavior.\n",
      "  _warn_prf(average, modifier, f\"{metric.capitalize()} is\", len(result))\n"
     ]
    }
   ],
   "source": [
    "from sklearn.metrics import classification_report\n",
    "\n",
    "print(classification_report(y_pred_decoded, y_true_decoded))"
   ]
  },
  {
   "cell_type": "code",
   "execution_count": 11,
   "id": "a5e99383",
   "metadata": {},
   "outputs": [],
   "source": [
    "def plot_confusion_matrix(y_true, y_pred, labels, continuous_col):\n",
    "    from sklearn.metrics import confusion_matrix\n",
    "    import matplotlib.pyplot as plt\n",
    "    import seaborn as sns\n",
    "    import numpy as np\n",
    "\n",
    "    cm = confusion_matrix(y_true, y_pred, labels=labels)\n",
    "    cm_normalized = cm.astype('float') / cm.sum(axis=1, keepdims=True)\n",
    "\n",
    "    plt.figure(figsize=(18, 16))\n",
    "    sns.heatmap(cm_normalized,\n",
    "                annot=True,\n",
    "                fmt=\".2f\",\n",
    "                xticklabels=labels,\n",
    "                yticklabels=labels,\n",
    "                cmap=\"viridis\",\n",
    "                square=True,\n",
    "                linewidths=0.5,\n",
    "                cbar_kws={\"shrink\": 0.8})\n",
    "\n",
    "    plt.title(f\"Normalized Confusion Matrix\", fontsize=18)\n",
    "    plt.xlabel(\"Predicted Label\", fontsize=14)\n",
    "    plt.ylabel(\"True Label\", fontsize=14)\n",
    "    plt.xticks(rotation=90)\n",
    "    plt.yticks(rotation=0)\n",
    "    plt.tight_layout()\n",
    "\n",
    "    # Save the figure\n",
    "    save_path = f\"Results{partition}/cm_{partition}_{continuous_col}.png\"\n",
    "    plt.savefig(save_path, dpi=300)\n",
    "    plt.close()\n",
    "\n",
    "    print(f\"Saved confusion matrix for partition {partition} to {save_path}\")\n"
   ]
  },
  {
   "cell_type": "code",
   "execution_count": 12,
   "id": "177bd1ec",
   "metadata": {},
   "outputs": [
    {
     "name": "stderr",
     "output_type": "stream",
     "text": [
      "/tmp/ipykernel_137846/4012392659.py:8: RuntimeWarning: invalid value encountered in divide\n",
      "  cm_normalized = cm.astype('float') / cm.sum(axis=1, keepdims=True)\n"
     ]
    },
    {
     "name": "stdout",
     "output_type": "stream",
     "text": [
      "Saved confusion matrix for partition 300 to Results300/cm_300_weaptype1.png\n",
      "Saved confusion matrix for partition 300 to Results300/cm_300_nkill.png\n",
      "Saved confusion matrix for partition 300 to Results300/cm_300_targtype1.png\n"
     ]
    },
    {
     "name": "stderr",
     "output_type": "stream",
     "text": [
      "/tmp/ipykernel_137846/4012392659.py:8: RuntimeWarning: invalid value encountered in divide\n",
      "  cm_normalized = cm.astype('float') / cm.sum(axis=1, keepdims=True)\n"
     ]
    },
    {
     "name": "stdout",
     "output_type": "stream",
     "text": [
      "Saved confusion matrix for partition 300 to Results300/cm_300_attacktype1.png\n"
     ]
    }
   ],
   "source": [
    "for i in range(len(continuous_cols)):\n",
    "    plot_confusion_matrix(y_preds[i], y_trues[i], sorted(df['gname'].unique()), continuous_cols[i])"
   ]
  }
 ],
 "metadata": {
  "kernelspec": {
   "display_name": "Python 3",
   "language": "python",
   "name": "python3"
  },
  "language_info": {
   "codemirror_mode": {
    "name": "ipython",
    "version": 3
   },
   "file_extension": ".py",
   "mimetype": "text/x-python",
   "name": "python",
   "nbconvert_exporter": "python",
   "pygments_lexer": "ipython3",
   "version": "3.11.9"
  }
 },
 "nbformat": 4,
 "nbformat_minor": 5
}
